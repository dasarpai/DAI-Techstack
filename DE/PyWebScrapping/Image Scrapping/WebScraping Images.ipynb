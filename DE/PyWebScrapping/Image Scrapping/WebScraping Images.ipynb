{
 "cells": [
  {
   "cell_type": "code",
   "execution_count": 1,
   "metadata": {},
   "outputs": [
    {
     "name": "stdout",
     "output_type": "stream",
     "text": [
      "Requirement already satisfied: selenium in d:\\users\\admin\\anaconda3\\lib\\site-packages (3.141.0)\n",
      "Requirement already satisfied: urllib3 in d:\\users\\admin\\anaconda3\\lib\\site-packages (from selenium) (1.26.4)\n"
     ]
    }
   ],
   "source": [
    "#Inspiration https://www.analyticsvidhya.com/blog/2020/08/web-scraping-selenium-with-python/\n",
    "\n",
    "!pip install selenium"
   ]
  },
  {
   "cell_type": "code",
   "execution_count": 36,
   "metadata": {},
   "outputs": [],
   "source": [
    "#Importing packages"
   ]
  },
  {
   "cell_type": "code",
   "execution_count": 38,
   "metadata": {},
   "outputs": [],
   "source": [
    "import os\n",
    "import pandas as pd\n",
    "import selenium\n",
    "from selenium import webdriver\n",
    "import time\n",
    "from PIL import Image\n",
    "import io\n",
    "import requests\n",
    "from webdriver_manager.chrome import ChromeDriverManager\n",
    "from selenium.common.exceptions import ElementClickInterceptedException"
   ]
  },
  {
   "cell_type": "code",
   "execution_count": 110,
   "metadata": {},
   "outputs": [],
   "source": [
    "#https://chromedriver.chromium.org/downloads\n",
    "#Download latest driver from above location. It should be as per the chrome browser version.\n",
    "\n",
    "driver = webdriver.Chrome(r'D:\\01-Works\\00-Doc-to-Sync\\0-Download\\chromedriver_win32\\chromedriver.exe')"
   ]
  },
  {
   "cell_type": "code",
   "execution_count": 39,
   "metadata": {},
   "outputs": [
    {
     "name": "stderr",
     "output_type": "stream",
     "text": [
      "\n",
      "\n",
      "====== WebDriver manager ======\n",
      "Current google-chrome version is 92.0.4515\n",
      "Get LATEST driver version for 92.0.4515\n",
      "Driver [C:\\Users\\admin\\.wdm\\drivers\\chromedriver\\win32\\92.0.4515.43\\chromedriver.exe] found in cache\n"
     ]
    }
   ],
   "source": [
    "#Install Driver\n",
    "driver = webdriver.Chrome(ChromeDriverManager().install())"
   ]
  },
  {
   "cell_type": "code",
   "execution_count": 40,
   "metadata": {},
   "outputs": [],
   "source": [
    "search_url='https://www.google.com/search?q={q}&tbm=isch&tbs=sur%3Afc&hl=en&ved=0CAIQpwVqFwoTCKCa1c6s4-oCFQAAAAAdAAAAABAC&biw=1251&bih=568'\n",
    "\n",
    "driver.get(search_url.format(q='Car'))"
   ]
  },
  {
   "cell_type": "code",
   "execution_count": 41,
   "metadata": {},
   "outputs": [],
   "source": [
    "#Scroll to the end of the page\n",
    "driver.execute_script(\"window.scrollTo(0, document.body.scrollHeight);\")\n",
    "time.sleep(5)#sleep_between_interactions"
   ]
  },
  {
   "cell_type": "code",
   "execution_count": 54,
   "metadata": {},
   "outputs": [],
   "source": [
    "#Locate the images to be scraped from the current page \n",
    "imgResults = driver.find_elements_by_xpath(\"//img[contains(@class,'Q4LuWd')]\")\n",
    "totalResults=len(imgResults)"
   ]
  },
  {
   "cell_type": "code",
   "execution_count": 55,
   "metadata": {},
   "outputs": [
    {
     "data": {
      "text/plain": [
       "60"
      ]
     },
     "execution_count": 55,
     "metadata": {},
     "output_type": "execute_result"
    }
   ],
   "source": [
    "totalResults"
   ]
  },
  {
   "cell_type": "code",
   "execution_count": 56,
   "metadata": {},
   "outputs": [],
   "source": [
    "#Click on each Image to extract its corresponding link to download\n",
    "\n",
    "img_urls = set()\n",
    "for i in  range(0,len(imgResults)):\n",
    "    img=imgResults[i]\n",
    "    try:\n",
    "        #img.click()\n",
    "        #time.sleep(2)\n",
    "        actual_images = driver.find_elements_by_css_selector('BUooTd')\n",
    "        for actual_image in actual_images:\n",
    "            if actual_image.get_attribute('src') and 'https' in actual_image.get_attribute('src'):\n",
    "                img_urls.add(actual_image.get_attribute('src'))\n",
    "    except ElementClickInterceptedException or ElementNotInteractableException as err:\n",
    "        print(err)"
   ]
  },
  {
   "cell_type": "code",
   "execution_count": 57,
   "metadata": {},
   "outputs": [],
   "source": [
    "def scroll_to_end(driver):\n",
    "    driver.execute_script(\"window.scrollTo(0, document.body.scrollHeight);\")\n",
    "    time.sleep(5)#sleep_between_interactions"
   ]
  },
  {
   "cell_type": "code",
   "execution_count": 58,
   "metadata": {},
   "outputs": [],
   "source": [
    "def getImageUrls(name,totalImgs,driver):\n",
    "    \n",
    "    search_url = \"https://www.google.com/search?q={q}&tbm=isch&tbs=sur%3Afc&hl=en&ved=0CAIQpwVqFwoTCKCa1c6s4-oCFQAAAAAdAAAAABAC&biw=1251&bih=568\"\n",
    "    driver.get(search_url.format(q=name))\n",
    "    img_urls = set()\n",
    "    img_count = 0\n",
    "    results_start = 0  \n",
    "    \n",
    "    while(img_count<totalImgs): #Extract actual images now\n",
    "        \n",
    "        scroll_to_end(driver)\n",
    "        \n",
    "        thumbnail_results = driver.find_elements_by_xpath(\"//img[contains(@class,'Q4LuWd')]\")\n",
    "        totalResults=len(thumbnail_results)\n",
    "        print(f\"Found: {totalResults} search results. Extracting links from{results_start}:{totalResults}\")\n",
    "        \n",
    "        for img in thumbnail_results[results_start:totalResults]:\n",
    "            \n",
    "            img.click()\n",
    "            time.sleep(2)\n",
    "            actual_images = driver.find_elements_by_css_selector('img.Q4LuWd')\n",
    "            for actual_image in actual_images:\n",
    "                if actual_image.get_attribute('src') and 'https' in actual_image.get_attribute('src'):\n",
    "                    img_urls.add(actual_image.get_attribute('src'))\n",
    "            \n",
    "            img_count=len(img_urls)\n",
    "            \n",
    "            if img_count >= totalImgs:\n",
    "                print(f\"Found: {img_count} image links\")\n",
    "                break\n",
    "            else:\n",
    "                print(\"Found:\", img_count, \"looking for more image links ...\")                \n",
    "                load_more_button = driver.find_element_by_css_selector(\".mye4qd\")\n",
    "                driver.execute_script(\"document.querySelector('.mye4qd').click();\")\n",
    "                results_start = len(thumbnail_results)\n",
    "    return img_urls"
   ]
  },
  {
   "cell_type": "code",
   "execution_count": 59,
   "metadata": {},
   "outputs": [],
   "source": [
    "def downloadImages(folder_path,file_name,url):\n",
    "    try:\n",
    "        image_content = requests.get(url).content\n",
    "    except Exception as e:\n",
    "        print(f\"ERROR - COULD NOT DOWNLOAD {url} - {e}\")\n",
    "    try:\n",
    "        image_file = io.BytesIO(image_content)\n",
    "        image = Image.open(image_file).convert('RGB')\n",
    "       \n",
    "        file_path = os.path.join(folder_path, file_name)\n",
    "        \n",
    "        with open(file_path, 'wb') as f:\n",
    "            image.save(f, \"JPEG\", quality=85)\n",
    "        print(f\"SAVED - {url} - AT: {file_path}\")\n",
    "    except Exception as e:\n",
    "        print(f\"ERROR - COULD NOT SAVE {url} - {e}\")"
   ]
  },
  {
   "cell_type": "code",
   "execution_count": 60,
   "metadata": {},
   "outputs": [],
   "source": [
    "def saveInDestFolder(searchNames,destDir,totalImgs,driver):\n",
    "    for name in list(searchNames):\n",
    "        path=os.path.join(destDir,name)\n",
    "        if not os.path.isdir(path):\n",
    "            os.mkdir(path)\n",
    "        print('Current Path',path)\n",
    "        totalLinks=getImageUrls(name,totalImgs,driver)\n",
    "        print('totalLinks',totalLinks)\n",
    "\n",
    "        if totalLinks is None:\n",
    "            print('images not found for :',name)\n",
    "            continue\n",
    "        else:\n",
    "            for i, link in enumerate(totalLinks):\n",
    "                file_name = f\"{i:150}.jpg\"\n",
    "                downloadImages(path,file_name,link)\n",
    "            \n",
    "searchNames=['Car','horses'] \n",
    "destDir=f'./'\n",
    "totalImgs=5\n"
   ]
  },
  {
   "cell_type": "code",
   "execution_count": 61,
   "metadata": {},
   "outputs": [
    {
     "name": "stdout",
     "output_type": "stream",
     "text": [
      "Current Path ./Car\n",
      "Found: 48 search results. Extracting links from0:48\n",
      "Found: 12 image links\n",
      "totalLinks {'https://encrypted-tbn0.gstatic.com/images?q=tbn:ANd9GcSxLWSSZErE7njyrtBw6t8bvfedGm5DVbYxuCmtegAwm5EHntmwe7qGE3vg8ERVlPqxPE4&usqp=CAU', 'https://encrypted-tbn0.gstatic.com/images?q=tbn:ANd9GcRXKe20cPSa-seHBKUmO0c_mi_qLp-gpG10ub-WJoAEv4a_2G9qSK_QNdWAf1vYoZxua3s&usqp=CAU', 'https://encrypted-tbn0.gstatic.com/images?q=tbn:ANd9GcThjrUPUNeM-mmijksHZGX0xNXEHuRtfQ3GRDtq5F3_vtY5hhAK1XVvysSz5lwhKj9tPAQ&usqp=CAU', 'https://encrypted-tbn0.gstatic.com/images?q=tbn:ANd9GcTxEcewM4K_Xd9jc1SZaX_Kq2J42zOO8BOHcBG76903VWc0n83uJ6ETJ7vnuKFXbWezvu8&usqp=CAU', 'https://encrypted-tbn0.gstatic.com/images?q=tbn:ANd9GcSs_bsy7VYFosE8JVq6dUPXTYeXHmn6HTDoFWJ8Jy4GdokdWPc0-aA37rOJRw5psFP-Ahw&usqp=CAU', 'https://encrypted-tbn0.gstatic.com/images?q=tbn:ANd9GcRViBCZFQ78mp3Fv-q24BnLBXfBpBTvi7aXaq9rWvfjyNUaXuDZ7uYeooFBnkYdUeGwtpk&usqp=CAU', 'https://encrypted-tbn0.gstatic.com/images?q=tbn:ANd9GcQpgFiDjxOtt2_kaTCv7KzThkZWbeEqS36uBHk-KQyNMPhmCmJJFHit8PhlLDUX7bIIRo8&usqp=CAU', 'https://encrypted-tbn0.gstatic.com/images?q=tbn:ANd9GcStRf9iMD3EInevp89eU6-Q-DTV-GMF-NdNZf9Dq9ADzFtgxEwPGBXC_EpqHBp95-s1yKQ&usqp=CAU', 'https://encrypted-tbn0.gstatic.com/images?q=tbn:ANd9GcRyRMDnOb7odp5Y1qUgfdbZZRCHIS0xNwLYalj_L9ypxgWdNscBttdjwBzgy7iwSUBqZ-8&usqp=CAU', 'https://encrypted-tbn0.gstatic.com/images?q=tbn:ANd9GcTUt7LMPQKQdem60t7nhDxgCX7m7PhgjwJRbIluGNqxp9bdw5Cc6BevfHH2eb8M-p4apPk&usqp=CAU', 'https://encrypted-tbn0.gstatic.com/images?q=tbn:ANd9GcTsjB5qsL6m6LTBaS2_wHlclFxpt2Wmn7ZHurVhwf7-K97TmihmWLvMNcUqP09Qm_4EEvo&usqp=CAU', 'https://encrypted-tbn0.gstatic.com/images?q=tbn:ANd9GcRLkhQg58DpfNnv0VCBcvMBcmhnSD_xk91sijw4KwNij1bEr1AiYdNiHOXuAffk-5zmfM8&usqp=CAU'}\n",
      "SAVED - https://encrypted-tbn0.gstatic.com/images?q=tbn:ANd9GcSxLWSSZErE7njyrtBw6t8bvfedGm5DVbYxuCmtegAwm5EHntmwe7qGE3vg8ERVlPqxPE4&usqp=CAU - AT: ./Car\\                                                                                                                                                     0.jpg\n",
      "SAVED - https://encrypted-tbn0.gstatic.com/images?q=tbn:ANd9GcRXKe20cPSa-seHBKUmO0c_mi_qLp-gpG10ub-WJoAEv4a_2G9qSK_QNdWAf1vYoZxua3s&usqp=CAU - AT: ./Car\\                                                                                                                                                     1.jpg\n",
      "SAVED - https://encrypted-tbn0.gstatic.com/images?q=tbn:ANd9GcThjrUPUNeM-mmijksHZGX0xNXEHuRtfQ3GRDtq5F3_vtY5hhAK1XVvysSz5lwhKj9tPAQ&usqp=CAU - AT: ./Car\\                                                                                                                                                     2.jpg\n",
      "SAVED - https://encrypted-tbn0.gstatic.com/images?q=tbn:ANd9GcTxEcewM4K_Xd9jc1SZaX_Kq2J42zOO8BOHcBG76903VWc0n83uJ6ETJ7vnuKFXbWezvu8&usqp=CAU - AT: ./Car\\                                                                                                                                                     3.jpg\n",
      "SAVED - https://encrypted-tbn0.gstatic.com/images?q=tbn:ANd9GcSs_bsy7VYFosE8JVq6dUPXTYeXHmn6HTDoFWJ8Jy4GdokdWPc0-aA37rOJRw5psFP-Ahw&usqp=CAU - AT: ./Car\\                                                                                                                                                     4.jpg\n",
      "SAVED - https://encrypted-tbn0.gstatic.com/images?q=tbn:ANd9GcRViBCZFQ78mp3Fv-q24BnLBXfBpBTvi7aXaq9rWvfjyNUaXuDZ7uYeooFBnkYdUeGwtpk&usqp=CAU - AT: ./Car\\                                                                                                                                                     5.jpg\n",
      "SAVED - https://encrypted-tbn0.gstatic.com/images?q=tbn:ANd9GcQpgFiDjxOtt2_kaTCv7KzThkZWbeEqS36uBHk-KQyNMPhmCmJJFHit8PhlLDUX7bIIRo8&usqp=CAU - AT: ./Car\\                                                                                                                                                     6.jpg\n",
      "SAVED - https://encrypted-tbn0.gstatic.com/images?q=tbn:ANd9GcStRf9iMD3EInevp89eU6-Q-DTV-GMF-NdNZf9Dq9ADzFtgxEwPGBXC_EpqHBp95-s1yKQ&usqp=CAU - AT: ./Car\\                                                                                                                                                     7.jpg\n",
      "SAVED - https://encrypted-tbn0.gstatic.com/images?q=tbn:ANd9GcRyRMDnOb7odp5Y1qUgfdbZZRCHIS0xNwLYalj_L9ypxgWdNscBttdjwBzgy7iwSUBqZ-8&usqp=CAU - AT: ./Car\\                                                                                                                                                     8.jpg\n",
      "SAVED - https://encrypted-tbn0.gstatic.com/images?q=tbn:ANd9GcTUt7LMPQKQdem60t7nhDxgCX7m7PhgjwJRbIluGNqxp9bdw5Cc6BevfHH2eb8M-p4apPk&usqp=CAU - AT: ./Car\\                                                                                                                                                     9.jpg\n",
      "SAVED - https://encrypted-tbn0.gstatic.com/images?q=tbn:ANd9GcTsjB5qsL6m6LTBaS2_wHlclFxpt2Wmn7ZHurVhwf7-K97TmihmWLvMNcUqP09Qm_4EEvo&usqp=CAU - AT: ./Car\\                                                                                                                                                    10.jpg\n",
      "SAVED - https://encrypted-tbn0.gstatic.com/images?q=tbn:ANd9GcRLkhQg58DpfNnv0VCBcvMBcmhnSD_xk91sijw4KwNij1bEr1AiYdNiHOXuAffk-5zmfM8&usqp=CAU - AT: ./Car\\                                                                                                                                                    11.jpg\n",
      "Current Path ./horses\n",
      "Found: 48 search results. Extracting links from0:48\n",
      "Found: 12 image links\n",
      "totalLinks {'https://encrypted-tbn0.gstatic.com/images?q=tbn:ANd9GcSutH4np9WYKuPdK2pJgXCxc-3IFYjv9OKotgoKIqz8wZJjI-EZ4HSAaOB1aBxPLUrxBIY&usqp=CAU', 'https://encrypted-tbn0.gstatic.com/images?q=tbn:ANd9GcRUjbW3vDmq7BmMLMyg6yppMyUjfMdT1LqBq3gBXlwSvB4iOUNFon_sC-1nhmmBNlvnQew&usqp=CAU', 'https://encrypted-tbn0.gstatic.com/images?q=tbn:ANd9GcRfXaqNm3IewaP5AoxsqheY5q8Ny0225evKaW0p1_ouyR_wJbJsTrTUdpTWrf8THtSna0Y&usqp=CAU', 'https://encrypted-tbn0.gstatic.com/images?q=tbn:ANd9GcQTuTpvlGheI1s8UVF5Zy1zA5-DZhZ7nyp1KN4Dlj6D1avubnJ_JBfZWkng2nMHPm6-FVA&usqp=CAU', 'https://encrypted-tbn0.gstatic.com/images?q=tbn:ANd9GcQ9vEzzK3aF_5hH8iVwmgczV0RK5nlXBF5O9c9wj6ztvIm3MemWD3DBVFd3Ov1AD-fQfEM&usqp=CAU', 'https://encrypted-tbn0.gstatic.com/images?q=tbn:ANd9GcQjx3fzYXRUTNAAW5rx1RJ1SKkdQf1yN6-UpG93gPV754Fuy3JrEp5RHG6lIi1KEfdKm5g&usqp=CAU', 'https://encrypted-tbn0.gstatic.com/images?q=tbn:ANd9GcQ105cXoIISnH47hR8PQOSdJV2k57OSU1-2865456QZIe0jUCuf76DNr_rgBQu-GstRSqw&usqp=CAU', 'https://encrypted-tbn0.gstatic.com/images?q=tbn:ANd9GcSYJszmHwjPN2_ZCutRNK1S-bmcFsJWjIEYrQ7wovK6g_IpVCW8L_VZwUBTvZD3S0jCRzM&usqp=CAU', 'https://encrypted-tbn0.gstatic.com/images?q=tbn:ANd9GcSN58fTrHw7cU_GgVUvuRneCxJJM45XGJK3lWjSXvK-RZMZ9V_eCpQJijscF-qzcr9D_3E&usqp=CAU', 'https://encrypted-tbn0.gstatic.com/images?q=tbn:ANd9GcQr51tS9S94NuIXtP78b397HBpL1IGweW_egJyDjvtlUAl-IPWy-pDtk-Fkm32bdqtJkrw&usqp=CAU', 'https://encrypted-tbn0.gstatic.com/images?q=tbn:ANd9GcSSh9wIVPV3098RdSHWNCRvuDdpfPUsojGugO33J6H6vxEI4AkkmjIp8xdrmW4l8kN1zA0&usqp=CAU', 'https://encrypted-tbn0.gstatic.com/images?q=tbn:ANd9GcQ49gHIvDmL3C_wgxNS-e1GE960pjklmu0NWqId6kC_5IHSO3TTgHK-ElqXZUtRAwnKBaY&usqp=CAU'}\n",
      "SAVED - https://encrypted-tbn0.gstatic.com/images?q=tbn:ANd9GcSutH4np9WYKuPdK2pJgXCxc-3IFYjv9OKotgoKIqz8wZJjI-EZ4HSAaOB1aBxPLUrxBIY&usqp=CAU - AT: ./horses\\                                                                                                                                                     0.jpg\n",
      "SAVED - https://encrypted-tbn0.gstatic.com/images?q=tbn:ANd9GcRUjbW3vDmq7BmMLMyg6yppMyUjfMdT1LqBq3gBXlwSvB4iOUNFon_sC-1nhmmBNlvnQew&usqp=CAU - AT: ./horses\\                                                                                                                                                     1.jpg\n",
      "SAVED - https://encrypted-tbn0.gstatic.com/images?q=tbn:ANd9GcRfXaqNm3IewaP5AoxsqheY5q8Ny0225evKaW0p1_ouyR_wJbJsTrTUdpTWrf8THtSna0Y&usqp=CAU - AT: ./horses\\                                                                                                                                                     2.jpg\n",
      "SAVED - https://encrypted-tbn0.gstatic.com/images?q=tbn:ANd9GcQTuTpvlGheI1s8UVF5Zy1zA5-DZhZ7nyp1KN4Dlj6D1avubnJ_JBfZWkng2nMHPm6-FVA&usqp=CAU - AT: ./horses\\                                                                                                                                                     3.jpg\n"
     ]
    },
    {
     "name": "stdout",
     "output_type": "stream",
     "text": [
      "SAVED - https://encrypted-tbn0.gstatic.com/images?q=tbn:ANd9GcQ9vEzzK3aF_5hH8iVwmgczV0RK5nlXBF5O9c9wj6ztvIm3MemWD3DBVFd3Ov1AD-fQfEM&usqp=CAU - AT: ./horses\\                                                                                                                                                     4.jpg\n",
      "SAVED - https://encrypted-tbn0.gstatic.com/images?q=tbn:ANd9GcQjx3fzYXRUTNAAW5rx1RJ1SKkdQf1yN6-UpG93gPV754Fuy3JrEp5RHG6lIi1KEfdKm5g&usqp=CAU - AT: ./horses\\                                                                                                                                                     5.jpg\n",
      "SAVED - https://encrypted-tbn0.gstatic.com/images?q=tbn:ANd9GcQ105cXoIISnH47hR8PQOSdJV2k57OSU1-2865456QZIe0jUCuf76DNr_rgBQu-GstRSqw&usqp=CAU - AT: ./horses\\                                                                                                                                                     6.jpg\n",
      "SAVED - https://encrypted-tbn0.gstatic.com/images?q=tbn:ANd9GcSYJszmHwjPN2_ZCutRNK1S-bmcFsJWjIEYrQ7wovK6g_IpVCW8L_VZwUBTvZD3S0jCRzM&usqp=CAU - AT: ./horses\\                                                                                                                                                     7.jpg\n",
      "SAVED - https://encrypted-tbn0.gstatic.com/images?q=tbn:ANd9GcSN58fTrHw7cU_GgVUvuRneCxJJM45XGJK3lWjSXvK-RZMZ9V_eCpQJijscF-qzcr9D_3E&usqp=CAU - AT: ./horses\\                                                                                                                                                     8.jpg\n",
      "SAVED - https://encrypted-tbn0.gstatic.com/images?q=tbn:ANd9GcQr51tS9S94NuIXtP78b397HBpL1IGweW_egJyDjvtlUAl-IPWy-pDtk-Fkm32bdqtJkrw&usqp=CAU - AT: ./horses\\                                                                                                                                                     9.jpg\n",
      "SAVED - https://encrypted-tbn0.gstatic.com/images?q=tbn:ANd9GcSSh9wIVPV3098RdSHWNCRvuDdpfPUsojGugO33J6H6vxEI4AkkmjIp8xdrmW4l8kN1zA0&usqp=CAU - AT: ./horses\\                                                                                                                                                    10.jpg\n",
      "SAVED - https://encrypted-tbn0.gstatic.com/images?q=tbn:ANd9GcQ49gHIvDmL3C_wgxNS-e1GE960pjklmu0NWqId6kC_5IHSO3TTgHK-ElqXZUtRAwnKBaY&usqp=CAU - AT: ./horses\\                                                                                                                                                    11.jpg\n"
     ]
    }
   ],
   "source": [
    "saveInDestFolder(searchNames,destDir,totalImgs,driver)"
   ]
  }
 ],
 "metadata": {
  "kernelspec": {
   "display_name": "Python 3",
   "language": "python",
   "name": "python3"
  },
  "language_info": {
   "codemirror_mode": {
    "name": "ipython",
    "version": 3
   },
   "file_extension": ".py",
   "mimetype": "text/x-python",
   "name": "python",
   "nbconvert_exporter": "python",
   "pygments_lexer": "ipython3",
   "version": "3.8.8"
  }
 },
 "nbformat": 4,
 "nbformat_minor": 2
}
