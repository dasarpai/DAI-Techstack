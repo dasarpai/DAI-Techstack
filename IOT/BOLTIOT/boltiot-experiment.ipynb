{
 "cells": [
  {
   "cell_type": "code",
   "execution_count": null,
   "metadata": {},
   "outputs": [],
   "source": []
  },
  {
   "cell_type": "code",
   "execution_count": 3,
   "metadata": {},
   "outputs": [
    {
     "name": "stdout",
     "output_type": "stream",
     "text": [
      "Collecting boltiot\n",
      "  Downloading boltiot-1.11.2.tar.gz (3.0 kB)\n",
      "  Preparing metadata (setup.py): started\n",
      "  Preparing metadata (setup.py): finished with status 'done'\n",
      "Collecting twilio\n",
      "  Downloading twilio-7.9.1-py2.py3-none-any.whl (1.4 MB)\n",
      "     ---------------------------------------- 1.4/1.4 MB 2.2 MB/s eta 0:00:00\n",
      "Requirement already satisfied: requests in d:\\users\\admin\\anaconda3\\envs\\myenv\\lib\\site-packages (from boltiot) (2.27.1)\n",
      "Requirement already satisfied: idna<4,>=2.5 in d:\\users\\admin\\anaconda3\\envs\\myenv\\lib\\site-packages (from requests->boltiot) (3.3)\n",
      "Requirement already satisfied: certifi>=2017.4.17 in d:\\users\\admin\\anaconda3\\envs\\myenv\\lib\\site-packages (from requests->boltiot) (2021.10.8)\n",
      "Requirement already satisfied: urllib3<1.27,>=1.21.1 in d:\\users\\admin\\anaconda3\\envs\\myenv\\lib\\site-packages (from requests->boltiot) (1.26.8)\n",
      "Requirement already satisfied: charset-normalizer~=2.0.0 in d:\\users\\admin\\anaconda3\\envs\\myenv\\lib\\site-packages (from requests->boltiot) (2.0.4)\n",
      "Requirement already satisfied: pytz in d:\\users\\admin\\anaconda3\\envs\\myenv\\lib\\site-packages (from twilio->boltiot) (2021.3)\n",
      "Collecting PyJWT<3.0.0,>=2.0.0\n",
      "  Downloading PyJWT-2.4.0-py3-none-any.whl (18 kB)\n",
      "Building wheels for collected packages: boltiot\n",
      "  Building wheel for boltiot (setup.py): started\n",
      "  Building wheel for boltiot (setup.py): finished with status 'done'\n",
      "  Created wheel for boltiot: filename=boltiot-1.11.2-py3-none-any.whl size=4533 sha256=24569f7555c5334f8e039d5ecc22cc121be1f558808dc983bf0f929696b7c4bc\n",
      "  Stored in directory: c:\\users\\admin\\appdata\\local\\pip\\cache\\wheels\\bb\\b7\\39\\aa5aa8ac50c627a219f18c1296ba30a84ff8213086fdf41995\n",
      "Successfully built boltiot\n",
      "Installing collected packages: PyJWT, twilio, boltiot\n",
      "Successfully installed PyJWT-2.4.0 boltiot-1.11.2 twilio-7.9.1\n"
     ]
    },
    {
     "name": "stderr",
     "output_type": "stream",
     "text": [
      "WARNING: You are using pip version 22.0.4; however, version 22.1.1 is available.\n",
      "You should consider upgrading via the 'd:\\Users\\admin\\anaconda3\\envs\\myenv\\python.exe -m pip install --upgrade pip' command.\n"
     ]
    }
   ],
   "source": [
    "!pip install boltiot"
   ]
  },
  {
   "cell_type": "code",
   "execution_count": 5,
   "metadata": {},
   "outputs": [
    {
     "name": "stdout",
     "output_type": "stream",
     "text": [
      "Collecting conf"
     ]
    },
    {
     "name": "stderr",
     "output_type": "stream",
     "text": [
      "WARNING: You are using pip version 22.0.4; however, version 22.1.1 is available.\n",
      "You should consider upgrading via the 'd:\\Users\\admin\\anaconda3\\envs\\myenv\\python.exe -m pip install --upgrade pip' command.\n"
     ]
    },
    {
     "name": "stdout",
     "output_type": "stream",
     "text": [
      "\n",
      "  Downloading conf-0.4.1-py3-none-any.whl (6.0 kB)\n",
      "Installing collected packages: conf\n",
      "Successfully installed conf-0.4.1\n"
     ]
    }
   ],
   "source": [
    "!pip install conf"
   ]
  },
  {
   "cell_type": "code",
   "execution_count": 12,
   "metadata": {},
   "outputs": [],
   "source": [
    "import requests                 # for making HTTP requests\n",
    "import json                     # library for handling JSON data\n",
    "import time                     # module for sleep operation\n",
    "\n",
    "from boltiot import Bolt        # importing Bolt from boltiot module\n",
    "import conf                     # config file"
   ]
  },
  {
   "cell_type": "code",
   "execution_count": 26,
   "metadata": {},
   "outputs": [
    {
     "data": {
      "text/plain": [
       "'{\"value\": \"Device does not exist\", \"success\": 0}'"
      ]
     },
     "execution_count": 26,
     "metadata": {},
     "output_type": "execute_result"
    }
   ],
   "source": [
    "mybolt.isAlive()"
   ]
  },
  {
   "cell_type": "code",
   "execution_count": 24,
   "metadata": {},
   "outputs": [],
   "source": [
    "mybolt = Bolt(conf.bolt_api_key, conf.device_id)"
   ]
  },
  {
   "cell_type": "code",
   "execution_count": 19,
   "metadata": {},
   "outputs": [
    {
     "data": {
      "text/plain": [
       "'9c28acde-cb80-4cdc-a66b-584321617a82'"
      ]
     },
     "execution_count": 19,
     "metadata": {},
     "output_type": "execute_result"
    }
   ],
   "source": [
    "conf.bolt_api_key #='9c28acde-cb80-4cdc-a66b-584321617a82'"
   ]
  },
  {
   "cell_type": "code",
   "execution_count": 27,
   "metadata": {},
   "outputs": [
    {
     "data": {
      "text/plain": [
       "'{\"value\": \"Device does not exist\", \"success\": 0}'"
      ]
     },
     "execution_count": 27,
     "metadata": {},
     "output_type": "execute_result"
    }
   ],
   "source": [
    "mybolt.isAlive()"
   ]
  },
  {
   "cell_type": "code",
   "execution_count": 3,
   "metadata": {},
   "outputs": [],
   "source": [
    "mybolt = Bolt(conf.bolt_api_key, conf.device_id)\n",
    "\n",
    "def get_sensor_value_from_pin(pin):\n",
    "    \"\"\"Returns the sensor value. Returns -999 if request fails\"\"\"\n",
    "    try:\n",
    "        response = mybolt.analogRead(pin)\n",
    "        data = json.loads(response)\n",
    "        if data[\"success\"] != 1:\n",
    "            print(\"Request not successfull\")\n",
    "            print(\"This is the response->\", data)\n",
    "            return -999\n",
    "        sensor_value = int(data[\"value\"])\n",
    "        return sensor_value\n",
    "    except Exception as e:\n",
    "        print(\"Something went wrong when returning the sensor value\")\n",
    "        print(e)\n",
    "        return -999\n"
   ]
  },
  {
   "cell_type": "code",
   "execution_count": 4,
   "metadata": {},
   "outputs": [],
   "source": [
    "def send_telegram_message(message):\n",
    "    \"\"\"Sends message via Telegram\"\"\"\n",
    "    url = \"https://api.telegram.org/\" + conf.telegram_bot_id + \"/sendMessage\"\n",
    "    data = {\n",
    "        \"chat_id\": conf.telegram_chat_id,\n",
    "        \"text\": message\n",
    "    }\n",
    "    try:\n",
    "        response = requests.request(\n",
    "            \"POST\",\n",
    "            url,\n",
    "            params=data\n",
    "        )\n",
    "        print(\"This is the Telegram URL\")\n",
    "        print(url)\n",
    "        print(\"This is the Telegram response\")\n",
    "        print(response.text)\n",
    "        telegram_data = json.loads(response.text)\n",
    "        return telegram_data[\"ok\"]\n",
    "    except Exception as e:\n",
    "        print(\"An error occurred in sending the alert message via Telegram\")\n",
    "        print(e)\n",
    "        return False"
   ]
  },
  {
   "cell_type": "code",
   "execution_count": 5,
   "metadata": {},
   "outputs": [
    {
     "name": "stdout",
     "output_type": "stream",
     "text": [
      "Request not successfull\n",
      "This is the response-> {'value': 'Device does not exist', 'success': 0}\n",
      "The current sensor value is: -999\n",
      "Request was unsuccessfull. Skipping.\n",
      "Request not successfull\n",
      "This is the response-> {'value': 'Device does not exist', 'success': 0}\n",
      "The current sensor value is: -999\n",
      "Request was unsuccessfull. Skipping.\n",
      "Request not successfull\n",
      "This is the response-> {'value': 'Device does not exist', 'success': 0}\n",
      "The current sensor value is: -999\n",
      "Request was unsuccessfull. Skipping.\n"
     ]
    },
    {
     "ename": "KeyboardInterrupt",
     "evalue": "",
     "output_type": "error",
     "traceback": [
      "\u001b[1;31m---------------------------------------------------------------------------\u001b[0m",
      "\u001b[1;31mKeyboardInterrupt\u001b[0m                         Traceback (most recent call last)",
      "\u001b[1;32m~\\AppData\\Local\\Temp/ipykernel_5260/1758473248.py\u001b[0m in \u001b[0;36m<module>\u001b[1;34m\u001b[0m\n\u001b[0;32m      7\u001b[0m     \u001b[1;32mif\u001b[0m \u001b[0msensor_value\u001b[0m \u001b[1;33m==\u001b[0m \u001b[1;33m-\u001b[0m\u001b[1;36m999\u001b[0m\u001b[1;33m:\u001b[0m\u001b[1;33m\u001b[0m\u001b[1;33m\u001b[0m\u001b[0m\n\u001b[0;32m      8\u001b[0m         \u001b[0mprint\u001b[0m\u001b[1;33m(\u001b[0m\u001b[1;34m\"Request was unsuccessfull. Skipping.\"\u001b[0m\u001b[1;33m)\u001b[0m\u001b[1;33m\u001b[0m\u001b[1;33m\u001b[0m\u001b[0m\n\u001b[1;32m----> 9\u001b[1;33m         \u001b[0mtime\u001b[0m\u001b[1;33m.\u001b[0m\u001b[0msleep\u001b[0m\u001b[1;33m(\u001b[0m\u001b[1;36m10\u001b[0m\u001b[1;33m)\u001b[0m\u001b[1;33m\u001b[0m\u001b[1;33m\u001b[0m\u001b[0m\n\u001b[0m\u001b[0;32m     10\u001b[0m         \u001b[1;32mcontinue\u001b[0m\u001b[1;33m\u001b[0m\u001b[1;33m\u001b[0m\u001b[0m\n\u001b[0;32m     11\u001b[0m \u001b[1;33m\u001b[0m\u001b[0m\n",
      "\u001b[1;31mKeyboardInterrupt\u001b[0m: "
     ]
    }
   ],
   "source": [
    "while True:\n",
    "    # Step 1\n",
    "    sensor_value = get_sensor_value_from_pin(\"A0\")    \n",
    "    print(\"The current sensor value is:\", sensor_value)\n",
    "    \n",
    "    # Step 2\n",
    "    if sensor_value == -999:\n",
    "        print(\"Request was unsuccessfull. Skipping.\")\n",
    "        time.sleep(10)\n",
    "        continue\n",
    "    \n",
    "    # Step 3\n",
    "    if sensor_value >= conf.threshold:\n",
    "        print(\"Sensor value has exceeded threshold\")\n",
    "        message = \"Alert! Sensor value has exceeded \" + str(conf.threshold) + \\\n",
    "                  \". The current value is \" + str(sensor_value)\n",
    "        telegram_status = send_telegram_message(message)\n",
    "        print(\"This is the Telegram status:\", telegram_status)\n",
    "\n",
    "    # Step 4\n",
    "    time.sleep(10)"
   ]
  },
  {
   "cell_type": "code",
   "execution_count": null,
   "metadata": {},
   "outputs": [],
   "source": []
  }
 ],
 "metadata": {
  "interpreter": {
   "hash": "3ab65b4b6f007aec8d83bf267c46961450ab880e9753bb615d95fc66f0974c2a"
  },
  "kernelspec": {
   "display_name": "Python 3.7.11 ('myenv')",
   "language": "python",
   "name": "python3"
  },
  "language_info": {
   "codemirror_mode": {
    "name": "ipython",
    "version": 3
   },
   "file_extension": ".py",
   "mimetype": "text/x-python",
   "name": "python",
   "nbconvert_exporter": "python",
   "pygments_lexer": "ipython3",
   "version": "3.7.11"
  },
  "orig_nbformat": 4
 },
 "nbformat": 4,
 "nbformat_minor": 2
}
