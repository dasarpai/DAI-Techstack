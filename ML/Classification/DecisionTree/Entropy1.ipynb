{
 "cells": [
  {
   "cell_type": "markdown",
   "id": "9e49af12",
   "metadata": {},
   "source": [
    "# Entropy"
   ]
  },
  {
   "cell_type": "code",
   "execution_count": 17,
   "id": "4dec0a5f",
   "metadata": {},
   "outputs": [],
   "source": [
    "# https://machinelearningmastery.com/information-gain-and-mutual-information/"
   ]
  },
  {
   "cell_type": "code",
   "execution_count": 1,
   "id": "63d8262c",
   "metadata": {},
   "outputs": [
    {
     "name": "stdout",
     "output_type": "stream",
     "text": [
      "entropy: 0.469 bits\n"
     ]
    }
   ],
   "source": [
    "# calculate the entropy for a dataset\n",
    "from math import log2\n",
    "# proportion of examples in each class\n",
    "class0 = 10/100\n",
    "class1 = 90/100\n",
    "# calculate entropy\n",
    "entropy = -(class0 * log2(class0) + class1 * log2(class1))\n",
    "# print the result\n",
    "print('entropy: %.3f bits' % entropy)"
   ]
  },
  {
   "cell_type": "code",
   "execution_count": 2,
   "id": "b7560a91",
   "metadata": {},
   "outputs": [],
   "source": [
    "# calculate the entropy for the split in the dataset\n",
    "def entropy(class0, class1):\n",
    "\treturn -(class0 * log2(class0) + class1 * log2(class1))"
   ]
  },
  {
   "cell_type": "code",
   "execution_count": 3,
   "id": "0af4654a",
   "metadata": {},
   "outputs": [
    {
     "name": "stdout",
     "output_type": "stream",
     "text": [
      "Dataset Entropy: 0.934 bits\n"
     ]
    }
   ],
   "source": [
    "# split of the main dataset\n",
    "class0 = 13 / 20\n",
    "class1 = 7 / 20\n",
    "# calculate entropy before the change\n",
    "s_entropy = entropy(class0, class1)\n",
    "print('Dataset Entropy: %.3f bits' % s_entropy)"
   ]
  },
  {
   "cell_type": "code",
   "execution_count": 4,
   "id": "86c36974",
   "metadata": {},
   "outputs": [
    {
     "name": "stdout",
     "output_type": "stream",
     "text": [
      "Group1 Entropy: 0.544 bits\n"
     ]
    }
   ],
   "source": [
    "...\n",
    "# split 1 (split via value1)\n",
    "s1_class0 = 7 / 8\n",
    "s1_class1 = 1 / 8\n",
    "# calculate the entropy of the first group\n",
    "s1_entropy = entropy(s1_class0, s1_class1)\n",
    "print('Group1 Entropy: %.3f bits' % s1_entropy)"
   ]
  },
  {
   "cell_type": "code",
   "execution_count": 5,
   "id": "a6fa9e08",
   "metadata": {},
   "outputs": [
    {
     "name": "stdout",
     "output_type": "stream",
     "text": [
      "Group2 Entropy: 1.000 bits\n"
     ]
    }
   ],
   "source": [
    "...\n",
    "# split 2  (split via value2)\n",
    "s2_class0 = 6 / 12\n",
    "s2_class1 = 6 / 12\n",
    "# calculate the entropy of the second group\n",
    "s2_entropy = entropy(s2_class0, s2_class1)\n",
    "print('Group2 Entropy: %.3f bits' % s2_entropy)"
   ]
  },
  {
   "cell_type": "code",
   "execution_count": 6,
   "id": "38aad447",
   "metadata": {},
   "outputs": [
    {
     "name": "stdout",
     "output_type": "stream",
     "text": [
      "Information Gain: 0.117 bits\n"
     ]
    }
   ],
   "source": [
    "...\n",
    "# calculate the information gain\n",
    "gain = s_entropy - (8/20 * s1_entropy + 12/20 * s2_entropy)\n",
    "print('Information Gain: %.3f bits' % gain)"
   ]
  },
  {
   "cell_type": "code",
   "execution_count": 7,
   "id": "63741b29",
   "metadata": {},
   "outputs": [
    {
     "name": "stdout",
     "output_type": "stream",
     "text": [
      "Dataset Entropy: 0.934 bits\n",
      "Group1 Entropy: 0.544 bits\n",
      "Group2 Entropy: 1.000 bits\n",
      "Information Gain: 0.117 bits\n"
     ]
    }
   ],
   "source": [
    "# calculate the information gain\n",
    "from math import log2\n",
    "\n",
    "# calculate the entropy for the split in the dataset\n",
    "def entropy(class0, class1):\n",
    "\treturn -(class0 * log2(class0) + class1 * log2(class1))\n",
    "\n",
    "# split of the main dataset\n",
    "class0 = 13 / 20\n",
    "class1 = 7 / 20\n",
    "# calculate entropy before the change\n",
    "s_entropy = entropy(class0, class1)\n",
    "print('Dataset Entropy: %.3f bits' % s_entropy)\n",
    "\n",
    "# split 1 (split via value1)\n",
    "s1_class0 = 7 / 8\n",
    "s1_class1 = 1 / 8\n",
    "# calculate the entropy of the first group\n",
    "s1_entropy = entropy(s1_class0, s1_class1)\n",
    "print('Group1 Entropy: %.3f bits' % s1_entropy)\n",
    "\n",
    "# split 2  (split via value2)\n",
    "s2_class0 = 6 / 12\n",
    "s2_class1 = 6 / 12\n",
    "# calculate the entropy of the second group\n",
    "s2_entropy = entropy(s2_class0, s2_class1)\n",
    "print('Group2 Entropy: %.3f bits' % s2_entropy)\n",
    "\n",
    "# calculate the information gain\n",
    "gain = s_entropy - (8/20 * s1_entropy + 12/20 * s2_entropy)\n",
    "print('Information Gain: %.3f bits' % gain)"
   ]
  },
  {
   "cell_type": "markdown",
   "id": "10a40a1a",
   "metadata": {},
   "source": [
    "# Informaion Gain"
   ]
  },
  {
   "cell_type": "code",
   "execution_count": 15,
   "id": "3029adfd",
   "metadata": {},
   "outputs": [
    {
     "data": {
      "text/plain": [
       "0.11664227809565242"
      ]
     },
     "execution_count": 15,
     "metadata": {},
     "output_type": "execute_result"
    }
   ],
   "source": [
    "entropy(13/20, 7/20) - (   8/20 * entropy(7/8, 1/8) + 12/20 * entropy(6/12, 6/12))"
   ]
  },
  {
   "cell_type": "code",
   "execution_count": null,
   "id": "0769c4e5",
   "metadata": {},
   "outputs": [],
   "source": []
  },
  {
   "cell_type": "code",
   "execution_count": null,
   "id": "1cef033f",
   "metadata": {},
   "outputs": [],
   "source": []
  }
 ],
 "metadata": {
  "kernelspec": {
   "display_name": "Python 3",
   "language": "python",
   "name": "python3"
  },
  "language_info": {
   "codemirror_mode": {
    "name": "ipython",
    "version": 3
   },
   "file_extension": ".py",
   "mimetype": "text/x-python",
   "name": "python",
   "nbconvert_exporter": "python",
   "pygments_lexer": "ipython3",
   "version": "3.8.8"
  }
 },
 "nbformat": 4,
 "nbformat_minor": 5
}
