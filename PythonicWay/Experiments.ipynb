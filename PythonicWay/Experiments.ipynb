{
 "cells": [
  {
   "cell_type": "code",
   "execution_count": 6,
   "metadata": {},
   "outputs": [
    {
     "data": {
      "text/plain": [
       "['this is first sentence',\n",
       " 'that the next final',\n",
       " 'where is the final sentence']"
      ]
     },
     "execution_count": 6,
     "metadata": {},
     "output_type": "execute_result"
    }
   ],
   "source": [
    "s1=\"this is first sentence\"\n",
    "s2=\"that the next final\"\n",
    "s3=\"where is the final sentence\"\n",
    "sentences=[s1,s2,s3]\n",
    "sentences"
   ]
  },
  {
   "cell_type": "code",
   "execution_count": 12,
   "metadata": {},
   "outputs": [
    {
     "data": {
      "text/plain": [
       "['this is first sentence',\n",
       " 'that the next final',\n",
       " 'where is the final sentence']"
      ]
     },
     "execution_count": 12,
     "metadata": {},
     "output_type": "execute_result"
    }
   ],
   "source": [
    "words = [s for s in sentences]\n",
    "words"
   ]
  },
  {
   "cell_type": "code",
   "execution_count": 16,
   "metadata": {},
   "outputs": [
    {
     "data": {
      "text/plain": [
       "['t',\n",
       " 'h',\n",
       " 'i',\n",
       " 's',\n",
       " 'i',\n",
       " 's',\n",
       " 'f',\n",
       " 'i',\n",
       " 'r',\n",
       " 's',\n",
       " 't',\n",
       " 's',\n",
       " 'e',\n",
       " 'n',\n",
       " 't',\n",
       " 'e',\n",
       " 'n',\n",
       " 'c',\n",
       " 'e',\n",
       " 't',\n",
       " 'h',\n",
       " 'a',\n",
       " 't',\n",
       " 't',\n",
       " 'h',\n",
       " 'e',\n",
       " 'n',\n",
       " 'e',\n",
       " 'x',\n",
       " 't',\n",
       " 'f',\n",
       " 'i',\n",
       " 'n',\n",
       " 'a',\n",
       " 'l',\n",
       " 'w',\n",
       " 'h',\n",
       " 'e',\n",
       " 'r',\n",
       " 'e',\n",
       " 'i',\n",
       " 's',\n",
       " 't',\n",
       " 'h',\n",
       " 'e',\n",
       " 'f',\n",
       " 'i',\n",
       " 'n',\n",
       " 'a',\n",
       " 'l',\n",
       " 's',\n",
       " 'e',\n",
       " 'n',\n",
       " 't',\n",
       " 'e',\n",
       " 'n',\n",
       " 'c',\n",
       " 'e']"
      ]
     },
     "execution_count": 16,
     "metadata": {},
     "output_type": "execute_result"
    }
   ],
   "source": [
    "words = [l for s in sentences for word in s.split(\" \") for l in word]\n",
    "words"
   ]
  },
  {
   "cell_type": "code",
   "execution_count": 2,
   "metadata": {},
   "outputs": [
    {
     "name": "stdout",
     "output_type": "stream",
     "text": [
      "Collecting tensorflow_datasets\n",
      "  Downloading tensorflow_datasets-2.0.0-py3-none-any.whl (3.1 MB)\n",
      "Requirement already satisfied: absl-py in d:\\users\\admin\\anaconda3\\lib\\site-packages (from tensorflow_datasets) (0.8.1)\n",
      "Collecting tensorflow-metadata\n",
      "  Downloading tensorflow_metadata-0.21.1-py2.py3-none-any.whl (31 kB)\n",
      "Requirement already satisfied: protobuf>=3.6.1 in d:\\users\\admin\\anaconda3\\lib\\site-packages (from tensorflow_datasets) (3.11.1)\n",
      "Requirement already satisfied: requests>=2.19.0 in d:\\users\\admin\\anaconda3\\lib\\site-packages (from tensorflow_datasets) (2.21.0)\n",
      "Requirement already satisfied: tqdm in d:\\users\\admin\\anaconda3\\lib\\site-packages (from tensorflow_datasets) (4.28.1)\n",
      "Requirement already satisfied: termcolor in d:\\users\\admin\\anaconda3\\lib\\site-packages (from tensorflow_datasets) (1.1.0)\n",
      "Requirement already satisfied: future in d:\\users\\admin\\anaconda3\\lib\\site-packages (from tensorflow_datasets) (0.17.1)\n",
      "Collecting promise\n",
      "  Downloading promise-2.3.tar.gz (19 kB)\n",
      "Requirement already satisfied: attrs>=18.1.0 in d:\\users\\admin\\anaconda3\\lib\\site-packages (from tensorflow_datasets) (18.2.0)\n",
      "Requirement already satisfied: six in d:\\users\\admin\\anaconda3\\lib\\site-packages (from tensorflow_datasets) (1.12.0)\n",
      "Requirement already satisfied: wrapt in c:\\users\\admin\\appdata\\roaming\\python\\python37\\site-packages (from tensorflow_datasets) (1.11.2)\n",
      "Requirement already satisfied: numpy in c:\\users\\admin\\appdata\\roaming\\python\\python37\\site-packages (from tensorflow_datasets) (1.17.4)\n",
      "Collecting dill\n",
      "  Downloading dill-0.3.1.1.tar.gz (151 kB)\n",
      "Requirement already satisfied: googleapis-common-protos in d:\\users\\admin\\anaconda3\\lib\\site-packages (from tensorflow-metadata->tensorflow_datasets) (1.6.0)\n",
      "Requirement already satisfied: setuptools in d:\\users\\admin\\anaconda3\\lib\\site-packages (from protobuf>=3.6.1->tensorflow_datasets) (42.0.2)\n",
      "Requirement already satisfied: idna<2.9,>=2.5 in d:\\users\\admin\\anaconda3\\lib\\site-packages (from requests>=2.19.0->tensorflow_datasets) (2.8)\n",
      "Requirement already satisfied: certifi>=2017.4.17 in d:\\users\\admin\\anaconda3\\lib\\site-packages (from requests>=2.19.0->tensorflow_datasets) (2019.11.28)\n",
      "Requirement already satisfied: urllib3<1.25,>=1.21.1 in d:\\users\\admin\\anaconda3\\lib\\site-packages (from requests>=2.19.0->tensorflow_datasets) (1.24.1)\n",
      "Requirement already satisfied: chardet<3.1.0,>=3.0.2 in d:\\users\\admin\\anaconda3\\lib\\site-packages (from requests>=2.19.0->tensorflow_datasets) (3.0.4)\n",
      "Building wheels for collected packages: promise, dill\n",
      "  Building wheel for promise (setup.py): started\n",
      "  Building wheel for promise (setup.py): finished with status 'done'\n",
      "  Created wheel for promise: filename=promise-2.3-py3-none-any.whl size=21500 sha256=1c6c601431e9b367505bec247e67818d40b7d749b1fb2541b81e82052e434fa2\n",
      "  Stored in directory: c:\\users\\admin\\appdata\\local\\pip\\cache\\wheels\\29\\93\\c6\\762e359f8cb6a5b69c72235d798804cae523bbe41c2aa8333d\n",
      "  Building wheel for dill (setup.py): started\n",
      "  Building wheel for dill (setup.py): finished with status 'done'\n",
      "  Created wheel for dill: filename=dill-0.3.1.1-py3-none-any.whl size=78597 sha256=240e96bb66fe613ed65c86ebb22c1132ab54ec9d56203fabdca102f6559ecdc0\n",
      "  Stored in directory: c:\\users\\admin\\appdata\\local\\pip\\cache\\wheels\\a4\\61\\fd\\c57e374e580aa78a45ed78d5859b3a44436af17e22ca53284f\n",
      "Successfully built promise dill\n",
      "Installing collected packages: tensorflow-metadata, promise, dill, tensorflow-datasets\n",
      "Successfully installed dill-0.3.1.1 promise-2.3 tensorflow-datasets-2.0.0 tensorflow-metadata-0.21.1\n"
     ]
    }
   ],
   "source": [
    "!pip install tensorflow_datasets"
   ]
  },
  {
   "cell_type": "code",
   "execution_count": 1,
   "metadata": {},
   "outputs": [
    {
     "ename": "ModuleNotFoundError",
     "evalue": "No module named 'tensorflow_datasets'",
     "output_type": "error",
     "traceback": [
      "\u001b[1;31m---------------------------------------------------------------------------\u001b[0m",
      "\u001b[1;31mModuleNotFoundError\u001b[0m                       Traceback (most recent call last)",
      "\u001b[1;32m<ipython-input-1-87fe9fc4e566>\u001b[0m in \u001b[0;36m<module>\u001b[1;34m\u001b[0m\n\u001b[0;32m      1\u001b[0m \u001b[1;32mimport\u001b[0m \u001b[0mtensorflow\u001b[0m\u001b[1;33m.\u001b[0m\u001b[0mcompat\u001b[0m\u001b[1;33m.\u001b[0m\u001b[0mv2\u001b[0m \u001b[1;32mas\u001b[0m \u001b[0mtf\u001b[0m\u001b[1;33m\u001b[0m\u001b[1;33m\u001b[0m\u001b[0m\n\u001b[1;32m----> 2\u001b[1;33m \u001b[1;32mimport\u001b[0m \u001b[0mtensorflow_datasets\u001b[0m \u001b[1;32mas\u001b[0m \u001b[0mtfds\u001b[0m\u001b[1;33m\u001b[0m\u001b[1;33m\u001b[0m\u001b[0m\n\u001b[0m\u001b[0;32m      3\u001b[0m \u001b[1;33m\u001b[0m\u001b[0m\n\u001b[0;32m      4\u001b[0m \u001b[1;31m# tfds works in both Eager and Graph modes\u001b[0m\u001b[1;33m\u001b[0m\u001b[1;33m\u001b[0m\u001b[1;33m\u001b[0m\u001b[0m\n\u001b[0;32m      5\u001b[0m \u001b[0mtf\u001b[0m\u001b[1;33m.\u001b[0m\u001b[0mcompat\u001b[0m\u001b[1;33m.\u001b[0m\u001b[0mv1\u001b[0m\u001b[1;33m.\u001b[0m\u001b[0menable_eager_execution\u001b[0m\u001b[1;33m(\u001b[0m\u001b[1;33m)\u001b[0m\u001b[1;33m\u001b[0m\u001b[1;33m\u001b[0m\u001b[0m\n",
      "\u001b[1;31mModuleNotFoundError\u001b[0m: No module named 'tensorflow_datasets'"
     ]
    }
   ],
   "source": [
    "import tensorflow.compat.v2 as tf\n",
    "import tensorflow_datasets as tfds\n",
    "\n",
    "# tfds works in both Eager and Graph modes\n",
    "tf.compat.v1.enable_eager_execution()\n",
    "\n",
    "# See available datasets\n",
    "print(tfds.list_builders())\n",
    "\n",
    "# Construct a tf.data.Dataset\n",
    "dataset = tfds.load(name=\"mnist\", split=\"train\")\n",
    "`\n",
    "# Build your input pipeline\n",
    "dataset = dataset.shuffle(1024).batch(32).prefetch(tf.data.experimental.AUTOTUNE)\n",
    "for features in dataset.take(1):\n",
    "  image, label = features[\"image\"], features[\"label\"]"
   ]
  },
  {
   "cell_type": "code",
   "execution_count": 25,
   "metadata": {},
   "outputs": [],
   "source": [
    "def fib(n):\n",
    "    print (n)\n",
    "    if n==1:\n",
    "        return 1\n",
    "    else:\n",
    "        yield fib(n-1)+fib(n)"
   ]
  },
  {
   "cell_type": "code",
   "execution_count": 26,
   "metadata": {},
   "outputs": [
    {
     "data": {
      "text/plain": [
       "<generator object fib at 0x00000282206DBC00>"
      ]
     },
     "execution_count": 26,
     "metadata": {},
     "output_type": "execute_result"
    }
   ],
   "source": [
    "fib(5)"
   ]
  },
  {
   "cell_type": "code",
   "execution_count": 42,
   "metadata": {},
   "outputs": [
    {
     "name": "stdout",
     "output_type": "stream",
     "text": [
      "[1, 2, 3, 5, 7, 11, 13, 17, 19, 23, 29, 31, 37, 41, 43, 47, 53, 59, 61, 67, 71, 73, 79, 83, 89, 97]\n"
     ]
    }
   ],
   "source": [
    "import math\n",
    "def is_prime(n):\n",
    "    if n>=1:\n",
    "        if n==2:\n",
    "            return True\n",
    "        if n%2==0:\n",
    "            return False\n",
    "        \n",
    "        for j in range(3, int(math.sqrt(n)) +1, 2 ):\n",
    "            if n%j==0:\n",
    "                return False\n",
    "        return True\n",
    "    return False\n",
    "\n",
    "num_list= list(range(1,100))\n",
    "prime = [i for i in num_list if is_prime(i)]\n",
    "print (prime)\n",
    "    \n",
    "\n"
   ]
  },
  {
   "cell_type": "code",
   "execution_count": 49,
   "metadata": {},
   "outputs": [
    {
     "data": {
      "text/plain": [
       "'0xe6'"
      ]
     },
     "execution_count": 49,
     "metadata": {},
     "output_type": "execute_result"
    }
   ],
   "source": [
    "hex(230)"
   ]
  },
  {
   "cell_type": "code",
   "execution_count": 52,
   "metadata": {},
   "outputs": [
    {
     "name": "stdout",
     "output_type": "stream",
     "text": [
      "\n",
      "Producing...\n",
      "Produced [7, 1, 8]\n",
      "The running average is 5.333333333333333\n",
      "\n",
      "Producing...\n",
      "Produced [9, 1, 5]\n",
      "The running average is 5.166666666666667\n",
      "\n",
      "Producing...\n",
      "Produced [4, 8, 0]\n",
      "The running average is 4.777777777777778\n",
      "\n",
      "Producing...\n",
      "Produced [1, 8, 2]\n",
      "The running average is 4.5\n",
      "\n",
      "Producing...\n",
      "Produced [6, 1, 2]\n",
      "The running average is 4.2\n",
      "\n",
      "Producing...\n",
      "Produced [0, 6, 4]\n",
      "The running average is 4.055555555555555\n",
      "\n",
      "Producing...\n",
      "Produced [7, 0, 3]\n",
      "The running average is 3.9523809523809526\n",
      "\n",
      "Producing...\n",
      "Produced [4, 0, 9]\n",
      "The running average is 4.0\n",
      "\n",
      "Producing...\n",
      "Produced [1, 0, 3]\n",
      "The running average is 3.7037037037037037\n",
      "\n",
      "Producing...\n",
      "Produced [3, 9, 2]\n",
      "The running average is 3.8\n"
     ]
    }
   ],
   "source": [
    "import random\n",
    "\n",
    "def get_data():\n",
    "    \"\"\"Return 3 random integers between 0 and 9\"\"\"\n",
    "    return random.sample(range(10), 3)\n",
    "\n",
    "def consume():\n",
    "    \"\"\"Displays a running average across lists of integers sent to it\"\"\"\n",
    "    running_sum = 0\n",
    "    data_items_seen = 0\n",
    "\n",
    "    while True:\n",
    "        data = yield\n",
    "        data_items_seen += len(data)\n",
    "        running_sum += sum(data)\n",
    "        print('The running average is {}'.format(running_sum / float(data_items_seen)))\n",
    "\n",
    "def produce(consumer):\n",
    "    \"\"\"Produces a set of values and forwards them to the pre-defined consumer\n",
    "    function\"\"\"\n",
    "    while True:\n",
    "        data = get_data()\n",
    "        print('Produced {}'.format(data))\n",
    "        consumer.send(data)\n",
    "        yield\n",
    "\n",
    "if __name__ == '__main__':\n",
    "    consumer = consume()\n",
    "    consumer.send(None)\n",
    "    producer = produce(consumer)\n",
    "\n",
    "    for _ in range(10):\n",
    "        print('\\nProducing...')\n",
    "        next(producer)"
   ]
  },
  {
   "cell_type": "code",
   "execution_count": 64,
   "metadata": {},
   "outputs": [],
   "source": [
    "def print_num(n):\n",
    "    n=n+1\n",
    "    yield (n)\n",
    "    \n",
    "x= print_num(3)\n",
    "#x= print_num(4)"
   ]
  },
  {
   "cell_type": "code",
   "execution_count": 65,
   "metadata": {},
   "outputs": [
    {
     "data": {
      "text/plain": [
       "<generator object print_num at 0x00000282203C46D8>"
      ]
     },
     "execution_count": 65,
     "metadata": {},
     "output_type": "execute_result"
    }
   ],
   "source": [
    "x"
   ]
  },
  {
   "cell_type": "code",
   "execution_count": 68,
   "metadata": {},
   "outputs": [],
   "source": [
    "x.close()"
   ]
  },
  {
   "cell_type": "code",
   "execution_count": 74,
   "metadata": {},
   "outputs": [],
   "source": [
    "x.gi_yieldfrom"
   ]
  },
  {
   "cell_type": "code",
   "execution_count": null,
   "metadata": {},
   "outputs": [],
   "source": [
    "def get_primes(start):\n",
    "    for element in magical_infinite_range(start):\n",
    "        if is_prime(element):\n",
    "            return element\n"
   ]
  },
  {
   "cell_type": "code",
   "execution_count": 88,
   "metadata": {},
   "outputs": [],
   "source": [
    "def is_prime(number):\n",
    "    if number > 1:\n",
    "        if number == 2:\n",
    "            return True\n",
    "        if number % 2 == 0:\n",
    "            return False\n",
    "        for current in range(3, int(math.sqrt(number) + 1), 2):\n",
    "            if number % current == 0: \n",
    "                return False\n",
    "        return True\n",
    "    return False\n",
    "\n",
    "def get_primes(number,i):\n",
    "    i=0\n",
    "    while True:\n",
    "        if is_prime(number):\n",
    "            i+=1\n",
    "            yield number\n",
    "        number += 1\n",
    "        if i==10:\n",
    "            break;\n",
    "        \n",
    "        \n",
    "a=get_primes(909093,10)"
   ]
  },
  {
   "cell_type": "code",
   "execution_count": 89,
   "metadata": {},
   "outputs": [
    {
     "name": "stdout",
     "output_type": "stream",
     "text": [
      "909107\n",
      "909113\n",
      "909119\n",
      "909133\n",
      "909151\n",
      "909173\n",
      "909203\n",
      "909217\n",
      "909239\n",
      "909241\n"
     ]
    }
   ],
   "source": [
    "for i in a:\n",
    "    print (i)"
   ]
  },
  {
   "cell_type": "code",
   "execution_count": 91,
   "metadata": {},
   "outputs": [],
   "source": [
    "def get_primes(number):\n",
    "    while True:\n",
    "        if is_prime(number):\n",
    "            yield number\n",
    "        number += 1\n",
    "        \n",
    "x=get_primes(5)"
   ]
  },
  {
   "cell_type": "code",
   "execution_count": 95,
   "metadata": {},
   "outputs": [
    {
     "data": {
      "text/plain": [
       "range(1, 10)"
      ]
     },
     "execution_count": 95,
     "metadata": {},
     "output_type": "execute_result"
    }
   ],
   "source": [
    "range(1,10)"
   ]
  },
  {
   "cell_type": "code",
   "execution_count": 103,
   "metadata": {},
   "outputs": [
    {
     "name": "stdout",
     "output_type": "stream",
     "text": [
      "[1, 4, 9, 16, 25, 36, 49, 64, 81, 100]\n"
     ]
    }
   ],
   "source": [
    "def sq_num(n):\n",
    "    sq=[]\n",
    "    for i in range(1,n+1,1):\n",
    "        sq.append(i**2)\n",
    "    return sq\n",
    "        \n",
    "print (sq_num(10))"
   ]
  },
  {
   "cell_type": "code",
   "execution_count": 105,
   "metadata": {},
   "outputs": [
    {
     "name": "stdout",
     "output_type": "stream",
     "text": [
      "1\n",
      "4\n",
      "9\n",
      "16\n",
      "25\n",
      "36\n",
      "49\n",
      "64\n",
      "81\n",
      "100\n"
     ]
    }
   ],
   "source": [
    "def sq_num1(n):\n",
    "    for i in range(1,n+1,1):\n",
    "        yield i**2\n",
    "        \n",
    "x = sq_num1(10)\n",
    "for i in x:\n",
    "    print (i)"
   ]
  },
  {
   "cell_type": "code",
   "execution_count": 189,
   "metadata": {},
   "outputs": [],
   "source": [
    "def fibonacci(m,n):\n",
    "    \"\"\"Fibonacci numbers generator, first n\"\"\"\n",
    "    a, b, counter = m, m+1, 0\n",
    "    while True:\n",
    "        #if (counter > n): return\n",
    "        \n",
    "        yield a\n",
    "        a, b = b, a + b\n",
    "        counter += 1\n",
    "\n",
    "f = fibonacci(999989,15)\n"
   ]
  },
  {
   "cell_type": "code",
   "execution_count": 282,
   "metadata": {},
   "outputs": [
    {
     "ename": "NameError",
     "evalue": "name 'prev' is not defined",
     "output_type": "error",
     "traceback": [
      "\u001b[1;31m---------------------------------------------------------------------------\u001b[0m",
      "\u001b[1;31mNameError\u001b[0m                                 Traceback (most recent call last)",
      "\u001b[1;32m<ipython-input-282-fa4454b3c2e1>\u001b[0m in \u001b[0;36m<module>\u001b[1;34m\u001b[0m\n\u001b[1;32m----> 1\u001b[1;33m \u001b[0mprev\u001b[0m\u001b[1;33m(\u001b[0m\u001b[0mf\u001b[0m\u001b[1;33m)\u001b[0m\u001b[1;33m\u001b[0m\u001b[1;33m\u001b[0m\u001b[0m\n\u001b[0m",
      "\u001b[1;31mNameError\u001b[0m: name 'prev' is not defined"
     ]
    }
   ],
   "source": [
    "prev(f)"
   ]
  },
  {
   "cell_type": "code",
   "execution_count": 281,
   "metadata": {},
   "outputs": [
    {
     "data": {
      "text/plain": [
       "1779960936318916503245852"
      ]
     },
     "execution_count": 281,
     "metadata": {},
     "output_type": "execute_result"
    }
   ],
   "source": [
    "4659998229930010548982721-2880037293611094045736869"
   ]
  },
  {
   "cell_type": "code",
   "execution_count": 280,
   "metadata": {},
   "outputs": [
    {
     "data": {
      "text/plain": [
       "4659998229930010548982721"
      ]
     },
     "execution_count": 280,
     "metadata": {},
     "output_type": "execute_result"
    }
   ],
   "source": [
    "next(f)"
   ]
  },
  {
   "cell_type": "code",
   "execution_count": 171,
   "metadata": {},
   "outputs": [
    {
     "ename": "SyntaxError",
     "evalue": "invalid syntax (<ipython-input-171-18aac56b026d>, line 3)",
     "output_type": "error",
     "traceback": [
      "\u001b[1;36m  File \u001b[1;32m\"<ipython-input-171-18aac56b026d>\"\u001b[1;36m, line \u001b[1;32m3\u001b[0m\n\u001b[1;33m    for\u001b[0m\n\u001b[1;37m        ^\u001b[0m\n\u001b[1;31mSyntaxError\u001b[0m\u001b[1;31m:\u001b[0m invalid syntax\n"
     ]
    }
   ],
   "source": [
    "def fib(n):\n",
    "    a,b=0\n",
    "    for "
   ]
  },
  {
   "cell_type": "code",
   "execution_count": 140,
   "metadata": {},
   "outputs": [
    {
     "ename": "AttributeError",
     "evalue": "'generator' object has no attribute 'next'",
     "output_type": "error",
     "traceback": [
      "\u001b[1;31m---------------------------------------------------------------------------\u001b[0m",
      "\u001b[1;31mAttributeError\u001b[0m                            Traceback (most recent call last)",
      "\u001b[1;32m<ipython-input-140-f386b9030ada>\u001b[0m in \u001b[0;36m<module>\u001b[1;34m\u001b[0m\n\u001b[0;32m      1\u001b[0m \u001b[1;32mfor\u001b[0m \u001b[0mi\u001b[0m \u001b[1;32min\u001b[0m \u001b[0mx\u001b[0m\u001b[1;33m:\u001b[0m\u001b[1;33m\u001b[0m\u001b[1;33m\u001b[0m\u001b[0m\n\u001b[1;32m----> 2\u001b[1;33m     \u001b[0mprint\u001b[0m \u001b[1;33m(\u001b[0m\u001b[0mi\u001b[0m\u001b[1;33m.\u001b[0m\u001b[0mnext\u001b[0m\u001b[1;33m(\u001b[0m\u001b[1;33m)\u001b[0m\u001b[1;33m)\u001b[0m\u001b[1;33m\u001b[0m\u001b[1;33m\u001b[0m\u001b[0m\n\u001b[0m",
      "\u001b[1;31mAttributeError\u001b[0m: 'generator' object has no attribute 'next'"
     ]
    }
   ],
   "source": [
    "for i in x:\n",
    "    print (i.next())"
   ]
  },
  {
   "cell_type": "code",
   "execution_count": 163,
   "metadata": {},
   "outputs": [],
   "source": [
    "def city_generator():\n",
    "    yield(\"Konstanz\")\n",
    "    yield(\"Zurich\")\n",
    "    yield(\"Schaffhausen\")\n",
    "    yield(\"Stuttgart\")\n",
    "\n",
    "x=city_generator()"
   ]
  },
  {
   "cell_type": "code",
   "execution_count": 155,
   "metadata": {},
   "outputs": [
    {
     "name": "stdout",
     "output_type": "stream",
     "text": [
      "Konstanz\n",
      "Zurich\n",
      "Schaffhausen\n",
      "Stuttgart\n"
     ]
    }
   ],
   "source": [
    "for i in x:\n",
    "    print (i)"
   ]
  },
  {
   "cell_type": "code",
   "execution_count": 167,
   "metadata": {},
   "outputs": [
    {
     "data": {
      "text/plain": [
       "'Stuttgart'"
      ]
     },
     "execution_count": 167,
     "metadata": {},
     "output_type": "execute_result"
    }
   ],
   "source": [
    "next(x)"
   ]
  },
  {
   "cell_type": "code",
   "execution_count": 289,
   "metadata": {},
   "outputs": [
    {
     "name": "stdout",
     "output_type": "stream",
     "text": [
      "Collecting memory_profiler\n",
      "  Downloading memory_profiler-0.57.0.tar.gz (34 kB)\n",
      "Requirement already satisfied: psutil in d:\\users\\admin\\anaconda3\\lib\\site-packages (from memory_profiler) (5.4.8)\n",
      "Building wheels for collected packages: memory-profiler\n",
      "  Building wheel for memory-profiler (setup.py): started\n",
      "  Building wheel for memory-profiler (setup.py): finished with status 'done'\n",
      "  Created wheel for memory-profiler: filename=memory_profiler-0.57.0-py3-none-any.whl size=28996 sha256=2f342b954048d0095b03a645b81e0fc5f62f60ac6b0320c145c2695020b0b0a3\n",
      "  Stored in directory: c:\\users\\admin\\appdata\\local\\pip\\cache\\wheels\\0c\\84\\4a\\8afc0620ec149b2c0a4ed08b021e3a2dc7063fa08e1fcb40c8\n",
      "Successfully built memory-profiler\n",
      "Installing collected packages: memory-profiler\n",
      "Successfully installed memory-profiler-0.57.0\n"
     ]
    }
   ],
   "source": [
    "!pip install memory_profiler"
   ]
  },
  {
   "cell_type": "code",
   "execution_count": 290,
   "metadata": {},
   "outputs": [],
   "source": [
    "import memory_profiler as mem_profile"
   ]
  },
  {
   "cell_type": "code",
   "execution_count": 297,
   "metadata": {},
   "outputs": [
    {
     "name": "stdout",
     "output_type": "stream",
     "text": [
      "Memory (Before): [173.77734375]MB\n",
      "Memory (After) : [173.77734375]MB\n",
      "Took 0.0 Seconds\n"
     ]
    }
   ],
   "source": [
    "import memory_profiler as mem_profile\n",
    "import random\n",
    "import time\n",
    "\n",
    "names = ['John', 'Corey', 'Adam', 'Steve', 'Rick', 'Thomas']\n",
    "majors = ['Math', 'Engineering', 'CompSci', 'Arts', 'Business']\n",
    "\n",
    "# print('Memory (Before): {}Mb '.format(mem_profile.memory_usage_psutil()))\n",
    "print('Memory (Before): ' + str(mem_profile.memory_usage()) + 'MB' )\n",
    "\n",
    "def people_list(num_people):\n",
    "    result = []\n",
    "    for i in range(num_people):\n",
    "        person = {\n",
    "                    'id': i,\n",
    "                    'name': random.choice(names),\n",
    "                    'major': random.choice(majors)\n",
    "                }\n",
    "        result.append(person)\n",
    "    return result\n",
    "\n",
    "def people_generator(num_people):\n",
    "    for i in range(num_people):\n",
    "        person = {\n",
    "                    'id': i,\n",
    "                    'name': random.choice(names),\n",
    "                    'major': random.choice(majors)\n",
    "                }\n",
    "        yield person\n",
    "\n",
    "# t1 = time.process_time()\n",
    "# people = people_list(1000000)\n",
    "# t2 = time.process_time()\n",
    "\n",
    "t1 = time.process_time ()\n",
    "people = people_generator(1000000)\n",
    "t2 = time.process_time ()\n",
    "\n",
    "# print 'Memory (After) : {}Mb'.format(mem_profile.memory_usage_psutil())\n",
    "print('Memory (After) : ' + str(mem_profile.memory_usage()) + 'MB')\n",
    "\n",
    "# print 'Took {} Seconds'.format(t2-t1)\n",
    "print ('Took ' + str(t2-t1) + ' Seconds')"
   ]
  },
  {
   "cell_type": "code",
   "execution_count": 300,
   "metadata": {},
   "outputs": [
    {
     "name": "stdout",
     "output_type": "stream",
     "text": [
      "{'id': 0, 'name': 'Adam', 'major': 'Engineering'}\n",
      "{'id': 1, 'name': 'Steve', 'major': 'Business'}\n",
      "{'id': 2, 'name': 'Adam', 'major': 'CompSci'}\n",
      "{'id': 3, 'name': 'Steve', 'major': 'Arts'}\n",
      "{'id': 4, 'name': 'Steve', 'major': 'Arts'}\n",
      "{'id': 5, 'name': 'Adam', 'major': 'Arts'}\n",
      "{'id': 6, 'name': 'Adam', 'major': 'Math'}\n",
      "{'id': 7, 'name': 'Adam', 'major': 'Engineering'}\n",
      "{'id': 8, 'name': 'Steve', 'major': 'Math'}\n",
      "{'id': 9, 'name': 'Steve', 'major': 'Arts'}\n"
     ]
    }
   ],
   "source": [
    "j=0\n",
    "for i in people:\n",
    "    print (i)\n",
    "    j+=1\n",
    "    if j==10:\n",
    "        break\n",
    "    "
   ]
  },
  {
   "cell_type": "code",
   "execution_count": 339,
   "metadata": {},
   "outputs": [],
   "source": [
    "names=[]\n",
    "subjects=[]\n",
    "for i in range(1,20,1):\n",
    "    names.append( \"name\"+str(i))\n",
    "    subjects.append(\"subject\"+str(i))"
   ]
  },
  {
   "cell_type": "code",
   "execution_count": 343,
   "metadata": {},
   "outputs": [],
   "source": [
    "def people_generator(numbers):\n",
    "    for id in range(numbers):\n",
    "        person = {\"id\":id,\"name\":random.choice(names),\"subject\":random.choice(subjects)}\n",
    "        yield person"
   ]
  },
  {
   "cell_type": "code",
   "execution_count": 346,
   "metadata": {},
   "outputs": [],
   "source": [
    "x=people_generator(200)"
   ]
  },
  {
   "cell_type": "code",
   "execution_count": 347,
   "metadata": {},
   "outputs": [
    {
     "name": "stdout",
     "output_type": "stream",
     "text": [
      "{'id': 0, 'name': 'name8', 'subject': 'subject15'}\n",
      "{'id': 1, 'name': 'name1', 'subject': 'subject2'}\n",
      "{'id': 2, 'name': 'name12', 'subject': 'subject11'}\n",
      "{'id': 3, 'name': 'name4', 'subject': 'subject11'}\n",
      "{'id': 4, 'name': 'name18', 'subject': 'subject11'}\n",
      "{'id': 5, 'name': 'name7', 'subject': 'subject4'}\n",
      "{'id': 6, 'name': 'name11', 'subject': 'subject18'}\n",
      "{'id': 7, 'name': 'name17', 'subject': 'subject14'}\n",
      "{'id': 8, 'name': 'name6', 'subject': 'subject19'}\n",
      "{'id': 9, 'name': 'name5', 'subject': 'subject9'}\n",
      "{'id': 10, 'name': 'name19', 'subject': 'subject3'}\n",
      "{'id': 11, 'name': 'name13', 'subject': 'subject7'}\n",
      "{'id': 12, 'name': 'name9', 'subject': 'subject5'}\n",
      "{'id': 13, 'name': 'name13', 'subject': 'subject7'}\n",
      "{'id': 14, 'name': 'name13', 'subject': 'subject12'}\n",
      "{'id': 15, 'name': 'name4', 'subject': 'subject11'}\n",
      "{'id': 16, 'name': 'name16', 'subject': 'subject17'}\n",
      "{'id': 17, 'name': 'name6', 'subject': 'subject15'}\n",
      "{'id': 18, 'name': 'name3', 'subject': 'subject4'}\n",
      "{'id': 19, 'name': 'name19', 'subject': 'subject1'}\n",
      "{'id': 20, 'name': 'name6', 'subject': 'subject3'}\n",
      "{'id': 21, 'name': 'name18', 'subject': 'subject17'}\n",
      "{'id': 22, 'name': 'name5', 'subject': 'subject9'}\n",
      "{'id': 23, 'name': 'name1', 'subject': 'subject8'}\n",
      "{'id': 24, 'name': 'name13', 'subject': 'subject2'}\n",
      "{'id': 25, 'name': 'name5', 'subject': 'subject11'}\n",
      "{'id': 26, 'name': 'name8', 'subject': 'subject14'}\n",
      "{'id': 27, 'name': 'name10', 'subject': 'subject7'}\n",
      "{'id': 28, 'name': 'name10', 'subject': 'subject12'}\n",
      "{'id': 29, 'name': 'name6', 'subject': 'subject7'}\n",
      "{'id': 30, 'name': 'name16', 'subject': 'subject10'}\n",
      "{'id': 31, 'name': 'name18', 'subject': 'subject18'}\n",
      "{'id': 32, 'name': 'name7', 'subject': 'subject14'}\n",
      "{'id': 33, 'name': 'name12', 'subject': 'subject10'}\n",
      "{'id': 34, 'name': 'name15', 'subject': 'subject19'}\n",
      "{'id': 35, 'name': 'name11', 'subject': 'subject10'}\n",
      "{'id': 36, 'name': 'name9', 'subject': 'subject14'}\n",
      "{'id': 37, 'name': 'name3', 'subject': 'subject19'}\n",
      "{'id': 38, 'name': 'name13', 'subject': 'subject19'}\n",
      "{'id': 39, 'name': 'name1', 'subject': 'subject18'}\n",
      "{'id': 40, 'name': 'name13', 'subject': 'subject6'}\n",
      "{'id': 41, 'name': 'name12', 'subject': 'subject19'}\n",
      "{'id': 42, 'name': 'name2', 'subject': 'subject11'}\n",
      "{'id': 43, 'name': 'name12', 'subject': 'subject5'}\n",
      "{'id': 44, 'name': 'name9', 'subject': 'subject8'}\n",
      "{'id': 45, 'name': 'name19', 'subject': 'subject11'}\n",
      "{'id': 46, 'name': 'name15', 'subject': 'subject16'}\n",
      "{'id': 47, 'name': 'name5', 'subject': 'subject11'}\n",
      "{'id': 48, 'name': 'name17', 'subject': 'subject3'}\n",
      "{'id': 49, 'name': 'name2', 'subject': 'subject4'}\n",
      "{'id': 50, 'name': 'name18', 'subject': 'subject9'}\n",
      "{'id': 51, 'name': 'name10', 'subject': 'subject16'}\n",
      "{'id': 52, 'name': 'name8', 'subject': 'subject7'}\n",
      "{'id': 53, 'name': 'name9', 'subject': 'subject11'}\n",
      "{'id': 54, 'name': 'name9', 'subject': 'subject7'}\n",
      "{'id': 55, 'name': 'name19', 'subject': 'subject19'}\n",
      "{'id': 56, 'name': 'name7', 'subject': 'subject7'}\n",
      "{'id': 57, 'name': 'name10', 'subject': 'subject1'}\n",
      "{'id': 58, 'name': 'name16', 'subject': 'subject1'}\n",
      "{'id': 59, 'name': 'name14', 'subject': 'subject11'}\n",
      "{'id': 60, 'name': 'name9', 'subject': 'subject14'}\n",
      "{'id': 61, 'name': 'name16', 'subject': 'subject11'}\n",
      "{'id': 62, 'name': 'name14', 'subject': 'subject7'}\n",
      "{'id': 63, 'name': 'name1', 'subject': 'subject17'}\n",
      "{'id': 64, 'name': 'name5', 'subject': 'subject8'}\n",
      "{'id': 65, 'name': 'name18', 'subject': 'subject2'}\n",
      "{'id': 66, 'name': 'name2', 'subject': 'subject3'}\n",
      "{'id': 67, 'name': 'name9', 'subject': 'subject6'}\n",
      "{'id': 68, 'name': 'name16', 'subject': 'subject9'}\n",
      "{'id': 69, 'name': 'name11', 'subject': 'subject9'}\n",
      "{'id': 70, 'name': 'name19', 'subject': 'subject1'}\n",
      "{'id': 71, 'name': 'name12', 'subject': 'subject13'}\n",
      "{'id': 72, 'name': 'name9', 'subject': 'subject11'}\n",
      "{'id': 73, 'name': 'name8', 'subject': 'subject11'}\n",
      "{'id': 74, 'name': 'name14', 'subject': 'subject8'}\n",
      "{'id': 75, 'name': 'name7', 'subject': 'subject18'}\n",
      "{'id': 76, 'name': 'name16', 'subject': 'subject15'}\n",
      "{'id': 77, 'name': 'name16', 'subject': 'subject1'}\n",
      "{'id': 78, 'name': 'name8', 'subject': 'subject18'}\n",
      "{'id': 79, 'name': 'name5', 'subject': 'subject10'}\n",
      "{'id': 80, 'name': 'name11', 'subject': 'subject19'}\n",
      "{'id': 81, 'name': 'name1', 'subject': 'subject10'}\n",
      "{'id': 82, 'name': 'name6', 'subject': 'subject6'}\n",
      "{'id': 83, 'name': 'name16', 'subject': 'subject9'}\n",
      "{'id': 84, 'name': 'name1', 'subject': 'subject9'}\n",
      "{'id': 85, 'name': 'name8', 'subject': 'subject17'}\n",
      "{'id': 86, 'name': 'name4', 'subject': 'subject16'}\n",
      "{'id': 87, 'name': 'name18', 'subject': 'subject7'}\n",
      "{'id': 88, 'name': 'name14', 'subject': 'subject3'}\n",
      "{'id': 89, 'name': 'name3', 'subject': 'subject3'}\n",
      "{'id': 90, 'name': 'name10', 'subject': 'subject5'}\n",
      "{'id': 91, 'name': 'name13', 'subject': 'subject8'}\n",
      "{'id': 92, 'name': 'name1', 'subject': 'subject18'}\n",
      "{'id': 93, 'name': 'name3', 'subject': 'subject7'}\n",
      "{'id': 94, 'name': 'name4', 'subject': 'subject4'}\n",
      "{'id': 95, 'name': 'name5', 'subject': 'subject8'}\n",
      "{'id': 96, 'name': 'name1', 'subject': 'subject11'}\n",
      "{'id': 97, 'name': 'name13', 'subject': 'subject6'}\n",
      "{'id': 98, 'name': 'name3', 'subject': 'subject6'}\n",
      "{'id': 99, 'name': 'name10', 'subject': 'subject11'}\n",
      "{'id': 100, 'name': 'name5', 'subject': 'subject6'}\n",
      "{'id': 101, 'name': 'name15', 'subject': 'subject6'}\n",
      "{'id': 102, 'name': 'name18', 'subject': 'subject9'}\n",
      "{'id': 103, 'name': 'name9', 'subject': 'subject4'}\n",
      "{'id': 104, 'name': 'name11', 'subject': 'subject5'}\n",
      "{'id': 105, 'name': 'name14', 'subject': 'subject17'}\n",
      "{'id': 106, 'name': 'name12', 'subject': 'subject4'}\n",
      "{'id': 107, 'name': 'name17', 'subject': 'subject10'}\n",
      "{'id': 108, 'name': 'name5', 'subject': 'subject4'}\n",
      "{'id': 109, 'name': 'name7', 'subject': 'subject18'}\n",
      "{'id': 110, 'name': 'name19', 'subject': 'subject13'}\n",
      "{'id': 111, 'name': 'name9', 'subject': 'subject12'}\n",
      "{'id': 112, 'name': 'name4', 'subject': 'subject1'}\n",
      "{'id': 113, 'name': 'name4', 'subject': 'subject11'}\n",
      "{'id': 114, 'name': 'name11', 'subject': 'subject9'}\n",
      "{'id': 115, 'name': 'name6', 'subject': 'subject19'}\n",
      "{'id': 116, 'name': 'name16', 'subject': 'subject7'}\n",
      "{'id': 117, 'name': 'name1', 'subject': 'subject13'}\n",
      "{'id': 118, 'name': 'name19', 'subject': 'subject3'}\n",
      "{'id': 119, 'name': 'name18', 'subject': 'subject7'}\n",
      "{'id': 120, 'name': 'name3', 'subject': 'subject5'}\n",
      "{'id': 121, 'name': 'name11', 'subject': 'subject14'}\n",
      "{'id': 122, 'name': 'name17', 'subject': 'subject19'}\n",
      "{'id': 123, 'name': 'name10', 'subject': 'subject5'}\n",
      "{'id': 124, 'name': 'name1', 'subject': 'subject9'}\n",
      "{'id': 125, 'name': 'name5', 'subject': 'subject6'}\n",
      "{'id': 126, 'name': 'name12', 'subject': 'subject11'}\n",
      "{'id': 127, 'name': 'name8', 'subject': 'subject19'}\n",
      "{'id': 128, 'name': 'name1', 'subject': 'subject6'}\n",
      "{'id': 129, 'name': 'name9', 'subject': 'subject9'}\n",
      "{'id': 130, 'name': 'name5', 'subject': 'subject2'}\n",
      "{'id': 131, 'name': 'name11', 'subject': 'subject6'}\n",
      "{'id': 132, 'name': 'name10', 'subject': 'subject18'}\n",
      "{'id': 133, 'name': 'name9', 'subject': 'subject7'}\n",
      "{'id': 134, 'name': 'name6', 'subject': 'subject8'}\n",
      "{'id': 135, 'name': 'name10', 'subject': 'subject5'}\n",
      "{'id': 136, 'name': 'name5', 'subject': 'subject2'}\n",
      "{'id': 137, 'name': 'name11', 'subject': 'subject18'}\n",
      "{'id': 138, 'name': 'name13', 'subject': 'subject1'}\n",
      "{'id': 139, 'name': 'name3', 'subject': 'subject7'}\n",
      "{'id': 140, 'name': 'name6', 'subject': 'subject16'}\n",
      "{'id': 141, 'name': 'name14', 'subject': 'subject15'}\n",
      "{'id': 142, 'name': 'name16', 'subject': 'subject18'}\n",
      "{'id': 143, 'name': 'name14', 'subject': 'subject2'}\n",
      "{'id': 144, 'name': 'name15', 'subject': 'subject13'}\n",
      "{'id': 145, 'name': 'name9', 'subject': 'subject13'}\n",
      "{'id': 146, 'name': 'name14', 'subject': 'subject8'}\n",
      "{'id': 147, 'name': 'name7', 'subject': 'subject10'}\n",
      "{'id': 148, 'name': 'name18', 'subject': 'subject13'}\n",
      "{'id': 149, 'name': 'name12', 'subject': 'subject7'}\n",
      "{'id': 150, 'name': 'name2', 'subject': 'subject10'}\n",
      "{'id': 151, 'name': 'name10', 'subject': 'subject16'}\n",
      "{'id': 152, 'name': 'name15', 'subject': 'subject7'}\n",
      "{'id': 153, 'name': 'name18', 'subject': 'subject10'}\n",
      "{'id': 154, 'name': 'name3', 'subject': 'subject5'}\n",
      "{'id': 155, 'name': 'name4', 'subject': 'subject13'}\n",
      "{'id': 156, 'name': 'name13', 'subject': 'subject10'}\n",
      "{'id': 157, 'name': 'name13', 'subject': 'subject7'}\n",
      "{'id': 158, 'name': 'name17', 'subject': 'subject13'}\n",
      "{'id': 159, 'name': 'name4', 'subject': 'subject6'}\n",
      "{'id': 160, 'name': 'name15', 'subject': 'subject7'}\n",
      "{'id': 161, 'name': 'name7', 'subject': 'subject3'}\n",
      "{'id': 162, 'name': 'name6', 'subject': 'subject2'}\n",
      "{'id': 163, 'name': 'name7', 'subject': 'subject16'}\n",
      "{'id': 164, 'name': 'name3', 'subject': 'subject18'}\n",
      "{'id': 165, 'name': 'name8', 'subject': 'subject2'}\n",
      "{'id': 166, 'name': 'name19', 'subject': 'subject6'}\n",
      "{'id': 167, 'name': 'name17', 'subject': 'subject13'}\n",
      "{'id': 168, 'name': 'name5', 'subject': 'subject11'}\n",
      "{'id': 169, 'name': 'name8', 'subject': 'subject1'}\n",
      "{'id': 170, 'name': 'name16', 'subject': 'subject7'}\n",
      "{'id': 171, 'name': 'name14', 'subject': 'subject15'}\n",
      "{'id': 172, 'name': 'name9', 'subject': 'subject18'}\n",
      "{'id': 173, 'name': 'name4', 'subject': 'subject15'}\n",
      "{'id': 174, 'name': 'name14', 'subject': 'subject6'}\n",
      "{'id': 175, 'name': 'name4', 'subject': 'subject11'}\n",
      "{'id': 176, 'name': 'name6', 'subject': 'subject18'}\n",
      "{'id': 177, 'name': 'name18', 'subject': 'subject10'}\n",
      "{'id': 178, 'name': 'name13', 'subject': 'subject3'}\n",
      "{'id': 179, 'name': 'name14', 'subject': 'subject6'}\n",
      "{'id': 180, 'name': 'name7', 'subject': 'subject18'}\n",
      "{'id': 181, 'name': 'name8', 'subject': 'subject17'}\n",
      "{'id': 182, 'name': 'name12', 'subject': 'subject7'}\n",
      "{'id': 183, 'name': 'name12', 'subject': 'subject17'}\n",
      "{'id': 184, 'name': 'name13', 'subject': 'subject3'}\n",
      "{'id': 185, 'name': 'name17', 'subject': 'subject17'}\n",
      "{'id': 186, 'name': 'name8', 'subject': 'subject12'}\n",
      "{'id': 187, 'name': 'name3', 'subject': 'subject8'}\n",
      "{'id': 188, 'name': 'name8', 'subject': 'subject6'}\n",
      "{'id': 189, 'name': 'name19', 'subject': 'subject17'}\n",
      "{'id': 190, 'name': 'name17', 'subject': 'subject14'}\n",
      "{'id': 191, 'name': 'name6', 'subject': 'subject8'}\n",
      "{'id': 192, 'name': 'name12', 'subject': 'subject3'}\n",
      "{'id': 193, 'name': 'name2', 'subject': 'subject14'}\n",
      "{'id': 194, 'name': 'name1', 'subject': 'subject4'}\n",
      "{'id': 195, 'name': 'name15', 'subject': 'subject10'}\n",
      "{'id': 196, 'name': 'name2', 'subject': 'subject3'}\n",
      "{'id': 197, 'name': 'name13', 'subject': 'subject8'}\n",
      "{'id': 198, 'name': 'name7', 'subject': 'subject2'}\n",
      "{'id': 199, 'name': 'name11', 'subject': 'subject17'}\n"
     ]
    }
   ],
   "source": [
    "for i in x:\n",
    "    print (i)"
   ]
  },
  {
   "cell_type": "code",
   "execution_count": null,
   "metadata": {},
   "outputs": [],
   "source": [
    "from keras.applications.vgg19 import VGG19\n",
    "from keras.preprocessing import image\n",
    "from keras.applications.vgg19 import preprocess_input\n",
    "from keras.models import Model\n",
    "import numpy as np\n",
    "\n",
    "base_model = VGG19(weights='imagenet')\n",
    "model = Model(inputs=base_model.input, outputs=base_model.get_layer('block4_pool').output)\n",
    "\n",
    "img_path = 'elephant.jpg'\n",
    "img = image.load_img(img_path, target_size=(224, 224))\n",
    "x = image.img_to_array(img)\n",
    "x = np.expand_dims(x, axis=0)\n",
    "x = preprocess_input(x)\n",
    "\n",
    "block4_pool_features = model.predict(x)"
   ]
  },
  {
   "cell_type": "code",
   "execution_count": 1,
   "metadata": {},
   "outputs": [
    {
     "data": {
      "text/plain": [
       "array([[-0.29386681, -1.44996654,  1.41783319,  0.06281266,  0.78080859],\n",
       "       [-1.1900421 , -1.24578781,  2.11772665, -0.21325121, -0.67260434],\n",
       "       [-0.10552545, -0.36688105,  1.16648258, -2.06919503, -0.73928721],\n",
       "       [-0.87455059, -0.28395295,  1.9372696 , -0.88474438, -0.94420238],\n",
       "       [ 1.52952573, -2.21078842,  0.66425261,  0.03599101,  0.88553101],\n",
       "       [ 0.86523749,  0.50595389,  0.14906271,  0.72448967, -1.13735344],\n",
       "       [-2.18964197,  0.12814055,  0.18020263,  0.61910875,  1.54476698],\n",
       "       [ 0.09416224, -0.07831498, -0.45696574, -0.19463575, -0.4607474 ],\n",
       "       [-0.63359431,  0.79238017,  0.07237981, -0.44070252,  0.9073612 ],\n",
       "       [-0.86180479,  0.2260214 , -0.94815967,  0.01260105, -1.72606392],\n",
       "       [-0.11646949,  0.12884026,  0.74630058, -0.32288197,  2.03894955],\n",
       "       [-0.8977774 ,  0.30643417, -1.13497862, -0.31319643, -0.43415597]])"
      ]
     },
     "execution_count": 1,
     "metadata": {},
     "output_type": "execute_result"
    }
   ],
   "source": [
    "import numpy as np\n",
    "np.random.randn(12, 5)"
   ]
  },
  {
   "cell_type": "code",
   "execution_count": 2,
   "metadata": {},
   "outputs": [
    {
     "data": {
      "text/plain": [
       "array([[ 64.,  18.,  40., ...,  79.,  21.,  18.],\n",
       "       [ 97.,  50.,   1., ...,  56.,  79.,  77.],\n",
       "       [ 73.,  47.,  64., ...,   1.,  24.,  54.],\n",
       "       ...,\n",
       "       [ 14.,  93.,   1., ...,  64.,   0.,  91.],\n",
       "       [ 30.,  87.,  50., ...,   4.,  25.,  70.],\n",
       "       [ 58.,  12.,  95., ...,  49.,  23., 100.]])"
      ]
     },
     "execution_count": 2,
     "metadata": {},
     "output_type": "execute_result"
    }
   ],
   "source": [
    "np.round(np.abs(np.random.rand(12, 100) * 100))"
   ]
  },
  {
   "cell_type": "code",
   "execution_count": 3,
   "metadata": {},
   "outputs": [
    {
     "name": "stderr",
     "output_type": "stream",
     "text": [
      "Using TensorFlow backend.\n"
     ]
    },
    {
     "ename": "NameError",
     "evalue": "name 'data' is not defined",
     "output_type": "error",
     "traceback": [
      "\u001b[1;31m---------------------------------------------------------------------------\u001b[0m",
      "\u001b[1;31mNameError\u001b[0m                                 Traceback (most recent call last)",
      "\u001b[1;32m<ipython-input-3-8ea2924f5fc1>\u001b[0m in \u001b[0;36m<module>\u001b[1;34m\u001b[0m\n\u001b[0;32m     16\u001b[0m               \u001b[0mloss\u001b[0m\u001b[1;33m=\u001b[0m\u001b[1;34m'categorical_crossentropy'\u001b[0m\u001b[1;33m,\u001b[0m\u001b[1;33m\u001b[0m\u001b[1;33m\u001b[0m\u001b[0m\n\u001b[0;32m     17\u001b[0m               metrics=['accuracy'])\n\u001b[1;32m---> 18\u001b[1;33m \u001b[0mmodel\u001b[0m\u001b[1;33m.\u001b[0m\u001b[0mfit\u001b[0m\u001b[1;33m(\u001b[0m\u001b[0mdata\u001b[0m\u001b[1;33m,\u001b[0m \u001b[0mlabels\u001b[0m\u001b[1;33m)\u001b[0m  \u001b[1;31m# starts training\u001b[0m\u001b[1;33m\u001b[0m\u001b[1;33m\u001b[0m\u001b[0m\n\u001b[0m",
      "\u001b[1;31mNameError\u001b[0m: name 'data' is not defined"
     ]
    }
   ],
   "source": [
    "from keras.layers import Input, Dense\n",
    "from keras.models import Model\n",
    "\n",
    "# This returns a tensor\n",
    "inputs = Input(shape=(784,))\n",
    "\n",
    "# a layer instance is callable on a tensor, and returns a tensor\n",
    "output_1 = Dense(64, activation='relu')(inputs)\n",
    "output_2 = Dense(64, activation='relu')(output_1)\n",
    "predictions = Dense(10, activation='softmax')(output_2)\n",
    "\n",
    "# This creates a model that includes\n",
    "# the Input layer and three Dense layers\n",
    "model = Model(inputs=inputs, outputs=predictions)\n",
    "model.compile(optimizer='rmsprop',\n",
    "              loss='categorical_crossentropy',\n",
    "              metrics=['accuracy'])\n",
    "model.fit(data, labels)  # starts training\n",
    "\n"
   ]
  },
  {
   "cell_type": "code",
   "execution_count": 5,
   "metadata": {},
   "outputs": [],
   "source": [
    "x = Input(shape=(784,))\n",
    "# This works, and returns the 10-way softmax we defined above.\n",
    "y = model(x)"
   ]
  },
  {
   "cell_type": "code",
   "execution_count": 4,
   "metadata": {},
   "outputs": [],
   "source": [
    "from keras.layers import TimeDistributed\n",
    "\n",
    "# Input tensor for sequences of 20 timesteps,\n",
    "# each containing a 784-dimensional vector\n",
    "input_sequences = Input(shape=(20, 784))\n",
    "\n",
    "# This applies our previous model to every timestep in the input sequences.\n",
    "# the output of the previous model was a 10-way softmax,\n",
    "# so the output of the layer below will be a sequence of 20 vectors of size 10.\n",
    "processed_sequences = TimeDistributed(model)(input_sequences)"
   ]
  },
  {
   "cell_type": "code",
   "execution_count": 6,
   "metadata": {},
   "outputs": [],
   "source": [
    "from keras.layers import Input, Embedding, LSTM, Dense\n",
    "from keras.models import Model\n",
    "import numpy as np\n",
    "np.random.seed(0)  # Set a random seed for reproducibility\n",
    "\n",
    "# Headline input: meant to receive sequences of 100 integers, between 1 and 10000.\n",
    "# Note that we can name any layer by passing it a \"name\" argument.\n",
    "main_input = Input(shape=(100,), dtype='int32', name='main_input')\n",
    "\n",
    "# This embedding layer will encode the input sequence\n",
    "# into a sequence of dense 512-dimensional vectors.\n",
    "x = Embedding(output_dim=512, input_dim=10000, input_length=100)(main_input)\n",
    "\n",
    "# A LSTM will transform the vector sequence into a single vector,\n",
    "# containing information about the entire sequence\n",
    "lstm_out = LSTM(32)(x)"
   ]
  },
  {
   "cell_type": "code",
   "execution_count": 8,
   "metadata": {},
   "outputs": [],
   "source": [
    "auxiliary_output = Dense(1, activation='sigmoid', name='aux_output')(lstm_out)"
   ]
  },
  {
   "cell_type": "code",
   "execution_count": 19,
   "metadata": {},
   "outputs": [],
   "source": [
    "import keras"
   ]
  },
  {
   "cell_type": "code",
   "execution_count": 21,
   "metadata": {},
   "outputs": [],
   "source": [
    "auxiliary_input = Input(shape=(5,), name='aux_input')\n",
    "x = keras.layers.concatenate([lstm_out, auxiliary_input])\n",
    "\n",
    "# We stack a deep densely-connected network on top\n",
    "x = Dense(64, activation='relu')(x)\n",
    "x = Dense(64, activation='relu')(x)\n",
    "x = Dense(64, activation='relu')(x)\n",
    "\n",
    "# And finally we add the main logistic regression layer\n",
    "main_output = Dense(1, activation='sigmoid', name='main_output')(x)"
   ]
  },
  {
   "cell_type": "code",
   "execution_count": 22,
   "metadata": {},
   "outputs": [],
   "source": [
    "model = Model(inputs=[main_input, auxiliary_input], outputs=[main_output, auxiliary_output])"
   ]
  },
  {
   "cell_type": "code",
   "execution_count": 23,
   "metadata": {},
   "outputs": [],
   "source": [
    "model.compile(optimizer='rmsprop', loss='binary_crossentropy',\n",
    "              loss_weights=[1., 0.2])"
   ]
  },
  {
   "cell_type": "code",
   "execution_count": 24,
   "metadata": {},
   "outputs": [
    {
     "name": "stderr",
     "output_type": "stream",
     "text": [
      "D:\\Users\\admin\\Anaconda3\\lib\\site-packages\\tensorflow_core\\python\\framework\\indexed_slices.py:424: UserWarning: Converting sparse IndexedSlices to a dense Tensor of unknown shape. This may consume a large amount of memory.\n",
      "  \"Converting sparse IndexedSlices to a dense Tensor of unknown shape. \"\n"
     ]
    },
    {
     "name": "stdout",
     "output_type": "stream",
     "text": [
      "Epoch 1/50\n",
      "12/12 [==============================] - 1s 68ms/step - loss: 0.8157 - main_output_loss: 0.6776 - aux_output_loss: 0.6905\n",
      "Epoch 2/50\n",
      "12/12 [==============================] - 0s 11ms/step - loss: 0.7060 - main_output_loss: 0.5894 - aux_output_loss: 0.5831\n",
      "Epoch 3/50\n",
      "12/12 [==============================] - 0s 12ms/step - loss: 0.6231 - main_output_loss: 0.5259 - aux_output_loss: 0.4860\n",
      "Epoch 4/50\n",
      "12/12 [==============================] - 0s 10ms/step - loss: 0.5452 - main_output_loss: 0.4708 - aux_output_loss: 0.3721\n",
      "Epoch 5/50\n",
      "12/12 [==============================] - 0s 10ms/step - loss: 0.4606 - main_output_loss: 0.4144 - aux_output_loss: 0.2310\n",
      "Epoch 6/50\n",
      "12/12 [==============================] - 0s 10ms/step - loss: 0.3576 - main_output_loss: 0.3476 - aux_output_loss: 0.0500\n",
      "Epoch 7/50\n",
      "12/12 [==============================] - 0s 10ms/step - loss: 0.2395 - main_output_loss: 0.2746 - aux_output_loss: -0.1755\n",
      "Epoch 8/50\n",
      "12/12 [==============================] - 0s 10ms/step - loss: 0.0920 - main_output_loss: 0.1822 - aux_output_loss: -0.4507\n",
      "Epoch 9/50\n",
      "12/12 [==============================] - 0s 12ms/step - loss: -0.0924 - main_output_loss: 0.0596 - aux_output_loss: -0.7602\n",
      "Epoch 10/50\n",
      "12/12 [==============================] - 0s 12ms/step - loss: -0.2794 - main_output_loss: -0.0819 - aux_output_loss: -0.9876\n",
      "Epoch 11/50\n",
      "12/12 [==============================] - 0s 16ms/step - loss: -0.4464 - main_output_loss: -0.2307 - aux_output_loss: -1.0788\n",
      "Epoch 12/50\n",
      "12/12 [==============================] - 0s 11ms/step - loss: -0.6077 - main_output_loss: -0.3625 - aux_output_loss: -1.2258\n",
      "Epoch 13/50\n",
      "12/12 [==============================] - 0s 11ms/step - loss: -0.8364 - main_output_loss: -0.5791 - aux_output_loss: -1.2861\n",
      "Epoch 14/50\n",
      "12/12 [==============================] - 0s 11ms/step - loss: -1.0445 - main_output_loss: -0.7622 - aux_output_loss: -1.4114\n",
      "Epoch 15/50\n",
      "12/12 [==============================] - 0s 10ms/step - loss: -1.2807 - main_output_loss: -0.9981 - aux_output_loss: -1.4132\n",
      "Epoch 16/50\n",
      "12/12 [==============================] - 0s 11ms/step - loss: -1.5405 - main_output_loss: -1.2371 - aux_output_loss: -1.5172\n",
      "Epoch 17/50\n",
      "12/12 [==============================] - 0s 10ms/step - loss: -1.8421 - main_output_loss: -1.5406 - aux_output_loss: -1.5076\n",
      "Epoch 18/50\n",
      "12/12 [==============================] - 0s 16ms/step - loss: -2.2222 - main_output_loss: -1.8923 - aux_output_loss: -1.6493\n",
      "Epoch 19/50\n",
      "12/12 [==============================] - 0s 10ms/step - loss: -2.6382 - main_output_loss: -2.3163 - aux_output_loss: -1.6097\n",
      "Epoch 20/50\n",
      "12/12 [==============================] - 0s 11ms/step - loss: -3.0494 - main_output_loss: -2.7042 - aux_output_loss: -1.7261\n",
      "Epoch 21/50\n",
      "12/12 [==============================] - 0s 12ms/step - loss: -3.5977 - main_output_loss: -3.2755 - aux_output_loss: -1.6107\n",
      "Epoch 22/50\n",
      "12/12 [==============================] - 0s 11ms/step - loss: -4.1781 - main_output_loss: -3.8299 - aux_output_loss: -1.7414\n",
      "Epoch 23/50\n",
      "12/12 [==============================] - 0s 11ms/step - loss: -4.8331 - main_output_loss: -4.5103 - aux_output_loss: -1.6136\n",
      "Epoch 24/50\n",
      "12/12 [==============================] - 0s 11ms/step - loss: -5.5533 - main_output_loss: -5.2145 - aux_output_loss: -1.6939\n",
      "Epoch 25/50\n",
      "12/12 [==============================] - 0s 12ms/step - loss: -6.3413 - main_output_loss: -6.0287 - aux_output_loss: -1.5629\n",
      "Epoch 26/50\n",
      "12/12 [==============================] - 0s 12ms/step - loss: -7.1382 - main_output_loss: -6.8032 - aux_output_loss: -1.6753\n",
      "Epoch 27/50\n",
      "12/12 [==============================] - 0s 12ms/step - loss: -7.9946 - main_output_loss: -7.7045 - aux_output_loss: -1.4503\n",
      "Epoch 28/50\n",
      "12/12 [==============================] - 0s 12ms/step - loss: -8.3876 - main_output_loss: -8.0174 - aux_output_loss: -1.8511\n",
      "Epoch 29/50\n",
      "12/12 [==============================] - 0s 12ms/step - loss: -9.8066 - main_output_loss: -9.5087 - aux_output_loss: -1.4899\n",
      "Epoch 30/50\n",
      "12/12 [==============================] - 0s 21ms/step - loss: -11.0033 - main_output_loss: -10.7067 - aux_output_loss: -1.4831\n",
      "Epoch 31/50\n",
      "12/12 [==============================] - 0s 14ms/step - loss: -12.2005 - main_output_loss: -11.9086 - aux_output_loss: -1.4599\n",
      "Epoch 32/50\n",
      "12/12 [==============================] - 0s 11ms/step - loss: -13.4613 - main_output_loss: -13.1744 - aux_output_loss: -1.4347\n",
      "Epoch 33/50\n",
      "12/12 [==============================] - 0s 12ms/step - loss: -14.7942 - main_output_loss: -14.5135 - aux_output_loss: -1.4033\n",
      "Epoch 34/50\n",
      "12/12 [==============================] - 0s 12ms/step - loss: -16.2007 - main_output_loss: -15.9245 - aux_output_loss: -1.3808\n",
      "Epoch 35/50\n",
      "12/12 [==============================] - 0s 12ms/step - loss: -17.6527 - main_output_loss: -17.3827 - aux_output_loss: -1.3501\n",
      "Epoch 36/50\n",
      "12/12 [==============================] - 0s 13ms/step - loss: -19.0507 - main_output_loss: -18.7790 - aux_output_loss: -1.3587\n",
      "Epoch 37/50\n",
      "12/12 [==============================] - 0s 13ms/step - loss: -20.8171 - main_output_loss: -20.5550 - aux_output_loss: -1.3103\n",
      "Epoch 38/50\n",
      "12/12 [==============================] - 0s 11ms/step - loss: -22.5253 - main_output_loss: -22.2653 - aux_output_loss: -1.2999\n",
      "Epoch 39/50\n",
      "12/12 [==============================] - 0s 13ms/step - loss: -24.1538 - main_output_loss: -23.8940 - aux_output_loss: -1.2992\n",
      "Epoch 40/50\n",
      "12/12 [==============================] - 0s 12ms/step - loss: -25.4993 - main_output_loss: -25.2158 - aux_output_loss: -1.4171\n",
      "Epoch 41/50\n",
      "12/12 [==============================] - 0s 18ms/step - loss: -27.7419 - main_output_loss: -27.4852 - aux_output_loss: -1.2835\n",
      "Epoch 42/50\n",
      "12/12 [==============================] - 0s 14ms/step - loss: -29.7909 - main_output_loss: -29.5307 - aux_output_loss: -1.3013\n",
      "Epoch 43/50\n",
      "12/12 [==============================] - 0s 12ms/step - loss: -31.8421 - main_output_loss: -31.5807 - aux_output_loss: -1.3073\n",
      "Epoch 44/50\n",
      "12/12 [==============================] - 0s 12ms/step - loss: -33.9501 - main_output_loss: -33.6857 - aux_output_loss: -1.3217\n",
      "Epoch 45/50\n",
      "12/12 [==============================] - 0s 12ms/step - loss: -36.0737 - main_output_loss: -35.8107 - aux_output_loss: -1.3151\n",
      "Epoch 46/50\n",
      "12/12 [==============================] - 0s 13ms/step - loss: -38.3633 - main_output_loss: -38.0954 - aux_output_loss: -1.3396\n",
      "Epoch 47/50\n",
      "12/12 [==============================] - 0s 13ms/step - loss: -40.5955 - main_output_loss: -40.3298 - aux_output_loss: -1.3286\n",
      "Epoch 48/50\n",
      "12/12 [==============================] - 0s 13ms/step - loss: -43.1954 - main_output_loss: -42.9232 - aux_output_loss: -1.3611\n",
      "Epoch 49/50\n",
      "12/12 [==============================] - 0s 14ms/step - loss: -45.5875 - main_output_loss: -45.3171 - aux_output_loss: -1.3523\n",
      "Epoch 50/50\n",
      "12/12 [==============================] - 0s 12ms/step - loss: -48.2596 - main_output_loss: -47.9836 - aux_output_loss: -1.3800\n"
     ]
    },
    {
     "data": {
      "text/plain": [
       "<keras.callbacks.callbacks.History at 0x2599b8a0518>"
      ]
     },
     "execution_count": 24,
     "metadata": {},
     "output_type": "execute_result"
    }
   ],
   "source": [
    "headline_data = np.round(np.abs(np.random.rand(12, 100) * 100))\n",
    "additional_data = np.random.randn(12, 5)\n",
    "headline_labels = np.random.randn(12, 1)\n",
    "additional_labels = np.random.randn(12, 1)\n",
    "model.fit([headline_data, additional_data], [headline_labels, additional_labels],\n",
    "          epochs=50, batch_size=32)"
   ]
  },
  {
   "cell_type": "code",
   "execution_count": 25,
   "metadata": {},
   "outputs": [
    {
     "name": "stderr",
     "output_type": "stream",
     "text": [
      "D:\\Users\\admin\\Anaconda3\\lib\\site-packages\\tensorflow_core\\python\\framework\\indexed_slices.py:424: UserWarning: Converting sparse IndexedSlices to a dense Tensor of unknown shape. This may consume a large amount of memory.\n",
      "  \"Converting sparse IndexedSlices to a dense Tensor of unknown shape. \"\n"
     ]
    },
    {
     "name": "stdout",
     "output_type": "stream",
     "text": [
      "Epoch 1/50\n",
      "12/12 [==============================] - 1s 69ms/step - loss: -50.7286 - main_output_loss: -50.4553 - aux_output_loss: -1.3668\n",
      "Epoch 2/50\n",
      "12/12 [==============================] - 0s 15ms/step - loss: -26.5212 - main_output_loss: -26.3061 - aux_output_loss: -1.0754\n",
      "Epoch 3/50\n",
      "12/12 [==============================] - 0s 14ms/step - loss: -58.7648 - main_output_loss: -58.4677 - aux_output_loss: -1.4857\n",
      "Epoch 4/50\n",
      "12/12 [==============================] - 0s 13ms/step - loss: -63.9369 - main_output_loss: -63.6380 - aux_output_loss: -1.4942\n",
      "Epoch 5/50\n",
      "12/12 [==============================] - 0s 12ms/step - loss: -68.5227 - main_output_loss: -68.2224 - aux_output_loss: -1.5017\n",
      "Epoch 6/50\n",
      "12/12 [==============================] - 0s 13ms/step - loss: -72.9355 - main_output_loss: -72.6337 - aux_output_loss: -1.5092\n",
      "Epoch 7/50\n",
      "12/12 [==============================] - 0s 15ms/step - loss: -77.2603 - main_output_loss: -76.9569 - aux_output_loss: -1.5168\n",
      "Epoch 8/50\n",
      "12/12 [==============================] - 0s 14ms/step - loss: -81.5654 - main_output_loss: -81.2608 - aux_output_loss: -1.5228\n",
      "Epoch 9/50\n",
      "12/12 [==============================] - 0s 14ms/step - loss: -85.8633 - main_output_loss: -85.5568 - aux_output_loss: -1.5327\n",
      "Epoch 10/50\n",
      "12/12 [==============================] - 0s 13ms/step - loss: -90.0532 - main_output_loss: -89.7463 - aux_output_loss: -1.5346\n",
      "Epoch 11/50\n",
      "12/12 [==============================] - 0s 12ms/step - loss: -94.5173 - main_output_loss: -94.2069 - aux_output_loss: -1.5518\n",
      "Epoch 12/50\n",
      "12/12 [==============================] - 0s 13ms/step - loss: -99.0701 - main_output_loss: -98.7596 - aux_output_loss: -1.5526\n",
      "Epoch 13/50\n",
      "12/12 [==============================] - 0s 12ms/step - loss: -103.4778 - main_output_loss: -103.1646 - aux_output_loss: -1.5658\n",
      "Epoch 14/50\n",
      "12/12 [==============================] - 0s 14ms/step - loss: -107.6461 - main_output_loss: -107.3333 - aux_output_loss: -1.5636\n",
      "Epoch 15/50\n",
      "12/12 [==============================] - 0s 15ms/step - loss: -112.6377 - main_output_loss: -112.3210 - aux_output_loss: -1.5832\n",
      "Epoch 16/50\n",
      "12/12 [==============================] - 0s 14ms/step - loss: -117.5010 - main_output_loss: -117.1838 - aux_output_loss: -1.5862\n",
      "Epoch 17/50\n",
      "12/12 [==============================] - 0s 12ms/step - loss: -122.3130 - main_output_loss: -121.9929 - aux_output_loss: -1.6007\n",
      "Epoch 18/50\n",
      "12/12 [==============================] - 0s 12ms/step - loss: -127.3957 - main_output_loss: -127.0759 - aux_output_loss: -1.5989\n",
      "Epoch 19/50\n",
      "12/12 [==============================] - 0s 13ms/step - loss: -132.1197 - main_output_loss: -131.7963 - aux_output_loss: -1.6169\n",
      "Epoch 20/50\n",
      "12/12 [==============================] - 0s 14ms/step - loss: -136.7975 - main_output_loss: -136.4755 - aux_output_loss: -1.6099\n",
      "Epoch 21/50\n",
      "12/12 [==============================] - 0s 13ms/step - loss: -142.4619 - main_output_loss: -142.1357 - aux_output_loss: -1.6311\n",
      "Epoch 22/50\n",
      "12/12 [==============================] - 0s 14ms/step - loss: -148.0397 - main_output_loss: -147.7128 - aux_output_loss: -1.6348\n",
      "Epoch 23/50\n",
      "12/12 [==============================] - 0s 14ms/step - loss: -153.4411 - main_output_loss: -153.1111 - aux_output_loss: -1.6500\n",
      "Epoch 24/50\n",
      "12/12 [==============================] - 0s 13ms/step - loss: -159.2014 - main_output_loss: -158.8716 - aux_output_loss: -1.6488\n",
      "Epoch 25/50\n",
      "12/12 [==============================] - 0s 12ms/step - loss: -164.6809 - main_output_loss: -164.3470 - aux_output_loss: -1.6696\n",
      "Epoch 26/50\n",
      "12/12 [==============================] - 0s 15ms/step - loss: -170.8650 - main_output_loss: -170.5338 - aux_output_loss: -1.6564\n",
      "Epoch 27/50\n",
      "12/12 [==============================] - 0s 12ms/step - loss: -176.5255 - main_output_loss: -176.1900 - aux_output_loss: -1.6775\n",
      "Epoch 28/50\n",
      "12/12 [==============================] - 0s 13ms/step - loss: -182.0442 - main_output_loss: -181.7091 - aux_output_loss: -1.6754\n",
      "Epoch 29/50\n",
      "12/12 [==============================] - 0s 12ms/step - loss: -188.7973 - main_output_loss: -188.4575 - aux_output_loss: -1.6991\n",
      "Epoch 30/50\n",
      "12/12 [==============================] - 0s 12ms/step - loss: -195.4268 - main_output_loss: -195.0868 - aux_output_loss: -1.6999\n",
      "Epoch 31/50\n",
      "12/12 [==============================] - 0s 18ms/step - loss: -201.5750 - main_output_loss: -201.2311 - aux_output_loss: -1.7195\n",
      "Epoch 32/50\n",
      "12/12 [==============================] - 0s 18ms/step - loss: -208.7650 - main_output_loss: -208.4227 - aux_output_loss: -1.7117\n",
      "Epoch 33/50\n",
      "12/12 [==============================] - 0s 18ms/step - loss: -215.5341 - main_output_loss: -215.1872 - aux_output_loss: -1.7345\n",
      "Epoch 34/50\n",
      "12/12 [==============================] - 0s 12ms/step - loss: -222.6768 - main_output_loss: -222.3301 - aux_output_loss: -1.7333\n",
      "Epoch 35/50\n",
      "12/12 [==============================] - 0s 12ms/step - loss: -229.0130 - main_output_loss: -228.6610 - aux_output_loss: -1.7598\n",
      "Epoch 36/50\n",
      "12/12 [==============================] - 0s 12ms/step - loss: -236.4875 - main_output_loss: -236.1417 - aux_output_loss: -1.7289\n",
      "Epoch 37/50\n",
      "12/12 [==============================] - 0s 14ms/step - loss: -243.2739 - main_output_loss: -242.9259 - aux_output_loss: -1.7399\n",
      "Epoch 38/50\n",
      "12/12 [==============================] - 0s 14ms/step - loss: -252.0663 - main_output_loss: -251.7150 - aux_output_loss: -1.7561\n",
      "Epoch 39/50\n",
      "12/12 [==============================] - 0s 12ms/step - loss: -259.6505 - main_output_loss: -259.2972 - aux_output_loss: -1.7666\n",
      "Epoch 40/50\n",
      "12/12 [==============================] - 0s 14ms/step - loss: -265.5199 - main_output_loss: -265.1611 - aux_output_loss: -1.7936\n",
      "Epoch 41/50\n",
      "12/12 [==============================] - 0s 14ms/step - loss: -273.7709 - main_output_loss: -273.4173 - aux_output_loss: -1.7679\n",
      "Epoch 42/50\n",
      "12/12 [==============================] - 0s 13ms/step - loss: -283.3223 - main_output_loss: -282.9644 - aux_output_loss: -1.7897\n",
      "Epoch 43/50\n",
      "12/12 [==============================] - 0s 13ms/step - loss: -291.7404 - main_output_loss: -291.3789 - aux_output_loss: -1.8073\n",
      "Epoch 44/50\n",
      "12/12 [==============================] - 0s 13ms/step - loss: -299.8470 - main_output_loss: -299.4833 - aux_output_loss: -1.8187\n",
      "Epoch 45/50\n",
      "12/12 [==============================] - 0s 12ms/step - loss: -309.2419 - main_output_loss: -308.8795 - aux_output_loss: -1.8117\n",
      "Epoch 46/50\n",
      "12/12 [==============================] - 0s 13ms/step - loss: -318.4197 - main_output_loss: -318.0536 - aux_output_loss: -1.8307\n",
      "Epoch 47/50\n",
      "12/12 [==============================] - 0s 14ms/step - loss: -327.5111 - main_output_loss: -327.1439 - aux_output_loss: -1.8360\n",
      "Epoch 48/50\n",
      "12/12 [==============================] - 0s 18ms/step - loss: -334.9269 - main_output_loss: -334.5559 - aux_output_loss: -1.8549\n",
      "Epoch 49/50\n",
      "12/12 [==============================] - 0s 15ms/step - loss: -343.5695 - main_output_loss: -343.2039 - aux_output_loss: -1.8278\n",
      "Epoch 50/50\n",
      "12/12 [==============================] - 0s 16ms/step - loss: -354.1241 - main_output_loss: -353.7544 - aux_output_loss: -1.8485\n"
     ]
    },
    {
     "data": {
      "text/plain": [
       "<keras.callbacks.callbacks.History at 0x2599f003da0>"
      ]
     },
     "execution_count": 25,
     "metadata": {},
     "output_type": "execute_result"
    }
   ],
   "source": [
    "model.compile(optimizer='rmsprop',\n",
    "              loss={'main_output': 'binary_crossentropy', 'aux_output': 'binary_crossentropy'},\n",
    "              loss_weights={'main_output': 1., 'aux_output': 0.2})\n",
    "\n",
    "# And trained it via:\n",
    "model.fit({'main_input': headline_data, 'aux_input': additional_data},\n",
    "          {'main_output': headline_labels, 'aux_output': additional_labels},\n",
    "          epochs=50, batch_size=32)"
   ]
  },
  {
   "cell_type": "code",
   "execution_count": 26,
   "metadata": {},
   "outputs": [
    {
     "data": {
      "text/plain": [
       "[array([[0.        ],\n",
       "        [0.        ],\n",
       "        [0.        ],\n",
       "        [0.        ],\n",
       "        [1.        ],\n",
       "        [0.        ],\n",
       "        [0.        ],\n",
       "        [1.        ],\n",
       "        [0.9873806 ],\n",
       "        [1.        ],\n",
       "        [0.        ],\n",
       "        [0.91516954]], dtype=float32), array([[2.1122950e-01],\n",
       "        [2.0857048e-01],\n",
       "        [2.1121827e-01],\n",
       "        [2.1104246e-01],\n",
       "        [6.4909458e-05],\n",
       "        [2.1020529e-01],\n",
       "        [2.1045095e-01],\n",
       "        [6.9260597e-05],\n",
       "        [5.1472175e-01],\n",
       "        [4.1470510e-05],\n",
       "        [2.1074668e-01],\n",
       "        [2.2585373e-04]], dtype=float32)]"
      ]
     },
     "execution_count": 26,
     "metadata": {},
     "output_type": "execute_result"
    }
   ],
   "source": [
    "model.predict({'main_input': headline_data, 'aux_input': additional_data})"
   ]
  },
  {
   "cell_type": "code",
   "execution_count": 27,
   "metadata": {},
   "outputs": [
    {
     "data": {
      "text/plain": [
       "array([[-0.54448985],\n",
       "       [-0.08031835],\n",
       "       [-0.05241323],\n",
       "       [-0.12646684],\n",
       "       [ 1.94676474],\n",
       "       [-0.10952832],\n",
       "       [-0.54610787],\n",
       "       [ 1.43825112],\n",
       "       [ 0.81886181],\n",
       "       [ 0.91960742],\n",
       "       [-0.97295709],\n",
       "       [ 0.35966068]])"
      ]
     },
     "execution_count": 27,
     "metadata": {},
     "output_type": "execute_result"
    }
   ],
   "source": [
    "headline_labels"
   ]
  },
  {
   "cell_type": "code",
   "execution_count": 28,
   "metadata": {},
   "outputs": [
    {
     "data": {
      "text/plain": [
       "array([[42., 58., 89., ..., 81.,  3., 39.],\n",
       "       [44., 51., 26., ...,  3., 64., 74.],\n",
       "       [67., 39., 86., ..., 96., 79., 58.],\n",
       "       ...,\n",
       "       [17., 92., 35., ..., 32., 64., 74.],\n",
       "       [58., 17., 99., ..., 52., 28., 27.],\n",
       "       [19., 37., 24., ..., 77., 23., 22.]])"
      ]
     },
     "execution_count": 28,
     "metadata": {},
     "output_type": "execute_result"
    }
   ],
   "source": [
    "headline_data"
   ]
  },
  {
   "cell_type": "code",
   "execution_count": 29,
   "metadata": {},
   "outputs": [],
   "source": [
    "from keras.layers import Conv2D, MaxPooling2D, Flatten\n",
    "from keras.layers import Input, LSTM, Embedding, Dense\n",
    "from keras.models import Model, Sequential\n",
    "\n",
    "# First, let's define a vision model using a Sequential model.\n",
    "# This model will encode an image into a vector.\n",
    "vision_model = Sequential()\n",
    "vision_model.add(Conv2D(64, (3, 3), activation='relu', padding='same', input_shape=(224, 224, 3)))\n",
    "vision_model.add(Conv2D(64, (3, 3), activation='relu'))\n",
    "vision_model.add(MaxPooling2D((2, 2)))\n",
    "vision_model.add(Conv2D(128, (3, 3), activation='relu', padding='same'))\n",
    "vision_model.add(Conv2D(128, (3, 3), activation='relu'))\n",
    "vision_model.add(MaxPooling2D((2, 2)))\n",
    "vision_model.add(Conv2D(256, (3, 3), activation='relu', padding='same'))\n",
    "vision_model.add(Conv2D(256, (3, 3), activation='relu'))\n",
    "vision_model.add(Conv2D(256, (3, 3), activation='relu'))\n",
    "vision_model.add(MaxPooling2D((2, 2)))\n",
    "vision_model.add(Flatten())\n",
    "\n",
    "# Now let's get a tensor with the output of our vision model:\n",
    "image_input = Input(shape=(224, 224, 3))\n",
    "encoded_image = vision_model(image_input)\n",
    "\n",
    "# Next, let's define a language model to encode the question into a vector.\n",
    "# Each question will be at most 100 words long,\n",
    "# and we will index words as integers from 1 to 9999.\n",
    "question_input = Input(shape=(100,), dtype='int32')\n",
    "embedded_question = Embedding(input_dim=10000, output_dim=256, input_length=100)(question_input)\n",
    "encoded_question = LSTM(256)(embedded_question)\n",
    "\n",
    "# Let's concatenate the question vector and the image vector:\n",
    "merged = keras.layers.concatenate([encoded_question, encoded_image])\n",
    "\n",
    "# And let's train a logistic regression over 1000 words on top:\n",
    "output = Dense(1000, activation='softmax')(merged)\n",
    "\n",
    "# This is our final model:\n",
    "vqa_model = Model(inputs=[image_input, question_input], outputs=output)\n",
    "\n",
    "# The next stage would be training this model on actual data."
   ]
  },
  {
   "cell_type": "code",
   "execution_count": 39,
   "metadata": {},
   "outputs": [
    {
     "data": {
      "text/plain": [
       "(10, 1)"
      ]
     },
     "execution_count": 39,
     "metadata": {},
     "output_type": "execute_result"
    }
   ],
   "source": [
    "np.reshape( np.array(range(1,11)) , (10,1)).shape"
   ]
  },
  {
   "cell_type": "code",
   "execution_count": 40,
   "metadata": {},
   "outputs": [],
   "source": [
    "from keras.layers import TimeDistributed\n",
    "\n",
    "video_input = Input(shape=(100, 224, 224, 3))\n",
    "# This is our video encoded via the previously trained vision_model (weights are reused)\n",
    "encoded_frame_sequence = TimeDistributed(vision_model)(video_input)  # the output will be a sequence of vectors\n",
    "encoded_video = LSTM(256)(encoded_frame_sequence)  # the output will be a vector\n",
    "\n",
    "# This is a model-level representation of the question encoder, reusing the same weights as before:\n",
    "question_encoder = Model(inputs=question_input, outputs=encoded_question)\n",
    "\n",
    "# Let's use it to encode the question:\n",
    "video_question_input = Input(shape=(100,), dtype='int32')\n",
    "encoded_video_question = question_encoder(video_question_input)\n",
    "\n",
    "# And this is our video question answering model:\n",
    "merged = keras.layers.concatenate([encoded_video, encoded_video_question])\n",
    "output = Dense(1000, activation='softmax')(merged)\n",
    "video_qa_model = Model(inputs=[video_input, video_question_input], outputs=output)"
   ]
  },
  {
   "cell_type": "code",
   "execution_count": 50,
   "metadata": {},
   "outputs": [
    {
     "data": {
      "text/plain": [
       "TensorShape([None, 256, 256, 3])"
      ]
     },
     "execution_count": 50,
     "metadata": {},
     "output_type": "execute_result"
    }
   ],
   "source": [
    "from keras.layers import Conv2D, Input\n",
    "\n",
    "# input tensor for a 3-channel 256x256 image\n",
    "x = Input(shape=(256, 256, 3))\n",
    "# 3x3 conv with 3 output channels (same as input channels)\n",
    "y = Conv2D(3, (3, 3), padding='same')(x)\n",
    "a = Conv2D(3, (3, 3), padding='same')(x)\n",
    "\n",
    "b = Conv2D(3, (3, 3), padding='same')(x)\n",
    "\n",
    "c = Conv2D(3, (3, 3), padding='same')(x)\n",
    "d = MaxPooling2D(3,3)\n",
    "# this returns x + y.\n",
    "z = keras.layers.add([x, y,a,b,c,d])\n",
    "z.shape"
   ]
  },
  {
   "cell_type": "code",
   "execution_count": 45,
   "metadata": {},
   "outputs": [
    {
     "data": {
      "text/plain": [
       "TensorShape([None, 256, 256, 3])"
      ]
     },
     "execution_count": 45,
     "metadata": {},
     "output_type": "execute_result"
    }
   ],
   "source": [
    "z.shape"
   ]
  },
  {
   "cell_type": "code",
   "execution_count": 68,
   "metadata": {},
   "outputs": [
    {
     "data": {
      "text/plain": [
       "TensorShape([None, 256, 256, 6])"
      ]
     },
     "execution_count": 68,
     "metadata": {},
     "output_type": "execute_result"
    }
   ],
   "source": [
    "from keras.layers import Conv2D, Input, concatenate\n",
    "\n",
    "# input tensor for a 3-channel 256x256 image\n",
    "x = Input(shape=(256, 256, 3))\n",
    "# 3x3 conv with 3 output channels (same as input channels)\n",
    "y = Conv2D(3, (3, 3), padding='same')(x)\n",
    "a = Conv2D(3, (3, 3), padding='same')(y)\n",
    "\n",
    "b = Conv2D(3, (3, 3), padding='same')(a)\n",
    "\n",
    "c = Conv2D(3, (3, 3), padding='same')(b)\n",
    "d = MaxPooling2D( (2,2))(c)\n",
    "o = Flatten()(x)\n",
    "# this returns x + y.\n",
    "#z = keras.layers.add([x, y,a,b,c,d])\n",
    "#z.shape\n",
    "e=concatenate([b,c ])\n",
    "e.shape\n"
   ]
  },
  {
   "cell_type": "code",
   "execution_count": 51,
   "metadata": {},
   "outputs": [],
   "source": [
    "from keras.layers import Conv2D, MaxPooling2D, Input, Dense, Flatten\n",
    "from keras.models import Model\n",
    "\n",
    "# First, define the vision modules\n",
    "digit_input = Input(shape=(27, 27, 1))\n",
    "x = Conv2D(64, (3, 3))(digit_input)\n",
    "x = Conv2D(64, (3, 3))(x)\n",
    "x = MaxPooling2D((2, 2))(x)\n",
    "out = Flatten()(x)\n",
    "\n",
    "vision_model = Model(digit_input, out)"
   ]
  },
  {
   "cell_type": "code",
   "execution_count": 78,
   "metadata": {},
   "outputs": [
    {
     "data": {
      "text/plain": [
       "array([[726, 328, 795, 853, 554, 665, 745, 720, 888, 932],\n",
       "       [ 33, 705, 267, 234, 394, 336, 257, 648, 651, 613],\n",
       "       [191, 255, 469, 371, 482, 357, 882, 221, 352, 213],\n",
       "       [856, 732, 196, 875, 862,  68, 580, 853, 795, 561],\n",
       "       [655, 950, 202, 156, 825, 512, 339, 425, 800, 263],\n",
       "       [418,  18, 223, 846, 950, 466, 622, 717, 707, 339],\n",
       "       [ 22, 240, 910, 864, 450, 621, 817,  99,  11, 216],\n",
       "       [ 24, 468, 356, 276, 615, 482, 952, 499, 443, 792],\n",
       "       [178, 985, 256, 767, 474, 896, 942, 332, 201, 477],\n",
       "       [ 48, 876, 204, 987, 171, 104, 183, 359, 114, 817],\n",
       "       [408, 569, 516,  26, 494,  42, 302, 131,  86, 600],\n",
       "       [242, 847, 977, 412, 700, 534, 754, 188, 374, 513],\n",
       "       [745, 306, 603, 660,  62, 407, 498, 166, 115, 756],\n",
       "       [907, 382, 255, 809,  72, 940,  11, 589, 208, 684],\n",
       "       [821,  85, 259, 816, 186, 683, 145, 985, 367, 912],\n",
       "       [204, 326, 273, 467,  12, 834, 841, 708, 765, 981],\n",
       "       [  7, 878, 273, 744, 553,  87,  69, 367, 140, 777],\n",
       "       [717, 933, 500, 813, 273, 926, 157, 490, 630, 557],\n",
       "       [118, 618, 192, 624, 137, 601, 706, 905, 574, 789],\n",
       "       [ 61,  14, 608, 927, 471, 438, 618, 140, 686, 202],\n",
       "       [929, 916, 527, 542, 206, 639, 417, 124, 544, 395],\n",
       "       [734, 702, 530, 337, 744, 364, 835, 770, 831, 120],\n",
       "       [409, 186, 336, 295, 727, 862, 394, 513, 224, 800],\n",
       "       [ 52,  69, 559, 725, 686, 625,  40, 549, 168, 389],\n",
       "       [430, 607, 172, 609, 413, 312, 159, 634, 146, 470],\n",
       "       [672, 807, 556, 786,  67, 857, 568, 245, 202, 689],\n",
       "       [929, 717, 636, 332, 611, 232, 233, 782, 571, 300],\n",
       "       [328, 855, 809, 713, 805, 952, 965, 468, 667, 484],\n",
       "       [987, 617, 272, 780, 508, 762, 354, 865, 334, 828],\n",
       "       [987,  33, 278, 346, 546, 558,  78, 765, 628, 366],\n",
       "       [642, 150, 908, 158, 482, 306, 517, 561, 165, 191],\n",
       "       [786, 786, 920, 991, 871, 918, 762, 851, 727,  39]])"
      ]
     },
     "execution_count": 78,
     "metadata": {},
     "output_type": "execute_result"
    }
   ],
   "source": [
    "np.random.randint(1000, size=(32, 10))"
   ]
  },
  {
   "cell_type": "code",
   "execution_count": 69,
   "metadata": {},
   "outputs": [
    {
     "name": "stdout",
     "output_type": "stream",
     "text": [
      "Loading data...\n",
      "Downloading data from https://s3.amazonaws.com/text-datasets/imdb.npz\n",
      "17465344/17464789 [==============================] - 58s 3us/step\n",
      "25000 train sequences\n",
      "25000 test sequences\n",
      "Pad sequences (samples x time)\n",
      "x_train shape: (25000, 400)\n",
      "x_test shape: (25000, 400)\n",
      "Build model...\n"
     ]
    },
    {
     "name": "stderr",
     "output_type": "stream",
     "text": [
      "D:\\Users\\admin\\Anaconda3\\lib\\site-packages\\tensorflow_core\\python\\framework\\indexed_slices.py:424: UserWarning: Converting sparse IndexedSlices to a dense Tensor of unknown shape. This may consume a large amount of memory.\n",
      "  \"Converting sparse IndexedSlices to a dense Tensor of unknown shape. \"\n"
     ]
    },
    {
     "name": "stdout",
     "output_type": "stream",
     "text": [
      "Train on 25000 samples, validate on 25000 samples\n",
      "Epoch 1/2\n",
      "25000/25000 [==============================] - 132s 5ms/step - loss: 0.4094 - accuracy: 0.7988 - val_loss: 0.2744 - val_accuracy: 0.8872\n",
      "Epoch 2/2\n",
      "25000/25000 [==============================] - 132s 5ms/step - loss: 0.2274 - accuracy: 0.9090 - val_loss: 0.2916 - val_accuracy: 0.8782\n"
     ]
    },
    {
     "data": {
      "text/plain": [
       "<keras.callbacks.callbacks.History at 0x259aa252320>"
      ]
     },
     "execution_count": 69,
     "metadata": {},
     "output_type": "execute_result"
    }
   ],
   "source": [
    "from __future__ import print_function\n",
    "\n",
    "from keras.preprocessing import sequence\n",
    "from keras.models import Sequential\n",
    "from keras.layers import Dense, Dropout, Activation\n",
    "from keras.layers import Embedding\n",
    "from keras.layers import Conv1D, GlobalMaxPooling1D\n",
    "from keras.datasets import imdb\n",
    "\n",
    "# set parameters:\n",
    "max_features = 5000\n",
    "maxlen = 400\n",
    "batch_size = 32\n",
    "embedding_dims = 50\n",
    "filters = 250\n",
    "kernel_size = 3\n",
    "hidden_dims = 250\n",
    "epochs = 2\n",
    "\n",
    "print('Loading data...')\n",
    "(x_train, y_train), (x_test, y_test) = imdb.load_data(num_words=max_features)\n",
    "print(len(x_train), 'train sequences')\n",
    "print(len(x_test), 'test sequences')\n",
    "\n",
    "print('Pad sequences (samples x time)')\n",
    "x_train = sequence.pad_sequences(x_train, maxlen=maxlen)\n",
    "x_test = sequence.pad_sequences(x_test, maxlen=maxlen)\n",
    "print('x_train shape:', x_train.shape)\n",
    "print('x_test shape:', x_test.shape)\n",
    "\n",
    "print('Build model...')\n",
    "model = Sequential()\n",
    "\n",
    "# we start off with an efficient embedding layer which maps\n",
    "# our vocab indices into embedding_dims dimensions\n",
    "model.add(Embedding(max_features,\n",
    "                    embedding_dims,\n",
    "                    input_length=maxlen))\n",
    "model.add(Dropout(0.2))\n",
    "\n",
    "# we add a Convolution1D, which will learn filters\n",
    "# word group filters of size filter_length:\n",
    "model.add(Conv1D(filters,\n",
    "                 kernel_size,\n",
    "                 padding='valid',\n",
    "                 activation='relu',\n",
    "                 strides=1))\n",
    "# we use max pooling:\n",
    "model.add(GlobalMaxPooling1D())\n",
    "\n",
    "# We add a vanilla hidden layer:\n",
    "model.add(Dense(hidden_dims))\n",
    "model.add(Dropout(0.2))\n",
    "model.add(Activation('relu'))\n",
    "\n",
    "# We project onto a single unit output layer, and squash it with a sigmoid:\n",
    "model.add(Dense(1))\n",
    "model.add(Activation('sigmoid'))\n",
    "\n",
    "model.compile(loss='binary_crossentropy',\n",
    "              optimizer='adam',\n",
    "              metrics=['accuracy'])\n",
    "model.fit(x_train, y_train,\n",
    "          batch_size=batch_size,\n",
    "          epochs=epochs,\n",
    "          validation_data=(x_test, y_test))"
   ]
  },
  {
   "cell_type": "code",
   "execution_count": 77,
   "metadata": {},
   "outputs": [
    {
     "name": "stdout",
     "output_type": "stream",
     "text": [
      "Model: \"sequential_2\"\n",
      "_________________________________________________________________\n",
      "Layer (type)                 Output Shape              Param #   \n",
      "=================================================================\n",
      "embedding_3 (Embedding)      (None, 400, 50)           250000    \n",
      "_________________________________________________________________\n",
      "dropout_1 (Dropout)          (None, 400, 50)           0         \n",
      "_________________________________________________________________\n",
      "conv1d_1 (Conv1D)            (None, 398, 250)          37750     \n",
      "_________________________________________________________________\n",
      "global_max_pooling1d_1 (Glob (None, 250)               0         \n",
      "_________________________________________________________________\n",
      "dense_9 (Dense)              (None, 250)               62750     \n",
      "_________________________________________________________________\n",
      "dropout_2 (Dropout)          (None, 250)               0         \n",
      "_________________________________________________________________\n",
      "activation_1 (Activation)    (None, 250)               0         \n",
      "_________________________________________________________________\n",
      "dense_10 (Dense)             (None, 1)                 251       \n",
      "_________________________________________________________________\n",
      "activation_2 (Activation)    (None, 1)                 0         \n",
      "=================================================================\n",
      "Total params: 350,751\n",
      "Trainable params: 350,751\n",
      "Non-trainable params: 0\n",
      "_________________________________________________________________\n"
     ]
    }
   ],
   "source": [
    "model.summary()"
   ]
  },
  {
   "cell_type": "code",
   "execution_count": 97,
   "metadata": {
    "scrolled": true
   },
   "outputs": [
    {
     "data": {
      "text/plain": [
       "[array([[-0.02446714, -0.0102464 ,  0.00087451, ..., -0.03498612,\n",
       "          0.04695629,  0.01500857],\n",
       "        [ 0.02592978,  0.01819322,  0.0060765 , ..., -0.00718495,\n",
       "         -0.02257233,  0.01467453],\n",
       "        [ 0.05838313, -0.02540193,  0.01102018, ..., -0.04743594,\n",
       "          0.02852741,  0.04064358],\n",
       "        ...,\n",
       "        [ 0.07549874, -0.00537043,  0.05258816, ...,  0.05714391,\n",
       "          0.09146778,  0.03262056],\n",
       "        [-0.06946832,  0.05506728,  0.03715225, ..., -0.02967135,\n",
       "          0.06631864,  0.02940891],\n",
       "        [ 0.02924186, -0.12718002,  0.00788729, ...,  0.11356588,\n",
       "         -0.04087975,  0.16185975]], dtype=float32),\n",
       " array([[[ 0.04157612, -0.06043658, -0.07399181, ..., -0.06970128,\n",
       "          -0.01761238, -0.10549241],\n",
       "         [-0.06515935,  0.03599951, -0.00608295, ..., -0.11644852,\n",
       "          -0.01796839,  0.03170144],\n",
       "         [ 0.02805286, -0.01865811, -0.06859896, ...,  0.12963185,\n",
       "          -0.03215068, -0.08604534],\n",
       "         ...,\n",
       "         [ 0.06076957, -0.02068131, -0.01545079, ..., -0.02246246,\n",
       "          -0.04040327,  0.06443943],\n",
       "         [ 0.09978962, -0.13263471,  0.08434935, ...,  0.04136562,\n",
       "          -0.00613088, -0.01902838],\n",
       "         [-0.012738  ,  0.01035131, -0.07825334, ...,  0.02687637,\n",
       "           0.07708004,  0.0143996 ]],\n",
       " \n",
       "        [[ 0.10362405,  0.0107542 ,  0.07271741, ..., -0.03650446,\n",
       "           0.02077924, -0.06850651],\n",
       "         [-0.05301079, -0.01467023,  0.05385279, ...,  0.04815492,\n",
       "          -0.00685023,  0.03603688],\n",
       "         [ 0.0802425 ,  0.05594997,  0.04440344, ...,  0.0029705 ,\n",
       "           0.02825745, -0.03969832],\n",
       "         ...,\n",
       "         [-0.02865629,  0.11773343, -0.08752508, ...,  0.01812773,\n",
       "           0.09675336, -0.17111109],\n",
       "         [ 0.03504947,  0.05551694, -0.08721038, ...,  0.00681702,\n",
       "           0.04387179, -0.0281278 ],\n",
       "         [-0.06191093,  0.05717531, -0.07297042, ..., -0.04155594,\n",
       "           0.03156343,  0.10823385]],\n",
       " \n",
       "        [[ 0.08503615, -0.01639575,  0.05561744, ..., -0.14213906,\n",
       "          -0.04080991, -0.04202122],\n",
       "         [ 0.13594262,  0.00193709, -0.07637076, ..., -0.03206456,\n",
       "          -0.03158125,  0.01564185],\n",
       "         [ 0.14515994,  0.02983407, -0.00551144, ...,  0.06675576,\n",
       "          -0.06341521, -0.10860306],\n",
       "         ...,\n",
       "         [-0.01407574,  0.05766708, -0.09257821, ..., -0.03703338,\n",
       "           0.01311786,  0.16881058],\n",
       "         [-0.04125959,  0.08197584,  0.08918312, ...,  0.00733123,\n",
       "          -0.04945515, -0.09468351],\n",
       "         [-0.03718341, -0.03303494, -0.0811967 , ...,  0.08297103,\n",
       "          -0.0049246 ,  0.04723135]]], dtype=float32),\n",
       " array([-0.06330188, -0.0748873 , -0.0460724 , -0.01955917, -0.03269076,\n",
       "        -0.02536828, -0.03229431, -0.02386979, -0.03090728, -0.0234435 ,\n",
       "        -0.05354885, -0.00979161, -0.05165411, -0.02641154, -0.06948636,\n",
       "        -0.03899567, -0.04443336, -0.02312837, -0.03102489, -0.0210467 ,\n",
       "        -0.04475363, -0.04244903, -0.04471504, -0.05580196, -0.02614564,\n",
       "        -0.03507251, -0.03558796, -0.05322029, -0.09014256, -0.02632847,\n",
       "        -0.00108712, -0.04202097, -0.03942841, -0.03597821, -0.00857582,\n",
       "        -0.01452614, -0.0435441 , -0.03182652, -0.06409485, -0.02245586,\n",
       "        -0.01940493, -0.03610561, -0.03786037, -0.04755892, -0.02980316,\n",
       "        -0.02643429, -0.02181682, -0.04961794, -0.02125168, -0.01110569,\n",
       "        -0.06075298, -0.04636899, -0.02815871, -0.01546947, -0.02742043,\n",
       "        -0.01283597, -0.06095079, -0.03810998, -0.03203878, -0.01129003,\n",
       "        -0.06391308, -0.03605518, -0.01855608, -0.06216677, -0.0177454 ,\n",
       "        -0.01066654, -0.03819202, -0.02566885, -0.03621576, -0.0269295 ,\n",
       "        -0.02530791, -0.04296696, -0.05611365, -0.05163273, -0.04810567,\n",
       "        -0.05412118, -0.02352255, -0.04909841, -0.04426135, -0.0466614 ,\n",
       "        -0.02148229, -0.07615852, -0.02405612, -0.03917537, -0.00975162,\n",
       "        -0.05919331, -0.0217718 , -0.03283538, -0.00173832, -0.01780284,\n",
       "        -0.03858729, -0.01930088, -0.03955929, -0.04594476, -0.04631487,\n",
       "        -0.04711701, -0.0470516 , -0.02344357, -0.02234298, -0.02775437,\n",
       "        -0.02286915, -0.05047118, -0.01920572, -0.01993687, -0.00896965,\n",
       "        -0.05698933, -0.02828636, -0.08555131, -0.01661129, -0.01665702,\n",
       "        -0.06900676, -0.03530694, -0.01937479, -0.06235662, -0.03315198,\n",
       "        -0.01847843, -0.07412607, -0.02793561, -0.03089773, -0.03471992,\n",
       "        -0.02592311, -0.04644997, -0.0507027 , -0.01978052, -0.03937885,\n",
       "        -0.03693301, -0.0311725 , -0.04491201, -0.01669798, -0.04220962,\n",
       "        -0.03279369, -0.02833536, -0.02628157, -0.01029118, -0.09050336,\n",
       "        -0.0267901 , -0.01780768, -0.02327748, -0.00821741, -0.03230534,\n",
       "        -0.01229714, -0.013309  , -0.04882673, -0.02126111, -0.02688708,\n",
       "        -0.06494046, -0.02500991, -0.03912215, -0.02615801, -0.05207259,\n",
       "        -0.0368043 , -0.01996623, -0.03488247, -0.00908593, -0.04528991,\n",
       "        -0.04136364, -0.01439667, -0.05252558, -0.10292468, -0.02740744,\n",
       "        -0.0744646 , -0.01905574, -0.02104524, -0.0317205 , -0.03770404,\n",
       "        -0.03242289, -0.01052803, -0.0473486 , -0.0259483 , -0.08845219,\n",
       "        -0.02964877, -0.03006007, -0.06066198, -0.039596  , -0.0136631 ,\n",
       "        -0.03389687, -0.00952879, -0.03095924, -0.06686918, -0.01360415,\n",
       "        -0.03094694, -0.05965238, -0.05304566, -0.01812237, -0.0622298 ,\n",
       "        -0.01975051, -0.0284343 , -0.02324246, -0.02517672, -0.01813617,\n",
       "        -0.03861363, -0.04088532, -0.04964897, -0.01324542, -0.02225261,\n",
       "        -0.02132766, -0.0269194 , -0.05584845, -0.03432669, -0.03595275,\n",
       "        -0.01984956, -0.04070521, -0.0523159 , -0.02361404, -0.02742383,\n",
       "        -0.00796271, -0.06202419, -0.03014659, -0.08217531, -0.01757589,\n",
       "        -0.02429068, -0.03236382, -0.01896277, -0.03138038, -0.04282721,\n",
       "        -0.04413987, -0.0398444 , -0.04004106, -0.03689998, -0.02599257,\n",
       "        -0.03028217, -0.02070013, -0.02189346, -0.02656399, -0.03369397,\n",
       "        -0.03961066, -0.02755979, -0.02388174, -0.04512921, -0.02575592,\n",
       "        -0.05524068, -0.03855068, -0.03383297, -0.03253116, -0.03230606,\n",
       "        -0.01887767, -0.0267705 , -0.05033862, -0.03648491, -0.00871985,\n",
       "        -0.03073246, -0.02711754, -0.01967178, -0.08172666, -0.04270754,\n",
       "        -0.04034887, -0.01964369, -0.0059434 , -0.08421636, -0.02202672],\n",
       "       dtype=float32),\n",
       " array([[ 0.04817698, -0.09305201,  0.00936895, ..., -0.09164281,\n",
       "         -0.0571385 , -0.02552499],\n",
       "        [-0.04040597, -0.05834557, -0.10644139, ..., -0.05988842,\n",
       "          0.08197442,  0.06831449],\n",
       "        [-0.10122623,  0.02986126,  0.09129722, ...,  0.00537797,\n",
       "         -0.09797842, -0.00516148],\n",
       "        ...,\n",
       "        [-0.04895471,  0.0653489 , -0.0893208 , ...,  0.05636309,\n",
       "          0.04464105,  0.07589632],\n",
       "        [-0.07804362, -0.03062104, -0.04286826, ..., -0.1050964 ,\n",
       "          0.01841887,  0.02064367],\n",
       "        [-0.03094393,  0.10045253,  0.05898443, ...,  0.02334533,\n",
       "          0.0898724 , -0.03565673]], dtype=float32),\n",
       " array([-0.01474027, -0.00349675, -0.00831968, -0.01690255, -0.00366712,\n",
       "         0.00349893, -0.00897777, -0.00580907, -0.00710054,  0.00963775,\n",
       "        -0.01757892, -0.00673916, -0.01640533, -0.00876119, -0.00413932,\n",
       "         0.        , -0.005946  , -0.02486325, -0.00837376,  0.0103361 ,\n",
       "        -0.01036749, -0.00974676,  0.00766171,  0.00293176, -0.00998124,\n",
       "         0.01172245,  0.01050283, -0.01042275,  0.        , -0.00804083,\n",
       "        -0.01074523, -0.01244861,  0.00855215, -0.00919054,  0.00127014,\n",
       "        -0.00782793, -0.00530661, -0.01168907, -0.00570455,  0.00881048,\n",
       "         0.00464018, -0.00726829,  0.        , -0.01819114, -0.01217953,\n",
       "        -0.00067437, -0.01290142, -0.01300674, -0.00948692, -0.00646362,\n",
       "         0.00744155, -0.00860679, -0.00893139, -0.00921889, -0.00707205,\n",
       "         0.00181265,  0.00192865, -0.0091484 ,  0.0034853 , -0.00900734,\n",
       "        -0.01288286, -0.00158547, -0.00807844, -0.00611491, -0.0109075 ,\n",
       "        -0.00897344, -0.00585857, -0.01014023, -0.00653023, -0.0128641 ,\n",
       "        -0.01090838,  0.01081516, -0.02465189, -0.00321757, -0.00672622,\n",
       "        -0.00821343,  0.00027705, -0.00929694,  0.00938796, -0.00544066,\n",
       "         0.01694075,  0.0152232 , -0.00734277, -0.01019645, -0.00691224,\n",
       "         0.00102316, -0.0106116 , -0.00957986, -0.01064118,  0.00572546,\n",
       "        -0.01430521, -0.00940796, -0.01666913,  0.00697755, -0.00649369,\n",
       "         0.00510927,  0.00828406, -0.00895078, -0.00973612,  0.        ,\n",
       "         0.00771048, -0.01038355, -0.01556036, -0.00554173,  0.01884586,\n",
       "         0.        , -0.0101153 , -0.00778828, -0.00182381, -0.01513275,\n",
       "        -0.00921609,  0.01435191, -0.01228435, -0.01184095,  0.00542977,\n",
       "        -0.00866575,  0.01253743, -0.00795659, -0.01806776, -0.00963434,\n",
       "        -0.01019407, -0.00672207, -0.00890936,  0.        ,  0.01151828,\n",
       "        -0.00538605, -0.00903878,  0.00569649, -0.00601344, -0.00316212,\n",
       "         0.        ,  0.01843856, -0.00811713, -0.01010957,  0.00091703,\n",
       "        -0.01114855,  0.        , -0.00448884,  0.        , -0.00846327,\n",
       "         0.00438881, -0.00503648, -0.01467654,  0.02172564, -0.01733988,\n",
       "        -0.00743732, -0.01064914, -0.01177342, -0.00430645,  0.00515608,\n",
       "        -0.00928341, -0.00872783, -0.00147612, -0.01484015, -0.00910227,\n",
       "        -0.00621524, -0.01464927, -0.00413428, -0.00683798,  0.        ,\n",
       "        -0.00591435, -0.00665541, -0.00561802, -0.00040882, -0.00920392,\n",
       "        -0.00439317, -0.00799299, -0.00897948, -0.00187267, -0.00688962,\n",
       "        -0.01462333, -0.00260714, -0.00407137,  0.        , -0.01175128,\n",
       "         0.00106466, -0.00304266, -0.00684871,  0.00811472, -0.00954437,\n",
       "        -0.00535485, -0.00846146, -0.00405757, -0.01251576,  0.00824401,\n",
       "        -0.01152726,  0.00213577,  0.00236277, -0.0138664 , -0.0125677 ,\n",
       "        -0.01213789, -0.01156107, -0.01601555,  0.00054202, -0.01057484,\n",
       "        -0.00571297, -0.00793281, -0.01094422, -0.00293213, -0.00419952,\n",
       "        -0.00639919,  0.00208796, -0.0002363 , -0.00648128, -0.00623235,\n",
       "        -0.00702855, -0.00772286, -0.01344922,  0.01170323,  0.        ,\n",
       "        -0.01428435,  0.00408924, -0.00846471, -0.01744342, -0.00740644,\n",
       "         0.00819823, -0.02890516, -0.00884882, -0.00828889,  0.00448412,\n",
       "         0.00410918, -0.01219747, -0.00842361,  0.0030588 , -0.00824509,\n",
       "        -0.00804508,  0.00098193,  0.00678269, -0.0044072 ,  0.00690244,\n",
       "         0.01734178, -0.00920131, -0.00999152, -0.002449  , -0.00860189,\n",
       "        -0.00616127, -0.01180675,  0.00412136, -0.00683117,  0.01159476,\n",
       "        -0.01055612, -0.00636629,  0.00840098, -0.00473928, -0.00604742,\n",
       "         0.00443067,  0.01039143, -0.00830323, -0.00994924, -0.01042363],\n",
       "       dtype=float32),\n",
       " array([[ 0.07432022],\n",
       "        [-0.09941271],\n",
       "        [ 0.13049567],\n",
       "        [ 0.12449375],\n",
       "        [-0.10601657],\n",
       "        [ 0.17506789],\n",
       "        [ 0.03935419],\n",
       "        [-0.08680051],\n",
       "        [ 0.03563787],\n",
       "        [ 0.14775605],\n",
       "        [-0.01429325],\n",
       "        [-0.02729904],\n",
       "        [-0.08826717],\n",
       "        [ 0.11948238],\n",
       "        [ 0.06876054],\n",
       "        [-0.09565725],\n",
       "        [ 0.00470768],\n",
       "        [-0.10578253],\n",
       "        [ 0.1559435 ],\n",
       "        [ 0.15725681],\n",
       "        [ 0.05903902],\n",
       "        [-0.10733914],\n",
       "        [ 0.06964787],\n",
       "        [ 0.16718172],\n",
       "        [ 0.00838807],\n",
       "        [-0.05651167],\n",
       "        [ 0.08275302],\n",
       "        [-0.13183804],\n",
       "        [ 0.0532967 ],\n",
       "        [-0.0025611 ],\n",
       "        [ 0.13409357],\n",
       "        [ 0.13474947],\n",
       "        [-0.14289822],\n",
       "        [-0.11097898],\n",
       "        [-0.17898811],\n",
       "        [ 0.12747717],\n",
       "        [-0.00573655],\n",
       "        [-0.14101271],\n",
       "        [ 0.07643992],\n",
       "        [-0.2197383 ],\n",
       "        [-0.14571843],\n",
       "        [ 0.06143889],\n",
       "        [-0.00574985],\n",
       "        [ 0.05285973],\n",
       "        [-0.07846925],\n",
       "        [-0.10869907],\n",
       "        [-0.02442348],\n",
       "        [-0.00973309],\n",
       "        [-0.14253215],\n",
       "        [ 0.02839688],\n",
       "        [-0.16815452],\n",
       "        [ 0.04929386],\n",
       "        [-0.13486122],\n",
       "        [-0.03548893],\n",
       "        [-0.13991158],\n",
       "        [ 0.097563  ],\n",
       "        [-0.15086332],\n",
       "        [-0.02056232],\n",
       "        [-0.1763819 ],\n",
       "        [ 0.06481849],\n",
       "        [-0.10899926],\n",
       "        [ 0.11898665],\n",
       "        [-0.08643462],\n",
       "        [-0.10441627],\n",
       "        [-0.06723936],\n",
       "        [ 0.1348995 ],\n",
       "        [-0.00860145],\n",
       "        [-0.0574575 ],\n",
       "        [ 0.00539163],\n",
       "        [ 0.00311895],\n",
       "        [-0.12228012],\n",
       "        [-0.21569104],\n",
       "        [ 0.05388815],\n",
       "        [ 0.20673847],\n",
       "        [-0.00198287],\n",
       "        [-0.02391765],\n",
       "        [-0.18560173],\n",
       "        [-0.08600454],\n",
       "        [-0.22045752],\n",
       "        [ 0.22473606],\n",
       "        [-0.09012624],\n",
       "        [-0.22163384],\n",
       "        [-0.03369708],\n",
       "        [-0.01616212],\n",
       "        [-0.06438482],\n",
       "        [-0.17893487],\n",
       "        [-0.00345923],\n",
       "        [ 0.11901221],\n",
       "        [-0.04622403],\n",
       "        [-0.16250375],\n",
       "        [-0.02791699],\n",
       "        [-0.04122605],\n",
       "        [-0.03698238],\n",
       "        [ 0.15269244],\n",
       "        [ 0.05450955],\n",
       "        [-0.13399501],\n",
       "        [-0.10517766],\n",
       "        [-0.11290924],\n",
       "        [-0.00055355],\n",
       "        [-0.03790998],\n",
       "        [-0.10488801],\n",
       "        [-0.02045915],\n",
       "        [ 0.0086757 ],\n",
       "        [-0.04625194],\n",
       "        [-0.16389996],\n",
       "        [-0.07145061],\n",
       "        [-0.00115857],\n",
       "        [-0.10175548],\n",
       "        [-0.16367526],\n",
       "        [ 0.0102535 ],\n",
       "        [-0.10529544],\n",
       "        [ 0.12599118],\n",
       "        [-0.01009203],\n",
       "        [ 0.04900391],\n",
       "        [ 0.20462708],\n",
       "        [-0.06839352],\n",
       "        [-0.1408761 ],\n",
       "        [-0.11131224],\n",
       "        [-0.07947098],\n",
       "        [ 0.07317956],\n",
       "        [-0.12751283],\n",
       "        [-0.09738699],\n",
       "        [-0.06740148],\n",
       "        [ 0.15327796],\n",
       "        [ 0.19418095],\n",
       "        [-0.06721584],\n",
       "        [ 0.01307424],\n",
       "        [ 0.05860968],\n",
       "        [-0.00094678],\n",
       "        [ 0.15855342],\n",
       "        [-0.02656582],\n",
       "        [-0.20416921],\n",
       "        [ 0.05670706],\n",
       "        [-0.09207913],\n",
       "        [-0.2337231 ],\n",
       "        [-0.05950658],\n",
       "        [ 0.1301105 ],\n",
       "        [-0.0755898 ],\n",
       "        [-0.11666527],\n",
       "        [ 0.00205022],\n",
       "        [ 0.1454397 ],\n",
       "        [-0.2116347 ],\n",
       "        [-0.00200954],\n",
       "        [-0.12036075],\n",
       "        [-0.05900387],\n",
       "        [ 0.09677644],\n",
       "        [-0.04251165],\n",
       "        [ 0.06749894],\n",
       "        [ 0.15554844],\n",
       "        [-0.14726588],\n",
       "        [ 0.06110374],\n",
       "        [-0.14363314],\n",
       "        [ 0.09410164],\n",
       "        [ 0.06704945],\n",
       "        [ 0.03419059],\n",
       "        [ 0.07554555],\n",
       "        [-0.10228364],\n",
       "        [ 0.16657622],\n",
       "        [ 0.16380437],\n",
       "        [ 0.13615382],\n",
       "        [ 0.10764312],\n",
       "        [-0.03600429],\n",
       "        [ 0.03678243],\n",
       "        [ 0.12299393],\n",
       "        [-0.04080703],\n",
       "        [ 0.21389571],\n",
       "        [-0.12072843],\n",
       "        [-0.14258085],\n",
       "        [ 0.18216363],\n",
       "        [-0.08646294],\n",
       "        [ 0.16320643],\n",
       "        [-0.13460875],\n",
       "        [-0.12298663],\n",
       "        [ 0.02140415],\n",
       "        [-0.0772968 ],\n",
       "        [ 0.15528229],\n",
       "        [ 0.06459357],\n",
       "        [ 0.00088124],\n",
       "        [ 0.08122181],\n",
       "        [-0.02488908],\n",
       "        [ 0.13810115],\n",
       "        [ 0.07282937],\n",
       "        [ 0.03305265],\n",
       "        [ 0.0614196 ],\n",
       "        [ 0.15940847],\n",
       "        [-0.02569748],\n",
       "        [-0.17013344],\n",
       "        [ 0.07767811],\n",
       "        [-0.02115513],\n",
       "        [ 0.1551731 ],\n",
       "        [-0.06206197],\n",
       "        [ 0.08185463],\n",
       "        [-0.0897513 ],\n",
       "        [-0.21337774],\n",
       "        [-0.01050672],\n",
       "        [-0.00024759],\n",
       "        [ 0.05268041],\n",
       "        [ 0.08119833],\n",
       "        [ 0.20160918],\n",
       "        [ 0.13948266],\n",
       "        [ 0.06262344],\n",
       "        [ 0.15161894],\n",
       "        [ 0.09507248],\n",
       "        [-0.03474693],\n",
       "        [-0.11373249],\n",
       "        [-0.01368518],\n",
       "        [-0.00375248],\n",
       "        [ 0.01091306],\n",
       "        [-0.15189227],\n",
       "        [ 0.01237004],\n",
       "        [-0.09575997],\n",
       "        [ 0.20578721],\n",
       "        [ 0.0304716 ],\n",
       "        [ 0.01592486],\n",
       "        [ 0.01231252],\n",
       "        [ 0.2142705 ],\n",
       "        [-0.00525139],\n",
       "        [ 0.02659034],\n",
       "        [ 0.11040564],\n",
       "        [-0.07702742],\n",
       "        [ 0.1260325 ],\n",
       "        [ 0.13309154],\n",
       "        [ 0.00467947],\n",
       "        [-0.2418015 ],\n",
       "        [ 0.02354447],\n",
       "        [-0.06519212],\n",
       "        [ 0.23603354],\n",
       "        [ 0.20511092],\n",
       "        [-0.20155682],\n",
       "        [ 0.23107697],\n",
       "        [-0.07510275],\n",
       "        [ 0.12206583],\n",
       "        [ 0.08625659],\n",
       "        [ 0.09362709],\n",
       "        [-0.05358931],\n",
       "        [-0.05144104],\n",
       "        [-0.12398636],\n",
       "        [-0.21431787],\n",
       "        [-0.07381275],\n",
       "        [-0.19231695],\n",
       "        [ 0.04333125],\n",
       "        [-0.02765271],\n",
       "        [ 0.14340508],\n",
       "        [-0.04142579],\n",
       "        [-0.05559691],\n",
       "        [ 0.20720257],\n",
       "        [-0.1807217 ],\n",
       "        [-0.11154536],\n",
       "        [ 0.10809891],\n",
       "        [-0.03539025]], dtype=float32),\n",
       " array([-0.00103829], dtype=float32)]"
      ]
     },
     "execution_count": 97,
     "metadata": {},
     "output_type": "execute_result"
    }
   ],
   "source": [
    "model.get_weights()"
   ]
  },
  {
   "cell_type": "code",
   "execution_count": 98,
   "metadata": {},
   "outputs": [],
   "source": [
    "conf = model.get_config()"
   ]
  },
  {
   "cell_type": "code",
   "execution_count": 99,
   "metadata": {},
   "outputs": [],
   "source": [
    "model2= Sequential.from_config(conf)"
   ]
  },
  {
   "cell_type": "code",
   "execution_count": 101,
   "metadata": {},
   "outputs": [
    {
     "data": {
      "text/plain": [
       "True"
      ]
     },
     "execution_count": 101,
     "metadata": {},
     "output_type": "execute_result"
    }
   ],
   "source": [
    "model2.get_config()==model.get_config()"
   ]
  },
  {
   "cell_type": "code",
   "execution_count": 109,
   "metadata": {},
   "outputs": [
    {
     "data": {
      "text/plain": [
       "False"
      ]
     },
     "execution_count": 109,
     "metadata": {},
     "output_type": "execute_result"
    }
   ],
   "source": [
    "from keras.models import model_from_json\n",
    "json_string = model.to_json()\n",
    "model3 = model_from_json(json_string)\n",
    "model3.g"
   ]
  },
  {
   "cell_type": "code",
   "execution_count": 63,
   "metadata": {},
   "outputs": [],
   "source": [
    "from keras.preprocessing import sequence\n",
    "from keras.models import Sequential\n",
    "from keras.layers import Dense, Dropout, Activation, Bidirectional\n",
    "from keras.layers import Embedding\n",
    "from keras.layers import Conv2D, GlobalMaxPooling1D\n",
    "from keras.datasets import imdb\n",
    "from keras.layers import TimeDistributed\n",
    "\n",
    "model = Sequential()\n",
    "ad= Dense(8)\n",
    "input_dim = (10, 16)\n",
    "input_dim = (10, 299, 299, 3)\n",
    "cd = Conv2D(64, (3, 3))\n",
    "\n",
    "td = TimeDistributed(cd, input_shape=input_dim)\n",
    "\n",
    "model.add(td)\n",
    "\n"
   ]
  },
  {
   "cell_type": "code",
   "execution_count": 19,
   "metadata": {},
   "outputs": [
    {
     "data": {
      "text/plain": [
       "<keras.layers.wrappers.TimeDistributed at 0x1b6458fb898>"
      ]
     },
     "execution_count": 19,
     "metadata": {},
     "output_type": "execute_result"
    }
   ],
   "source": [
    "td"
   ]
  },
  {
   "cell_type": "code",
   "execution_count": 20,
   "metadata": {},
   "outputs": [
    {
     "name": "stdout",
     "output_type": "stream",
     "text": [
      "Model: \"sequential_12\"\n",
      "_________________________________________________________________\n",
      "Layer (type)                 Output Shape              Param #   \n",
      "=================================================================\n",
      "time_distributed_11 (TimeDis (None, 10, 297, 297, 64)  1792      \n",
      "=================================================================\n",
      "Total params: 1,792\n",
      "Trainable params: 1,792\n",
      "Non-trainable params: 0\n",
      "_________________________________________________________________\n"
     ]
    }
   ],
   "source": [
    "model.summary()"
   ]
  },
  {
   "cell_type": "code",
   "execution_count": 37,
   "metadata": {},
   "outputs": [
    {
     "data": {
      "text/plain": [
       "896"
      ]
     },
     "execution_count": 37,
     "metadata": {},
     "output_type": "execute_result"
    }
   ],
   "source": [
    "32*14*2\n",
    "\n",
    "32*9*3+32"
   ]
  },
  {
   "cell_type": "code",
   "execution_count": 35,
   "metadata": {},
   "outputs": [
    {
     "name": "stdout",
     "output_type": "stream",
     "text": [
      "Model: \"sequential_22\"\n",
      "_________________________________________________________________\n",
      "Layer (type)                 Output Shape              Param #   \n",
      "=================================================================\n",
      "conv2d_14 (Conv2D)           (None, 10, 16, 32)        896       \n",
      "=================================================================\n",
      "Total params: 896\n",
      "Trainable params: 896\n",
      "Non-trainable params: 0\n",
      "_________________________________________________________________\n"
     ]
    }
   ],
   "source": [
    "model = Sequential()\n",
    "model.add(Conv2D(32, (3,3), input_shape=(10, 16, 3), padding=\"same\"))\n",
    "#model.add(Conv2D(64, (3, 3), activation='relu', padding='same', input_shape=(224, 224, 3)))\n",
    "model.summary()\n"
   ]
  },
  {
   "cell_type": "code",
   "execution_count": 38,
   "metadata": {},
   "outputs": [
    {
     "ename": "ValueError",
     "evalue": "This model has not yet been built. Build the model first by calling build() or calling fit() with some data. Or specify input_shape or batch_input_shape in the first layer for automatic build. ",
     "output_type": "error",
     "traceback": [
      "\u001b[1;31m---------------------------------------------------------------------------\u001b[0m",
      "\u001b[1;31mValueError\u001b[0m                                Traceback (most recent call last)",
      "\u001b[1;32m<ipython-input-38-d0c934d2a070>\u001b[0m in \u001b[0;36m<module>\u001b[1;34m\u001b[0m\n\u001b[0;32m      3\u001b[0m \u001b[0mmodel\u001b[0m\u001b[1;33m.\u001b[0m\u001b[0madd\u001b[0m\u001b[1;33m(\u001b[0m \u001b[0mTimeDistributed\u001b[0m\u001b[1;33m(\u001b[0m\u001b[0mcd\u001b[0m\u001b[1;33m)\u001b[0m\u001b[1;33m)\u001b[0m\u001b[1;33m\u001b[0m\u001b[1;33m\u001b[0m\u001b[0m\n\u001b[0;32m      4\u001b[0m \u001b[1;31m#model.add(Conv2D(64, (3, 3), activation='relu', padding='same', input_shape=(224, 224, 3)))\u001b[0m\u001b[1;33m\u001b[0m\u001b[1;33m\u001b[0m\u001b[1;33m\u001b[0m\u001b[0m\n\u001b[1;32m----> 5\u001b[1;33m \u001b[0mmodel\u001b[0m\u001b[1;33m.\u001b[0m\u001b[0msummary\u001b[0m\u001b[1;33m(\u001b[0m\u001b[1;33m)\u001b[0m\u001b[1;33m\u001b[0m\u001b[1;33m\u001b[0m\u001b[0m\n\u001b[0m",
      "\u001b[1;32mD:\\Users\\admin\\Anaconda3\\lib\\site-packages\\keras\\engine\\network.py\u001b[0m in \u001b[0;36msummary\u001b[1;34m(self, line_length, positions, print_fn)\u001b[0m\n\u001b[0;32m   1318\u001b[0m         \u001b[1;32mif\u001b[0m \u001b[1;32mnot\u001b[0m \u001b[0mself\u001b[0m\u001b[1;33m.\u001b[0m\u001b[0mbuilt\u001b[0m\u001b[1;33m:\u001b[0m\u001b[1;33m\u001b[0m\u001b[1;33m\u001b[0m\u001b[0m\n\u001b[0;32m   1319\u001b[0m             raise ValueError(\n\u001b[1;32m-> 1320\u001b[1;33m                 \u001b[1;34m'This model has not yet been built. '\u001b[0m\u001b[1;33m\u001b[0m\u001b[1;33m\u001b[0m\u001b[0m\n\u001b[0m\u001b[0;32m   1321\u001b[0m                 \u001b[1;34m'Build the model first by calling build() '\u001b[0m\u001b[1;33m\u001b[0m\u001b[1;33m\u001b[0m\u001b[0m\n\u001b[0;32m   1322\u001b[0m                 \u001b[1;34m'or calling fit() with some data. '\u001b[0m\u001b[1;33m\u001b[0m\u001b[1;33m\u001b[0m\u001b[0m\n",
      "\u001b[1;31mValueError\u001b[0m: This model has not yet been built. Build the model first by calling build() or calling fit() with some data. Or specify input_shape or batch_input_shape in the first layer for automatic build. "
     ]
    }
   ],
   "source": [
    "model = Sequential()\n",
    "cd = Conv2D(32, (3,3), input_shape=(10, 16, 3), padding=\"same\")\n",
    "model.add( TimeDistributed(cd))\n",
    "#model.add(Conv2D(64, (3, 3), activation='relu', padding='same', input_shape=(224, 224, 3)))\n",
    "model.summary()\n"
   ]
  },
  {
   "cell_type": "code",
   "execution_count": 26,
   "metadata": {},
   "outputs": [
    {
     "name": "stdout",
     "output_type": "stream",
     "text": [
      "Model: \"sequential_16\"\n",
      "_________________________________________________________________\n",
      "Layer (type)                 Output Shape              Param #   \n",
      "=================================================================\n",
      "time_distributed_17 (TimeDis (None, 10, 8)             136       \n",
      "=================================================================\n",
      "Total params: 136\n",
      "Trainable params: 136\n",
      "Non-trainable params: 0\n",
      "_________________________________________________________________\n"
     ]
    }
   ],
   "source": [
    "model = Sequential()\n",
    "model.add(TimeDistributed(Dense(8), input_shape=(10, 16)))\n",
    "model.summary()"
   ]
  },
  {
   "cell_type": "code",
   "execution_count": 55,
   "metadata": {},
   "outputs": [
    {
     "data": {
      "text/plain": [
       "{'name': 'conv2d_26',\n",
       " 'trainable': True,\n",
       " 'dtype': 'float32',\n",
       " 'filters': 64,\n",
       " 'kernel_size': (3, 3),\n",
       " 'strides': (1, 1),\n",
       " 'padding': 'valid',\n",
       " 'data_format': 'channels_last',\n",
       " 'dilation_rate': (1, 1),\n",
       " 'activation': 'linear',\n",
       " 'use_bias': True,\n",
       " 'kernel_initializer': {'class_name': 'VarianceScaling',\n",
       "  'config': {'scale': 1.0,\n",
       "   'mode': 'fan_avg',\n",
       "   'distribution': 'uniform',\n",
       "   'seed': None}},\n",
       " 'bias_initializer': {'class_name': 'Zeros', 'config': {}},\n",
       " 'kernel_regularizer': None,\n",
       " 'bias_regularizer': None,\n",
       " 'activity_regularizer': None,\n",
       " 'kernel_constraint': None,\n",
       " 'bias_constraint': None}"
      ]
     },
     "execution_count": 55,
     "metadata": {},
     "output_type": "execute_result"
    }
   ],
   "source": [
    "cd.get_config()"
   ]
  },
  {
   "cell_type": "code",
   "execution_count": 61,
   "metadata": {},
   "outputs": [
    {
     "name": "stdout",
     "output_type": "stream",
     "text": [
      "Model: \"sequential_41\"\n",
      "_________________________________________________________________\n",
      "Layer (type)                 Output Shape              Param #   \n",
      "=================================================================\n",
      "time_distributed_40 (TimeDis (None, 16, 16, 8)         32        \n",
      "_________________________________________________________________\n",
      "time_distributed_41 (TimeDis (None, 16, 16, 32)        288       \n",
      "=================================================================\n",
      "Total params: 320\n",
      "Trainable params: 320\n",
      "Non-trainable params: 0\n",
      "_________________________________________________________________\n"
     ]
    }
   ],
   "source": [
    "model = Sequential()\n",
    "dn=Dense(8)\n",
    "cd = Conv2D(64, (3,3), strides=1)\n",
    "model.add(TimeDistributed(dn, input_shape=(16, 16,3)))\n",
    "model.add(TimeDistributed(Dense(32)))\n",
    "model.\n",
    "model.summary()"
   ]
  },
  {
   "cell_type": "code",
   "execution_count": 65,
   "metadata": {},
   "outputs": [],
   "source": [
    "from keras.layers import LSTM"
   ]
  },
  {
   "cell_type": "code",
   "execution_count": 71,
   "metadata": {},
   "outputs": [],
   "source": [
    "model = Sequential()\n",
    "model.add(TimeDistributed(LSTM(10, return_sequences=True),\n",
    "                        input_shape=(5, 10, 3)))\n",
    "model.add(TimeDistributed(LSTM(10)))\n",
    "model.add(Dense(5))\n",
    "model.add(Activation('softmax'))\n",
    "model.compile(loss='categorical_crossentropy', optimizer='rmsprop')"
   ]
  },
  {
   "cell_type": "code",
   "execution_count": 72,
   "metadata": {},
   "outputs": [
    {
     "name": "stdout",
     "output_type": "stream",
     "text": [
      "Model: \"sequential_48\"\n",
      "_________________________________________________________________\n",
      "Layer (type)                 Output Shape              Param #   \n",
      "=================================================================\n",
      "time_distributed_45 (TimeDis (None, 5, 10, 10)         560       \n",
      "_________________________________________________________________\n",
      "time_distributed_46 (TimeDis (None, 5, 10)             840       \n",
      "_________________________________________________________________\n",
      "dense_43 (Dense)             (None, 5, 5)              55        \n",
      "_________________________________________________________________\n",
      "activation_2 (Activation)    (None, 5, 5)              0         \n",
      "=================================================================\n",
      "Total params: 1,455\n",
      "Trainable params: 1,455\n",
      "Non-trainable params: 0\n",
      "_________________________________________________________________\n"
     ]
    }
   ],
   "source": [
    "model.summary()"
   ]
  },
  {
   "cell_type": "code",
   "execution_count": 68,
   "metadata": {},
   "outputs": [
    {
     "name": "stdout",
     "output_type": "stream",
     "text": [
      "Model: \"sequential_45\"\n",
      "_________________________________________________________________\n",
      "Layer (type)                 Output Shape              Param #   \n",
      "=================================================================\n",
      "bidirectional_1 (Bidirection (None, 5, 20)             1680      \n",
      "_________________________________________________________________\n",
      "bidirectional_2 (Bidirection (None, 20)                2480      \n",
      "_________________________________________________________________\n",
      "dense_42 (Dense)             (None, 5)                 105       \n",
      "_________________________________________________________________\n",
      "activation_1 (Activation)    (None, 5)                 0         \n",
      "=================================================================\n",
      "Total params: 4,265\n",
      "Trainable params: 4,265\n",
      "Non-trainable params: 0\n",
      "_________________________________________________________________\n"
     ]
    }
   ],
   "source": [
    "model.summary()"
   ]
  },
  {
   "cell_type": "code",
   "execution_count": null,
   "metadata": {},
   "outputs": [],
   "source": [
    "model = Sequential()\n",
    "model.add(TimeDistributed(Conv2D(64, (3, 3)),\n",
    "                          input_shape=(10, 299, 299, 3)))"
   ]
  },
  {
   "cell_type": "code",
   "execution_count": 83,
   "metadata": {},
   "outputs": [
    {
     "name": "stdout",
     "output_type": "stream",
     "text": [
      "arg1: Geeks\n",
      "arg2: for\n",
      "arg3: Geeks\n"
     ]
    }
   ],
   "source": [
    "def myFun(arg1, arg2, arg3): \n",
    "    print(\"arg1:\", arg1) \n",
    "    print(\"arg2:\", arg2) \n",
    "    print(\"arg3:\", arg3) \n",
    "      \n",
    "# Now we can use *args or **kwargs to \n",
    "# pass arguments to this function :  \n",
    "args = (\"Geeks\", \"for\", \"Geeks\") \n",
    "myFun(*args) "
   ]
  },
  {
   "cell_type": "code",
   "execution_count": 92,
   "metadata": {},
   "outputs": [
    {
     "name": "stdout",
     "output_type": "stream",
     "text": [
      "Geeks for Geeks\n"
     ]
    }
   ],
   "source": [
    " print (*args)"
   ]
  },
  {
   "cell_type": "code",
   "execution_count": 84,
   "metadata": {},
   "outputs": [
    {
     "name": "stdout",
     "output_type": "stream",
     "text": [
      "Hello\n",
      "Welcome\n",
      "to\n",
      "GeeksforGeeks\n"
     ]
    }
   ],
   "source": [
    "def myFun(*argv): \n",
    "    \n",
    "    for arg in argv:  \n",
    "        print (arg) \n",
    "    \n",
    "myFun('Hello', 'Welcome', 'to', 'GeeksforGeeks')  \n"
   ]
  },
  {
   "cell_type": "code",
   "execution_count": 79,
   "metadata": {},
   "outputs": [
    {
     "name": "stdout",
     "output_type": "stream",
     "text": [
      "first == Geeks\n",
      "mid == for\n",
      "last == Geeks\n"
     ]
    }
   ],
   "source": [
    "def myFun(ar, **kwargs):  \n",
    "    for key, value in kwargs.items(): \n",
    "        print (\"%s == %s\" %(key, value)) \n",
    "  \n",
    "# Driver code \n",
    "myFun(\"k\",first ='Geeks', mid ='for', last='Geeks')"
   ]
  },
  {
   "cell_type": "code",
   "execution_count": 82,
   "metadata": {},
   "outputs": [
    {
     "name": "stdout",
     "output_type": "stream",
     "text": [
      "arg1: Geeks\n",
      "arg2: for\n",
      "arg3: Geeks\n"
     ]
    }
   ],
   "source": []
  },
  {
   "cell_type": "code",
   "execution_count": 80,
   "metadata": {},
   "outputs": [
    {
     "ename": "TypeError",
     "evalue": "myFun() takes 1 positional argument but 4 were given",
     "output_type": "error",
     "traceback": [
      "\u001b[1;31m---------------------------------------------------------------------------\u001b[0m",
      "\u001b[1;31mTypeError\u001b[0m                                 Traceback (most recent call last)",
      "\u001b[1;32m<ipython-input-80-817a20283abf>\u001b[0m in \u001b[0;36m<module>\u001b[1;34m\u001b[0m\n\u001b[0;32m      4\u001b[0m \u001b[1;33m\u001b[0m\u001b[0m\n\u001b[0;32m      5\u001b[0m \u001b[1;31m# Driver code\u001b[0m\u001b[1;33m\u001b[0m\u001b[1;33m\u001b[0m\u001b[1;33m\u001b[0m\u001b[0m\n\u001b[1;32m----> 6\u001b[1;33m \u001b[0mmyFun\u001b[0m\u001b[1;33m(\u001b[0m\u001b[1;34m\"k\"\u001b[0m\u001b[1;33m,\u001b[0m\u001b[1;34m'Geeks'\u001b[0m\u001b[1;33m,\u001b[0m \u001b[1;34m'for'\u001b[0m\u001b[1;33m,\u001b[0m \u001b[1;34m'Geeks'\u001b[0m\u001b[1;33m)\u001b[0m\u001b[1;33m\u001b[0m\u001b[1;33m\u001b[0m\u001b[0m\n\u001b[0m",
      "\u001b[1;31mTypeError\u001b[0m: myFun() takes 1 positional argument but 4 were given"
     ]
    }
   ],
   "source": [
    "def myFun(ar, **kwargs):  \n",
    "    for key in kwargs: \n",
    "        print (\"%s \" %(key)) \n",
    "  \n",
    "# Driver code \n",
    "myFun(\"k\",'Geeks', 'for', 'Geeks')"
   ]
  },
  {
   "cell_type": "code",
   "execution_count": 94,
   "metadata": {},
   "outputs": [
    {
     "name": "stdout",
     "output_type": "stream",
     "text": [
      "2\n",
      "3\n",
      "4\n"
     ]
    }
   ],
   "source": [
    "def my_func(ar, *args):\n",
    "    for i in args:\n",
    "        print (i)\n",
    "        \n",
    "my_func(\"1\",\"2\",\"3\",\"4\")\n"
   ]
  },
  {
   "cell_type": "code",
   "execution_count": 101,
   "metadata": {},
   "outputs": [
    {
     "name": "stdout",
     "output_type": "stream",
     "text": [
      "a\n",
      "b\n",
      "C\n",
      "d\n"
     ]
    }
   ],
   "source": [
    "def my_func(aa,**args):\n",
    "    for i in args:\n",
    "        print (i)\n",
    "        \n",
    "my_func(4,a=\"1\",b=\"2\",C=\"3\",d=\"4\")"
   ]
  },
  {
   "cell_type": "code",
   "execution_count": null,
   "metadata": {},
   "outputs": [],
   "source": []
  },
  {
   "cell_type": "code",
   "execution_count": null,
   "metadata": {},
   "outputs": [],
   "source": []
  },
  {
   "cell_type": "code",
   "execution_count": null,
   "metadata": {},
   "outputs": [],
   "source": []
  },
  {
   "cell_type": "code",
   "execution_count": null,
   "metadata": {},
   "outputs": [],
   "source": []
  },
  {
   "cell_type": "code",
   "execution_count": null,
   "metadata": {},
   "outputs": [],
   "source": []
  },
  {
   "cell_type": "code",
   "execution_count": null,
   "metadata": {},
   "outputs": [],
   "source": []
  },
  {
   "cell_type": "code",
   "execution_count": null,
   "metadata": {},
   "outputs": [],
   "source": []
  },
  {
   "cell_type": "code",
   "execution_count": null,
   "metadata": {},
   "outputs": [],
   "source": []
  }
 ],
 "metadata": {
  "kernelspec": {
   "display_name": "Python 3",
   "language": "python",
   "name": "python3"
  },
  "language_info": {
   "codemirror_mode": {
    "name": "ipython",
    "version": 3
   },
   "file_extension": ".py",
   "mimetype": "text/x-python",
   "name": "python",
   "nbconvert_exporter": "python",
   "pygments_lexer": "ipython3",
   "version": "3.7.1"
  }
 },
 "nbformat": 4,
 "nbformat_minor": 2
}
