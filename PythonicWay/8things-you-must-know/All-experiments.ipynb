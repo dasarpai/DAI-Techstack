{
 "cells": [
  {
   "cell_type": "code",
   "execution_count": 1,
   "id": "3c7e610d",
   "metadata": {},
   "outputs": [
    {
     "name": "stdout",
     "output_type": "stream",
     "text": [
      "Passed all tests ...\n"
     ]
    }
   ],
   "source": [
    "def valid_rgb(rgb):\n",
    "    '''Receives (r, g, b)  tuple, \n",
    "       Checks if each rgb int is within (0, 255) inclusive'''    \n",
    "    for val in rgb:\n",
    "        if not 0 <= val <= 255:\n",
    "            return False\n",
    "    return True\n",
    "\n",
    "assert valid_rgb((25, 5, 225)) == True\n",
    "assert valid_rgb((255, 255, 255)) == True\n",
    "assert valid_rgb((290, 100, 200)) == False\n",
    "assert valid_rgb((250, 300, 200)) == False\n",
    "assert valid_rgb((250, 100, 400)) == False\n",
    "print('Passed all tests ...')\n"
   ]
  },
  {
   "cell_type": "code",
   "execution_count": 2,
   "id": "99260f27",
   "metadata": {},
   "outputs": [
    {
     "name": "stdout",
     "output_type": "stream",
     "text": [
      "Passed all tests ...\n"
     ]
    }
   ],
   "source": [
    "def valid_rgb(rgb):\n",
    "    '''Receives (r, g, b)  tuple, \n",
    "       Checks if each rgb int is within (0, 255) inclusive'''    \n",
    "    return all(\n",
    "            0 <= val <= 255\n",
    "            for val in rgb\n",
    "    )\n",
    "assert valid_rgb((25, 5, 225)) == True\n",
    "assert valid_rgb((255, 255, 255)) == True\n",
    "assert valid_rgb((290, 100, 200)) == False\n",
    "assert valid_rgb((250, 300, 200)) == False\n",
    "assert valid_rgb((250, 100, 400)) == False\n",
    "print('Passed all tests ...')"
   ]
  },
  {
   "cell_type": "code",
   "execution_count": null,
   "id": "234bed8f",
   "metadata": {},
   "outputs": [],
   "source": []
  },
  {
   "cell_type": "code",
   "execution_count": 3,
   "id": "3593c83c",
   "metadata": {},
   "outputs": [
    {
     "name": "stdout",
     "output_type": "stream",
     "text": [
      "Passed all tests ...\n"
     ]
    }
   ],
   "source": [
    "def contains_digit(input_str):\n",
    "    for char in input_str:\n",
    "        if char.isdigit():\n",
    "            return True\n",
    "    return False\n",
    "\n",
    "assert contains_digit('This sentence does not contain any digits') == False\n",
    "assert contains_digit('But th15 0ne d0e5') == True\n",
    "assert contains_digit('123-456-7890')\n",
    "print('Passed all tests ...')"
   ]
  },
  {
   "cell_type": "code",
   "execution_count": 4,
   "id": "64b40d8f",
   "metadata": {},
   "outputs": [
    {
     "name": "stdout",
     "output_type": "stream",
     "text": [
      "Passed all tests ...\n"
     ]
    }
   ],
   "source": [
    "def contains_digit(input_str):\n",
    "    return any(char.isdigit()\n",
    "        for char in input_str\n",
    ")\n",
    "assert contains_digit('This sentence does not contain any digits') == False\n",
    "assert contains_digit('But th15 0ne d0e5') == True\n",
    "assert contains_digit('123-456-7890')\n",
    "print('Passed all tests ...')"
   ]
  },
  {
   "cell_type": "code",
   "execution_count": null,
   "id": "2af332e7",
   "metadata": {},
   "outputs": [],
   "source": []
  },
  {
   "cell_type": "code",
   "execution_count": 5,
   "id": "3f814b64",
   "metadata": {},
   "outputs": [
    {
     "name": "stdout",
     "output_type": "stream",
     "text": [
      "1. Netherlands\n",
      "2. Nigeria\n",
      "3. Jordan\n",
      "4. Nepal\n",
      "5. Niger\n",
      "6. Japan\n"
     ]
    }
   ],
   "source": [
    "countries = ['Netherlands', 'Nigeria', 'Jordan', 'Nepal', 'Niger', 'Japan']\n",
    "for index in range(len(countries)):\n",
    "    print(f'{index+1}. {countries[index]}')"
   ]
  },
  {
   "cell_type": "code",
   "execution_count": 7,
   "id": "15f3d33c",
   "metadata": {},
   "outputs": [
    {
     "name": "stdout",
     "output_type": "stream",
     "text": [
      "1. Netherlands\n",
      "2. Nigeria\n",
      "3. Jordan\n",
      "4. Nepal\n",
      "5. Niger\n",
      "6. Japan\n",
      "Netherlands\n",
      "Nigeria\n",
      "Jordan\n",
      "Nepal\n",
      "Niger\n",
      "Japan\n"
     ]
    }
   ],
   "source": [
    "'''Enumerate with for loop\n",
    "'''\n",
    "for index, country in enumerate(countries, start=1):\n",
    "    print(f'{index}. {country}')\n",
    "\n",
    "'''\n",
    "A standard for loop\n",
    "'''\n",
    "for country in countries:\n",
    "    print(country)"
   ]
  },
  {
   "cell_type": "code",
   "execution_count": null,
   "id": "1a59604a",
   "metadata": {},
   "outputs": [],
   "source": []
  },
  {
   "cell_type": "code",
   "execution_count": 11,
   "id": "830e7d06",
   "metadata": {},
   "outputs": [
    {
     "name": "stdout",
     "output_type": "stream",
     "text": [
      "The capital city of Netherlands is Amsterdam\n",
      "The capital city of Nigeria is Abuja\n",
      "The capital city of Jordan is Amman\n",
      "The capital city of Nepal is Kathmandu\n",
      "The capital city of Niger is Niamey\n",
      "The capital city of Japan is Tokyo\n"
     ]
    }
   ],
   "source": [
    "countries = ['Netherlands', 'Nigeria', 'Jordan', 'Nepal', 'Niger', 'Japan']\n",
    "capitals = ['Amsterdam', 'Abuja', 'Amman', 'Kathmandu', 'Niamey', 'Tokyo']\n",
    "from itertools import zip_longest\n",
    "for country, capital in zip_longest(countries, capitals, fillvalue='Unknown'):   \n",
    "    print(f'The capital city of {country} is {capital}')"
   ]
  },
  {
   "cell_type": "code",
   "execution_count": 12,
   "id": "5936b82d",
   "metadata": {},
   "outputs": [
    {
     "data": {
      "text/plain": [
       "(('Netherlands', 'Nigeria', 'Jordan', 'Nepal', 'Niger', 'Japan'),\n",
       " ('Amsterdam', 'Abuja', 'Amman', 'Kathmandu', 'Niamey', 'Tokyo'))"
      ]
     },
     "execution_count": 12,
     "metadata": {},
     "output_type": "execute_result"
    }
   ],
   "source": [
    "pairs = list(zip(countries, capitals))\n",
    "ctr, cap = zip(*pairs)\n",
    "ctr,cap"
   ]
  },
  {
   "cell_type": "code",
   "execution_count": 14,
   "id": "4f9e66e5",
   "metadata": {},
   "outputs": [
    {
     "name": "stdout",
     "output_type": "stream",
     "text": [
      "The capital city of Netherlands is Amsterdam\n",
      "The capital city of Nigeria is Abuja\n",
      "The capital city of Jordan is Amman\n",
      "The capital city of Nepal is Kathmandu\n",
      "The capital city of Niger is Unknown\n",
      "The capital city of Japan is Unknown\n"
     ]
    }
   ],
   "source": [
    "countries = ['Netherlands', 'Nigeria', 'Jordan', 'Nepal', 'Niger', 'Japan']\n",
    "capitals = ['Amsterdam', 'Abuja', 'Amman', 'Kathmandu']\n",
    "\n",
    "from itertools import zip_longest\n",
    "for country, capital in zip_longest(countries, capitals, fillvalue='Unknown'):   \n",
    "    print(f'The capital city of {country} is {capital}')"
   ]
  },
  {
   "cell_type": "code",
   "execution_count": 15,
   "id": "26c0da73",
   "metadata": {},
   "outputs": [
    {
     "data": {
      "text/plain": [
       "(('Netherlands', 'Nigeria', 'Jordan', 'Nepal'),\n",
       " ('Amsterdam', 'Abuja', 'Amman', 'Kathmandu'))"
      ]
     },
     "execution_count": 15,
     "metadata": {},
     "output_type": "execute_result"
    }
   ],
   "source": [
    "pairs = list(zip(countries, capitals))\n",
    "ctr, cap = zip(*pairs)\n",
    "ctr,cap"
   ]
  },
  {
   "cell_type": "code",
   "execution_count": null,
   "id": "010ff3fd",
   "metadata": {},
   "outputs": [],
   "source": []
  },
  {
   "cell_type": "code",
   "execution_count": 26,
   "id": "357c55b2",
   "metadata": {},
   "outputs": [
    {
     "name": "stdout",
     "output_type": "stream",
     "text": [
      "['Netherlands', 'Nigeria', 'Jordan', 'Nepal', 'Niger', 'Japan']\n",
      "['Japan', 'Niger', 'Nepal', 'Jordan', 'Nigeria', 'Netherlands']\n",
      "['Netherlands', 'Nigeria', 'Jordan', 'Nepal', 'Niger', 'Japan']\n"
     ]
    }
   ],
   "source": [
    "countries = ['Netherlands', 'Nigeria', 'Jordan', 'Nepal', 'Niger', 'Japan']\n",
    "print (countries)\n",
    "countries.reverse()\n",
    "print (countries)\n",
    "print (countries[::-1])\n"
   ]
  },
  {
   "cell_type": "code",
   "execution_count": 27,
   "id": "0953c8c4",
   "metadata": {},
   "outputs": [
    {
     "name": "stdout",
     "output_type": "stream",
     "text": [
      "Netherlands\n",
      "Nigeria\n",
      "Jordan\n",
      "Nepal\n",
      "Niger\n",
      "Japan\n"
     ]
    }
   ],
   "source": [
    "for c in reversed(countries):\n",
    "    print (c)"
   ]
  },
  {
   "cell_type": "code",
   "execution_count": 33,
   "id": "2603bcf3",
   "metadata": {},
   "outputs": [
    {
     "data": {
      "text/plain": [
       "'Iamhungry'"
      ]
     },
     "execution_count": 33,
     "metadata": {},
     "output_type": "execute_result"
    }
   ],
   "source": [
    "import re\n",
    "re.sub(\"\\W+\",'', \"I am hungry\")"
   ]
  },
  {
   "cell_type": "code",
   "execution_count": null,
   "id": "7444b1b6",
   "metadata": {},
   "outputs": [],
   "source": []
  },
  {
   "cell_type": "code",
   "execution_count": null,
   "id": "3d4290f7",
   "metadata": {},
   "outputs": [],
   "source": []
  },
  {
   "cell_type": "code",
   "execution_count": 38,
   "id": "f385fe77",
   "metadata": {},
   "outputs": [
    {
     "data": {
      "text/plain": [
       "[('Netherlands', 17500000),\n",
       " ('Nigeria', 198000000),\n",
       " ('Jordan', 10000000),\n",
       " ('Nepal', 30000000),\n",
       " ('Niger', 24000000),\n",
       " ('Japan', 128000000)]"
      ]
     },
     "execution_count": 38,
     "metadata": {},
     "output_type": "execute_result"
    }
   ],
   "source": [
    "countries = ['Netherlands', 'Nigeria', 'Jordan', 'Nepal', 'Niger', 'Japan']\n",
    "population = [17_500_000, 198_000_000, 10_000_000, 30_000_000, 24_000_000, 128_000_000]\n",
    "\n",
    "list(zip(countries,population))"
   ]
  },
  {
   "cell_type": "code",
   "execution_count": 39,
   "id": "57f93510",
   "metadata": {},
   "outputs": [
    {
     "data": {
      "text/plain": [
       "('Japan', 128000000)"
      ]
     },
     "execution_count": 39,
     "metadata": {},
     "output_type": "execute_result"
    }
   ],
   "source": [
    "min(list(zip(countries,population)))"
   ]
  },
  {
   "cell_type": "code",
   "execution_count": 40,
   "id": "1a1c19f9",
   "metadata": {},
   "outputs": [
    {
     "data": {
      "text/plain": [
       "('Jordan', 10000000)"
      ]
     },
     "execution_count": 40,
     "metadata": {},
     "output_type": "execute_result"
    }
   ],
   "source": [
    "def get_minpop(pair):\n",
    "    c,n = pair\n",
    "    return n\n",
    "    \n",
    "min(list(zip(countries,population)), key=get_minpop)\n"
   ]
  },
  {
   "cell_type": "code",
   "execution_count": 42,
   "id": "d58e9942",
   "metadata": {},
   "outputs": [
    {
     "data": {
      "text/plain": [
       "('Jordan', 10000000)"
      ]
     },
     "execution_count": 42,
     "metadata": {},
     "output_type": "execute_result"
    }
   ],
   "source": [
    "min (list(zip(countries,population)), key=lambda x: x[1])"
   ]
  },
  {
   "cell_type": "code",
   "execution_count": null,
   "id": "f0a6cc96",
   "metadata": {},
   "outputs": [],
   "source": []
  },
  {
   "cell_type": "code",
   "execution_count": 43,
   "id": "75877dd2",
   "metadata": {},
   "outputs": [],
   "source": [
    "class Country:\n",
    "    def __init__(self, name, population):\n",
    "        self.name = name\n",
    "        self.population = population    \n",
    "    def __repr__(self):\n",
    "        return f'Country({self.name}, {self.population})'\n",
    "\n",
    "country_list = [\n",
    "                Country('Taiwan', 24_000_000),\n",
    "                Country('Portugal', 10_000_000), \n",
    "                Country('Netherlands', 17_500_000), \n",
    "                Country('Nigeria', 198_000_000), \n",
    "                Country('Jordan', 10_000_000), \n",
    "                Country('Nepal', 30_000_000), \n",
    "                Country('Niger', 24_000_000), \n",
    "                Country('Japan', 128_000_000)\n",
    "]"
   ]
  },
  {
   "cell_type": "code",
   "execution_count": 44,
   "id": "faec28c6",
   "metadata": {},
   "outputs": [
    {
     "data": {
      "text/plain": [
       "[Country(Portugal, 10000000),\n",
       " Country(Jordan, 10000000),\n",
       " Country(Netherlands, 17500000),\n",
       " Country(Taiwan, 24000000),\n",
       " Country(Niger, 24000000),\n",
       " Country(Nepal, 30000000),\n",
       " Country(Japan, 128000000),\n",
       " Country(Nigeria, 198000000)]"
      ]
     },
     "execution_count": 44,
     "metadata": {},
     "output_type": "execute_result"
    }
   ],
   "source": [
    "sorted(country_list, key=lambda x: x.population)"
   ]
  },
  {
   "cell_type": "code",
   "execution_count": 45,
   "id": "36916f16",
   "metadata": {},
   "outputs": [
    {
     "data": {
      "text/plain": [
       "[Country(Nigeria, 198000000),\n",
       " Country(Japan, 128000000),\n",
       " Country(Nepal, 30000000),\n",
       " Country(Taiwan, 24000000),\n",
       " Country(Niger, 24000000),\n",
       " Country(Netherlands, 17500000),\n",
       " Country(Portugal, 10000000),\n",
       " Country(Jordan, 10000000)]"
      ]
     },
     "execution_count": 45,
     "metadata": {},
     "output_type": "execute_result"
    }
   ],
   "source": [
    "sorted(country_list, key=lambda x: -x.population)"
   ]
  },
  {
   "cell_type": "code",
   "execution_count": 46,
   "id": "643b4566",
   "metadata": {},
   "outputs": [
    {
     "data": {
      "text/plain": [
       "[Country(Nigeria, 198000000),\n",
       " Country(Japan, 128000000),\n",
       " Country(Nepal, 30000000),\n",
       " Country(Taiwan, 24000000),\n",
       " Country(Niger, 24000000),\n",
       " Country(Netherlands, 17500000),\n",
       " Country(Portugal, 10000000),\n",
       " Country(Jordan, 10000000)]"
      ]
     },
     "execution_count": 46,
     "metadata": {},
     "output_type": "execute_result"
    }
   ],
   "source": [
    "sorted(country_list, key=lambda x: x.population, reverse=True)"
   ]
  },
  {
   "cell_type": "code",
   "execution_count": 47,
   "id": "ec4caf82",
   "metadata": {},
   "outputs": [
    {
     "data": {
      "text/plain": [
       "[Country(Nigeria, 198000000),\n",
       " Country(Japan, 128000000),\n",
       " Country(Nepal, 30000000),\n",
       " Country(Niger, 24000000),\n",
       " Country(Taiwan, 24000000),\n",
       " Country(Netherlands, 17500000),\n",
       " Country(Jordan, 10000000),\n",
       " Country(Portugal, 10000000)]"
      ]
     },
     "execution_count": 47,
     "metadata": {},
     "output_type": "execute_result"
    }
   ],
   "source": [
    "sorted(country_list, key=lambda x: (-x.population, x.name))"
   ]
  },
  {
   "cell_type": "code",
   "execution_count": 48,
   "id": "39876da1",
   "metadata": {},
   "outputs": [],
   "source": [
    "iso = [('Taiwan', 'iso24000000'), ('Portugal', 'iso10000000'), ('Netherlands', 'iso17500000'), \\\n",
    "       ('Nigeria', 'iso198000000'), ('Jordan', 'iso10000000'), ('Nepal', 'iso30000000'), \\\n",
    "       ('Niger', 'iso24000000'), ('Japan', 'iso128000000')]"
   ]
  },
  {
   "cell_type": "code",
   "execution_count": 69,
   "id": "55c6c74f",
   "metadata": {},
   "outputs": [
    {
     "data": {
      "text/plain": [
       "[('Portugal', 'iso10000000'),\n",
       " ('Jordan', 'iso10000000'),\n",
       " ('Japan', 'iso128000000'),\n",
       " ('Netherlands', 'iso17500000'),\n",
       " ('Nigeria', 'iso198000000'),\n",
       " ('Taiwan', 'iso24000000'),\n",
       " ('Niger', 'iso24000000'),\n",
       " ('Nepal', 'iso30000000')]"
      ]
     },
     "execution_count": 69,
     "metadata": {},
     "output_type": "execute_result"
    }
   ],
   "source": [
    "def get_population(pair):\n",
    "    c,n = pair\n",
    "    return (n[3:])\n",
    "\n",
    "#a= [ (p[0],get_population(p)) for p in iso]\n",
    "\n",
    "sorted(iso, key=get_population)"
   ]
  },
  {
   "cell_type": "code",
   "execution_count": 70,
   "id": "009b8f2b",
   "metadata": {},
   "outputs": [
    {
     "data": {
      "text/plain": [
       "[('Portugal', 'iso10000000'),\n",
       " ('Jordan', 'iso10000000'),\n",
       " ('Netherlands', 'iso17500000'),\n",
       " ('Taiwan', 'iso24000000'),\n",
       " ('Niger', 'iso24000000'),\n",
       " ('Nepal', 'iso30000000'),\n",
       " ('Japan', 'iso128000000'),\n",
       " ('Nigeria', 'iso198000000')]"
      ]
     },
     "execution_count": 70,
     "metadata": {},
     "output_type": "execute_result"
    }
   ],
   "source": [
    "def get_population(pair):\n",
    "    c,n = pair\n",
    "    return int(n[3:])\n",
    "\n",
    "#a= [ (p[0],get_population(p)) for p in iso]\n",
    "\n",
    "sorted(iso, key=get_population)"
   ]
  },
  {
   "cell_type": "code",
   "execution_count": null,
   "id": "0044b473",
   "metadata": {},
   "outputs": [],
   "source": []
  },
  {
   "cell_type": "code",
   "execution_count": null,
   "id": "0b71ccfb",
   "metadata": {},
   "outputs": [],
   "source": []
  }
 ],
 "metadata": {
  "kernelspec": {
   "display_name": "Python 3",
   "language": "python",
   "name": "python3"
  },
  "language_info": {
   "codemirror_mode": {
    "name": "ipython",
    "version": 3
   },
   "file_extension": ".py",
   "mimetype": "text/x-python",
   "name": "python",
   "nbconvert_exporter": "python",
   "pygments_lexer": "ipython3",
   "version": "3.8.3"
  }
 },
 "nbformat": 4,
 "nbformat_minor": 5
}
