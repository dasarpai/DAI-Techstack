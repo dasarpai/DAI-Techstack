{
 "cells": [
  {
   "cell_type": "code",
   "execution_count": 16,
   "metadata": {},
   "outputs": [],
   "source": [
    "#df_categorical.apply(lambda x: x==\"?\", axis=0).sum()"
   ]
  },
  {
   "cell_type": "markdown",
   "metadata": {},
   "source": [
    "# zip"
   ]
  },
  {
   "cell_type": "code",
   "execution_count": 60,
   "metadata": {},
   "outputs": [
    {
     "name": "stdout",
     "output_type": "stream",
     "text": [
      "[('Manjeet', 4, 40), ('Nikhil', 1, 50), ('Shambhavi', 3, 60)]\n"
     ]
    }
   ],
   "source": [
    "name = [\"Manjeet\", \"Nikhil\", \"Shambhavi\"]\n",
    "roll_no = [4, 1, 3]\n",
    "marks = [40, 50, 60]\n",
    "\n",
    "mapped = zip(name, roll_no, marks)\n",
    "\n",
    "print(list(mapped))"
   ]
  },
  {
   "cell_type": "code",
   "execution_count": 62,
   "metadata": {},
   "outputs": [
    {
     "name": "stdout",
     "output_type": "stream",
     "text": [
      "{'Manjeet': 40, 'Nikhil': 50, 'Shambhavi': 60}\n"
     ]
    }
   ],
   "source": [
    "name = [\"Manjeet\", \"Nikhil\", \"Shambhavi\"]\n",
    "marks = [40, 50, 60]\n",
    "\n",
    "mapped = zip(name, marks)\n",
    "\n",
    "print(dict(mapped))\n"
   ]
  },
  {
   "cell_type": "code",
   "execution_count": null,
   "metadata": {},
   "outputs": [],
   "source": []
  },
  {
   "cell_type": "code",
   "execution_count": null,
   "metadata": {},
   "outputs": [],
   "source": []
  },
  {
   "cell_type": "markdown",
   "metadata": {},
   "source": [
    "# map & zip"
   ]
  },
  {
   "cell_type": "code",
   "execution_count": 1,
   "metadata": {},
   "outputs": [
    {
     "data": {
      "text/plain": [
       "[('a', 'b', 'c'),\n",
       " ('p', 'a', 'h'),\n",
       " ('p', 'n', 'e'),\n",
       " ('l', 'a', 'r'),\n",
       " ('e', 'n', 'r'),\n",
       " ('o', 'a', 'y'),\n",
       " ('r', 'l', 'p'),\n",
       " ('a', 'e', 'i'),\n",
       " ('n', 'm', 'n'),\n",
       " ('g', 'o', 'e'),\n",
       " ('e', 'n', 'a')]"
      ]
     },
     "execution_count": 1,
     "metadata": {},
     "output_type": "execute_result"
    }
   ],
   "source": [
    "def myfunc(a, b):\n",
    "  #print (a,b)\n",
    "  return a + b\n",
    "\n",
    "x = list(zip(*map(myfunc, ('apple', 'banana', 'cherry'), ('orange', 'lemon', 'pineapple'))))\n",
    "x"
   ]
  },
  {
   "cell_type": "code",
   "execution_count": 17,
   "metadata": {},
   "outputs": [
    {
     "data": {
      "text/plain": [
       "[('appleorange',), ('bananalemon',), ('cherrypineapple',)]"
      ]
     },
     "execution_count": 17,
     "metadata": {},
     "output_type": "execute_result"
    }
   ],
   "source": [
    "def myfunc(a, b):\n",
    "  #print (a,b)\n",
    "  return a + b\n",
    "\n",
    "x = list(zip(map(myfunc, ('apple', 'banana', 'cherry'), ('orange', 'lemon', 'pineapple'))))\n",
    "x"
   ]
  },
  {
   "cell_type": "code",
   "execution_count": 18,
   "metadata": {},
   "outputs": [
    {
     "ename": "TypeError",
     "evalue": "'tuple' object is not callable",
     "output_type": "error",
     "traceback": [
      "\u001b[1;31m---------------------------------------------------------------------------\u001b[0m",
      "\u001b[1;31mTypeError\u001b[0m                                 Traceback (most recent call last)",
      "\u001b[1;32m<ipython-input-18-9bf000b504e8>\u001b[0m in \u001b[0;36m<module>\u001b[1;34m\u001b[0m\n\u001b[0;32m      3\u001b[0m   \u001b[1;32mreturn\u001b[0m \u001b[0ma\u001b[0m \u001b[1;33m+\u001b[0m \u001b[0mb\u001b[0m\u001b[1;33m\u001b[0m\u001b[1;33m\u001b[0m\u001b[0m\n\u001b[0;32m      4\u001b[0m \u001b[1;33m\u001b[0m\u001b[0m\n\u001b[1;32m----> 5\u001b[1;33m \u001b[0mx\u001b[0m \u001b[1;33m=\u001b[0m \u001b[0mlist\u001b[0m\u001b[1;33m(\u001b[0m\u001b[0mzip\u001b[0m\u001b[1;33m(\u001b[0m\u001b[1;33m*\u001b[0m\u001b[0mmap\u001b[0m\u001b[1;33m(\u001b[0m \u001b[1;33m(\u001b[0m\u001b[1;34m'apple'\u001b[0m\u001b[1;33m,\u001b[0m \u001b[1;34m'banana'\u001b[0m\u001b[1;33m,\u001b[0m \u001b[1;34m'cherry'\u001b[0m\u001b[1;33m)\u001b[0m\u001b[1;33m,\u001b[0m \u001b[1;33m(\u001b[0m\u001b[1;34m'orange'\u001b[0m\u001b[1;33m,\u001b[0m \u001b[1;34m'lemon'\u001b[0m\u001b[1;33m,\u001b[0m \u001b[1;34m'pineapple'\u001b[0m\u001b[1;33m)\u001b[0m\u001b[1;33m)\u001b[0m\u001b[1;33m)\u001b[0m\u001b[1;33m)\u001b[0m\u001b[1;33m\u001b[0m\u001b[1;33m\u001b[0m\u001b[0m\n\u001b[0m\u001b[0;32m      6\u001b[0m \u001b[0mx\u001b[0m\u001b[1;33m\u001b[0m\u001b[1;33m\u001b[0m\u001b[0m\n",
      "\u001b[1;31mTypeError\u001b[0m: 'tuple' object is not callable"
     ]
    }
   ],
   "source": [
    "def myfunc(a, b):\n",
    "  #print (a,b)\n",
    "  return a + b\n",
    "\n",
    "x = list(zip(*map( ('apple', 'banana', 'cherry'), ('orange', 'lemon', 'pineapple'))))\n",
    "x"
   ]
  },
  {
   "cell_type": "code",
   "execution_count": 20,
   "metadata": {},
   "outputs": [
    {
     "ename": "TypeError",
     "evalue": "'list' object is not callable",
     "output_type": "error",
     "traceback": [
      "\u001b[1;31m---------------------------------------------------------------------------\u001b[0m",
      "\u001b[1;31mTypeError\u001b[0m                                 Traceback (most recent call last)",
      "\u001b[1;32m<ipython-input-20-2608cf027eff>\u001b[0m in \u001b[0;36m<module>\u001b[1;34m\u001b[0m\n\u001b[0;32m      3\u001b[0m   \u001b[1;32mreturn\u001b[0m \u001b[0ma\u001b[0m \u001b[1;33m+\u001b[0m \u001b[0mb\u001b[0m\u001b[1;33m\u001b[0m\u001b[1;33m\u001b[0m\u001b[0m\n\u001b[0;32m      4\u001b[0m \u001b[1;33m\u001b[0m\u001b[0m\n\u001b[1;32m----> 5\u001b[1;33m \u001b[0mx\u001b[0m \u001b[1;33m=\u001b[0m \u001b[0mlist\u001b[0m\u001b[1;33m(\u001b[0m\u001b[0mzip\u001b[0m\u001b[1;33m(\u001b[0m\u001b[0mmap\u001b[0m\u001b[1;33m(\u001b[0m \u001b[1;33m[\u001b[0m\u001b[1;34m'apple'\u001b[0m\u001b[1;33m,\u001b[0m \u001b[1;34m'banana'\u001b[0m\u001b[1;33m,\u001b[0m \u001b[1;34m'cherry'\u001b[0m\u001b[1;33m]\u001b[0m\u001b[1;33m,\u001b[0m \u001b[1;33m[\u001b[0m\u001b[1;34m'orange'\u001b[0m\u001b[1;33m,\u001b[0m \u001b[1;34m'lemon'\u001b[0m\u001b[1;33m,\u001b[0m \u001b[1;34m'pineapple'\u001b[0m\u001b[1;33m]\u001b[0m\u001b[1;33m)\u001b[0m\u001b[1;33m)\u001b[0m\u001b[1;33m)\u001b[0m\u001b[1;33m\u001b[0m\u001b[1;33m\u001b[0m\u001b[0m\n\u001b[0m\u001b[0;32m      6\u001b[0m \u001b[0mx\u001b[0m\u001b[1;33m\u001b[0m\u001b[1;33m\u001b[0m\u001b[0m\n",
      "\u001b[1;31mTypeError\u001b[0m: 'list' object is not callable"
     ]
    }
   ],
   "source": [
    "def myfunc(a, b):\n",
    "  #print (a,b)\n",
    "  return a + b\n",
    "\n",
    "x = list(zip(map( ['apple', 'banana', 'cherry'], ['orange', 'lemon', 'pineapple'])))\n",
    "x"
   ]
  },
  {
   "cell_type": "code",
   "execution_count": 21,
   "metadata": {},
   "outputs": [
    {
     "data": {
      "text/plain": [
       "<zip at 0x1c593259a40>"
      ]
     },
     "execution_count": 21,
     "metadata": {},
     "output_type": "execute_result"
    }
   ],
   "source": [
    "def myfunc(a, b):\n",
    "  #print (a,b)\n",
    "  return a + b\n",
    "\n",
    "x = (zip(map( ['apple', 'banana', 'cherry'], ['orange', 'lemon', 'pineapple'])))\n",
    "x"
   ]
  },
  {
   "cell_type": "code",
   "execution_count": null,
   "metadata": {},
   "outputs": [],
   "source": []
  },
  {
   "cell_type": "code",
   "execution_count": 2,
   "metadata": {},
   "outputs": [
    {
     "data": {
      "text/plain": [
       "<map at 0x1c593165ac0>"
      ]
     },
     "execution_count": 2,
     "metadata": {},
     "output_type": "execute_result"
    }
   ],
   "source": [
    "A='abcd'\n",
    "B='pqrs'\n",
    "map(A,B)"
   ]
  },
  {
   "cell_type": "code",
   "execution_count": 3,
   "metadata": {},
   "outputs": [
    {
     "name": "stdout",
     "output_type": "stream",
     "text": [
      "[(1,), (4,), (9,), (16,), (25,)]\n"
     ]
    }
   ],
   "source": [
    "nums = [1, 2, 3, 4, 5]  \n",
    "def sq(n1,n2):    \n",
    "    return (n1*n2)\n",
    "square = list(zip(map(sq, nums,nums)))\n",
    "print (square)"
   ]
  },
  {
   "cell_type": "code",
   "execution_count": 4,
   "metadata": {},
   "outputs": [
    {
     "name": "stdout",
     "output_type": "stream",
     "text": [
      "[('1',), ('4',), ('9',), ('16',), ('25',)]\n"
     ]
    }
   ],
   "source": [
    "nums = [1, 2, 3, 4, 5]  \n",
    "def sq(n1,n2):    \n",
    "    return str(n1*n2)\n",
    "square = list(zip(map(sq, nums,nums)))\n",
    "print (square)"
   ]
  },
  {
   "cell_type": "code",
   "execution_count": 11,
   "metadata": {},
   "outputs": [
    {
     "name": "stdout",
     "output_type": "stream",
     "text": [
      "[1, 4, 9, 16, 25]\n"
     ]
    }
   ],
   "source": [
    "nums = [1, 2, 3, 4, 5]  \n",
    "def sq(n):    \n",
    "    return (n*n )\n",
    "square = list(map(sq, nums))\n",
    "print (square)"
   ]
  },
  {
   "cell_type": "code",
   "execution_count": 12,
   "metadata": {},
   "outputs": [
    {
     "name": "stdout",
     "output_type": "stream",
     "text": [
      "<map object at 0x000001C59325A3D0>\n",
      "<zip object at 0x000001C5931AB340>\n",
      "ap bq cr ds\n",
      "<map object at 0x000001C59325A850>\n",
      "<zip object at 0x000001C593254F40>\n"
     ]
    }
   ],
   "source": [
    "A='abcd'\n",
    "B='pqrs'\n",
    "print(map(A,B)) #a map between to pairs\n",
    "print(zip(map(A,B))) #map is zipped\n",
    "\n",
    "#print( list(zip( map(A,B))) )  #ERROR 'str' object is not callable\n",
    "#print( list(zip(*map(A,B))) ) #ERROR 'str' object is not callable\n",
    "\n",
    "#print (*map(A,B)) => #ERROR 'str' object is not callable\n",
    "print (*map(myfunc,A,B)) #ap bq cr ds\n",
    "print (map(myfunc,A,B))\n",
    "print (zip(*map(myfunc,A,B)))\n"
   ]
  },
  {
   "cell_type": "code",
   "execution_count": 13,
   "metadata": {},
   "outputs": [
    {
     "data": {
      "text/plain": [
       "[('x11a',), ('y21b',), ('z31c',), ('pqrsd',)]"
      ]
     },
     "execution_count": 13,
     "metadata": {},
     "output_type": "execute_result"
    }
   ],
   "source": [
    "# list( zip(map(myfunc,['1','2','3'],['a','b','c'])) )\n",
    "\n",
    "list( zip(map(myfunc,['x11','y21','z31','pqrs'],['a','b','c','d'])) )"
   ]
  },
  {
   "cell_type": "code",
   "execution_count": 14,
   "metadata": {},
   "outputs": [
    {
     "data": {
      "text/plain": [
       "['a', 'p', 'p', 'l', 'e', 'o', 'r', 'a', 'n', 'g', 'e']"
      ]
     },
     "execution_count": 14,
     "metadata": {},
     "output_type": "execute_result"
    }
   ],
   "source": [
    "list(('apple'+ 'orange'))"
   ]
  },
  {
   "cell_type": "code",
   "execution_count": 50,
   "metadata": {},
   "outputs": [
    {
     "data": {
      "text/plain": [
       "['sharma', 'verma', 'rai']"
      ]
     },
     "execution_count": 50,
     "metadata": {},
     "output_type": "execute_result"
    }
   ],
   "source": [
    "import pandas as pd\n",
    "df= dict(pd.DataFrame(names))\n",
    "list( df['last'] )"
   ]
  },
  {
   "cell_type": "code",
   "execution_count": 54,
   "metadata": {},
   "outputs": [
    {
     "data": {
      "text/plain": [
       "[0    sharma\n",
       " 1     verma\n",
       " 2       rai\n",
       " Name: last, dtype: object,\n",
       " 0    sharma\n",
       " 1     verma\n",
       " 2       rai\n",
       " Name: last, dtype: object]"
      ]
     },
     "execution_count": 54,
     "metadata": {},
     "output_type": "execute_result"
    }
   ],
   "source": [
    "names = [\n",
    "    {'first': 'lokesh', 'last': 'sharma'},\n",
    "    {'first': 'Astha', 'last': 'verma'},\n",
    "    {'first': 'jiu', 'last': 'rai'}\n",
    " ]\n",
    "first_names = list(map(lambda x: (df['last']), df))\n",
    "\n",
    "first_names"
   ]
  },
  {
   "cell_type": "markdown",
   "metadata": {},
   "source": [
    "# Filter"
   ]
  },
  {
   "cell_type": "code",
   "execution_count": 55,
   "metadata": {},
   "outputs": [
    {
     "name": "stdout",
     "output_type": "stream",
     "text": [
      "[1, 3, 5]\n"
     ]
    }
   ],
   "source": [
    "seq = [0, 1, 2, 3, 4, 5]\n",
    "\n",
    "# result contains odd numbers of the list\n",
    "result = filter(lambda x: x % 2, seq)\n",
    "print(list(result))\n",
    "\n",
    "# result contains even numbers of the list\n",
    "result = filter(lambda x: x % 2 == 0, seq)"
   ]
  },
  {
   "cell_type": "code",
   "execution_count": 56,
   "metadata": {},
   "outputs": [],
   "source": [
    "users = [\n",
    "    {\"username\": 'samuel', \"tweets\": [\"i love cake\", \"i am good\"]},\n",
    "    {\"username\": 'andy', \"tweets\": []},\n",
    "    {\"username\": 'kumal', \"tweets\": [\"India\", \"Python\"]},\n",
    "    {\"username\": 'sam', \"tweets\": []},\n",
    "    {\"username\": 'lokesh', \"tweets\": [\"i am good\"]},\n",
    "]"
   ]
  },
  {
   "cell_type": "code",
   "execution_count": 57,
   "metadata": {},
   "outputs": [
    {
     "name": "stdout",
     "output_type": "stream",
     "text": [
      "[{'username': 'andy', 'tweets': []}, {'username': 'sam', 'tweets': []}]\n"
     ]
    }
   ],
   "source": [
    "inactive_users = list(filter(lambda a:not a['tweets'], users))\n",
    "print(inactive_users)"
   ]
  },
  {
   "cell_type": "code",
   "execution_count": 58,
   "metadata": {},
   "outputs": [
    {
     "name": "stdout",
     "output_type": "stream",
     "text": [
      "['ANDY', 'SAM']\n"
     ]
    }
   ],
   "source": [
    "inactive_users=list(map(lambda x:x[\"username\"].upper(),\n",
    "                    filter(lambda a:not a['tweets'], users)))\n",
    "print(inactive_users)"
   ]
  },
  {
   "cell_type": "code",
   "execution_count": 59,
   "metadata": {},
   "outputs": [
    {
     "name": "stdout",
     "output_type": "stream",
     "text": [
      "['your name is lokesh', 'your name is lassie']\n"
     ]
    }
   ],
   "source": [
    "names=['lokesh','lassie','bob','to']\n",
    "new=list(map(lambda name:f\"your name is {name}\",\n",
    "        filter(lambda x:len(x)>4,names)))\n",
    "print(new)"
   ]
  },
  {
   "cell_type": "code",
   "execution_count": null,
   "metadata": {},
   "outputs": [],
   "source": []
  },
  {
   "cell_type": "markdown",
   "metadata": {},
   "source": [
    "# Reduce"
   ]
  },
  {
   "cell_type": "code",
   "execution_count": null,
   "metadata": {},
   "outputs": [],
   "source": [
    "from functools import reduce\n",
    "\n",
    "seq=[2,3,4,5,6]\n",
    "multiply=reduce(lambda a,b:a*b,seq)\n",
    "print(multiply)"
   ]
  }
 ],
 "metadata": {
  "kernelspec": {
   "display_name": "Python 3",
   "language": "python",
   "name": "python3"
  },
  "language_info": {
   "codemirror_mode": {
    "name": "ipython",
    "version": 3
   },
   "file_extension": ".py",
   "mimetype": "text/x-python",
   "name": "python",
   "nbconvert_exporter": "python",
   "pygments_lexer": "ipython3",
   "version": "3.8.3"
  }
 },
 "nbformat": 4,
 "nbformat_minor": 2
}
