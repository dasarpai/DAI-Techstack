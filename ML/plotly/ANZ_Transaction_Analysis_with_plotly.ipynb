{
 "cells": [
  {
   "cell_type": "code",
   "execution_count": 32,
   "metadata": {},
   "outputs": [],
   "source": [
    "import numpy as np\n",
    "import pandas as pd\n",
    "import plotly.express as px\n",
    "import warnings\n",
    "\n",
    "warnings.filterwarnings('ignore')\n",
    "%matplotlib inline\n",
    "import plotly.graph_objects as go\n",
    "import plotly.express as px\n",
    "import plotly.figure_factory as ff\n",
    "from plotly.subplots import make_subplots\n",
    "import plotly.io as pio"
   ]
  },
  {
   "cell_type": "code",
   "execution_count": 33,
   "metadata": {},
   "outputs": [],
   "source": [
    "# !kaggle datasets download -d bhatvikas/anz-synthesised-transaction-dataset"
   ]
  },
  {
   "cell_type": "code",
   "execution_count": 34,
   "metadata": {},
   "outputs": [],
   "source": [
    "# !unzip D:\\github\\DAI-Techstack\\ML\\plotly\\anz-synthesised-transaction-dataset.zip"
   ]
  },
  {
   "cell_type": "code",
   "execution_count": 35,
   "metadata": {},
   "outputs": [
    {
     "data": {
      "text/html": [
       "<div>\n",
       "<style scoped>\n",
       "    .dataframe tbody tr th:only-of-type {\n",
       "        vertical-align: middle;\n",
       "    }\n",
       "\n",
       "    .dataframe tbody tr th {\n",
       "        vertical-align: top;\n",
       "    }\n",
       "\n",
       "    .dataframe thead th {\n",
       "        text-align: right;\n",
       "    }\n",
       "</style>\n",
       "<table border=\"1\" class=\"dataframe\">\n",
       "  <thead>\n",
       "    <tr style=\"text-align: right;\">\n",
       "      <th></th>\n",
       "      <th>status</th>\n",
       "      <th>card_present_flag</th>\n",
       "      <th>bpay_biller_code</th>\n",
       "      <th>account</th>\n",
       "      <th>currency</th>\n",
       "      <th>long_lat</th>\n",
       "      <th>txn_description</th>\n",
       "      <th>merchant_id</th>\n",
       "      <th>merchant_code</th>\n",
       "      <th>first_name</th>\n",
       "      <th>...</th>\n",
       "      <th>age</th>\n",
       "      <th>merchant_suburb</th>\n",
       "      <th>merchant_state</th>\n",
       "      <th>extraction</th>\n",
       "      <th>amount</th>\n",
       "      <th>transaction_id</th>\n",
       "      <th>country</th>\n",
       "      <th>customer_id</th>\n",
       "      <th>merchant_long_lat</th>\n",
       "      <th>movement</th>\n",
       "    </tr>\n",
       "  </thead>\n",
       "  <tbody>\n",
       "    <tr>\n",
       "      <th>0</th>\n",
       "      <td>authorized</td>\n",
       "      <td>1.0</td>\n",
       "      <td>NaN</td>\n",
       "      <td>ACC-1598451071</td>\n",
       "      <td>AUD</td>\n",
       "      <td>153.41 -27.95</td>\n",
       "      <td>POS</td>\n",
       "      <td>81c48296-73be-44a7-befa-d053f48ce7cd</td>\n",
       "      <td>NaN</td>\n",
       "      <td>Diana</td>\n",
       "      <td>...</td>\n",
       "      <td>26</td>\n",
       "      <td>Ashmore</td>\n",
       "      <td>QLD</td>\n",
       "      <td>2018-08-01T01:01:15.000+0000</td>\n",
       "      <td>16.25</td>\n",
       "      <td>a623070bfead4541a6b0fff8a09e706c</td>\n",
       "      <td>Australia</td>\n",
       "      <td>CUS-2487424745</td>\n",
       "      <td>153.38 -27.99</td>\n",
       "      <td>debit</td>\n",
       "    </tr>\n",
       "    <tr>\n",
       "      <th>1</th>\n",
       "      <td>authorized</td>\n",
       "      <td>0.0</td>\n",
       "      <td>NaN</td>\n",
       "      <td>ACC-1598451071</td>\n",
       "      <td>AUD</td>\n",
       "      <td>153.41 -27.95</td>\n",
       "      <td>SALES-POS</td>\n",
       "      <td>830a451c-316e-4a6a-bf25-e37caedca49e</td>\n",
       "      <td>NaN</td>\n",
       "      <td>Diana</td>\n",
       "      <td>...</td>\n",
       "      <td>26</td>\n",
       "      <td>Sydney</td>\n",
       "      <td>NSW</td>\n",
       "      <td>2018-08-01T01:13:45.000+0000</td>\n",
       "      <td>14.19</td>\n",
       "      <td>13270a2a902145da9db4c951e04b51b9</td>\n",
       "      <td>Australia</td>\n",
       "      <td>CUS-2487424745</td>\n",
       "      <td>151.21 -33.87</td>\n",
       "      <td>debit</td>\n",
       "    </tr>\n",
       "    <tr>\n",
       "      <th>2</th>\n",
       "      <td>authorized</td>\n",
       "      <td>1.0</td>\n",
       "      <td>NaN</td>\n",
       "      <td>ACC-1222300524</td>\n",
       "      <td>AUD</td>\n",
       "      <td>151.23 -33.94</td>\n",
       "      <td>POS</td>\n",
       "      <td>835c231d-8cdf-4e96-859d-e9d571760cf0</td>\n",
       "      <td>NaN</td>\n",
       "      <td>Michael</td>\n",
       "      <td>...</td>\n",
       "      <td>38</td>\n",
       "      <td>Sydney</td>\n",
       "      <td>NSW</td>\n",
       "      <td>2018-08-01T01:26:15.000+0000</td>\n",
       "      <td>6.42</td>\n",
       "      <td>feb79e7ecd7048a5a36ec889d1a94270</td>\n",
       "      <td>Australia</td>\n",
       "      <td>CUS-2142601169</td>\n",
       "      <td>151.21 -33.87</td>\n",
       "      <td>debit</td>\n",
       "    </tr>\n",
       "    <tr>\n",
       "      <th>3</th>\n",
       "      <td>authorized</td>\n",
       "      <td>1.0</td>\n",
       "      <td>NaN</td>\n",
       "      <td>ACC-1037050564</td>\n",
       "      <td>AUD</td>\n",
       "      <td>153.10 -27.66</td>\n",
       "      <td>SALES-POS</td>\n",
       "      <td>48514682-c78a-4a88-b0da-2d6302e64673</td>\n",
       "      <td>NaN</td>\n",
       "      <td>Rhonda</td>\n",
       "      <td>...</td>\n",
       "      <td>40</td>\n",
       "      <td>Buderim</td>\n",
       "      <td>QLD</td>\n",
       "      <td>2018-08-01T01:38:45.000+0000</td>\n",
       "      <td>40.90</td>\n",
       "      <td>2698170da3704fd981b15e64a006079e</td>\n",
       "      <td>Australia</td>\n",
       "      <td>CUS-1614226872</td>\n",
       "      <td>153.05 -26.68</td>\n",
       "      <td>debit</td>\n",
       "    </tr>\n",
       "    <tr>\n",
       "      <th>4</th>\n",
       "      <td>authorized</td>\n",
       "      <td>1.0</td>\n",
       "      <td>NaN</td>\n",
       "      <td>ACC-1598451071</td>\n",
       "      <td>AUD</td>\n",
       "      <td>153.41 -27.95</td>\n",
       "      <td>SALES-POS</td>\n",
       "      <td>b4e02c10-0852-4273-b8fd-7b3395e32eb0</td>\n",
       "      <td>NaN</td>\n",
       "      <td>Diana</td>\n",
       "      <td>...</td>\n",
       "      <td>26</td>\n",
       "      <td>Mermaid Beach</td>\n",
       "      <td>QLD</td>\n",
       "      <td>2018-08-01T01:51:15.000+0000</td>\n",
       "      <td>3.25</td>\n",
       "      <td>329adf79878c4cf0aeb4188b4691c266</td>\n",
       "      <td>Australia</td>\n",
       "      <td>CUS-2487424745</td>\n",
       "      <td>153.44 -28.06</td>\n",
       "      <td>debit</td>\n",
       "    </tr>\n",
       "  </tbody>\n",
       "</table>\n",
       "<p>5 rows × 23 columns</p>\n",
       "</div>"
      ],
      "text/plain": [
       "       status  card_present_flag bpay_biller_code         account currency  \\\n",
       "0  authorized                1.0              NaN  ACC-1598451071      AUD   \n",
       "1  authorized                0.0              NaN  ACC-1598451071      AUD   \n",
       "2  authorized                1.0              NaN  ACC-1222300524      AUD   \n",
       "3  authorized                1.0              NaN  ACC-1037050564      AUD   \n",
       "4  authorized                1.0              NaN  ACC-1598451071      AUD   \n",
       "\n",
       "        long_lat txn_description                           merchant_id  \\\n",
       "0  153.41 -27.95             POS  81c48296-73be-44a7-befa-d053f48ce7cd   \n",
       "1  153.41 -27.95       SALES-POS  830a451c-316e-4a6a-bf25-e37caedca49e   \n",
       "2  151.23 -33.94             POS  835c231d-8cdf-4e96-859d-e9d571760cf0   \n",
       "3  153.10 -27.66       SALES-POS  48514682-c78a-4a88-b0da-2d6302e64673   \n",
       "4  153.41 -27.95       SALES-POS  b4e02c10-0852-4273-b8fd-7b3395e32eb0   \n",
       "\n",
       "   merchant_code first_name  ...  age merchant_suburb merchant_state  \\\n",
       "0            NaN      Diana  ...   26         Ashmore            QLD   \n",
       "1            NaN      Diana  ...   26          Sydney            NSW   \n",
       "2            NaN    Michael  ...   38          Sydney            NSW   \n",
       "3            NaN     Rhonda  ...   40         Buderim            QLD   \n",
       "4            NaN      Diana  ...   26   Mermaid Beach            QLD   \n",
       "\n",
       "                     extraction amount                    transaction_id  \\\n",
       "0  2018-08-01T01:01:15.000+0000  16.25  a623070bfead4541a6b0fff8a09e706c   \n",
       "1  2018-08-01T01:13:45.000+0000  14.19  13270a2a902145da9db4c951e04b51b9   \n",
       "2  2018-08-01T01:26:15.000+0000   6.42  feb79e7ecd7048a5a36ec889d1a94270   \n",
       "3  2018-08-01T01:38:45.000+0000  40.90  2698170da3704fd981b15e64a006079e   \n",
       "4  2018-08-01T01:51:15.000+0000   3.25  329adf79878c4cf0aeb4188b4691c266   \n",
       "\n",
       "     country     customer_id merchant_long_lat movement  \n",
       "0  Australia  CUS-2487424745     153.38 -27.99    debit  \n",
       "1  Australia  CUS-2487424745     151.21 -33.87    debit  \n",
       "2  Australia  CUS-2142601169     151.21 -33.87    debit  \n",
       "3  Australia  CUS-1614226872     153.05 -26.68    debit  \n",
       "4  Australia  CUS-2487424745     153.44 -28.06    debit  \n",
       "\n",
       "[5 rows x 23 columns]"
      ]
     },
     "execution_count": 35,
     "metadata": {},
     "output_type": "execute_result"
    }
   ],
   "source": [
    "df = pd.read_excel('ANZ synthesised transaction dataset.xlsx')\n",
    "df.head()"
   ]
  },
  {
   "cell_type": "code",
   "execution_count": 6,
   "metadata": {},
   "outputs": [],
   "source": []
  },
  {
   "cell_type": "code",
   "execution_count": 36,
   "metadata": {},
   "outputs": [
    {
     "data": {
      "text/plain": [
       "(12043, 23)"
      ]
     },
     "execution_count": 36,
     "metadata": {},
     "output_type": "execute_result"
    }
   ],
   "source": [
    "df.shape"
   ]
  },
  {
   "cell_type": "code",
   "execution_count": 37,
   "metadata": {},
   "outputs": [
    {
     "name": "stdout",
     "output_type": "stream",
     "text": [
      "<class 'pandas.core.frame.DataFrame'>\n",
      "RangeIndex: 12043 entries, 0 to 12042\n",
      "Data columns (total 23 columns):\n",
      " #   Column             Non-Null Count  Dtype         \n",
      "---  ------             --------------  -----         \n",
      " 0   status             12043 non-null  object        \n",
      " 1   card_present_flag  7717 non-null   float64       \n",
      " 2   bpay_biller_code   885 non-null    object        \n",
      " 3   account            12043 non-null  object        \n",
      " 4   currency           12043 non-null  object        \n",
      " 5   long_lat           12043 non-null  object        \n",
      " 6   txn_description    12043 non-null  object        \n",
      " 7   merchant_id        7717 non-null   object        \n",
      " 8   merchant_code      883 non-null    float64       \n",
      " 9   first_name         12043 non-null  object        \n",
      " 10  balance            12043 non-null  float64       \n",
      " 11  date               12043 non-null  datetime64[ns]\n",
      " 12  gender             12043 non-null  object        \n",
      " 13  age                12043 non-null  int64         \n",
      " 14  merchant_suburb    7717 non-null   object        \n",
      " 15  merchant_state     7717 non-null   object        \n",
      " 16  extraction         12043 non-null  object        \n",
      " 17  amount             12043 non-null  float64       \n",
      " 18  transaction_id     12043 non-null  object        \n",
      " 19  country            12043 non-null  object        \n",
      " 20  customer_id        12043 non-null  object        \n",
      " 21  merchant_long_lat  7717 non-null   object        \n",
      " 22  movement           12043 non-null  object        \n",
      "dtypes: datetime64[ns](1), float64(4), int64(1), object(17)\n",
      "memory usage: 2.1+ MB\n"
     ]
    }
   ],
   "source": [
    "df.info()"
   ]
  },
  {
   "cell_type": "code",
   "execution_count": 38,
   "metadata": {},
   "outputs": [
    {
     "data": {
      "text/plain": [
       "status                   0\n",
       "card_present_flag     4326\n",
       "bpay_biller_code     11158\n",
       "account                  0\n",
       "currency                 0\n",
       "long_lat                 0\n",
       "txn_description          0\n",
       "merchant_id           4326\n",
       "merchant_code        11160\n",
       "first_name               0\n",
       "balance                  0\n",
       "date                     0\n",
       "gender                   0\n",
       "age                      0\n",
       "merchant_suburb       4326\n",
       "merchant_state        4326\n",
       "extraction               0\n",
       "amount                   0\n",
       "transaction_id           0\n",
       "country                  0\n",
       "customer_id              0\n",
       "merchant_long_lat     4326\n",
       "movement                 0\n",
       "dtype: int64"
      ]
     },
     "execution_count": 38,
     "metadata": {},
     "output_type": "execute_result"
    }
   ],
   "source": [
    "df.isnull().sum()"
   ]
  },
  {
   "cell_type": "code",
   "execution_count": 39,
   "metadata": {},
   "outputs": [
    {
     "data": {
      "text/plain": [
       "country\n",
       "Australia    12043\n",
       "Name: count, dtype: int64"
      ]
     },
     "execution_count": 39,
     "metadata": {},
     "output_type": "execute_result"
    }
   ],
   "source": [
    "df.country.value_counts()"
   ]
  },
  {
   "cell_type": "code",
   "execution_count": 40,
   "metadata": {},
   "outputs": [
    {
     "data": {
      "text/plain": [
       "currency\n",
       "AUD    12043\n",
       "Name: count, dtype: int64"
      ]
     },
     "execution_count": 40,
     "metadata": {},
     "output_type": "execute_result"
    }
   ],
   "source": [
    "df.currency.value_counts()"
   ]
  },
  {
   "cell_type": "code",
   "execution_count": 41,
   "metadata": {},
   "outputs": [],
   "source": [
    "df.drop(['bpay_biller_code','merchant_code', 'currency','country'],axis=1,inplace=True)"
   ]
  },
  {
   "cell_type": "code",
   "execution_count": 42,
   "metadata": {},
   "outputs": [
    {
     "data": {
      "text/plain": [
       "0"
      ]
     },
     "execution_count": 42,
     "metadata": {},
     "output_type": "execute_result"
    }
   ],
   "source": [
    "df.duplicated().sum() # NO Duplicates"
   ]
  },
  {
   "cell_type": "code",
   "execution_count": 43,
   "metadata": {},
   "outputs": [],
   "source": [
    "df['age_group']=pd.cut(df.age,[0,20,30,40,50,60,99999],labels=['<20','20-30','30-40','40-50','50-60','>60'])"
   ]
  },
  {
   "cell_type": "code",
   "execution_count": 44,
   "metadata": {},
   "outputs": [],
   "source": [
    "df['extraction']= pd.to_datetime(df['extraction'])"
   ]
  },
  {
   "cell_type": "code",
   "execution_count": 45,
   "metadata": {},
   "outputs": [
    {
     "data": {
      "text/html": [
       "<div>\n",
       "<style scoped>\n",
       "    .dataframe tbody tr th:only-of-type {\n",
       "        vertical-align: middle;\n",
       "    }\n",
       "\n",
       "    .dataframe tbody tr th {\n",
       "        vertical-align: top;\n",
       "    }\n",
       "\n",
       "    .dataframe thead th {\n",
       "        text-align: right;\n",
       "    }\n",
       "</style>\n",
       "<table border=\"1\" class=\"dataframe\">\n",
       "  <thead>\n",
       "    <tr style=\"text-align: right;\">\n",
       "      <th></th>\n",
       "      <th>status</th>\n",
       "      <th>card_present_flag</th>\n",
       "      <th>account</th>\n",
       "      <th>long_lat</th>\n",
       "      <th>txn_description</th>\n",
       "      <th>merchant_id</th>\n",
       "      <th>first_name</th>\n",
       "      <th>balance</th>\n",
       "      <th>date</th>\n",
       "      <th>gender</th>\n",
       "      <th>...</th>\n",
       "      <th>amount</th>\n",
       "      <th>transaction_id</th>\n",
       "      <th>customer_id</th>\n",
       "      <th>merchant_long_lat</th>\n",
       "      <th>movement</th>\n",
       "      <th>age_group</th>\n",
       "      <th>month</th>\n",
       "      <th>day</th>\n",
       "      <th>day_name</th>\n",
       "      <th>hour</th>\n",
       "    </tr>\n",
       "  </thead>\n",
       "  <tbody>\n",
       "    <tr>\n",
       "      <th>0</th>\n",
       "      <td>authorized</td>\n",
       "      <td>1.0</td>\n",
       "      <td>ACC-1598451071</td>\n",
       "      <td>153.41 -27.95</td>\n",
       "      <td>POS</td>\n",
       "      <td>81c48296-73be-44a7-befa-d053f48ce7cd</td>\n",
       "      <td>Diana</td>\n",
       "      <td>35.39</td>\n",
       "      <td>2018-08-01</td>\n",
       "      <td>F</td>\n",
       "      <td>...</td>\n",
       "      <td>16.25</td>\n",
       "      <td>a623070bfead4541a6b0fff8a09e706c</td>\n",
       "      <td>CUS-2487424745</td>\n",
       "      <td>153.38 -27.99</td>\n",
       "      <td>debit</td>\n",
       "      <td>20-30</td>\n",
       "      <td>8</td>\n",
       "      <td>2</td>\n",
       "      <td>Wednesday</td>\n",
       "      <td>1</td>\n",
       "    </tr>\n",
       "    <tr>\n",
       "      <th>1</th>\n",
       "      <td>authorized</td>\n",
       "      <td>0.0</td>\n",
       "      <td>ACC-1598451071</td>\n",
       "      <td>153.41 -27.95</td>\n",
       "      <td>SALES-POS</td>\n",
       "      <td>830a451c-316e-4a6a-bf25-e37caedca49e</td>\n",
       "      <td>Diana</td>\n",
       "      <td>21.20</td>\n",
       "      <td>2018-08-01</td>\n",
       "      <td>F</td>\n",
       "      <td>...</td>\n",
       "      <td>14.19</td>\n",
       "      <td>13270a2a902145da9db4c951e04b51b9</td>\n",
       "      <td>CUS-2487424745</td>\n",
       "      <td>151.21 -33.87</td>\n",
       "      <td>debit</td>\n",
       "      <td>20-30</td>\n",
       "      <td>8</td>\n",
       "      <td>2</td>\n",
       "      <td>Wednesday</td>\n",
       "      <td>1</td>\n",
       "    </tr>\n",
       "    <tr>\n",
       "      <th>2</th>\n",
       "      <td>authorized</td>\n",
       "      <td>1.0</td>\n",
       "      <td>ACC-1222300524</td>\n",
       "      <td>151.23 -33.94</td>\n",
       "      <td>POS</td>\n",
       "      <td>835c231d-8cdf-4e96-859d-e9d571760cf0</td>\n",
       "      <td>Michael</td>\n",
       "      <td>5.71</td>\n",
       "      <td>2018-08-01</td>\n",
       "      <td>M</td>\n",
       "      <td>...</td>\n",
       "      <td>6.42</td>\n",
       "      <td>feb79e7ecd7048a5a36ec889d1a94270</td>\n",
       "      <td>CUS-2142601169</td>\n",
       "      <td>151.21 -33.87</td>\n",
       "      <td>debit</td>\n",
       "      <td>30-40</td>\n",
       "      <td>8</td>\n",
       "      <td>2</td>\n",
       "      <td>Wednesday</td>\n",
       "      <td>1</td>\n",
       "    </tr>\n",
       "    <tr>\n",
       "      <th>3</th>\n",
       "      <td>authorized</td>\n",
       "      <td>1.0</td>\n",
       "      <td>ACC-1037050564</td>\n",
       "      <td>153.10 -27.66</td>\n",
       "      <td>SALES-POS</td>\n",
       "      <td>48514682-c78a-4a88-b0da-2d6302e64673</td>\n",
       "      <td>Rhonda</td>\n",
       "      <td>2117.22</td>\n",
       "      <td>2018-08-01</td>\n",
       "      <td>F</td>\n",
       "      <td>...</td>\n",
       "      <td>40.90</td>\n",
       "      <td>2698170da3704fd981b15e64a006079e</td>\n",
       "      <td>CUS-1614226872</td>\n",
       "      <td>153.05 -26.68</td>\n",
       "      <td>debit</td>\n",
       "      <td>30-40</td>\n",
       "      <td>8</td>\n",
       "      <td>2</td>\n",
       "      <td>Wednesday</td>\n",
       "      <td>1</td>\n",
       "    </tr>\n",
       "    <tr>\n",
       "      <th>4</th>\n",
       "      <td>authorized</td>\n",
       "      <td>1.0</td>\n",
       "      <td>ACC-1598451071</td>\n",
       "      <td>153.41 -27.95</td>\n",
       "      <td>SALES-POS</td>\n",
       "      <td>b4e02c10-0852-4273-b8fd-7b3395e32eb0</td>\n",
       "      <td>Diana</td>\n",
       "      <td>17.95</td>\n",
       "      <td>2018-08-01</td>\n",
       "      <td>F</td>\n",
       "      <td>...</td>\n",
       "      <td>3.25</td>\n",
       "      <td>329adf79878c4cf0aeb4188b4691c266</td>\n",
       "      <td>CUS-2487424745</td>\n",
       "      <td>153.44 -28.06</td>\n",
       "      <td>debit</td>\n",
       "      <td>20-30</td>\n",
       "      <td>8</td>\n",
       "      <td>2</td>\n",
       "      <td>Wednesday</td>\n",
       "      <td>1</td>\n",
       "    </tr>\n",
       "  </tbody>\n",
       "</table>\n",
       "<p>5 rows × 24 columns</p>\n",
       "</div>"
      ],
      "text/plain": [
       "       status  card_present_flag         account       long_lat  \\\n",
       "0  authorized                1.0  ACC-1598451071  153.41 -27.95   \n",
       "1  authorized                0.0  ACC-1598451071  153.41 -27.95   \n",
       "2  authorized                1.0  ACC-1222300524  151.23 -33.94   \n",
       "3  authorized                1.0  ACC-1037050564  153.10 -27.66   \n",
       "4  authorized                1.0  ACC-1598451071  153.41 -27.95   \n",
       "\n",
       "  txn_description                           merchant_id first_name  balance  \\\n",
       "0             POS  81c48296-73be-44a7-befa-d053f48ce7cd      Diana    35.39   \n",
       "1       SALES-POS  830a451c-316e-4a6a-bf25-e37caedca49e      Diana    21.20   \n",
       "2             POS  835c231d-8cdf-4e96-859d-e9d571760cf0    Michael     5.71   \n",
       "3       SALES-POS  48514682-c78a-4a88-b0da-2d6302e64673     Rhonda  2117.22   \n",
       "4       SALES-POS  b4e02c10-0852-4273-b8fd-7b3395e32eb0      Diana    17.95   \n",
       "\n",
       "        date gender  ...  amount                    transaction_id  \\\n",
       "0 2018-08-01      F  ...   16.25  a623070bfead4541a6b0fff8a09e706c   \n",
       "1 2018-08-01      F  ...   14.19  13270a2a902145da9db4c951e04b51b9   \n",
       "2 2018-08-01      M  ...    6.42  feb79e7ecd7048a5a36ec889d1a94270   \n",
       "3 2018-08-01      F  ...   40.90  2698170da3704fd981b15e64a006079e   \n",
       "4 2018-08-01      F  ...    3.25  329adf79878c4cf0aeb4188b4691c266   \n",
       "\n",
       "      customer_id merchant_long_lat  movement age_group month day   day_name  \\\n",
       "0  CUS-2487424745     153.38 -27.99     debit     20-30     8   2  Wednesday   \n",
       "1  CUS-2487424745     151.21 -33.87     debit     20-30     8   2  Wednesday   \n",
       "2  CUS-2142601169     151.21 -33.87     debit     30-40     8   2  Wednesday   \n",
       "3  CUS-1614226872     153.05 -26.68     debit     30-40     8   2  Wednesday   \n",
       "4  CUS-2487424745     153.44 -28.06     debit     20-30     8   2  Wednesday   \n",
       "\n",
       "  hour  \n",
       "0    1  \n",
       "1    1  \n",
       "2    1  \n",
       "3    1  \n",
       "4    1  \n",
       "\n",
       "[5 rows x 24 columns]"
      ]
     },
     "execution_count": 45,
     "metadata": {},
     "output_type": "execute_result"
    }
   ],
   "source": [
    "df['month'] =df['date'].dt.month\n",
    "df['day'] = df['date'].dt.weekday\n",
    "df['day_name'] = df['date'].dt.day_name()\n",
    "df['hour'] = df.extraction.dt.hour\n",
    "# df['hour'] = df['date'].dt.hour\n",
    "df.head()"
   ]
  },
  {
   "cell_type": "code",
   "execution_count": 46,
   "metadata": {},
   "outputs": [],
   "source": [
    "df.card_present_flag = df.card_present_flag.astype('Int64')"
   ]
  },
  {
   "cell_type": "code",
   "execution_count": 47,
   "metadata": {},
   "outputs": [
    {
     "data": {
      "application/vnd.plotly.v1+json": {
       "config": {
        "plotlyServerURL": "https://plot.ly"
       },
       "data": [
        {
         "name": "card_present_flag",
         "text": [
          "80.26%",
          "19.74%"
         ],
         "textposition": "auto",
         "type": "bar",
         "x": [
          1,
          0
         ],
         "xaxis": "x",
         "y": [
          6194,
          1523
         ],
         "yaxis": "y"
        },
        {
         "name": "status",
         "text": [
          "64.08%",
          "35.92%"
         ],
         "textposition": "auto",
         "type": "bar",
         "x": [
          "authorized",
          "posted"
         ],
         "xaxis": "x2",
         "y": [
          7717,
          4326
         ],
         "yaxis": "y2"
        },
        {
         "name": "txn_description",
         "text": [
          "32.67%",
          "31.41%",
          "21.59%",
          "7.33%",
          "6.16%",
          "0.84%"
         ],
         "textposition": "auto",
         "type": "bar",
         "x": [
          "SALES-POS",
          "POS",
          "PAYMENT",
          "PAY/SALARY",
          "INTER BANK",
          "PHONE BANK"
         ],
         "xaxis": "x3",
         "y": [
          3934,
          3783,
          2600,
          883,
          742,
          101
         ],
         "yaxis": "y3"
        },
        {
         "name": "movement",
         "text": [
          "92.67%",
          "7.33%"
         ],
         "textposition": "auto",
         "type": "bar",
         "x": [
          "debit",
          "credit"
         ],
         "xaxis": "x4",
         "y": [
          11160,
          883
         ],
         "yaxis": "y4"
        },
        {
         "name": "gender",
         "text": [
          "52.19%",
          "47.81%"
         ],
         "textposition": "auto",
         "type": "bar",
         "x": [
          "M",
          "F"
         ],
         "xaxis": "x5",
         "y": [
          6285,
          5758
         ],
         "yaxis": "y5"
        },
        {
         "name": "merchant_state",
         "text": [
          "28.11%",
          "27.61%",
          "20.16%",
          "14.25%",
          "5.38%",
          "2.66%",
          "0.95%",
          "0.88%"
         ],
         "textposition": "auto",
         "type": "bar",
         "x": [
          "NSW",
          "VIC",
          "QLD",
          "WA",
          "SA",
          "NT",
          "ACT",
          "TAS"
         ],
         "xaxis": "x6",
         "y": [
          2169,
          2131,
          1556,
          1100,
          415,
          205,
          73,
          68
         ],
         "yaxis": "y6"
        }
       ],
       "layout": {
        "annotations": [
         {
          "font": {
           "size": 16
          },
          "showarrow": false,
          "text": "card_present_flag",
          "x": 0.2,
          "xanchor": "center",
          "xref": "paper",
          "y": 1,
          "yanchor": "bottom",
          "yref": "paper"
         },
         {
          "font": {
           "size": 16
          },
          "showarrow": false,
          "text": "status",
          "x": 0.8,
          "xanchor": "center",
          "xref": "paper",
          "y": 1,
          "yanchor": "bottom",
          "yref": "paper"
         },
         {
          "font": {
           "size": 16
          },
          "showarrow": false,
          "text": "txn_description",
          "x": 0.2,
          "xanchor": "center",
          "xref": "paper",
          "y": 0.6,
          "yanchor": "bottom",
          "yref": "paper"
         },
         {
          "font": {
           "size": 16
          },
          "showarrow": false,
          "text": "movement",
          "x": 0.8,
          "xanchor": "center",
          "xref": "paper",
          "y": 0.6,
          "yanchor": "bottom",
          "yref": "paper"
         },
         {
          "font": {
           "size": 16
          },
          "showarrow": false,
          "text": "gender",
          "x": 0.2,
          "xanchor": "center",
          "xref": "paper",
          "y": 0.19999999999999998,
          "yanchor": "bottom",
          "yref": "paper"
         },
         {
          "font": {
           "size": 16
          },
          "showarrow": false,
          "text": "merchant_st",
          "x": 0.8,
          "xanchor": "center",
          "xref": "paper",
          "y": 0.19999999999999998,
          "yanchor": "bottom",
          "yref": "paper"
         }
        ],
        "height": 920,
        "margin": {
         "b": 80,
         "l": 80,
         "r": 80,
         "t": 150
        },
        "showlegend": false,
        "template": {
         "data": {
          "bar": [
           {
            "error_x": {
             "color": "#2a3f5f"
            },
            "error_y": {
             "color": "#2a3f5f"
            },
            "marker": {
             "line": {
              "color": "#E5ECF6",
              "width": 0.5
             },
             "pattern": {
              "fillmode": "overlay",
              "size": 10,
              "solidity": 0.2
             }
            },
            "type": "bar"
           }
          ],
          "barpolar": [
           {
            "marker": {
             "line": {
              "color": "#E5ECF6",
              "width": 0.5
             },
             "pattern": {
              "fillmode": "overlay",
              "size": 10,
              "solidity": 0.2
             }
            },
            "type": "barpolar"
           }
          ],
          "carpet": [
           {
            "aaxis": {
             "endlinecolor": "#2a3f5f",
             "gridcolor": "white",
             "linecolor": "white",
             "minorgridcolor": "white",
             "startlinecolor": "#2a3f5f"
            },
            "baxis": {
             "endlinecolor": "#2a3f5f",
             "gridcolor": "white",
             "linecolor": "white",
             "minorgridcolor": "white",
             "startlinecolor": "#2a3f5f"
            },
            "type": "carpet"
           }
          ],
          "choropleth": [
           {
            "colorbar": {
             "outlinewidth": 0,
             "ticks": ""
            },
            "type": "choropleth"
           }
          ],
          "contour": [
           {
            "colorbar": {
             "outlinewidth": 0,
             "ticks": ""
            },
            "colorscale": [
             [
              0,
              "#0d0887"
             ],
             [
              0.1111111111111111,
              "#46039f"
             ],
             [
              0.2222222222222222,
              "#7201a8"
             ],
             [
              0.3333333333333333,
              "#9c179e"
             ],
             [
              0.4444444444444444,
              "#bd3786"
             ],
             [
              0.5555555555555556,
              "#d8576b"
             ],
             [
              0.6666666666666666,
              "#ed7953"
             ],
             [
              0.7777777777777778,
              "#fb9f3a"
             ],
             [
              0.8888888888888888,
              "#fdca26"
             ],
             [
              1,
              "#f0f921"
             ]
            ],
            "type": "contour"
           }
          ],
          "contourcarpet": [
           {
            "colorbar": {
             "outlinewidth": 0,
             "ticks": ""
            },
            "type": "contourcarpet"
           }
          ],
          "heatmap": [
           {
            "colorbar": {
             "outlinewidth": 0,
             "ticks": ""
            },
            "colorscale": [
             [
              0,
              "#0d0887"
             ],
             [
              0.1111111111111111,
              "#46039f"
             ],
             [
              0.2222222222222222,
              "#7201a8"
             ],
             [
              0.3333333333333333,
              "#9c179e"
             ],
             [
              0.4444444444444444,
              "#bd3786"
             ],
             [
              0.5555555555555556,
              "#d8576b"
             ],
             [
              0.6666666666666666,
              "#ed7953"
             ],
             [
              0.7777777777777778,
              "#fb9f3a"
             ],
             [
              0.8888888888888888,
              "#fdca26"
             ],
             [
              1,
              "#f0f921"
             ]
            ],
            "type": "heatmap"
           }
          ],
          "heatmapgl": [
           {
            "colorbar": {
             "outlinewidth": 0,
             "ticks": ""
            },
            "colorscale": [
             [
              0,
              "#0d0887"
             ],
             [
              0.1111111111111111,
              "#46039f"
             ],
             [
              0.2222222222222222,
              "#7201a8"
             ],
             [
              0.3333333333333333,
              "#9c179e"
             ],
             [
              0.4444444444444444,
              "#bd3786"
             ],
             [
              0.5555555555555556,
              "#d8576b"
             ],
             [
              0.6666666666666666,
              "#ed7953"
             ],
             [
              0.7777777777777778,
              "#fb9f3a"
             ],
             [
              0.8888888888888888,
              "#fdca26"
             ],
             [
              1,
              "#f0f921"
             ]
            ],
            "type": "heatmapgl"
           }
          ],
          "histogram": [
           {
            "marker": {
             "pattern": {
              "fillmode": "overlay",
              "size": 10,
              "solidity": 0.2
             }
            },
            "type": "histogram"
           }
          ],
          "histogram2d": [
           {
            "colorbar": {
             "outlinewidth": 0,
             "ticks": ""
            },
            "colorscale": [
             [
              0,
              "#0d0887"
             ],
             [
              0.1111111111111111,
              "#46039f"
             ],
             [
              0.2222222222222222,
              "#7201a8"
             ],
             [
              0.3333333333333333,
              "#9c179e"
             ],
             [
              0.4444444444444444,
              "#bd3786"
             ],
             [
              0.5555555555555556,
              "#d8576b"
             ],
             [
              0.6666666666666666,
              "#ed7953"
             ],
             [
              0.7777777777777778,
              "#fb9f3a"
             ],
             [
              0.8888888888888888,
              "#fdca26"
             ],
             [
              1,
              "#f0f921"
             ]
            ],
            "type": "histogram2d"
           }
          ],
          "histogram2dcontour": [
           {
            "colorbar": {
             "outlinewidth": 0,
             "ticks": ""
            },
            "colorscale": [
             [
              0,
              "#0d0887"
             ],
             [
              0.1111111111111111,
              "#46039f"
             ],
             [
              0.2222222222222222,
              "#7201a8"
             ],
             [
              0.3333333333333333,
              "#9c179e"
             ],
             [
              0.4444444444444444,
              "#bd3786"
             ],
             [
              0.5555555555555556,
              "#d8576b"
             ],
             [
              0.6666666666666666,
              "#ed7953"
             ],
             [
              0.7777777777777778,
              "#fb9f3a"
             ],
             [
              0.8888888888888888,
              "#fdca26"
             ],
             [
              1,
              "#f0f921"
             ]
            ],
            "type": "histogram2dcontour"
           }
          ],
          "mesh3d": [
           {
            "colorbar": {
             "outlinewidth": 0,
             "ticks": ""
            },
            "type": "mesh3d"
           }
          ],
          "parcoords": [
           {
            "line": {
             "colorbar": {
              "outlinewidth": 0,
              "ticks": ""
             }
            },
            "type": "parcoords"
           }
          ],
          "pie": [
           {
            "automargin": true,
            "type": "pie"
           }
          ],
          "scatter": [
           {
            "fillpattern": {
             "fillmode": "overlay",
             "size": 10,
             "solidity": 0.2
            },
            "type": "scatter"
           }
          ],
          "scatter3d": [
           {
            "line": {
             "colorbar": {
              "outlinewidth": 0,
              "ticks": ""
             }
            },
            "marker": {
             "colorbar": {
              "outlinewidth": 0,
              "ticks": ""
             }
            },
            "type": "scatter3d"
           }
          ],
          "scattercarpet": [
           {
            "marker": {
             "colorbar": {
              "outlinewidth": 0,
              "ticks": ""
             }
            },
            "type": "scattercarpet"
           }
          ],
          "scattergeo": [
           {
            "marker": {
             "colorbar": {
              "outlinewidth": 0,
              "ticks": ""
             }
            },
            "type": "scattergeo"
           }
          ],
          "scattergl": [
           {
            "marker": {
             "colorbar": {
              "outlinewidth": 0,
              "ticks": ""
             }
            },
            "type": "scattergl"
           }
          ],
          "scattermapbox": [
           {
            "marker": {
             "colorbar": {
              "outlinewidth": 0,
              "ticks": ""
             }
            },
            "type": "scattermapbox"
           }
          ],
          "scatterpolar": [
           {
            "marker": {
             "colorbar": {
              "outlinewidth": 0,
              "ticks": ""
             }
            },
            "type": "scatterpolar"
           }
          ],
          "scatterpolargl": [
           {
            "marker": {
             "colorbar": {
              "outlinewidth": 0,
              "ticks": ""
             }
            },
            "type": "scatterpolargl"
           }
          ],
          "scatterternary": [
           {
            "marker": {
             "colorbar": {
              "outlinewidth": 0,
              "ticks": ""
             }
            },
            "type": "scatterternary"
           }
          ],
          "surface": [
           {
            "colorbar": {
             "outlinewidth": 0,
             "ticks": ""
            },
            "colorscale": [
             [
              0,
              "#0d0887"
             ],
             [
              0.1111111111111111,
              "#46039f"
             ],
             [
              0.2222222222222222,
              "#7201a8"
             ],
             [
              0.3333333333333333,
              "#9c179e"
             ],
             [
              0.4444444444444444,
              "#bd3786"
             ],
             [
              0.5555555555555556,
              "#d8576b"
             ],
             [
              0.6666666666666666,
              "#ed7953"
             ],
             [
              0.7777777777777778,
              "#fb9f3a"
             ],
             [
              0.8888888888888888,
              "#fdca26"
             ],
             [
              1,
              "#f0f921"
             ]
            ],
            "type": "surface"
           }
          ],
          "table": [
           {
            "cells": {
             "fill": {
              "color": "#EBF0F8"
             },
             "line": {
              "color": "white"
             }
            },
            "header": {
             "fill": {
              "color": "#C8D4E3"
             },
             "line": {
              "color": "white"
             }
            },
            "type": "table"
           }
          ]
         },
         "layout": {
          "annotationdefaults": {
           "arrowcolor": "#2a3f5f",
           "arrowhead": 0,
           "arrowwidth": 1
          },
          "autotypenumbers": "strict",
          "coloraxis": {
           "colorbar": {
            "outlinewidth": 0,
            "ticks": ""
           }
          },
          "colorscale": {
           "diverging": [
            [
             0,
             "#8e0152"
            ],
            [
             0.1,
             "#c51b7d"
            ],
            [
             0.2,
             "#de77ae"
            ],
            [
             0.3,
             "#f1b6da"
            ],
            [
             0.4,
             "#fde0ef"
            ],
            [
             0.5,
             "#f7f7f7"
            ],
            [
             0.6,
             "#e6f5d0"
            ],
            [
             0.7,
             "#b8e186"
            ],
            [
             0.8,
             "#7fbc41"
            ],
            [
             0.9,
             "#4d9221"
            ],
            [
             1,
             "#276419"
            ]
           ],
           "sequential": [
            [
             0,
             "#0d0887"
            ],
            [
             0.1111111111111111,
             "#46039f"
            ],
            [
             0.2222222222222222,
             "#7201a8"
            ],
            [
             0.3333333333333333,
             "#9c179e"
            ],
            [
             0.4444444444444444,
             "#bd3786"
            ],
            [
             0.5555555555555556,
             "#d8576b"
            ],
            [
             0.6666666666666666,
             "#ed7953"
            ],
            [
             0.7777777777777778,
             "#fb9f3a"
            ],
            [
             0.8888888888888888,
             "#fdca26"
            ],
            [
             1,
             "#f0f921"
            ]
           ],
           "sequentialminus": [
            [
             0,
             "#0d0887"
            ],
            [
             0.1111111111111111,
             "#46039f"
            ],
            [
             0.2222222222222222,
             "#7201a8"
            ],
            [
             0.3333333333333333,
             "#9c179e"
            ],
            [
             0.4444444444444444,
             "#bd3786"
            ],
            [
             0.5555555555555556,
             "#d8576b"
            ],
            [
             0.6666666666666666,
             "#ed7953"
            ],
            [
             0.7777777777777778,
             "#fb9f3a"
            ],
            [
             0.8888888888888888,
             "#fdca26"
            ],
            [
             1,
             "#f0f921"
            ]
           ]
          },
          "colorway": [
           "#636efa",
           "#EF553B",
           "#00cc96",
           "#ab63fa",
           "#FFA15A",
           "#19d3f3",
           "#FF6692",
           "#B6E880",
           "#FF97FF",
           "#FECB52"
          ],
          "font": {
           "color": "#2a3f5f"
          },
          "geo": {
           "bgcolor": "white",
           "lakecolor": "white",
           "landcolor": "#E5ECF6",
           "showlakes": true,
           "showland": true,
           "subunitcolor": "white"
          },
          "hoverlabel": {
           "align": "left"
          },
          "hovermode": "closest",
          "mapbox": {
           "style": "light"
          },
          "paper_bgcolor": "white",
          "plot_bgcolor": "#E5ECF6",
          "polar": {
           "angularaxis": {
            "gridcolor": "white",
            "linecolor": "white",
            "ticks": ""
           },
           "bgcolor": "#E5ECF6",
           "radialaxis": {
            "gridcolor": "white",
            "linecolor": "white",
            "ticks": ""
           }
          },
          "scene": {
           "xaxis": {
            "backgroundcolor": "#E5ECF6",
            "gridcolor": "white",
            "gridwidth": 2,
            "linecolor": "white",
            "showbackground": true,
            "ticks": "",
            "zerolinecolor": "white"
           },
           "yaxis": {
            "backgroundcolor": "#E5ECF6",
            "gridcolor": "white",
            "gridwidth": 2,
            "linecolor": "white",
            "showbackground": true,
            "ticks": "",
            "zerolinecolor": "white"
           },
           "zaxis": {
            "backgroundcolor": "#E5ECF6",
            "gridcolor": "white",
            "gridwidth": 2,
            "linecolor": "white",
            "showbackground": true,
            "ticks": "",
            "zerolinecolor": "white"
           }
          },
          "shapedefaults": {
           "line": {
            "color": "#2a3f5f"
           }
          },
          "ternary": {
           "aaxis": {
            "gridcolor": "white",
            "linecolor": "white",
            "ticks": ""
           },
           "baxis": {
            "gridcolor": "white",
            "linecolor": "white",
            "ticks": ""
           },
           "bgcolor": "#E5ECF6",
           "caxis": {
            "gridcolor": "white",
            "linecolor": "white",
            "ticks": ""
           }
          },
          "title": {
           "x": 0.05
          },
          "xaxis": {
           "automargin": true,
           "gridcolor": "white",
           "linecolor": "white",
           "ticks": "",
           "title": {
            "standoff": 15
           },
           "zerolinecolor": "white",
           "zerolinewidth": 2
          },
          "yaxis": {
           "automargin": true,
           "gridcolor": "white",
           "linecolor": "white",
           "ticks": "",
           "title": {
            "standoff": 15
           },
           "zerolinecolor": "white",
           "zerolinewidth": 2
          }
         }
        },
        "title": {
         "font": {
          "size": 20
         },
         "text": "Analyze Categorical variables (Frequency / Percentage)",
         "x": 0.5,
         "y": 0.95
        },
        "width": 980,
        "xaxis": {
         "anchor": "y",
         "domain": [
          0,
          0.4
         ],
         "showgrid": false
        },
        "xaxis2": {
         "anchor": "y2",
         "domain": [
          0.6000000000000001,
          1
         ],
         "showgrid": false
        },
        "xaxis3": {
         "anchor": "y3",
         "domain": [
          0,
          0.4
         ],
         "showgrid": false
        },
        "xaxis4": {
         "anchor": "y4",
         "domain": [
          0.6000000000000001,
          1
         ],
         "showgrid": false
        },
        "xaxis5": {
         "anchor": "y5",
         "domain": [
          0,
          0.4
         ],
         "showgrid": false
        },
        "xaxis6": {
         "anchor": "y6",
         "domain": [
          0.6000000000000001,
          1
         ],
         "showgrid": false
        },
        "yaxis": {
         "anchor": "x",
         "domain": [
          0.8,
          1
         ],
         "showgrid": false
        },
        "yaxis2": {
         "anchor": "x2",
         "domain": [
          0.8,
          1
         ],
         "showgrid": false
        },
        "yaxis3": {
         "anchor": "x3",
         "domain": [
          0.4,
          0.6
         ],
         "showgrid": false
        },
        "yaxis4": {
         "anchor": "x4",
         "domain": [
          0.4,
          0.6
         ],
         "showgrid": false
        },
        "yaxis5": {
         "anchor": "x5",
         "domain": [
          0,
          0.19999999999999998
         ],
         "showgrid": false
        },
        "yaxis6": {
         "anchor": "x6",
         "domain": [
          0,
          0.19999999999999998
         ],
         "showgrid": false
        }
       }
      }
     },
     "metadata": {},
     "output_type": "display_data"
    }
   ],
   "source": [
    "cols = ['card_present_flag', 'status', 'txn_description' , 'movement' , 'gender', 'merchant_state']\n",
    "cols = ['card_present_flag', 'status', 'txn_description' , 'movement' , 'gender', 'merchant_state'] \n",
    "#Subplot initialization \n",
    "fig = make_subplots(\n",
    "    rows=3,  cols=2, \n",
    "    subplot_titles=('card_present_flag', 'status', 'txn_description' , 'movement','gender', 'merchant_st'),  \n",
    "    horizontal_spacing=0.2, vertical_spacing=0.2 ) \n",
    "# Adding subplots \n",
    "count=0 \n",
    "for i in range(1,4): \n",
    "    for j in range(1,3): \n",
    "        fig.add_trace(go.Bar(x=df[cols[count]].value_counts().index,  \n",
    "            y=df[cols[count]].value_counts(), \n",
    "            name=cols[count], \n",
    "            textposition='auto', \n",
    "            text= [str(i) + '%' for i in (df[cols[count]].value_counts(normalize=True)*100).round(2).tolist()]), \n",
    "            row=i,col=j) \n",
    "        fig.update_xaxes(showgrid=False)  \n",
    "        fig.update_yaxes(showgrid=False) \n",
    "        count+=1 \n",
    "\n",
    "\n",
    "fig.update_layout( \n",
    "    title=dict(text = \"Analyze Categorical variables (Frequency / Percentage)\",x=0.5,y=0.95),  title_font_size=20, \n",
    "    showlegend=False, \n",
    "    width = 980, \n",
    "    height = 920, \n",
    "    margin=dict(l=80, r=80, t=150, b=80) \n",
    "    ) \n",
    "\n",
    "fig.show()\n",
    "\n"
   ]
  },
  {
   "cell_type": "code",
   "execution_count": 48,
   "metadata": {},
   "outputs": [
    {
     "data": {
      "application/vnd.jupyter.widget-view+json": {
       "model_id": "dc74738ed92748febacb6e8bfbb46a22",
       "version_major": 2,
       "version_minor": 0
      },
      "text/plain": [
       "Box(children=(HTML(value='\\n<div id=\"ifr-pyg-000622b61b41183c0wzd38iynU6DaZlh\" style=\"height: auto\">\\n    <hea…"
      ]
     },
     "metadata": {},
     "output_type": "display_data"
    },
    {
     "data": {
      "text/html": [
       "<script>\n",
       "    window.addEventListener(\"message\", function(event) {\n",
       "        const backgroundMap = {\n",
       "            \"dark\": \"hsl(240 10% 3.9%)\",\n",
       "            \"light\": \"hsl(0 0 100%)\",\n",
       "        };\n",
       "        const colorMap = {\n",
       "            \"dark\": \"hsl(0 0% 98%)\",\n",
       "            \"light\": \"hsl(240 10% 3.9%)\",\n",
       "        };\n",
       "        if (event.data.action === \"changeAppearance\" && event.data.gid === \"000622b61b41183c0wzd38iynU6DaZlh\") {\n",
       "            var iframe = document.getElementById(\"gwalker-000622b61b41183c0wzd38iynU6DaZlh\");\n",
       "            iframe.style.background  = backgroundMap[event.data.appearance];\n",
       "            iframe.style.color = colorMap[event.data.appearance];\n",
       "        }\n",
       "    });\n",
       "</script>"
      ],
      "text/plain": [
       "<IPython.core.display.HTML object>"
      ]
     },
     "metadata": {},
     "output_type": "display_data"
    },
    {
     "data": {
      "text/html": [],
      "text/plain": [
       "<IPython.core.display.HTML object>"
      ]
     },
     "metadata": {},
     "output_type": "display_data"
    }
   ],
   "source": [
    "import pygwalker as pyg\n",
    "walker0 = pyg.walk(df)\n",
    "# walker0.display_on_jupyter()"
   ]
  },
  {
   "cell_type": "code",
   "execution_count": 49,
   "metadata": {},
   "outputs": [],
   "source": [
    "# df[['txn_description','amount']]"
   ]
  },
  {
   "cell_type": "code",
   "execution_count": 50,
   "metadata": {},
   "outputs": [
    {
     "data": {
      "text/plain": [
       "status                            object\n",
       "card_present_flag                  Int64\n",
       "account                           object\n",
       "long_lat                          object\n",
       "txn_description                   object\n",
       "merchant_id                       object\n",
       "first_name                        object\n",
       "balance                          float64\n",
       "date                      datetime64[ns]\n",
       "gender                            object\n",
       "age                                int64\n",
       "merchant_suburb                   object\n",
       "merchant_state                    object\n",
       "extraction           datetime64[ns, UTC]\n",
       "amount                           float64\n",
       "transaction_id                    object\n",
       "customer_id                       object\n",
       "merchant_long_lat                 object\n",
       "movement                          object\n",
       "age_group                       category\n",
       "month                              int32\n",
       "day                                int32\n",
       "day_name                          object\n",
       "hour                               int32\n",
       "dtype: object"
      ]
     },
     "execution_count": 50,
     "metadata": {},
     "output_type": "execute_result"
    }
   ],
   "source": [
    "df.dtypes"
   ]
  },
  {
   "cell_type": "code",
   "execution_count": 51,
   "metadata": {},
   "outputs": [],
   "source": [
    "df2=df.select_dtypes(include=['float64','Int64','Int32', 'object','category'])"
   ]
  },
  {
   "cell_type": "code",
   "execution_count": 52,
   "metadata": {},
   "outputs": [],
   "source": [
    "# df2.select_dtypes(include=['float64','Int64','object']).groupby(by='txn_description').sum() #[['amount']].reset_index()"
   ]
  },
  {
   "cell_type": "code",
   "execution_count": 53,
   "metadata": {},
   "outputs": [
    {
     "data": {
      "text/html": [
       "<div>\n",
       "<style scoped>\n",
       "    .dataframe tbody tr th:only-of-type {\n",
       "        vertical-align: middle;\n",
       "    }\n",
       "\n",
       "    .dataframe tbody tr th {\n",
       "        vertical-align: top;\n",
       "    }\n",
       "\n",
       "    .dataframe thead th {\n",
       "        text-align: right;\n",
       "    }\n",
       "</style>\n",
       "<table border=\"1\" class=\"dataframe\">\n",
       "  <thead>\n",
       "    <tr style=\"text-align: right;\">\n",
       "      <th></th>\n",
       "      <th>txn_description</th>\n",
       "      <th>amount</th>\n",
       "    </tr>\n",
       "  </thead>\n",
       "  <tbody>\n",
       "    <tr>\n",
       "      <th>0</th>\n",
       "      <td>INTER BANK</td>\n",
       "      <td>64331</td>\n",
       "    </tr>\n",
       "    <tr>\n",
       "      <th>1</th>\n",
       "      <td>PAY/SALARY</td>\n",
       "      <td>1676577</td>\n",
       "    </tr>\n",
       "    <tr>\n",
       "      <th>2</th>\n",
       "      <td>PAYMENT</td>\n",
       "      <td>201794</td>\n",
       "    </tr>\n",
       "    <tr>\n",
       "      <th>3</th>\n",
       "      <td>PHONE BANK</td>\n",
       "      <td>10716</td>\n",
       "    </tr>\n",
       "    <tr>\n",
       "      <th>4</th>\n",
       "      <td>POS</td>\n",
       "      <td>152861</td>\n",
       "    </tr>\n",
       "  </tbody>\n",
       "</table>\n",
       "</div>"
      ],
      "text/plain": [
       "  txn_description   amount\n",
       "0      INTER BANK    64331\n",
       "1      PAY/SALARY  1676577\n",
       "2         PAYMENT   201794\n",
       "3      PHONE BANK    10716\n",
       "4             POS   152861"
      ]
     },
     "execution_count": 53,
     "metadata": {},
     "output_type": "execute_result"
    }
   ],
   "source": [
    "df0_grp=df2[['txn_description','amount']].groupby(by='txn_description').sum()[['amount']].reset_index()\n",
    "df0_grp.amount=df0_grp.amount.apply(lambda x:round(x))\n",
    "df0_grp.head()"
   ]
  },
  {
   "cell_type": "code",
   "execution_count": 54,
   "metadata": {},
   "outputs": [
    {
     "data": {
      "application/vnd.plotly.v1+json": {
       "config": {
        "plotlyServerURL": "https://plot.ly"
       },
       "data": [
        {
         "branchvalues": "total",
         "customdata": [
          [
           64331
          ],
          [
           1676577
          ],
          [
           201794
          ],
          [
           10716
          ],
          [
           152861
          ],
          [
           157005
          ]
         ],
         "domain": {
          "x": [
           0,
           1
          ],
          "y": [
           0,
           1
          ]
         },
         "hovertemplate": "labels=%{label}<br>amount_sum=%{value}<br>parent=%{parent}<br>id=%{id}<br>amount=%{color}<extra></extra>",
         "ids": [
          "INTER BANK",
          "PAY/SALARY",
          "PAYMENT",
          "PHONE BANK",
          "POS",
          "SALES-POS"
         ],
         "labels": [
          "INTER BANK",
          "PAY/SALARY",
          "PAYMENT",
          "PHONE BANK",
          "POS",
          "SALES-POS"
         ],
         "marker": {
          "colors": [
           64331,
           1676577,
           201794,
           10716,
           152861,
           157005
          ]
         },
         "name": "",
         "parents": [
          "",
          "",
          "",
          "",
          "",
          ""
         ],
         "textinfo": "label+value",
         "type": "treemap",
         "values": [
          64331,
          1676577,
          201794,
          10716,
          152861,
          157005
         ]
        }
       ],
       "layout": {
        "coloraxis": {
         "colorbar": {
          "title": {
           "text": "amount"
          }
         },
         "colorscale": [
          [
           0,
           "#0d0887"
          ],
          [
           0.1111111111111111,
           "#46039f"
          ],
          [
           0.2222222222222222,
           "#7201a8"
          ],
          [
           0.3333333333333333,
           "#9c179e"
          ],
          [
           0.4444444444444444,
           "#bd3786"
          ],
          [
           0.5555555555555556,
           "#d8576b"
          ],
          [
           0.6666666666666666,
           "#ed7953"
          ],
          [
           0.7777777777777778,
           "#fb9f3a"
          ],
          [
           0.8888888888888888,
           "#fdca26"
          ],
          [
           1,
           "#f0f921"
          ]
         ]
        },
        "legend": {
         "tracegroupgap": 0
        },
        "margin": {
         "b": 10,
         "l": 10,
         "r": 10,
         "t": 70
        },
        "template": {
         "data": {
          "bar": [
           {
            "error_x": {
             "color": "#2a3f5f"
            },
            "error_y": {
             "color": "#2a3f5f"
            },
            "marker": {
             "line": {
              "color": "#E5ECF6",
              "width": 0.5
             },
             "pattern": {
              "fillmode": "overlay",
              "size": 10,
              "solidity": 0.2
             }
            },
            "type": "bar"
           }
          ],
          "barpolar": [
           {
            "marker": {
             "line": {
              "color": "#E5ECF6",
              "width": 0.5
             },
             "pattern": {
              "fillmode": "overlay",
              "size": 10,
              "solidity": 0.2
             }
            },
            "type": "barpolar"
           }
          ],
          "carpet": [
           {
            "aaxis": {
             "endlinecolor": "#2a3f5f",
             "gridcolor": "white",
             "linecolor": "white",
             "minorgridcolor": "white",
             "startlinecolor": "#2a3f5f"
            },
            "baxis": {
             "endlinecolor": "#2a3f5f",
             "gridcolor": "white",
             "linecolor": "white",
             "minorgridcolor": "white",
             "startlinecolor": "#2a3f5f"
            },
            "type": "carpet"
           }
          ],
          "choropleth": [
           {
            "colorbar": {
             "outlinewidth": 0,
             "ticks": ""
            },
            "type": "choropleth"
           }
          ],
          "contour": [
           {
            "colorbar": {
             "outlinewidth": 0,
             "ticks": ""
            },
            "colorscale": [
             [
              0,
              "#0d0887"
             ],
             [
              0.1111111111111111,
              "#46039f"
             ],
             [
              0.2222222222222222,
              "#7201a8"
             ],
             [
              0.3333333333333333,
              "#9c179e"
             ],
             [
              0.4444444444444444,
              "#bd3786"
             ],
             [
              0.5555555555555556,
              "#d8576b"
             ],
             [
              0.6666666666666666,
              "#ed7953"
             ],
             [
              0.7777777777777778,
              "#fb9f3a"
             ],
             [
              0.8888888888888888,
              "#fdca26"
             ],
             [
              1,
              "#f0f921"
             ]
            ],
            "type": "contour"
           }
          ],
          "contourcarpet": [
           {
            "colorbar": {
             "outlinewidth": 0,
             "ticks": ""
            },
            "type": "contourcarpet"
           }
          ],
          "heatmap": [
           {
            "colorbar": {
             "outlinewidth": 0,
             "ticks": ""
            },
            "colorscale": [
             [
              0,
              "#0d0887"
             ],
             [
              0.1111111111111111,
              "#46039f"
             ],
             [
              0.2222222222222222,
              "#7201a8"
             ],
             [
              0.3333333333333333,
              "#9c179e"
             ],
             [
              0.4444444444444444,
              "#bd3786"
             ],
             [
              0.5555555555555556,
              "#d8576b"
             ],
             [
              0.6666666666666666,
              "#ed7953"
             ],
             [
              0.7777777777777778,
              "#fb9f3a"
             ],
             [
              0.8888888888888888,
              "#fdca26"
             ],
             [
              1,
              "#f0f921"
             ]
            ],
            "type": "heatmap"
           }
          ],
          "heatmapgl": [
           {
            "colorbar": {
             "outlinewidth": 0,
             "ticks": ""
            },
            "colorscale": [
             [
              0,
              "#0d0887"
             ],
             [
              0.1111111111111111,
              "#46039f"
             ],
             [
              0.2222222222222222,
              "#7201a8"
             ],
             [
              0.3333333333333333,
              "#9c179e"
             ],
             [
              0.4444444444444444,
              "#bd3786"
             ],
             [
              0.5555555555555556,
              "#d8576b"
             ],
             [
              0.6666666666666666,
              "#ed7953"
             ],
             [
              0.7777777777777778,
              "#fb9f3a"
             ],
             [
              0.8888888888888888,
              "#fdca26"
             ],
             [
              1,
              "#f0f921"
             ]
            ],
            "type": "heatmapgl"
           }
          ],
          "histogram": [
           {
            "marker": {
             "pattern": {
              "fillmode": "overlay",
              "size": 10,
              "solidity": 0.2
             }
            },
            "type": "histogram"
           }
          ],
          "histogram2d": [
           {
            "colorbar": {
             "outlinewidth": 0,
             "ticks": ""
            },
            "colorscale": [
             [
              0,
              "#0d0887"
             ],
             [
              0.1111111111111111,
              "#46039f"
             ],
             [
              0.2222222222222222,
              "#7201a8"
             ],
             [
              0.3333333333333333,
              "#9c179e"
             ],
             [
              0.4444444444444444,
              "#bd3786"
             ],
             [
              0.5555555555555556,
              "#d8576b"
             ],
             [
              0.6666666666666666,
              "#ed7953"
             ],
             [
              0.7777777777777778,
              "#fb9f3a"
             ],
             [
              0.8888888888888888,
              "#fdca26"
             ],
             [
              1,
              "#f0f921"
             ]
            ],
            "type": "histogram2d"
           }
          ],
          "histogram2dcontour": [
           {
            "colorbar": {
             "outlinewidth": 0,
             "ticks": ""
            },
            "colorscale": [
             [
              0,
              "#0d0887"
             ],
             [
              0.1111111111111111,
              "#46039f"
             ],
             [
              0.2222222222222222,
              "#7201a8"
             ],
             [
              0.3333333333333333,
              "#9c179e"
             ],
             [
              0.4444444444444444,
              "#bd3786"
             ],
             [
              0.5555555555555556,
              "#d8576b"
             ],
             [
              0.6666666666666666,
              "#ed7953"
             ],
             [
              0.7777777777777778,
              "#fb9f3a"
             ],
             [
              0.8888888888888888,
              "#fdca26"
             ],
             [
              1,
              "#f0f921"
             ]
            ],
            "type": "histogram2dcontour"
           }
          ],
          "mesh3d": [
           {
            "colorbar": {
             "outlinewidth": 0,
             "ticks": ""
            },
            "type": "mesh3d"
           }
          ],
          "parcoords": [
           {
            "line": {
             "colorbar": {
              "outlinewidth": 0,
              "ticks": ""
             }
            },
            "type": "parcoords"
           }
          ],
          "pie": [
           {
            "automargin": true,
            "type": "pie"
           }
          ],
          "scatter": [
           {
            "fillpattern": {
             "fillmode": "overlay",
             "size": 10,
             "solidity": 0.2
            },
            "type": "scatter"
           }
          ],
          "scatter3d": [
           {
            "line": {
             "colorbar": {
              "outlinewidth": 0,
              "ticks": ""
             }
            },
            "marker": {
             "colorbar": {
              "outlinewidth": 0,
              "ticks": ""
             }
            },
            "type": "scatter3d"
           }
          ],
          "scattercarpet": [
           {
            "marker": {
             "colorbar": {
              "outlinewidth": 0,
              "ticks": ""
             }
            },
            "type": "scattercarpet"
           }
          ],
          "scattergeo": [
           {
            "marker": {
             "colorbar": {
              "outlinewidth": 0,
              "ticks": ""
             }
            },
            "type": "scattergeo"
           }
          ],
          "scattergl": [
           {
            "marker": {
             "colorbar": {
              "outlinewidth": 0,
              "ticks": ""
             }
            },
            "type": "scattergl"
           }
          ],
          "scattermapbox": [
           {
            "marker": {
             "colorbar": {
              "outlinewidth": 0,
              "ticks": ""
             }
            },
            "type": "scattermapbox"
           }
          ],
          "scatterpolar": [
           {
            "marker": {
             "colorbar": {
              "outlinewidth": 0,
              "ticks": ""
             }
            },
            "type": "scatterpolar"
           }
          ],
          "scatterpolargl": [
           {
            "marker": {
             "colorbar": {
              "outlinewidth": 0,
              "ticks": ""
             }
            },
            "type": "scatterpolargl"
           }
          ],
          "scatterternary": [
           {
            "marker": {
             "colorbar": {
              "outlinewidth": 0,
              "ticks": ""
             }
            },
            "type": "scatterternary"
           }
          ],
          "surface": [
           {
            "colorbar": {
             "outlinewidth": 0,
             "ticks": ""
            },
            "colorscale": [
             [
              0,
              "#0d0887"
             ],
             [
              0.1111111111111111,
              "#46039f"
             ],
             [
              0.2222222222222222,
              "#7201a8"
             ],
             [
              0.3333333333333333,
              "#9c179e"
             ],
             [
              0.4444444444444444,
              "#bd3786"
             ],
             [
              0.5555555555555556,
              "#d8576b"
             ],
             [
              0.6666666666666666,
              "#ed7953"
             ],
             [
              0.7777777777777778,
              "#fb9f3a"
             ],
             [
              0.8888888888888888,
              "#fdca26"
             ],
             [
              1,
              "#f0f921"
             ]
            ],
            "type": "surface"
           }
          ],
          "table": [
           {
            "cells": {
             "fill": {
              "color": "#EBF0F8"
             },
             "line": {
              "color": "white"
             }
            },
            "header": {
             "fill": {
              "color": "#C8D4E3"
             },
             "line": {
              "color": "white"
             }
            },
            "type": "table"
           }
          ]
         },
         "layout": {
          "annotationdefaults": {
           "arrowcolor": "#2a3f5f",
           "arrowhead": 0,
           "arrowwidth": 1
          },
          "autotypenumbers": "strict",
          "coloraxis": {
           "colorbar": {
            "outlinewidth": 0,
            "ticks": ""
           }
          },
          "colorscale": {
           "diverging": [
            [
             0,
             "#8e0152"
            ],
            [
             0.1,
             "#c51b7d"
            ],
            [
             0.2,
             "#de77ae"
            ],
            [
             0.3,
             "#f1b6da"
            ],
            [
             0.4,
             "#fde0ef"
            ],
            [
             0.5,
             "#f7f7f7"
            ],
            [
             0.6,
             "#e6f5d0"
            ],
            [
             0.7,
             "#b8e186"
            ],
            [
             0.8,
             "#7fbc41"
            ],
            [
             0.9,
             "#4d9221"
            ],
            [
             1,
             "#276419"
            ]
           ],
           "sequential": [
            [
             0,
             "#0d0887"
            ],
            [
             0.1111111111111111,
             "#46039f"
            ],
            [
             0.2222222222222222,
             "#7201a8"
            ],
            [
             0.3333333333333333,
             "#9c179e"
            ],
            [
             0.4444444444444444,
             "#bd3786"
            ],
            [
             0.5555555555555556,
             "#d8576b"
            ],
            [
             0.6666666666666666,
             "#ed7953"
            ],
            [
             0.7777777777777778,
             "#fb9f3a"
            ],
            [
             0.8888888888888888,
             "#fdca26"
            ],
            [
             1,
             "#f0f921"
            ]
           ],
           "sequentialminus": [
            [
             0,
             "#0d0887"
            ],
            [
             0.1111111111111111,
             "#46039f"
            ],
            [
             0.2222222222222222,
             "#7201a8"
            ],
            [
             0.3333333333333333,
             "#9c179e"
            ],
            [
             0.4444444444444444,
             "#bd3786"
            ],
            [
             0.5555555555555556,
             "#d8576b"
            ],
            [
             0.6666666666666666,
             "#ed7953"
            ],
            [
             0.7777777777777778,
             "#fb9f3a"
            ],
            [
             0.8888888888888888,
             "#fdca26"
            ],
            [
             1,
             "#f0f921"
            ]
           ]
          },
          "colorway": [
           "#636efa",
           "#EF553B",
           "#00cc96",
           "#ab63fa",
           "#FFA15A",
           "#19d3f3",
           "#FF6692",
           "#B6E880",
           "#FF97FF",
           "#FECB52"
          ],
          "font": {
           "color": "#2a3f5f"
          },
          "geo": {
           "bgcolor": "white",
           "lakecolor": "white",
           "landcolor": "#E5ECF6",
           "showlakes": true,
           "showland": true,
           "subunitcolor": "white"
          },
          "hoverlabel": {
           "align": "left"
          },
          "hovermode": "closest",
          "mapbox": {
           "style": "light"
          },
          "paper_bgcolor": "white",
          "plot_bgcolor": "#E5ECF6",
          "polar": {
           "angularaxis": {
            "gridcolor": "white",
            "linecolor": "white",
            "ticks": ""
           },
           "bgcolor": "#E5ECF6",
           "radialaxis": {
            "gridcolor": "white",
            "linecolor": "white",
            "ticks": ""
           }
          },
          "scene": {
           "xaxis": {
            "backgroundcolor": "#E5ECF6",
            "gridcolor": "white",
            "gridwidth": 2,
            "linecolor": "white",
            "showbackground": true,
            "ticks": "",
            "zerolinecolor": "white"
           },
           "yaxis": {
            "backgroundcolor": "#E5ECF6",
            "gridcolor": "white",
            "gridwidth": 2,
            "linecolor": "white",
            "showbackground": true,
            "ticks": "",
            "zerolinecolor": "white"
           },
           "zaxis": {
            "backgroundcolor": "#E5ECF6",
            "gridcolor": "white",
            "gridwidth": 2,
            "linecolor": "white",
            "showbackground": true,
            "ticks": "",
            "zerolinecolor": "white"
           }
          },
          "shapedefaults": {
           "line": {
            "color": "#2a3f5f"
           }
          },
          "ternary": {
           "aaxis": {
            "gridcolor": "white",
            "linecolor": "white",
            "ticks": ""
           },
           "baxis": {
            "gridcolor": "white",
            "linecolor": "white",
            "ticks": ""
           },
           "bgcolor": "#E5ECF6",
           "caxis": {
            "gridcolor": "white",
            "linecolor": "white",
            "ticks": ""
           }
          },
          "title": {
           "x": 0.05
          },
          "xaxis": {
           "automargin": true,
           "gridcolor": "white",
           "linecolor": "white",
           "ticks": "",
           "title": {
            "standoff": 15
           },
           "zerolinecolor": "white",
           "zerolinewidth": 2
          },
          "yaxis": {
           "automargin": true,
           "gridcolor": "white",
           "linecolor": "white",
           "ticks": "",
           "title": {
            "standoff": 15
           },
           "zerolinecolor": "white",
           "zerolinewidth": 2
          }
         }
        },
        "title": {
         "text": "Total Amount by Transaction Description",
         "x": 0.5,
         "y": 0.95
        }
       }
      }
     },
     "metadata": {},
     "output_type": "display_data"
    }
   ],
   "source": [
    "fig=px.treemap(df0_grp, \n",
    " path=['txn_description'], \n",
    " values='amount', \n",
    " color = 'amount', \n",
    " ) \n",
    "fig.update_layout( \n",
    " title=dict(text = \"Total Amount by Transaction Description\",x=0.5,y=0.95),  margin=dict(l=10, r=10, t=70, b=10), \n",
    " ) \n",
    "fig.data[0].textinfo = 'label+value' \n",
    "fig.update_traces(marker_coloraxis=None) \n",
    "fig.show() \n"
   ]
  },
  {
   "cell_type": "code",
   "execution_count": 55,
   "metadata": {},
   "outputs": [
    {
     "data": {
      "text/html": [
       "<div>\n",
       "<style scoped>\n",
       "    .dataframe tbody tr th:only-of-type {\n",
       "        vertical-align: middle;\n",
       "    }\n",
       "\n",
       "    .dataframe tbody tr th {\n",
       "        vertical-align: top;\n",
       "    }\n",
       "\n",
       "    .dataframe thead th {\n",
       "        text-align: right;\n",
       "    }\n",
       "</style>\n",
       "<table border=\"1\" class=\"dataframe\">\n",
       "  <thead>\n",
       "    <tr style=\"text-align: right;\">\n",
       "      <th></th>\n",
       "      <th>merchant_suburb</th>\n",
       "      <th>amount</th>\n",
       "    </tr>\n",
       "  </thead>\n",
       "  <tbody>\n",
       "    <tr>\n",
       "      <th>0</th>\n",
       "      <td>Abbotsford</td>\n",
       "      <td>2004.29</td>\n",
       "    </tr>\n",
       "    <tr>\n",
       "      <th>1</th>\n",
       "      <td>Aberdeen</td>\n",
       "      <td>52.45</td>\n",
       "    </tr>\n",
       "    <tr>\n",
       "      <th>2</th>\n",
       "      <td>Aberfeldie</td>\n",
       "      <td>57.77</td>\n",
       "    </tr>\n",
       "    <tr>\n",
       "      <th>3</th>\n",
       "      <td>Aberfoyle Park</td>\n",
       "      <td>84.92</td>\n",
       "    </tr>\n",
       "    <tr>\n",
       "      <th>4</th>\n",
       "      <td>Acacia Ridge</td>\n",
       "      <td>10.30</td>\n",
       "    </tr>\n",
       "  </tbody>\n",
       "</table>\n",
       "</div>"
      ],
      "text/plain": [
       "  merchant_suburb   amount\n",
       "0      Abbotsford  2004.29\n",
       "1        Aberdeen    52.45\n",
       "2      Aberfeldie    57.77\n",
       "3  Aberfoyle Park    84.92\n",
       "4    Acacia Ridge    10.30"
      ]
     },
     "execution_count": 55,
     "metadata": {},
     "output_type": "execute_result"
    }
   ],
   "source": [
    "df_grp0=df2[['merchant_suburb','amount']].groupby(by='merchant_suburb').sum()[['amount']].reset_index() \n",
    "df_grp0.head()\n"
   ]
  },
  {
   "cell_type": "code",
   "execution_count": 56,
   "metadata": {},
   "outputs": [
    {
     "data": {
      "application/vnd.plotly.v1+json": {
       "config": {
        "plotlyServerURL": "https://plot.ly"
       },
       "data": [
        {
         "branchvalues": "total",
         "customdata": [
          [
           2004.29
          ],
          [
           52.45000000000001
          ],
          [
           57.77
          ],
          [
           84.92
          ],
          [
           10.3
          ],
          [
           1785.6399999999999
          ],
          [
           244.46
          ],
          [
           45.13
          ],
          [
           245.64000000000001
          ],
          [
           742.17
          ],
          [
           85.14
          ],
          [
           13.05
          ],
          [
           209.5
          ],
          [
           20.54
          ],
          [
           75
          ],
          [
           80.82
          ],
          [
           32.41
          ],
          [
           40.25
          ],
          [
           94.33
          ],
          [
           1487.5400000000002
          ],
          [
           19.62
          ],
          [
           9.35
          ],
          [
           43.730000000000004
          ],
          [
           19.96
          ],
          [
           9.43
          ],
          [
           229.56000000000003
          ],
          [
           122.92
          ],
          [
           173.98
          ],
          [
           1003.9300000000001
          ],
          [
           127.4
          ],
          [
           133.52
          ],
          [
           47.67000000000001
          ],
          [
           48.660000000000004
          ],
          [
           162.3
          ],
          [
           23.27
          ],
          [
           183.45
          ],
          [
           66.47
          ],
          [
           222.9
          ],
          [
           62.51
          ],
          [
           360.59
          ],
          [
           657.8199999999999
          ],
          [
           49.98999999999999
          ],
          [
           17.53
          ],
          [
           588.47
          ],
          [
           170.84
          ],
          [
           225.83
          ],
          [
           81.09
          ],
          [
           31.71
          ],
          [
           512.47
          ],
          [
           121.77999999999999
          ],
          [
           51.04
          ],
          [
           67.38
          ],
          [
           625.1800000000001
          ],
          [
           33.52
          ],
          [
           46.35
          ],
          [
           12.63
          ],
          [
           41
          ],
          [
           71.96000000000001
          ],
          [
           21.74
          ],
          [
           24.3
          ],
          [
           10.79
          ],
          [
           583.96
          ],
          [
           64.43
          ],
          [
           31.78
          ],
          [
           13.83
          ],
          [
           14.7
          ],
          [
           37.76
          ],
          [
           21.54
          ],
          [
           26.95
          ],
          [
           115.53999999999999
          ],
          [
           66.32
          ],
          [
           535.96
          ],
          [
           41.61
          ],
          [
           229.14
          ],
          [
           81.11
          ],
          [
           711.23
          ],
          [
           24.53
          ],
          [
           202.68
          ],
          [
           603.95
          ],
          [
           42.91
          ],
          [
           33.78
          ],
          [
           20.04
          ],
          [
           77.63
          ],
          [
           26.91
          ],
          [
           277.56
          ],
          [
           36.99
          ],
          [
           556.78
          ],
          [
           18.45
          ],
          [
           42.33
          ],
          [
           77.81
          ],
          [
           223.14
          ],
          [
           7.57
          ],
          [
           784.01
          ],
          [
           6.71
          ],
          [
           479.37
          ],
          [
           88.75
          ],
          [
           29.77
          ],
          [
           6
          ],
          [
           140.69
          ],
          [
           212.05
          ],
          [
           117.03999999999999
          ],
          [
           76.86
          ],
          [
           20.63
          ],
          [
           476.0199999999999
          ],
          [
           327.18
          ],
          [
           24.839999999999996
          ],
          [
           97.43000000000002
          ],
          [
           1340.3899999999999
          ],
          [
           143.01
          ],
          [
           41.5
          ],
          [
           20.47
          ],
          [
           97.5
          ],
          [
           261.68
          ],
          [
           64.88
          ],
          [
           82.47
          ],
          [
           86.16
          ],
          [
           22.49
          ],
          [
           100.52
          ],
          [
           194.42
          ],
          [
           116.11999999999999
          ],
          [
           36.26
          ],
          [
           349.39
          ],
          [
           30.65
          ],
          [
           10.76
          ],
          [
           15.36
          ],
          [
           54.32999999999999
          ],
          [
           21.42
          ],
          [
           176.53
          ],
          [
           103.17999999999999
          ],
          [
           645.69
          ],
          [
           14.06
          ],
          [
           89.75
          ],
          [
           36.31
          ],
          [
           31.65
          ],
          [
           17.86
          ],
          [
           12.470000000000002
          ],
          [
           41.66
          ],
          [
           47.39
          ],
          [
           147.3
          ],
          [
           93.23
          ],
          [
           168.74
          ],
          [
           169.06
          ],
          [
           80.3
          ],
          [
           191.19
          ],
          [
           33.09
          ],
          [
           325.84
          ],
          [
           141.22
          ],
          [
           210.82
          ],
          [
           16.7
          ],
          [
           397.23
          ],
          [
           13.32
          ],
          [
           24.009999999999998
          ],
          [
           130.74
          ],
          [
           16.17
          ],
          [
           10.39
          ],
          [
           187.04
          ],
          [
           588.3100000000001
          ],
          [
           183.96
          ],
          [
           33.11
          ],
          [
           78.16
          ],
          [
           16.63
          ],
          [
           198.10000000000002
          ],
          [
           146.14
          ],
          [
           13.329999999999998
          ],
          [
           131
          ],
          [
           771.26
          ],
          [
           60
          ],
          [
           6.86
          ],
          [
           322.61
          ],
          [
           42.67
          ],
          [
           165.45
          ],
          [
           22.37
          ],
          [
           63.14
          ],
          [
           62.99
          ],
          [
           36.08
          ],
          [
           140.5
          ],
          [
           73.6
          ],
          [
           186.42000000000004
          ],
          [
           8.91
          ],
          [
           18.71
          ],
          [
           7.96
          ],
          [
           336.88
          ],
          [
           18.77
          ],
          [
           49.93999999999999
          ],
          [
           80.6
          ],
          [
           61.5
          ],
          [
           90.2
          ],
          [
           10.55
          ],
          [
           15.95
          ],
          [
           38.39
          ],
          [
           65.82
          ],
          [
           12.46
          ],
          [
           480.23999999999995
          ],
          [
           279.28999999999996
          ],
          [
           72.58
          ],
          [
           151.74
          ],
          [
           2724.45
          ],
          [
           2003.3
          ],
          [
           152.75
          ],
          [
           201.62
          ],
          [
           22.24
          ],
          [
           143.48
          ],
          [
           1090.36
          ],
          [
           1543.08
          ],
          [
           40
          ],
          [
           255.91
          ],
          [
           9.26
          ],
          [
           34.85
          ],
          [
           522.71
          ],
          [
           163.98000000000002
          ],
          [
           20.82
          ],
          [
           332.71
          ],
          [
           159.94
          ],
          [
           23.86
          ],
          [
           40.9
          ],
          [
           18.77
          ],
          [
           23.95
          ],
          [
           124.22999999999999
          ],
          [
           52.59
          ],
          [
           5.05
          ],
          [
           72.84
          ],
          [
           179.29
          ],
          [
           66.53
          ],
          [
           382.25
          ],
          [
           582.22
          ],
          [
           62.79
          ],
          [
           65.32000000000001
          ],
          [
           193.04
          ],
          [
           20.05
          ],
          [
           37.6
          ],
          [
           61.36
          ],
          [
           50.9
          ],
          [
           92.84
          ],
          [
           17.27
          ],
          [
           1032.4
          ],
          [
           50.58
          ],
          [
           22.759999999999998
          ],
          [
           46.03
          ],
          [
           53.25
          ],
          [
           39.54
          ],
          [
           68.67
          ],
          [
           16
          ],
          [
           201.30999999999997
          ],
          [
           6.400000000000001
          ],
          [
           19.52
          ],
          [
           41.489999999999995
          ],
          [
           40.93
          ],
          [
           29.93
          ],
          [
           37.05
          ],
          [
           1583.1699999999998
          ],
          [
           15.53
          ],
          [
           73.34
          ],
          [
           17.05
          ],
          [
           68.86
          ],
          [
           108.42
          ],
          [
           25.32
          ],
          [
           96.46
          ],
          [
           142.99
          ],
          [
           11.24
          ],
          [
           109.53999999999999
          ],
          [
           413.23
          ],
          [
           32.9
          ],
          [
           140.47
          ],
          [
           310.1
          ],
          [
           158.41
          ],
          [
           92.3
          ],
          [
           260.04
          ],
          [
           2.08
          ],
          [
           19.73
          ],
          [
           19.87
          ],
          [
           17.89
          ],
          [
           31.46
          ],
          [
           108.95
          ],
          [
           17.32
          ],
          [
           125.69999999999999
          ],
          [
           75.52
          ],
          [
           89.14999999999999
          ],
          [
           274.82
          ],
          [
           217.52
          ],
          [
           41.1
          ],
          [
           60.730000000000004
          ],
          [
           14.14
          ],
          [
           9.24
          ],
          [
           103.72999999999999
          ],
          [
           173.35
          ],
          [
           35.01
          ],
          [
           106.11
          ],
          [
           393.49
          ],
          [
           842.85
          ],
          [
           270.99
          ],
          [
           255.93
          ],
          [
           36.31
          ],
          [
           95.39
          ],
          [
           76.22
          ],
          [
           9.57
          ],
          [
           18.11
          ],
          [
           920.95
          ],
          [
           54.94
          ],
          [
           456.87
          ],
          [
           1860.84
          ],
          [
           51.660000000000004
          ],
          [
           148.04000000000002
          ],
          [
           71.61000000000001
          ],
          [
           123.84
          ],
          [
           161.85
          ],
          [
           40.32
          ],
          [
           354.73
          ],
          [
           50.74
          ],
          [
           1248.73
          ],
          [
           39.25
          ],
          [
           8.93
          ],
          [
           38.31
          ],
          [
           99.11999999999999
          ],
          [
           549.9399999999999
          ],
          [
           50.75
          ],
          [
           165.53
          ],
          [
           199.61
          ],
          [
           186.57000000000002
          ],
          [
           44.08
          ],
          [
           196.95
          ],
          [
           168.84
          ],
          [
           73.22
          ],
          [
           32.57
          ],
          [
           339.53999999999996
          ],
          [
           57.19
          ],
          [
           43.5
          ],
          [
           16.03
          ],
          [
           2.98
          ],
          [
           21.38
          ],
          [
           85.21000000000001
          ],
          [
           324.57
          ],
          [
           13.73
          ],
          [
           18.98
          ],
          [
           33.730000000000004
          ],
          [
           859.21
          ],
          [
           190.88
          ],
          [
           20.97
          ],
          [
           10.72
          ],
          [
           81.25999999999999
          ],
          [
           74.64
          ],
          [
           1012.25
          ],
          [
           69.85
          ],
          [
           16.16
          ],
          [
           14.3
          ],
          [
           15.23
          ],
          [
           174.26
          ],
          [
           43.18
          ],
          [
           42.01
          ],
          [
           128.22
          ],
          [
           23.02
          ],
          [
           13.6
          ],
          [
           20.03
          ],
          [
           32.61
          ],
          [
           41.97
          ],
          [
           115.83
          ],
          [
           164.94
          ],
          [
           20.25
          ],
          [
           21.76
          ],
          [
           87.14999999999999
          ],
          [
           32.61
          ],
          [
           16.9
          ],
          [
           24.740000000000002
          ],
          [
           554.26
          ],
          [
           63.09
          ],
          [
           29.57
          ],
          [
           574.39
          ],
          [
           17.67
          ],
          [
           18.8
          ],
          [
           57.93000000000001
          ],
          [
           16.08
          ],
          [
           283.53
          ],
          [
           558.08
          ],
          [
           44.459999999999994
          ],
          [
           28.74
          ],
          [
           79.53
          ],
          [
           118.31
          ],
          [
           6.05
          ],
          [
           59.43
          ],
          [
           53.44
          ],
          [
           17.54
          ],
          [
           19.62
          ],
          [
           14.28
          ],
          [
           83.13
          ],
          [
           35.06
          ],
          [
           12.6
          ],
          [
           50.85
          ],
          [
           36.78
          ],
          [
           118.73
          ],
          [
           8.61
          ],
          [
           1079.3700000000001
          ],
          [
           41.35
          ],
          [
           20.56
          ],
          [
           314.78000000000003
          ],
          [
           47.93000000000001
          ],
          [
           19.29
          ],
          [
           279.76
          ],
          [
           1088.32
          ],
          [
           50.44
          ],
          [
           18.57
          ],
          [
           1474.5199999999998
          ],
          [
           35.73
          ],
          [
           24.67
          ],
          [
           321.98
          ],
          [
           101.28999999999999
          ],
          [
           50.07
          ],
          [
           28.38
          ],
          [
           48.16
          ],
          [
           25.2
          ],
          [
           56.06
          ],
          [
           39.78
          ],
          [
           30.38
          ],
          [
           1336.58
          ],
          [
           1429.03
          ],
          [
           2507.09
          ],
          [
           43.06
          ],
          [
           47.18
          ],
          [
           40.54
          ],
          [
           18.479999999999997
          ],
          [
           22.95
          ],
          [
           4.49
          ],
          [
           58.9
          ],
          [
           95.84000000000002
          ],
          [
           158.92000000000002
          ],
          [
           35.33
          ],
          [
           5.04
          ],
          [
           74.09
          ],
          [
           10.05
          ],
          [
           33.56
          ],
          [
           34.36
          ],
          [
           196.55
          ],
          [
           38.01
          ],
          [
           47.56
          ],
          [
           75
          ],
          [
           9.85
          ],
          [
           121.77
          ],
          [
           5.710000000000001
          ],
          [
           161.07
          ],
          [
           85.08
          ],
          [
           12.34
          ],
          [
           13.89
          ],
          [
           50.25
          ],
          [
           35.26
          ],
          [
           26.25
          ],
          [
           291.8
          ],
          [
           9.61
          ],
          [
           41.2
          ],
          [
           18.95
          ],
          [
           2297.64
          ],
          [
           296.93
          ],
          [
           348.21
          ],
          [
           6.98
          ],
          [
           148.92
          ],
          [
           24.1
          ],
          [
           152.04
          ],
          [
           17.15
          ],
          [
           20.61
          ],
          [
           515.61
          ],
          [
           133.21
          ],
          [
           33.599999999999994
          ],
          [
           368.67
          ],
          [
           43.31
          ],
          [
           36.59
          ],
          [
           49.6
          ],
          [
           171.51
          ],
          [
           17.66
          ],
          [
           215.7
          ],
          [
           67.83
          ],
          [
           18.6
          ],
          [
           152.72
          ],
          [
           7.49
          ],
          [
           118.38000000000002
          ],
          [
           18.78
          ],
          [
           18.7
          ],
          [
           538.55
          ],
          [
           74.47
          ],
          [
           38.83
          ],
          [
           371.24
          ],
          [
           409.44000000000005
          ],
          [
           9.45
          ],
          [
           37.97
          ],
          [
           265.05
          ],
          [
           22
          ],
          [
           43.55
          ],
          [
           65.26
          ],
          [
           21.27
          ],
          [
           498.05
          ],
          [
           27.89
          ],
          [
           16.73
          ],
          [
           1406.36
          ],
          [
           16.68
          ],
          [
           13.05
          ],
          [
           55.55
          ],
          [
           34.65
          ],
          [
           157.47
          ],
          [
           156.19
          ],
          [
           157.88
          ],
          [
           22.12
          ],
          [
           20.19
          ],
          [
           16.85
          ],
          [
           93.59
          ],
          [
           48.64
          ],
          [
           148.62
          ],
          [
           59.73
          ],
          [
           27.61
          ],
          [
           496.76
          ],
          [
           10.91
          ],
          [
           33.58
          ],
          [
           30.490000000000002
          ],
          [
           199.62000000000003
          ],
          [
           44.97
          ],
          [
           18.63
          ],
          [
           18.7
          ],
          [
           297.15999999999997
          ],
          [
           22.969999999999995
          ],
          [
           43.61
          ],
          [
           23.84
          ],
          [
           75.02000000000001
          ],
          [
           24.68
          ],
          [
           28.98
          ],
          [
           463.82
          ],
          [
           109.00999999999999
          ],
          [
           33.18
          ],
          [
           90.51
          ],
          [
           15.89
          ],
          [
           202.48000000000002
          ],
          [
           30.46
          ],
          [
           295.19
          ],
          [
           16.89
          ],
          [
           63.18
          ],
          [
           143.85
          ],
          [
           17.01
          ],
          [
           57.400000000000006
          ],
          [
           895.5600000000001
          ],
          [
           48.03
          ],
          [
           522.9
          ],
          [
           16.24
          ],
          [
           67.89
          ],
          [
           165.13
          ],
          [
           790.64
          ],
          [
           73.34
          ],
          [
           18.76
          ],
          [
           81.07
          ],
          [
           1445.58
          ],
          [
           23.979999999999997
          ],
          [
           165.09
          ],
          [
           22
          ],
          [
           389.71999999999997
          ],
          [
           16.29
          ],
          [
           11.2
          ],
          [
           124.47
          ],
          [
           10.3
          ],
          [
           240.01
          ],
          [
           18.04
          ],
          [
           91.11
          ],
          [
           56.45
          ],
          [
           734.1
          ],
          [
           8.61
          ],
          [
           128.42000000000002
          ],
          [
           15.26
          ],
          [
           21.92
          ],
          [
           150.23000000000002
          ],
          [
           287.01
          ],
          [
           1085.12
          ],
          [
           15.35
          ],
          [
           16.5
          ],
          [
           8.47
          ],
          [
           22.16
          ],
          [
           23.200000000000003
          ],
          [
           27.4
          ],
          [
           78.99
          ],
          [
           19.01
          ],
          [
           33.93
          ],
          [
           15.22
          ],
          [
           192.71
          ],
          [
           37.26
          ],
          [
           56.03
          ],
          [
           105.11
          ],
          [
           16.83
          ],
          [
           154.06
          ],
          [
           15.790000000000001
          ],
          [
           23.38
          ],
          [
           134.99
          ],
          [
           37.93
          ],
          [
           176.82
          ],
          [
           15.33
          ],
          [
           165.8
          ],
          [
           41.66
          ],
          [
           59.54
          ],
          [
           60.370000000000005
          ],
          [
           313.72
          ],
          [
           141.89
          ],
          [
           55.21
          ],
          [
           27.96
          ],
          [
           16.03
          ],
          [
           67.34
          ],
          [
           35.699999999999996
          ],
          [
           207.87
          ],
          [
           70.05000000000001
          ],
          [
           66.91
          ],
          [
           526.05
          ],
          [
           192.29999999999998
          ],
          [
           17.6
          ],
          [
           21.86
          ],
          [
           59.01
          ],
          [
           86.9
          ],
          [
           50.6
          ],
          [
           67.71000000000001
          ],
          [
           14.3
          ],
          [
           55.82
          ],
          [
           5.09
          ],
          [
           201.59
          ],
          [
           50.91
          ],
          [
           42.96
          ],
          [
           52.92
          ],
          [
           18.6
          ],
          [
           3.86
          ],
          [
           28.130000000000003
          ],
          [
           683.6
          ],
          [
           63.55
          ],
          [
           13.759999999999998
          ],
          [
           124.07
          ],
          [
           152.34
          ],
          [
           41.84
          ],
          [
           123.45
          ],
          [
           19.61
          ],
          [
           84.74
          ],
          [
           119.5
          ],
          [
           106.28
          ],
          [
           71.55
          ],
          [
           65.2
          ],
          [
           587.62
          ],
          [
           821.08
          ],
          [
           36.95
          ],
          [
           51.959999999999994
          ],
          [
           668.57
          ],
          [
           8.68
          ],
          [
           73.5
          ],
          [
           54.04
          ],
          [
           14.06
          ],
          [
           9.15
          ],
          [
           205.13
          ],
          [
           9.07
          ],
          [
           419.52
          ],
          [
           6.05
          ],
          [
           36.2
          ],
          [
           100.41
          ],
          [
           10.02
          ],
          [
           11.26
          ],
          [
           36.59
          ],
          [
           51.24
          ],
          [
           246.92000000000002
          ],
          [
           82.06
          ],
          [
           29.81
          ],
          [
           9.75
          ],
          [
           110.27
          ],
          [
           35.29
          ],
          [
           410.03000000000003
          ],
          [
           49.47
          ],
          [
           69.83
          ],
          [
           73.05
          ],
          [
           156.82
          ],
          [
           40.92
          ],
          [
           199.86
          ],
          [
           269.3
          ],
          [
           27.07
          ],
          [
           48.370000000000005
          ],
          [
           40.45
          ],
          [
           164.25
          ],
          [
           160.73
          ],
          [
           26.9
          ],
          [
           49.62
          ],
          [
           439.21
          ],
          [
           202.33999999999997
          ],
          [
           17.11
          ],
          [
           35.65
          ],
          [
           371.54999999999995
          ],
          [
           15.12
          ],
          [
           11.740000000000002
          ],
          [
           71.42
          ],
          [
           68.62
          ],
          [
           18.01
          ],
          [
           181.96000000000004
          ],
          [
           167.57999999999998
          ],
          [
           39.59
          ],
          [
           75.65
          ],
          [
           50.269999999999996
          ],
          [
           373.64
          ],
          [
           24.740000000000002
          ],
          [
           79.44
          ],
          [
           361.76
          ],
          [
           125.13999999999999
          ],
          [
           30.04
          ],
          [
           92.44
          ],
          [
           515.81
          ],
          [
           32.78
          ],
          [
           76.43
          ],
          [
           53.17
          ],
          [
           56.80000000000001
          ],
          [
           199.4
          ],
          [
           13.16
          ],
          [
           306.08
          ],
          [
           22.59
          ],
          [
           51.79
          ],
          [
           531.7
          ],
          [
           165.91
          ],
          [
           62.1
          ],
          [
           332.12
          ],
          [
           48.75
          ],
          [
           296.53
          ],
          [
           61.06
          ],
          [
           37.29
          ],
          [
           24.23
          ],
          [
           13.48
          ],
          [
           35.06
          ],
          [
           90.98000000000002
          ],
          [
           131.3
          ],
          [
           45.559999999999995
          ],
          [
           57.580000000000005
          ],
          [
           5.95
          ],
          [
           377.65
          ],
          [
           200.57999999999998
          ],
          [
           113.92
          ],
          [
           41.91
          ],
          [
           75.24000000000001
          ],
          [
           75.83
          ],
          [
           41.989999999999995
          ],
          [
           57.62
          ],
          [
           1838.11
          ],
          [
           148.56
          ],
          [
           32.29
          ],
          [
           341.61
          ],
          [
           317.86
          ],
          [
           30.47
          ],
          [
           19.35
          ],
          [
           413.57
          ],
          [
           26.2
          ],
          [
           93.21000000000002
          ],
          [
           493.13000000000005
          ],
          [
           14.66
          ],
          [
           75.87
          ],
          [
           66.89
          ],
          [
           48.1
          ],
          [
           35.6
          ],
          [
           85.5
          ],
          [
           64.43
          ],
          [
           93.4
          ],
          [
           52.22
          ],
          [
           12.56
          ],
          [
           21.18
          ],
          [
           146.04000000000002
          ],
          [
           204.01000000000002
          ],
          [
           43.96
          ],
          [
           56.019999999999996
          ],
          [
           103.97999999999999
          ],
          [
           55.400000000000006
          ],
          [
           61.93999999999999
          ],
          [
           386.44
          ],
          [
           29.6
          ],
          [
           28.6
          ],
          [
           441.2200000000001
          ],
          [
           43.12
          ],
          [
           16.66
          ],
          [
           89.23
          ],
          [
           17.37
          ],
          [
           229
          ],
          [
           13
          ],
          [
           226.09
          ],
          [
           67.16
          ],
          [
           9.09
          ],
          [
           11.77
          ],
          [
           14.27
          ],
          [
           6.5
          ],
          [
           67.83
          ],
          [
           14.97
          ],
          [
           34.48
          ],
          [
           289.01
          ],
          [
           18.67
          ],
          [
           47.980000000000004
          ],
          [
           152.26
          ],
          [
           155.69
          ],
          [
           125.06
          ],
          [
           529.58
          ],
          [
           9.45
          ],
          [
           39.01
          ],
          [
           17.64
          ],
          [
           9.66
          ],
          [
           14.130000000000003
          ],
          [
           33.300000000000004
          ],
          [
           4.56
          ],
          [
           45.38000000000001
          ],
          [
           25.029999999999998
          ],
          [
           13.45
          ],
          [
           148.22
          ],
          [
           32.67
          ],
          [
           116.50999999999999
          ],
          [
           127.27
          ],
          [
           55.349999999999994
          ],
          [
           20.25
          ],
          [
           9.7
          ],
          [
           212.89
          ],
          [
           28.660000000000004
          ],
          [
           121.68
          ],
          [
           44.79
          ],
          [
           7.65
          ],
          [
           35.43
          ],
          [
           28.22
          ],
          [
           113.65
          ],
          [
           45.870000000000005
          ],
          [
           51.15
          ],
          [
           38.87
          ],
          [
           28.51
          ],
          [
           532.53
          ],
          [
           1118.7
          ],
          [
           23.260000000000005
          ],
          [
           3.46
          ],
          [
           225.04
          ],
          [
           9.17
          ],
          [
           524.71
          ],
          [
           16.74
          ],
          [
           7.54
          ],
          [
           68.96000000000001
          ],
          [
           12.63
          ],
          [
           46.69
          ],
          [
           358.24
          ],
          [
           202.35999999999999
          ],
          [
           11.12
          ],
          [
           40.03
          ],
          [
           1049.16
          ],
          [
           42.23
          ],
          [
           28.260000000000005
          ],
          [
           70.73
          ],
          [
           107.58
          ],
          [
           64.52000000000001
          ],
          [
           128.46
          ],
          [
           23.14
          ],
          [
           93.81
          ],
          [
           23.34
          ],
          [
           16.84
          ],
          [
           20.55
          ],
          [
           15.1
          ],
          [
           8.26
          ],
          [
           76.89999999999999
          ],
          [
           127.62
          ],
          [
           354.78
          ],
          [
           46.67
          ],
          [
           70.14
          ],
          [
           137.78
          ],
          [
           19.17
          ],
          [
           19.59
          ],
          [
           44.38
          ],
          [
           44.07
          ],
          [
           51.690000000000005
          ],
          [
           7.86
          ],
          [
           195.34
          ],
          [
           28.78
          ],
          [
           3994.8300000000004
          ],
          [
           170.61
          ],
          [
           31.830000000000002
          ],
          [
           65.26
          ],
          [
           281.49
          ],
          [
           23.52
          ],
          [
           25.07
          ],
          [
           29.26
          ],
          [
           11.48
          ],
          [
           1082.57
          ],
          [
           37.3
          ],
          [
           97.78
          ],
          [
           330.62
          ],
          [
           158.85
          ],
          [
           22.31
          ],
          [
           3770.83
          ],
          [
           147.73000000000002
          ],
          [
           225.75
          ],
          [
           268.8
          ],
          [
           88.85
          ],
          [
           373.74
          ],
          [
           33.93
          ],
          [
           3.96
          ],
          [
           347.9
          ],
          [
           57.669999999999995
          ],
          [
           10282.62
          ],
          [
           23.68
          ],
          [
           20.09
          ],
          [
           28.13
          ],
          [
           12.68
          ],
          [
           71.25
          ],
          [
           25.570000000000004
          ],
          [
           23.85
          ],
          [
           45.95
          ],
          [
           25.9
          ],
          [
           48.34
          ],
          [
           51.86000000000001
          ],
          [
           5.27
          ],
          [
           11943.53
          ],
          [
           485.36
          ],
          [
           808.5999999999999
          ],
          [
           154.33
          ],
          [
           35.84
          ],
          [
           103.07
          ],
          [
           8.84
          ],
          [
           65.39
          ],
          [
           74.49000000000001
          ],
          [
           125.27000000000001
          ],
          [
           111.58
          ],
          [
           29.24
          ],
          [
           5.57
          ],
          [
           117.08
          ],
          [
           157.04
          ],
          [
           18.91
          ],
          [
           81.47
          ],
          [
           197.36
          ],
          [
           121.48
          ],
          [
           239.5
          ],
          [
           7.51
          ],
          [
           301.54
          ],
          [
           7.56
          ],
          [
           27.45
          ],
          [
           174.54
          ],
          [
           11
          ],
          [
           37.54
          ],
          [
           131.88
          ],
          [
           32.07
          ],
          [
           129.42000000000002
          ],
          [
           30.340000000000003
          ],
          [
           58.3
          ],
          [
           296.39
          ],
          [
           36.05
          ],
          [
           43.21
          ],
          [
           159
          ],
          [
           36.01
          ],
          [
           898.43
          ],
          [
           372.9099999999999
          ],
          [
           41.63
          ],
          [
           31.34
          ],
          [
           77.1
          ],
          [
           103.93000000000002
          ],
          [
           107.16
          ],
          [
           118.33
          ],
          [
           10.61
          ],
          [
           73.43
          ],
          [
           15.200000000000001
          ],
          [
           63.25
          ],
          [
           32.09
          ],
          [
           15.309999999999999
          ],
          [
           45.96
          ],
          [
           287.01
          ],
          [
           187.86
          ],
          [
           45.24
          ],
          [
           20.68
          ],
          [
           60.81
          ],
          [
           285.63
          ],
          [
           63.56
          ],
          [
           120.22
          ],
          [
           24.62
          ],
          [
           233.86999999999998
          ],
          [
           15.05
          ],
          [
           41.07
          ],
          [
           82.86
          ],
          [
           55.349999999999994
          ],
          [
           35.41
          ],
          [
           10.63
          ],
          [
           512.43
          ],
          [
           81.02
          ],
          [
           66.19
          ],
          [
           28.89
          ],
          [
           80.55000000000001
          ],
          [
           51.9
          ],
          [
           157.51999999999998
          ],
          [
           14.05
          ],
          [
           501.67
          ],
          [
           24.98
          ],
          [
           31.5
          ],
          [
           132.3
          ],
          [
           21.56
          ],
          [
           8.56
          ],
          [
           19.82
          ],
          [
           10.06
          ],
          [
           647.8199999999999
          ],
          [
           4710.25
          ],
          [
           14.169999999999998
          ],
          [
           2721.14
          ],
          [
           304.11
          ],
          [
           83.96000000000001
          ],
          [
           95.07
          ],
          [
           7.13
          ],
          [
           25.75
          ],
          [
           96.27
          ],
          [
           29.779999999999998
          ],
          [
           778.13
          ],
          [
           28.78
          ],
          [
           58.13
          ],
          [
           322.26
          ],
          [
           54.56
          ],
          [
           60.21
          ],
          [
           12.54
          ],
          [
           197.06
          ],
          [
           8.3
          ],
          [
           335.19
          ],
          [
           19.96
          ],
          [
           16.06
          ],
          [
           15.07
          ],
          [
           31.14
          ],
          [
           245.79999999999998
          ],
          [
           57.86
          ],
          [
           97.02000000000001
          ],
          [
           21.5
          ],
          [
           39.77
          ],
          [
           80.5
          ],
          [
           74.14999999999999
          ],
          [
           42.78
          ],
          [
           20.17
          ],
          [
           73.9
          ],
          [
           30.01
          ],
          [
           41.74
          ],
          [
           165.61
          ],
          [
           259.79
          ],
          [
           55.519999999999996
          ],
          [
           10.87
          ],
          [
           69.8
          ],
          [
           38.96
          ],
          [
           21.299999999999997
          ],
          [
           8.68
          ],
          [
           267.44
          ],
          [
           110.49
          ],
          [
           761.75
          ],
          [
           6.9
          ],
          [
           362.62000000000006
          ],
          [
           65.81
          ],
          [
           33.17
          ],
          [
           107.16
          ],
          [
           60.58
          ],
          [
           123.51
          ],
          [
           83.1
          ],
          [
           20.77
          ],
          [
           54.78999999999999
          ],
          [
           56.89
          ],
          [
           198.43999999999997
          ],
          [
           1458.6000000000001
          ],
          [
           28.41
          ],
          [
           124.52000000000001
          ],
          [
           27.35
          ],
          [
           346.02000000000004
          ],
          [
           2000.31
          ],
          [
           32.400000000000006
          ],
          [
           71.87
          ],
          [
           108.77
          ],
          [
           100.02000000000001
          ],
          [
           81.69
          ],
          [
           89.32
          ],
          [
           79.29
          ],
          [
           73.1
          ],
          [
           39.9
          ],
          [
           76.67
          ],
          [
           42.54
          ],
          [
           37.55
          ],
          [
           15.47
          ],
          [
           12.79
          ],
          [
           98.93
          ],
          [
           5.66
          ],
          [
           13.690000000000001
          ],
          [
           13.93
          ],
          [
           26.830000000000002
          ],
          [
           34.6
          ],
          [
           148.95
          ],
          [
           36.96
          ],
          [
           90.35
          ],
          [
           10.86
          ],
          [
           361.48
          ],
          [
           41.019999999999996
          ],
          [
           76.3
          ],
          [
           43.68
          ],
          [
           377.7200000000001
          ],
          [
           2059.73
          ],
          [
           23.13
          ],
          [
           92.32
          ],
          [
           91.25
          ],
          [
           129.13
          ],
          [
           74.93
          ],
          [
           124.14
          ],
          [
           221.59
          ],
          [
           386.39
          ],
          [
           212.17000000000002
          ],
          [
           293.54999999999995
          ],
          [
           56.269999999999996
          ],
          [
           1074.72
          ],
          [
           249.76
          ],
          [
           15.31
          ],
          [
           20.45
          ],
          [
           119.46000000000001
          ],
          [
           108.42999999999998
          ],
          [
           46.470000000000006
          ],
          [
           103.06
          ],
          [
           36.39
          ],
          [
           87.91
          ],
          [
           51.739999999999995
          ],
          [
           695.66
          ],
          [
           17.36
          ],
          [
           28.679999999999996
          ],
          [
           54.620000000000005
          ],
          [
           69.47
          ],
          [
           18.89
          ],
          [
           20.44
          ],
          [
           17.7
          ],
          [
           216.07
          ],
          [
           14.25
          ],
          [
           60.370000000000005
          ],
          [
           25.799999999999997
          ],
          [
           101.42
          ],
          [
           31.72
          ],
          [
           73.02
          ],
          [
           10.78
          ],
          [
           219.12
          ],
          [
           12.07
          ],
          [
           8.89
          ],
          [
           363.2
          ],
          [
           184.28
          ],
          [
           74.28
          ],
          [
           14.49
          ],
          [
           84.16
          ],
          [
           62.050000000000004
          ],
          [
           86.57000000000001
          ],
          [
           197.34
          ],
          [
           162.22
          ],
          [
           25.439999999999994
          ],
          [
           54.45
          ],
          [
           325.05
          ],
          [
           1659.5300000000002
          ],
          [
           18.31
          ],
          [
           34.09
          ],
          [
           49.32
          ],
          [
           3323.5099999999998
          ],
          [
           55.26
          ],
          [
           10.21
          ],
          [
           34.74
          ],
          [
           32.56
          ],
          [
           137.65
          ],
          [
           235.89000000000001
          ],
          [
           29.57
          ],
          [
           78.91
          ],
          [
           161.53
          ],
          [
           78.88
          ],
          [
           2222.8
          ],
          [
           8.66
          ],
          [
           16.23
          ],
          [
           52.91
          ],
          [
           50.2
          ],
          [
           71.84
          ],
          [
           28.78
          ],
          [
           16.7
          ],
          [
           21.92
          ],
          [
           509.52
          ],
          [
           65.24
          ],
          [
           1129
          ],
          [
           8.66
          ],
          [
           104.55
          ],
          [
           15.32
          ],
          [
           53.099999999999994
          ],
          [
           226.82
          ],
          [
           504.63
          ],
          [
           201.77
          ],
          [
           61.2
          ],
          [
           6.42
          ],
          [
           96.61
          ],
          [
           46.71000000000001
          ],
          [
           132
          ],
          [
           33.93
          ],
          [
           31.23
          ],
          [
           23.029999999999998
          ],
          [
           49.519999999999996
          ],
          [
           20.23
          ],
          [
           14.74
          ],
          [
           46.510000000000005
          ],
          [
           85.72
          ],
          [
           17
          ],
          [
           119.11
          ],
          [
           17.96
          ],
          [
           213.87
          ],
          [
           16.51
          ],
          [
           62.71
          ],
          [
           195.53
          ],
          [
           29.17
          ],
          [
           108.34
          ],
          [
           43.13
          ],
          [
           168.75
          ],
          [
           290.35
          ],
          [
           38.24
          ],
          [
           1237.5
          ],
          [
           26.28
          ],
          [
           79.13
          ],
          [
           9.4
          ],
          [
           11.04
          ],
          [
           723.2
          ],
          [
           91.01
          ],
          [
           650.71
          ],
          [
           8.81
          ],
          [
           274.13
          ],
          [
           152.86
          ],
          [
           24.53
          ],
          [
           14.24
          ],
          [
           232.22
          ],
          [
           73.69
          ],
          [
           19.02
          ],
          [
           462.33
          ],
          [
           65.55000000000001
          ],
          [
           26.56
          ],
          [
           19.8
          ],
          [
           58.059999999999995
          ],
          [
           15.52
          ],
          [
           5.89
          ],
          [
           29.64
          ],
          [
           65.01
          ],
          [
           54.84
          ],
          [
           16.37
          ],
          [
           30.15
          ],
          [
           238.82
          ],
          [
           109.57999999999998
          ],
          [
           75.45
          ],
          [
           68.38
          ],
          [
           53.18
          ],
          [
           8.26
          ],
          [
           1018.92
          ],
          [
           23.69
          ],
          [
           1074.7
          ],
          [
           69.38
          ],
          [
           11.17
          ],
          [
           98.97
          ],
          [
           45.43
          ],
          [
           40.11
          ],
          [
           200.68
          ],
          [
           98.82
          ],
          [
           33.7
          ],
          [
           431.7
          ],
          [
           87.44
          ],
          [
           652.37
          ],
          [
           14.58
          ],
          [
           76.37
          ],
          [
           178.73000000000002
          ],
          [
           71.26
          ],
          [
           211.13
          ],
          [
           296.31
          ],
          [
           11.57
          ],
          [
           15.84
          ],
          [
           54.25
          ],
          [
           28.63
          ],
          [
           323.85
          ],
          [
           36.620000000000005
          ],
          [
           111.84
          ],
          [
           14.55
          ],
          [
           14.379999999999999
          ],
          [
           7.41
          ],
          [
           19.8
          ],
          [
           251.4
          ],
          [
           97.14
          ],
          [
           329.58
          ],
          [
           60.94
          ],
          [
           43.230000000000004
          ],
          [
           311.47
          ],
          [
           48.17999999999999
          ],
          [
           17.92
          ],
          [
           17.55
          ],
          [
           16.17
          ],
          [
           915.0699999999999
          ],
          [
           31.81
          ],
          [
           180.56
          ],
          [
           18.93
          ],
          [
           127.58
          ],
          [
           20.6
          ],
          [
           19.57
          ],
          [
           39.010000000000005
          ],
          [
           228.84
          ],
          [
           112.25
          ],
          [
           15.06
          ],
          [
           364.63
          ],
          [
           38.69
          ],
          [
           15.16
          ],
          [
           86.48
          ],
          [
           76.77
          ],
          [
           144.57
          ],
          [
           138.05
          ],
          [
           124.49
          ],
          [
           8.66
          ],
          [
           21.81
          ],
          [
           13.439999999999998
          ],
          [
           19.8
          ],
          [
           38.65
          ],
          [
           313.11
          ],
          [
           25.15
          ],
          [
           6.08
          ],
          [
           169.92
          ],
          [
           22.869999999999994
          ],
          [
           105.51999999999998
          ],
          [
           126.27
          ],
          [
           18.08
          ],
          [
           88.15
          ],
          [
           95.15
          ],
          [
           105.81
          ],
          [
           129.84
          ],
          [
           32.74
          ],
          [
           32.37
          ],
          [
           85.94
          ],
          [
           149.82
          ],
          [
           17.14
          ],
          [
           118.55
          ],
          [
           5.710000000000001
          ],
          [
           17.81
          ],
          [
           13.6
          ],
          [
           6.71
          ],
          [
           65.4
          ],
          [
           53.44
          ],
          [
           14.41
          ],
          [
           244.19
          ],
          [
           32.42
          ],
          [
           33.06
          ],
          [
           15.52
          ],
          [
           192.01999999999995
          ],
          [
           190.95999999999998
          ],
          [
           185.02999999999997
          ],
          [
           132.5
          ],
          [
           34.68
          ],
          [
           62.089999999999996
          ],
          [
           16.81
          ],
          [
           115.86
          ],
          [
           11740.58
          ],
          [
           20.72
          ],
          [
           34.16
          ],
          [
           26.979999999999997
          ],
          [
           31.85
          ],
          [
           41.11
          ],
          [
           57.3
          ],
          [
           35.99
          ],
          [
           23.42
          ],
          [
           1936.8700000000001
          ],
          [
           54.55
          ],
          [
           340.99
          ],
          [
           9.27
          ],
          [
           187
          ],
          [
           22.85
          ],
          [
           21.39
          ],
          [
           19.76
          ],
          [
           36.97
          ],
          [
           75.05
          ],
          [
           18.78
          ],
          [
           450.55
          ],
          [
           278.6
          ],
          [
           47.4
          ],
          [
           1821.8
          ],
          [
           209.25
          ],
          [
           13.1
          ],
          [
           28.94
          ],
          [
           248.37
          ],
          [
           46.83
          ],
          [
           295.02000000000004
          ],
          [
           27.98
          ],
          [
           33.980000000000004
          ],
          [
           427.40999999999997
          ],
          [
           428
          ],
          [
           40.82
          ],
          [
           145.52
          ],
          [
           18.36
          ],
          [
           226.83999999999997
          ],
          [
           8.66
          ],
          [
           127.85999999999999
          ],
          [
           398.28
          ],
          [
           11.2
          ],
          [
           231.39999999999998
          ],
          [
           558.39
          ],
          [
           127.00999999999999
          ],
          [
           30.9
          ],
          [
           228.44
          ],
          [
           256.61
          ],
          [
           162.1
          ],
          [
           476.49
          ],
          [
           23.729999999999997
          ],
          [
           170.22
          ],
          [
           50.010000000000005
          ],
          [
           159.32999999999998
          ],
          [
           57.65
          ],
          [
           934.06
          ],
          [
           24.36
          ],
          [
           14.79
          ],
          [
           21675.44
          ],
          [
           6.04
          ],
          [
           137.55
          ],
          [
           27.56
          ],
          [
           43.72
          ],
          [
           32.59
          ],
          [
           24.53
          ],
          [
           39.989999999999995
          ],
          [
           47.56
          ],
          [
           18.74
          ],
          [
           211.75
          ],
          [
           22.28
          ],
          [
           90.34
          ],
          [
           285.5
          ],
          [
           43.8
          ],
          [
           200.9
          ],
          [
           37.33
          ],
          [
           19.04
          ],
          [
           567.67
          ],
          [
           37.91
          ],
          [
           78.42
          ],
          [
           100.97
          ],
          [
           12.05
          ],
          [
           9.94
          ],
          [
           76.67
          ],
          [
           29.45
          ],
          [
           38.68
          ],
          [
           48.69
          ],
          [
           57.730000000000004
          ],
          [
           185.21
          ],
          [
           13.31
          ],
          [
           35.43
          ],
          [
           137.13
          ],
          [
           25.9
          ],
          [
           9.18
          ],
          [
           75.86
          ],
          [
           47.9
          ],
          [
           59.06
          ],
          [
           18.84
          ],
          [
           14.51
          ],
          [
           56.88
          ],
          [
           61.27
          ],
          [
           53.37
          ],
          [
           170.07999999999998
          ],
          [
           52.620000000000005
          ],
          [
           199.53
          ],
          [
           184.87
          ],
          [
           394.97
          ],
          [
           57.620000000000005
          ],
          [
           33.89
          ],
          [
           15.38
          ],
          [
           4.57
          ],
          [
           117.31
          ],
          [
           144.67000000000002
          ],
          [
           5.7299999999999995
          ],
          [
           72.58999999999999
          ],
          [
           16.1
          ],
          [
           127.53999999999999
          ],
          [
           417.68
          ],
          [
           29.68
          ],
          [
           24.969999999999995
          ],
          [
           110.64
          ],
          [
           9.49
          ],
          [
           99.05000000000001
          ],
          [
           92.79
          ],
          [
           16.62
          ],
          [
           17.83
          ],
          [
           9.43
          ],
          [
           77.61
          ],
          [
           26.37
          ],
          [
           307.78000000000003
          ],
          [
           92.75
          ],
          [
           46.93
          ],
          [
           72.65
          ],
          [
           130.9
          ],
          [
           207.35
          ],
          [
           34.29
          ],
          [
           38.86
          ],
          [
           14.339999999999998
          ],
          [
           26.27
          ],
          [
           175.3
          ],
          [
           194.82999999999998
          ],
          [
           11.5
          ],
          [
           42.93
          ],
          [
           201.3
          ],
          [
           111.3
          ],
          [
           44.7
          ],
          [
           17.05
          ],
          [
           261
          ],
          [
           113.3
          ],
          [
           21.84
          ],
          [
           274.64
          ],
          [
           32.23
          ],
          [
           121.13999999999999
          ],
          [
           55.41
          ],
          [
           878.1700000000001
          ],
          [
           139.45
          ],
          [
           21.21
          ],
          [
           13.38
          ],
          [
           89.08
          ],
          [
           51.57
          ],
          [
           10.65
          ],
          [
           128.89
          ],
          [
           240.92000000000002
          ],
          [
           25.73
          ],
          [
           172.59
          ],
          [
           449.39
          ],
          [
           55.760000000000005
          ],
          [
           23.520000000000003
          ],
          [
           12.33
          ],
          [
           72.53999999999999
          ],
          [
           50.08
          ],
          [
           48.22
          ],
          [
           13.63
          ],
          [
           20.35
          ],
          [
           224.12
          ],
          [
           18.06
          ],
          [
           40.629999999999995
          ],
          [
           5.800000000000001
          ],
          [
           505.77
          ],
          [
           26.11
          ],
          [
           14.05
          ],
          [
           11.32
          ],
          [
           9.53
          ],
          [
           12.16
          ],
          [
           24.43
          ],
          [
           11.18
          ],
          [
           439.76
          ],
          [
           285.48
          ],
          [
           31.74
          ],
          [
           56.66
          ],
          [
           467.36
          ],
          [
           402.25
          ],
          [
           19.52
          ],
          [
           86.14999999999999
          ],
          [
           15.080000000000002
          ],
          [
           108.78
          ],
          [
           56.78
          ],
          [
           8.29
          ],
          [
           17.53
          ],
          [
           234.94
          ],
          [
           24.15
          ],
          [
           47.709999999999994
          ],
          [
           87.28
          ],
          [
           51.73
          ],
          [
           2556.85
          ],
          [
           7.22
          ],
          [
           82.11
          ],
          [
           559.33
          ],
          [
           54.019999999999996
          ],
          [
           56.35
          ],
          [
           19.71
          ],
          [
           7.92
          ],
          [
           258.37
          ],
          [
           46.71999999999999
          ],
          [
           17.4
          ],
          [
           18.04
          ],
          [
           83.36
          ],
          [
           158.49
          ],
          [
           33.52
          ],
          [
           19.79
          ],
          [
           141.79
          ],
          [
           236.39999999999998
          ],
          [
           30.51
          ],
          [
           48.26
          ],
          [
           52.45000000000001
          ],
          [
           47.09000000000001
          ],
          [
           33.01
          ],
          [
           57.22
          ],
          [
           26.17
          ],
          [
           31.53
          ],
          [
           76.5
          ],
          [
           42.879999999999995
          ],
          [
           37.89
          ],
          [
           271.25
          ],
          [
           26.850000000000005
          ],
          [
           246.82
          ],
          [
           112.67000000000002
          ],
          [
           30.660000000000004
          ],
          [
           15.14
          ],
          [
           25.709999999999997
          ],
          [
           91.53
          ],
          [
           14.58
          ],
          [
           311.91
          ],
          [
           6.76
          ],
          [
           45.75
          ],
          [
           10.77
          ],
          [
           6.09
          ],
          [
           80.12
          ],
          [
           53.09
          ],
          [
           74.8
          ],
          [
           226.10000000000005
          ],
          [
           28.52
          ],
          [
           13.96
          ],
          [
           46.480000000000004
          ],
          [
           643.89
          ],
          [
           33.85
          ],
          [
           75.32000000000001
          ],
          [
           2.54
          ],
          [
           44.05
          ],
          [
           16.94
          ],
          [
           17.94
          ],
          [
           53.36
          ],
          [
           40.87
          ],
          [
           50.4
          ],
          [
           40.88
          ],
          [
           36.25
          ],
          [
           103
          ],
          [
           22.74
          ],
          [
           42.64
          ],
          [
           104.12
          ],
          [
           33.75
          ],
          [
           38.53
          ],
          [
           27.93
          ],
          [
           28.679999999999996
          ],
          [
           133.26
          ],
          [
           268.65
          ],
          [
           360.89
          ],
          [
           312.11
          ],
          [
           79.37
          ],
          [
           56.45
          ],
          [
           114.03999999999999
          ],
          [
           225.79
          ],
          [
           148.17000000000002
          ],
          [
           80.07
          ],
          [
           105.38
          ],
          [
           78.47
          ],
          [
           38.63
          ],
          [
           79.35
          ]
         ],
         "domain": {
          "x": [
           0,
           1
          ],
          "y": [
           0,
           1
          ]
         },
         "hovertemplate": "labels=%{label}<br>amount_sum=%{value}<br>parent=%{parent}<br>id=%{id}<br>amount=%{color}<extra></extra>",
         "ids": [
          "Abbotsford",
          "Aberdeen",
          "Aberfeldie",
          "Aberfoyle Park",
          "Acacia Ridge",
          "Adelaide",
          "Adelaide Airport",
          "Advancetown",
          "Airport West",
          "Albany",
          "Albert Park",
          "Alberton",
          "Albion",
          "Albion Park Rail",
          "Alderley",
          "Aldgate",
          "Alexander Heights",
          "Alexandra",
          "Alexandra Hills",
          "Alexandria",
          "Algester",
          "Alice Spring",
          "Allambie Heights",
          "Allenby Gardens",
          "Allora",
          "Alphington",
          "Alpine",
          "Alstonville",
          "Altona",
          "Altona Meadows",
          "Altona North",
          "Angaston",
          "Annandale",
          "Annerley",
          "Apollo Bay",
          "Applecross",
          "Arana Hills",
          "Aratula",
          "Ardross",
          "Armadale",
          "Armidale",
          "Arncliffe",
          "Arndell Park",
          "Artarmon",
          "Arundel",
          "Ascot Vale",
          "Ashburton",
          "Ashby",
          "Ashfield",
          "Ashford",
          "Ashgrove",
          "Ashmont",
          "Ashmore",
          "Ashwood",
          "Aspendale Gardens",
          "Aspley",
          "Asquith",
          "Atherton",
          "Athol Park",
          "Attadale",
          "Aubin Grove",
          "Auburn",
          "Auchenflower",
          "Austinmer",
          "Austral",
          "Australind",
          "Avalon Beach",
          "Aveley",
          "Avondale Heights",
          "Ayr",
          "Bacchus Marsh",
          "Bairnsdale",
          "Bakery Hill",
          "Bakewell",
          "Balaclava",
          "Balcatta",
          "Baldivis",
          "Balgowlah",
          "Balingup",
          "Balladonia",
          "Ballajura",
          "Ballan",
          "Ballandean",
          "Ballarat",
          "Ballarat Central",
          "Ballarat East",
          "Ballina",
          "Balmain",
          "Balmoral",
          "Balwyn",
          "Balwyn North",
          "Banksia Grove",
          "Bankstown",
          "Banora Point",
          "Barangaroo",
          "Barcaldine",
          "Barmera",
          "Barrington",
          "Barton",
          "Bass Hill",
          "Bassendean",
          "Batchelor",
          "Battery Hill",
          "Baulkham Hills",
          "Bayswater",
          "Bayswater North",
          "Beacon Hill",
          "Beaconsfield",
          "Beaudesert",
          "Beaumaris",
          "Beaumont Hills",
          "Beechboro",
          "Beechmont",
          "Beecroft",
          "Beeliar",
          "Beenleigh",
          "Beerwah",
          "Bega",
          "Belconnen",
          "Beldon",
          "Belgrave",
          "Bella Vista",
          "Bellara",
          "Bellbowrie",
          "Bellerive",
          "Bellevue",
          "Bellingen",
          "Belmont",
          "Belmore",
          "Belrose",
          "Bennett Springs",
          "Benowa",
          "Bentleigh",
          "Bentleigh East",
          "Bentley",
          "Berala",
          "Berkshire Park",
          "Berrigan",
          "Berrimah",
          "Berry",
          "Berserker",
          "Berwick",
          "Beverly Hills",
          "Bibra Lake",
          "Bicton",
          "Biggera Waters",
          "Biloela",
          "Birkdale",
          "Birkenhead",
          "Birtinya",
          "Black Forest",
          "Black Head",
          "Blackburn",
          "Blackburn North",
          "Blackburn South",
          "Blackheath",
          "Blacktown",
          "Blackwater",
          "Blackwood",
          "Blakeview",
          "Blind Bight",
          "Boggabri",
          "Bomaderry",
          "Bondi",
          "Bondi Beach",
          "Bondi Junction",
          "Bonnyrigg",
          "Boondall",
          "Booragoon",
          "Booval",
          "Boronia",
          "Botany",
          "Boulder",
          "Bowen",
          "Bowral",
          "Box Hill",
          "Box Hill North",
          "Box Hill South",
          "Boxhill",
          "Bracknell",
          "Braddon",
          "Braemar",
          "Braeside",
          "Brandon",
          "Branxholm",
          "Brassall",
          "Braybrook",
          "Breakwater",
          "Brendale",
          "Brentwood",
          "Bridgetown",
          "Bridgewater",
          "Brighton",
          "Brighton-Le-Sands",
          "Brisbane",
          "Brisbane Airport",
          "Brisbane City",
          "Broadbeach",
          "Broadbeach Waters",
          "Broadmeadows",
          "Broadview",
          "Broadwater",
          "Broken Hill",
          "Brookvale",
          "Broughton Village",
          "Browns Plains",
          "Brownsville",
          "Bruce",
          "Brunswick",
          "Brunswick East",
          "Brunswick Heads",
          "Brunswick West",
          "Bruthen",
          "Bucasia",
          "Buderim",
          "Bulahdelah",
          "Bulla",
          "Bulleen",
          "Bulli",
          "Bullsbrook",
          "Bunbury",
          "Bundall",
          "Bundeena",
          "Bundoora",
          "Burleigh Heads",
          "Burleigh Waters",
          "Burnie",
          "Burnley",
          "Burnside",
          "Burra",
          "Burswood",
          "Burwood",
          "Burwood East",
          "Busby",
          "Busselton",
          "Butler",
          "Byford",
          "Byron Bay",
          "Caboolture",
          "Caboolture South",
          "Cabramatta West",
          "Caffey",
          "Cairns City",
          "Cairns North",
          "Calamvale",
          "Calder Park",
          "Callala Bay",
          "Calliope",
          "Caloundra",
          "Camberwell",
          "Cambooya",
          "Cambridge",
          "Cambridge Park",
          "Cammeray",
          "Camp Hill",
          "Campbell Town",
          "Campbellfield",
          "Campbelltown",
          "Camperdown",
          "Campsie",
          "Canberra",
          "Canley Vale",
          "Canning Vale",
          "Cannington",
          "Cannon Hill",
          "Canterbury",
          "Capalaba",
          "Carbrook",
          "Carbunup River",
          "Cardiff",
          "Carey Park",
          "Carina",
          "Carindale",
          "Carine",
          "Caringbah",
          "Caringbah South",
          "Carlingford",
          "Carlton",
          "Carlton North",
          "Carmel",
          "Carnegie",
          "Caroline Springs",
          "Carramar",
          "Carrara",
          "Carrum Downs",
          "Carseldine",
          "Casino",
          "Castle Hill",
          "Castlemaine",
          "Casuarina",
          "Casula",
          "Catherine Field",
          "Caulfield East",
          "Caulfield North",
          "Caulfield South",
          "Caversham",
          "Ceduna",
          "Centennial Park",
          "Chadstone",
          "Chatswood",
          "Chatswood West",
          "Chelsea",
          "Chelsea Heights",
          "Cheltenham",
          "Chermside",
          "Cherrybrook",
          "Chippendale",
          "Chipping Norton",
          "Chirnside Park",
          "Christies Beach",
          "Churchlands",
          "City Beach",
          "Clare",
          "Claremont",
          "Clarinda",
          "Clarkson",
          "Clayfield",
          "Clayton",
          "Clear Island Waters",
          "Clermont",
          "Cleveland",
          "Clifton Hill",
          "Clinton",
          "Clontarf",
          "Clovelly",
          "Cloverdale",
          "Clunes",
          "Clyde North",
          "Cobar",
          "Cobram",
          "Coburg",
          "Coburg North",
          "Cockatoo",
          "Cockburn Central",
          "Coconut Grove",
          "Coffs Harbour",
          "Coldstream",
          "Colebee",
          "Collaroy",
          "Collaroy Plateau",
          "Collingwood",
          "Como",
          "Concord West",
          "Condingup",
          "Cooee",
          "Coogee",
          "Coolalinga",
          "Coolangatta",
          "Coolbellup",
          "Cooloongup",
          "Coolum Beach",
          "Coombabah",
          "Coomera",
          "Coopers Plains",
          "Coorabie",
          "Coorparoo",
          "Corio",
          "Corowa",
          "Cottesloe",
          "Cow Bay",
          "Cowell",
          "Cowra",
          "Craigieburn",
          "Cranbourne",
          "Crawley",
          "Cremorne",
          "Crestmead",
          "Cromer",
          "Cronulla",
          "Crookwell",
          "Crows Nest",
          "Croydon",
          "Croydon Park",
          "Croydon South",
          "Cue",
          "Culburra Beach",
          "Cumberland Park",
          "Cunderdin",
          "Curl Curl",
          "Currajong",
          "Currambine",
          "Currumbin Waters",
          "Dairymans Plains",
          "Daisy Hill",
          "Dalkeith",
          "Dallas",
          "Dampier Peninsula",
          "Dandenong",
          "Dandenong North",
          "Dandenong South",
          "Dapto",
          "Darch",
          "Darlinghurst",
          "Darlington",
          "Darra",
          "Darwin",
          "Darwin City",
          "Dawes Point",
          "Deagon",
          "Deakin",
          "Deception Bay",
          "Dederang",
          "Dee Why",
          "Deer Park",
          "Denistone East",
          "Denmark",
          "Derrimut",
          "Diamond Creek",
          "Dianella",
          "Diggers Rest",
          "Dingley Village",
          "Docklands",
          "Doncaster",
          "Doncaster East",
          "Donnybrook",
          "Donvale",
          "Double Bay",
          "Doubleview",
          "Dover",
          "Dover Heights",
          "Dowsing Point",
          "Drouin",
          "Drummoyne",
          "Dry Creek",
          "Duaringa",
          "Dubbo",
          "Duffy",
          "Dulwich Hill",
          "Dunalley",
          "Duncraig",
          "Dunkeld",
          "Dunsborough",
          "Dunwich",
          "Durack",
          "Dural",
          "Dutton Park",
          "Eagle Farm",
          "Eagleby",
          "Eaglemont",
          "Earlville",
          "Earlwood",
          "East Brisbane",
          "East Corrimal",
          "East Fremantle",
          "East Kempsey",
          "East Killara",
          "East Lismore",
          "East Melbourne",
          "East Perth",
          "East Ryde",
          "East Toowoomba",
          "East Victoria Park",
          "Eastern Creek",
          "Eastgardens",
          "Eastlakes",
          "Eastland",
          "Eastwood",
          "Eaton",
          "Echuca",
          "Eden",
          "Eden Hill",
          "Edensor Park",
          "Edgecliff",
          "Edgewater",
          "Edinburgh",
          "Edithvale",
          "Edmonton",
          "Edwardstown",
          "Eight Mile Plains",
          "Eildon",
          "Elanora",
          "Elizabeth",
          "Elleker",
          "Ellenbrook",
          "Elliott",
          "Elliston",
          "Elsternwick",
          "Eltham",
          "Eltham North",
          "Elwood",
          "Emerald",
          "Emerald Beach",
          "Emerton",
          "Emu Plains",
          "Endeavour Hills",
          "Enfield",
          "Enmore",
          "Enoggera",
          "Epping",
          "Epping North",
          "Erskine",
          "Erskine Park",
          "Erskineville",
          "Esperance",
          "Essendon",
          "Essendon Fields",
          "Evatt",
          "Eveleigh",
          "Everard Park",
          "Everton Park",
          "Exeter",
          "Fairfield",
          "Fairfield Heights",
          "Fairfield West",
          "Fairlight",
          "Fairy Meadow",
          "Falcon",
          "Falcon (Miami Beach)",
          "Fannie Bay",
          "Faulconbridge",
          "Fawkner",
          "Federal",
          "Ferntree Gully",
          "Fernvale",
          "Ferny Grove",
          "Fig Tree Pocket",
          "Findon",
          "Fingal",
          "Firle",
          "Fitzroy",
          "Fitzroy North",
          "Five Dock",
          "Flemington",
          "Florey",
          "Footscray",
          "Forest Glen",
          "Forest Hill",
          "Forest Lake",
          "Forestville",
          "Forrest",
          "Forrestdale",
          "Forrestfield",
          "Fortitude Valley",
          "Fountain Gate",
          "Frankston",
          "Frankston North",
          "Freeling",
          "Fremantle",
          "Frenchs Forest",
          "Freshwater",
          "Fulham Gardens",
          "Fullarton",
          "Fyshwick",
          "Galston",
          "Gatton",
          "Geebung",
          "Geelong",
          "Gembrook",
          "Gepps Cross",
          "Geraldton",
          "Gerringong",
          "Gilgandra",
          "Gilles Plains",
          "Girrawheen",
          "Gisborne",
          "Gladesville",
          "Gladstone",
          "Glebe",
          "Glen Huntly",
          "Glen Innes",
          "Glen Iris",
          "Glen Osmond",
          "Glen Waverley",
          "Glenbrook",
          "Glendenning",
          "Glenelg",
          "Glenelg East",
          "Glengala",
          "Glengowrie",
          "Glenmore Park",
          "Glenorchy",
          "Glenreagh",
          "Glenroy",
          "Glenside",
          "Glenthorne",
          "Glenunga",
          "Gloucester",
          "Glynde",
          "Gold Coast",
          "Golden Beach",
          "Golden Grove",
          "Golden Point",
          "Goodna",
          "Goodwood",
          "Goolmangar",
          "Goonellabah",
          "Gooseberry Hill",
          "Gordon",
          "Gosnells",
          "Goulburn",
          "Gracemere",
          "Graceville",
          "Grafton",
          "Grantham",
          "Granville",
          "Gray",
          "Green Valley",
          "Greenacre",
          "Greenbank",
          "Greensborough",
          "Greenslopes",
          "Greenvale",
          "Greenwith",
          "Greenwood",
          "Grenfell",
          "Greystanes",
          "Griffith",
          "Grovedale",
          "Guildford",
          "Gumdale",
          "Gundagai",
          "Gungahlin",
          "Gwelup",
          "Gymea",
          "Hallam",
          "Hallidays Point",
          "Halls Head",
          "Hamilton",
          "Hamilton Hill",
          "Hammond Park",
          "Hammondville",
          "Hampton",
          "Hampton East",
          "Hampton Park",
          "Hannans",
          "Harefield",
          "Harlaxton",
          "Harris Park",
          "Hart",
          "Hawker",
          "Hawthorn",
          "Hawthorn East",
          "Hawthorne",
          "Hay",
          "Haymarket",
          "Haywards Bay",
          "Healesville",
          "Heathcote",
          "Heatherbrae",
          "Heathmont",
          "Heidelberg",
          "Heidelberg West",
          "Helensvale",
          "Henley Beach",
          "Henley Brook",
          "Herne Hill",
          "Herron",
          "Hervey Bay",
          "Hexham",
          "Heyfield",
          "Highett",
          "Highfields",
          "Highgate",
          "Highgate Hill",
          "Highland Park",
          "Highton",
          "Hillarys",
          "Hillcrest",
          "Hillsdale",
          "Hilton",
          "Hinchinbrook",
          "Hindmarsh",
          "Hinton",
          "Hobart",
          "Hocking",
          "Holland Park",
          "Holt",
          "Holtze",
          "Homebush",
          "Homebush West",
          "Hope Island",
          "Hoppers Crossing",
          "Hornsby",
          "Hornsby Heights",
          "Hove",
          "Howard Springs",
          "Howrah",
          "Hoxton Park",
          "Humpty Doo",
          "Hunters Hill",
          "Huntingdale",
          "Hurstville",
          "Huskisson",
          "Hyams Beach",
          "Hyde Park",
          "Illawong",
          "Indooroopilly",
          "Ingleburn",
          "Inglewood",
          "Innaloo",
          "Inverell",
          "Inverloch",
          "Ipswich",
          "Ivanhoe",
          "Jamisontown",
          "Jandakot",
          "Jannali",
          "Jerilderie",
          "Jindalee",
          "Jingili",
          "Joondalup",
          "Junee",
          "KENSINGTON",
          "Kadina",
          "Kalamunda",
          "Kalapa",
          "Kalbarri",
          "Kaleen",
          "Kalgoorlie",
          "Kalkallo",
          "Kallaroo",
          "Kandos",
          "Kangaroo Point",
          "Kangaroo Valley",
          "Karama",
          "Karana Downs",
          "Karawara",
          "Kardinya",
          "Karnup",
          "Karrinyup",
          "Katanning",
          "Katoomba",
          "Kealba",
          "Kearneys Spring",
          "Kedron",
          "Keilor Downs",
          "Keilor East",
          "Keilor Park",
          "Kelmscott",
          "Kelvin Grove",
          "Kenmore",
          "Kensington",
          "Kent Town",
          "Kenwick",
          "Keperra",
          "Kerang",
          "Keswick",
          "Kew",
          "Kewdale",
          "Keysborough",
          "Kiama",
          "Kiara",
          "Kidman Park",
          "Kilburn",
          "Kilburn North",
          "Kilkenny",
          "Kilsyth",
          "Kilsyth South",
          "Kin Kin",
          "Kinglake West",
          "Kings Langley",
          "Kings Park",
          "Kingsbury",
          "Kingscliff",
          "Kingsford",
          "Kingsgrove",
          "Kingsley",
          "Kingsthorpe",
          "Kingston",
          "Kingswood",
          "Kinross",
          "Kippa Ring",
          "Kippa-Ring",
          "Kirribilli",
          "Knoxfield",
          "Koetong",
          "Kogarah",
          "Kojonup",
          "Koo Wee Rup",
          "Koondoola",
          "Kootingal",
          "Korumburra",
          "Kotara",
          "Kurralta Park",
          "Kwinana Beach",
          "Labrador",
          "Lake Cathie",
          "Lakelands",
          "Lakemba",
          "Lakes Entrance",
          "Lalor",
          "Lane Cove",
          "Lane Cove North",
          "Lane Cove West",
          "Langford",
          "Langwarrin",
          "Lansvale",
          "Lara",
          "Larrakeyah",
          "Lauderdale",
          "Launceston",
          "Launching Place",
          "Laurieton",
          "Lavender Bay",
          "Laverton",
          "Laverton North",
          "Lavington",
          "Lawson",
          "Leabrook",
          "Leederville",
          "Leeming",
          "Leichhardt",
          "Leinster",
          "Len Waters Estate",
          "Lennox Head",
          "Leonay",
          "Leonora",
          "Leopold",
          "Leppington",
          "Lesmurdie",
          "Lewisham",
          "Lidcombe",
          "Lilydale",
          "Lindfield",
          "Lindum",
          "Lismore",
          "Little Bay",
          "Liverpool",
          "Liverpool Bc",
          "Llandilo",
          "Lobethal",
          "Logan Central",
          "Logan Village",
          "Loganholme",
          "Longreach",
          "Lonsdale",
          "Lorne",
          "Lowlands",
          "Lowood",
          "Loxton",
          "Lucas",
          "Ludmilla",
          "Lurnea",
          "Lutwyche",
          "Lyndhurst",
          "Lyons",
          "MAJURA",
          "MERMAID WATERS",
          "Macedon",
          "Macksville",
          "Maclean",
          "Macleod",
          "Macquarie Fields",
          "Macquarie Park",
          "Maddingley",
          "Maddington",
          "Madeley",
          "Maffra",
          "Magnetic Island",
          "Maidstone",
          "Main Beach",
          "Maitland",
          "Majura Park",
          "Malaga",
          "Maleny",
          "Malvern",
          "Malvern East",
          "Mandurah",
          "Mango Hill",
          "Manly",
          "Manly Vale",
          "Manning",
          "Mannum",
          "Manoora",
          "Mansfield",
          "Marden",
          "Mareeba",
          "Margaret River",
          "Margate",
          "Marian",
          "Maribyrnong",
          "Marlo",
          "Maroochydore",
          "Maroubra",
          "Marrara",
          "Marrickville",
          "Marsden Park",
          "Marsfield",
          "Maryborough",
          "Marysville",
          "Mascot",
          "Mayfield",
          "Maylands",
          "Mcalinden",
          "Mckail",
          "Mckinnon",
          "Mclaren Vale",
          "Mcmahons Point",
          "Meadow",
          "Meadow Heights",
          "Meadowbrook",
          "Meckering",
          "Melba",
          "Melbourne",
          "Melbourne Airport",
          "Melrose Park",
          "Melton",
          "Melton South",
          "Melton West",
          "Melville",
          "Menai",
          "Mentone",
          "Mermaid Beach",
          "Mermaid Waters",
          "Mernda",
          "Merrimac",
          "Merriwa",
          "Merrylands",
          "Merrylands West",
          "Metricup",
          "Miami",
          "Middle Park",
          "Middlemount",
          "Middleton Beach",
          "Midland",
          "Mildura",
          "Mile End",
          "Mill Park",
          "Miller",
          "Millers Forest",
          "Millicent",
          "Millmerran",
          "Millner",
          "Milperra",
          "Milsons Point",
          "Milton",
          "Minchinbury",
          "Mindarie",
          "Mira Mar",
          "Miranda",
          "Mirrabooka",
          "Mitcham",
          "Mitchell",
          "Mitchell Park",
          "Mitchelton",
          "Mittagong",
          "Modbury",
          "Molendinar",
          "Mollymook",
          "Mona Vale",
          "Monbulk",
          "Mont Albert",
          "Montrose",
          "Mooloolaba",
          "Mooloolah Valley",
          "Moonee Ponds",
          "Moonie",
          "Moonta",
          "Moonyoonooka",
          "Moorabbin",
          "Moorabbin Airport",
          "Moore Park",
          "Moorebank",
          "Moorooka",
          "Mooroolbark",
          "Mooroopna",
          "Moranbah",
          "Morayfield",
          "Mordialloc",
          "Moree",
          "Morgan",
          "Morley",
          "Morningside",
          "Mornington",
          "Morphett Vale",
          "Mortdale",
          "Morven",
          "Mosman",
          "Mossman",
          "Mossman Gorge",
          "Mount Barker",
          "Mount Beauty",
          "Mount Clarence",
          "Mount Clear",
          "Mount Colah",
          "Mount Cotton",
          "Mount Dandenong",
          "Mount Druitt",
          "Mount Gambier",
          "Mount Gambier Airport",
          "Mount Gravatt",
          "Mount Gravatt East",
          "Mount Hawthorn",
          "Mount Lawley",
          "Mount Lofty",
          "Mount Macedon",
          "Mount Melville",
          "Mount Ommaney",
          "Mount Pritchard",
          "Mount Sheridan",
          "Mount Warren Park",
          "Mount Waverley",
          "Mt Gambier",
          "Mt Hawthorn",
          "Mt Lawley",
          "Mudgeeraba",
          "Muirhead",
          "Mulgrave",
          "Munster",
          "Murarrie",
          "Murdoch",
          "Murray Bridge",
          "Murrumbateman",
          "Murrumbeena",
          "Murrurundi",
          "Murwillumbah",
          "Muswellbrook South",
          "Myalup",
          "Myaree",
          "Myrniong",
          "Nambour",
          "Nambucca Heads",
          "Nangwarry",
          "Nannup",
          "Narbethong",
          "Narellan",
          "Naremburn",
          "Narrabeen",
          "Narrabri",
          "Narrabundah",
          "Narrawallee",
          "Narraweena",
          "Narre Warren",
          "Narre Warren South",
          "Narrogin",
          "Nathalia",
          "Nedlands",
          "Neerabup",
          "Nelly Bay",
          "Nerang",
          "Netley",
          "Neutral Bay",
          "New Farm",
          "New Lambton Heights",
          "New Norfolk",
          "New Town",
          "Newcastle",
          "Newman",
          "Newmarket",
          "Newport",
          "Newrybar",
          "Newstead",
          "Newtown",
          "Niddrie",
          "Nightcliff",
          "Ningaloo",
          "Noarlunga Centre",
          "Noble Park",
          "Noble Park North",
          "Noosa Heads",
          "Noosaville",
          "Noranda",
          "Norlane",
          "North Adelaide",
          "North Beach",
          "North Brighton",
          "North Coogee",
          "North Curl Curl",
          "North Dandalup",
          "North Essendon",
          "North Harbour",
          "North Haven",
          "North Hobart",
          "North Lakes",
          "North Maclean",
          "North Melbourne",
          "North Narrabeen",
          "North Nowra",
          "North Perth",
          "North Plympton",
          "North Rocks",
          "North Ryde",
          "North Sydney",
          "North Turramurra",
          "North Wagga Wagga",
          "North Ward",
          "North Willoughby",
          "Northam",
          "Northbridge",
          "Northcote",
          "Northgate",
          "Northmead",
          "Norwood",
          "Notting Hill",
          "Nowra",
          "Nowra North",
          "Nullarbor",
          "Nulsen",
          "Nunawading",
          "Nundah",
          "Nuriootpa",
          "O'Malley",
          "O'connor",
          "Oakey",
          "Oaklands Park",
          "Oakleigh",
          "Oakleigh South",
          "Oatlands",
          "Oatley",
          "Ocean Grange",
          "Ocean Grove",
          "Ocean Shores",
          "Officer",
          "Old Bar",
          "Old Guildford",
          "Old Toongabbie",
          "Olinda",
          "Oodnadatta",
          "Ooralea",
          "Orange",
          "Orbost",
          "Ormeau",
          "Ormiston",
          "Ormond",
          "Osborne Park",
          "Oxenford",
          "Oxley",
          "Pacific Paradise",
          "Pacific Pines",
          "Paddington",
          "Padstow",
          "Palm Beach",
          "Palmerston City",
          "Palmwoods",
          "Palmyra",
          "Panania",
          "Pantapin",
          "Para Vista",
          "Paradise Point",
          "Parafield Gardens",
          "Parap",
          "Park Avenue",
          "Park Grove",
          "Park Holme",
          "Park Ridge",
          "Parkdale",
          "Parkes",
          "Parkinson",
          "Parkside",
          "Parkville",
          "Parkwood",
          "Parramatta",
          "Parramatta Park",
          "Pascoe Vale",
          "Pascoe Vale South",
          "Peak Crossing",
          "Peakhurst",
          "Pearsall",
          "Pendle Hill",
          "Penola",
          "Penrith",
          "Penshurst",
          "Perth",
          "Perth Airport",
          "Peterborough",
          "Peterhead",
          "Petersham",
          "Petrie",
          "Petrie Terrace",
          "Phillip",
          "Pialba",
          "Piara Waters",
          "Piccadilly",
          "Pilton",
          "Pimpama",
          "Plainland",
          "Plumpton",
          "Plympton",
          "Point Cook",
          "Point Lookout",
          "Point Wilson",
          "Pooraka",
          "Port Adelaide",
          "Port Augusta",
          "Port Augusta West",
          "Port Broughton",
          "Port Douglas",
          "Port Kennedy",
          "Port Lincoln",
          "Port Macquarie",
          "Port Macquarie South",
          "Port Melbourne",
          "Portarlington",
          "Potts Point",
          "Prahran",
          "Prairiewood",
          "Preston",
          "Prestons",
          "Prospect",
          "Prospect Vale",
          "Pullenvale",
          "Punchbowl",
          "Pymble",
          "Pyrmont",
          "Quakers Hill",
          "Queanbeyan",
          "Queanbeyan East",
          "Queenscliff",
          "Raceview",
          "Rainbow Flat",
          "Ramingining",
          "Ramsgate",
          "Randwick",
          "Rangeville",
          "Ravenhall",
          "Ravenswood",
          "Red Hill",
          "Redbank",
          "Redbank Plains",
          "Redcliffe",
          "Redfern",
          "Redland Bay",
          "Redwood Park",
          "Reedy Creek",
          "Regents Park",
          "Reservoir",
          "Revesby",
          "Reynella",
          "Rhodes",
          "Richlands",
          "Richmond",
          "Riddells Creek",
          "Ringwood",
          "Ringwood East",
          "Ripley",
          "Ripponlea",
          "Riverhills",
          "Riverton",
          "Rivervale",
          "Riverwood",
          "Robertson",
          "Robina",
          "Robinvale",
          "Rochedale",
          "Rochester",
          "Rockbank",
          "Rockdale",
          "Rockhampton City",
          "Rockingham",
          "Rocklea",
          "Rokeby",
          "Rosanna",
          "Rose Bay",
          "Rose Bay North",
          "Rosebery",
          "Rosehill",
          "Roselands",
          "Rosemeadow",
          "Roseville",
          "Rosewater",
          "Roseworthy",
          "Rouse Hill",
          "Rowville",
          "Roxburgh Park",
          "Royal National Park",
          "Rozelle",
          "Runaway Bay",
          "Runcorn",
          "Russell",
          "Rutherglen",
          "Rydalmere",
          "Ryde",
          "Rye",
          "SYDNEY",
          "Safety Bay",
          "Saint Albans",
          "Saint Clair",
          "Saint George",
          "Saint Helena",
          "Saint Helens",
          "Saint Ives",
          "Saint James",
          "Saint Kilda",
          "Saint Kilda East",
          "Saint Kilda West",
          "Saint Lucia",
          "Saint Marys",
          "Sale",
          "Salisbury",
          "Salisbury Downs",
          "Sandringham",
          "Sandy Bay",
          "Sans Souci",
          "Sassafras",
          "Scamander",
          "Scarborough",
          "Schofields",
          "Scone",
          "Scoresby",
          "Scottsdale",
          "Seacliff Park",
          "Seaford",
          "Seaton",
          "Sebastopol",
          "Secret Harbour",
          "Seddon",
          "Semaphore",
          "Seven Hills",
          "Seven Mile Beach",
          "Seventeen Mile Rocks",
          "Seville",
          "Seymour",
          "Shailer Park",
          "Sheldon",
          "Shellharbour",
          "Shellharbour City Centre",
          "Shelly Beach",
          "Shepparton",
          "Sherbrooke",
          "Sherwood",
          "Shoal Bay",
          "Shoalhaven Heads",
          "Shoalwater",
          "Silkstone",
          "Silverwater",
          "Sippy Downs",
          "Slacks Creek",
          "Smithfield",
          "Somerset",
          "Somerville",
          "Sorell",
          "Sorrento",
          "South Brisbane",
          "South Bunbury",
          "South Burnie",
          "South Fremantle",
          "South Grafton",
          "South Granville",
          "South Hurstville",
          "South Lake",
          "South Lismore",
          "South Melbourne",
          "South Morang",
          "South Nowra",
          "South Penrith",
          "South Perth",
          "South Toowoomba",
          "South Townsville",
          "South Turramurra",
          "South Wentworthville",
          "South Wharf",
          "South Windsor",
          "South Yarra",
          "Southbank",
          "Southern River",
          "Southport",
          "Spearwood",
          "Spencer Park",
          "Spotswood",
          "Spring Hill",
          "Springfield Lakes",
          "Springvale",
          "Springvale South",
          "Springwood",
          "St Kilda",
          "St Leonards",
          "Stafford",
          "Stafford Heights",
          "Stanhope Gardens",
          "Stirling",
          "Strahan",
          "Strathmore",
          "Strathpine",
          "Stratton",
          "Stuart Park",
          "Subiaco",
          "Success",
          "Summer Hill",
          "Sunbury",
          "Sunnybank",
          "Sunnybank Hills",
          "Sunshine",
          "Sunshine Beach",
          "Sunshine North",
          "Sunshine West",
          "Surfers Paradise",
          "Surrey Hills",
          "Surry Hills",
          "Swan Hill",
          "Sydenham",
          "Sydney",
          "Sydney Airport",
          "Sydney Olympic Park",
          "Sylvania",
          "Tabulam",
          "Taigum",
          "Tallai",
          "Tamborine Mountain",
          "Tamworth",
          "Tanah Merah",
          "Taree",
          "Taree West",
          "Taringa",
          "Tarneit",
          "Tarro",
          "Taylors Lakes",
          "Tecoma",
          "Temora",
          "Tempe",
          "Templestowe",
          "Templestowe Lower",
          "Terrey Hills",
          "The Gardens",
          "The Junction",
          "The Rocks",
          "The University of Melbourne",
          "The Vines",
          "Thirlmere",
          "Thomastown",
          "Thornbury",
          "Thorneside",
          "Thornlands",
          "Thornleigh",
          "Thornlie",
          "Thornton",
          "Tieri",
          "Tinamba",
          "Tingalpa",
          "Tiwi",
          "Tolland",
          "Tom Price",
          "Toombul",
          "Toongabbie",
          "Toorak",
          "Toorak Gardens",
          "Toowong",
          "Toowoomba",
          "Toowoomba City",
          "Toronto",
          "Torrens Park",
          "Torrensville",
          "Tottenham",
          "Townsville",
          "Townsville City",
          "Trafalgar",
          "Trigg",
          "Trinity Park",
          "Truganina",
          "Trundle",
          "Tuart Hill",
          "Tugun",
          "Tullamarine",
          "Tully",
          "Tumut",
          "Tuncurry",
          "Turramurra",
          "Tweed Heads",
          "Tweed Heads South",
          "Ulladulla",
          "Ulmarra",
          "Ultimo",
          "Underwood",
          "Unley",
          "Upper Burnie",
          "Upper Coomera",
          "Upper Mount Gravatt",
          "Upper Swan",
          "Uraidla",
          "Urunga",
          "Valla",
          "Varsity Lakes",
          "Vasse",
          "Vaucluse",
          "Vermont",
          "Vermont South",
          "Vic",
          "Victor Harbor",
          "Victoria Park",
          "Victoria Point",
          "Vincentia",
          "Vineyard",
          "Virginia",
          "Vivonne Bay",
          "Wa",
          "Wacol",
          "Wagga Wagga",
          "Wahroonga",
          "Waikiki",
          "Waitara",
          "Wakerley",
          "Walgett",
          "Walkerville",
          "Wallaroo",
          "Wangara",
          "Wanneroo",
          "Wantirna",
          "Wantirna South",
          "Warabrook",
          "Warburton",
          "Warilla",
          "Warnbro",
          "Warners Bay",
          "Warrandyte",
          "Warrandyte South",
          "Warriewood",
          "Warwick",
          "Warwick Farm",
          "Waterford",
          "Waterford West",
          "Waterloo",
          "Watsonia",
          "Wattle Grove",
          "Waurn Ponds",
          "Wavell Heights",
          "Waverley",
          "Waverton",
          "Welland",
          "Welshpool",
          "Wembley",
          "Wendouree",
          "Wentworth Falls",
          "Wentworthville",
          "Werribee",
          "Werrington County",
          "West Beach",
          "West Busselton",
          "West End",
          "West Footscray",
          "West Gladstone",
          "West Kalgoorlie",
          "West Lakes",
          "West Lakes Shore",
          "West Mackay",
          "West Melbourne",
          "West Pennant Hills",
          "West Perth",
          "West Pymble",
          "West Ryde",
          "West Wodonga",
          "Westcourt",
          "Western Junction",
          "Westlakes",
          "Westleigh",
          "Westmead",
          "Westminster",
          "Weston",
          "Weston Creek",
          "Wetherill Park",
          "Wheelers Hill",
          "Whitfords",
          "Whittlesea",
          "Whyalla",
          "Whyalla Norrie",
          "Whyalla Playford",
          "Wickham",
          "Willetton",
          "Williams Landing",
          "Williamstown North",
          "Willoughby",
          "Willowbank",
          "Willunga",
          "Wilsonton",
          "Wilsonton Heights",
          "Windaroo",
          "Windsor",
          "Windsor Gardens",
          "Wingfield",
          "Winnellie",
          "Wishart",
          "Withers",
          "Wodonga",
          "Wollert",
          "Wolli Creek",
          "Wollongong",
          "Wollstonecraft",
          "Wonthaggi",
          "Wonthella",
          "Woodburn",
          "Woodcroft",
          "Woodlands",
          "Woodridge",
          "Woodvale",
          "Woodville North",
          "Woolgoolga",
          "Woollahra",
          "Woolloongabba",
          "Woolooware",
          "Wooloowin",
          "Woombye",
          "Woongoolba",
          "Woori Yallock",
          "Worongary",
          "Worrigee",
          "Wyalong",
          "Wyndham Vale",
          "Wynnum West",
          "Wynyard",
          "Yagoona",
          "Yallingup",
          "Yamanto",
          "Yamba",
          "Yangebup",
          "Yarra Glen",
          "Yarra Junction",
          "Yarralumla",
          "Yarraman",
          "Yarraville",
          "Yarrawonga",
          "Yass",
          "Yatala",
          "Yeppoon",
          "Yokine",
          "York",
          "Yowah",
          "Yulara",
          "Yungaburra",
          "Zetland",
          "Zillmere",
          "Zuccoli"
         ],
         "labels": [
          "Abbotsford",
          "Aberdeen",
          "Aberfeldie",
          "Aberfoyle Park",
          "Acacia Ridge",
          "Adelaide",
          "Adelaide Airport",
          "Advancetown",
          "Airport West",
          "Albany",
          "Albert Park",
          "Alberton",
          "Albion",
          "Albion Park Rail",
          "Alderley",
          "Aldgate",
          "Alexander Heights",
          "Alexandra",
          "Alexandra Hills",
          "Alexandria",
          "Algester",
          "Alice Spring",
          "Allambie Heights",
          "Allenby Gardens",
          "Allora",
          "Alphington",
          "Alpine",
          "Alstonville",
          "Altona",
          "Altona Meadows",
          "Altona North",
          "Angaston",
          "Annandale",
          "Annerley",
          "Apollo Bay",
          "Applecross",
          "Arana Hills",
          "Aratula",
          "Ardross",
          "Armadale",
          "Armidale",
          "Arncliffe",
          "Arndell Park",
          "Artarmon",
          "Arundel",
          "Ascot Vale",
          "Ashburton",
          "Ashby",
          "Ashfield",
          "Ashford",
          "Ashgrove",
          "Ashmont",
          "Ashmore",
          "Ashwood",
          "Aspendale Gardens",
          "Aspley",
          "Asquith",
          "Atherton",
          "Athol Park",
          "Attadale",
          "Aubin Grove",
          "Auburn",
          "Auchenflower",
          "Austinmer",
          "Austral",
          "Australind",
          "Avalon Beach",
          "Aveley",
          "Avondale Heights",
          "Ayr",
          "Bacchus Marsh",
          "Bairnsdale",
          "Bakery Hill",
          "Bakewell",
          "Balaclava",
          "Balcatta",
          "Baldivis",
          "Balgowlah",
          "Balingup",
          "Balladonia",
          "Ballajura",
          "Ballan",
          "Ballandean",
          "Ballarat",
          "Ballarat Central",
          "Ballarat East",
          "Ballina",
          "Balmain",
          "Balmoral",
          "Balwyn",
          "Balwyn North",
          "Banksia Grove",
          "Bankstown",
          "Banora Point",
          "Barangaroo",
          "Barcaldine",
          "Barmera",
          "Barrington",
          "Barton",
          "Bass Hill",
          "Bassendean",
          "Batchelor",
          "Battery Hill",
          "Baulkham Hills",
          "Bayswater",
          "Bayswater North",
          "Beacon Hill",
          "Beaconsfield",
          "Beaudesert",
          "Beaumaris",
          "Beaumont Hills",
          "Beechboro",
          "Beechmont",
          "Beecroft",
          "Beeliar",
          "Beenleigh",
          "Beerwah",
          "Bega",
          "Belconnen",
          "Beldon",
          "Belgrave",
          "Bella Vista",
          "Bellara",
          "Bellbowrie",
          "Bellerive",
          "Bellevue",
          "Bellingen",
          "Belmont",
          "Belmore",
          "Belrose",
          "Bennett Springs",
          "Benowa",
          "Bentleigh",
          "Bentleigh East",
          "Bentley",
          "Berala",
          "Berkshire Park",
          "Berrigan",
          "Berrimah",
          "Berry",
          "Berserker",
          "Berwick",
          "Beverly Hills",
          "Bibra Lake",
          "Bicton",
          "Biggera Waters",
          "Biloela",
          "Birkdale",
          "Birkenhead",
          "Birtinya",
          "Black Forest",
          "Black Head",
          "Blackburn",
          "Blackburn North",
          "Blackburn South",
          "Blackheath",
          "Blacktown",
          "Blackwater",
          "Blackwood",
          "Blakeview",
          "Blind Bight",
          "Boggabri",
          "Bomaderry",
          "Bondi",
          "Bondi Beach",
          "Bondi Junction",
          "Bonnyrigg",
          "Boondall",
          "Booragoon",
          "Booval",
          "Boronia",
          "Botany",
          "Boulder",
          "Bowen",
          "Bowral",
          "Box Hill",
          "Box Hill North",
          "Box Hill South",
          "Boxhill",
          "Bracknell",
          "Braddon",
          "Braemar",
          "Braeside",
          "Brandon",
          "Branxholm",
          "Brassall",
          "Braybrook",
          "Breakwater",
          "Brendale",
          "Brentwood",
          "Bridgetown",
          "Bridgewater",
          "Brighton",
          "Brighton-Le-Sands",
          "Brisbane",
          "Brisbane Airport",
          "Brisbane City",
          "Broadbeach",
          "Broadbeach Waters",
          "Broadmeadows",
          "Broadview",
          "Broadwater",
          "Broken Hill",
          "Brookvale",
          "Broughton Village",
          "Browns Plains",
          "Brownsville",
          "Bruce",
          "Brunswick",
          "Brunswick East",
          "Brunswick Heads",
          "Brunswick West",
          "Bruthen",
          "Bucasia",
          "Buderim",
          "Bulahdelah",
          "Bulla",
          "Bulleen",
          "Bulli",
          "Bullsbrook",
          "Bunbury",
          "Bundall",
          "Bundeena",
          "Bundoora",
          "Burleigh Heads",
          "Burleigh Waters",
          "Burnie",
          "Burnley",
          "Burnside",
          "Burra",
          "Burswood",
          "Burwood",
          "Burwood East",
          "Busby",
          "Busselton",
          "Butler",
          "Byford",
          "Byron Bay",
          "Caboolture",
          "Caboolture South",
          "Cabramatta West",
          "Caffey",
          "Cairns City",
          "Cairns North",
          "Calamvale",
          "Calder Park",
          "Callala Bay",
          "Calliope",
          "Caloundra",
          "Camberwell",
          "Cambooya",
          "Cambridge",
          "Cambridge Park",
          "Cammeray",
          "Camp Hill",
          "Campbell Town",
          "Campbellfield",
          "Campbelltown",
          "Camperdown",
          "Campsie",
          "Canberra",
          "Canley Vale",
          "Canning Vale",
          "Cannington",
          "Cannon Hill",
          "Canterbury",
          "Capalaba",
          "Carbrook",
          "Carbunup River",
          "Cardiff",
          "Carey Park",
          "Carina",
          "Carindale",
          "Carine",
          "Caringbah",
          "Caringbah South",
          "Carlingford",
          "Carlton",
          "Carlton North",
          "Carmel",
          "Carnegie",
          "Caroline Springs",
          "Carramar",
          "Carrara",
          "Carrum Downs",
          "Carseldine",
          "Casino",
          "Castle Hill",
          "Castlemaine",
          "Casuarina",
          "Casula",
          "Catherine Field",
          "Caulfield East",
          "Caulfield North",
          "Caulfield South",
          "Caversham",
          "Ceduna",
          "Centennial Park",
          "Chadstone",
          "Chatswood",
          "Chatswood West",
          "Chelsea",
          "Chelsea Heights",
          "Cheltenham",
          "Chermside",
          "Cherrybrook",
          "Chippendale",
          "Chipping Norton",
          "Chirnside Park",
          "Christies Beach",
          "Churchlands",
          "City Beach",
          "Clare",
          "Claremont",
          "Clarinda",
          "Clarkson",
          "Clayfield",
          "Clayton",
          "Clear Island Waters",
          "Clermont",
          "Cleveland",
          "Clifton Hill",
          "Clinton",
          "Clontarf",
          "Clovelly",
          "Cloverdale",
          "Clunes",
          "Clyde North",
          "Cobar",
          "Cobram",
          "Coburg",
          "Coburg North",
          "Cockatoo",
          "Cockburn Central",
          "Coconut Grove",
          "Coffs Harbour",
          "Coldstream",
          "Colebee",
          "Collaroy",
          "Collaroy Plateau",
          "Collingwood",
          "Como",
          "Concord West",
          "Condingup",
          "Cooee",
          "Coogee",
          "Coolalinga",
          "Coolangatta",
          "Coolbellup",
          "Cooloongup",
          "Coolum Beach",
          "Coombabah",
          "Coomera",
          "Coopers Plains",
          "Coorabie",
          "Coorparoo",
          "Corio",
          "Corowa",
          "Cottesloe",
          "Cow Bay",
          "Cowell",
          "Cowra",
          "Craigieburn",
          "Cranbourne",
          "Crawley",
          "Cremorne",
          "Crestmead",
          "Cromer",
          "Cronulla",
          "Crookwell",
          "Crows Nest",
          "Croydon",
          "Croydon Park",
          "Croydon South",
          "Cue",
          "Culburra Beach",
          "Cumberland Park",
          "Cunderdin",
          "Curl Curl",
          "Currajong",
          "Currambine",
          "Currumbin Waters",
          "Dairymans Plains",
          "Daisy Hill",
          "Dalkeith",
          "Dallas",
          "Dampier Peninsula",
          "Dandenong",
          "Dandenong North",
          "Dandenong South",
          "Dapto",
          "Darch",
          "Darlinghurst",
          "Darlington",
          "Darra",
          "Darwin",
          "Darwin City",
          "Dawes Point",
          "Deagon",
          "Deakin",
          "Deception Bay",
          "Dederang",
          "Dee Why",
          "Deer Park",
          "Denistone East",
          "Denmark",
          "Derrimut",
          "Diamond Creek",
          "Dianella",
          "Diggers Rest",
          "Dingley Village",
          "Docklands",
          "Doncaster",
          "Doncaster East",
          "Donnybrook",
          "Donvale",
          "Double Bay",
          "Doubleview",
          "Dover",
          "Dover Heights",
          "Dowsing Point",
          "Drouin",
          "Drummoyne",
          "Dry Creek",
          "Duaringa",
          "Dubbo",
          "Duffy",
          "Dulwich Hill",
          "Dunalley",
          "Duncraig",
          "Dunkeld",
          "Dunsborough",
          "Dunwich",
          "Durack",
          "Dural",
          "Dutton Park",
          "Eagle Farm",
          "Eagleby",
          "Eaglemont",
          "Earlville",
          "Earlwood",
          "East Brisbane",
          "East Corrimal",
          "East Fremantle",
          "East Kempsey",
          "East Killara",
          "East Lismore",
          "East Melbourne",
          "East Perth",
          "East Ryde",
          "East Toowoomba",
          "East Victoria Park",
          "Eastern Creek",
          "Eastgardens",
          "Eastlakes",
          "Eastland",
          "Eastwood",
          "Eaton",
          "Echuca",
          "Eden",
          "Eden Hill",
          "Edensor Park",
          "Edgecliff",
          "Edgewater",
          "Edinburgh",
          "Edithvale",
          "Edmonton",
          "Edwardstown",
          "Eight Mile Plains",
          "Eildon",
          "Elanora",
          "Elizabeth",
          "Elleker",
          "Ellenbrook",
          "Elliott",
          "Elliston",
          "Elsternwick",
          "Eltham",
          "Eltham North",
          "Elwood",
          "Emerald",
          "Emerald Beach",
          "Emerton",
          "Emu Plains",
          "Endeavour Hills",
          "Enfield",
          "Enmore",
          "Enoggera",
          "Epping",
          "Epping North",
          "Erskine",
          "Erskine Park",
          "Erskineville",
          "Esperance",
          "Essendon",
          "Essendon Fields",
          "Evatt",
          "Eveleigh",
          "Everard Park",
          "Everton Park",
          "Exeter",
          "Fairfield",
          "Fairfield Heights",
          "Fairfield West",
          "Fairlight",
          "Fairy Meadow",
          "Falcon",
          "Falcon (Miami Beach)",
          "Fannie Bay",
          "Faulconbridge",
          "Fawkner",
          "Federal",
          "Ferntree Gully",
          "Fernvale",
          "Ferny Grove",
          "Fig Tree Pocket",
          "Findon",
          "Fingal",
          "Firle",
          "Fitzroy",
          "Fitzroy North",
          "Five Dock",
          "Flemington",
          "Florey",
          "Footscray",
          "Forest Glen",
          "Forest Hill",
          "Forest Lake",
          "Forestville",
          "Forrest",
          "Forrestdale",
          "Forrestfield",
          "Fortitude Valley",
          "Fountain Gate",
          "Frankston",
          "Frankston North",
          "Freeling",
          "Fremantle",
          "Frenchs Forest",
          "Freshwater",
          "Fulham Gardens",
          "Fullarton",
          "Fyshwick",
          "Galston",
          "Gatton",
          "Geebung",
          "Geelong",
          "Gembrook",
          "Gepps Cross",
          "Geraldton",
          "Gerringong",
          "Gilgandra",
          "Gilles Plains",
          "Girrawheen",
          "Gisborne",
          "Gladesville",
          "Gladstone",
          "Glebe",
          "Glen Huntly",
          "Glen Innes",
          "Glen Iris",
          "Glen Osmond",
          "Glen Waverley",
          "Glenbrook",
          "Glendenning",
          "Glenelg",
          "Glenelg East",
          "Glengala",
          "Glengowrie",
          "Glenmore Park",
          "Glenorchy",
          "Glenreagh",
          "Glenroy",
          "Glenside",
          "Glenthorne",
          "Glenunga",
          "Gloucester",
          "Glynde",
          "Gold Coast",
          "Golden Beach",
          "Golden Grove",
          "Golden Point",
          "Goodna",
          "Goodwood",
          "Goolmangar",
          "Goonellabah",
          "Gooseberry Hill",
          "Gordon",
          "Gosnells",
          "Goulburn",
          "Gracemere",
          "Graceville",
          "Grafton",
          "Grantham",
          "Granville",
          "Gray",
          "Green Valley",
          "Greenacre",
          "Greenbank",
          "Greensborough",
          "Greenslopes",
          "Greenvale",
          "Greenwith",
          "Greenwood",
          "Grenfell",
          "Greystanes",
          "Griffith",
          "Grovedale",
          "Guildford",
          "Gumdale",
          "Gundagai",
          "Gungahlin",
          "Gwelup",
          "Gymea",
          "Hallam",
          "Hallidays Point",
          "Halls Head",
          "Hamilton",
          "Hamilton Hill",
          "Hammond Park",
          "Hammondville",
          "Hampton",
          "Hampton East",
          "Hampton Park",
          "Hannans",
          "Harefield",
          "Harlaxton",
          "Harris Park",
          "Hart",
          "Hawker",
          "Hawthorn",
          "Hawthorn East",
          "Hawthorne",
          "Hay",
          "Haymarket",
          "Haywards Bay",
          "Healesville",
          "Heathcote",
          "Heatherbrae",
          "Heathmont",
          "Heidelberg",
          "Heidelberg West",
          "Helensvale",
          "Henley Beach",
          "Henley Brook",
          "Herne Hill",
          "Herron",
          "Hervey Bay",
          "Hexham",
          "Heyfield",
          "Highett",
          "Highfields",
          "Highgate",
          "Highgate Hill",
          "Highland Park",
          "Highton",
          "Hillarys",
          "Hillcrest",
          "Hillsdale",
          "Hilton",
          "Hinchinbrook",
          "Hindmarsh",
          "Hinton",
          "Hobart",
          "Hocking",
          "Holland Park",
          "Holt",
          "Holtze",
          "Homebush",
          "Homebush West",
          "Hope Island",
          "Hoppers Crossing",
          "Hornsby",
          "Hornsby Heights",
          "Hove",
          "Howard Springs",
          "Howrah",
          "Hoxton Park",
          "Humpty Doo",
          "Hunters Hill",
          "Huntingdale",
          "Hurstville",
          "Huskisson",
          "Hyams Beach",
          "Hyde Park",
          "Illawong",
          "Indooroopilly",
          "Ingleburn",
          "Inglewood",
          "Innaloo",
          "Inverell",
          "Inverloch",
          "Ipswich",
          "Ivanhoe",
          "Jamisontown",
          "Jandakot",
          "Jannali",
          "Jerilderie",
          "Jindalee",
          "Jingili",
          "Joondalup",
          "Junee",
          "KENSINGTON",
          "Kadina",
          "Kalamunda",
          "Kalapa",
          "Kalbarri",
          "Kaleen",
          "Kalgoorlie",
          "Kalkallo",
          "Kallaroo",
          "Kandos",
          "Kangaroo Point",
          "Kangaroo Valley",
          "Karama",
          "Karana Downs",
          "Karawara",
          "Kardinya",
          "Karnup",
          "Karrinyup",
          "Katanning",
          "Katoomba",
          "Kealba",
          "Kearneys Spring",
          "Kedron",
          "Keilor Downs",
          "Keilor East",
          "Keilor Park",
          "Kelmscott",
          "Kelvin Grove",
          "Kenmore",
          "Kensington",
          "Kent Town",
          "Kenwick",
          "Keperra",
          "Kerang",
          "Keswick",
          "Kew",
          "Kewdale",
          "Keysborough",
          "Kiama",
          "Kiara",
          "Kidman Park",
          "Kilburn",
          "Kilburn North",
          "Kilkenny",
          "Kilsyth",
          "Kilsyth South",
          "Kin Kin",
          "Kinglake West",
          "Kings Langley",
          "Kings Park",
          "Kingsbury",
          "Kingscliff",
          "Kingsford",
          "Kingsgrove",
          "Kingsley",
          "Kingsthorpe",
          "Kingston",
          "Kingswood",
          "Kinross",
          "Kippa Ring",
          "Kippa-Ring",
          "Kirribilli",
          "Knoxfield",
          "Koetong",
          "Kogarah",
          "Kojonup",
          "Koo Wee Rup",
          "Koondoola",
          "Kootingal",
          "Korumburra",
          "Kotara",
          "Kurralta Park",
          "Kwinana Beach",
          "Labrador",
          "Lake Cathie",
          "Lakelands",
          "Lakemba",
          "Lakes Entrance",
          "Lalor",
          "Lane Cove",
          "Lane Cove North",
          "Lane Cove West",
          "Langford",
          "Langwarrin",
          "Lansvale",
          "Lara",
          "Larrakeyah",
          "Lauderdale",
          "Launceston",
          "Launching Place",
          "Laurieton",
          "Lavender Bay",
          "Laverton",
          "Laverton North",
          "Lavington",
          "Lawson",
          "Leabrook",
          "Leederville",
          "Leeming",
          "Leichhardt",
          "Leinster",
          "Len Waters Estate",
          "Lennox Head",
          "Leonay",
          "Leonora",
          "Leopold",
          "Leppington",
          "Lesmurdie",
          "Lewisham",
          "Lidcombe",
          "Lilydale",
          "Lindfield",
          "Lindum",
          "Lismore",
          "Little Bay",
          "Liverpool",
          "Liverpool Bc",
          "Llandilo",
          "Lobethal",
          "Logan Central",
          "Logan Village",
          "Loganholme",
          "Longreach",
          "Lonsdale",
          "Lorne",
          "Lowlands",
          "Lowood",
          "Loxton",
          "Lucas",
          "Ludmilla",
          "Lurnea",
          "Lutwyche",
          "Lyndhurst",
          "Lyons",
          "MAJURA",
          "MERMAID WATERS",
          "Macedon",
          "Macksville",
          "Maclean",
          "Macleod",
          "Macquarie Fields",
          "Macquarie Park",
          "Maddingley",
          "Maddington",
          "Madeley",
          "Maffra",
          "Magnetic Island",
          "Maidstone",
          "Main Beach",
          "Maitland",
          "Majura Park",
          "Malaga",
          "Maleny",
          "Malvern",
          "Malvern East",
          "Mandurah",
          "Mango Hill",
          "Manly",
          "Manly Vale",
          "Manning",
          "Mannum",
          "Manoora",
          "Mansfield",
          "Marden",
          "Mareeba",
          "Margaret River",
          "Margate",
          "Marian",
          "Maribyrnong",
          "Marlo",
          "Maroochydore",
          "Maroubra",
          "Marrara",
          "Marrickville",
          "Marsden Park",
          "Marsfield",
          "Maryborough",
          "Marysville",
          "Mascot",
          "Mayfield",
          "Maylands",
          "Mcalinden",
          "Mckail",
          "Mckinnon",
          "Mclaren Vale",
          "Mcmahons Point",
          "Meadow",
          "Meadow Heights",
          "Meadowbrook",
          "Meckering",
          "Melba",
          "Melbourne",
          "Melbourne Airport",
          "Melrose Park",
          "Melton",
          "Melton South",
          "Melton West",
          "Melville",
          "Menai",
          "Mentone",
          "Mermaid Beach",
          "Mermaid Waters",
          "Mernda",
          "Merrimac",
          "Merriwa",
          "Merrylands",
          "Merrylands West",
          "Metricup",
          "Miami",
          "Middle Park",
          "Middlemount",
          "Middleton Beach",
          "Midland",
          "Mildura",
          "Mile End",
          "Mill Park",
          "Miller",
          "Millers Forest",
          "Millicent",
          "Millmerran",
          "Millner",
          "Milperra",
          "Milsons Point",
          "Milton",
          "Minchinbury",
          "Mindarie",
          "Mira Mar",
          "Miranda",
          "Mirrabooka",
          "Mitcham",
          "Mitchell",
          "Mitchell Park",
          "Mitchelton",
          "Mittagong",
          "Modbury",
          "Molendinar",
          "Mollymook",
          "Mona Vale",
          "Monbulk",
          "Mont Albert",
          "Montrose",
          "Mooloolaba",
          "Mooloolah Valley",
          "Moonee Ponds",
          "Moonie",
          "Moonta",
          "Moonyoonooka",
          "Moorabbin",
          "Moorabbin Airport",
          "Moore Park",
          "Moorebank",
          "Moorooka",
          "Mooroolbark",
          "Mooroopna",
          "Moranbah",
          "Morayfield",
          "Mordialloc",
          "Moree",
          "Morgan",
          "Morley",
          "Morningside",
          "Mornington",
          "Morphett Vale",
          "Mortdale",
          "Morven",
          "Mosman",
          "Mossman",
          "Mossman Gorge",
          "Mount Barker",
          "Mount Beauty",
          "Mount Clarence",
          "Mount Clear",
          "Mount Colah",
          "Mount Cotton",
          "Mount Dandenong",
          "Mount Druitt",
          "Mount Gambier",
          "Mount Gambier Airport",
          "Mount Gravatt",
          "Mount Gravatt East",
          "Mount Hawthorn",
          "Mount Lawley",
          "Mount Lofty",
          "Mount Macedon",
          "Mount Melville",
          "Mount Ommaney",
          "Mount Pritchard",
          "Mount Sheridan",
          "Mount Warren Park",
          "Mount Waverley",
          "Mt Gambier",
          "Mt Hawthorn",
          "Mt Lawley",
          "Mudgeeraba",
          "Muirhead",
          "Mulgrave",
          "Munster",
          "Murarrie",
          "Murdoch",
          "Murray Bridge",
          "Murrumbateman",
          "Murrumbeena",
          "Murrurundi",
          "Murwillumbah",
          "Muswellbrook South",
          "Myalup",
          "Myaree",
          "Myrniong",
          "Nambour",
          "Nambucca Heads",
          "Nangwarry",
          "Nannup",
          "Narbethong",
          "Narellan",
          "Naremburn",
          "Narrabeen",
          "Narrabri",
          "Narrabundah",
          "Narrawallee",
          "Narraweena",
          "Narre Warren",
          "Narre Warren South",
          "Narrogin",
          "Nathalia",
          "Nedlands",
          "Neerabup",
          "Nelly Bay",
          "Nerang",
          "Netley",
          "Neutral Bay",
          "New Farm",
          "New Lambton Heights",
          "New Norfolk",
          "New Town",
          "Newcastle",
          "Newman",
          "Newmarket",
          "Newport",
          "Newrybar",
          "Newstead",
          "Newtown",
          "Niddrie",
          "Nightcliff",
          "Ningaloo",
          "Noarlunga Centre",
          "Noble Park",
          "Noble Park North",
          "Noosa Heads",
          "Noosaville",
          "Noranda",
          "Norlane",
          "North Adelaide",
          "North Beach",
          "North Brighton",
          "North Coogee",
          "North Curl Curl",
          "North Dandalup",
          "North Essendon",
          "North Harbour",
          "North Haven",
          "North Hobart",
          "North Lakes",
          "North Maclean",
          "North Melbourne",
          "North Narrabeen",
          "North Nowra",
          "North Perth",
          "North Plympton",
          "North Rocks",
          "North Ryde",
          "North Sydney",
          "North Turramurra",
          "North Wagga Wagga",
          "North Ward",
          "North Willoughby",
          "Northam",
          "Northbridge",
          "Northcote",
          "Northgate",
          "Northmead",
          "Norwood",
          "Notting Hill",
          "Nowra",
          "Nowra North",
          "Nullarbor",
          "Nulsen",
          "Nunawading",
          "Nundah",
          "Nuriootpa",
          "O'Malley",
          "O'connor",
          "Oakey",
          "Oaklands Park",
          "Oakleigh",
          "Oakleigh South",
          "Oatlands",
          "Oatley",
          "Ocean Grange",
          "Ocean Grove",
          "Ocean Shores",
          "Officer",
          "Old Bar",
          "Old Guildford",
          "Old Toongabbie",
          "Olinda",
          "Oodnadatta",
          "Ooralea",
          "Orange",
          "Orbost",
          "Ormeau",
          "Ormiston",
          "Ormond",
          "Osborne Park",
          "Oxenford",
          "Oxley",
          "Pacific Paradise",
          "Pacific Pines",
          "Paddington",
          "Padstow",
          "Palm Beach",
          "Palmerston City",
          "Palmwoods",
          "Palmyra",
          "Panania",
          "Pantapin",
          "Para Vista",
          "Paradise Point",
          "Parafield Gardens",
          "Parap",
          "Park Avenue",
          "Park Grove",
          "Park Holme",
          "Park Ridge",
          "Parkdale",
          "Parkes",
          "Parkinson",
          "Parkside",
          "Parkville",
          "Parkwood",
          "Parramatta",
          "Parramatta Park",
          "Pascoe Vale",
          "Pascoe Vale South",
          "Peak Crossing",
          "Peakhurst",
          "Pearsall",
          "Pendle Hill",
          "Penola",
          "Penrith",
          "Penshurst",
          "Perth",
          "Perth Airport",
          "Peterborough",
          "Peterhead",
          "Petersham",
          "Petrie",
          "Petrie Terrace",
          "Phillip",
          "Pialba",
          "Piara Waters",
          "Piccadilly",
          "Pilton",
          "Pimpama",
          "Plainland",
          "Plumpton",
          "Plympton",
          "Point Cook",
          "Point Lookout",
          "Point Wilson",
          "Pooraka",
          "Port Adelaide",
          "Port Augusta",
          "Port Augusta West",
          "Port Broughton",
          "Port Douglas",
          "Port Kennedy",
          "Port Lincoln",
          "Port Macquarie",
          "Port Macquarie South",
          "Port Melbourne",
          "Portarlington",
          "Potts Point",
          "Prahran",
          "Prairiewood",
          "Preston",
          "Prestons",
          "Prospect",
          "Prospect Vale",
          "Pullenvale",
          "Punchbowl",
          "Pymble",
          "Pyrmont",
          "Quakers Hill",
          "Queanbeyan",
          "Queanbeyan East",
          "Queenscliff",
          "Raceview",
          "Rainbow Flat",
          "Ramingining",
          "Ramsgate",
          "Randwick",
          "Rangeville",
          "Ravenhall",
          "Ravenswood",
          "Red Hill",
          "Redbank",
          "Redbank Plains",
          "Redcliffe",
          "Redfern",
          "Redland Bay",
          "Redwood Park",
          "Reedy Creek",
          "Regents Park",
          "Reservoir",
          "Revesby",
          "Reynella",
          "Rhodes",
          "Richlands",
          "Richmond",
          "Riddells Creek",
          "Ringwood",
          "Ringwood East",
          "Ripley",
          "Ripponlea",
          "Riverhills",
          "Riverton",
          "Rivervale",
          "Riverwood",
          "Robertson",
          "Robina",
          "Robinvale",
          "Rochedale",
          "Rochester",
          "Rockbank",
          "Rockdale",
          "Rockhampton City",
          "Rockingham",
          "Rocklea",
          "Rokeby",
          "Rosanna",
          "Rose Bay",
          "Rose Bay North",
          "Rosebery",
          "Rosehill",
          "Roselands",
          "Rosemeadow",
          "Roseville",
          "Rosewater",
          "Roseworthy",
          "Rouse Hill",
          "Rowville",
          "Roxburgh Park",
          "Royal National Park",
          "Rozelle",
          "Runaway Bay",
          "Runcorn",
          "Russell",
          "Rutherglen",
          "Rydalmere",
          "Ryde",
          "Rye",
          "SYDNEY",
          "Safety Bay",
          "Saint Albans",
          "Saint Clair",
          "Saint George",
          "Saint Helena",
          "Saint Helens",
          "Saint Ives",
          "Saint James",
          "Saint Kilda",
          "Saint Kilda East",
          "Saint Kilda West",
          "Saint Lucia",
          "Saint Marys",
          "Sale",
          "Salisbury",
          "Salisbury Downs",
          "Sandringham",
          "Sandy Bay",
          "Sans Souci",
          "Sassafras",
          "Scamander",
          "Scarborough",
          "Schofields",
          "Scone",
          "Scoresby",
          "Scottsdale",
          "Seacliff Park",
          "Seaford",
          "Seaton",
          "Sebastopol",
          "Secret Harbour",
          "Seddon",
          "Semaphore",
          "Seven Hills",
          "Seven Mile Beach",
          "Seventeen Mile Rocks",
          "Seville",
          "Seymour",
          "Shailer Park",
          "Sheldon",
          "Shellharbour",
          "Shellharbour City Centre",
          "Shelly Beach",
          "Shepparton",
          "Sherbrooke",
          "Sherwood",
          "Shoal Bay",
          "Shoalhaven Heads",
          "Shoalwater",
          "Silkstone",
          "Silverwater",
          "Sippy Downs",
          "Slacks Creek",
          "Smithfield",
          "Somerset",
          "Somerville",
          "Sorell",
          "Sorrento",
          "South Brisbane",
          "South Bunbury",
          "South Burnie",
          "South Fremantle",
          "South Grafton",
          "South Granville",
          "South Hurstville",
          "South Lake",
          "South Lismore",
          "South Melbourne",
          "South Morang",
          "South Nowra",
          "South Penrith",
          "South Perth",
          "South Toowoomba",
          "South Townsville",
          "South Turramurra",
          "South Wentworthville",
          "South Wharf",
          "South Windsor",
          "South Yarra",
          "Southbank",
          "Southern River",
          "Southport",
          "Spearwood",
          "Spencer Park",
          "Spotswood",
          "Spring Hill",
          "Springfield Lakes",
          "Springvale",
          "Springvale South",
          "Springwood",
          "St Kilda",
          "St Leonards",
          "Stafford",
          "Stafford Heights",
          "Stanhope Gardens",
          "Stirling",
          "Strahan",
          "Strathmore",
          "Strathpine",
          "Stratton",
          "Stuart Park",
          "Subiaco",
          "Success",
          "Summer Hill",
          "Sunbury",
          "Sunnybank",
          "Sunnybank Hills",
          "Sunshine",
          "Sunshine Beach",
          "Sunshine North",
          "Sunshine West",
          "Surfers Paradise",
          "Surrey Hills",
          "Surry Hills",
          "Swan Hill",
          "Sydenham",
          "Sydney",
          "Sydney Airport",
          "Sydney Olympic Park",
          "Sylvania",
          "Tabulam",
          "Taigum",
          "Tallai",
          "Tamborine Mountain",
          "Tamworth",
          "Tanah Merah",
          "Taree",
          "Taree West",
          "Taringa",
          "Tarneit",
          "Tarro",
          "Taylors Lakes",
          "Tecoma",
          "Temora",
          "Tempe",
          "Templestowe",
          "Templestowe Lower",
          "Terrey Hills",
          "The Gardens",
          "The Junction",
          "The Rocks",
          "The University of Melbourne",
          "The Vines",
          "Thirlmere",
          "Thomastown",
          "Thornbury",
          "Thorneside",
          "Thornlands",
          "Thornleigh",
          "Thornlie",
          "Thornton",
          "Tieri",
          "Tinamba",
          "Tingalpa",
          "Tiwi",
          "Tolland",
          "Tom Price",
          "Toombul",
          "Toongabbie",
          "Toorak",
          "Toorak Gardens",
          "Toowong",
          "Toowoomba",
          "Toowoomba City",
          "Toronto",
          "Torrens Park",
          "Torrensville",
          "Tottenham",
          "Townsville",
          "Townsville City",
          "Trafalgar",
          "Trigg",
          "Trinity Park",
          "Truganina",
          "Trundle",
          "Tuart Hill",
          "Tugun",
          "Tullamarine",
          "Tully",
          "Tumut",
          "Tuncurry",
          "Turramurra",
          "Tweed Heads",
          "Tweed Heads South",
          "Ulladulla",
          "Ulmarra",
          "Ultimo",
          "Underwood",
          "Unley",
          "Upper Burnie",
          "Upper Coomera",
          "Upper Mount Gravatt",
          "Upper Swan",
          "Uraidla",
          "Urunga",
          "Valla",
          "Varsity Lakes",
          "Vasse",
          "Vaucluse",
          "Vermont",
          "Vermont South",
          "Vic",
          "Victor Harbor",
          "Victoria Park",
          "Victoria Point",
          "Vincentia",
          "Vineyard",
          "Virginia",
          "Vivonne Bay",
          "Wa",
          "Wacol",
          "Wagga Wagga",
          "Wahroonga",
          "Waikiki",
          "Waitara",
          "Wakerley",
          "Walgett",
          "Walkerville",
          "Wallaroo",
          "Wangara",
          "Wanneroo",
          "Wantirna",
          "Wantirna South",
          "Warabrook",
          "Warburton",
          "Warilla",
          "Warnbro",
          "Warners Bay",
          "Warrandyte",
          "Warrandyte South",
          "Warriewood",
          "Warwick",
          "Warwick Farm",
          "Waterford",
          "Waterford West",
          "Waterloo",
          "Watsonia",
          "Wattle Grove",
          "Waurn Ponds",
          "Wavell Heights",
          "Waverley",
          "Waverton",
          "Welland",
          "Welshpool",
          "Wembley",
          "Wendouree",
          "Wentworth Falls",
          "Wentworthville",
          "Werribee",
          "Werrington County",
          "West Beach",
          "West Busselton",
          "West End",
          "West Footscray",
          "West Gladstone",
          "West Kalgoorlie",
          "West Lakes",
          "West Lakes Shore",
          "West Mackay",
          "West Melbourne",
          "West Pennant Hills",
          "West Perth",
          "West Pymble",
          "West Ryde",
          "West Wodonga",
          "Westcourt",
          "Western Junction",
          "Westlakes",
          "Westleigh",
          "Westmead",
          "Westminster",
          "Weston",
          "Weston Creek",
          "Wetherill Park",
          "Wheelers Hill",
          "Whitfords",
          "Whittlesea",
          "Whyalla",
          "Whyalla Norrie",
          "Whyalla Playford",
          "Wickham",
          "Willetton",
          "Williams Landing",
          "Williamstown North",
          "Willoughby",
          "Willowbank",
          "Willunga",
          "Wilsonton",
          "Wilsonton Heights",
          "Windaroo",
          "Windsor",
          "Windsor Gardens",
          "Wingfield",
          "Winnellie",
          "Wishart",
          "Withers",
          "Wodonga",
          "Wollert",
          "Wolli Creek",
          "Wollongong",
          "Wollstonecraft",
          "Wonthaggi",
          "Wonthella",
          "Woodburn",
          "Woodcroft",
          "Woodlands",
          "Woodridge",
          "Woodvale",
          "Woodville North",
          "Woolgoolga",
          "Woollahra",
          "Woolloongabba",
          "Woolooware",
          "Wooloowin",
          "Woombye",
          "Woongoolba",
          "Woori Yallock",
          "Worongary",
          "Worrigee",
          "Wyalong",
          "Wyndham Vale",
          "Wynnum West",
          "Wynyard",
          "Yagoona",
          "Yallingup",
          "Yamanto",
          "Yamba",
          "Yangebup",
          "Yarra Glen",
          "Yarra Junction",
          "Yarralumla",
          "Yarraman",
          "Yarraville",
          "Yarrawonga",
          "Yass",
          "Yatala",
          "Yeppoon",
          "Yokine",
          "York",
          "Yowah",
          "Yulara",
          "Yungaburra",
          "Zetland",
          "Zillmere",
          "Zuccoli"
         ],
         "marker": {
          "colors": [
           2004.29,
           52.45000000000001,
           57.77,
           84.92,
           10.3,
           1785.6399999999999,
           244.46,
           45.13,
           245.64000000000001,
           742.17,
           85.14,
           13.05,
           209.5,
           20.54,
           75,
           80.82,
           32.41,
           40.25,
           94.33,
           1487.5400000000002,
           19.62,
           9.35,
           43.730000000000004,
           19.96,
           9.43,
           229.56000000000003,
           122.92,
           173.98,
           1003.9300000000001,
           127.4,
           133.52,
           47.67000000000001,
           48.660000000000004,
           162.3,
           23.27,
           183.45,
           66.47,
           222.9,
           62.51,
           360.59,
           657.8199999999999,
           49.98999999999999,
           17.53,
           588.47,
           170.84,
           225.83,
           81.09,
           31.71,
           512.47,
           121.77999999999999,
           51.04,
           67.38,
           625.1800000000001,
           33.52,
           46.35,
           12.63,
           41,
           71.96000000000001,
           21.74,
           24.3,
           10.79,
           583.96,
           64.43,
           31.78,
           13.83,
           14.7,
           37.76,
           21.54,
           26.95,
           115.53999999999999,
           66.32,
           535.96,
           41.61,
           229.14,
           81.11,
           711.23,
           24.53,
           202.68,
           603.95,
           42.91,
           33.78,
           20.04,
           77.63,
           26.91,
           277.56,
           36.99,
           556.78,
           18.45,
           42.33,
           77.81,
           223.14,
           7.57,
           784.01,
           6.71,
           479.37,
           88.75,
           29.77,
           6,
           140.69,
           212.05,
           117.03999999999999,
           76.86,
           20.63,
           476.0199999999999,
           327.18,
           24.839999999999996,
           97.43000000000002,
           1340.3899999999999,
           143.01,
           41.5,
           20.47,
           97.5,
           261.68,
           64.88,
           82.47,
           86.16,
           22.49,
           100.52,
           194.42,
           116.11999999999999,
           36.26,
           349.39,
           30.65,
           10.76,
           15.36,
           54.32999999999999,
           21.42,
           176.53,
           103.17999999999999,
           645.69,
           14.06,
           89.75,
           36.31,
           31.65,
           17.86,
           12.470000000000002,
           41.66,
           47.39,
           147.3,
           93.23,
           168.74,
           169.06,
           80.3,
           191.19,
           33.09,
           325.84,
           141.22,
           210.82,
           16.7,
           397.23,
           13.32,
           24.009999999999998,
           130.74,
           16.17,
           10.39,
           187.04,
           588.3100000000001,
           183.96,
           33.11,
           78.16,
           16.63,
           198.10000000000002,
           146.14,
           13.329999999999998,
           131,
           771.26,
           60,
           6.86,
           322.61,
           42.67,
           165.45,
           22.37,
           63.14,
           62.99,
           36.08,
           140.5,
           73.6,
           186.42000000000004,
           8.91,
           18.71,
           7.96,
           336.88,
           18.77,
           49.93999999999999,
           80.6,
           61.5,
           90.2,
           10.55,
           15.95,
           38.39,
           65.82,
           12.46,
           480.23999999999995,
           279.28999999999996,
           72.58,
           151.74,
           2724.45,
           2003.3,
           152.75,
           201.62,
           22.24,
           143.48,
           1090.36,
           1543.08,
           40,
           255.91,
           9.26,
           34.85,
           522.71,
           163.98000000000002,
           20.82,
           332.71,
           159.94,
           23.86,
           40.9,
           18.77,
           23.95,
           124.22999999999999,
           52.59,
           5.05,
           72.84,
           179.29,
           66.53,
           382.25,
           582.22,
           62.79,
           65.32000000000001,
           193.04,
           20.05,
           37.6,
           61.36,
           50.9,
           92.84,
           17.27,
           1032.4,
           50.58,
           22.759999999999998,
           46.03,
           53.25,
           39.54,
           68.67,
           16,
           201.30999999999997,
           6.400000000000001,
           19.52,
           41.489999999999995,
           40.93,
           29.93,
           37.05,
           1583.1699999999998,
           15.53,
           73.34,
           17.05,
           68.86,
           108.42,
           25.32,
           96.46,
           142.99,
           11.24,
           109.53999999999999,
           413.23,
           32.9,
           140.47,
           310.1,
           158.41,
           92.3,
           260.04,
           2.08,
           19.73,
           19.87,
           17.89,
           31.46,
           108.95,
           17.32,
           125.69999999999999,
           75.52,
           89.14999999999999,
           274.82,
           217.52,
           41.1,
           60.730000000000004,
           14.14,
           9.24,
           103.72999999999999,
           173.35,
           35.01,
           106.11,
           393.49,
           842.85,
           270.99,
           255.93,
           36.31,
           95.39,
           76.22,
           9.57,
           18.11,
           920.95,
           54.94,
           456.87,
           1860.84,
           51.660000000000004,
           148.04000000000002,
           71.61000000000001,
           123.84,
           161.85,
           40.32,
           354.73,
           50.74,
           1248.73,
           39.25,
           8.93,
           38.31,
           99.11999999999999,
           549.9399999999999,
           50.75,
           165.53,
           199.61,
           186.57000000000002,
           44.08,
           196.95,
           168.84,
           73.22,
           32.57,
           339.53999999999996,
           57.19,
           43.5,
           16.03,
           2.98,
           21.38,
           85.21000000000001,
           324.57,
           13.73,
           18.98,
           33.730000000000004,
           859.21,
           190.88,
           20.97,
           10.72,
           81.25999999999999,
           74.64,
           1012.25,
           69.85,
           16.16,
           14.3,
           15.23,
           174.26,
           43.18,
           42.01,
           128.22,
           23.02,
           13.6,
           20.03,
           32.61,
           41.97,
           115.83,
           164.94,
           20.25,
           21.76,
           87.14999999999999,
           32.61,
           16.9,
           24.740000000000002,
           554.26,
           63.09,
           29.57,
           574.39,
           17.67,
           18.8,
           57.93000000000001,
           16.08,
           283.53,
           558.08,
           44.459999999999994,
           28.74,
           79.53,
           118.31,
           6.05,
           59.43,
           53.44,
           17.54,
           19.62,
           14.28,
           83.13,
           35.06,
           12.6,
           50.85,
           36.78,
           118.73,
           8.61,
           1079.3700000000001,
           41.35,
           20.56,
           314.78000000000003,
           47.93000000000001,
           19.29,
           279.76,
           1088.32,
           50.44,
           18.57,
           1474.5199999999998,
           35.73,
           24.67,
           321.98,
           101.28999999999999,
           50.07,
           28.38,
           48.16,
           25.2,
           56.06,
           39.78,
           30.38,
           1336.58,
           1429.03,
           2507.09,
           43.06,
           47.18,
           40.54,
           18.479999999999997,
           22.95,
           4.49,
           58.9,
           95.84000000000002,
           158.92000000000002,
           35.33,
           5.04,
           74.09,
           10.05,
           33.56,
           34.36,
           196.55,
           38.01,
           47.56,
           75,
           9.85,
           121.77,
           5.710000000000001,
           161.07,
           85.08,
           12.34,
           13.89,
           50.25,
           35.26,
           26.25,
           291.8,
           9.61,
           41.2,
           18.95,
           2297.64,
           296.93,
           348.21,
           6.98,
           148.92,
           24.1,
           152.04,
           17.15,
           20.61,
           515.61,
           133.21,
           33.599999999999994,
           368.67,
           43.31,
           36.59,
           49.6,
           171.51,
           17.66,
           215.7,
           67.83,
           18.6,
           152.72,
           7.49,
           118.38000000000002,
           18.78,
           18.7,
           538.55,
           74.47,
           38.83,
           371.24,
           409.44000000000005,
           9.45,
           37.97,
           265.05,
           22,
           43.55,
           65.26,
           21.27,
           498.05,
           27.89,
           16.73,
           1406.36,
           16.68,
           13.05,
           55.55,
           34.65,
           157.47,
           156.19,
           157.88,
           22.12,
           20.19,
           16.85,
           93.59,
           48.64,
           148.62,
           59.73,
           27.61,
           496.76,
           10.91,
           33.58,
           30.490000000000002,
           199.62000000000003,
           44.97,
           18.63,
           18.7,
           297.15999999999997,
           22.969999999999995,
           43.61,
           23.84,
           75.02000000000001,
           24.68,
           28.98,
           463.82,
           109.00999999999999,
           33.18,
           90.51,
           15.89,
           202.48000000000002,
           30.46,
           295.19,
           16.89,
           63.18,
           143.85,
           17.01,
           57.400000000000006,
           895.5600000000001,
           48.03,
           522.9,
           16.24,
           67.89,
           165.13,
           790.64,
           73.34,
           18.76,
           81.07,
           1445.58,
           23.979999999999997,
           165.09,
           22,
           389.71999999999997,
           16.29,
           11.2,
           124.47,
           10.3,
           240.01,
           18.04,
           91.11,
           56.45,
           734.1,
           8.61,
           128.42000000000002,
           15.26,
           21.92,
           150.23000000000002,
           287.01,
           1085.12,
           15.35,
           16.5,
           8.47,
           22.16,
           23.200000000000003,
           27.4,
           78.99,
           19.01,
           33.93,
           15.22,
           192.71,
           37.26,
           56.03,
           105.11,
           16.83,
           154.06,
           15.790000000000001,
           23.38,
           134.99,
           37.93,
           176.82,
           15.33,
           165.8,
           41.66,
           59.54,
           60.370000000000005,
           313.72,
           141.89,
           55.21,
           27.96,
           16.03,
           67.34,
           35.699999999999996,
           207.87,
           70.05000000000001,
           66.91,
           526.05,
           192.29999999999998,
           17.6,
           21.86,
           59.01,
           86.9,
           50.6,
           67.71000000000001,
           14.3,
           55.82,
           5.09,
           201.59,
           50.91,
           42.96,
           52.92,
           18.6,
           3.86,
           28.130000000000003,
           683.6,
           63.55,
           13.759999999999998,
           124.07,
           152.34,
           41.84,
           123.45,
           19.61,
           84.74,
           119.5,
           106.28,
           71.55,
           65.2,
           587.62,
           821.08,
           36.95,
           51.959999999999994,
           668.57,
           8.68,
           73.5,
           54.04,
           14.06,
           9.15,
           205.13,
           9.07,
           419.52,
           6.05,
           36.2,
           100.41,
           10.02,
           11.26,
           36.59,
           51.24,
           246.92000000000002,
           82.06,
           29.81,
           9.75,
           110.27,
           35.29,
           410.03000000000003,
           49.47,
           69.83,
           73.05,
           156.82,
           40.92,
           199.86,
           269.3,
           27.07,
           48.370000000000005,
           40.45,
           164.25,
           160.73,
           26.9,
           49.62,
           439.21,
           202.33999999999997,
           17.11,
           35.65,
           371.54999999999995,
           15.12,
           11.740000000000002,
           71.42,
           68.62,
           18.01,
           181.96000000000004,
           167.57999999999998,
           39.59,
           75.65,
           50.269999999999996,
           373.64,
           24.740000000000002,
           79.44,
           361.76,
           125.13999999999999,
           30.04,
           92.44,
           515.81,
           32.78,
           76.43,
           53.17,
           56.80000000000001,
           199.4,
           13.16,
           306.08,
           22.59,
           51.79,
           531.7,
           165.91,
           62.1,
           332.12,
           48.75,
           296.53,
           61.06,
           37.29,
           24.23,
           13.48,
           35.06,
           90.98000000000002,
           131.3,
           45.559999999999995,
           57.580000000000005,
           5.95,
           377.65,
           200.57999999999998,
           113.92,
           41.91,
           75.24000000000001,
           75.83,
           41.989999999999995,
           57.62,
           1838.11,
           148.56,
           32.29,
           341.61,
           317.86,
           30.47,
           19.35,
           413.57,
           26.2,
           93.21000000000002,
           493.13000000000005,
           14.66,
           75.87,
           66.89,
           48.1,
           35.6,
           85.5,
           64.43,
           93.4,
           52.22,
           12.56,
           21.18,
           146.04000000000002,
           204.01000000000002,
           43.96,
           56.019999999999996,
           103.97999999999999,
           55.400000000000006,
           61.93999999999999,
           386.44,
           29.6,
           28.6,
           441.2200000000001,
           43.12,
           16.66,
           89.23,
           17.37,
           229,
           13,
           226.09,
           67.16,
           9.09,
           11.77,
           14.27,
           6.5,
           67.83,
           14.97,
           34.48,
           289.01,
           18.67,
           47.980000000000004,
           152.26,
           155.69,
           125.06,
           529.58,
           9.45,
           39.01,
           17.64,
           9.66,
           14.130000000000003,
           33.300000000000004,
           4.56,
           45.38000000000001,
           25.029999999999998,
           13.45,
           148.22,
           32.67,
           116.50999999999999,
           127.27,
           55.349999999999994,
           20.25,
           9.7,
           212.89,
           28.660000000000004,
           121.68,
           44.79,
           7.65,
           35.43,
           28.22,
           113.65,
           45.870000000000005,
           51.15,
           38.87,
           28.51,
           532.53,
           1118.7,
           23.260000000000005,
           3.46,
           225.04,
           9.17,
           524.71,
           16.74,
           7.54,
           68.96000000000001,
           12.63,
           46.69,
           358.24,
           202.35999999999999,
           11.12,
           40.03,
           1049.16,
           42.23,
           28.260000000000005,
           70.73,
           107.58,
           64.52000000000001,
           128.46,
           23.14,
           93.81,
           23.34,
           16.84,
           20.55,
           15.1,
           8.26,
           76.89999999999999,
           127.62,
           354.78,
           46.67,
           70.14,
           137.78,
           19.17,
           19.59,
           44.38,
           44.07,
           51.690000000000005,
           7.86,
           195.34,
           28.78,
           3994.8300000000004,
           170.61,
           31.830000000000002,
           65.26,
           281.49,
           23.52,
           25.07,
           29.26,
           11.48,
           1082.57,
           37.3,
           97.78,
           330.62,
           158.85,
           22.31,
           3770.83,
           147.73000000000002,
           225.75,
           268.8,
           88.85,
           373.74,
           33.93,
           3.96,
           347.9,
           57.669999999999995,
           10282.62,
           23.68,
           20.09,
           28.13,
           12.68,
           71.25,
           25.570000000000004,
           23.85,
           45.95,
           25.9,
           48.34,
           51.86000000000001,
           5.27,
           11943.53,
           485.36,
           808.5999999999999,
           154.33,
           35.84,
           103.07,
           8.84,
           65.39,
           74.49000000000001,
           125.27000000000001,
           111.58,
           29.24,
           5.57,
           117.08,
           157.04,
           18.91,
           81.47,
           197.36,
           121.48,
           239.5,
           7.51,
           301.54,
           7.56,
           27.45,
           174.54,
           11,
           37.54,
           131.88,
           32.07,
           129.42000000000002,
           30.340000000000003,
           58.3,
           296.39,
           36.05,
           43.21,
           159,
           36.01,
           898.43,
           372.9099999999999,
           41.63,
           31.34,
           77.1,
           103.93000000000002,
           107.16,
           118.33,
           10.61,
           73.43,
           15.200000000000001,
           63.25,
           32.09,
           15.309999999999999,
           45.96,
           287.01,
           187.86,
           45.24,
           20.68,
           60.81,
           285.63,
           63.56,
           120.22,
           24.62,
           233.86999999999998,
           15.05,
           41.07,
           82.86,
           55.349999999999994,
           35.41,
           10.63,
           512.43,
           81.02,
           66.19,
           28.89,
           80.55000000000001,
           51.9,
           157.51999999999998,
           14.05,
           501.67,
           24.98,
           31.5,
           132.3,
           21.56,
           8.56,
           19.82,
           10.06,
           647.8199999999999,
           4710.25,
           14.169999999999998,
           2721.14,
           304.11,
           83.96000000000001,
           95.07,
           7.13,
           25.75,
           96.27,
           29.779999999999998,
           778.13,
           28.78,
           58.13,
           322.26,
           54.56,
           60.21,
           12.54,
           197.06,
           8.3,
           335.19,
           19.96,
           16.06,
           15.07,
           31.14,
           245.79999999999998,
           57.86,
           97.02000000000001,
           21.5,
           39.77,
           80.5,
           74.14999999999999,
           42.78,
           20.17,
           73.9,
           30.01,
           41.74,
           165.61,
           259.79,
           55.519999999999996,
           10.87,
           69.8,
           38.96,
           21.299999999999997,
           8.68,
           267.44,
           110.49,
           761.75,
           6.9,
           362.62000000000006,
           65.81,
           33.17,
           107.16,
           60.58,
           123.51,
           83.1,
           20.77,
           54.78999999999999,
           56.89,
           198.43999999999997,
           1458.6000000000001,
           28.41,
           124.52000000000001,
           27.35,
           346.02000000000004,
           2000.31,
           32.400000000000006,
           71.87,
           108.77,
           100.02000000000001,
           81.69,
           89.32,
           79.29,
           73.1,
           39.9,
           76.67,
           42.54,
           37.55,
           15.47,
           12.79,
           98.93,
           5.66,
           13.690000000000001,
           13.93,
           26.830000000000002,
           34.6,
           148.95,
           36.96,
           90.35,
           10.86,
           361.48,
           41.019999999999996,
           76.3,
           43.68,
           377.7200000000001,
           2059.73,
           23.13,
           92.32,
           91.25,
           129.13,
           74.93,
           124.14,
           221.59,
           386.39,
           212.17000000000002,
           293.54999999999995,
           56.269999999999996,
           1074.72,
           249.76,
           15.31,
           20.45,
           119.46000000000001,
           108.42999999999998,
           46.470000000000006,
           103.06,
           36.39,
           87.91,
           51.739999999999995,
           695.66,
           17.36,
           28.679999999999996,
           54.620000000000005,
           69.47,
           18.89,
           20.44,
           17.7,
           216.07,
           14.25,
           60.370000000000005,
           25.799999999999997,
           101.42,
           31.72,
           73.02,
           10.78,
           219.12,
           12.07,
           8.89,
           363.2,
           184.28,
           74.28,
           14.49,
           84.16,
           62.050000000000004,
           86.57000000000001,
           197.34,
           162.22,
           25.439999999999994,
           54.45,
           325.05,
           1659.5300000000002,
           18.31,
           34.09,
           49.32,
           3323.5099999999998,
           55.26,
           10.21,
           34.74,
           32.56,
           137.65,
           235.89000000000001,
           29.57,
           78.91,
           161.53,
           78.88,
           2222.8,
           8.66,
           16.23,
           52.91,
           50.2,
           71.84,
           28.78,
           16.7,
           21.92,
           509.52,
           65.24,
           1129,
           8.66,
           104.55,
           15.32,
           53.099999999999994,
           226.82,
           504.63,
           201.77,
           61.2,
           6.42,
           96.61,
           46.71000000000001,
           132,
           33.93,
           31.23,
           23.029999999999998,
           49.519999999999996,
           20.23,
           14.74,
           46.510000000000005,
           85.72,
           17,
           119.11,
           17.96,
           213.87,
           16.51,
           62.71,
           195.53,
           29.17,
           108.34,
           43.13,
           168.75,
           290.35,
           38.24,
           1237.5,
           26.28,
           79.13,
           9.4,
           11.04,
           723.2,
           91.01,
           650.71,
           8.81,
           274.13,
           152.86,
           24.53,
           14.24,
           232.22,
           73.69,
           19.02,
           462.33,
           65.55000000000001,
           26.56,
           19.8,
           58.059999999999995,
           15.52,
           5.89,
           29.64,
           65.01,
           54.84,
           16.37,
           30.15,
           238.82,
           109.57999999999998,
           75.45,
           68.38,
           53.18,
           8.26,
           1018.92,
           23.69,
           1074.7,
           69.38,
           11.17,
           98.97,
           45.43,
           40.11,
           200.68,
           98.82,
           33.7,
           431.7,
           87.44,
           652.37,
           14.58,
           76.37,
           178.73000000000002,
           71.26,
           211.13,
           296.31,
           11.57,
           15.84,
           54.25,
           28.63,
           323.85,
           36.620000000000005,
           111.84,
           14.55,
           14.379999999999999,
           7.41,
           19.8,
           251.4,
           97.14,
           329.58,
           60.94,
           43.230000000000004,
           311.47,
           48.17999999999999,
           17.92,
           17.55,
           16.17,
           915.0699999999999,
           31.81,
           180.56,
           18.93,
           127.58,
           20.6,
           19.57,
           39.010000000000005,
           228.84,
           112.25,
           15.06,
           364.63,
           38.69,
           15.16,
           86.48,
           76.77,
           144.57,
           138.05,
           124.49,
           8.66,
           21.81,
           13.439999999999998,
           19.8,
           38.65,
           313.11,
           25.15,
           6.08,
           169.92,
           22.869999999999994,
           105.51999999999998,
           126.27,
           18.08,
           88.15,
           95.15,
           105.81,
           129.84,
           32.74,
           32.37,
           85.94,
           149.82,
           17.14,
           118.55,
           5.710000000000001,
           17.81,
           13.6,
           6.71,
           65.4,
           53.44,
           14.41,
           244.19,
           32.42,
           33.06,
           15.52,
           192.01999999999995,
           190.95999999999998,
           185.02999999999997,
           132.5,
           34.68,
           62.089999999999996,
           16.81,
           115.86,
           11740.58,
           20.72,
           34.16,
           26.979999999999997,
           31.85,
           41.11,
           57.3,
           35.99,
           23.42,
           1936.8700000000001,
           54.55,
           340.99,
           9.27,
           187,
           22.85,
           21.39,
           19.76,
           36.97,
           75.05,
           18.78,
           450.55,
           278.6,
           47.4,
           1821.8,
           209.25,
           13.1,
           28.94,
           248.37,
           46.83,
           295.02000000000004,
           27.98,
           33.980000000000004,
           427.40999999999997,
           428,
           40.82,
           145.52,
           18.36,
           226.83999999999997,
           8.66,
           127.85999999999999,
           398.28,
           11.2,
           231.39999999999998,
           558.39,
           127.00999999999999,
           30.9,
           228.44,
           256.61,
           162.1,
           476.49,
           23.729999999999997,
           170.22,
           50.010000000000005,
           159.32999999999998,
           57.65,
           934.06,
           24.36,
           14.79,
           21675.44,
           6.04,
           137.55,
           27.56,
           43.72,
           32.59,
           24.53,
           39.989999999999995,
           47.56,
           18.74,
           211.75,
           22.28,
           90.34,
           285.5,
           43.8,
           200.9,
           37.33,
           19.04,
           567.67,
           37.91,
           78.42,
           100.97,
           12.05,
           9.94,
           76.67,
           29.45,
           38.68,
           48.69,
           57.730000000000004,
           185.21,
           13.31,
           35.43,
           137.13,
           25.9,
           9.18,
           75.86,
           47.9,
           59.06,
           18.84,
           14.51,
           56.88,
           61.27,
           53.37,
           170.07999999999998,
           52.620000000000005,
           199.53,
           184.87,
           394.97,
           57.620000000000005,
           33.89,
           15.38,
           4.57,
           117.31,
           144.67000000000002,
           5.7299999999999995,
           72.58999999999999,
           16.1,
           127.53999999999999,
           417.68,
           29.68,
           24.969999999999995,
           110.64,
           9.49,
           99.05000000000001,
           92.79,
           16.62,
           17.83,
           9.43,
           77.61,
           26.37,
           307.78000000000003,
           92.75,
           46.93,
           72.65,
           130.9,
           207.35,
           34.29,
           38.86,
           14.339999999999998,
           26.27,
           175.3,
           194.82999999999998,
           11.5,
           42.93,
           201.3,
           111.3,
           44.7,
           17.05,
           261,
           113.3,
           21.84,
           274.64,
           32.23,
           121.13999999999999,
           55.41,
           878.1700000000001,
           139.45,
           21.21,
           13.38,
           89.08,
           51.57,
           10.65,
           128.89,
           240.92000000000002,
           25.73,
           172.59,
           449.39,
           55.760000000000005,
           23.520000000000003,
           12.33,
           72.53999999999999,
           50.08,
           48.22,
           13.63,
           20.35,
           224.12,
           18.06,
           40.629999999999995,
           5.800000000000001,
           505.77,
           26.11,
           14.05,
           11.32,
           9.53,
           12.16,
           24.43,
           11.18,
           439.76,
           285.48,
           31.74,
           56.66,
           467.36,
           402.25,
           19.52,
           86.14999999999999,
           15.080000000000002,
           108.78,
           56.78,
           8.29,
           17.53,
           234.94,
           24.15,
           47.709999999999994,
           87.28,
           51.73,
           2556.85,
           7.22,
           82.11,
           559.33,
           54.019999999999996,
           56.35,
           19.71,
           7.92,
           258.37,
           46.71999999999999,
           17.4,
           18.04,
           83.36,
           158.49,
           33.52,
           19.79,
           141.79,
           236.39999999999998,
           30.51,
           48.26,
           52.45000000000001,
           47.09000000000001,
           33.01,
           57.22,
           26.17,
           31.53,
           76.5,
           42.879999999999995,
           37.89,
           271.25,
           26.850000000000005,
           246.82,
           112.67000000000002,
           30.660000000000004,
           15.14,
           25.709999999999997,
           91.53,
           14.58,
           311.91,
           6.76,
           45.75,
           10.77,
           6.09,
           80.12,
           53.09,
           74.8,
           226.10000000000005,
           28.52,
           13.96,
           46.480000000000004,
           643.89,
           33.85,
           75.32000000000001,
           2.54,
           44.05,
           16.94,
           17.94,
           53.36,
           40.87,
           50.4,
           40.88,
           36.25,
           103,
           22.74,
           42.64,
           104.12,
           33.75,
           38.53,
           27.93,
           28.679999999999996,
           133.26,
           268.65,
           360.89,
           312.11,
           79.37,
           56.45,
           114.03999999999999,
           225.79,
           148.17000000000002,
           80.07,
           105.38,
           78.47,
           38.63,
           79.35
          ]
         },
         "name": "",
         "parents": [
          "",
          "",
          "",
          "",
          "",
          "",
          "",
          "",
          "",
          "",
          "",
          "",
          "",
          "",
          "",
          "",
          "",
          "",
          "",
          "",
          "",
          "",
          "",
          "",
          "",
          "",
          "",
          "",
          "",
          "",
          "",
          "",
          "",
          "",
          "",
          "",
          "",
          "",
          "",
          "",
          "",
          "",
          "",
          "",
          "",
          "",
          "",
          "",
          "",
          "",
          "",
          "",
          "",
          "",
          "",
          "",
          "",
          "",
          "",
          "",
          "",
          "",
          "",
          "",
          "",
          "",
          "",
          "",
          "",
          "",
          "",
          "",
          "",
          "",
          "",
          "",
          "",
          "",
          "",
          "",
          "",
          "",
          "",
          "",
          "",
          "",
          "",
          "",
          "",
          "",
          "",
          "",
          "",
          "",
          "",
          "",
          "",
          "",
          "",
          "",
          "",
          "",
          "",
          "",
          "",
          "",
          "",
          "",
          "",
          "",
          "",
          "",
          "",
          "",
          "",
          "",
          "",
          "",
          "",
          "",
          "",
          "",
          "",
          "",
          "",
          "",
          "",
          "",
          "",
          "",
          "",
          "",
          "",
          "",
          "",
          "",
          "",
          "",
          "",
          "",
          "",
          "",
          "",
          "",
          "",
          "",
          "",
          "",
          "",
          "",
          "",
          "",
          "",
          "",
          "",
          "",
          "",
          "",
          "",
          "",
          "",
          "",
          "",
          "",
          "",
          "",
          "",
          "",
          "",
          "",
          "",
          "",
          "",
          "",
          "",
          "",
          "",
          "",
          "",
          "",
          "",
          "",
          "",
          "",
          "",
          "",
          "",
          "",
          "",
          "",
          "",
          "",
          "",
          "",
          "",
          "",
          "",
          "",
          "",
          "",
          "",
          "",
          "",
          "",
          "",
          "",
          "",
          "",
          "",
          "",
          "",
          "",
          "",
          "",
          "",
          "",
          "",
          "",
          "",
          "",
          "",
          "",
          "",
          "",
          "",
          "",
          "",
          "",
          "",
          "",
          "",
          "",
          "",
          "",
          "",
          "",
          "",
          "",
          "",
          "",
          "",
          "",
          "",
          "",
          "",
          "",
          "",
          "",
          "",
          "",
          "",
          "",
          "",
          "",
          "",
          "",
          "",
          "",
          "",
          "",
          "",
          "",
          "",
          "",
          "",
          "",
          "",
          "",
          "",
          "",
          "",
          "",
          "",
          "",
          "",
          "",
          "",
          "",
          "",
          "",
          "",
          "",
          "",
          "",
          "",
          "",
          "",
          "",
          "",
          "",
          "",
          "",
          "",
          "",
          "",
          "",
          "",
          "",
          "",
          "",
          "",
          "",
          "",
          "",
          "",
          "",
          "",
          "",
          "",
          "",
          "",
          "",
          "",
          "",
          "",
          "",
          "",
          "",
          "",
          "",
          "",
          "",
          "",
          "",
          "",
          "",
          "",
          "",
          "",
          "",
          "",
          "",
          "",
          "",
          "",
          "",
          "",
          "",
          "",
          "",
          "",
          "",
          "",
          "",
          "",
          "",
          "",
          "",
          "",
          "",
          "",
          "",
          "",
          "",
          "",
          "",
          "",
          "",
          "",
          "",
          "",
          "",
          "",
          "",
          "",
          "",
          "",
          "",
          "",
          "",
          "",
          "",
          "",
          "",
          "",
          "",
          "",
          "",
          "",
          "",
          "",
          "",
          "",
          "",
          "",
          "",
          "",
          "",
          "",
          "",
          "",
          "",
          "",
          "",
          "",
          "",
          "",
          "",
          "",
          "",
          "",
          "",
          "",
          "",
          "",
          "",
          "",
          "",
          "",
          "",
          "",
          "",
          "",
          "",
          "",
          "",
          "",
          "",
          "",
          "",
          "",
          "",
          "",
          "",
          "",
          "",
          "",
          "",
          "",
          "",
          "",
          "",
          "",
          "",
          "",
          "",
          "",
          "",
          "",
          "",
          "",
          "",
          "",
          "",
          "",
          "",
          "",
          "",
          "",
          "",
          "",
          "",
          "",
          "",
          "",
          "",
          "",
          "",
          "",
          "",
          "",
          "",
          "",
          "",
          "",
          "",
          "",
          "",
          "",
          "",
          "",
          "",
          "",
          "",
          "",
          "",
          "",
          "",
          "",
          "",
          "",
          "",
          "",
          "",
          "",
          "",
          "",
          "",
          "",
          "",
          "",
          "",
          "",
          "",
          "",
          "",
          "",
          "",
          "",
          "",
          "",
          "",
          "",
          "",
          "",
          "",
          "",
          "",
          "",
          "",
          "",
          "",
          "",
          "",
          "",
          "",
          "",
          "",
          "",
          "",
          "",
          "",
          "",
          "",
          "",
          "",
          "",
          "",
          "",
          "",
          "",
          "",
          "",
          "",
          "",
          "",
          "",
          "",
          "",
          "",
          "",
          "",
          "",
          "",
          "",
          "",
          "",
          "",
          "",
          "",
          "",
          "",
          "",
          "",
          "",
          "",
          "",
          "",
          "",
          "",
          "",
          "",
          "",
          "",
          "",
          "",
          "",
          "",
          "",
          "",
          "",
          "",
          "",
          "",
          "",
          "",
          "",
          "",
          "",
          "",
          "",
          "",
          "",
          "",
          "",
          "",
          "",
          "",
          "",
          "",
          "",
          "",
          "",
          "",
          "",
          "",
          "",
          "",
          "",
          "",
          "",
          "",
          "",
          "",
          "",
          "",
          "",
          "",
          "",
          "",
          "",
          "",
          "",
          "",
          "",
          "",
          "",
          "",
          "",
          "",
          "",
          "",
          "",
          "",
          "",
          "",
          "",
          "",
          "",
          "",
          "",
          "",
          "",
          "",
          "",
          "",
          "",
          "",
          "",
          "",
          "",
          "",
          "",
          "",
          "",
          "",
          "",
          "",
          "",
          "",
          "",
          "",
          "",
          "",
          "",
          "",
          "",
          "",
          "",
          "",
          "",
          "",
          "",
          "",
          "",
          "",
          "",
          "",
          "",
          "",
          "",
          "",
          "",
          "",
          "",
          "",
          "",
          "",
          "",
          "",
          "",
          "",
          "",
          "",
          "",
          "",
          "",
          "",
          "",
          "",
          "",
          "",
          "",
          "",
          "",
          "",
          "",
          "",
          "",
          "",
          "",
          "",
          "",
          "",
          "",
          "",
          "",
          "",
          "",
          "",
          "",
          "",
          "",
          "",
          "",
          "",
          "",
          "",
          "",
          "",
          "",
          "",
          "",
          "",
          "",
          "",
          "",
          "",
          "",
          "",
          "",
          "",
          "",
          "",
          "",
          "",
          "",
          "",
          "",
          "",
          "",
          "",
          "",
          "",
          "",
          "",
          "",
          "",
          "",
          "",
          "",
          "",
          "",
          "",
          "",
          "",
          "",
          "",
          "",
          "",
          "",
          "",
          "",
          "",
          "",
          "",
          "",
          "",
          "",
          "",
          "",
          "",
          "",
          "",
          "",
          "",
          "",
          "",
          "",
          "",
          "",
          "",
          "",
          "",
          "",
          "",
          "",
          "",
          "",
          "",
          "",
          "",
          "",
          "",
          "",
          "",
          "",
          "",
          "",
          "",
          "",
          "",
          "",
          "",
          "",
          "",
          "",
          "",
          "",
          "",
          "",
          "",
          "",
          "",
          "",
          "",
          "",
          "",
          "",
          "",
          "",
          "",
          "",
          "",
          "",
          "",
          "",
          "",
          "",
          "",
          "",
          "",
          "",
          "",
          "",
          "",
          "",
          "",
          "",
          "",
          "",
          "",
          "",
          "",
          "",
          "",
          "",
          "",
          "",
          "",
          "",
          "",
          "",
          "",
          "",
          "",
          "",
          "",
          "",
          "",
          "",
          "",
          "",
          "",
          "",
          "",
          "",
          "",
          "",
          "",
          "",
          "",
          "",
          "",
          "",
          "",
          "",
          "",
          "",
          "",
          "",
          "",
          "",
          "",
          "",
          "",
          "",
          "",
          "",
          "",
          "",
          "",
          "",
          "",
          "",
          "",
          "",
          "",
          "",
          "",
          "",
          "",
          "",
          "",
          "",
          "",
          "",
          "",
          "",
          "",
          "",
          "",
          "",
          "",
          "",
          "",
          "",
          "",
          "",
          "",
          "",
          "",
          "",
          "",
          "",
          "",
          "",
          "",
          "",
          "",
          "",
          "",
          "",
          "",
          "",
          "",
          "",
          "",
          "",
          "",
          "",
          "",
          "",
          "",
          "",
          "",
          "",
          "",
          "",
          "",
          "",
          "",
          "",
          "",
          "",
          "",
          "",
          "",
          "",
          "",
          "",
          "",
          "",
          "",
          "",
          "",
          "",
          "",
          "",
          "",
          "",
          "",
          "",
          "",
          "",
          "",
          "",
          "",
          "",
          "",
          "",
          "",
          "",
          "",
          "",
          "",
          "",
          "",
          "",
          "",
          "",
          "",
          "",
          "",
          "",
          "",
          "",
          "",
          "",
          "",
          "",
          "",
          "",
          "",
          "",
          "",
          "",
          "",
          "",
          "",
          "",
          "",
          "",
          "",
          "",
          "",
          "",
          "",
          "",
          "",
          "",
          "",
          "",
          "",
          "",
          "",
          "",
          "",
          "",
          "",
          "",
          "",
          "",
          "",
          "",
          "",
          "",
          "",
          "",
          "",
          "",
          "",
          "",
          "",
          "",
          "",
          "",
          "",
          "",
          "",
          "",
          "",
          "",
          "",
          "",
          "",
          "",
          "",
          "",
          "",
          "",
          "",
          "",
          "",
          "",
          "",
          "",
          "",
          "",
          "",
          "",
          "",
          "",
          "",
          "",
          "",
          "",
          "",
          "",
          "",
          "",
          "",
          "",
          "",
          "",
          "",
          "",
          "",
          "",
          "",
          "",
          "",
          "",
          "",
          "",
          "",
          "",
          "",
          "",
          "",
          "",
          "",
          "",
          "",
          "",
          "",
          "",
          "",
          "",
          "",
          "",
          "",
          "",
          "",
          "",
          "",
          "",
          "",
          "",
          "",
          "",
          "",
          "",
          "",
          "",
          "",
          "",
          "",
          "",
          "",
          "",
          "",
          "",
          "",
          "",
          "",
          "",
          "",
          "",
          "",
          "",
          "",
          "",
          "",
          "",
          "",
          "",
          "",
          "",
          "",
          "",
          "",
          "",
          "",
          "",
          "",
          "",
          "",
          "",
          "",
          "",
          "",
          "",
          "",
          "",
          "",
          "",
          "",
          "",
          "",
          "",
          "",
          "",
          "",
          "",
          "",
          "",
          "",
          "",
          "",
          "",
          "",
          "",
          "",
          "",
          "",
          "",
          "",
          "",
          "",
          "",
          "",
          "",
          "",
          "",
          "",
          "",
          "",
          "",
          "",
          "",
          "",
          "",
          "",
          "",
          "",
          "",
          "",
          "",
          "",
          "",
          "",
          "",
          "",
          "",
          "",
          "",
          "",
          "",
          "",
          "",
          "",
          "",
          "",
          "",
          "",
          "",
          "",
          "",
          "",
          "",
          "",
          "",
          "",
          "",
          "",
          "",
          "",
          "",
          "",
          "",
          "",
          "",
          "",
          "",
          "",
          "",
          "",
          "",
          "",
          "",
          "",
          "",
          "",
          "",
          "",
          "",
          "",
          "",
          "",
          "",
          "",
          "",
          "",
          "",
          "",
          "",
          "",
          "",
          "",
          "",
          "",
          "",
          "",
          "",
          "",
          "",
          "",
          "",
          "",
          "",
          "",
          "",
          "",
          "",
          "",
          "",
          "",
          "",
          "",
          "",
          "",
          "",
          "",
          "",
          "",
          "",
          "",
          "",
          "",
          "",
          "",
          "",
          "",
          "",
          "",
          "",
          "",
          "",
          "",
          "",
          "",
          "",
          "",
          "",
          "",
          "",
          "",
          "",
          "",
          "",
          "",
          "",
          "",
          "",
          "",
          "",
          "",
          "",
          "",
          "",
          "",
          "",
          "",
          "",
          "",
          "",
          "",
          "",
          "",
          "",
          "",
          "",
          "",
          "",
          "",
          "",
          "",
          "",
          "",
          "",
          "",
          "",
          "",
          "",
          "",
          "",
          "",
          "",
          "",
          "",
          "",
          "",
          "",
          "",
          "",
          "",
          "",
          "",
          "",
          "",
          "",
          "",
          "",
          "",
          "",
          "",
          "",
          "",
          "",
          "",
          "",
          "",
          "",
          "",
          "",
          "",
          "",
          "",
          "",
          "",
          "",
          "",
          "",
          "",
          "",
          "",
          "",
          "",
          "",
          "",
          "",
          "",
          "",
          "",
          "",
          "",
          "",
          "",
          "",
          "",
          "",
          "",
          "",
          "",
          "",
          "",
          "",
          "",
          "",
          "",
          "",
          "",
          "",
          "",
          "",
          "",
          "",
          "",
          "",
          "",
          "",
          "",
          "",
          "",
          "",
          "",
          "",
          "",
          "",
          "",
          "",
          "",
          "",
          "",
          "",
          "",
          "",
          "",
          "",
          "",
          "",
          "",
          "",
          "",
          "",
          "",
          "",
          "",
          "",
          "",
          "",
          "",
          "",
          "",
          "",
          "",
          "",
          "",
          "",
          "",
          "",
          "",
          "",
          "",
          "",
          "",
          "",
          "",
          "",
          "",
          "",
          "",
          "",
          "",
          "",
          "",
          "",
          "",
          "",
          "",
          "",
          "",
          "",
          "",
          "",
          "",
          "",
          "",
          "",
          "",
          "",
          "",
          "",
          "",
          "",
          "",
          "",
          "",
          "",
          "",
          "",
          "",
          "",
          "",
          "",
          "",
          "",
          "",
          "",
          "",
          "",
          "",
          "",
          "",
          "",
          "",
          "",
          "",
          "",
          "",
          "",
          "",
          "",
          "",
          "",
          "",
          "",
          "",
          "",
          "",
          "",
          "",
          "",
          "",
          "",
          "",
          "",
          "",
          "",
          "",
          "",
          "",
          "",
          "",
          "",
          "",
          "",
          "",
          "",
          "",
          "",
          "",
          "",
          "",
          "",
          "",
          "",
          "",
          "",
          "",
          "",
          "",
          "",
          "",
          "",
          "",
          "",
          "",
          "",
          "",
          "",
          "",
          "",
          "",
          "",
          "",
          "",
          "",
          "",
          "",
          "",
          "",
          "",
          "",
          "",
          "",
          "",
          "",
          "",
          "",
          "",
          "",
          "",
          "",
          "",
          "",
          "",
          ""
         ],
         "textinfo": "label+value",
         "type": "treemap",
         "values": [
          2004.29,
          52.45,
          57.77,
          84.92,
          10.3,
          1785.6399999999999,
          244.46,
          45.13,
          245.64000000000001,
          742.17,
          85.14,
          13.05,
          209.5,
          20.54,
          75,
          80.82,
          32.41,
          40.25,
          94.33,
          1487.54,
          19.62,
          9.35,
          43.730000000000004,
          19.96,
          9.43,
          229.56,
          122.92,
          173.98,
          1003.9300000000001,
          127.4,
          133.52,
          47.67,
          48.660000000000004,
          162.3,
          23.27,
          183.45,
          66.47,
          222.9,
          62.51,
          360.59,
          657.8199999999999,
          49.989999999999995,
          17.53,
          588.47,
          170.84,
          225.83,
          81.09,
          31.71,
          512.47,
          121.78,
          51.04,
          67.38,
          625.1800000000001,
          33.52,
          46.35,
          12.63,
          41,
          71.96000000000001,
          21.74,
          24.3,
          10.79,
          583.96,
          64.43,
          31.78,
          13.83,
          14.7,
          37.76,
          21.54,
          26.95,
          115.53999999999999,
          66.32,
          535.96,
          41.61,
          229.14,
          81.11,
          711.23,
          24.53,
          202.68,
          603.95,
          42.91,
          33.78,
          20.04,
          77.63,
          26.91,
          277.56,
          36.99,
          556.78,
          18.45,
          42.33,
          77.81,
          223.14,
          7.57,
          784.01,
          6.71,
          479.37,
          88.75,
          29.77,
          6,
          140.69,
          212.05,
          117.03999999999999,
          76.86,
          20.63,
          476.02,
          327.18,
          24.84,
          97.43,
          1340.3899999999999,
          143.01,
          41.5,
          20.47,
          97.5,
          261.68,
          64.88,
          82.47,
          86.16,
          22.49,
          100.52,
          194.42,
          116.12,
          36.26,
          349.39,
          30.65,
          10.76,
          15.36,
          54.33,
          21.42,
          176.53,
          103.17999999999999,
          645.69,
          14.06,
          89.75,
          36.31,
          31.65,
          17.86,
          12.47,
          41.66,
          47.39,
          147.3,
          93.23,
          168.74,
          169.06,
          80.3,
          191.19,
          33.09,
          325.84,
          141.22,
          210.82,
          16.7,
          397.23,
          13.32,
          24.009999999999998,
          130.74,
          16.17,
          10.39,
          187.04,
          588.3100000000001,
          183.96,
          33.11,
          78.16,
          16.63,
          198.1,
          146.14,
          13.329999999999998,
          131,
          771.26,
          60,
          6.86,
          322.61,
          42.67,
          165.45,
          22.37,
          63.14,
          62.99,
          36.08,
          140.5,
          73.6,
          186.42000000000002,
          8.91,
          18.71,
          7.96,
          336.88,
          18.77,
          49.94,
          80.6,
          61.5,
          90.2,
          10.55,
          15.95,
          38.39,
          65.82,
          12.46,
          480.24,
          279.28999999999996,
          72.58,
          151.74,
          2724.45,
          2003.3,
          152.75,
          201.61999999999998,
          22.24,
          143.48,
          1090.36,
          1543.08,
          40,
          255.91,
          9.26,
          34.85,
          522.71,
          163.98000000000002,
          20.82,
          332.71,
          159.94,
          23.86,
          40.9,
          18.77,
          23.95,
          124.22999999999999,
          52.589999999999996,
          5.05,
          72.84,
          179.29,
          66.53,
          382.25,
          582.22,
          62.79,
          65.32000000000001,
          193.04,
          20.05,
          37.6,
          61.36,
          50.9,
          92.84,
          17.27,
          1032.4,
          50.58,
          22.76,
          46.03,
          53.25,
          39.54,
          68.67,
          16,
          201.31,
          6.4,
          19.52,
          41.489999999999995,
          40.93,
          29.93,
          37.05,
          1583.17,
          15.53,
          73.34,
          17.05,
          68.86,
          108.42,
          25.32,
          96.46,
          142.99,
          11.24,
          109.53999999999999,
          413.23,
          32.9,
          140.47,
          310.1,
          158.41,
          92.3,
          260.04,
          2.08,
          19.73,
          19.87,
          17.89,
          31.46,
          108.95,
          17.32,
          125.69999999999999,
          75.52,
          89.14999999999999,
          274.82,
          217.52,
          41.1,
          60.730000000000004,
          14.14,
          9.24,
          103.72999999999999,
          173.35,
          35.01,
          106.11,
          393.49,
          842.85,
          270.99,
          255.93,
          36.31,
          95.39,
          76.22,
          9.57,
          18.11,
          920.95,
          54.94,
          456.87,
          1860.84,
          51.660000000000004,
          148.04000000000002,
          71.61000000000001,
          123.84,
          161.85,
          40.32,
          354.73,
          50.74,
          1248.73,
          39.25,
          8.93,
          38.31,
          99.11999999999999,
          549.9399999999999,
          50.75,
          165.53,
          199.61,
          186.57,
          44.08,
          196.95,
          168.84,
          73.22,
          32.57,
          339.53999999999996,
          57.19,
          43.5,
          16.03,
          2.98,
          21.38,
          85.21000000000001,
          324.57,
          13.73,
          18.98,
          33.730000000000004,
          859.21,
          190.88,
          20.97,
          10.72,
          81.25999999999999,
          74.64,
          1012.25,
          69.85,
          16.16,
          14.3,
          15.23,
          174.26,
          43.18,
          42.01,
          128.22,
          23.02,
          13.6,
          20.03,
          32.61,
          41.97,
          115.83,
          164.94,
          20.25,
          21.76,
          87.14999999999999,
          32.61,
          16.9,
          24.74,
          554.26,
          63.09,
          29.57,
          574.39,
          17.67,
          18.8,
          57.93000000000001,
          16.08,
          283.53,
          558.08,
          44.459999999999994,
          28.74,
          79.53,
          118.31,
          6.05,
          59.43,
          53.44,
          17.54,
          19.62,
          14.28,
          83.13,
          35.06,
          12.6,
          50.85,
          36.78,
          118.73,
          8.61,
          1079.3700000000001,
          41.35,
          20.56,
          314.78000000000003,
          47.93000000000001,
          19.29,
          279.76,
          1088.32,
          50.44,
          18.57,
          1474.52,
          35.73,
          24.67,
          321.98,
          101.28999999999999,
          50.07,
          28.38,
          48.16,
          25.2,
          56.06,
          39.78,
          30.38,
          1336.58,
          1429.03,
          2507.09,
          43.06,
          47.18,
          40.54,
          18.479999999999997,
          22.95,
          4.49,
          58.9,
          95.84,
          158.92000000000002,
          35.33,
          5.04,
          74.09,
          10.05,
          33.56,
          34.36,
          196.55,
          38.01,
          47.56,
          75,
          9.85,
          121.77,
          5.71,
          161.07,
          85.08,
          12.34,
          13.89,
          50.25,
          35.26,
          26.25,
          291.8,
          9.61,
          41.2,
          18.95,
          2297.64,
          296.93,
          348.21,
          6.98,
          148.92,
          24.1,
          152.04,
          17.15,
          20.61,
          515.61,
          133.21,
          33.599999999999994,
          368.67,
          43.31,
          36.59,
          49.6,
          171.51,
          17.66,
          215.7,
          67.83,
          18.6,
          152.72,
          7.49,
          118.38000000000001,
          18.78,
          18.7,
          538.55,
          74.47,
          38.83,
          371.24,
          409.44,
          9.45,
          37.97,
          265.05,
          22,
          43.55,
          65.26,
          21.27,
          498.05,
          27.89,
          16.73,
          1406.36,
          16.68,
          13.05,
          55.55,
          34.65,
          157.47,
          156.19,
          157.88,
          22.12,
          20.19,
          16.85,
          93.59,
          48.64,
          148.62,
          59.73,
          27.61,
          496.76,
          10.91,
          33.58,
          30.49,
          199.62,
          44.97,
          18.63,
          18.7,
          297.15999999999997,
          22.97,
          43.61,
          23.84,
          75.02000000000001,
          24.68,
          28.98,
          463.82,
          109.00999999999999,
          33.18,
          90.51,
          15.89,
          202.48000000000002,
          30.46,
          295.19,
          16.89,
          63.18,
          143.85,
          17.01,
          57.400000000000006,
          895.5600000000001,
          48.03,
          522.9,
          16.24,
          67.89,
          165.13,
          790.64,
          73.34,
          18.76,
          81.07,
          1445.58,
          23.98,
          165.09,
          22,
          389.71999999999997,
          16.29,
          11.2,
          124.47,
          10.3,
          240.01,
          18.04,
          91.11,
          56.45,
          734.1,
          8.61,
          128.42000000000002,
          15.26,
          21.92,
          150.23000000000002,
          287.01,
          1085.12,
          15.35,
          16.5,
          8.47,
          22.16,
          23.2,
          27.4,
          78.99,
          19.01,
          33.93,
          15.22,
          192.71,
          37.26,
          56.03,
          105.11,
          16.83,
          154.06,
          15.79,
          23.38,
          134.99,
          37.93,
          176.82,
          15.33,
          165.8,
          41.66,
          59.54,
          60.370000000000005,
          313.72,
          141.89,
          55.21,
          27.96,
          16.03,
          67.34,
          35.699999999999996,
          207.87,
          70.05000000000001,
          66.91,
          526.05,
          192.3,
          17.6,
          21.86,
          59.01,
          86.9,
          50.6,
          67.71000000000001,
          14.3,
          55.82,
          5.09,
          201.59,
          50.91,
          42.96,
          52.92,
          18.6,
          3.86,
          28.130000000000003,
          683.6,
          63.55,
          13.76,
          124.07,
          152.34,
          41.84,
          123.45,
          19.61,
          84.74,
          119.5,
          106.28,
          71.55,
          65.2,
          587.62,
          821.08,
          36.95,
          51.959999999999994,
          668.57,
          8.68,
          73.5,
          54.04,
          14.06,
          9.15,
          205.13,
          9.07,
          419.52,
          6.05,
          36.2,
          100.41,
          10.02,
          11.26,
          36.59,
          51.24,
          246.92000000000002,
          82.06,
          29.81,
          9.75,
          110.27,
          35.29,
          410.03000000000003,
          49.47,
          69.83,
          73.05,
          156.82,
          40.92,
          199.86,
          269.3,
          27.07,
          48.370000000000005,
          40.45,
          164.25,
          160.73,
          26.9,
          49.62,
          439.21,
          202.34,
          17.11,
          35.65,
          371.55,
          15.12,
          11.74,
          71.42,
          68.62,
          18.01,
          181.96,
          167.57999999999998,
          39.59,
          75.65,
          50.27,
          373.64,
          24.74,
          79.44,
          361.76,
          125.13999999999999,
          30.04,
          92.44,
          515.81,
          32.78,
          76.43,
          53.17,
          56.800000000000004,
          199.4,
          13.16,
          306.08,
          22.59,
          51.79,
          531.7,
          165.91,
          62.1,
          332.12,
          48.75,
          296.53,
          61.06,
          37.29,
          24.23,
          13.48,
          35.06,
          90.98,
          131.3,
          45.559999999999995,
          57.58,
          5.95,
          377.65,
          200.57999999999998,
          113.92,
          41.91,
          75.24000000000001,
          75.83,
          41.989999999999995,
          57.62,
          1838.11,
          148.56,
          32.29,
          341.61,
          317.86,
          30.47,
          19.35,
          413.57,
          26.2,
          93.21000000000001,
          493.13,
          14.66,
          75.87,
          66.89,
          48.099999999999994,
          35.6,
          85.5,
          64.43,
          93.4,
          52.22,
          12.56,
          21.18,
          146.04000000000002,
          204.01,
          43.96,
          56.019999999999996,
          103.97999999999999,
          55.400000000000006,
          61.94,
          386.44,
          29.6,
          28.6,
          441.22,
          43.12,
          16.66,
          89.23,
          17.37,
          229,
          13,
          226.09,
          67.16,
          9.09,
          11.77,
          14.27,
          6.5,
          67.83,
          14.97,
          34.48,
          289.01,
          18.67,
          47.980000000000004,
          152.26,
          155.69,
          125.06,
          529.58,
          9.45,
          39.01,
          17.64,
          9.66,
          14.13,
          33.300000000000004,
          4.56,
          45.38,
          25.03,
          13.45,
          148.22,
          32.67,
          116.50999999999999,
          127.27,
          55.35,
          20.25,
          9.7,
          212.89,
          28.660000000000004,
          121.68,
          44.79,
          7.65,
          35.43,
          28.22,
          113.65,
          45.870000000000005,
          51.15,
          38.87,
          28.51,
          532.53,
          1118.7,
          23.26,
          3.46,
          225.04,
          9.17,
          524.71,
          16.74,
          7.54,
          68.96000000000001,
          12.63,
          46.69,
          358.24,
          202.36,
          11.12,
          40.03,
          1049.16,
          42.23,
          28.26,
          70.73,
          107.58,
          64.52000000000001,
          128.46,
          23.14,
          93.81,
          23.34,
          16.84,
          20.55,
          15.1,
          8.26,
          76.89999999999999,
          127.62,
          354.78,
          46.67,
          70.14,
          137.78,
          19.17,
          19.59,
          44.38,
          44.07,
          51.69,
          7.86,
          195.34,
          28.78,
          3994.8300000000004,
          170.61,
          31.830000000000002,
          65.26,
          281.49,
          23.52,
          25.07,
          29.26,
          11.48,
          1082.57,
          37.3,
          97.78,
          330.62,
          158.85,
          22.31,
          3770.83,
          147.73000000000002,
          225.75,
          268.8,
          88.85,
          373.74,
          33.93,
          3.96,
          347.9,
          57.67,
          10282.62,
          23.68,
          20.09,
          28.13,
          12.68,
          71.25,
          25.57,
          23.85,
          45.95,
          25.9,
          48.34,
          51.86,
          5.27,
          11943.53,
          485.36,
          808.5999999999999,
          154.33,
          35.84,
          103.07,
          8.84,
          65.39,
          74.49000000000001,
          125.27000000000001,
          111.58,
          29.24,
          5.57,
          117.08,
          157.04,
          18.91,
          81.47,
          197.36,
          121.48,
          239.5,
          7.51,
          301.54,
          7.56,
          27.45,
          174.54,
          11,
          37.54,
          131.88,
          32.07,
          129.42000000000002,
          30.340000000000003,
          58.3,
          296.39,
          36.05,
          43.21,
          159,
          36.01,
          898.43,
          372.90999999999997,
          41.63,
          31.34,
          77.1,
          103.93,
          107.16,
          118.33,
          10.61,
          73.43,
          15.2,
          63.25,
          32.09,
          15.309999999999999,
          45.96,
          287.01,
          187.86,
          45.24,
          20.68,
          60.81,
          285.63,
          63.56,
          120.22,
          24.62,
          233.87,
          15.05,
          41.07,
          82.86,
          55.35,
          35.41,
          10.63,
          512.43,
          81.02,
          66.19,
          28.89,
          80.55000000000001,
          51.9,
          157.51999999999998,
          14.05,
          501.67,
          24.98,
          31.5,
          132.3,
          21.56,
          8.56,
          19.82,
          10.06,
          647.8199999999999,
          4710.25,
          14.17,
          2721.14,
          304.11,
          83.96000000000001,
          95.07,
          7.13,
          25.75,
          96.27,
          29.779999999999998,
          778.13,
          28.78,
          58.13,
          322.26,
          54.56,
          60.21,
          12.54,
          197.06,
          8.3,
          335.19,
          19.96,
          16.06,
          15.07,
          31.14,
          245.79999999999998,
          57.86,
          97.02,
          21.5,
          39.77,
          80.5,
          74.14999999999999,
          42.78,
          20.17,
          73.9,
          30.01,
          41.74,
          165.61,
          259.79,
          55.519999999999996,
          10.87,
          69.8,
          38.96,
          21.299999999999997,
          8.68,
          267.44,
          110.49,
          761.75,
          6.9,
          362.62,
          65.81,
          33.17,
          107.16,
          60.58,
          123.51,
          83.1,
          20.77,
          54.79,
          56.89,
          198.43999999999997,
          1458.6,
          28.41,
          124.52000000000001,
          27.35,
          346.02000000000004,
          2000.31,
          32.400000000000006,
          71.87,
          108.77,
          100.02000000000001,
          81.69,
          89.32,
          79.29,
          73.1,
          39.9,
          76.67,
          42.54,
          37.55,
          15.47,
          12.79,
          98.93,
          5.66,
          13.69,
          13.93,
          26.83,
          34.6,
          148.95,
          36.96,
          90.35,
          10.86,
          361.48,
          41.019999999999996,
          76.3,
          43.68,
          377.72,
          2059.73,
          23.13,
          92.32,
          91.25,
          129.13,
          74.93,
          124.14,
          221.59,
          386.39,
          212.17000000000002,
          293.54999999999995,
          56.269999999999996,
          1074.72,
          249.76,
          15.31,
          20.45,
          119.46000000000001,
          108.42999999999999,
          46.470000000000006,
          103.06,
          36.39,
          87.91,
          51.739999999999995,
          695.66,
          17.36,
          28.68,
          54.620000000000005,
          69.47,
          18.89,
          20.44,
          17.7,
          216.07,
          14.25,
          60.370000000000005,
          25.8,
          101.42,
          31.72,
          73.02,
          10.78,
          219.12,
          12.07,
          8.89,
          363.2,
          184.28,
          74.28,
          14.49,
          84.16,
          62.05,
          86.57000000000001,
          197.34,
          162.22,
          25.439999999999998,
          54.45,
          325.05,
          1659.5300000000002,
          18.31,
          34.09,
          49.32,
          3323.5099999999998,
          55.26,
          10.21,
          34.74,
          32.56,
          137.65,
          235.89000000000001,
          29.57,
          78.91,
          161.53,
          78.88,
          2222.8,
          8.66,
          16.23,
          52.91,
          50.2,
          71.84,
          28.78,
          16.7,
          21.92,
          509.52,
          65.24,
          1129,
          8.66,
          104.55,
          15.32,
          53.099999999999994,
          226.82,
          504.63,
          201.77,
          61.2,
          6.42,
          96.61,
          46.71,
          132,
          33.93,
          31.23,
          23.03,
          49.519999999999996,
          20.23,
          14.74,
          46.51,
          85.72,
          17,
          119.11,
          17.96,
          213.87,
          16.51,
          62.71,
          195.53,
          29.17,
          108.34,
          43.13,
          168.75,
          290.35,
          38.24,
          1237.5,
          26.28,
          79.13,
          9.4,
          11.04,
          723.2,
          91.00999999999999,
          650.71,
          8.81,
          274.13,
          152.86,
          24.53,
          14.24,
          232.22,
          73.69,
          19.02,
          462.33,
          65.55000000000001,
          26.56,
          19.8,
          58.06,
          15.52,
          5.89,
          29.64,
          65.01,
          54.84,
          16.37,
          30.15,
          238.82,
          109.58,
          75.45,
          68.38,
          53.18,
          8.26,
          1018.92,
          23.69,
          1074.7,
          69.38,
          11.17,
          98.97,
          45.43,
          40.11,
          200.68,
          98.82,
          33.7,
          431.7,
          87.44,
          652.37,
          14.58,
          76.37,
          178.73000000000002,
          71.26,
          211.13,
          296.31,
          11.57,
          15.84,
          54.25,
          28.63,
          323.85,
          36.620000000000005,
          111.84,
          14.55,
          14.379999999999999,
          7.41,
          19.8,
          251.4,
          97.14,
          329.58,
          60.94,
          43.230000000000004,
          311.47,
          48.18,
          17.92,
          17.55,
          16.17,
          915.07,
          31.81,
          180.56,
          18.93,
          127.58,
          20.6,
          19.57,
          39.010000000000005,
          228.84,
          112.25,
          15.06,
          364.63,
          38.69,
          15.16,
          86.48,
          76.77,
          144.57,
          138.05,
          124.49,
          8.66,
          21.81,
          13.44,
          19.8,
          38.65,
          313.11,
          25.15,
          6.08,
          169.92,
          22.869999999999997,
          105.52,
          126.27,
          18.08,
          88.15,
          95.15,
          105.81,
          129.84,
          32.74,
          32.37,
          85.94,
          149.82,
          17.14,
          118.55,
          5.71,
          17.81,
          13.6,
          6.71,
          65.4,
          53.44,
          14.41,
          244.19,
          32.42,
          33.06,
          15.52,
          192.01999999999998,
          190.95999999999998,
          185.03,
          132.5,
          34.68,
          62.089999999999996,
          16.81,
          115.86,
          11740.58,
          20.72,
          34.16,
          26.98,
          31.85,
          41.11,
          57.3,
          35.99,
          23.42,
          1936.8700000000001,
          54.55,
          340.99,
          9.27,
          187,
          22.85,
          21.39,
          19.76,
          36.97,
          75.05,
          18.78,
          450.55,
          278.6,
          47.4,
          1821.8,
          209.25,
          13.1,
          28.94,
          248.37,
          46.83,
          295.02000000000004,
          27.98,
          33.980000000000004,
          427.40999999999997,
          428,
          40.82,
          145.52,
          18.36,
          226.83999999999997,
          8.66,
          127.85999999999999,
          398.28,
          11.2,
          231.4,
          558.39,
          127.00999999999999,
          30.9,
          228.44,
          256.61,
          162.1,
          476.49,
          23.73,
          170.22,
          50.010000000000005,
          159.32999999999998,
          57.65,
          934.06,
          24.36,
          14.79,
          21675.44,
          6.04,
          137.55,
          27.56,
          43.72,
          32.59,
          24.53,
          39.989999999999995,
          47.56,
          18.74,
          211.75,
          22.28,
          90.34,
          285.5,
          43.8,
          200.9,
          37.33,
          19.04,
          567.67,
          37.91,
          78.42,
          100.97,
          12.05,
          9.94,
          76.67,
          29.45,
          38.68,
          48.69,
          57.730000000000004,
          185.21,
          13.31,
          35.43,
          137.13,
          25.9,
          9.18,
          75.86,
          47.9,
          59.06,
          18.84,
          14.51,
          56.88,
          61.27,
          53.37,
          170.07999999999998,
          52.62,
          199.53,
          184.87,
          394.97,
          57.620000000000005,
          33.89,
          15.38,
          4.57,
          117.31,
          144.67000000000002,
          5.73,
          72.58999999999999,
          16.1,
          127.53999999999999,
          417.68,
          29.68,
          24.97,
          110.64,
          9.49,
          99.05000000000001,
          92.79,
          16.62,
          17.83,
          9.43,
          77.61,
          26.37,
          307.78000000000003,
          92.75,
          46.93000000000001,
          72.65,
          130.9,
          207.35,
          34.29,
          38.86,
          14.34,
          26.27,
          175.3,
          194.82999999999998,
          11.5,
          42.93,
          201.3,
          111.3,
          44.7,
          17.05,
          261,
          113.3,
          21.84,
          274.64,
          32.23,
          121.13999999999999,
          55.41,
          878.1700000000001,
          139.45,
          21.21,
          13.38,
          89.08,
          51.57,
          10.65,
          128.89,
          240.92000000000002,
          25.73,
          172.59,
          449.39,
          55.76,
          23.520000000000003,
          12.33,
          72.53999999999999,
          50.08,
          48.22,
          13.63,
          20.35,
          224.12,
          18.06,
          40.629999999999995,
          5.8,
          505.77,
          26.11,
          14.05,
          11.32,
          9.53,
          12.16,
          24.43,
          11.18,
          439.76,
          285.48,
          31.74,
          56.66,
          467.36,
          402.25,
          19.52,
          86.14999999999999,
          15.080000000000002,
          108.78,
          56.78,
          8.29,
          17.53,
          234.94,
          24.15,
          47.71,
          87.28,
          51.73,
          2556.85,
          7.22,
          82.11,
          559.33,
          54.019999999999996,
          56.35,
          19.71,
          7.92,
          258.37,
          46.72,
          17.4,
          18.04,
          83.36,
          158.49,
          33.52,
          19.79,
          141.79,
          236.4,
          30.51,
          48.26,
          52.45,
          47.09,
          33.01,
          57.22,
          26.17,
          31.53,
          76.5,
          42.879999999999995,
          37.89,
          271.25,
          26.85,
          246.82,
          112.67000000000002,
          30.660000000000004,
          15.14,
          25.71,
          91.53,
          14.58,
          311.91,
          6.76,
          45.75,
          10.77,
          6.09,
          80.12,
          53.09,
          74.8,
          226.10000000000002,
          28.52,
          13.96,
          46.480000000000004,
          643.89,
          33.85,
          75.32000000000001,
          2.54,
          44.05,
          16.94,
          17.94,
          53.36,
          40.87,
          50.4,
          40.88,
          36.25,
          103,
          22.740000000000002,
          42.64,
          104.12,
          33.75,
          38.53,
          27.93,
          28.68,
          133.26,
          268.65,
          360.89,
          312.11,
          79.37,
          56.45,
          114.03999999999999,
          225.79,
          148.17000000000002,
          80.07,
          105.38,
          78.47,
          38.63,
          79.35
         ]
        }
       ],
       "layout": {
        "coloraxis": {
         "colorbar": {
          "title": {
           "text": "amount"
          }
         },
         "colorscale": [
          [
           0,
           "#0d0887"
          ],
          [
           0.1111111111111111,
           "#46039f"
          ],
          [
           0.2222222222222222,
           "#7201a8"
          ],
          [
           0.3333333333333333,
           "#9c179e"
          ],
          [
           0.4444444444444444,
           "#bd3786"
          ],
          [
           0.5555555555555556,
           "#d8576b"
          ],
          [
           0.6666666666666666,
           "#ed7953"
          ],
          [
           0.7777777777777778,
           "#fb9f3a"
          ],
          [
           0.8888888888888888,
           "#fdca26"
          ],
          [
           1,
           "#f0f921"
          ]
         ]
        },
        "legend": {
         "tracegroupgap": 0
        },
        "margin": {
         "b": 10,
         "l": 10,
         "r": 10,
         "t": 50
        },
        "showlegend": false,
        "template": {
         "data": {
          "bar": [
           {
            "error_x": {
             "color": "#2a3f5f"
            },
            "error_y": {
             "color": "#2a3f5f"
            },
            "marker": {
             "line": {
              "color": "#E5ECF6",
              "width": 0.5
             },
             "pattern": {
              "fillmode": "overlay",
              "size": 10,
              "solidity": 0.2
             }
            },
            "type": "bar"
           }
          ],
          "barpolar": [
           {
            "marker": {
             "line": {
              "color": "#E5ECF6",
              "width": 0.5
             },
             "pattern": {
              "fillmode": "overlay",
              "size": 10,
              "solidity": 0.2
             }
            },
            "type": "barpolar"
           }
          ],
          "carpet": [
           {
            "aaxis": {
             "endlinecolor": "#2a3f5f",
             "gridcolor": "white",
             "linecolor": "white",
             "minorgridcolor": "white",
             "startlinecolor": "#2a3f5f"
            },
            "baxis": {
             "endlinecolor": "#2a3f5f",
             "gridcolor": "white",
             "linecolor": "white",
             "minorgridcolor": "white",
             "startlinecolor": "#2a3f5f"
            },
            "type": "carpet"
           }
          ],
          "choropleth": [
           {
            "colorbar": {
             "outlinewidth": 0,
             "ticks": ""
            },
            "type": "choropleth"
           }
          ],
          "contour": [
           {
            "colorbar": {
             "outlinewidth": 0,
             "ticks": ""
            },
            "colorscale": [
             [
              0,
              "#0d0887"
             ],
             [
              0.1111111111111111,
              "#46039f"
             ],
             [
              0.2222222222222222,
              "#7201a8"
             ],
             [
              0.3333333333333333,
              "#9c179e"
             ],
             [
              0.4444444444444444,
              "#bd3786"
             ],
             [
              0.5555555555555556,
              "#d8576b"
             ],
             [
              0.6666666666666666,
              "#ed7953"
             ],
             [
              0.7777777777777778,
              "#fb9f3a"
             ],
             [
              0.8888888888888888,
              "#fdca26"
             ],
             [
              1,
              "#f0f921"
             ]
            ],
            "type": "contour"
           }
          ],
          "contourcarpet": [
           {
            "colorbar": {
             "outlinewidth": 0,
             "ticks": ""
            },
            "type": "contourcarpet"
           }
          ],
          "heatmap": [
           {
            "colorbar": {
             "outlinewidth": 0,
             "ticks": ""
            },
            "colorscale": [
             [
              0,
              "#0d0887"
             ],
             [
              0.1111111111111111,
              "#46039f"
             ],
             [
              0.2222222222222222,
              "#7201a8"
             ],
             [
              0.3333333333333333,
              "#9c179e"
             ],
             [
              0.4444444444444444,
              "#bd3786"
             ],
             [
              0.5555555555555556,
              "#d8576b"
             ],
             [
              0.6666666666666666,
              "#ed7953"
             ],
             [
              0.7777777777777778,
              "#fb9f3a"
             ],
             [
              0.8888888888888888,
              "#fdca26"
             ],
             [
              1,
              "#f0f921"
             ]
            ],
            "type": "heatmap"
           }
          ],
          "heatmapgl": [
           {
            "colorbar": {
             "outlinewidth": 0,
             "ticks": ""
            },
            "colorscale": [
             [
              0,
              "#0d0887"
             ],
             [
              0.1111111111111111,
              "#46039f"
             ],
             [
              0.2222222222222222,
              "#7201a8"
             ],
             [
              0.3333333333333333,
              "#9c179e"
             ],
             [
              0.4444444444444444,
              "#bd3786"
             ],
             [
              0.5555555555555556,
              "#d8576b"
             ],
             [
              0.6666666666666666,
              "#ed7953"
             ],
             [
              0.7777777777777778,
              "#fb9f3a"
             ],
             [
              0.8888888888888888,
              "#fdca26"
             ],
             [
              1,
              "#f0f921"
             ]
            ],
            "type": "heatmapgl"
           }
          ],
          "histogram": [
           {
            "marker": {
             "pattern": {
              "fillmode": "overlay",
              "size": 10,
              "solidity": 0.2
             }
            },
            "type": "histogram"
           }
          ],
          "histogram2d": [
           {
            "colorbar": {
             "outlinewidth": 0,
             "ticks": ""
            },
            "colorscale": [
             [
              0,
              "#0d0887"
             ],
             [
              0.1111111111111111,
              "#46039f"
             ],
             [
              0.2222222222222222,
              "#7201a8"
             ],
             [
              0.3333333333333333,
              "#9c179e"
             ],
             [
              0.4444444444444444,
              "#bd3786"
             ],
             [
              0.5555555555555556,
              "#d8576b"
             ],
             [
              0.6666666666666666,
              "#ed7953"
             ],
             [
              0.7777777777777778,
              "#fb9f3a"
             ],
             [
              0.8888888888888888,
              "#fdca26"
             ],
             [
              1,
              "#f0f921"
             ]
            ],
            "type": "histogram2d"
           }
          ],
          "histogram2dcontour": [
           {
            "colorbar": {
             "outlinewidth": 0,
             "ticks": ""
            },
            "colorscale": [
             [
              0,
              "#0d0887"
             ],
             [
              0.1111111111111111,
              "#46039f"
             ],
             [
              0.2222222222222222,
              "#7201a8"
             ],
             [
              0.3333333333333333,
              "#9c179e"
             ],
             [
              0.4444444444444444,
              "#bd3786"
             ],
             [
              0.5555555555555556,
              "#d8576b"
             ],
             [
              0.6666666666666666,
              "#ed7953"
             ],
             [
              0.7777777777777778,
              "#fb9f3a"
             ],
             [
              0.8888888888888888,
              "#fdca26"
             ],
             [
              1,
              "#f0f921"
             ]
            ],
            "type": "histogram2dcontour"
           }
          ],
          "mesh3d": [
           {
            "colorbar": {
             "outlinewidth": 0,
             "ticks": ""
            },
            "type": "mesh3d"
           }
          ],
          "parcoords": [
           {
            "line": {
             "colorbar": {
              "outlinewidth": 0,
              "ticks": ""
             }
            },
            "type": "parcoords"
           }
          ],
          "pie": [
           {
            "automargin": true,
            "type": "pie"
           }
          ],
          "scatter": [
           {
            "fillpattern": {
             "fillmode": "overlay",
             "size": 10,
             "solidity": 0.2
            },
            "type": "scatter"
           }
          ],
          "scatter3d": [
           {
            "line": {
             "colorbar": {
              "outlinewidth": 0,
              "ticks": ""
             }
            },
            "marker": {
             "colorbar": {
              "outlinewidth": 0,
              "ticks": ""
             }
            },
            "type": "scatter3d"
           }
          ],
          "scattercarpet": [
           {
            "marker": {
             "colorbar": {
              "outlinewidth": 0,
              "ticks": ""
             }
            },
            "type": "scattercarpet"
           }
          ],
          "scattergeo": [
           {
            "marker": {
             "colorbar": {
              "outlinewidth": 0,
              "ticks": ""
             }
            },
            "type": "scattergeo"
           }
          ],
          "scattergl": [
           {
            "marker": {
             "colorbar": {
              "outlinewidth": 0,
              "ticks": ""
             }
            },
            "type": "scattergl"
           }
          ],
          "scattermapbox": [
           {
            "marker": {
             "colorbar": {
              "outlinewidth": 0,
              "ticks": ""
             }
            },
            "type": "scattermapbox"
           }
          ],
          "scatterpolar": [
           {
            "marker": {
             "colorbar": {
              "outlinewidth": 0,
              "ticks": ""
             }
            },
            "type": "scatterpolar"
           }
          ],
          "scatterpolargl": [
           {
            "marker": {
             "colorbar": {
              "outlinewidth": 0,
              "ticks": ""
             }
            },
            "type": "scatterpolargl"
           }
          ],
          "scatterternary": [
           {
            "marker": {
             "colorbar": {
              "outlinewidth": 0,
              "ticks": ""
             }
            },
            "type": "scatterternary"
           }
          ],
          "surface": [
           {
            "colorbar": {
             "outlinewidth": 0,
             "ticks": ""
            },
            "colorscale": [
             [
              0,
              "#0d0887"
             ],
             [
              0.1111111111111111,
              "#46039f"
             ],
             [
              0.2222222222222222,
              "#7201a8"
             ],
             [
              0.3333333333333333,
              "#9c179e"
             ],
             [
              0.4444444444444444,
              "#bd3786"
             ],
             [
              0.5555555555555556,
              "#d8576b"
             ],
             [
              0.6666666666666666,
              "#ed7953"
             ],
             [
              0.7777777777777778,
              "#fb9f3a"
             ],
             [
              0.8888888888888888,
              "#fdca26"
             ],
             [
              1,
              "#f0f921"
             ]
            ],
            "type": "surface"
           }
          ],
          "table": [
           {
            "cells": {
             "fill": {
              "color": "#EBF0F8"
             },
             "line": {
              "color": "white"
             }
            },
            "header": {
             "fill": {
              "color": "#C8D4E3"
             },
             "line": {
              "color": "white"
             }
            },
            "type": "table"
           }
          ]
         },
         "layout": {
          "annotationdefaults": {
           "arrowcolor": "#2a3f5f",
           "arrowhead": 0,
           "arrowwidth": 1
          },
          "autotypenumbers": "strict",
          "coloraxis": {
           "colorbar": {
            "outlinewidth": 0,
            "ticks": ""
           }
          },
          "colorscale": {
           "diverging": [
            [
             0,
             "#8e0152"
            ],
            [
             0.1,
             "#c51b7d"
            ],
            [
             0.2,
             "#de77ae"
            ],
            [
             0.3,
             "#f1b6da"
            ],
            [
             0.4,
             "#fde0ef"
            ],
            [
             0.5,
             "#f7f7f7"
            ],
            [
             0.6,
             "#e6f5d0"
            ],
            [
             0.7,
             "#b8e186"
            ],
            [
             0.8,
             "#7fbc41"
            ],
            [
             0.9,
             "#4d9221"
            ],
            [
             1,
             "#276419"
            ]
           ],
           "sequential": [
            [
             0,
             "#0d0887"
            ],
            [
             0.1111111111111111,
             "#46039f"
            ],
            [
             0.2222222222222222,
             "#7201a8"
            ],
            [
             0.3333333333333333,
             "#9c179e"
            ],
            [
             0.4444444444444444,
             "#bd3786"
            ],
            [
             0.5555555555555556,
             "#d8576b"
            ],
            [
             0.6666666666666666,
             "#ed7953"
            ],
            [
             0.7777777777777778,
             "#fb9f3a"
            ],
            [
             0.8888888888888888,
             "#fdca26"
            ],
            [
             1,
             "#f0f921"
            ]
           ],
           "sequentialminus": [
            [
             0,
             "#0d0887"
            ],
            [
             0.1111111111111111,
             "#46039f"
            ],
            [
             0.2222222222222222,
             "#7201a8"
            ],
            [
             0.3333333333333333,
             "#9c179e"
            ],
            [
             0.4444444444444444,
             "#bd3786"
            ],
            [
             0.5555555555555556,
             "#d8576b"
            ],
            [
             0.6666666666666666,
             "#ed7953"
            ],
            [
             0.7777777777777778,
             "#fb9f3a"
            ],
            [
             0.8888888888888888,
             "#fdca26"
            ],
            [
             1,
             "#f0f921"
            ]
           ]
          },
          "colorway": [
           "#636efa",
           "#EF553B",
           "#00cc96",
           "#ab63fa",
           "#FFA15A",
           "#19d3f3",
           "#FF6692",
           "#B6E880",
           "#FF97FF",
           "#FECB52"
          ],
          "font": {
           "color": "#2a3f5f"
          },
          "geo": {
           "bgcolor": "white",
           "lakecolor": "white",
           "landcolor": "#E5ECF6",
           "showlakes": true,
           "showland": true,
           "subunitcolor": "white"
          },
          "hoverlabel": {
           "align": "left"
          },
          "hovermode": "closest",
          "mapbox": {
           "style": "light"
          },
          "paper_bgcolor": "white",
          "plot_bgcolor": "#E5ECF6",
          "polar": {
           "angularaxis": {
            "gridcolor": "white",
            "linecolor": "white",
            "ticks": ""
           },
           "bgcolor": "#E5ECF6",
           "radialaxis": {
            "gridcolor": "white",
            "linecolor": "white",
            "ticks": ""
           }
          },
          "scene": {
           "xaxis": {
            "backgroundcolor": "#E5ECF6",
            "gridcolor": "white",
            "gridwidth": 2,
            "linecolor": "white",
            "showbackground": true,
            "ticks": "",
            "zerolinecolor": "white"
           },
           "yaxis": {
            "backgroundcolor": "#E5ECF6",
            "gridcolor": "white",
            "gridwidth": 2,
            "linecolor": "white",
            "showbackground": true,
            "ticks": "",
            "zerolinecolor": "white"
           },
           "zaxis": {
            "backgroundcolor": "#E5ECF6",
            "gridcolor": "white",
            "gridwidth": 2,
            "linecolor": "white",
            "showbackground": true,
            "ticks": "",
            "zerolinecolor": "white"
           }
          },
          "shapedefaults": {
           "line": {
            "color": "#2a3f5f"
           }
          },
          "ternary": {
           "aaxis": {
            "gridcolor": "white",
            "linecolor": "white",
            "ticks": ""
           },
           "baxis": {
            "gridcolor": "white",
            "linecolor": "white",
            "ticks": ""
           },
           "bgcolor": "#E5ECF6",
           "caxis": {
            "gridcolor": "white",
            "linecolor": "white",
            "ticks": ""
           }
          },
          "title": {
           "x": 0.05
          },
          "xaxis": {
           "automargin": true,
           "gridcolor": "white",
           "linecolor": "white",
           "ticks": "",
           "title": {
            "standoff": 15
           },
           "zerolinecolor": "white",
           "zerolinewidth": 2
          },
          "yaxis": {
           "automargin": true,
           "gridcolor": "white",
           "linecolor": "white",
           "ticks": "",
           "title": {
            "standoff": 15
           },
           "zerolinecolor": "white",
           "zerolinewidth": 2
          }
         }
        },
        "title": {
         "text": "Total Txn Amount by Suburb",
         "x": 0.5,
         "y": 0.95
        }
       }
      }
     },
     "metadata": {},
     "output_type": "display_data"
    }
   ],
   "source": [
    "fig=px.treemap(df_grp0, \n",
    " path=['merchant_suburb'], \n",
    " values='amount', \n",
    " color = 'amount', \n",
    " ) \n",
    "fig.update_layout( \n",
    " title=dict(text = \"Total Txn Amount by Suburb\",x=0.5,y=0.95),  margin=dict(l=10, r=10, t=50, b=10), \n",
    " showlegend=False, \n",
    " ) \n",
    "fig.data[0].textinfo = 'label+value' \n",
    "fig.update_traces(marker_coloraxis=None) \n",
    "fig.show() \n"
   ]
  },
  {
   "cell_type": "code",
   "execution_count": 57,
   "metadata": {},
   "outputs": [
    {
     "data": {
      "text/html": [
       "<div>\n",
       "<style scoped>\n",
       "    .dataframe tbody tr th:only-of-type {\n",
       "        vertical-align: middle;\n",
       "    }\n",
       "\n",
       "    .dataframe tbody tr th {\n",
       "        vertical-align: top;\n",
       "    }\n",
       "\n",
       "    .dataframe thead th {\n",
       "        text-align: right;\n",
       "    }\n",
       "</style>\n",
       "<table border=\"1\" class=\"dataframe\">\n",
       "  <thead>\n",
       "    <tr style=\"text-align: right;\">\n",
       "      <th></th>\n",
       "      <th>amount</th>\n",
       "      <th>card_present_flag</th>\n",
       "      <th>status</th>\n",
       "      <th>txn_description</th>\n",
       "      <th>movement</th>\n",
       "      <th>gender</th>\n",
       "      <th>merchant_state</th>\n",
       "    </tr>\n",
       "  </thead>\n",
       "  <tbody>\n",
       "    <tr>\n",
       "      <th>0</th>\n",
       "      <td>16.25</td>\n",
       "      <td>1</td>\n",
       "      <td>authorized</td>\n",
       "      <td>POS</td>\n",
       "      <td>debit</td>\n",
       "      <td>F</td>\n",
       "      <td>QLD</td>\n",
       "    </tr>\n",
       "    <tr>\n",
       "      <th>1</th>\n",
       "      <td>14.19</td>\n",
       "      <td>0</td>\n",
       "      <td>authorized</td>\n",
       "      <td>SALES-POS</td>\n",
       "      <td>debit</td>\n",
       "      <td>F</td>\n",
       "      <td>NSW</td>\n",
       "    </tr>\n",
       "    <tr>\n",
       "      <th>2</th>\n",
       "      <td>6.42</td>\n",
       "      <td>1</td>\n",
       "      <td>authorized</td>\n",
       "      <td>POS</td>\n",
       "      <td>debit</td>\n",
       "      <td>M</td>\n",
       "      <td>NSW</td>\n",
       "    </tr>\n",
       "    <tr>\n",
       "      <th>3</th>\n",
       "      <td>40.90</td>\n",
       "      <td>1</td>\n",
       "      <td>authorized</td>\n",
       "      <td>SALES-POS</td>\n",
       "      <td>debit</td>\n",
       "      <td>F</td>\n",
       "      <td>QLD</td>\n",
       "    </tr>\n",
       "    <tr>\n",
       "      <th>4</th>\n",
       "      <td>3.25</td>\n",
       "      <td>1</td>\n",
       "      <td>authorized</td>\n",
       "      <td>SALES-POS</td>\n",
       "      <td>debit</td>\n",
       "      <td>F</td>\n",
       "      <td>QLD</td>\n",
       "    </tr>\n",
       "  </tbody>\n",
       "</table>\n",
       "</div>"
      ],
      "text/plain": [
       "   amount  card_present_flag      status txn_description movement gender  \\\n",
       "0   16.25                  1  authorized             POS    debit      F   \n",
       "1   14.19                  0  authorized       SALES-POS    debit      F   \n",
       "2    6.42                  1  authorized             POS    debit      M   \n",
       "3   40.90                  1  authorized       SALES-POS    debit      F   \n",
       "4    3.25                  1  authorized       SALES-POS    debit      F   \n",
       "\n",
       "  merchant_state  \n",
       "0            QLD  \n",
       "1            NSW  \n",
       "2            NSW  \n",
       "3            QLD  \n",
       "4            QLD  "
      ]
     },
     "execution_count": 57,
     "metadata": {},
     "output_type": "execute_result"
    }
   ],
   "source": [
    "df1 = df[df.movement=='debit'][['amount','card_present_flag', 'status', 'txn_description' , 'movement' , 'gender', 'merchant_state']] # Debit Transactions \n",
    "df1.head()\n"
   ]
  },
  {
   "cell_type": "code",
   "execution_count": 58,
   "metadata": {},
   "outputs": [
    {
     "data": {
      "application/vnd.plotly.v1+json": {
       "config": {
        "plotlyServerURL": "https://plot.ly"
       },
       "data": [
        {
         "name": "card_present_flag",
         "text": [
          "20.04%",
          "79.96%"
         ],
         "textposition": "auto",
         "type": "bar",
         "x": [
          0,
          1
         ],
         "xaxis": "x",
         "y": [
          62108.43,
          247757.92
         ],
         "yaxis": "y"
        },
        {
         "name": "status",
         "text": [
          "52.81%",
          "47.19%"
         ],
         "textposition": "auto",
         "type": "bar",
         "x": [
          "authorized",
          "posted"
         ],
         "xaxis": "x2",
         "y": [
          309866.35,
          276841
         ],
         "yaxis": "y2"
        },
        {
         "name": "txn_description",
         "text": [
          "10.96%",
          "34.39%",
          "1.83%",
          "26.05%",
          "26.76%"
         ],
         "textposition": "auto",
         "type": "bar",
         "x": [
          "INTER BANK",
          "PAYMENT",
          "PHONE BANK",
          "POS",
          "SALES-POS"
         ],
         "xaxis": "x3",
         "y": [
          64331,
          201794,
          10716,
          152861.24,
          157005.11
         ],
         "yaxis": "y3"
        },
        {
         "name": "movement",
         "text": [
          "100.0%"
         ],
         "textposition": "auto",
         "type": "bar",
         "x": [
          "debit"
         ],
         "xaxis": "x4",
         "y": [
          586707.35
         ],
         "yaxis": "y4"
        },
        {
         "name": "gender",
         "text": [
          "45.45%",
          "54.55%"
         ],
         "textposition": "auto",
         "type": "bar",
         "x": [
          "F",
          "M"
         ],
         "xaxis": "x5",
         "y": [
          266666.4,
          320040.95
         ],
         "yaxis": "y5"
        },
        {
         "name": "merchant_state",
         "text": [
          "1.57%",
          "32.92%",
          "2.96%",
          "17.26%",
          "5.41%",
          "0.63%",
          "28.27%",
          "10.97%"
         ],
         "textposition": "auto",
         "type": "bar",
         "x": [
          "ACT",
          "NSW",
          "NT",
          "QLD",
          "SA",
          "TAS",
          "VIC",
          "WA"
         ],
         "xaxis": "x6",
         "y": [
          4876.68,
          102021.77,
          9168.89,
          53483.45,
          16776.57,
          1962.93,
          87584,
          33992.06
         ],
         "yaxis": "y6"
        }
       ],
       "layout": {
        "annotations": [
         {
          "font": {
           "size": 16
          },
          "showarrow": false,
          "text": "card_present_flag",
          "x": 0.2,
          "xanchor": "center",
          "xref": "paper",
          "y": 1,
          "yanchor": "bottom",
          "yref": "paper"
         },
         {
          "font": {
           "size": 16
          },
          "showarrow": false,
          "text": "status",
          "x": 0.8,
          "xanchor": "center",
          "xref": "paper",
          "y": 1,
          "yanchor": "bottom",
          "yref": "paper"
         },
         {
          "font": {
           "size": 16
          },
          "showarrow": false,
          "text": "txn_description",
          "x": 0.2,
          "xanchor": "center",
          "xref": "paper",
          "y": 0.6,
          "yanchor": "bottom",
          "yref": "paper"
         },
         {
          "font": {
           "size": 16
          },
          "showarrow": false,
          "text": "movement",
          "x": 0.8,
          "xanchor": "center",
          "xref": "paper",
          "y": 0.6,
          "yanchor": "bottom",
          "yref": "paper"
         },
         {
          "font": {
           "size": 16
          },
          "showarrow": false,
          "text": "gender",
          "x": 0.2,
          "xanchor": "center",
          "xref": "paper",
          "y": 0.19999999999999998,
          "yanchor": "bottom",
          "yref": "paper"
         },
         {
          "font": {
           "size": 16
          },
          "showarrow": false,
          "text": "merchant_state",
          "x": 0.8,
          "xanchor": "center",
          "xref": "paper",
          "y": 0.19999999999999998,
          "yanchor": "bottom",
          "yref": "paper"
         }
        ],
        "height": 980,
        "margin": {
         "b": 80,
         "l": 80,
         "r": 80,
         "t": 150
        },
        "showlegend": false,
        "template": {
         "data": {
          "bar": [
           {
            "error_x": {
             "color": "#2a3f5f"
            },
            "error_y": {
             "color": "#2a3f5f"
            },
            "marker": {
             "line": {
              "color": "#E5ECF6",
              "width": 0.5
             },
             "pattern": {
              "fillmode": "overlay",
              "size": 10,
              "solidity": 0.2
             }
            },
            "type": "bar"
           }
          ],
          "barpolar": [
           {
            "marker": {
             "line": {
              "color": "#E5ECF6",
              "width": 0.5
             },
             "pattern": {
              "fillmode": "overlay",
              "size": 10,
              "solidity": 0.2
             }
            },
            "type": "barpolar"
           }
          ],
          "carpet": [
           {
            "aaxis": {
             "endlinecolor": "#2a3f5f",
             "gridcolor": "white",
             "linecolor": "white",
             "minorgridcolor": "white",
             "startlinecolor": "#2a3f5f"
            },
            "baxis": {
             "endlinecolor": "#2a3f5f",
             "gridcolor": "white",
             "linecolor": "white",
             "minorgridcolor": "white",
             "startlinecolor": "#2a3f5f"
            },
            "type": "carpet"
           }
          ],
          "choropleth": [
           {
            "colorbar": {
             "outlinewidth": 0,
             "ticks": ""
            },
            "type": "choropleth"
           }
          ],
          "contour": [
           {
            "colorbar": {
             "outlinewidth": 0,
             "ticks": ""
            },
            "colorscale": [
             [
              0,
              "#0d0887"
             ],
             [
              0.1111111111111111,
              "#46039f"
             ],
             [
              0.2222222222222222,
              "#7201a8"
             ],
             [
              0.3333333333333333,
              "#9c179e"
             ],
             [
              0.4444444444444444,
              "#bd3786"
             ],
             [
              0.5555555555555556,
              "#d8576b"
             ],
             [
              0.6666666666666666,
              "#ed7953"
             ],
             [
              0.7777777777777778,
              "#fb9f3a"
             ],
             [
              0.8888888888888888,
              "#fdca26"
             ],
             [
              1,
              "#f0f921"
             ]
            ],
            "type": "contour"
           }
          ],
          "contourcarpet": [
           {
            "colorbar": {
             "outlinewidth": 0,
             "ticks": ""
            },
            "type": "contourcarpet"
           }
          ],
          "heatmap": [
           {
            "colorbar": {
             "outlinewidth": 0,
             "ticks": ""
            },
            "colorscale": [
             [
              0,
              "#0d0887"
             ],
             [
              0.1111111111111111,
              "#46039f"
             ],
             [
              0.2222222222222222,
              "#7201a8"
             ],
             [
              0.3333333333333333,
              "#9c179e"
             ],
             [
              0.4444444444444444,
              "#bd3786"
             ],
             [
              0.5555555555555556,
              "#d8576b"
             ],
             [
              0.6666666666666666,
              "#ed7953"
             ],
             [
              0.7777777777777778,
              "#fb9f3a"
             ],
             [
              0.8888888888888888,
              "#fdca26"
             ],
             [
              1,
              "#f0f921"
             ]
            ],
            "type": "heatmap"
           }
          ],
          "heatmapgl": [
           {
            "colorbar": {
             "outlinewidth": 0,
             "ticks": ""
            },
            "colorscale": [
             [
              0,
              "#0d0887"
             ],
             [
              0.1111111111111111,
              "#46039f"
             ],
             [
              0.2222222222222222,
              "#7201a8"
             ],
             [
              0.3333333333333333,
              "#9c179e"
             ],
             [
              0.4444444444444444,
              "#bd3786"
             ],
             [
              0.5555555555555556,
              "#d8576b"
             ],
             [
              0.6666666666666666,
              "#ed7953"
             ],
             [
              0.7777777777777778,
              "#fb9f3a"
             ],
             [
              0.8888888888888888,
              "#fdca26"
             ],
             [
              1,
              "#f0f921"
             ]
            ],
            "type": "heatmapgl"
           }
          ],
          "histogram": [
           {
            "marker": {
             "pattern": {
              "fillmode": "overlay",
              "size": 10,
              "solidity": 0.2
             }
            },
            "type": "histogram"
           }
          ],
          "histogram2d": [
           {
            "colorbar": {
             "outlinewidth": 0,
             "ticks": ""
            },
            "colorscale": [
             [
              0,
              "#0d0887"
             ],
             [
              0.1111111111111111,
              "#46039f"
             ],
             [
              0.2222222222222222,
              "#7201a8"
             ],
             [
              0.3333333333333333,
              "#9c179e"
             ],
             [
              0.4444444444444444,
              "#bd3786"
             ],
             [
              0.5555555555555556,
              "#d8576b"
             ],
             [
              0.6666666666666666,
              "#ed7953"
             ],
             [
              0.7777777777777778,
              "#fb9f3a"
             ],
             [
              0.8888888888888888,
              "#fdca26"
             ],
             [
              1,
              "#f0f921"
             ]
            ],
            "type": "histogram2d"
           }
          ],
          "histogram2dcontour": [
           {
            "colorbar": {
             "outlinewidth": 0,
             "ticks": ""
            },
            "colorscale": [
             [
              0,
              "#0d0887"
             ],
             [
              0.1111111111111111,
              "#46039f"
             ],
             [
              0.2222222222222222,
              "#7201a8"
             ],
             [
              0.3333333333333333,
              "#9c179e"
             ],
             [
              0.4444444444444444,
              "#bd3786"
             ],
             [
              0.5555555555555556,
              "#d8576b"
             ],
             [
              0.6666666666666666,
              "#ed7953"
             ],
             [
              0.7777777777777778,
              "#fb9f3a"
             ],
             [
              0.8888888888888888,
              "#fdca26"
             ],
             [
              1,
              "#f0f921"
             ]
            ],
            "type": "histogram2dcontour"
           }
          ],
          "mesh3d": [
           {
            "colorbar": {
             "outlinewidth": 0,
             "ticks": ""
            },
            "type": "mesh3d"
           }
          ],
          "parcoords": [
           {
            "line": {
             "colorbar": {
              "outlinewidth": 0,
              "ticks": ""
             }
            },
            "type": "parcoords"
           }
          ],
          "pie": [
           {
            "automargin": true,
            "type": "pie"
           }
          ],
          "scatter": [
           {
            "fillpattern": {
             "fillmode": "overlay",
             "size": 10,
             "solidity": 0.2
            },
            "type": "scatter"
           }
          ],
          "scatter3d": [
           {
            "line": {
             "colorbar": {
              "outlinewidth": 0,
              "ticks": ""
             }
            },
            "marker": {
             "colorbar": {
              "outlinewidth": 0,
              "ticks": ""
             }
            },
            "type": "scatter3d"
           }
          ],
          "scattercarpet": [
           {
            "marker": {
             "colorbar": {
              "outlinewidth": 0,
              "ticks": ""
             }
            },
            "type": "scattercarpet"
           }
          ],
          "scattergeo": [
           {
            "marker": {
             "colorbar": {
              "outlinewidth": 0,
              "ticks": ""
             }
            },
            "type": "scattergeo"
           }
          ],
          "scattergl": [
           {
            "marker": {
             "colorbar": {
              "outlinewidth": 0,
              "ticks": ""
             }
            },
            "type": "scattergl"
           }
          ],
          "scattermapbox": [
           {
            "marker": {
             "colorbar": {
              "outlinewidth": 0,
              "ticks": ""
             }
            },
            "type": "scattermapbox"
           }
          ],
          "scatterpolar": [
           {
            "marker": {
             "colorbar": {
              "outlinewidth": 0,
              "ticks": ""
             }
            },
            "type": "scatterpolar"
           }
          ],
          "scatterpolargl": [
           {
            "marker": {
             "colorbar": {
              "outlinewidth": 0,
              "ticks": ""
             }
            },
            "type": "scatterpolargl"
           }
          ],
          "scatterternary": [
           {
            "marker": {
             "colorbar": {
              "outlinewidth": 0,
              "ticks": ""
             }
            },
            "type": "scatterternary"
           }
          ],
          "surface": [
           {
            "colorbar": {
             "outlinewidth": 0,
             "ticks": ""
            },
            "colorscale": [
             [
              0,
              "#0d0887"
             ],
             [
              0.1111111111111111,
              "#46039f"
             ],
             [
              0.2222222222222222,
              "#7201a8"
             ],
             [
              0.3333333333333333,
              "#9c179e"
             ],
             [
              0.4444444444444444,
              "#bd3786"
             ],
             [
              0.5555555555555556,
              "#d8576b"
             ],
             [
              0.6666666666666666,
              "#ed7953"
             ],
             [
              0.7777777777777778,
              "#fb9f3a"
             ],
             [
              0.8888888888888888,
              "#fdca26"
             ],
             [
              1,
              "#f0f921"
             ]
            ],
            "type": "surface"
           }
          ],
          "table": [
           {
            "cells": {
             "fill": {
              "color": "#EBF0F8"
             },
             "line": {
              "color": "white"
             }
            },
            "header": {
             "fill": {
              "color": "#C8D4E3"
             },
             "line": {
              "color": "white"
             }
            },
            "type": "table"
           }
          ]
         },
         "layout": {
          "annotationdefaults": {
           "arrowcolor": "#2a3f5f",
           "arrowhead": 0,
           "arrowwidth": 1
          },
          "autotypenumbers": "strict",
          "coloraxis": {
           "colorbar": {
            "outlinewidth": 0,
            "ticks": ""
           }
          },
          "colorscale": {
           "diverging": [
            [
             0,
             "#8e0152"
            ],
            [
             0.1,
             "#c51b7d"
            ],
            [
             0.2,
             "#de77ae"
            ],
            [
             0.3,
             "#f1b6da"
            ],
            [
             0.4,
             "#fde0ef"
            ],
            [
             0.5,
             "#f7f7f7"
            ],
            [
             0.6,
             "#e6f5d0"
            ],
            [
             0.7,
             "#b8e186"
            ],
            [
             0.8,
             "#7fbc41"
            ],
            [
             0.9,
             "#4d9221"
            ],
            [
             1,
             "#276419"
            ]
           ],
           "sequential": [
            [
             0,
             "#0d0887"
            ],
            [
             0.1111111111111111,
             "#46039f"
            ],
            [
             0.2222222222222222,
             "#7201a8"
            ],
            [
             0.3333333333333333,
             "#9c179e"
            ],
            [
             0.4444444444444444,
             "#bd3786"
            ],
            [
             0.5555555555555556,
             "#d8576b"
            ],
            [
             0.6666666666666666,
             "#ed7953"
            ],
            [
             0.7777777777777778,
             "#fb9f3a"
            ],
            [
             0.8888888888888888,
             "#fdca26"
            ],
            [
             1,
             "#f0f921"
            ]
           ],
           "sequentialminus": [
            [
             0,
             "#0d0887"
            ],
            [
             0.1111111111111111,
             "#46039f"
            ],
            [
             0.2222222222222222,
             "#7201a8"
            ],
            [
             0.3333333333333333,
             "#9c179e"
            ],
            [
             0.4444444444444444,
             "#bd3786"
            ],
            [
             0.5555555555555556,
             "#d8576b"
            ],
            [
             0.6666666666666666,
             "#ed7953"
            ],
            [
             0.7777777777777778,
             "#fb9f3a"
            ],
            [
             0.8888888888888888,
             "#fdca26"
            ],
            [
             1,
             "#f0f921"
            ]
           ]
          },
          "colorway": [
           "#636efa",
           "#EF553B",
           "#00cc96",
           "#ab63fa",
           "#FFA15A",
           "#19d3f3",
           "#FF6692",
           "#B6E880",
           "#FF97FF",
           "#FECB52"
          ],
          "font": {
           "color": "#2a3f5f"
          },
          "geo": {
           "bgcolor": "white",
           "lakecolor": "white",
           "landcolor": "#E5ECF6",
           "showlakes": true,
           "showland": true,
           "subunitcolor": "white"
          },
          "hoverlabel": {
           "align": "left"
          },
          "hovermode": "closest",
          "mapbox": {
           "style": "light"
          },
          "paper_bgcolor": "white",
          "plot_bgcolor": "#E5ECF6",
          "polar": {
           "angularaxis": {
            "gridcolor": "white",
            "linecolor": "white",
            "ticks": ""
           },
           "bgcolor": "#E5ECF6",
           "radialaxis": {
            "gridcolor": "white",
            "linecolor": "white",
            "ticks": ""
           }
          },
          "scene": {
           "xaxis": {
            "backgroundcolor": "#E5ECF6",
            "gridcolor": "white",
            "gridwidth": 2,
            "linecolor": "white",
            "showbackground": true,
            "ticks": "",
            "zerolinecolor": "white"
           },
           "yaxis": {
            "backgroundcolor": "#E5ECF6",
            "gridcolor": "white",
            "gridwidth": 2,
            "linecolor": "white",
            "showbackground": true,
            "ticks": "",
            "zerolinecolor": "white"
           },
           "zaxis": {
            "backgroundcolor": "#E5ECF6",
            "gridcolor": "white",
            "gridwidth": 2,
            "linecolor": "white",
            "showbackground": true,
            "ticks": "",
            "zerolinecolor": "white"
           }
          },
          "shapedefaults": {
           "line": {
            "color": "#2a3f5f"
           }
          },
          "ternary": {
           "aaxis": {
            "gridcolor": "white",
            "linecolor": "white",
            "ticks": ""
           },
           "baxis": {
            "gridcolor": "white",
            "linecolor": "white",
            "ticks": ""
           },
           "bgcolor": "#E5ECF6",
           "caxis": {
            "gridcolor": "white",
            "linecolor": "white",
            "ticks": ""
           }
          },
          "title": {
           "x": 0.05
          },
          "xaxis": {
           "automargin": true,
           "gridcolor": "white",
           "linecolor": "white",
           "ticks": "",
           "title": {
            "standoff": 15
           },
           "zerolinecolor": "white",
           "zerolinewidth": 2
          },
          "yaxis": {
           "automargin": true,
           "gridcolor": "white",
           "linecolor": "white",
           "ticks": "",
           "title": {
            "standoff": 15
           },
           "zerolinecolor": "white",
           "zerolinewidth": 2
          }
         }
        },
        "title": {
         "font": {
          "size": 20
         },
         "text": "Analyze Categorical variables (Total Txn Amount/Percentage)",
         "x": 0.5,
         "y": 0.95
        },
        "width": 980,
        "xaxis": {
         "anchor": "y",
         "domain": [
          0,
          0.4
         ],
         "showgrid": false
        },
        "xaxis2": {
         "anchor": "y2",
         "domain": [
          0.6000000000000001,
          1
         ],
         "showgrid": false
        },
        "xaxis3": {
         "anchor": "y3",
         "domain": [
          0,
          0.4
         ],
         "showgrid": false
        },
        "xaxis4": {
         "anchor": "y4",
         "domain": [
          0.6000000000000001,
          1
         ],
         "showgrid": false
        },
        "xaxis5": {
         "anchor": "y5",
         "domain": [
          0,
          0.4
         ],
         "showgrid": false
        },
        "xaxis6": {
         "anchor": "y6",
         "domain": [
          0.6000000000000001,
          1
         ],
         "showgrid": false
        },
        "yaxis": {
         "anchor": "x",
         "domain": [
          0.8,
          1
         ],
         "showgrid": false
        },
        "yaxis2": {
         "anchor": "x2",
         "domain": [
          0.8,
          1
         ],
         "showgrid": false
        },
        "yaxis3": {
         "anchor": "x3",
         "domain": [
          0.4,
          0.6
         ],
         "showgrid": false
        },
        "yaxis4": {
         "anchor": "x4",
         "domain": [
          0.4,
          0.6
         ],
         "showgrid": false
        },
        "yaxis5": {
         "anchor": "x5",
         "domain": [
          0,
          0.19999999999999998
         ],
         "showgrid": false
        },
        "yaxis6": {
         "anchor": "x6",
         "domain": [
          0,
          0.19999999999999998
         ],
         "showgrid": false
        }
       }
      }
     },
     "metadata": {},
     "output_type": "display_data"
    }
   ],
   "source": [
    "cols = ['card_present_flag', 'status', 'txn_description' , 'movement' , 'gender', 'merchant_state'] #Subplot initialization \n",
    "fig = make_subplots( \n",
    "    rows=3,  \n",
    "    cols=2, \n",
    "    subplot_titles=('card_present_flag', 'status', 'txn_description' , 'movement','gender', 'merchant_state'), \n",
    "                    horizontal_spacing=0.2, \n",
    "                    vertical_spacing=0.2 ) \n",
    "    # Adding subplots \n",
    "count=0 \n",
    "for i in range(1,4):  \n",
    "    for j in range(1,3):  \n",
    "        # print(cols[count])\n",
    "        fig.add_trace(\n",
    "            go.Bar(x=df1.groupby(by=cols[count]).sum()['amount'].index, \n",
    "            y=df1.groupby(by=cols[count]).sum()['amount'].values.round(2),  name=cols[count], \n",
    "            textposition='auto', \n",
    "            text=[str(round((i/sum(df1.groupby(by=cols[count]).sum()['amount'].values))*100,2))+'%' \n",
    "                for i in df1.groupby(by=cols[count]).sum()['amount'].values]  ), \n",
    "            row=i,col=j)\n",
    "         \n",
    "        fig.update_xaxes(showgrid=False)  \n",
    "        fig.update_yaxes(showgrid=False) \n",
    "        count+=1 \n",
    "\n",
    "fig.update_layout( \n",
    "    title=dict(text = \"Analyze Categorical variables (Total Txn Amount/Percentage)\",x=0.5,y=0.95),  title_font_size=20, \n",
    "    showlegend=False, \n",
    "    width = 980, \n",
    "    height = 980, \n",
    "    margin=dict(l=80, r=80, t=150, b=80))\n",
    "\n",
    "fig.show()"
   ]
  },
  {
   "cell_type": "code",
   "execution_count": 59,
   "metadata": {},
   "outputs": [
    {
     "data": {
      "text/plain": [
       "status                 object\n",
       "card_present_flag       Int64\n",
       "account                object\n",
       "long_lat               object\n",
       "txn_description        object\n",
       "merchant_id            object\n",
       "first_name             object\n",
       "balance               float64\n",
       "gender                 object\n",
       "age                     int64\n",
       "merchant_suburb        object\n",
       "merchant_state         object\n",
       "amount                float64\n",
       "transaction_id         object\n",
       "customer_id            object\n",
       "merchant_long_lat      object\n",
       "movement               object\n",
       "age_group            category\n",
       "month                   int32\n",
       "day                     int32\n",
       "day_name               object\n",
       "hour                    int32\n",
       "dtype: object"
      ]
     },
     "execution_count": 59,
     "metadata": {},
     "output_type": "execute_result"
    }
   ],
   "source": [
    "df2.dtypes"
   ]
  },
  {
   "cell_type": "code",
   "execution_count": 60,
   "metadata": {},
   "outputs": [],
   "source": [
    "df2['age_group'] = df2['age_group'].astype('object')\n"
   ]
  },
  {
   "cell_type": "code",
   "execution_count": 61,
   "metadata": {},
   "outputs": [
    {
     "data": {
      "text/html": [
       "<div>\n",
       "<style scoped>\n",
       "    .dataframe tbody tr th:only-of-type {\n",
       "        vertical-align: middle;\n",
       "    }\n",
       "\n",
       "    .dataframe tbody tr th {\n",
       "        vertical-align: top;\n",
       "    }\n",
       "\n",
       "    .dataframe thead th {\n",
       "        text-align: right;\n",
       "    }\n",
       "</style>\n",
       "<table border=\"1\" class=\"dataframe\">\n",
       "  <thead>\n",
       "    <tr style=\"text-align: right;\">\n",
       "      <th></th>\n",
       "      <th>merchant_state</th>\n",
       "      <th>gender</th>\n",
       "      <th>amount</th>\n",
       "    </tr>\n",
       "  </thead>\n",
       "  <tbody>\n",
       "    <tr>\n",
       "      <th>0</th>\n",
       "      <td>ACT</td>\n",
       "      <td>F</td>\n",
       "      <td>1657.44</td>\n",
       "    </tr>\n",
       "    <tr>\n",
       "      <th>1</th>\n",
       "      <td>ACT</td>\n",
       "      <td>M</td>\n",
       "      <td>3219.24</td>\n",
       "    </tr>\n",
       "    <tr>\n",
       "      <th>2</th>\n",
       "      <td>NSW</td>\n",
       "      <td>F</td>\n",
       "      <td>41430.88</td>\n",
       "    </tr>\n",
       "    <tr>\n",
       "      <th>3</th>\n",
       "      <td>NSW</td>\n",
       "      <td>M</td>\n",
       "      <td>60590.89</td>\n",
       "    </tr>\n",
       "    <tr>\n",
       "      <th>4</th>\n",
       "      <td>NT</td>\n",
       "      <td>F</td>\n",
       "      <td>8741.42</td>\n",
       "    </tr>\n",
       "    <tr>\n",
       "      <th>5</th>\n",
       "      <td>NT</td>\n",
       "      <td>M</td>\n",
       "      <td>427.47</td>\n",
       "    </tr>\n",
       "    <tr>\n",
       "      <th>6</th>\n",
       "      <td>QLD</td>\n",
       "      <td>F</td>\n",
       "      <td>28611.05</td>\n",
       "    </tr>\n",
       "    <tr>\n",
       "      <th>7</th>\n",
       "      <td>QLD</td>\n",
       "      <td>M</td>\n",
       "      <td>24872.40</td>\n",
       "    </tr>\n",
       "    <tr>\n",
       "      <th>8</th>\n",
       "      <td>SA</td>\n",
       "      <td>F</td>\n",
       "      <td>11349.73</td>\n",
       "    </tr>\n",
       "    <tr>\n",
       "      <th>9</th>\n",
       "      <td>SA</td>\n",
       "      <td>M</td>\n",
       "      <td>5426.84</td>\n",
       "    </tr>\n",
       "    <tr>\n",
       "      <th>10</th>\n",
       "      <td>TAS</td>\n",
       "      <td>F</td>\n",
       "      <td>622.72</td>\n",
       "    </tr>\n",
       "    <tr>\n",
       "      <th>11</th>\n",
       "      <td>TAS</td>\n",
       "      <td>M</td>\n",
       "      <td>1340.21</td>\n",
       "    </tr>\n",
       "    <tr>\n",
       "      <th>12</th>\n",
       "      <td>VIC</td>\n",
       "      <td>F</td>\n",
       "      <td>38626.01</td>\n",
       "    </tr>\n",
       "    <tr>\n",
       "      <th>13</th>\n",
       "      <td>VIC</td>\n",
       "      <td>M</td>\n",
       "      <td>48957.99</td>\n",
       "    </tr>\n",
       "    <tr>\n",
       "      <th>14</th>\n",
       "      <td>WA</td>\n",
       "      <td>F</td>\n",
       "      <td>19908.15</td>\n",
       "    </tr>\n",
       "    <tr>\n",
       "      <th>15</th>\n",
       "      <td>WA</td>\n",
       "      <td>M</td>\n",
       "      <td>14083.91</td>\n",
       "    </tr>\n",
       "  </tbody>\n",
       "</table>\n",
       "</div>"
      ],
      "text/plain": [
       "   merchant_state gender    amount\n",
       "0             ACT      F   1657.44\n",
       "1             ACT      M   3219.24\n",
       "2             NSW      F  41430.88\n",
       "3             NSW      M  60590.89\n",
       "4              NT      F   8741.42\n",
       "5              NT      M    427.47\n",
       "6             QLD      F  28611.05\n",
       "7             QLD      M  24872.40\n",
       "8              SA      F  11349.73\n",
       "9              SA      M   5426.84\n",
       "10            TAS      F    622.72\n",
       "11            TAS      M   1340.21\n",
       "12            VIC      F  38626.01\n",
       "13            VIC      M  48957.99\n",
       "14             WA      F  19908.15\n",
       "15             WA      M  14083.91"
      ]
     },
     "execution_count": 61,
     "metadata": {},
     "output_type": "execute_result"
    }
   ],
   "source": [
    "df_grp=df2.groupby(by=['merchant_state','gender']).sum()[['amount']].reset_index() \n",
    "df_grp \n"
   ]
  },
  {
   "cell_type": "code",
   "execution_count": 62,
   "metadata": {},
   "outputs": [
    {
     "data": {
      "text/plain": [
       "array(['NSW', 'VIC', 'QLD', 'WA', 'SA', 'NT', 'ACT', 'TAS'], dtype=object)"
      ]
     },
     "execution_count": 62,
     "metadata": {},
     "output_type": "execute_result"
    }
   ],
   "source": [
    "df2.groupby(by=['merchant_state']).sum()[['amount']].sort_values(by='amount',ascending=False).index.values "
   ]
  },
  {
   "cell_type": "code",
   "execution_count": 63,
   "metadata": {},
   "outputs": [
    {
     "data": {
      "text/html": [
       "<div>\n",
       "<style scoped>\n",
       "    .dataframe tbody tr th:only-of-type {\n",
       "        vertical-align: middle;\n",
       "    }\n",
       "\n",
       "    .dataframe tbody tr th {\n",
       "        vertical-align: top;\n",
       "    }\n",
       "\n",
       "    .dataframe thead th {\n",
       "        text-align: right;\n",
       "    }\n",
       "</style>\n",
       "<table border=\"1\" class=\"dataframe\">\n",
       "  <thead>\n",
       "    <tr style=\"text-align: right;\">\n",
       "      <th></th>\n",
       "      <th>merchant_state</th>\n",
       "      <th>gender</th>\n",
       "      <th>amount</th>\n",
       "    </tr>\n",
       "  </thead>\n",
       "  <tbody>\n",
       "    <tr>\n",
       "      <th>0</th>\n",
       "      <td>NSW</td>\n",
       "      <td>F</td>\n",
       "      <td>41430.88</td>\n",
       "    </tr>\n",
       "    <tr>\n",
       "      <th>1</th>\n",
       "      <td>NSW</td>\n",
       "      <td>M</td>\n",
       "      <td>60590.89</td>\n",
       "    </tr>\n",
       "    <tr>\n",
       "      <th>2</th>\n",
       "      <td>VIC</td>\n",
       "      <td>F</td>\n",
       "      <td>38626.01</td>\n",
       "    </tr>\n",
       "    <tr>\n",
       "      <th>3</th>\n",
       "      <td>VIC</td>\n",
       "      <td>M</td>\n",
       "      <td>48957.99</td>\n",
       "    </tr>\n",
       "    <tr>\n",
       "      <th>4</th>\n",
       "      <td>QLD</td>\n",
       "      <td>F</td>\n",
       "      <td>28611.05</td>\n",
       "    </tr>\n",
       "    <tr>\n",
       "      <th>5</th>\n",
       "      <td>QLD</td>\n",
       "      <td>M</td>\n",
       "      <td>24872.40</td>\n",
       "    </tr>\n",
       "    <tr>\n",
       "      <th>6</th>\n",
       "      <td>WA</td>\n",
       "      <td>F</td>\n",
       "      <td>19908.15</td>\n",
       "    </tr>\n",
       "    <tr>\n",
       "      <th>7</th>\n",
       "      <td>WA</td>\n",
       "      <td>M</td>\n",
       "      <td>14083.91</td>\n",
       "    </tr>\n",
       "    <tr>\n",
       "      <th>8</th>\n",
       "      <td>SA</td>\n",
       "      <td>F</td>\n",
       "      <td>11349.73</td>\n",
       "    </tr>\n",
       "    <tr>\n",
       "      <th>9</th>\n",
       "      <td>SA</td>\n",
       "      <td>M</td>\n",
       "      <td>5426.84</td>\n",
       "    </tr>\n",
       "    <tr>\n",
       "      <th>10</th>\n",
       "      <td>NT</td>\n",
       "      <td>F</td>\n",
       "      <td>8741.42</td>\n",
       "    </tr>\n",
       "    <tr>\n",
       "      <th>11</th>\n",
       "      <td>NT</td>\n",
       "      <td>M</td>\n",
       "      <td>427.47</td>\n",
       "    </tr>\n",
       "    <tr>\n",
       "      <th>12</th>\n",
       "      <td>ACT</td>\n",
       "      <td>F</td>\n",
       "      <td>1657.44</td>\n",
       "    </tr>\n",
       "    <tr>\n",
       "      <th>13</th>\n",
       "      <td>ACT</td>\n",
       "      <td>M</td>\n",
       "      <td>3219.24</td>\n",
       "    </tr>\n",
       "    <tr>\n",
       "      <th>14</th>\n",
       "      <td>TAS</td>\n",
       "      <td>F</td>\n",
       "      <td>622.72</td>\n",
       "    </tr>\n",
       "    <tr>\n",
       "      <th>15</th>\n",
       "      <td>TAS</td>\n",
       "      <td>M</td>\n",
       "      <td>1340.21</td>\n",
       "    </tr>\n",
       "  </tbody>\n",
       "</table>\n",
       "</div>"
      ],
      "text/plain": [
       "   merchant_state gender    amount\n",
       "0             NSW      F  41430.88\n",
       "1             NSW      M  60590.89\n",
       "2             VIC      F  38626.01\n",
       "3             VIC      M  48957.99\n",
       "4             QLD      F  28611.05\n",
       "5             QLD      M  24872.40\n",
       "6              WA      F  19908.15\n",
       "7              WA      M  14083.91\n",
       "8              SA      F  11349.73\n",
       "9              SA      M   5426.84\n",
       "10             NT      F   8741.42\n",
       "11             NT      M    427.47\n",
       "12            ACT      F   1657.44\n",
       "13            ACT      M   3219.24\n",
       "14            TAS      F    622.72\n",
       "15            TAS      M   1340.21"
      ]
     },
     "execution_count": 63,
     "metadata": {},
     "output_type": "execute_result"
    }
   ],
   "source": [
    "order = df2.groupby(by=['merchant_state']).sum()[['amount']].sort_values(by='amount',ascending=False).index \n",
    "df_grp['merchant_state']=pd.Categorical(df_grp['merchant_state'],order) \n",
    "df_grp= df_grp.groupby(by=['merchant_state','gender']).sum().reset_index() \n",
    "df_grp\n"
   ]
  },
  {
   "cell_type": "code",
   "execution_count": 64,
   "metadata": {},
   "outputs": [
    {
     "data": {
      "application/vnd.plotly.v1+json": {
       "config": {
        "plotlyServerURL": "https://plot.ly"
       },
       "data": [
        {
         "alignmentgroup": "True",
         "hovertemplate": "gender=F<br>merchant_state=%{x}<br>amount=%{y}<br>text=%{text}<extra></extra>",
         "legendgroup": "F",
         "marker": {
          "color": "#636efa",
          "pattern": {
           "shape": ""
          }
         },
         "name": "F",
         "offsetgroup": "F",
         "orientation": "v",
         "showlegend": true,
         "text": [
          "41.43k",
          "38.63k",
          "28.61k",
          "19.91k",
          "11.35k",
          "8.74k",
          "1.66k",
          "0.62k"
         ],
         "textposition": "outside",
         "type": "bar",
         "x": [
          "NSW",
          "VIC",
          "QLD",
          "WA",
          "SA",
          "NT",
          "ACT",
          "TAS"
         ],
         "xaxis": "x",
         "y": [
          41430.88,
          38626.01,
          28611.05,
          19908.15,
          11349.73,
          8741.42,
          1657.44,
          622.72
         ],
         "yaxis": "y"
        },
        {
         "alignmentgroup": "True",
         "hovertemplate": "gender=M<br>merchant_state=%{x}<br>amount=%{y}<br>text=%{text}<extra></extra>",
         "legendgroup": "M",
         "marker": {
          "color": "#EF553B",
          "pattern": {
           "shape": ""
          }
         },
         "name": "M",
         "offsetgroup": "M",
         "orientation": "v",
         "showlegend": true,
         "text": [
          "60.59k",
          "48.96k",
          "24.87k",
          "14.08k",
          "5.43k",
          "0.43k",
          "3.22k",
          "1.34k"
         ],
         "textposition": "outside",
         "type": "bar",
         "x": [
          "NSW",
          "VIC",
          "QLD",
          "WA",
          "SA",
          "NT",
          "ACT",
          "TAS"
         ],
         "xaxis": "x",
         "y": [
          60590.89,
          48957.99,
          24872.4,
          14083.91,
          5426.84,
          427.47,
          3219.2400000000002,
          1340.21
         ],
         "yaxis": "y"
        }
       ],
       "layout": {
        "barmode": "group",
        "legend": {
         "title": {
          "text": "gender"
         },
         "tracegroupgap": 0
        },
        "margin": {
         "t": 60
        },
        "template": {
         "data": {
          "bar": [
           {
            "error_x": {
             "color": "#2a3f5f"
            },
            "error_y": {
             "color": "#2a3f5f"
            },
            "marker": {
             "line": {
              "color": "#E5ECF6",
              "width": 0.5
             },
             "pattern": {
              "fillmode": "overlay",
              "size": 10,
              "solidity": 0.2
             }
            },
            "type": "bar"
           }
          ],
          "barpolar": [
           {
            "marker": {
             "line": {
              "color": "#E5ECF6",
              "width": 0.5
             },
             "pattern": {
              "fillmode": "overlay",
              "size": 10,
              "solidity": 0.2
             }
            },
            "type": "barpolar"
           }
          ],
          "carpet": [
           {
            "aaxis": {
             "endlinecolor": "#2a3f5f",
             "gridcolor": "white",
             "linecolor": "white",
             "minorgridcolor": "white",
             "startlinecolor": "#2a3f5f"
            },
            "baxis": {
             "endlinecolor": "#2a3f5f",
             "gridcolor": "white",
             "linecolor": "white",
             "minorgridcolor": "white",
             "startlinecolor": "#2a3f5f"
            },
            "type": "carpet"
           }
          ],
          "choropleth": [
           {
            "colorbar": {
             "outlinewidth": 0,
             "ticks": ""
            },
            "type": "choropleth"
           }
          ],
          "contour": [
           {
            "colorbar": {
             "outlinewidth": 0,
             "ticks": ""
            },
            "colorscale": [
             [
              0,
              "#0d0887"
             ],
             [
              0.1111111111111111,
              "#46039f"
             ],
             [
              0.2222222222222222,
              "#7201a8"
             ],
             [
              0.3333333333333333,
              "#9c179e"
             ],
             [
              0.4444444444444444,
              "#bd3786"
             ],
             [
              0.5555555555555556,
              "#d8576b"
             ],
             [
              0.6666666666666666,
              "#ed7953"
             ],
             [
              0.7777777777777778,
              "#fb9f3a"
             ],
             [
              0.8888888888888888,
              "#fdca26"
             ],
             [
              1,
              "#f0f921"
             ]
            ],
            "type": "contour"
           }
          ],
          "contourcarpet": [
           {
            "colorbar": {
             "outlinewidth": 0,
             "ticks": ""
            },
            "type": "contourcarpet"
           }
          ],
          "heatmap": [
           {
            "colorbar": {
             "outlinewidth": 0,
             "ticks": ""
            },
            "colorscale": [
             [
              0,
              "#0d0887"
             ],
             [
              0.1111111111111111,
              "#46039f"
             ],
             [
              0.2222222222222222,
              "#7201a8"
             ],
             [
              0.3333333333333333,
              "#9c179e"
             ],
             [
              0.4444444444444444,
              "#bd3786"
             ],
             [
              0.5555555555555556,
              "#d8576b"
             ],
             [
              0.6666666666666666,
              "#ed7953"
             ],
             [
              0.7777777777777778,
              "#fb9f3a"
             ],
             [
              0.8888888888888888,
              "#fdca26"
             ],
             [
              1,
              "#f0f921"
             ]
            ],
            "type": "heatmap"
           }
          ],
          "heatmapgl": [
           {
            "colorbar": {
             "outlinewidth": 0,
             "ticks": ""
            },
            "colorscale": [
             [
              0,
              "#0d0887"
             ],
             [
              0.1111111111111111,
              "#46039f"
             ],
             [
              0.2222222222222222,
              "#7201a8"
             ],
             [
              0.3333333333333333,
              "#9c179e"
             ],
             [
              0.4444444444444444,
              "#bd3786"
             ],
             [
              0.5555555555555556,
              "#d8576b"
             ],
             [
              0.6666666666666666,
              "#ed7953"
             ],
             [
              0.7777777777777778,
              "#fb9f3a"
             ],
             [
              0.8888888888888888,
              "#fdca26"
             ],
             [
              1,
              "#f0f921"
             ]
            ],
            "type": "heatmapgl"
           }
          ],
          "histogram": [
           {
            "marker": {
             "pattern": {
              "fillmode": "overlay",
              "size": 10,
              "solidity": 0.2
             }
            },
            "type": "histogram"
           }
          ],
          "histogram2d": [
           {
            "colorbar": {
             "outlinewidth": 0,
             "ticks": ""
            },
            "colorscale": [
             [
              0,
              "#0d0887"
             ],
             [
              0.1111111111111111,
              "#46039f"
             ],
             [
              0.2222222222222222,
              "#7201a8"
             ],
             [
              0.3333333333333333,
              "#9c179e"
             ],
             [
              0.4444444444444444,
              "#bd3786"
             ],
             [
              0.5555555555555556,
              "#d8576b"
             ],
             [
              0.6666666666666666,
              "#ed7953"
             ],
             [
              0.7777777777777778,
              "#fb9f3a"
             ],
             [
              0.8888888888888888,
              "#fdca26"
             ],
             [
              1,
              "#f0f921"
             ]
            ],
            "type": "histogram2d"
           }
          ],
          "histogram2dcontour": [
           {
            "colorbar": {
             "outlinewidth": 0,
             "ticks": ""
            },
            "colorscale": [
             [
              0,
              "#0d0887"
             ],
             [
              0.1111111111111111,
              "#46039f"
             ],
             [
              0.2222222222222222,
              "#7201a8"
             ],
             [
              0.3333333333333333,
              "#9c179e"
             ],
             [
              0.4444444444444444,
              "#bd3786"
             ],
             [
              0.5555555555555556,
              "#d8576b"
             ],
             [
              0.6666666666666666,
              "#ed7953"
             ],
             [
              0.7777777777777778,
              "#fb9f3a"
             ],
             [
              0.8888888888888888,
              "#fdca26"
             ],
             [
              1,
              "#f0f921"
             ]
            ],
            "type": "histogram2dcontour"
           }
          ],
          "mesh3d": [
           {
            "colorbar": {
             "outlinewidth": 0,
             "ticks": ""
            },
            "type": "mesh3d"
           }
          ],
          "parcoords": [
           {
            "line": {
             "colorbar": {
              "outlinewidth": 0,
              "ticks": ""
             }
            },
            "type": "parcoords"
           }
          ],
          "pie": [
           {
            "automargin": true,
            "type": "pie"
           }
          ],
          "scatter": [
           {
            "fillpattern": {
             "fillmode": "overlay",
             "size": 10,
             "solidity": 0.2
            },
            "type": "scatter"
           }
          ],
          "scatter3d": [
           {
            "line": {
             "colorbar": {
              "outlinewidth": 0,
              "ticks": ""
             }
            },
            "marker": {
             "colorbar": {
              "outlinewidth": 0,
              "ticks": ""
             }
            },
            "type": "scatter3d"
           }
          ],
          "scattercarpet": [
           {
            "marker": {
             "colorbar": {
              "outlinewidth": 0,
              "ticks": ""
             }
            },
            "type": "scattercarpet"
           }
          ],
          "scattergeo": [
           {
            "marker": {
             "colorbar": {
              "outlinewidth": 0,
              "ticks": ""
             }
            },
            "type": "scattergeo"
           }
          ],
          "scattergl": [
           {
            "marker": {
             "colorbar": {
              "outlinewidth": 0,
              "ticks": ""
             }
            },
            "type": "scattergl"
           }
          ],
          "scattermapbox": [
           {
            "marker": {
             "colorbar": {
              "outlinewidth": 0,
              "ticks": ""
             }
            },
            "type": "scattermapbox"
           }
          ],
          "scatterpolar": [
           {
            "marker": {
             "colorbar": {
              "outlinewidth": 0,
              "ticks": ""
             }
            },
            "type": "scatterpolar"
           }
          ],
          "scatterpolargl": [
           {
            "marker": {
             "colorbar": {
              "outlinewidth": 0,
              "ticks": ""
             }
            },
            "type": "scatterpolargl"
           }
          ],
          "scatterternary": [
           {
            "marker": {
             "colorbar": {
              "outlinewidth": 0,
              "ticks": ""
             }
            },
            "type": "scatterternary"
           }
          ],
          "surface": [
           {
            "colorbar": {
             "outlinewidth": 0,
             "ticks": ""
            },
            "colorscale": [
             [
              0,
              "#0d0887"
             ],
             [
              0.1111111111111111,
              "#46039f"
             ],
             [
              0.2222222222222222,
              "#7201a8"
             ],
             [
              0.3333333333333333,
              "#9c179e"
             ],
             [
              0.4444444444444444,
              "#bd3786"
             ],
             [
              0.5555555555555556,
              "#d8576b"
             ],
             [
              0.6666666666666666,
              "#ed7953"
             ],
             [
              0.7777777777777778,
              "#fb9f3a"
             ],
             [
              0.8888888888888888,
              "#fdca26"
             ],
             [
              1,
              "#f0f921"
             ]
            ],
            "type": "surface"
           }
          ],
          "table": [
           {
            "cells": {
             "fill": {
              "color": "#EBF0F8"
             },
             "line": {
              "color": "white"
             }
            },
            "header": {
             "fill": {
              "color": "#C8D4E3"
             },
             "line": {
              "color": "white"
             }
            },
            "type": "table"
           }
          ]
         },
         "layout": {
          "annotationdefaults": {
           "arrowcolor": "#2a3f5f",
           "arrowhead": 0,
           "arrowwidth": 1
          },
          "autotypenumbers": "strict",
          "coloraxis": {
           "colorbar": {
            "outlinewidth": 0,
            "ticks": ""
           }
          },
          "colorscale": {
           "diverging": [
            [
             0,
             "#8e0152"
            ],
            [
             0.1,
             "#c51b7d"
            ],
            [
             0.2,
             "#de77ae"
            ],
            [
             0.3,
             "#f1b6da"
            ],
            [
             0.4,
             "#fde0ef"
            ],
            [
             0.5,
             "#f7f7f7"
            ],
            [
             0.6,
             "#e6f5d0"
            ],
            [
             0.7,
             "#b8e186"
            ],
            [
             0.8,
             "#7fbc41"
            ],
            [
             0.9,
             "#4d9221"
            ],
            [
             1,
             "#276419"
            ]
           ],
           "sequential": [
            [
             0,
             "#0d0887"
            ],
            [
             0.1111111111111111,
             "#46039f"
            ],
            [
             0.2222222222222222,
             "#7201a8"
            ],
            [
             0.3333333333333333,
             "#9c179e"
            ],
            [
             0.4444444444444444,
             "#bd3786"
            ],
            [
             0.5555555555555556,
             "#d8576b"
            ],
            [
             0.6666666666666666,
             "#ed7953"
            ],
            [
             0.7777777777777778,
             "#fb9f3a"
            ],
            [
             0.8888888888888888,
             "#fdca26"
            ],
            [
             1,
             "#f0f921"
            ]
           ],
           "sequentialminus": [
            [
             0,
             "#0d0887"
            ],
            [
             0.1111111111111111,
             "#46039f"
            ],
            [
             0.2222222222222222,
             "#7201a8"
            ],
            [
             0.3333333333333333,
             "#9c179e"
            ],
            [
             0.4444444444444444,
             "#bd3786"
            ],
            [
             0.5555555555555556,
             "#d8576b"
            ],
            [
             0.6666666666666666,
             "#ed7953"
            ],
            [
             0.7777777777777778,
             "#fb9f3a"
            ],
            [
             0.8888888888888888,
             "#fdca26"
            ],
            [
             1,
             "#f0f921"
            ]
           ]
          },
          "colorway": [
           "#636efa",
           "#EF553B",
           "#00cc96",
           "#ab63fa",
           "#FFA15A",
           "#19d3f3",
           "#FF6692",
           "#B6E880",
           "#FF97FF",
           "#FECB52"
          ],
          "font": {
           "color": "#2a3f5f"
          },
          "geo": {
           "bgcolor": "white",
           "lakecolor": "white",
           "landcolor": "#E5ECF6",
           "showlakes": true,
           "showland": true,
           "subunitcolor": "white"
          },
          "hoverlabel": {
           "align": "left"
          },
          "hovermode": "closest",
          "mapbox": {
           "style": "light"
          },
          "paper_bgcolor": "white",
          "plot_bgcolor": "#E5ECF6",
          "polar": {
           "angularaxis": {
            "gridcolor": "white",
            "linecolor": "white",
            "ticks": ""
           },
           "bgcolor": "#E5ECF6",
           "radialaxis": {
            "gridcolor": "white",
            "linecolor": "white",
            "ticks": ""
           }
          },
          "scene": {
           "xaxis": {
            "backgroundcolor": "#E5ECF6",
            "gridcolor": "white",
            "gridwidth": 2,
            "linecolor": "white",
            "showbackground": true,
            "ticks": "",
            "zerolinecolor": "white"
           },
           "yaxis": {
            "backgroundcolor": "#E5ECF6",
            "gridcolor": "white",
            "gridwidth": 2,
            "linecolor": "white",
            "showbackground": true,
            "ticks": "",
            "zerolinecolor": "white"
           },
           "zaxis": {
            "backgroundcolor": "#E5ECF6",
            "gridcolor": "white",
            "gridwidth": 2,
            "linecolor": "white",
            "showbackground": true,
            "ticks": "",
            "zerolinecolor": "white"
           }
          },
          "shapedefaults": {
           "line": {
            "color": "#2a3f5f"
           }
          },
          "ternary": {
           "aaxis": {
            "gridcolor": "white",
            "linecolor": "white",
            "ticks": ""
           },
           "baxis": {
            "gridcolor": "white",
            "linecolor": "white",
            "ticks": ""
           },
           "bgcolor": "#E5ECF6",
           "caxis": {
            "gridcolor": "white",
            "linecolor": "white",
            "ticks": ""
           }
          },
          "title": {
           "x": 0.05
          },
          "xaxis": {
           "automargin": true,
           "gridcolor": "white",
           "linecolor": "white",
           "ticks": "",
           "title": {
            "standoff": 15
           },
           "zerolinecolor": "white",
           "zerolinewidth": 2
          },
          "yaxis": {
           "automargin": true,
           "gridcolor": "white",
           "linecolor": "white",
           "ticks": "",
           "title": {
            "standoff": 15
           },
           "zerolinecolor": "white",
           "zerolinewidth": 2
          }
         }
        },
        "title": {
         "font": {
          "size": 20
         },
         "text": "Transaction Amount in Merchant State by Gender",
         "x": 0.5,
         "y": 0.95
        },
        "xaxis": {
         "anchor": "y",
         "domain": [
          0,
          1
         ],
         "showgrid": false,
         "title": {
          "text": "Day"
         }
        },
        "yaxis": {
         "anchor": "x",
         "domain": [
          0,
          1
         ],
         "showgrid": false,
         "title": {
          "text": "Transaction Amount"
         }
        }
       }
      }
     },
     "metadata": {},
     "output_type": "display_data"
    }
   ],
   "source": [
    "fig=px.bar(data_frame=df_grp, \n",
    " x='merchant_state', \n",
    " y='amount',color='gender', \n",
    " barmode='group', \n",
    " text=df_grp.amount.apply(lambda x : str(round(x/1000,2))+'k') \n",
    " ) \n",
    "fig.update_traces(textposition='outside') \n",
    "fig.update_xaxes(title='Day',showgrid=False)  \n",
    "fig.update_yaxes(title='Transaction Amount',showgrid=False) \n",
    "fig.update_layout( \n",
    " title=dict(text = \"Transaction Amount in Merchant State by Gender\",x=0.5,y=0.95),  title_font_size=20, \n",
    " ) \n",
    "fig.show()\n"
   ]
  },
  {
   "cell_type": "code",
   "execution_count": 65,
   "metadata": {},
   "outputs": [
    {
     "data": {
      "text/html": [
       "<div>\n",
       "<style scoped>\n",
       "    .dataframe tbody tr th:only-of-type {\n",
       "        vertical-align: middle;\n",
       "    }\n",
       "\n",
       "    .dataframe tbody tr th {\n",
       "        vertical-align: top;\n",
       "    }\n",
       "\n",
       "    .dataframe thead th {\n",
       "        text-align: right;\n",
       "    }\n",
       "</style>\n",
       "<table border=\"1\" class=\"dataframe\">\n",
       "  <thead>\n",
       "    <tr style=\"text-align: right;\">\n",
       "      <th></th>\n",
       "      <th>status</th>\n",
       "      <th>card_present_flag</th>\n",
       "      <th>account</th>\n",
       "      <th>long_lat</th>\n",
       "      <th>txn_description</th>\n",
       "      <th>merchant_id</th>\n",
       "      <th>first_name</th>\n",
       "      <th>balance</th>\n",
       "      <th>gender</th>\n",
       "      <th>age</th>\n",
       "      <th>...</th>\n",
       "      <th>amount</th>\n",
       "      <th>transaction_id</th>\n",
       "      <th>customer_id</th>\n",
       "      <th>merchant_long_lat</th>\n",
       "      <th>movement</th>\n",
       "      <th>age_group</th>\n",
       "      <th>month</th>\n",
       "      <th>day</th>\n",
       "      <th>day_name</th>\n",
       "      <th>hour</th>\n",
       "    </tr>\n",
       "  </thead>\n",
       "  <tbody>\n",
       "    <tr>\n",
       "      <th>0</th>\n",
       "      <td>authorized</td>\n",
       "      <td>1</td>\n",
       "      <td>ACC-1598451071</td>\n",
       "      <td>153.41 -27.95</td>\n",
       "      <td>POS</td>\n",
       "      <td>81c48296-73be-44a7-befa-d053f48ce7cd</td>\n",
       "      <td>Diana</td>\n",
       "      <td>35.39</td>\n",
       "      <td>F</td>\n",
       "      <td>26</td>\n",
       "      <td>...</td>\n",
       "      <td>16.25</td>\n",
       "      <td>a623070bfead4541a6b0fff8a09e706c</td>\n",
       "      <td>CUS-2487424745</td>\n",
       "      <td>153.38 -27.99</td>\n",
       "      <td>debit</td>\n",
       "      <td>20-30</td>\n",
       "      <td>8</td>\n",
       "      <td>2</td>\n",
       "      <td>Wednesday</td>\n",
       "      <td>1</td>\n",
       "    </tr>\n",
       "    <tr>\n",
       "      <th>1</th>\n",
       "      <td>authorized</td>\n",
       "      <td>0</td>\n",
       "      <td>ACC-1598451071</td>\n",
       "      <td>153.41 -27.95</td>\n",
       "      <td>SALES-POS</td>\n",
       "      <td>830a451c-316e-4a6a-bf25-e37caedca49e</td>\n",
       "      <td>Diana</td>\n",
       "      <td>21.20</td>\n",
       "      <td>F</td>\n",
       "      <td>26</td>\n",
       "      <td>...</td>\n",
       "      <td>14.19</td>\n",
       "      <td>13270a2a902145da9db4c951e04b51b9</td>\n",
       "      <td>CUS-2487424745</td>\n",
       "      <td>151.21 -33.87</td>\n",
       "      <td>debit</td>\n",
       "      <td>20-30</td>\n",
       "      <td>8</td>\n",
       "      <td>2</td>\n",
       "      <td>Wednesday</td>\n",
       "      <td>1</td>\n",
       "    </tr>\n",
       "    <tr>\n",
       "      <th>2</th>\n",
       "      <td>authorized</td>\n",
       "      <td>1</td>\n",
       "      <td>ACC-1222300524</td>\n",
       "      <td>151.23 -33.94</td>\n",
       "      <td>POS</td>\n",
       "      <td>835c231d-8cdf-4e96-859d-e9d571760cf0</td>\n",
       "      <td>Michael</td>\n",
       "      <td>5.71</td>\n",
       "      <td>M</td>\n",
       "      <td>38</td>\n",
       "      <td>...</td>\n",
       "      <td>6.42</td>\n",
       "      <td>feb79e7ecd7048a5a36ec889d1a94270</td>\n",
       "      <td>CUS-2142601169</td>\n",
       "      <td>151.21 -33.87</td>\n",
       "      <td>debit</td>\n",
       "      <td>30-40</td>\n",
       "      <td>8</td>\n",
       "      <td>2</td>\n",
       "      <td>Wednesday</td>\n",
       "      <td>1</td>\n",
       "    </tr>\n",
       "    <tr>\n",
       "      <th>3</th>\n",
       "      <td>authorized</td>\n",
       "      <td>1</td>\n",
       "      <td>ACC-1037050564</td>\n",
       "      <td>153.10 -27.66</td>\n",
       "      <td>SALES-POS</td>\n",
       "      <td>48514682-c78a-4a88-b0da-2d6302e64673</td>\n",
       "      <td>Rhonda</td>\n",
       "      <td>2117.22</td>\n",
       "      <td>F</td>\n",
       "      <td>40</td>\n",
       "      <td>...</td>\n",
       "      <td>40.90</td>\n",
       "      <td>2698170da3704fd981b15e64a006079e</td>\n",
       "      <td>CUS-1614226872</td>\n",
       "      <td>153.05 -26.68</td>\n",
       "      <td>debit</td>\n",
       "      <td>30-40</td>\n",
       "      <td>8</td>\n",
       "      <td>2</td>\n",
       "      <td>Wednesday</td>\n",
       "      <td>1</td>\n",
       "    </tr>\n",
       "    <tr>\n",
       "      <th>4</th>\n",
       "      <td>authorized</td>\n",
       "      <td>1</td>\n",
       "      <td>ACC-1598451071</td>\n",
       "      <td>153.41 -27.95</td>\n",
       "      <td>SALES-POS</td>\n",
       "      <td>b4e02c10-0852-4273-b8fd-7b3395e32eb0</td>\n",
       "      <td>Diana</td>\n",
       "      <td>17.95</td>\n",
       "      <td>F</td>\n",
       "      <td>26</td>\n",
       "      <td>...</td>\n",
       "      <td>3.25</td>\n",
       "      <td>329adf79878c4cf0aeb4188b4691c266</td>\n",
       "      <td>CUS-2487424745</td>\n",
       "      <td>153.44 -28.06</td>\n",
       "      <td>debit</td>\n",
       "      <td>20-30</td>\n",
       "      <td>8</td>\n",
       "      <td>2</td>\n",
       "      <td>Wednesday</td>\n",
       "      <td>1</td>\n",
       "    </tr>\n",
       "    <tr>\n",
       "      <th>...</th>\n",
       "      <td>...</td>\n",
       "      <td>...</td>\n",
       "      <td>...</td>\n",
       "      <td>...</td>\n",
       "      <td>...</td>\n",
       "      <td>...</td>\n",
       "      <td>...</td>\n",
       "      <td>...</td>\n",
       "      <td>...</td>\n",
       "      <td>...</td>\n",
       "      <td>...</td>\n",
       "      <td>...</td>\n",
       "      <td>...</td>\n",
       "      <td>...</td>\n",
       "      <td>...</td>\n",
       "      <td>...</td>\n",
       "      <td>...</td>\n",
       "      <td>...</td>\n",
       "      <td>...</td>\n",
       "      <td>...</td>\n",
       "      <td>...</td>\n",
       "    </tr>\n",
       "    <tr>\n",
       "      <th>12038</th>\n",
       "      <td>authorized</td>\n",
       "      <td>0</td>\n",
       "      <td>ACC-3021093232</td>\n",
       "      <td>149.83 -29.47</td>\n",
       "      <td>POS</td>\n",
       "      <td>32aa73dc-b7c2-4161-b14d-6271b96ce792</td>\n",
       "      <td>Melissa</td>\n",
       "      <td>14054.14</td>\n",
       "      <td>F</td>\n",
       "      <td>30</td>\n",
       "      <td>...</td>\n",
       "      <td>9.79</td>\n",
       "      <td>f2e3e695c2ee4c50a4c8747f852cbe2e</td>\n",
       "      <td>CUS-55310383</td>\n",
       "      <td>145.23 -37.81</td>\n",
       "      <td>debit</td>\n",
       "      <td>20-30</td>\n",
       "      <td>10</td>\n",
       "      <td>2</td>\n",
       "      <td>Wednesday</td>\n",
       "      <td>23</td>\n",
       "    </tr>\n",
       "    <tr>\n",
       "      <th>12039</th>\n",
       "      <td>authorized</td>\n",
       "      <td>1</td>\n",
       "      <td>ACC-1608363396</td>\n",
       "      <td>151.22 -33.87</td>\n",
       "      <td>SALES-POS</td>\n",
       "      <td>296a0500-8552-48ac-ac81-ec37065b568e</td>\n",
       "      <td>Robert</td>\n",
       "      <td>9137.79</td>\n",
       "      <td>M</td>\n",
       "      <td>20</td>\n",
       "      <td>...</td>\n",
       "      <td>63.87</td>\n",
       "      <td>56e147e5485f4683b9076fcaaed76640</td>\n",
       "      <td>CUS-2688605418</td>\n",
       "      <td>150.88 -33.96</td>\n",
       "      <td>debit</td>\n",
       "      <td>&lt;20</td>\n",
       "      <td>10</td>\n",
       "      <td>2</td>\n",
       "      <td>Wednesday</td>\n",
       "      <td>23</td>\n",
       "    </tr>\n",
       "    <tr>\n",
       "      <th>12040</th>\n",
       "      <td>authorized</td>\n",
       "      <td>1</td>\n",
       "      <td>ACC-3827517394</td>\n",
       "      <td>151.12 -33.89</td>\n",
       "      <td>POS</td>\n",
       "      <td>e5975ab4-08f7-4725-a369-24cc0e35ed6e</td>\n",
       "      <td>Craig</td>\n",
       "      <td>45394.57</td>\n",
       "      <td>M</td>\n",
       "      <td>28</td>\n",
       "      <td>...</td>\n",
       "      <td>43.96</td>\n",
       "      <td>2fdd4681827343f6af2e6519644a684a</td>\n",
       "      <td>CUS-2663907001</td>\n",
       "      <td>150.92 -33.74</td>\n",
       "      <td>debit</td>\n",
       "      <td>20-30</td>\n",
       "      <td>10</td>\n",
       "      <td>2</td>\n",
       "      <td>Wednesday</td>\n",
       "      <td>23</td>\n",
       "    </tr>\n",
       "    <tr>\n",
       "      <th>12041</th>\n",
       "      <td>authorized</td>\n",
       "      <td>1</td>\n",
       "      <td>ACC-2920611728</td>\n",
       "      <td>144.96 -37.76</td>\n",
       "      <td>SALES-POS</td>\n",
       "      <td>af49051a-591d-4b08-bd3c-27730b70ed37</td>\n",
       "      <td>Tyler</td>\n",
       "      <td>11350.67</td>\n",
       "      <td>M</td>\n",
       "      <td>69</td>\n",
       "      <td>...</td>\n",
       "      <td>30.77</td>\n",
       "      <td>74aa9cd7e4af4c6d9cd7dbd28e9aedc9</td>\n",
       "      <td>CUS-1388323263</td>\n",
       "      <td>145.09 -37.91</td>\n",
       "      <td>debit</td>\n",
       "      <td>&gt;60</td>\n",
       "      <td>10</td>\n",
       "      <td>2</td>\n",
       "      <td>Wednesday</td>\n",
       "      <td>23</td>\n",
       "    </tr>\n",
       "    <tr>\n",
       "      <th>12042</th>\n",
       "      <td>authorized</td>\n",
       "      <td>1</td>\n",
       "      <td>ACC-1443681913</td>\n",
       "      <td>150.92 -33.77</td>\n",
       "      <td>SALES-POS</td>\n",
       "      <td>f31f4b14-2040-40ec-a120-b141bb274cbd</td>\n",
       "      <td>Ryan</td>\n",
       "      <td>5517.91</td>\n",
       "      <td>M</td>\n",
       "      <td>31</td>\n",
       "      <td>...</td>\n",
       "      <td>22.36</td>\n",
       "      <td>6d5218e04e8040b9996850ce11a19426</td>\n",
       "      <td>CUS-3129499595</td>\n",
       "      <td>151.19 -33.93</td>\n",
       "      <td>debit</td>\n",
       "      <td>30-40</td>\n",
       "      <td>10</td>\n",
       "      <td>2</td>\n",
       "      <td>Wednesday</td>\n",
       "      <td>23</td>\n",
       "    </tr>\n",
       "  </tbody>\n",
       "</table>\n",
       "<p>12043 rows × 22 columns</p>\n",
       "</div>"
      ],
      "text/plain": [
       "           status  card_present_flag         account       long_lat  \\\n",
       "0      authorized                  1  ACC-1598451071  153.41 -27.95   \n",
       "1      authorized                  0  ACC-1598451071  153.41 -27.95   \n",
       "2      authorized                  1  ACC-1222300524  151.23 -33.94   \n",
       "3      authorized                  1  ACC-1037050564  153.10 -27.66   \n",
       "4      authorized                  1  ACC-1598451071  153.41 -27.95   \n",
       "...           ...                ...             ...            ...   \n",
       "12038  authorized                  0  ACC-3021093232  149.83 -29.47   \n",
       "12039  authorized                  1  ACC-1608363396  151.22 -33.87   \n",
       "12040  authorized                  1  ACC-3827517394  151.12 -33.89   \n",
       "12041  authorized                  1  ACC-2920611728  144.96 -37.76   \n",
       "12042  authorized                  1  ACC-1443681913  150.92 -33.77   \n",
       "\n",
       "      txn_description                           merchant_id first_name  \\\n",
       "0                 POS  81c48296-73be-44a7-befa-d053f48ce7cd      Diana   \n",
       "1           SALES-POS  830a451c-316e-4a6a-bf25-e37caedca49e      Diana   \n",
       "2                 POS  835c231d-8cdf-4e96-859d-e9d571760cf0    Michael   \n",
       "3           SALES-POS  48514682-c78a-4a88-b0da-2d6302e64673     Rhonda   \n",
       "4           SALES-POS  b4e02c10-0852-4273-b8fd-7b3395e32eb0      Diana   \n",
       "...               ...                                   ...        ...   \n",
       "12038             POS  32aa73dc-b7c2-4161-b14d-6271b96ce792    Melissa   \n",
       "12039       SALES-POS  296a0500-8552-48ac-ac81-ec37065b568e     Robert   \n",
       "12040             POS  e5975ab4-08f7-4725-a369-24cc0e35ed6e      Craig   \n",
       "12041       SALES-POS  af49051a-591d-4b08-bd3c-27730b70ed37      Tyler   \n",
       "12042       SALES-POS  f31f4b14-2040-40ec-a120-b141bb274cbd       Ryan   \n",
       "\n",
       "        balance gender  age  ... amount                    transaction_id  \\\n",
       "0         35.39      F   26  ...  16.25  a623070bfead4541a6b0fff8a09e706c   \n",
       "1         21.20      F   26  ...  14.19  13270a2a902145da9db4c951e04b51b9   \n",
       "2          5.71      M   38  ...   6.42  feb79e7ecd7048a5a36ec889d1a94270   \n",
       "3       2117.22      F   40  ...  40.90  2698170da3704fd981b15e64a006079e   \n",
       "4         17.95      F   26  ...   3.25  329adf79878c4cf0aeb4188b4691c266   \n",
       "...         ...    ...  ...  ...    ...                               ...   \n",
       "12038  14054.14      F   30  ...   9.79  f2e3e695c2ee4c50a4c8747f852cbe2e   \n",
       "12039   9137.79      M   20  ...  63.87  56e147e5485f4683b9076fcaaed76640   \n",
       "12040  45394.57      M   28  ...  43.96  2fdd4681827343f6af2e6519644a684a   \n",
       "12041  11350.67      M   69  ...  30.77  74aa9cd7e4af4c6d9cd7dbd28e9aedc9   \n",
       "12042   5517.91      M   31  ...  22.36  6d5218e04e8040b9996850ce11a19426   \n",
       "\n",
       "          customer_id merchant_long_lat movement age_group month day  \\\n",
       "0      CUS-2487424745     153.38 -27.99    debit     20-30     8   2   \n",
       "1      CUS-2487424745     151.21 -33.87    debit     20-30     8   2   \n",
       "2      CUS-2142601169     151.21 -33.87    debit     30-40     8   2   \n",
       "3      CUS-1614226872     153.05 -26.68    debit     30-40     8   2   \n",
       "4      CUS-2487424745     153.44 -28.06    debit     20-30     8   2   \n",
       "...               ...               ...      ...       ...   ...  ..   \n",
       "12038    CUS-55310383     145.23 -37.81    debit     20-30    10   2   \n",
       "12039  CUS-2688605418     150.88 -33.96    debit       <20    10   2   \n",
       "12040  CUS-2663907001     150.92 -33.74    debit     20-30    10   2   \n",
       "12041  CUS-1388323263     145.09 -37.91    debit       >60    10   2   \n",
       "12042  CUS-3129499595     151.19 -33.93    debit     30-40    10   2   \n",
       "\n",
       "        day_name  hour  \n",
       "0      Wednesday     1  \n",
       "1      Wednesday     1  \n",
       "2      Wednesday     1  \n",
       "3      Wednesday     1  \n",
       "4      Wednesday     1  \n",
       "...          ...   ...  \n",
       "12038  Wednesday    23  \n",
       "12039  Wednesday    23  \n",
       "12040  Wednesday    23  \n",
       "12041  Wednesday    23  \n",
       "12042  Wednesday    23  \n",
       "\n",
       "[12043 rows x 22 columns]"
      ]
     },
     "execution_count": 65,
     "metadata": {},
     "output_type": "execute_result"
    }
   ],
   "source": [
    "df2"
   ]
  },
  {
   "cell_type": "code",
   "execution_count": 66,
   "metadata": {},
   "outputs": [
    {
     "data": {
      "application/vnd.plotly.v1+json": {
       "config": {
        "plotlyServerURL": "https://plot.ly"
       },
       "data": [
        {
         "alignmentgroup": "True",
         "hovertemplate": "x=%{x}<br>y=%{y}<br>text=%{text}<br>color=%{marker.color}<extra></extra>",
         "legendgroup": "",
         "marker": {
          "color": [
           2073,
           2063,
           1801,
           1709,
           1550,
           1487,
           1360
          ],
          "pattern": {
           "shape": ""
          }
         },
         "name": "",
         "offsetgroup": "",
         "orientation": "v",
         "showlegend": false,
         "text": [
          2073,
          2063,
          1801,
          1709,
          1550,
          1487,
          1360
         ],
         "textposition": "outside",
         "type": "bar",
         "x": [
          4,
          2,
          3,
          5,
          6,
          1,
          0
         ],
         "xaxis": "x",
         "y": [
          2073,
          2063,
          1801,
          1709,
          1550,
          1487,
          1360
         ],
         "yaxis": "y"
        }
       ],
       "layout": {
        "barmode": "relative",
        "coloraxis": {
         "colorbar": {
          "title": {
           "text": "color"
          }
         },
         "colorscale": [
          [
           0,
           "#0d0887"
          ],
          [
           0.1111111111111111,
           "#46039f"
          ],
          [
           0.2222222222222222,
           "#7201a8"
          ],
          [
           0.3333333333333333,
           "#9c179e"
          ],
          [
           0.4444444444444444,
           "#bd3786"
          ],
          [
           0.5555555555555556,
           "#d8576b"
          ],
          [
           0.6666666666666666,
           "#ed7953"
          ],
          [
           0.7777777777777778,
           "#fb9f3a"
          ],
          [
           0.8888888888888888,
           "#fdca26"
          ],
          [
           1,
           "#f0f921"
          ]
         ]
        },
        "height": 450,
        "legend": {
         "tracegroupgap": 0
        },
        "margin": {
         "t": 60
        },
        "showlegend": false,
        "template": {
         "data": {
          "bar": [
           {
            "error_x": {
             "color": "#2a3f5f"
            },
            "error_y": {
             "color": "#2a3f5f"
            },
            "marker": {
             "line": {
              "color": "#E5ECF6",
              "width": 0.5
             },
             "pattern": {
              "fillmode": "overlay",
              "size": 10,
              "solidity": 0.2
             }
            },
            "type": "bar"
           }
          ],
          "barpolar": [
           {
            "marker": {
             "line": {
              "color": "#E5ECF6",
              "width": 0.5
             },
             "pattern": {
              "fillmode": "overlay",
              "size": 10,
              "solidity": 0.2
             }
            },
            "type": "barpolar"
           }
          ],
          "carpet": [
           {
            "aaxis": {
             "endlinecolor": "#2a3f5f",
             "gridcolor": "white",
             "linecolor": "white",
             "minorgridcolor": "white",
             "startlinecolor": "#2a3f5f"
            },
            "baxis": {
             "endlinecolor": "#2a3f5f",
             "gridcolor": "white",
             "linecolor": "white",
             "minorgridcolor": "white",
             "startlinecolor": "#2a3f5f"
            },
            "type": "carpet"
           }
          ],
          "choropleth": [
           {
            "colorbar": {
             "outlinewidth": 0,
             "ticks": ""
            },
            "type": "choropleth"
           }
          ],
          "contour": [
           {
            "colorbar": {
             "outlinewidth": 0,
             "ticks": ""
            },
            "colorscale": [
             [
              0,
              "#0d0887"
             ],
             [
              0.1111111111111111,
              "#46039f"
             ],
             [
              0.2222222222222222,
              "#7201a8"
             ],
             [
              0.3333333333333333,
              "#9c179e"
             ],
             [
              0.4444444444444444,
              "#bd3786"
             ],
             [
              0.5555555555555556,
              "#d8576b"
             ],
             [
              0.6666666666666666,
              "#ed7953"
             ],
             [
              0.7777777777777778,
              "#fb9f3a"
             ],
             [
              0.8888888888888888,
              "#fdca26"
             ],
             [
              1,
              "#f0f921"
             ]
            ],
            "type": "contour"
           }
          ],
          "contourcarpet": [
           {
            "colorbar": {
             "outlinewidth": 0,
             "ticks": ""
            },
            "type": "contourcarpet"
           }
          ],
          "heatmap": [
           {
            "colorbar": {
             "outlinewidth": 0,
             "ticks": ""
            },
            "colorscale": [
             [
              0,
              "#0d0887"
             ],
             [
              0.1111111111111111,
              "#46039f"
             ],
             [
              0.2222222222222222,
              "#7201a8"
             ],
             [
              0.3333333333333333,
              "#9c179e"
             ],
             [
              0.4444444444444444,
              "#bd3786"
             ],
             [
              0.5555555555555556,
              "#d8576b"
             ],
             [
              0.6666666666666666,
              "#ed7953"
             ],
             [
              0.7777777777777778,
              "#fb9f3a"
             ],
             [
              0.8888888888888888,
              "#fdca26"
             ],
             [
              1,
              "#f0f921"
             ]
            ],
            "type": "heatmap"
           }
          ],
          "heatmapgl": [
           {
            "colorbar": {
             "outlinewidth": 0,
             "ticks": ""
            },
            "colorscale": [
             [
              0,
              "#0d0887"
             ],
             [
              0.1111111111111111,
              "#46039f"
             ],
             [
              0.2222222222222222,
              "#7201a8"
             ],
             [
              0.3333333333333333,
              "#9c179e"
             ],
             [
              0.4444444444444444,
              "#bd3786"
             ],
             [
              0.5555555555555556,
              "#d8576b"
             ],
             [
              0.6666666666666666,
              "#ed7953"
             ],
             [
              0.7777777777777778,
              "#fb9f3a"
             ],
             [
              0.8888888888888888,
              "#fdca26"
             ],
             [
              1,
              "#f0f921"
             ]
            ],
            "type": "heatmapgl"
           }
          ],
          "histogram": [
           {
            "marker": {
             "pattern": {
              "fillmode": "overlay",
              "size": 10,
              "solidity": 0.2
             }
            },
            "type": "histogram"
           }
          ],
          "histogram2d": [
           {
            "colorbar": {
             "outlinewidth": 0,
             "ticks": ""
            },
            "colorscale": [
             [
              0,
              "#0d0887"
             ],
             [
              0.1111111111111111,
              "#46039f"
             ],
             [
              0.2222222222222222,
              "#7201a8"
             ],
             [
              0.3333333333333333,
              "#9c179e"
             ],
             [
              0.4444444444444444,
              "#bd3786"
             ],
             [
              0.5555555555555556,
              "#d8576b"
             ],
             [
              0.6666666666666666,
              "#ed7953"
             ],
             [
              0.7777777777777778,
              "#fb9f3a"
             ],
             [
              0.8888888888888888,
              "#fdca26"
             ],
             [
              1,
              "#f0f921"
             ]
            ],
            "type": "histogram2d"
           }
          ],
          "histogram2dcontour": [
           {
            "colorbar": {
             "outlinewidth": 0,
             "ticks": ""
            },
            "colorscale": [
             [
              0,
              "#0d0887"
             ],
             [
              0.1111111111111111,
              "#46039f"
             ],
             [
              0.2222222222222222,
              "#7201a8"
             ],
             [
              0.3333333333333333,
              "#9c179e"
             ],
             [
              0.4444444444444444,
              "#bd3786"
             ],
             [
              0.5555555555555556,
              "#d8576b"
             ],
             [
              0.6666666666666666,
              "#ed7953"
             ],
             [
              0.7777777777777778,
              "#fb9f3a"
             ],
             [
              0.8888888888888888,
              "#fdca26"
             ],
             [
              1,
              "#f0f921"
             ]
            ],
            "type": "histogram2dcontour"
           }
          ],
          "mesh3d": [
           {
            "colorbar": {
             "outlinewidth": 0,
             "ticks": ""
            },
            "type": "mesh3d"
           }
          ],
          "parcoords": [
           {
            "line": {
             "colorbar": {
              "outlinewidth": 0,
              "ticks": ""
             }
            },
            "type": "parcoords"
           }
          ],
          "pie": [
           {
            "automargin": true,
            "type": "pie"
           }
          ],
          "scatter": [
           {
            "fillpattern": {
             "fillmode": "overlay",
             "size": 10,
             "solidity": 0.2
            },
            "type": "scatter"
           }
          ],
          "scatter3d": [
           {
            "line": {
             "colorbar": {
              "outlinewidth": 0,
              "ticks": ""
             }
            },
            "marker": {
             "colorbar": {
              "outlinewidth": 0,
              "ticks": ""
             }
            },
            "type": "scatter3d"
           }
          ],
          "scattercarpet": [
           {
            "marker": {
             "colorbar": {
              "outlinewidth": 0,
              "ticks": ""
             }
            },
            "type": "scattercarpet"
           }
          ],
          "scattergeo": [
           {
            "marker": {
             "colorbar": {
              "outlinewidth": 0,
              "ticks": ""
             }
            },
            "type": "scattergeo"
           }
          ],
          "scattergl": [
           {
            "marker": {
             "colorbar": {
              "outlinewidth": 0,
              "ticks": ""
             }
            },
            "type": "scattergl"
           }
          ],
          "scattermapbox": [
           {
            "marker": {
             "colorbar": {
              "outlinewidth": 0,
              "ticks": ""
             }
            },
            "type": "scattermapbox"
           }
          ],
          "scatterpolar": [
           {
            "marker": {
             "colorbar": {
              "outlinewidth": 0,
              "ticks": ""
             }
            },
            "type": "scatterpolar"
           }
          ],
          "scatterpolargl": [
           {
            "marker": {
             "colorbar": {
              "outlinewidth": 0,
              "ticks": ""
             }
            },
            "type": "scatterpolargl"
           }
          ],
          "scatterternary": [
           {
            "marker": {
             "colorbar": {
              "outlinewidth": 0,
              "ticks": ""
             }
            },
            "type": "scatterternary"
           }
          ],
          "surface": [
           {
            "colorbar": {
             "outlinewidth": 0,
             "ticks": ""
            },
            "colorscale": [
             [
              0,
              "#0d0887"
             ],
             [
              0.1111111111111111,
              "#46039f"
             ],
             [
              0.2222222222222222,
              "#7201a8"
             ],
             [
              0.3333333333333333,
              "#9c179e"
             ],
             [
              0.4444444444444444,
              "#bd3786"
             ],
             [
              0.5555555555555556,
              "#d8576b"
             ],
             [
              0.6666666666666666,
              "#ed7953"
             ],
             [
              0.7777777777777778,
              "#fb9f3a"
             ],
             [
              0.8888888888888888,
              "#fdca26"
             ],
             [
              1,
              "#f0f921"
             ]
            ],
            "type": "surface"
           }
          ],
          "table": [
           {
            "cells": {
             "fill": {
              "color": "#EBF0F8"
             },
             "line": {
              "color": "white"
             }
            },
            "header": {
             "fill": {
              "color": "#C8D4E3"
             },
             "line": {
              "color": "white"
             }
            },
            "type": "table"
           }
          ]
         },
         "layout": {
          "annotationdefaults": {
           "arrowcolor": "#2a3f5f",
           "arrowhead": 0,
           "arrowwidth": 1
          },
          "autotypenumbers": "strict",
          "coloraxis": {
           "colorbar": {
            "outlinewidth": 0,
            "ticks": ""
           }
          },
          "colorscale": {
           "diverging": [
            [
             0,
             "#8e0152"
            ],
            [
             0.1,
             "#c51b7d"
            ],
            [
             0.2,
             "#de77ae"
            ],
            [
             0.3,
             "#f1b6da"
            ],
            [
             0.4,
             "#fde0ef"
            ],
            [
             0.5,
             "#f7f7f7"
            ],
            [
             0.6,
             "#e6f5d0"
            ],
            [
             0.7,
             "#b8e186"
            ],
            [
             0.8,
             "#7fbc41"
            ],
            [
             0.9,
             "#4d9221"
            ],
            [
             1,
             "#276419"
            ]
           ],
           "sequential": [
            [
             0,
             "#0d0887"
            ],
            [
             0.1111111111111111,
             "#46039f"
            ],
            [
             0.2222222222222222,
             "#7201a8"
            ],
            [
             0.3333333333333333,
             "#9c179e"
            ],
            [
             0.4444444444444444,
             "#bd3786"
            ],
            [
             0.5555555555555556,
             "#d8576b"
            ],
            [
             0.6666666666666666,
             "#ed7953"
            ],
            [
             0.7777777777777778,
             "#fb9f3a"
            ],
            [
             0.8888888888888888,
             "#fdca26"
            ],
            [
             1,
             "#f0f921"
            ]
           ],
           "sequentialminus": [
            [
             0,
             "#0d0887"
            ],
            [
             0.1111111111111111,
             "#46039f"
            ],
            [
             0.2222222222222222,
             "#7201a8"
            ],
            [
             0.3333333333333333,
             "#9c179e"
            ],
            [
             0.4444444444444444,
             "#bd3786"
            ],
            [
             0.5555555555555556,
             "#d8576b"
            ],
            [
             0.6666666666666666,
             "#ed7953"
            ],
            [
             0.7777777777777778,
             "#fb9f3a"
            ],
            [
             0.8888888888888888,
             "#fdca26"
            ],
            [
             1,
             "#f0f921"
            ]
           ]
          },
          "colorway": [
           "#636efa",
           "#EF553B",
           "#00cc96",
           "#ab63fa",
           "#FFA15A",
           "#19d3f3",
           "#FF6692",
           "#B6E880",
           "#FF97FF",
           "#FECB52"
          ],
          "font": {
           "color": "#2a3f5f"
          },
          "geo": {
           "bgcolor": "white",
           "lakecolor": "white",
           "landcolor": "#E5ECF6",
           "showlakes": true,
           "showland": true,
           "subunitcolor": "white"
          },
          "hoverlabel": {
           "align": "left"
          },
          "hovermode": "closest",
          "mapbox": {
           "style": "light"
          },
          "paper_bgcolor": "white",
          "plot_bgcolor": "#E5ECF6",
          "polar": {
           "angularaxis": {
            "gridcolor": "white",
            "linecolor": "white",
            "ticks": ""
           },
           "bgcolor": "#E5ECF6",
           "radialaxis": {
            "gridcolor": "white",
            "linecolor": "white",
            "ticks": ""
           }
          },
          "scene": {
           "xaxis": {
            "backgroundcolor": "#E5ECF6",
            "gridcolor": "white",
            "gridwidth": 2,
            "linecolor": "white",
            "showbackground": true,
            "ticks": "",
            "zerolinecolor": "white"
           },
           "yaxis": {
            "backgroundcolor": "#E5ECF6",
            "gridcolor": "white",
            "gridwidth": 2,
            "linecolor": "white",
            "showbackground": true,
            "ticks": "",
            "zerolinecolor": "white"
           },
           "zaxis": {
            "backgroundcolor": "#E5ECF6",
            "gridcolor": "white",
            "gridwidth": 2,
            "linecolor": "white",
            "showbackground": true,
            "ticks": "",
            "zerolinecolor": "white"
           }
          },
          "shapedefaults": {
           "line": {
            "color": "#2a3f5f"
           }
          },
          "ternary": {
           "aaxis": {
            "gridcolor": "white",
            "linecolor": "white",
            "ticks": ""
           },
           "baxis": {
            "gridcolor": "white",
            "linecolor": "white",
            "ticks": ""
           },
           "bgcolor": "#E5ECF6",
           "caxis": {
            "gridcolor": "white",
            "linecolor": "white",
            "ticks": ""
           }
          },
          "title": {
           "x": 0.05
          },
          "xaxis": {
           "automargin": true,
           "gridcolor": "white",
           "linecolor": "white",
           "ticks": "",
           "title": {
            "standoff": 15
           },
           "zerolinecolor": "white",
           "zerolinewidth": 2
          },
          "yaxis": {
           "automargin": true,
           "gridcolor": "white",
           "linecolor": "white",
           "ticks": "",
           "title": {
            "standoff": 15
           },
           "zerolinecolor": "white",
           "zerolinewidth": 2
          }
         }
        },
        "title": {
         "font": {
          "size": 20
         },
         "text": "Transaction flow by each day",
         "x": 0.5,
         "y": 0.95
        },
        "xaxis": {
         "anchor": "y",
         "domain": [
          0,
          1
         ],
         "showgrid": false,
         "title": {
          "text": "Day"
         }
        },
        "yaxis": {
         "anchor": "x",
         "domain": [
          0,
          1
         ],
         "showgrid": false,
         "title": {
          "text": "Transaction count"
         }
        }
       }
      }
     },
     "metadata": {},
     "output_type": "display_data"
    }
   ],
   "source": [
    "fig= px.bar(data_frame=df2, \n",
    " x=df2['day'].value_counts().index.tolist(),  \n",
    " y=df2['day'].value_counts().tolist(), \n",
    " color=df2['day'].value_counts().tolist(),  \n",
    " text=df2['day'].value_counts().tolist()  \n",
    " ) \n",
    "fig.update_traces(textposition='outside',marker_coloraxis=None) \n",
    "fig.update_xaxes(title='Day',showgrid=False)  \n",
    "fig.update_yaxes(title='Transaction count',showgrid=False) \n",
    "fig.update_layout( \n",
    " title=dict(text = \"Transaction flow by each day\",x=0.5,y=0.95), \n",
    " title_font_size=20, \n",
    "showlegend=False, \n",
    "height = 450, \n",
    " ) \n",
    "fig.show() \n",
    "\n",
    "\n"
   ]
  },
  {
   "cell_type": "code",
   "execution_count": 67,
   "metadata": {},
   "outputs": [
    {
     "data": {
      "text/plain": [
       "day\n",
       "4    516909.84\n",
       "0    507580.56\n",
       "2    402729.72\n",
       "3    331402.77\n",
       "1    329484.19\n",
       "5     93002.56\n",
       "6     82174.56\n",
       "Name: amount, dtype: float64"
      ]
     },
     "execution_count": 67,
     "metadata": {},
     "output_type": "execute_result"
    }
   ],
   "source": [
    "df2[['day','amount']].groupby(by='day').sum()[['amount']].sort_values('amount',ascending=False)['amount']#.apply(lambda x :  )"
   ]
  },
  {
   "cell_type": "code",
   "execution_count": 68,
   "metadata": {},
   "outputs": [
    {
     "data": {
      "application/vnd.plotly.v1+json": {
       "config": {
        "plotlyServerURL": "https://plot.ly"
       },
       "data": [
        {
         "alignmentgroup": "True",
         "hovertemplate": "variable=amount<br>day=%{x}<br>value=%{y}<br>text=%{text}<extra></extra>",
         "legendgroup": "amount",
         "marker": {
          "color": "#636efa",
          "pattern": {
           "shape": ""
          }
         },
         "name": "amount",
         "offsetgroup": "amount",
         "orientation": "v",
         "showlegend": true,
         "text": [
          "23.0%",
          "22.0%",
          "18.0%",
          "15.0%",
          "15.0%",
          "4.0%",
          "4.0%"
         ],
         "textposition": "outside",
         "type": "bar",
         "x": [
          4,
          0,
          2,
          3,
          1,
          5,
          6
         ],
         "xaxis": "x",
         "y": [
          516909.84,
          507580.56,
          402729.72,
          331402.77,
          329484.19,
          93002.56,
          82174.56
         ],
         "yaxis": "y"
        }
       ],
       "layout": {
        "barmode": "relative",
        "height": 450,
        "legend": {
         "title": {
          "text": "variable"
         },
         "tracegroupgap": 0
        },
        "margin": {
         "t": 60
        },
        "showlegend": false,
        "template": {
         "data": {
          "bar": [
           {
            "error_x": {
             "color": "#2a3f5f"
            },
            "error_y": {
             "color": "#2a3f5f"
            },
            "marker": {
             "line": {
              "color": "#E5ECF6",
              "width": 0.5
             },
             "pattern": {
              "fillmode": "overlay",
              "size": 10,
              "solidity": 0.2
             }
            },
            "type": "bar"
           }
          ],
          "barpolar": [
           {
            "marker": {
             "line": {
              "color": "#E5ECF6",
              "width": 0.5
             },
             "pattern": {
              "fillmode": "overlay",
              "size": 10,
              "solidity": 0.2
             }
            },
            "type": "barpolar"
           }
          ],
          "carpet": [
           {
            "aaxis": {
             "endlinecolor": "#2a3f5f",
             "gridcolor": "white",
             "linecolor": "white",
             "minorgridcolor": "white",
             "startlinecolor": "#2a3f5f"
            },
            "baxis": {
             "endlinecolor": "#2a3f5f",
             "gridcolor": "white",
             "linecolor": "white",
             "minorgridcolor": "white",
             "startlinecolor": "#2a3f5f"
            },
            "type": "carpet"
           }
          ],
          "choropleth": [
           {
            "colorbar": {
             "outlinewidth": 0,
             "ticks": ""
            },
            "type": "choropleth"
           }
          ],
          "contour": [
           {
            "colorbar": {
             "outlinewidth": 0,
             "ticks": ""
            },
            "colorscale": [
             [
              0,
              "#0d0887"
             ],
             [
              0.1111111111111111,
              "#46039f"
             ],
             [
              0.2222222222222222,
              "#7201a8"
             ],
             [
              0.3333333333333333,
              "#9c179e"
             ],
             [
              0.4444444444444444,
              "#bd3786"
             ],
             [
              0.5555555555555556,
              "#d8576b"
             ],
             [
              0.6666666666666666,
              "#ed7953"
             ],
             [
              0.7777777777777778,
              "#fb9f3a"
             ],
             [
              0.8888888888888888,
              "#fdca26"
             ],
             [
              1,
              "#f0f921"
             ]
            ],
            "type": "contour"
           }
          ],
          "contourcarpet": [
           {
            "colorbar": {
             "outlinewidth": 0,
             "ticks": ""
            },
            "type": "contourcarpet"
           }
          ],
          "heatmap": [
           {
            "colorbar": {
             "outlinewidth": 0,
             "ticks": ""
            },
            "colorscale": [
             [
              0,
              "#0d0887"
             ],
             [
              0.1111111111111111,
              "#46039f"
             ],
             [
              0.2222222222222222,
              "#7201a8"
             ],
             [
              0.3333333333333333,
              "#9c179e"
             ],
             [
              0.4444444444444444,
              "#bd3786"
             ],
             [
              0.5555555555555556,
              "#d8576b"
             ],
             [
              0.6666666666666666,
              "#ed7953"
             ],
             [
              0.7777777777777778,
              "#fb9f3a"
             ],
             [
              0.8888888888888888,
              "#fdca26"
             ],
             [
              1,
              "#f0f921"
             ]
            ],
            "type": "heatmap"
           }
          ],
          "heatmapgl": [
           {
            "colorbar": {
             "outlinewidth": 0,
             "ticks": ""
            },
            "colorscale": [
             [
              0,
              "#0d0887"
             ],
             [
              0.1111111111111111,
              "#46039f"
             ],
             [
              0.2222222222222222,
              "#7201a8"
             ],
             [
              0.3333333333333333,
              "#9c179e"
             ],
             [
              0.4444444444444444,
              "#bd3786"
             ],
             [
              0.5555555555555556,
              "#d8576b"
             ],
             [
              0.6666666666666666,
              "#ed7953"
             ],
             [
              0.7777777777777778,
              "#fb9f3a"
             ],
             [
              0.8888888888888888,
              "#fdca26"
             ],
             [
              1,
              "#f0f921"
             ]
            ],
            "type": "heatmapgl"
           }
          ],
          "histogram": [
           {
            "marker": {
             "pattern": {
              "fillmode": "overlay",
              "size": 10,
              "solidity": 0.2
             }
            },
            "type": "histogram"
           }
          ],
          "histogram2d": [
           {
            "colorbar": {
             "outlinewidth": 0,
             "ticks": ""
            },
            "colorscale": [
             [
              0,
              "#0d0887"
             ],
             [
              0.1111111111111111,
              "#46039f"
             ],
             [
              0.2222222222222222,
              "#7201a8"
             ],
             [
              0.3333333333333333,
              "#9c179e"
             ],
             [
              0.4444444444444444,
              "#bd3786"
             ],
             [
              0.5555555555555556,
              "#d8576b"
             ],
             [
              0.6666666666666666,
              "#ed7953"
             ],
             [
              0.7777777777777778,
              "#fb9f3a"
             ],
             [
              0.8888888888888888,
              "#fdca26"
             ],
             [
              1,
              "#f0f921"
             ]
            ],
            "type": "histogram2d"
           }
          ],
          "histogram2dcontour": [
           {
            "colorbar": {
             "outlinewidth": 0,
             "ticks": ""
            },
            "colorscale": [
             [
              0,
              "#0d0887"
             ],
             [
              0.1111111111111111,
              "#46039f"
             ],
             [
              0.2222222222222222,
              "#7201a8"
             ],
             [
              0.3333333333333333,
              "#9c179e"
             ],
             [
              0.4444444444444444,
              "#bd3786"
             ],
             [
              0.5555555555555556,
              "#d8576b"
             ],
             [
              0.6666666666666666,
              "#ed7953"
             ],
             [
              0.7777777777777778,
              "#fb9f3a"
             ],
             [
              0.8888888888888888,
              "#fdca26"
             ],
             [
              1,
              "#f0f921"
             ]
            ],
            "type": "histogram2dcontour"
           }
          ],
          "mesh3d": [
           {
            "colorbar": {
             "outlinewidth": 0,
             "ticks": ""
            },
            "type": "mesh3d"
           }
          ],
          "parcoords": [
           {
            "line": {
             "colorbar": {
              "outlinewidth": 0,
              "ticks": ""
             }
            },
            "type": "parcoords"
           }
          ],
          "pie": [
           {
            "automargin": true,
            "type": "pie"
           }
          ],
          "scatter": [
           {
            "fillpattern": {
             "fillmode": "overlay",
             "size": 10,
             "solidity": 0.2
            },
            "type": "scatter"
           }
          ],
          "scatter3d": [
           {
            "line": {
             "colorbar": {
              "outlinewidth": 0,
              "ticks": ""
             }
            },
            "marker": {
             "colorbar": {
              "outlinewidth": 0,
              "ticks": ""
             }
            },
            "type": "scatter3d"
           }
          ],
          "scattercarpet": [
           {
            "marker": {
             "colorbar": {
              "outlinewidth": 0,
              "ticks": ""
             }
            },
            "type": "scattercarpet"
           }
          ],
          "scattergeo": [
           {
            "marker": {
             "colorbar": {
              "outlinewidth": 0,
              "ticks": ""
             }
            },
            "type": "scattergeo"
           }
          ],
          "scattergl": [
           {
            "marker": {
             "colorbar": {
              "outlinewidth": 0,
              "ticks": ""
             }
            },
            "type": "scattergl"
           }
          ],
          "scattermapbox": [
           {
            "marker": {
             "colorbar": {
              "outlinewidth": 0,
              "ticks": ""
             }
            },
            "type": "scattermapbox"
           }
          ],
          "scatterpolar": [
           {
            "marker": {
             "colorbar": {
              "outlinewidth": 0,
              "ticks": ""
             }
            },
            "type": "scatterpolar"
           }
          ],
          "scatterpolargl": [
           {
            "marker": {
             "colorbar": {
              "outlinewidth": 0,
              "ticks": ""
             }
            },
            "type": "scatterpolargl"
           }
          ],
          "scatterternary": [
           {
            "marker": {
             "colorbar": {
              "outlinewidth": 0,
              "ticks": ""
             }
            },
            "type": "scatterternary"
           }
          ],
          "surface": [
           {
            "colorbar": {
             "outlinewidth": 0,
             "ticks": ""
            },
            "colorscale": [
             [
              0,
              "#0d0887"
             ],
             [
              0.1111111111111111,
              "#46039f"
             ],
             [
              0.2222222222222222,
              "#7201a8"
             ],
             [
              0.3333333333333333,
              "#9c179e"
             ],
             [
              0.4444444444444444,
              "#bd3786"
             ],
             [
              0.5555555555555556,
              "#d8576b"
             ],
             [
              0.6666666666666666,
              "#ed7953"
             ],
             [
              0.7777777777777778,
              "#fb9f3a"
             ],
             [
              0.8888888888888888,
              "#fdca26"
             ],
             [
              1,
              "#f0f921"
             ]
            ],
            "type": "surface"
           }
          ],
          "table": [
           {
            "cells": {
             "fill": {
              "color": "#EBF0F8"
             },
             "line": {
              "color": "white"
             }
            },
            "header": {
             "fill": {
              "color": "#C8D4E3"
             },
             "line": {
              "color": "white"
             }
            },
            "type": "table"
           }
          ]
         },
         "layout": {
          "annotationdefaults": {
           "arrowcolor": "#2a3f5f",
           "arrowhead": 0,
           "arrowwidth": 1
          },
          "autotypenumbers": "strict",
          "coloraxis": {
           "colorbar": {
            "outlinewidth": 0,
            "ticks": ""
           }
          },
          "colorscale": {
           "diverging": [
            [
             0,
             "#8e0152"
            ],
            [
             0.1,
             "#c51b7d"
            ],
            [
             0.2,
             "#de77ae"
            ],
            [
             0.3,
             "#f1b6da"
            ],
            [
             0.4,
             "#fde0ef"
            ],
            [
             0.5,
             "#f7f7f7"
            ],
            [
             0.6,
             "#e6f5d0"
            ],
            [
             0.7,
             "#b8e186"
            ],
            [
             0.8,
             "#7fbc41"
            ],
            [
             0.9,
             "#4d9221"
            ],
            [
             1,
             "#276419"
            ]
           ],
           "sequential": [
            [
             0,
             "#0d0887"
            ],
            [
             0.1111111111111111,
             "#46039f"
            ],
            [
             0.2222222222222222,
             "#7201a8"
            ],
            [
             0.3333333333333333,
             "#9c179e"
            ],
            [
             0.4444444444444444,
             "#bd3786"
            ],
            [
             0.5555555555555556,
             "#d8576b"
            ],
            [
             0.6666666666666666,
             "#ed7953"
            ],
            [
             0.7777777777777778,
             "#fb9f3a"
            ],
            [
             0.8888888888888888,
             "#fdca26"
            ],
            [
             1,
             "#f0f921"
            ]
           ],
           "sequentialminus": [
            [
             0,
             "#0d0887"
            ],
            [
             0.1111111111111111,
             "#46039f"
            ],
            [
             0.2222222222222222,
             "#7201a8"
            ],
            [
             0.3333333333333333,
             "#9c179e"
            ],
            [
             0.4444444444444444,
             "#bd3786"
            ],
            [
             0.5555555555555556,
             "#d8576b"
            ],
            [
             0.6666666666666666,
             "#ed7953"
            ],
            [
             0.7777777777777778,
             "#fb9f3a"
            ],
            [
             0.8888888888888888,
             "#fdca26"
            ],
            [
             1,
             "#f0f921"
            ]
           ]
          },
          "colorway": [
           "#636efa",
           "#EF553B",
           "#00cc96",
           "#ab63fa",
           "#FFA15A",
           "#19d3f3",
           "#FF6692",
           "#B6E880",
           "#FF97FF",
           "#FECB52"
          ],
          "font": {
           "color": "#2a3f5f"
          },
          "geo": {
           "bgcolor": "white",
           "lakecolor": "white",
           "landcolor": "#E5ECF6",
           "showlakes": true,
           "showland": true,
           "subunitcolor": "white"
          },
          "hoverlabel": {
           "align": "left"
          },
          "hovermode": "closest",
          "mapbox": {
           "style": "light"
          },
          "paper_bgcolor": "white",
          "plot_bgcolor": "#E5ECF6",
          "polar": {
           "angularaxis": {
            "gridcolor": "white",
            "linecolor": "white",
            "ticks": ""
           },
           "bgcolor": "#E5ECF6",
           "radialaxis": {
            "gridcolor": "white",
            "linecolor": "white",
            "ticks": ""
           }
          },
          "scene": {
           "xaxis": {
            "backgroundcolor": "#E5ECF6",
            "gridcolor": "white",
            "gridwidth": 2,
            "linecolor": "white",
            "showbackground": true,
            "ticks": "",
            "zerolinecolor": "white"
           },
           "yaxis": {
            "backgroundcolor": "#E5ECF6",
            "gridcolor": "white",
            "gridwidth": 2,
            "linecolor": "white",
            "showbackground": true,
            "ticks": "",
            "zerolinecolor": "white"
           },
           "zaxis": {
            "backgroundcolor": "#E5ECF6",
            "gridcolor": "white",
            "gridwidth": 2,
            "linecolor": "white",
            "showbackground": true,
            "ticks": "",
            "zerolinecolor": "white"
           }
          },
          "shapedefaults": {
           "line": {
            "color": "#2a3f5f"
           }
          },
          "ternary": {
           "aaxis": {
            "gridcolor": "white",
            "linecolor": "white",
            "ticks": ""
           },
           "baxis": {
            "gridcolor": "white",
            "linecolor": "white",
            "ticks": ""
           },
           "bgcolor": "#E5ECF6",
           "caxis": {
            "gridcolor": "white",
            "linecolor": "white",
            "ticks": ""
           }
          },
          "title": {
           "x": 0.05
          },
          "xaxis": {
           "automargin": true,
           "gridcolor": "white",
           "linecolor": "white",
           "ticks": "",
           "title": {
            "standoff": 15
           },
           "zerolinecolor": "white",
           "zerolinewidth": 2
          },
          "yaxis": {
           "automargin": true,
           "gridcolor": "white",
           "linecolor": "white",
           "ticks": "",
           "title": {
            "standoff": 15
           },
           "zerolinecolor": "white",
           "zerolinewidth": 2
          }
         }
        },
        "title": {
         "font": {
          "size": 20
         },
         "text": "Transaction amount by each day",
         "x": 0.5,
         "y": 0.95
        },
        "xaxis": {
         "anchor": "y",
         "domain": [
          0,
          1
         ],
         "showgrid": false,
         "title": {
          "text": "Day"
         }
        },
        "yaxis": {
         "anchor": "x",
         "domain": [
          0,
          1
         ],
         "showgrid": false,
         "title": {
          "text": "Transaction Amount"
         }
        }
       }
      }
     },
     "metadata": {},
     "output_type": "display_data"
    }
   ],
   "source": [
    "# df2= df[['day','amount']]\n",
    "    \n",
    "fig1= px.bar(data_frame=df2.groupby(by='day').sum()[['amount']].sort_values('amount',ascending=False),  \n",
    "             text=df2.groupby(by='day').sum()[['amount']].sort_values('amount',ascending=False)['amount'].apply(lambda x : str(round(100*x/df2.amount.sum(),0)) + '%'  ) )\n",
    "\n",
    "fig1.update_traces(textposition='outside') \n",
    "fig1.update_xaxes(title='Day',showgrid=False)  \n",
    "fig1.update_yaxes(title='Transaction Amount',showgrid=False) \n",
    "fig1.update_layout( \n",
    " title=dict(text = \"Transaction amount by each day\",x=0.5,y=0.95), \n",
    " title_font_size=20, \n",
    "showlegend=False, \n",
    "height = 450, \n",
    " ) \n",
    "fig1.show()"
   ]
  },
  {
   "cell_type": "code",
   "execution_count": null,
   "metadata": {},
   "outputs": [],
   "source": []
  },
  {
   "cell_type": "code",
   "execution_count": 69,
   "metadata": {},
   "outputs": [
    {
     "data": {
      "text/html": [
       "<div>\n",
       "<style scoped>\n",
       "    .dataframe tbody tr th:only-of-type {\n",
       "        vertical-align: middle;\n",
       "    }\n",
       "\n",
       "    .dataframe tbody tr th {\n",
       "        vertical-align: top;\n",
       "    }\n",
       "\n",
       "    .dataframe thead th {\n",
       "        text-align: right;\n",
       "    }\n",
       "</style>\n",
       "<table border=\"1\" class=\"dataframe\">\n",
       "  <thead>\n",
       "    <tr style=\"text-align: right;\">\n",
       "      <th></th>\n",
       "      <th>day</th>\n",
       "      <th>gender</th>\n",
       "      <th>amount</th>\n",
       "    </tr>\n",
       "  </thead>\n",
       "  <tbody>\n",
       "    <tr>\n",
       "      <th>0</th>\n",
       "      <td>Monday</td>\n",
       "      <td>F</td>\n",
       "      <td>0.0</td>\n",
       "    </tr>\n",
       "    <tr>\n",
       "      <th>1</th>\n",
       "      <td>Monday</td>\n",
       "      <td>M</td>\n",
       "      <td>0.0</td>\n",
       "    </tr>\n",
       "    <tr>\n",
       "      <th>2</th>\n",
       "      <td>Tuesday</td>\n",
       "      <td>F</td>\n",
       "      <td>0.0</td>\n",
       "    </tr>\n",
       "    <tr>\n",
       "      <th>3</th>\n",
       "      <td>Tuesday</td>\n",
       "      <td>M</td>\n",
       "      <td>0.0</td>\n",
       "    </tr>\n",
       "    <tr>\n",
       "      <th>4</th>\n",
       "      <td>Wednesday</td>\n",
       "      <td>F</td>\n",
       "      <td>0.0</td>\n",
       "    </tr>\n",
       "    <tr>\n",
       "      <th>5</th>\n",
       "      <td>Wednesday</td>\n",
       "      <td>M</td>\n",
       "      <td>0.0</td>\n",
       "    </tr>\n",
       "    <tr>\n",
       "      <th>6</th>\n",
       "      <td>Thursday</td>\n",
       "      <td>F</td>\n",
       "      <td>0.0</td>\n",
       "    </tr>\n",
       "    <tr>\n",
       "      <th>7</th>\n",
       "      <td>Thursday</td>\n",
       "      <td>M</td>\n",
       "      <td>0.0</td>\n",
       "    </tr>\n",
       "    <tr>\n",
       "      <th>8</th>\n",
       "      <td>Friday</td>\n",
       "      <td>F</td>\n",
       "      <td>0.0</td>\n",
       "    </tr>\n",
       "    <tr>\n",
       "      <th>9</th>\n",
       "      <td>Friday</td>\n",
       "      <td>M</td>\n",
       "      <td>0.0</td>\n",
       "    </tr>\n",
       "    <tr>\n",
       "      <th>10</th>\n",
       "      <td>Saturday</td>\n",
       "      <td>F</td>\n",
       "      <td>0.0</td>\n",
       "    </tr>\n",
       "    <tr>\n",
       "      <th>11</th>\n",
       "      <td>Saturday</td>\n",
       "      <td>M</td>\n",
       "      <td>0.0</td>\n",
       "    </tr>\n",
       "    <tr>\n",
       "      <th>12</th>\n",
       "      <td>Sunday</td>\n",
       "      <td>F</td>\n",
       "      <td>0.0</td>\n",
       "    </tr>\n",
       "    <tr>\n",
       "      <th>13</th>\n",
       "      <td>Sunday</td>\n",
       "      <td>M</td>\n",
       "      <td>0.0</td>\n",
       "    </tr>\n",
       "  </tbody>\n",
       "</table>\n",
       "</div>"
      ],
      "text/plain": [
       "          day gender  amount\n",
       "0      Monday      F     0.0\n",
       "1      Monday      M     0.0\n",
       "2     Tuesday      F     0.0\n",
       "3     Tuesday      M     0.0\n",
       "4   Wednesday      F     0.0\n",
       "5   Wednesday      M     0.0\n",
       "6    Thursday      F     0.0\n",
       "7    Thursday      M     0.0\n",
       "8      Friday      F     0.0\n",
       "9      Friday      M     0.0\n",
       "10   Saturday      F     0.0\n",
       "11   Saturday      M     0.0\n",
       "12     Sunday      F     0.0\n",
       "13     Sunday      M     0.0"
      ]
     },
     "execution_count": 69,
     "metadata": {},
     "output_type": "execute_result"
    }
   ],
   "source": [
    "df1_grp=df2.groupby(by=['day','gender']).sum()[['amount']].reset_index()\n",
    "order = ['Monday','Tuesday', 'Wednesday','Thursday','Friday','Saturday','Sunday'] \n",
    "df1_grp['day']=pd.Categorical(df1_grp['day'],order)  \n",
    "df1_grp= df1_grp.groupby(by=['day','gender']).sum().reset_index() \n",
    "df1_grp"
   ]
  },
  {
   "cell_type": "code",
   "execution_count": 70,
   "metadata": {},
   "outputs": [
    {
     "data": {
      "application/vnd.plotly.v1+json": {
       "config": {
        "plotlyServerURL": "https://plot.ly"
       },
       "data": [
        {
         "alignmentgroup": "True",
         "hovertemplate": "x=%{x}<br>y=%{y}<br>text=%{text}<br>color=%{marker.color}<extra></extra>",
         "legendgroup": "",
         "marker": {
          "color": [
           4087,
           4013,
           3943
          ],
          "coloraxis": "coloraxis",
          "pattern": {
           "shape": ""
          }
         },
         "name": "",
         "offsetgroup": "",
         "orientation": "v",
         "showlegend": false,
         "text": [
          4087,
          4013,
          3943
         ],
         "textposition": "outside",
         "type": "bar",
         "x": [
          10,
          9,
          8
         ],
         "xaxis": "x",
         "y": [
          4087,
          4013,
          3943
         ],
         "yaxis": "y"
        }
       ],
       "layout": {
        "barmode": "relative",
        "coloraxis": {
         "colorbar": {
          "title": {
           "text": "color"
          }
         },
         "colorscale": [
          [
           0,
           "#0d0887"
          ],
          [
           0.1111111111111111,
           "#46039f"
          ],
          [
           0.2222222222222222,
           "#7201a8"
          ],
          [
           0.3333333333333333,
           "#9c179e"
          ],
          [
           0.4444444444444444,
           "#bd3786"
          ],
          [
           0.5555555555555556,
           "#d8576b"
          ],
          [
           0.6666666666666666,
           "#ed7953"
          ],
          [
           0.7777777777777778,
           "#fb9f3a"
          ],
          [
           0.8888888888888888,
           "#fdca26"
          ],
          [
           1,
           "#f0f921"
          ]
         ]
        },
        "height": 450,
        "legend": {
         "tracegroupgap": 0
        },
        "margin": {
         "t": 60
        },
        "template": {
         "data": {
          "bar": [
           {
            "error_x": {
             "color": "#2a3f5f"
            },
            "error_y": {
             "color": "#2a3f5f"
            },
            "marker": {
             "line": {
              "color": "#E5ECF6",
              "width": 0.5
             },
             "pattern": {
              "fillmode": "overlay",
              "size": 10,
              "solidity": 0.2
             }
            },
            "type": "bar"
           }
          ],
          "barpolar": [
           {
            "marker": {
             "line": {
              "color": "#E5ECF6",
              "width": 0.5
             },
             "pattern": {
              "fillmode": "overlay",
              "size": 10,
              "solidity": 0.2
             }
            },
            "type": "barpolar"
           }
          ],
          "carpet": [
           {
            "aaxis": {
             "endlinecolor": "#2a3f5f",
             "gridcolor": "white",
             "linecolor": "white",
             "minorgridcolor": "white",
             "startlinecolor": "#2a3f5f"
            },
            "baxis": {
             "endlinecolor": "#2a3f5f",
             "gridcolor": "white",
             "linecolor": "white",
             "minorgridcolor": "white",
             "startlinecolor": "#2a3f5f"
            },
            "type": "carpet"
           }
          ],
          "choropleth": [
           {
            "colorbar": {
             "outlinewidth": 0,
             "ticks": ""
            },
            "type": "choropleth"
           }
          ],
          "contour": [
           {
            "colorbar": {
             "outlinewidth": 0,
             "ticks": ""
            },
            "colorscale": [
             [
              0,
              "#0d0887"
             ],
             [
              0.1111111111111111,
              "#46039f"
             ],
             [
              0.2222222222222222,
              "#7201a8"
             ],
             [
              0.3333333333333333,
              "#9c179e"
             ],
             [
              0.4444444444444444,
              "#bd3786"
             ],
             [
              0.5555555555555556,
              "#d8576b"
             ],
             [
              0.6666666666666666,
              "#ed7953"
             ],
             [
              0.7777777777777778,
              "#fb9f3a"
             ],
             [
              0.8888888888888888,
              "#fdca26"
             ],
             [
              1,
              "#f0f921"
             ]
            ],
            "type": "contour"
           }
          ],
          "contourcarpet": [
           {
            "colorbar": {
             "outlinewidth": 0,
             "ticks": ""
            },
            "type": "contourcarpet"
           }
          ],
          "heatmap": [
           {
            "colorbar": {
             "outlinewidth": 0,
             "ticks": ""
            },
            "colorscale": [
             [
              0,
              "#0d0887"
             ],
             [
              0.1111111111111111,
              "#46039f"
             ],
             [
              0.2222222222222222,
              "#7201a8"
             ],
             [
              0.3333333333333333,
              "#9c179e"
             ],
             [
              0.4444444444444444,
              "#bd3786"
             ],
             [
              0.5555555555555556,
              "#d8576b"
             ],
             [
              0.6666666666666666,
              "#ed7953"
             ],
             [
              0.7777777777777778,
              "#fb9f3a"
             ],
             [
              0.8888888888888888,
              "#fdca26"
             ],
             [
              1,
              "#f0f921"
             ]
            ],
            "type": "heatmap"
           }
          ],
          "heatmapgl": [
           {
            "colorbar": {
             "outlinewidth": 0,
             "ticks": ""
            },
            "colorscale": [
             [
              0,
              "#0d0887"
             ],
             [
              0.1111111111111111,
              "#46039f"
             ],
             [
              0.2222222222222222,
              "#7201a8"
             ],
             [
              0.3333333333333333,
              "#9c179e"
             ],
             [
              0.4444444444444444,
              "#bd3786"
             ],
             [
              0.5555555555555556,
              "#d8576b"
             ],
             [
              0.6666666666666666,
              "#ed7953"
             ],
             [
              0.7777777777777778,
              "#fb9f3a"
             ],
             [
              0.8888888888888888,
              "#fdca26"
             ],
             [
              1,
              "#f0f921"
             ]
            ],
            "type": "heatmapgl"
           }
          ],
          "histogram": [
           {
            "marker": {
             "pattern": {
              "fillmode": "overlay",
              "size": 10,
              "solidity": 0.2
             }
            },
            "type": "histogram"
           }
          ],
          "histogram2d": [
           {
            "colorbar": {
             "outlinewidth": 0,
             "ticks": ""
            },
            "colorscale": [
             [
              0,
              "#0d0887"
             ],
             [
              0.1111111111111111,
              "#46039f"
             ],
             [
              0.2222222222222222,
              "#7201a8"
             ],
             [
              0.3333333333333333,
              "#9c179e"
             ],
             [
              0.4444444444444444,
              "#bd3786"
             ],
             [
              0.5555555555555556,
              "#d8576b"
             ],
             [
              0.6666666666666666,
              "#ed7953"
             ],
             [
              0.7777777777777778,
              "#fb9f3a"
             ],
             [
              0.8888888888888888,
              "#fdca26"
             ],
             [
              1,
              "#f0f921"
             ]
            ],
            "type": "histogram2d"
           }
          ],
          "histogram2dcontour": [
           {
            "colorbar": {
             "outlinewidth": 0,
             "ticks": ""
            },
            "colorscale": [
             [
              0,
              "#0d0887"
             ],
             [
              0.1111111111111111,
              "#46039f"
             ],
             [
              0.2222222222222222,
              "#7201a8"
             ],
             [
              0.3333333333333333,
              "#9c179e"
             ],
             [
              0.4444444444444444,
              "#bd3786"
             ],
             [
              0.5555555555555556,
              "#d8576b"
             ],
             [
              0.6666666666666666,
              "#ed7953"
             ],
             [
              0.7777777777777778,
              "#fb9f3a"
             ],
             [
              0.8888888888888888,
              "#fdca26"
             ],
             [
              1,
              "#f0f921"
             ]
            ],
            "type": "histogram2dcontour"
           }
          ],
          "mesh3d": [
           {
            "colorbar": {
             "outlinewidth": 0,
             "ticks": ""
            },
            "type": "mesh3d"
           }
          ],
          "parcoords": [
           {
            "line": {
             "colorbar": {
              "outlinewidth": 0,
              "ticks": ""
             }
            },
            "type": "parcoords"
           }
          ],
          "pie": [
           {
            "automargin": true,
            "type": "pie"
           }
          ],
          "scatter": [
           {
            "fillpattern": {
             "fillmode": "overlay",
             "size": 10,
             "solidity": 0.2
            },
            "type": "scatter"
           }
          ],
          "scatter3d": [
           {
            "line": {
             "colorbar": {
              "outlinewidth": 0,
              "ticks": ""
             }
            },
            "marker": {
             "colorbar": {
              "outlinewidth": 0,
              "ticks": ""
             }
            },
            "type": "scatter3d"
           }
          ],
          "scattercarpet": [
           {
            "marker": {
             "colorbar": {
              "outlinewidth": 0,
              "ticks": ""
             }
            },
            "type": "scattercarpet"
           }
          ],
          "scattergeo": [
           {
            "marker": {
             "colorbar": {
              "outlinewidth": 0,
              "ticks": ""
             }
            },
            "type": "scattergeo"
           }
          ],
          "scattergl": [
           {
            "marker": {
             "colorbar": {
              "outlinewidth": 0,
              "ticks": ""
             }
            },
            "type": "scattergl"
           }
          ],
          "scattermapbox": [
           {
            "marker": {
             "colorbar": {
              "outlinewidth": 0,
              "ticks": ""
             }
            },
            "type": "scattermapbox"
           }
          ],
          "scatterpolar": [
           {
            "marker": {
             "colorbar": {
              "outlinewidth": 0,
              "ticks": ""
             }
            },
            "type": "scatterpolar"
           }
          ],
          "scatterpolargl": [
           {
            "marker": {
             "colorbar": {
              "outlinewidth": 0,
              "ticks": ""
             }
            },
            "type": "scatterpolargl"
           }
          ],
          "scatterternary": [
           {
            "marker": {
             "colorbar": {
              "outlinewidth": 0,
              "ticks": ""
             }
            },
            "type": "scatterternary"
           }
          ],
          "surface": [
           {
            "colorbar": {
             "outlinewidth": 0,
             "ticks": ""
            },
            "colorscale": [
             [
              0,
              "#0d0887"
             ],
             [
              0.1111111111111111,
              "#46039f"
             ],
             [
              0.2222222222222222,
              "#7201a8"
             ],
             [
              0.3333333333333333,
              "#9c179e"
             ],
             [
              0.4444444444444444,
              "#bd3786"
             ],
             [
              0.5555555555555556,
              "#d8576b"
             ],
             [
              0.6666666666666666,
              "#ed7953"
             ],
             [
              0.7777777777777778,
              "#fb9f3a"
             ],
             [
              0.8888888888888888,
              "#fdca26"
             ],
             [
              1,
              "#f0f921"
             ]
            ],
            "type": "surface"
           }
          ],
          "table": [
           {
            "cells": {
             "fill": {
              "color": "#EBF0F8"
             },
             "line": {
              "color": "white"
             }
            },
            "header": {
             "fill": {
              "color": "#C8D4E3"
             },
             "line": {
              "color": "white"
             }
            },
            "type": "table"
           }
          ]
         },
         "layout": {
          "annotationdefaults": {
           "arrowcolor": "#2a3f5f",
           "arrowhead": 0,
           "arrowwidth": 1
          },
          "autotypenumbers": "strict",
          "coloraxis": {
           "colorbar": {
            "outlinewidth": 0,
            "ticks": ""
           }
          },
          "colorscale": {
           "diverging": [
            [
             0,
             "#8e0152"
            ],
            [
             0.1,
             "#c51b7d"
            ],
            [
             0.2,
             "#de77ae"
            ],
            [
             0.3,
             "#f1b6da"
            ],
            [
             0.4,
             "#fde0ef"
            ],
            [
             0.5,
             "#f7f7f7"
            ],
            [
             0.6,
             "#e6f5d0"
            ],
            [
             0.7,
             "#b8e186"
            ],
            [
             0.8,
             "#7fbc41"
            ],
            [
             0.9,
             "#4d9221"
            ],
            [
             1,
             "#276419"
            ]
           ],
           "sequential": [
            [
             0,
             "#0d0887"
            ],
            [
             0.1111111111111111,
             "#46039f"
            ],
            [
             0.2222222222222222,
             "#7201a8"
            ],
            [
             0.3333333333333333,
             "#9c179e"
            ],
            [
             0.4444444444444444,
             "#bd3786"
            ],
            [
             0.5555555555555556,
             "#d8576b"
            ],
            [
             0.6666666666666666,
             "#ed7953"
            ],
            [
             0.7777777777777778,
             "#fb9f3a"
            ],
            [
             0.8888888888888888,
             "#fdca26"
            ],
            [
             1,
             "#f0f921"
            ]
           ],
           "sequentialminus": [
            [
             0,
             "#0d0887"
            ],
            [
             0.1111111111111111,
             "#46039f"
            ],
            [
             0.2222222222222222,
             "#7201a8"
            ],
            [
             0.3333333333333333,
             "#9c179e"
            ],
            [
             0.4444444444444444,
             "#bd3786"
            ],
            [
             0.5555555555555556,
             "#d8576b"
            ],
            [
             0.6666666666666666,
             "#ed7953"
            ],
            [
             0.7777777777777778,
             "#fb9f3a"
            ],
            [
             0.8888888888888888,
             "#fdca26"
            ],
            [
             1,
             "#f0f921"
            ]
           ]
          },
          "colorway": [
           "#636efa",
           "#EF553B",
           "#00cc96",
           "#ab63fa",
           "#FFA15A",
           "#19d3f3",
           "#FF6692",
           "#B6E880",
           "#FF97FF",
           "#FECB52"
          ],
          "font": {
           "color": "#2a3f5f"
          },
          "geo": {
           "bgcolor": "white",
           "lakecolor": "white",
           "landcolor": "#E5ECF6",
           "showlakes": true,
           "showland": true,
           "subunitcolor": "white"
          },
          "hoverlabel": {
           "align": "left"
          },
          "hovermode": "closest",
          "mapbox": {
           "style": "light"
          },
          "paper_bgcolor": "white",
          "plot_bgcolor": "#E5ECF6",
          "polar": {
           "angularaxis": {
            "gridcolor": "white",
            "linecolor": "white",
            "ticks": ""
           },
           "bgcolor": "#E5ECF6",
           "radialaxis": {
            "gridcolor": "white",
            "linecolor": "white",
            "ticks": ""
           }
          },
          "scene": {
           "xaxis": {
            "backgroundcolor": "#E5ECF6",
            "gridcolor": "white",
            "gridwidth": 2,
            "linecolor": "white",
            "showbackground": true,
            "ticks": "",
            "zerolinecolor": "white"
           },
           "yaxis": {
            "backgroundcolor": "#E5ECF6",
            "gridcolor": "white",
            "gridwidth": 2,
            "linecolor": "white",
            "showbackground": true,
            "ticks": "",
            "zerolinecolor": "white"
           },
           "zaxis": {
            "backgroundcolor": "#E5ECF6",
            "gridcolor": "white",
            "gridwidth": 2,
            "linecolor": "white",
            "showbackground": true,
            "ticks": "",
            "zerolinecolor": "white"
           }
          },
          "shapedefaults": {
           "line": {
            "color": "#2a3f5f"
           }
          },
          "ternary": {
           "aaxis": {
            "gridcolor": "white",
            "linecolor": "white",
            "ticks": ""
           },
           "baxis": {
            "gridcolor": "white",
            "linecolor": "white",
            "ticks": ""
           },
           "bgcolor": "#E5ECF6",
           "caxis": {
            "gridcolor": "white",
            "linecolor": "white",
            "ticks": ""
           }
          },
          "title": {
           "x": 0.05
          },
          "xaxis": {
           "automargin": true,
           "gridcolor": "white",
           "linecolor": "white",
           "ticks": "",
           "title": {
            "standoff": 15
           },
           "zerolinecolor": "white",
           "zerolinewidth": 2
          },
          "yaxis": {
           "automargin": true,
           "gridcolor": "white",
           "linecolor": "white",
           "ticks": "",
           "title": {
            "standoff": 15
           },
           "zerolinecolor": "white",
           "zerolinewidth": 2
          }
         }
        },
        "title": {
         "font": {
          "size": 20
         },
         "text": "Transaction flow by each day",
         "x": 0.5,
         "y": 0.95
        },
        "width": 700,
        "xaxis": {
         "anchor": "y",
         "domain": [
          0,
          1
         ],
         "showgrid": false,
         "title": {
          "text": "Month"
         }
        },
        "yaxis": {
         "anchor": "x",
         "domain": [
          0,
          1
         ],
         "showgrid": false,
         "title": {
          "text": "Transaction Count"
         }
        }
       }
      }
     },
     "metadata": {},
     "output_type": "display_data"
    }
   ],
   "source": [
    "fig= px.bar(data_frame=df2, \n",
    " x=df2['month'].value_counts().index.tolist(), \n",
    " y=df2['month'].value_counts().tolist(), \n",
    " color=df2['month'].value_counts().tolist(), \n",
    " text=df2['month'].value_counts().tolist() \n",
    " ) \n",
    "fig.update_traces(textposition='outside') \n",
    "fig.update_xaxes(title='Month',showgrid=False)  \n",
    "fig.update_yaxes(title='Transaction Count',showgrid=False)\n",
    "\n",
    "\n",
    "fig= px.bar(data_frame=df2, \n",
    " x=df2['month'].value_counts().index.tolist(), \n",
    " y=df2['month'].value_counts().tolist(), \n",
    " color=df2['month'].value_counts().tolist(), \n",
    " text=df2['month'].value_counts().tolist() \n",
    " ) \n",
    "fig.update_traces(textposition='outside') \n",
    "fig.update_xaxes(title='Month',showgrid=False)  \n",
    "fig.update_yaxes(title='Transaction Count',showgrid=False) \n",
    "fig.update_layout( \n",
    " title=dict(text = \"Transaction flow by each day\",x=0.5,y=0.95),  title_font_size=20, \n",
    "width = 700, \n",
    " height = 450, \n",
    " ) \n",
    "fig.show() \n"
   ]
  },
  {
   "cell_type": "code",
   "execution_count": 71,
   "metadata": {},
   "outputs": [
    {
     "data": {
      "application/vnd.plotly.v1+json": {
       "config": {
        "plotlyServerURL": "https://plot.ly"
       },
       "data": [
        {
         "alignmentgroup": "True",
         "hovertemplate": "customer_id=%{x}<br>value=%{y}<br>text=%{text}<br>color=%{marker.color}<extra></extra>",
         "legendgroup": "",
         "marker": {
          "color": [
           45409.16,
           42688.3,
           40215.54,
           37943.78999999999,
           36786.13,
           36639.41,
           36588.25,
           36543.61,
           36050.72,
           35832.97
          ],
          "pattern": {
           "shape": ""
          }
         },
         "name": "",
         "offsetgroup": "",
         "orientation": "v",
         "showlegend": false,
         "text": [
          45409,
          42688,
          40216,
          37944,
          36786,
          36639,
          36588,
          36544,
          36051,
          35833
         ],
         "textposition": "outside",
         "type": "bar",
         "x": [
          "CUS-2738291516",
          "CUS-3142625864",
          "CUS-1816693151",
          "CUS-2155701614",
          "CUS-261674136",
          "CUS-883482547",
          "CUS-4142663097",
          "CUS-527400765",
          "CUS-1196156254",
          "CUS-2031327464"
         ],
         "xaxis": "x",
         "y": [
          45409.16,
          42688.3,
          40215.54,
          37943.78999999999,
          36786.13,
          36639.41,
          36588.25,
          36543.61,
          36050.72,
          35832.97
         ],
         "yaxis": "y"
        }
       ],
       "layout": {
        "barmode": "relative",
        "coloraxis": {
         "colorbar": {
          "title": {
           "text": "color"
          }
         },
         "colorscale": [
          [
           0,
           "#0d0887"
          ],
          [
           0.1111111111111111,
           "#46039f"
          ],
          [
           0.2222222222222222,
           "#7201a8"
          ],
          [
           0.3333333333333333,
           "#9c179e"
          ],
          [
           0.4444444444444444,
           "#bd3786"
          ],
          [
           0.5555555555555556,
           "#d8576b"
          ],
          [
           0.6666666666666666,
           "#ed7953"
          ],
          [
           0.7777777777777778,
           "#fb9f3a"
          ],
          [
           0.8888888888888888,
           "#fdca26"
          ],
          [
           1,
           "#f0f921"
          ]
         ]
        },
        "height": 500,
        "legend": {
         "tracegroupgap": 0
        },
        "margin": {
         "t": 60
        },
        "showlegend": false,
        "template": {
         "data": {
          "bar": [
           {
            "error_x": {
             "color": "#2a3f5f"
            },
            "error_y": {
             "color": "#2a3f5f"
            },
            "marker": {
             "line": {
              "color": "#E5ECF6",
              "width": 0.5
             },
             "pattern": {
              "fillmode": "overlay",
              "size": 10,
              "solidity": 0.2
             }
            },
            "type": "bar"
           }
          ],
          "barpolar": [
           {
            "marker": {
             "line": {
              "color": "#E5ECF6",
              "width": 0.5
             },
             "pattern": {
              "fillmode": "overlay",
              "size": 10,
              "solidity": 0.2
             }
            },
            "type": "barpolar"
           }
          ],
          "carpet": [
           {
            "aaxis": {
             "endlinecolor": "#2a3f5f",
             "gridcolor": "white",
             "linecolor": "white",
             "minorgridcolor": "white",
             "startlinecolor": "#2a3f5f"
            },
            "baxis": {
             "endlinecolor": "#2a3f5f",
             "gridcolor": "white",
             "linecolor": "white",
             "minorgridcolor": "white",
             "startlinecolor": "#2a3f5f"
            },
            "type": "carpet"
           }
          ],
          "choropleth": [
           {
            "colorbar": {
             "outlinewidth": 0,
             "ticks": ""
            },
            "type": "choropleth"
           }
          ],
          "contour": [
           {
            "colorbar": {
             "outlinewidth": 0,
             "ticks": ""
            },
            "colorscale": [
             [
              0,
              "#0d0887"
             ],
             [
              0.1111111111111111,
              "#46039f"
             ],
             [
              0.2222222222222222,
              "#7201a8"
             ],
             [
              0.3333333333333333,
              "#9c179e"
             ],
             [
              0.4444444444444444,
              "#bd3786"
             ],
             [
              0.5555555555555556,
              "#d8576b"
             ],
             [
              0.6666666666666666,
              "#ed7953"
             ],
             [
              0.7777777777777778,
              "#fb9f3a"
             ],
             [
              0.8888888888888888,
              "#fdca26"
             ],
             [
              1,
              "#f0f921"
             ]
            ],
            "type": "contour"
           }
          ],
          "contourcarpet": [
           {
            "colorbar": {
             "outlinewidth": 0,
             "ticks": ""
            },
            "type": "contourcarpet"
           }
          ],
          "heatmap": [
           {
            "colorbar": {
             "outlinewidth": 0,
             "ticks": ""
            },
            "colorscale": [
             [
              0,
              "#0d0887"
             ],
             [
              0.1111111111111111,
              "#46039f"
             ],
             [
              0.2222222222222222,
              "#7201a8"
             ],
             [
              0.3333333333333333,
              "#9c179e"
             ],
             [
              0.4444444444444444,
              "#bd3786"
             ],
             [
              0.5555555555555556,
              "#d8576b"
             ],
             [
              0.6666666666666666,
              "#ed7953"
             ],
             [
              0.7777777777777778,
              "#fb9f3a"
             ],
             [
              0.8888888888888888,
              "#fdca26"
             ],
             [
              1,
              "#f0f921"
             ]
            ],
            "type": "heatmap"
           }
          ],
          "heatmapgl": [
           {
            "colorbar": {
             "outlinewidth": 0,
             "ticks": ""
            },
            "colorscale": [
             [
              0,
              "#0d0887"
             ],
             [
              0.1111111111111111,
              "#46039f"
             ],
             [
              0.2222222222222222,
              "#7201a8"
             ],
             [
              0.3333333333333333,
              "#9c179e"
             ],
             [
              0.4444444444444444,
              "#bd3786"
             ],
             [
              0.5555555555555556,
              "#d8576b"
             ],
             [
              0.6666666666666666,
              "#ed7953"
             ],
             [
              0.7777777777777778,
              "#fb9f3a"
             ],
             [
              0.8888888888888888,
              "#fdca26"
             ],
             [
              1,
              "#f0f921"
             ]
            ],
            "type": "heatmapgl"
           }
          ],
          "histogram": [
           {
            "marker": {
             "pattern": {
              "fillmode": "overlay",
              "size": 10,
              "solidity": 0.2
             }
            },
            "type": "histogram"
           }
          ],
          "histogram2d": [
           {
            "colorbar": {
             "outlinewidth": 0,
             "ticks": ""
            },
            "colorscale": [
             [
              0,
              "#0d0887"
             ],
             [
              0.1111111111111111,
              "#46039f"
             ],
             [
              0.2222222222222222,
              "#7201a8"
             ],
             [
              0.3333333333333333,
              "#9c179e"
             ],
             [
              0.4444444444444444,
              "#bd3786"
             ],
             [
              0.5555555555555556,
              "#d8576b"
             ],
             [
              0.6666666666666666,
              "#ed7953"
             ],
             [
              0.7777777777777778,
              "#fb9f3a"
             ],
             [
              0.8888888888888888,
              "#fdca26"
             ],
             [
              1,
              "#f0f921"
             ]
            ],
            "type": "histogram2d"
           }
          ],
          "histogram2dcontour": [
           {
            "colorbar": {
             "outlinewidth": 0,
             "ticks": ""
            },
            "colorscale": [
             [
              0,
              "#0d0887"
             ],
             [
              0.1111111111111111,
              "#46039f"
             ],
             [
              0.2222222222222222,
              "#7201a8"
             ],
             [
              0.3333333333333333,
              "#9c179e"
             ],
             [
              0.4444444444444444,
              "#bd3786"
             ],
             [
              0.5555555555555556,
              "#d8576b"
             ],
             [
              0.6666666666666666,
              "#ed7953"
             ],
             [
              0.7777777777777778,
              "#fb9f3a"
             ],
             [
              0.8888888888888888,
              "#fdca26"
             ],
             [
              1,
              "#f0f921"
             ]
            ],
            "type": "histogram2dcontour"
           }
          ],
          "mesh3d": [
           {
            "colorbar": {
             "outlinewidth": 0,
             "ticks": ""
            },
            "type": "mesh3d"
           }
          ],
          "parcoords": [
           {
            "line": {
             "colorbar": {
              "outlinewidth": 0,
              "ticks": ""
             }
            },
            "type": "parcoords"
           }
          ],
          "pie": [
           {
            "automargin": true,
            "type": "pie"
           }
          ],
          "scatter": [
           {
            "fillpattern": {
             "fillmode": "overlay",
             "size": 10,
             "solidity": 0.2
            },
            "type": "scatter"
           }
          ],
          "scatter3d": [
           {
            "line": {
             "colorbar": {
              "outlinewidth": 0,
              "ticks": ""
             }
            },
            "marker": {
             "colorbar": {
              "outlinewidth": 0,
              "ticks": ""
             }
            },
            "type": "scatter3d"
           }
          ],
          "scattercarpet": [
           {
            "marker": {
             "colorbar": {
              "outlinewidth": 0,
              "ticks": ""
             }
            },
            "type": "scattercarpet"
           }
          ],
          "scattergeo": [
           {
            "marker": {
             "colorbar": {
              "outlinewidth": 0,
              "ticks": ""
             }
            },
            "type": "scattergeo"
           }
          ],
          "scattergl": [
           {
            "marker": {
             "colorbar": {
              "outlinewidth": 0,
              "ticks": ""
             }
            },
            "type": "scattergl"
           }
          ],
          "scattermapbox": [
           {
            "marker": {
             "colorbar": {
              "outlinewidth": 0,
              "ticks": ""
             }
            },
            "type": "scattermapbox"
           }
          ],
          "scatterpolar": [
           {
            "marker": {
             "colorbar": {
              "outlinewidth": 0,
              "ticks": ""
             }
            },
            "type": "scatterpolar"
           }
          ],
          "scatterpolargl": [
           {
            "marker": {
             "colorbar": {
              "outlinewidth": 0,
              "ticks": ""
             }
            },
            "type": "scatterpolargl"
           }
          ],
          "scatterternary": [
           {
            "marker": {
             "colorbar": {
              "outlinewidth": 0,
              "ticks": ""
             }
            },
            "type": "scatterternary"
           }
          ],
          "surface": [
           {
            "colorbar": {
             "outlinewidth": 0,
             "ticks": ""
            },
            "colorscale": [
             [
              0,
              "#0d0887"
             ],
             [
              0.1111111111111111,
              "#46039f"
             ],
             [
              0.2222222222222222,
              "#7201a8"
             ],
             [
              0.3333333333333333,
              "#9c179e"
             ],
             [
              0.4444444444444444,
              "#bd3786"
             ],
             [
              0.5555555555555556,
              "#d8576b"
             ],
             [
              0.6666666666666666,
              "#ed7953"
             ],
             [
              0.7777777777777778,
              "#fb9f3a"
             ],
             [
              0.8888888888888888,
              "#fdca26"
             ],
             [
              1,
              "#f0f921"
             ]
            ],
            "type": "surface"
           }
          ],
          "table": [
           {
            "cells": {
             "fill": {
              "color": "#EBF0F8"
             },
             "line": {
              "color": "white"
             }
            },
            "header": {
             "fill": {
              "color": "#C8D4E3"
             },
             "line": {
              "color": "white"
             }
            },
            "type": "table"
           }
          ]
         },
         "layout": {
          "annotationdefaults": {
           "arrowcolor": "#2a3f5f",
           "arrowhead": 0,
           "arrowwidth": 1
          },
          "autotypenumbers": "strict",
          "coloraxis": {
           "colorbar": {
            "outlinewidth": 0,
            "ticks": ""
           }
          },
          "colorscale": {
           "diverging": [
            [
             0,
             "#8e0152"
            ],
            [
             0.1,
             "#c51b7d"
            ],
            [
             0.2,
             "#de77ae"
            ],
            [
             0.3,
             "#f1b6da"
            ],
            [
             0.4,
             "#fde0ef"
            ],
            [
             0.5,
             "#f7f7f7"
            ],
            [
             0.6,
             "#e6f5d0"
            ],
            [
             0.7,
             "#b8e186"
            ],
            [
             0.8,
             "#7fbc41"
            ],
            [
             0.9,
             "#4d9221"
            ],
            [
             1,
             "#276419"
            ]
           ],
           "sequential": [
            [
             0,
             "#0d0887"
            ],
            [
             0.1111111111111111,
             "#46039f"
            ],
            [
             0.2222222222222222,
             "#7201a8"
            ],
            [
             0.3333333333333333,
             "#9c179e"
            ],
            [
             0.4444444444444444,
             "#bd3786"
            ],
            [
             0.5555555555555556,
             "#d8576b"
            ],
            [
             0.6666666666666666,
             "#ed7953"
            ],
            [
             0.7777777777777778,
             "#fb9f3a"
            ],
            [
             0.8888888888888888,
             "#fdca26"
            ],
            [
             1,
             "#f0f921"
            ]
           ],
           "sequentialminus": [
            [
             0,
             "#0d0887"
            ],
            [
             0.1111111111111111,
             "#46039f"
            ],
            [
             0.2222222222222222,
             "#7201a8"
            ],
            [
             0.3333333333333333,
             "#9c179e"
            ],
            [
             0.4444444444444444,
             "#bd3786"
            ],
            [
             0.5555555555555556,
             "#d8576b"
            ],
            [
             0.6666666666666666,
             "#ed7953"
            ],
            [
             0.7777777777777778,
             "#fb9f3a"
            ],
            [
             0.8888888888888888,
             "#fdca26"
            ],
            [
             1,
             "#f0f921"
            ]
           ]
          },
          "colorway": [
           "#636efa",
           "#EF553B",
           "#00cc96",
           "#ab63fa",
           "#FFA15A",
           "#19d3f3",
           "#FF6692",
           "#B6E880",
           "#FF97FF",
           "#FECB52"
          ],
          "font": {
           "color": "#2a3f5f"
          },
          "geo": {
           "bgcolor": "white",
           "lakecolor": "white",
           "landcolor": "#E5ECF6",
           "showlakes": true,
           "showland": true,
           "subunitcolor": "white"
          },
          "hoverlabel": {
           "align": "left"
          },
          "hovermode": "closest",
          "mapbox": {
           "style": "light"
          },
          "paper_bgcolor": "white",
          "plot_bgcolor": "#E5ECF6",
          "polar": {
           "angularaxis": {
            "gridcolor": "white",
            "linecolor": "white",
            "ticks": ""
           },
           "bgcolor": "#E5ECF6",
           "radialaxis": {
            "gridcolor": "white",
            "linecolor": "white",
            "ticks": ""
           }
          },
          "scene": {
           "xaxis": {
            "backgroundcolor": "#E5ECF6",
            "gridcolor": "white",
            "gridwidth": 2,
            "linecolor": "white",
            "showbackground": true,
            "ticks": "",
            "zerolinecolor": "white"
           },
           "yaxis": {
            "backgroundcolor": "#E5ECF6",
            "gridcolor": "white",
            "gridwidth": 2,
            "linecolor": "white",
            "showbackground": true,
            "ticks": "",
            "zerolinecolor": "white"
           },
           "zaxis": {
            "backgroundcolor": "#E5ECF6",
            "gridcolor": "white",
            "gridwidth": 2,
            "linecolor": "white",
            "showbackground": true,
            "ticks": "",
            "zerolinecolor": "white"
           }
          },
          "shapedefaults": {
           "line": {
            "color": "#2a3f5f"
           }
          },
          "ternary": {
           "aaxis": {
            "gridcolor": "white",
            "linecolor": "white",
            "ticks": ""
           },
           "baxis": {
            "gridcolor": "white",
            "linecolor": "white",
            "ticks": ""
           },
           "bgcolor": "#E5ECF6",
           "caxis": {
            "gridcolor": "white",
            "linecolor": "white",
            "ticks": ""
           }
          },
          "title": {
           "x": 0.05
          },
          "xaxis": {
           "automargin": true,
           "gridcolor": "white",
           "linecolor": "white",
           "ticks": "",
           "title": {
            "standoff": 15
           },
           "zerolinecolor": "white",
           "zerolinewidth": 2
          },
          "yaxis": {
           "automargin": true,
           "gridcolor": "white",
           "linecolor": "white",
           "ticks": "",
           "title": {
            "standoff": 15
           },
           "zerolinecolor": "white",
           "zerolinewidth": 2
          }
         }
        },
        "title": {
         "font": {
          "size": 20
         },
         "text": "Top 10 customers by Transaction Amount",
         "x": 0.5,
         "y": 0.95
        },
        "xaxis": {
         "anchor": "y",
         "domain": [
          0,
          1
         ],
         "showgrid": false,
         "title": {
          "text": "Customer ID"
         }
        },
        "yaxis": {
         "anchor": "x",
         "domain": [
          0,
          1
         ],
         "showgrid": false,
         "title": {
          "text": "Transaction Amount"
         }
        }
       }
      }
     },
     "metadata": {},
     "output_type": "display_data"
    }
   ],
   "source": [
    "fig=px.bar(df2.groupby(by='customer_id').sum()['amount'].sort_values(ascending=False).head(10),  \n",
    "           color=df2.groupby(by='customer_id').sum()['amount'].sort_values(ascending=False).head(10),  \n",
    "           text=df2.groupby(by='customer_id').sum()['amount'].sort_values(ascending=False).head(10).round(),  ) \n",
    "fig.update_traces(textposition='outside',marker_coloraxis=None) \n",
    "fig.update_xaxes(title='Customer ID',showgrid=False)  \n",
    "fig.update_yaxes(title='Transaction Amount',showgrid=False) \n",
    "fig.update_layout( \n",
    " title=dict(text = \"Top 10 customers by Transaction Amount\",x=0.5,y=0.95),  title_font_size=20, showlegend=False, \n",
    "height = 500, \n",
    " ) \n",
    "\n",
    "fig.show()\n"
   ]
  },
  {
   "cell_type": "code",
   "execution_count": 72,
   "metadata": {},
   "outputs": [
    {
     "data": {
      "application/vnd.plotly.v1+json": {
       "config": {
        "plotlyServerURL": "https://plot.ly"
       },
       "data": [
        {
         "alignmentgroup": "True",
         "hovertemplate": "age_group=%{x}<br>value=%{y}<br>text=%{text}<br>color=%{marker.color}<extra></extra>",
         "legendgroup": "",
         "marker": {
          "color": [
           5071,
           3405,
           1900,
           1293,
           224,
           150
          ],
          "pattern": {
           "shape": ""
          }
         },
         "name": "",
         "offsetgroup": "",
         "orientation": "v",
         "showlegend": false,
         "text": [
          5071,
          3405,
          1900,
          1293,
          224,
          150
         ],
         "textposition": "outside",
         "type": "bar",
         "x": [
          "20-30",
          "30-40",
          "<20",
          "40-50",
          ">60",
          "50-60"
         ],
         "xaxis": "x",
         "y": [
          5071,
          3405,
          1900,
          1293,
          224,
          150
         ],
         "yaxis": "y"
        }
       ],
       "layout": {
        "barmode": "relative",
        "coloraxis": {
         "colorbar": {
          "title": {
           "text": "color"
          }
         },
         "colorscale": [
          [
           0,
           "#0d0887"
          ],
          [
           0.1111111111111111,
           "#46039f"
          ],
          [
           0.2222222222222222,
           "#7201a8"
          ],
          [
           0.3333333333333333,
           "#9c179e"
          ],
          [
           0.4444444444444444,
           "#bd3786"
          ],
          [
           0.5555555555555556,
           "#d8576b"
          ],
          [
           0.6666666666666666,
           "#ed7953"
          ],
          [
           0.7777777777777778,
           "#fb9f3a"
          ],
          [
           0.8888888888888888,
           "#fdca26"
          ],
          [
           1,
           "#f0f921"
          ]
         ]
        },
        "height": 450,
        "legend": {
         "tracegroupgap": 0
        },
        "margin": {
         "t": 60
        },
        "showlegend": false,
        "template": {
         "data": {
          "bar": [
           {
            "error_x": {
             "color": "#2a3f5f"
            },
            "error_y": {
             "color": "#2a3f5f"
            },
            "marker": {
             "line": {
              "color": "#E5ECF6",
              "width": 0.5
             },
             "pattern": {
              "fillmode": "overlay",
              "size": 10,
              "solidity": 0.2
             }
            },
            "type": "bar"
           }
          ],
          "barpolar": [
           {
            "marker": {
             "line": {
              "color": "#E5ECF6",
              "width": 0.5
             },
             "pattern": {
              "fillmode": "overlay",
              "size": 10,
              "solidity": 0.2
             }
            },
            "type": "barpolar"
           }
          ],
          "carpet": [
           {
            "aaxis": {
             "endlinecolor": "#2a3f5f",
             "gridcolor": "white",
             "linecolor": "white",
             "minorgridcolor": "white",
             "startlinecolor": "#2a3f5f"
            },
            "baxis": {
             "endlinecolor": "#2a3f5f",
             "gridcolor": "white",
             "linecolor": "white",
             "minorgridcolor": "white",
             "startlinecolor": "#2a3f5f"
            },
            "type": "carpet"
           }
          ],
          "choropleth": [
           {
            "colorbar": {
             "outlinewidth": 0,
             "ticks": ""
            },
            "type": "choropleth"
           }
          ],
          "contour": [
           {
            "colorbar": {
             "outlinewidth": 0,
             "ticks": ""
            },
            "colorscale": [
             [
              0,
              "#0d0887"
             ],
             [
              0.1111111111111111,
              "#46039f"
             ],
             [
              0.2222222222222222,
              "#7201a8"
             ],
             [
              0.3333333333333333,
              "#9c179e"
             ],
             [
              0.4444444444444444,
              "#bd3786"
             ],
             [
              0.5555555555555556,
              "#d8576b"
             ],
             [
              0.6666666666666666,
              "#ed7953"
             ],
             [
              0.7777777777777778,
              "#fb9f3a"
             ],
             [
              0.8888888888888888,
              "#fdca26"
             ],
             [
              1,
              "#f0f921"
             ]
            ],
            "type": "contour"
           }
          ],
          "contourcarpet": [
           {
            "colorbar": {
             "outlinewidth": 0,
             "ticks": ""
            },
            "type": "contourcarpet"
           }
          ],
          "heatmap": [
           {
            "colorbar": {
             "outlinewidth": 0,
             "ticks": ""
            },
            "colorscale": [
             [
              0,
              "#0d0887"
             ],
             [
              0.1111111111111111,
              "#46039f"
             ],
             [
              0.2222222222222222,
              "#7201a8"
             ],
             [
              0.3333333333333333,
              "#9c179e"
             ],
             [
              0.4444444444444444,
              "#bd3786"
             ],
             [
              0.5555555555555556,
              "#d8576b"
             ],
             [
              0.6666666666666666,
              "#ed7953"
             ],
             [
              0.7777777777777778,
              "#fb9f3a"
             ],
             [
              0.8888888888888888,
              "#fdca26"
             ],
             [
              1,
              "#f0f921"
             ]
            ],
            "type": "heatmap"
           }
          ],
          "heatmapgl": [
           {
            "colorbar": {
             "outlinewidth": 0,
             "ticks": ""
            },
            "colorscale": [
             [
              0,
              "#0d0887"
             ],
             [
              0.1111111111111111,
              "#46039f"
             ],
             [
              0.2222222222222222,
              "#7201a8"
             ],
             [
              0.3333333333333333,
              "#9c179e"
             ],
             [
              0.4444444444444444,
              "#bd3786"
             ],
             [
              0.5555555555555556,
              "#d8576b"
             ],
             [
              0.6666666666666666,
              "#ed7953"
             ],
             [
              0.7777777777777778,
              "#fb9f3a"
             ],
             [
              0.8888888888888888,
              "#fdca26"
             ],
             [
              1,
              "#f0f921"
             ]
            ],
            "type": "heatmapgl"
           }
          ],
          "histogram": [
           {
            "marker": {
             "pattern": {
              "fillmode": "overlay",
              "size": 10,
              "solidity": 0.2
             }
            },
            "type": "histogram"
           }
          ],
          "histogram2d": [
           {
            "colorbar": {
             "outlinewidth": 0,
             "ticks": ""
            },
            "colorscale": [
             [
              0,
              "#0d0887"
             ],
             [
              0.1111111111111111,
              "#46039f"
             ],
             [
              0.2222222222222222,
              "#7201a8"
             ],
             [
              0.3333333333333333,
              "#9c179e"
             ],
             [
              0.4444444444444444,
              "#bd3786"
             ],
             [
              0.5555555555555556,
              "#d8576b"
             ],
             [
              0.6666666666666666,
              "#ed7953"
             ],
             [
              0.7777777777777778,
              "#fb9f3a"
             ],
             [
              0.8888888888888888,
              "#fdca26"
             ],
             [
              1,
              "#f0f921"
             ]
            ],
            "type": "histogram2d"
           }
          ],
          "histogram2dcontour": [
           {
            "colorbar": {
             "outlinewidth": 0,
             "ticks": ""
            },
            "colorscale": [
             [
              0,
              "#0d0887"
             ],
             [
              0.1111111111111111,
              "#46039f"
             ],
             [
              0.2222222222222222,
              "#7201a8"
             ],
             [
              0.3333333333333333,
              "#9c179e"
             ],
             [
              0.4444444444444444,
              "#bd3786"
             ],
             [
              0.5555555555555556,
              "#d8576b"
             ],
             [
              0.6666666666666666,
              "#ed7953"
             ],
             [
              0.7777777777777778,
              "#fb9f3a"
             ],
             [
              0.8888888888888888,
              "#fdca26"
             ],
             [
              1,
              "#f0f921"
             ]
            ],
            "type": "histogram2dcontour"
           }
          ],
          "mesh3d": [
           {
            "colorbar": {
             "outlinewidth": 0,
             "ticks": ""
            },
            "type": "mesh3d"
           }
          ],
          "parcoords": [
           {
            "line": {
             "colorbar": {
              "outlinewidth": 0,
              "ticks": ""
             }
            },
            "type": "parcoords"
           }
          ],
          "pie": [
           {
            "automargin": true,
            "type": "pie"
           }
          ],
          "scatter": [
           {
            "fillpattern": {
             "fillmode": "overlay",
             "size": 10,
             "solidity": 0.2
            },
            "type": "scatter"
           }
          ],
          "scatter3d": [
           {
            "line": {
             "colorbar": {
              "outlinewidth": 0,
              "ticks": ""
             }
            },
            "marker": {
             "colorbar": {
              "outlinewidth": 0,
              "ticks": ""
             }
            },
            "type": "scatter3d"
           }
          ],
          "scattercarpet": [
           {
            "marker": {
             "colorbar": {
              "outlinewidth": 0,
              "ticks": ""
             }
            },
            "type": "scattercarpet"
           }
          ],
          "scattergeo": [
           {
            "marker": {
             "colorbar": {
              "outlinewidth": 0,
              "ticks": ""
             }
            },
            "type": "scattergeo"
           }
          ],
          "scattergl": [
           {
            "marker": {
             "colorbar": {
              "outlinewidth": 0,
              "ticks": ""
             }
            },
            "type": "scattergl"
           }
          ],
          "scattermapbox": [
           {
            "marker": {
             "colorbar": {
              "outlinewidth": 0,
              "ticks": ""
             }
            },
            "type": "scattermapbox"
           }
          ],
          "scatterpolar": [
           {
            "marker": {
             "colorbar": {
              "outlinewidth": 0,
              "ticks": ""
             }
            },
            "type": "scatterpolar"
           }
          ],
          "scatterpolargl": [
           {
            "marker": {
             "colorbar": {
              "outlinewidth": 0,
              "ticks": ""
             }
            },
            "type": "scatterpolargl"
           }
          ],
          "scatterternary": [
           {
            "marker": {
             "colorbar": {
              "outlinewidth": 0,
              "ticks": ""
             }
            },
            "type": "scatterternary"
           }
          ],
          "surface": [
           {
            "colorbar": {
             "outlinewidth": 0,
             "ticks": ""
            },
            "colorscale": [
             [
              0,
              "#0d0887"
             ],
             [
              0.1111111111111111,
              "#46039f"
             ],
             [
              0.2222222222222222,
              "#7201a8"
             ],
             [
              0.3333333333333333,
              "#9c179e"
             ],
             [
              0.4444444444444444,
              "#bd3786"
             ],
             [
              0.5555555555555556,
              "#d8576b"
             ],
             [
              0.6666666666666666,
              "#ed7953"
             ],
             [
              0.7777777777777778,
              "#fb9f3a"
             ],
             [
              0.8888888888888888,
              "#fdca26"
             ],
             [
              1,
              "#f0f921"
             ]
            ],
            "type": "surface"
           }
          ],
          "table": [
           {
            "cells": {
             "fill": {
              "color": "#EBF0F8"
             },
             "line": {
              "color": "white"
             }
            },
            "header": {
             "fill": {
              "color": "#C8D4E3"
             },
             "line": {
              "color": "white"
             }
            },
            "type": "table"
           }
          ]
         },
         "layout": {
          "annotationdefaults": {
           "arrowcolor": "#2a3f5f",
           "arrowhead": 0,
           "arrowwidth": 1
          },
          "autotypenumbers": "strict",
          "coloraxis": {
           "colorbar": {
            "outlinewidth": 0,
            "ticks": ""
           }
          },
          "colorscale": {
           "diverging": [
            [
             0,
             "#8e0152"
            ],
            [
             0.1,
             "#c51b7d"
            ],
            [
             0.2,
             "#de77ae"
            ],
            [
             0.3,
             "#f1b6da"
            ],
            [
             0.4,
             "#fde0ef"
            ],
            [
             0.5,
             "#f7f7f7"
            ],
            [
             0.6,
             "#e6f5d0"
            ],
            [
             0.7,
             "#b8e186"
            ],
            [
             0.8,
             "#7fbc41"
            ],
            [
             0.9,
             "#4d9221"
            ],
            [
             1,
             "#276419"
            ]
           ],
           "sequential": [
            [
             0,
             "#0d0887"
            ],
            [
             0.1111111111111111,
             "#46039f"
            ],
            [
             0.2222222222222222,
             "#7201a8"
            ],
            [
             0.3333333333333333,
             "#9c179e"
            ],
            [
             0.4444444444444444,
             "#bd3786"
            ],
            [
             0.5555555555555556,
             "#d8576b"
            ],
            [
             0.6666666666666666,
             "#ed7953"
            ],
            [
             0.7777777777777778,
             "#fb9f3a"
            ],
            [
             0.8888888888888888,
             "#fdca26"
            ],
            [
             1,
             "#f0f921"
            ]
           ],
           "sequentialminus": [
            [
             0,
             "#0d0887"
            ],
            [
             0.1111111111111111,
             "#46039f"
            ],
            [
             0.2222222222222222,
             "#7201a8"
            ],
            [
             0.3333333333333333,
             "#9c179e"
            ],
            [
             0.4444444444444444,
             "#bd3786"
            ],
            [
             0.5555555555555556,
             "#d8576b"
            ],
            [
             0.6666666666666666,
             "#ed7953"
            ],
            [
             0.7777777777777778,
             "#fb9f3a"
            ],
            [
             0.8888888888888888,
             "#fdca26"
            ],
            [
             1,
             "#f0f921"
            ]
           ]
          },
          "colorway": [
           "#636efa",
           "#EF553B",
           "#00cc96",
           "#ab63fa",
           "#FFA15A",
           "#19d3f3",
           "#FF6692",
           "#B6E880",
           "#FF97FF",
           "#FECB52"
          ],
          "font": {
           "color": "#2a3f5f"
          },
          "geo": {
           "bgcolor": "white",
           "lakecolor": "white",
           "landcolor": "#E5ECF6",
           "showlakes": true,
           "showland": true,
           "subunitcolor": "white"
          },
          "hoverlabel": {
           "align": "left"
          },
          "hovermode": "closest",
          "mapbox": {
           "style": "light"
          },
          "paper_bgcolor": "white",
          "plot_bgcolor": "#E5ECF6",
          "polar": {
           "angularaxis": {
            "gridcolor": "white",
            "linecolor": "white",
            "ticks": ""
           },
           "bgcolor": "#E5ECF6",
           "radialaxis": {
            "gridcolor": "white",
            "linecolor": "white",
            "ticks": ""
           }
          },
          "scene": {
           "xaxis": {
            "backgroundcolor": "#E5ECF6",
            "gridcolor": "white",
            "gridwidth": 2,
            "linecolor": "white",
            "showbackground": true,
            "ticks": "",
            "zerolinecolor": "white"
           },
           "yaxis": {
            "backgroundcolor": "#E5ECF6",
            "gridcolor": "white",
            "gridwidth": 2,
            "linecolor": "white",
            "showbackground": true,
            "ticks": "",
            "zerolinecolor": "white"
           },
           "zaxis": {
            "backgroundcolor": "#E5ECF6",
            "gridcolor": "white",
            "gridwidth": 2,
            "linecolor": "white",
            "showbackground": true,
            "ticks": "",
            "zerolinecolor": "white"
           }
          },
          "shapedefaults": {
           "line": {
            "color": "#2a3f5f"
           }
          },
          "ternary": {
           "aaxis": {
            "gridcolor": "white",
            "linecolor": "white",
            "ticks": ""
           },
           "baxis": {
            "gridcolor": "white",
            "linecolor": "white",
            "ticks": ""
           },
           "bgcolor": "#E5ECF6",
           "caxis": {
            "gridcolor": "white",
            "linecolor": "white",
            "ticks": ""
           }
          },
          "title": {
           "x": 0.05
          },
          "xaxis": {
           "automargin": true,
           "gridcolor": "white",
           "linecolor": "white",
           "ticks": "",
           "title": {
            "standoff": 15
           },
           "zerolinecolor": "white",
           "zerolinewidth": 2
          },
          "yaxis": {
           "automargin": true,
           "gridcolor": "white",
           "linecolor": "white",
           "ticks": "",
           "title": {
            "standoff": 15
           },
           "zerolinecolor": "white",
           "zerolinewidth": 2
          }
         }
        },
        "title": {
         "font": {
          "size": 20
         },
         "text": "Transactions by Age Group",
         "x": 0.5,
         "y": 0.95
        },
        "xaxis": {
         "anchor": "y",
         "domain": [
          0,
          1
         ],
         "showgrid": false,
         "title": {
          "text": "Age Group"
         }
        },
        "yaxis": {
         "anchor": "x",
         "domain": [
          0,
          1
         ],
         "showgrid": false,
         "title": {
          "text": "Transaction Count"
         }
        }
       }
      }
     },
     "metadata": {},
     "output_type": "display_data"
    }
   ],
   "source": [
    "fig=px.bar(df2.age_group.value_counts(), \n",
    " color=df2.age_group.value_counts(), \n",
    " text=df2.age_group.value_counts().tolist(), \n",
    " ) \n",
    "fig.update_traces(textposition='outside',marker_coloraxis=None) \n",
    "\n",
    "fig.update_xaxes(title='Age Group',showgrid=False)  \n",
    "fig.update_yaxes(title='Transaction Count',showgrid=False) \n",
    "\n",
    "fig.update_layout( \n",
    " title=dict(text = \"Transactions by Age Group\",x=0.5,y=0.95),  title_font_size=20, \n",
    "showlegend=False, \n",
    "height = 450, \n",
    " ) \n"
   ]
  },
  {
   "cell_type": "code",
   "execution_count": 73,
   "metadata": {},
   "outputs": [],
   "source": [
    "df2_grp=df2.groupby(by=['age_group','gender']).sum()['amount'].reset_index()"
   ]
  },
  {
   "cell_type": "code",
   "execution_count": 74,
   "metadata": {},
   "outputs": [
    {
     "data": {
      "application/vnd.plotly.v1+json": {
       "config": {
        "plotlyServerURL": "https://plot.ly"
       },
       "data": [
        {
         "alignmentgroup": "True",
         "hovertemplate": "gender=F<br>age_group=%{x}<br>amount=%{y}<br>text=%{text}<extra></extra>",
         "legendgroup": "F",
         "marker": {
          "color": "#636efa",
          "pattern": {
           "shape": ""
          }
         },
         "name": "F",
         "offsetgroup": "F",
         "orientation": "v",
         "showlegend": true,
         "text": [
          "337.55k",
          "301.44k",
          "125.46k",
          "16.27k",
          "179.02k",
          "10.59k"
         ],
         "textposition": "outside",
         "type": "bar",
         "x": [
          "20-30",
          "30-40",
          "40-50",
          "50-60",
          "<20",
          ">60"
         ],
         "xaxis": "x",
         "y": [
          337548.44,
          301440,
          125455.06999999999,
          16268.970000000001,
          179022.73,
          10587.42
         ],
         "yaxis": "y"
        },
        {
         "alignmentgroup": "True",
         "hovertemplate": "gender=M<br>age_group=%{x}<br>amount=%{y}<br>text=%{text}<extra></extra>",
         "legendgroup": "M",
         "marker": {
          "color": "#EF553B",
          "pattern": {
           "shape": ""
          }
         },
         "name": "M",
         "offsetgroup": "M",
         "orientation": "v",
         "showlegend": true,
         "text": [
          "501.84k",
          "396.36k",
          "169.9k",
          "32.24k",
          "163.1k",
          "29.53k"
         ],
         "textposition": "outside",
         "type": "bar",
         "x": [
          "20-30",
          "30-40",
          "40-50",
          "50-60",
          "<20",
          ">60"
         ],
         "xaxis": "x",
         "y": [
          501837.23,
          396358.69,
          169900.95,
          32243.170000000002,
          163096.06,
          29525.469999999998
         ],
         "yaxis": "y"
        }
       ],
       "layout": {
        "barmode": "group",
        "legend": {
         "title": {
          "text": "gender"
         },
         "tracegroupgap": 0
        },
        "margin": {
         "t": 60
        },
        "template": {
         "data": {
          "bar": [
           {
            "error_x": {
             "color": "#2a3f5f"
            },
            "error_y": {
             "color": "#2a3f5f"
            },
            "marker": {
             "line": {
              "color": "#E5ECF6",
              "width": 0.5
             },
             "pattern": {
              "fillmode": "overlay",
              "size": 10,
              "solidity": 0.2
             }
            },
            "type": "bar"
           }
          ],
          "barpolar": [
           {
            "marker": {
             "line": {
              "color": "#E5ECF6",
              "width": 0.5
             },
             "pattern": {
              "fillmode": "overlay",
              "size": 10,
              "solidity": 0.2
             }
            },
            "type": "barpolar"
           }
          ],
          "carpet": [
           {
            "aaxis": {
             "endlinecolor": "#2a3f5f",
             "gridcolor": "white",
             "linecolor": "white",
             "minorgridcolor": "white",
             "startlinecolor": "#2a3f5f"
            },
            "baxis": {
             "endlinecolor": "#2a3f5f",
             "gridcolor": "white",
             "linecolor": "white",
             "minorgridcolor": "white",
             "startlinecolor": "#2a3f5f"
            },
            "type": "carpet"
           }
          ],
          "choropleth": [
           {
            "colorbar": {
             "outlinewidth": 0,
             "ticks": ""
            },
            "type": "choropleth"
           }
          ],
          "contour": [
           {
            "colorbar": {
             "outlinewidth": 0,
             "ticks": ""
            },
            "colorscale": [
             [
              0,
              "#0d0887"
             ],
             [
              0.1111111111111111,
              "#46039f"
             ],
             [
              0.2222222222222222,
              "#7201a8"
             ],
             [
              0.3333333333333333,
              "#9c179e"
             ],
             [
              0.4444444444444444,
              "#bd3786"
             ],
             [
              0.5555555555555556,
              "#d8576b"
             ],
             [
              0.6666666666666666,
              "#ed7953"
             ],
             [
              0.7777777777777778,
              "#fb9f3a"
             ],
             [
              0.8888888888888888,
              "#fdca26"
             ],
             [
              1,
              "#f0f921"
             ]
            ],
            "type": "contour"
           }
          ],
          "contourcarpet": [
           {
            "colorbar": {
             "outlinewidth": 0,
             "ticks": ""
            },
            "type": "contourcarpet"
           }
          ],
          "heatmap": [
           {
            "colorbar": {
             "outlinewidth": 0,
             "ticks": ""
            },
            "colorscale": [
             [
              0,
              "#0d0887"
             ],
             [
              0.1111111111111111,
              "#46039f"
             ],
             [
              0.2222222222222222,
              "#7201a8"
             ],
             [
              0.3333333333333333,
              "#9c179e"
             ],
             [
              0.4444444444444444,
              "#bd3786"
             ],
             [
              0.5555555555555556,
              "#d8576b"
             ],
             [
              0.6666666666666666,
              "#ed7953"
             ],
             [
              0.7777777777777778,
              "#fb9f3a"
             ],
             [
              0.8888888888888888,
              "#fdca26"
             ],
             [
              1,
              "#f0f921"
             ]
            ],
            "type": "heatmap"
           }
          ],
          "heatmapgl": [
           {
            "colorbar": {
             "outlinewidth": 0,
             "ticks": ""
            },
            "colorscale": [
             [
              0,
              "#0d0887"
             ],
             [
              0.1111111111111111,
              "#46039f"
             ],
             [
              0.2222222222222222,
              "#7201a8"
             ],
             [
              0.3333333333333333,
              "#9c179e"
             ],
             [
              0.4444444444444444,
              "#bd3786"
             ],
             [
              0.5555555555555556,
              "#d8576b"
             ],
             [
              0.6666666666666666,
              "#ed7953"
             ],
             [
              0.7777777777777778,
              "#fb9f3a"
             ],
             [
              0.8888888888888888,
              "#fdca26"
             ],
             [
              1,
              "#f0f921"
             ]
            ],
            "type": "heatmapgl"
           }
          ],
          "histogram": [
           {
            "marker": {
             "pattern": {
              "fillmode": "overlay",
              "size": 10,
              "solidity": 0.2
             }
            },
            "type": "histogram"
           }
          ],
          "histogram2d": [
           {
            "colorbar": {
             "outlinewidth": 0,
             "ticks": ""
            },
            "colorscale": [
             [
              0,
              "#0d0887"
             ],
             [
              0.1111111111111111,
              "#46039f"
             ],
             [
              0.2222222222222222,
              "#7201a8"
             ],
             [
              0.3333333333333333,
              "#9c179e"
             ],
             [
              0.4444444444444444,
              "#bd3786"
             ],
             [
              0.5555555555555556,
              "#d8576b"
             ],
             [
              0.6666666666666666,
              "#ed7953"
             ],
             [
              0.7777777777777778,
              "#fb9f3a"
             ],
             [
              0.8888888888888888,
              "#fdca26"
             ],
             [
              1,
              "#f0f921"
             ]
            ],
            "type": "histogram2d"
           }
          ],
          "histogram2dcontour": [
           {
            "colorbar": {
             "outlinewidth": 0,
             "ticks": ""
            },
            "colorscale": [
             [
              0,
              "#0d0887"
             ],
             [
              0.1111111111111111,
              "#46039f"
             ],
             [
              0.2222222222222222,
              "#7201a8"
             ],
             [
              0.3333333333333333,
              "#9c179e"
             ],
             [
              0.4444444444444444,
              "#bd3786"
             ],
             [
              0.5555555555555556,
              "#d8576b"
             ],
             [
              0.6666666666666666,
              "#ed7953"
             ],
             [
              0.7777777777777778,
              "#fb9f3a"
             ],
             [
              0.8888888888888888,
              "#fdca26"
             ],
             [
              1,
              "#f0f921"
             ]
            ],
            "type": "histogram2dcontour"
           }
          ],
          "mesh3d": [
           {
            "colorbar": {
             "outlinewidth": 0,
             "ticks": ""
            },
            "type": "mesh3d"
           }
          ],
          "parcoords": [
           {
            "line": {
             "colorbar": {
              "outlinewidth": 0,
              "ticks": ""
             }
            },
            "type": "parcoords"
           }
          ],
          "pie": [
           {
            "automargin": true,
            "type": "pie"
           }
          ],
          "scatter": [
           {
            "fillpattern": {
             "fillmode": "overlay",
             "size": 10,
             "solidity": 0.2
            },
            "type": "scatter"
           }
          ],
          "scatter3d": [
           {
            "line": {
             "colorbar": {
              "outlinewidth": 0,
              "ticks": ""
             }
            },
            "marker": {
             "colorbar": {
              "outlinewidth": 0,
              "ticks": ""
             }
            },
            "type": "scatter3d"
           }
          ],
          "scattercarpet": [
           {
            "marker": {
             "colorbar": {
              "outlinewidth": 0,
              "ticks": ""
             }
            },
            "type": "scattercarpet"
           }
          ],
          "scattergeo": [
           {
            "marker": {
             "colorbar": {
              "outlinewidth": 0,
              "ticks": ""
             }
            },
            "type": "scattergeo"
           }
          ],
          "scattergl": [
           {
            "marker": {
             "colorbar": {
              "outlinewidth": 0,
              "ticks": ""
             }
            },
            "type": "scattergl"
           }
          ],
          "scattermapbox": [
           {
            "marker": {
             "colorbar": {
              "outlinewidth": 0,
              "ticks": ""
             }
            },
            "type": "scattermapbox"
           }
          ],
          "scatterpolar": [
           {
            "marker": {
             "colorbar": {
              "outlinewidth": 0,
              "ticks": ""
             }
            },
            "type": "scatterpolar"
           }
          ],
          "scatterpolargl": [
           {
            "marker": {
             "colorbar": {
              "outlinewidth": 0,
              "ticks": ""
             }
            },
            "type": "scatterpolargl"
           }
          ],
          "scatterternary": [
           {
            "marker": {
             "colorbar": {
              "outlinewidth": 0,
              "ticks": ""
             }
            },
            "type": "scatterternary"
           }
          ],
          "surface": [
           {
            "colorbar": {
             "outlinewidth": 0,
             "ticks": ""
            },
            "colorscale": [
             [
              0,
              "#0d0887"
             ],
             [
              0.1111111111111111,
              "#46039f"
             ],
             [
              0.2222222222222222,
              "#7201a8"
             ],
             [
              0.3333333333333333,
              "#9c179e"
             ],
             [
              0.4444444444444444,
              "#bd3786"
             ],
             [
              0.5555555555555556,
              "#d8576b"
             ],
             [
              0.6666666666666666,
              "#ed7953"
             ],
             [
              0.7777777777777778,
              "#fb9f3a"
             ],
             [
              0.8888888888888888,
              "#fdca26"
             ],
             [
              1,
              "#f0f921"
             ]
            ],
            "type": "surface"
           }
          ],
          "table": [
           {
            "cells": {
             "fill": {
              "color": "#EBF0F8"
             },
             "line": {
              "color": "white"
             }
            },
            "header": {
             "fill": {
              "color": "#C8D4E3"
             },
             "line": {
              "color": "white"
             }
            },
            "type": "table"
           }
          ]
         },
         "layout": {
          "annotationdefaults": {
           "arrowcolor": "#2a3f5f",
           "arrowhead": 0,
           "arrowwidth": 1
          },
          "autotypenumbers": "strict",
          "coloraxis": {
           "colorbar": {
            "outlinewidth": 0,
            "ticks": ""
           }
          },
          "colorscale": {
           "diverging": [
            [
             0,
             "#8e0152"
            ],
            [
             0.1,
             "#c51b7d"
            ],
            [
             0.2,
             "#de77ae"
            ],
            [
             0.3,
             "#f1b6da"
            ],
            [
             0.4,
             "#fde0ef"
            ],
            [
             0.5,
             "#f7f7f7"
            ],
            [
             0.6,
             "#e6f5d0"
            ],
            [
             0.7,
             "#b8e186"
            ],
            [
             0.8,
             "#7fbc41"
            ],
            [
             0.9,
             "#4d9221"
            ],
            [
             1,
             "#276419"
            ]
           ],
           "sequential": [
            [
             0,
             "#0d0887"
            ],
            [
             0.1111111111111111,
             "#46039f"
            ],
            [
             0.2222222222222222,
             "#7201a8"
            ],
            [
             0.3333333333333333,
             "#9c179e"
            ],
            [
             0.4444444444444444,
             "#bd3786"
            ],
            [
             0.5555555555555556,
             "#d8576b"
            ],
            [
             0.6666666666666666,
             "#ed7953"
            ],
            [
             0.7777777777777778,
             "#fb9f3a"
            ],
            [
             0.8888888888888888,
             "#fdca26"
            ],
            [
             1,
             "#f0f921"
            ]
           ],
           "sequentialminus": [
            [
             0,
             "#0d0887"
            ],
            [
             0.1111111111111111,
             "#46039f"
            ],
            [
             0.2222222222222222,
             "#7201a8"
            ],
            [
             0.3333333333333333,
             "#9c179e"
            ],
            [
             0.4444444444444444,
             "#bd3786"
            ],
            [
             0.5555555555555556,
             "#d8576b"
            ],
            [
             0.6666666666666666,
             "#ed7953"
            ],
            [
             0.7777777777777778,
             "#fb9f3a"
            ],
            [
             0.8888888888888888,
             "#fdca26"
            ],
            [
             1,
             "#f0f921"
            ]
           ]
          },
          "colorway": [
           "#636efa",
           "#EF553B",
           "#00cc96",
           "#ab63fa",
           "#FFA15A",
           "#19d3f3",
           "#FF6692",
           "#B6E880",
           "#FF97FF",
           "#FECB52"
          ],
          "font": {
           "color": "#2a3f5f"
          },
          "geo": {
           "bgcolor": "white",
           "lakecolor": "white",
           "landcolor": "#E5ECF6",
           "showlakes": true,
           "showland": true,
           "subunitcolor": "white"
          },
          "hoverlabel": {
           "align": "left"
          },
          "hovermode": "closest",
          "mapbox": {
           "style": "light"
          },
          "paper_bgcolor": "white",
          "plot_bgcolor": "#E5ECF6",
          "polar": {
           "angularaxis": {
            "gridcolor": "white",
            "linecolor": "white",
            "ticks": ""
           },
           "bgcolor": "#E5ECF6",
           "radialaxis": {
            "gridcolor": "white",
            "linecolor": "white",
            "ticks": ""
           }
          },
          "scene": {
           "xaxis": {
            "backgroundcolor": "#E5ECF6",
            "gridcolor": "white",
            "gridwidth": 2,
            "linecolor": "white",
            "showbackground": true,
            "ticks": "",
            "zerolinecolor": "white"
           },
           "yaxis": {
            "backgroundcolor": "#E5ECF6",
            "gridcolor": "white",
            "gridwidth": 2,
            "linecolor": "white",
            "showbackground": true,
            "ticks": "",
            "zerolinecolor": "white"
           },
           "zaxis": {
            "backgroundcolor": "#E5ECF6",
            "gridcolor": "white",
            "gridwidth": 2,
            "linecolor": "white",
            "showbackground": true,
            "ticks": "",
            "zerolinecolor": "white"
           }
          },
          "shapedefaults": {
           "line": {
            "color": "#2a3f5f"
           }
          },
          "ternary": {
           "aaxis": {
            "gridcolor": "white",
            "linecolor": "white",
            "ticks": ""
           },
           "baxis": {
            "gridcolor": "white",
            "linecolor": "white",
            "ticks": ""
           },
           "bgcolor": "#E5ECF6",
           "caxis": {
            "gridcolor": "white",
            "linecolor": "white",
            "ticks": ""
           }
          },
          "title": {
           "x": 0.05
          },
          "xaxis": {
           "automargin": true,
           "gridcolor": "white",
           "linecolor": "white",
           "ticks": "",
           "title": {
            "standoff": 15
           },
           "zerolinecolor": "white",
           "zerolinewidth": 2
          },
          "yaxis": {
           "automargin": true,
           "gridcolor": "white",
           "linecolor": "white",
           "ticks": "",
           "title": {
            "standoff": 15
           },
           "zerolinecolor": "white",
           "zerolinewidth": 2
          }
         }
        },
        "title": {
         "font": {
          "size": 20
         },
         "text": "Transaction Amount by Age Group & Gender",
         "x": 0.5,
         "y": 0.95
        },
        "xaxis": {
         "anchor": "y",
         "domain": [
          0,
          1
         ],
         "showgrid": false,
         "title": {
          "text": "Age Group"
         }
        },
        "yaxis": {
         "anchor": "x",
         "domain": [
          0,
          1
         ],
         "showgrid": false,
         "title": {
          "text": "Transaction Amount"
         }
        }
       }
      }
     },
     "metadata": {},
     "output_type": "display_data"
    }
   ],
   "source": [
    "fig=px.bar(data_frame=df2_grp, \n",
    " x = 'age_group', \n",
    " y = 'amount', \n",
    " color='gender', \n",
    " barmode='group', \n",
    " text=df2_grp.amount.apply(lambda x : str(round(x/1000,2))+'k') \n",
    " ) \n",
    "fig.update_traces(textposition='outside') \n",
    "fig.update_xaxes(title='Age Group',showgrid=False)  \n",
    "fig.update_yaxes(title='Transaction Amount',showgrid=False) \n",
    "fig.update_layout( \n",
    " title=dict(text = \"Transaction Amount by Age Group & Gender\",x=0.5,y=0.95),  title_font_size=20, \n",
    " ) \n",
    "\n",
    "fig.show() \n"
   ]
  },
  {
   "cell_type": "code",
   "execution_count": 75,
   "metadata": {},
   "outputs": [
    {
     "data": {
      "text/html": [
       "<div>\n",
       "<style scoped>\n",
       "    .dataframe tbody tr th:only-of-type {\n",
       "        vertical-align: middle;\n",
       "    }\n",
       "\n",
       "    .dataframe tbody tr th {\n",
       "        vertical-align: top;\n",
       "    }\n",
       "\n",
       "    .dataframe thead th {\n",
       "        text-align: right;\n",
       "    }\n",
       "</style>\n",
       "<table border=\"1\" class=\"dataframe\">\n",
       "  <thead>\n",
       "    <tr style=\"text-align: right;\">\n",
       "      <th></th>\n",
       "      <th>amount</th>\n",
       "      <th>card_present_flag</th>\n",
       "      <th>status</th>\n",
       "      <th>txn_description</th>\n",
       "      <th>movement</th>\n",
       "      <th>gender</th>\n",
       "      <th>merchant_state</th>\n",
       "    </tr>\n",
       "  </thead>\n",
       "  <tbody>\n",
       "    <tr>\n",
       "      <th>0</th>\n",
       "      <td>16.25</td>\n",
       "      <td>1</td>\n",
       "      <td>authorized</td>\n",
       "      <td>POS</td>\n",
       "      <td>debit</td>\n",
       "      <td>F</td>\n",
       "      <td>QLD</td>\n",
       "    </tr>\n",
       "    <tr>\n",
       "      <th>1</th>\n",
       "      <td>14.19</td>\n",
       "      <td>0</td>\n",
       "      <td>authorized</td>\n",
       "      <td>SALES-POS</td>\n",
       "      <td>debit</td>\n",
       "      <td>F</td>\n",
       "      <td>NSW</td>\n",
       "    </tr>\n",
       "    <tr>\n",
       "      <th>2</th>\n",
       "      <td>6.42</td>\n",
       "      <td>1</td>\n",
       "      <td>authorized</td>\n",
       "      <td>POS</td>\n",
       "      <td>debit</td>\n",
       "      <td>M</td>\n",
       "      <td>NSW</td>\n",
       "    </tr>\n",
       "    <tr>\n",
       "      <th>3</th>\n",
       "      <td>40.90</td>\n",
       "      <td>1</td>\n",
       "      <td>authorized</td>\n",
       "      <td>SALES-POS</td>\n",
       "      <td>debit</td>\n",
       "      <td>F</td>\n",
       "      <td>QLD</td>\n",
       "    </tr>\n",
       "    <tr>\n",
       "      <th>4</th>\n",
       "      <td>3.25</td>\n",
       "      <td>1</td>\n",
       "      <td>authorized</td>\n",
       "      <td>SALES-POS</td>\n",
       "      <td>debit</td>\n",
       "      <td>F</td>\n",
       "      <td>QLD</td>\n",
       "    </tr>\n",
       "    <tr>\n",
       "      <th>...</th>\n",
       "      <td>...</td>\n",
       "      <td>...</td>\n",
       "      <td>...</td>\n",
       "      <td>...</td>\n",
       "      <td>...</td>\n",
       "      <td>...</td>\n",
       "      <td>...</td>\n",
       "    </tr>\n",
       "    <tr>\n",
       "      <th>12038</th>\n",
       "      <td>9.79</td>\n",
       "      <td>0</td>\n",
       "      <td>authorized</td>\n",
       "      <td>POS</td>\n",
       "      <td>debit</td>\n",
       "      <td>F</td>\n",
       "      <td>VIC</td>\n",
       "    </tr>\n",
       "    <tr>\n",
       "      <th>12039</th>\n",
       "      <td>63.87</td>\n",
       "      <td>1</td>\n",
       "      <td>authorized</td>\n",
       "      <td>SALES-POS</td>\n",
       "      <td>debit</td>\n",
       "      <td>M</td>\n",
       "      <td>NSW</td>\n",
       "    </tr>\n",
       "    <tr>\n",
       "      <th>12040</th>\n",
       "      <td>43.96</td>\n",
       "      <td>1</td>\n",
       "      <td>authorized</td>\n",
       "      <td>POS</td>\n",
       "      <td>debit</td>\n",
       "      <td>M</td>\n",
       "      <td>NSW</td>\n",
       "    </tr>\n",
       "    <tr>\n",
       "      <th>12041</th>\n",
       "      <td>30.77</td>\n",
       "      <td>1</td>\n",
       "      <td>authorized</td>\n",
       "      <td>SALES-POS</td>\n",
       "      <td>debit</td>\n",
       "      <td>M</td>\n",
       "      <td>VIC</td>\n",
       "    </tr>\n",
       "    <tr>\n",
       "      <th>12042</th>\n",
       "      <td>22.36</td>\n",
       "      <td>1</td>\n",
       "      <td>authorized</td>\n",
       "      <td>SALES-POS</td>\n",
       "      <td>debit</td>\n",
       "      <td>M</td>\n",
       "      <td>NSW</td>\n",
       "    </tr>\n",
       "  </tbody>\n",
       "</table>\n",
       "<p>11160 rows × 7 columns</p>\n",
       "</div>"
      ],
      "text/plain": [
       "       amount  card_present_flag      status txn_description movement gender  \\\n",
       "0       16.25                  1  authorized             POS    debit      F   \n",
       "1       14.19                  0  authorized       SALES-POS    debit      F   \n",
       "2        6.42                  1  authorized             POS    debit      M   \n",
       "3       40.90                  1  authorized       SALES-POS    debit      F   \n",
       "4        3.25                  1  authorized       SALES-POS    debit      F   \n",
       "...       ...                ...         ...             ...      ...    ...   \n",
       "12038    9.79                  0  authorized             POS    debit      F   \n",
       "12039   63.87                  1  authorized       SALES-POS    debit      M   \n",
       "12040   43.96                  1  authorized             POS    debit      M   \n",
       "12041   30.77                  1  authorized       SALES-POS    debit      M   \n",
       "12042   22.36                  1  authorized       SALES-POS    debit      M   \n",
       "\n",
       "      merchant_state  \n",
       "0                QLD  \n",
       "1                NSW  \n",
       "2                NSW  \n",
       "3                QLD  \n",
       "4                QLD  \n",
       "...              ...  \n",
       "12038            VIC  \n",
       "12039            NSW  \n",
       "12040            NSW  \n",
       "12041            VIC  \n",
       "12042            NSW  \n",
       "\n",
       "[11160 rows x 7 columns]"
      ]
     },
     "execution_count": 75,
     "metadata": {},
     "output_type": "execute_result"
    }
   ],
   "source": [
    "df1"
   ]
  },
  {
   "cell_type": "code",
   "execution_count": 76,
   "metadata": {},
   "outputs": [
    {
     "data": {
      "text/html": [
       "<div>\n",
       "<style scoped>\n",
       "    .dataframe tbody tr th:only-of-type {\n",
       "        vertical-align: middle;\n",
       "    }\n",
       "\n",
       "    .dataframe tbody tr th {\n",
       "        vertical-align: top;\n",
       "    }\n",
       "\n",
       "    .dataframe thead th {\n",
       "        text-align: right;\n",
       "    }\n",
       "</style>\n",
       "<table border=\"1\" class=\"dataframe\">\n",
       "  <thead>\n",
       "    <tr style=\"text-align: right;\">\n",
       "      <th></th>\n",
       "      <th>card_present_flag</th>\n",
       "      <th>balance</th>\n",
       "      <th>age</th>\n",
       "      <th>amount</th>\n",
       "      <th>month</th>\n",
       "      <th>day</th>\n",
       "      <th>hour</th>\n",
       "    </tr>\n",
       "    <tr>\n",
       "      <th>date</th>\n",
       "      <th></th>\n",
       "      <th></th>\n",
       "      <th></th>\n",
       "      <th></th>\n",
       "      <th></th>\n",
       "      <th></th>\n",
       "      <th></th>\n",
       "    </tr>\n",
       "  </thead>\n",
       "  <tbody>\n",
       "    <tr>\n",
       "      <th>2018-08-01</th>\n",
       "      <td>0.75</td>\n",
       "      <td>9933.975328</td>\n",
       "      <td>30.233577</td>\n",
       "      <td>218.014161</td>\n",
       "      <td>8.0</td>\n",
       "      <td>2.0</td>\n",
       "      <td>12.919708</td>\n",
       "    </tr>\n",
       "    <tr>\n",
       "      <th>2018-08-02</th>\n",
       "      <td>0.858586</td>\n",
       "      <td>13963.617895</td>\n",
       "      <td>31.493421</td>\n",
       "      <td>143.331053</td>\n",
       "      <td>8.0</td>\n",
       "      <td>3.0</td>\n",
       "      <td>13.190789</td>\n",
       "    </tr>\n",
       "    <tr>\n",
       "      <th>2018-08-03</th>\n",
       "      <td>0.79798</td>\n",
       "      <td>10187.786688</td>\n",
       "      <td>31.751592</td>\n",
       "      <td>242.653376</td>\n",
       "      <td>8.0</td>\n",
       "      <td>4.0</td>\n",
       "      <td>13.649682</td>\n",
       "    </tr>\n",
       "    <tr>\n",
       "      <th>2018-08-04</th>\n",
       "      <td>0.787234</td>\n",
       "      <td>8206.809407</td>\n",
       "      <td>31.033898</td>\n",
       "      <td>53.356356</td>\n",
       "      <td>8.0</td>\n",
       "      <td>5.0</td>\n",
       "      <td>13.584746</td>\n",
       "    </tr>\n",
       "    <tr>\n",
       "      <th>2018-08-05</th>\n",
       "      <td>0.739726</td>\n",
       "      <td>13297.525400</td>\n",
       "      <td>29.910000</td>\n",
       "      <td>44.265000</td>\n",
       "      <td>8.0</td>\n",
       "      <td>6.0</td>\n",
       "      <td>12.910000</td>\n",
       "    </tr>\n",
       "    <tr>\n",
       "      <th>...</th>\n",
       "      <td>...</td>\n",
       "      <td>...</td>\n",
       "      <td>...</td>\n",
       "      <td>...</td>\n",
       "      <td>...</td>\n",
       "      <td>...</td>\n",
       "      <td>...</td>\n",
       "    </tr>\n",
       "    <tr>\n",
       "      <th>2018-10-27</th>\n",
       "      <td>0.80198</td>\n",
       "      <td>17025.213741</td>\n",
       "      <td>31.194245</td>\n",
       "      <td>50.155252</td>\n",
       "      <td>10.0</td>\n",
       "      <td>5.0</td>\n",
       "      <td>13.920863</td>\n",
       "    </tr>\n",
       "    <tr>\n",
       "      <th>2018-10-28</th>\n",
       "      <td>0.772277</td>\n",
       "      <td>15298.837483</td>\n",
       "      <td>30.258741</td>\n",
       "      <td>59.007762</td>\n",
       "      <td>10.0</td>\n",
       "      <td>6.0</td>\n",
       "      <td>13.839161</td>\n",
       "    </tr>\n",
       "    <tr>\n",
       "      <th>2018-10-29</th>\n",
       "      <td>0.746032</td>\n",
       "      <td>20863.967843</td>\n",
       "      <td>29.460784</td>\n",
       "      <td>377.932745</td>\n",
       "      <td>10.0</td>\n",
       "      <td>0.0</td>\n",
       "      <td>13.450980</td>\n",
       "    </tr>\n",
       "    <tr>\n",
       "      <th>2018-10-30</th>\n",
       "      <td>0.86</td>\n",
       "      <td>19006.962022</td>\n",
       "      <td>31.348315</td>\n",
       "      <td>247.891461</td>\n",
       "      <td>10.0</td>\n",
       "      <td>1.0</td>\n",
       "      <td>12.662921</td>\n",
       "    </tr>\n",
       "    <tr>\n",
       "      <th>2018-10-31</th>\n",
       "      <td>0.763441</td>\n",
       "      <td>16791.528014</td>\n",
       "      <td>30.659574</td>\n",
       "      <td>155.795248</td>\n",
       "      <td>10.0</td>\n",
       "      <td>2.0</td>\n",
       "      <td>13.432624</td>\n",
       "    </tr>\n",
       "  </tbody>\n",
       "</table>\n",
       "<p>91 rows × 7 columns</p>\n",
       "</div>"
      ],
      "text/plain": [
       "            card_present_flag       balance        age      amount  month  \\\n",
       "date                                                                        \n",
       "2018-08-01               0.75   9933.975328  30.233577  218.014161    8.0   \n",
       "2018-08-02           0.858586  13963.617895  31.493421  143.331053    8.0   \n",
       "2018-08-03            0.79798  10187.786688  31.751592  242.653376    8.0   \n",
       "2018-08-04           0.787234   8206.809407  31.033898   53.356356    8.0   \n",
       "2018-08-05           0.739726  13297.525400  29.910000   44.265000    8.0   \n",
       "...                       ...           ...        ...         ...    ...   \n",
       "2018-10-27            0.80198  17025.213741  31.194245   50.155252   10.0   \n",
       "2018-10-28           0.772277  15298.837483  30.258741   59.007762   10.0   \n",
       "2018-10-29           0.746032  20863.967843  29.460784  377.932745   10.0   \n",
       "2018-10-30               0.86  19006.962022  31.348315  247.891461   10.0   \n",
       "2018-10-31           0.763441  16791.528014  30.659574  155.795248   10.0   \n",
       "\n",
       "            day       hour  \n",
       "date                        \n",
       "2018-08-01  2.0  12.919708  \n",
       "2018-08-02  3.0  13.190789  \n",
       "2018-08-03  4.0  13.649682  \n",
       "2018-08-04  5.0  13.584746  \n",
       "2018-08-05  6.0  12.910000  \n",
       "...         ...        ...  \n",
       "2018-10-27  5.0  13.920863  \n",
       "2018-10-28  6.0  13.839161  \n",
       "2018-10-29  0.0  13.450980  \n",
       "2018-10-30  1.0  12.662921  \n",
       "2018-10-31  2.0  13.432624  \n",
       "\n",
       "[91 rows x 7 columns]"
      ]
     },
     "execution_count": 76,
     "metadata": {},
     "output_type": "execute_result"
    }
   ],
   "source": [
    "df.groupby(by='date').mean(numeric_only=True)#[['amount']]"
   ]
  },
  {
   "cell_type": "code",
   "execution_count": 77,
   "metadata": {},
   "outputs": [
    {
     "data": {
      "text/html": [
       "<div>\n",
       "<style scoped>\n",
       "    .dataframe tbody tr th:only-of-type {\n",
       "        vertical-align: middle;\n",
       "    }\n",
       "\n",
       "    .dataframe tbody tr th {\n",
       "        vertical-align: top;\n",
       "    }\n",
       "\n",
       "    .dataframe thead th {\n",
       "        text-align: right;\n",
       "    }\n",
       "</style>\n",
       "<table border=\"1\" class=\"dataframe\">\n",
       "  <thead>\n",
       "    <tr style=\"text-align: right;\">\n",
       "      <th></th>\n",
       "      <th>Amount</th>\n",
       "      <th>Transaction Count</th>\n",
       "    </tr>\n",
       "    <tr>\n",
       "      <th>date</th>\n",
       "      <th></th>\n",
       "      <th></th>\n",
       "    </tr>\n",
       "  </thead>\n",
       "  <tbody>\n",
       "    <tr>\n",
       "      <th>2018-08-01</th>\n",
       "      <td>218.014161</td>\n",
       "      <td>137</td>\n",
       "    </tr>\n",
       "    <tr>\n",
       "      <th>2018-08-02</th>\n",
       "      <td>143.331053</td>\n",
       "      <td>152</td>\n",
       "    </tr>\n",
       "    <tr>\n",
       "      <th>2018-08-03</th>\n",
       "      <td>242.653376</td>\n",
       "      <td>157</td>\n",
       "    </tr>\n",
       "    <tr>\n",
       "      <th>2018-08-04</th>\n",
       "      <td>53.356356</td>\n",
       "      <td>118</td>\n",
       "    </tr>\n",
       "    <tr>\n",
       "      <th>2018-08-05</th>\n",
       "      <td>44.265000</td>\n",
       "      <td>100</td>\n",
       "    </tr>\n",
       "  </tbody>\n",
       "</table>\n",
       "</div>"
      ],
      "text/plain": [
       "                Amount  Transaction Count\n",
       "date                                     \n",
       "2018-08-01  218.014161                137\n",
       "2018-08-02  143.331053                152\n",
       "2018-08-03  242.653376                157\n",
       "2018-08-04   53.356356                118\n",
       "2018-08-05   44.265000                100"
      ]
     },
     "execution_count": 77,
     "metadata": {},
     "output_type": "execute_result"
    }
   ],
   "source": [
    "df3_grp=df.groupby(by='date').mean(numeric_only=True)[['amount']].merge(df.groupby(by='date').count()[['transaction_id']],on='date') \n",
    "df3_grp.columns= ['Amount','Transaction Count'] \n",
    "df3_grp.head()\n"
   ]
  },
  {
   "cell_type": "code",
   "execution_count": 78,
   "metadata": {},
   "outputs": [
    {
     "data": {
      "application/vnd.plotly.v1+json": {
       "config": {
        "plotlyServerURL": "https://plot.ly"
       },
       "data": [
        {
         "hovertemplate": "variable=Amount<br>date=%{x}<br>value=%{y}<extra></extra>",
         "legendgroup": "Amount",
         "line": {
          "color": "#636efa",
          "dash": "solid"
         },
         "marker": {
          "symbol": "circle"
         },
         "mode": "lines",
         "name": "Amount",
         "orientation": "v",
         "showlegend": true,
         "type": "scatter",
         "x": [
          "2018-08-01T00:00:00",
          "2018-08-02T00:00:00",
          "2018-08-03T00:00:00",
          "2018-08-04T00:00:00",
          "2018-08-05T00:00:00",
          "2018-08-06T00:00:00",
          "2018-08-07T00:00:00",
          "2018-08-08T00:00:00",
          "2018-08-09T00:00:00",
          "2018-08-10T00:00:00",
          "2018-08-11T00:00:00",
          "2018-08-12T00:00:00",
          "2018-08-13T00:00:00",
          "2018-08-14T00:00:00",
          "2018-08-15T00:00:00",
          "2018-08-17T00:00:00",
          "2018-08-18T00:00:00",
          "2018-08-19T00:00:00",
          "2018-08-20T00:00:00",
          "2018-08-21T00:00:00",
          "2018-08-22T00:00:00",
          "2018-08-23T00:00:00",
          "2018-08-24T00:00:00",
          "2018-08-25T00:00:00",
          "2018-08-26T00:00:00",
          "2018-08-27T00:00:00",
          "2018-08-28T00:00:00",
          "2018-08-29T00:00:00",
          "2018-08-30T00:00:00",
          "2018-08-31T00:00:00",
          "2018-09-01T00:00:00",
          "2018-09-02T00:00:00",
          "2018-09-03T00:00:00",
          "2018-09-04T00:00:00",
          "2018-09-05T00:00:00",
          "2018-09-06T00:00:00",
          "2018-09-07T00:00:00",
          "2018-09-08T00:00:00",
          "2018-09-09T00:00:00",
          "2018-09-10T00:00:00",
          "2018-09-11T00:00:00",
          "2018-09-12T00:00:00",
          "2018-09-13T00:00:00",
          "2018-09-14T00:00:00",
          "2018-09-15T00:00:00",
          "2018-09-16T00:00:00",
          "2018-09-17T00:00:00",
          "2018-09-18T00:00:00",
          "2018-09-19T00:00:00",
          "2018-09-20T00:00:00",
          "2018-09-21T00:00:00",
          "2018-09-22T00:00:00",
          "2018-09-23T00:00:00",
          "2018-09-24T00:00:00",
          "2018-09-25T00:00:00",
          "2018-09-26T00:00:00",
          "2018-09-27T00:00:00",
          "2018-09-28T00:00:00",
          "2018-09-29T00:00:00",
          "2018-09-30T00:00:00",
          "2018-10-01T00:00:00",
          "2018-10-02T00:00:00",
          "2018-10-03T00:00:00",
          "2018-10-04T00:00:00",
          "2018-10-05T00:00:00",
          "2018-10-06T00:00:00",
          "2018-10-07T00:00:00",
          "2018-10-08T00:00:00",
          "2018-10-09T00:00:00",
          "2018-10-10T00:00:00",
          "2018-10-11T00:00:00",
          "2018-10-12T00:00:00",
          "2018-10-13T00:00:00",
          "2018-10-14T00:00:00",
          "2018-10-15T00:00:00",
          "2018-10-16T00:00:00",
          "2018-10-17T00:00:00",
          "2018-10-18T00:00:00",
          "2018-10-19T00:00:00",
          "2018-10-20T00:00:00",
          "2018-10-21T00:00:00",
          "2018-10-22T00:00:00",
          "2018-10-23T00:00:00",
          "2018-10-24T00:00:00",
          "2018-10-25T00:00:00",
          "2018-10-26T00:00:00",
          "2018-10-27T00:00:00",
          "2018-10-28T00:00:00",
          "2018-10-29T00:00:00",
          "2018-10-30T00:00:00",
          "2018-10-31T00:00:00"
         ],
         "xaxis": "x",
         "y": [
          218.0141605839416,
          143.33105263157896,
          242.65337579617835,
          53.35635593220339,
          44.265,
          427.15383838383843,
          312.48280701754385,
          159.95113475177305,
          193.73691275167783,
          203.6712582781457,
          52.90786259541985,
          40.3405504587156,
          302.21221153846153,
          185.31675213675214,
          242.88500000000002,
          243.6407558139535,
          57.19448529411765,
          40.4993220338983,
          497.3230927835052,
          203.1551694915254,
          157.064,
          228.70427631578949,
          221.8148076923077,
          39.7312213740458,
          36.80163793103448,
          289.72324324324325,
          177.257890625,
          208.15661870503598,
          145.55615384615385,
          237.18045751633989,
          50.079489051094896,
          40.29589147286822,
          373.8330275229358,
          212.62151999999998,
          166.2756375838926,
          235.52085526315787,
          252.40309210526314,
          59.74813953488372,
          66.57358333333333,
          325.14,
          182.13144067796608,
          233.1630872483221,
          146.54448051948052,
          302.714099378882,
          59.91582677165355,
          43.999152542372876,
          376.49446428571434,
          267.99126984126985,
          165.48155405405404,
          261.5800684931507,
          211.5678125,
          55.452700729927,
          59.3290350877193,
          359.49247524752474,
          194.08726495726495,
          279.9541610738255,
          141.1767924528302,
          216.15454022988504,
          69.06374045801527,
          56.434205607476635,
          396.34009708737864,
          210.39612903225805,
          155.9416875,
          175.79836477987422,
          228.18446428571428,
          50.70969230769231,
          48.90114285714286,
          345.99810526315787,
          197.70690265486726,
          201.3664383561644,
          143.8046206896552,
          264.0142857142857,
          74.02051094890511,
          42.57028985507246,
          463.77750000000003,
          235.17725490196077,
          153.63395061728394,
          232.64093333333332,
          324.38449367088606,
          33.85404761904762,
          102.81751879699247,
          326.4663392857143,
          275.9691666666667,
          242.65574324324325,
          160.48214285714286,
          295.8665605095542,
          50.15525179856115,
          59.00776223776224,
          377.9327450980392,
          247.89146067415732,
          155.79524822695035
         ],
         "yaxis": "y"
        },
        {
         "hovertemplate": "variable=Transaction Count<br>date=%{x}<br>value=%{y}<extra></extra>",
         "legendgroup": "Transaction Count",
         "line": {
          "color": "#EF553B",
          "dash": "solid"
         },
         "marker": {
          "symbol": "circle"
         },
         "mode": "lines",
         "name": "Transaction Count",
         "orientation": "v",
         "showlegend": true,
         "type": "scatter",
         "x": [
          "2018-08-01T00:00:00",
          "2018-08-02T00:00:00",
          "2018-08-03T00:00:00",
          "2018-08-04T00:00:00",
          "2018-08-05T00:00:00",
          "2018-08-06T00:00:00",
          "2018-08-07T00:00:00",
          "2018-08-08T00:00:00",
          "2018-08-09T00:00:00",
          "2018-08-10T00:00:00",
          "2018-08-11T00:00:00",
          "2018-08-12T00:00:00",
          "2018-08-13T00:00:00",
          "2018-08-14T00:00:00",
          "2018-08-15T00:00:00",
          "2018-08-17T00:00:00",
          "2018-08-18T00:00:00",
          "2018-08-19T00:00:00",
          "2018-08-20T00:00:00",
          "2018-08-21T00:00:00",
          "2018-08-22T00:00:00",
          "2018-08-23T00:00:00",
          "2018-08-24T00:00:00",
          "2018-08-25T00:00:00",
          "2018-08-26T00:00:00",
          "2018-08-27T00:00:00",
          "2018-08-28T00:00:00",
          "2018-08-29T00:00:00",
          "2018-08-30T00:00:00",
          "2018-08-31T00:00:00",
          "2018-09-01T00:00:00",
          "2018-09-02T00:00:00",
          "2018-09-03T00:00:00",
          "2018-09-04T00:00:00",
          "2018-09-05T00:00:00",
          "2018-09-06T00:00:00",
          "2018-09-07T00:00:00",
          "2018-09-08T00:00:00",
          "2018-09-09T00:00:00",
          "2018-09-10T00:00:00",
          "2018-09-11T00:00:00",
          "2018-09-12T00:00:00",
          "2018-09-13T00:00:00",
          "2018-09-14T00:00:00",
          "2018-09-15T00:00:00",
          "2018-09-16T00:00:00",
          "2018-09-17T00:00:00",
          "2018-09-18T00:00:00",
          "2018-09-19T00:00:00",
          "2018-09-20T00:00:00",
          "2018-09-21T00:00:00",
          "2018-09-22T00:00:00",
          "2018-09-23T00:00:00",
          "2018-09-24T00:00:00",
          "2018-09-25T00:00:00",
          "2018-09-26T00:00:00",
          "2018-09-27T00:00:00",
          "2018-09-28T00:00:00",
          "2018-09-29T00:00:00",
          "2018-09-30T00:00:00",
          "2018-10-01T00:00:00",
          "2018-10-02T00:00:00",
          "2018-10-03T00:00:00",
          "2018-10-04T00:00:00",
          "2018-10-05T00:00:00",
          "2018-10-06T00:00:00",
          "2018-10-07T00:00:00",
          "2018-10-08T00:00:00",
          "2018-10-09T00:00:00",
          "2018-10-10T00:00:00",
          "2018-10-11T00:00:00",
          "2018-10-12T00:00:00",
          "2018-10-13T00:00:00",
          "2018-10-14T00:00:00",
          "2018-10-15T00:00:00",
          "2018-10-16T00:00:00",
          "2018-10-17T00:00:00",
          "2018-10-18T00:00:00",
          "2018-10-19T00:00:00",
          "2018-10-20T00:00:00",
          "2018-10-21T00:00:00",
          "2018-10-22T00:00:00",
          "2018-10-23T00:00:00",
          "2018-10-24T00:00:00",
          "2018-10-25T00:00:00",
          "2018-10-26T00:00:00",
          "2018-10-27T00:00:00",
          "2018-10-28T00:00:00",
          "2018-10-29T00:00:00",
          "2018-10-30T00:00:00",
          "2018-10-31T00:00:00"
         ],
         "xaxis": "x",
         "y": [
          137,
          152,
          157,
          118,
          100,
          99,
          114,
          141,
          149,
          151,
          131,
          109,
          104,
          117,
          144,
          172,
          136,
          118,
          97,
          118,
          150,
          152,
          156,
          131,
          116,
          111,
          128,
          139,
          143,
          153,
          137,
          129,
          109,
          125,
          149,
          152,
          152,
          129,
          120,
          103,
          118,
          149,
          154,
          161,
          127,
          118,
          112,
          126,
          148,
          146,
          160,
          137,
          114,
          101,
          117,
          149,
          159,
          174,
          131,
          107,
          103,
          124,
          160,
          159,
          168,
          130,
          105,
          95,
          113,
          146,
          145,
          154,
          137,
          138,
          112,
          102,
          162,
          150,
          158,
          126,
          133,
          112,
          96,
          148,
          140,
          157,
          139,
          143,
          102,
          89,
          141
         ],
         "yaxis": "y"
        }
       ],
       "layout": {
        "height": 500,
        "legend": {
         "title": {
          "text": "variable"
         },
         "tracegroupgap": 0
        },
        "margin": {
         "t": 60
        },
        "template": {
         "data": {
          "bar": [
           {
            "error_x": {
             "color": "#2a3f5f"
            },
            "error_y": {
             "color": "#2a3f5f"
            },
            "marker": {
             "line": {
              "color": "#E5ECF6",
              "width": 0.5
             },
             "pattern": {
              "fillmode": "overlay",
              "size": 10,
              "solidity": 0.2
             }
            },
            "type": "bar"
           }
          ],
          "barpolar": [
           {
            "marker": {
             "line": {
              "color": "#E5ECF6",
              "width": 0.5
             },
             "pattern": {
              "fillmode": "overlay",
              "size": 10,
              "solidity": 0.2
             }
            },
            "type": "barpolar"
           }
          ],
          "carpet": [
           {
            "aaxis": {
             "endlinecolor": "#2a3f5f",
             "gridcolor": "white",
             "linecolor": "white",
             "minorgridcolor": "white",
             "startlinecolor": "#2a3f5f"
            },
            "baxis": {
             "endlinecolor": "#2a3f5f",
             "gridcolor": "white",
             "linecolor": "white",
             "minorgridcolor": "white",
             "startlinecolor": "#2a3f5f"
            },
            "type": "carpet"
           }
          ],
          "choropleth": [
           {
            "colorbar": {
             "outlinewidth": 0,
             "ticks": ""
            },
            "type": "choropleth"
           }
          ],
          "contour": [
           {
            "colorbar": {
             "outlinewidth": 0,
             "ticks": ""
            },
            "colorscale": [
             [
              0,
              "#0d0887"
             ],
             [
              0.1111111111111111,
              "#46039f"
             ],
             [
              0.2222222222222222,
              "#7201a8"
             ],
             [
              0.3333333333333333,
              "#9c179e"
             ],
             [
              0.4444444444444444,
              "#bd3786"
             ],
             [
              0.5555555555555556,
              "#d8576b"
             ],
             [
              0.6666666666666666,
              "#ed7953"
             ],
             [
              0.7777777777777778,
              "#fb9f3a"
             ],
             [
              0.8888888888888888,
              "#fdca26"
             ],
             [
              1,
              "#f0f921"
             ]
            ],
            "type": "contour"
           }
          ],
          "contourcarpet": [
           {
            "colorbar": {
             "outlinewidth": 0,
             "ticks": ""
            },
            "type": "contourcarpet"
           }
          ],
          "heatmap": [
           {
            "colorbar": {
             "outlinewidth": 0,
             "ticks": ""
            },
            "colorscale": [
             [
              0,
              "#0d0887"
             ],
             [
              0.1111111111111111,
              "#46039f"
             ],
             [
              0.2222222222222222,
              "#7201a8"
             ],
             [
              0.3333333333333333,
              "#9c179e"
             ],
             [
              0.4444444444444444,
              "#bd3786"
             ],
             [
              0.5555555555555556,
              "#d8576b"
             ],
             [
              0.6666666666666666,
              "#ed7953"
             ],
             [
              0.7777777777777778,
              "#fb9f3a"
             ],
             [
              0.8888888888888888,
              "#fdca26"
             ],
             [
              1,
              "#f0f921"
             ]
            ],
            "type": "heatmap"
           }
          ],
          "heatmapgl": [
           {
            "colorbar": {
             "outlinewidth": 0,
             "ticks": ""
            },
            "colorscale": [
             [
              0,
              "#0d0887"
             ],
             [
              0.1111111111111111,
              "#46039f"
             ],
             [
              0.2222222222222222,
              "#7201a8"
             ],
             [
              0.3333333333333333,
              "#9c179e"
             ],
             [
              0.4444444444444444,
              "#bd3786"
             ],
             [
              0.5555555555555556,
              "#d8576b"
             ],
             [
              0.6666666666666666,
              "#ed7953"
             ],
             [
              0.7777777777777778,
              "#fb9f3a"
             ],
             [
              0.8888888888888888,
              "#fdca26"
             ],
             [
              1,
              "#f0f921"
             ]
            ],
            "type": "heatmapgl"
           }
          ],
          "histogram": [
           {
            "marker": {
             "pattern": {
              "fillmode": "overlay",
              "size": 10,
              "solidity": 0.2
             }
            },
            "type": "histogram"
           }
          ],
          "histogram2d": [
           {
            "colorbar": {
             "outlinewidth": 0,
             "ticks": ""
            },
            "colorscale": [
             [
              0,
              "#0d0887"
             ],
             [
              0.1111111111111111,
              "#46039f"
             ],
             [
              0.2222222222222222,
              "#7201a8"
             ],
             [
              0.3333333333333333,
              "#9c179e"
             ],
             [
              0.4444444444444444,
              "#bd3786"
             ],
             [
              0.5555555555555556,
              "#d8576b"
             ],
             [
              0.6666666666666666,
              "#ed7953"
             ],
             [
              0.7777777777777778,
              "#fb9f3a"
             ],
             [
              0.8888888888888888,
              "#fdca26"
             ],
             [
              1,
              "#f0f921"
             ]
            ],
            "type": "histogram2d"
           }
          ],
          "histogram2dcontour": [
           {
            "colorbar": {
             "outlinewidth": 0,
             "ticks": ""
            },
            "colorscale": [
             [
              0,
              "#0d0887"
             ],
             [
              0.1111111111111111,
              "#46039f"
             ],
             [
              0.2222222222222222,
              "#7201a8"
             ],
             [
              0.3333333333333333,
              "#9c179e"
             ],
             [
              0.4444444444444444,
              "#bd3786"
             ],
             [
              0.5555555555555556,
              "#d8576b"
             ],
             [
              0.6666666666666666,
              "#ed7953"
             ],
             [
              0.7777777777777778,
              "#fb9f3a"
             ],
             [
              0.8888888888888888,
              "#fdca26"
             ],
             [
              1,
              "#f0f921"
             ]
            ],
            "type": "histogram2dcontour"
           }
          ],
          "mesh3d": [
           {
            "colorbar": {
             "outlinewidth": 0,
             "ticks": ""
            },
            "type": "mesh3d"
           }
          ],
          "parcoords": [
           {
            "line": {
             "colorbar": {
              "outlinewidth": 0,
              "ticks": ""
             }
            },
            "type": "parcoords"
           }
          ],
          "pie": [
           {
            "automargin": true,
            "type": "pie"
           }
          ],
          "scatter": [
           {
            "fillpattern": {
             "fillmode": "overlay",
             "size": 10,
             "solidity": 0.2
            },
            "type": "scatter"
           }
          ],
          "scatter3d": [
           {
            "line": {
             "colorbar": {
              "outlinewidth": 0,
              "ticks": ""
             }
            },
            "marker": {
             "colorbar": {
              "outlinewidth": 0,
              "ticks": ""
             }
            },
            "type": "scatter3d"
           }
          ],
          "scattercarpet": [
           {
            "marker": {
             "colorbar": {
              "outlinewidth": 0,
              "ticks": ""
             }
            },
            "type": "scattercarpet"
           }
          ],
          "scattergeo": [
           {
            "marker": {
             "colorbar": {
              "outlinewidth": 0,
              "ticks": ""
             }
            },
            "type": "scattergeo"
           }
          ],
          "scattergl": [
           {
            "marker": {
             "colorbar": {
              "outlinewidth": 0,
              "ticks": ""
             }
            },
            "type": "scattergl"
           }
          ],
          "scattermapbox": [
           {
            "marker": {
             "colorbar": {
              "outlinewidth": 0,
              "ticks": ""
             }
            },
            "type": "scattermapbox"
           }
          ],
          "scatterpolar": [
           {
            "marker": {
             "colorbar": {
              "outlinewidth": 0,
              "ticks": ""
             }
            },
            "type": "scatterpolar"
           }
          ],
          "scatterpolargl": [
           {
            "marker": {
             "colorbar": {
              "outlinewidth": 0,
              "ticks": ""
             }
            },
            "type": "scatterpolargl"
           }
          ],
          "scatterternary": [
           {
            "marker": {
             "colorbar": {
              "outlinewidth": 0,
              "ticks": ""
             }
            },
            "type": "scatterternary"
           }
          ],
          "surface": [
           {
            "colorbar": {
             "outlinewidth": 0,
             "ticks": ""
            },
            "colorscale": [
             [
              0,
              "#0d0887"
             ],
             [
              0.1111111111111111,
              "#46039f"
             ],
             [
              0.2222222222222222,
              "#7201a8"
             ],
             [
              0.3333333333333333,
              "#9c179e"
             ],
             [
              0.4444444444444444,
              "#bd3786"
             ],
             [
              0.5555555555555556,
              "#d8576b"
             ],
             [
              0.6666666666666666,
              "#ed7953"
             ],
             [
              0.7777777777777778,
              "#fb9f3a"
             ],
             [
              0.8888888888888888,
              "#fdca26"
             ],
             [
              1,
              "#f0f921"
             ]
            ],
            "type": "surface"
           }
          ],
          "table": [
           {
            "cells": {
             "fill": {
              "color": "#EBF0F8"
             },
             "line": {
              "color": "white"
             }
            },
            "header": {
             "fill": {
              "color": "#C8D4E3"
             },
             "line": {
              "color": "white"
             }
            },
            "type": "table"
           }
          ]
         },
         "layout": {
          "annotationdefaults": {
           "arrowcolor": "#2a3f5f",
           "arrowhead": 0,
           "arrowwidth": 1
          },
          "autotypenumbers": "strict",
          "coloraxis": {
           "colorbar": {
            "outlinewidth": 0,
            "ticks": ""
           }
          },
          "colorscale": {
           "diverging": [
            [
             0,
             "#8e0152"
            ],
            [
             0.1,
             "#c51b7d"
            ],
            [
             0.2,
             "#de77ae"
            ],
            [
             0.3,
             "#f1b6da"
            ],
            [
             0.4,
             "#fde0ef"
            ],
            [
             0.5,
             "#f7f7f7"
            ],
            [
             0.6,
             "#e6f5d0"
            ],
            [
             0.7,
             "#b8e186"
            ],
            [
             0.8,
             "#7fbc41"
            ],
            [
             0.9,
             "#4d9221"
            ],
            [
             1,
             "#276419"
            ]
           ],
           "sequential": [
            [
             0,
             "#0d0887"
            ],
            [
             0.1111111111111111,
             "#46039f"
            ],
            [
             0.2222222222222222,
             "#7201a8"
            ],
            [
             0.3333333333333333,
             "#9c179e"
            ],
            [
             0.4444444444444444,
             "#bd3786"
            ],
            [
             0.5555555555555556,
             "#d8576b"
            ],
            [
             0.6666666666666666,
             "#ed7953"
            ],
            [
             0.7777777777777778,
             "#fb9f3a"
            ],
            [
             0.8888888888888888,
             "#fdca26"
            ],
            [
             1,
             "#f0f921"
            ]
           ],
           "sequentialminus": [
            [
             0,
             "#0d0887"
            ],
            [
             0.1111111111111111,
             "#46039f"
            ],
            [
             0.2222222222222222,
             "#7201a8"
            ],
            [
             0.3333333333333333,
             "#9c179e"
            ],
            [
             0.4444444444444444,
             "#bd3786"
            ],
            [
             0.5555555555555556,
             "#d8576b"
            ],
            [
             0.6666666666666666,
             "#ed7953"
            ],
            [
             0.7777777777777778,
             "#fb9f3a"
            ],
            [
             0.8888888888888888,
             "#fdca26"
            ],
            [
             1,
             "#f0f921"
            ]
           ]
          },
          "colorway": [
           "#636efa",
           "#EF553B",
           "#00cc96",
           "#ab63fa",
           "#FFA15A",
           "#19d3f3",
           "#FF6692",
           "#B6E880",
           "#FF97FF",
           "#FECB52"
          ],
          "font": {
           "color": "#2a3f5f"
          },
          "geo": {
           "bgcolor": "white",
           "lakecolor": "white",
           "landcolor": "#E5ECF6",
           "showlakes": true,
           "showland": true,
           "subunitcolor": "white"
          },
          "hoverlabel": {
           "align": "left"
          },
          "hovermode": "closest",
          "mapbox": {
           "style": "light"
          },
          "paper_bgcolor": "white",
          "plot_bgcolor": "#E5ECF6",
          "polar": {
           "angularaxis": {
            "gridcolor": "white",
            "linecolor": "white",
            "ticks": ""
           },
           "bgcolor": "#E5ECF6",
           "radialaxis": {
            "gridcolor": "white",
            "linecolor": "white",
            "ticks": ""
           }
          },
          "scene": {
           "xaxis": {
            "backgroundcolor": "#E5ECF6",
            "gridcolor": "white",
            "gridwidth": 2,
            "linecolor": "white",
            "showbackground": true,
            "ticks": "",
            "zerolinecolor": "white"
           },
           "yaxis": {
            "backgroundcolor": "#E5ECF6",
            "gridcolor": "white",
            "gridwidth": 2,
            "linecolor": "white",
            "showbackground": true,
            "ticks": "",
            "zerolinecolor": "white"
           },
           "zaxis": {
            "backgroundcolor": "#E5ECF6",
            "gridcolor": "white",
            "gridwidth": 2,
            "linecolor": "white",
            "showbackground": true,
            "ticks": "",
            "zerolinecolor": "white"
           }
          },
          "shapedefaults": {
           "line": {
            "color": "#2a3f5f"
           }
          },
          "ternary": {
           "aaxis": {
            "gridcolor": "white",
            "linecolor": "white",
            "ticks": ""
           },
           "baxis": {
            "gridcolor": "white",
            "linecolor": "white",
            "ticks": ""
           },
           "bgcolor": "#E5ECF6",
           "caxis": {
            "gridcolor": "white",
            "linecolor": "white",
            "ticks": ""
           }
          },
          "title": {
           "x": 0.05
          },
          "xaxis": {
           "automargin": true,
           "gridcolor": "white",
           "linecolor": "white",
           "ticks": "",
           "title": {
            "standoff": 15
           },
           "zerolinecolor": "white",
           "zerolinewidth": 2
          },
          "yaxis": {
           "automargin": true,
           "gridcolor": "white",
           "linecolor": "white",
           "ticks": "",
           "title": {
            "standoff": 15
           },
           "zerolinecolor": "white",
           "zerolinewidth": 2
          }
         }
        },
        "title": {
         "font": {
          "size": 20
         },
         "text": "Average Amount VS Txn Count over time",
         "x": 0.5,
         "y": 0.95
        },
        "width": 980,
        "xaxis": {
         "anchor": "y",
         "domain": [
          0,
          1
         ],
         "showgrid": false,
         "title": {
          "text": "Date"
         }
        },
        "yaxis": {
         "anchor": "x",
         "domain": [
          0,
          1
         ],
         "showgrid": false,
         "title": {
          "text": "value"
         }
        }
       }
      }
     },
     "metadata": {},
     "output_type": "display_data"
    }
   ],
   "source": [
    "fig=px.line(df3_grp) \n",
    "fig.update_xaxes(title='Date',showgrid=False)  \n",
    "fig.update_yaxes(showgrid=False) \n",
    "fig.update_layout( \n",
    " title=dict(text = \"Average Amount VS Txn Count over time\",x=0.5,y=0.95),  title_font_size=20, \n",
    "width = 980, \n",
    " height = 500, \n",
    " ) \n",
    "fig.show()\n"
   ]
  },
  {
   "cell_type": "code",
   "execution_count": 79,
   "metadata": {},
   "outputs": [
    {
     "data": {
      "application/vnd.plotly.v1+json": {
       "config": {
        "plotlyServerURL": "https://plot.ly"
       },
       "data": [
        {
         "hovertemplate": "variable=amount<br>date=%{x}<br>value=%{y}<extra></extra>",
         "legendgroup": "amount",
         "line": {
          "color": "#8cba51",
          "dash": "solid",
          "width": 3.5
         },
         "marker": {
          "symbol": "circle"
         },
         "mode": "lines",
         "name": "amount",
         "orientation": "v",
         "showlegend": true,
         "type": "scatter",
         "x": [
          "2018-08-01T00:00:00",
          "2018-08-02T00:00:00",
          "2018-08-03T00:00:00",
          "2018-08-04T00:00:00",
          "2018-08-05T00:00:00",
          "2018-08-06T00:00:00",
          "2018-08-07T00:00:00",
          "2018-08-08T00:00:00",
          "2018-08-09T00:00:00",
          "2018-08-10T00:00:00",
          "2018-08-11T00:00:00",
          "2018-08-12T00:00:00",
          "2018-08-13T00:00:00",
          "2018-08-14T00:00:00",
          "2018-08-15T00:00:00",
          "2018-08-17T00:00:00",
          "2018-08-18T00:00:00",
          "2018-08-19T00:00:00",
          "2018-08-20T00:00:00",
          "2018-08-21T00:00:00",
          "2018-08-22T00:00:00",
          "2018-08-23T00:00:00",
          "2018-08-24T00:00:00",
          "2018-08-25T00:00:00",
          "2018-08-26T00:00:00",
          "2018-08-27T00:00:00",
          "2018-08-28T00:00:00",
          "2018-08-29T00:00:00",
          "2018-08-30T00:00:00",
          "2018-08-31T00:00:00",
          "2018-09-01T00:00:00",
          "2018-09-02T00:00:00",
          "2018-09-03T00:00:00",
          "2018-09-04T00:00:00",
          "2018-09-05T00:00:00",
          "2018-09-06T00:00:00",
          "2018-09-07T00:00:00",
          "2018-09-08T00:00:00",
          "2018-09-09T00:00:00",
          "2018-09-10T00:00:00",
          "2018-09-11T00:00:00",
          "2018-09-12T00:00:00",
          "2018-09-13T00:00:00",
          "2018-09-14T00:00:00",
          "2018-09-15T00:00:00",
          "2018-09-16T00:00:00",
          "2018-09-17T00:00:00",
          "2018-09-18T00:00:00",
          "2018-09-19T00:00:00",
          "2018-09-20T00:00:00",
          "2018-09-21T00:00:00",
          "2018-09-22T00:00:00",
          "2018-09-23T00:00:00",
          "2018-09-24T00:00:00",
          "2018-09-25T00:00:00",
          "2018-09-26T00:00:00",
          "2018-09-27T00:00:00",
          "2018-09-28T00:00:00",
          "2018-09-29T00:00:00",
          "2018-09-30T00:00:00",
          "2018-10-01T00:00:00",
          "2018-10-02T00:00:00",
          "2018-10-03T00:00:00",
          "2018-10-04T00:00:00",
          "2018-10-05T00:00:00",
          "2018-10-06T00:00:00",
          "2018-10-07T00:00:00",
          "2018-10-08T00:00:00",
          "2018-10-09T00:00:00",
          "2018-10-10T00:00:00",
          "2018-10-11T00:00:00",
          "2018-10-12T00:00:00",
          "2018-10-13T00:00:00",
          "2018-10-14T00:00:00",
          "2018-10-15T00:00:00",
          "2018-10-16T00:00:00",
          "2018-10-17T00:00:00",
          "2018-10-18T00:00:00",
          "2018-10-19T00:00:00",
          "2018-10-20T00:00:00",
          "2018-10-21T00:00:00",
          "2018-10-22T00:00:00",
          "2018-10-23T00:00:00",
          "2018-10-24T00:00:00",
          "2018-10-25T00:00:00",
          "2018-10-26T00:00:00",
          "2018-10-27T00:00:00",
          "2018-10-28T00:00:00",
          "2018-10-29T00:00:00",
          "2018-10-30T00:00:00",
          "2018-10-31T00:00:00"
         ],
         "xaxis": "x",
         "y": [
          29867.94,
          21786.32,
          38096.58,
          6296.05,
          4426.5,
          42288.23,
          35623.04,
          22553.11,
          28866.8,
          30754.36,
          6930.93,
          4397.12,
          31430.07,
          21682.06,
          34975.44,
          41906.21,
          7778.45,
          4778.92,
          48240.340000000004,
          23972.309999999998,
          23559.6,
          34763.05,
          34603.11,
          5204.79,
          4268.99,
          32159.28,
          22689.01,
          28933.77,
          20814.53,
          36288.61,
          6860.89,
          5198.17,
          40747.8,
          26577.69,
          24775.07,
          35799.17,
          38365.27,
          7707.51,
          7988.83,
          33489.42,
          21491.51,
          34741.299999999996,
          22567.85,
          48736.97,
          7609.31,
          5191.9,
          42167.380000000005,
          33766.9,
          24491.27,
          38190.69,
          33850.85,
          7597.0199999999995,
          6763.51,
          36308.74,
          22708.21,
          41713.17,
          22447.11,
          37610.89,
          9047.35,
          6038.46,
          40823.03,
          26089.12,
          24950.67,
          27951.940000000002,
          38334.99,
          6592.26,
          5134.62,
          32869.82,
          22340.88,
          29399.5,
          20851.670000000002,
          40658.2,
          10140.81,
          5874.7,
          51943.08,
          23988.079999999998,
          24888.7,
          34896.14,
          51252.75,
          4265.61,
          13674.73,
          36564.23,
          26493.04,
          35913.05,
          22467.5,
          46451.05,
          6971.58,
          8438.11,
          38549.14,
          22062.34,
          21967.13
         ],
         "yaxis": "y"
        }
       ],
       "layout": {
        "height": 500,
        "legend": {
         "title": {
          "text": "variable"
         },
         "tracegroupgap": 0
        },
        "margin": {
         "t": 60
        },
        "showlegend": false,
        "template": {
         "data": {
          "bar": [
           {
            "error_x": {
             "color": "#2a3f5f"
            },
            "error_y": {
             "color": "#2a3f5f"
            },
            "marker": {
             "line": {
              "color": "#E5ECF6",
              "width": 0.5
             },
             "pattern": {
              "fillmode": "overlay",
              "size": 10,
              "solidity": 0.2
             }
            },
            "type": "bar"
           }
          ],
          "barpolar": [
           {
            "marker": {
             "line": {
              "color": "#E5ECF6",
              "width": 0.5
             },
             "pattern": {
              "fillmode": "overlay",
              "size": 10,
              "solidity": 0.2
             }
            },
            "type": "barpolar"
           }
          ],
          "carpet": [
           {
            "aaxis": {
             "endlinecolor": "#2a3f5f",
             "gridcolor": "white",
             "linecolor": "white",
             "minorgridcolor": "white",
             "startlinecolor": "#2a3f5f"
            },
            "baxis": {
             "endlinecolor": "#2a3f5f",
             "gridcolor": "white",
             "linecolor": "white",
             "minorgridcolor": "white",
             "startlinecolor": "#2a3f5f"
            },
            "type": "carpet"
           }
          ],
          "choropleth": [
           {
            "colorbar": {
             "outlinewidth": 0,
             "ticks": ""
            },
            "type": "choropleth"
           }
          ],
          "contour": [
           {
            "colorbar": {
             "outlinewidth": 0,
             "ticks": ""
            },
            "colorscale": [
             [
              0,
              "#0d0887"
             ],
             [
              0.1111111111111111,
              "#46039f"
             ],
             [
              0.2222222222222222,
              "#7201a8"
             ],
             [
              0.3333333333333333,
              "#9c179e"
             ],
             [
              0.4444444444444444,
              "#bd3786"
             ],
             [
              0.5555555555555556,
              "#d8576b"
             ],
             [
              0.6666666666666666,
              "#ed7953"
             ],
             [
              0.7777777777777778,
              "#fb9f3a"
             ],
             [
              0.8888888888888888,
              "#fdca26"
             ],
             [
              1,
              "#f0f921"
             ]
            ],
            "type": "contour"
           }
          ],
          "contourcarpet": [
           {
            "colorbar": {
             "outlinewidth": 0,
             "ticks": ""
            },
            "type": "contourcarpet"
           }
          ],
          "heatmap": [
           {
            "colorbar": {
             "outlinewidth": 0,
             "ticks": ""
            },
            "colorscale": [
             [
              0,
              "#0d0887"
             ],
             [
              0.1111111111111111,
              "#46039f"
             ],
             [
              0.2222222222222222,
              "#7201a8"
             ],
             [
              0.3333333333333333,
              "#9c179e"
             ],
             [
              0.4444444444444444,
              "#bd3786"
             ],
             [
              0.5555555555555556,
              "#d8576b"
             ],
             [
              0.6666666666666666,
              "#ed7953"
             ],
             [
              0.7777777777777778,
              "#fb9f3a"
             ],
             [
              0.8888888888888888,
              "#fdca26"
             ],
             [
              1,
              "#f0f921"
             ]
            ],
            "type": "heatmap"
           }
          ],
          "heatmapgl": [
           {
            "colorbar": {
             "outlinewidth": 0,
             "ticks": ""
            },
            "colorscale": [
             [
              0,
              "#0d0887"
             ],
             [
              0.1111111111111111,
              "#46039f"
             ],
             [
              0.2222222222222222,
              "#7201a8"
             ],
             [
              0.3333333333333333,
              "#9c179e"
             ],
             [
              0.4444444444444444,
              "#bd3786"
             ],
             [
              0.5555555555555556,
              "#d8576b"
             ],
             [
              0.6666666666666666,
              "#ed7953"
             ],
             [
              0.7777777777777778,
              "#fb9f3a"
             ],
             [
              0.8888888888888888,
              "#fdca26"
             ],
             [
              1,
              "#f0f921"
             ]
            ],
            "type": "heatmapgl"
           }
          ],
          "histogram": [
           {
            "marker": {
             "pattern": {
              "fillmode": "overlay",
              "size": 10,
              "solidity": 0.2
             }
            },
            "type": "histogram"
           }
          ],
          "histogram2d": [
           {
            "colorbar": {
             "outlinewidth": 0,
             "ticks": ""
            },
            "colorscale": [
             [
              0,
              "#0d0887"
             ],
             [
              0.1111111111111111,
              "#46039f"
             ],
             [
              0.2222222222222222,
              "#7201a8"
             ],
             [
              0.3333333333333333,
              "#9c179e"
             ],
             [
              0.4444444444444444,
              "#bd3786"
             ],
             [
              0.5555555555555556,
              "#d8576b"
             ],
             [
              0.6666666666666666,
              "#ed7953"
             ],
             [
              0.7777777777777778,
              "#fb9f3a"
             ],
             [
              0.8888888888888888,
              "#fdca26"
             ],
             [
              1,
              "#f0f921"
             ]
            ],
            "type": "histogram2d"
           }
          ],
          "histogram2dcontour": [
           {
            "colorbar": {
             "outlinewidth": 0,
             "ticks": ""
            },
            "colorscale": [
             [
              0,
              "#0d0887"
             ],
             [
              0.1111111111111111,
              "#46039f"
             ],
             [
              0.2222222222222222,
              "#7201a8"
             ],
             [
              0.3333333333333333,
              "#9c179e"
             ],
             [
              0.4444444444444444,
              "#bd3786"
             ],
             [
              0.5555555555555556,
              "#d8576b"
             ],
             [
              0.6666666666666666,
              "#ed7953"
             ],
             [
              0.7777777777777778,
              "#fb9f3a"
             ],
             [
              0.8888888888888888,
              "#fdca26"
             ],
             [
              1,
              "#f0f921"
             ]
            ],
            "type": "histogram2dcontour"
           }
          ],
          "mesh3d": [
           {
            "colorbar": {
             "outlinewidth": 0,
             "ticks": ""
            },
            "type": "mesh3d"
           }
          ],
          "parcoords": [
           {
            "line": {
             "colorbar": {
              "outlinewidth": 0,
              "ticks": ""
             }
            },
            "type": "parcoords"
           }
          ],
          "pie": [
           {
            "automargin": true,
            "type": "pie"
           }
          ],
          "scatter": [
           {
            "fillpattern": {
             "fillmode": "overlay",
             "size": 10,
             "solidity": 0.2
            },
            "type": "scatter"
           }
          ],
          "scatter3d": [
           {
            "line": {
             "colorbar": {
              "outlinewidth": 0,
              "ticks": ""
             }
            },
            "marker": {
             "colorbar": {
              "outlinewidth": 0,
              "ticks": ""
             }
            },
            "type": "scatter3d"
           }
          ],
          "scattercarpet": [
           {
            "marker": {
             "colorbar": {
              "outlinewidth": 0,
              "ticks": ""
             }
            },
            "type": "scattercarpet"
           }
          ],
          "scattergeo": [
           {
            "marker": {
             "colorbar": {
              "outlinewidth": 0,
              "ticks": ""
             }
            },
            "type": "scattergeo"
           }
          ],
          "scattergl": [
           {
            "marker": {
             "colorbar": {
              "outlinewidth": 0,
              "ticks": ""
             }
            },
            "type": "scattergl"
           }
          ],
          "scattermapbox": [
           {
            "marker": {
             "colorbar": {
              "outlinewidth": 0,
              "ticks": ""
             }
            },
            "type": "scattermapbox"
           }
          ],
          "scatterpolar": [
           {
            "marker": {
             "colorbar": {
              "outlinewidth": 0,
              "ticks": ""
             }
            },
            "type": "scatterpolar"
           }
          ],
          "scatterpolargl": [
           {
            "marker": {
             "colorbar": {
              "outlinewidth": 0,
              "ticks": ""
             }
            },
            "type": "scatterpolargl"
           }
          ],
          "scatterternary": [
           {
            "marker": {
             "colorbar": {
              "outlinewidth": 0,
              "ticks": ""
             }
            },
            "type": "scatterternary"
           }
          ],
          "surface": [
           {
            "colorbar": {
             "outlinewidth": 0,
             "ticks": ""
            },
            "colorscale": [
             [
              0,
              "#0d0887"
             ],
             [
              0.1111111111111111,
              "#46039f"
             ],
             [
              0.2222222222222222,
              "#7201a8"
             ],
             [
              0.3333333333333333,
              "#9c179e"
             ],
             [
              0.4444444444444444,
              "#bd3786"
             ],
             [
              0.5555555555555556,
              "#d8576b"
             ],
             [
              0.6666666666666666,
              "#ed7953"
             ],
             [
              0.7777777777777778,
              "#fb9f3a"
             ],
             [
              0.8888888888888888,
              "#fdca26"
             ],
             [
              1,
              "#f0f921"
             ]
            ],
            "type": "surface"
           }
          ],
          "table": [
           {
            "cells": {
             "fill": {
              "color": "#EBF0F8"
             },
             "line": {
              "color": "white"
             }
            },
            "header": {
             "fill": {
              "color": "#C8D4E3"
             },
             "line": {
              "color": "white"
             }
            },
            "type": "table"
           }
          ]
         },
         "layout": {
          "annotationdefaults": {
           "arrowcolor": "#2a3f5f",
           "arrowhead": 0,
           "arrowwidth": 1
          },
          "autotypenumbers": "strict",
          "coloraxis": {
           "colorbar": {
            "outlinewidth": 0,
            "ticks": ""
           }
          },
          "colorscale": {
           "diverging": [
            [
             0,
             "#8e0152"
            ],
            [
             0.1,
             "#c51b7d"
            ],
            [
             0.2,
             "#de77ae"
            ],
            [
             0.3,
             "#f1b6da"
            ],
            [
             0.4,
             "#fde0ef"
            ],
            [
             0.5,
             "#f7f7f7"
            ],
            [
             0.6,
             "#e6f5d0"
            ],
            [
             0.7,
             "#b8e186"
            ],
            [
             0.8,
             "#7fbc41"
            ],
            [
             0.9,
             "#4d9221"
            ],
            [
             1,
             "#276419"
            ]
           ],
           "sequential": [
            [
             0,
             "#0d0887"
            ],
            [
             0.1111111111111111,
             "#46039f"
            ],
            [
             0.2222222222222222,
             "#7201a8"
            ],
            [
             0.3333333333333333,
             "#9c179e"
            ],
            [
             0.4444444444444444,
             "#bd3786"
            ],
            [
             0.5555555555555556,
             "#d8576b"
            ],
            [
             0.6666666666666666,
             "#ed7953"
            ],
            [
             0.7777777777777778,
             "#fb9f3a"
            ],
            [
             0.8888888888888888,
             "#fdca26"
            ],
            [
             1,
             "#f0f921"
            ]
           ],
           "sequentialminus": [
            [
             0,
             "#0d0887"
            ],
            [
             0.1111111111111111,
             "#46039f"
            ],
            [
             0.2222222222222222,
             "#7201a8"
            ],
            [
             0.3333333333333333,
             "#9c179e"
            ],
            [
             0.4444444444444444,
             "#bd3786"
            ],
            [
             0.5555555555555556,
             "#d8576b"
            ],
            [
             0.6666666666666666,
             "#ed7953"
            ],
            [
             0.7777777777777778,
             "#fb9f3a"
            ],
            [
             0.8888888888888888,
             "#fdca26"
            ],
            [
             1,
             "#f0f921"
            ]
           ]
          },
          "colorway": [
           "#636efa",
           "#EF553B",
           "#00cc96",
           "#ab63fa",
           "#FFA15A",
           "#19d3f3",
           "#FF6692",
           "#B6E880",
           "#FF97FF",
           "#FECB52"
          ],
          "font": {
           "color": "#2a3f5f"
          },
          "geo": {
           "bgcolor": "white",
           "lakecolor": "white",
           "landcolor": "#E5ECF6",
           "showlakes": true,
           "showland": true,
           "subunitcolor": "white"
          },
          "hoverlabel": {
           "align": "left"
          },
          "hovermode": "closest",
          "mapbox": {
           "style": "light"
          },
          "paper_bgcolor": "white",
          "plot_bgcolor": "#E5ECF6",
          "polar": {
           "angularaxis": {
            "gridcolor": "white",
            "linecolor": "white",
            "ticks": ""
           },
           "bgcolor": "#E5ECF6",
           "radialaxis": {
            "gridcolor": "white",
            "linecolor": "white",
            "ticks": ""
           }
          },
          "scene": {
           "xaxis": {
            "backgroundcolor": "#E5ECF6",
            "gridcolor": "white",
            "gridwidth": 2,
            "linecolor": "white",
            "showbackground": true,
            "ticks": "",
            "zerolinecolor": "white"
           },
           "yaxis": {
            "backgroundcolor": "#E5ECF6",
            "gridcolor": "white",
            "gridwidth": 2,
            "linecolor": "white",
            "showbackground": true,
            "ticks": "",
            "zerolinecolor": "white"
           },
           "zaxis": {
            "backgroundcolor": "#E5ECF6",
            "gridcolor": "white",
            "gridwidth": 2,
            "linecolor": "white",
            "showbackground": true,
            "ticks": "",
            "zerolinecolor": "white"
           }
          },
          "shapedefaults": {
           "line": {
            "color": "#2a3f5f"
           }
          },
          "ternary": {
           "aaxis": {
            "gridcolor": "white",
            "linecolor": "white",
            "ticks": ""
           },
           "baxis": {
            "gridcolor": "white",
            "linecolor": "white",
            "ticks": ""
           },
           "bgcolor": "#E5ECF6",
           "caxis": {
            "gridcolor": "white",
            "linecolor": "white",
            "ticks": ""
           }
          },
          "title": {
           "x": 0.05
          },
          "xaxis": {
           "automargin": true,
           "gridcolor": "white",
           "linecolor": "white",
           "ticks": "",
           "title": {
            "standoff": 15
           },
           "zerolinecolor": "white",
           "zerolinewidth": 2
          },
          "yaxis": {
           "automargin": true,
           "gridcolor": "white",
           "linecolor": "white",
           "ticks": "",
           "title": {
            "standoff": 15
           },
           "zerolinecolor": "white",
           "zerolinewidth": 2
          }
         }
        },
        "title": {
         "font": {
          "size": 20
         },
         "text": "Total Txn Amount over time",
         "x": 0.5,
         "y": 0.95
        },
        "width": 980,
        "xaxis": {
         "anchor": "y",
         "domain": [
          0,
          1
         ],
         "showgrid": false,
         "title": {
          "text": "Date"
         }
        },
        "yaxis": {
         "anchor": "x",
         "domain": [
          0,
          1
         ],
         "showgrid": false,
         "title": {
          "text": "Transaction Amount"
         }
        }
       }
      }
     },
     "metadata": {},
     "output_type": "display_data"
    }
   ],
   "source": [
    "fig=px.line(df.groupby(by='date').sum(numeric_only=True)[['amount']]) \n",
    "fig.update_traces(line=dict(color=\"#8cba51\", width=3.5)) \n",
    "fig.update_xaxes(title='Date',showgrid=False)  \n",
    "fig.update_yaxes(title='Transaction Amount',showgrid=False) \n",
    "fig.update_layout( \n",
    " title=dict(text = \"Total Txn Amount over time\",x=0.5,y=0.95),  title_font_size=20, \n",
    "showlegend=False, \n",
    "width = 980, \n",
    " height = 500 \n",
    " ) \n",
    "\n",
    "fig.show()\n"
   ]
  },
  {
   "cell_type": "code",
   "execution_count": 80,
   "metadata": {},
   "outputs": [
    {
     "data": {
      "application/vnd.plotly.v1+json": {
       "config": {
        "plotlyServerURL": "https://plot.ly"
       },
       "data": [
        {
         "fillcolor": "red",
         "hovertemplate": "variable=amount<br>hour=%{x}<br>value=%{y}<br>text=%{text}<extra></extra>",
         "legendgroup": "amount",
         "line": {
          "color": "#f58634",
          "dash": "solid",
          "width": 5
         },
         "marker": {
          "symbol": "circle"
         },
         "mode": "lines+markers+text",
         "name": "amount",
         "orientation": "v",
         "showlegend": true,
         "text": [
          "3k",
          "10k",
          "16k",
          "17k",
          "19k",
          "13k",
          "15k",
          "19k",
          "24k",
          "47k",
          "32k",
          "297k",
          "203k",
          "371k",
          "196k",
          "170k",
          "174k",
          "479k",
          "21k",
          "30k",
          "28k",
          "33k",
          "24k",
          "22k"
         ],
         "textposition": "middle right",
         "type": "scatter",
         "x": [
          0,
          1,
          2,
          3,
          4,
          5,
          6,
          7,
          8,
          9,
          10,
          11,
          12,
          13,
          14,
          15,
          16,
          17,
          18,
          19,
          20,
          21,
          22,
          23
         ],
         "xaxis": "x",
         "y": [
          3053.69,
          10425.31,
          15957.19,
          16606.28,
          18942.27,
          13485.65,
          14742.11,
          19398.65,
          23930.79,
          46785.05,
          32478.23,
          297107.2,
          203100.24,
          371203.19,
          195873.92,
          170249.28,
          174082.53,
          478957.49,
          20516.7,
          29881.85,
          27995.31,
          32983.01,
          23949.94,
          21578.32
         ],
         "yaxis": "y"
        }
       ],
       "layout": {
        "height": 500,
        "legend": {
         "title": {
          "text": "variable"
         },
         "tracegroupgap": 0
        },
        "margin": {
         "t": 60
        },
        "showlegend": false,
        "template": {
         "data": {
          "bar": [
           {
            "error_x": {
             "color": "#2a3f5f"
            },
            "error_y": {
             "color": "#2a3f5f"
            },
            "marker": {
             "line": {
              "color": "#E5ECF6",
              "width": 0.5
             },
             "pattern": {
              "fillmode": "overlay",
              "size": 10,
              "solidity": 0.2
             }
            },
            "type": "bar"
           }
          ],
          "barpolar": [
           {
            "marker": {
             "line": {
              "color": "#E5ECF6",
              "width": 0.5
             },
             "pattern": {
              "fillmode": "overlay",
              "size": 10,
              "solidity": 0.2
             }
            },
            "type": "barpolar"
           }
          ],
          "carpet": [
           {
            "aaxis": {
             "endlinecolor": "#2a3f5f",
             "gridcolor": "white",
             "linecolor": "white",
             "minorgridcolor": "white",
             "startlinecolor": "#2a3f5f"
            },
            "baxis": {
             "endlinecolor": "#2a3f5f",
             "gridcolor": "white",
             "linecolor": "white",
             "minorgridcolor": "white",
             "startlinecolor": "#2a3f5f"
            },
            "type": "carpet"
           }
          ],
          "choropleth": [
           {
            "colorbar": {
             "outlinewidth": 0,
             "ticks": ""
            },
            "type": "choropleth"
           }
          ],
          "contour": [
           {
            "colorbar": {
             "outlinewidth": 0,
             "ticks": ""
            },
            "colorscale": [
             [
              0,
              "#0d0887"
             ],
             [
              0.1111111111111111,
              "#46039f"
             ],
             [
              0.2222222222222222,
              "#7201a8"
             ],
             [
              0.3333333333333333,
              "#9c179e"
             ],
             [
              0.4444444444444444,
              "#bd3786"
             ],
             [
              0.5555555555555556,
              "#d8576b"
             ],
             [
              0.6666666666666666,
              "#ed7953"
             ],
             [
              0.7777777777777778,
              "#fb9f3a"
             ],
             [
              0.8888888888888888,
              "#fdca26"
             ],
             [
              1,
              "#f0f921"
             ]
            ],
            "type": "contour"
           }
          ],
          "contourcarpet": [
           {
            "colorbar": {
             "outlinewidth": 0,
             "ticks": ""
            },
            "type": "contourcarpet"
           }
          ],
          "heatmap": [
           {
            "colorbar": {
             "outlinewidth": 0,
             "ticks": ""
            },
            "colorscale": [
             [
              0,
              "#0d0887"
             ],
             [
              0.1111111111111111,
              "#46039f"
             ],
             [
              0.2222222222222222,
              "#7201a8"
             ],
             [
              0.3333333333333333,
              "#9c179e"
             ],
             [
              0.4444444444444444,
              "#bd3786"
             ],
             [
              0.5555555555555556,
              "#d8576b"
             ],
             [
              0.6666666666666666,
              "#ed7953"
             ],
             [
              0.7777777777777778,
              "#fb9f3a"
             ],
             [
              0.8888888888888888,
              "#fdca26"
             ],
             [
              1,
              "#f0f921"
             ]
            ],
            "type": "heatmap"
           }
          ],
          "heatmapgl": [
           {
            "colorbar": {
             "outlinewidth": 0,
             "ticks": ""
            },
            "colorscale": [
             [
              0,
              "#0d0887"
             ],
             [
              0.1111111111111111,
              "#46039f"
             ],
             [
              0.2222222222222222,
              "#7201a8"
             ],
             [
              0.3333333333333333,
              "#9c179e"
             ],
             [
              0.4444444444444444,
              "#bd3786"
             ],
             [
              0.5555555555555556,
              "#d8576b"
             ],
             [
              0.6666666666666666,
              "#ed7953"
             ],
             [
              0.7777777777777778,
              "#fb9f3a"
             ],
             [
              0.8888888888888888,
              "#fdca26"
             ],
             [
              1,
              "#f0f921"
             ]
            ],
            "type": "heatmapgl"
           }
          ],
          "histogram": [
           {
            "marker": {
             "pattern": {
              "fillmode": "overlay",
              "size": 10,
              "solidity": 0.2
             }
            },
            "type": "histogram"
           }
          ],
          "histogram2d": [
           {
            "colorbar": {
             "outlinewidth": 0,
             "ticks": ""
            },
            "colorscale": [
             [
              0,
              "#0d0887"
             ],
             [
              0.1111111111111111,
              "#46039f"
             ],
             [
              0.2222222222222222,
              "#7201a8"
             ],
             [
              0.3333333333333333,
              "#9c179e"
             ],
             [
              0.4444444444444444,
              "#bd3786"
             ],
             [
              0.5555555555555556,
              "#d8576b"
             ],
             [
              0.6666666666666666,
              "#ed7953"
             ],
             [
              0.7777777777777778,
              "#fb9f3a"
             ],
             [
              0.8888888888888888,
              "#fdca26"
             ],
             [
              1,
              "#f0f921"
             ]
            ],
            "type": "histogram2d"
           }
          ],
          "histogram2dcontour": [
           {
            "colorbar": {
             "outlinewidth": 0,
             "ticks": ""
            },
            "colorscale": [
             [
              0,
              "#0d0887"
             ],
             [
              0.1111111111111111,
              "#46039f"
             ],
             [
              0.2222222222222222,
              "#7201a8"
             ],
             [
              0.3333333333333333,
              "#9c179e"
             ],
             [
              0.4444444444444444,
              "#bd3786"
             ],
             [
              0.5555555555555556,
              "#d8576b"
             ],
             [
              0.6666666666666666,
              "#ed7953"
             ],
             [
              0.7777777777777778,
              "#fb9f3a"
             ],
             [
              0.8888888888888888,
              "#fdca26"
             ],
             [
              1,
              "#f0f921"
             ]
            ],
            "type": "histogram2dcontour"
           }
          ],
          "mesh3d": [
           {
            "colorbar": {
             "outlinewidth": 0,
             "ticks": ""
            },
            "type": "mesh3d"
           }
          ],
          "parcoords": [
           {
            "line": {
             "colorbar": {
              "outlinewidth": 0,
              "ticks": ""
             }
            },
            "type": "parcoords"
           }
          ],
          "pie": [
           {
            "automargin": true,
            "type": "pie"
           }
          ],
          "scatter": [
           {
            "fillpattern": {
             "fillmode": "overlay",
             "size": 10,
             "solidity": 0.2
            },
            "type": "scatter"
           }
          ],
          "scatter3d": [
           {
            "line": {
             "colorbar": {
              "outlinewidth": 0,
              "ticks": ""
             }
            },
            "marker": {
             "colorbar": {
              "outlinewidth": 0,
              "ticks": ""
             }
            },
            "type": "scatter3d"
           }
          ],
          "scattercarpet": [
           {
            "marker": {
             "colorbar": {
              "outlinewidth": 0,
              "ticks": ""
             }
            },
            "type": "scattercarpet"
           }
          ],
          "scattergeo": [
           {
            "marker": {
             "colorbar": {
              "outlinewidth": 0,
              "ticks": ""
             }
            },
            "type": "scattergeo"
           }
          ],
          "scattergl": [
           {
            "marker": {
             "colorbar": {
              "outlinewidth": 0,
              "ticks": ""
             }
            },
            "type": "scattergl"
           }
          ],
          "scattermapbox": [
           {
            "marker": {
             "colorbar": {
              "outlinewidth": 0,
              "ticks": ""
             }
            },
            "type": "scattermapbox"
           }
          ],
          "scatterpolar": [
           {
            "marker": {
             "colorbar": {
              "outlinewidth": 0,
              "ticks": ""
             }
            },
            "type": "scatterpolar"
           }
          ],
          "scatterpolargl": [
           {
            "marker": {
             "colorbar": {
              "outlinewidth": 0,
              "ticks": ""
             }
            },
            "type": "scatterpolargl"
           }
          ],
          "scatterternary": [
           {
            "marker": {
             "colorbar": {
              "outlinewidth": 0,
              "ticks": ""
             }
            },
            "type": "scatterternary"
           }
          ],
          "surface": [
           {
            "colorbar": {
             "outlinewidth": 0,
             "ticks": ""
            },
            "colorscale": [
             [
              0,
              "#0d0887"
             ],
             [
              0.1111111111111111,
              "#46039f"
             ],
             [
              0.2222222222222222,
              "#7201a8"
             ],
             [
              0.3333333333333333,
              "#9c179e"
             ],
             [
              0.4444444444444444,
              "#bd3786"
             ],
             [
              0.5555555555555556,
              "#d8576b"
             ],
             [
              0.6666666666666666,
              "#ed7953"
             ],
             [
              0.7777777777777778,
              "#fb9f3a"
             ],
             [
              0.8888888888888888,
              "#fdca26"
             ],
             [
              1,
              "#f0f921"
             ]
            ],
            "type": "surface"
           }
          ],
          "table": [
           {
            "cells": {
             "fill": {
              "color": "#EBF0F8"
             },
             "line": {
              "color": "white"
             }
            },
            "header": {
             "fill": {
              "color": "#C8D4E3"
             },
             "line": {
              "color": "white"
             }
            },
            "type": "table"
           }
          ]
         },
         "layout": {
          "annotationdefaults": {
           "arrowcolor": "#2a3f5f",
           "arrowhead": 0,
           "arrowwidth": 1
          },
          "autotypenumbers": "strict",
          "coloraxis": {
           "colorbar": {
            "outlinewidth": 0,
            "ticks": ""
           }
          },
          "colorscale": {
           "diverging": [
            [
             0,
             "#8e0152"
            ],
            [
             0.1,
             "#c51b7d"
            ],
            [
             0.2,
             "#de77ae"
            ],
            [
             0.3,
             "#f1b6da"
            ],
            [
             0.4,
             "#fde0ef"
            ],
            [
             0.5,
             "#f7f7f7"
            ],
            [
             0.6,
             "#e6f5d0"
            ],
            [
             0.7,
             "#b8e186"
            ],
            [
             0.8,
             "#7fbc41"
            ],
            [
             0.9,
             "#4d9221"
            ],
            [
             1,
             "#276419"
            ]
           ],
           "sequential": [
            [
             0,
             "#0d0887"
            ],
            [
             0.1111111111111111,
             "#46039f"
            ],
            [
             0.2222222222222222,
             "#7201a8"
            ],
            [
             0.3333333333333333,
             "#9c179e"
            ],
            [
             0.4444444444444444,
             "#bd3786"
            ],
            [
             0.5555555555555556,
             "#d8576b"
            ],
            [
             0.6666666666666666,
             "#ed7953"
            ],
            [
             0.7777777777777778,
             "#fb9f3a"
            ],
            [
             0.8888888888888888,
             "#fdca26"
            ],
            [
             1,
             "#f0f921"
            ]
           ],
           "sequentialminus": [
            [
             0,
             "#0d0887"
            ],
            [
             0.1111111111111111,
             "#46039f"
            ],
            [
             0.2222222222222222,
             "#7201a8"
            ],
            [
             0.3333333333333333,
             "#9c179e"
            ],
            [
             0.4444444444444444,
             "#bd3786"
            ],
            [
             0.5555555555555556,
             "#d8576b"
            ],
            [
             0.6666666666666666,
             "#ed7953"
            ],
            [
             0.7777777777777778,
             "#fb9f3a"
            ],
            [
             0.8888888888888888,
             "#fdca26"
            ],
            [
             1,
             "#f0f921"
            ]
           ]
          },
          "colorway": [
           "#636efa",
           "#EF553B",
           "#00cc96",
           "#ab63fa",
           "#FFA15A",
           "#19d3f3",
           "#FF6692",
           "#B6E880",
           "#FF97FF",
           "#FECB52"
          ],
          "font": {
           "color": "#2a3f5f"
          },
          "geo": {
           "bgcolor": "white",
           "lakecolor": "white",
           "landcolor": "#E5ECF6",
           "showlakes": true,
           "showland": true,
           "subunitcolor": "white"
          },
          "hoverlabel": {
           "align": "left"
          },
          "hovermode": "closest",
          "mapbox": {
           "style": "light"
          },
          "paper_bgcolor": "white",
          "plot_bgcolor": "#E5ECF6",
          "polar": {
           "angularaxis": {
            "gridcolor": "white",
            "linecolor": "white",
            "ticks": ""
           },
           "bgcolor": "#E5ECF6",
           "radialaxis": {
            "gridcolor": "white",
            "linecolor": "white",
            "ticks": ""
           }
          },
          "scene": {
           "xaxis": {
            "backgroundcolor": "#E5ECF6",
            "gridcolor": "white",
            "gridwidth": 2,
            "linecolor": "white",
            "showbackground": true,
            "ticks": "",
            "zerolinecolor": "white"
           },
           "yaxis": {
            "backgroundcolor": "#E5ECF6",
            "gridcolor": "white",
            "gridwidth": 2,
            "linecolor": "white",
            "showbackground": true,
            "ticks": "",
            "zerolinecolor": "white"
           },
           "zaxis": {
            "backgroundcolor": "#E5ECF6",
            "gridcolor": "white",
            "gridwidth": 2,
            "linecolor": "white",
            "showbackground": true,
            "ticks": "",
            "zerolinecolor": "white"
           }
          },
          "shapedefaults": {
           "line": {
            "color": "#2a3f5f"
           }
          },
          "ternary": {
           "aaxis": {
            "gridcolor": "white",
            "linecolor": "white",
            "ticks": ""
           },
           "baxis": {
            "gridcolor": "white",
            "linecolor": "white",
            "ticks": ""
           },
           "bgcolor": "#E5ECF6",
           "caxis": {
            "gridcolor": "white",
            "linecolor": "white",
            "ticks": ""
           }
          },
          "title": {
           "x": 0.05
          },
          "xaxis": {
           "automargin": true,
           "gridcolor": "white",
           "linecolor": "white",
           "ticks": "",
           "title": {
            "standoff": 15
           },
           "zerolinecolor": "white",
           "zerolinewidth": 2
          },
          "yaxis": {
           "automargin": true,
           "gridcolor": "white",
           "linecolor": "white",
           "ticks": "",
           "title": {
            "standoff": 15
           },
           "zerolinecolor": "white",
           "zerolinewidth": 2
          }
         }
        },
        "title": {
         "font": {
          "size": 20
         },
         "text": "Total Txn Amount hourly",
         "x": 0.5,
         "y": 0.95
        },
        "width": 980,
        "xaxis": {
         "anchor": "y",
         "domain": [
          0,
          1
         ],
         "showgrid": false,
         "title": {
          "text": "Hour"
         }
        },
        "yaxis": {
         "anchor": "x",
         "domain": [
          0,
          1
         ],
         "showgrid": false,
         "title": {
          "text": "Transaction Amount"
         }
        }
       }
      }
     },
     "metadata": {},
     "output_type": "display_data"
    }
   ],
   "source": [
    "fig=px.line(df.groupby(by='hour').sum(numeric_only=True)[['amount']], \n",
    " text=df.groupby(by='hour').sum(numeric_only=True)['amount'].apply(lambda x : str(round(x/1000))+'k').values  ) \n",
    "fig.update_traces(line=dict(color=\"#f58634\", width=5)) \n",
    "fig.update_xaxes(title='Hour',showgrid=False)  \n",
    "fig.update_yaxes(title='Transaction Amount',showgrid=False) \n",
    "fig.update_layout( \n",
    " title=dict(text = \"Total Txn Amount hourly\",x=0.5,y=0.95), \n",
    " title_font_size=20, \n",
    "showlegend=False, \n",
    "width = 980, \n",
    " height = 500 \n",
    " ) \n",
    "fig.update_traces(textposition='middle right',fillcolor='red') \n",
    "fig.show()\n"
   ]
  },
  {
   "cell_type": "code",
   "execution_count": 81,
   "metadata": {},
   "outputs": [],
   "source": [
    "df2['age_group'] = df2['age_group'].astype('object')\n"
   ]
  },
  {
   "cell_type": "code",
   "execution_count": 82,
   "metadata": {},
   "outputs": [
    {
     "data": {
      "text/html": [
       "<div>\n",
       "<style scoped>\n",
       "    .dataframe tbody tr th:only-of-type {\n",
       "        vertical-align: middle;\n",
       "    }\n",
       "\n",
       "    .dataframe tbody tr th {\n",
       "        vertical-align: top;\n",
       "    }\n",
       "\n",
       "    .dataframe thead th {\n",
       "        text-align: right;\n",
       "    }\n",
       "</style>\n",
       "<table border=\"1\" class=\"dataframe\">\n",
       "  <thead>\n",
       "    <tr style=\"text-align: right;\">\n",
       "      <th></th>\n",
       "      <th>hour</th>\n",
       "      <th>month</th>\n",
       "      <th>gender</th>\n",
       "      <th>Transaction Count</th>\n",
       "      <th>Total Txn Amount</th>\n",
       "    </tr>\n",
       "  </thead>\n",
       "  <tbody>\n",
       "    <tr>\n",
       "      <th>0</th>\n",
       "      <td>0</td>\n",
       "      <td>8</td>\n",
       "      <td>F</td>\n",
       "      <td>27</td>\n",
       "      <td>676.43</td>\n",
       "    </tr>\n",
       "    <tr>\n",
       "      <th>1</th>\n",
       "      <td>0</td>\n",
       "      <td>8</td>\n",
       "      <td>M</td>\n",
       "      <td>20</td>\n",
       "      <td>568.77</td>\n",
       "    </tr>\n",
       "    <tr>\n",
       "      <th>2</th>\n",
       "      <td>0</td>\n",
       "      <td>9</td>\n",
       "      <td>F</td>\n",
       "      <td>19</td>\n",
       "      <td>574.91</td>\n",
       "    </tr>\n",
       "    <tr>\n",
       "      <th>3</th>\n",
       "      <td>0</td>\n",
       "      <td>9</td>\n",
       "      <td>M</td>\n",
       "      <td>15</td>\n",
       "      <td>442.65</td>\n",
       "    </tr>\n",
       "    <tr>\n",
       "      <th>4</th>\n",
       "      <td>0</td>\n",
       "      <td>10</td>\n",
       "      <td>F</td>\n",
       "      <td>11</td>\n",
       "      <td>379.63</td>\n",
       "    </tr>\n",
       "    <tr>\n",
       "      <th>...</th>\n",
       "      <td>...</td>\n",
       "      <td>...</td>\n",
       "      <td>...</td>\n",
       "      <td>...</td>\n",
       "      <td>...</td>\n",
       "    </tr>\n",
       "    <tr>\n",
       "      <th>139</th>\n",
       "      <td>23</td>\n",
       "      <td>8</td>\n",
       "      <td>M</td>\n",
       "      <td>82</td>\n",
       "      <td>4630.99</td>\n",
       "    </tr>\n",
       "    <tr>\n",
       "      <th>140</th>\n",
       "      <td>23</td>\n",
       "      <td>9</td>\n",
       "      <td>F</td>\n",
       "      <td>60</td>\n",
       "      <td>2621.67</td>\n",
       "    </tr>\n",
       "    <tr>\n",
       "      <th>141</th>\n",
       "      <td>23</td>\n",
       "      <td>9</td>\n",
       "      <td>M</td>\n",
       "      <td>87</td>\n",
       "      <td>5732.32</td>\n",
       "    </tr>\n",
       "    <tr>\n",
       "      <th>142</th>\n",
       "      <td>23</td>\n",
       "      <td>10</td>\n",
       "      <td>F</td>\n",
       "      <td>56</td>\n",
       "      <td>2527.53</td>\n",
       "    </tr>\n",
       "    <tr>\n",
       "      <th>143</th>\n",
       "      <td>23</td>\n",
       "      <td>10</td>\n",
       "      <td>M</td>\n",
       "      <td>82</td>\n",
       "      <td>3404.24</td>\n",
       "    </tr>\n",
       "  </tbody>\n",
       "</table>\n",
       "<p>144 rows × 5 columns</p>\n",
       "</div>"
      ],
      "text/plain": [
       "     hour  month gender  Transaction Count  Total Txn Amount\n",
       "0       0      8      F                 27            676.43\n",
       "1       0      8      M                 20            568.77\n",
       "2       0      9      F                 19            574.91\n",
       "3       0      9      M                 15            442.65\n",
       "4       0     10      F                 11            379.63\n",
       "..    ...    ...    ...                ...               ...\n",
       "139    23      8      M                 82           4630.99\n",
       "140    23      9      F                 60           2621.67\n",
       "141    23      9      M                 87           5732.32\n",
       "142    23     10      F                 56           2527.53\n",
       "143    23     10      M                 82           3404.24\n",
       "\n",
       "[144 rows x 5 columns]"
      ]
     },
     "execution_count": 82,
     "metadata": {},
     "output_type": "execute_result"
    }
   ],
   "source": [
    "df4_grp= df2.groupby(by=['hour','month','gender']).agg(['count','sum'])[['amount']].reset_index() \n",
    "df4_grp.columns = ['hour', 'month' ,'gender','Transaction Count', 'Total Txn Amount'] \n",
    "df4_grp\n"
   ]
  },
  {
   "cell_type": "code",
   "execution_count": null,
   "metadata": {},
   "outputs": [],
   "source": []
  },
  {
   "cell_type": "code",
   "execution_count": 83,
   "metadata": {},
   "outputs": [
    {
     "data": {
      "application/vnd.plotly.v1+json": {
       "config": {
        "plotlyServerURL": "https://plot.ly"
       },
       "data": [
        {
         "hovertemplate": "gender=F<br>month=8<br>hour=%{x}<br>Transaction Count=%{y}<extra></extra>",
         "legendgroup": "F",
         "line": {
          "color": "#636efa",
          "dash": "solid"
         },
         "marker": {
          "symbol": "circle"
         },
         "mode": "lines",
         "name": "F",
         "orientation": "v",
         "showlegend": true,
         "type": "scatter",
         "x": [
          0,
          1,
          2,
          3,
          4,
          5,
          6,
          7,
          8,
          9,
          10,
          11,
          12,
          13,
          14,
          15,
          16,
          17,
          18,
          19,
          20,
          21,
          22,
          23
         ],
         "xaxis": "x",
         "y": [
          27,
          33,
          22,
          23,
          51,
          27,
          40,
          32,
          95,
          201,
          98,
          148,
          94,
          78,
          118,
          130,
          86,
          126,
          71,
          91,
          77,
          112,
          60,
          59
         ],
         "yaxis": "y"
        },
        {
         "hovertemplate": "gender=F<br>month=9<br>hour=%{x}<br>Transaction Count=%{y}<extra></extra>",
         "legendgroup": "F",
         "line": {
          "color": "#636efa",
          "dash": "solid"
         },
         "marker": {
          "symbol": "circle"
         },
         "mode": "lines",
         "name": "F",
         "orientation": "v",
         "showlegend": false,
         "type": "scatter",
         "x": [
          0,
          1,
          2,
          3,
          4,
          5,
          6,
          7,
          8,
          9,
          10,
          11,
          12,
          13,
          14,
          15,
          16,
          17,
          18,
          19,
          20,
          21,
          22,
          23
         ],
         "xaxis": "x2",
         "y": [
          19,
          22,
          23,
          21,
          52,
          33,
          38,
          35,
          89,
          187,
          99,
          165,
          97,
          87,
          118,
          126,
          66,
          128,
          70,
          92,
          75,
          118,
          101,
          60
         ],
         "yaxis": "y2"
        },
        {
         "hovertemplate": "gender=F<br>month=10<br>hour=%{x}<br>Transaction Count=%{y}<extra></extra>",
         "legendgroup": "F",
         "line": {
          "color": "#636efa",
          "dash": "solid"
         },
         "marker": {
          "symbol": "circle"
         },
         "mode": "lines",
         "name": "F",
         "orientation": "v",
         "showlegend": false,
         "type": "scatter",
         "x": [
          0,
          1,
          2,
          3,
          4,
          5,
          6,
          7,
          8,
          9,
          10,
          11,
          12,
          13,
          14,
          15,
          16,
          17,
          18,
          19,
          20,
          21,
          22,
          23
         ],
         "xaxis": "x3",
         "y": [
          11,
          32,
          23,
          27,
          55,
          27,
          42,
          40,
          107,
          196,
          88,
          151,
          103,
          88,
          112,
          128,
          65,
          123,
          69,
          93,
          107,
          129,
          66,
          56
         ],
         "yaxis": "y3"
        },
        {
         "hovertemplate": "gender=M<br>month=8<br>hour=%{x}<br>Transaction Count=%{y}<extra></extra>",
         "legendgroup": "M",
         "line": {
          "color": "#EF553B",
          "dash": "solid"
         },
         "marker": {
          "symbol": "circle"
         },
         "mode": "lines",
         "name": "M",
         "orientation": "v",
         "showlegend": true,
         "type": "scatter",
         "x": [
          0,
          1,
          2,
          3,
          4,
          5,
          6,
          7,
          8,
          9,
          10,
          11,
          12,
          13,
          14,
          15,
          16,
          17,
          18,
          19,
          20,
          21,
          22,
          23
         ],
         "xaxis": "x",
         "y": [
          20,
          42,
          43,
          40,
          47,
          38,
          46,
          57,
          75,
          169,
          101,
          156,
          85,
          106,
          132,
          121,
          93,
          139,
          51,
          91,
          113,
          120,
          77,
          82
         ],
         "yaxis": "y"
        },
        {
         "hovertemplate": "gender=M<br>month=9<br>hour=%{x}<br>Transaction Count=%{y}<extra></extra>",
         "legendgroup": "M",
         "line": {
          "color": "#EF553B",
          "dash": "solid"
         },
         "marker": {
          "symbol": "circle"
         },
         "mode": "lines",
         "name": "M",
         "orientation": "v",
         "showlegend": false,
         "type": "scatter",
         "x": [
          0,
          1,
          2,
          3,
          4,
          5,
          6,
          7,
          8,
          9,
          10,
          11,
          12,
          13,
          14,
          15,
          16,
          17,
          18,
          19,
          20,
          21,
          22,
          23
         ],
         "xaxis": "x2",
         "y": [
          15,
          48,
          48,
          41,
          52,
          43,
          42,
          51,
          91,
          180,
          116,
          157,
          80,
          95,
          128,
          109,
          100,
          139,
          58,
          93,
          115,
          123,
          81,
          87
         ],
         "yaxis": "y2"
        },
        {
         "hovertemplate": "gender=M<br>month=10<br>hour=%{x}<br>Transaction Count=%{y}<extra></extra>",
         "legendgroup": "M",
         "line": {
          "color": "#EF553B",
          "dash": "solid"
         },
         "marker": {
          "symbol": "circle"
         },
         "mode": "lines",
         "name": "M",
         "orientation": "v",
         "showlegend": false,
         "type": "scatter",
         "x": [
          0,
          1,
          2,
          3,
          4,
          5,
          6,
          7,
          8,
          9,
          10,
          11,
          12,
          13,
          14,
          15,
          16,
          17,
          18,
          19,
          20,
          21,
          22,
          23
         ],
         "xaxis": "x3",
         "y": [
          16,
          37,
          53,
          44,
          52,
          41,
          41,
          51,
          90,
          173,
          113,
          164,
          84,
          104,
          149,
          114,
          106,
          160,
          64,
          88,
          111,
          139,
          73,
          82
         ],
         "yaxis": "y3"
        }
       ],
       "layout": {
        "annotations": [
         {
          "font": {},
          "showarrow": false,
          "text": "month=8",
          "x": 0.15999999999999998,
          "xanchor": "center",
          "xref": "paper",
          "y": 1,
          "yanchor": "bottom",
          "yref": "paper"
         },
         {
          "font": {},
          "showarrow": false,
          "text": "month=9",
          "x": 0.49999999999999994,
          "xanchor": "center",
          "xref": "paper",
          "y": 1,
          "yanchor": "bottom",
          "yref": "paper"
         },
         {
          "font": {},
          "showarrow": false,
          "text": "month=10",
          "x": 0.8399999999999999,
          "xanchor": "center",
          "xref": "paper",
          "y": 1,
          "yanchor": "bottom",
          "yref": "paper"
         }
        ],
        "height": 500,
        "legend": {
         "title": {
          "text": "gender"
         },
         "tracegroupgap": 0
        },
        "margin": {
         "b": 80,
         "l": 80,
         "r": 80,
         "t": 100
        },
        "template": {
         "data": {
          "bar": [
           {
            "error_x": {
             "color": "#2a3f5f"
            },
            "error_y": {
             "color": "#2a3f5f"
            },
            "marker": {
             "line": {
              "color": "#E5ECF6",
              "width": 0.5
             },
             "pattern": {
              "fillmode": "overlay",
              "size": 10,
              "solidity": 0.2
             }
            },
            "type": "bar"
           }
          ],
          "barpolar": [
           {
            "marker": {
             "line": {
              "color": "#E5ECF6",
              "width": 0.5
             },
             "pattern": {
              "fillmode": "overlay",
              "size": 10,
              "solidity": 0.2
             }
            },
            "type": "barpolar"
           }
          ],
          "carpet": [
           {
            "aaxis": {
             "endlinecolor": "#2a3f5f",
             "gridcolor": "white",
             "linecolor": "white",
             "minorgridcolor": "white",
             "startlinecolor": "#2a3f5f"
            },
            "baxis": {
             "endlinecolor": "#2a3f5f",
             "gridcolor": "white",
             "linecolor": "white",
             "minorgridcolor": "white",
             "startlinecolor": "#2a3f5f"
            },
            "type": "carpet"
           }
          ],
          "choropleth": [
           {
            "colorbar": {
             "outlinewidth": 0,
             "ticks": ""
            },
            "type": "choropleth"
           }
          ],
          "contour": [
           {
            "colorbar": {
             "outlinewidth": 0,
             "ticks": ""
            },
            "colorscale": [
             [
              0,
              "#0d0887"
             ],
             [
              0.1111111111111111,
              "#46039f"
             ],
             [
              0.2222222222222222,
              "#7201a8"
             ],
             [
              0.3333333333333333,
              "#9c179e"
             ],
             [
              0.4444444444444444,
              "#bd3786"
             ],
             [
              0.5555555555555556,
              "#d8576b"
             ],
             [
              0.6666666666666666,
              "#ed7953"
             ],
             [
              0.7777777777777778,
              "#fb9f3a"
             ],
             [
              0.8888888888888888,
              "#fdca26"
             ],
             [
              1,
              "#f0f921"
             ]
            ],
            "type": "contour"
           }
          ],
          "contourcarpet": [
           {
            "colorbar": {
             "outlinewidth": 0,
             "ticks": ""
            },
            "type": "contourcarpet"
           }
          ],
          "heatmap": [
           {
            "colorbar": {
             "outlinewidth": 0,
             "ticks": ""
            },
            "colorscale": [
             [
              0,
              "#0d0887"
             ],
             [
              0.1111111111111111,
              "#46039f"
             ],
             [
              0.2222222222222222,
              "#7201a8"
             ],
             [
              0.3333333333333333,
              "#9c179e"
             ],
             [
              0.4444444444444444,
              "#bd3786"
             ],
             [
              0.5555555555555556,
              "#d8576b"
             ],
             [
              0.6666666666666666,
              "#ed7953"
             ],
             [
              0.7777777777777778,
              "#fb9f3a"
             ],
             [
              0.8888888888888888,
              "#fdca26"
             ],
             [
              1,
              "#f0f921"
             ]
            ],
            "type": "heatmap"
           }
          ],
          "heatmapgl": [
           {
            "colorbar": {
             "outlinewidth": 0,
             "ticks": ""
            },
            "colorscale": [
             [
              0,
              "#0d0887"
             ],
             [
              0.1111111111111111,
              "#46039f"
             ],
             [
              0.2222222222222222,
              "#7201a8"
             ],
             [
              0.3333333333333333,
              "#9c179e"
             ],
             [
              0.4444444444444444,
              "#bd3786"
             ],
             [
              0.5555555555555556,
              "#d8576b"
             ],
             [
              0.6666666666666666,
              "#ed7953"
             ],
             [
              0.7777777777777778,
              "#fb9f3a"
             ],
             [
              0.8888888888888888,
              "#fdca26"
             ],
             [
              1,
              "#f0f921"
             ]
            ],
            "type": "heatmapgl"
           }
          ],
          "histogram": [
           {
            "marker": {
             "pattern": {
              "fillmode": "overlay",
              "size": 10,
              "solidity": 0.2
             }
            },
            "type": "histogram"
           }
          ],
          "histogram2d": [
           {
            "colorbar": {
             "outlinewidth": 0,
             "ticks": ""
            },
            "colorscale": [
             [
              0,
              "#0d0887"
             ],
             [
              0.1111111111111111,
              "#46039f"
             ],
             [
              0.2222222222222222,
              "#7201a8"
             ],
             [
              0.3333333333333333,
              "#9c179e"
             ],
             [
              0.4444444444444444,
              "#bd3786"
             ],
             [
              0.5555555555555556,
              "#d8576b"
             ],
             [
              0.6666666666666666,
              "#ed7953"
             ],
             [
              0.7777777777777778,
              "#fb9f3a"
             ],
             [
              0.8888888888888888,
              "#fdca26"
             ],
             [
              1,
              "#f0f921"
             ]
            ],
            "type": "histogram2d"
           }
          ],
          "histogram2dcontour": [
           {
            "colorbar": {
             "outlinewidth": 0,
             "ticks": ""
            },
            "colorscale": [
             [
              0,
              "#0d0887"
             ],
             [
              0.1111111111111111,
              "#46039f"
             ],
             [
              0.2222222222222222,
              "#7201a8"
             ],
             [
              0.3333333333333333,
              "#9c179e"
             ],
             [
              0.4444444444444444,
              "#bd3786"
             ],
             [
              0.5555555555555556,
              "#d8576b"
             ],
             [
              0.6666666666666666,
              "#ed7953"
             ],
             [
              0.7777777777777778,
              "#fb9f3a"
             ],
             [
              0.8888888888888888,
              "#fdca26"
             ],
             [
              1,
              "#f0f921"
             ]
            ],
            "type": "histogram2dcontour"
           }
          ],
          "mesh3d": [
           {
            "colorbar": {
             "outlinewidth": 0,
             "ticks": ""
            },
            "type": "mesh3d"
           }
          ],
          "parcoords": [
           {
            "line": {
             "colorbar": {
              "outlinewidth": 0,
              "ticks": ""
             }
            },
            "type": "parcoords"
           }
          ],
          "pie": [
           {
            "automargin": true,
            "type": "pie"
           }
          ],
          "scatter": [
           {
            "fillpattern": {
             "fillmode": "overlay",
             "size": 10,
             "solidity": 0.2
            },
            "type": "scatter"
           }
          ],
          "scatter3d": [
           {
            "line": {
             "colorbar": {
              "outlinewidth": 0,
              "ticks": ""
             }
            },
            "marker": {
             "colorbar": {
              "outlinewidth": 0,
              "ticks": ""
             }
            },
            "type": "scatter3d"
           }
          ],
          "scattercarpet": [
           {
            "marker": {
             "colorbar": {
              "outlinewidth": 0,
              "ticks": ""
             }
            },
            "type": "scattercarpet"
           }
          ],
          "scattergeo": [
           {
            "marker": {
             "colorbar": {
              "outlinewidth": 0,
              "ticks": ""
             }
            },
            "type": "scattergeo"
           }
          ],
          "scattergl": [
           {
            "marker": {
             "colorbar": {
              "outlinewidth": 0,
              "ticks": ""
             }
            },
            "type": "scattergl"
           }
          ],
          "scattermapbox": [
           {
            "marker": {
             "colorbar": {
              "outlinewidth": 0,
              "ticks": ""
             }
            },
            "type": "scattermapbox"
           }
          ],
          "scatterpolar": [
           {
            "marker": {
             "colorbar": {
              "outlinewidth": 0,
              "ticks": ""
             }
            },
            "type": "scatterpolar"
           }
          ],
          "scatterpolargl": [
           {
            "marker": {
             "colorbar": {
              "outlinewidth": 0,
              "ticks": ""
             }
            },
            "type": "scatterpolargl"
           }
          ],
          "scatterternary": [
           {
            "marker": {
             "colorbar": {
              "outlinewidth": 0,
              "ticks": ""
             }
            },
            "type": "scatterternary"
           }
          ],
          "surface": [
           {
            "colorbar": {
             "outlinewidth": 0,
             "ticks": ""
            },
            "colorscale": [
             [
              0,
              "#0d0887"
             ],
             [
              0.1111111111111111,
              "#46039f"
             ],
             [
              0.2222222222222222,
              "#7201a8"
             ],
             [
              0.3333333333333333,
              "#9c179e"
             ],
             [
              0.4444444444444444,
              "#bd3786"
             ],
             [
              0.5555555555555556,
              "#d8576b"
             ],
             [
              0.6666666666666666,
              "#ed7953"
             ],
             [
              0.7777777777777778,
              "#fb9f3a"
             ],
             [
              0.8888888888888888,
              "#fdca26"
             ],
             [
              1,
              "#f0f921"
             ]
            ],
            "type": "surface"
           }
          ],
          "table": [
           {
            "cells": {
             "fill": {
              "color": "#EBF0F8"
             },
             "line": {
              "color": "white"
             }
            },
            "header": {
             "fill": {
              "color": "#C8D4E3"
             },
             "line": {
              "color": "white"
             }
            },
            "type": "table"
           }
          ]
         },
         "layout": {
          "annotationdefaults": {
           "arrowcolor": "#2a3f5f",
           "arrowhead": 0,
           "arrowwidth": 1
          },
          "autotypenumbers": "strict",
          "coloraxis": {
           "colorbar": {
            "outlinewidth": 0,
            "ticks": ""
           }
          },
          "colorscale": {
           "diverging": [
            [
             0,
             "#8e0152"
            ],
            [
             0.1,
             "#c51b7d"
            ],
            [
             0.2,
             "#de77ae"
            ],
            [
             0.3,
             "#f1b6da"
            ],
            [
             0.4,
             "#fde0ef"
            ],
            [
             0.5,
             "#f7f7f7"
            ],
            [
             0.6,
             "#e6f5d0"
            ],
            [
             0.7,
             "#b8e186"
            ],
            [
             0.8,
             "#7fbc41"
            ],
            [
             0.9,
             "#4d9221"
            ],
            [
             1,
             "#276419"
            ]
           ],
           "sequential": [
            [
             0,
             "#0d0887"
            ],
            [
             0.1111111111111111,
             "#46039f"
            ],
            [
             0.2222222222222222,
             "#7201a8"
            ],
            [
             0.3333333333333333,
             "#9c179e"
            ],
            [
             0.4444444444444444,
             "#bd3786"
            ],
            [
             0.5555555555555556,
             "#d8576b"
            ],
            [
             0.6666666666666666,
             "#ed7953"
            ],
            [
             0.7777777777777778,
             "#fb9f3a"
            ],
            [
             0.8888888888888888,
             "#fdca26"
            ],
            [
             1,
             "#f0f921"
            ]
           ],
           "sequentialminus": [
            [
             0,
             "#0d0887"
            ],
            [
             0.1111111111111111,
             "#46039f"
            ],
            [
             0.2222222222222222,
             "#7201a8"
            ],
            [
             0.3333333333333333,
             "#9c179e"
            ],
            [
             0.4444444444444444,
             "#bd3786"
            ],
            [
             0.5555555555555556,
             "#d8576b"
            ],
            [
             0.6666666666666666,
             "#ed7953"
            ],
            [
             0.7777777777777778,
             "#fb9f3a"
            ],
            [
             0.8888888888888888,
             "#fdca26"
            ],
            [
             1,
             "#f0f921"
            ]
           ]
          },
          "colorway": [
           "#636efa",
           "#EF553B",
           "#00cc96",
           "#ab63fa",
           "#FFA15A",
           "#19d3f3",
           "#FF6692",
           "#B6E880",
           "#FF97FF",
           "#FECB52"
          ],
          "font": {
           "color": "#2a3f5f"
          },
          "geo": {
           "bgcolor": "white",
           "lakecolor": "white",
           "landcolor": "#E5ECF6",
           "showlakes": true,
           "showland": true,
           "subunitcolor": "white"
          },
          "hoverlabel": {
           "align": "left"
          },
          "hovermode": "closest",
          "mapbox": {
           "style": "light"
          },
          "paper_bgcolor": "white",
          "plot_bgcolor": "#E5ECF6",
          "polar": {
           "angularaxis": {
            "gridcolor": "white",
            "linecolor": "white",
            "ticks": ""
           },
           "bgcolor": "#E5ECF6",
           "radialaxis": {
            "gridcolor": "white",
            "linecolor": "white",
            "ticks": ""
           }
          },
          "scene": {
           "xaxis": {
            "backgroundcolor": "#E5ECF6",
            "gridcolor": "white",
            "gridwidth": 2,
            "linecolor": "white",
            "showbackground": true,
            "ticks": "",
            "zerolinecolor": "white"
           },
           "yaxis": {
            "backgroundcolor": "#E5ECF6",
            "gridcolor": "white",
            "gridwidth": 2,
            "linecolor": "white",
            "showbackground": true,
            "ticks": "",
            "zerolinecolor": "white"
           },
           "zaxis": {
            "backgroundcolor": "#E5ECF6",
            "gridcolor": "white",
            "gridwidth": 2,
            "linecolor": "white",
            "showbackground": true,
            "ticks": "",
            "zerolinecolor": "white"
           }
          },
          "shapedefaults": {
           "line": {
            "color": "#2a3f5f"
           }
          },
          "ternary": {
           "aaxis": {
            "gridcolor": "white",
            "linecolor": "white",
            "ticks": ""
           },
           "baxis": {
            "gridcolor": "white",
            "linecolor": "white",
            "ticks": ""
           },
           "bgcolor": "#E5ECF6",
           "caxis": {
            "gridcolor": "white",
            "linecolor": "white",
            "ticks": ""
           }
          },
          "title": {
           "x": 0.05
          },
          "xaxis": {
           "automargin": true,
           "gridcolor": "white",
           "linecolor": "white",
           "ticks": "",
           "title": {
            "standoff": 15
           },
           "zerolinecolor": "white",
           "zerolinewidth": 2
          },
          "yaxis": {
           "automargin": true,
           "gridcolor": "white",
           "linecolor": "white",
           "ticks": "",
           "title": {
            "standoff": 15
           },
           "zerolinecolor": "white",
           "zerolinewidth": 2
          }
         }
        },
        "title": {
         "font": {
          "size": 20
         },
         "text": "Hourly Transaction count by Month ",
         "x": 0.5,
         "y": 0.95
        },
        "width": 980,
        "xaxis": {
         "anchor": "y",
         "domain": [
          0,
          0.31999999999999995
         ],
         "showgrid": false,
         "title": {
          "text": "Hour"
         }
        },
        "xaxis2": {
         "anchor": "y2",
         "domain": [
          0.33999999999999997,
          0.6599999999999999
         ],
         "matches": "x",
         "showgrid": false,
         "title": {
          "text": "Hour"
         }
        },
        "xaxis3": {
         "anchor": "y3",
         "domain": [
          0.6799999999999999,
          0.9999999999999999
         ],
         "matches": "x",
         "showgrid": false,
         "title": {
          "text": "Hour"
         }
        },
        "yaxis": {
         "anchor": "x",
         "domain": [
          0,
          1
         ],
         "showgrid": false,
         "title": {
          "text": "Transaction Count"
         }
        },
        "yaxis2": {
         "anchor": "x2",
         "domain": [
          0,
          1
         ],
         "matches": "y",
         "showgrid": false,
         "showticklabels": false
        },
        "yaxis3": {
         "anchor": "x3",
         "domain": [
          0,
          1
         ],
         "matches": "y",
         "showgrid": false,
         "showticklabels": false
        }
       }
      }
     },
     "metadata": {},
     "output_type": "display_data"
    }
   ],
   "source": [
    "fig1=px.line(data_frame=df4_grp, \n",
    " x=df4_grp.hour, \n",
    " y=df4_grp['Transaction Count'], \n",
    " color=df4_grp.gender, \n",
    " facet_col= df4_grp.month \n",
    " ) \n",
    "fig1.update_xaxes(title='Hour',showgrid=False) \n",
    "fig1.update_yaxes(showgrid=False) \n",
    "fig1.update_layout( \n",
    " title=dict(text = \"Hourly Transaction count by Month \",x=0.5,y=0.95), \n",
    " title_font_size=20, \n",
    "width = 980, \n",
    " height = 500, \n",
    " margin=dict(l=80, r=80, t=100, b=80) \n",
    " ) \n",
    "fig1.show() \n"
   ]
  },
  {
   "cell_type": "code",
   "execution_count": 84,
   "metadata": {},
   "outputs": [
    {
     "data": {
      "application/vnd.plotly.v1+json": {
       "config": {
        "plotlyServerURL": "https://plot.ly"
       },
       "data": [
        {
         "hovertemplate": "gender=F<br>month=8<br>hour=%{x}<br>Total Txn Amount=%{y}<extra></extra>",
         "legendgroup": "F",
         "line": {
          "color": "#636efa",
          "dash": "solid"
         },
         "marker": {
          "symbol": "circle"
         },
         "mode": "lines",
         "name": "F",
         "orientation": "v",
         "showlegend": true,
         "type": "scatter",
         "x": [
          0,
          1,
          2,
          3,
          4,
          5,
          6,
          7,
          8,
          9,
          10,
          11,
          12,
          13,
          14,
          15,
          16,
          17,
          18,
          19,
          20,
          21,
          22,
          23
         ],
         "xaxis": "x",
         "y": [
          676.43,
          848,
          2128.69,
          1609.38,
          1999.45,
          1236.48,
          1850.26,
          2215.48,
          5507.38,
          6309.6,
          4449.87,
          44545.94,
          35881.77,
          42826.42,
          33838.17,
          18744.38,
          27656.25,
          55861.93,
          3658.08,
          4873.47,
          2990.14,
          4677.98,
          2350.43,
          2661.57
         ],
         "yaxis": "y"
        },
        {
         "hovertemplate": "gender=F<br>month=9<br>hour=%{x}<br>Total Txn Amount=%{y}<extra></extra>",
         "legendgroup": "F",
         "line": {
          "color": "#636efa",
          "dash": "solid"
         },
         "marker": {
          "symbol": "circle"
         },
         "mode": "lines",
         "name": "F",
         "orientation": "v",
         "showlegend": false,
         "type": "scatter",
         "x": [
          0,
          1,
          2,
          3,
          4,
          5,
          6,
          7,
          8,
          9,
          10,
          11,
          12,
          13,
          14,
          15,
          16,
          17,
          18,
          19,
          20,
          21,
          22,
          23
         ],
         "xaxis": "x2",
         "y": [
          574.91,
          2238.24,
          930.43,
          1627.9,
          7157.63,
          1438.02,
          1809.66,
          1985.31,
          3571.53,
          7191.21,
          8334.15,
          43712.14,
          35828.26,
          44484.61,
          31039.51,
          23158.66,
          22927.87,
          49254.76,
          3644.36,
          5249.69,
          2922.99,
          6029.91,
          5761.04,
          2621.67
         ],
         "yaxis": "y2"
        },
        {
         "hovertemplate": "gender=F<br>month=10<br>hour=%{x}<br>Total Txn Amount=%{y}<extra></extra>",
         "legendgroup": "F",
         "line": {
          "color": "#636efa",
          "dash": "solid"
         },
         "marker": {
          "symbol": "circle"
         },
         "mode": "lines",
         "name": "F",
         "orientation": "v",
         "showlegend": false,
         "type": "scatter",
         "x": [
          0,
          1,
          2,
          3,
          4,
          5,
          6,
          7,
          8,
          9,
          10,
          11,
          12,
          13,
          14,
          15,
          16,
          17,
          18,
          19,
          20,
          21,
          22,
          23
         ],
         "xaxis": "x3",
         "y": [
          379.63,
          854.34,
          783.15,
          1566.62,
          2948.52,
          1242.59,
          2277.5,
          2020.69,
          4138.79,
          7481.45,
          2568.72,
          50367.49,
          41250.46,
          50723.13,
          43690.29,
          22596.95,
          22533.21,
          67965.71,
          3099.9,
          3446.26,
          5276.26,
          4939.9,
          2751.53,
          2527.5299999999997
         ],
         "yaxis": "y3"
        },
        {
         "hovertemplate": "gender=M<br>month=8<br>hour=%{x}<br>Total Txn Amount=%{y}<extra></extra>",
         "legendgroup": "M",
         "line": {
          "color": "#EF553B",
          "dash": "solid"
         },
         "marker": {
          "symbol": "circle"
         },
         "mode": "lines",
         "name": "M",
         "orientation": "v",
         "showlegend": true,
         "type": "scatter",
         "x": [
          0,
          1,
          2,
          3,
          4,
          5,
          6,
          7,
          8,
          9,
          10,
          11,
          12,
          13,
          14,
          15,
          16,
          17,
          18,
          19,
          20,
          21,
          22,
          23
         ],
         "xaxis": "x",
         "y": [
          568.77,
          2927.31,
          3230.69,
          1911.06,
          1967.9,
          1710.93,
          3015.02,
          4383.74,
          3029.82,
          5283.94,
          4051.54,
          53870.729999999996,
          30556.43,
          76194.36,
          27285.260000000002,
          32367.670000000002,
          35438.97,
          106817.76,
          2951.21,
          3612.16,
          5184.95,
          5254.7300000000005,
          4292.03,
          4630.99
         ],
         "yaxis": "y"
        },
        {
         "hovertemplate": "gender=M<br>month=9<br>hour=%{x}<br>Total Txn Amount=%{y}<extra></extra>",
         "legendgroup": "M",
         "line": {
          "color": "#EF553B",
          "dash": "solid"
         },
         "marker": {
          "symbol": "circle"
         },
         "mode": "lines",
         "name": "M",
         "orientation": "v",
         "showlegend": false,
         "type": "scatter",
         "x": [
          0,
          1,
          2,
          3,
          4,
          5,
          6,
          7,
          8,
          9,
          10,
          11,
          12,
          13,
          14,
          15,
          16,
          17,
          18,
          19,
          20,
          21,
          22,
          23
         ],
         "xaxis": "x2",
         "y": [
          442.65,
          1930.75,
          3418.51,
          3928.88,
          2050.69,
          3228.6,
          2898.84,
          2263.73,
          3805.5,
          10655.880000000001,
          8394.48,
          46421.49,
          28472.63,
          69443.12,
          31400.120000000003,
          38305.52,
          31980.760000000002,
          92723.78,
          2499.43,
          8845.69,
          6614.63,
          5634.57,
          5963.18,
          5732.32
         ],
         "yaxis": "y2"
        },
        {
         "hovertemplate": "gender=M<br>month=10<br>hour=%{x}<br>Total Txn Amount=%{y}<extra></extra>",
         "legendgroup": "M",
         "line": {
          "color": "#EF553B",
          "dash": "solid"
         },
         "marker": {
          "symbol": "circle"
         },
         "mode": "lines",
         "name": "M",
         "orientation": "v",
         "showlegend": false,
         "type": "scatter",
         "x": [
          0,
          1,
          2,
          3,
          4,
          5,
          6,
          7,
          8,
          9,
          10,
          11,
          12,
          13,
          14,
          15,
          16,
          17,
          18,
          19,
          20,
          21,
          22,
          23
         ],
         "xaxis": "x3",
         "y": [
          411.3,
          1626.67,
          5465.72,
          5962.44,
          2818.08,
          4629.03,
          2890.83,
          6529.7,
          3877.77,
          9862.97,
          4679.47,
          58189.409999999996,
          31110.690000000002,
          87531.55,
          28620.57,
          35076.1,
          33545.47,
          106333.55,
          4663.72,
          3854.58,
          5006.34,
          6445.92,
          2831.73,
          3404.24
         ],
         "yaxis": "y3"
        }
       ],
       "layout": {
        "annotations": [
         {
          "font": {},
          "showarrow": false,
          "text": "month=8",
          "x": 0.15999999999999998,
          "xanchor": "center",
          "xref": "paper",
          "y": 1,
          "yanchor": "bottom",
          "yref": "paper"
         },
         {
          "font": {},
          "showarrow": false,
          "text": "month=9",
          "x": 0.49999999999999994,
          "xanchor": "center",
          "xref": "paper",
          "y": 1,
          "yanchor": "bottom",
          "yref": "paper"
         },
         {
          "font": {},
          "showarrow": false,
          "text": "month=10",
          "x": 0.8399999999999999,
          "xanchor": "center",
          "xref": "paper",
          "y": 1,
          "yanchor": "bottom",
          "yref": "paper"
         }
        ],
        "height": 500,
        "legend": {
         "title": {
          "text": "gender"
         },
         "tracegroupgap": 0
        },
        "margin": {
         "b": 80,
         "l": 80,
         "r": 80,
         "t": 100
        },
        "template": {
         "data": {
          "bar": [
           {
            "error_x": {
             "color": "#2a3f5f"
            },
            "error_y": {
             "color": "#2a3f5f"
            },
            "marker": {
             "line": {
              "color": "#E5ECF6",
              "width": 0.5
             },
             "pattern": {
              "fillmode": "overlay",
              "size": 10,
              "solidity": 0.2
             }
            },
            "type": "bar"
           }
          ],
          "barpolar": [
           {
            "marker": {
             "line": {
              "color": "#E5ECF6",
              "width": 0.5
             },
             "pattern": {
              "fillmode": "overlay",
              "size": 10,
              "solidity": 0.2
             }
            },
            "type": "barpolar"
           }
          ],
          "carpet": [
           {
            "aaxis": {
             "endlinecolor": "#2a3f5f",
             "gridcolor": "white",
             "linecolor": "white",
             "minorgridcolor": "white",
             "startlinecolor": "#2a3f5f"
            },
            "baxis": {
             "endlinecolor": "#2a3f5f",
             "gridcolor": "white",
             "linecolor": "white",
             "minorgridcolor": "white",
             "startlinecolor": "#2a3f5f"
            },
            "type": "carpet"
           }
          ],
          "choropleth": [
           {
            "colorbar": {
             "outlinewidth": 0,
             "ticks": ""
            },
            "type": "choropleth"
           }
          ],
          "contour": [
           {
            "colorbar": {
             "outlinewidth": 0,
             "ticks": ""
            },
            "colorscale": [
             [
              0,
              "#0d0887"
             ],
             [
              0.1111111111111111,
              "#46039f"
             ],
             [
              0.2222222222222222,
              "#7201a8"
             ],
             [
              0.3333333333333333,
              "#9c179e"
             ],
             [
              0.4444444444444444,
              "#bd3786"
             ],
             [
              0.5555555555555556,
              "#d8576b"
             ],
             [
              0.6666666666666666,
              "#ed7953"
             ],
             [
              0.7777777777777778,
              "#fb9f3a"
             ],
             [
              0.8888888888888888,
              "#fdca26"
             ],
             [
              1,
              "#f0f921"
             ]
            ],
            "type": "contour"
           }
          ],
          "contourcarpet": [
           {
            "colorbar": {
             "outlinewidth": 0,
             "ticks": ""
            },
            "type": "contourcarpet"
           }
          ],
          "heatmap": [
           {
            "colorbar": {
             "outlinewidth": 0,
             "ticks": ""
            },
            "colorscale": [
             [
              0,
              "#0d0887"
             ],
             [
              0.1111111111111111,
              "#46039f"
             ],
             [
              0.2222222222222222,
              "#7201a8"
             ],
             [
              0.3333333333333333,
              "#9c179e"
             ],
             [
              0.4444444444444444,
              "#bd3786"
             ],
             [
              0.5555555555555556,
              "#d8576b"
             ],
             [
              0.6666666666666666,
              "#ed7953"
             ],
             [
              0.7777777777777778,
              "#fb9f3a"
             ],
             [
              0.8888888888888888,
              "#fdca26"
             ],
             [
              1,
              "#f0f921"
             ]
            ],
            "type": "heatmap"
           }
          ],
          "heatmapgl": [
           {
            "colorbar": {
             "outlinewidth": 0,
             "ticks": ""
            },
            "colorscale": [
             [
              0,
              "#0d0887"
             ],
             [
              0.1111111111111111,
              "#46039f"
             ],
             [
              0.2222222222222222,
              "#7201a8"
             ],
             [
              0.3333333333333333,
              "#9c179e"
             ],
             [
              0.4444444444444444,
              "#bd3786"
             ],
             [
              0.5555555555555556,
              "#d8576b"
             ],
             [
              0.6666666666666666,
              "#ed7953"
             ],
             [
              0.7777777777777778,
              "#fb9f3a"
             ],
             [
              0.8888888888888888,
              "#fdca26"
             ],
             [
              1,
              "#f0f921"
             ]
            ],
            "type": "heatmapgl"
           }
          ],
          "histogram": [
           {
            "marker": {
             "pattern": {
              "fillmode": "overlay",
              "size": 10,
              "solidity": 0.2
             }
            },
            "type": "histogram"
           }
          ],
          "histogram2d": [
           {
            "colorbar": {
             "outlinewidth": 0,
             "ticks": ""
            },
            "colorscale": [
             [
              0,
              "#0d0887"
             ],
             [
              0.1111111111111111,
              "#46039f"
             ],
             [
              0.2222222222222222,
              "#7201a8"
             ],
             [
              0.3333333333333333,
              "#9c179e"
             ],
             [
              0.4444444444444444,
              "#bd3786"
             ],
             [
              0.5555555555555556,
              "#d8576b"
             ],
             [
              0.6666666666666666,
              "#ed7953"
             ],
             [
              0.7777777777777778,
              "#fb9f3a"
             ],
             [
              0.8888888888888888,
              "#fdca26"
             ],
             [
              1,
              "#f0f921"
             ]
            ],
            "type": "histogram2d"
           }
          ],
          "histogram2dcontour": [
           {
            "colorbar": {
             "outlinewidth": 0,
             "ticks": ""
            },
            "colorscale": [
             [
              0,
              "#0d0887"
             ],
             [
              0.1111111111111111,
              "#46039f"
             ],
             [
              0.2222222222222222,
              "#7201a8"
             ],
             [
              0.3333333333333333,
              "#9c179e"
             ],
             [
              0.4444444444444444,
              "#bd3786"
             ],
             [
              0.5555555555555556,
              "#d8576b"
             ],
             [
              0.6666666666666666,
              "#ed7953"
             ],
             [
              0.7777777777777778,
              "#fb9f3a"
             ],
             [
              0.8888888888888888,
              "#fdca26"
             ],
             [
              1,
              "#f0f921"
             ]
            ],
            "type": "histogram2dcontour"
           }
          ],
          "mesh3d": [
           {
            "colorbar": {
             "outlinewidth": 0,
             "ticks": ""
            },
            "type": "mesh3d"
           }
          ],
          "parcoords": [
           {
            "line": {
             "colorbar": {
              "outlinewidth": 0,
              "ticks": ""
             }
            },
            "type": "parcoords"
           }
          ],
          "pie": [
           {
            "automargin": true,
            "type": "pie"
           }
          ],
          "scatter": [
           {
            "fillpattern": {
             "fillmode": "overlay",
             "size": 10,
             "solidity": 0.2
            },
            "type": "scatter"
           }
          ],
          "scatter3d": [
           {
            "line": {
             "colorbar": {
              "outlinewidth": 0,
              "ticks": ""
             }
            },
            "marker": {
             "colorbar": {
              "outlinewidth": 0,
              "ticks": ""
             }
            },
            "type": "scatter3d"
           }
          ],
          "scattercarpet": [
           {
            "marker": {
             "colorbar": {
              "outlinewidth": 0,
              "ticks": ""
             }
            },
            "type": "scattercarpet"
           }
          ],
          "scattergeo": [
           {
            "marker": {
             "colorbar": {
              "outlinewidth": 0,
              "ticks": ""
             }
            },
            "type": "scattergeo"
           }
          ],
          "scattergl": [
           {
            "marker": {
             "colorbar": {
              "outlinewidth": 0,
              "ticks": ""
             }
            },
            "type": "scattergl"
           }
          ],
          "scattermapbox": [
           {
            "marker": {
             "colorbar": {
              "outlinewidth": 0,
              "ticks": ""
             }
            },
            "type": "scattermapbox"
           }
          ],
          "scatterpolar": [
           {
            "marker": {
             "colorbar": {
              "outlinewidth": 0,
              "ticks": ""
             }
            },
            "type": "scatterpolar"
           }
          ],
          "scatterpolargl": [
           {
            "marker": {
             "colorbar": {
              "outlinewidth": 0,
              "ticks": ""
             }
            },
            "type": "scatterpolargl"
           }
          ],
          "scatterternary": [
           {
            "marker": {
             "colorbar": {
              "outlinewidth": 0,
              "ticks": ""
             }
            },
            "type": "scatterternary"
           }
          ],
          "surface": [
           {
            "colorbar": {
             "outlinewidth": 0,
             "ticks": ""
            },
            "colorscale": [
             [
              0,
              "#0d0887"
             ],
             [
              0.1111111111111111,
              "#46039f"
             ],
             [
              0.2222222222222222,
              "#7201a8"
             ],
             [
              0.3333333333333333,
              "#9c179e"
             ],
             [
              0.4444444444444444,
              "#bd3786"
             ],
             [
              0.5555555555555556,
              "#d8576b"
             ],
             [
              0.6666666666666666,
              "#ed7953"
             ],
             [
              0.7777777777777778,
              "#fb9f3a"
             ],
             [
              0.8888888888888888,
              "#fdca26"
             ],
             [
              1,
              "#f0f921"
             ]
            ],
            "type": "surface"
           }
          ],
          "table": [
           {
            "cells": {
             "fill": {
              "color": "#EBF0F8"
             },
             "line": {
              "color": "white"
             }
            },
            "header": {
             "fill": {
              "color": "#C8D4E3"
             },
             "line": {
              "color": "white"
             }
            },
            "type": "table"
           }
          ]
         },
         "layout": {
          "annotationdefaults": {
           "arrowcolor": "#2a3f5f",
           "arrowhead": 0,
           "arrowwidth": 1
          },
          "autotypenumbers": "strict",
          "coloraxis": {
           "colorbar": {
            "outlinewidth": 0,
            "ticks": ""
           }
          },
          "colorscale": {
           "diverging": [
            [
             0,
             "#8e0152"
            ],
            [
             0.1,
             "#c51b7d"
            ],
            [
             0.2,
             "#de77ae"
            ],
            [
             0.3,
             "#f1b6da"
            ],
            [
             0.4,
             "#fde0ef"
            ],
            [
             0.5,
             "#f7f7f7"
            ],
            [
             0.6,
             "#e6f5d0"
            ],
            [
             0.7,
             "#b8e186"
            ],
            [
             0.8,
             "#7fbc41"
            ],
            [
             0.9,
             "#4d9221"
            ],
            [
             1,
             "#276419"
            ]
           ],
           "sequential": [
            [
             0,
             "#0d0887"
            ],
            [
             0.1111111111111111,
             "#46039f"
            ],
            [
             0.2222222222222222,
             "#7201a8"
            ],
            [
             0.3333333333333333,
             "#9c179e"
            ],
            [
             0.4444444444444444,
             "#bd3786"
            ],
            [
             0.5555555555555556,
             "#d8576b"
            ],
            [
             0.6666666666666666,
             "#ed7953"
            ],
            [
             0.7777777777777778,
             "#fb9f3a"
            ],
            [
             0.8888888888888888,
             "#fdca26"
            ],
            [
             1,
             "#f0f921"
            ]
           ],
           "sequentialminus": [
            [
             0,
             "#0d0887"
            ],
            [
             0.1111111111111111,
             "#46039f"
            ],
            [
             0.2222222222222222,
             "#7201a8"
            ],
            [
             0.3333333333333333,
             "#9c179e"
            ],
            [
             0.4444444444444444,
             "#bd3786"
            ],
            [
             0.5555555555555556,
             "#d8576b"
            ],
            [
             0.6666666666666666,
             "#ed7953"
            ],
            [
             0.7777777777777778,
             "#fb9f3a"
            ],
            [
             0.8888888888888888,
             "#fdca26"
            ],
            [
             1,
             "#f0f921"
            ]
           ]
          },
          "colorway": [
           "#636efa",
           "#EF553B",
           "#00cc96",
           "#ab63fa",
           "#FFA15A",
           "#19d3f3",
           "#FF6692",
           "#B6E880",
           "#FF97FF",
           "#FECB52"
          ],
          "font": {
           "color": "#2a3f5f"
          },
          "geo": {
           "bgcolor": "white",
           "lakecolor": "white",
           "landcolor": "#E5ECF6",
           "showlakes": true,
           "showland": true,
           "subunitcolor": "white"
          },
          "hoverlabel": {
           "align": "left"
          },
          "hovermode": "closest",
          "mapbox": {
           "style": "light"
          },
          "paper_bgcolor": "white",
          "plot_bgcolor": "#E5ECF6",
          "polar": {
           "angularaxis": {
            "gridcolor": "white",
            "linecolor": "white",
            "ticks": ""
           },
           "bgcolor": "#E5ECF6",
           "radialaxis": {
            "gridcolor": "white",
            "linecolor": "white",
            "ticks": ""
           }
          },
          "scene": {
           "xaxis": {
            "backgroundcolor": "#E5ECF6",
            "gridcolor": "white",
            "gridwidth": 2,
            "linecolor": "white",
            "showbackground": true,
            "ticks": "",
            "zerolinecolor": "white"
           },
           "yaxis": {
            "backgroundcolor": "#E5ECF6",
            "gridcolor": "white",
            "gridwidth": 2,
            "linecolor": "white",
            "showbackground": true,
            "ticks": "",
            "zerolinecolor": "white"
           },
           "zaxis": {
            "backgroundcolor": "#E5ECF6",
            "gridcolor": "white",
            "gridwidth": 2,
            "linecolor": "white",
            "showbackground": true,
            "ticks": "",
            "zerolinecolor": "white"
           }
          },
          "shapedefaults": {
           "line": {
            "color": "#2a3f5f"
           }
          },
          "ternary": {
           "aaxis": {
            "gridcolor": "white",
            "linecolor": "white",
            "ticks": ""
           },
           "baxis": {
            "gridcolor": "white",
            "linecolor": "white",
            "ticks": ""
           },
           "bgcolor": "#E5ECF6",
           "caxis": {
            "gridcolor": "white",
            "linecolor": "white",
            "ticks": ""
           }
          },
          "title": {
           "x": 0.05
          },
          "xaxis": {
           "automargin": true,
           "gridcolor": "white",
           "linecolor": "white",
           "ticks": "",
           "title": {
            "standoff": 15
           },
           "zerolinecolor": "white",
           "zerolinewidth": 2
          },
          "yaxis": {
           "automargin": true,
           "gridcolor": "white",
           "linecolor": "white",
           "ticks": "",
           "title": {
            "standoff": 15
           },
           "zerolinecolor": "white",
           "zerolinewidth": 2
          }
         }
        },
        "title": {
         "font": {
          "size": 20
         },
         "text": "Hourly Transaction count by Month ",
         "x": 0.5,
         "y": 0.95
        },
        "width": 980,
        "xaxis": {
         "anchor": "y",
         "domain": [
          0,
          0.31999999999999995
         ],
         "showgrid": false,
         "title": {
          "text": "Hour"
         }
        },
        "xaxis2": {
         "anchor": "y2",
         "domain": [
          0.33999999999999997,
          0.6599999999999999
         ],
         "matches": "x",
         "showgrid": false,
         "title": {
          "text": "Hour"
         }
        },
        "xaxis3": {
         "anchor": "y3",
         "domain": [
          0.6799999999999999,
          0.9999999999999999
         ],
         "matches": "x",
         "showgrid": false,
         "title": {
          "text": "Hour"
         }
        },
        "yaxis": {
         "anchor": "x",
         "domain": [
          0,
          1
         ],
         "showgrid": false,
         "title": {
          "text": "Total Txn Amount"
         }
        },
        "yaxis2": {
         "anchor": "x2",
         "domain": [
          0,
          1
         ],
         "matches": "y",
         "showgrid": false,
         "showticklabels": false
        },
        "yaxis3": {
         "anchor": "x3",
         "domain": [
          0,
          1
         ],
         "matches": "y",
         "showgrid": false,
         "showticklabels": false
        }
       }
      }
     },
     "metadata": {},
     "output_type": "display_data"
    }
   ],
   "source": [
    "fig2=px.line(data_frame=df4_grp, \n",
    " x=df4_grp.hour, \n",
    " y=df4_grp['Total Txn Amount'], \n",
    " color=df4_grp.gender, \n",
    " facet_col= df4_grp.month \n",
    " ) \n",
    "fig2.update_xaxes(title='Hour',showgrid=False)  \n",
    "fig2.update_yaxes(showgrid=False) \n",
    "fig2.update_layout( \n",
    " title=dict(text = \"Hourly Transaction count by Month \",x=0.5,y=0.95), \n",
    " title_font_size=20, \n",
    "width = 980, \n",
    " height = 500, \n",
    " margin=dict(l=80, r=80, t=100, b=80) \n",
    " ) \n",
    "fig2.show()\n"
   ]
  },
  {
   "cell_type": "code",
   "execution_count": 85,
   "metadata": {},
   "outputs": [
    {
     "data": {
      "text/html": [
       "<div>\n",
       "<style scoped>\n",
       "    .dataframe tbody tr th:only-of-type {\n",
       "        vertical-align: middle;\n",
       "    }\n",
       "\n",
       "    .dataframe tbody tr th {\n",
       "        vertical-align: top;\n",
       "    }\n",
       "\n",
       "    .dataframe thead th {\n",
       "        text-align: right;\n",
       "    }\n",
       "</style>\n",
       "<table border=\"1\" class=\"dataframe\">\n",
       "  <thead>\n",
       "    <tr style=\"text-align: right;\">\n",
       "      <th></th>\n",
       "      <th>hour</th>\n",
       "      <th>day</th>\n",
       "      <th>gender</th>\n",
       "      <th>Transaction Count</th>\n",
       "      <th>Total Txn Amount</th>\n",
       "    </tr>\n",
       "  </thead>\n",
       "  <tbody>\n",
       "    <tr>\n",
       "      <th>0</th>\n",
       "      <td>0</td>\n",
       "      <td>0</td>\n",
       "      <td>F</td>\n",
       "      <td>6</td>\n",
       "      <td>149.13</td>\n",
       "    </tr>\n",
       "    <tr>\n",
       "      <th>1</th>\n",
       "      <td>0</td>\n",
       "      <td>0</td>\n",
       "      <td>M</td>\n",
       "      <td>3</td>\n",
       "      <td>61.40</td>\n",
       "    </tr>\n",
       "    <tr>\n",
       "      <th>2</th>\n",
       "      <td>0</td>\n",
       "      <td>1</td>\n",
       "      <td>F</td>\n",
       "      <td>4</td>\n",
       "      <td>99.81</td>\n",
       "    </tr>\n",
       "    <tr>\n",
       "      <th>3</th>\n",
       "      <td>0</td>\n",
       "      <td>1</td>\n",
       "      <td>M</td>\n",
       "      <td>6</td>\n",
       "      <td>123.07</td>\n",
       "    </tr>\n",
       "    <tr>\n",
       "      <th>4</th>\n",
       "      <td>0</td>\n",
       "      <td>2</td>\n",
       "      <td>F</td>\n",
       "      <td>6</td>\n",
       "      <td>147.39</td>\n",
       "    </tr>\n",
       "  </tbody>\n",
       "</table>\n",
       "</div>"
      ],
      "text/plain": [
       "   hour  day gender  Transaction Count  Total Txn Amount\n",
       "0     0    0      F                  6            149.13\n",
       "1     0    0      M                  3             61.40\n",
       "2     0    1      F                  4             99.81\n",
       "3     0    1      M                  6            123.07\n",
       "4     0    2      F                  6            147.39"
      ]
     },
     "execution_count": 85,
     "metadata": {},
     "output_type": "execute_result"
    }
   ],
   "source": [
    "df4_grp= df2.groupby(by=['hour','day','gender']).agg(['count','sum'])[['amount']].reset_index() \n",
    "df4_grp.columns = ['hour', 'day' ,'gender','Transaction Count', 'Total Txn Amount'] \n",
    "df4_grp.head()\n"
   ]
  },
  {
   "cell_type": "code",
   "execution_count": 86,
   "metadata": {},
   "outputs": [
    {
     "data": {
      "application/vnd.plotly.v1+json": {
       "config": {
        "plotlyServerURL": "https://plot.ly"
       },
       "data": [
        {
         "hovertemplate": "gender=F<br>day=0<br>hour=%{x}<br>Transaction Count=%{y}<extra></extra>",
         "legendgroup": "F",
         "line": {
          "color": "#636efa",
          "dash": "solid"
         },
         "marker": {
          "symbol": "circle"
         },
         "mode": "lines",
         "name": "F",
         "orientation": "v",
         "showlegend": true,
         "type": "scatter",
         "x": [
          0,
          1,
          2,
          3,
          4,
          6,
          7,
          8,
          9,
          10,
          11,
          12,
          13,
          14,
          15,
          16,
          17,
          18,
          19,
          20,
          21,
          22,
          23
         ],
         "xaxis": "x",
         "y": [
          6,
          8,
          3,
          18,
          14,
          19,
          4,
          35,
          83,
          52,
          77,
          39,
          50,
          28,
          52,
          11,
          47,
          11,
          14,
          42,
          35,
          13,
          13
         ],
         "yaxis": "y"
        },
        {
         "hovertemplate": "gender=F<br>day=1<br>hour=%{x}<br>Transaction Count=%{y}<extra></extra>",
         "legendgroup": "F",
         "line": {
          "color": "#636efa",
          "dash": "solid"
         },
         "marker": {
          "symbol": "circle"
         },
         "mode": "lines",
         "name": "F",
         "orientation": "v",
         "showlegend": false,
         "type": "scatter",
         "x": [
          0,
          1,
          2,
          3,
          4,
          5,
          6,
          7,
          8,
          9,
          10,
          11,
          12,
          13,
          14,
          15,
          16,
          17,
          18,
          19,
          20,
          21,
          22,
          23
         ],
         "xaxis": "x2",
         "y": [
          4,
          10,
          14,
          17,
          22,
          16,
          18,
          22,
          32,
          98,
          37,
          48,
          36,
          19,
          68,
          54,
          29,
          54,
          40,
          21,
          13,
          18,
          18,
          15
         ],
         "yaxis": "y2"
        },
        {
         "hovertemplate": "gender=F<br>day=2<br>hour=%{x}<br>Transaction Count=%{y}<extra></extra>",
         "legendgroup": "F",
         "line": {
          "color": "#636efa",
          "dash": "solid"
         },
         "marker": {
          "symbol": "circle"
         },
         "mode": "lines",
         "name": "F",
         "orientation": "v",
         "showlegend": false,
         "type": "scatter",
         "x": [
          0,
          1,
          2,
          3,
          4,
          5,
          6,
          7,
          8,
          9,
          10,
          11,
          12,
          13,
          14,
          15,
          16,
          17,
          18,
          19,
          20,
          21,
          22,
          23
         ],
         "xaxis": "x3",
         "y": [
          6,
          16,
          8,
          4,
          17,
          3,
          23,
          10,
          77,
          109,
          54,
          58,
          75,
          45,
          56,
          84,
          43,
          80,
          31,
          37,
          48,
          38,
          27,
          19
         ],
         "yaxis": "y3"
        },
        {
         "hovertemplate": "gender=F<br>day=3<br>hour=%{x}<br>Transaction Count=%{y}<extra></extra>",
         "legendgroup": "F",
         "line": {
          "color": "#636efa",
          "dash": "solid"
         },
         "marker": {
          "symbol": "circle"
         },
         "mode": "lines",
         "name": "F",
         "orientation": "v",
         "showlegend": false,
         "type": "scatter",
         "x": [
          0,
          1,
          2,
          3,
          4,
          5,
          6,
          7,
          8,
          9,
          10,
          11,
          12,
          13,
          14,
          15,
          16,
          17,
          18,
          19,
          20,
          21,
          22,
          23
         ],
         "xaxis": "x4",
         "y": [
          9,
          13,
          3,
          4,
          30,
          2,
          30,
          38,
          57,
          111,
          18,
          72,
          34,
          14,
          32,
          65,
          33,
          56,
          31,
          40,
          9,
          24,
          51,
          27
         ],
         "yaxis": "y4"
        },
        {
         "hovertemplate": "gender=F<br>day=4<br>hour=%{x}<br>Transaction Count=%{y}<extra></extra>",
         "legendgroup": "F",
         "line": {
          "color": "#636efa",
          "dash": "solid"
         },
         "marker": {
          "symbol": "circle"
         },
         "mode": "lines",
         "name": "F",
         "orientation": "v",
         "showlegend": false,
         "type": "scatter",
         "x": [
          0,
          1,
          2,
          3,
          4,
          5,
          6,
          7,
          8,
          9,
          10,
          11,
          12,
          13,
          14,
          15,
          16,
          17,
          18,
          19,
          20,
          21,
          22,
          23
         ],
         "xaxis": "x5",
         "y": [
          10,
          14,
          11,
          5,
          32,
          4,
          19,
          13,
          43,
          73,
          24,
          95,
          55,
          88,
          71,
          58,
          49,
          50,
          49,
          85,
          39,
          82,
          32,
          34
         ],
         "yaxis": "y5"
        },
        {
         "hovertemplate": "gender=F<br>day=5<br>hour=%{x}<br>Transaction Count=%{y}<extra></extra>",
         "legendgroup": "F",
         "line": {
          "color": "#636efa",
          "dash": "solid"
         },
         "marker": {
          "symbol": "circle"
         },
         "mode": "lines",
         "name": "F",
         "orientation": "v",
         "showlegend": false,
         "type": "scatter",
         "x": [
          0,
          1,
          2,
          3,
          4,
          5,
          6,
          7,
          8,
          9,
          10,
          11,
          12,
          13,
          14,
          15,
          16,
          17,
          18,
          19,
          20,
          21,
          22,
          23
         ],
         "xaxis": "x6",
         "y": [
          10,
          14,
          23,
          9,
          21,
          29,
          6,
          10,
          28,
          51,
          45,
          61,
          29,
          18,
          52,
          40,
          25,
          46,
          34,
          35,
          63,
          91,
          52,
          45
         ],
         "yaxis": "y6"
        },
        {
         "hovertemplate": "gender=F<br>day=6<br>hour=%{x}<br>Transaction Count=%{y}<extra></extra>",
         "legendgroup": "F",
         "line": {
          "color": "#636efa",
          "dash": "solid"
         },
         "marker": {
          "symbol": "circle"
         },
         "mode": "lines",
         "name": "F",
         "orientation": "v",
         "showlegend": false,
         "type": "scatter",
         "x": [
          0,
          1,
          2,
          3,
          4,
          5,
          6,
          7,
          8,
          9,
          10,
          11,
          12,
          13,
          14,
          15,
          16,
          17,
          18,
          19,
          20,
          21,
          22,
          23
         ],
         "xaxis": "x7",
         "y": [
          12,
          12,
          6,
          14,
          22,
          33,
          5,
          10,
          19,
          59,
          55,
          53,
          26,
          19,
          41,
          31,
          27,
          44,
          14,
          44,
          45,
          71,
          34,
          22
         ],
         "yaxis": "y7"
        },
        {
         "hovertemplate": "gender=M<br>day=0<br>hour=%{x}<br>Transaction Count=%{y}<extra></extra>",
         "legendgroup": "M",
         "line": {
          "color": "#EF553B",
          "dash": "solid"
         },
         "marker": {
          "symbol": "circle"
         },
         "mode": "lines",
         "name": "M",
         "orientation": "v",
         "showlegend": true,
         "type": "scatter",
         "x": [
          0,
          1,
          2,
          3,
          4,
          5,
          6,
          7,
          8,
          9,
          10,
          11,
          12,
          13,
          14,
          15,
          16,
          17,
          18,
          19,
          20,
          21,
          22,
          23
         ],
         "xaxis": "x",
         "y": [
          3,
          9,
          11,
          14,
          4,
          14,
          8,
          9,
          19,
          88,
          49,
          59,
          26,
          66,
          61,
          18,
          17,
          38,
          17,
          22,
          45,
          31,
          37,
          21
         ],
         "yaxis": "y"
        },
        {
         "hovertemplate": "gender=M<br>day=1<br>hour=%{x}<br>Transaction Count=%{y}<extra></extra>",
         "legendgroup": "M",
         "line": {
          "color": "#EF553B",
          "dash": "solid"
         },
         "marker": {
          "symbol": "circle"
         },
         "mode": "lines",
         "name": "M",
         "orientation": "v",
         "showlegend": false,
         "type": "scatter",
         "x": [
          0,
          1,
          2,
          3,
          4,
          5,
          6,
          7,
          8,
          9,
          10,
          11,
          12,
          13,
          14,
          15,
          16,
          17,
          18,
          19,
          20,
          21,
          22,
          23
         ],
         "xaxis": "x2",
         "y": [
          6,
          13,
          13,
          17,
          24,
          17,
          6,
          33,
          30,
          90,
          45,
          54,
          24,
          39,
          36,
          37,
          44,
          88,
          19,
          20,
          48,
          23,
          15,
          23
         ],
         "yaxis": "y2"
        },
        {
         "hovertemplate": "gender=M<br>day=2<br>hour=%{x}<br>Transaction Count=%{y}<extra></extra>",
         "legendgroup": "M",
         "line": {
          "color": "#EF553B",
          "dash": "solid"
         },
         "marker": {
          "symbol": "circle"
         },
         "mode": "lines",
         "name": "M",
         "orientation": "v",
         "showlegend": false,
         "type": "scatter",
         "x": [
          0,
          1,
          2,
          3,
          4,
          5,
          6,
          7,
          8,
          9,
          10,
          11,
          12,
          13,
          14,
          15,
          16,
          17,
          18,
          19,
          20,
          21,
          22,
          23
         ],
         "xaxis": "x3",
         "y": [
          6,
          22,
          11,
          3,
          14,
          2,
          41,
          43,
          52,
          113,
          83,
          89,
          40,
          43,
          68,
          86,
          66,
          82,
          21,
          51,
          42,
          34,
          20,
          63
         ],
         "yaxis": "y3"
        },
        {
         "hovertemplate": "gender=M<br>day=3<br>hour=%{x}<br>Transaction Count=%{y}<extra></extra>",
         "legendgroup": "M",
         "line": {
          "color": "#EF553B",
          "dash": "solid"
         },
         "marker": {
          "symbol": "circle"
         },
         "mode": "lines",
         "name": "M",
         "orientation": "v",
         "showlegend": false,
         "type": "scatter",
         "x": [
          0,
          1,
          2,
          3,
          4,
          5,
          6,
          7,
          8,
          9,
          10,
          11,
          12,
          13,
          14,
          15,
          16,
          17,
          18,
          19,
          20,
          21,
          22,
          23
         ],
         "xaxis": "x4",
         "y": [
          9,
          17,
          29,
          26,
          29,
          29,
          7,
          11,
          44,
          72,
          28,
          74,
          52,
          53,
          78,
          75,
          36,
          77,
          39,
          56,
          39,
          44,
          33,
          41
         ],
         "yaxis": "y4"
        },
        {
         "hovertemplate": "gender=M<br>day=4<br>hour=%{x}<br>Transaction Count=%{y}<extra></extra>",
         "legendgroup": "M",
         "line": {
          "color": "#EF553B",
          "dash": "solid"
         },
         "marker": {
          "symbol": "circle"
         },
         "mode": "lines",
         "name": "M",
         "orientation": "v",
         "showlegend": false,
         "type": "scatter",
         "x": [
          0,
          1,
          2,
          3,
          4,
          5,
          6,
          7,
          8,
          9,
          10,
          11,
          12,
          13,
          14,
          15,
          16,
          17,
          18,
          19,
          20,
          21,
          22,
          23
         ],
         "xaxis": "x5",
         "y": [
          12,
          20,
          21,
          29,
          35,
          22,
          30,
          27,
          49,
          58,
          33,
          62,
          34,
          33,
          61,
          63,
          69,
          73,
          30,
          52,
          48,
          101,
          37,
          39
         ],
         "yaxis": "y5"
        },
        {
         "hovertemplate": "gender=M<br>day=5<br>hour=%{x}<br>Transaction Count=%{y}<extra></extra>",
         "legendgroup": "M",
         "line": {
          "color": "#EF553B",
          "dash": "solid"
         },
         "marker": {
          "symbol": "circle"
         },
         "mode": "lines",
         "name": "M",
         "orientation": "v",
         "showlegend": false,
         "type": "scatter",
         "x": [
          0,
          1,
          2,
          3,
          4,
          5,
          6,
          7,
          8,
          9,
          10,
          11,
          12,
          13,
          14,
          15,
          16,
          17,
          18,
          19,
          20,
          21,
          22,
          23
         ],
         "xaxis": "x6",
         "y": [
          9,
          23,
          27,
          15,
          32,
          33,
          12,
          10,
          27,
          41,
          37,
          56,
          42,
          43,
          58,
          33,
          51,
          51,
          16,
          38,
          51,
          77,
          43,
          47
         ],
         "yaxis": "y6"
        },
        {
         "hovertemplate": "gender=M<br>day=6<br>hour=%{x}<br>Transaction Count=%{y}<extra></extra>",
         "legendgroup": "M",
         "line": {
          "color": "#EF553B",
          "dash": "solid"
         },
         "marker": {
          "symbol": "circle"
         },
         "mode": "lines",
         "name": "M",
         "orientation": "v",
         "showlegend": false,
         "type": "scatter",
         "x": [
          0,
          1,
          2,
          3,
          4,
          5,
          6,
          7,
          8,
          9,
          10,
          11,
          12,
          13,
          14,
          15,
          16,
          17,
          18,
          19,
          20,
          21,
          22,
          23
         ],
         "xaxis": "x7",
         "y": [
          6,
          23,
          32,
          21,
          13,
          5,
          25,
          26,
          35,
          60,
          55,
          83,
          31,
          28,
          47,
          32,
          16,
          29,
          31,
          33,
          66,
          72,
          46,
          17
         ],
         "yaxis": "y7"
        }
       ],
       "layout": {
        "annotations": [
         {
          "font": {},
          "showarrow": false,
          "text": "day=0",
          "x": 0.06285714285714285,
          "xanchor": "center",
          "xref": "paper",
          "y": 1,
          "yanchor": "bottom",
          "yref": "paper"
         },
         {
          "font": {},
          "showarrow": false,
          "text": "day=1",
          "x": 0.20857142857142852,
          "xanchor": "center",
          "xref": "paper",
          "y": 1,
          "yanchor": "bottom",
          "yref": "paper"
         },
         {
          "font": {},
          "showarrow": false,
          "text": "day=2",
          "x": 0.3542857142857142,
          "xanchor": "center",
          "xref": "paper",
          "y": 1,
          "yanchor": "bottom",
          "yref": "paper"
         },
         {
          "font": {},
          "showarrow": false,
          "text": "day=3",
          "x": 0.5,
          "xanchor": "center",
          "xref": "paper",
          "y": 1,
          "yanchor": "bottom",
          "yref": "paper"
         },
         {
          "font": {},
          "showarrow": false,
          "text": "day=4",
          "x": 0.6457142857142856,
          "xanchor": "center",
          "xref": "paper",
          "y": 1,
          "yanchor": "bottom",
          "yref": "paper"
         },
         {
          "font": {},
          "showarrow": false,
          "text": "day=5",
          "x": 0.7914285714285713,
          "xanchor": "center",
          "xref": "paper",
          "y": 1,
          "yanchor": "bottom",
          "yref": "paper"
         },
         {
          "font": {},
          "showarrow": false,
          "text": "day=6",
          "x": 0.937142857142857,
          "xanchor": "center",
          "xref": "paper",
          "y": 1,
          "yanchor": "bottom",
          "yref": "paper"
         }
        ],
        "height": 500,
        "legend": {
         "title": {
          "text": "gender"
         },
         "tracegroupgap": 0
        },
        "margin": {
         "b": 80,
         "l": 80,
         "r": 80,
         "t": 100
        },
        "template": {
         "data": {
          "bar": [
           {
            "error_x": {
             "color": "#2a3f5f"
            },
            "error_y": {
             "color": "#2a3f5f"
            },
            "marker": {
             "line": {
              "color": "#E5ECF6",
              "width": 0.5
             },
             "pattern": {
              "fillmode": "overlay",
              "size": 10,
              "solidity": 0.2
             }
            },
            "type": "bar"
           }
          ],
          "barpolar": [
           {
            "marker": {
             "line": {
              "color": "#E5ECF6",
              "width": 0.5
             },
             "pattern": {
              "fillmode": "overlay",
              "size": 10,
              "solidity": 0.2
             }
            },
            "type": "barpolar"
           }
          ],
          "carpet": [
           {
            "aaxis": {
             "endlinecolor": "#2a3f5f",
             "gridcolor": "white",
             "linecolor": "white",
             "minorgridcolor": "white",
             "startlinecolor": "#2a3f5f"
            },
            "baxis": {
             "endlinecolor": "#2a3f5f",
             "gridcolor": "white",
             "linecolor": "white",
             "minorgridcolor": "white",
             "startlinecolor": "#2a3f5f"
            },
            "type": "carpet"
           }
          ],
          "choropleth": [
           {
            "colorbar": {
             "outlinewidth": 0,
             "ticks": ""
            },
            "type": "choropleth"
           }
          ],
          "contour": [
           {
            "colorbar": {
             "outlinewidth": 0,
             "ticks": ""
            },
            "colorscale": [
             [
              0,
              "#0d0887"
             ],
             [
              0.1111111111111111,
              "#46039f"
             ],
             [
              0.2222222222222222,
              "#7201a8"
             ],
             [
              0.3333333333333333,
              "#9c179e"
             ],
             [
              0.4444444444444444,
              "#bd3786"
             ],
             [
              0.5555555555555556,
              "#d8576b"
             ],
             [
              0.6666666666666666,
              "#ed7953"
             ],
             [
              0.7777777777777778,
              "#fb9f3a"
             ],
             [
              0.8888888888888888,
              "#fdca26"
             ],
             [
              1,
              "#f0f921"
             ]
            ],
            "type": "contour"
           }
          ],
          "contourcarpet": [
           {
            "colorbar": {
             "outlinewidth": 0,
             "ticks": ""
            },
            "type": "contourcarpet"
           }
          ],
          "heatmap": [
           {
            "colorbar": {
             "outlinewidth": 0,
             "ticks": ""
            },
            "colorscale": [
             [
              0,
              "#0d0887"
             ],
             [
              0.1111111111111111,
              "#46039f"
             ],
             [
              0.2222222222222222,
              "#7201a8"
             ],
             [
              0.3333333333333333,
              "#9c179e"
             ],
             [
              0.4444444444444444,
              "#bd3786"
             ],
             [
              0.5555555555555556,
              "#d8576b"
             ],
             [
              0.6666666666666666,
              "#ed7953"
             ],
             [
              0.7777777777777778,
              "#fb9f3a"
             ],
             [
              0.8888888888888888,
              "#fdca26"
             ],
             [
              1,
              "#f0f921"
             ]
            ],
            "type": "heatmap"
           }
          ],
          "heatmapgl": [
           {
            "colorbar": {
             "outlinewidth": 0,
             "ticks": ""
            },
            "colorscale": [
             [
              0,
              "#0d0887"
             ],
             [
              0.1111111111111111,
              "#46039f"
             ],
             [
              0.2222222222222222,
              "#7201a8"
             ],
             [
              0.3333333333333333,
              "#9c179e"
             ],
             [
              0.4444444444444444,
              "#bd3786"
             ],
             [
              0.5555555555555556,
              "#d8576b"
             ],
             [
              0.6666666666666666,
              "#ed7953"
             ],
             [
              0.7777777777777778,
              "#fb9f3a"
             ],
             [
              0.8888888888888888,
              "#fdca26"
             ],
             [
              1,
              "#f0f921"
             ]
            ],
            "type": "heatmapgl"
           }
          ],
          "histogram": [
           {
            "marker": {
             "pattern": {
              "fillmode": "overlay",
              "size": 10,
              "solidity": 0.2
             }
            },
            "type": "histogram"
           }
          ],
          "histogram2d": [
           {
            "colorbar": {
             "outlinewidth": 0,
             "ticks": ""
            },
            "colorscale": [
             [
              0,
              "#0d0887"
             ],
             [
              0.1111111111111111,
              "#46039f"
             ],
             [
              0.2222222222222222,
              "#7201a8"
             ],
             [
              0.3333333333333333,
              "#9c179e"
             ],
             [
              0.4444444444444444,
              "#bd3786"
             ],
             [
              0.5555555555555556,
              "#d8576b"
             ],
             [
              0.6666666666666666,
              "#ed7953"
             ],
             [
              0.7777777777777778,
              "#fb9f3a"
             ],
             [
              0.8888888888888888,
              "#fdca26"
             ],
             [
              1,
              "#f0f921"
             ]
            ],
            "type": "histogram2d"
           }
          ],
          "histogram2dcontour": [
           {
            "colorbar": {
             "outlinewidth": 0,
             "ticks": ""
            },
            "colorscale": [
             [
              0,
              "#0d0887"
             ],
             [
              0.1111111111111111,
              "#46039f"
             ],
             [
              0.2222222222222222,
              "#7201a8"
             ],
             [
              0.3333333333333333,
              "#9c179e"
             ],
             [
              0.4444444444444444,
              "#bd3786"
             ],
             [
              0.5555555555555556,
              "#d8576b"
             ],
             [
              0.6666666666666666,
              "#ed7953"
             ],
             [
              0.7777777777777778,
              "#fb9f3a"
             ],
             [
              0.8888888888888888,
              "#fdca26"
             ],
             [
              1,
              "#f0f921"
             ]
            ],
            "type": "histogram2dcontour"
           }
          ],
          "mesh3d": [
           {
            "colorbar": {
             "outlinewidth": 0,
             "ticks": ""
            },
            "type": "mesh3d"
           }
          ],
          "parcoords": [
           {
            "line": {
             "colorbar": {
              "outlinewidth": 0,
              "ticks": ""
             }
            },
            "type": "parcoords"
           }
          ],
          "pie": [
           {
            "automargin": true,
            "type": "pie"
           }
          ],
          "scatter": [
           {
            "fillpattern": {
             "fillmode": "overlay",
             "size": 10,
             "solidity": 0.2
            },
            "type": "scatter"
           }
          ],
          "scatter3d": [
           {
            "line": {
             "colorbar": {
              "outlinewidth": 0,
              "ticks": ""
             }
            },
            "marker": {
             "colorbar": {
              "outlinewidth": 0,
              "ticks": ""
             }
            },
            "type": "scatter3d"
           }
          ],
          "scattercarpet": [
           {
            "marker": {
             "colorbar": {
              "outlinewidth": 0,
              "ticks": ""
             }
            },
            "type": "scattercarpet"
           }
          ],
          "scattergeo": [
           {
            "marker": {
             "colorbar": {
              "outlinewidth": 0,
              "ticks": ""
             }
            },
            "type": "scattergeo"
           }
          ],
          "scattergl": [
           {
            "marker": {
             "colorbar": {
              "outlinewidth": 0,
              "ticks": ""
             }
            },
            "type": "scattergl"
           }
          ],
          "scattermapbox": [
           {
            "marker": {
             "colorbar": {
              "outlinewidth": 0,
              "ticks": ""
             }
            },
            "type": "scattermapbox"
           }
          ],
          "scatterpolar": [
           {
            "marker": {
             "colorbar": {
              "outlinewidth": 0,
              "ticks": ""
             }
            },
            "type": "scatterpolar"
           }
          ],
          "scatterpolargl": [
           {
            "marker": {
             "colorbar": {
              "outlinewidth": 0,
              "ticks": ""
             }
            },
            "type": "scatterpolargl"
           }
          ],
          "scatterternary": [
           {
            "marker": {
             "colorbar": {
              "outlinewidth": 0,
              "ticks": ""
             }
            },
            "type": "scatterternary"
           }
          ],
          "surface": [
           {
            "colorbar": {
             "outlinewidth": 0,
             "ticks": ""
            },
            "colorscale": [
             [
              0,
              "#0d0887"
             ],
             [
              0.1111111111111111,
              "#46039f"
             ],
             [
              0.2222222222222222,
              "#7201a8"
             ],
             [
              0.3333333333333333,
              "#9c179e"
             ],
             [
              0.4444444444444444,
              "#bd3786"
             ],
             [
              0.5555555555555556,
              "#d8576b"
             ],
             [
              0.6666666666666666,
              "#ed7953"
             ],
             [
              0.7777777777777778,
              "#fb9f3a"
             ],
             [
              0.8888888888888888,
              "#fdca26"
             ],
             [
              1,
              "#f0f921"
             ]
            ],
            "type": "surface"
           }
          ],
          "table": [
           {
            "cells": {
             "fill": {
              "color": "#EBF0F8"
             },
             "line": {
              "color": "white"
             }
            },
            "header": {
             "fill": {
              "color": "#C8D4E3"
             },
             "line": {
              "color": "white"
             }
            },
            "type": "table"
           }
          ]
         },
         "layout": {
          "annotationdefaults": {
           "arrowcolor": "#2a3f5f",
           "arrowhead": 0,
           "arrowwidth": 1
          },
          "autotypenumbers": "strict",
          "coloraxis": {
           "colorbar": {
            "outlinewidth": 0,
            "ticks": ""
           }
          },
          "colorscale": {
           "diverging": [
            [
             0,
             "#8e0152"
            ],
            [
             0.1,
             "#c51b7d"
            ],
            [
             0.2,
             "#de77ae"
            ],
            [
             0.3,
             "#f1b6da"
            ],
            [
             0.4,
             "#fde0ef"
            ],
            [
             0.5,
             "#f7f7f7"
            ],
            [
             0.6,
             "#e6f5d0"
            ],
            [
             0.7,
             "#b8e186"
            ],
            [
             0.8,
             "#7fbc41"
            ],
            [
             0.9,
             "#4d9221"
            ],
            [
             1,
             "#276419"
            ]
           ],
           "sequential": [
            [
             0,
             "#0d0887"
            ],
            [
             0.1111111111111111,
             "#46039f"
            ],
            [
             0.2222222222222222,
             "#7201a8"
            ],
            [
             0.3333333333333333,
             "#9c179e"
            ],
            [
             0.4444444444444444,
             "#bd3786"
            ],
            [
             0.5555555555555556,
             "#d8576b"
            ],
            [
             0.6666666666666666,
             "#ed7953"
            ],
            [
             0.7777777777777778,
             "#fb9f3a"
            ],
            [
             0.8888888888888888,
             "#fdca26"
            ],
            [
             1,
             "#f0f921"
            ]
           ],
           "sequentialminus": [
            [
             0,
             "#0d0887"
            ],
            [
             0.1111111111111111,
             "#46039f"
            ],
            [
             0.2222222222222222,
             "#7201a8"
            ],
            [
             0.3333333333333333,
             "#9c179e"
            ],
            [
             0.4444444444444444,
             "#bd3786"
            ],
            [
             0.5555555555555556,
             "#d8576b"
            ],
            [
             0.6666666666666666,
             "#ed7953"
            ],
            [
             0.7777777777777778,
             "#fb9f3a"
            ],
            [
             0.8888888888888888,
             "#fdca26"
            ],
            [
             1,
             "#f0f921"
            ]
           ]
          },
          "colorway": [
           "#636efa",
           "#EF553B",
           "#00cc96",
           "#ab63fa",
           "#FFA15A",
           "#19d3f3",
           "#FF6692",
           "#B6E880",
           "#FF97FF",
           "#FECB52"
          ],
          "font": {
           "color": "#2a3f5f"
          },
          "geo": {
           "bgcolor": "white",
           "lakecolor": "white",
           "landcolor": "#E5ECF6",
           "showlakes": true,
           "showland": true,
           "subunitcolor": "white"
          },
          "hoverlabel": {
           "align": "left"
          },
          "hovermode": "closest",
          "mapbox": {
           "style": "light"
          },
          "paper_bgcolor": "white",
          "plot_bgcolor": "#E5ECF6",
          "polar": {
           "angularaxis": {
            "gridcolor": "white",
            "linecolor": "white",
            "ticks": ""
           },
           "bgcolor": "#E5ECF6",
           "radialaxis": {
            "gridcolor": "white",
            "linecolor": "white",
            "ticks": ""
           }
          },
          "scene": {
           "xaxis": {
            "backgroundcolor": "#E5ECF6",
            "gridcolor": "white",
            "gridwidth": 2,
            "linecolor": "white",
            "showbackground": true,
            "ticks": "",
            "zerolinecolor": "white"
           },
           "yaxis": {
            "backgroundcolor": "#E5ECF6",
            "gridcolor": "white",
            "gridwidth": 2,
            "linecolor": "white",
            "showbackground": true,
            "ticks": "",
            "zerolinecolor": "white"
           },
           "zaxis": {
            "backgroundcolor": "#E5ECF6",
            "gridcolor": "white",
            "gridwidth": 2,
            "linecolor": "white",
            "showbackground": true,
            "ticks": "",
            "zerolinecolor": "white"
           }
          },
          "shapedefaults": {
           "line": {
            "color": "#2a3f5f"
           }
          },
          "ternary": {
           "aaxis": {
            "gridcolor": "white",
            "linecolor": "white",
            "ticks": ""
           },
           "baxis": {
            "gridcolor": "white",
            "linecolor": "white",
            "ticks": ""
           },
           "bgcolor": "#E5ECF6",
           "caxis": {
            "gridcolor": "white",
            "linecolor": "white",
            "ticks": ""
           }
          },
          "title": {
           "x": 0.05
          },
          "xaxis": {
           "automargin": true,
           "gridcolor": "white",
           "linecolor": "white",
           "ticks": "",
           "title": {
            "standoff": 15
           },
           "zerolinecolor": "white",
           "zerolinewidth": 2
          },
          "yaxis": {
           "automargin": true,
           "gridcolor": "white",
           "linecolor": "white",
           "ticks": "",
           "title": {
            "standoff": 15
           },
           "zerolinecolor": "white",
           "zerolinewidth": 2
          }
         }
        },
        "title": {
         "font": {
          "size": 20
         },
         "text": "Hourly Transaction count by Month ",
         "x": 0.5,
         "y": 0.95
        },
        "width": 980,
        "xaxis": {
         "anchor": "y",
         "domain": [
          0,
          0.1257142857142857
         ],
         "showgrid": false,
         "title": {
          "text": "Hour"
         }
        },
        "xaxis2": {
         "anchor": "y2",
         "domain": [
          0.14571428571428569,
          0.27142857142857135
         ],
         "matches": "x",
         "showgrid": false,
         "title": {
          "text": "Hour"
         }
        },
        "xaxis3": {
         "anchor": "y3",
         "domain": [
          0.29142857142857137,
          0.41714285714285704
         ],
         "matches": "x",
         "showgrid": false,
         "title": {
          "text": "Hour"
         }
        },
        "xaxis4": {
         "anchor": "y4",
         "domain": [
          0.4371428571428571,
          0.5628571428571428
         ],
         "matches": "x",
         "showgrid": false,
         "title": {
          "text": "Hour"
         }
        },
        "xaxis5": {
         "anchor": "y5",
         "domain": [
          0.5828571428571427,
          0.7085714285714284
         ],
         "matches": "x",
         "showgrid": false,
         "title": {
          "text": "Hour"
         }
        },
        "xaxis6": {
         "anchor": "y6",
         "domain": [
          0.7285714285714284,
          0.8542857142857141
         ],
         "matches": "x",
         "showgrid": false,
         "title": {
          "text": "Hour"
         }
        },
        "xaxis7": {
         "anchor": "y7",
         "domain": [
          0.8742857142857142,
          0.9999999999999999
         ],
         "matches": "x",
         "showgrid": false,
         "title": {
          "text": "Hour"
         }
        },
        "yaxis": {
         "anchor": "x",
         "domain": [
          0,
          1
         ],
         "showgrid": false,
         "title": {
          "text": "Transaction Count"
         }
        },
        "yaxis2": {
         "anchor": "x2",
         "domain": [
          0,
          1
         ],
         "matches": "y",
         "showgrid": false,
         "showticklabels": false
        },
        "yaxis3": {
         "anchor": "x3",
         "domain": [
          0,
          1
         ],
         "matches": "y",
         "showgrid": false,
         "showticklabels": false
        },
        "yaxis4": {
         "anchor": "x4",
         "domain": [
          0,
          1
         ],
         "matches": "y",
         "showgrid": false,
         "showticklabels": false
        },
        "yaxis5": {
         "anchor": "x5",
         "domain": [
          0,
          1
         ],
         "matches": "y",
         "showgrid": false,
         "showticklabels": false
        },
        "yaxis6": {
         "anchor": "x6",
         "domain": [
          0,
          1
         ],
         "matches": "y",
         "showgrid": false,
         "showticklabels": false
        },
        "yaxis7": {
         "anchor": "x7",
         "domain": [
          0,
          1
         ],
         "matches": "y",
         "showgrid": false,
         "showticklabels": false
        }
       }
      }
     },
     "metadata": {},
     "output_type": "display_data"
    },
    {
     "data": {
      "application/vnd.plotly.v1+json": {
       "config": {
        "plotlyServerURL": "https://plot.ly"
       },
       "data": [
        {
         "hovertemplate": "gender=F<br>day=0<br>hour=%{x}<br>Total Txn Amount=%{y}<extra></extra>",
         "legendgroup": "F",
         "line": {
          "color": "#636efa",
          "dash": "solid"
         },
         "marker": {
          "symbol": "circle"
         },
         "mode": "lines",
         "name": "F",
         "orientation": "v",
         "showlegend": true,
         "type": "scatter",
         "x": [
          0,
          1,
          2,
          3,
          4,
          6,
          7,
          8,
          9,
          10,
          11,
          12,
          13,
          14,
          15,
          16,
          17,
          18,
          19,
          20,
          21,
          22,
          23
         ],
         "xaxis": "x",
         "y": [
          149.13,
          100.99,
          131.36,
          933.9300000000001,
          1741,
          927.87,
          252.3,
          1369.59,
          2593.92,
          1881.72,
          77092.34,
          14020.02,
          27360.96,
          25224.68,
          12704.54,
          465.35,
          29877.57,
          535.9,
          415.33,
          2562.36,
          1302.98,
          306.63,
          649.92
         ],
         "yaxis": "y"
        },
        {
         "hovertemplate": "gender=F<br>day=1<br>hour=%{x}<br>Total Txn Amount=%{y}<extra></extra>",
         "legendgroup": "F",
         "line": {
          "color": "#636efa",
          "dash": "solid"
         },
         "marker": {
          "symbol": "circle"
         },
         "mode": "lines",
         "name": "F",
         "orientation": "v",
         "showlegend": false,
         "type": "scatter",
         "x": [
          0,
          1,
          2,
          3,
          4,
          5,
          6,
          7,
          8,
          9,
          10,
          11,
          12,
          13,
          14,
          15,
          16,
          17,
          18,
          19,
          20,
          21,
          22,
          23
         ],
         "xaxis": "x2",
         "y": [
          99.81,
          255.67999999999998,
          313.74,
          800,
          2505.5,
          457.08,
          567.03,
          1275.08,
          1429.3,
          3928.89,
          2797.85,
          1823.76,
          32856.38,
          542.77,
          24842.16,
          3406.52,
          13278.52,
          57816.33,
          1400.98,
          1304.68,
          563.8100000000001,
          2542.7599999999998,
          765.17,
          1132.8700000000001
         ],
         "yaxis": "y2"
        },
        {
         "hovertemplate": "gender=F<br>day=2<br>hour=%{x}<br>Total Txn Amount=%{y}<extra></extra>",
         "legendgroup": "F",
         "line": {
          "color": "#636efa",
          "dash": "solid"
         },
         "marker": {
          "symbol": "circle"
         },
         "mode": "lines",
         "name": "F",
         "orientation": "v",
         "showlegend": false,
         "type": "scatter",
         "x": [
          0,
          1,
          2,
          3,
          4,
          5,
          6,
          7,
          8,
          9,
          10,
          11,
          12,
          13,
          14,
          15,
          16,
          17,
          18,
          19,
          20,
          21,
          22,
          23
         ],
         "xaxis": "x3",
         "y": [
          147.39,
          644.2,
          525.71,
          444.1,
          462.53999999999996,
          345.2,
          1078.87,
          607.35,
          4794.2,
          3524.42,
          3862.22,
          2811.3,
          45710.24,
          37329.88,
          19186.76,
          9662.48,
          28448.75,
          39239.89,
          1478.43,
          3121.1,
          1551.78,
          1518.34,
          688.94,
          685.9399999999999
         ],
         "yaxis": "y3"
        },
        {
         "hovertemplate": "gender=F<br>day=3<br>hour=%{x}<br>Total Txn Amount=%{y}<extra></extra>",
         "legendgroup": "F",
         "line": {
          "color": "#636efa",
          "dash": "solid"
         },
         "marker": {
          "symbol": "circle"
         },
         "mode": "lines",
         "name": "F",
         "orientation": "v",
         "showlegend": false,
         "type": "scatter",
         "x": [
          0,
          1,
          2,
          3,
          4,
          5,
          6,
          7,
          8,
          9,
          10,
          11,
          12,
          13,
          14,
          15,
          16,
          17,
          18,
          19,
          20,
          21,
          22,
          23
         ],
         "xaxis": "x4",
         "y": [
          318.90000000000003,
          446.36,
          65.77,
          473.07,
          2787.5,
          38.31,
          1424.07,
          2061.0299999999997,
          2237.82,
          4501.52,
          1093.53,
          47136.33,
          1290.49,
          504.57,
          831.81,
          2778.55,
          10697.49,
          25512.02,
          2334.02,
          1828.97,
          138.26999999999998,
          671.47,
          3336.08,
          1201.02
         ],
         "yaxis": "y4"
        },
        {
         "hovertemplate": "gender=F<br>day=4<br>hour=%{x}<br>Total Txn Amount=%{y}<extra></extra>",
         "legendgroup": "F",
         "line": {
          "color": "#636efa",
          "dash": "solid"
         },
         "marker": {
          "symbol": "circle"
         },
         "mode": "lines",
         "name": "F",
         "orientation": "v",
         "showlegend": false,
         "type": "scatter",
         "x": [
          0,
          1,
          2,
          3,
          4,
          5,
          6,
          7,
          8,
          9,
          10,
          11,
          12,
          13,
          14,
          15,
          16,
          17,
          18,
          19,
          20,
          21,
          22,
          23
         ],
         "xaxis": "x5",
         "y": [
          268.61,
          257.69,
          2197.01,
          589.78,
          2881.8399999999997,
          503.4,
          970.78,
          539.89,
          1419.52,
          2021.63,
          677.67,
          3088.01,
          15978.05,
          71155.79,
          28444.260000000002,
          32787.12,
          17252.43,
          16792.14,
          2375.32,
          4491,
          2412.0699999999997,
          3596.6,
          1086.02,
          1592.23
         ],
         "yaxis": "y5"
        },
        {
         "hovertemplate": "gender=F<br>day=5<br>hour=%{x}<br>Total Txn Amount=%{y}<extra></extra>",
         "legendgroup": "F",
         "line": {
          "color": "#636efa",
          "dash": "solid"
         },
         "marker": {
          "symbol": "circle"
         },
         "mode": "lines",
         "name": "F",
         "orientation": "v",
         "showlegend": false,
         "type": "scatter",
         "x": [
          0,
          1,
          2,
          3,
          4,
          5,
          6,
          7,
          8,
          9,
          10,
          11,
          12,
          13,
          14,
          15,
          16,
          17,
          18,
          19,
          20,
          21,
          22,
          23
         ],
         "xaxis": "x6",
         "y": [
          303.74,
          239.19,
          542.65,
          673.86,
          899.23,
          1195.21,
          353.86,
          782.29,
          928.46,
          1964.6,
          1940.21,
          3763.62,
          1925.81,
          507.9,
          1435.59,
          1993.78,
          1832.65,
          2344.2400000000002,
          1579.39,
          874.66,
          2460.74,
          3522.44,
          2739.27,
          1321.6
         ],
         "yaxis": "y6"
        },
        {
         "hovertemplate": "gender=F<br>day=6<br>hour=%{x}<br>Total Txn Amount=%{y}<extra></extra>",
         "legendgroup": "F",
         "line": {
          "color": "#636efa",
          "dash": "solid"
         },
         "marker": {
          "symbol": "circle"
         },
         "mode": "lines",
         "name": "F",
         "orientation": "v",
         "showlegend": false,
         "type": "scatter",
         "x": [
          0,
          1,
          2,
          3,
          4,
          5,
          6,
          7,
          8,
          9,
          10,
          11,
          12,
          13,
          14,
          15,
          16,
          17,
          18,
          19,
          20,
          21,
          22,
          23
         ],
         "xaxis": "x7",
         "y": [
          343.39,
          1996.47,
          66.03,
          889.16,
          827.99,
          1377.89,
          614.94,
          703.54,
          1038.81,
          2447.28,
          3099.54,
          2910.21,
          1179.5,
          632.29,
          8602.710000000001,
          1167,
          1142.1399999999999,
          1500.21,
          698.3000000000001,
          1533.68,
          1500.36,
          2493.2,
          1940.89,
          1227.19
         ],
         "yaxis": "y7"
        },
        {
         "hovertemplate": "gender=M<br>day=0<br>hour=%{x}<br>Total Txn Amount=%{y}<extra></extra>",
         "legendgroup": "M",
         "line": {
          "color": "#EF553B",
          "dash": "solid"
         },
         "marker": {
          "symbol": "circle"
         },
         "mode": "lines",
         "name": "M",
         "orientation": "v",
         "showlegend": true,
         "type": "scatter",
         "x": [
          0,
          1,
          2,
          3,
          4,
          5,
          6,
          7,
          8,
          9,
          10,
          11,
          12,
          13,
          14,
          15,
          16,
          17,
          18,
          19,
          20,
          21,
          22,
          23
         ],
         "xaxis": "x",
         "y": [
          61.4,
          237.07,
          1756.69,
          619,
          479,
          589,
          1189.47,
          545.76,
          860.5,
          2674.46,
          2019.24,
          59297.68,
          12491.96,
          114093.55,
          32128.08,
          731.34,
          2784.92,
          63189.35,
          846.57,
          2236.58,
          1800.79,
          1807.3,
          1231.14,
          1309.32
         ],
         "yaxis": "y"
        },
        {
         "hovertemplate": "gender=M<br>day=1<br>hour=%{x}<br>Total Txn Amount=%{y}<extra></extra>",
         "legendgroup": "M",
         "line": {
          "color": "#EF553B",
          "dash": "solid"
         },
         "marker": {
          "symbol": "circle"
         },
         "mode": "lines",
         "name": "M",
         "orientation": "v",
         "showlegend": false,
         "type": "scatter",
         "x": [
          0,
          1,
          2,
          3,
          4,
          5,
          6,
          7,
          8,
          9,
          10,
          11,
          12,
          13,
          14,
          15,
          16,
          17,
          18,
          19,
          20,
          21,
          22,
          23
         ],
         "xaxis": "x2",
         "y": [
          123.07,
          410.1,
          1403.06,
          816.14,
          817.64,
          1590.2,
          435.44,
          1777.83,
          1538.4,
          3846.92,
          2130.17,
          32481.559999999998,
          17944.510000000002,
          24328.26,
          1403.83,
          12159.22,
          14053.16,
          45566.72,
          604.84,
          1378.7,
          4399.360000000001,
          1164.71,
          1144.98,
          1258.7
         ],
         "yaxis": "y2"
        },
        {
         "hovertemplate": "gender=M<br>day=2<br>hour=%{x}<br>Total Txn Amount=%{y}<extra></extra>",
         "legendgroup": "M",
         "line": {
          "color": "#EF553B",
          "dash": "solid"
         },
         "marker": {
          "symbol": "circle"
         },
         "mode": "lines",
         "name": "M",
         "orientation": "v",
         "showlegend": false,
         "type": "scatter",
         "x": [
          0,
          1,
          2,
          3,
          4,
          5,
          6,
          7,
          8,
          9,
          10,
          11,
          12,
          13,
          14,
          15,
          16,
          17,
          18,
          19,
          20,
          21,
          22,
          23
         ],
         "xaxis": "x3",
         "y": [
          121.28999999999999,
          912.73,
          808.79,
          2693,
          899,
          196,
          2355.54,
          1874.84,
          2052.32,
          5677.370000000001,
          4845.69,
          30761.19,
          15142.57,
          11390.81,
          2362.54,
          10152.789999999999,
          35939.950000000004,
          56627.82,
          1263.8,
          2178.29,
          1142.43,
          2780.58,
          535.26,
          2145.09
         ],
         "yaxis": "y3"
        },
        {
         "hovertemplate": "gender=M<br>day=3<br>hour=%{x}<br>Total Txn Amount=%{y}<extra></extra>",
         "legendgroup": "M",
         "line": {
          "color": "#EF553B",
          "dash": "solid"
         },
         "marker": {
          "symbol": "circle"
         },
         "mode": "lines",
         "name": "M",
         "orientation": "v",
         "showlegend": false,
         "type": "scatter",
         "x": [
          0,
          1,
          2,
          3,
          4,
          5,
          6,
          7,
          8,
          9,
          10,
          11,
          12,
          13,
          14,
          15,
          16,
          17,
          18,
          19,
          20,
          21,
          22,
          23
         ],
         "xaxis": "x4",
         "y": [
          527.36,
          387.34000000000003,
          3413.52,
          1479,
          2000.95,
          1144,
          417.38,
          1924.72,
          1297.3899999999999,
          3919.08,
          834.22,
          2699.04,
          28668.8,
          33616.54,
          38944.520000000004,
          24165.66,
          11936.16,
          41519.82,
          1867.63,
          6594.92,
          1899.06,
          1727.25,
          3339.29,
          3370.15
         ],
         "yaxis": "y4"
        },
        {
         "hovertemplate": "gender=M<br>day=4<br>hour=%{x}<br>Total Txn Amount=%{y}<extra></extra>",
         "legendgroup": "M",
         "line": {
          "color": "#EF553B",
          "dash": "solid"
         },
         "marker": {
          "symbol": "circle"
         },
         "mode": "lines",
         "name": "M",
         "orientation": "v",
         "showlegend": false,
         "type": "scatter",
         "x": [
          0,
          1,
          2,
          3,
          4,
          5,
          6,
          7,
          8,
          9,
          10,
          11,
          12,
          13,
          14,
          15,
          16,
          17,
          18,
          19,
          20,
          21,
          22,
          23
         ],
         "xaxis": "x5",
         "y": [
          265.03,
          482.44,
          1247.69,
          1499.59,
          1148.9,
          1221.48,
          1922.53,
          5275.83,
          2315.32,
          3243.23,
          1241.96,
          26843.78,
          12736.210000000001,
          46739.6,
          2636.61,
          54574.19,
          34128.74,
          94487.17,
          1517.59,
          1703.02,
          1497.07,
          3961.77,
          1462.24,
          1378.99
         ],
         "yaxis": "y5"
        },
        {
         "hovertemplate": "gender=M<br>day=5<br>hour=%{x}<br>Total Txn Amount=%{y}<extra></extra>",
         "legendgroup": "M",
         "line": {
          "color": "#EF553B",
          "dash": "solid"
         },
         "marker": {
          "symbol": "circle"
         },
         "mode": "lines",
         "name": "M",
         "orientation": "v",
         "showlegend": false,
         "type": "scatter",
         "x": [
          0,
          1,
          2,
          3,
          4,
          5,
          6,
          7,
          8,
          9,
          10,
          11,
          12,
          13,
          14,
          15,
          16,
          17,
          18,
          19,
          20,
          21,
          22,
          23
         ],
         "xaxis": "x6",
         "y": [
          222.45,
          3086.2799999999997,
          1951.92,
          1897.19,
          1086.23,
          1540.22,
          879.22,
          352.48,
          1045.14,
          3251.98,
          2946.94,
          3734.2400000000002,
          1923.18,
          1828.53,
          8043.139999999999,
          2707.46,
          1212.28,
          3360.34,
          1556.31,
          1318.82,
          2975.48,
          2720.88,
          3484.4,
          3752.46
         ],
         "yaxis": "y6"
        },
        {
         "hovertemplate": "gender=M<br>day=6<br>hour=%{x}<br>Total Txn Amount=%{y}<extra></extra>",
         "legendgroup": "M",
         "line": {
          "color": "#EF553B",
          "dash": "solid"
         },
         "marker": {
          "symbol": "circle"
         },
         "mode": "lines",
         "name": "M",
         "orientation": "v",
         "showlegend": false,
         "type": "scatter",
         "x": [
          0,
          1,
          2,
          3,
          4,
          5,
          6,
          7,
          8,
          9,
          10,
          11,
          12,
          13,
          14,
          15,
          16,
          17,
          18,
          19,
          20,
          21,
          22,
          23
         ],
         "xaxis": "x7",
         "y": [
          102.12,
          968.77,
          1533.25,
          2798.46,
          404.95,
          3287.66,
          1605.1100000000001,
          1425.71,
          1604.02,
          3189.75,
          3107.27,
          2664.14,
          1232.52,
          1171.74,
          1787.23,
          1258.63,
          909.99,
          1123.87,
          2457.62,
          902.1,
          3091.73,
          3172.73,
          1889.63,
          552.84
         ],
         "yaxis": "y7"
        }
       ],
       "layout": {
        "annotations": [
         {
          "font": {},
          "showarrow": false,
          "text": "day=0",
          "x": 0.06285714285714285,
          "xanchor": "center",
          "xref": "paper",
          "y": 1,
          "yanchor": "bottom",
          "yref": "paper"
         },
         {
          "font": {},
          "showarrow": false,
          "text": "day=1",
          "x": 0.20857142857142852,
          "xanchor": "center",
          "xref": "paper",
          "y": 1,
          "yanchor": "bottom",
          "yref": "paper"
         },
         {
          "font": {},
          "showarrow": false,
          "text": "day=2",
          "x": 0.3542857142857142,
          "xanchor": "center",
          "xref": "paper",
          "y": 1,
          "yanchor": "bottom",
          "yref": "paper"
         },
         {
          "font": {},
          "showarrow": false,
          "text": "day=3",
          "x": 0.5,
          "xanchor": "center",
          "xref": "paper",
          "y": 1,
          "yanchor": "bottom",
          "yref": "paper"
         },
         {
          "font": {},
          "showarrow": false,
          "text": "day=4",
          "x": 0.6457142857142856,
          "xanchor": "center",
          "xref": "paper",
          "y": 1,
          "yanchor": "bottom",
          "yref": "paper"
         },
         {
          "font": {},
          "showarrow": false,
          "text": "day=5",
          "x": 0.7914285714285713,
          "xanchor": "center",
          "xref": "paper",
          "y": 1,
          "yanchor": "bottom",
          "yref": "paper"
         },
         {
          "font": {},
          "showarrow": false,
          "text": "day=6",
          "x": 0.937142857142857,
          "xanchor": "center",
          "xref": "paper",
          "y": 1,
          "yanchor": "bottom",
          "yref": "paper"
         }
        ],
        "height": 500,
        "legend": {
         "title": {
          "text": "gender"
         },
         "tracegroupgap": 0
        },
        "margin": {
         "b": 80,
         "l": 80,
         "r": 80,
         "t": 100
        },
        "template": {
         "data": {
          "bar": [
           {
            "error_x": {
             "color": "#2a3f5f"
            },
            "error_y": {
             "color": "#2a3f5f"
            },
            "marker": {
             "line": {
              "color": "#E5ECF6",
              "width": 0.5
             },
             "pattern": {
              "fillmode": "overlay",
              "size": 10,
              "solidity": 0.2
             }
            },
            "type": "bar"
           }
          ],
          "barpolar": [
           {
            "marker": {
             "line": {
              "color": "#E5ECF6",
              "width": 0.5
             },
             "pattern": {
              "fillmode": "overlay",
              "size": 10,
              "solidity": 0.2
             }
            },
            "type": "barpolar"
           }
          ],
          "carpet": [
           {
            "aaxis": {
             "endlinecolor": "#2a3f5f",
             "gridcolor": "white",
             "linecolor": "white",
             "minorgridcolor": "white",
             "startlinecolor": "#2a3f5f"
            },
            "baxis": {
             "endlinecolor": "#2a3f5f",
             "gridcolor": "white",
             "linecolor": "white",
             "minorgridcolor": "white",
             "startlinecolor": "#2a3f5f"
            },
            "type": "carpet"
           }
          ],
          "choropleth": [
           {
            "colorbar": {
             "outlinewidth": 0,
             "ticks": ""
            },
            "type": "choropleth"
           }
          ],
          "contour": [
           {
            "colorbar": {
             "outlinewidth": 0,
             "ticks": ""
            },
            "colorscale": [
             [
              0,
              "#0d0887"
             ],
             [
              0.1111111111111111,
              "#46039f"
             ],
             [
              0.2222222222222222,
              "#7201a8"
             ],
             [
              0.3333333333333333,
              "#9c179e"
             ],
             [
              0.4444444444444444,
              "#bd3786"
             ],
             [
              0.5555555555555556,
              "#d8576b"
             ],
             [
              0.6666666666666666,
              "#ed7953"
             ],
             [
              0.7777777777777778,
              "#fb9f3a"
             ],
             [
              0.8888888888888888,
              "#fdca26"
             ],
             [
              1,
              "#f0f921"
             ]
            ],
            "type": "contour"
           }
          ],
          "contourcarpet": [
           {
            "colorbar": {
             "outlinewidth": 0,
             "ticks": ""
            },
            "type": "contourcarpet"
           }
          ],
          "heatmap": [
           {
            "colorbar": {
             "outlinewidth": 0,
             "ticks": ""
            },
            "colorscale": [
             [
              0,
              "#0d0887"
             ],
             [
              0.1111111111111111,
              "#46039f"
             ],
             [
              0.2222222222222222,
              "#7201a8"
             ],
             [
              0.3333333333333333,
              "#9c179e"
             ],
             [
              0.4444444444444444,
              "#bd3786"
             ],
             [
              0.5555555555555556,
              "#d8576b"
             ],
             [
              0.6666666666666666,
              "#ed7953"
             ],
             [
              0.7777777777777778,
              "#fb9f3a"
             ],
             [
              0.8888888888888888,
              "#fdca26"
             ],
             [
              1,
              "#f0f921"
             ]
            ],
            "type": "heatmap"
           }
          ],
          "heatmapgl": [
           {
            "colorbar": {
             "outlinewidth": 0,
             "ticks": ""
            },
            "colorscale": [
             [
              0,
              "#0d0887"
             ],
             [
              0.1111111111111111,
              "#46039f"
             ],
             [
              0.2222222222222222,
              "#7201a8"
             ],
             [
              0.3333333333333333,
              "#9c179e"
             ],
             [
              0.4444444444444444,
              "#bd3786"
             ],
             [
              0.5555555555555556,
              "#d8576b"
             ],
             [
              0.6666666666666666,
              "#ed7953"
             ],
             [
              0.7777777777777778,
              "#fb9f3a"
             ],
             [
              0.8888888888888888,
              "#fdca26"
             ],
             [
              1,
              "#f0f921"
             ]
            ],
            "type": "heatmapgl"
           }
          ],
          "histogram": [
           {
            "marker": {
             "pattern": {
              "fillmode": "overlay",
              "size": 10,
              "solidity": 0.2
             }
            },
            "type": "histogram"
           }
          ],
          "histogram2d": [
           {
            "colorbar": {
             "outlinewidth": 0,
             "ticks": ""
            },
            "colorscale": [
             [
              0,
              "#0d0887"
             ],
             [
              0.1111111111111111,
              "#46039f"
             ],
             [
              0.2222222222222222,
              "#7201a8"
             ],
             [
              0.3333333333333333,
              "#9c179e"
             ],
             [
              0.4444444444444444,
              "#bd3786"
             ],
             [
              0.5555555555555556,
              "#d8576b"
             ],
             [
              0.6666666666666666,
              "#ed7953"
             ],
             [
              0.7777777777777778,
              "#fb9f3a"
             ],
             [
              0.8888888888888888,
              "#fdca26"
             ],
             [
              1,
              "#f0f921"
             ]
            ],
            "type": "histogram2d"
           }
          ],
          "histogram2dcontour": [
           {
            "colorbar": {
             "outlinewidth": 0,
             "ticks": ""
            },
            "colorscale": [
             [
              0,
              "#0d0887"
             ],
             [
              0.1111111111111111,
              "#46039f"
             ],
             [
              0.2222222222222222,
              "#7201a8"
             ],
             [
              0.3333333333333333,
              "#9c179e"
             ],
             [
              0.4444444444444444,
              "#bd3786"
             ],
             [
              0.5555555555555556,
              "#d8576b"
             ],
             [
              0.6666666666666666,
              "#ed7953"
             ],
             [
              0.7777777777777778,
              "#fb9f3a"
             ],
             [
              0.8888888888888888,
              "#fdca26"
             ],
             [
              1,
              "#f0f921"
             ]
            ],
            "type": "histogram2dcontour"
           }
          ],
          "mesh3d": [
           {
            "colorbar": {
             "outlinewidth": 0,
             "ticks": ""
            },
            "type": "mesh3d"
           }
          ],
          "parcoords": [
           {
            "line": {
             "colorbar": {
              "outlinewidth": 0,
              "ticks": ""
             }
            },
            "type": "parcoords"
           }
          ],
          "pie": [
           {
            "automargin": true,
            "type": "pie"
           }
          ],
          "scatter": [
           {
            "fillpattern": {
             "fillmode": "overlay",
             "size": 10,
             "solidity": 0.2
            },
            "type": "scatter"
           }
          ],
          "scatter3d": [
           {
            "line": {
             "colorbar": {
              "outlinewidth": 0,
              "ticks": ""
             }
            },
            "marker": {
             "colorbar": {
              "outlinewidth": 0,
              "ticks": ""
             }
            },
            "type": "scatter3d"
           }
          ],
          "scattercarpet": [
           {
            "marker": {
             "colorbar": {
              "outlinewidth": 0,
              "ticks": ""
             }
            },
            "type": "scattercarpet"
           }
          ],
          "scattergeo": [
           {
            "marker": {
             "colorbar": {
              "outlinewidth": 0,
              "ticks": ""
             }
            },
            "type": "scattergeo"
           }
          ],
          "scattergl": [
           {
            "marker": {
             "colorbar": {
              "outlinewidth": 0,
              "ticks": ""
             }
            },
            "type": "scattergl"
           }
          ],
          "scattermapbox": [
           {
            "marker": {
             "colorbar": {
              "outlinewidth": 0,
              "ticks": ""
             }
            },
            "type": "scattermapbox"
           }
          ],
          "scatterpolar": [
           {
            "marker": {
             "colorbar": {
              "outlinewidth": 0,
              "ticks": ""
             }
            },
            "type": "scatterpolar"
           }
          ],
          "scatterpolargl": [
           {
            "marker": {
             "colorbar": {
              "outlinewidth": 0,
              "ticks": ""
             }
            },
            "type": "scatterpolargl"
           }
          ],
          "scatterternary": [
           {
            "marker": {
             "colorbar": {
              "outlinewidth": 0,
              "ticks": ""
             }
            },
            "type": "scatterternary"
           }
          ],
          "surface": [
           {
            "colorbar": {
             "outlinewidth": 0,
             "ticks": ""
            },
            "colorscale": [
             [
              0,
              "#0d0887"
             ],
             [
              0.1111111111111111,
              "#46039f"
             ],
             [
              0.2222222222222222,
              "#7201a8"
             ],
             [
              0.3333333333333333,
              "#9c179e"
             ],
             [
              0.4444444444444444,
              "#bd3786"
             ],
             [
              0.5555555555555556,
              "#d8576b"
             ],
             [
              0.6666666666666666,
              "#ed7953"
             ],
             [
              0.7777777777777778,
              "#fb9f3a"
             ],
             [
              0.8888888888888888,
              "#fdca26"
             ],
             [
              1,
              "#f0f921"
             ]
            ],
            "type": "surface"
           }
          ],
          "table": [
           {
            "cells": {
             "fill": {
              "color": "#EBF0F8"
             },
             "line": {
              "color": "white"
             }
            },
            "header": {
             "fill": {
              "color": "#C8D4E3"
             },
             "line": {
              "color": "white"
             }
            },
            "type": "table"
           }
          ]
         },
         "layout": {
          "annotationdefaults": {
           "arrowcolor": "#2a3f5f",
           "arrowhead": 0,
           "arrowwidth": 1
          },
          "autotypenumbers": "strict",
          "coloraxis": {
           "colorbar": {
            "outlinewidth": 0,
            "ticks": ""
           }
          },
          "colorscale": {
           "diverging": [
            [
             0,
             "#8e0152"
            ],
            [
             0.1,
             "#c51b7d"
            ],
            [
             0.2,
             "#de77ae"
            ],
            [
             0.3,
             "#f1b6da"
            ],
            [
             0.4,
             "#fde0ef"
            ],
            [
             0.5,
             "#f7f7f7"
            ],
            [
             0.6,
             "#e6f5d0"
            ],
            [
             0.7,
             "#b8e186"
            ],
            [
             0.8,
             "#7fbc41"
            ],
            [
             0.9,
             "#4d9221"
            ],
            [
             1,
             "#276419"
            ]
           ],
           "sequential": [
            [
             0,
             "#0d0887"
            ],
            [
             0.1111111111111111,
             "#46039f"
            ],
            [
             0.2222222222222222,
             "#7201a8"
            ],
            [
             0.3333333333333333,
             "#9c179e"
            ],
            [
             0.4444444444444444,
             "#bd3786"
            ],
            [
             0.5555555555555556,
             "#d8576b"
            ],
            [
             0.6666666666666666,
             "#ed7953"
            ],
            [
             0.7777777777777778,
             "#fb9f3a"
            ],
            [
             0.8888888888888888,
             "#fdca26"
            ],
            [
             1,
             "#f0f921"
            ]
           ],
           "sequentialminus": [
            [
             0,
             "#0d0887"
            ],
            [
             0.1111111111111111,
             "#46039f"
            ],
            [
             0.2222222222222222,
             "#7201a8"
            ],
            [
             0.3333333333333333,
             "#9c179e"
            ],
            [
             0.4444444444444444,
             "#bd3786"
            ],
            [
             0.5555555555555556,
             "#d8576b"
            ],
            [
             0.6666666666666666,
             "#ed7953"
            ],
            [
             0.7777777777777778,
             "#fb9f3a"
            ],
            [
             0.8888888888888888,
             "#fdca26"
            ],
            [
             1,
             "#f0f921"
            ]
           ]
          },
          "colorway": [
           "#636efa",
           "#EF553B",
           "#00cc96",
           "#ab63fa",
           "#FFA15A",
           "#19d3f3",
           "#FF6692",
           "#B6E880",
           "#FF97FF",
           "#FECB52"
          ],
          "font": {
           "color": "#2a3f5f"
          },
          "geo": {
           "bgcolor": "white",
           "lakecolor": "white",
           "landcolor": "#E5ECF6",
           "showlakes": true,
           "showland": true,
           "subunitcolor": "white"
          },
          "hoverlabel": {
           "align": "left"
          },
          "hovermode": "closest",
          "mapbox": {
           "style": "light"
          },
          "paper_bgcolor": "white",
          "plot_bgcolor": "#E5ECF6",
          "polar": {
           "angularaxis": {
            "gridcolor": "white",
            "linecolor": "white",
            "ticks": ""
           },
           "bgcolor": "#E5ECF6",
           "radialaxis": {
            "gridcolor": "white",
            "linecolor": "white",
            "ticks": ""
           }
          },
          "scene": {
           "xaxis": {
            "backgroundcolor": "#E5ECF6",
            "gridcolor": "white",
            "gridwidth": 2,
            "linecolor": "white",
            "showbackground": true,
            "ticks": "",
            "zerolinecolor": "white"
           },
           "yaxis": {
            "backgroundcolor": "#E5ECF6",
            "gridcolor": "white",
            "gridwidth": 2,
            "linecolor": "white",
            "showbackground": true,
            "ticks": "",
            "zerolinecolor": "white"
           },
           "zaxis": {
            "backgroundcolor": "#E5ECF6",
            "gridcolor": "white",
            "gridwidth": 2,
            "linecolor": "white",
            "showbackground": true,
            "ticks": "",
            "zerolinecolor": "white"
           }
          },
          "shapedefaults": {
           "line": {
            "color": "#2a3f5f"
           }
          },
          "ternary": {
           "aaxis": {
            "gridcolor": "white",
            "linecolor": "white",
            "ticks": ""
           },
           "baxis": {
            "gridcolor": "white",
            "linecolor": "white",
            "ticks": ""
           },
           "bgcolor": "#E5ECF6",
           "caxis": {
            "gridcolor": "white",
            "linecolor": "white",
            "ticks": ""
           }
          },
          "title": {
           "x": 0.05
          },
          "xaxis": {
           "automargin": true,
           "gridcolor": "white",
           "linecolor": "white",
           "ticks": "",
           "title": {
            "standoff": 15
           },
           "zerolinecolor": "white",
           "zerolinewidth": 2
          },
          "yaxis": {
           "automargin": true,
           "gridcolor": "white",
           "linecolor": "white",
           "ticks": "",
           "title": {
            "standoff": 15
           },
           "zerolinecolor": "white",
           "zerolinewidth": 2
          }
         }
        },
        "title": {
         "font": {
          "size": 20
         },
         "text": "Hourly Transaction count by Month ",
         "x": 0.5,
         "y": 0.95
        },
        "width": 980,
        "xaxis": {
         "anchor": "y",
         "domain": [
          0,
          0.1257142857142857
         ],
         "showgrid": false,
         "title": {
          "text": "Hour"
         }
        },
        "xaxis2": {
         "anchor": "y2",
         "domain": [
          0.14571428571428569,
          0.27142857142857135
         ],
         "matches": "x",
         "showgrid": false,
         "title": {
          "text": "Hour"
         }
        },
        "xaxis3": {
         "anchor": "y3",
         "domain": [
          0.29142857142857137,
          0.41714285714285704
         ],
         "matches": "x",
         "showgrid": false,
         "title": {
          "text": "Hour"
         }
        },
        "xaxis4": {
         "anchor": "y4",
         "domain": [
          0.4371428571428571,
          0.5628571428571428
         ],
         "matches": "x",
         "showgrid": false,
         "title": {
          "text": "Hour"
         }
        },
        "xaxis5": {
         "anchor": "y5",
         "domain": [
          0.5828571428571427,
          0.7085714285714284
         ],
         "matches": "x",
         "showgrid": false,
         "title": {
          "text": "Hour"
         }
        },
        "xaxis6": {
         "anchor": "y6",
         "domain": [
          0.7285714285714284,
          0.8542857142857141
         ],
         "matches": "x",
         "showgrid": false,
         "title": {
          "text": "Hour"
         }
        },
        "xaxis7": {
         "anchor": "y7",
         "domain": [
          0.8742857142857142,
          0.9999999999999999
         ],
         "matches": "x",
         "showgrid": false,
         "title": {
          "text": "Hour"
         }
        },
        "yaxis": {
         "anchor": "x",
         "domain": [
          0,
          1
         ],
         "showgrid": false,
         "title": {
          "text": "Total Txn Amount"
         }
        },
        "yaxis2": {
         "anchor": "x2",
         "domain": [
          0,
          1
         ],
         "matches": "y",
         "showgrid": false,
         "showticklabels": false
        },
        "yaxis3": {
         "anchor": "x3",
         "domain": [
          0,
          1
         ],
         "matches": "y",
         "showgrid": false,
         "showticklabels": false
        },
        "yaxis4": {
         "anchor": "x4",
         "domain": [
          0,
          1
         ],
         "matches": "y",
         "showgrid": false,
         "showticklabels": false
        },
        "yaxis5": {
         "anchor": "x5",
         "domain": [
          0,
          1
         ],
         "matches": "y",
         "showgrid": false,
         "showticklabels": false
        },
        "yaxis6": {
         "anchor": "x6",
         "domain": [
          0,
          1
         ],
         "matches": "y",
         "showgrid": false,
         "showticklabels": false
        },
        "yaxis7": {
         "anchor": "x7",
         "domain": [
          0,
          1
         ],
         "matches": "y",
         "showgrid": false,
         "showticklabels": false
        }
       }
      }
     },
     "metadata": {},
     "output_type": "display_data"
    }
   ],
   "source": [
    "fig1=px.line(data_frame=df4_grp, \n",
    " x=df4_grp.hour, \n",
    " y=df4_grp['Transaction Count'], \n",
    " color=df4_grp.gender, \n",
    " facet_col= df4_grp.day \n",
    " ) \n",
    "\n",
    "fig1.update_xaxes(title='Hour',showgrid=False) \n",
    "fig1.update_yaxes(showgrid=False) \n",
    "\n",
    "fig1.update_layout(\n",
    "title=dict(text = \"Hourly Transaction count by Month \",x=0.5,y=0.95), \n",
    " title_font_size=20, \n",
    "width = 980, \n",
    " height = 500, \n",
    " margin=dict(l=80, r=80, t=100, b=80) \n",
    " )\n",
    " \n",
    "fig1.show() \n",
    "\n",
    "fig2=px.line(data_frame=df4_grp, \n",
    " x=df4_grp.hour, \n",
    " y=df4_grp['Total Txn Amount'], \n",
    " color=df4_grp.gender, \n",
    " facet_col= df4_grp.day \n",
    " ) \n",
    "\n",
    "fig2.update_xaxes(title='Hour',showgrid=False)  \n",
    "fig2.update_yaxes(showgrid=False) \n",
    "fig2.update_layout( \n",
    " title=dict(text = \"Hourly Transaction count by Month \",x=0.5,y=0.95), \n",
    " title_font_size=20, \n",
    "width = 980, \n",
    " height = 500, \n",
    " margin=dict(l=80, r=80, t=100, b=80) \n",
    " ) \n",
    "\n",
    "fig2.show()\n"
   ]
  },
  {
   "cell_type": "code",
   "execution_count": 87,
   "metadata": {},
   "outputs": [
    {
     "data": {
      "text/plain": [
       "customer_id\n",
       "CUS-1005756958     2275.852055\n",
       "CUS-1117979751     9829.929000\n",
       "CUS-1140341822     5699.212250\n",
       "CUS-1147642491     9032.841186\n",
       "CUS-1196156254    22272.433755\n",
       "                      ...     \n",
       "CUS-72755508       4497.557069\n",
       "CUS-809013380      3756.902903\n",
       "CUS-860700529      3462.276009\n",
       "CUS-880898248      8528.830385\n",
       "CUS-883482547      9877.452697\n",
       "Name: balance, Length: 100, dtype: float64"
      ]
     },
     "execution_count": 87,
     "metadata": {},
     "output_type": "execute_result"
    }
   ],
   "source": [
    "df2.groupby(by='customer_id').mean(numeric_only=True)['balance']"
   ]
  },
  {
   "cell_type": "code",
   "execution_count": 88,
   "metadata": {},
   "outputs": [
    {
     "data": {
      "application/vnd.plotly.v1+json": {
       "config": {
        "plotlyServerURL": "https://plot.ly"
       },
       "data": [
        {
         "alignmentgroup": "True",
         "hovertemplate": "customer_id=%{x}<br>value=%{y}<br>text=%{text}<br>color=%{marker.color}<extra></extra>",
         "legendgroup": "",
         "marker": {
          "color": [
           263753.76611940295,
           198565.14377483443,
           111300.79761904762,
           65420.404230769236,
           61491.35064748202,
           57566.579032258065,
           56685.79580246913,
           54240.641470588234,
           46338.7338372093,
           39427.87357575757
          ],
          "pattern": {
           "shape": ""
          }
         },
         "name": "",
         "offsetgroup": "",
         "orientation": "v",
         "showlegend": false,
         "text": [
          "263.75k",
          "198.57k",
          "111.3k",
          "65.42k",
          "61.49k",
          "57.57k",
          "56.69k",
          "54.24k",
          "46.34k",
          "39.43k"
         ],
         "textposition": "outside",
         "type": "bar",
         "x": [
          "CUS-2370108457",
          "CUS-527400765",
          "CUS-2819545904",
          "CUS-1816693151",
          "CUS-3117610635",
          "CUS-495599312",
          "CUS-1609060617",
          "CUS-1646183815",
          "CUS-3462882033",
          "CUS-2663907001"
         ],
         "xaxis": "x",
         "y": [
          263753.76611940295,
          198565.14377483443,
          111300.79761904762,
          65420.404230769236,
          61491.35064748202,
          57566.579032258065,
          56685.79580246913,
          54240.641470588234,
          46338.7338372093,
          39427.87357575757
         ],
         "yaxis": "y"
        }
       ],
       "layout": {
        "barmode": "relative",
        "coloraxis": {
         "colorbar": {
          "title": {
           "text": "color"
          }
         },
         "colorscale": [
          [
           0,
           "#0d0887"
          ],
          [
           0.1111111111111111,
           "#46039f"
          ],
          [
           0.2222222222222222,
           "#7201a8"
          ],
          [
           0.3333333333333333,
           "#9c179e"
          ],
          [
           0.4444444444444444,
           "#bd3786"
          ],
          [
           0.5555555555555556,
           "#d8576b"
          ],
          [
           0.6666666666666666,
           "#ed7953"
          ],
          [
           0.7777777777777778,
           "#fb9f3a"
          ],
          [
           0.8888888888888888,
           "#fdca26"
          ],
          [
           1,
           "#f0f921"
          ]
         ]
        },
        "height": 500,
        "legend": {
         "tracegroupgap": 0
        },
        "margin": {
         "t": 60
        },
        "showlegend": false,
        "template": {
         "data": {
          "bar": [
           {
            "error_x": {
             "color": "#2a3f5f"
            },
            "error_y": {
             "color": "#2a3f5f"
            },
            "marker": {
             "line": {
              "color": "#E5ECF6",
              "width": 0.5
             },
             "pattern": {
              "fillmode": "overlay",
              "size": 10,
              "solidity": 0.2
             }
            },
            "type": "bar"
           }
          ],
          "barpolar": [
           {
            "marker": {
             "line": {
              "color": "#E5ECF6",
              "width": 0.5
             },
             "pattern": {
              "fillmode": "overlay",
              "size": 10,
              "solidity": 0.2
             }
            },
            "type": "barpolar"
           }
          ],
          "carpet": [
           {
            "aaxis": {
             "endlinecolor": "#2a3f5f",
             "gridcolor": "white",
             "linecolor": "white",
             "minorgridcolor": "white",
             "startlinecolor": "#2a3f5f"
            },
            "baxis": {
             "endlinecolor": "#2a3f5f",
             "gridcolor": "white",
             "linecolor": "white",
             "minorgridcolor": "white",
             "startlinecolor": "#2a3f5f"
            },
            "type": "carpet"
           }
          ],
          "choropleth": [
           {
            "colorbar": {
             "outlinewidth": 0,
             "ticks": ""
            },
            "type": "choropleth"
           }
          ],
          "contour": [
           {
            "colorbar": {
             "outlinewidth": 0,
             "ticks": ""
            },
            "colorscale": [
             [
              0,
              "#0d0887"
             ],
             [
              0.1111111111111111,
              "#46039f"
             ],
             [
              0.2222222222222222,
              "#7201a8"
             ],
             [
              0.3333333333333333,
              "#9c179e"
             ],
             [
              0.4444444444444444,
              "#bd3786"
             ],
             [
              0.5555555555555556,
              "#d8576b"
             ],
             [
              0.6666666666666666,
              "#ed7953"
             ],
             [
              0.7777777777777778,
              "#fb9f3a"
             ],
             [
              0.8888888888888888,
              "#fdca26"
             ],
             [
              1,
              "#f0f921"
             ]
            ],
            "type": "contour"
           }
          ],
          "contourcarpet": [
           {
            "colorbar": {
             "outlinewidth": 0,
             "ticks": ""
            },
            "type": "contourcarpet"
           }
          ],
          "heatmap": [
           {
            "colorbar": {
             "outlinewidth": 0,
             "ticks": ""
            },
            "colorscale": [
             [
              0,
              "#0d0887"
             ],
             [
              0.1111111111111111,
              "#46039f"
             ],
             [
              0.2222222222222222,
              "#7201a8"
             ],
             [
              0.3333333333333333,
              "#9c179e"
             ],
             [
              0.4444444444444444,
              "#bd3786"
             ],
             [
              0.5555555555555556,
              "#d8576b"
             ],
             [
              0.6666666666666666,
              "#ed7953"
             ],
             [
              0.7777777777777778,
              "#fb9f3a"
             ],
             [
              0.8888888888888888,
              "#fdca26"
             ],
             [
              1,
              "#f0f921"
             ]
            ],
            "type": "heatmap"
           }
          ],
          "heatmapgl": [
           {
            "colorbar": {
             "outlinewidth": 0,
             "ticks": ""
            },
            "colorscale": [
             [
              0,
              "#0d0887"
             ],
             [
              0.1111111111111111,
              "#46039f"
             ],
             [
              0.2222222222222222,
              "#7201a8"
             ],
             [
              0.3333333333333333,
              "#9c179e"
             ],
             [
              0.4444444444444444,
              "#bd3786"
             ],
             [
              0.5555555555555556,
              "#d8576b"
             ],
             [
              0.6666666666666666,
              "#ed7953"
             ],
             [
              0.7777777777777778,
              "#fb9f3a"
             ],
             [
              0.8888888888888888,
              "#fdca26"
             ],
             [
              1,
              "#f0f921"
             ]
            ],
            "type": "heatmapgl"
           }
          ],
          "histogram": [
           {
            "marker": {
             "pattern": {
              "fillmode": "overlay",
              "size": 10,
              "solidity": 0.2
             }
            },
            "type": "histogram"
           }
          ],
          "histogram2d": [
           {
            "colorbar": {
             "outlinewidth": 0,
             "ticks": ""
            },
            "colorscale": [
             [
              0,
              "#0d0887"
             ],
             [
              0.1111111111111111,
              "#46039f"
             ],
             [
              0.2222222222222222,
              "#7201a8"
             ],
             [
              0.3333333333333333,
              "#9c179e"
             ],
             [
              0.4444444444444444,
              "#bd3786"
             ],
             [
              0.5555555555555556,
              "#d8576b"
             ],
             [
              0.6666666666666666,
              "#ed7953"
             ],
             [
              0.7777777777777778,
              "#fb9f3a"
             ],
             [
              0.8888888888888888,
              "#fdca26"
             ],
             [
              1,
              "#f0f921"
             ]
            ],
            "type": "histogram2d"
           }
          ],
          "histogram2dcontour": [
           {
            "colorbar": {
             "outlinewidth": 0,
             "ticks": ""
            },
            "colorscale": [
             [
              0,
              "#0d0887"
             ],
             [
              0.1111111111111111,
              "#46039f"
             ],
             [
              0.2222222222222222,
              "#7201a8"
             ],
             [
              0.3333333333333333,
              "#9c179e"
             ],
             [
              0.4444444444444444,
              "#bd3786"
             ],
             [
              0.5555555555555556,
              "#d8576b"
             ],
             [
              0.6666666666666666,
              "#ed7953"
             ],
             [
              0.7777777777777778,
              "#fb9f3a"
             ],
             [
              0.8888888888888888,
              "#fdca26"
             ],
             [
              1,
              "#f0f921"
             ]
            ],
            "type": "histogram2dcontour"
           }
          ],
          "mesh3d": [
           {
            "colorbar": {
             "outlinewidth": 0,
             "ticks": ""
            },
            "type": "mesh3d"
           }
          ],
          "parcoords": [
           {
            "line": {
             "colorbar": {
              "outlinewidth": 0,
              "ticks": ""
             }
            },
            "type": "parcoords"
           }
          ],
          "pie": [
           {
            "automargin": true,
            "type": "pie"
           }
          ],
          "scatter": [
           {
            "fillpattern": {
             "fillmode": "overlay",
             "size": 10,
             "solidity": 0.2
            },
            "type": "scatter"
           }
          ],
          "scatter3d": [
           {
            "line": {
             "colorbar": {
              "outlinewidth": 0,
              "ticks": ""
             }
            },
            "marker": {
             "colorbar": {
              "outlinewidth": 0,
              "ticks": ""
             }
            },
            "type": "scatter3d"
           }
          ],
          "scattercarpet": [
           {
            "marker": {
             "colorbar": {
              "outlinewidth": 0,
              "ticks": ""
             }
            },
            "type": "scattercarpet"
           }
          ],
          "scattergeo": [
           {
            "marker": {
             "colorbar": {
              "outlinewidth": 0,
              "ticks": ""
             }
            },
            "type": "scattergeo"
           }
          ],
          "scattergl": [
           {
            "marker": {
             "colorbar": {
              "outlinewidth": 0,
              "ticks": ""
             }
            },
            "type": "scattergl"
           }
          ],
          "scattermapbox": [
           {
            "marker": {
             "colorbar": {
              "outlinewidth": 0,
              "ticks": ""
             }
            },
            "type": "scattermapbox"
           }
          ],
          "scatterpolar": [
           {
            "marker": {
             "colorbar": {
              "outlinewidth": 0,
              "ticks": ""
             }
            },
            "type": "scatterpolar"
           }
          ],
          "scatterpolargl": [
           {
            "marker": {
             "colorbar": {
              "outlinewidth": 0,
              "ticks": ""
             }
            },
            "type": "scatterpolargl"
           }
          ],
          "scatterternary": [
           {
            "marker": {
             "colorbar": {
              "outlinewidth": 0,
              "ticks": ""
             }
            },
            "type": "scatterternary"
           }
          ],
          "surface": [
           {
            "colorbar": {
             "outlinewidth": 0,
             "ticks": ""
            },
            "colorscale": [
             [
              0,
              "#0d0887"
             ],
             [
              0.1111111111111111,
              "#46039f"
             ],
             [
              0.2222222222222222,
              "#7201a8"
             ],
             [
              0.3333333333333333,
              "#9c179e"
             ],
             [
              0.4444444444444444,
              "#bd3786"
             ],
             [
              0.5555555555555556,
              "#d8576b"
             ],
             [
              0.6666666666666666,
              "#ed7953"
             ],
             [
              0.7777777777777778,
              "#fb9f3a"
             ],
             [
              0.8888888888888888,
              "#fdca26"
             ],
             [
              1,
              "#f0f921"
             ]
            ],
            "type": "surface"
           }
          ],
          "table": [
           {
            "cells": {
             "fill": {
              "color": "#EBF0F8"
             },
             "line": {
              "color": "white"
             }
            },
            "header": {
             "fill": {
              "color": "#C8D4E3"
             },
             "line": {
              "color": "white"
             }
            },
            "type": "table"
           }
          ]
         },
         "layout": {
          "annotationdefaults": {
           "arrowcolor": "#2a3f5f",
           "arrowhead": 0,
           "arrowwidth": 1
          },
          "autotypenumbers": "strict",
          "coloraxis": {
           "colorbar": {
            "outlinewidth": 0,
            "ticks": ""
           }
          },
          "colorscale": {
           "diverging": [
            [
             0,
             "#8e0152"
            ],
            [
             0.1,
             "#c51b7d"
            ],
            [
             0.2,
             "#de77ae"
            ],
            [
             0.3,
             "#f1b6da"
            ],
            [
             0.4,
             "#fde0ef"
            ],
            [
             0.5,
             "#f7f7f7"
            ],
            [
             0.6,
             "#e6f5d0"
            ],
            [
             0.7,
             "#b8e186"
            ],
            [
             0.8,
             "#7fbc41"
            ],
            [
             0.9,
             "#4d9221"
            ],
            [
             1,
             "#276419"
            ]
           ],
           "sequential": [
            [
             0,
             "#0d0887"
            ],
            [
             0.1111111111111111,
             "#46039f"
            ],
            [
             0.2222222222222222,
             "#7201a8"
            ],
            [
             0.3333333333333333,
             "#9c179e"
            ],
            [
             0.4444444444444444,
             "#bd3786"
            ],
            [
             0.5555555555555556,
             "#d8576b"
            ],
            [
             0.6666666666666666,
             "#ed7953"
            ],
            [
             0.7777777777777778,
             "#fb9f3a"
            ],
            [
             0.8888888888888888,
             "#fdca26"
            ],
            [
             1,
             "#f0f921"
            ]
           ],
           "sequentialminus": [
            [
             0,
             "#0d0887"
            ],
            [
             0.1111111111111111,
             "#46039f"
            ],
            [
             0.2222222222222222,
             "#7201a8"
            ],
            [
             0.3333333333333333,
             "#9c179e"
            ],
            [
             0.4444444444444444,
             "#bd3786"
            ],
            [
             0.5555555555555556,
             "#d8576b"
            ],
            [
             0.6666666666666666,
             "#ed7953"
            ],
            [
             0.7777777777777778,
             "#fb9f3a"
            ],
            [
             0.8888888888888888,
             "#fdca26"
            ],
            [
             1,
             "#f0f921"
            ]
           ]
          },
          "colorway": [
           "#636efa",
           "#EF553B",
           "#00cc96",
           "#ab63fa",
           "#FFA15A",
           "#19d3f3",
           "#FF6692",
           "#B6E880",
           "#FF97FF",
           "#FECB52"
          ],
          "font": {
           "color": "#2a3f5f"
          },
          "geo": {
           "bgcolor": "white",
           "lakecolor": "white",
           "landcolor": "#E5ECF6",
           "showlakes": true,
           "showland": true,
           "subunitcolor": "white"
          },
          "hoverlabel": {
           "align": "left"
          },
          "hovermode": "closest",
          "mapbox": {
           "style": "light"
          },
          "paper_bgcolor": "white",
          "plot_bgcolor": "#E5ECF6",
          "polar": {
           "angularaxis": {
            "gridcolor": "white",
            "linecolor": "white",
            "ticks": ""
           },
           "bgcolor": "#E5ECF6",
           "radialaxis": {
            "gridcolor": "white",
            "linecolor": "white",
            "ticks": ""
           }
          },
          "scene": {
           "xaxis": {
            "backgroundcolor": "#E5ECF6",
            "gridcolor": "white",
            "gridwidth": 2,
            "linecolor": "white",
            "showbackground": true,
            "ticks": "",
            "zerolinecolor": "white"
           },
           "yaxis": {
            "backgroundcolor": "#E5ECF6",
            "gridcolor": "white",
            "gridwidth": 2,
            "linecolor": "white",
            "showbackground": true,
            "ticks": "",
            "zerolinecolor": "white"
           },
           "zaxis": {
            "backgroundcolor": "#E5ECF6",
            "gridcolor": "white",
            "gridwidth": 2,
            "linecolor": "white",
            "showbackground": true,
            "ticks": "",
            "zerolinecolor": "white"
           }
          },
          "shapedefaults": {
           "line": {
            "color": "#2a3f5f"
           }
          },
          "ternary": {
           "aaxis": {
            "gridcolor": "white",
            "linecolor": "white",
            "ticks": ""
           },
           "baxis": {
            "gridcolor": "white",
            "linecolor": "white",
            "ticks": ""
           },
           "bgcolor": "#E5ECF6",
           "caxis": {
            "gridcolor": "white",
            "linecolor": "white",
            "ticks": ""
           }
          },
          "title": {
           "x": 0.05
          },
          "xaxis": {
           "automargin": true,
           "gridcolor": "white",
           "linecolor": "white",
           "ticks": "",
           "title": {
            "standoff": 15
           },
           "zerolinecolor": "white",
           "zerolinewidth": 2
          },
          "yaxis": {
           "automargin": true,
           "gridcolor": "white",
           "linecolor": "white",
           "ticks": "",
           "title": {
            "standoff": 15
           },
           "zerolinecolor": "white",
           "zerolinewidth": 2
          }
         }
        },
        "title": {
         "font": {
          "size": 20
         },
         "text": "Top Valuable Customers by AVG Balance",
         "x": 0.5,
         "y": 0.95
        },
        "xaxis": {
         "anchor": "y",
         "domain": [
          0,
          1
         ],
         "showgrid": false,
         "title": {
          "text": "Customer ID"
         }
        },
        "yaxis": {
         "anchor": "x",
         "domain": [
          0,
          1
         ],
         "showgrid": false,
         "title": {
          "text": "Average Balance"
         }
        }
       }
      }
     },
     "metadata": {},
     "output_type": "display_data"
    }
   ],
   "source": [
    "fig=px.bar( \n",
    "    df2.groupby(by='customer_id').mean(numeric_only=True)['balance'].sort_values(ascending=False).head(10),  \n",
    "    text = df2.groupby(by='customer_id').mean(numeric_only=True)['balance'].sort_values(ascending=False).head(10).apply(  lambda x : str(round(x/1000,2))+'k' ), \n",
    "    color = df2.groupby(by='customer_id').mean(numeric_only=True)['balance'].sort_values(ascending=False).head(10)  )\n",
    " \n",
    "fig.update_traces(textposition='outside') \n",
    "fig.update_xaxes(title='Customer ID',showgrid=False) \n",
    "fig.update_yaxes(title='Average Balance',showgrid=False) \n",
    "fig.update_layout( \n",
    " title=dict(text = \"Top Valuable Customers by AVG Balance\",x=0.5,y=0.95),  title_font_size=20, \n",
    "showlegend=False, \n",
    "height = 500 \n",
    " ) \n",
    "\n",
    "fig.update_traces(marker_coloraxis=None) \n",
    "\n",
    "fig.show() \n"
   ]
  },
  {
   "cell_type": "code",
   "execution_count": 89,
   "metadata": {},
   "outputs": [
    {
     "data": {
      "text/plain": [
       "status                object\n",
       "card_present_flag      Int64\n",
       "account               object\n",
       "long_lat              object\n",
       "txn_description       object\n",
       "merchant_id           object\n",
       "first_name            object\n",
       "balance              float64\n",
       "gender                object\n",
       "age                    int64\n",
       "merchant_suburb       object\n",
       "merchant_state        object\n",
       "amount               float64\n",
       "transaction_id        object\n",
       "customer_id           object\n",
       "merchant_long_lat     object\n",
       "movement              object\n",
       "age_group             object\n",
       "month                  int32\n",
       "day                    int32\n",
       "day_name              object\n",
       "hour                   int32\n",
       "dtype: object"
      ]
     },
     "execution_count": 89,
     "metadata": {},
     "output_type": "execute_result"
    }
   ],
   "source": [
    "df2.dtypes"
   ]
  },
  {
   "cell_type": "code",
   "execution_count": 90,
   "metadata": {},
   "outputs": [
    {
     "data": {
      "text/html": [
       "<div>\n",
       "<style scoped>\n",
       "    .dataframe tbody tr th:only-of-type {\n",
       "        vertical-align: middle;\n",
       "    }\n",
       "\n",
       "    .dataframe tbody tr th {\n",
       "        vertical-align: top;\n",
       "    }\n",
       "\n",
       "    .dataframe thead th {\n",
       "        text-align: right;\n",
       "    }\n",
       "</style>\n",
       "<table border=\"1\" class=\"dataframe\">\n",
       "  <thead>\n",
       "    <tr style=\"text-align: right;\">\n",
       "      <th></th>\n",
       "      <th>mean</th>\n",
       "      <th>sum</th>\n",
       "    </tr>\n",
       "    <tr>\n",
       "      <th>month</th>\n",
       "      <th></th>\n",
       "      <th></th>\n",
       "    </tr>\n",
       "  </thead>\n",
       "  <tbody>\n",
       "    <tr>\n",
       "      <th>8</th>\n",
       "      <td>185.121867</td>\n",
       "      <td>729935.52</td>\n",
       "    </tr>\n",
       "    <tr>\n",
       "      <th>9</th>\n",
       "      <td>182.045903</td>\n",
       "      <td>730550.21</td>\n",
       "    </tr>\n",
       "    <tr>\n",
       "      <th>10</th>\n",
       "      <td>196.427323</td>\n",
       "      <td>802798.47</td>\n",
       "    </tr>\n",
       "  </tbody>\n",
       "</table>\n",
       "</div>"
      ],
      "text/plain": [
       "             mean        sum\n",
       "month                       \n",
       "8      185.121867  729935.52\n",
       "9      182.045903  730550.21\n",
       "10     196.427323  802798.47"
      ]
     },
     "execution_count": 90,
     "metadata": {},
     "output_type": "execute_result"
    }
   ],
   "source": [
    "df2.select_dtypes(include='number').groupby(by='month').agg(['mean','sum'])['amount'] "
   ]
  },
  {
   "cell_type": "code",
   "execution_count": 91,
   "metadata": {},
   "outputs": [
    {
     "data": {
      "text/html": [
       "<div>\n",
       "<style scoped>\n",
       "    .dataframe tbody tr th:only-of-type {\n",
       "        vertical-align: middle;\n",
       "    }\n",
       "\n",
       "    .dataframe tbody tr th {\n",
       "        vertical-align: top;\n",
       "    }\n",
       "\n",
       "    .dataframe thead th {\n",
       "        text-align: right;\n",
       "    }\n",
       "</style>\n",
       "<table border=\"1\" class=\"dataframe\">\n",
       "  <thead>\n",
       "    <tr style=\"text-align: right;\">\n",
       "      <th></th>\n",
       "      <th>month</th>\n",
       "      <th>Avg Amount</th>\n",
       "      <th>Total Amount</th>\n",
       "    </tr>\n",
       "  </thead>\n",
       "  <tbody>\n",
       "    <tr>\n",
       "      <th>0</th>\n",
       "      <td>8</td>\n",
       "      <td>185</td>\n",
       "      <td>729936</td>\n",
       "    </tr>\n",
       "    <tr>\n",
       "      <th>1</th>\n",
       "      <td>9</td>\n",
       "      <td>182</td>\n",
       "      <td>730550</td>\n",
       "    </tr>\n",
       "    <tr>\n",
       "      <th>2</th>\n",
       "      <td>10</td>\n",
       "      <td>196</td>\n",
       "      <td>802798</td>\n",
       "    </tr>\n",
       "  </tbody>\n",
       "</table>\n",
       "</div>"
      ],
      "text/plain": [
       "   month  Avg Amount  Total Amount\n",
       "0      8         185        729936\n",
       "1      9         182        730550\n",
       "2     10         196        802798"
      ]
     },
     "execution_count": 91,
     "metadata": {},
     "output_type": "execute_result"
    }
   ],
   "source": [
    "g1 = df2.select_dtypes(include='number').groupby(by='month').agg(['mean','sum'])['amount'] \n",
    "g1.columns=['Avg Amount', 'Total Amount'] \n",
    "g1[['Avg Amount','Total Amount']]=g1[['Avg Amount','Total Amount']].round().astype(int) \n",
    "g1.reset_index(inplace=True) \n",
    "g1\n"
   ]
  },
  {
   "cell_type": "code",
   "execution_count": 92,
   "metadata": {},
   "outputs": [
    {
     "data": {
      "text/html": [
       "<div>\n",
       "<style scoped>\n",
       "    .dataframe tbody tr th:only-of-type {\n",
       "        vertical-align: middle;\n",
       "    }\n",
       "\n",
       "    .dataframe tbody tr th {\n",
       "        vertical-align: top;\n",
       "    }\n",
       "\n",
       "    .dataframe thead th {\n",
       "        text-align: right;\n",
       "    }\n",
       "</style>\n",
       "<table border=\"1\" class=\"dataframe\">\n",
       "  <thead>\n",
       "    <tr style=\"text-align: right;\">\n",
       "      <th></th>\n",
       "      <th>month</th>\n",
       "      <th>Avg Balance</th>\n",
       "      <th>Total Balance</th>\n",
       "    </tr>\n",
       "  </thead>\n",
       "  <tbody>\n",
       "    <tr>\n",
       "      <th>0</th>\n",
       "      <td>8</td>\n",
       "      <td>10794</td>\n",
       "      <td>42561328</td>\n",
       "    </tr>\n",
       "    <tr>\n",
       "      <th>1</th>\n",
       "      <td>9</td>\n",
       "      <td>14730</td>\n",
       "      <td>59112097</td>\n",
       "    </tr>\n",
       "    <tr>\n",
       "      <th>2</th>\n",
       "      <td>10</td>\n",
       "      <td>18451</td>\n",
       "      <td>75409203</td>\n",
       "    </tr>\n",
       "  </tbody>\n",
       "</table>\n",
       "</div>"
      ],
      "text/plain": [
       "   month  Avg Balance  Total Balance\n",
       "0      8        10794       42561328\n",
       "1      9        14730       59112097\n",
       "2     10        18451       75409203"
      ]
     },
     "execution_count": 92,
     "metadata": {},
     "output_type": "execute_result"
    }
   ],
   "source": [
    "g2=df2.select_dtypes(include='number').groupby(by='month').agg(['mean','sum'])['balance'] \n",
    "g2.columns=['Avg Balance', 'Total Balance'] \n",
    "g2[['Avg Balance','Total Balance']]=g2[['Avg Balance','Total Balance']].round().astype(int) \n",
    "g2.reset_index(inplace=True)  \n",
    "g2\n"
   ]
  },
  {
   "cell_type": "code",
   "execution_count": 93,
   "metadata": {},
   "outputs": [
    {
     "data": {
      "application/vnd.plotly.v1+json": {
       "config": {
        "plotlyServerURL": "https://plot.ly"
       },
       "data": [
        {
         "colorscale": [
          [
           0,
           "#00083e"
          ],
          [
           0.5,
           "#ededee"
          ],
          [
           1,
           "#ffffff"
          ]
         ],
         "hoverinfo": "none",
         "opacity": 0.75,
         "showscale": false,
         "type": "heatmap",
         "z": [
          [
           0,
           0,
           0,
           0,
           0
          ],
          [
           0.5,
           0.5,
           0.5,
           0.5,
           0.5
          ],
          [
           1,
           1,
           1,
           1,
           1
          ],
          [
           0.5,
           0.5,
           0.5,
           0.5,
           0.5
          ]
         ]
        }
       ],
       "layout": {
        "annotations": [
         {
          "align": "left",
          "font": {
           "color": "#ffffff",
           "size": 13
          },
          "showarrow": false,
          "text": "<b>month</b>",
          "x": -0.45,
          "xanchor": "left",
          "xref": "x",
          "y": 0,
          "yref": "y"
         },
         {
          "align": "left",
          "font": {
           "color": "#ffffff",
           "size": 13
          },
          "showarrow": false,
          "text": "<b>Avg Amount</b>",
          "x": 0.55,
          "xanchor": "left",
          "xref": "x",
          "y": 0,
          "yref": "y"
         },
         {
          "align": "left",
          "font": {
           "color": "#ffffff",
           "size": 13
          },
          "showarrow": false,
          "text": "<b>Total Amount</b>",
          "x": 1.55,
          "xanchor": "left",
          "xref": "x",
          "y": 0,
          "yref": "y"
         },
         {
          "align": "left",
          "font": {
           "color": "#ffffff",
           "size": 13
          },
          "showarrow": false,
          "text": "<b>Avg Balance</b>",
          "x": 2.55,
          "xanchor": "left",
          "xref": "x",
          "y": 0,
          "yref": "y"
         },
         {
          "align": "left",
          "font": {
           "color": "#ffffff",
           "size": 13
          },
          "showarrow": false,
          "text": "<b>Total Balance</b>",
          "x": 3.55,
          "xanchor": "left",
          "xref": "x",
          "y": 0,
          "yref": "y"
         },
         {
          "align": "left",
          "font": {
           "color": "#000000",
           "size": 13
          },
          "showarrow": false,
          "text": "8",
          "x": -0.45,
          "xanchor": "left",
          "xref": "x",
          "y": 1,
          "yref": "y"
         },
         {
          "align": "left",
          "font": {
           "color": "#000000",
           "size": 13
          },
          "showarrow": false,
          "text": "185",
          "x": 0.55,
          "xanchor": "left",
          "xref": "x",
          "y": 1,
          "yref": "y"
         },
         {
          "align": "left",
          "font": {
           "color": "#000000",
           "size": 13
          },
          "showarrow": false,
          "text": "729936",
          "x": 1.55,
          "xanchor": "left",
          "xref": "x",
          "y": 1,
          "yref": "y"
         },
         {
          "align": "left",
          "font": {
           "color": "#000000",
           "size": 13
          },
          "showarrow": false,
          "text": "10794",
          "x": 2.55,
          "xanchor": "left",
          "xref": "x",
          "y": 1,
          "yref": "y"
         },
         {
          "align": "left",
          "font": {
           "color": "#000000",
           "size": 13
          },
          "showarrow": false,
          "text": "42561328",
          "x": 3.55,
          "xanchor": "left",
          "xref": "x",
          "y": 1,
          "yref": "y"
         },
         {
          "align": "left",
          "font": {
           "color": "#000000",
           "size": 13
          },
          "showarrow": false,
          "text": "9",
          "x": -0.45,
          "xanchor": "left",
          "xref": "x",
          "y": 2,
          "yref": "y"
         },
         {
          "align": "left",
          "font": {
           "color": "#000000",
           "size": 13
          },
          "showarrow": false,
          "text": "182",
          "x": 0.55,
          "xanchor": "left",
          "xref": "x",
          "y": 2,
          "yref": "y"
         },
         {
          "align": "left",
          "font": {
           "color": "#000000",
           "size": 13
          },
          "showarrow": false,
          "text": "730550",
          "x": 1.55,
          "xanchor": "left",
          "xref": "x",
          "y": 2,
          "yref": "y"
         },
         {
          "align": "left",
          "font": {
           "color": "#000000",
           "size": 13
          },
          "showarrow": false,
          "text": "14730",
          "x": 2.55,
          "xanchor": "left",
          "xref": "x",
          "y": 2,
          "yref": "y"
         },
         {
          "align": "left",
          "font": {
           "color": "#000000",
           "size": 13
          },
          "showarrow": false,
          "text": "59112097",
          "x": 3.55,
          "xanchor": "left",
          "xref": "x",
          "y": 2,
          "yref": "y"
         },
         {
          "align": "left",
          "font": {
           "color": "#000000",
           "size": 13
          },
          "showarrow": false,
          "text": "10",
          "x": -0.45,
          "xanchor": "left",
          "xref": "x",
          "y": 3,
          "yref": "y"
         },
         {
          "align": "left",
          "font": {
           "color": "#000000",
           "size": 13
          },
          "showarrow": false,
          "text": "196",
          "x": 0.55,
          "xanchor": "left",
          "xref": "x",
          "y": 3,
          "yref": "y"
         },
         {
          "align": "left",
          "font": {
           "color": "#000000",
           "size": 13
          },
          "showarrow": false,
          "text": "802798",
          "x": 1.55,
          "xanchor": "left",
          "xref": "x",
          "y": 3,
          "yref": "y"
         },
         {
          "align": "left",
          "font": {
           "color": "#000000",
           "size": 13
          },
          "showarrow": false,
          "text": "18451",
          "x": 2.55,
          "xanchor": "left",
          "xref": "x",
          "y": 3,
          "yref": "y"
         },
         {
          "align": "left",
          "font": {
           "color": "#000000",
           "size": 13
          },
          "showarrow": false,
          "text": "75409203",
          "x": 3.55,
          "xanchor": "left",
          "xref": "x",
          "y": 3,
          "yref": "y"
         }
        ],
        "height": 170,
        "margin": {
         "b": 0,
         "l": 0,
         "r": 0,
         "t": 0
        },
        "template": {
         "data": {
          "bar": [
           {
            "error_x": {
             "color": "#2a3f5f"
            },
            "error_y": {
             "color": "#2a3f5f"
            },
            "marker": {
             "line": {
              "color": "white",
              "width": 0.5
             },
             "pattern": {
              "fillmode": "overlay",
              "size": 10,
              "solidity": 0.2
             }
            },
            "type": "bar"
           }
          ],
          "barpolar": [
           {
            "marker": {
             "line": {
              "color": "white",
              "width": 0.5
             },
             "pattern": {
              "fillmode": "overlay",
              "size": 10,
              "solidity": 0.2
             }
            },
            "type": "barpolar"
           }
          ],
          "carpet": [
           {
            "aaxis": {
             "endlinecolor": "#2a3f5f",
             "gridcolor": "#C8D4E3",
             "linecolor": "#C8D4E3",
             "minorgridcolor": "#C8D4E3",
             "startlinecolor": "#2a3f5f"
            },
            "baxis": {
             "endlinecolor": "#2a3f5f",
             "gridcolor": "#C8D4E3",
             "linecolor": "#C8D4E3",
             "minorgridcolor": "#C8D4E3",
             "startlinecolor": "#2a3f5f"
            },
            "type": "carpet"
           }
          ],
          "choropleth": [
           {
            "colorbar": {
             "outlinewidth": 0,
             "ticks": ""
            },
            "type": "choropleth"
           }
          ],
          "contour": [
           {
            "colorbar": {
             "outlinewidth": 0,
             "ticks": ""
            },
            "colorscale": [
             [
              0,
              "#0d0887"
             ],
             [
              0.1111111111111111,
              "#46039f"
             ],
             [
              0.2222222222222222,
              "#7201a8"
             ],
             [
              0.3333333333333333,
              "#9c179e"
             ],
             [
              0.4444444444444444,
              "#bd3786"
             ],
             [
              0.5555555555555556,
              "#d8576b"
             ],
             [
              0.6666666666666666,
              "#ed7953"
             ],
             [
              0.7777777777777778,
              "#fb9f3a"
             ],
             [
              0.8888888888888888,
              "#fdca26"
             ],
             [
              1,
              "#f0f921"
             ]
            ],
            "type": "contour"
           }
          ],
          "contourcarpet": [
           {
            "colorbar": {
             "outlinewidth": 0,
             "ticks": ""
            },
            "type": "contourcarpet"
           }
          ],
          "heatmap": [
           {
            "colorbar": {
             "outlinewidth": 0,
             "ticks": ""
            },
            "colorscale": [
             [
              0,
              "#0d0887"
             ],
             [
              0.1111111111111111,
              "#46039f"
             ],
             [
              0.2222222222222222,
              "#7201a8"
             ],
             [
              0.3333333333333333,
              "#9c179e"
             ],
             [
              0.4444444444444444,
              "#bd3786"
             ],
             [
              0.5555555555555556,
              "#d8576b"
             ],
             [
              0.6666666666666666,
              "#ed7953"
             ],
             [
              0.7777777777777778,
              "#fb9f3a"
             ],
             [
              0.8888888888888888,
              "#fdca26"
             ],
             [
              1,
              "#f0f921"
             ]
            ],
            "type": "heatmap"
           }
          ],
          "heatmapgl": [
           {
            "colorbar": {
             "outlinewidth": 0,
             "ticks": ""
            },
            "colorscale": [
             [
              0,
              "#0d0887"
             ],
             [
              0.1111111111111111,
              "#46039f"
             ],
             [
              0.2222222222222222,
              "#7201a8"
             ],
             [
              0.3333333333333333,
              "#9c179e"
             ],
             [
              0.4444444444444444,
              "#bd3786"
             ],
             [
              0.5555555555555556,
              "#d8576b"
             ],
             [
              0.6666666666666666,
              "#ed7953"
             ],
             [
              0.7777777777777778,
              "#fb9f3a"
             ],
             [
              0.8888888888888888,
              "#fdca26"
             ],
             [
              1,
              "#f0f921"
             ]
            ],
            "type": "heatmapgl"
           }
          ],
          "histogram": [
           {
            "marker": {
             "pattern": {
              "fillmode": "overlay",
              "size": 10,
              "solidity": 0.2
             }
            },
            "type": "histogram"
           }
          ],
          "histogram2d": [
           {
            "colorbar": {
             "outlinewidth": 0,
             "ticks": ""
            },
            "colorscale": [
             [
              0,
              "#0d0887"
             ],
             [
              0.1111111111111111,
              "#46039f"
             ],
             [
              0.2222222222222222,
              "#7201a8"
             ],
             [
              0.3333333333333333,
              "#9c179e"
             ],
             [
              0.4444444444444444,
              "#bd3786"
             ],
             [
              0.5555555555555556,
              "#d8576b"
             ],
             [
              0.6666666666666666,
              "#ed7953"
             ],
             [
              0.7777777777777778,
              "#fb9f3a"
             ],
             [
              0.8888888888888888,
              "#fdca26"
             ],
             [
              1,
              "#f0f921"
             ]
            ],
            "type": "histogram2d"
           }
          ],
          "histogram2dcontour": [
           {
            "colorbar": {
             "outlinewidth": 0,
             "ticks": ""
            },
            "colorscale": [
             [
              0,
              "#0d0887"
             ],
             [
              0.1111111111111111,
              "#46039f"
             ],
             [
              0.2222222222222222,
              "#7201a8"
             ],
             [
              0.3333333333333333,
              "#9c179e"
             ],
             [
              0.4444444444444444,
              "#bd3786"
             ],
             [
              0.5555555555555556,
              "#d8576b"
             ],
             [
              0.6666666666666666,
              "#ed7953"
             ],
             [
              0.7777777777777778,
              "#fb9f3a"
             ],
             [
              0.8888888888888888,
              "#fdca26"
             ],
             [
              1,
              "#f0f921"
             ]
            ],
            "type": "histogram2dcontour"
           }
          ],
          "mesh3d": [
           {
            "colorbar": {
             "outlinewidth": 0,
             "ticks": ""
            },
            "type": "mesh3d"
           }
          ],
          "parcoords": [
           {
            "line": {
             "colorbar": {
              "outlinewidth": 0,
              "ticks": ""
             }
            },
            "type": "parcoords"
           }
          ],
          "pie": [
           {
            "automargin": true,
            "type": "pie"
           }
          ],
          "scatter": [
           {
            "fillpattern": {
             "fillmode": "overlay",
             "size": 10,
             "solidity": 0.2
            },
            "type": "scatter"
           }
          ],
          "scatter3d": [
           {
            "line": {
             "colorbar": {
              "outlinewidth": 0,
              "ticks": ""
             }
            },
            "marker": {
             "colorbar": {
              "outlinewidth": 0,
              "ticks": ""
             }
            },
            "type": "scatter3d"
           }
          ],
          "scattercarpet": [
           {
            "marker": {
             "colorbar": {
              "outlinewidth": 0,
              "ticks": ""
             }
            },
            "type": "scattercarpet"
           }
          ],
          "scattergeo": [
           {
            "marker": {
             "colorbar": {
              "outlinewidth": 0,
              "ticks": ""
             }
            },
            "type": "scattergeo"
           }
          ],
          "scattergl": [
           {
            "marker": {
             "colorbar": {
              "outlinewidth": 0,
              "ticks": ""
             }
            },
            "type": "scattergl"
           }
          ],
          "scattermapbox": [
           {
            "marker": {
             "colorbar": {
              "outlinewidth": 0,
              "ticks": ""
             }
            },
            "type": "scattermapbox"
           }
          ],
          "scatterpolar": [
           {
            "marker": {
             "colorbar": {
              "outlinewidth": 0,
              "ticks": ""
             }
            },
            "type": "scatterpolar"
           }
          ],
          "scatterpolargl": [
           {
            "marker": {
             "colorbar": {
              "outlinewidth": 0,
              "ticks": ""
             }
            },
            "type": "scatterpolargl"
           }
          ],
          "scatterternary": [
           {
            "marker": {
             "colorbar": {
              "outlinewidth": 0,
              "ticks": ""
             }
            },
            "type": "scatterternary"
           }
          ],
          "surface": [
           {
            "colorbar": {
             "outlinewidth": 0,
             "ticks": ""
            },
            "colorscale": [
             [
              0,
              "#0d0887"
             ],
             [
              0.1111111111111111,
              "#46039f"
             ],
             [
              0.2222222222222222,
              "#7201a8"
             ],
             [
              0.3333333333333333,
              "#9c179e"
             ],
             [
              0.4444444444444444,
              "#bd3786"
             ],
             [
              0.5555555555555556,
              "#d8576b"
             ],
             [
              0.6666666666666666,
              "#ed7953"
             ],
             [
              0.7777777777777778,
              "#fb9f3a"
             ],
             [
              0.8888888888888888,
              "#fdca26"
             ],
             [
              1,
              "#f0f921"
             ]
            ],
            "type": "surface"
           }
          ],
          "table": [
           {
            "cells": {
             "fill": {
              "color": "#EBF0F8"
             },
             "line": {
              "color": "white"
             }
            },
            "header": {
             "fill": {
              "color": "#C8D4E3"
             },
             "line": {
              "color": "white"
             }
            },
            "type": "table"
           }
          ]
         },
         "layout": {
          "annotationdefaults": {
           "arrowcolor": "#2a3f5f",
           "arrowhead": 0,
           "arrowwidth": 1
          },
          "autotypenumbers": "strict",
          "coloraxis": {
           "colorbar": {
            "outlinewidth": 0,
            "ticks": ""
           }
          },
          "colorscale": {
           "diverging": [
            [
             0,
             "#8e0152"
            ],
            [
             0.1,
             "#c51b7d"
            ],
            [
             0.2,
             "#de77ae"
            ],
            [
             0.3,
             "#f1b6da"
            ],
            [
             0.4,
             "#fde0ef"
            ],
            [
             0.5,
             "#f7f7f7"
            ],
            [
             0.6,
             "#e6f5d0"
            ],
            [
             0.7,
             "#b8e186"
            ],
            [
             0.8,
             "#7fbc41"
            ],
            [
             0.9,
             "#4d9221"
            ],
            [
             1,
             "#276419"
            ]
           ],
           "sequential": [
            [
             0,
             "#0d0887"
            ],
            [
             0.1111111111111111,
             "#46039f"
            ],
            [
             0.2222222222222222,
             "#7201a8"
            ],
            [
             0.3333333333333333,
             "#9c179e"
            ],
            [
             0.4444444444444444,
             "#bd3786"
            ],
            [
             0.5555555555555556,
             "#d8576b"
            ],
            [
             0.6666666666666666,
             "#ed7953"
            ],
            [
             0.7777777777777778,
             "#fb9f3a"
            ],
            [
             0.8888888888888888,
             "#fdca26"
            ],
            [
             1,
             "#f0f921"
            ]
           ],
           "sequentialminus": [
            [
             0,
             "#0d0887"
            ],
            [
             0.1111111111111111,
             "#46039f"
            ],
            [
             0.2222222222222222,
             "#7201a8"
            ],
            [
             0.3333333333333333,
             "#9c179e"
            ],
            [
             0.4444444444444444,
             "#bd3786"
            ],
            [
             0.5555555555555556,
             "#d8576b"
            ],
            [
             0.6666666666666666,
             "#ed7953"
            ],
            [
             0.7777777777777778,
             "#fb9f3a"
            ],
            [
             0.8888888888888888,
             "#fdca26"
            ],
            [
             1,
             "#f0f921"
            ]
           ]
          },
          "colorway": [
           "#636efa",
           "#EF553B",
           "#00cc96",
           "#ab63fa",
           "#FFA15A",
           "#19d3f3",
           "#FF6692",
           "#B6E880",
           "#FF97FF",
           "#FECB52"
          ],
          "font": {
           "color": "#2a3f5f"
          },
          "geo": {
           "bgcolor": "white",
           "lakecolor": "white",
           "landcolor": "white",
           "showlakes": true,
           "showland": true,
           "subunitcolor": "#C8D4E3"
          },
          "hoverlabel": {
           "align": "left"
          },
          "hovermode": "closest",
          "mapbox": {
           "style": "light"
          },
          "paper_bgcolor": "white",
          "plot_bgcolor": "white",
          "polar": {
           "angularaxis": {
            "gridcolor": "#EBF0F8",
            "linecolor": "#EBF0F8",
            "ticks": ""
           },
           "bgcolor": "white",
           "radialaxis": {
            "gridcolor": "#EBF0F8",
            "linecolor": "#EBF0F8",
            "ticks": ""
           }
          },
          "scene": {
           "xaxis": {
            "backgroundcolor": "white",
            "gridcolor": "#DFE8F3",
            "gridwidth": 2,
            "linecolor": "#EBF0F8",
            "showbackground": true,
            "ticks": "",
            "zerolinecolor": "#EBF0F8"
           },
           "yaxis": {
            "backgroundcolor": "white",
            "gridcolor": "#DFE8F3",
            "gridwidth": 2,
            "linecolor": "#EBF0F8",
            "showbackground": true,
            "ticks": "",
            "zerolinecolor": "#EBF0F8"
           },
           "zaxis": {
            "backgroundcolor": "white",
            "gridcolor": "#DFE8F3",
            "gridwidth": 2,
            "linecolor": "#EBF0F8",
            "showbackground": true,
            "ticks": "",
            "zerolinecolor": "#EBF0F8"
           }
          },
          "shapedefaults": {
           "line": {
            "color": "#2a3f5f"
           }
          },
          "ternary": {
           "aaxis": {
            "gridcolor": "#DFE8F3",
            "linecolor": "#A2B1C6",
            "ticks": ""
           },
           "baxis": {
            "gridcolor": "#DFE8F3",
            "linecolor": "#A2B1C6",
            "ticks": ""
           },
           "bgcolor": "white",
           "caxis": {
            "gridcolor": "#DFE8F3",
            "linecolor": "#A2B1C6",
            "ticks": ""
           }
          },
          "title": {
           "x": 0.05
          },
          "xaxis": {
           "automargin": true,
           "gridcolor": "#EBF0F8",
           "linecolor": "#EBF0F8",
           "ticks": "",
           "title": {
            "standoff": 15
           },
           "zerolinecolor": "#EBF0F8",
           "zerolinewidth": 2
          },
          "yaxis": {
           "automargin": true,
           "gridcolor": "#EBF0F8",
           "linecolor": "#EBF0F8",
           "ticks": "",
           "title": {
            "standoff": 15
           },
           "zerolinecolor": "#EBF0F8",
           "zerolinewidth": 2
          }
         }
        },
        "xaxis": {
         "dtick": 1,
         "gridwidth": 2,
         "showticklabels": false,
         "tick0": -0.5,
         "ticks": "",
         "zeroline": false
        },
        "yaxis": {
         "autorange": "reversed",
         "dtick": 1,
         "gridwidth": 2,
         "showticklabels": false,
         "tick0": 0.5,
         "ticks": "",
         "zeroline": false
        }
       }
      }
     },
     "metadata": {},
     "output_type": "display_data"
    }
   ],
   "source": [
    "month = g1.merge(g2,on='month') \n",
    "month\n",
    "\n",
    "\n",
    "pio.templates.default = \"plotly_white\" \n",
    "fig = ff.create_table(month)  \n",
    "for i in range(len(fig.layout.annotations)): \n",
    " fig.layout.annotations[i].font.size = 13 \n",
    "fig.show()\n"
   ]
  },
  {
   "cell_type": "code",
   "execution_count": null,
   "metadata": {},
   "outputs": [],
   "source": []
  }
 ],
 "metadata": {
  "kernelspec": {
   "display_name": ".venv",
   "language": "python",
   "name": "python3"
  },
  "language_info": {
   "codemirror_mode": {
    "name": "ipython",
    "version": 3
   },
   "file_extension": ".py",
   "mimetype": "text/x-python",
   "name": "python",
   "nbconvert_exporter": "python",
   "pygments_lexer": "ipython3",
   "version": "3.12.4"
  }
 },
 "nbformat": 4,
 "nbformat_minor": 2
}
