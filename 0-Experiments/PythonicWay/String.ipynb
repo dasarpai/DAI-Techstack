{
 "cells": [
  {
   "cell_type": "code",
   "execution_count": null,
   "metadata": {},
   "outputs": [],
   "source": []
  },
  {
   "cell_type": "code",
   "execution_count": null,
   "metadata": {},
   "outputs": [],
   "source": []
  },
  {
   "cell_type": "code",
   "execution_count": null,
   "metadata": {},
   "outputs": [],
   "source": [
    "#Longest Word in the string\n",
    "\n",
    "s = 'I love Python'\n",
    "import numpy as np\n",
    "\n",
    "# Write your code here\n",
    "words =  np.array( s.split(\" \") )\n",
    "word_len = np.array( [len(word) for word in words])\n",
    "\n",
    "x= word_len==word_len.max()\n",
    "\n",
    "words[x][0]"
   ]
  },
  {
   "cell_type": "code",
   "execution_count": 9,
   "metadata": {},
   "outputs": [
    {
     "name": "stdout",
     "output_type": "stream",
     "text": [
      "Acute\n",
      "Equilateral\n"
     ]
    }
   ],
   "source": [
    "scores  = (9, 9, 9)\n",
    "scores = list(scores)\n",
    "scores.sort()\n",
    "scores\n",
    "\n",
    "a = scores[0]\n",
    "b = scores[1]\n",
    "c = scores[2]\n",
    "\n",
    "if a+b<=c:\n",
    "    name=\"Invalid\"\n",
    "    print (name)\n",
    "else:\n",
    "    if a**2 + b**2 == c**2:\n",
    "        name =\"Right\"\n",
    "    elif a**2 + b**2 > c**2:\n",
    "        name =\"Acute\"\n",
    "    else:\n",
    "        name=\"Obtuse\"\n",
    "    print (name)\n",
    "    \n",
    "\n",
    "    if a==b and b==c:\n",
    "        name = \"Equilateral\" \n",
    "    elif a!=b and b!=c:\n",
    "        name =\"Scalene\"\n",
    "    elif a==b and b!=c:\n",
    "        name =\"Isosceles\"\n",
    "    print (name)\n",
    "    \n",
    "    "
   ]
  },
  {
   "cell_type": "code",
   "execution_count": 1,
   "metadata": {},
   "outputs": [],
   "source": [
    "a=2\n",
    "b=3\n",
    "city=\"Bangalore\""
   ]
  },
  {
   "cell_type": "code",
   "execution_count": 2,
   "metadata": {},
   "outputs": [
    {
     "name": "stdout",
     "output_type": "stream",
     "text": [
      "{a} and {b} in {city}\n"
     ]
    }
   ],
   "source": [
    "print (\"{a} and {b} in {city}\")"
   ]
  },
  {
   "cell_type": "code",
   "execution_count": 3,
   "metadata": {},
   "outputs": [
    {
     "name": "stdout",
     "output_type": "stream",
     "text": [
      "2 and 3 in Bangalore\n"
     ]
    }
   ],
   "source": [
    "#Variable name within string\n",
    "print (f\"{a} and {b} in {city}\")"
   ]
  },
  {
   "cell_type": "code",
   "execution_count": 5,
   "metadata": {},
   "outputs": [
    {
     "name": "stdout",
     "output_type": "stream",
     "text": [
      "2 and 3 in Bangalore\n"
     ]
    }
   ],
   "source": [
    "#Only placeholders within string. Variable name in format\n",
    "print (\"{} and {} in {}\".format(a,b,city))"
   ]
  },
  {
   "cell_type": "code",
   "execution_count": 15,
   "metadata": {},
   "outputs": [
    {
     "name": "stdout",
     "output_type": "stream",
     "text": [
      "Bangalore 2 3.000000\n"
     ]
    }
   ],
   "source": [
    "#Using % placeholder to print string. Make sure to use proper placeholder.\n",
    "#s - String, d- digit, f-float\n",
    "\n",
    "print ( '%s %d %f' % (city, a , b) )"
   ]
  },
  {
   "cell_type": "code",
   "execution_count": 30,
   "metadata": {},
   "outputs": [],
   "source": [
    "class Person:\n",
    "    def __init__(self):\n",
    "        self.Name = \"Hari\"\n",
    "        self.City =\"Bangalore\"\n",
    "        self.Age = 49\n",
    "\n",
    "def sqrt(n):\n",
    "    return 5**2\n",
    "    \n",
    "p = Person()\n",
    "\n",
    "#Pay attention how msg being created from an object and function. \n",
    "#How f is being used without separator like comma. \n",
    "#\\n is being used for line break\n",
    "#f being used without print function\n",
    "#How f being interpreted by print function\n",
    "msg = (f\"Name is: {p.Name}\\n\"\n",
    "       f\"City is: {p.City}\\n\"\n",
    "       f\"Age is: {p.Age}\\n\"\n",
    "       f\"sqrt is: {sqrt(5)}\"\n",
    "       )"
   ]
  },
  {
   "cell_type": "code",
   "execution_count": 31,
   "metadata": {},
   "outputs": [
    {
     "name": "stdout",
     "output_type": "stream",
     "text": [
      "Name is: Hari\n",
      "City is: Bangalore\n",
      "Age is: 49\n",
      "sqrt is: 25\n"
     ]
    }
   ],
   "source": [
    "print (msg)"
   ]
  },
  {
   "cell_type": "code",
   "execution_count": 32,
   "metadata": {},
   "outputs": [
    {
     "data": {
      "text/plain": [
       "'Name is: Hari\\nCity is: Bangalore\\nAge is: 49\\nsqrt is: 25'"
      ]
     },
     "execution_count": 32,
     "metadata": {},
     "output_type": "execute_result"
    }
   ],
   "source": []
  },
  {
   "cell_type": "code",
   "execution_count": 39,
   "metadata": {},
   "outputs": [
    {
     "name": "stdout",
     "output_type": "stream",
     "text": [
      "\n",
      "This is muliple line string using escape character. Escape is introduced as when line is broke in this text\n",
      "There is no problem \n",
      "Nothing will break\n",
      "Keep writing withing this trippled quoted block\n",
      "\n"
     ]
    }
   ],
   "source": [
    "#This is one line comment\n",
    "'''aaa\n",
    "a\n",
    "a\n",
    "a\n",
    "\n",
    "'''\n",
    "\n",
    "long_string =\"\"\"\n",
    "This is muliple line string using escape character. Escape is introduced as when line is broke in this text\n",
    "There is no problem \n",
    "Nothing will break\n",
    "Keep writing withing this trippled quoted block\n",
    "\"\"\"\n",
    "\n",
    "print (long_string)"
   ]
  },
  {
   "cell_type": "code",
   "execution_count": null,
   "metadata": {},
   "outputs": [],
   "source": []
  }
 ],
 "metadata": {
  "kernelspec": {
   "display_name": "Python 3",
   "language": "python",
   "name": "python3"
  },
  "language_info": {
   "codemirror_mode": {
    "name": "ipython",
    "version": 3
   },
   "file_extension": ".py",
   "mimetype": "text/x-python",
   "name": "python",
   "nbconvert_exporter": "python",
   "pygments_lexer": "ipython3",
   "version": "3.8.3"
  }
 },
 "nbformat": 4,
 "nbformat_minor": 2
}
