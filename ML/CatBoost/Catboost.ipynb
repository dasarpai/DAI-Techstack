{
 "cells": [
  {
   "cell_type": "code",
   "execution_count": 1,
   "metadata": {},
   "outputs": [
    {
     "name": "stdout",
     "output_type": "stream",
     "text": [
      "Collecting catboost\n",
      "  Downloading https://files.pythonhosted.org/packages/be/60/7cc3411e1262ae2b5a000dda8bb9fab3fb8c35ebf9e1a2423fcfd107c4d3/catboost-0.20.1-cp37-none-win_amd64.whl (63.1MB)\n",
      "Requirement already satisfied: graphviz in d:\\users\\admin\\anaconda3\\lib\\site-packages (from catboost) (0.13)\n",
      "Requirement already satisfied: matplotlib in d:\\users\\admin\\anaconda3\\lib\\site-packages (from catboost) (3.0.2)\n",
      "Requirement already satisfied: six in d:\\users\\admin\\anaconda3\\lib\\site-packages (from catboost) (1.12.0)\n",
      "Collecting pandas>=0.24.0 (from catboost)\n",
      "  Downloading https://files.pythonhosted.org/packages/02/d0/1e8e60e61e748338e3a40e42f5dfeee63ccdecfc4f0894122b890bfb009a/pandas-0.25.3-cp37-cp37m-win_amd64.whl (9.2MB)\n",
      "Requirement already satisfied: numpy>=1.16.0 in c:\\users\\admin\\appdata\\roaming\\python\\python37\\site-packages (from catboost) (1.17.4)\n",
      "Collecting plotly (from catboost)\n",
      "  Downloading https://files.pythonhosted.org/packages/8e/ce/6ea5683c47b682bffad39ad41d10913141b560b1b875a90dbc6abe3f4fa9/plotly-4.4.1-py2.py3-none-any.whl (7.3MB)\n",
      "Requirement already satisfied: scipy in d:\\users\\admin\\anaconda3\\lib\\site-packages (from catboost) (1.1.0)\n",
      "Requirement already satisfied: cycler>=0.10 in d:\\users\\admin\\anaconda3\\lib\\site-packages (from matplotlib->catboost) (0.10.0)\n",
      "Requirement already satisfied: kiwisolver>=1.0.1 in d:\\users\\admin\\anaconda3\\lib\\site-packages (from matplotlib->catboost) (1.0.1)\n",
      "Requirement already satisfied: pyparsing!=2.0.4,!=2.1.2,!=2.1.6,>=2.0.1 in d:\\users\\admin\\anaconda3\\lib\\site-packages (from matplotlib->catboost) (2.3.0)\n",
      "Requirement already satisfied: python-dateutil>=2.1 in d:\\users\\admin\\anaconda3\\lib\\site-packages (from matplotlib->catboost) (2.7.5)\n",
      "Requirement already satisfied: pytz>=2017.2 in d:\\users\\admin\\anaconda3\\lib\\site-packages (from pandas>=0.24.0->catboost) (2018.7)\n",
      "Collecting retrying>=1.3.3 (from plotly->catboost)\n",
      "Requirement already satisfied: setuptools in d:\\users\\admin\\anaconda3\\lib\\site-packages (from kiwisolver>=1.0.1->matplotlib->catboost) (42.0.2)\n",
      "Installing collected packages: pandas, retrying, plotly, catboost\n",
      "  Found existing installation: pandas 0.23.4\n",
      "    Uninstalling pandas-0.23.4:\n"
     ]
    },
    {
     "name": "stderr",
     "output_type": "stream",
     "text": [
      "Could not install packages due to an EnvironmentError: [WinError 5] Access is denied: 'd:\\\\users\\\\admin\\\\anaconda3\\\\lib\\\\site-packages\\\\pandas\\\\io\\\\msgpack\\\\_packer.cp37-win_amd64.pyd'\n",
      "Consider using the `--user` option or check the permissions.\n",
      "\n"
     ]
    }
   ],
   "source": [
    "!pip install catboost"
   ]
  },
  {
   "cell_type": "code",
   "execution_count": null,
   "metadata": {},
   "outputs": [],
   "source": []
  }
 ],
 "metadata": {
  "kernelspec": {
   "display_name": "Python 3",
   "language": "python",
   "name": "python3"
  },
  "language_info": {
   "codemirror_mode": {
    "name": "ipython",
    "version": 3
   },
   "file_extension": ".py",
   "mimetype": "text/x-python",
   "name": "python",
   "nbconvert_exporter": "python",
   "pygments_lexer": "ipython3",
   "version": "3.7.1"
  }
 },
 "nbformat": 4,
 "nbformat_minor": 2
}
