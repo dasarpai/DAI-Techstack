{
 "cells": [
  {
   "cell_type": "code",
   "execution_count": 52,
   "metadata": {},
   "outputs": [
    {
     "name": "stdout",
     "output_type": "stream",
     "text": [
      "\t\n",
      "1 \t\n",
      "2 1 \t\n",
      "3 2 1 \t\n",
      "4 3 2 1 \t\n",
      "5 4 3 2 1 \t\n",
      "6 5 4 3 2 1 \t\n",
      "7 6 5 4 3 2 1 \t\n",
      "8 7 6 5 4 3 2 1 \t\n",
      "9 8 7 6 5 4 3 2 1 \t\n"
     ]
    }
   ],
   "source": [
    "for num in range(10):\n",
    "    for i in range(num):\n",
    "        print (num-i, end=\" \") #print number\n",
    "    # new line after each row to display pattern correctly\n",
    "    print(\"\\t\")"
   ]
  },
  {
   "cell_type": "code",
   "execution_count": null,
   "metadata": {},
   "outputs": [],
   "source": []
  },
  {
   "cell_type": "code",
   "execution_count": 36,
   "metadata": {},
   "outputs": [
    {
     "name": "stdout",
     "output_type": "stream",
     "text": [
      "\t\n",
      "1 \t\n",
      "2 2 \t\n",
      "3 3 3 \t\n",
      "4 4 4 4 \t\n",
      "5 5 5 5 5 \t\n",
      "6 6 6 6 6 6 \t\n",
      "7 7 7 7 7 7 7 \t\n",
      "8 8 8 8 8 8 8 8 \t\n",
      "9 9 9 9 9 9 9 9 9 \t\n"
     ]
    }
   ],
   "source": [
    "for num in range(10):\n",
    "    for i in range(num):\n",
    "        print (num, end=\" \") #print number\n",
    "    # new line after each row to display pattern correctly\n",
    "    print(\"\\t\")"
   ]
  },
  {
   "cell_type": "code",
   "execution_count": 35,
   "metadata": {},
   "outputs": [
    {
     "name": "stdout",
     "output_type": "stream",
     "text": [
      "1 \n",
      "1 2 \n",
      "1 2 3 \n",
      "1 2 3 4 \n",
      "1 2 3 4 5 \n"
     ]
    }
   ],
   "source": [
    "lastNumber = 6\n",
    "for row in range(1, lastNumber):\n",
    "    for column in range(1, row + 1):\n",
    "        print(column, end=' ')\n",
    "    print(\"\")"
   ]
  },
  {
   "cell_type": "code",
   "execution_count": 54,
   "metadata": {},
   "outputs": [
    {
     "name": "stdout",
     "output_type": "stream",
     "text": [
      "1 \n",
      "1 2 \n",
      "1 2 3 \n",
      "1 2 3 4 \n",
      "1 2 3 4 5 \n",
      "1 2 3 4 5 6 \n",
      "1 2 3 4 5 6 7 \n",
      "1 2 3 4 5 6 7 8 \n",
      "1 2 3 4 5 6 7 8 9 \n"
     ]
    }
   ],
   "source": [
    "lastNumber = 10\n",
    "for row in range(1, lastNumber):\n",
    "    for column in range(1, row + 1):\n",
    "        print(column, end=' ')\n",
    "    print(\"\")"
   ]
  },
  {
   "cell_type": "code",
   "execution_count": 55,
   "metadata": {},
   "outputs": [
    {
     "name": "stdout",
     "output_type": "stream",
     "text": [
      "Third Number Pattern\n",
      "1 \n",
      "2 1 \n",
      "3 2 1 \n",
      "4 3 2 1 \n",
      "5 4 3 2 1 \n"
     ]
    }
   ],
   "source": [
    "print(\"Third Number Pattern\")\n",
    "lastNumber = 6\n",
    "for row in range(1, lastNumber):\n",
    "    for column in range(row, 0, -1):\n",
    "        print(column, end=' ')\n",
    "    print(\"\")"
   ]
  },
  {
   "cell_type": "code",
   "execution_count": 56,
   "metadata": {},
   "outputs": [
    {
     "name": "stdout",
     "output_type": "stream",
     "text": [
      "Fourth Number Pattern\n",
      "   1 \n",
      "   2    1 \n",
      "   4    2    1 \n",
      "   8    4    2    1 \n",
      "  16    8    4    2    1 \n",
      "  32   16    8    4    2    1 \n",
      "  64   32   16    8    4    2    1 \n",
      " 128   64   32   16    8    4    2    1 \n"
     ]
    }
   ],
   "source": [
    "print(\"Fourth Number Pattern\")\n",
    "lastNumber = 9\n",
    "for i in range(1, lastNumber):\n",
    "    for j in range(-1+i, -1, -1):\n",
    "        print(format(2**j, \"4d\"), end=' ')\n",
    "    print(\"\")"
   ]
  },
  {
   "cell_type": "code",
   "execution_count": 57,
   "metadata": {},
   "outputs": [
    {
     "name": "stdout",
     "output_type": "stream",
     "text": [
      "Fifth Number Pattern\n",
      "   1 \n",
      "   1    2    1 \n",
      "   1    2    4    2    1 \n",
      "   1    2    4    8    4    2    1 \n",
      "   1    2    4    8   16    8    4    2    1 \n",
      "   1    2    4    8   16   32   16    8    4    2    1 \n",
      "   1    2    4    8   16   32   64   32   16    8    4    2    1 \n",
      "   1    2    4    8   16   32   64  128   64   32   16    8    4    2    1 \n"
     ]
    }
   ],
   "source": [
    "print(\"Fifth Number Pattern\")\n",
    "lastNumber = 9\n",
    "for i in range(1, lastNumber):\n",
    "    for i in range(0, i, 1):\n",
    "        print(format(2**i, \"4d\"), end=' ')\n",
    "    for i in range(-1+i, -1, -1):\n",
    "        print(format(2**i, \"4d\"), end=' ')\n",
    "    print(\"\")"
   ]
  },
  {
   "cell_type": "code",
   "execution_count": 58,
   "metadata": {},
   "outputs": [
    {
     "name": "stdout",
     "output_type": "stream",
     "text": [
      "Sixth Number Pattern\n",
      "1 \n",
      "2 3 4 \n",
      "5 6 7 8 9 \n"
     ]
    }
   ],
   "source": [
    "print(\"Sixth Number Pattern\")\n",
    "currentNumber = 1\n",
    "stop = 2\n",
    "rows = 3 # Rows you want in your pattern\n",
    "\n",
    "for i in range(rows):\n",
    "    for column in range(1, stop):\n",
    "        print(currentNumber, end=' ')\n",
    "        currentNumber += 1\n",
    "    print(\"\")\n",
    "    stop += 2"
   ]
  },
  {
   "cell_type": "code",
   "execution_count": 59,
   "metadata": {},
   "outputs": [
    {
     "name": "stdout",
     "output_type": "stream",
     "text": [
      "Number Pattern Example 7\n",
      "1 \n",
      "3 2 \n",
      "6 5 4 \n",
      "10 9 8 7 \n"
     ]
    }
   ],
   "source": [
    "print(\"Number Pattern Example 7\")\n",
    "start = 1\n",
    "stop = 2\n",
    "currentNumber = stop\n",
    "for row in range(2, 6):\n",
    "    for col in range(start, stop):\n",
    "        currentNumber -= 1\n",
    "        print (currentNumber, end=' ')\n",
    "    print(\"\")\n",
    "    start = stop\n",
    "    stop +=row\n",
    "    currentNumber = stop"
   ]
  },
  {
   "cell_type": "code",
   "execution_count": 68,
   "metadata": {},
   "outputs": [
    {
     "name": "stdout",
     "output_type": "stream",
     "text": [
      "Print full Triangle pyramid using stars \n",
      "xxxxxxxxxxxxxxxxxxxxxxxxxxxxxxxx*  \n",
      "xxxxxxxxxxxxxxxxxxxxxxxxxxxxxxx* *  \n",
      "xxxxxxxxxxxxxxxxxxxxxxxxxxxxxx* * *  \n",
      "xxxxxxxxxxxxxxxxxxxxxxxxxxxxx* * * *  \n",
      "xxxxxxxxxxxxxxxxxxxxxxxxxxxx* * * * *  \n",
      "xxxxxxxxxxxxxxxxxxxxxxxxxxx* * * * * *  \n",
      "xxxxxxxxxxxxxxxxxxxxxxxxxx* * * * * * *  \n",
      "xxxxxxxxxxxxxxxxxxxxxxxxx* * * * * * * *  \n",
      "xxxxxxxxxxxxxxxxxxxxxxxx* * * * * * * * *  \n",
      "xxxxxxxxxxxxxxxxxxxxxxx* * * * * * * * * *  \n",
      "xxxxxxxxxxxxxxxxxxxxxx* * * * * * * * * * *  \n",
      "xxxxxxxxxxxxxxxxxxxxx* * * * * * * * * * * *  \n",
      "xxxxxxxxxxxxxxxxxxxx* * * * * * * * * * * * *  \n",
      "xxxxxxxxxxxxxxxxxxx* * * * * * * * * * * * * *  \n",
      "xxxxxxxxxxxxxxxxxx* * * * * * * * * * * * * * *  \n",
      "xxxxxxxxxxxxxxxxx* * * * * * * * * * * * * * * *  \n",
      "xxxxxxxxxxxxxxxx* * * * * * * * * * * * * * * * *  \n"
     ]
    }
   ],
   "source": [
    "print(\"Print full Triangle pyramid using stars \")\n",
    "size = 17\n",
    "m = (2 * size) - 2\n",
    "for i in range(0, size):\n",
    "    for j in range(0, m):\n",
    "        print(end=\"x\")\n",
    "    m = m - 1 # decrementing m after each loop\n",
    "    for j in range(0, i + 1):\n",
    "        # printing full Triangle pyramid using stars\n",
    "        print(\"*\", end=' ')\n",
    "    print(\" \")"
   ]
  },
  {
   "cell_type": "code",
   "execution_count": 69,
   "metadata": {},
   "outputs": [
    {
     "name": "stdout",
     "output_type": "stream",
     "text": [
      "Program to print half pyramid: \n",
      "Enter number of rows 10\n",
      "* \n",
      "* * \n",
      "* * * \n",
      "* * * * \n",
      "* * * * * \n",
      "* * * * * * \n",
      "* * * * * * * \n",
      "* * * * * * * * \n",
      "* * * * * * * * * \n",
      "* * * * * * * * * * \n"
     ]
    }
   ],
   "source": [
    "print(\"Program to print half pyramid: \");\n",
    "\n",
    "rows = input(\"Enter number of rows \")\n",
    "rows = int (rows)\n",
    "\n",
    "for i in range (0, rows):\n",
    "    for j in range(0, i + 1):\n",
    "        print(\"*\", end=' ')\n",
    "\n",
    "    print(\"\\r\")"
   ]
  },
  {
   "cell_type": "code",
   "execution_count": 70,
   "metadata": {},
   "outputs": [
    {
     "name": "stdout",
     "output_type": "stream",
     "text": [
      "Program to print half pyramid: \n",
      "Enter number of rows 6\n",
      "* * * * * * * \n",
      "* * * * * * \n",
      "* * * * * \n",
      "* * * * \n",
      "* * * \n",
      "* * \n"
     ]
    }
   ],
   "source": [
    "print(\"Program to print half pyramid: \")\n",
    "\n",
    "rows = input(\"Enter number of rows \")\n",
    "rows = int (rows)\n",
    "\n",
    "for i in range (rows,0,-1):\n",
    "    for j in range(0, i + 1):\n",
    "        print(\"*\", end=' ')\n",
    "\n",
    "    print(\"\\r\")"
   ]
  },
  {
   "cell_type": "code",
   "execution_count": 71,
   "metadata": {},
   "outputs": [
    {
     "name": "stdout",
     "output_type": "stream",
     "text": [
      "Program to print start pattern: \n",
      "\n",
      "Enter max star to be display on single line6\n",
      "* \n",
      "* * \n",
      "* * * \n",
      "* * * * \n",
      "* * * * * \n",
      "* * * * * * \n",
      "* * * * * \n",
      "* * * * \n",
      "* * * \n",
      "* * \n",
      "* \n",
      "\n"
     ]
    }
   ],
   "source": [
    "print(\"Program to print start pattern: \\n\");\n",
    "\n",
    "rows = input(\"Enter max star to be display on single line\")\n",
    "rows = int (rows)\n",
    "for i in range (0, rows):\n",
    "    for j in range(0, i + 1):\n",
    "        print(\"*\", end=' ')\n",
    "    print(\"\\r\")\n",
    "\n",
    "for i in range (rows, 0, -1):\n",
    "    for j in range(0, i -1):\n",
    "        print(\"*\", end=' ')\n",
    "    print(\"\\r\")"
   ]
  },
  {
   "cell_type": "code",
   "execution_count": 72,
   "metadata": {},
   "outputs": [
    {
     "name": "stdout",
     "output_type": "stream",
     "text": [
      "Program to print half pyramid: \n",
      "Enter number of rows 9\n",
      "0 1 2 3 4 5 6 7 8 9 \n",
      "0 1 2 3 4 5 6 7 8 \n",
      "0 1 2 3 4 5 6 7 \n",
      "0 1 2 3 4 5 6 \n",
      "0 1 2 3 4 5 \n",
      "0 1 2 3 4 \n",
      "0 1 2 3 \n",
      "0 1 2 \n",
      "0 1 \n"
     ]
    }
   ],
   "source": [
    "print(\"Program to print half pyramid: \")\n",
    "\n",
    "rows = input(\"Enter number of rows \")\n",
    "rows = int (rows)\n",
    "\n",
    "for i in range (rows,0,-1):\n",
    "    for j in range(0, i + 1):\n",
    "        print(j, end=' ')\n",
    "\n",
    "    print(\"\\r\")"
   ]
  },
  {
   "cell_type": "code",
   "execution_count": 73,
   "metadata": {},
   "outputs": [
    {
     "name": "stdout",
     "output_type": "stream",
     "text": [
      "Print Alphabets and Letters pattern in python \n",
      "A  \n",
      "B C  \n",
      "D E F  \n",
      "G H I J  \n",
      "K L M N O  \n",
      "P Q R S T U  \n"
     ]
    }
   ],
   "source": [
    "print(\"Print Alphabets and Letters pattern in python \")\n",
    "lastNumber = 6\n",
    "asciiNumber = 65\n",
    "for i in range(0, lastNumber):\n",
    "    for j in range(0, i+1):\n",
    "        character  = chr(asciiNumber)\n",
    "        print(character, end=' ')\n",
    "        asciiNumber+=1\n",
    "    print(\" \")"
   ]
  },
  {
   "cell_type": "code",
   "execution_count": 74,
   "metadata": {},
   "outputs": [
    {
     "name": "stdout",
     "output_type": "stream",
     "text": [
      "####################\n",
      "#########__#########\n",
      "########____########\n",
      "#######______#######\n",
      "######________######\n",
      "#####__________#####\n",
      "####____________####\n",
      "###______________###\n",
      "##________________##\n",
      "#__________________#\n"
     ]
    }
   ],
   "source": [
    "a=20 # or  a=int(input()) if it  is a user input question\n",
    "print(\"#\"*a,end=\"\\n\") #its the first line of pattern\n",
    "i=(a//2)-1\n",
    "j=2\n",
    "while(i!=0):\n",
    "    while(j<=(a-2)):\n",
    "        print(\"#\"*i,end=\"\")\n",
    "        print(\"_\"*j,end=\"\")\n",
    "        print(\"#\"*i,end=\"\\n\")\n",
    "        i=i-1\n",
    "        j=j+2"
   ]
  },
  {
   "cell_type": "code",
   "execution_count": 76,
   "metadata": {},
   "outputs": [
    {
     "name": "stdout",
     "output_type": "stream",
     "text": [
      "****\t\n",
      "***\t\n",
      "**\t\n",
      "*\t\n"
     ]
    }
   ],
   "source": [
    "for i in range(0,4):\n",
    "    for j in range(4-i):\n",
    "        print(\"*\", end=\"\")\n",
    "    print(\"\\t\")"
   ]
  },
  {
   "cell_type": "code",
   "execution_count": 78,
   "metadata": {},
   "outputs": [
    {
     "name": "stdout",
     "output_type": "stream",
     "text": [
      "*\n",
      "*\n",
      "*\n",
      "*\n",
      "*\n",
      "*\n",
      "*\n",
      "*\n",
      "*\n",
      "*\n"
     ]
    }
   ],
   "source": [
    "for i in range(1, 5) :\n",
    "       for j in range(i) :\n",
    "             print (\"*\")"
   ]
  },
  {
   "cell_type": "code",
   "execution_count": 81,
   "metadata": {},
   "outputs": [
    {
     "name": "stdout",
     "output_type": "stream",
     "text": [
      "5 4 3 2 1 1 2 3 4 5 \n",
      "\n",
      "5 4 3 2         2 3 4 5 \n",
      "\n",
      "5 4 3                 3 4 5 \n",
      "\n",
      "5 4                         4 5 \n",
      "\n",
      "5                                 5 \n",
      "\n",
      "                                        \n",
      "\n"
     ]
    }
   ],
   "source": [
    "for i in range(0,6):\n",
    "    for j in range(5,i,-1):\n",
    "        print(j,'',end='')\n",
    "    for l in range(i):\n",
    "        print('        ',end='')\n",
    "    for k in range(i+1,6):\n",
    "        print(k,'',end='')\n",
    "    print('\\n')"
   ]
  },
  {
   "cell_type": "code",
   "execution_count": 82,
   "metadata": {},
   "outputs": [
    {
     "name": "stdout",
     "output_type": "stream",
     "text": [
      "Enter Limit: \n",
      "6\n",
      "1\n",
      "33\n",
      "555\n",
      "7777\n",
      "99999\n",
      "111111111111\n"
     ]
    }
   ],
   "source": [
    "print(\"Enter Limit: \")\n",
    "n = int(input())\n",
    "i = 1\n",
    "while(i<=n):\n",
    "    j = 1\n",
    "    while(j<=i):\n",
    "        print((i*2-1), end=\"\")\n",
    "        j  = j + 1\n",
    "    i = i + 1\n",
    "    print()"
   ]
  },
  {
   "cell_type": "code",
   "execution_count": 83,
   "metadata": {},
   "outputs": [
    {
     "name": "stdout",
     "output_type": "stream",
     "text": [
      "* \n",
      "* * \n",
      "* * * \n",
      "* * * * \n",
      "* * * * * \n"
     ]
    }
   ],
   "source": [
    "n = 5\n",
    "for j in range(1,n+1):\n",
    "    print(\"* \" * j)"
   ]
  },
  {
   "cell_type": "code",
   "execution_count": 88,
   "metadata": {},
   "outputs": [
    {
     "name": "stdout",
     "output_type": "stream",
     "text": [
      "Enter limit: \n",
      "5\n",
      " 1 \n",
      " 2 \n",
      " 3 \n",
      " 4 \n",
      " 5 \n"
     ]
    }
   ],
   "source": [
    "print(\"Enter limit: \")\n",
    "n = int(input())\n",
    "i  = 1\n",
    "while(i <= n):\n",
    "    j = 1\n",
    "    if (j == j):\n",
    "        print(format(i, \"2d\"), end=' ')\n",
    "    else:\n",
    "        print(format(j, \"2d\"), end=' ')\n",
    "    j = j + 1\n",
    "    print()\n",
    "    i = i + 1"
   ]
  },
  {
   "cell_type": "code",
   "execution_count": 89,
   "metadata": {},
   "outputs": [
    {
     "name": "stdout",
     "output_type": "stream",
     "text": [
      "1\n",
      "22\n",
      "333\n",
      "4444\n",
      "55555\n"
     ]
    }
   ],
   "source": [
    "for i in range(1,6):\n",
    "    for j in range (1,6):\n",
    "        if j<=i:\n",
    "            print(i,end='')\n",
    "    print()"
   ]
  },
  {
   "cell_type": "code",
   "execution_count": 90,
   "metadata": {},
   "outputs": [
    {
     "name": "stdout",
     "output_type": "stream",
     "text": [
      "enter a number:6\n",
      "1 \n",
      "2 2 \n",
      "3 3 3 \n",
      "4 4 4 4 \n",
      "5 5 5 5 5 \n",
      "6 6 6 6 6 6 \n"
     ]
    }
   ],
   "source": [
    "n=int(input(\"enter a number:\"))\n",
    "for i in range (1,n+1):\n",
    "     for j in range(1,i+1):\n",
    "        print(i,end=\" \")\n",
    "     print( )"
   ]
  },
  {
   "cell_type": "code",
   "execution_count": 91,
   "metadata": {},
   "outputs": [
    {
     "name": "stdout",
     "output_type": "stream",
     "text": [
      "*\n",
      "**\n",
      "**\n",
      "**\n",
      "**\n",
      "**\n"
     ]
    }
   ],
   "source": [
    "for i in range(1,n+1):\n",
    "    for j in range(1):\n",
    "        if i==1:\n",
    "            print(i*\"*\",end=\"\")\n",
    "        else:\n",
    "            print(2*\"*\",end=\"\")\n",
    "    print()"
   ]
  },
  {
   "cell_type": "code",
   "execution_count": 92,
   "metadata": {},
   "outputs": [
    {
     "name": "stdout",
     "output_type": "stream",
     "text": [
      "10000\n",
      "01000\n",
      "00100\n",
      "00010\n",
      "00001\n"
     ]
    }
   ],
   "source": [
    "n=5\n",
    "for i in range(n):\n",
    "    for j in range(n):\n",
    "        if j==i:\n",
    "            print(\"1\",end=\"\")\n",
    "        else:\n",
    "            print(\"0\",end=\"\")\n",
    "    print()"
   ]
  },
  {
   "cell_type": "code",
   "execution_count": 93,
   "metadata": {},
   "outputs": [
    {
     "name": "stdout",
     "output_type": "stream",
     "text": [
      "*\n",
      "**\n",
      "***\n",
      "****\n",
      "*****\n"
     ]
    }
   ],
   "source": [
    "n=5\n",
    "for i in range(n):\n",
    "    for j in range(i+1):\n",
    "        print(\"*\",end=\"\")\n",
    "    print()"
   ]
  },
  {
   "cell_type": "code",
   "execution_count": 94,
   "metadata": {},
   "outputs": [
    {
     "name": "stdout",
     "output_type": "stream",
     "text": [
      "*\n",
      "***\n",
      "*****\n",
      "*******\n",
      "*********\n"
     ]
    }
   ],
   "source": [
    "n=5\n",
    "for i in range(1,n+1):\n",
    "    for j in range(1):\n",
    "        print((2*i-1)*\"*\",end=\"\")\n",
    "    print()"
   ]
  },
  {
   "cell_type": "code",
   "execution_count": 96,
   "metadata": {},
   "outputs": [
    {
     "name": "stdout",
     "output_type": "stream",
     "text": [
      "* * * \n",
      "* * \n",
      "* \n"
     ]
    }
   ],
   "source": [
    "for i in range(3):\n",
    "    for j in range(3-i):\n",
    "        print(\"*\", end=\" \")\n",
    "    print(\"\")"
   ]
  },
  {
   "cell_type": "code",
   "execution_count": 99,
   "metadata": {},
   "outputs": [
    {
     "name": "stdout",
     "output_type": "stream",
     "text": [
      "1 \r\n",
      "1 \r\n",
      "0 \r\n",
      "1 \r\n",
      "0 \r\n",
      "1 \r\n",
      "1 \r\n",
      "0 \r\n",
      "1 \r\n",
      "0 \r\n",
      "1 \r\n",
      "0 \r\n",
      "1 \r\n",
      "0 \r\n",
      "1 \r\n"
     ]
    }
   ],
   "source": [
    "def pypart(n): \n",
    "    for i in range(0, n): \n",
    "        for j in range(0, i+1): \n",
    "            if j % 2 == 1 :\n",
    "                print(\"0 \",end=\"\") \n",
    "            else :\n",
    "                print(\"1 \",end=\"\") \n",
    "                # ending line after each row \n",
    "            print(\"\\r\") \n",
    "\n",
    "#Driver Code \n",
    "n = 5\n",
    "pypart(n)"
   ]
  },
  {
   "cell_type": "code",
   "execution_count": 101,
   "metadata": {},
   "outputs": [
    {
     "name": "stdout",
     "output_type": "stream",
     "text": [
      "Program to print start pattern: \n",
      "\n",
      "Enter max star to be display on single line5\n",
      "* \n",
      "* * \n",
      "* * * \n",
      "* * * * \n",
      "* * * * * \n",
      "* * * * \n",
      "* * * \n",
      "* * \n",
      "* \n",
      "\n"
     ]
    }
   ],
   "source": [
    "print(\"Program to print start pattern: \\n\");\n",
    "rows = input(\"Enter max star to be display on single line\")\n",
    "rows = int (rows)\n",
    "for i in range (0, rows):\n",
    "    for j in range(0, i + 1):\n",
    "        print(\"*\", end=' ')\n",
    "    print(\"\\r\")\n",
    "for i in range (rows, 0, -1):\n",
    "    for j in range(0, i -1):\n",
    "        print(\"*\", end=' ')\n",
    "    print(\"\\r\")"
   ]
  },
  {
   "cell_type": "code",
   "execution_count": 102,
   "metadata": {},
   "outputs": [
    {
     "name": "stdout",
     "output_type": "stream",
     "text": [
      "enter a number of row5\n",
      "1\n",
      "222\n",
      "33333\n",
      "4444444\n",
      "555555555\n"
     ]
    }
   ],
   "source": [
    "n=int(input(\"enter a number of row\"))\n",
    "count=1\n",
    "for row in range(1,n+1):\n",
    "        for col in range(1,row+count):\n",
    "            print(row,end=\"\")\n",
    "        count=count+1\n",
    "        print()"
   ]
  },
  {
   "cell_type": "code",
   "execution_count": 103,
   "metadata": {},
   "outputs": [
    {
     "name": "stdout",
     "output_type": "stream",
     "text": [
      "4444\n",
      "4333\n",
      "4322\n",
      "4321\n"
     ]
    }
   ],
   "source": [
    "for i in range(4):\n",
    "  current=4\n",
    "  increment=0\n",
    "  for j in range(4):\n",
    "    print(current-increment,end=\"\")\n",
    "    if(increment<i):\n",
    "      increment=increment+1\n",
    "  print()"
   ]
  },
  {
   "cell_type": "code",
   "execution_count": 104,
   "metadata": {},
   "outputs": [
    {
     "name": "stdout",
     "output_type": "stream",
     "text": [
      "*\n",
      "**\n",
      "***\n"
     ]
    }
   ],
   "source": [
    "counter = 1\n",
    "while counter < 4:\n",
    "      print(counter * \"*\")\n",
    "      counter +=1"
   ]
  },
  {
   "cell_type": "code",
   "execution_count": 105,
   "metadata": {},
   "outputs": [
    {
     "name": "stdout",
     "output_type": "stream",
     "text": [
      "\t\t\t\t1 \t\n",
      "\t\t\t3 \t2 \t1 \t\n",
      "\t\t5 \t4 \t3 \t2 \t1 \t\n",
      "\t7 \t6 \t5 \t4 \t3 \t2 \t1 \t\n",
      "9 \t8 \t7 \t6 \t5 \t4 \t3 \t2 \t1 \t\n"
     ]
    }
   ],
   "source": [
    "for i in range (1,6):\n",
    "    for t in range (i,5):\n",
    "        print('\\t', end=\"\")\n",
    "    for j in range (0,(2*i-1)):\n",
    "        print(2*i-1-j, \"\\t\", end=\"\")\n",
    "    print(\"\")"
   ]
  },
  {
   "cell_type": "code",
   "execution_count": 106,
   "metadata": {},
   "outputs": [
    {
     "name": "stdout",
     "output_type": "stream",
     "text": [
      "enter a num5\n",
      "*\n",
      "**\n",
      "***\n",
      "****\n",
      "*****\n",
      "****\n",
      "***\n",
      "**\n",
      "*\n",
      "\n"
     ]
    }
   ],
   "source": [
    "n = int(input(\"enter a num\"))\n",
    "i=1\n",
    "while i<=n :\n",
    "    print(\"*\"*i)\n",
    "    i+=1\n",
    "j=1\n",
    "while j<=n :\n",
    "    print(\"*\"*(n-j))\n",
    "    j+=1"
   ]
  },
  {
   "cell_type": "code",
   "execution_count": 107,
   "metadata": {},
   "outputs": [
    {
     "name": "stdout",
     "output_type": "stream",
     "text": [
      "####\n",
      "####\n",
      "####\n",
      "####\n",
      "####\n"
     ]
    }
   ],
   "source": [
    "for i in range(1,6):\n",
    "    print(\"####\")"
   ]
  },
  {
   "cell_type": "code",
   "execution_count": 108,
   "metadata": {},
   "outputs": [
    {
     "name": "stdout",
     "output_type": "stream",
     "text": [
      "enter no.4\n",
      "0\n",
      "101\n",
      "21012\n",
      "3210123\n",
      "432101234\n"
     ]
    }
   ],
   "source": [
    "n=int(input(\"enter no.\"))\n",
    "for i in range(0,n+1):\n",
    "    for j in range(i,0,-1):\n",
    "        print(j,end=\"\")\n",
    "    print(0,end=\"\")\n",
    "    for k in range(1,i+1):\n",
    "        print(k,end=\"\")\n",
    "    print()"
   ]
  },
  {
   "cell_type": "code",
   "execution_count": 110,
   "metadata": {},
   "outputs": [
    {
     "name": "stdout",
     "output_type": "stream",
     "text": [
      "1 2 3 4 5 6 \n",
      "2 3 4 5 6 \n",
      "3 4 5 6 \n",
      "4 5 6 \n",
      "5 6 \n",
      "6 \n"
     ]
    }
   ],
   "source": [
    "last_num = 7\n",
    "for i in range (1, last_num):\n",
    "    for j in range(i, last_num, +1):\n",
    "        print( j, end= \" \")\n",
    "    print()"
   ]
  },
  {
   "cell_type": "code",
   "execution_count": 111,
   "metadata": {},
   "outputs": [
    {
     "name": "stdout",
     "output_type": "stream",
     "text": [
      "enter no.5\n",
      "1 3 5 \n",
      "3 5 \n",
      "5 \n"
     ]
    }
   ],
   "source": [
    "n=int(input(\"enter no.\"))\n",
    "for i in range(1,n+1,2):\n",
    "    for j in range(i,n+1,2):\n",
    "        print(j,end=\" \")\n",
    "    print()"
   ]
  },
  {
   "cell_type": "code",
   "execution_count": 113,
   "metadata": {},
   "outputs": [
    {
     "name": "stdout",
     "output_type": "stream",
     "text": [
      "123456\n",
      "23456\n",
      "3456\n",
      "456\n",
      "56\n",
      "6\n"
     ]
    }
   ],
   "source": [
    "for i in range(1,7):\n",
    "    for j in range(i,7):\n",
    "        print(j,end=\"\")\n",
    "    print()"
   ]
  },
  {
   "cell_type": "code",
   "execution_count": 114,
   "metadata": {},
   "outputs": [
    {
     "name": "stdout",
     "output_type": "stream",
     "text": [
      "enter no. of rows5\n",
      "1 \n",
      "2 3 4 \n",
      "5 6 7 8 9 \n",
      "10 11 12 13 14 15 16 \n",
      "17 18 19 20 21 22 23 24 25 \n"
     ]
    }
   ],
   "source": [
    "x = int(input(\"enter no. of rows\"))    \n",
    "n=1\n",
    "for i in range(1,x*2,2):\n",
    "    for j in range(0,i):\n",
    "        print(n,\"\",end=\"\")\n",
    "        n=n+1\n",
    "    print()"
   ]
  },
  {
   "cell_type": "code",
   "execution_count": 115,
   "metadata": {},
   "outputs": [
    {
     "name": "stdout",
     "output_type": "stream",
     "text": [
      "*******\n",
      " *****\n",
      "  ***\n",
      "   *\n",
      "  ***\n",
      " *****\n",
      "*******\n"
     ]
    }
   ],
   "source": [
    "s1 = 0\n",
    "e1 = 7\n",
    "s2 = 0\n",
    "e2 = 0\n",
    "for x in range(4):\n",
    "    for y in range(s2,e2):\n",
    "        print(\" \",end=\"\")\n",
    "    for z in range(s1,e1):\n",
    "        print(\"*\",end=\"\")\n",
    "    print()\n",
    "    s1 += 1\n",
    "    e1 -= 1\n",
    "    e2 += 1\n",
    "\n",
    "s1 -= 1\n",
    "e1 += 1\n",
    "e2 -= 1\n",
    "\n",
    "for x in range(3):\n",
    "\n",
    "    s1 -= 1\n",
    "    e1 += 1\n",
    "    e2 -= 1\n",
    "\n",
    "    for y in range(s2,e2):\n",
    "        print(\" \",end=\"\")\n",
    "    for z in range(s1,e1):\n",
    "        print(\"*\",end=\"\")\n",
    "    print()"
   ]
  },
  {
   "cell_type": "code",
   "execution_count": 116,
   "metadata": {},
   "outputs": [
    {
     "name": "stdout",
     "output_type": "stream",
     "text": [
      "*********\n",
      "*******\n",
      "*****\n",
      "***\n",
      "*\n",
      "***\n",
      "*****\n",
      "*******\n",
      "*********\n"
     ]
    }
   ],
   "source": [
    "for i in range(10,0,-1):\n",
    "\tif i % 2 !=0:\n",
    "\t\tprint(i * \"*\")\n",
    "for i in range(2,10):\n",
    "\tif i % 2 !=0:\n",
    "\t\tprint(i * \"*\")"
   ]
  },
  {
   "cell_type": "code",
   "execution_count": 117,
   "metadata": {},
   "outputs": [
    {
     "name": "stdout",
     "output_type": "stream",
     "text": [
      "Enter The Numbers Of Rows 6\n",
      "* * * * * * \n",
      "* * * * * \n",
      "* * * * \n",
      "* * * \n",
      "* * \n",
      "* \n",
      "* \n",
      "* * \n",
      "* * * \n",
      "* * * * \n",
      "* * * * * \n",
      "* * * * * * \n"
     ]
    }
   ],
   "source": [
    "# star Program \n",
    "def first(n):\n",
    "\t\tfor i in range(0, n):\t\t\n",
    "\t\t\tfor j in range(i,n ):\n",
    "\t\t\t\tprint('* ',end='') \n",
    "\n",
    "\t\t\tprint(\"\\r\")\t\t\n",
    "\n",
    "\t\tfor i in range(0, n):\t\t\n",
    "\t\t\tfor j in range(0, i+1):\n",
    "\t\t\t\tprint('* ',end='') \n",
    "\n",
    "\t\t\tprint(\"\\r\")\t\t\n",
    "\n",
    "\n",
    "inp = input('Enter The Numbers Of Rows ')\n",
    "inp = int(inp) \n",
    "first(inp)"
   ]
  },
  {
   "cell_type": "code",
   "execution_count": 118,
   "metadata": {},
   "outputs": [
    {
     "name": "stdout",
     "output_type": "stream",
     "text": [
      "enter a number : 5\n",
      "*****\n",
      "****\n",
      "***\n",
      "**\n",
      "*\n",
      "*\n",
      "**\n",
      "***\n",
      "****\n",
      "*****\n"
     ]
    }
   ],
   "source": [
    "n=int(input(\"enter a number : \"))\n",
    "for i in range(n,0,-1):\n",
    "    print(\"*\"*i)\n",
    "for j in range(1,n+1):\n",
    "    print(\"*\"*j)"
   ]
  },
  {
   "cell_type": "code",
   "execution_count": 119,
   "metadata": {},
   "outputs": [
    {
     "name": "stdout",
     "output_type": "stream",
     "text": [
      "enter number : 5\n",
      "*****\n",
      "****\n",
      "***\n",
      "**\n",
      "*\n",
      "*\n",
      "**\n",
      "***\n",
      "****\n",
      "*****\n"
     ]
    }
   ],
   "source": [
    "n=int(input(\"enter number : \"))\n",
    "for i in range(n,0,-1):\n",
    "    print(\"*\"*i)\n",
    "for j in range(1,n+1):\n",
    "    print(\"*\"*j)"
   ]
  },
  {
   "cell_type": "code",
   "execution_count": 120,
   "metadata": {},
   "outputs": [
    {
     "name": "stdout",
     "output_type": "stream",
     "text": [
      "enter a number : 5\n",
      "*****\n",
      "***\n",
      "*\n",
      "**\n",
      "****\n"
     ]
    }
   ],
   "source": [
    "n=int(input(\"enter a number : \"))\n",
    "for i in range(n,0,-2):\n",
    "    print(\"*\"*i)\n",
    "for j in range(2,n+1,2):\n",
    "    print(\"*\"*j)"
   ]
  },
  {
   "cell_type": "code",
   "execution_count": 121,
   "metadata": {},
   "outputs": [
    {
     "name": "stdout",
     "output_type": "stream",
     "text": [
      "Enter a number: 6\n",
      "\n",
      "*\n",
      "**\n",
      "***\n",
      "****\n",
      "*****\n",
      "******\n",
      "*****\n",
      "****\n",
      "***\n",
      "**\n",
      "*\n"
     ]
    }
   ],
   "source": [
    "num=int(input('Enter a number: '))\n",
    "\n",
    "while num<=0:\n",
    "    print('Error! Enter a positive number: ')\n",
    "    num=int(input('Enter a number: '))\n",
    "for row in range (num):\n",
    "    for col in range (row):\n",
    "        print('*', end='')\n",
    "    print()\n",
    "for i in range (num,0,-1):\n",
    "    for j in range (i):\n",
    "        print('*', end='')\n",
    "    print()"
   ]
  },
  {
   "cell_type": "code",
   "execution_count": 122,
   "metadata": {},
   "outputs": [
    {
     "name": "stdout",
     "output_type": "stream",
     "text": [
      "enter a num6\n",
      "1\n",
      "12\n",
      "123\n",
      "1234\n",
      "12345\n",
      "123456\n",
      "12345\n",
      "1234\n",
      "123\n",
      "12\n",
      "1\n"
     ]
    }
   ],
   "source": [
    "n = int(input(\"enter a num\"))\n",
    "for i in range(1,n):\n",
    "    for j in range(1,i+1):\n",
    "        print(j,end=\"\")\n",
    "    print()\n",
    "for i in range(n,0,-1):\n",
    "    for j in range(1,i+1):\n",
    "        print(j,end=\"\")\n",
    "    print()"
   ]
  },
  {
   "cell_type": "code",
   "execution_count": 123,
   "metadata": {},
   "outputs": [
    {
     "name": "stdout",
     "output_type": "stream",
     "text": [
      "enter a num6\n",
      "* \n",
      "* * \n",
      "* * * \n",
      "* * * * \n",
      "* * * * * \n",
      "* * * * * * \n",
      "* * * * * \n",
      "* * * * \n",
      "* * * \n",
      "* * \n",
      "* \n",
      "\n"
     ]
    }
   ],
   "source": [
    "n = int(input(\"enter a num\"))\n",
    "i=1\n",
    "while i<=n :\n",
    "    print(\"* \"*i)\n",
    "    i+=1\n",
    "j=1\n",
    "while j<=n :\n",
    "    print(\"* \"*(n-j))\n",
    "    j+=1"
   ]
  },
  {
   "cell_type": "code",
   "execution_count": 124,
   "metadata": {},
   "outputs": [
    {
     "name": "stdout",
     "output_type": "stream",
     "text": [
      "5\n",
      "# \n",
      "## \n",
      "### \n",
      "## \n",
      "# \n"
     ]
    }
   ],
   "source": [
    "n = int(input())\n",
    "k = 0\n",
    "for i in range(n,0,-1):\n",
    "    k += 1 \n",
    "    for j in range(i,0,-1):\n",
    "        if j <= k:\n",
    "            print('#',end = '')\n",
    "    print(' ')"
   ]
  },
  {
   "cell_type": "code",
   "execution_count": 125,
   "metadata": {},
   "outputs": [
    {
     "name": "stdout",
     "output_type": "stream",
     "text": [
      "* \n",
      "* * \n",
      "* * * \n",
      "* * * * \n",
      "* * * * * \n"
     ]
    }
   ],
   "source": [
    "for i in range(1,6):\n",
    "    for j in range(1,i+1):\n",
    "        print(\"*\",end=\" \")\n",
    "    print(\"\")"
   ]
  },
  {
   "cell_type": "code",
   "execution_count": 126,
   "metadata": {},
   "outputs": [
    {
     "name": "stdout",
     "output_type": "stream",
     "text": [
      "* * * * \n",
      "* * * \n",
      "* * \n",
      "* \n"
     ]
    }
   ],
   "source": [
    "for x in range(5,1,-1):\n",
    "    for y in range(1,x):\n",
    "        print(\"*\", end =\" \")\n",
    "    print(\"\")"
   ]
  },
  {
   "cell_type": "code",
   "execution_count": 127,
   "metadata": {},
   "outputs": [
    {
     "name": "stdout",
     "output_type": "stream",
     "text": [
      "AAAA****AAAA\n",
      "BBB***BBB\n",
      "CC**CC\n",
      "D*D\n"
     ]
    }
   ],
   "source": [
    "for i in range(4):\n",
    "    for j in range(4-i):\n",
    "        print(chr(65+i),end='')\n",
    "    for j in range(4-i):\n",
    "        print(\"*\",end='')\n",
    "    for j in range(4-i):\n",
    "        print(chr(65+i),end='')\n",
    "    print('\\n',end='')"
   ]
  },
  {
   "cell_type": "code",
   "execution_count": 128,
   "metadata": {},
   "outputs": [
    {
     "name": "stdout",
     "output_type": "stream",
     "text": [
      "AAAA****AAAA\n",
      "BBB***BBB\n",
      "CC**CC\n",
      "D*D\n"
     ]
    }
   ],
   "source": [
    "counter = 4\n",
    "char = [\" \",\"D\",\"C\",\"B\",\"A\"]\n",
    "while counter !=0:\n",
    "\tout1 = char[counter] * counter\n",
    "\tout2 = \"*\" * counter\n",
    "\tprint(out1 + out2 + out1)\n",
    "\tcounter -=1"
   ]
  },
  {
   "cell_type": "code",
   "execution_count": 129,
   "metadata": {},
   "outputs": [
    {
     "name": "stdout",
     "output_type": "stream",
     "text": [
      "AAAAA*****AAAAA\n",
      "BBBB****BBBB\n",
      "CCC***CCC\n",
      "DD**DD\n",
      "E*E\n"
     ]
    }
   ],
   "source": [
    "n=5\n",
    "for i in range(0,n):\n",
    "    print(chr(65+i)*(n-i), end=\"\")\n",
    "    print(\"*\"*(n-i), end=\"\")\n",
    "    print(chr(65+i)*(n-i), end=\"\")\n",
    "    print()"
   ]
  },
  {
   "cell_type": "code",
   "execution_count": 130,
   "metadata": {},
   "outputs": [
    {
     "name": "stdout",
     "output_type": "stream",
     "text": [
      "Pattern1\n",
      "*\n",
      "**\n",
      "***\n",
      "****\n",
      "*****\n",
      "*****\n",
      "****\n",
      "***\n",
      "**\n",
      "*\n"
     ]
    }
   ],
   "source": [
    "star = '*'\n",
    "counter = 1\n",
    "out = 0\n",
    "print(\"Pattern1\")\n",
    "while counter < 6:\n",
    "\tout = counter * star\n",
    "\tprint(out)\n",
    "\tcounter +=1\n",
    "counter = 5\n",
    "while counter !=0:\n",
    "\tout = counter * star\n",
    "\tprint(out)\n",
    "\tcounter -=1"
   ]
  },
  {
   "cell_type": "code",
   "execution_count": 131,
   "metadata": {},
   "outputs": [
    {
     "name": "stdout",
     "output_type": "stream",
     "text": [
      "enter the number6\n",
      "*\n",
      "**\n",
      "***\n",
      "****\n",
      "*****\n",
      "******\n",
      "*******\n",
      "******\n",
      "*****\n",
      "****\n",
      "***\n",
      "**\n"
     ]
    }
   ],
   "source": [
    "n=int(input(\"enter the number\"))\n",
    "for i in range(1,n+1):\n",
    "    s= '*'*i\n",
    "    print(s)\n",
    "for j in range(n+1,1,-1):\n",
    "    y = '*' * j\n",
    "    print(y)"
   ]
  },
  {
   "cell_type": "code",
   "execution_count": 132,
   "metadata": {},
   "outputs": [
    {
     "name": "stdout",
     "output_type": "stream",
     "text": [
      "enter a num6\n",
      "*\n",
      "**\n",
      "***\n",
      "****\n",
      "*****\n",
      "******\n",
      "*****\n",
      "****\n",
      "***\n",
      "**\n",
      "*\n",
      "\n"
     ]
    }
   ],
   "source": [
    "n = int(input(\"enter a num\"))\n",
    "i=1\n",
    "while i<=n :\n",
    "    print(\"*\"*i)\n",
    "    i+=1\n",
    "j=1\n",
    "while j<=n :\n",
    "    print(\"*\"*(n-j))\n",
    "    j+=1"
   ]
  },
  {
   "cell_type": "code",
   "execution_count": 133,
   "metadata": {},
   "outputs": [
    {
     "name": "stdout",
     "output_type": "stream",
     "text": [
      "Enter the number:6\n",
      "0\n",
      "22\n",
      "444\n",
      "8888\n",
      "1616161616\n",
      "323232323232\n"
     ]
    }
   ],
   "source": [
    "n=int(input(\"Enter the number:\"))\n",
    "z=0\n",
    "for x in range(0,n):\n",
    "    for y in range(0,x+1):\n",
    "        print(z,end='')\n",
    "    z=2**(x+1)\n",
    "    print()"
   ]
  },
  {
   "cell_type": "code",
   "execution_count": 134,
   "metadata": {},
   "outputs": [
    {
     "name": "stdout",
     "output_type": "stream",
     "text": [
      "Enter the number:6\n",
      "0 \n",
      "2 2 \n",
      "4 4 4 \n",
      "8 8 8 8 \n",
      "16 16 16 16 16 \n",
      "32 32 32 32 32 32 \n"
     ]
    }
   ],
   "source": [
    "e=int(input(\"Enter the number:\"))\n",
    "n=0\n",
    "for i in range(1,e+1):\n",
    "    for j in range(0,i):\n",
    "        print(n,end=\" \")\n",
    "    n=2**i\n",
    "    print()"
   ]
  },
  {
   "cell_type": "code",
   "execution_count": 135,
   "metadata": {},
   "outputs": [
    {
     "name": "stdout",
     "output_type": "stream",
     "text": [
      "enter no. of rows : 6\n",
      "1   \n",
      "2   7   \n",
      "3   8   12  \n",
      "4   9   13  16  \n",
      "5   10  14  17  19  \n",
      "6   11  15  18  20  21  \n"
     ]
    }
   ],
   "source": [
    "num=int(input(\"enter no. of rows : \"))\n",
    "for i in range(num):\n",
    "    val=i+1\n",
    "    for j in range(i+1):\n",
    "        print(format(val, \"<4\"), end=\"\")\n",
    "        val=val+((num-1)-j)\n",
    "    print()"
   ]
  },
  {
   "cell_type": "code",
   "execution_count": 138,
   "metadata": {},
   "outputs": [
    {
     "name": "stdout",
     "output_type": "stream",
     "text": [
      "5 \n",
      "5 5 \n",
      "5 5 5 \n",
      "5 5 5 5 \n",
      "5 5 5 5 5 \n"
     ]
    }
   ],
   "source": [
    "for i in range(1,6):\n",
    "    K=i\n",
    "    M=4\n",
    "    for j in range(i):\n",
    "        print (k,end=' ')\n",
    "        K=K+M\n",
    "        M=M-1\n",
    "    print ()"
   ]
  },
  {
   "cell_type": "code",
   "execution_count": 139,
   "metadata": {},
   "outputs": [
    {
     "name": "stdout",
     "output_type": "stream",
     "text": [
      "1 \n",
      "1 2 \n",
      "1 2 3 \n",
      "1 2 3 4 \n",
      "1 2 3 4 5 \n"
     ]
    }
   ],
   "source": [
    "for i in range(1,6):\n",
    "    for j in range(1,i+1):\n",
    "        print(j,end=' ')\n",
    "    print( )"
   ]
  },
  {
   "cell_type": "code",
   "execution_count": 144,
   "metadata": {},
   "outputs": [
    {
     "name": "stdout",
     "output_type": "stream",
     "text": [
      "Enter input: 10 20\n",
      "--------.|.---------\n",
      "-----.|..|..|.------\n",
      "--.|..|..|..|..|.---\n",
      ".|..|..|..|..|..|..|.\n",
      ".|..|..|..|..|..|..|..|..|.\n",
      "------WELCOME-------\n",
      ".|..|..|..|..|..|..|..|.\n",
      "-.|..|..|..|..|..|.-\n",
      "----.|..|..|..|.----\n",
      "-------.|..|.-------\n",
      "--------------------\n"
     ]
    }
   ],
   "source": [
    "N, M = map(int,input(\"Enter input: \").split())\n",
    "for i in range(1,N,2):\n",
    "    print((i * \".|.\").center(M, \"-\"))\n",
    "print(\"WELCOME\".center(M,\"-\"))\n",
    "for i in range(N-2,-1,-2):\n",
    "    print((i * \".|.\").center(M, \"-\"))"
   ]
  },
  {
   "cell_type": "code",
   "execution_count": 134,
   "metadata": {},
   "outputs": [
    {
     "name": "stdout",
     "output_type": "stream",
     "text": [
      "1*"
     ]
    }
   ],
   "source": [
    "N=5\n",
    "for I in range(1,n+1):\n",
    "    k=1\n",
    "    for j in range(1,n+1):\n",
    "        if i>=j:\n",
    "            print(k,end='*')\n",
    "        else:\n",
    "            print('*',end='' )\n",
    "        #print()"
   ]
  },
  {
   "cell_type": "code",
   "execution_count": 156,
   "metadata": {},
   "outputs": [
    {
     "name": "stdout",
     "output_type": "stream",
     "text": [
      "Enter The Numbers Of Rows 6\n",
      "1\n",
      "12\n",
      "123\n",
      "1234\n",
      "12345\n",
      "123456\n"
     ]
    }
   ],
   "source": [
    "# star Program \n",
    "def first(n):\n",
    "\t\t\n",
    "\n",
    "\t\tfor i in range(0, n):\t\t\n",
    "\t\t\tfor j in range(0, i+1):\n",
    "\t\t\t\tprint(j+1,end='') \n",
    "\n",
    "\t\t\tprint(\"\\r\")\t\t\n",
    "\n",
    "\n",
    "inp = input('Enter The Numbers Of Rows ')\n",
    "inp = int(inp) \n",
    "first(inp)"
   ]
  },
  {
   "cell_type": "code",
   "execution_count": 157,
   "metadata": {},
   "outputs": [
    {
     "name": "stdout",
     "output_type": "stream",
     "text": [
      "1 \n",
      "12 \n",
      "123 \n",
      "1234 \n",
      "12345 \n"
     ]
    }
   ],
   "source": [
    "lastNumber = 6\n",
    "for i in range(1 , lastNumber):\n",
    "    for j in range(1 , i+1):\n",
    "        print(j , end=\"\")\n",
    "    print(\" \")"
   ]
  },
  {
   "cell_type": "code",
   "execution_count": 158,
   "metadata": {},
   "outputs": [
    {
     "name": "stdout",
     "output_type": "stream",
     "text": [
      "Second Number Pattern \n",
      "1 \n",
      "1 2 \n",
      "1 2 3 \n",
      "1 2 3 4 \n",
      "1 2 3 4 5 \n"
     ]
    }
   ],
   "source": [
    "print(\"Second Number Pattern \")\n",
    "lastNumber = 6\n",
    "for row in range(1, lastNumber):\n",
    "    for column in range(1, row + 1):\n",
    "        print(column, end=' ')\n",
    "    print(\"\")"
   ]
  },
  {
   "cell_type": "code",
   "execution_count": 97,
   "metadata": {},
   "outputs": [
    {
     "name": "stdout",
     "output_type": "stream",
     "text": [
      "1\n",
      "12\n",
      "123\n",
      "1234\n",
      "12345\n",
      "123456\n",
      "1234567\n",
      "12345678\n",
      "123456789\n",
      "12345678910\n",
      "1234567891011\n"
     ]
    }
   ],
   "source": [
    "for i in range(1,n+1):\n",
    "    for j in range(1,i+1):\n",
    "        print(j,end=\"\")\n",
    "    print()"
   ]
  },
  {
   "cell_type": "code",
   "execution_count": 160,
   "metadata": {},
   "outputs": [
    {
     "name": "stdout",
     "output_type": "stream",
     "text": [
      "How many row you want to enter?5\n",
      "1 \n",
      "1 2 \n",
      "1 2 3 \n",
      "1 2 3 4 \n",
      "1 2 3 4 5 \n"
     ]
    }
   ],
   "source": [
    "def pattern(n):\n",
    "    for i in range(1,n+1):\n",
    "        for j in range(1,i+1):\n",
    "            print(j ,end=' ')\n",
    "        print()\n",
    "n=int(input(\"How many row you want to enter?\"))\n",
    "pattern(n)"
   ]
  },
  {
   "cell_type": "code",
   "execution_count": 161,
   "metadata": {},
   "outputs": [
    {
     "name": "stdout",
     "output_type": "stream",
     "text": [
      "Second Number Pattern \n",
      "1 \n",
      "1 2 \n",
      "1 2 3 \n",
      "1 2 3 4 \n",
      "1 2 3 4 5 \n"
     ]
    }
   ],
   "source": [
    "print(\"Second Number Pattern \")\n",
    "lastNumber = 6\n",
    "for row in range(1, lastNumber):\n",
    "    for column in range(1, row + 1):\n",
    "        print(column, end=' ')\n",
    "    print(\"\")"
   ]
  },
  {
   "cell_type": "code",
   "execution_count": 162,
   "metadata": {},
   "outputs": [
    {
     "name": "stdout",
     "output_type": "stream",
     "text": [
      "Enter size6\n",
      "1 \n",
      "1 2 \n",
      "1 2 3 \n",
      "1 2 3 4 \n",
      "1 2 3 4 5 \n"
     ]
    }
   ],
   "source": [
    "row = int(input(\"Enter size\"))\n",
    "for row in range(1, row):\n",
    "    for column in range(1, row + 1):\n",
    "        print(column, end=' ')\n",
    "    print(\"\")"
   ]
  },
  {
   "cell_type": "code",
   "execution_count": 167,
   "metadata": {},
   "outputs": [
    {
     "name": "stdout",
     "output_type": "stream",
     "text": [
      "        1 \n",
      "      1 2 \n",
      "    1 2 3 \n",
      "  1 2 3 4 \n",
      "1 2 3 4 5 \n"
     ]
    }
   ],
   "source": [
    "for i in range(1,6):\n",
    "    for j in range(5,i,-1):\n",
    "        print(\" \",end=\" \")\n",
    "    for k in range(1,i+1):\n",
    "        print(k,end=\" \")\n",
    "    print(\"\")"
   ]
  },
  {
   "cell_type": "code",
   "execution_count": 15,
   "metadata": {},
   "outputs": [
    {
     "name": "stdout",
     "output_type": "stream",
     "text": [
      "--------A\n",
      "------B\n",
      "----C\n",
      "--D\n",
      "E\n"
     ]
    }
   ],
   "source": [
    "n1=5\n",
    "n=1\n",
    "chr(64+n)\n",
    "\n",
    "while n<=n1:\n",
    "    \n",
    "    print ('--' * (n1-n) + chr(64+n))\n",
    "    n+=1"
   ]
  },
  {
   "cell_type": "code",
   "execution_count": 68,
   "metadata": {},
   "outputs": [
    {
     "name": "stdout",
     "output_type": "stream",
     "text": [
      "----A----\n",
      "---ABA---\n",
      "--ABCBA--\n",
      "-ABCDCBA-\n",
      "ABCDEDCBA\n"
     ]
    }
   ],
   "source": [
    "n1=5\n",
    "\n",
    "n=1\n",
    "chr(64+n)\n",
    "\n",
    "while n<=n1:\n",
    "    n2=1\n",
    "    line=[]\n",
    "    space = ['-' * (n1-n)]\n",
    "    \n",
    "    char=[]\n",
    "    while n2<=n:\n",
    "        char.append( (chr(64+n2)) )\n",
    "        n2+=1\n",
    "    \n",
    "    part2 = char[::-1][1:]\n",
    "    \n",
    "    line.append(space)\n",
    "    line.append(char)\n",
    "    line.append(part2)\n",
    "    line.append(space)\n",
    "    line = [i for sl in line for i in sl]\n",
    "    #print (line)\n",
    "    print (\"\".join(line))\n",
    "    \n",
    "    n+=1"
   ]
  },
  {
   "cell_type": "code",
   "execution_count": 70,
   "metadata": {},
   "outputs": [
    {
     "name": "stdout",
     "output_type": "stream",
     "text": [
      "****A****\n",
      "***ABA***\n",
      "**ABCBA**\n",
      "*ABCDCBA*\n",
      "ABCDEDCBA\n"
     ]
    }
   ],
   "source": [
    "n1=5\n",
    "\n",
    "n=1\n",
    "chr(64+n)\n",
    "\n",
    "while n<=n1:\n",
    "    n2=1\n",
    "    line=[]\n",
    "    space = ['*' * (n1-n)]\n",
    "    \n",
    "    char=[]\n",
    "    while n2<=n:\n",
    "        char.append( (chr(64+n2)) )\n",
    "        n2+=1\n",
    "    \n",
    "    part2 = char[::-1][1:]\n",
    "    \n",
    "    line.append(space)\n",
    "    line.append(char)\n",
    "    line.append(part2)\n",
    "    line.append(space)\n",
    "    line = [i for sl in line for i in sl]\n",
    "    #print (line)\n",
    "    print (\"\".join(line))\n",
    "    \n",
    "    n+=1"
   ]
  },
  {
   "cell_type": "code",
   "execution_count": 74,
   "metadata": {},
   "outputs": [
    {
     "data": {
      "text/plain": [
       "49"
      ]
     },
     "execution_count": 74,
     "metadata": {},
     "output_type": "execute_result"
    }
   ],
   "source": [
    "ord(\"1\")"
   ]
  },
  {
   "cell_type": "code",
   "execution_count": 153,
   "metadata": {},
   "outputs": [
    {
     "name": "stdout",
     "output_type": "stream",
     "text": [
      "--------1--------\n",
      "-------121-------\n",
      "------12321------\n",
      "-----1234321-----\n",
      "----123454321----\n",
      "---12345654321---\n",
      "--1234567654321--\n",
      "-123456787654321-\n",
      "12345678987654321\n"
     ]
    }
   ],
   "source": [
    "n1=9\n",
    "\n",
    "n=1\n",
    "\n",
    "while n<=n1:\n",
    "    n2=1\n",
    "    line=[]\n",
    "    space = ['-' * (n1-n)]\n",
    "    \n",
    "    char=[]\n",
    "    while n2<=n:\n",
    "        char.append( (chr(48+n2)) )\n",
    "        n2+=1\n",
    "    \n",
    "    part2 = char[::-1][1:]\n",
    "    \n",
    "    line.append(space)\n",
    "    line.append(char)\n",
    "    line.append(part2)\n",
    "    line.append(space)\n",
    "    line = [i for sl in line for i in sl]\n",
    "    #print (line)\n",
    "    print (\"\".join(line))\n",
    "    \n",
    "    n+=1"
   ]
  },
  {
   "cell_type": "code",
   "execution_count": 81,
   "metadata": {},
   "outputs": [
    {
     "name": "stdout",
     "output_type": "stream",
     "text": [
      "---------0---------\n",
      "--------010--------\n",
      "-------01210-------\n",
      "------0123210------\n",
      "-----012343210-----\n",
      "----01234543210----\n",
      "---0123456543210---\n",
      "--012345676543210--\n",
      "-01234567876543210-\n",
      "0123456789876543210\n"
     ]
    }
   ],
   "source": [
    "n1=10\n",
    "\n",
    "n=1\n",
    "\n",
    "while n<=n1:\n",
    "    n2=1\n",
    "    line=[]\n",
    "    space = ['-' * (n1-n)]\n",
    "    \n",
    "    char=[]\n",
    "    while n2<=n:\n",
    "        char.append( (chr(47+n2)) )\n",
    "        n2+=1\n",
    "    \n",
    "    part2 = char[::-1][1:]\n",
    "    \n",
    "    line.append(space)\n",
    "    line.append(char)\n",
    "    line.append(part2)\n",
    "    line.append(space)\n",
    "    line = [i for sl in line for i in sl]\n",
    "    #print (line)\n",
    "    print (\"\".join(line))\n",
    "    \n",
    "    n+=1"
   ]
  },
  {
   "cell_type": "code",
   "execution_count": 60,
   "metadata": {},
   "outputs": [
    {
     "data": {
      "text/plain": [
       "[1, 2, 3, 4, 5, 6, 7, 8, 9]"
      ]
     },
     "execution_count": 60,
     "metadata": {},
     "output_type": "execute_result"
    }
   ],
   "source": [
    "l = [[1, 2, 3], [4, 5, 6], [7], [8, 9]]\n",
    "l1 = [  j for sl in l for j in sl ]\n",
    "l1"
   ]
  },
  {
   "cell_type": "code",
   "execution_count": null,
   "metadata": {},
   "outputs": [],
   "source": []
  },
  {
   "cell_type": "code",
   "execution_count": 82,
   "metadata": {},
   "outputs": [
    {
     "data": {
      "text/plain": [
       "[1, 2, 3, 4, 5, 6, 7, 8, 9]"
      ]
     },
     "execution_count": 82,
     "metadata": {},
     "output_type": "execute_result"
    }
   ],
   "source": [
    "flatten = lambda l: [item for sublist in l for item in sublist]\n",
    "flatten(l)"
   ]
  },
  {
   "cell_type": "code",
   "execution_count": 83,
   "metadata": {},
   "outputs": [
    {
     "name": "stdout",
     "output_type": "stream",
     "text": [
      "---------0---------\n",
      "--------111--------\n",
      "-------22222-------\n",
      "------3333333------\n",
      "-----444444444-----\n",
      "----55555555555----\n",
      "---6666666666666---\n",
      "--777777777777777--\n",
      "-88888888888888888-\n",
      "9999999999999999999\n"
     ]
    }
   ],
   "source": [
    "n1=10\n",
    "\n",
    "n=1\n",
    "\n",
    "while n<=n1:\n",
    "    n2=1\n",
    "    line=[]\n",
    "    space = ['-' * (n1-n)]\n",
    "    \n",
    "    char=[]\n",
    "    while n2<=n:\n",
    "        char.append( (chr(47+n)) )\n",
    "        n2+=1\n",
    "    \n",
    "    part2 = char[::-1][1:]\n",
    "    \n",
    "    line.append(space)\n",
    "    line.append(char)\n",
    "    line.append(part2)\n",
    "    line.append(space)\n",
    "    line = [i for sl in line for i in sl]\n",
    "    #print (line)\n",
    "    print (\"\".join(line))\n",
    "    \n",
    "    n+=1"
   ]
  },
  {
   "cell_type": "code",
   "execution_count": 94,
   "metadata": {},
   "outputs": [
    {
     "name": "stdout",
     "output_type": "stream",
     "text": [
      "---------0---------\n",
      "--------101--------\n",
      "-------21012-------\n",
      "------3210123------\n",
      "-----432101234-----\n",
      "----54321012345----\n",
      "---6543210123456---\n",
      "--765432101234567--\n",
      "-87654321012345678-\n",
      "9876543210123456789\n"
     ]
    }
   ],
   "source": [
    "n1=10\n",
    "\n",
    "n=1\n",
    "\n",
    "while n<=n1:\n",
    "    n2=1\n",
    "    line=[]\n",
    "    space = ['-' * (n1-n)]\n",
    "    \n",
    "    char=[]\n",
    "    n3=n\n",
    "    while n3>=n2:\n",
    "        char.append( (chr(47+n3)) )\n",
    "        n3-=1\n",
    "    \n",
    "    part2 = char[::-1][1:]\n",
    "    \n",
    "    line.append(space)\n",
    "    line.append(char)\n",
    "    line.append(part2)\n",
    "    line.append(space)\n",
    "    line = [i for sl in line for i in sl]\n",
    "    #print (line)\n",
    "    print (\"\".join(line))\n",
    "    \n",
    "    n+=1"
   ]
  },
  {
   "cell_type": "code",
   "execution_count": 96,
   "metadata": {},
   "outputs": [
    {
     "name": "stdout",
     "output_type": "stream",
     "text": [
      "---------A---------\n",
      "--------BAB--------\n",
      "-------CBABC-------\n",
      "------DCBABCD------\n",
      "-----EDCBABCDE-----\n",
      "----FEDCBABCDEF----\n",
      "---GFEDCBABCDEFG---\n",
      "--HGFEDCBABCDEFGH--\n",
      "-IHGFEDCBABCDEFGHI-\n",
      "JIHGFEDCBABCDEFGHIJ\n"
     ]
    }
   ],
   "source": [
    "n1=10\n",
    "\n",
    "n=1\n",
    "\n",
    "while n<=n1:\n",
    "    n2=1\n",
    "    line=[]\n",
    "    space = ['-' * (n1-n)]\n",
    "    \n",
    "    char=[]\n",
    "    n3=n\n",
    "    while n3>=n2:\n",
    "        char.append( (chr(64+n3)) )\n",
    "        n3-=1\n",
    "    \n",
    "    part2 = char[::-1][1:]\n",
    "    \n",
    "    line.append(space)\n",
    "    line.append(char)\n",
    "    line.append(part2)\n",
    "    line.append(space)\n",
    "    line = [i for sl in line for i in sl]\n",
    "    #print (line)\n",
    "    print (\"\".join(line))\n",
    "    \n",
    "    n+=1"
   ]
  },
  {
   "cell_type": "code",
   "execution_count": 132,
   "metadata": {},
   "outputs": [
    {
     "name": "stdout",
     "output_type": "stream",
     "text": [
      "---------A---------\n",
      "--------ABA--------\n",
      "-------ABCBA-------\n",
      "------ABCDCBA------\n",
      "-----ABCDEDCBA-----\n",
      "----ABCDEFEDCBA----\n",
      "---ABCDEFGFEDCBA---\n",
      "--ABCDEFGHGFEDCBA--\n",
      "-ABCDEFGHIHGFEDCBA-\n",
      "ABCDEFGHIJIHGFEDCBA\n",
      "-ABCDEFGHIHGFEDCBA-\n",
      "--ABCDEFGHGFEDCBA--\n",
      "---ABCDEFGFEDCBA---\n",
      "----ABCDEFEDCBA----\n",
      "-----ABCDEDCBA-----\n",
      "------ABCDCBA------\n",
      "-------ABCBA-------\n",
      "--------ABA--------\n",
      "---------A---------\n"
     ]
    }
   ],
   "source": [
    "n=10\n",
    "n1=1\n",
    "while n1<=n:\n",
    "    filler = '-'*(n-n1)\n",
    "    n2=1\n",
    "    char=[]\n",
    "    while n2<=n1:\n",
    "        char.append (chr(64+n2))\n",
    "        n2+=1\n",
    "    line=[]\n",
    "    char = \"\".join([ch for ch in char])\n",
    "    line.append(filler)\n",
    "    line.append( char)\n",
    "\n",
    "    line.append(char[::-1][1:])\n",
    "    \n",
    "    line.append(filler)\n",
    "    line =[i for sl in line for i in sl]\n",
    "    print (\"\".join(line))\n",
    "    n1+=1\n",
    "    \n",
    "    \n",
    "n=1\n",
    "n1=n1-2\n",
    "n3=1\n",
    "while n1>=n:\n",
    "    filler = '-'*(n3)\n",
    "    n2=1\n",
    "    char=[]\n",
    "    while n2<=n1:\n",
    "        char.append (chr(64+n2))\n",
    "        n2+=1\n",
    "    line=[]\n",
    "    char = \"\".join([ch for ch in char])\n",
    "    line.append(filler)\n",
    "    line.append( char)\n",
    "\n",
    "    line.append(char[::-1][1:])\n",
    "    \n",
    "    line.append(filler)\n",
    "    line =[i for sl in line for i in sl]\n",
    "    print (\"\".join(line))\n",
    "    n1-=1\n",
    "    n3+=1"
   ]
  },
  {
   "cell_type": "code",
   "execution_count": 151,
   "metadata": {},
   "outputs": [
    {
     "name": "stdout",
     "output_type": "stream",
     "text": [
      "*          *\n",
      "**        **\n",
      "***      ***\n",
      "****    ****\n",
      "*****  *****\n",
      "************\n",
      "*****  *****\n",
      "****    ****\n",
      "***      ***\n",
      "**        **\n",
      "*          *\n"
     ]
    }
   ],
   "source": [
    "n=6\n",
    "star = '*'\n",
    "counter = 1\n",
    "out = 0\n",
    "\n",
    "while counter <= n:\n",
    "    out1 = counter * star\n",
    "    out2 = ' '*(n-counter)*2 \n",
    "    out3=out1+out2+out1\n",
    "    print(out3)\n",
    "    counter +=1\n",
    "counter = n-1\n",
    "n2=1\n",
    "while counter !=0:\n",
    "    out1 = counter * star\n",
    "    out2 = ' '*(n2)*2\n",
    "    out3=out1+out2+out1\n",
    "    print(out3)\n",
    "    counter -=1\n",
    "    n2+=1"
   ]
  }
 ],
 "metadata": {
  "kernelspec": {
   "display_name": "Python 3",
   "language": "python",
   "name": "python3"
  },
  "language_info": {
   "codemirror_mode": {
    "name": "ipython",
    "version": 3
   },
   "file_extension": ".py",
   "mimetype": "text/x-python",
   "name": "python",
   "nbconvert_exporter": "python",
   "pygments_lexer": "ipython3",
   "version": "3.7.1"
  }
 },
 "nbformat": 4,
 "nbformat_minor": 2
}
