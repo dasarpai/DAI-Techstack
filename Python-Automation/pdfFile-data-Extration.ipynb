{
 "cells": [
  {
   "cell_type": "code",
   "execution_count": 12,
   "metadata": {},
   "outputs": [],
   "source": [
    "import PyPDF2 as pdf"
   ]
  },
  {
   "cell_type": "code",
   "execution_count": 26,
   "metadata": {},
   "outputs": [],
   "source": [
    "path = r'C:\\Users\\admin\\Downloads\\aiprojects.pdf'\n",
    "path = r'D:\\github\\2-Experiments\\Python-Automation\\1.Table Extraction\\foo.pdf'\n"
   ]
  },
  {
   "cell_type": "code",
   "execution_count": 27,
   "metadata": {},
   "outputs": [
    {
     "data": {
      "text/plain": [
       "['3 \\n 2 Quantifying Fuel -Saving Opportunit ies from Specific Driving \\nBehavior Changes  \\n2.1 Savings from Improving Individual Driving  Profiles  \\n2.1.1  Drive Profile Subsample from Real -World Travel Survey  \\nThe interim report  (Gonder et al. 2010) included results from detailed analyses on five cycles \\nselected from a large set of real-world global positioning system (GPS) travel data collected in \\n2006 as part of a study by the Texas Transportation Institute  and the Texas Department of \\nTransportation (Ojah and Pearson 2008). The cycles were selected to reflect a range of kinetic \\nintensity (KI) values . (KI represents a ratio of characteristic acceler ation to aerodynamic speed \\nand has been shown to be a useful drive cycle classification parameter [O’Keefe et al. 2007 ].)  \\nTo determine the maximum possible cycle improvement fuel  savings, the real -world cycles were \\nconverted into equivalent “ideal” cycles  using the following steps :  \\n1. Calculat e the trip distance of each sample trip . \\n2. Eliminat e stop-and-go and idling within each trip .  \\n3. Set the acceleration rate to 3 mph/s.  \\n4. Set the cruising speed to 40 mph . \\n5. Continue cruising at 40 mph until the trip distance  is reached.  \\nTo compare vehicle simulations over each real -world  cycle  and its corresponding ideal cycle, a \\nmidsize conventional vehicle model from a previous NREL study was used  (Earleywine et al. \\n2010). The results indicated a fuel savings potential of roughly 60% for the drive profiles w ith \\neither very high or very low KI and of 30%–40% for the cycles with moderate KI values.  \\nTable 2-1 takes the analysis of these five cycles from th e interim report a step further by \\nexamin ing the impact of the optimizatio n steps one at a time in isolation . As indicated by other \\nsimulations from t he interim report (Gonder et al. 2010), acceleration rate reductions can deliver \\nsome small fuel savings, but avoiding accelerations and decelerations (accel/decel) altogether  \\nsaves larger amounts of fuel. This suggests that driving style improvements should focus on \\nreducing the number of stops in high KI cycles, and not just the rate of accelerating out of a stop . \\nTable 2-1 . Simulated f uel savings from i solated cycle improvements \\nCycle \\nName  KI \\n(1/km)  Distance \\n(mi) Percent Fuel Savings  \\nImproved \\nSpeed  Decreased \\nAccel  Eliminate \\nStops Decreased \\nIdle \\n2012_2  3.30 1.3 5.9% 9.5% 29.2% 17.4% \\n2145_1  0.68 11.2 2.4% 0.1% 9.5% 2 .7% \\n4234_1  0.59 58.7 8.5% 1.3% 8 .5% 3.3% \\n2032_2  0.17 57.8 2 1.7%  0.3% 2.7% 1.2% \\n4171_1  0.07 173.9  58.1% 1 .6% 2.1% 0.5% \\n \\nFigure 2- 1 extends the analysis from eliminating stops for the five e xample cycles and examines \\nthe additional benefit from avoiding slow-and-go driving below various speed thresholds. ']"
      ]
     },
     "execution_count": 27,
     "metadata": {},
     "output_type": "execute_result"
    }
   ],
   "source": [
    "from PyPDF2 import PdfReader\n",
    "\n",
    "reader = PdfReader(path)\n",
    "number_of_pages = len(reader.pages)\n",
    "\n",
    "text1=[]\n",
    "for i in range(number_of_pages):\n",
    "    page = reader.pages[i]\n",
    "    text = page.extract_text()\n",
    "    text1.append(text)\n",
    "\n",
    "text1"
   ]
  },
  {
   "cell_type": "code",
   "execution_count": 54,
   "metadata": {},
   "outputs": [],
   "source": [
    "import os\n",
    "files=[]\n",
    "path = r'D:\\02-Cloud\\Hari15Sep-gdrive\\DataScience\\DS-Books'\n",
    "fileList = os.listdir(path)\n",
    "for i in fileList:\n",
    "    files.append(i)\n",
    "\n",
    "import pandas as pd\n",
    "df=pd.DataFrame(files)\n",
    "\n",
    "df[1] = df[0].str.split('-').str[-1]\n",
    "df[2] = df[1].str.len()\n",
    "\n",
    "df[df[2] > 12].iloc[:, [0]].to_csv('extn.csv')\n"
   ]
  },
  {
   "cell_type": "code",
   "execution_count": 53,
   "metadata": {},
   "outputs": [],
   "source": []
  },
  {
   "cell_type": "code",
   "execution_count": 33,
   "metadata": {},
   "outputs": [],
   "source": []
  }
 ],
 "metadata": {
  "kernelspec": {
   "display_name": "myenv",
   "language": "python",
   "name": "python3"
  },
  "language_info": {
   "codemirror_mode": {
    "name": "ipython",
    "version": 3
   },
   "file_extension": ".py",
   "mimetype": "text/x-python",
   "name": "python",
   "nbconvert_exporter": "python",
   "pygments_lexer": "ipython3",
   "version": "3.7.11"
  },
  "orig_nbformat": 4,
  "vscode": {
   "interpreter": {
    "hash": "3ab65b4b6f007aec8d83bf267c46961450ab880e9753bb615d95fc66f0974c2a"
   }
  }
 },
 "nbformat": 4,
 "nbformat_minor": 2
}
