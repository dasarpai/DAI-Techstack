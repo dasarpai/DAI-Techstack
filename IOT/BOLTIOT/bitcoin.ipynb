{
 "cells": [
  {
   "cell_type": "code",
   "execution_count": null,
   "metadata": {},
   "outputs": [],
   "source": [
    "sudo apt-get update\n",
    "sudo pip3 install boltiot\n",
    "sudo pip3 install pyOpenSSL ndg-httpsclient pyasn1\n",
    "sudo pip3 install 'requests[security]'"
   ]
  },
  {
   "cell_type": "code",
   "execution_count": null,
   "metadata": {},
   "outputs": [],
   "source": [
    "def get_bitcoin_price():\n",
    "   URL = \"https://min-api.cryptocompare.com/\" # REPLACE WITH CORRECT URL\n",
    "   response = requests.request(\"GET\", URL)\n",
    "   response = json.loads(response.text)\n",
    "   current_price = response[\"USD\"]\n",
    "   return current_price"
   ]
  },
  {
   "cell_type": "code",
   "execution_count": null,
   "metadata": {},
   "outputs": [],
   "source": []
  },
  {
   "cell_type": "code",
   "execution_count": null,
   "metadata": {},
   "outputs": [],
   "source": []
  },
  {
   "cell_type": "code",
   "execution_count": null,
   "metadata": {},
   "outputs": [],
   "source": []
  },
  {
   "cell_type": "code",
   "execution_count": null,
   "metadata": {},
   "outputs": [],
   "source": []
  },
  {
   "cell_type": "code",
   "execution_count": null,
   "metadata": {},
   "outputs": [],
   "source": []
  }
 ],
 "metadata": {
  "interpreter": {
   "hash": "3ab65b4b6f007aec8d83bf267c46961450ab880e9753bb615d95fc66f0974c2a"
  },
  "kernelspec": {
   "display_name": "Python 3.7.11 ('myenv')",
   "language": "python",
   "name": "python3"
  },
  "language_info": {
   "name": "python",
   "version": "3.7.11"
  },
  "orig_nbformat": 4
 },
 "nbformat": 4,
 "nbformat_minor": 2
}
