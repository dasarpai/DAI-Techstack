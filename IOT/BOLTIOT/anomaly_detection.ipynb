{
 "cells": [
  {
   "cell_type": "code",
   "execution_count": 5,
   "metadata": {},
   "outputs": [],
   "source": [
    "import conf, json, time, math, statistics\n",
    "from boltiot import Sms, Bolt"
   ]
  },
  {
   "cell_type": "code",
   "execution_count": 6,
   "metadata": {},
   "outputs": [],
   "source": [
    "import conf, json, time, math, statistics\n",
    "from boltiot import Sms, Bolt\n",
    "def compute_bounds(history_data,frame_size,factor):\n",
    "    if len(history_data)<frame_size :\n",
    "        return None\n",
    "\n",
    "    if len(history_data)>frame_size :\n",
    "        del history_data[0:len(history_data)-frame_size]\n",
    "    Mn=statistics.mean(history_data)\n",
    "    Variance=0\n",
    "    for data in history_data :\n",
    "        Variance += math.pow((data-Mn),2)\n",
    "    Zn = factor * math.sqrt(Variance / frame_size)\n",
    "    High_bound = history_data[frame_size-1]+Zn\n",
    "    Low_bound = history_data[frame_size-1]-Zn\n",
    "    return [High_bound,Low_bound]\n",
    "\n",
    "mybolt = Bolt(conf.API_KEY, conf.DEVICE_ID)\n",
    "sms = Sms(conf.SSID, conf.AUTH_TOKEN, conf.TO_NUMBER, conf.FROM_NUMBER)\n",
    "history_data=[]"
   ]
  },
  {
   "cell_type": "code",
   "execution_count": 7,
   "metadata": {},
   "outputs": [
    {
     "name": "stdout",
     "output_type": "stream",
     "text": [
      "There was an error while retriving the data.\n",
      "This is the error:Invalid API key\n",
      "There was an error while retriving the data.\n",
      "This is the error:Invalid API key\n",
      "There was an error while retriving the data.\n",
      "This is the error:Invalid API key\n"
     ]
    },
    {
     "ename": "KeyboardInterrupt",
     "evalue": "",
     "output_type": "error",
     "traceback": [
      "\u001b[1;31m---------------------------------------------------------------------------\u001b[0m",
      "\u001b[1;31mKeyboardInterrupt\u001b[0m                         Traceback (most recent call last)",
      "\u001b[1;32m~\\AppData\\Local\\Temp/ipykernel_21872/2746067021.py\u001b[0m in \u001b[0;36m<module>\u001b[1;34m\u001b[0m\n\u001b[0;32m      5\u001b[0m         \u001b[0mprint\u001b[0m\u001b[1;33m(\u001b[0m\u001b[1;34m\"There was an error while retriving the data.\"\u001b[0m\u001b[1;33m)\u001b[0m\u001b[1;33m\u001b[0m\u001b[1;33m\u001b[0m\u001b[0m\n\u001b[0;32m      6\u001b[0m         \u001b[0mprint\u001b[0m\u001b[1;33m(\u001b[0m\u001b[1;34m\"This is the error:\"\u001b[0m\u001b[1;33m+\u001b[0m\u001b[0mdata\u001b[0m\u001b[1;33m[\u001b[0m\u001b[1;34m'value'\u001b[0m\u001b[1;33m]\u001b[0m\u001b[1;33m)\u001b[0m\u001b[1;33m\u001b[0m\u001b[1;33m\u001b[0m\u001b[0m\n\u001b[1;32m----> 7\u001b[1;33m         \u001b[0mtime\u001b[0m\u001b[1;33m.\u001b[0m\u001b[0msleep\u001b[0m\u001b[1;33m(\u001b[0m\u001b[1;36m10\u001b[0m\u001b[1;33m)\u001b[0m\u001b[1;33m\u001b[0m\u001b[1;33m\u001b[0m\u001b[0m\n\u001b[0m\u001b[0;32m      8\u001b[0m         \u001b[1;32mcontinue\u001b[0m\u001b[1;33m\u001b[0m\u001b[1;33m\u001b[0m\u001b[0m\n\u001b[0;32m      9\u001b[0m \u001b[1;33m\u001b[0m\u001b[0m\n",
      "\u001b[1;31mKeyboardInterrupt\u001b[0m: "
     ]
    }
   ],
   "source": [
    "while True:\n",
    "    response = mybolt.analogRead('A0')\n",
    "    data = json.loads(response)\n",
    "    if data['success'] != 1:\n",
    "        print(\"There was an error while retriving the data.\")\n",
    "        print(\"This is the error:\"+data['value'])\n",
    "        time.sleep(10)\n",
    "        continue\n",
    "\n",
    "    print (\"This is the value \"+data['value'])\n",
    "    sensor_value=0\n",
    "    try:\n",
    "        sensor_value = int(data['value'])\n",
    "    except e:\n",
    "        print(\"There was an error while parsing the response: \",e)\n",
    "        continue\n",
    "\n",
    "    bound = compute_bounds(history_data,conf.FRAME_SIZE,conf.MUL_FACTOR)\n",
    "    if not bound:\n",
    "        required_data_count=conf.FRAME_SIZE-len(history_data)\n",
    "        print(\"Not enough data to compute Z-score. Need \",required_data_count,\" more data points\")\n",
    "        history_data.append(int(data['value']))\n",
    "        time.sleep(10)\n",
    "        continue\n",
    "\n",
    "    try:\n",
    "        if sensor_value > bound[0] :\n",
    "            print (\"The light level increased suddenly. Sending an SMS.\")\n",
    "            response = sms.send_sms(\"Someone turned on the lights\")\n",
    "            print(\"This is the response \",response)\n",
    "        elif sensor_value < bound[1]:\n",
    "            print (\"The light level decreased suddenly. Sending an SMS.\")\n",
    "            response = sms.send_sms(\"Someone turned off the lights\")\n",
    "            print(\"This is the response \",response)\n",
    "        history_data.append(sensor_value);\n",
    "    except Exception as e:\n",
    "        print (\"Error\",e)\n",
    "    time.sleep(10)"
   ]
  }
 ],
 "metadata": {
  "interpreter": {
   "hash": "3ab65b4b6f007aec8d83bf267c46961450ab880e9753bb615d95fc66f0974c2a"
  },
  "kernelspec": {
   "display_name": "Python 3.7.11 ('myenv')",
   "language": "python",
   "name": "python3"
  },
  "language_info": {
   "codemirror_mode": {
    "name": "ipython",
    "version": 3
   },
   "file_extension": ".py",
   "mimetype": "text/x-python",
   "name": "python",
   "nbconvert_exporter": "python",
   "pygments_lexer": "ipython3",
   "version": "3.7.11"
  },
  "orig_nbformat": 4
 },
 "nbformat": 4,
 "nbformat_minor": 2
}
