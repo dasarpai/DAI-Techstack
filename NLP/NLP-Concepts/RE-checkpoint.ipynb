{
 "cells": [
  {
   "cell_type": "code",
   "execution_count": 1,
   "metadata": {},
   "outputs": [
    {
     "name": "stdout",
     "output_type": "stream",
     "text": [
      "Default string:  ₹50 \n",
      " Type of string <class 'str'> \n",
      "\n",
      "Encoded to UTF-8:  b'\\xe2\\x82\\xb950' \n",
      " Type of string <class 'bytes'> \n",
      "\n",
      "Decoded from UTF-8:  ₹50 \n",
      " Type of string <class 'str'> \n",
      "\n"
     ]
    }
   ],
   "source": [
    "# create a string\n",
    "amount = u\"₹50\"\n",
    "print('Default string: ', amount, '\\n', 'Type of string', type(amount), '\\n')\n",
    "\n",
    "# encode to UTF-8 byte format\n",
    "amount_encoded = amount.encode('utf-8')\n",
    "print('Encoded to UTF-8: ', amount_encoded, '\\n', 'Type of string', type(amount_encoded), '\\n')\n",
    "\n",
    "\n",
    "# sometime later in another computer...\n",
    "# decode from UTF-8 byte format\n",
    "amount_decoded = amount_encoded.decode('utf-8')\n",
    "print('Decoded from UTF-8: ', amount_decoded, '\\n', 'Type of string', type(amount_decoded), '\\n')"
   ]
  },
  {
   "cell_type": "code",
   "execution_count": 265,
   "metadata": {},
   "outputs": [
    {
     "data": {
      "text/plain": [
       "<re.Match object; span=(13, 22), match='education'>"
      ]
     },
     "execution_count": 265,
     "metadata": {},
     "output_type": "execute_result"
    }
   ],
   "source": [
    "string = 'The roots of education are bitter, but the fruit is sweet.'\n",
    "\n",
    "# regex pattern to check if 'education' is present in a input string or not.\n",
    "pattern = \"education\" # write regex to extract 'education'\n",
    "\n",
    "# check whether pattern is present in string or not\n",
    "re.search(pattern, string)\n"
   ]
  },
  {
   "cell_type": "code",
   "execution_count": 264,
   "metadata": {},
   "outputs": [
    {
     "data": {
      "text/plain": [
       "13"
      ]
     },
     "execution_count": 264,
     "metadata": {},
     "output_type": "execute_result"
    }
   ],
   "source": [
    "pattern = 'education'\n",
    "\n",
    "# store the match of regex\n",
    "result = re.search(pattern, string)\n",
    "\n",
    "# store the start of the match\n",
    "# use result.start()\n",
    "result.start()"
   ]
  },
  {
   "cell_type": "code",
   "execution_count": 269,
   "metadata": {},
   "outputs": [
    {
     "data": {
      "text/plain": [
       "<re.Match object; span=(19, 23), match='tree'>"
      ]
     },
     "execution_count": 269,
     "metadata": {},
     "output_type": "execute_result"
    }
   ],
   "source": [
    "string = 'There are a lot of trees in the forest.'\n",
    "\n",
    "# import the regular expression module\n",
    "import re\n",
    "\n",
    "# regex pattern\n",
    "pattern = \"tree?\" # write regex here\n",
    "\n",
    "# check whether pattern is present in string or not\n",
    "re.search(pattern,string)"
   ]
  },
  {
   "cell_type": "code",
   "execution_count": 270,
   "metadata": {},
   "outputs": [
    {
     "data": {
      "text/plain": [
       "<re.Match object; span=(0, 3), match='xyz'>"
      ]
     },
     "execution_count": 270,
     "metadata": {},
     "output_type": "execute_result"
    }
   ],
   "source": [
    "string=\"xyz\"\n",
    "pattern = \"x[yz?][z?]\" # write regex pattern here\n",
    "\n",
    "# check whether pattern is present in string or not\n",
    "re.search(pattern, string)"
   ]
  },
  {
   "cell_type": "code",
   "execution_count": 272,
   "metadata": {},
   "outputs": [
    {
     "data": {
      "text/plain": [
       "<re.Match object; span=(0, 4), match='1010'>"
      ]
     },
     "execution_count": 272,
     "metadata": {},
     "output_type": "execute_result"
    }
   ],
   "source": [
    "string=\"101000\"\n",
    "pattern = \"101*0\"# write your regex pattern here\n",
    "\n",
    "# check whether pattern is present in string or not\n",
    "re.search(pattern, string)"
   ]
  },
  {
   "cell_type": "code",
   "execution_count": 274,
   "metadata": {},
   "outputs": [
    {
     "data": {
      "text/plain": [
       "<re.Match object; span=(0, 8), match='11111110'>"
      ]
     },
     "execution_count": 274,
     "metadata": {},
     "output_type": "execute_result"
    }
   ],
   "source": [
    "string=\"11111110\"\n",
    "pattern = \"1*0\"# write regex pattern here\n",
    "\n",
    "# check whether pattern is present in string or not\n",
    "re.search(pattern, string)"
   ]
  },
  {
   "cell_type": "code",
   "execution_count": 275,
   "metadata": {},
   "outputs": [
    {
     "data": {
      "text/plain": [
       "<re.Match object; span=(0, 7), match='hurrrrr'>"
      ]
     },
     "execution_count": 275,
     "metadata": {},
     "output_type": "execute_result"
    }
   ],
   "source": [
    "#Write a regular expression to match the word ‘hurray’. But match only those variants of the \n",
    "#word where there are a minimum of two ‘r’s and a maximum of five ‘r’s.\n",
    "\n",
    "pattern = \"hur{2,5}\"# write your regex pattern here\n",
    "string=\"hurrrrrrray\"\n",
    "\n",
    "# check whether pattern is present in string or not\n",
    "re.search(pattern, string) "
   ]
  },
  {
   "cell_type": "code",
   "execution_count": 285,
   "metadata": {},
   "outputs": [
    {
     "data": {
      "text/plain": [
       "<re.Match object; span=(0, 9), match='000001111'>"
      ]
     },
     "execution_count": 285,
     "metadata": {},
     "output_type": "execute_result"
    }
   ],
   "source": [
    "pattern = \"0{3,}1{1,}\"# write your regex here\n",
    "string=\"000001111\"\n",
    "\n",
    "# check whether pattern is present in string or not\n",
    "re.search(pattern, string)"
   ]
  },
  {
   "cell_type": "code",
   "execution_count": 286,
   "metadata": {},
   "outputs": [
    {
     "data": {
      "text/plain": [
       "<re.Match object; span=(0, 12), match='232323237878'>"
      ]
     },
     "execution_count": 286,
     "metadata": {},
     "output_type": "execute_result"
    }
   ],
   "source": [
    "pattern = \"(23){1,}(78){1,}\"# write your regex here\n",
    "string=\"232323237878\"\n",
    "\n",
    "# check whether pattern is present in string or not\n",
    "re.search(pattern, string)"
   ]
  },
  {
   "cell_type": "code",
   "execution_count": 287,
   "metadata": {},
   "outputs": [
    {
     "data": {
      "text/plain": [
       "<re.Match object; span=(0, 10), match='Basketball'>"
      ]
     },
     "execution_count": 287,
     "metadata": {},
     "output_type": "execute_result"
    }
   ],
   "source": [
    "pattern = \"(Basket|Base|Volley|Soft|Foot)ball\" # write your egex here\n",
    "string=\"Basketball\"\n",
    "# check whether pattern is present in string or not\n",
    "re.search(pattern, string)"
   ]
  },
  {
   "cell_type": "code",
   "execution_count": 288,
   "metadata": {},
   "outputs": [
    {
     "data": {
      "text/plain": [
       "<re.Match object; span=(2, 3), match='*'>"
      ]
     },
     "execution_count": 288,
     "metadata": {},
     "output_type": "execute_result"
    }
   ],
   "source": [
    "# regex pattern\n",
    "pattern = \"\\*\"# write your regex here\n",
    "string=\"3a*4b\"\n",
    "\n",
    "# check whether pattern is present in string or not\n",
    "re.search(pattern, string)"
   ]
  },
  {
   "cell_type": "code",
   "execution_count": 282,
   "metadata": {},
   "outputs": [
    {
     "data": {
      "text/plain": [
       "<re.Match object; span=(0, 9), match='Awesomeee'>"
      ]
     },
     "execution_count": 282,
     "metadata": {},
     "output_type": "execute_result"
    }
   ],
   "source": [
    "#Write a regular expression which matches variants of the word ‘awesome’ where there \n",
    "#are more than two ‘e’s at the end of the word.\n",
    "\n",
    "pattern = \"Awesome{2,}\" # write your regex pattern here\n",
    "string=\"Awesomeee\"\n",
    "\n",
    "# check whether pattern is present in string or not\n",
    "re.search(pattern, string)"
   ]
  },
  {
   "cell_type": "code",
   "execution_count": 289,
   "metadata": {},
   "outputs": [
    {
     "data": {
      "text/plain": [
       "<re.Match object; span=(0, 1), match='A'>"
      ]
     },
     "execution_count": 289,
     "metadata": {},
     "output_type": "execute_result"
    }
   ],
   "source": [
    "#Write a pattern that matches all the dictionary words that start with ‘A’\n",
    "\n",
    "pattern = \"^A\"# write your regex here\n",
    "string=\"Avenger\"\n",
    "# check whether pattern is present in string or not\n",
    "re.search(pattern, string, re.I)"
   ]
  },
  {
   "cell_type": "code",
   "execution_count": 292,
   "metadata": {},
   "outputs": [
    {
     "data": {
      "text/plain": [
       "<re.Match object; span=(4, 7), match='ing'>"
      ]
     },
     "execution_count": 292,
     "metadata": {},
     "output_type": "execute_result"
    }
   ],
   "source": [
    "#Write a pattern which matches a word that ends with ‘ing’. Words such as ‘playing’, ‘growing’, ‘raining’, \n",
    "#etc. should match while words that don’t have ‘ing’ at the end shouldn’t match.\n",
    "string=\"playing\"\n",
    "pattern = \"(ing){1}$\"# write your regex here\n",
    "\n",
    "# check whether pattern is present in string or not\n",
    "re.search(pattern, string)"
   ]
  },
  {
   "cell_type": "code",
   "execution_count": 296,
   "metadata": {},
   "outputs": [
    {
     "data": {
      "text/plain": [
       "<re.Match object; span=(4, 7), match='ing'>"
      ]
     },
     "execution_count": 296,
     "metadata": {},
     "output_type": "execute_result"
    }
   ],
   "source": [
    "string=\"playing eating\"\n",
    "pattern = \"(ing){1,3}\"# write your regex here\n",
    "\n",
    "# check whether pattern is present in string or not\n",
    "re.search(pattern, string) "
   ]
  },
  {
   "cell_type": "code",
   "execution_count": 297,
   "metadata": {},
   "outputs": [
    {
     "data": {
      "text/plain": [
       "<re.Match object; span=(1, 8), match='mandeep'>"
      ]
     },
     "execution_count": 297,
     "metadata": {},
     "output_type": "execute_result"
    }
   ],
   "source": [
    "#Write a regular expression to match first names (consider only first names, i.e. there are no spaces in a name) \n",
    "#that have length between three and fifteen characters.\n",
    "\n",
    "string = \"Amandeep\"\n",
    "pattern = \"[a-z]{3,15}\"# write your regex here\n",
    "\n",
    "# check whether pattern is present in string or not\n",
    "re.search(pattern, string)"
   ]
  },
  {
   "cell_type": "code",
   "execution_count": 298,
   "metadata": {},
   "outputs": [
    {
     "data": {
      "text/plain": [
       "<re.Match object; span=(0, 10), match='irfann2590'>"
      ]
     },
     "execution_count": 298,
     "metadata": {},
     "output_type": "execute_result"
    }
   ],
   "source": [
    "#Write a regular expression with the help of meta-sequences that matches usernames of the users of a database. \n",
    "#The username starts with alphabets of length one to ten characters long and then followed by a number of length 4.\n",
    "\n",
    "pattern =\"[A-z]{1,10}[0-9]{4}\" # write your regex here\n",
    "string=\"irfann2590\"\n",
    "# check whether pattern is present in string or not\n",
    "re.search(pattern, string, re.I)\n"
   ]
  },
  {
   "cell_type": "code",
   "execution_count": 299,
   "metadata": {},
   "outputs": [
    {
     "data": {
      "text/plain": [
       "<re.Match object; span=(0, 103), match='<html> <head> <title> My amazing webpage </title>>"
      ]
     },
     "execution_count": 299,
     "metadata": {},
     "output_type": "execute_result"
    }
   ],
   "source": [
    "pattern = \"<.*>\" # write your regex here\n",
    "string= \"<html> <head> <title> My amazing webpage </title> </head> <body> Welcome to my webpage! </body> </html> \"\n",
    "# check whether pattern is present in string or not\n",
    "re.search(pattern, string, re.M)"
   ]
  },
  {
   "cell_type": "code",
   "execution_count": 301,
   "metadata": {},
   "outputs": [
    {
     "data": {
      "text/plain": [
       "<re.Match object; span=(0, 6), match='<html>'>"
      ]
     },
     "execution_count": 301,
     "metadata": {},
     "output_type": "execute_result"
    }
   ],
   "source": [
    "pattern = \"<.*?>\"# write your regex here\n",
    "string= \"<html> <head> <title> My amazing webpage </title> </head> <body> Welcome to my webpage! </body> </html> \"\n",
    "# check whether pattern is present in string or not\n",
    "re.search(pattern, string, re.M)"
   ]
  },
  {
   "cell_type": "code",
   "execution_count": 303,
   "metadata": {},
   "outputs": [
    {
     "data": {
      "text/plain": [
       "<re.Match object; span=(0, 2), match='aa'>"
      ]
     },
     "execution_count": 303,
     "metadata": {},
     "output_type": "execute_result"
    }
   ],
   "source": [
    "#Write a string such that when you run the re.match() function on the string using the given \n",
    "#regex pattern 'a{2,}' , the function returns a non-empty match.\n",
    "pattern = \"a{2,}\"\n",
    "string = \"aabcd\" # write your here\n",
    "\n",
    "# check whether pattern is present in string or not\n",
    "re.match(pattern, string, re.I)"
   ]
  },
  {
   "cell_type": "code",
   "execution_count": 304,
   "metadata": {},
   "outputs": [
    {
     "data": {
      "text/plain": [
       "'My address is XXB, Baker Street'"
      ]
     },
     "execution_count": 304,
     "metadata": {},
     "output_type": "execute_result"
    }
   ],
   "source": [
    "pattern = \"\\d\"\n",
    "replacement = \"X\"\n",
    "string = \"My address is 13B, Baker Street\"\n",
    "\n",
    "re.sub(pattern, replacement, string)"
   ]
  },
  {
   "cell_type": "code",
   "execution_count": 305,
   "metadata": {},
   "outputs": [
    {
     "data": {
      "text/plain": [
       "'You can reach us at xxxxxxxxxxx or xxxxxxxxxxx '"
      ]
     },
     "execution_count": 305,
     "metadata": {},
     "output_type": "execute_result"
    }
   ],
   "source": [
    "pattern = \"\\d\"# write a regex that detects 11-digit number\n",
    "string=\"You can reach us at 07400029954 or 02261562153 \"\n",
    "# replacement string\n",
    "replacement = \"x\"# write the replacement string\n",
    "\n",
    "# check whether pattern is present in string or not\n",
    "re.sub(pattern, replacement, string)"
   ]
  },
  {
   "cell_type": "code",
   "execution_count": 306,
   "metadata": {},
   "outputs": [
    {
     "data": {
      "text/plain": [
       "'$uilding careers of tomorrow'"
      ]
     },
     "execution_count": 306,
     "metadata": {},
     "output_type": "execute_result"
    }
   ],
   "source": [
    "#Write a regular expression such that it replaces the first letter of any given string with ‘$’. \n",
    "#For example, the string ‘Building careers of tomorrow’ should be replaced by “$uilding careers of tomorrow”.\n",
    "\n",
    "pattern = \"^.{1}\"# write a regex that detects the first character of a string\n",
    "string=\"Building careers of tomorrow\"\n",
    "# replacement string\n",
    "replacement = \"$\"# write the replacement string\n",
    "\n",
    "# check whether pattern is present in string or not\n",
    "re.sub(pattern, replacement, string)"
   ]
  },
  {
   "cell_type": "code",
   "execution_count": 322,
   "metadata": {},
   "outputs": [
    {
     "data": {
      "text/plain": [
       "['compare', 'apples', 'oranges.', 'Compare', 'apples', 'apples']"
      ]
     },
     "execution_count": 322,
     "metadata": {},
     "output_type": "execute_result"
    }
   ],
   "source": [
    "#Write a regular expression to extract all the words from a given sentence. \n",
    "#Then use the re.finditer() function and store all the matched words that are of length more than or \n",
    "#equal to 5 letters in a separate list called result.\n",
    "\n",
    "string=\"Do not compare apples with oranges. Compare apples with apples\"\n",
    "\n",
    "pattern = \"\\s\" # write regex to extract all the words from a given piece of text\n",
    "\n",
    "# store results in the list 'result'\n",
    "result = []\n",
    "\n",
    "# iterate over the matches\n",
    "start=0\n",
    "for i in re.finditer(pattern,string):\n",
    "    end= i.start()\n",
    "    if len(string[start:end])>5:\n",
    "        result.append( string[start:end] )\n",
    "    start=end+1\n",
    "if len( string[start:] )>5:\n",
    "    result.append(string[start:])\n",
    "\n",
    "    \n",
    "result"
   ]
  },
  {
   "cell_type": "code",
   "execution_count": 327,
   "metadata": {},
   "outputs": [
    {
     "name": "stdout",
     "output_type": "stream",
     "text": [
      "5\n"
     ]
    }
   ],
   "source": [
    "pattern = \"(ing)\"# write regex to extract words ending with 'ing'\n",
    "string = \"eating, sleeping, singing, asking\"\n",
    "# store results in the list 'result'\n",
    "result = re.findall(pattern,string) # extract words having the required pattern, using the findall function\n",
    "\n",
    "# evaluate result - don't change the following piece of code, it is used to evaluate your regex\n",
    "print(len(result))"
   ]
  },
  {
   "cell_type": "code",
   "execution_count": 331,
   "metadata": {},
   "outputs": [
    {
     "data": {
      "text/plain": [
       "['ing', 'ing', 'ing', 'ing', 'ing']"
      ]
     },
     "execution_count": 331,
     "metadata": {},
     "output_type": "execute_result"
    }
   ],
   "source": [
    "result"
   ]
  },
  {
   "cell_type": "code",
   "execution_count": 346,
   "metadata": {},
   "outputs": [
    {
     "data": {
      "text/plain": [
       "[('15', '03', '1995')]"
      ]
     },
     "execution_count": 346,
     "metadata": {},
     "output_type": "execute_result"
    }
   ],
   "source": [
    "string=\"Kartik’s birthday is on 15/03/1995\"\n",
    "pattern=\"(\\d{1,2})/(\\d{1,2})/(\\d{4})$\"\n",
    "re.findall(pattern,string)"
   ]
  },
  {
   "cell_type": "code",
   "execution_count": 348,
   "metadata": {},
   "outputs": [
    {
     "data": {
      "text/plain": [
       "[]"
      ]
     },
     "execution_count": 348,
     "metadata": {},
     "output_type": "execute_result"
    }
   ],
   "source": [
    "string=\"Kartik’s birthday is on 15/03/1995\"\n",
    "pattern=\"^\\d{1,2}/\\d{1,2}/(\\d{4})$\"\n",
    "re.findall(pattern,string)\n"
   ]
  },
  {
   "cell_type": "code",
   "execution_count": 347,
   "metadata": {},
   "outputs": [
    {
     "data": {
      "text/plain": [
       "['1995']"
      ]
     },
     "execution_count": 347,
     "metadata": {},
     "output_type": "execute_result"
    }
   ],
   "source": [
    "string=\"Kartik’s birthday is on 15/03/1995\"\n",
    "pattern=\"\\d{1,2}/\\d{1,2}/(\\d{4})$\"\n",
    "re.findall(pattern,string)\n"
   ]
  },
  {
   "cell_type": "code",
   "execution_count": 344,
   "metadata": {},
   "outputs": [
    {
     "data": {
      "text/plain": [
       "[('2020', '01'), ('2021', '20')]"
      ]
     },
     "execution_count": 344,
     "metadata": {},
     "output_type": "execute_result"
    }
   ],
   "source": [
    "string=\"https://pmlogy.blogspot.com/2020/01/i-hate-reading.2021/20html\"\n",
    "pattern=\"(\\d{4})/(\\d{2})\"\n",
    "re.findall(pattern,string)"
   ]
  },
  {
   "cell_type": "code",
   "execution_count": 350,
   "metadata": {},
   "outputs": [
    {
     "data": {
      "text/plain": [
       "<re.Match object; span=(16, 26), match='18-05-2018'>"
      ]
     },
     "execution_count": 350,
     "metadata": {},
     "output_type": "execute_result"
    }
   ],
   "source": [
    "# regex pattern\n",
    "pattern = \"(\\d{1,2})-(\\d{1,2})-(\\d{4})\"# write regex to extract date in DD-MM-YYYY format\n",
    "string=\"Today’s date is 18-05-2018.\"\n",
    "# store result\n",
    "re.search(pattern, string)  # pass the parameters to the re.search() function\n"
   ]
  },
  {
   "cell_type": "code",
   "execution_count": 366,
   "metadata": {},
   "outputs": [
    {
     "name": "stdout",
     "output_type": "stream",
     "text": [
      "05\n"
     ]
    }
   ],
   "source": [
    "# regex pattern\n",
    "string=\"Today’s date is 18-05-2018.\"\n",
    "#string=\"Today’s date is 18/05/2018.\"\n",
    "pattern = \"\\d{1,2}-(\\d{1,2})-\\d{4}\" # write regex to extract date and use grouping to extract month\n",
    "\n",
    "# store result\n",
    "result = re.findall(pattern, string)\n",
    "\n",
    "# extract month using group command\n",
    "if result != None and len(result)==1:\n",
    "    month = result[0] # extract month using group command\n",
    "else:\n",
    "    month = \"NA\"\n",
    "    \n",
    "print (month)"
   ]
  },
  {
   "cell_type": "code",
   "execution_count": 367,
   "metadata": {},
   "outputs": [
    {
     "name": "stdout",
     "output_type": "stream",
     "text": [
      "gmail.com\n"
     ]
    }
   ],
   "source": [
    "pattern = \"[A-z0-9_]+@([A-z]+\\.com)\"# write regex to extract email and use groups to extract domain name ofthe mail\n",
    "string=\"user_name_123@gmail.com\"\n",
    "# store result\n",
    "result = re.findall(pattern, string)\n",
    "\n",
    "# extract domain using group command\n",
    "if result != None and len(result)==1:\n",
    "    domain = result[0]# use group to extract the domain from result\n",
    "else:\n",
    "    domain = \"NA\"\n",
    "\n",
    "# evaluate result - don't change the following piece of code, it is used to evaluate your regex\n",
    "print(domain)"
   ]
  },
  {
   "cell_type": "code",
   "execution_count": 368,
   "metadata": {},
   "outputs": [
    {
     "name": "stdout",
     "output_type": "stream",
     "text": [
      "['image001.jpg', 'image002.jpg', 'image005.jpg', 'wallpaper.jpg', 'flower.jpg', 'earth.jpg', 'monkey.jpg']\n"
     ]
    }
   ],
   "source": [
    "# items contains all the files and folders of current directory\n",
    "items = ['photos', 'documents', 'videos', 'image001.jpg','image002.jpg','image005.jpg', 'wallpaper.jpg',\n",
    "         'flower.jpg', 'earth.jpg', 'monkey.jpg', 'image002.png']\n",
    "\n",
    "# create an empty list to store resultant files\n",
    "images = []\n",
    "\n",
    "# regex pattern to extract files that end with '.jpg'\n",
    "pattern = \".*\\.jpg$\"\n",
    "\n",
    "for item in items:\n",
    "    if re.search(pattern, item):\n",
    "        images.append(item)\n",
    "\n",
    "# print result\n",
    "print(images)"
   ]
  },
  {
   "cell_type": "code",
   "execution_count": 369,
   "metadata": {},
   "outputs": [
    {
     "name": "stdout",
     "output_type": "stream",
     "text": [
      "['image001.jpg', 'image002.jpg', 'image005.jpg']\n"
     ]
    }
   ],
   "source": [
    "# items contains all the files and folders of current directory\n",
    "items = ['photos', 'documents', 'videos', 'image001.jpg','image002.jpg','image005.jpg', 'wallpaper.jpg',\n",
    "         'flower.jpg', 'earth.jpg', 'monkey.jpg', 'image002.png']\n",
    "\n",
    "# create an empty list to store resultant files\n",
    "images = []\n",
    "\n",
    "# regex pattern to extract files that start with 'image' and end with '.jpg'\n",
    "pattern = \"image.*\\.jpg$\"\n",
    "\n",
    "for item in items:\n",
    "    if re.search(pattern, item):\n",
    "        images.append(item)\n",
    "\n",
    "# print result\n",
    "print(images)"
   ]
  },
  {
   "cell_type": "code",
   "execution_count": null,
   "metadata": {},
   "outputs": [],
   "source": []
  },
  {
   "cell_type": "code",
   "execution_count": null,
   "metadata": {},
   "outputs": [],
   "source": []
  },
  {
   "cell_type": "code",
   "execution_count": null,
   "metadata": {},
   "outputs": [],
   "source": []
  },
  {
   "cell_type": "code",
   "execution_count": null,
   "metadata": {},
   "outputs": [],
   "source": []
  },
  {
   "cell_type": "code",
   "execution_count": null,
   "metadata": {},
   "outputs": [],
   "source": []
  },
  {
   "cell_type": "code",
   "execution_count": 284,
   "metadata": {},
   "outputs": [
    {
     "data": {
      "text/plain": [
       "<re.Match object; span=(0, 4), match='abbb'>"
      ]
     },
     "execution_count": 284,
     "metadata": {},
     "output_type": "execute_result"
    }
   ],
   "source": [
    "#Write a regular expression that matches the a string where ‘a’ is followed by ‘b’ a maximum of three times.\n",
    "\n",
    "pattern = \"ab{,3}\"# write your regex here\n",
    "string=\"abbb\"\n",
    "\n",
    "# check whether pattern is present in string or not\n",
    "re.search(pattern, string)"
   ]
  },
  {
   "cell_type": "code",
   "execution_count": 279,
   "metadata": {},
   "outputs": [
    {
     "data": {
      "text/plain": [
       "False"
      ]
     },
     "execution_count": 279,
     "metadata": {},
     "output_type": "execute_result"
    }
   ],
   "source": [
    "x==None"
   ]
  },
  {
   "cell_type": "code",
   "execution_count": null,
   "metadata": {},
   "outputs": [],
   "source": [
    "Quantifiers\n",
    "Description\n",
    "Write a regular expression that matches the following words: \n",
    "xyz \n",
    "xy \n",
    "xz \n",
    "x\n",
    "\n",
    "Make sure that the regular expression doesn’t match the following words: \n",
    "Xyyz \n",
    "Xyzz\n",
    "Xyy \n",
    "Xzz \n",
    "Yz \n"
   ]
  },
  {
   "cell_type": "code",
   "execution_count": 53,
   "metadata": {},
   "outputs": [
    {
     "name": "stdout",
     "output_type": "stream",
     "text": [
      "True\n",
      "0 <re.Match object; span=(0, 3), match='abc'>\n"
     ]
    }
   ],
   "source": [
    "import re\n",
    "import ast, sys\n",
    "string = \"abcdef\" #sys.stdin.read()\n",
    "\n",
    "# regex pattern\n",
    "pattern = \"abc*\" # write regex pattern here\n",
    "\n",
    "# check whether pattern is present in string or not\n",
    "result = re.search(pattern, string)\n",
    "\n",
    "# evaluate result - don't change the following piece of code, it is used to evaluate your regex\n",
    "if result != None:\n",
    "    print(True)\n",
    "else:\n",
    "    print(False)\n",
    "    \n",
    "print (result.start(),result)"
   ]
  },
  {
   "cell_type": "code",
   "execution_count": 29,
   "metadata": {},
   "outputs": [
    {
     "data": {
      "text/plain": [
       "<re.Match object; span=(0, 0), match=''>"
      ]
     },
     "execution_count": 29,
     "metadata": {},
     "output_type": "execute_result"
    }
   ],
   "source": [
    "result"
   ]
  },
  {
   "cell_type": "code",
   "execution_count": 111,
   "metadata": {},
   "outputs": [
    {
     "name": "stdout",
     "output_type": "stream",
     "text": [
      "<re.Match object; span=(0, 2), match='11'>\n"
     ]
    }
   ],
   "source": [
    "pattern=\"1?1\"\n",
    "string=\"1110000\"\n",
    "print(re.search(pattern,string))"
   ]
  },
  {
   "cell_type": "code",
   "execution_count": 110,
   "metadata": {},
   "outputs": [
    {
     "name": "stdout",
     "output_type": "stream",
     "text": [
      "<re.Match object; span=(0, 3), match='111'>\n"
     ]
    }
   ],
   "source": [
    "pattern=\"1+1\"\n",
    "string=\"1110000\"\n",
    "print(re.search(pattern,string))"
   ]
  },
  {
   "cell_type": "code",
   "execution_count": 101,
   "metadata": {},
   "outputs": [
    {
     "name": "stdout",
     "output_type": "stream",
     "text": [
      "<re.Match object; span=(0, 4), match='1110'>\n"
     ]
    }
   ],
   "source": [
    "pattern=\"1*0\"\n",
    "string=\"1110000\"\n",
    "print(re.search(pattern,string))"
   ]
  },
  {
   "cell_type": "code",
   "execution_count": 100,
   "metadata": {},
   "outputs": [
    {
     "name": "stdout",
     "output_type": "stream",
     "text": [
      "<re.Match object; span=(2, 4), match='10'>\n"
     ]
    }
   ],
   "source": [
    "pattern=\"1?0\"\n",
    "string=\"1110000\"\n",
    "print(re.search(pattern,string))"
   ]
  },
  {
   "cell_type": "code",
   "execution_count": 99,
   "metadata": {},
   "outputs": [
    {
     "name": "stdout",
     "output_type": "stream",
     "text": [
      "<re.Match object; span=(1, 5), match='1010'>\n"
     ]
    }
   ],
   "source": [
    "pattern=\"1010?\"\n",
    "string=\"11010000\"\n",
    "print(re.search(pattern,string))"
   ]
  },
  {
   "cell_type": "code",
   "execution_count": 113,
   "metadata": {},
   "outputs": [
    {
     "name": "stdout",
     "output_type": "stream",
     "text": [
      "None\n"
     ]
    }
   ],
   "source": [
    "pattern=\"ab?c\"\n",
    "string=\"adc\"\n",
    "print(re.search(pattern,string))"
   ]
  },
  {
   "cell_type": "code",
   "execution_count": 115,
   "metadata": {},
   "outputs": [
    {
     "name": "stdout",
     "output_type": "stream",
     "text": [
      "<re.Match object; span=(3, 4), match=' '>\n"
     ]
    }
   ],
   "source": [
    "pattern=\"\\s\"\n",
    "string=\"           abc\"\n",
    "string=\"abc           \"\n",
    "print(re.search(pattern,string))"
   ]
  },
  {
   "cell_type": "code",
   "execution_count": 116,
   "metadata": {},
   "outputs": [
    {
     "name": "stdout",
     "output_type": "stream",
     "text": [
      "<re.Match object; span=(2, 3), match=' '>\n"
     ]
    }
   ],
   "source": [
    "pattern=\"\\s\"\n",
    "string=\"           abc\"\n",
    "string=\"ab c  \"\n",
    "print(re.search(pattern,string))"
   ]
  },
  {
   "cell_type": "code",
   "execution_count": 119,
   "metadata": {},
   "outputs": [
    {
     "name": "stdout",
     "output_type": "stream",
     "text": [
      "<re.Match object; span=(11, 12), match='a'>\n"
     ]
    }
   ],
   "source": [
    "pattern=\"\\S\"\n",
    "string=\"           abc\"\n",
    "\n",
    "print(re.search(pattern,string))"
   ]
  },
  {
   "cell_type": "code",
   "execution_count": 120,
   "metadata": {},
   "outputs": [
    {
     "name": "stdout",
     "output_type": "stream",
     "text": [
      "<re.Match object; span=(0, 26), match='file_record_transcript.pdf'>\n"
     ]
    }
   ],
   "source": [
    "pattern=\"^(file.+)(pdf)$\"\n",
    "string=\"file_record_transcript.pdf\"\n",
    "print(re.search(pattern,string))"
   ]
  },
  {
   "cell_type": "code",
   "execution_count": 124,
   "metadata": {},
   "outputs": [
    {
     "name": "stdout",
     "output_type": "stream",
     "text": [
      "<re.Match object; span=(0, 4), match='abbc'>\n"
     ]
    }
   ],
   "source": [
    "pattern=\"ab+c\"\n",
    "string=\"abbc\"\n",
    "\n",
    "print(re.search(pattern,string))"
   ]
  },
  {
   "cell_type": "code",
   "execution_count": 126,
   "metadata": {},
   "outputs": [
    {
     "name": "stdout",
     "output_type": "stream",
     "text": [
      "<re.Match object; span=(0, 2), match='ac'>\n"
     ]
    }
   ],
   "source": [
    "pattern=\"ab*c\"\n",
    "string=\"ac\"\n",
    "\n",
    "print(re.search(pattern,string))"
   ]
  },
  {
   "cell_type": "code",
   "execution_count": 132,
   "metadata": {},
   "outputs": [
    {
     "name": "stdout",
     "output_type": "stream",
     "text": [
      "<re.Match object; span=(0, 9), match='abcabcabc'>\n"
     ]
    }
   ],
   "source": [
    "pattern=\"(abc){1,3}\"\n",
    "string=\"abcabcabc\"\n",
    "print(re.search(pattern,string))"
   ]
  },
  {
   "cell_type": "code",
   "execution_count": 133,
   "metadata": {},
   "outputs": [
    {
     "name": "stdout",
     "output_type": "stream",
     "text": [
      "<re.Match object; span=(0, 3), match='abc'>\n"
     ]
    }
   ],
   "source": [
    "pattern=\"a(bc){1,3}\"\n",
    "string=\"abcabcabc\"\n",
    "print(re.search(pattern,string))"
   ]
  },
  {
   "cell_type": "code",
   "execution_count": 134,
   "metadata": {},
   "outputs": [
    {
     "name": "stdout",
     "output_type": "stream",
     "text": [
      "None\n"
     ]
    }
   ],
   "source": [
    "pattern=\"a(bc){2,3}\"\n",
    "string=\"abcabcabc\"\n",
    "print(re.search(pattern,string))"
   ]
  },
  {
   "cell_type": "code",
   "execution_count": 135,
   "metadata": {},
   "outputs": [
    {
     "name": "stdout",
     "output_type": "stream",
     "text": [
      "<re.Match object; span=(0, 5), match='abcbc'>\n"
     ]
    }
   ],
   "source": [
    "pattern=\"a(bc){2,3}\"\n",
    "string=\"abcbcabcabc\"\n",
    "print(re.search(pattern,string))"
   ]
  },
  {
   "cell_type": "code",
   "execution_count": 137,
   "metadata": {},
   "outputs": [
    {
     "data": {
      "text/plain": [
       "<re.Match object; span=(0, 10), match='Basketball'>"
      ]
     },
     "execution_count": 137,
     "metadata": {},
     "output_type": "execute_result"
    }
   ],
   "source": [
    "string = \"Basketball\"\n",
    "\n",
    "# regex pattern\n",
    "pattern = \"(Basket|Base|Volley|Soft|Foot)ball\" # write your egex here\n",
    "\n",
    "# check whether pattern is present in string or not\n",
    "result = re.search(pattern, string)\n",
    "result"
   ]
  },
  {
   "cell_type": "code",
   "execution_count": 142,
   "metadata": {},
   "outputs": [
    {
     "name": "stdout",
     "output_type": "stream",
     "text": [
      "3.9299997297348455e-05\n",
      "4.9700000090524554e-05\n"
     ]
    }
   ],
   "source": [
    "# without re.compile() function\n",
    "from timeit import default_timer as timer\n",
    "t1=timer()\n",
    "result = re.search(\"a+\", \"abc\")\n",
    "t2=timer()\n",
    "\n",
    "print (t2-t1)\n",
    "# using the re.compile() function\n",
    "t1=timer()\n",
    "pattern = re.compile(\"a+\")\n",
    "result = pattern.search(\"abc\")\n",
    "t2=timer()\n",
    "print (t2-t1)\n"
   ]
  },
  {
   "cell_type": "code",
   "execution_count": 147,
   "metadata": {},
   "outputs": [
    {
     "name": "stdout",
     "output_type": "stream",
     "text": [
      "<re.Match object; span=(0, 1), match='A'>\n"
     ]
    }
   ],
   "source": [
    "# regex pattern\n",
    "pattern = \"^A\"# write your regex here\n",
    "string=\"Assumption\"\n",
    "# check whether pattern is present in string or not\n",
    "result = re.search(pattern, string, re.I)  # re.I ignores the case of the string and the pattern\n",
    "print (result)"
   ]
  },
  {
   "cell_type": "code",
   "execution_count": null,
   "metadata": {},
   "outputs": [],
   "source": [
    "# Write a regular expression that matches any string that starts with one or more ‘1’s, \n",
    "#followed by three or more ‘0’s, followed by any number of ones (zero or more), followed by \n",
    "#‘0’s (from one to seven), and then ends with either two or three ‘1’s.\n",
    "\n",
    "string=\"11000011000111\"\n",
    "\n",
    "pattern = \"^1+0{3,}1{0,}0{1,7}1{2,3}$\" # write your regex here\n",
    "\n",
    "# check whether pattern is present in string or not\n",
    "result = re.search(pattern, string)\n"
   ]
  },
  {
   "cell_type": "code",
   "execution_count": 159,
   "metadata": {},
   "outputs": [
    {
     "name": "stdout",
     "output_type": "stream",
     "text": [
      "<re.Match object; span=(14, 19), match='battt'>\n"
     ]
    }
   ],
   "source": [
    "string=\"xbattsman and batttsmen\"\n",
    "\n",
    "pattern = \"bat{3,5}\" # write your regex here\n",
    "\n",
    "# check whether pattern is present in string or not\n",
    "result = re.search(pattern, string)\n",
    "print (result)"
   ]
  },
  {
   "cell_type": "code",
   "execution_count": 164,
   "metadata": {},
   "outputs": [
    {
     "name": "stdout",
     "output_type": "stream",
     "text": [
      "<re.Match object; span=(1, 4), match='bat'>\n"
     ]
    }
   ],
   "source": [
    "string=\"xbattsman and batttsmen\"\n",
    "\n",
    "pattern = \"bat+?\" # write your regex here\n",
    "\n",
    "# check whether pattern is present in string or not\n",
    "result = re.search(pattern, string)\n",
    "print (result)"
   ]
  },
  {
   "cell_type": "code",
   "execution_count": 184,
   "metadata": {},
   "outputs": [
    {
     "name": "stdout",
     "output_type": "stream",
     "text": [
      "True\n"
     ]
    }
   ],
   "source": [
    "import re\n",
    "import ast, sys\n",
    "#string = sys.stdin.read()\n",
    "string=\"<html><head><title> My amazing webpage </title></head><body>Welcome to my webpage. </body></html>\"\n",
    "# regex pattern\n",
    "pattern = \"<.*>\" # write your regex here\n",
    "\n",
    "# check whether pattern is present in string or not\n",
    "result = re.search(pattern, string, re.M)  # re.M enables tha tpettern to be searched in multiple lines\n",
    "\n",
    "# evaluate result - don't change the following piece of code, it is used to evaluate your regex\n",
    "if (result != None) and (len(result.group()) > 6):\n",
    "    print(True)\n",
    "else:\n",
    "    print(False)"
   ]
  },
  {
   "cell_type": "code",
   "execution_count": 185,
   "metadata": {},
   "outputs": [
    {
     "data": {
      "text/plain": [
       "<re.Match object; span=(0, 97), match='<html><head><title> My amazing webpage </title></>"
      ]
     },
     "execution_count": 185,
     "metadata": {},
     "output_type": "execute_result"
    }
   ],
   "source": [
    "result"
   ]
  },
  {
   "cell_type": "code",
   "execution_count": 182,
   "metadata": {},
   "outputs": [
    {
     "name": "stdout",
     "output_type": "stream",
     "text": [
      "False\n"
     ]
    }
   ],
   "source": [
    "import re\n",
    "import ast, sys\n",
    "#string = sys.stdin.read()\n",
    "string=\"<html><head><title> My amazing webpage </title></head><body>Welcome to my webpage. </body></html>\"\n",
    "# regex pattern\n",
    "pattern = \"<.*?>\" # write your regex here\n",
    "\n",
    "# check whether pattern is present in string or not\n",
    "result = re.search(pattern, string, re.M)  # re.M enables tha tpettern to be searched in multiple lines\n",
    "\n",
    "# evaluate result - don't change the following piece of code, it is used to evaluate your regex\n",
    "if (result != None) and (len(result.group()) > 6):\n",
    "    print(True)\n",
    "else:\n",
    "    print(False)"
   ]
  },
  {
   "cell_type": "code",
   "execution_count": 192,
   "metadata": {},
   "outputs": [
    {
     "name": "stdout",
     "output_type": "stream",
     "text": [
      "True\n",
      "<re.Match object; span=(0, 2), match='aa'>\n"
     ]
    }
   ],
   "source": [
    "import re\n",
    "import ast, sys\n",
    "pattern = sys.stdin.read()\n",
    "\n",
    "# write a string such that the re.match() function returns a non-empty match while using the pattern 'a{2,}' \n",
    "string = \"aabcd\" # write your here\n",
    "pattern= \"a{2,}\"\n",
    "\n",
    "# check whether pattern is present in string or not\n",
    "result = re.match(pattern, string, re.I)\n",
    "\n",
    "# evaluate result - don't change the following piece of code, it is used to evaluate your regex\n",
    "if (result != None):\n",
    "    print(True)\n",
    "else:\n",
    "    print(False)\n",
    "print(result)"
   ]
  },
  {
   "cell_type": "code",
   "execution_count": 193,
   "metadata": {},
   "outputs": [
    {
     "data": {
      "text/plain": [
       "'1 Ramakrishna Street'"
      ]
     },
     "execution_count": 193,
     "metadata": {},
     "output_type": "execute_result"
    }
   ],
   "source": [
    "street = \"1 Ramakrishna Road\"\n",
    "re.sub(\"Road\",\"Street\",street)"
   ]
  },
  {
   "cell_type": "code",
   "execution_count": 194,
   "metadata": {},
   "outputs": [
    {
     "data": {
      "text/plain": [
       "'1 Street Street'"
      ]
     },
     "execution_count": 194,
     "metadata": {},
     "output_type": "execute_result"
    }
   ],
   "source": [
    "street = \"1 Ramakrishna Road\"\n",
    "re.sub(\"R\\w+\",\"Street\",street)"
   ]
  },
  {
   "cell_type": "code",
   "execution_count": 195,
   "metadata": {},
   "outputs": [
    {
     "data": {
      "text/plain": [
       "'1 Streetmakrishna Streetad'"
      ]
     },
     "execution_count": 195,
     "metadata": {},
     "output_type": "execute_result"
    }
   ],
   "source": [
    "street = \"1 Ramakrishna Road\"\n",
    "re.sub(\"R\\w+?\",\"Street\",street)"
   ]
  },
  {
   "cell_type": "code",
   "execution_count": 197,
   "metadata": {},
   "outputs": [
    {
     "data": {
      "text/plain": [
       "'1 Streetmakrishna Streetad'"
      ]
     },
     "execution_count": 197,
     "metadata": {},
     "output_type": "execute_result"
    }
   ],
   "source": [
    "street = \"1 Ramakrishna Road\"\n",
    "re.sub(\"R\\w?\",\"Street\",street)"
   ]
  },
  {
   "cell_type": "code",
   "execution_count": 198,
   "metadata": {},
   "outputs": [
    {
     "data": {
      "text/plain": [
       "'My address is XXB, Baker Street'"
      ]
     },
     "execution_count": 198,
     "metadata": {},
     "output_type": "execute_result"
    }
   ],
   "source": [
    "pattern = \"\\d\"\n",
    "replacement = \"X\"\n",
    "string = \"My address is 13B, Baker Street\"\n",
    "\n",
    "re.sub(pattern, replacement, string)"
   ]
  },
  {
   "cell_type": "code",
   "execution_count": 200,
   "metadata": {},
   "outputs": [
    {
     "data": {
      "text/plain": [
       "'You can reach us at xxxxxxxxxxx or xxxxxxxxxxx'"
      ]
     },
     "execution_count": 200,
     "metadata": {},
     "output_type": "execute_result"
    }
   ],
   "source": [
    "# regex pattern\n",
    "pattern = \"\\d\"# write a regex that detects 11-digit number\n",
    "string= \"You can reach us at 07400029954 or 02261562153\"\n",
    "# replacement string\n",
    "replacement = \"x\"# write the replacement string\n",
    "\n",
    "# check whether pattern is present in string or not\n",
    "result = re.sub(pattern, replacement, string)\n",
    "result"
   ]
  },
  {
   "cell_type": "code",
   "execution_count": 201,
   "metadata": {},
   "outputs": [
    {
     "data": {
      "text/plain": [
       "'$his is good string'"
      ]
     },
     "execution_count": 201,
     "metadata": {},
     "output_type": "execute_result"
    }
   ],
   "source": [
    "string=\"This is good string\"\n",
    "pattern = \"^.{1}\"# write a regex that detects the first character of a string\n",
    "\n",
    "# replacement string\n",
    "replacement = \"$\"# write the replacement string\n",
    "\n",
    "# check whether pattern is present in string or not\n",
    "result = re.sub(pattern, replacement, string)  # pass the parameters to the sub function\n",
    "result"
   ]
  },
  {
   "cell_type": "code",
   "execution_count": 343,
   "metadata": {},
   "outputs": [
    {
     "data": {
      "text/plain": [
       "[('2020', '01'), ('2021', '20')]"
      ]
     },
     "execution_count": 343,
     "metadata": {},
     "output_type": "execute_result"
    }
   ],
   "source": [
    "string=\"https://pmlogy.blogspot.com/2020/01/i-hate-reading.2021/20html\"\n",
    "pattern=\"(\\d{4})/(\\d{2})\"\n",
    "re.findall(pattern,string)\n"
   ]
  },
  {
   "cell_type": "code",
   "execution_count": 229,
   "metadata": {},
   "outputs": [
    {
     "name": "stdout",
     "output_type": "stream",
     "text": [
      "2\n",
      "6\n",
      "14\n",
      "21\n",
      "26\n",
      "35\n",
      "43\n",
      "50\n",
      "55\n",
      "0\n"
     ]
    }
   ],
   "source": [
    "import re\n",
    "import ast, sys\n",
    "string = \"Do not compare apples with oranges. Compare apples with apples\"\n",
    "# regex pattern\n",
    "pattern = \" \" # write regex to extract all the words from a given piece of text\n",
    "\n",
    "# store results in the list 'result'\n",
    "result = []\n",
    "for i in re.finditer(pattern,string):\n",
    "    print (i.start())\n",
    "\n",
    "\n",
    "# iterate over the matches\n",
    "for match in re.finditer(pattern,string): # replace the ___ with the 'finditer' function to extract 'pattern' from the 'string'\n",
    "    if len(match.group()) >= 5:\n",
    "        result.append(match)\n",
    "    else:\n",
    "        continue\n",
    "\n",
    "# evaluate result - don't change the following piece of code, it is used to evaluate your regex\n",
    "print(len(result))"
   ]
  },
  {
   "cell_type": "code",
   "execution_count": 256,
   "metadata": {},
   "outputs": [
    {
     "data": {
      "text/plain": [
       "['Do',\n",
       " 'not',\n",
       " 'compare',\n",
       " 'apples',\n",
       " 'with',\n",
       " 'oranges.',\n",
       " 'Compare',\n",
       " 'apples',\n",
       " 'with',\n",
       " 'apples']"
      ]
     },
     "execution_count": 256,
     "metadata": {},
     "output_type": "execute_result"
    }
   ],
   "source": [
    "string=\"Diwali is one fest and Holi is another fest\"\n",
    "string='Do not compare apples with oranges. Compare apples with apples'\n",
    "pattern=\" \"\n",
    "result=[]\n",
    "start=0\n",
    "for i in re.finditer(pattern,string):\n",
    "    end= i.start()\n",
    "    result.append( string[start:end] )\n",
    "    start=end+1\n",
    "    \n",
    "result.append( string[start:] )    \n",
    "result"
   ]
  },
  {
   "cell_type": "code",
   "execution_count": 260,
   "metadata": {},
   "outputs": [
    {
     "name": "stdout",
     "output_type": "stream",
     "text": [
      "5\n"
     ]
    }
   ],
   "source": [
    "#Write a regular expression to extract all the words that have the suffix ‘ing’ \n",
    "#using the re.findall() function. Store the matches in the variable ‘results’ and print its length.\n",
    "\n",
    "import re\n",
    "import ast, sys\n",
    "string = \"Playing outdoor games when its raining outside is always fun!\"\n",
    "\n",
    "# regex pattern\n",
    "pattern = \"(ing)*\"# write regex to extract words ending with 'ing'\n",
    "\n",
    "# store results in the list 'result'\n",
    "result = re.findall(pattern,pattern) # extract words having the required pattern, using the findall function\n",
    "\n",
    "# evaluate result - don't change the following piece of code, it is used to evaluate your regex\n",
    "print(len(result))"
   ]
  },
  {
   "cell_type": "code",
   "execution_count": 261,
   "metadata": {},
   "outputs": [
    {
     "data": {
      "text/plain": [
       "['', 'ing', '', '', '']"
      ]
     },
     "execution_count": 261,
     "metadata": {},
     "output_type": "execute_result"
    }
   ],
   "source": [
    "result"
   ]
  },
  {
   "cell_type": "code",
   "execution_count": null,
   "metadata": {},
   "outputs": [],
   "source": []
  }
 ],
 "metadata": {
  "kernelspec": {
   "display_name": "Python 3",
   "language": "python",
   "name": "python3"
  },
  "language_info": {
   "codemirror_mode": {
    "name": "ipython",
    "version": 3
   },
   "file_extension": ".py",
   "mimetype": "text/x-python",
   "name": "python",
   "nbconvert_exporter": "python",
   "pygments_lexer": "ipython3",
   "version": "3.7.1"
  }
 },
 "nbformat": 4,
 "nbformat_minor": 2
}
