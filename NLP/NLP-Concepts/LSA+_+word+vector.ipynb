{
 "cells": [
  {
   "cell_type": "code",
   "execution_count": 1,
   "metadata": {},
   "outputs": [],
   "source": [
    "import nltk"
   ]
  },
  {
   "cell_type": "code",
   "execution_count": 60,
   "metadata": {},
   "outputs": [
    {
     "name": "stdout",
     "output_type": "stream",
     "text": [
      "[['Seven', 'continent', 'planet'], ['Five', 'ocean', 'planet'], ['Asia', 'largest', 'continent'], ['Pacific', 'Ocean', 'largest'], ['Ocean', 'saline', 'water']]\n"
     ]
    }
   ],
   "source": [
    "TextCorpus = ['Seven continent planet',\n",
    "'Five ocean planet', \n",
    "'Asia largest continent', \n",
    "'Pacific Ocean largest', \n",
    "'Ocean saline water']\n",
    "\n",
    "text_tokens = [sent.split() for sent in TextCorpus]\n",
    "print(text_tokens)\n"
   ]
  },
  {
   "cell_type": "code",
   "execution_count": 33,
   "metadata": {},
   "outputs": [],
   "source": [
    "from sklearn.feature_extraction.text import TfidfVectorizer"
   ]
  },
  {
   "cell_type": "code",
   "execution_count": 61,
   "metadata": {},
   "outputs": [],
   "source": [
    "transformer = TfidfVectorizer()\n",
    "tfidf = transformer.fit_transform(TextCorpus) "
   ]
  },
  {
   "cell_type": "code",
   "execution_count": null,
   "metadata": {},
   "outputs": [],
   "source": []
  },
  {
   "cell_type": "code",
   "execution_count": 40,
   "metadata": {},
   "outputs": [
    {
     "name": "stdout",
     "output_type": "stream",
     "text": [
      "  (0, 9)\t0.5773502691896257\n",
      "  (0, 2)\t0.5773502691896257\n",
      "  (0, 7)\t0.5773502691896257\n",
      "  (1, 9)\t0.3701688628879373\n",
      "  (1, 7)\t0.3701688628879373\n",
      "  (1, 0)\t0.4588147642793905\n",
      "  (1, 10)\t0.4588147642793905\n",
      "  (1, 3)\t0.4588147642793905\n",
      "  (1, 5)\t0.3072735949186737\n",
      "  (2, 2)\t0.5317722537280788\n",
      "  (2, 1)\t0.6591180018251055\n",
      "  (2, 4)\t0.5317722537280788\n",
      "  (3, 5)\t0.46220770413113277\n",
      "  (3, 4)\t0.5568161504458247\n",
      "  (3, 6)\t0.6901592662889633\n",
      "  (4, 5)\t0.42799292268317357\n",
      "  (4, 8)\t0.6390704413963749\n",
      "  (4, 11)\t0.6390704413963749\n"
     ]
    }
   ],
   "source": [
    "print(tfidf)\n",
    "# (document number, term number)"
   ]
  },
  {
   "cell_type": "code",
   "execution_count": 62,
   "metadata": {},
   "outputs": [
    {
     "data": {
      "text/plain": [
       "(5, 10)"
      ]
     },
     "execution_count": 62,
     "metadata": {},
     "output_type": "execute_result"
    }
   ],
   "source": [
    "tfidf.get_shape()"
   ]
  },
  {
   "cell_type": "code",
   "execution_count": 45,
   "metadata": {},
   "outputs": [
    {
     "name": "stdout",
     "output_type": "stream",
     "text": [
      "  (9, 0)\t0.5773502691896257\n",
      "  (2, 0)\t0.5773502691896257\n",
      "  (7, 0)\t0.5773502691896257\n",
      "  (9, 1)\t0.3701688628879373\n",
      "  (7, 1)\t0.3701688628879373\n",
      "  (0, 1)\t0.4588147642793905\n",
      "  (10, 1)\t0.4588147642793905\n",
      "  (3, 1)\t0.4588147642793905\n",
      "  (5, 1)\t0.3072735949186737\n",
      "  (2, 2)\t0.5317722537280788\n",
      "  (1, 2)\t0.6591180018251055\n",
      "  (4, 2)\t0.5317722537280788\n",
      "  (5, 3)\t0.46220770413113277\n",
      "  (4, 3)\t0.5568161504458247\n",
      "  (6, 3)\t0.6901592662889633\n",
      "  (5, 4)\t0.42799292268317357\n",
      "  (8, 4)\t0.6390704413963749\n",
      "  (11, 4)\t0.6390704413963749\n"
     ]
    }
   ],
   "source": [
    "print(tfidf.T)"
   ]
  },
  {
   "cell_type": "code",
   "execution_count": 43,
   "metadata": {},
   "outputs": [],
   "source": [
    "from sklearn.decomposition import TruncatedSVD\n",
    "import numpy as np\n",
    "svd = TruncatedSVD(n_components = 4)\n",
    "lsa = svd.fit_transform(tfidf.T)"
   ]
  },
  {
   "cell_type": "code",
   "execution_count": 31,
   "metadata": {},
   "outputs": [
    {
     "data": {
      "text/plain": [
       "array([[ 0.28,  0.17,  0.43, -0.24],\n",
       "       [ 0.56, -0.13,  0.41, -0.32],\n",
       "       [ 0.28, -0.17, -0.21,  0.19],\n",
       "       [ 0.44,  0.49,  0.37,  0.13],\n",
       "       [ 0.46,  0.37, -0.39,  0.14],\n",
       "       [ 0.26,  0.44,  0.03,  0.4 ],\n",
       "       [ 0.56, -0.41, -0.1 ,  0.02],\n",
       "       [ 0.15,  0.28, -0.41, -0.38],\n",
       "       [ 0.56, -0.41, -0.1 ,  0.02],\n",
       "       [ 0.28, -0.17, -0.21,  0.19],\n",
       "       [ 0.15,  0.28, -0.41, -0.38]])"
      ]
     },
     "execution_count": 31,
     "metadata": {},
     "output_type": "execute_result"
    }
   ],
   "source": [
    "np.round(lsa,2)"
   ]
  },
  {
   "cell_type": "code",
   "execution_count": 68,
   "metadata": {},
   "outputs": [
    {
     "data": {
      "text/plain": [
       "0.0"
      ]
     },
     "execution_count": 68,
     "metadata": {},
     "output_type": "execute_result"
    }
   ],
   "source": [
    "svd."
   ]
  },
  {
   "cell_type": "code",
   "execution_count": null,
   "metadata": {},
   "outputs": [],
   "source": []
  }
 ],
 "metadata": {
  "kernelspec": {
   "display_name": "Python 3",
   "language": "python",
   "name": "python3"
  },
  "language_info": {
   "codemirror_mode": {
    "name": "ipython",
    "version": 3
   },
   "file_extension": ".py",
   "mimetype": "text/x-python",
   "name": "python",
   "nbconvert_exporter": "python",
   "pygments_lexer": "ipython3",
   "version": "3.7.1"
  }
 },
 "nbformat": 4,
 "nbformat_minor": 2
}
