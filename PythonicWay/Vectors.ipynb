{
 "cells": [
  {
   "cell_type": "code",
   "execution_count": 2,
   "metadata": {},
   "outputs": [],
   "source": [
    "import numpy as np\n"
   ]
  },
  {
   "cell_type": "code",
   "execution_count": 25,
   "metadata": {},
   "outputs": [
    {
     "data": {
      "text/plain": [
       "array([[ 8, 11],\n",
       "       [23, 32]])"
      ]
     },
     "execution_count": 25,
     "metadata": {},
     "output_type": "execute_result"
    }
   ],
   "source": [
    "a=[[1,2],[4,5]]\n",
    "b=[[2,3],[3,4]]\n",
    "np.dot(a,b)"
   ]
  },
  {
   "cell_type": "code",
   "execution_count": 26,
   "metadata": {},
   "outputs": [
    {
     "data": {
      "text/plain": [
       "array([-1,  1])"
      ]
     },
     "execution_count": 26,
     "metadata": {},
     "output_type": "execute_result"
    }
   ],
   "source": [
    "np.cross(a,b)"
   ]
  },
  {
   "cell_type": "code",
   "execution_count": 27,
   "metadata": {},
   "outputs": [
    {
     "data": {
      "text/plain": [
       "24"
      ]
     },
     "execution_count": 27,
     "metadata": {},
     "output_type": "execute_result"
    }
   ],
   "source": [
    "a=[0,4]\n",
    "b=[0,6]\n",
    "np.dot(a,b)"
   ]
  },
  {
   "cell_type": "code",
   "execution_count": 30,
   "metadata": {},
   "outputs": [
    {
     "data": {
      "text/plain": [
       "array([16., 16.])"
      ]
     },
     "execution_count": 30,
     "metadata": {},
     "output_type": "execute_result"
    }
   ],
   "source": [
    "a=[4,4]\n",
    "b=[1/4,1/4]\n",
    "np.divide(a,b)"
   ]
  },
  {
   "cell_type": "code",
   "execution_count": 29,
   "metadata": {},
   "outputs": [
    {
     "data": {
      "text/plain": [
       "array([2., 2.])"
      ]
     },
     "execution_count": 29,
     "metadata": {},
     "output_type": "execute_result"
    }
   ],
   "source": [
    "a=[1,1]\n",
    "b=[.5,.5]\n",
    "np.divide(a,b)"
   ]
  },
  {
   "cell_type": "code",
   "execution_count": 13,
   "metadata": {},
   "outputs": [
    {
     "name": "stdout",
     "output_type": "stream",
     "text": [
      "23\n",
      "2\n",
      "[20.08553692 54.59815003]\n",
      "0\n",
      "12\n"
     ]
    }
   ],
   "source": [
    "a=[3,2]\n",
    "b=[5,4]\n",
    "print(np.dot(a,b))\n",
    "\n",
    "print(np.cross(a,b))\n",
    "\n",
    "a=[3,4]\n",
    "print(np.exp(a))\n",
    "\n",
    "\n",
    "\n",
    "a=[3,0]\n",
    "b=[0,4]\n",
    "print(np.dot(a,b))\n",
    "print(np.cross(a,b))"
   ]
  },
  {
   "cell_type": "code",
   "execution_count": 19,
   "metadata": {},
   "outputs": [
    {
     "data": {
      "text/plain": [
       "(array([  3,  31,  98, 262, 234, 238,  98,  31,   4,   1], dtype=int64),\n",
       " array([24. , 27.6, 31.2, 34.8, 38.4, 42. , 45.6, 49.2, 52.8, 56.4, 60. ]))"
      ]
     },
     "execution_count": 19,
     "metadata": {},
     "output_type": "execute_result"
    }
   ],
   "source": [
    "np.histogram( np.random.binomial(100,.4,1000))"
   ]
  },
  {
   "cell_type": "code",
   "execution_count": 47,
   "metadata": {},
   "outputs": [
    {
     "name": "stdout",
     "output_type": "stream",
     "text": [
      "a11.b11\n",
      "[[25 20]\n",
      " [77 64]]\n",
      "\n",
      "a12.b21\n",
      "107\n",
      "\n",
      "a11.b11+ a12.b21\n",
      "[[168 181]\n",
      " [154 165]]\n"
     ]
    }
   ],
   "source": [
    "a11 = np.array([[1,2],[5,6]])\n",
    "b11 = np.array([[1,2],[12,9]])\n",
    "a12 = np.array([3,7])\n",
    "b21 = np.array([10,11])\n",
    "b12 = np.array([3,5])\n",
    "b22 = np.array([12])\n",
    "\n",
    "print (\"a11.b11\")\n",
    "print (a11.dot(b11))\n",
    "\n",
    "print (\"\\na12.b21\")\n",
    "print (a12.dot(b21))\n",
    "\n",
    "print (\"\\na11.b11+ a12.b21\")\n",
    "print (b11.T.dot(a11)+ b21.T.dot(a12))"
   ]
  },
  {
   "cell_type": "code",
   "execution_count": 48,
   "metadata": {},
   "outputs": [
    {
     "name": "stdout",
     "output_type": "stream",
     "text": [
      "a11.b11\n",
      "[[25 20]\n",
      " [77 64]]\n",
      "\n",
      "a12.b21\n",
      "107\n",
      "\n",
      "a11.b11+ a12.b21\n",
      "[[118 121]\n",
      " [164 185]]\n"
     ]
    }
   ],
   "source": [
    "a11 = np.array([[1,2],[5,6]])\n",
    "b11 = np.array([[1,2],[12,9]])\n",
    "a12 = np.array([3,7])\n",
    "b21 = np.array([10,11])\n",
    "b12 = np.array([3,5])\n",
    "b22 = np.array([12])\n",
    "\n",
    "print (\"a11.b11\")\n",
    "print (a11.dot(b11))\n",
    "\n",
    "print (\"\\na12.b21\")\n",
    "print (a12.dot(b21))\n",
    "\n",
    "print (\"\\na11.b11+ a12.b21\")\n",
    "print (b11.dot(a11)+ b21.dot(a12))"
   ]
  },
  {
   "cell_type": "code",
   "execution_count": 49,
   "metadata": {},
   "outputs": [
    {
     "name": "stdout",
     "output_type": "stream",
     "text": [
      "a11.b11\n",
      "[[25 20]\n",
      " [77 64]]\n",
      "\n",
      "a12.b21\n",
      "107\n",
      "\n",
      "a11.b11+ a12.b21\n",
      "[[132 127]\n",
      " [184 171]]\n"
     ]
    }
   ],
   "source": [
    "a11 = np.array([[1,2],[5,6]])\n",
    "b11 = np.array([[1,2],[12,9]])\n",
    "a12 = np.array([3,7])\n",
    "b21 = np.array([10,11])\n",
    "b12 = np.array([3,5])\n",
    "b22 = np.array([12])\n",
    "\n",
    "print (\"a11.b11\")\n",
    "print (a11.dot(b11))\n",
    "\n",
    "print (\"\\na12.b21\")\n",
    "print (a12.dot(b21))\n",
    "\n",
    "print (\"\\na11.b11+ a12.b21\")\n",
    "print (a11.dot(b11)+ a12.dot(b21))"
   ]
  },
  {
   "cell_type": "code",
   "execution_count": 50,
   "metadata": {},
   "outputs": [
    {
     "name": "stdout",
     "output_type": "stream",
     "text": [
      "a11.b11\n",
      "[[25 20]\n",
      " [77 64]]\n",
      "\n",
      "a12.b21\n",
      "107\n",
      "\n",
      "a11.b11+ a12.b21\n",
      "[[168 154]\n",
      " [181 165]]\n"
     ]
    }
   ],
   "source": [
    "a11 = np.array([[1,2],[5,6]])\n",
    "b11 = np.array([[1,2],[12,9]])\n",
    "a12 = np.array([3,7])\n",
    "b21 = np.array([10,11])\n",
    "b12 = np.array([3,5])\n",
    "b22 = np.array([12])\n",
    "\n",
    "print (\"a11.b11\")\n",
    "print (a11.dot(b11))\n",
    "\n",
    "print (\"\\na12.b21\")\n",
    "print (a12.dot(b21))\n",
    "\n",
    "print (\"\\na11.b11+ a12.b21\")\n",
    "print (a11.T.dot(b11)+ a12.T.dot(b21))"
   ]
  },
  {
   "cell_type": "code",
   "execution_count": 51,
   "metadata": {},
   "outputs": [
    {
     "name": "stdout",
     "output_type": "stream",
     "text": [
      "[[1 5]\n",
      " [2 6]]\n",
      "[[1 2]\n",
      " [5 6]]\n"
     ]
    }
   ],
   "source": [
    "print(a11.T)\n",
    "print (a11)"
   ]
  },
  {
   "cell_type": "markdown",
   "metadata": {},
   "source": [
    "$\\vec{ a} \\cdot \\vec{ b} = |a|.|b|.cost(\\theta) \\frac{ \\vec {a} } {\\vec b} + \\sigma b + \\sum {\\lower 0 \\upper} 1 b$"
   ]
  },
  {
   "cell_type": "code",
   "execution_count": 70,
   "metadata": {},
   "outputs": [
    {
     "name": "stdout",
     "output_type": "stream",
     "text": [
      "[ 4.51219512 -3.6097561 ]\n",
      "[-3.91764706 -0.87058824]\n"
     ]
    }
   ],
   "source": [
    "import math\n",
    "a=np.array([9,2])\n",
    "b=np.array([-5,4])\n",
    "\n",
    "a_on_b=np.dot(a,b)/np.linalg.norm(b)\n",
    "b_on_a=np.dot(a,b)/np.linalg.norm(a)\n",
    "\n",
    "print ((a_on_b/np.linalg.norm(b))*b)\n",
    "print ((b_on_a/np.linalg.norm(a))*a)\n"
   ]
  },
  {
   "cell_type": "code",
   "execution_count": 43,
   "metadata": {},
   "outputs": [
    {
     "name": "stdout",
     "output_type": "stream",
     "text": [
      "a11*b11\n",
      "[[ 1  4]\n",
      " [60 54]]\n",
      "\n",
      "a12*b21\n",
      "[30 77]\n",
      "\n",
      "a11*b11+ a12*b21\n",
      "[[ 31  81]\n",
      " [ 90 131]]\n"
     ]
    }
   ],
   "source": [
    "a11 = np.array([[1,2],[5,6]])\n",
    "b11 = np.array([[1,2],[12,9]])\n",
    "a12 = np.array([3,7])\n",
    "b21 = np.array([10,11])\n",
    "b12 = np.array([3,5])\n",
    "b22 = np.array([12])\n",
    "\n",
    "print (\"a11*b11\")\n",
    "print (a11*b11)\n",
    "\n",
    "print (\"\\na12*b21\")\n",
    "print (a12*b21)\n",
    "\n",
    "print (\"\\na11*b11+ a12*b21\")\n",
    "\n",
    "print (a11*b11+ a12*b21)"
   ]
  },
  {
   "cell_type": "code",
   "execution_count": 55,
   "metadata": {},
   "outputs": [
    {
     "data": {
      "text/plain": [
       "array([[ 55,  53,  49],\n",
       "       [147, 141, 129],\n",
       "       [283, 269, 243],\n",
       "       [262, 251, 229]])"
      ]
     },
     "execution_count": 55,
     "metadata": {},
     "output_type": "execute_result"
    }
   ],
   "source": [
    "a=np.array([[1,2,3],[5,6,7],[9,12,13],[10,11,12]])\n",
    "b= np.array([[1,2,3],[12,9,5],[10,11,12]])\n",
    "a.dot(b)\n"
   ]
  },
  {
   "cell_type": "code",
   "execution_count": 32,
   "metadata": {},
   "outputs": [
    {
     "ename": "ValueError",
     "evalue": "shapes (2,) and (1,) not aligned: 2 (dim 0) != 1 (dim 0)",
     "output_type": "error",
     "traceback": [
      "\u001b[1;31m---------------------------------------------------------------------------\u001b[0m",
      "\u001b[1;31mValueError\u001b[0m                                Traceback (most recent call last)",
      "\u001b[1;32m<ipython-input-32-13ec52b402b0>\u001b[0m in \u001b[0;36m<module>\u001b[1;34m\u001b[0m\n\u001b[1;32m----> 1\u001b[1;33m \u001b[0ma11\u001b[0m\u001b[1;33m.\u001b[0m\u001b[0mdot\u001b[0m\u001b[1;33m(\u001b[0m\u001b[0mb12\u001b[0m\u001b[1;33m)\u001b[0m\u001b[1;33m+\u001b[0m\u001b[0ma12\u001b[0m\u001b[1;33m.\u001b[0m\u001b[0mdot\u001b[0m\u001b[1;33m(\u001b[0m\u001b[0mb22\u001b[0m\u001b[1;33m)\u001b[0m\u001b[1;33m\u001b[0m\u001b[1;33m\u001b[0m\u001b[0m\n\u001b[0m",
      "\u001b[1;31mValueError\u001b[0m: shapes (2,) and (1,) not aligned: 2 (dim 0) != 1 (dim 0)"
     ]
    }
   ],
   "source": [
    "a11.dot(b12)+a12.dot(b22)\n"
   ]
  },
  {
   "cell_type": "code",
   "execution_count": 18,
   "metadata": {},
   "outputs": [
    {
     "data": {
      "text/plain": [
       "array([[25, 20],\n",
       "       [77, 64]])"
      ]
     },
     "execution_count": 18,
     "metadata": {},
     "output_type": "execute_result"
    }
   ],
   "source": [
    "a11.dot(b11)"
   ]
  },
  {
   "cell_type": "code",
   "execution_count": 20,
   "metadata": {},
   "outputs": [
    {
     "data": {
      "text/plain": [
       "107"
      ]
     },
     "execution_count": 20,
     "metadata": {},
     "output_type": "execute_result"
    }
   ],
   "source": [
    "a12.dot(b21)"
   ]
  },
  {
   "cell_type": "code",
   "execution_count": 21,
   "metadata": {},
   "outputs": [
    {
     "data": {
      "text/plain": [
       "array([[132, 127],\n",
       "       [184, 171]])"
      ]
     },
     "execution_count": 21,
     "metadata": {},
     "output_type": "execute_result"
    }
   ],
   "source": [
    "\n"
   ]
  },
  {
   "cell_type": "code",
   "execution_count": null,
   "metadata": {},
   "outputs": [],
   "source": [
    "a= np.array( [[0,1],[1,1]] )"
   ]
  },
  {
   "cell_type": "code",
   "execution_count": 6,
   "metadata": {},
   "outputs": [
    {
     "data": {
      "text/plain": [
       "array([[0, 1],\n",
       "       [1, 1]])"
      ]
     },
     "execution_count": 6,
     "metadata": {},
     "output_type": "execute_result"
    }
   ],
   "source": [
    "a"
   ]
  },
  {
   "cell_type": "code",
   "execution_count": 9,
   "metadata": {},
   "outputs": [],
   "source": [
    "b=a*a"
   ]
  },
  {
   "cell_type": "code",
   "execution_count": 12,
   "metadata": {},
   "outputs": [
    {
     "data": {
      "text/plain": [
       "matrix([[0, 1],\n",
       "        [1, 1]])"
      ]
     },
     "execution_count": 12,
     "metadata": {},
     "output_type": "execute_result"
    }
   ],
   "source": [
    "a"
   ]
  },
  {
   "cell_type": "code",
   "execution_count": 11,
   "metadata": {},
   "outputs": [],
   "source": [
    "a=np.matrix(a)"
   ]
  },
  {
   "cell_type": "code",
   "execution_count": 13,
   "metadata": {},
   "outputs": [
    {
     "data": {
      "text/plain": [
       "matrix([[1, 1],\n",
       "        [1, 2]])"
      ]
     },
     "execution_count": 13,
     "metadata": {},
     "output_type": "execute_result"
    }
   ],
   "source": [
    "a*a"
   ]
  },
  {
   "cell_type": "code",
   "execution_count": 14,
   "metadata": {},
   "outputs": [
    {
     "data": {
      "text/plain": [
       "matrix([[1, 2],\n",
       "        [2, 3]])"
      ]
     },
     "execution_count": 14,
     "metadata": {},
     "output_type": "execute_result"
    }
   ],
   "source": [
    "a*a*a"
   ]
  },
  {
   "cell_type": "code",
   "execution_count": 15,
   "metadata": {},
   "outputs": [
    {
     "data": {
      "text/plain": [
       "matrix([[2, 3],\n",
       "        [3, 5]])"
      ]
     },
     "execution_count": 15,
     "metadata": {},
     "output_type": "execute_result"
    }
   ],
   "source": [
    "a*a*a*a"
   ]
  },
  {
   "cell_type": "code",
   "execution_count": 19,
   "metadata": {},
   "outputs": [
    {
     "data": {
      "text/plain": [
       "matrix([[21, 34],\n",
       "        [34, 55]])"
      ]
     },
     "execution_count": 19,
     "metadata": {},
     "output_type": "execute_result"
    }
   ],
   "source": [
    "a*a*a*a*a*a*a*a*a"
   ]
  },
  {
   "cell_type": "markdown",
   "metadata": {},
   "source": [
    "## SVD"
   ]
  },
  {
   "cell_type": "code",
   "execution_count": null,
   "metadata": {},
   "outputs": [],
   "source": [
    "# Singular-value decomposition\n",
    "from numpy import array\n",
    "from scipy.linalg import svd\n",
    "# define a matrix\n",
    "A = array([[1, 2], [3, 4], [5, 6]])\n",
    "print(A)\n",
    "# SVD\n",
    "U, s, VT = svd(A)\n",
    "print(U)\n",
    "print(s)\n",
    "print(VT)"
   ]
  },
  {
   "cell_type": "code",
   "execution_count": null,
   "metadata": {},
   "outputs": [],
   "source": [
    "# create m x n Sigma matrix\n",
    "Sigma = np.zeros((A.shape[0], A.shape[1]))\n",
    "# populate Sigma with n x n diagonal matrix\n",
    "Sigma[:A.shape[1], :A.shape[1]] = np.diag(s)\n",
    "# reconstruct matrix\n",
    "B = U.dot(Sigma.dot(VT))\n",
    "print(B)"
   ]
  },
  {
   "cell_type": "code",
   "execution_count": 1,
   "metadata": {},
   "outputs": [
    {
     "name": "stdout",
     "output_type": "stream",
     "text": [
      "[[ 1  2  3  4  5  6  7  8  9 10]\n",
      " [11 12 13 14 15 16 17 18 19 20]\n",
      " [21 22 23 24 25 26 27 28 29 30]]\n",
      "[[18.52157747  6.47697214]\n",
      " [49.81310011  1.91182038]\n",
      " [81.10462276 -2.65333138]]\n"
     ]
    }
   ],
   "source": [
    "from numpy import array\n",
    "from sklearn.decomposition import TruncatedSVD\n",
    "# define array\n",
    "A = array([\n",
    "\t[1,2,3,4,5,6,7,8,9,10],\n",
    "\t[11,12,13,14,15,16,17,18,19,20],\n",
    "\t[21,22,23,24,25,26,27,28,29,30]])\n",
    "print(A)\n",
    "# svd\n",
    "svd = TruncatedSVD(n_components=2)\n",
    "svd.fit(A)\n",
    "result = svd.transform(A)\n",
    "print(result)"
   ]
  },
  {
   "cell_type": "code",
   "execution_count": null,
   "metadata": {},
   "outputs": [],
   "source": []
  }
 ],
 "metadata": {
  "kernelspec": {
   "display_name": "Python 3",
   "language": "python",
   "name": "python3"
  },
  "language_info": {
   "codemirror_mode": {
    "name": "ipython",
    "version": 3
   },
   "file_extension": ".py",
   "mimetype": "text/x-python",
   "name": "python",
   "nbconvert_exporter": "python",
   "pygments_lexer": "ipython3",
   "version": "3.8.3"
  }
 },
 "nbformat": 4,
 "nbformat_minor": 2
}
