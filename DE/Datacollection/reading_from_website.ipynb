{
 "cells": [
  {
   "cell_type": "code",
   "execution_count": 5,
   "metadata": {},
   "outputs": [
    {
     "name": "stdout",
     "output_type": "stream",
     "text": [
      "Requirement already satisfied: requests in d:\\users\\admin\\anaconda3\\lib\\site-packages (2.21.0)\n",
      "Requirement already satisfied: certifi>=2017.4.17 in d:\\users\\admin\\anaconda3\\lib\\site-packages (from requests) (2018.11.29)\n",
      "Requirement already satisfied: chardet<3.1.0,>=3.0.2 in d:\\users\\admin\\anaconda3\\lib\\site-packages (from requests) (3.0.4)\n",
      "Requirement already satisfied: idna<2.9,>=2.5 in d:\\users\\admin\\anaconda3\\lib\\site-packages (from requests) (2.8)\n",
      "Requirement already satisfied: urllib3<1.25,>=1.21.1 in d:\\users\\admin\\anaconda3\\lib\\site-packages (from requests) (1.24.1)\n",
      "Requirement already satisfied: html5lib in d:\\users\\admin\\anaconda3\\lib\\site-packages (1.0.1)\n",
      "Requirement already satisfied: six>=1.9 in d:\\users\\admin\\anaconda3\\lib\\site-packages (from html5lib) (1.12.0)\n",
      "Requirement already satisfied: webencodings in d:\\users\\admin\\anaconda3\\lib\\site-packages (from html5lib) (0.5.1)\n",
      "Collecting bs4\n",
      "Requirement already satisfied: beautifulsoup4 in d:\\users\\admin\\anaconda3\\lib\\site-packages (from bs4) (4.6.3)\n",
      "Installing collected packages: bs4\n",
      "Successfully installed bs4-0.0.1\n"
     ]
    }
   ],
   "source": [
    "!pip install requests\n",
    "!pip install html5lib\n",
    "!pip install bs4"
   ]
  },
  {
   "cell_type": "code",
   "execution_count": 6,
   "metadata": {},
   "outputs": [],
   "source": [
    "import requests, bs4\n",
    "\n",
    "# getting HTML from the Google Play web page\n",
    "#url = \"https://play.google.com/store/apps/details?id=com.facebook.orca&hl=en\"\n",
    "url = \"https://www.amazon.in/product-reviews/B01D5H91KE/ref=acr_offerlistingpage_text?ie=UTF8&showViewpoints=1\"\n",
    "req = requests.get(url)\n",
    "\n",
    "# create a bs4 object\n",
    "# To avoid warnings, provide \"html5lib\" explicitly\n",
    "soup = bs4.BeautifulSoup(req.text, \"html5lib\")"
   ]
  },
  {
   "cell_type": "code",
   "execution_count": 7,
   "metadata": {},
   "outputs": [
    {
     "name": "stdout",
     "output_type": "stream",
     "text": [
      "<class 'list'>\n",
      "10\n",
      "\n",
      "\n"
     ]
    },
    {
     "data": {
      "text/plain": [
       "<span class=\"a-size-base review-text review-text-content\" data-hook=\"review-body\"><span class=\"\">I got these for extending my Fire Stick in front of the TV. And this works perfectly. No image/noise distortion. I ordered for a 6m extender and it fit well for my requirement.<br/><br/>I recommend this product if you are looking for a HDMI extender.</span>\n",
       "            </span>"
      ]
     },
     "execution_count": 7,
     "metadata": {},
     "output_type": "execute_result"
    }
   ],
   "source": [
    "# getting all the text inside class = \"review-body\"\n",
    "#reviews = soup.select('.review-body')\n",
    "#reviews = soup.select('.lYU69')\n",
    "reviews = soup.select('.review-text-content')\n",
    "\n",
    "\n",
    "print(type(reviews))\n",
    "print(len(reviews))\n",
    "print(\"\\n\")\n",
    "\n",
    "# printing an element of the reviews list\n",
    "\n",
    "reviews[2]"
   ]
  },
  {
   "cell_type": "code",
   "execution_count": 8,
   "metadata": {},
   "outputs": [
    {
     "name": "stdout",
     "output_type": "stream",
     "text": [
      "<class 'bs4.element.Tag'>\n",
      "['<span class=\"a-size-base review-text review-text-content\" data-hook=\"review-body\"><span class=\"\">I got these for extending my Fire Stick in front of the TV. And this works perfectly. No image/noise distortion. I ordered for a 6m extender and it fit well for my requirement.<br/><br/>I recommend this product if you are looking for a HDMI extender.', '\\n            ', '']\n"
     ]
    }
   ],
   "source": [
    "# step 1: split using </span>\n",
    "r = reviews[2]\n",
    "print(type(r))\n",
    "\n",
    "# r is a bs4 tag, convert it into string to use str.split() \n",
    "part1 = str(r).split(\"</span>\")\n",
    "print(part1)"
   ]
  },
  {
   "cell_type": "code",
   "execution_count": 9,
   "metadata": {},
   "outputs": [
    {
     "data": {
      "text/plain": [
       "'I got these for extending my Fire Stick in front of the TV. And this works perfectly. No image/noise distortion. I ordered for a 6m extender and it fit well for my requirement.<br/><br/>I recommend this product if you are looking for a HDMI extender.'"
      ]
     },
     "execution_count": 9,
     "metadata": {},
     "output_type": "execute_result"
    }
   ],
   "source": [
    "# Now split part1 using '<div class=\"review-link' as the separator\n",
    "# and get the first element of the resulting list\n",
    "# we get the review\n",
    "#part2 = part1[1].split('<div class=\"review-link')[0]\n",
    "part2 = part1[0].split('span class=\"\">')[1]\n",
    "part2"
   ]
  },
  {
   "cell_type": "code",
   "execution_count": 10,
   "metadata": {},
   "outputs": [
    {
     "data": {
      "text/plain": [
       "[\"I was looking for a long HDMI cable mostly to connect my laptop to the TV for watching movies. There are other cables from known brands but they are much more expensive. This is a Amazon's in house brand and much cheaper. I have used other products from Amazon's in house brands (e.g. Solimo) and have always found them to be of good quality and lower price. This one is no exception.<br/>Pros:<br/>- Very good build quality<br/>- Picture and sound quality all good when I connect to TV<br/>- Price is much lower than the other well known brands<br/>- Length is pretty good. 10 feet is long enough to connect to my TV and yet sit on the couch with my laptop and operate from there.<br/>Cons:<br/>- None at this point.<br/>Go for it without a doubt.<br/>Please provide feedback on my review by clicking on the button below. Thanks much!\",\n",
       " '<a class=\"a-link-normal\" data-hook=\"product-link-linked\" href=\"/AmazonBasics-High-Speed-Male-to-Female-HDMI-Extension-Cable-6-Feet/dp/B01D5H90L4\">AmazonBasics High-Speed Male to Female HDMI Extension Cable - 6 Feet</a><br/><br/>The quality of this piece is very good. The cable is almost as thick as a Pilot pen (image attached) and there is no degradation in quality. Ofcourse I am no professional and have not made any accurate measurements; just commenting on what it is like for a normal eye. If you need to run a long cable (6ft may not be long enough for living rooms in which case I think the 10ft one will be more helpful), buy this and enjoy the peace of mind.',\n",
       " 'I got these for extending my Fire Stick in front of the TV. And this works perfectly. No image/noise distortion. I ordered for a 6m extender and it fit well for my requirement.<br/><br/>I recommend this product if you are looking for a HDMI extender.',\n",
       " 'Amazing quality built. I was not expecting such a robust Cable. First I was surprised to see such a thick cable. But then I could realize that to avoid data loss for long distance accordingly cable thickness must have to be maintained. I am fully satisfied with the product. I use it to connect my Kindle HD with TV.',\n",
       " \"I'm using this for my wall mounted TV. It has been almost 5 months since I started using it, and till now it has been working top-class.<br/><br/>I was initially a bit skeptical about buying products from AmazonBasics, but now I realise the quality is top-notch.<br/><br/>Don't think too much about buying this product. It is definitely worth the price.\",\n",
       " 'AmazonBasics Rocks! Everything is great for this cable: Thick, well-insulated cable, clean signals, fits perfectly. What more can one ask at this price? Thanks Amazon!',\n",
       " 'I had projector flickering issues while connectIng to my 2018 MacBook pro 13” with a third party Usb C to HDMI adapter, extended by other high end HDMI cable to a Epson projector. I tried to reset NVRAM &amp; reset The System Magement Controller (SMC) of the MacBook but neither worked. At last purchased this amazon basics cable and now it connects without any flickering and displays all HD content played on YouTube, prime video and iTunes.',\n",
       " \"Bought it so I can play FIFA on large screen, but now I don't have a TV for 2 days and can't play FIFA on pc coz I don't have a graphic card.<br/>Taunts from my mom were priceless, thanks to Amazon I felt I was kid again.\",\n",
       " 'Very nice and sturdy.<br/>But, they are also kind of thick gauge.<br/>So, it is difficult to fit in concealed wiring pipe<br/>if you already have bunch of wires running through that pipe.',\n",
       " 'Cable is good enough. Only thing I gave 4 start because when I ordered it was 399 and after few hours it was 299.']"
      ]
     },
     "execution_count": 10,
     "metadata": {},
     "output_type": "execute_result"
    }
   ],
   "source": [
    "# apply this sequence of splitting to every element of the reviews list\n",
    "# using a list comprehension\n",
    "reviews_text = [str(r).split(\"</span>\")[0].split('span class=\"\">')[1] for r in reviews]\n",
    "\n",
    "# printing the first 10 reviews\n",
    "reviews_text[0:10]"
   ]
  },
  {
   "cell_type": "code",
   "execution_count": null,
   "metadata": {},
   "outputs": [],
   "source": []
  },
  {
   "cell_type": "code",
   "execution_count": 11,
   "metadata": {},
   "outputs": [],
   "source": [
    "# Practice problem: Scraping amazon.in to get shoe price data \n",
    "import pprint\n",
    "\n",
    "url = \"https://www.amazon.in/s/ref=nb_sb_noss?url=search-alias%3Daps&field-keywords=sport+shoes\"\n",
    "req = requests.get(url)\n",
    "\n",
    "# create a bs4 object\n",
    "# To avoid warnings, provide \"html5lib\" explicitly\n",
    "soup = bs4.BeautifulSoup(req.text, \"html5lib\")\n",
    "\n",
    "# get shoe names\n",
    "# shoe_data = soup.select('.a-size-medium')\n",
    "# shoe_data = soup.select('.a-size-small.a-link-normal.a-text-normal')\n",
    "# print(len(shoe_data))\n",
    "# print(pprint.pprint(shoe_data))\n",
    "\n",
    "# get shoe prices"
   ]
  },
  {
   "cell_type": "code",
   "execution_count": 12,
   "metadata": {},
   "outputs": [
    {
     "name": "stdout",
     "output_type": "stream",
     "text": [
      "16\n",
      "[<span class=\"a-price-whole\">359</span>,\n",
      " <span class=\"a-price-whole\">374</span>,\n",
      " <span class=\"a-price-whole\">499</span>,\n",
      " <span class=\"a-price-whole\">348</span>,\n",
      " <span class=\"a-price-whole\">499</span>,\n",
      " <span class=\"a-price-whole\">756</span>,\n",
      " <span class=\"a-price-whole\">499</span>,\n",
      " <span class=\"a-price-whole\">499</span>,\n",
      " <span class=\"a-price-whole\">999</span>,\n",
      " <span class=\"a-price-whole\">339</span>,\n",
      " <span class=\"a-price-whole\">499</span>,\n",
      " <span class=\"a-price-whole\">465<span class=\"a-price-decimal\">.</span></span>,\n",
      " <span class=\"a-price-whole\">918</span>,\n",
      " <span class=\"a-price-whole\">499</span>,\n",
      " <span class=\"a-price-whole\">471</span>,\n",
      " <span class=\"a-price-whole\">373</span>]\n"
     ]
    }
   ],
   "source": [
    "shoe_prices = soup.select('.a-price-whole')\n",
    "print(len(shoe_prices))\n",
    "pprint.pprint(shoe_prices)"
   ]
  },
  {
   "cell_type": "code",
   "execution_count": 13,
   "metadata": {},
   "outputs": [
    {
     "data": {
      "text/plain": [
       "'https://www.geeksforgeeks.org/data-structures/'"
      ]
     },
     "execution_count": 13,
     "metadata": {},
     "output_type": "execute_result"
    }
   ],
   "source": [
    "URL = r\"https://www.geeksforgeeks.org/data-structures/\"\n",
    "URL"
   ]
  },
  {
   "cell_type": "code",
   "execution_count": 14,
   "metadata": {},
   "outputs": [],
   "source": [
    "from bs4 import BeautifulSoup\n",
    "import requests\n",
    "\n",
    "URL = r\"https://www.prokabaddi.com/players/pawan-kumar-sehrawat-profile-318\"\n",
    "URL = r\"https://www.prokabaddi.com/players/naveen-kumar-profile-2296\"\n",
    "URL = r\"https://www.prokabaddi.com/teams/bengal-warriors-profile-4/players\"\n",
    "#Method One\n",
    "\n",
    "#with open(URL) as html_file:\n",
    "#    soup1 = BeautifulSoup(html_file,'lxml')\n",
    "    \n",
    "    \n",
    "#Method Two\n",
    "req = requests.get(URL)\n",
    "soup = BeautifulSoup(req.content, 'html5lib') "
   ]
  },
  {
   "cell_type": "code",
   "execution_count": 18,
   "metadata": {},
   "outputs": [
    {
     "data": {
      "text/plain": [
       "[<div class=\"col-lg-3 col-6 link-item\">\n",
       "             <h3 class=\"title\">\n",
       "               <span>Latest Updates</span>\n",
       "             </h3>\n",
       "             <ul>\n",
       "               <li>\n",
       "                 <a href=\"/news\">News</a>\n",
       "               </li>\n",
       "               <li>\n",
       "                 <a href=\"/features\">Features</a>\n",
       "               </li>\n",
       "               <li>\n",
       "                 <a href=\"/schedule-fixtures-results\">Matches</a>\n",
       "               </li>\n",
       "               <li>\n",
       "                 <a href=\"/standings\">Standings</a>\n",
       "               </li>\n",
       "               \n",
       "             </ul>\n",
       "             <a href=\"/kabaddimasters\">\n",
       "               <h3 class=\"title\">\n",
       "                 <span>Kabaddi Masters</span>\n",
       "               </h3>\n",
       "             </a>\n",
       "             <a href=\"/static-assets/img/images/clients/pkl/pdfs/tickets-terms-and-conditions.pdf\" target=\"_blank\">\n",
       "               <h3 class=\"title\">\n",
       "                 <span>Tickets Terms &amp; Conditions</span>\n",
       "               </h3>\n",
       "             </a>\n",
       "             \n",
       "           </div>, <div class=\"col-lg-3 col-6 link-item\">\n",
       "             <h3 class=\"title\">\n",
       "               <span>About Us</span>\n",
       "             </h3>\n",
       "             <ul>\n",
       "               <li>\n",
       "                 <a href=\"/about-prokabaddi\">About VIVO Pro Kabaddi</a>\n",
       "               </li>\n",
       "               <li>\n",
       "                 <a href=\"/prokabaddi-rules\">VIVO Pro Kabaddi Rules</a>\n",
       "               </li>\n",
       "               <li>\n",
       "                 <a href=\"/kabaddi-rules-videos\">Rules &amp; Format</a>\n",
       "               </li>\n",
       "             </ul>\n",
       "             <a href=\"/terms-conditions\">\n",
       "               <h3 class=\"title\">\n",
       "                 <span>Terms &amp; Conditions</span>\n",
       "               </h3>\n",
       "             </a>\n",
       "             <a href=\"/privacy-policy\">\n",
       "               <h3 class=\"title\">\n",
       "                 <span>Privacy Policy</span>\n",
       "               </h3>\n",
       "             </a>\n",
       "             <a href=\"/personal-data-privacy-policy\">\n",
       "               <h3 class=\"title\">\n",
       "                 <span>Personal Data Privacy Policy</span>\n",
       "               </h3>\n",
       "             </a>\n",
       "             <a href=\"/all-stars-match\">\n",
       "               <h3 class=\"title\">\n",
       "                 <span>All Stars Match</span>\n",
       "               </h3>\n",
       "             </a>\n",
       "           </div>, <div class=\"col-lg-3 col-6 link-item\">\n",
       "             <h3 class=\"title\">\n",
       "               <span>Teams</span>\n",
       "             </h3>\n",
       "             <ul>\n",
       "               <li>\n",
       "                 <a href=\"/teams/bengal-warriors-profile-4\">Bengal Warriors</a>\n",
       "               </li>\n",
       "               <li>\n",
       "                 <a href=\"/teams/bengaluru-bulls-profile-1\">Bengaluru Bulls</a>\n",
       "               </li>\n",
       "               <li>\n",
       "                 <a href=\"/teams/dabang-delhi-kc-profile-2\">Dabang Delhi K.C.</a>\n",
       "               </li>\n",
       "               <li>\n",
       "                 <a href=\"/teams/gujarat-fortunegiants-profile-31\">Gujarat Fortunegiants</a>\n",
       "               </li>\n",
       "               <li>\n",
       "                 <a href=\"/teams/haryana-steelers-profile-28\">Haryana Steelers</a>\n",
       "               </li>\n",
       "               <li>\n",
       "                 <a href=\"/teams/jaipur-pink-panthers-profile-3\">Jaipur Pink Panthers</a>\n",
       "               </li>\n",
       "             </ul>\n",
       "           </div>, <div class=\"col-lg-3 col-6 link-item\">\n",
       "             <h3 class=\"title\">\n",
       "               <span>Teams</span>\n",
       "             </h3>\n",
       "             <ul>\n",
       "               <li>\n",
       "                 <a href=\"/teams/patna-pirates-profile-6\">Patna Pirates</a>\n",
       "               </li>\n",
       "               <li>\n",
       "                 <a href=\"/teams/puneri-paltan-profile-7\">Puneri Paltan</a>\n",
       "               </li>\n",
       "               <li>\n",
       "                 <a href=\"/teams/tamil-thalaivas-profile-29\">Tamil Thalaivas</a>\n",
       "               </li>\n",
       "               <li>\n",
       "                 <a href=\"/teams/telugu-titans-profile-8\">Telugu Titans</a>\n",
       "               </li>\n",
       "               <li>\n",
       "                 <a href=\"/teams/u-mumba-profile-5\">U Mumba</a>\n",
       "               </li>\n",
       "               <li>\n",
       "                 <a href=\"/teams/up-yoddha-profile-30\">U.P. Yoddha</a>\n",
       "               </li>\n",
       "             </ul>\n",
       "           </div>]"
      ]
     },
     "execution_count": 18,
     "metadata": {},
     "output_type": "execute_result"
    }
   ],
   "source": [
    "table = soup.find('div',   attrs = {'class':'si-stats-container'})\n",
    "table = soup.findAll('div',attrs= {\"class\":'site'})\n",
    "table1 = soup.find_all('div',   attrs = {\"class\":\"col-lg-3 col-6 link-item\"})\n",
    "table2 = soup.find_all('li')\n",
    "#table3 = table2.div #('div',   attrs = {\"class\":\"submenu-item\"})\n",
    "\n",
    "                                        \n",
    "                                        #[\"si-section-data\", \"si-right\",\"si-data-section\"]})\n",
    "\n",
    "table1"
   ]
  },
  {
   "cell_type": "code",
   "execution_count": 16,
   "metadata": {},
   "outputs": [],
   "source": [
    "#print (soup.prettify())\n",
    "#print (soup.prettify())"
   ]
  },
  {
   "cell_type": "code",
   "execution_count": 20,
   "metadata": {},
   "outputs": [
    {
     "ename": "AttributeError",
     "evalue": "ResultSet object has no attribute 'findAll'. You're probably treating a list of items like a single item. Did you call find_all() when you meant to call find()?",
     "output_type": "error",
     "traceback": [
      "\u001b[1;31m---------------------------------------------------------------------------\u001b[0m",
      "\u001b[1;31mAttributeError\u001b[0m                            Traceback (most recent call last)",
      "\u001b[1;32m<ipython-input-20-adf49482357f>\u001b[0m in \u001b[0;36m<module>\u001b[1;34m\u001b[0m\n\u001b[1;32m----> 1\u001b[1;33m \u001b[0mrows\u001b[0m  \u001b[1;33m=\u001b[0m \u001b[0mtable\u001b[0m\u001b[1;33m.\u001b[0m\u001b[0mfindAll\u001b[0m\u001b[1;33m(\u001b[0m\u001b[1;34m'div'\u001b[0m\u001b[1;33m,\u001b[0m \u001b[0mattrs\u001b[0m \u001b[1;33m=\u001b[0m\u001b[1;33m{\u001b[0m\u001b[1;34m'class'\u001b[0m\u001b[1;33m:\u001b[0m\u001b[1;34m'post-details'\u001b[0m\u001b[1;33m}\u001b[0m\u001b[1;33m)\u001b[0m\u001b[1;33m\u001b[0m\u001b[1;33m\u001b[0m\u001b[0m\n\u001b[0m\u001b[0;32m      2\u001b[0m \u001b[1;33m\u001b[0m\u001b[0m\n\u001b[0;32m      3\u001b[0m \u001b[0mprint\u001b[0m \u001b[1;33m(\u001b[0m\u001b[0mrows\u001b[0m\u001b[1;33m)\u001b[0m\u001b[1;33m\u001b[0m\u001b[1;33m\u001b[0m\u001b[0m\n\u001b[0;32m      4\u001b[0m \u001b[1;32mfor\u001b[0m \u001b[0mrow\u001b[0m \u001b[1;32min\u001b[0m \u001b[0mrows\u001b[0m\u001b[1;33m:\u001b[0m\u001b[1;33m\u001b[0m\u001b[1;33m\u001b[0m\u001b[0m\n\u001b[0;32m      5\u001b[0m \u001b[1;33m\u001b[0m\u001b[0m\n",
      "\u001b[1;32mD:\\Users\\admin\\Anaconda3\\lib\\site-packages\\bs4\\element.py\u001b[0m in \u001b[0;36m__getattr__\u001b[1;34m(self, key)\u001b[0m\n\u001b[0;32m   1882\u001b[0m     \u001b[1;32mdef\u001b[0m \u001b[0m__getattr__\u001b[0m\u001b[1;33m(\u001b[0m\u001b[0mself\u001b[0m\u001b[1;33m,\u001b[0m \u001b[0mkey\u001b[0m\u001b[1;33m)\u001b[0m\u001b[1;33m:\u001b[0m\u001b[1;33m\u001b[0m\u001b[1;33m\u001b[0m\u001b[0m\n\u001b[0;32m   1883\u001b[0m         raise AttributeError(\n\u001b[1;32m-> 1884\u001b[1;33m             \u001b[1;34m\"ResultSet object has no attribute '%s'. You're probably treating a list of items like a single item. Did you call find_all() when you meant to call find()?\"\u001b[0m \u001b[1;33m%\u001b[0m \u001b[0mkey\u001b[0m\u001b[1;33m\u001b[0m\u001b[1;33m\u001b[0m\u001b[0m\n\u001b[0m\u001b[0;32m   1885\u001b[0m         )\n",
      "\u001b[1;31mAttributeError\u001b[0m: ResultSet object has no attribute 'findAll'. You're probably treating a list of items like a single item. Did you call find_all() when you meant to call find()?"
     ]
    }
   ],
   "source": [
    "rows  = table.findAll('div', attrs ={'class':'post-details'})\n",
    "\n",
    "print (rows)\n",
    "for row in rows: \n",
    "    \n",
    "    quote = {} \n",
    "    quote['theme'] = row.h5.text \n",
    "    quote['url'] = row.a['href'] \n",
    "    quote['img'] = row.img['src'] \n",
    "    quote['lines'] = row.h6.text \n",
    "    quote['author'] = row.p.text \n",
    "    quotes.append(quote) \n",
    "  \n",
    "filename = 'inspirational_quotes.csv'\n",
    "with open(filename, 'wb') as f: \n",
    "    w = csv.DictWriter(f,['theme','url','img','lines','author']) \n",
    "    w.writeheader() \n",
    "    for quote in quotes: \n",
    "        w.writerow(quote) "
   ]
  },
  {
   "cell_type": "code",
   "execution_count": 21,
   "metadata": {},
   "outputs": [
    {
     "ename": "NameError",
     "evalue": "name 'd' is not defined",
     "output_type": "error",
     "traceback": [
      "\u001b[1;31m---------------------------------------------------------------------------\u001b[0m",
      "\u001b[1;31mNameError\u001b[0m                                 Traceback (most recent call last)",
      "\u001b[1;32m<ipython-input-21-95ced52fbe14>\u001b[0m in \u001b[0;36m<module>\u001b[1;34m\u001b[0m\n\u001b[0;32m      1\u001b[0m \u001b[1;32mimport\u001b[0m \u001b[0mre\u001b[0m\u001b[1;33m\u001b[0m\u001b[1;33m\u001b[0m\u001b[0m\n\u001b[1;32m----> 2\u001b[1;33m \u001b[0md\u001b[0m\u001b[1;33m[\u001b[0m\u001b[1;36m0\u001b[0m\u001b[1;33m]\u001b[0m\u001b[1;33m\u001b[0m\u001b[1;33m\u001b[0m\u001b[0m\n\u001b[0m",
      "\u001b[1;31mNameError\u001b[0m: name 'd' is not defined"
     ]
    }
   ],
   "source": [
    "import re\n",
    "d[0]"
   ]
  },
  {
   "cell_type": "code",
   "execution_count": 22,
   "metadata": {},
   "outputs": [
    {
     "ename": "NameError",
     "evalue": "name 'd' is not defined",
     "output_type": "error",
     "traceback": [
      "\u001b[1;31m---------------------------------------------------------------------------\u001b[0m",
      "\u001b[1;31mNameError\u001b[0m                                 Traceback (most recent call last)",
      "\u001b[1;32m<ipython-input-22-097c81679a77>\u001b[0m in \u001b[0;36m<module>\u001b[1;34m\u001b[0m\n\u001b[0;32m      3\u001b[0m \u001b[1;33m\u001b[0m\u001b[0m\n\u001b[0;32m      4\u001b[0m \u001b[1;31m#28 Jul 41 - 21 L 01 Aug 31 - 26 W 05 Aug 35 - 24 W 10 Aug 30 - 32 T 17 Aug 30 - 30 W 24 Aug 33 - 31 W 25 Aug 36 - 27 W 28 Aug 40 - 24 W 30 Aug 38 - 35 W 04 Sep 44 - 46 L 07 Sep 25 - 47 W 08 Sep 50 - 34 W 15 Sep 34 - 30 W 16 Sep 29 - 37 T 23 Sep 39 - 39 W 26 Sep 39 - 43 View Profile\"\u001b[0m\u001b[1;33m\u001b[0m\u001b[1;33m\u001b[0m\u001b[1;33m\u001b[0m\u001b[0m\n\u001b[1;32m----> 5\u001b[1;33m \u001b[0mre\u001b[0m\u001b[1;33m.\u001b[0m\u001b[0mfindall\u001b[0m\u001b[1;33m(\u001b[0m\u001b[0mpattern\u001b[0m\u001b[1;33m,\u001b[0m \u001b[0md\u001b[0m\u001b[1;33m[\u001b[0m\u001b[1;36m0\u001b[0m\u001b[1;33m]\u001b[0m\u001b[1;33m)\u001b[0m\u001b[1;33m\u001b[0m\u001b[1;33m\u001b[0m\u001b[0m\n\u001b[0m",
      "\u001b[1;31mNameError\u001b[0m: name 'd' is not defined"
     ]
    }
   ],
   "source": [
    "pattern=r\"(\\d*)\\s(\\d*)\\s(\\d*)\\s(\\d*)\\s(\\d*)\\s(\\d*)\\s(\\w*)\\s(\\d*\\s\\w*\\s\\d*)\\s\\S*\\s\\d*\\s\\w*\\s\\d*\\s\\w*\\s\\d*\\s\\S*\\s\\d*\\s\\w*\\s\"\n",
    "\n",
    "\n",
    "#28 Jul 41 - 21 L 01 Aug 31 - 26 W 05 Aug 35 - 24 W 10 Aug 30 - 32 T 17 Aug 30 - 30 W 24 Aug 33 - 31 W 25 Aug 36 - 27 W 28 Aug 40 - 24 W 30 Aug 38 - 35 W 04 Sep 44 - 46 L 07 Sep 25 - 47 W 08 Sep 50 - 34 W 15 Sep 34 - 30 W 16 Sep 29 - 37 T 23 Sep 39 - 39 W 26 Sep 39 - 43 View Profile\"\n",
    "re.findall(pattern, d[0])"
   ]
  },
  {
   "cell_type": "code",
   "execution_count": null,
   "metadata": {},
   "outputs": [],
   "source": []
  }
 ],
 "metadata": {
  "kernelspec": {
   "display_name": "Python 3",
   "language": "python",
   "name": "python3"
  },
  "language_info": {
   "codemirror_mode": {
    "name": "ipython",
    "version": 3
   },
   "file_extension": ".py",
   "mimetype": "text/x-python",
   "name": "python",
   "nbconvert_exporter": "python",
   "pygments_lexer": "ipython3",
   "version": "3.7.1"
  }
 },
 "nbformat": 4,
 "nbformat_minor": 2
}
