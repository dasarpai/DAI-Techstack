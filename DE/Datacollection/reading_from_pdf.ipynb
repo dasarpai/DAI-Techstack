{
 "cells": [
  {
   "cell_type": "code",
   "execution_count": 1,
   "metadata": {},
   "outputs": [
    {
     "name": "stdout",
     "output_type": "stream",
     "text": [
      "Collecting pyPDF2\n",
      "  Using cached PyPDF2-1.26.0.tar.gz (77 kB)\n",
      "Building wheels for collected packages: pyPDF2\n",
      "  Building wheel for pyPDF2 (setup.py): started\n",
      "  Building wheel for pyPDF2 (setup.py): finished with status 'done'\n",
      "  Created wheel for pyPDF2: filename=PyPDF2-1.26.0-py3-none-any.whl size=61087 sha256=ce39eb44a159a84bd910a4c7c4f556577bd7f7ccb34ce68cfd70fc4e02291f04\n",
      "  Stored in directory: c:\\users\\admin\\appdata\\local\\pip\\cache\\wheels\\b1\\1a\\8f\\a4c34be976825a2f7948d0fa40907598d69834f8ab5889de11\n",
      "Successfully built pyPDF2\n",
      "Installing collected packages: pyPDF2\n",
      "Successfully installed pyPDF2-1.26.0\n"
     ]
    }
   ],
   "source": [
    "!pip install pyPDF2"
   ]
  },
  {
   "cell_type": "code",
   "execution_count": 3,
   "metadata": {},
   "outputs": [
    {
     "name": "stdout",
     "output_type": "stream",
     "text": [
      "Collecting tabula\n",
      "  Using cached tabula-1.0.5.tar.gz (9.5 kB)\n",
      "Requirement already satisfied: setuptools in d:\\users\\admin\\anaconda3\\lib\\site-packages (from tabula) (49.2.0.post20200714)\n",
      "Requirement already satisfied: numpy in d:\\users\\admin\\anaconda3\\lib\\site-packages (from tabula) (1.18.5)\n",
      "Building wheels for collected packages: tabula\n",
      "  Building wheel for tabula (setup.py): started\n",
      "  Building wheel for tabula (setup.py): finished with status 'done'\n",
      "  Created wheel for tabula: filename=tabula-1.0.5-py3-none-any.whl size=10589 sha256=5dccbe1639d6578806cbb0c96b5834ab4352a71ccedcbdcc550b05e985420912\n",
      "  Stored in directory: c:\\users\\admin\\appdata\\local\\pip\\cache\\wheels\\2e\\51\\35\\aa182d12911ffd4045285cffccb0e130b74e9b0c083310c161\n",
      "Successfully built tabula\n",
      "Installing collected packages: tabula\n",
      "Successfully installed tabula-1.0.5\n"
     ]
    }
   ],
   "source": [
    "!pip install tabula"
   ]
  },
  {
   "cell_type": "code",
   "execution_count": 6,
   "metadata": {},
   "outputs": [],
   "source": [
    "import tabula"
   ]
  },
  {
   "cell_type": "code",
   "execution_count": 7,
   "metadata": {},
   "outputs": [
    {
     "ename": "AttributeError",
     "evalue": "module 'tabula' has no attribute 'convert_into'",
     "output_type": "error",
     "traceback": [
      "\u001b[1;31m---------------------------------------------------------------------------\u001b[0m",
      "\u001b[1;31mAttributeError\u001b[0m                            Traceback (most recent call last)",
      "\u001b[1;32m<ipython-input-7-0482b8fde64b>\u001b[0m in \u001b[0;36m<module>\u001b[1;34m\u001b[0m\n\u001b[1;32m----> 1\u001b[1;33m \u001b[0mtabula\u001b[0m\u001b[1;33m.\u001b[0m\u001b[0mconvert_into\u001b[0m\u001b[1;33m(\u001b[0m\u001b[1;34m\"AMZN-Stock.pdf\"\u001b[0m\u001b[1;33m,\u001b[0m\u001b[1;34m\"AMZN-Stock.csv\"\u001b[0m\u001b[1;33m)\u001b[0m\u001b[1;33m\u001b[0m\u001b[1;33m\u001b[0m\u001b[0m\n\u001b[0m",
      "\u001b[1;31mAttributeError\u001b[0m: module 'tabula' has no attribute 'convert_into'"
     ]
    }
   ],
   "source": [
    "tabula.convert_into(\"AMZN-Stock.pdf\",\"AMZN-Stock.csv\")"
   ]
  },
  {
   "cell_type": "code",
   "execution_count": 8,
   "metadata": {},
   "outputs": [
    {
     "name": "stdout",
     "output_type": "stream",
     "text": [
      "Help on package tabula:\n",
      "\n",
      "NAME\n",
      "    tabula\n",
      "\n",
      "PACKAGE CONTENTS\n",
      "    painter\n",
      "    section\n",
      "    table\n",
      "\n",
      "FILE\n",
      "    d:\\users\\admin\\anaconda3\\lib\\site-packages\\tabula\\__init__.py\n",
      "\n",
      "\n"
     ]
    }
   ],
   "source": [
    "help(tabula)"
   ]
  },
  {
   "cell_type": "code",
   "execution_count": null,
   "metadata": {},
   "outputs": [],
   "source": []
  },
  {
   "cell_type": "code",
   "execution_count": null,
   "metadata": {},
   "outputs": [],
   "source": []
  },
  {
   "cell_type": "code",
   "execution_count": null,
   "metadata": {},
   "outputs": [],
   "source": []
  },
  {
   "cell_type": "code",
   "execution_count": 9,
   "metadata": {},
   "outputs": [],
   "source": [
    "import PyPDF2"
   ]
  },
  {
   "cell_type": "code",
   "execution_count": null,
   "metadata": {},
   "outputs": [],
   "source": []
  },
  {
   "cell_type": "code",
   "execution_count": 10,
   "metadata": {},
   "outputs": [],
   "source": [
    "p=PyPDF2.pdf.PdfFileReader(\"AMZN-Stock.pdf\")"
   ]
  },
  {
   "cell_type": "code",
   "execution_count": 11,
   "metadata": {},
   "outputs": [
    {
     "data": {
      "text/plain": [
       "{'/Author': 'Lari McEdward',\n",
       " '/Company': 'Tableau Software',\n",
       " '/CreationDate': \"D:20170426120054-07'00'\",\n",
       " '/Creator': 'Acrobat PDFMaker 17 for Excel',\n",
       " '/ModDate': \"D:20170426124301-07'00'\",\n",
       " '/Producer': 'Adobe PDF Library 15.0'}"
      ]
     },
     "execution_count": 11,
     "metadata": {},
     "output_type": "execute_result"
    }
   ],
   "source": [
    "p.documentInfo"
   ]
  },
  {
   "cell_type": "code",
   "execution_count": 12,
   "metadata": {},
   "outputs": [
    {
     "data": {
      "text/plain": [
       "8"
      ]
     },
     "execution_count": 12,
     "metadata": {},
     "output_type": "execute_result"
    }
   ],
   "source": [
    "p.getNumPages()"
   ]
  },
  {
   "cell_type": "code",
   "execution_count": 13,
   "metadata": {},
   "outputs": [],
   "source": [
    "a=p.getPage(5)"
   ]
  },
  {
   "cell_type": "code",
   "execution_count": 14,
   "metadata": {},
   "outputs": [
    {
     "data": {
      "text/plain": [
       "'Date\\nOpen\\nHigh\\nLowClose\\nAdj Close\\nVolume\\n7/25/2016\\n$746.55\\n$748.50\\n$735.35\\n$739.61\\n$2,679,300.00\\n739.61\\n7/22/2016\\n$747.79\\n$751.28\\n$743.53\\n$744.86\\n$2,277,700.00\\n744.86\\n7/21/2016\\n$747.50\\n$749.36\\n$742.79\\n$744.43\\n$2,317,100.00\\n744.43\\n7/20/2016\\n$744.00\\n$746.25\\n$740.70\\n$745.72\\n$2,214,000.00\\n745.72\\n7/19/2016\\n$732.50\\n$743.33\\n$732.31\\n$739.95\\n$2,216,800.00\\n739.95\\n7/18/2016\\n$735.49\\n$741.60\\n$728.72\\n$736.07\\n$2,954,900.00\\n736.07\\n7/15/2016\\n$746.55\\n$746.55\\n$734.05\\n$735.44\\n$3,121,400.00\\n735.44\\n7/14/2016\\n$748.86\\n$749.04\\n$739.02\\n$741.20\\n$2,390,500.00\\n741.2\\n7/13/2016\\n$746.76\\n$756.87\\n$741.25\\n$742.63\\n$4,142,300.00\\n742.63\\n7/12/2016\\n$756.86\\n$757.34\\n$740.33\\n$748.21\\n$5,623,700.00\\n748.21\\n7/11/2016\\n$750.00\\n$755.90\\n$747.00\\n$753.78\\n$3,195,300.00\\n753.78\\n7/8/2016\\n$740.14\\n$746.10\\n$738.00\\n$745.81\\n$3,429,200.00\\n745.81\\n7/7/2016\\n$739.33\\n$739.55\\n$731.63\\n$736.57\\n$2,945,800.00\\n736.57\\n7/6/2016\\n$725.71\\n$737.77\\n$722.58\\n$737.61\\n$3,938,200.00\\n737.61\\n7/5/2016\\n$722.80\\n$729.56\\n$719.61\\n$728.10\\n$2,431,400.00\\n728.1\\n7/1/2016\\n$717.32\\n$728.00\\n$716.54\\n$725.68\\n$2,920,400.00\\n725.68\\n6/30/2016\\n$717.20\\n$719.37\\n$712.54\\n$715.62\\n$2,855,100.00\\n715.62\\n6/29/2016\\n$715.75\\n$719.50\\n$713.54\\n$715.60\\n$3,070,100.00\\n715.6\\n6/28/2016\\n$700.00\\n$708.00\\n$698.17\\n$707.95\\n$4,037,000.00\\n707.95\\n6/27/2016\\n$692.01\\n$696.82\\n$682.12\\n$691.36\\n$5,568,000.00\\n691.36\\n6/24/2016\\n$693.00\\n$712.53\\n$692.20\\n$698.96\\n$7,632,500.00\\n698.96\\n6/23/2016\\n$715.50\\n$722.12\\n$712.50\\n$722.08\\n$2,825,000.00\\n722.08\\n6/22/2016\\n$716.58\\n$717.00\\n$707.57\\n$710.60\\n$2,260,500.00\\n710.6\\n6/21/2016\\n$715.72\\n$718.40\\n$712.72\\n$715.82\\n$2,137,500.00\\n715.82\\n6/20/2016\\n$713.50\\n$721.31\\n$710.81\\n$714.01\\n$3,677,200.00\\n714.01\\n6/17/2016\\n$718.19\\n$718.20\\n$699.18\\n$706.39\\n$5,897,800.00\\n706.39\\n6/16/2016\\n$712.05\\n$718.00\\n$705.30\\n$717.51\\n$3,098,000.00\\n717.51\\n6/15/2016\\n$722.00\\n$722.56\\n$713.35\\n$714.26\\n$2,709,400.00\\n714.26\\n6/14/2016\\n$712.33\\n$720.81\\n$712.27\\n$719.30\\n$2,506,900.00\\n719.3\\n6/13/2016\\n$714.01\\n$721.99\\n$711.16\\n$715.24\\n$3,352,200.00\\n715.24\\n6/10/2016\\n$722.35\\n$724.98\\n$714.21\\n$717.91\\n$3,425,700.00\\n717.91\\n6/9/2016\\n$723.10\\n$728.91\\n$722.30\\n$727.65\\n$2,170,300.00\\n727.65\\n6/8/2016\\n$726.40\\n$729.42\\n$721.60\\n$726.64\\n$2,223,400.00\\n726.64\\n6/7/2016\\n$729.89\\n$730.00\\n$720.55\\n$723.74\\n$2,732,500.00\\n723.74\\n6/6/2016\\n$726.50\\n$731.50\\n$724.42\\n$726.73\\n$2,704,800.00\\n726.73\\n6/3/2016\\n$726.74\\n$727.00\\n$718.43\\n$725.54\\n$3,367,300.00\\n725.54\\n6/2/2016\\n$720.97\\n$728.28\\n$715.50\\n$728.24\\n$3,026,600.00\\n728.24\\n6/1/2016\\n$720.90\\n$726.43\\n$718.22\\n$719.44\\n$3,263,100.00\\n719.44\\n5/31/2016\\n$712.33\\n$724.23\\n$711.32\\n$722.79\\n$3,618,300.00\\n722.79\\n5/27/2016\\n$715.00\\n$716.60\\n$711.10\\n$712.24\\n$2,246,400.00\\n712.24\\n5/26/2016\\n$708.33\\n$715.00\\n$707.29\\n$714.91\\n$2,446,700.00\\n714.91\\n5/25/2016\\n$708.00\\n$710.86\\n$705.52\\n$708.35\\n$3,267,700.00\\n708.35\\n5/24/2016\\n$698.01\\n$707.50\\n$698.00\\n$704.20\\n$3,033,800.00\\n704.2\\n5/23/2016\\n$704.25\\n$706.00\\n$696.42\\n$696.75\\n$2,595,100.00\\n696.75\\n5/20/2016\\n$701.05\\n$707.24\\n$700.00\\n$702.80\\n$2,916,200.00\\n702.8\\n5/19/2016\\n$691.88\\n$699.40\\n$689.56\\n$698.52\\n$3,025,600.00\\n698.52\\n5/18/2016\\n$689.56\\n$702.54\\n$688.76\\n$697.45\\n$4,283,200.00\\n697.45\\nAmazon (AMZN) Stock Prices\\npulled from yahoo finance on 4/24/17\\n1/1/2016 - 4/21/2017\\nhttps://finance.yahoo.com/quote/AMZN/history?p=AMZN\\n'"
      ]
     },
     "execution_count": 14,
     "metadata": {},
     "output_type": "execute_result"
    }
   ],
   "source": [
    "a.extractText()"
   ]
  },
  {
   "cell_type": "code",
   "execution_count": 15,
   "metadata": {},
   "outputs": [
    {
     "data": {
      "text/plain": [
       "False"
      ]
     },
     "execution_count": 15,
     "metadata": {},
     "output_type": "execute_result"
    }
   ],
   "source": [
    "p.isEncrypted"
   ]
  },
  {
   "cell_type": "code",
   "execution_count": 16,
   "metadata": {},
   "outputs": [
    {
     "data": {
      "text/plain": [
       "[{'/Title': 'Sheet1',\n",
       "  '/Page': {'/Contents': {'/Filter': '/FlateDecode'},\n",
       "   '/CropBox': [-11.9622, 11.9906, 600.038, 803.991],\n",
       "   '/Group': {'/CS': ['/ICCBased', IndirectObject(5350, 0)],\n",
       "    '/S': '/Transparency'},\n",
       "   '/MediaBox': [-11.9622, 11.9906, 600.038, 803.991],\n",
       "   '/Parent': {'/Count': 8,\n",
       "    '/Kids': [IndirectObject(5345, 0),\n",
       "     IndirectObject(1, 0),\n",
       "     IndirectObject(3, 0),\n",
       "     IndirectObject(5, 0),\n",
       "     IndirectObject(7, 0),\n",
       "     IndirectObject(9, 0),\n",
       "     IndirectObject(11, 0),\n",
       "     IndirectObject(13, 0)],\n",
       "    '/Type': '/Pages'},\n",
       "   '/Resources': {'/ColorSpace': {'/CS0': ['/ICCBased',\n",
       "      IndirectObject(5351, 0)],\n",
       "     '/CS1': ['/ICCBased', IndirectObject(5350, 0)]},\n",
       "    '/ExtGState': {'/GS0': {'/AIS': <PyPDF2.generic.BooleanObject at 0x1be17fdf4c0>,\n",
       "      '/BM': '/Normal',\n",
       "      '/CA': 1,\n",
       "      '/OP': <PyPDF2.generic.BooleanObject at 0x1be17fdfdc0>,\n",
       "      '/OPM': 1,\n",
       "      '/SA': <PyPDF2.generic.BooleanObject at 0x1be17fdfd60>,\n",
       "      '/SMask': '/None',\n",
       "      '/Type': '/ExtGState',\n",
       "      '/ca': 1,\n",
       "      '/op': <PyPDF2.generic.BooleanObject at 0x1be17fdf100>}},\n",
       "    '/Font': {'/TT0': {'/BaseFont': '/KCTWOO+Calibri-Bold',\n",
       "      '/Encoding': '/WinAnsiEncoding',\n",
       "      '/FirstChar': 32,\n",
       "      '/FontDescriptor': {'/Ascent': 971,\n",
       "       '/CapHeight': 632,\n",
       "       '/Descent': -306,\n",
       "       '/Flags': 32,\n",
       "       '/FontBBox': [-519, -306, 1240, 971],\n",
       "       '/FontFamily': 'Calibri',\n",
       "       '/FontFile2': {'/Filter': '/FlateDecode', '/Length1': 54999},\n",
       "       '/FontName': '/KCTWOO+Calibri-Bold',\n",
       "       '/FontStretch': '/Normal',\n",
       "       '/FontWeight': 700,\n",
       "       '/ItalicAngle': 0,\n",
       "       '/StemV': 124,\n",
       "       '/Type': '/FontDescriptor',\n",
       "       '/XHeight': 472},\n",
       "      '/LastChar': 122,\n",
       "      '/Subtype': '/TrueType',\n",
       "      '/ToUnicode': {'/Filter': '/FlateDecode'},\n",
       "      '/Type': '/Font',\n",
       "      '/Widths': [226,\n",
       "       0,\n",
       "       0,\n",
       "       0,\n",
       "       0,\n",
       "       0,\n",
       "       0,\n",
       "       0,\n",
       "       312,\n",
       "       312,\n",
       "       0,\n",
       "       0,\n",
       "       0,\n",
       "       0,\n",
       "       0,\n",
       "       0,\n",
       "       507,\n",
       "       507,\n",
       "       507,\n",
       "       0,\n",
       "       0,\n",
       "       0,\n",
       "       507,\n",
       "       507,\n",
       "       0,\n",
       "       0,\n",
       "       0,\n",
       "       0,\n",
       "       0,\n",
       "       0,\n",
       "       0,\n",
       "       0,\n",
       "       0,\n",
       "       606,\n",
       "       0,\n",
       "       0,\n",
       "       0,\n",
       "       0,\n",
       "       0,\n",
       "       0,\n",
       "       0,\n",
       "       0,\n",
       "       0,\n",
       "       0,\n",
       "       0,\n",
       "       874,\n",
       "       659,\n",
       "       0,\n",
       "       532,\n",
       "       0,\n",
       "       0,\n",
       "       473,\n",
       "       0,\n",
       "       0,\n",
       "       0,\n",
       "       0,\n",
       "       0,\n",
       "       0,\n",
       "       478,\n",
       "       0,\n",
       "       0,\n",
       "       0,\n",
       "       0,\n",
       "       0,\n",
       "       0,\n",
       "       494,\n",
       "       0,\n",
       "       418,\n",
       "       0,\n",
       "       503,\n",
       "       0,\n",
       "       0,\n",
       "       0,\n",
       "       246,\n",
       "       0,\n",
       "       480,\n",
       "       0,\n",
       "       813,\n",
       "       537,\n",
       "       538,\n",
       "       0,\n",
       "       0,\n",
       "       355,\n",
       "       399,\n",
       "       347,\n",
       "       0,\n",
       "       0,\n",
       "       0,\n",
       "       0,\n",
       "       0,\n",
       "       397]},\n",
       "     '/TT1': {'/BaseFont': '/FSGSWY+Calibri',\n",
       "      '/Encoding': '/WinAnsiEncoding',\n",
       "      '/FirstChar': 32,\n",
       "      '/FontDescriptor': {'/Ascent': 964,\n",
       "       '/CapHeight': 632,\n",
       "       '/Descent': -307,\n",
       "       '/Flags': 32,\n",
       "       '/FontBBox': [-503, -307, 1240, 964],\n",
       "       '/FontFamily': 'Calibri',\n",
       "       '/FontFile2': {'/Filter': '/FlateDecode', '/Length1': 63211},\n",
       "       '/FontName': '/FSGSWY+Calibri',\n",
       "       '/FontStretch': '/Normal',\n",
       "       '/FontWeight': 400,\n",
       "       '/ItalicAngle': 0,\n",
       "       '/StemV': 80,\n",
       "       '/Type': '/FontDescriptor',\n",
       "       '/XHeight': 467},\n",
       "      '/LastChar': 122,\n",
       "      '/Subtype': '/TrueType',\n",
       "      '/ToUnicode': {'/Filter': '/FlateDecode'},\n",
       "      '/Type': '/Font',\n",
       "      '/Widths': [226,\n",
       "       0,\n",
       "       0,\n",
       "       0,\n",
       "       507,\n",
       "       0,\n",
       "       0,\n",
       "       0,\n",
       "       0,\n",
       "       0,\n",
       "       0,\n",
       "       0,\n",
       "       0,\n",
       "       306,\n",
       "       0,\n",
       "       386,\n",
       "       507,\n",
       "       507,\n",
       "       507,\n",
       "       507,\n",
       "       507,\n",
       "       507,\n",
       "       507,\n",
       "       507,\n",
       "       507,\n",
       "       507,\n",
       "       0,\n",
       "       0,\n",
       "       0,\n",
       "       0,\n",
       "       0,\n",
       "       0,\n",
       "       0,\n",
       "       579,\n",
       "       0,\n",
       "       0,\n",
       "       615,\n",
       "       0,\n",
       "       459,\n",
       "       0,\n",
       "       0,\n",
       "       0,\n",
       "       319,\n",
       "       0,\n",
       "       0,\n",
       "       855,\n",
       "       646,\n",
       "       662,\n",
       "       0,\n",
       "       0,\n",
       "       0,\n",
       "       459,\n",
       "       0,\n",
       "       0,\n",
       "       0,\n",
       "       0,\n",
       "       0,\n",
       "       0,\n",
       "       0,\n",
       "       0,\n",
       "       0,\n",
       "       0,\n",
       "       0,\n",
       "       0,\n",
       "       0,\n",
       "       479,\n",
       "       525,\n",
       "       423,\n",
       "       0,\n",
       "       498,\n",
       "       0,\n",
       "       471,\n",
       "       525,\n",
       "       229,\n",
       "       0,\n",
       "       455,\n",
       "       229,\n",
       "       799,\n",
       "       525,\n",
       "       527,\n",
       "       525,\n",
       "       0,\n",
       "       349,\n",
       "       391,\n",
       "       335,\n",
       "       525,\n",
       "       452,\n",
       "       0,\n",
       "       0,\n",
       "       453,\n",
       "       395]}},\n",
       "    '/XObject': {'/Im0': {'/BitsPerComponent': 8,\n",
       "      '/ColorSpace': ['/ICCBased', IndirectObject(5350, 0)],\n",
       "      '/Filter': '/DCTDecode',\n",
       "      '/Height': 707,\n",
       "      '/Name': '/X',\n",
       "      '/SMask': {'/BitsPerComponent': 8,\n",
       "       '/ColorSpace': '/DeviceGray',\n",
       "       '/DecodeParms': {'/BitsPerComponent': 8, '/Colors': 1, '/Columns': 665},\n",
       "       '/Filter': '/FlateDecode',\n",
       "       '/Height': 707,\n",
       "       '/Name': '/X',\n",
       "       '/Subtype': '/Image',\n",
       "       '/Type': '/XObject',\n",
       "       '/Width': 665},\n",
       "      '/Subtype': '/Image',\n",
       "      '/Type': '/XObject',\n",
       "      '/Width': 665}}},\n",
       "   '/Rotate': 0,\n",
       "   '/StructParents': 0,\n",
       "   '/Tabs': '/S',\n",
       "   '/Type': '/Page'},\n",
       "  '/Type': '/XYZ',\n",
       "  '/Left': -12,\n",
       "  '/Top': 804,\n",
       "  '/Zoom': <PyPDF2.generic.NullObject at 0x1be17fe24c0>}]"
      ]
     },
     "execution_count": 16,
     "metadata": {},
     "output_type": "execute_result"
    }
   ],
   "source": [
    "p.getOutlines()"
   ]
  },
  {
   "cell_type": "code",
   "execution_count": 17,
   "metadata": {},
   "outputs": [],
   "source": [
    "p.getFields()"
   ]
  },
  {
   "cell_type": "code",
   "execution_count": 18,
   "metadata": {},
   "outputs": [
    {
     "data": {
      "text/plain": [
       "{'/Root': {'/Lang': 'EN-US',\n",
       "  '/MarkInfo': {'/Marked': <PyPDF2.generic.BooleanObject at 0x1be17feee80>},\n",
       "  '/Metadata': {'/Subtype': '/XML', '/Type': '/Metadata'},\n",
       "  '/Outlines': {'/Count': 1,\n",
       "   '/First': {'/A': {'/D': [IndirectObject(5345, 0),\n",
       "      '/XYZ',\n",
       "      -12,\n",
       "      804,\n",
       "      <PyPDF2.generic.NullObject at 0x1be17fe24c0>],\n",
       "     '/S': '/GoTo'},\n",
       "    '/Parent': {...},\n",
       "    '/Title': 'Sheet1'},\n",
       "   '/Last': {'/A': {'/D': [IndirectObject(5345, 0),\n",
       "      '/XYZ',\n",
       "      -12,\n",
       "      804,\n",
       "      <PyPDF2.generic.NullObject at 0x1be17fe24c0>],\n",
       "     '/S': '/GoTo'},\n",
       "    '/Parent': {...},\n",
       "    '/Title': 'Sheet1'},\n",
       "   '/Type': '/Outlines'},\n",
       "  '/PageLayout': '/SinglePage',\n",
       "  '/Pages': {'/Count': 8,\n",
       "   '/Kids': [IndirectObject(5345, 0),\n",
       "    IndirectObject(1, 0),\n",
       "    IndirectObject(3, 0),\n",
       "    IndirectObject(5, 0),\n",
       "    IndirectObject(7, 0),\n",
       "    IndirectObject(9, 0),\n",
       "    IndirectObject(11, 0),\n",
       "    IndirectObject(13, 0)],\n",
       "   '/Type': '/Pages'},\n",
       "  '/StructTreeRoot': {'/K': {'/K': {'/K': [IndirectObject(439, 0),\n",
       "      IndirectObject(442, 0)],\n",
       "     '/P': {...},\n",
       "     '/S': '/Worksheet'},\n",
       "    '/P': {...},\n",
       "    '/S': '/Workbook'},\n",
       "   '/ParentTree': {'/Nums': [0,\n",
       "     IndirectObject(89, 0),\n",
       "     1,\n",
       "     IndirectObject(90, 0),\n",
       "     2,\n",
       "     IndirectObject(91, 0),\n",
       "     3,\n",
       "     IndirectObject(92, 0),\n",
       "     4,\n",
       "     IndirectObject(93, 0),\n",
       "     5,\n",
       "     IndirectObject(94, 0),\n",
       "     6,\n",
       "     IndirectObject(95, 0),\n",
       "     7,\n",
       "     IndirectObject(96, 0)]},\n",
       "   '/ParentTreeNextKey': 8,\n",
       "   '/RoleMap': {'/Chart': '/Figure',\n",
       "    '/Chartsheet': '/Sect',\n",
       "    '/Diagram': '/Figure',\n",
       "    '/Dialogsheet': '/Sect',\n",
       "    '/Macrosheet': '/Sect',\n",
       "    '/TextBox': '/Art',\n",
       "    '/Workbook': '/Document',\n",
       "    '/Worksheet': '/Sect'},\n",
       "   '/Type': '/StructTreeRoot'},\n",
       "  '/Type': '/Catalog'},\n",
       " '/Info': {'/Author': 'Lari McEdward',\n",
       "  '/Company': 'Tableau Software',\n",
       "  '/CreationDate': \"D:20170426120054-07'00'\",\n",
       "  '/Creator': 'Acrobat PDFMaker 17 for Excel',\n",
       "  '/ModDate': \"D:20170426124301-07'00'\",\n",
       "  '/Producer': 'Adobe PDF Library 15.0'},\n",
       " '/ID': [b'\\x19\\xdd\\xb8\\xcab\\x0bLK\\x8b\\x80\\x89\\x02\\xc1\\x10Y_',\n",
       "  b'\\xe3\\x91R\\x8cL\\x8e\\xf7D\\xa6\")<\\xady\\xbb\\x7f']}"
      ]
     },
     "execution_count": 18,
     "metadata": {},
     "output_type": "execute_result"
    }
   ],
   "source": [
    "p.trailer"
   ]
  },
  {
   "cell_type": "code",
   "execution_count": 32,
   "metadata": {},
   "outputs": [
    {
     "name": "stdout",
     "output_type": "stream",
     "text": [
      "\n",
      "\n"
     ]
    },
    {
     "ename": "IndexError",
     "evalue": "list index out of range",
     "output_type": "error",
     "traceback": [
      "\u001b[1;31m---------------------------------------------------------------------------\u001b[0m",
      "\u001b[1;31mIndexError\u001b[0m                                Traceback (most recent call last)",
      "\u001b[1;32m<ipython-input-32-fc4a3001e3fe>\u001b[0m in \u001b[0;36m<module>\u001b[1;34m\u001b[0m\n\u001b[0;32m     19\u001b[0m \u001b[0mi\u001b[0m\u001b[1;33m=\u001b[0m\u001b[1;36m0\u001b[0m\u001b[1;33m\u001b[0m\u001b[1;33m\u001b[0m\u001b[0m\n\u001b[0;32m     20\u001b[0m \u001b[1;32mwhile\u001b[0m \u001b[0mi\u001b[0m\u001b[1;33m<=\u001b[0m\u001b[0mpages\u001b[0m\u001b[1;33m:\u001b[0m\u001b[1;33m\u001b[0m\u001b[1;33m\u001b[0m\u001b[0m\n\u001b[1;32m---> 21\u001b[1;33m     \u001b[0mpageObj\u001b[0m \u001b[1;33m=\u001b[0m \u001b[0mpdfReader\u001b[0m\u001b[1;33m.\u001b[0m\u001b[0mgetPage\u001b[0m\u001b[1;33m(\u001b[0m\u001b[0mi\u001b[0m\u001b[1;33m)\u001b[0m\u001b[1;33m\u001b[0m\u001b[1;33m\u001b[0m\u001b[0m\n\u001b[0m\u001b[0;32m     22\u001b[0m     \u001b[1;31m# extracting text from page\u001b[0m\u001b[1;33m\u001b[0m\u001b[1;33m\u001b[0m\u001b[1;33m\u001b[0m\u001b[0m\n\u001b[0;32m     23\u001b[0m     \u001b[0mprint\u001b[0m\u001b[1;33m(\u001b[0m\u001b[0mpageObj\u001b[0m\u001b[1;33m.\u001b[0m\u001b[0mextractText\u001b[0m\u001b[1;33m(\u001b[0m\u001b[1;33m)\u001b[0m\u001b[1;33m)\u001b[0m\u001b[1;33m\u001b[0m\u001b[1;33m\u001b[0m\u001b[0m\n",
      "\u001b[1;32mD:\\Users\\admin\\anaconda3\\lib\\site-packages\\PyPDF2\\pdf.py\u001b[0m in \u001b[0;36mgetPage\u001b[1;34m(self, pageNumber)\u001b[0m\n\u001b[0;32m   1175\u001b[0m         \u001b[1;32mif\u001b[0m \u001b[0mself\u001b[0m\u001b[1;33m.\u001b[0m\u001b[0mflattenedPages\u001b[0m \u001b[1;33m==\u001b[0m \u001b[1;32mNone\u001b[0m\u001b[1;33m:\u001b[0m\u001b[1;33m\u001b[0m\u001b[1;33m\u001b[0m\u001b[0m\n\u001b[0;32m   1176\u001b[0m             \u001b[0mself\u001b[0m\u001b[1;33m.\u001b[0m\u001b[0m_flatten\u001b[0m\u001b[1;33m(\u001b[0m\u001b[1;33m)\u001b[0m\u001b[1;33m\u001b[0m\u001b[1;33m\u001b[0m\u001b[0m\n\u001b[1;32m-> 1177\u001b[1;33m         \u001b[1;32mreturn\u001b[0m \u001b[0mself\u001b[0m\u001b[1;33m.\u001b[0m\u001b[0mflattenedPages\u001b[0m\u001b[1;33m[\u001b[0m\u001b[0mpageNumber\u001b[0m\u001b[1;33m]\u001b[0m\u001b[1;33m\u001b[0m\u001b[1;33m\u001b[0m\u001b[0m\n\u001b[0m\u001b[0;32m   1178\u001b[0m \u001b[1;33m\u001b[0m\u001b[0m\n\u001b[0;32m   1179\u001b[0m     namedDestinations = property(lambda self:\n",
      "\u001b[1;31mIndexError\u001b[0m: list index out of range"
     ]
    }
   ],
   "source": [
    "# importing required modules \n",
    "import PyPDF2 \n",
    "  \n",
    "# creating a pdf file object \n",
    "#pdfFileObj = open(r'D:\\18-DS\\Course-Outline\\PGP_BigData-NITR v1.1.pdf', 'rb') \n",
    "pdfFileObj = open(r'FinalRollVoters1.pdf', 'rb') \n",
    "#pdfFileObj = open(r'AMZN-Stock.pdf', 'rb') \n",
    "\n",
    "\n",
    "\n",
    "  \n",
    "# creating a pdf reader object \n",
    "pdfReader = PyPDF2.PdfFileReader(pdfFileObj) \n",
    "  \n",
    "# printing number of pages in pdf file \n",
    "pages= pdfReader.numPages\n",
    "  \n",
    "# creating a page object \n",
    "i=0\n",
    "while i<=pages:\n",
    "    pageObj = pdfReader.getPage(i)\n",
    "    # extracting text from page \n",
    "    print(pageObj.extractText())\n",
    "    i+=1\n",
    "  \n",
    "# closing the pdf file object \n",
    "pdfFileObj.close() "
   ]
  },
  {
   "cell_type": "code",
   "execution_count": 23,
   "metadata": {},
   "outputs": [
    {
     "name": "stdout",
     "output_type": "stream",
     "text": [
      "8\n",
      "20162017January\n",
      "$601$808February\n",
      "$531$836March\n",
      "$572$854April\n",
      "$614$900May\n",
      "$697June\n",
      "$716July\n",
      "$741August\n",
      "$765September\n",
      "$789October\n",
      "$824November\n",
      "$763December\n",
      "$763Amazon Stock\n",
      "\n"
     ]
    }
   ],
   "source": [
    "import PyPDF2 \n",
    "  \n",
    "# creating a pdf file object \n",
    "pdfFileObj = open('AMZN-Stock.pdf', 'rb') \n",
    "  \n",
    "# creating a pdf reader object \n",
    "pdfReader = PyPDF2.PdfFileReader(pdfFileObj) \n",
    "  \n",
    "# printing number of pages in pdf file \n",
    "print(pdfReader.numPages) \n",
    "  \n",
    "# creating a page object \n",
    "pageObj = pdfReader.getPage(0) \n",
    "  \n",
    "# extracting text from page \n",
    "print(pageObj.extractText()) \n",
    "  \n",
    "# closing the pdf file object \n",
    "pdfFileObj.close() "
   ]
  },
  {
   "cell_type": "code",
   "execution_count": 24,
   "metadata": {},
   "outputs": [
    {
     "name": "stdout",
     "output_type": "stream",
     "text": [
      "Collecting pdfreader\n",
      "  Downloading pdfreader-0.1.5.tar.gz (2.8 MB)\n",
      "Requirement already satisfied: bitarray>=1.1.0 in d:\\users\\admin\\anaconda3\\lib\\site-packages (from pdfreader) (1.4.0)\n",
      "Requirement already satisfied: pillow>6.2.0 in d:\\users\\admin\\anaconda3\\lib\\site-packages (from pdfreader) (7.2.0)\n",
      "Building wheels for collected packages: pdfreader\n",
      "  Building wheel for pdfreader (setup.py): started\n",
      "  Building wheel for pdfreader (setup.py): finished with status 'done'\n",
      "  Created wheel for pdfreader: filename=pdfreader-0.1.5-py3-none-any.whl size=99435 sha256=c23c604b9be35c95aa1fc7a5a305b528e63bb481fe1933688f26ecd10640529d\n",
      "  Stored in directory: c:\\users\\admin\\appdata\\local\\pip\\cache\\wheels\\e8\\aa\\64\\e8b8304bdc7830ca142003b00d5f01681a9ecebacda0b152ca\n",
      "Successfully built pdfreader\n",
      "Installing collected packages: pdfreader\n",
      "Successfully installed pdfreader-0.1.5\n"
     ]
    }
   ],
   "source": [
    "!pip install pdfreader"
   ]
  },
  {
   "cell_type": "code",
   "execution_count": 25,
   "metadata": {},
   "outputs": [],
   "source": [
    "import pdfreader"
   ]
  },
  {
   "cell_type": "code",
   "execution_count": 26,
   "metadata": {},
   "outputs": [
    {
     "ename": "AttributeError",
     "evalue": "'str' object has no attribute 'seek'",
     "output_type": "error",
     "traceback": [
      "\u001b[1;31m---------------------------------------------------------------------------\u001b[0m",
      "\u001b[1;31mAttributeError\u001b[0m                            Traceback (most recent call last)",
      "\u001b[1;32m<ipython-input-26-0c99b75aea94>\u001b[0m in \u001b[0;36m<module>\u001b[1;34m\u001b[0m\n\u001b[1;32m----> 1\u001b[1;33m \u001b[0mpdfReader\u001b[0m\u001b[1;33m.\u001b[0m\u001b[0mread\u001b[0m\u001b[1;33m(\u001b[0m\u001b[1;34m\"pdfreader.pdf\"\u001b[0m\u001b[1;33m)\u001b[0m\u001b[1;33m\u001b[0m\u001b[1;33m\u001b[0m\u001b[0m\n\u001b[0m",
      "\u001b[1;32mD:\\Users\\admin\\anaconda3\\lib\\site-packages\\PyPDF2\\pdf.py\u001b[0m in \u001b[0;36mread\u001b[1;34m(self, stream)\u001b[0m\n\u001b[0;32m   1687\u001b[0m         \u001b[1;32mif\u001b[0m \u001b[0mdebug\u001b[0m\u001b[1;33m:\u001b[0m \u001b[0mprint\u001b[0m\u001b[1;33m(\u001b[0m\u001b[1;34m\">>read\"\u001b[0m\u001b[1;33m,\u001b[0m \u001b[0mstream\u001b[0m\u001b[1;33m)\u001b[0m\u001b[1;33m\u001b[0m\u001b[1;33m\u001b[0m\u001b[0m\n\u001b[0;32m   1688\u001b[0m         \u001b[1;31m# start at the end:\u001b[0m\u001b[1;33m\u001b[0m\u001b[1;33m\u001b[0m\u001b[1;33m\u001b[0m\u001b[0m\n\u001b[1;32m-> 1689\u001b[1;33m         \u001b[0mstream\u001b[0m\u001b[1;33m.\u001b[0m\u001b[0mseek\u001b[0m\u001b[1;33m(\u001b[0m\u001b[1;33m-\u001b[0m\u001b[1;36m1\u001b[0m\u001b[1;33m,\u001b[0m \u001b[1;36m2\u001b[0m\u001b[1;33m)\u001b[0m\u001b[1;33m\u001b[0m\u001b[1;33m\u001b[0m\u001b[0m\n\u001b[0m\u001b[0;32m   1690\u001b[0m         \u001b[1;32mif\u001b[0m \u001b[1;32mnot\u001b[0m \u001b[0mstream\u001b[0m\u001b[1;33m.\u001b[0m\u001b[0mtell\u001b[0m\u001b[1;33m(\u001b[0m\u001b[1;33m)\u001b[0m\u001b[1;33m:\u001b[0m\u001b[1;33m\u001b[0m\u001b[1;33m\u001b[0m\u001b[0m\n\u001b[0;32m   1691\u001b[0m             \u001b[1;32mraise\u001b[0m \u001b[0mutils\u001b[0m\u001b[1;33m.\u001b[0m\u001b[0mPdfReadError\u001b[0m\u001b[1;33m(\u001b[0m\u001b[1;34m'Cannot read an empty file'\u001b[0m\u001b[1;33m)\u001b[0m\u001b[1;33m\u001b[0m\u001b[1;33m\u001b[0m\u001b[0m\n",
      "\u001b[1;31mAttributeError\u001b[0m: 'str' object has no attribute 'seek'"
     ]
    }
   ],
   "source": [
    "pdfReader.read(\"pdfreader.pdf\")"
   ]
  },
  {
   "cell_type": "code",
   "execution_count": 28,
   "metadata": {},
   "outputs": [
    {
     "name": "stdout",
     "output_type": "stream",
     "text": [
      "Collecting pikepdf\n",
      "  Downloading pikepdf-1.19.0-cp38-cp38-win_amd64.whl (1.4 MB)\n",
      "Requirement already satisfied: lxml>=4.0 in d:\\users\\admin\\anaconda3\\lib\\site-packages (from pikepdf) (4.5.2)\n",
      "Requirement already satisfied: Pillow>=6 in d:\\users\\admin\\anaconda3\\lib\\site-packages (from pikepdf) (7.2.0)\n",
      "Installing collected packages: pikepdf\n",
      "Successfully installed pikepdf-1.19.0\n"
     ]
    }
   ],
   "source": [
    "!pip install pikepdf"
   ]
  },
  {
   "cell_type": "code",
   "execution_count": 29,
   "metadata": {},
   "outputs": [],
   "source": [
    "import glob, os, pikepdf\n",
    "\n",
    "p = os.getcwd()\n",
    "for file in glob.glob('*.pdf'):\n",
    "   file_path = os.path.join(p, file).replace('\\\\','/')\n",
    "   init_pdf = pikepdf.open(file_path)\n",
    "   new_pdf = pikepdf.new()\n",
    "   new_pdf.pages.extend(init_pdf.pages)\n",
    "   new_pdf.save(str(file))"
   ]
  },
  {
   "cell_type": "code",
   "execution_count": null,
   "metadata": {},
   "outputs": [],
   "source": []
  },
  {
   "cell_type": "code",
   "execution_count": 38,
   "metadata": {},
   "outputs": [
    {
     "name": "stdout",
     "output_type": "stream",
     "text": [
      "Give horizontal position page number (ENTER = default 460): 1\n",
      "Give horizontal position page number (ENTER = default 820): 2\n",
      "File: AMZN-Stock.pdf\n",
      "Number of pages detected:8\n",
      " Page 1/8\n",
      " Page 2/8\n",
      " Page 3/8\n",
      " Page 4/8\n",
      " Page 5/8\n",
      " Page 6/8\n",
      " Page 7/8\n",
      " Page 8/8\n",
      "File: animal_farm.pdf\n",
      "Number of pages detected:55\n",
      " Page 1/55\n",
      " Page 2/55\n",
      " Page 3/55\n",
      " Page 4/55\n",
      " Page 5/55\n",
      " Page 6/55\n",
      " Page 7/55\n",
      " Page 8/55\n",
      " Page 9/55\n",
      " Page 10/55\n",
      " Page 11/55\n",
      " Page 12/55\n",
      " Page 13/55\n",
      " Page 14/55\n",
      " Page 15/55\n",
      " Page 16/55\n",
      " Page 17/55\n",
      " Page 18/55\n",
      " Page 19/55\n",
      " Page 20/55\n",
      " Page 21/55\n",
      " Page 22/55\n",
      " Page 23/55\n",
      " Page 24/55\n",
      " Page 25/55\n",
      " Page 26/55\n",
      " Page 27/55\n",
      " Page 28/55\n",
      " Page 29/55\n",
      " Page 30/55\n",
      " Page 31/55\n",
      " Page 32/55\n",
      " Page 33/55\n",
      " Page 34/55\n",
      " Page 35/55\n",
      " Page 36/55\n",
      " Page 37/55\n",
      " Page 38/55\n",
      " Page 39/55\n",
      " Page 40/55\n",
      " Page 41/55\n",
      " Page 42/55\n",
      " Page 43/55\n",
      " Page 44/55\n",
      " Page 45/55\n",
      " Page 46/55\n",
      " Page 47/55\n",
      " Page 48/55\n",
      " Page 49/55\n",
      " Page 50/55\n",
      " Page 51/55\n",
      " Page 52/55\n",
      " Page 53/55\n",
      " Page 54/55\n",
      " Page 55/55\n",
      "File: FinalRollVoters.pdf\n",
      "Number of pages detected:34\n",
      " Page 1/34\n",
      " Page 2/34\n",
      " Page 3/34\n",
      " Page 4/34\n",
      " Page 5/34\n",
      " Page 6/34\n",
      " Page 7/34\n",
      " Page 8/34\n",
      " Page 9/34\n",
      " Page 10/34\n",
      " Page 11/34\n",
      " Page 12/34\n",
      " Page 13/34\n",
      " Page 14/34\n",
      " Page 15/34\n",
      " Page 16/34\n",
      " Page 17/34\n",
      " Page 18/34\n",
      " Page 19/34\n",
      " Page 20/34\n",
      " Page 21/34\n",
      " Page 22/34\n",
      " Page 23/34\n",
      " Page 24/34\n",
      " Page 25/34\n",
      " Page 26/34\n",
      " Page 27/34\n",
      " Page 28/34\n",
      " Page 29/34\n",
      " Page 30/34\n",
      " Page 31/34\n",
      " Page 32/34\n",
      " Page 33/34\n",
      " Page 34/34\n",
      "File: FinalRollVoters1.pdf\n",
      "Number of pages detected:2\n",
      " Page 1/2\n",
      " Page 2/2\n"
     ]
    },
    {
     "name": "stderr",
     "output_type": "stream",
     "text": [
      "PdfReadWarning: Superfluous whitespace found in object header b'1' b'0' [pdf.py:1665]\n",
      "PdfReadWarning: Superfluous whitespace found in object header b'2' b'0' [pdf.py:1665]\n",
      "PdfReadWarning: Superfluous whitespace found in object header b'3' b'0' [pdf.py:1665]\n",
      "PdfReadWarning: Superfluous whitespace found in object header b'32' b'0' [pdf.py:1665]\n",
      "PdfReadWarning: Superfluous whitespace found in object header b'31' b'0' [pdf.py:1665]\n",
      "PdfReadWarning: Superfluous whitespace found in object header b'30' b'0' [pdf.py:1665]\n",
      "PdfReadWarning: Superfluous whitespace found in object header b'58' b'0' [pdf.py:1665]\n",
      "PdfReadWarning: Superfluous whitespace found in object header b'57' b'0' [pdf.py:1665]\n",
      "PdfReadWarning: Superfluous whitespace found in object header b'4' b'0' [pdf.py:1665]\n",
      "PdfReadWarning: Superfluous whitespace found in object header b'13' b'0' [pdf.py:1665]\n",
      "PdfReadWarning: Superfluous whitespace found in object header b'14' b'0' [pdf.py:1665]\n",
      "PdfReadWarning: Superfluous whitespace found in object header b'15' b'0' [pdf.py:1665]\n",
      "PdfReadWarning: Superfluous whitespace found in object header b'16' b'0' [pdf.py:1665]\n",
      "PdfReadWarning: Superfluous whitespace found in object header b'17' b'0' [pdf.py:1665]\n",
      "PdfReadWarning: Superfluous whitespace found in object header b'18' b'0' [pdf.py:1665]\n",
      "PdfReadWarning: Superfluous whitespace found in object header b'19' b'0' [pdf.py:1665]\n",
      "PdfReadWarning: Superfluous whitespace found in object header b'20' b'0' [pdf.py:1665]\n",
      "PdfReadWarning: Superfluous whitespace found in object header b'21' b'0' [pdf.py:1665]\n",
      "PdfReadWarning: Superfluous whitespace found in object header b'22' b'0' [pdf.py:1665]\n",
      "PdfReadWarning: Superfluous whitespace found in object header b'5' b'0' [pdf.py:1665]\n",
      "PdfReadWarning: Superfluous whitespace found in object header b'23' b'0' [pdf.py:1665]\n",
      "PdfReadWarning: Superfluous whitespace found in object header b'24' b'0' [pdf.py:1665]\n",
      "PdfReadWarning: Superfluous whitespace found in object header b'25' b'0' [pdf.py:1665]\n",
      "PdfReadWarning: Superfluous whitespace found in object header b'26' b'0' [pdf.py:1665]\n",
      "PdfReadWarning: Superfluous whitespace found in object header b'27' b'0' [pdf.py:1665]\n",
      "PdfReadWarning: Superfluous whitespace found in object header b'28' b'0' [pdf.py:1665]\n",
      "PdfReadWarning: Superfluous whitespace found in object header b'29' b'0' [pdf.py:1665]\n",
      "PdfReadWarning: Superfluous whitespace found in object header b'6' b'0' [pdf.py:1665]\n",
      "PdfReadWarning: Superfluous whitespace found in object header b'7' b'0' [pdf.py:1665]\n",
      "PdfReadWarning: Superfluous whitespace found in object header b'8' b'0' [pdf.py:1665]\n",
      "PdfReadWarning: Superfluous whitespace found in object header b'9' b'0' [pdf.py:1665]\n",
      "PdfReadWarning: Superfluous whitespace found in object header b'10' b'0' [pdf.py:1665]\n",
      "PdfReadWarning: Superfluous whitespace found in object header b'11' b'0' [pdf.py:1665]\n",
      "PdfReadWarning: Superfluous whitespace found in object header b'12' b'0' [pdf.py:1665]\n",
      "PdfReadWarning: Superfluous whitespace found in object header b'41' b'0' [pdf.py:1665]\n",
      "PdfReadWarning: Superfluous whitespace found in object header b'42' b'0' [pdf.py:1665]\n",
      "PdfReadWarning: Superfluous whitespace found in object header b'43' b'0' [pdf.py:1665]\n",
      "PdfReadWarning: Superfluous whitespace found in object header b'44' b'0' [pdf.py:1665]\n",
      "PdfReadWarning: Superfluous whitespace found in object header b'45' b'0' [pdf.py:1665]\n",
      "PdfReadWarning: Superfluous whitespace found in object header b'46' b'0' [pdf.py:1665]\n",
      "PdfReadWarning: Superfluous whitespace found in object header b'47' b'0' [pdf.py:1665]\n",
      "PdfReadWarning: Superfluous whitespace found in object header b'48' b'0' [pdf.py:1665]\n",
      "PdfReadWarning: Superfluous whitespace found in object header b'49' b'0' [pdf.py:1665]\n",
      "PdfReadWarning: Superfluous whitespace found in object header b'50' b'0' [pdf.py:1665]\n",
      "PdfReadWarning: Superfluous whitespace found in object header b'33' b'0' [pdf.py:1665]\n",
      "PdfReadWarning: Superfluous whitespace found in object header b'51' b'0' [pdf.py:1665]\n",
      "PdfReadWarning: Superfluous whitespace found in object header b'52' b'0' [pdf.py:1665]\n",
      "PdfReadWarning: Superfluous whitespace found in object header b'53' b'0' [pdf.py:1665]\n",
      "PdfReadWarning: Superfluous whitespace found in object header b'54' b'0' [pdf.py:1665]\n",
      "PdfReadWarning: Superfluous whitespace found in object header b'55' b'0' [pdf.py:1665]\n",
      "PdfReadWarning: Superfluous whitespace found in object header b'56' b'0' [pdf.py:1665]\n",
      "PdfReadWarning: Superfluous whitespace found in object header b'34' b'0' [pdf.py:1665]\n",
      "PdfReadWarning: Superfluous whitespace found in object header b'35' b'0' [pdf.py:1665]\n",
      "PdfReadWarning: Superfluous whitespace found in object header b'36' b'0' [pdf.py:1665]\n",
      "PdfReadWarning: Superfluous whitespace found in object header b'37' b'0' [pdf.py:1665]\n",
      "PdfReadWarning: Superfluous whitespace found in object header b'38' b'0' [pdf.py:1665]\n",
      "PdfReadWarning: Superfluous whitespace found in object header b'39' b'0' [pdf.py:1665]\n",
      "PdfReadWarning: Superfluous whitespace found in object header b'40' b'0' [pdf.py:1665]\n"
     ]
    }
   ],
   "source": [
    "#import modules\n",
    "from os import listdir\n",
    "from PyPDF2 import PdfFileWriter, PdfFileReader\n",
    "import io\n",
    "from reportlab.pdfgen import canvas\n",
    "from reportlab.lib.pagesizes import A4\n",
    "#initial values of variable declarations\n",
    "PDFlist=[]\n",
    "X_value=460\n",
    "Y_value=820\n",
    "#Make a list of al files in de directory\n",
    "filelist = listdir()\n",
    "#Make a list of all pdf files in the directory\n",
    "for i in range(0,len(filelist)):\n",
    "    filename=filelist[i]\n",
    "    for j in range(0,len(filename)):\n",
    "        char=filename[j]\n",
    "        if char=='.':\n",
    "            extension=filename[j+1:j+4]\n",
    "            if extension=='pdf':\n",
    "                PDFlist.append(filename)\n",
    "        j=j+1\n",
    "    i=i+1\n",
    "# Give the horizontal position for the page number (Enter = use default value of 480)\n",
    "User = input('Give horizontal position page number (ENTER = default 460): ')\n",
    "if User != \"\":\n",
    "    X_value=int(User)\n",
    "# Give the vertical position for the page number (Enter = use default value of 820)\n",
    "User = input('Give horizontal position page number (ENTER = default 820): ')\n",
    "if User != \"\":\n",
    "    Y_value=int(User)\n",
    "\n",
    "for i in range(0,len(PDFlist)):\n",
    "    filename=PDFlist[i]\n",
    "\n",
    "    # read the PDF\n",
    "    existing_pdf = PdfFileReader(open(filename, \"rb\"))\n",
    "    print(\"File: \"+filename)\n",
    "    # count the number of pages\n",
    "    number_of_pages = existing_pdf.getNumPages()\n",
    "    print(\"Number of pages detected:\"+str(number_of_pages))\n",
    "    output = PdfFileWriter()\n",
    "\n",
    "    for k in range(0,number_of_pages):\n",
    "        packet = io.BytesIO()\n",
    "\n",
    "        # create a new PDF with Reportlab\n",
    "        can = canvas.Canvas(packet, pagesize=A4)\n",
    "        Pagenumber=\" Page \"+str(k+1)+\"/\"+str(number_of_pages)\n",
    "        # we first make a white rectangle to cover any existing text in the pdf\n",
    "        can.setFillColorRGB(1,1,1)\n",
    "        can.setStrokeColorRGB(1,1,1)\n",
    "        can.rect(X_value-10,Y_value-5,120,20,fill=1)\n",
    "        # set the font and size\n",
    "        can.setFont(\"Helvetica\",14)\n",
    "        # choose color of page numbers (red)\n",
    "        can.setFillColorRGB(1,0,0)\n",
    "        can.drawString(X_value, Y_value, Pagenumber)\n",
    "        can.save()\n",
    "        print(Pagenumber)\n",
    "\n",
    "        #move to the beginning of the StringIO buffer\n",
    "        packet.seek(0)\n",
    "        new_pdf = PdfFileReader(packet)\n",
    "        # add the \"watermark\" (which is the new pdf) on the existing page\n",
    "        page = existing_pdf.getPage(k)\n",
    "        page.mergePage(new_pdf.getPage(0))\n",
    "        output.addPage(page)\n",
    "        k=k+1\n",
    "    # finally, write \"output\" to a real file\n",
    "\n",
    "    ResultPDF=\"Output_\"+filename\n",
    "    outputStream = open(ResultPDF, \"wb\")\n",
    "    output.write(outputStream)\n",
    "    outputStream.close()\n",
    "    i=i+1"
   ]
  },
  {
   "cell_type": "code",
   "execution_count": 36,
   "metadata": {},
   "outputs": [
    {
     "name": "stdout",
     "output_type": "stream",
     "text": [
      "Collecting reportlab\n",
      "  Downloading reportlab-3.5.48-cp38-cp38-win_amd64.whl (2.3 MB)\n",
      "Requirement already satisfied: pillow>=4.0.0 in d:\\users\\admin\\anaconda3\\lib\\site-packages (from reportlab) (7.2.0)\n",
      "Installing collected packages: reportlab\n",
      "Successfully installed reportlab-3.5.48\n"
     ]
    }
   ],
   "source": [
    "#!pip install canvas\n",
    "!pip install reportlab"
   ]
  },
  {
   "cell_type": "code",
   "execution_count": 44,
   "metadata": {},
   "outputs": [
    {
     "name": "stdout",
     "output_type": "stream",
     "text": [
      "Collecting pytesseract\n",
      "  Downloading pytesseract-0.3.5.tar.gz (13 kB)\n",
      "Requirement already satisfied: Pillow in d:\\users\\admin\\anaconda3\\lib\\site-packages (from pytesseract) (7.2.0)\n",
      "Building wheels for collected packages: pytesseract\n",
      "  Building wheel for pytesseract (setup.py): started\n",
      "  Building wheel for pytesseract (setup.py): finished with status 'done'\n",
      "  Created wheel for pytesseract: filename=pytesseract-0.3.5-py2.py3-none-any.whl size=13410 sha256=8b9d667709f556567aec76e88f4261d28558aa4716975ca574b3d55929a8881e\n",
      "  Stored in directory: c:\\users\\admin\\appdata\\local\\pip\\cache\\wheels\\7c\\b0\\92\\034f16549e825401698ccb3f74322f39e770b6aad121188af3\n",
      "Successfully built pytesseract\n",
      "Installing collected packages: pytesseract\n",
      "Successfully installed pytesseract-0.3.5\n"
     ]
    }
   ],
   "source": [
    "#!pip install cv2 #gives error\n",
    "#!pip install opencv-python\n",
    "!pip install pytesseract"
   ]
  },
  {
   "cell_type": "code",
   "execution_count": 46,
   "metadata": {},
   "outputs": [
    {
     "ename": "TypeError",
     "evalue": "Unsupported image object",
     "output_type": "error",
     "traceback": [
      "\u001b[1;31m---------------------------------------------------------------------------\u001b[0m",
      "\u001b[1;31mTypeError\u001b[0m                                 Traceback (most recent call last)",
      "\u001b[1;32m<ipython-input-46-f7150af4b9ff>\u001b[0m in \u001b[0;36m<module>\u001b[1;34m\u001b[0m\n\u001b[0;32m      6\u001b[0m \u001b[1;31m# Adding custom options\u001b[0m\u001b[1;33m\u001b[0m\u001b[1;33m\u001b[0m\u001b[1;33m\u001b[0m\u001b[0m\n\u001b[0;32m      7\u001b[0m \u001b[0mcustom_config\u001b[0m \u001b[1;33m=\u001b[0m \u001b[1;34mr'--oem 3 --psm 6'\u001b[0m\u001b[1;33m\u001b[0m\u001b[1;33m\u001b[0m\u001b[0m\n\u001b[1;32m----> 8\u001b[1;33m \u001b[0mpytesseract\u001b[0m\u001b[1;33m.\u001b[0m\u001b[0mimage_to_string\u001b[0m\u001b[1;33m(\u001b[0m\u001b[0mimg\u001b[0m\u001b[1;33m,\u001b[0m \u001b[0mconfig\u001b[0m\u001b[1;33m=\u001b[0m\u001b[0mcustom_config\u001b[0m\u001b[1;33m)\u001b[0m\u001b[1;33m\u001b[0m\u001b[1;33m\u001b[0m\u001b[0m\n\u001b[0m",
      "\u001b[1;32mD:\\Users\\admin\\anaconda3\\lib\\site-packages\\pytesseract\\pytesseract.py\u001b[0m in \u001b[0;36mimage_to_string\u001b[1;34m(image, lang, config, nice, output_type, timeout)\u001b[0m\n\u001b[0;32m    352\u001b[0m     \u001b[0margs\u001b[0m \u001b[1;33m=\u001b[0m \u001b[1;33m[\u001b[0m\u001b[0mimage\u001b[0m\u001b[1;33m,\u001b[0m \u001b[1;34m'txt'\u001b[0m\u001b[1;33m,\u001b[0m \u001b[0mlang\u001b[0m\u001b[1;33m,\u001b[0m \u001b[0mconfig\u001b[0m\u001b[1;33m,\u001b[0m \u001b[0mnice\u001b[0m\u001b[1;33m,\u001b[0m \u001b[0mtimeout\u001b[0m\u001b[1;33m]\u001b[0m\u001b[1;33m\u001b[0m\u001b[1;33m\u001b[0m\u001b[0m\n\u001b[0;32m    353\u001b[0m \u001b[1;33m\u001b[0m\u001b[0m\n\u001b[1;32m--> 354\u001b[1;33m     return {\n\u001b[0m\u001b[0;32m    355\u001b[0m         \u001b[0mOutput\u001b[0m\u001b[1;33m.\u001b[0m\u001b[0mBYTES\u001b[0m\u001b[1;33m:\u001b[0m \u001b[1;32mlambda\u001b[0m\u001b[1;33m:\u001b[0m \u001b[0mrun_and_get_output\u001b[0m\u001b[1;33m(\u001b[0m\u001b[1;33m*\u001b[0m\u001b[1;33m(\u001b[0m\u001b[0margs\u001b[0m \u001b[1;33m+\u001b[0m \u001b[1;33m[\u001b[0m\u001b[1;32mTrue\u001b[0m\u001b[1;33m]\u001b[0m\u001b[1;33m)\u001b[0m\u001b[1;33m)\u001b[0m\u001b[1;33m,\u001b[0m\u001b[1;33m\u001b[0m\u001b[1;33m\u001b[0m\u001b[0m\n\u001b[0;32m    356\u001b[0m         \u001b[0mOutput\u001b[0m\u001b[1;33m.\u001b[0m\u001b[0mDICT\u001b[0m\u001b[1;33m:\u001b[0m \u001b[1;32mlambda\u001b[0m\u001b[1;33m:\u001b[0m \u001b[1;33m{\u001b[0m\u001b[1;34m'text'\u001b[0m\u001b[1;33m:\u001b[0m \u001b[0mrun_and_get_output\u001b[0m\u001b[1;33m(\u001b[0m\u001b[1;33m*\u001b[0m\u001b[0margs\u001b[0m\u001b[1;33m)\u001b[0m\u001b[1;33m}\u001b[0m\u001b[1;33m,\u001b[0m\u001b[1;33m\u001b[0m\u001b[1;33m\u001b[0m\u001b[0m\n",
      "\u001b[1;32mD:\\Users\\admin\\anaconda3\\lib\\site-packages\\pytesseract\\pytesseract.py\u001b[0m in \u001b[0;36m<lambda>\u001b[1;34m()\u001b[0m\n\u001b[0;32m    355\u001b[0m         \u001b[0mOutput\u001b[0m\u001b[1;33m.\u001b[0m\u001b[0mBYTES\u001b[0m\u001b[1;33m:\u001b[0m \u001b[1;32mlambda\u001b[0m\u001b[1;33m:\u001b[0m \u001b[0mrun_and_get_output\u001b[0m\u001b[1;33m(\u001b[0m\u001b[1;33m*\u001b[0m\u001b[1;33m(\u001b[0m\u001b[0margs\u001b[0m \u001b[1;33m+\u001b[0m \u001b[1;33m[\u001b[0m\u001b[1;32mTrue\u001b[0m\u001b[1;33m]\u001b[0m\u001b[1;33m)\u001b[0m\u001b[1;33m)\u001b[0m\u001b[1;33m,\u001b[0m\u001b[1;33m\u001b[0m\u001b[1;33m\u001b[0m\u001b[0m\n\u001b[0;32m    356\u001b[0m         \u001b[0mOutput\u001b[0m\u001b[1;33m.\u001b[0m\u001b[0mDICT\u001b[0m\u001b[1;33m:\u001b[0m \u001b[1;32mlambda\u001b[0m\u001b[1;33m:\u001b[0m \u001b[1;33m{\u001b[0m\u001b[1;34m'text'\u001b[0m\u001b[1;33m:\u001b[0m \u001b[0mrun_and_get_output\u001b[0m\u001b[1;33m(\u001b[0m\u001b[1;33m*\u001b[0m\u001b[0margs\u001b[0m\u001b[1;33m)\u001b[0m\u001b[1;33m}\u001b[0m\u001b[1;33m,\u001b[0m\u001b[1;33m\u001b[0m\u001b[1;33m\u001b[0m\u001b[0m\n\u001b[1;32m--> 357\u001b[1;33m         \u001b[0mOutput\u001b[0m\u001b[1;33m.\u001b[0m\u001b[0mSTRING\u001b[0m\u001b[1;33m:\u001b[0m \u001b[1;32mlambda\u001b[0m\u001b[1;33m:\u001b[0m \u001b[0mrun_and_get_output\u001b[0m\u001b[1;33m(\u001b[0m\u001b[1;33m*\u001b[0m\u001b[0margs\u001b[0m\u001b[1;33m)\u001b[0m\u001b[1;33m,\u001b[0m\u001b[1;33m\u001b[0m\u001b[1;33m\u001b[0m\u001b[0m\n\u001b[0m\u001b[0;32m    358\u001b[0m     }[output_type]()\n\u001b[0;32m    359\u001b[0m \u001b[1;33m\u001b[0m\u001b[0m\n",
      "\u001b[1;32mD:\\Users\\admin\\anaconda3\\lib\\site-packages\\pytesseract\\pytesseract.py\u001b[0m in \u001b[0;36mrun_and_get_output\u001b[1;34m(image, extension, lang, config, nice, timeout, return_bytes)\u001b[0m\n\u001b[0;32m    253\u001b[0m ):\n\u001b[0;32m    254\u001b[0m \u001b[1;33m\u001b[0m\u001b[0m\n\u001b[1;32m--> 255\u001b[1;33m     \u001b[1;32mwith\u001b[0m \u001b[0msave\u001b[0m\u001b[1;33m(\u001b[0m\u001b[0mimage\u001b[0m\u001b[1;33m)\u001b[0m \u001b[1;32mas\u001b[0m \u001b[1;33m(\u001b[0m\u001b[0mtemp_name\u001b[0m\u001b[1;33m,\u001b[0m \u001b[0minput_filename\u001b[0m\u001b[1;33m)\u001b[0m\u001b[1;33m:\u001b[0m\u001b[1;33m\u001b[0m\u001b[1;33m\u001b[0m\u001b[0m\n\u001b[0m\u001b[0;32m    256\u001b[0m         kwargs = {\n\u001b[0;32m    257\u001b[0m             \u001b[1;34m'input_filename'\u001b[0m\u001b[1;33m:\u001b[0m \u001b[0minput_filename\u001b[0m\u001b[1;33m,\u001b[0m\u001b[1;33m\u001b[0m\u001b[1;33m\u001b[0m\u001b[0m\n",
      "\u001b[1;32mD:\\Users\\admin\\anaconda3\\lib\\contextlib.py\u001b[0m in \u001b[0;36m__enter__\u001b[1;34m(self)\u001b[0m\n\u001b[0;32m    111\u001b[0m         \u001b[1;32mdel\u001b[0m \u001b[0mself\u001b[0m\u001b[1;33m.\u001b[0m\u001b[0margs\u001b[0m\u001b[1;33m,\u001b[0m \u001b[0mself\u001b[0m\u001b[1;33m.\u001b[0m\u001b[0mkwds\u001b[0m\u001b[1;33m,\u001b[0m \u001b[0mself\u001b[0m\u001b[1;33m.\u001b[0m\u001b[0mfunc\u001b[0m\u001b[1;33m\u001b[0m\u001b[1;33m\u001b[0m\u001b[0m\n\u001b[0;32m    112\u001b[0m         \u001b[1;32mtry\u001b[0m\u001b[1;33m:\u001b[0m\u001b[1;33m\u001b[0m\u001b[1;33m\u001b[0m\u001b[0m\n\u001b[1;32m--> 113\u001b[1;33m             \u001b[1;32mreturn\u001b[0m \u001b[0mnext\u001b[0m\u001b[1;33m(\u001b[0m\u001b[0mself\u001b[0m\u001b[1;33m.\u001b[0m\u001b[0mgen\u001b[0m\u001b[1;33m)\u001b[0m\u001b[1;33m\u001b[0m\u001b[1;33m\u001b[0m\u001b[0m\n\u001b[0m\u001b[0;32m    114\u001b[0m         \u001b[1;32mexcept\u001b[0m \u001b[0mStopIteration\u001b[0m\u001b[1;33m:\u001b[0m\u001b[1;33m\u001b[0m\u001b[1;33m\u001b[0m\u001b[0m\n\u001b[0;32m    115\u001b[0m             \u001b[1;32mraise\u001b[0m \u001b[0mRuntimeError\u001b[0m\u001b[1;33m(\u001b[0m\u001b[1;34m\"generator didn't yield\"\u001b[0m\u001b[1;33m)\u001b[0m \u001b[1;32mfrom\u001b[0m \u001b[1;32mNone\u001b[0m\u001b[1;33m\u001b[0m\u001b[1;33m\u001b[0m\u001b[0m\n",
      "\u001b[1;32mD:\\Users\\admin\\anaconda3\\lib\\site-packages\\pytesseract\\pytesseract.py\u001b[0m in \u001b[0;36msave\u001b[1;34m(image)\u001b[0m\n\u001b[0;32m    176\u001b[0m                 \u001b[1;32mreturn\u001b[0m\u001b[1;33m\u001b[0m\u001b[1;33m\u001b[0m\u001b[0m\n\u001b[0;32m    177\u001b[0m \u001b[1;33m\u001b[0m\u001b[0m\n\u001b[1;32m--> 178\u001b[1;33m             \u001b[0mimage\u001b[0m\u001b[1;33m,\u001b[0m \u001b[0mextension\u001b[0m \u001b[1;33m=\u001b[0m \u001b[0mprepare\u001b[0m\u001b[1;33m(\u001b[0m\u001b[0mimage\u001b[0m\u001b[1;33m)\u001b[0m\u001b[1;33m\u001b[0m\u001b[1;33m\u001b[0m\u001b[0m\n\u001b[0m\u001b[0;32m    179\u001b[0m             \u001b[0minput_file_name\u001b[0m \u001b[1;33m=\u001b[0m \u001b[0mf\u001b[0m\u001b[1;33m.\u001b[0m\u001b[0mname\u001b[0m \u001b[1;33m+\u001b[0m \u001b[0mextsep\u001b[0m \u001b[1;33m+\u001b[0m \u001b[0mextension\u001b[0m\u001b[1;33m\u001b[0m\u001b[1;33m\u001b[0m\u001b[0m\n\u001b[0;32m    180\u001b[0m             \u001b[0mimage\u001b[0m\u001b[1;33m.\u001b[0m\u001b[0msave\u001b[0m\u001b[1;33m(\u001b[0m\u001b[0minput_file_name\u001b[0m\u001b[1;33m,\u001b[0m \u001b[0mformat\u001b[0m\u001b[1;33m=\u001b[0m\u001b[0mimage\u001b[0m\u001b[1;33m.\u001b[0m\u001b[0mformat\u001b[0m\u001b[1;33m)\u001b[0m\u001b[1;33m\u001b[0m\u001b[1;33m\u001b[0m\u001b[0m\n",
      "\u001b[1;32mD:\\Users\\admin\\anaconda3\\lib\\site-packages\\pytesseract\\pytesseract.py\u001b[0m in \u001b[0;36mprepare\u001b[1;34m(image)\u001b[0m\n\u001b[0;32m    152\u001b[0m \u001b[1;33m\u001b[0m\u001b[0m\n\u001b[0;32m    153\u001b[0m     \u001b[1;32mif\u001b[0m \u001b[1;32mnot\u001b[0m \u001b[0misinstance\u001b[0m\u001b[1;33m(\u001b[0m\u001b[0mimage\u001b[0m\u001b[1;33m,\u001b[0m \u001b[0mImage\u001b[0m\u001b[1;33m.\u001b[0m\u001b[0mImage\u001b[0m\u001b[1;33m)\u001b[0m\u001b[1;33m:\u001b[0m\u001b[1;33m\u001b[0m\u001b[1;33m\u001b[0m\u001b[0m\n\u001b[1;32m--> 154\u001b[1;33m         \u001b[1;32mraise\u001b[0m \u001b[0mTypeError\u001b[0m\u001b[1;33m(\u001b[0m\u001b[1;34m'Unsupported image object'\u001b[0m\u001b[1;33m)\u001b[0m\u001b[1;33m\u001b[0m\u001b[1;33m\u001b[0m\u001b[0m\n\u001b[0m\u001b[0;32m    155\u001b[0m \u001b[1;33m\u001b[0m\u001b[0m\n\u001b[0;32m    156\u001b[0m     \u001b[0mextension\u001b[0m \u001b[1;33m=\u001b[0m \u001b[1;34m'PNG'\u001b[0m \u001b[1;32mif\u001b[0m \u001b[1;32mnot\u001b[0m \u001b[0mimage\u001b[0m\u001b[1;33m.\u001b[0m\u001b[0mformat\u001b[0m \u001b[1;32melse\u001b[0m \u001b[0mimage\u001b[0m\u001b[1;33m.\u001b[0m\u001b[0mformat\u001b[0m\u001b[1;33m\u001b[0m\u001b[1;33m\u001b[0m\u001b[0m\n",
      "\u001b[1;31mTypeError\u001b[0m: Unsupported image object"
     ]
    }
   ],
   "source": [
    "import cv2 \n",
    "import pytesseract\n",
    "\n",
    "img = cv2.imread('FinalRollVoters1.pdf')\n",
    "\n",
    "# Adding custom options\n",
    "custom_config = r'--oem 3 --psm 6'\n",
    "pytesseract.image_to_string(img, config=custom_config)"
   ]
  }
 ],
 "metadata": {
  "kernelspec": {
   "display_name": "Python 3",
   "language": "python",
   "name": "python3"
  },
  "language_info": {
   "codemirror_mode": {
    "name": "ipython",
    "version": 3
   },
   "file_extension": ".py",
   "mimetype": "text/x-python",
   "name": "python",
   "nbconvert_exporter": "python",
   "pygments_lexer": "ipython3",
   "version": "3.8.3"
  }
 },
 "nbformat": 4,
 "nbformat_minor": 2
}
