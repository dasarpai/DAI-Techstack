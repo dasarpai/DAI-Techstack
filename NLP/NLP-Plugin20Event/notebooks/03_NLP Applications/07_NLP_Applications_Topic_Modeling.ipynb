{
 "cells": [
  {
   "cell_type": "markdown",
   "metadata": {
    "colab_type": "text",
    "id": "-iKMVCis12aq"
   },
   "source": [
    "# Topic Modeling on Research Papers\n",
    "\n",
    "We will do an interesting exercise here—build topic models on past research papers\n",
    "from the very popular NIPS conference (now known as the NeurIPS conference). The\n",
    "late professor Sam Roweis compiled an excellent collection of NIPS Conference Papers\n",
    "from Volume 1 – 12, which you can find at https://cs.nyu.edu/~roweis/data.html.\n",
    "An interesting fact is that he obtained this by massaging the OCR’d data from NIPS\n",
    "1-12, which was actually the pre-electronic submission era. Yann LeCun made the data\n",
    "available. There is an even more updated dataset available up to NIPS 17 at http://\n",
    "ai.stanford.edu/~gal/data.html. However, that dataset is in the form of a MAT file, so\n",
    "you might need to do some additional preprocessing before working on it in Python.\n",
    "\n",
    "\n",
    "# The Main Objective\n",
    "\n",
    "Considering our discussion so far, our main objective is pretty simple. Given a whole\n",
    "bunch of conference research papers, can we identify some key themes or topics from\n",
    "these papers by leveraging unsupervised learning? We do not have the liberty of labeled\n",
    "categories telling us what the major themes of every research paper are. Besides that, we\n",
    "are dealing with text data extracted using OCR (optical character recognition). Hence,\n",
    "you can expect misspelled words, words with characters missing, and so on, which\n",
    "makes our problem even more challenging"
   ]
  },
  {
   "cell_type": "markdown",
   "metadata": {
    "colab_type": "text",
    "id": "bsTqya546U6q"
   },
   "source": [
    "# Download Data and Dependencies"
   ]
  },
  {
   "cell_type": "code",
   "execution_count": 1,
   "metadata": {
    "colab": {
     "base_uri": "https://localhost:8080/",
     "height": 202
    },
    "colab_type": "code",
    "id": "BJaNFsqQ6KGt",
    "outputId": "b60afcc2-507c-472a-e77f-4e919cd2d797"
   },
   "outputs": [
    {
     "name": "stdout",
     "output_type": "stream",
     "text": [
      "--2020-05-27 15:55:33--  https://cs.nyu.edu/~roweis/data/nips12raw_str602.tgz\n",
      "Resolving cs.nyu.edu (cs.nyu.edu)... 128.122.49.30\n",
      "Connecting to cs.nyu.edu (cs.nyu.edu)|128.122.49.30|:443... connected.\n",
      "HTTP request sent, awaiting response... 200 OK\n",
      "Length: 12851423 (12M) [application/x-gzip]\n",
      "Saving to: ‘nips12raw_str602.tgz’\n",
      "\n",
      "nips12raw_str602.tg 100%[===================>]  12.26M  21.4MB/s    in 0.6s    \n",
      "\n",
      "2020-05-27 15:55:34 (21.4 MB/s) - ‘nips12raw_str602.tgz’ saved [12851423/12851423]\n",
      "\n"
     ]
    }
   ],
   "source": [
    "!wget https://cs.nyu.edu/~roweis/data/nips12raw_str602.tgz\n",
    "!tar -xzf nips12raw_str602.tgz"
   ]
  },
  {
   "cell_type": "code",
   "execution_count": 2,
   "metadata": {
    "colab": {
     "base_uri": "https://localhost:8080/",
     "height": 151
    },
    "colab_type": "code",
    "id": "C36S18zo8w3b",
    "outputId": "6a27870f-b355-42c6-abd3-d09d2c8582c3"
   },
   "outputs": [
    {
     "name": "stdout",
     "output_type": "stream",
     "text": [
      "Requirement already satisfied: tqdm in /usr/local/lib/python3.6/dist-packages (4.41.1)\n",
      "[nltk_data] Downloading package punkt to /root/nltk_data...\n",
      "[nltk_data]   Unzipping tokenizers/punkt.zip.\n",
      "[nltk_data] Downloading package stopwords to /root/nltk_data...\n",
      "[nltk_data]   Unzipping corpora/stopwords.zip.\n",
      "[nltk_data] Downloading package wordnet to /root/nltk_data...\n",
      "[nltk_data]   Unzipping corpora/wordnet.zip.\n"
     ]
    },
    {
     "data": {
      "text/plain": [
       "True"
      ]
     },
     "execution_count": 2,
     "metadata": {
      "tags": []
     },
     "output_type": "execute_result"
    }
   ],
   "source": [
    "!pip install tqdm\n",
    "import nltk\n",
    "nltk.download('punkt')\n",
    "nltk.download('stopwords')\n",
    "nltk.download('wordnet')"
   ]
  },
  {
   "cell_type": "code",
   "execution_count": 3,
   "metadata": {
    "colab": {
     "base_uri": "https://localhost:8080/",
     "height": 54
    },
    "colab_type": "code",
    "id": "oHpf-YxR6XuW",
    "outputId": "28535ea1-37f0-4442-b4e7-01f99d81032d"
   },
   "outputs": [
    {
     "name": "stdout",
     "output_type": "stream",
     "text": [
      "['nips01', 'nips04', 'nips08', 'nips00', 'RAW_DATA_NOTES', 'MATLAB_NOTES', 'nips03', 'nips02', 'orig', 'README_yann', 'nips10', 'nips07', 'nips12', 'nips09', 'nips11', 'nips05', 'idx', 'nips06']\n"
     ]
    }
   ],
   "source": [
    "import os\n",
    "import numpy as np\n",
    "import pandas as pd\n",
    "\n",
    "DATA_PATH = 'nipstxt/'\n",
    "print(os.listdir(DATA_PATH))"
   ]
  },
  {
   "cell_type": "markdown",
   "metadata": {
    "colab_type": "text",
    "id": "y20UiwtA6pAg"
   },
   "source": [
    "# Load NIPS Research Papers Data"
   ]
  },
  {
   "cell_type": "code",
   "execution_count": 4,
   "metadata": {
    "colab": {
     "base_uri": "https://localhost:8080/",
     "height": 34
    },
    "colab_type": "code",
    "id": "D3G8nUsJ6h7V",
    "outputId": "959efe9b-651c-46f9-e7d7-b3474ed38040"
   },
   "outputs": [
    {
     "data": {
      "text/plain": [
       "1740"
      ]
     },
     "execution_count": 4,
     "metadata": {
      "tags": []
     },
     "output_type": "execute_result"
    }
   ],
   "source": [
    "folders = [\"nips{0:02}\".format(i) for i in range(0,13)]\n",
    "# Read all texts into a list.\n",
    "papers = []\n",
    "for folder in folders:\n",
    "    file_names = os.listdir(DATA_PATH + folder)\n",
    "    for file_name in file_names:\n",
    "        with open(DATA_PATH + folder + '/' + file_name, encoding='utf-8', errors='ignore', mode='r+') as f:\n",
    "            data = f.read()\n",
    "        papers.append(data)\n",
    "len(papers)"
   ]
  },
  {
   "cell_type": "code",
   "execution_count": 6,
   "metadata": {
    "colab": {
     "base_uri": "https://localhost:8080/",
     "height": 302
    },
    "colab_type": "code",
    "id": "JaTh1Jll6kx9",
    "outputId": "0beea0d3-e6e8-4584-f8f7-b89210e1bc64"
   },
   "outputs": [
    {
     "name": "stdout",
     "output_type": "stream",
     "text": [
      "804 \n",
      "INTRODUCTION TO A SYSTEM FOR IMPLEMENTING NEURAL NET \n",
      "CONNECTIONS ON SIMD ARCHITECTURES \n",
      "Sherryl Tomboulian \n",
      "Institute for Computer Applications in Science and Engineering \n",
      "NASA Langley Research Center, Hampton VA 23665 \n",
      "ABSTRACT \n",
      "Neural networks have attracted much interest recently, and using parallel \n",
      "architectures to simulate neural networks is a natural and necessary applica- \n",
      "tion. The SIMD model of parallel computation is chosen, because systems of \n",
      "this type can be built with large numbers of processing elements. However, \n",
      "such systems are not naturally suited to generalized communication. A method \n",
      "is proposed that allows an implementation of neural network connections on \n",
      "massively parallel SIMD architectures. The key to this system is an algorithm \n",
      "that allows the formation of arbitrary connections between the 'neurons '. A \n",
      "feature is the ability to add new connections quickly. It also has error recov- \n",
      "ery ability and is robust over a variety of network topologies. Si\n"
     ]
    }
   ],
   "source": [
    "print(papers[3][:1000])"
   ]
  },
  {
   "cell_type": "markdown",
   "metadata": {
    "colab_type": "text",
    "id": "NNqkh2nb8qpe"
   },
   "source": [
    "# Basic Text Pre-processing\n",
    "\n",
    "We perform some basic text wrangling or preprocessing before diving into topic\n",
    "modeling. We keep things simple here"
   ]
  },
  {
   "cell_type": "code",
   "execution_count": 7,
   "metadata": {
    "colab": {
     "base_uri": "https://localhost:8080/",
     "height": 84
    },
    "colab_type": "code",
    "id": "Jhsbee7g8lwa",
    "outputId": "9bfa633e-f36e-4030-abe2-c1fdecb16a30"
   },
   "outputs": [
    {
     "name": "stderr",
     "output_type": "stream",
     "text": [
      "100%|██████████| 1740/1740 [00:30<00:00, 57.64it/s]"
     ]
    },
    {
     "name": "stdout",
     "output_type": "stream",
     "text": [
      "1740\n",
      "CPU times: user 29.8 s, sys: 391 ms, total: 30.2 s\n",
      "Wall time: 30.2 s\n"
     ]
    },
    {
     "name": "stderr",
     "output_type": "stream",
     "text": [
      "\n"
     ]
    }
   ],
   "source": [
    "%%time\n",
    "import nltk\n",
    "import tqdm\n",
    "\n",
    "stop_words = nltk.corpus.stopwords.words('english')\n",
    "wtk = nltk.tokenize.RegexpTokenizer(r'\\w+')\n",
    "wnl = nltk.stem.wordnet.WordNetLemmatizer()\n",
    "\n",
    "def normalize_corpus(papers):\n",
    "    norm_papers = []\n",
    "    for paper in tqdm.tqdm(papers):\n",
    "        paper = paper.lower()\n",
    "        paper_tokens = [token.strip() for token in wtk.tokenize(paper)]\n",
    "        paper_tokens = [wnl.lemmatize(token) for token in paper_tokens if not token.isnumeric()]\n",
    "        paper_tokens = [token for token in paper_tokens if len(token) > 1]\n",
    "        paper_tokens = [token for token in paper_tokens if token not in stop_words]\n",
    "        paper_tokens = list(filter(None, paper_tokens))\n",
    "        if paper_tokens:\n",
    "            norm_papers.append(paper_tokens)\n",
    "            \n",
    "    return norm_papers\n",
    "    \n",
    "norm_papers = normalize_corpus(papers)\n",
    "print(len(norm_papers))"
   ]
  },
  {
   "cell_type": "code",
   "execution_count": 8,
   "metadata": {
    "colab": {
     "base_uri": "https://localhost:8080/",
     "height": 54
    },
    "colab_type": "code",
    "id": "Cq4EhTwP-I_U",
    "outputId": "657ecdfe-4b2c-4572-a48e-eca9632b07dc"
   },
   "outputs": [
    {
     "name": "stdout",
     "output_type": "stream",
     "text": [
      "['capacity', 'pattern', 'sequence', 'kanerva', 'sdm', 'compared', 'associative', 'memory', 'model', 'james', 'keeler', 'chemistry', 'department', 'stanford', 'university', 'stanford', 'ca', 'riacs', 'nasa', 'ames', 'moffett', 'field', 'ca', 'rnail', 'jdk', 'hydra', 'riacs', 'edu', 'abstract', 'information', 'capacity', 'kanerva', 'sparse', 'distributed', 'memory', 'sdm', 'hopfield', 'type', 'neural', 'network', 'investigated', 'approximation', 'used', 'shown', 'tal', 'information', 'stored', 'system', 'proportional', 'number']\n"
     ]
    }
   ],
   "source": [
    "print(norm_papers[0][:50])"
   ]
  },
  {
   "cell_type": "markdown",
   "metadata": {
    "colab_type": "text",
    "id": "wFubckun_IYp"
   },
   "source": [
    "# Build a Bi-gram Phrase Model\n",
    "\n",
    "Before feature engineering and vectorization, we want to extract some useful bi-gram\n",
    "based phrases from our research papers and remove some unnecessary terms. We\n",
    "leverage the very useful gensim.models.Phrases class for this. This capability helps us\n",
    "automatically detect common phrases from a stream of sentences, which are typically\n",
    "multi-word expressions/word n-grams. \n",
    "\n",
    "This implementation draws inspiration\n",
    "from the famous paper by Mikolov, et al., “Distributed Representations of Words and\n",
    "Phrases and their Compositionality,” which you can check out at https://arxiv.org/\n",
    "abs/1310.4546. We start by extracting and generating words and bi-grams as phrases for\n",
    "each tokenized research paper. \n",
    "\n",
    "We leverage the `min_count` parameter, which tells us that our model ignores all words and bi-grams with total\n",
    "collected count lower than 20 across the corpus (of the input paper as a list of tokenized\n",
    "sentences). We also use a `threshold` of 20, which tells us that the model accepts specific\n",
    "phrases based on this threshold value so that a phrase of words a followed by b is\n",
    "accepted if the score of the phrase is greater than the threshold of 20. This threshold is\n",
    "dependent on the scoring parameter, which helps us understand how these phrases are\n",
    "scored to understand their influence.\n",
    "Typically the default scorer is used and it’s pretty straightforward to understand.\n",
    "You can check out further details in the documentation at https://radimrehurek.com/\n",
    "gensim/models/phrases.html#gensim.models.phrases.original_scorer and in the\n",
    "previously mentioned research paper."
   ]
  },
  {
   "cell_type": "code",
   "execution_count": 9,
   "metadata": {
    "colab": {
     "base_uri": "https://localhost:8080/",
     "height": 54
    },
    "colab_type": "code",
    "id": "6IX3-ZbQ-fXp",
    "outputId": "9435dcb7-2a23-496e-abcc-d77d57568dec"
   },
   "outputs": [
    {
     "name": "stdout",
     "output_type": "stream",
     "text": [
      "['capacity', 'pattern', 'sequence', 'kanerva', 'sdm', 'compared', 'associative_memory', 'model', 'james', 'keeler', 'chemistry', 'department', 'stanford_university', 'stanford_ca', 'riacs', 'nasa_ames', 'moffett', 'field', 'ca', 'rnail', 'jdk', 'hydra', 'riacs', 'edu_abstract', 'information', 'capacity', 'kanerva_sparse', 'distributed', 'memory', 'sdm', 'hopfield', 'type', 'neural_network', 'investigated', 'approximation', 'used', 'shown', 'tal', 'information', 'stored', 'system', 'proportional', 'number', 'connection', 'net_work', 'proportionality', 'constant', 'sdm', 'hopfield', 'type']\n"
     ]
    }
   ],
   "source": [
    "import gensim\n",
    "\n",
    "bigram = gensim.models.Phrases(norm_papers, min_count=20, threshold=20, delimiter=b'_') # higher threshold fewer phrases.\n",
    "bigram_model = gensim.models.phrases.Phraser(bigram)\n",
    "\n",
    "print(bigram_model[norm_papers[0]][:50])"
   ]
  },
  {
   "cell_type": "code",
   "execution_count": 10,
   "metadata": {
    "colab": {
     "base_uri": "https://localhost:8080/",
     "height": 70
    },
    "colab_type": "code",
    "id": "KaGCzYSU-jx1",
    "outputId": "8e8c8f15-ebe0-4e19-fe5b-c5c903e1df28"
   },
   "outputs": [
    {
     "name": "stdout",
     "output_type": "stream",
     "text": [
      "Sample word to number mappings: [(0, '000b'), (1, '100'), (2, '10g2m'), (3, '124a'), (4, '152m'), (5, '15m'), (6, '15n'), (7, '1n'), (8, '22d'), (9, '2b'), (10, '2d'), (11, '2dt'), (12, '2e'), (13, '2jr'), (14, '2mrr')]\n",
      "Total Vocabulary Size: 78892\n"
     ]
    }
   ],
   "source": [
    "norm_corpus_bigrams = [bigram_model[doc] for doc in norm_papers]\n",
    "\n",
    "# Create a dictionary representation of the documents.\n",
    "dictionary = gensim.corpora.Dictionary(norm_corpus_bigrams)\n",
    "print('Sample word to number mappings:', list(dictionary.items())[:15])\n",
    "print('Total Vocabulary Size:', len(dictionary))"
   ]
  },
  {
   "cell_type": "markdown",
   "metadata": {
    "colab_type": "text",
    "id": "x47ztNpD12bC"
   },
   "source": [
    "Looks like we have a lot of unique phrases in our corpus of research papers,\n",
    "based on the preceding output. Several of these terms are not very useful since they are\n",
    "specific to a paper or even a paragraph in a research paper. Hence, it is time to prune\n",
    "our vocabulary and start removing terms. Leveraging document frequency is a great way\n",
    "to achieve this. "
   ]
  },
  {
   "cell_type": "code",
   "execution_count": 11,
   "metadata": {
    "colab": {
     "base_uri": "https://localhost:8080/",
     "height": 34
    },
    "colab_type": "code",
    "id": "YTiZ2Bxe-tNK",
    "outputId": "7d7de609-1ca9-43f4-e450-d134f8d8a0e1"
   },
   "outputs": [
    {
     "name": "stdout",
     "output_type": "stream",
     "text": [
      "Total Vocabulary Size: 7756\n"
     ]
    }
   ],
   "source": [
    "# Filter out words that occur less than 20 documents, or more than 60% of the documents.\n",
    "dictionary.filter_extremes(no_below=20, no_above=0.6)\n",
    "print('Total Vocabulary Size:', len(dictionary))"
   ]
  },
  {
   "cell_type": "markdown",
   "metadata": {
    "colab_type": "text",
    "id": "PKMDWQ6W12bF"
   },
   "source": [
    "We removed all terms that occur fewer than 20 times across all documents and all\n",
    "terms that occur in more than 60% of all the documents. We are interested in finding\n",
    "different themes and topics and not recurring themes. Hence, this suits our scenario\n",
    "perfectly."
   ]
  },
  {
   "cell_type": "markdown",
   "metadata": {
    "colab_type": "text",
    "id": "kj2lB4_b_eFO"
   },
   "source": [
    "# Transforming corpus into bag of words vectors\n",
    "\n",
    "We can now perform feature engineering by leveraging a simple Bag of Words\n",
    "model."
   ]
  },
  {
   "cell_type": "code",
   "execution_count": 12,
   "metadata": {
    "colab": {
     "base_uri": "https://localhost:8080/",
     "height": 54
    },
    "colab_type": "code",
    "id": "cp_fhm91-3R-",
    "outputId": "0610c09b-1f24-4856-9b15-7bd7e6856b5a"
   },
   "outputs": [
    {
     "name": "stdout",
     "output_type": "stream",
     "text": [
      "[(7, 1), (9, 1), (14, 1), (15, 1), (16, 26), (20, 1), (32, 1), (33, 1), (35, 6), (36, 2), (38, 1), (42, 1), (45, 1), (46, 1), (49, 2), (50, 2), (51, 1), (54, 7), (55, 5), (59, 1), (60, 1), (65, 1), (75, 1), (82, 1), (83, 1), (97, 1), (101, 1), (103, 28), (106, 1), (108, 5), (110, 7), (111, 8), (120, 1), (129, 1), (130, 7), (131, 4), (134, 1), (139, 13), (143, 1), (145, 1), (148, 2), (155, 2), (156, 1), (160, 1), (161, 4), (164, 1), (176, 1), (177, 6), (185, 3), (189, 3)]\n"
     ]
    }
   ],
   "source": [
    "# Transforming corpus into bag of words vectors\n",
    "bow_corpus = [dictionary.doc2bow(text) for text in norm_corpus_bigrams]\n",
    "print(bow_corpus[1][:50])"
   ]
  },
  {
   "cell_type": "code",
   "execution_count": 13,
   "metadata": {
    "colab": {
     "base_uri": "https://localhost:8080/",
     "height": 54
    },
    "colab_type": "code",
    "id": "_oOA652d-6sI",
    "outputId": "b1676a40-8792-4012-85e7-a08d7411188d"
   },
   "outputs": [
    {
     "name": "stdout",
     "output_type": "stream",
     "text": [
      "[('able', 1), ('acad_sci', 1), ('acknowledgement', 1), ('activation', 1), ('activity', 26), ('addition', 1), ('allowed', 1), ('allows', 1), ('alone', 6), ('although', 2), ('american_institute', 1), ('another', 1), ('apart', 1), ('appears', 1), ('approximate', 2), ('approximately', 2), ('approximation', 1), ('associated', 7), ('association', 5), ('assumption', 1), ('assumption_made', 1), ('average', 1), ('behavior', 1), ('biol', 1), ('biological', 1), ('calculation', 1), ('carried', 1), ('cell', 28), ('cerebral', 1), ('change', 5), ('channel', 7), ('characteristic', 8), ('coded', 1), ('compare', 1), ('compared', 7), ('comparison', 4), ('computing', 1), ('connection', 13), ('constant', 1), ('construct', 1), ('context', 2), ('convergence', 2), ('converges', 1), ('corresponding', 1), ('could', 4), ('cross', 1), ('demonstrate', 1), ('demonstrated', 6), ('dependent', 3), ('detail', 3)]\n"
     ]
    }
   ],
   "source": [
    "print([(dictionary[idx] , freq) for idx, freq in bow_corpus[1][:50]])"
   ]
  },
  {
   "cell_type": "code",
   "execution_count": 14,
   "metadata": {
    "colab": {
     "base_uri": "https://localhost:8080/",
     "height": 34
    },
    "colab_type": "code",
    "id": "aAjuxxdH--fn",
    "outputId": "a8a87e1a-3c8e-4ce0-fd69-2578f3362d74"
   },
   "outputs": [
    {
     "name": "stdout",
     "output_type": "stream",
     "text": [
      "Total number of papers: 1740\n"
     ]
    }
   ],
   "source": [
    "print('Total number of papers:', len(bow_corpus))"
   ]
  },
  {
   "cell_type": "markdown",
   "metadata": {
    "colab_type": "text",
    "id": "zUb8ZKJXJI-4"
   },
   "source": [
    "# Topic Models with Latent Dirichlet Allocation (LDA)\n",
    "\n",
    "The Latent Dirichlet Allocation (LDA) technique is a generative probabilistic model in\n",
    "which each document is assumed to have a combination of topics similar to a probabilistic\n",
    "Latent Semantic Indexing model. In this case, the latent topics contain a Dirichlet\n",
    "prior over them. The math behind in this technique is pretty involved, so we will try to\n",
    "summarize it since going it specific details is out of the current scope.\n",
    "\n",
    "![](https://i.imgur.com/l23JAvE.png)\n",
    "\n",
    "Simplyfying the LDA model process:\n",
    "\n",
    "![](https://i.imgur.com/0BXCaUi.png)\n",
    "\n",
    "![](https://i.imgur.com/ioiUAxX.png)"
   ]
  },
  {
   "cell_type": "code",
   "execution_count": 16,
   "metadata": {
    "colab": {
     "base_uri": "https://localhost:8080/",
     "height": 50
    },
    "colab_type": "code",
    "id": "083_UQPlJZy_",
    "outputId": "0bc6fa0e-84ca-4df3-c332-0039025c115a"
   },
   "outputs": [
    {
     "name": "stdout",
     "output_type": "stream",
     "text": [
      "CPU times: user 1min 47s, sys: 1.99 s, total: 1min 49s\n",
      "Wall time: 1min 47s\n"
     ]
    }
   ],
   "source": [
    "%%time\n",
    "TOTAL_TOPICS = 10\n",
    "lda_model = gensim.models.LdaModel(corpus=bow_corpus, id2word=dictionary, chunksize=1740, \n",
    "                                   alpha='auto', eta='auto', random_state=42,\n",
    "                                   iterations=500, num_topics=TOTAL_TOPICS, \n",
    "                                   passes=20, eval_every=None)"
   ]
  },
  {
   "cell_type": "code",
   "execution_count": 19,
   "metadata": {
    "colab": {
     "base_uri": "https://localhost:8080/",
     "height": 541
    },
    "colab_type": "code",
    "id": "IF9KX9UARO1r",
    "outputId": "961c1563-8c42-4a25-ede0-a09a8af5a76a"
   },
   "outputs": [
    {
     "name": "stdout",
     "output_type": "stream",
     "text": [
      "Topic #1:\n",
      "0.009*\"vector\" + 0.006*\"unit\" + 0.006*\"pattern\" + 0.006*\"neuron\" + 0.006*\"equation\" + 0.005*\"matrix\" + 0.005*\"training\" + 0.005*\"noise\" + 0.005*\"dynamic\" + 0.004*\"linear\" + 0.004*\"hidden_unit\" + 0.004*\"solution\" + 0.003*\"layer\" + 0.003*\"eq\" + 0.003*\"rule\" + 0.003*\"distribution\" + 0.003*\"rate\" + 0.003*\"capacity\" + 0.003*\"state\" + 0.003*\"attractor\"\n",
      "\n",
      "Topic #2:\n",
      "0.018*\"state\" + 0.012*\"unit\" + 0.009*\"task\" + 0.008*\"action\" + 0.006*\"step\" + 0.006*\"representation\" + 0.005*\"training\" + 0.005*\"memory\" + 0.005*\"pattern\" + 0.004*\"sequence\" + 0.004*\"policy\" + 0.004*\"activation\" + 0.004*\"recurrent\" + 0.004*\"structure\" + 0.003*\"net\" + 0.003*\"hidden_unit\" + 0.003*\"reinforcement_learning\" + 0.003*\"architecture\" + 0.003*\"learn\" + 0.003*\"environment\"\n",
      "\n",
      "Topic #3:\n",
      "0.018*\"neuron\" + 0.017*\"cell\" + 0.009*\"response\" + 0.009*\"stimulus\" + 0.007*\"activity\" + 0.007*\"pattern\" + 0.006*\"spike\" + 0.006*\"signal\" + 0.005*\"synaptic\" + 0.004*\"cortical\" + 0.004*\"frequency\" + 0.004*\"neural\" + 0.004*\"effect\" + 0.004*\"firing\" + 0.004*\"unit\" + 0.004*\"connection\" + 0.004*\"layer\" + 0.003*\"et_al\" + 0.003*\"cortex\" + 0.003*\"change\"\n",
      "\n",
      "Topic #4:\n",
      "0.006*\"class\" + 0.006*\"distribution\" + 0.006*\"probability\" + 0.005*\"variable\" + 0.005*\"estimate\" + 0.005*\"sample\" + 0.005*\"bound\" + 0.005*\"let\" + 0.004*\"approximation\" + 0.004*\"kernel\" + 0.004*\"linear\" + 0.004*\"theorem\" + 0.003*\"training\" + 0.003*\"size\" + 0.003*\"xi\" + 0.003*\"optimal\" + 0.003*\"vector\" + 0.003*\"theory\" + 0.003*\"regression\" + 0.003*\"note\"\n",
      "\n",
      "Topic #5:\n",
      "0.014*\"circuit\" + 0.012*\"chip\" + 0.010*\"neuron\" + 0.008*\"analog\" + 0.008*\"current\" + 0.007*\"voltage\" + 0.007*\"image\" + 0.006*\"signal\" + 0.005*\"bit\" + 0.004*\"processor\" + 0.004*\"implementation\" + 0.004*\"neural\" + 0.004*\"computation\" + 0.004*\"element\" + 0.004*\"synapse\" + 0.004*\"design\" + 0.003*\"device\" + 0.003*\"digital\" + 0.003*\"threshold\" + 0.003*\"transistor\"\n",
      "\n",
      "Topic #6:\n",
      "0.014*\"training\" + 0.012*\"classifier\" + 0.011*\"class\" + 0.010*\"classification\" + 0.010*\"node\" + 0.008*\"pattern\" + 0.008*\"rule\" + 0.007*\"feature\" + 0.006*\"vector\" + 0.006*\"unit\" + 0.005*\"tree\" + 0.005*\"training_set\" + 0.004*\"test\" + 0.004*\"trained\" + 0.004*\"probability\" + 0.003*\"table\" + 0.003*\"layer\" + 0.003*\"task\" + 0.003*\"experiment\" + 0.003*\"size\"\n",
      "\n",
      "Topic #7:\n",
      "0.007*\"gaussian\" + 0.007*\"distribution\" + 0.007*\"prior\" + 0.006*\"training\" + 0.006*\"mixture\" + 0.005*\"noise\" + 0.005*\"prediction\" + 0.005*\"bayesian\" + 0.005*\"estimate\" + 0.004*\"source\" + 0.004*\"approximation\" + 0.004*\"variance\" + 0.004*\"cluster\" + 0.004*\"component\" + 0.004*\"posterior\" + 0.004*\"density\" + 0.004*\"step\" + 0.004*\"expert\" + 0.004*\"sample\" + 0.003*\"variable\"\n",
      "\n",
      "Topic #8:\n",
      "0.022*\"image\" + 0.012*\"object\" + 0.009*\"visual\" + 0.008*\"motion\" + 0.008*\"unit\" + 0.008*\"feature\" + 0.006*\"position\" + 0.006*\"map\" + 0.006*\"direction\" + 0.005*\"representation\" + 0.005*\"location\" + 0.004*\"view\" + 0.004*\"field\" + 0.004*\"target\" + 0.004*\"region\" + 0.004*\"layer\" + 0.004*\"local\" + 0.004*\"movement\" + 0.003*\"velocity\" + 0.003*\"task\"\n",
      "\n",
      "Topic #9:\n",
      "0.017*\"state\" + 0.013*\"control\" + 0.007*\"equation\" + 0.006*\"convergence\" + 0.006*\"optimal\" + 0.006*\"controller\" + 0.006*\"solution\" + 0.005*\"gradient\" + 0.005*\"vector\" + 0.005*\"dynamic\" + 0.005*\"matrix\" + 0.005*\"constraint\" + 0.005*\"trajectory\" + 0.005*\"rate\" + 0.004*\"step\" + 0.004*\"linear\" + 0.004*\"optimization\" + 0.004*\"nonlinear\" + 0.003*\"energy\" + 0.003*\"line\"\n",
      "\n",
      "Topic #10:\n",
      "0.012*\"word\" + 0.011*\"recognition\" + 0.011*\"training\" + 0.008*\"speech\" + 0.007*\"sequence\" + 0.006*\"state\" + 0.006*\"character\" + 0.006*\"feature\" + 0.005*\"hmm\" + 0.005*\"trained\" + 0.005*\"vector\" + 0.005*\"layer\" + 0.005*\"signal\" + 0.005*\"context\" + 0.004*\"frame\" + 0.004*\"unit\" + 0.004*\"net\" + 0.004*\"architecture\" + 0.004*\"speaker\" + 0.004*\"class\"\n",
      "\n"
     ]
    }
   ],
   "source": [
    "for topic_id, topic in lda_model.print_topics(num_topics=10, num_words=20):\n",
    "    print('Topic #'+str(topic_id+1)+':')\n",
    "    print(topic)\n",
    "    print()"
   ]
  },
  {
   "cell_type": "code",
   "execution_count": 20,
   "metadata": {
    "colab": {
     "base_uri": "https://localhost:8080/",
     "height": 34
    },
    "colab_type": "code",
    "id": "4jExj9SYRRyE",
    "outputId": "2dccd682-bbbb-4788-9974-1401160e64e0"
   },
   "outputs": [
    {
     "name": "stdout",
     "output_type": "stream",
     "text": [
      "Avg. Coherence Score: -1.0085059947648578\n"
     ]
    }
   ],
   "source": [
    "topics_coherences = lda_model.top_topics(bow_corpus, topn=20)\n",
    "avg_coherence_score = np.mean([item[1] for item in topics_coherences])\n",
    "print('Avg. Coherence Score:', avg_coherence_score)"
   ]
  },
  {
   "cell_type": "markdown",
   "metadata": {
    "colab_type": "text",
    "id": "YtPTIGeQ12by"
   },
   "source": [
    "Topic coherence is a complex topic in its own and it can be used to measure the\n",
    "quality of topic models to some extent. Typically, a set of statements is said to be\n",
    "coherent if they support each other. Topic models are unsupervised learning based\n",
    "models that are trained on unstructured text data, making it difficult to measure the\n",
    "quality of outputs. \n",
    "\n",
    "Refer to Text Analytics with Python 2nd Edition for more detail on this."
   ]
  },
  {
   "cell_type": "code",
   "execution_count": 21,
   "metadata": {
    "colab": {
     "base_uri": "https://localhost:8080/",
     "height": 574
    },
    "colab_type": "code",
    "id": "azEdB08qRX4z",
    "outputId": "ac576b55-6062-46b8-d0e6-c666d1e892e6"
   },
   "outputs": [
    {
     "name": "stdout",
     "output_type": "stream",
     "text": [
      "LDA Topics with Weights\n",
      "==================================================\n",
      "Topic #1:\n",
      "[('training', 0.014), ('classifier', 0.012), ('class', 0.011), ('classification', 0.01), ('node', 0.01), ('pattern', 0.008), ('rule', 0.008), ('feature', 0.007), ('vector', 0.006), ('unit', 0.006), ('tree', 0.005), ('training_set', 0.005), ('test', 0.004), ('trained', 0.004), ('probability', 0.004), ('table', 0.003), ('layer', 0.003), ('task', 0.003), ('experiment', 0.003), ('size', 0.003)]\n",
      "\n",
      "Topic #2:\n",
      "[('neuron', 0.018), ('cell', 0.017), ('response', 0.009), ('stimulus', 0.009), ('activity', 0.007), ('pattern', 0.007), ('spike', 0.006), ('signal', 0.006), ('synaptic', 0.005), ('cortical', 0.004), ('frequency', 0.004), ('neural', 0.004), ('effect', 0.004), ('firing', 0.004), ('unit', 0.004), ('connection', 0.004), ('layer', 0.004), ('et_al', 0.003), ('cortex', 0.003), ('change', 0.003)]\n",
      "\n",
      "Topic #3:\n",
      "[('class', 0.006), ('distribution', 0.006), ('probability', 0.006), ('variable', 0.005), ('estimate', 0.005), ('sample', 0.005), ('bound', 0.005), ('let', 0.005), ('approximation', 0.004), ('kernel', 0.004), ('linear', 0.004), ('theorem', 0.004), ('training', 0.003), ('size', 0.003), ('xi', 0.003), ('optimal', 0.003), ('vector', 0.003), ('theory', 0.003), ('regression', 0.003), ('note', 0.003)]\n",
      "\n",
      "Topic #4:\n",
      "[('state', 0.017), ('control', 0.013), ('equation', 0.007), ('convergence', 0.006), ('optimal', 0.006), ('controller', 0.006), ('solution', 0.006), ('gradient', 0.005), ('vector', 0.005), ('dynamic', 0.005), ('matrix', 0.005), ('constraint', 0.005), ('trajectory', 0.005), ('rate', 0.005), ('step', 0.004), ('linear', 0.004), ('optimization', 0.004), ('nonlinear', 0.004), ('energy', 0.003), ('line', 0.003)]\n",
      "\n",
      "Topic #5:\n",
      "[('image', 0.022), ('object', 0.012), ('visual', 0.009), ('motion', 0.008), ('unit', 0.008), ('feature', 0.008), ('position', 0.006), ('map', 0.006), ('direction', 0.006), ('representation', 0.005), ('location', 0.005), ('view', 0.004), ('field', 0.004), ('target', 0.004), ('region', 0.004), ('layer', 0.004), ('local', 0.004), ('movement', 0.004), ('velocity', 0.003), ('task', 0.003)]\n",
      "\n",
      "Topic #6:\n",
      "[('word', 0.012), ('recognition', 0.011), ('training', 0.011), ('speech', 0.008), ('sequence', 0.007), ('state', 0.006), ('character', 0.006), ('feature', 0.006), ('hmm', 0.005), ('trained', 0.005), ('vector', 0.005), ('layer', 0.005), ('signal', 0.005), ('context', 0.005), ('frame', 0.004), ('unit', 0.004), ('net', 0.004), ('architecture', 0.004), ('speaker', 0.004), ('class', 0.004)]\n",
      "\n",
      "Topic #7:\n",
      "[('gaussian', 0.007), ('distribution', 0.007), ('prior', 0.007), ('training', 0.006), ('mixture', 0.006), ('noise', 0.005), ('prediction', 0.005), ('bayesian', 0.005), ('estimate', 0.005), ('source', 0.004), ('approximation', 0.004), ('variance', 0.004), ('cluster', 0.004), ('component', 0.004), ('posterior', 0.004), ('density', 0.004), ('step', 0.004), ('expert', 0.004), ('sample', 0.004), ('variable', 0.003)]\n",
      "\n",
      "Topic #8:\n",
      "[('vector', 0.009), ('unit', 0.006), ('pattern', 0.006), ('neuron', 0.006), ('equation', 0.006), ('matrix', 0.005), ('training', 0.005), ('noise', 0.005), ('dynamic', 0.005), ('linear', 0.004), ('hidden_unit', 0.004), ('solution', 0.004), ('layer', 0.003), ('eq', 0.003), ('rule', 0.003), ('distribution', 0.003), ('rate', 0.003), ('capacity', 0.003), ('state', 0.003), ('attractor', 0.003)]\n",
      "\n",
      "Topic #9:\n",
      "[('circuit', 0.014), ('chip', 0.012), ('neuron', 0.01), ('analog', 0.008), ('current', 0.008), ('voltage', 0.007), ('image', 0.007), ('signal', 0.006), ('bit', 0.005), ('processor', 0.004), ('implementation', 0.004), ('neural', 0.004), ('computation', 0.004), ('element', 0.004), ('synapse', 0.004), ('design', 0.004), ('device', 0.003), ('digital', 0.003), ('threshold', 0.003), ('transistor', 0.003)]\n",
      "\n",
      "Topic #10:\n",
      "[('state', 0.018), ('unit', 0.012), ('task', 0.009), ('action', 0.008), ('step', 0.006), ('representation', 0.006), ('training', 0.005), ('memory', 0.005), ('pattern', 0.005), ('sequence', 0.004), ('policy', 0.004), ('activation', 0.004), ('recurrent', 0.004), ('structure', 0.004), ('net', 0.003), ('hidden_unit', 0.003), ('reinforcement_learning', 0.003), ('architecture', 0.003), ('learn', 0.003), ('environment', 0.003)]\n",
      "\n"
     ]
    }
   ],
   "source": [
    "topics_with_wts = [item[0] for item in topics_coherences]\n",
    "print('LDA Topics with Weights')\n",
    "print('='*50)\n",
    "for idx, topic in enumerate(topics_with_wts):\n",
    "    print('Topic #'+str(idx+1)+':')\n",
    "    print([(term, round(wt, 3)) for wt, term in topic])\n",
    "    print()"
   ]
  },
  {
   "cell_type": "code",
   "execution_count": 22,
   "metadata": {
    "colab": {
     "base_uri": "https://localhost:8080/",
     "height": 574
    },
    "colab_type": "code",
    "id": "EAkgJa3XRZ3m",
    "outputId": "15e74b7d-4904-4197-f86a-16b97f163269"
   },
   "outputs": [
    {
     "name": "stdout",
     "output_type": "stream",
     "text": [
      "LDA Topics without Weights\n",
      "==================================================\n",
      "Topic #1:\n",
      "['training', 'classifier', 'class', 'classification', 'node', 'pattern', 'rule', 'feature', 'vector', 'unit', 'tree', 'training_set', 'test', 'trained', 'probability', 'table', 'layer', 'task', 'experiment', 'size']\n",
      "\n",
      "Topic #2:\n",
      "['neuron', 'cell', 'response', 'stimulus', 'activity', 'pattern', 'spike', 'signal', 'synaptic', 'cortical', 'frequency', 'neural', 'effect', 'firing', 'unit', 'connection', 'layer', 'et_al', 'cortex', 'change']\n",
      "\n",
      "Topic #3:\n",
      "['class', 'distribution', 'probability', 'variable', 'estimate', 'sample', 'bound', 'let', 'approximation', 'kernel', 'linear', 'theorem', 'training', 'size', 'xi', 'optimal', 'vector', 'theory', 'regression', 'note']\n",
      "\n",
      "Topic #4:\n",
      "['state', 'control', 'equation', 'convergence', 'optimal', 'controller', 'solution', 'gradient', 'vector', 'dynamic', 'matrix', 'constraint', 'trajectory', 'rate', 'step', 'linear', 'optimization', 'nonlinear', 'energy', 'line']\n",
      "\n",
      "Topic #5:\n",
      "['image', 'object', 'visual', 'motion', 'unit', 'feature', 'position', 'map', 'direction', 'representation', 'location', 'view', 'field', 'target', 'region', 'layer', 'local', 'movement', 'velocity', 'task']\n",
      "\n",
      "Topic #6:\n",
      "['word', 'recognition', 'training', 'speech', 'sequence', 'state', 'character', 'feature', 'hmm', 'trained', 'vector', 'layer', 'signal', 'context', 'frame', 'unit', 'net', 'architecture', 'speaker', 'class']\n",
      "\n",
      "Topic #7:\n",
      "['gaussian', 'distribution', 'prior', 'training', 'mixture', 'noise', 'prediction', 'bayesian', 'estimate', 'source', 'approximation', 'variance', 'cluster', 'component', 'posterior', 'density', 'step', 'expert', 'sample', 'variable']\n",
      "\n",
      "Topic #8:\n",
      "['vector', 'unit', 'pattern', 'neuron', 'equation', 'matrix', 'training', 'noise', 'dynamic', 'linear', 'hidden_unit', 'solution', 'layer', 'eq', 'rule', 'distribution', 'rate', 'capacity', 'state', 'attractor']\n",
      "\n",
      "Topic #9:\n",
      "['circuit', 'chip', 'neuron', 'analog', 'current', 'voltage', 'image', 'signal', 'bit', 'processor', 'implementation', 'neural', 'computation', 'element', 'synapse', 'design', 'device', 'digital', 'threshold', 'transistor']\n",
      "\n",
      "Topic #10:\n",
      "['state', 'unit', 'task', 'action', 'step', 'representation', 'training', 'memory', 'pattern', 'sequence', 'policy', 'activation', 'recurrent', 'structure', 'net', 'hidden_unit', 'reinforcement_learning', 'architecture', 'learn', 'environment']\n",
      "\n"
     ]
    }
   ],
   "source": [
    "print('LDA Topics without Weights')\n",
    "print('='*50)\n",
    "for idx, topic in enumerate(topics_with_wts):\n",
    "    print('Topic #'+str(idx+1)+':')\n",
    "    print([term for wt, term in topic])\n",
    "    print()"
   ]
  },
  {
   "cell_type": "markdown",
   "metadata": {
    "colab_type": "text",
    "id": "abiy8_Cg12b5"
   },
   "source": [
    "## Evaluating topic model quality\n",
    "\n",
    "We can use perplexity and coherence scores as measures to evaluate the topic\n",
    "model. Typically, lower the perplexity, the better the model. Similarly, the lower the\n",
    "UMass score and the higher the Cv score in coherence, the better the model."
   ]
  },
  {
   "cell_type": "code",
   "execution_count": 23,
   "metadata": {
    "colab": {
     "base_uri": "https://localhost:8080/",
     "height": 67
    },
    "colab_type": "code",
    "id": "WkOZQdZERbzG",
    "outputId": "14f94cd4-6c45-4c8f-9936-c82a6bf93467"
   },
   "outputs": [
    {
     "name": "stdout",
     "output_type": "stream",
     "text": [
      "Avg. Coherence Score (Cv): 0.46465493030372984\n",
      "Avg. Coherence Score (UMass): -1.0085059947648576\n",
      "Model Perplexity: -7.7898927129844004\n"
     ]
    }
   ],
   "source": [
    "cv_coherence_model_lda = gensim.models.CoherenceModel(model=lda_model, corpus=bow_corpus, \n",
    "                                                      texts=norm_corpus_bigrams,\n",
    "                                                      dictionary=dictionary, \n",
    "                                                      coherence='c_v')\n",
    "avg_coherence_cv = cv_coherence_model_lda.get_coherence()\n",
    "\n",
    "umass_coherence_model_lda = gensim.models.CoherenceModel(model=lda_model, corpus=bow_corpus, \n",
    "                                                         texts=norm_corpus_bigrams,\n",
    "                                                         dictionary=dictionary, \n",
    "                                                         coherence='u_mass')\n",
    "avg_coherence_umass = umass_coherence_model_lda.get_coherence()\n",
    "\n",
    "perplexity = lda_model.log_perplexity(bow_corpus)\n",
    "\n",
    "print('Avg. Coherence Score (Cv):', avg_coherence_cv)\n",
    "print('Avg. Coherence Score (UMass):', avg_coherence_umass)\n",
    "print('Model Perplexity:', perplexity)"
   ]
  },
  {
   "cell_type": "markdown",
   "metadata": {
    "colab_type": "text",
    "id": "DmuExSjK12b6"
   },
   "source": [
    "# LDA Models with MALLET\n",
    "\n",
    "The MALLET framework is a Java-based package for statistical natural language\n",
    "processing, document classification, clustering, topic modeling, information extraction,\n",
    "and other machine learning applications to text. MALLET stands for MAchine Learning\n",
    "for LanguagE Toolkit. It was developed by Andrew McCallum along with several people\n",
    "at the University of Massachusetts Amherst. The MALLET topic modeling toolkit\n",
    "contains efficient, sampling-based implementations of Latent Dirichlet Allocation,\n",
    "Pachinko Allocation, and Hierarchical LDA. To use MALLET’s capabilities, we need to\n",
    "download the framework."
   ]
  },
  {
   "cell_type": "code",
   "execution_count": 24,
   "metadata": {
    "colab": {
     "base_uri": "https://localhost:8080/",
     "height": 202
    },
    "colab_type": "code",
    "id": "NSRYjYP7VXPz",
    "outputId": "913a2c71-2eee-4c61-ea62-3bbf5475b3c4"
   },
   "outputs": [
    {
     "name": "stdout",
     "output_type": "stream",
     "text": [
      "--2020-05-27 16:31:43--  http://mallet.cs.umass.edu/dist/mallet-2.0.8.zip\n",
      "Resolving mallet.cs.umass.edu (mallet.cs.umass.edu)... 128.119.246.70\n",
      "Connecting to mallet.cs.umass.edu (mallet.cs.umass.edu)|128.119.246.70|:80... connected.\n",
      "HTTP request sent, awaiting response... 200 OK\n",
      "Length: 16184794 (15M) [application/zip]\n",
      "Saving to: ‘mallet-2.0.8.zip’\n",
      "\n",
      "mallet-2.0.8.zip    100%[===================>]  15.43M  18.2MB/s    in 0.8s    \n",
      "\n",
      "2020-05-27 16:31:44 (18.2 MB/s) - ‘mallet-2.0.8.zip’ saved [16184794/16184794]\n",
      "\n"
     ]
    }
   ],
   "source": [
    "!wget http://mallet.cs.umass.edu/dist/mallet-2.0.8.zip\n",
    "!unzip -q mallet-2.0.8.zip"
   ]
  },
  {
   "cell_type": "code",
   "execution_count": 25,
   "metadata": {
    "colab": {
     "base_uri": "https://localhost:8080/",
     "height": 70
    },
    "colab_type": "code",
    "id": "s0J3x_IcVu8z",
    "outputId": "1fa68c7e-f37e-4d66-84fb-ed6914da1393"
   },
   "outputs": [
    {
     "name": "stderr",
     "output_type": "stream",
     "text": [
      "/usr/local/lib/python3.6/dist-packages/smart_open/smart_open_lib.py:253: UserWarning: This function is deprecated, use smart_open.open instead. See the migration notes for details: https://github.com/RaRe-Technologies/smart_open/blob/master/README.rst#migrating-to-the-new-open-function\n",
      "  'See the migration notes for details: %s' % _MIGRATION_NOTES_URL\n"
     ]
    }
   ],
   "source": [
    "MALLET_PATH = 'mallet-2.0.8/bin/mallet'\n",
    "lda_mallet = gensim.models.wrappers.LdaMallet(mallet_path=MALLET_PATH, corpus=bow_corpus, \n",
    "                                              num_topics=TOTAL_TOPICS, id2word=dictionary,\n",
    "                                              iterations=500, workers=4)"
   ]
  },
  {
   "cell_type": "code",
   "execution_count": 26,
   "metadata": {
    "colab": {
     "base_uri": "https://localhost:8080/",
     "height": 67
    },
    "colab_type": "code",
    "id": "HQcf70_0WHDc",
    "outputId": "3fd66f35-5d15-47d9-c93e-eb3d7b35a87f"
   },
   "outputs": [
    {
     "name": "stdout",
     "output_type": "stream",
     "text": [
      "Avg. Coherence Score (Cv): 0.51312347075612\n",
      "Avg. Coherence Score (UMass): -1.0559523073857255\n",
      "Model Perplexity: -8.50105\n"
     ]
    }
   ],
   "source": [
    "cv_coherence_model_lda_mallet = gensim.models.CoherenceModel(model=lda_mallet, corpus=bow_corpus, \n",
    "                                                             texts=norm_corpus_bigrams,\n",
    "                                                             dictionary=dictionary, \n",
    "                                                             coherence='c_v')\n",
    "avg_coherence_cv = cv_coherence_model_lda_mallet.get_coherence()\n",
    "\n",
    "umass_coherence_model_lda_mallet = gensim.models.CoherenceModel(model=lda_mallet, corpus=bow_corpus, \n",
    "                                                                texts=norm_corpus_bigrams,\n",
    "                                                                dictionary=dictionary,  \n",
    "                                                                coherence='u_mass')\n",
    "avg_coherence_umass = umass_coherence_model_lda_mallet.get_coherence()\n",
    "\n",
    "# from STDOUT: <500> LL/token: -8.50105\n",
    "perplexity = -8.50105\n",
    "print('Avg. Coherence Score (Cv):', avg_coherence_cv)\n",
    "print('Avg. Coherence Score (UMass):', avg_coherence_umass)\n",
    "print('Model Perplexity:', perplexity)"
   ]
  },
  {
   "cell_type": "markdown",
   "metadata": {
    "colab_type": "text",
    "id": "wvn6Xx9N12cA"
   },
   "source": [
    "# LDA Tuning: Finding the optimal number of topics\n",
    "\n",
    "Finding the optimal number of topics in a topic model is tough, given that it is like a\n",
    "model hyperparameter that you always have to set before training the model. We can\n",
    "use an iterative approach and build several models with differing numbers of topics and\n",
    "select the one that has the highest coherence score. "
   ]
  },
  {
   "cell_type": "code",
   "execution_count": 0,
   "metadata": {
    "colab": {},
    "colab_type": "code",
    "id": "OYeyeNmRWy4m"
   },
   "outputs": [],
   "source": [
    "def topic_model_coherence_generator(corpus, texts, dictionary, \n",
    "                                    start_topic_count=2, end_topic_count=10, step=1,\n",
    "                                    cpus=1):\n",
    "    \n",
    "    models = []\n",
    "    coherence_scores = []\n",
    "    for topic_nums in tqdm.tqdm(range(start_topic_count, end_topic_count+1, step)):\n",
    "        mallet_lda_model = gensim.models.wrappers.LdaMallet(mallet_path=MALLET_PATH, corpus=corpus,\n",
    "                                                            num_topics=topic_nums, id2word=dictionary,\n",
    "                                                            iterations=500, workers=cpus)\n",
    "        cv_coherence_model_mallet_lda = gensim.models.CoherenceModel(model=mallet_lda_model, corpus=corpus, \n",
    "                                                                     texts=texts, dictionary=dictionary, \n",
    "                                                                     coherence='c_v')\n",
    "        coherence_score = cv_coherence_model_mallet_lda.get_coherence()\n",
    "        coherence_scores.append(coherence_score)\n",
    "        models.append(mallet_lda_model)\n",
    "    \n",
    "    return models, coherence_scores"
   ]
  },
  {
   "cell_type": "code",
   "execution_count": 28,
   "metadata": {
    "colab": {
     "base_uri": "https://localhost:8080/",
     "height": 87
    },
    "colab_type": "code",
    "id": "8vgKu5RCXHrv",
    "outputId": "bbcf4798-8ff6-4750-f27a-467f59786259"
   },
   "outputs": [
    {
     "name": "stderr",
     "output_type": "stream",
     "text": [
      "\r",
      "  0%|          | 0/29 [00:00<?, ?it/s]/usr/local/lib/python3.6/dist-packages/smart_open/smart_open_lib.py:253: UserWarning: This function is deprecated, use smart_open.open instead. See the migration notes for details: https://github.com/RaRe-Technologies/smart_open/blob/master/README.rst#migrating-to-the-new-open-function\n",
      "  'See the migration notes for details: %s' % _MIGRATION_NOTES_URL\n",
      "100%|██████████| 29/29 [1:35:47<00:00, 198.18s/it]\n"
     ]
    }
   ],
   "source": [
    "lda_models, coherence_scores = topic_model_coherence_generator(corpus=bow_corpus, texts=norm_corpus_bigrams,\n",
    "                                                               dictionary=dictionary, start_topic_count=2,\n",
    "                                                               end_topic_count=30, step=1, cpus=4)"
   ]
  },
  {
   "cell_type": "code",
   "execution_count": 30,
   "metadata": {
    "colab": {
     "base_uri": "https://localhost:8080/",
     "height": 343
    },
    "colab_type": "code",
    "id": "EeQIjHsOXPvY",
    "outputId": "b865b9f5-7be1-4e44-d14b-34809e9f2645"
   },
   "outputs": [
    {
     "data": {
      "text/html": [
       "<div>\n",
       "<style scoped>\n",
       "    .dataframe tbody tr th:only-of-type {\n",
       "        vertical-align: middle;\n",
       "    }\n",
       "\n",
       "    .dataframe tbody tr th {\n",
       "        vertical-align: top;\n",
       "    }\n",
       "\n",
       "    .dataframe thead th {\n",
       "        text-align: right;\n",
       "    }\n",
       "</style>\n",
       "<table border=\"1\" class=\"dataframe\">\n",
       "  <thead>\n",
       "    <tr style=\"text-align: right;\">\n",
       "      <th></th>\n",
       "      <th>Number of Topics</th>\n",
       "      <th>Coherence Score</th>\n",
       "    </tr>\n",
       "  </thead>\n",
       "  <tbody>\n",
       "    <tr>\n",
       "      <th>13</th>\n",
       "      <td>15</td>\n",
       "      <td>0.5492</td>\n",
       "    </tr>\n",
       "    <tr>\n",
       "      <th>18</th>\n",
       "      <td>20</td>\n",
       "      <td>0.5425</td>\n",
       "    </tr>\n",
       "    <tr>\n",
       "      <th>25</th>\n",
       "      <td>27</td>\n",
       "      <td>0.5404</td>\n",
       "    </tr>\n",
       "    <tr>\n",
       "      <th>24</th>\n",
       "      <td>26</td>\n",
       "      <td>0.5367</td>\n",
       "    </tr>\n",
       "    <tr>\n",
       "      <th>20</th>\n",
       "      <td>22</td>\n",
       "      <td>0.5366</td>\n",
       "    </tr>\n",
       "    <tr>\n",
       "      <th>21</th>\n",
       "      <td>23</td>\n",
       "      <td>0.5365</td>\n",
       "    </tr>\n",
       "    <tr>\n",
       "      <th>19</th>\n",
       "      <td>21</td>\n",
       "      <td>0.5353</td>\n",
       "    </tr>\n",
       "    <tr>\n",
       "      <th>15</th>\n",
       "      <td>17</td>\n",
       "      <td>0.5342</td>\n",
       "    </tr>\n",
       "    <tr>\n",
       "      <th>27</th>\n",
       "      <td>29</td>\n",
       "      <td>0.5340</td>\n",
       "    </tr>\n",
       "    <tr>\n",
       "      <th>17</th>\n",
       "      <td>19</td>\n",
       "      <td>0.5327</td>\n",
       "    </tr>\n",
       "  </tbody>\n",
       "</table>\n",
       "</div>"
      ],
      "text/plain": [
       "    Number of Topics  Coherence Score\n",
       "13                15           0.5492\n",
       "18                20           0.5425\n",
       "25                27           0.5404\n",
       "24                26           0.5367\n",
       "20                22           0.5366\n",
       "21                23           0.5365\n",
       "19                21           0.5353\n",
       "15                17           0.5342\n",
       "27                29           0.5340\n",
       "17                19           0.5327"
      ]
     },
     "execution_count": 30,
     "metadata": {
      "tags": []
     },
     "output_type": "execute_result"
    }
   ],
   "source": [
    "coherence_df = pd.DataFrame({'Number of Topics': range(2, 31, 1),\n",
    "                             'Coherence Score': np.round(coherence_scores, 4)})\n",
    "coherence_df.sort_values(by=['Coherence Score'], ascending=False).head(10)"
   ]
  },
  {
   "cell_type": "code",
   "execution_count": 31,
   "metadata": {
    "colab": {
     "base_uri": "https://localhost:8080/",
     "height": 388
    },
    "colab_type": "code",
    "id": "UBSRO_VqYjif",
    "outputId": "56d48181-4df7-4ea1-cbcb-682ab9460fd6"
   },
   "outputs": [
    {
     "data": {
      "image/png": "[encoded data removed]",
      "text/plain": [
       "<Figure size 864x432 with 1 Axes>"
      ]
     },
     "metadata": {
      "needs_background": "light",
      "tags": []
     },
     "output_type": "display_data"
    }
   ],
   "source": [
    "import matplotlib.pyplot as plt\n",
    "plt.style.use('fivethirtyeight')\n",
    "%matplotlib inline\n",
    "\n",
    "x_ax = range(2, 31, 1)\n",
    "y_ax = coherence_scores\n",
    "plt.figure(figsize=(12, 6))\n",
    "plt.plot(x_ax, y_ax, c='r')\n",
    "plt.axhline(y=0.535, c='k', linestyle='--', linewidth=2)\n",
    "plt.rcParams['figure.facecolor'] = 'white'\n",
    "xl = plt.xlabel('Number of Topics')\n",
    "yl = plt.ylabel('Coherence Score')"
   ]
  },
  {
   "cell_type": "markdown",
   "metadata": {
    "colab_type": "text",
    "id": "N7PlAhgx12cI"
   },
   "source": [
    "We choose the optimal number of topics as 15, based on our intuition. We can retrieve the best model now"
   ]
  },
  {
   "cell_type": "code",
   "execution_count": 32,
   "metadata": {
    "colab": {
     "base_uri": "https://localhost:8080/",
     "height": 34
    },
    "colab_type": "code",
    "id": "YtPwVFdrYlxO",
    "outputId": "9a9938ef-b031-454a-8033-da7ce972bd30"
   },
   "outputs": [
    {
     "data": {
      "text/plain": [
       "15"
      ]
     },
     "execution_count": 32,
     "metadata": {
      "tags": []
     },
     "output_type": "execute_result"
    }
   ],
   "source": [
    "best_model_idx = coherence_df[coherence_df['Number of Topics'] == 15].index[0]\n",
    "best_lda_model = lda_models[best_model_idx]\n",
    "best_lda_model.num_topics"
   ]
  },
  {
   "cell_type": "code",
   "execution_count": 33,
   "metadata": {
    "colab": {
     "base_uri": "https://localhost:8080/",
     "height": 793
    },
    "colab_type": "code",
    "id": "sQj6L5w4lWXa",
    "outputId": "7fddcc22-ca39-41bd-f881-dcecc52b4548"
   },
   "outputs": [
    {
     "name": "stdout",
     "output_type": "stream",
     "text": [
      "Topic #1:\n",
      "['signal', 'noise', 'source', 'frequency', 'filter', 'channel', 'component', 'adaptation', 'detection', 'sound', 'auditory', 'temporal', 'correlation', 'ica', 'response', 'rate', 'phase', 'amplitude', 'coding', 'change']\n",
      "\n",
      "Topic #2:\n",
      "['map', 'activity', 'target', 'representation', 'human', 'subject', 'eye', 'motor', 'structure', 'pattern', 'movement', 'stimulus', 'position', 'module', 'visual', 'location', 'development', 'brain', 'response', 'cue']\n",
      "\n",
      "Topic #3:\n",
      "['image', 'motion', 'visual', 'direction', 'region', 'field', 'orientation', 'pixel', 'receptive_field', 'location', 'local', 'edge', 'spatial', 'center', 'position', 'velocity', 'object', 'surface', 'response', 'contour']\n",
      "\n",
      "Topic #4:\n",
      "['vector', 'matrix', 'solution', 'equation', 'convergence', 'linear', 'gradient', 'constraint', 'rate', 'nonlinear', 'optimal', 'optimization', 'iteration', 'eq', 'update', 'constant', 'minimum', 'energy', 'line', 'gradient_descent']\n",
      "\n",
      "Topic #5:\n",
      "['neuron', 'cell', 'response', 'stimulus', 'synaptic', 'spike', 'activity', 'firing', 'cortical', 'pattern', 'connection', 'synapsis', 'et_al', 'neural', 'effect', 'cortex', 'current', 'threshold', 'neuronal', 'layer']\n",
      "\n",
      "Topic #6:\n",
      "['dynamic', 'state', 'memory', 'pattern', 'neuron', 'equation', 'phase', 'recurrent', 'attractor', 'capacity', 'fixed_point', 'correlation', 'hopfield', 'fig', 'behavior', 'stable', 'theory', 'delay', 'noise', 'connection']\n",
      "\n",
      "Topic #7:\n",
      "['node', 'class', 'classification', 'classifier', 'training', 'tree', 'pattern', 'test', 'sample', 'feature', 'search', 'table', 'technique', 'experiment', 'rbf', 'expert', 'training_set', 'accuracy', 'machine', 'application']\n",
      "\n",
      "Topic #8:\n",
      "['distribution', 'probability', 'gaussian', 'variable', 'prior', 'density', 'estimate', 'mixture', 'approximation', 'bayesian', 'sample', 'estimation', 'component', 'likelihood', 'log', 'em', 'step', 'variance', 'entropy', 'posterior']\n",
      "\n",
      "Topic #9:\n",
      "['unit', 'layer', 'net', 'hidden_unit', 'training', 'rule', 'pattern', 'architecture', 'task', 'activation', 'trained', 'back_propagation', 'hidden_layer', 'learn', 'connection', 'hidden', 'generalization', 'backpropagation', 'connectionist', 'step']\n",
      "\n",
      "Topic #10:\n",
      "['circuit', 'chip', 'current', 'bit', 'analog', 'neuron', 'voltage', 'implementation', 'code', 'processor', 'design', 'operation', 'element', 'parallel', 'neural', 'computation', 'device', 'digital', 'architecture', 'implemented']\n",
      "\n",
      "Topic #11:\n",
      "['word', 'sequence', 'recognition', 'training', 'state', 'context', 'speech', 'character', 'hmm', 'letter', 'language', 'frame', 'string', 'symbol', 'speaker', 'recurrent', 'trained', 'speech_recognition', 'phoneme', 'experiment']\n",
      "\n",
      "Topic #12:\n",
      "['state', 'control', 'action', 'step', 'policy', 'task', 'trajectory', 'environment', 'controller', 'reinforcement_learning', 'goal', 'robot', 'optimal', 'current', 'reward', 'move', 'learned', 'trial', 'path', 'td']\n",
      "\n",
      "Topic #13:\n",
      "['feature', 'image', 'vector', 'representation', 'object', 'cluster', 'distance', 'transformation', 'face', 'structure', 'view', 'clustering', 'recognition', 'part', 'dimension', 'mapping', 'similarity', 'dimensional', 'digit', 'pca']\n",
      "\n",
      "Topic #14:\n",
      "['bound', 'theorem', 'class', 'size', 'theory', 'probability', 'approximation', 'threshold', 'complexity', 'defined', 'proof', 'linear', 'loss', 'polynomial', 'hypothesis', 'kernel', 'assume', 'definition', 'concept', 'xi']\n",
      "\n",
      "Topic #15:\n",
      "['training', 'prediction', 'noise', 'average', 'training_set', 'test', 'estimate', 'regression', 'optimal', 'variance', 'ensemble', 'linear', 'curve', 'effect', 'bias', 'expected', 'generalization_error', 'generalization', 'selection', 'size']\n",
      "\n"
     ]
    }
   ],
   "source": [
    "topics = [[(term, round(wt, 3)) \n",
    "               for term, wt in best_lda_model.show_topic(n, topn=20)] \n",
    "                   for n in range(0, best_lda_model.num_topics)]\n",
    "\n",
    "for idx, topic in enumerate(topics):\n",
    "    print('Topic #'+str(idx+1)+':')\n",
    "    print([term for term, wt in topic])\n",
    "    print()"
   ]
  },
  {
   "cell_type": "markdown",
   "metadata": {
    "colab_type": "text",
    "id": "Mxtpl5Co12cL"
   },
   "source": [
    "# Viewing LDA Model topics"
   ]
  },
  {
   "cell_type": "code",
   "execution_count": 34,
   "metadata": {
    "colab": {
     "base_uri": "https://localhost:8080/",
     "height": 659
    },
    "colab_type": "code",
    "id": "V-SpgKYRpHsA",
    "outputId": "c38a1b80-c25b-40c0-9729-9c0e2d8f2a3e"
   },
   "outputs": [
    {
     "data": {
      "text/html": [
       "<div>\n",
       "<style scoped>\n",
       "    .dataframe tbody tr th:only-of-type {\n",
       "        vertical-align: middle;\n",
       "    }\n",
       "\n",
       "    .dataframe tbody tr th {\n",
       "        vertical-align: top;\n",
       "    }\n",
       "\n",
       "    .dataframe thead th {\n",
       "        text-align: right;\n",
       "    }\n",
       "</style>\n",
       "<table border=\"1\" class=\"dataframe\">\n",
       "  <thead>\n",
       "    <tr style=\"text-align: right;\">\n",
       "      <th></th>\n",
       "      <th>Topic 1</th>\n",
       "      <th>Topic 2</th>\n",
       "      <th>Topic 3</th>\n",
       "      <th>Topic 4</th>\n",
       "      <th>Topic 5</th>\n",
       "      <th>Topic 6</th>\n",
       "      <th>Topic 7</th>\n",
       "      <th>Topic 8</th>\n",
       "      <th>Topic 9</th>\n",
       "      <th>Topic 10</th>\n",
       "      <th>Topic 11</th>\n",
       "      <th>Topic 12</th>\n",
       "      <th>Topic 13</th>\n",
       "      <th>Topic 14</th>\n",
       "      <th>Topic 15</th>\n",
       "    </tr>\n",
       "  </thead>\n",
       "  <tbody>\n",
       "    <tr>\n",
       "      <th>Term1</th>\n",
       "      <td>signal</td>\n",
       "      <td>map</td>\n",
       "      <td>image</td>\n",
       "      <td>vector</td>\n",
       "      <td>neuron</td>\n",
       "      <td>dynamic</td>\n",
       "      <td>node</td>\n",
       "      <td>distribution</td>\n",
       "      <td>unit</td>\n",
       "      <td>circuit</td>\n",
       "      <td>word</td>\n",
       "      <td>state</td>\n",
       "      <td>feature</td>\n",
       "      <td>bound</td>\n",
       "      <td>training</td>\n",
       "    </tr>\n",
       "    <tr>\n",
       "      <th>Term2</th>\n",
       "      <td>noise</td>\n",
       "      <td>activity</td>\n",
       "      <td>motion</td>\n",
       "      <td>matrix</td>\n",
       "      <td>cell</td>\n",
       "      <td>state</td>\n",
       "      <td>class</td>\n",
       "      <td>probability</td>\n",
       "      <td>layer</td>\n",
       "      <td>chip</td>\n",
       "      <td>sequence</td>\n",
       "      <td>control</td>\n",
       "      <td>image</td>\n",
       "      <td>theorem</td>\n",
       "      <td>prediction</td>\n",
       "    </tr>\n",
       "    <tr>\n",
       "      <th>Term3</th>\n",
       "      <td>source</td>\n",
       "      <td>target</td>\n",
       "      <td>visual</td>\n",
       "      <td>solution</td>\n",
       "      <td>response</td>\n",
       "      <td>memory</td>\n",
       "      <td>classification</td>\n",
       "      <td>gaussian</td>\n",
       "      <td>net</td>\n",
       "      <td>current</td>\n",
       "      <td>recognition</td>\n",
       "      <td>action</td>\n",
       "      <td>vector</td>\n",
       "      <td>class</td>\n",
       "      <td>noise</td>\n",
       "    </tr>\n",
       "    <tr>\n",
       "      <th>Term4</th>\n",
       "      <td>frequency</td>\n",
       "      <td>representation</td>\n",
       "      <td>direction</td>\n",
       "      <td>equation</td>\n",
       "      <td>stimulus</td>\n",
       "      <td>pattern</td>\n",
       "      <td>classifier</td>\n",
       "      <td>variable</td>\n",
       "      <td>hidden_unit</td>\n",
       "      <td>bit</td>\n",
       "      <td>training</td>\n",
       "      <td>step</td>\n",
       "      <td>representation</td>\n",
       "      <td>size</td>\n",
       "      <td>average</td>\n",
       "    </tr>\n",
       "    <tr>\n",
       "      <th>Term5</th>\n",
       "      <td>filter</td>\n",
       "      <td>human</td>\n",
       "      <td>region</td>\n",
       "      <td>convergence</td>\n",
       "      <td>synaptic</td>\n",
       "      <td>neuron</td>\n",
       "      <td>training</td>\n",
       "      <td>prior</td>\n",
       "      <td>training</td>\n",
       "      <td>analog</td>\n",
       "      <td>state</td>\n",
       "      <td>policy</td>\n",
       "      <td>object</td>\n",
       "      <td>theory</td>\n",
       "      <td>training_set</td>\n",
       "    </tr>\n",
       "    <tr>\n",
       "      <th>Term6</th>\n",
       "      <td>channel</td>\n",
       "      <td>subject</td>\n",
       "      <td>field</td>\n",
       "      <td>linear</td>\n",
       "      <td>spike</td>\n",
       "      <td>equation</td>\n",
       "      <td>tree</td>\n",
       "      <td>density</td>\n",
       "      <td>rule</td>\n",
       "      <td>neuron</td>\n",
       "      <td>context</td>\n",
       "      <td>task</td>\n",
       "      <td>cluster</td>\n",
       "      <td>probability</td>\n",
       "      <td>test</td>\n",
       "    </tr>\n",
       "    <tr>\n",
       "      <th>Term7</th>\n",
       "      <td>component</td>\n",
       "      <td>eye</td>\n",
       "      <td>orientation</td>\n",
       "      <td>gradient</td>\n",
       "      <td>activity</td>\n",
       "      <td>phase</td>\n",
       "      <td>pattern</td>\n",
       "      <td>estimate</td>\n",
       "      <td>pattern</td>\n",
       "      <td>voltage</td>\n",
       "      <td>speech</td>\n",
       "      <td>trajectory</td>\n",
       "      <td>distance</td>\n",
       "      <td>approximation</td>\n",
       "      <td>estimate</td>\n",
       "    </tr>\n",
       "    <tr>\n",
       "      <th>Term8</th>\n",
       "      <td>adaptation</td>\n",
       "      <td>motor</td>\n",
       "      <td>pixel</td>\n",
       "      <td>constraint</td>\n",
       "      <td>firing</td>\n",
       "      <td>recurrent</td>\n",
       "      <td>test</td>\n",
       "      <td>mixture</td>\n",
       "      <td>architecture</td>\n",
       "      <td>implementation</td>\n",
       "      <td>character</td>\n",
       "      <td>environment</td>\n",
       "      <td>transformation</td>\n",
       "      <td>threshold</td>\n",
       "      <td>regression</td>\n",
       "    </tr>\n",
       "    <tr>\n",
       "      <th>Term9</th>\n",
       "      <td>detection</td>\n",
       "      <td>structure</td>\n",
       "      <td>receptive_field</td>\n",
       "      <td>rate</td>\n",
       "      <td>cortical</td>\n",
       "      <td>attractor</td>\n",
       "      <td>sample</td>\n",
       "      <td>approximation</td>\n",
       "      <td>task</td>\n",
       "      <td>code</td>\n",
       "      <td>hmm</td>\n",
       "      <td>controller</td>\n",
       "      <td>face</td>\n",
       "      <td>complexity</td>\n",
       "      <td>optimal</td>\n",
       "    </tr>\n",
       "    <tr>\n",
       "      <th>Term10</th>\n",
       "      <td>sound</td>\n",
       "      <td>pattern</td>\n",
       "      <td>location</td>\n",
       "      <td>nonlinear</td>\n",
       "      <td>pattern</td>\n",
       "      <td>capacity</td>\n",
       "      <td>feature</td>\n",
       "      <td>bayesian</td>\n",
       "      <td>activation</td>\n",
       "      <td>processor</td>\n",
       "      <td>letter</td>\n",
       "      <td>reinforcement_learning</td>\n",
       "      <td>structure</td>\n",
       "      <td>defined</td>\n",
       "      <td>variance</td>\n",
       "    </tr>\n",
       "    <tr>\n",
       "      <th>Term11</th>\n",
       "      <td>auditory</td>\n",
       "      <td>movement</td>\n",
       "      <td>local</td>\n",
       "      <td>optimal</td>\n",
       "      <td>connection</td>\n",
       "      <td>fixed_point</td>\n",
       "      <td>search</td>\n",
       "      <td>sample</td>\n",
       "      <td>trained</td>\n",
       "      <td>design</td>\n",
       "      <td>language</td>\n",
       "      <td>goal</td>\n",
       "      <td>view</td>\n",
       "      <td>proof</td>\n",
       "      <td>ensemble</td>\n",
       "    </tr>\n",
       "    <tr>\n",
       "      <th>Term12</th>\n",
       "      <td>temporal</td>\n",
       "      <td>stimulus</td>\n",
       "      <td>edge</td>\n",
       "      <td>optimization</td>\n",
       "      <td>synapsis</td>\n",
       "      <td>correlation</td>\n",
       "      <td>table</td>\n",
       "      <td>estimation</td>\n",
       "      <td>back_propagation</td>\n",
       "      <td>operation</td>\n",
       "      <td>frame</td>\n",
       "      <td>robot</td>\n",
       "      <td>clustering</td>\n",
       "      <td>linear</td>\n",
       "      <td>linear</td>\n",
       "    </tr>\n",
       "    <tr>\n",
       "      <th>Term13</th>\n",
       "      <td>correlation</td>\n",
       "      <td>position</td>\n",
       "      <td>spatial</td>\n",
       "      <td>iteration</td>\n",
       "      <td>et_al</td>\n",
       "      <td>hopfield</td>\n",
       "      <td>technique</td>\n",
       "      <td>component</td>\n",
       "      <td>hidden_layer</td>\n",
       "      <td>element</td>\n",
       "      <td>string</td>\n",
       "      <td>optimal</td>\n",
       "      <td>recognition</td>\n",
       "      <td>loss</td>\n",
       "      <td>curve</td>\n",
       "    </tr>\n",
       "    <tr>\n",
       "      <th>Term14</th>\n",
       "      <td>ica</td>\n",
       "      <td>module</td>\n",
       "      <td>center</td>\n",
       "      <td>eq</td>\n",
       "      <td>neural</td>\n",
       "      <td>fig</td>\n",
       "      <td>experiment</td>\n",
       "      <td>likelihood</td>\n",
       "      <td>learn</td>\n",
       "      <td>parallel</td>\n",
       "      <td>symbol</td>\n",
       "      <td>current</td>\n",
       "      <td>part</td>\n",
       "      <td>polynomial</td>\n",
       "      <td>effect</td>\n",
       "    </tr>\n",
       "    <tr>\n",
       "      <th>Term15</th>\n",
       "      <td>response</td>\n",
       "      <td>visual</td>\n",
       "      <td>position</td>\n",
       "      <td>update</td>\n",
       "      <td>effect</td>\n",
       "      <td>behavior</td>\n",
       "      <td>rbf</td>\n",
       "      <td>log</td>\n",
       "      <td>connection</td>\n",
       "      <td>neural</td>\n",
       "      <td>speaker</td>\n",
       "      <td>reward</td>\n",
       "      <td>dimension</td>\n",
       "      <td>hypothesis</td>\n",
       "      <td>bias</td>\n",
       "    </tr>\n",
       "    <tr>\n",
       "      <th>Term16</th>\n",
       "      <td>rate</td>\n",
       "      <td>location</td>\n",
       "      <td>velocity</td>\n",
       "      <td>constant</td>\n",
       "      <td>cortex</td>\n",
       "      <td>stable</td>\n",
       "      <td>expert</td>\n",
       "      <td>em</td>\n",
       "      <td>hidden</td>\n",
       "      <td>computation</td>\n",
       "      <td>recurrent</td>\n",
       "      <td>move</td>\n",
       "      <td>mapping</td>\n",
       "      <td>kernel</td>\n",
       "      <td>expected</td>\n",
       "    </tr>\n",
       "    <tr>\n",
       "      <th>Term17</th>\n",
       "      <td>phase</td>\n",
       "      <td>development</td>\n",
       "      <td>object</td>\n",
       "      <td>minimum</td>\n",
       "      <td>current</td>\n",
       "      <td>theory</td>\n",
       "      <td>training_set</td>\n",
       "      <td>step</td>\n",
       "      <td>generalization</td>\n",
       "      <td>device</td>\n",
       "      <td>trained</td>\n",
       "      <td>learned</td>\n",
       "      <td>similarity</td>\n",
       "      <td>assume</td>\n",
       "      <td>generalization_error</td>\n",
       "    </tr>\n",
       "    <tr>\n",
       "      <th>Term18</th>\n",
       "      <td>amplitude</td>\n",
       "      <td>brain</td>\n",
       "      <td>surface</td>\n",
       "      <td>energy</td>\n",
       "      <td>threshold</td>\n",
       "      <td>delay</td>\n",
       "      <td>accuracy</td>\n",
       "      <td>variance</td>\n",
       "      <td>backpropagation</td>\n",
       "      <td>digital</td>\n",
       "      <td>speech_recognition</td>\n",
       "      <td>trial</td>\n",
       "      <td>dimensional</td>\n",
       "      <td>definition</td>\n",
       "      <td>generalization</td>\n",
       "    </tr>\n",
       "    <tr>\n",
       "      <th>Term19</th>\n",
       "      <td>coding</td>\n",
       "      <td>response</td>\n",
       "      <td>response</td>\n",
       "      <td>line</td>\n",
       "      <td>neuronal</td>\n",
       "      <td>noise</td>\n",
       "      <td>machine</td>\n",
       "      <td>entropy</td>\n",
       "      <td>connectionist</td>\n",
       "      <td>architecture</td>\n",
       "      <td>phoneme</td>\n",
       "      <td>path</td>\n",
       "      <td>digit</td>\n",
       "      <td>concept</td>\n",
       "      <td>selection</td>\n",
       "    </tr>\n",
       "    <tr>\n",
       "      <th>Term20</th>\n",
       "      <td>change</td>\n",
       "      <td>cue</td>\n",
       "      <td>contour</td>\n",
       "      <td>gradient_descent</td>\n",
       "      <td>layer</td>\n",
       "      <td>connection</td>\n",
       "      <td>application</td>\n",
       "      <td>posterior</td>\n",
       "      <td>step</td>\n",
       "      <td>implemented</td>\n",
       "      <td>experiment</td>\n",
       "      <td>td</td>\n",
       "      <td>pca</td>\n",
       "      <td>xi</td>\n",
       "      <td>size</td>\n",
       "    </tr>\n",
       "  </tbody>\n",
       "</table>\n",
       "</div>"
      ],
      "text/plain": [
       "            Topic 1         Topic 2  ...       Topic 14              Topic 15\n",
       "Term1        signal             map  ...          bound              training\n",
       "Term2         noise        activity  ...        theorem            prediction\n",
       "Term3        source          target  ...          class                 noise\n",
       "Term4     frequency  representation  ...           size               average\n",
       "Term5        filter           human  ...         theory          training_set\n",
       "Term6       channel         subject  ...    probability                  test\n",
       "Term7     component             eye  ...  approximation              estimate\n",
       "Term8    adaptation           motor  ...      threshold            regression\n",
       "Term9     detection       structure  ...     complexity               optimal\n",
       "Term10        sound         pattern  ...        defined              variance\n",
       "Term11     auditory        movement  ...          proof              ensemble\n",
       "Term12     temporal        stimulus  ...         linear                linear\n",
       "Term13  correlation        position  ...           loss                 curve\n",
       "Term14          ica          module  ...     polynomial                effect\n",
       "Term15     response          visual  ...     hypothesis                  bias\n",
       "Term16         rate        location  ...         kernel              expected\n",
       "Term17        phase     development  ...         assume  generalization_error\n",
       "Term18    amplitude           brain  ...     definition        generalization\n",
       "Term19       coding        response  ...        concept             selection\n",
       "Term20       change             cue  ...             xi                  size\n",
       "\n",
       "[20 rows x 15 columns]"
      ]
     },
     "execution_count": 34,
     "metadata": {
      "tags": []
     },
     "output_type": "execute_result"
    }
   ],
   "source": [
    "topics_df = pd.DataFrame([[term for term, wt in topic] \n",
    "                              for topic in topics], \n",
    "                         columns = ['Term'+str(i) for i in range(1, 21)],\n",
    "                         index=['Topic '+str(t) for t in range(1, best_lda_model.num_topics+1)]).T\n",
    "topics_df"
   ]
  },
  {
   "cell_type": "code",
   "execution_count": 35,
   "metadata": {
    "colab": {
     "base_uri": "https://localhost:8080/",
     "height": 545
    },
    "colab_type": "code",
    "id": "MvyOKlu4p7UG",
    "outputId": "ae3a1693-6110-4e26-9364-224d56ab813a"
   },
   "outputs": [
    {
     "name": "stderr",
     "output_type": "stream",
     "text": [
      "/usr/local/lib/python3.6/dist-packages/ipykernel_launcher.py:1: FutureWarning: Passing a negative integer is deprecated in version 1.0 and will not be supported in future version. Instead, use None to not limit the column width.\n",
      "  \"\"\"Entry point for launching an IPython kernel.\n"
     ]
    },
    {
     "data": {
      "text/html": [
       "<div>\n",
       "<style scoped>\n",
       "    .dataframe tbody tr th:only-of-type {\n",
       "        vertical-align: middle;\n",
       "    }\n",
       "\n",
       "    .dataframe tbody tr th {\n",
       "        vertical-align: top;\n",
       "    }\n",
       "\n",
       "    .dataframe thead th {\n",
       "        text-align: right;\n",
       "    }\n",
       "</style>\n",
       "<table border=\"1\" class=\"dataframe\">\n",
       "  <thead>\n",
       "    <tr style=\"text-align: right;\">\n",
       "      <th></th>\n",
       "      <th>Terms per Topic</th>\n",
       "    </tr>\n",
       "  </thead>\n",
       "  <tbody>\n",
       "    <tr>\n",
       "      <th>Topic1</th>\n",
       "      <td>signal, noise, source, frequency, filter, channel, component, adaptation, detection, sound, auditory, temporal, correlation, ica, response, rate, phase, amplitude, coding, change</td>\n",
       "    </tr>\n",
       "    <tr>\n",
       "      <th>Topic2</th>\n",
       "      <td>map, activity, target, representation, human, subject, eye, motor, structure, pattern, movement, stimulus, position, module, visual, location, development, brain, response, cue</td>\n",
       "    </tr>\n",
       "    <tr>\n",
       "      <th>Topic3</th>\n",
       "      <td>image, motion, visual, direction, region, field, orientation, pixel, receptive_field, location, local, edge, spatial, center, position, velocity, object, surface, response, contour</td>\n",
       "    </tr>\n",
       "    <tr>\n",
       "      <th>Topic4</th>\n",
       "      <td>vector, matrix, solution, equation, convergence, linear, gradient, constraint, rate, nonlinear, optimal, optimization, iteration, eq, update, constant, minimum, energy, line, gradient_descent</td>\n",
       "    </tr>\n",
       "    <tr>\n",
       "      <th>Topic5</th>\n",
       "      <td>neuron, cell, response, stimulus, synaptic, spike, activity, firing, cortical, pattern, connection, synapsis, et_al, neural, effect, cortex, current, threshold, neuronal, layer</td>\n",
       "    </tr>\n",
       "    <tr>\n",
       "      <th>Topic6</th>\n",
       "      <td>dynamic, state, memory, pattern, neuron, equation, phase, recurrent, attractor, capacity, fixed_point, correlation, hopfield, fig, behavior, stable, theory, delay, noise, connection</td>\n",
       "    </tr>\n",
       "    <tr>\n",
       "      <th>Topic7</th>\n",
       "      <td>node, class, classification, classifier, training, tree, pattern, test, sample, feature, search, table, technique, experiment, rbf, expert, training_set, accuracy, machine, application</td>\n",
       "    </tr>\n",
       "    <tr>\n",
       "      <th>Topic8</th>\n",
       "      <td>distribution, probability, gaussian, variable, prior, density, estimate, mixture, approximation, bayesian, sample, estimation, component, likelihood, log, em, step, variance, entropy, posterior</td>\n",
       "    </tr>\n",
       "    <tr>\n",
       "      <th>Topic9</th>\n",
       "      <td>unit, layer, net, hidden_unit, training, rule, pattern, architecture, task, activation, trained, back_propagation, hidden_layer, learn, connection, hidden, generalization, backpropagation, connectionist, step</td>\n",
       "    </tr>\n",
       "    <tr>\n",
       "      <th>Topic10</th>\n",
       "      <td>circuit, chip, current, bit, analog, neuron, voltage, implementation, code, processor, design, operation, element, parallel, neural, computation, device, digital, architecture, implemented</td>\n",
       "    </tr>\n",
       "    <tr>\n",
       "      <th>Topic11</th>\n",
       "      <td>word, sequence, recognition, training, state, context, speech, character, hmm, letter, language, frame, string, symbol, speaker, recurrent, trained, speech_recognition, phoneme, experiment</td>\n",
       "    </tr>\n",
       "    <tr>\n",
       "      <th>Topic12</th>\n",
       "      <td>state, control, action, step, policy, task, trajectory, environment, controller, reinforcement_learning, goal, robot, optimal, current, reward, move, learned, trial, path, td</td>\n",
       "    </tr>\n",
       "    <tr>\n",
       "      <th>Topic13</th>\n",
       "      <td>feature, image, vector, representation, object, cluster, distance, transformation, face, structure, view, clustering, recognition, part, dimension, mapping, similarity, dimensional, digit, pca</td>\n",
       "    </tr>\n",
       "    <tr>\n",
       "      <th>Topic14</th>\n",
       "      <td>bound, theorem, class, size, theory, probability, approximation, threshold, complexity, defined, proof, linear, loss, polynomial, hypothesis, kernel, assume, definition, concept, xi</td>\n",
       "    </tr>\n",
       "    <tr>\n",
       "      <th>Topic15</th>\n",
       "      <td>training, prediction, noise, average, training_set, test, estimate, regression, optimal, variance, ensemble, linear, curve, effect, bias, expected, generalization_error, generalization, selection, size</td>\n",
       "    </tr>\n",
       "  </tbody>\n",
       "</table>\n",
       "</div>"
      ],
      "text/plain": [
       "                                                                                                                                                                                                          Terms per Topic\n",
       "Topic1   signal, noise, source, frequency, filter, channel, component, adaptation, detection, sound, auditory, temporal, correlation, ica, response, rate, phase, amplitude, coding, change                              \n",
       "Topic2   map, activity, target, representation, human, subject, eye, motor, structure, pattern, movement, stimulus, position, module, visual, location, development, brain, response, cue                                \n",
       "Topic3   image, motion, visual, direction, region, field, orientation, pixel, receptive_field, location, local, edge, spatial, center, position, velocity, object, surface, response, contour                            \n",
       "Topic4   vector, matrix, solution, equation, convergence, linear, gradient, constraint, rate, nonlinear, optimal, optimization, iteration, eq, update, constant, minimum, energy, line, gradient_descent                 \n",
       "Topic5   neuron, cell, response, stimulus, synaptic, spike, activity, firing, cortical, pattern, connection, synapsis, et_al, neural, effect, cortex, current, threshold, neuronal, layer                                \n",
       "Topic6   dynamic, state, memory, pattern, neuron, equation, phase, recurrent, attractor, capacity, fixed_point, correlation, hopfield, fig, behavior, stable, theory, delay, noise, connection                           \n",
       "Topic7   node, class, classification, classifier, training, tree, pattern, test, sample, feature, search, table, technique, experiment, rbf, expert, training_set, accuracy, machine, application                        \n",
       "Topic8   distribution, probability, gaussian, variable, prior, density, estimate, mixture, approximation, bayesian, sample, estimation, component, likelihood, log, em, step, variance, entropy, posterior               \n",
       "Topic9   unit, layer, net, hidden_unit, training, rule, pattern, architecture, task, activation, trained, back_propagation, hidden_layer, learn, connection, hidden, generalization, backpropagation, connectionist, step\n",
       "Topic10  circuit, chip, current, bit, analog, neuron, voltage, implementation, code, processor, design, operation, element, parallel, neural, computation, device, digital, architecture, implemented                    \n",
       "Topic11  word, sequence, recognition, training, state, context, speech, character, hmm, letter, language, frame, string, symbol, speaker, recurrent, trained, speech_recognition, phoneme, experiment                    \n",
       "Topic12  state, control, action, step, policy, task, trajectory, environment, controller, reinforcement_learning, goal, robot, optimal, current, reward, move, learned, trial, path, td                                  \n",
       "Topic13  feature, image, vector, representation, object, cluster, distance, transformation, face, structure, view, clustering, recognition, part, dimension, mapping, similarity, dimensional, digit, pca                \n",
       "Topic14  bound, theorem, class, size, theory, probability, approximation, threshold, complexity, defined, proof, linear, loss, polynomial, hypothesis, kernel, assume, definition, concept, xi                           \n",
       "Topic15  training, prediction, noise, average, training_set, test, estimate, regression, optimal, variance, ensemble, linear, curve, effect, bias, expected, generalization_error, generalization, selection, size       "
      ]
     },
     "execution_count": 35,
     "metadata": {
      "tags": []
     },
     "output_type": "execute_result"
    }
   ],
   "source": [
    "pd.set_option('display.max_colwidth', -1)\n",
    "topics_df = pd.DataFrame([', '.join([term for term, wt in topic])  \n",
    "                              for topic in topics],\n",
    "                         columns = ['Terms per Topic'],\n",
    "                         index=['Topic'+str(t) for t in range(1, best_lda_model.num_topics+1)]\n",
    "                         )\n",
    "topics_df"
   ]
  },
  {
   "cell_type": "markdown",
   "metadata": {
    "colab_type": "text",
    "id": "SrveLQ5e12cP"
   },
   "source": [
    "# Interpreting Topic Model Results\n",
    "\n",
    "An interesting point to remember is, given a corpus of documents (in the form of\n",
    "features, e.g., Bag of Words) and a trained topic model, you can predict the distribution of\n",
    "topics in each document (research paper in this case).\n",
    "\n",
    "We can now get the most dominant topic per research paper with some intelligent\n",
    "sorting and indexing."
   ]
  },
  {
   "cell_type": "code",
   "execution_count": 36,
   "metadata": {
    "colab": {
     "base_uri": "https://localhost:8080/",
     "height": 70
    },
    "colab_type": "code",
    "id": "bXv0NRCXum-I",
    "outputId": "f7f3f272-e7b2-4b11-d0d6-1825ebef4e6a"
   },
   "outputs": [
    {
     "name": "stderr",
     "output_type": "stream",
     "text": [
      "/usr/local/lib/python3.6/dist-packages/smart_open/smart_open_lib.py:253: UserWarning: This function is deprecated, use smart_open.open instead. See the migration notes for details: https://github.com/RaRe-Technologies/smart_open/blob/master/README.rst#migrating-to-the-new-open-function\n",
      "  'See the migration notes for details: %s' % _MIGRATION_NOTES_URL\n"
     ]
    }
   ],
   "source": [
    "tm_results = best_lda_model[bow_corpus]"
   ]
  },
  {
   "cell_type": "code",
   "execution_count": 37,
   "metadata": {
    "colab": {
     "base_uri": "https://localhost:8080/",
     "height": 101
    },
    "colab_type": "code",
    "id": "WjEHWhVGuuG5",
    "outputId": "78a75797-835f-4b0a-ee75-66e04109714d"
   },
   "outputs": [
    {
     "data": {
      "text/plain": [
       "[(5, 0.41996464028287767),\n",
       " (4, 0.5856681949397182),\n",
       " (5, 0.19490434142752022),\n",
       " (9, 0.5570885822835433),\n",
       " (4, 0.31967670011148275)]"
      ]
     },
     "execution_count": 37,
     "metadata": {
      "tags": []
     },
     "output_type": "execute_result"
    }
   ],
   "source": [
    "corpus_topics = [sorted(topics, key=lambda record: -record[1])[0] \n",
    "                     for topics in tm_results]\n",
    "corpus_topics[:5]"
   ]
  },
  {
   "cell_type": "code",
   "execution_count": 0,
   "metadata": {
    "colab": {},
    "colab_type": "code",
    "id": "GFmddPmQuyXS"
   },
   "outputs": [],
   "source": [
    "corpus_topic_df = pd.DataFrame()\n",
    "corpus_topic_df['Document'] = range(0, len(papers))\n",
    "corpus_topic_df['Dominant Topic'] = [item[0]+1 for item in corpus_topics]\n",
    "corpus_topic_df['Contribution %'] = [round(item[1]*100, 2) for item in corpus_topics]\n",
    "corpus_topic_df['Topic Desc'] = [topics_df.iloc[t[0]]['Terms per Topic'] for t in corpus_topics]\n",
    "corpus_topic_df['Paper'] = papers"
   ]
  },
  {
   "cell_type": "markdown",
   "metadata": {
    "colab_type": "text",
    "id": "U_nNj9_t12cb"
   },
   "source": [
    "# Dominant Topics in Specific Research Papers\n",
    "\n",
    "Another interesting perspective is to select specific papers, view the most dominant topic\n",
    "in each of those papers, and see if that makes sense."
   ]
  },
  {
   "cell_type": "code",
   "execution_count": 47,
   "metadata": {
    "colab": {
     "base_uri": "https://localhost:8080/",
     "height": 1000
    },
    "colab_type": "code",
    "id": "pN45exiiu5sx",
    "outputId": "ed203427-7455-472c-a0b5-24041f0de050"
   },
   "outputs": [
    {
     "data": {
      "text/html": [
       "<div>\n",
       "<style scoped>\n",
       "    .dataframe tbody tr th:only-of-type {\n",
       "        vertical-align: middle;\n",
       "    }\n",
       "\n",
       "    .dataframe tbody tr th {\n",
       "        vertical-align: top;\n",
       "    }\n",
       "\n",
       "    .dataframe thead th {\n",
       "        text-align: right;\n",
       "    }\n",
       "</style>\n",
       "<table border=\"1\" class=\"dataframe\">\n",
       "  <thead>\n",
       "    <tr style=\"text-align: right;\">\n",
       "      <th></th>\n",
       "      <th>Document</th>\n",
       "      <th>Dominant Topic</th>\n",
       "      <th>Contribution %</th>\n",
       "      <th>Topic Desc</th>\n",
       "      <th>Paper</th>\n",
       "    </tr>\n",
       "    <tr>\n",
       "      <th>Dominant Topic</th>\n",
       "      <th></th>\n",
       "      <th></th>\n",
       "      <th></th>\n",
       "      <th></th>\n",
       "      <th></th>\n",
       "    </tr>\n",
       "  </thead>\n",
       "  <tbody>\n",
       "    <tr>\n",
       "      <th>1</th>\n",
       "      <td>1288</td>\n",
       "      <td>1</td>\n",
       "      <td>61.78</td>\n",
       "      <td>signal, noise, source, frequency, filter, channel, component, adaptation, detection, sound, auditory, temporal, correlation, ica, response, rate, phase, amplitude, coding, change</td>\n",
       "      <td>Extended ICA Removes Artifacts from \\nElectroencephalographic Recordings \\nTzyy-Ping Jung , Colin Humphries , Te-Won Lee , Scott Makeig 2'3, \\nMartin J. McKeown , Vicente Iragui 3, Terrence J....</td>\n",
       "    </tr>\n",
       "    <tr>\n",
       "      <th>2</th>\n",
       "      <td>416</td>\n",
       "      <td>2</td>\n",
       "      <td>65.52</td>\n",
       "      <td>map, activity, target, representation, human, subject, eye, motor, structure, pattern, movement, stimulus, position, module, visual, location, development, brain, response, cue</td>\n",
       "      <td>Further Studies of a Model for the \\nDevelopment and Regeneration \\nof Eye-Brain Maps \\nJ.D. Cowan &amp; A.E. Friedman \\nDepartment of Mathematics, Committee on \\nNeurobiology, and Brain Research Inst...</td>\n",
       "    </tr>\n",
       "    <tr>\n",
       "      <th>3</th>\n",
       "      <td>1100</td>\n",
       "      <td>3</td>\n",
       "      <td>60.64</td>\n",
       "      <td>image, motion, visual, direction, region, field, orientation, pixel, receptive_field, location, local, edge, spatial, center, position, velocity, object, surface, response, contour</td>\n",
       "      <td>A \\nNeural Network Model of 3-D \\nLightness Perception \\nLuiz Pessoa \\nFederal Univ. of Rio de Janeiro \\nRio de Janeiro, RJ, Brazil \\npessoa@cos.ufrj.br \\nWilliam D. Ross \\nBoston University \\nBos...</td>\n",
       "    </tr>\n",
       "    <tr>\n",
       "      <th>4</th>\n",
       "      <td>1272</td>\n",
       "      <td>4</td>\n",
       "      <td>62.44</td>\n",
       "      <td>vector, matrix, solution, equation, convergence, linear, gradient, constraint, rate, nonlinear, optimal, optimization, iteration, eq, update, constant, minimum, energy, line, gradient_descent</td>\n",
       "      <td>A Convergence Proof for the Softassign \\nQuadratic Assignment Algorithm \\nAnand Rangarajan \\nDepartment of Diagnostic Radiology \\nYale University School of Medicine \\nNew Haven, CT 06520-8042 \\ne-...</td>\n",
       "    </tr>\n",
       "    <tr>\n",
       "      <th>5</th>\n",
       "      <td>571</td>\n",
       "      <td>5</td>\n",
       "      <td>77.11</td>\n",
       "      <td>neuron, cell, response, stimulus, synaptic, spike, activity, firing, cortical, pattern, connection, synapsis, et_al, neural, effect, cortex, current, threshold, neuronal, layer</td>\n",
       "      <td>Network activity determines \\nspatio-temporal integration in single cells \\njvind Bernander, Christof Koch * \\nComputation and Neural Systems Program, \\nCalifornia Institute of Technology, \\nPasa...</td>\n",
       "    </tr>\n",
       "    <tr>\n",
       "      <th>6</th>\n",
       "      <td>180</td>\n",
       "      <td>6</td>\n",
       "      <td>67.99</td>\n",
       "      <td>dynamic, state, memory, pattern, neuron, equation, phase, recurrent, attractor, capacity, fixed_point, correlation, hopfield, fig, behavior, stable, theory, delay, noise, connection</td>\n",
       "      <td>568 \\nDYNAMICS OF ANALOG NEURAL \\nNETWORKS WITH TIME DELAY \\nC.M. Marcus and R.M. Westervelt \\nDivision of Applied Sciences and Department of Physics \\nHarvard University, Cambridge Massachusetts ...</td>\n",
       "    </tr>\n",
       "    <tr>\n",
       "      <th>7</th>\n",
       "      <td>314</td>\n",
       "      <td>7</td>\n",
       "      <td>70.68</td>\n",
       "      <td>node, class, classification, classifier, training, tree, pattern, test, sample, feature, search, table, technique, experiment, rbf, expert, training_set, accuracy, machine, application</td>\n",
       "      <td>A Comparative Study of the Practical \\nCharacteristics of Neural Network and \\nConventional Pattern Classifiers \\nKenney Ng \\nBBN Systems and Technologies \\nCambridge, MA 02138 \\nAbstract \\nRichar...</td>\n",
       "    </tr>\n",
       "    <tr>\n",
       "      <th>8</th>\n",
       "      <td>1607</td>\n",
       "      <td>8</td>\n",
       "      <td>64.08</td>\n",
       "      <td>distribution, probability, gaussian, variable, prior, density, estimate, mixture, approximation, bayesian, sample, estimation, component, likelihood, log, em, step, variance, entropy, posterior</td>\n",
       "      <td>The Infinite Gaussian Mixture Model \\nCarl Edward Rasmussen \\nDepartment of Mathematical Modelling \\nTechnical University of Denmark \\nBuilding 321, DK-2800 Kongens Lyngby, Denmark \\ncarl@imm.dtu....</td>\n",
       "    </tr>\n",
       "    <tr>\n",
       "      <th>9</th>\n",
       "      <td>776</td>\n",
       "      <td>9</td>\n",
       "      <td>66.23</td>\n",
       "      <td>unit, layer, net, hidden_unit, training, rule, pattern, architecture, task, activation, trained, back_propagation, hidden_layer, learn, connection, hidden, generalization, backpropagation, connect...</td>\n",
       "      <td>Analyzing Cross Connected Networks \\nThomas R. Shultz \\nDepartment of Psychology &amp; \\nMcGill Cognitive Science Centre \\nMcGill University \\nMontr6al, Qu6bec, Canada H3A lB 1 \\nsh ultz@ psych. mcgil...</td>\n",
       "    </tr>\n",
       "    <tr>\n",
       "      <th>10</th>\n",
       "      <td>962</td>\n",
       "      <td>10</td>\n",
       "      <td>69.13</td>\n",
       "      <td>circuit, chip, current, bit, analog, neuron, voltage, implementation, code, processor, design, operation, element, parallel, neural, computation, device, digital, architecture, implemented</td>\n",
       "      <td>Single Transistor Learning Synapses \\nPaul Hasler, Chris Diorio, Bradley A. Minch, Carver Mead \\nCalifornia Institute of Technology \\nPasadena, CA 91125 \\n(SlS) 95- 2S12 \\npaul@hobiecat.pcmp.calt...</td>\n",
       "    </tr>\n",
       "    <tr>\n",
       "      <th>11</th>\n",
       "      <td>682</td>\n",
       "      <td>11</td>\n",
       "      <td>71.41</td>\n",
       "      <td>word, sequence, recognition, training, state, context, speech, character, hmm, letter, language, frame, string, symbol, speaker, recurrent, trained, speech_recognition, phoneme, experiment</td>\n",
       "      <td>Connected Letter Recognition with a \\nMulti-State Time Delay Neural Network \\nHermann Hild and Alex Waibel \\nSchool of Computer Science \\nCarnegie Mellon University \\nPittsburgh, PA 15213-3891, US...</td>\n",
       "    </tr>\n",
       "    <tr>\n",
       "      <th>12</th>\n",
       "      <td>1576</td>\n",
       "      <td>12</td>\n",
       "      <td>78.10</td>\n",
       "      <td>state, control, action, step, policy, task, trajectory, environment, controller, reinforcement_learning, goal, robot, optimal, current, reward, move, learned, trial, path, td</td>\n",
       "      <td>The effect of eligibility traces on finding optimal memoryless \\npolicies in partially observable Markov decision processes \\nJohn Loch \\nDepartment of Computer Science \\nUniversity of Colorado \\n...</td>\n",
       "    </tr>\n",
       "    <tr>\n",
       "      <th>13</th>\n",
       "      <td>1437</td>\n",
       "      <td>13</td>\n",
       "      <td>60.21</td>\n",
       "      <td>feature, image, vector, representation, object, cluster, distance, transformation, face, structure, view, clustering, recognition, part, dimension, mapping, similarity, dimensional, digit, pca</td>\n",
       "      <td>Mapping a manifold of perceptual observations \\nJoshua B. Tenenbaum \\nDepartment of Brain and Cognitive Sciences \\nMassachusetts Institute of Technology, Cambridge, MA 02139 \\nj bt @psyche. mi t. ...</td>\n",
       "    </tr>\n",
       "    <tr>\n",
       "      <th>14</th>\n",
       "      <td>527</td>\n",
       "      <td>14</td>\n",
       "      <td>82.70</td>\n",
       "      <td>bound, theorem, class, size, theory, probability, approximation, threshold, complexity, defined, proof, linear, loss, polynomial, hypothesis, kernel, assume, definition, concept, xi</td>\n",
       "      <td>Polynomial Uniform Convergence of \\nRelative Frequencies to Probabilities \\nAlberto Bertoni, Paola Campadelll;' Anna Morpurgo, Sandra Panlzza \\nDipartimento di Scienze dell'Informazione \\nUniversi...</td>\n",
       "    </tr>\n",
       "    <tr>\n",
       "      <th>15</th>\n",
       "      <td>1035</td>\n",
       "      <td>15</td>\n",
       "      <td>75.07</td>\n",
       "      <td>training, prediction, noise, average, training_set, test, estimate, regression, optimal, variance, ensemble, linear, curve, effect, bias, expected, generalization_error, generalization, selection,...</td>\n",
       "      <td>Learning with ensembles: How \\nover-fitting can be useful \\nPeter Sollich \\nDepartment of Physics \\nUniversity of Edinburgh, U.K. \\nP. Solliched. ac.uk \\nAnders Krogh* \\nNORDITA, Blegdamsvej 17 \\...</td>\n",
       "    </tr>\n",
       "  </tbody>\n",
       "</table>\n",
       "</div>"
      ],
      "text/plain": [
       "                Document  ...                                                                                                                                                                                                    Paper\n",
       "Dominant Topic            ...                                                                                                                                                                                                         \n",
       "1                   1288  ...  Extended ICA Removes Artifacts from \\nElectroencephalographic Recordings \\nTzyy-Ping Jung , Colin Humphries , Te-Won Lee , Scott Makeig 2'3, \\nMartin J. McKeown , Vicente Iragui 3, Terrence J....\n",
       "2                    416  ...  Further Studies of a Model for the \\nDevelopment and Regeneration \\nof Eye-Brain Maps \\nJ.D. Cowan & A.E. Friedman \\nDepartment of Mathematics, Committee on \\nNeurobiology, and Brain Research Inst...\n",
       "3                   1100  ...  A \\nNeural Network Model of 3-D \\nLightness Perception \\nLuiz Pessoa \\nFederal Univ. of Rio de Janeiro \\nRio de Janeiro, RJ, Brazil \\npessoa@cos.ufrj.br \\nWilliam D. Ross \\nBoston University \\nBos...\n",
       "4                   1272  ...  A Convergence Proof for the Softassign \\nQuadratic Assignment Algorithm \\nAnand Rangarajan \\nDepartment of Diagnostic Radiology \\nYale University School of Medicine \\nNew Haven, CT 06520-8042 \\ne-...\n",
       "5                    571  ...  Network activity determines \\nspatio-temporal integration in single cells \\njvind Bernander, Christof Koch * \\nComputation and Neural Systems Program, \\nCalifornia Institute of Technology, \\nPasa...\n",
       "6                    180  ...  568 \\nDYNAMICS OF ANALOG NEURAL \\nNETWORKS WITH TIME DELAY \\nC.M. Marcus and R.M. Westervelt \\nDivision of Applied Sciences and Department of Physics \\nHarvard University, Cambridge Massachusetts ...\n",
       "7                    314  ...  A Comparative Study of the Practical \\nCharacteristics of Neural Network and \\nConventional Pattern Classifiers \\nKenney Ng \\nBBN Systems and Technologies \\nCambridge, MA 02138 \\nAbstract \\nRichar...\n",
       "8                   1607  ...  The Infinite Gaussian Mixture Model \\nCarl Edward Rasmussen \\nDepartment of Mathematical Modelling \\nTechnical University of Denmark \\nBuilding 321, DK-2800 Kongens Lyngby, Denmark \\ncarl@imm.dtu....\n",
       "9                    776  ...  Analyzing Cross Connected Networks \\nThomas R. Shultz \\nDepartment of Psychology & \\nMcGill Cognitive Science Centre \\nMcGill University \\nMontr6al, Qu6bec, Canada H3A lB 1 \\nsh ultz@ psych. mcgil...\n",
       "10                   962  ...  Single Transistor Learning Synapses \\nPaul Hasler, Chris Diorio, Bradley A. Minch, Carver Mead \\nCalifornia Institute of Technology \\nPasadena, CA 91125 \\n(SlS) 95- 2S12 \\npaul@hobiecat.pcmp.calt...\n",
       "11                   682  ...  Connected Letter Recognition with a \\nMulti-State Time Delay Neural Network \\nHermann Hild and Alex Waibel \\nSchool of Computer Science \\nCarnegie Mellon University \\nPittsburgh, PA 15213-3891, US...\n",
       "12                  1576  ...  The effect of eligibility traces on finding optimal memoryless \\npolicies in partially observable Markov decision processes \\nJohn Loch \\nDepartment of Computer Science \\nUniversity of Colorado \\n...\n",
       "13                  1437  ...  Mapping a manifold of perceptual observations \\nJoshua B. Tenenbaum \\nDepartment of Brain and Cognitive Sciences \\nMassachusetts Institute of Technology, Cambridge, MA 02139 \\nj bt @psyche. mi t. ...\n",
       "14                   527  ...  Polynomial Uniform Convergence of \\nRelative Frequencies to Probabilities \\nAlberto Bertoni, Paola Campadelll;' Anna Morpurgo, Sandra Panlzza \\nDipartimento di Scienze dell'Informazione \\nUniversi...\n",
       "15                  1035  ...  Learning with ensembles: How \\nover-fitting can be useful \\nPeter Sollich \\nDepartment of Physics \\nUniversity of Edinburgh, U.K. \\nP. Solliched. ac.uk \\nAnders Krogh* \\nNORDITA, Blegdamsvej 17 \\...\n",
       "\n",
       "[15 rows x 5 columns]"
      ]
     },
     "execution_count": 47,
     "metadata": {
      "tags": []
     },
     "output_type": "execute_result"
    }
   ],
   "source": [
    "corpus_topic_df.groupby('Dominant Topic').apply(lambda topic_set: (topic_set.sort_values(by=['Contribution %'], \n",
    "                                                                                         ascending=False)\n",
    "                                                                             .iloc[0]))"
   ]
  },
  {
   "cell_type": "code",
   "execution_count": 48,
   "metadata": {
    "colab": {
     "base_uri": "https://localhost:8080/",
     "height": 34
    },
    "colab_type": "code",
    "id": "I0QF6K53v4zN",
    "outputId": "b31f5260-5d30-4aaa-8139-d58304e7b887"
   },
   "outputs": [
    {
     "data": {
      "text/plain": [
       "[661, 716, 504]"
      ]
     },
     "execution_count": 48,
     "metadata": {
      "tags": []
     },
     "output_type": "execute_result"
    }
   ],
   "source": [
    "sample_paper_patterns = ['Feudal Reinforcement Learning \\nPeter', 'Illumination-Invariant Face Recognition with a', 'Improved Hidden Markov Model Speech Recognition']\n",
    "sample_paper_idxs = [idx for pattern in sample_paper_patterns \n",
    "                            for idx, content in enumerate(papers) \n",
    "                                if pattern in content]\n",
    "sample_paper_idxs"
   ]
  },
  {
   "cell_type": "code",
   "execution_count": 49,
   "metadata": {
    "colab": {
     "base_uri": "https://localhost:8080/",
     "height": 254
    },
    "colab_type": "code",
    "id": "d7JrXUbsw0bt",
    "outputId": "ab58c8b9-7a7d-4555-a000-c4bc4d00287f"
   },
   "outputs": [
    {
     "data": {
      "text/html": [
       "<div>\n",
       "<style scoped>\n",
       "    .dataframe tbody tr th:only-of-type {\n",
       "        vertical-align: middle;\n",
       "    }\n",
       "\n",
       "    .dataframe tbody tr th {\n",
       "        vertical-align: top;\n",
       "    }\n",
       "\n",
       "    .dataframe thead th {\n",
       "        text-align: right;\n",
       "    }\n",
       "</style>\n",
       "<table border=\"1\" class=\"dataframe\">\n",
       "  <thead>\n",
       "    <tr style=\"text-align: right;\">\n",
       "      <th></th>\n",
       "      <th>Document</th>\n",
       "      <th>Dominant Topic</th>\n",
       "      <th>Contribution %</th>\n",
       "      <th>Topic Desc</th>\n",
       "      <th>Paper</th>\n",
       "    </tr>\n",
       "  </thead>\n",
       "  <tbody>\n",
       "    <tr>\n",
       "      <th>504</th>\n",
       "      <td>504</td>\n",
       "      <td>11</td>\n",
       "      <td>42.33</td>\n",
       "      <td>word, sequence, recognition, training, state, context, speech, character, hmm, letter, language, frame, string, symbol, speaker, recurrent, trained, speech_recognition, phoneme, experiment</td>\n",
       "      <td>Improved Hidden Markov Model \\nSpeech Recognition Using \\nRadial Basis Function Networks \\nElliot Singer and Richard P. Lippmann \\nLincoln Laboratory, MIT \\nLexington, MA 02173-9108, USA \\nAbstrac...</td>\n",
       "    </tr>\n",
       "    <tr>\n",
       "      <th>661</th>\n",
       "      <td>661</td>\n",
       "      <td>12</td>\n",
       "      <td>58.21</td>\n",
       "      <td>state, control, action, step, policy, task, trajectory, environment, controller, reinforcement_learning, goal, robot, optimal, current, reward, move, learned, trial, path, td</td>\n",
       "      <td>Feudal Reinforcement Learning \\nPeter Dayan \\nCNL \\nThe Salk Institute \\nPO Box 85800 \\nSan Diego CA 92186-5800, USA \\ndayanhelmholtz. sdsc. edu \\nGeoffrey E Hinton \\nDepartment of Computer Scien...</td>\n",
       "    </tr>\n",
       "    <tr>\n",
       "      <th>716</th>\n",
       "      <td>716</td>\n",
       "      <td>13</td>\n",
       "      <td>37.79</td>\n",
       "      <td>feature, image, vector, representation, object, cluster, distance, transformation, face, structure, view, clustering, recognition, part, dimension, mapping, similarity, dimensional, digit, pca</td>\n",
       "      <td>Illumination-Invariant Face Recognition with a \\nContrast Sensitive Silicon Retina \\nJoachim M. Buhmann \\nRheinische Friedrich-Wilhelms-Universitfit \\nInstitut ftir Informatik II, R6merstrage 164 ...</td>\n",
       "    </tr>\n",
       "  </tbody>\n",
       "</table>\n",
       "</div>"
      ],
      "text/plain": [
       "     Document  ...                                                                                                                                                                                                    Paper\n",
       "504       504  ...  Improved Hidden Markov Model \\nSpeech Recognition Using \\nRadial Basis Function Networks \\nElliot Singer and Richard P. Lippmann \\nLincoln Laboratory, MIT \\nLexington, MA 02173-9108, USA \\nAbstrac...\n",
       "661       661  ...  Feudal Reinforcement Learning \\nPeter Dayan \\nCNL \\nThe Salk Institute \\nPO Box 85800 \\nSan Diego CA 92186-5800, USA \\ndayanhelmholtz. sdsc. edu \\nGeoffrey E Hinton \\nDepartment of Computer Scien...\n",
       "716       716  ...  Illumination-Invariant Face Recognition with a \\nContrast Sensitive Silicon Retina \\nJoachim M. Buhmann \\nRheinische Friedrich-Wilhelms-Universitfit \\nInstitut ftir Informatik II, R6merstrage 164 ...\n",
       "\n",
       "[3 rows x 5 columns]"
      ]
     },
     "execution_count": 49,
     "metadata": {
      "tags": []
     },
     "output_type": "execute_result"
    }
   ],
   "source": [
    "pd.set_option('display.max_colwidth', 200)\n",
    "(corpus_topic_df[corpus_topic_df['Document']\n",
    "                 .isin(sample_paper_idxs)])"
   ]
  }
 ],
 "metadata": {
  "colab": {
   "collapsed_sections": [],
   "name": "07-NLP Applications - Topic Modeling.ipynb",
   "provenance": []
  },
  "kernelspec": {
   "display_name": "Python 3",
   "language": "python",
   "name": "python3"
  },
  "language_info": {
   "codemirror_mode": {
    "name": "ipython",
    "version": 3
   },
   "file_extension": ".py",
   "mimetype": "text/x-python",
   "name": "python",
   "nbconvert_exporter": "python",
   "pygments_lexer": "ipython3",
   "version": "3.7.6"
  }
 },
 "nbformat": 4,
 "nbformat_minor": 1
}
