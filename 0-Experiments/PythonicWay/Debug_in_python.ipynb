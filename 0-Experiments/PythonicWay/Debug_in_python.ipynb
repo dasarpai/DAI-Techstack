{
 "cells": [
  {
   "cell_type": "code",
   "execution_count": null,
   "metadata": {},
   "outputs": [],
   "source": []
  },
  {
   "cell_type": "code",
   "execution_count": null,
   "metadata": {},
   "outputs": [],
   "source": [
    "import os\n",
    "\n",
    "\n",
    "def get_path(filename):\n",
    "    \"\"\"Return file's path or empty string if no path.\"\"\"\n",
    "    head, tail = os.path.split(filename)\n",
    "    import pdb; pdb.set_trace()\n",
    "    return tail\n",
    "\n",
    "\n",
    "filename = \"foo.png\"\n",
    "print(f'path = {get_path(filename)}')"
   ]
  },
  {
   "cell_type": "code",
   "execution_count": 7,
   "metadata": {},
   "outputs": [],
   "source": [
    "import pdb"
   ]
  },
  {
   "cell_type": "code",
   "execution_count": 13,
   "metadata": {},
   "outputs": [
    {
     "name": "stdout",
     "output_type": "stream",
     "text": [
      "--Return--\n",
      "> <ipython-input-13-1616621924f4>(1)<module>()->None\n",
      "-> pdb.set_trace()\n",
      "(Pdb) ?\n",
      "\n",
      "Documented commands (type help <topic>):\n",
      "========================================\n",
      "EOF    c          d        h         list      q        rv       undisplay\n",
      "a      cl         debug    help      ll        quit     s        unt      \n",
      "alias  clear      disable  ignore    longlist  r        source   until    \n",
      "args   commands   display  interact  n         restart  step     up       \n",
      "b      condition  down     j         next      return   tbreak   w        \n",
      "break  cont       enable   jump      p         retval   u        whatis   \n",
      "bt     continue   exit     l         pp        run      unalias  where    \n",
      "\n",
      "Miscellaneous help topics:\n",
      "==========================\n",
      "exec  pdb\n",
      "\n",
      "(Pdb) a\n",
      "(Pdb) alias\n",
      "(Pdb) args\n",
      "(Pdb) b\n",
      "(Pdb) bt\n",
      "  d:\\users\\admin\\anaconda3\\lib\\runpy.py(193)_run_module_as_main()\n",
      "-> \"__main__\", mod_spec)\n",
      "  d:\\users\\admin\\anaconda3\\lib\\runpy.py(85)_run_code()\n",
      "-> exec(code, run_globals)\n",
      "  d:\\users\\admin\\anaconda3\\lib\\site-packages\\ipykernel_launcher.py(16)<module>()\n",
      "-> app.launch_new_instance()\n",
      "  d:\\users\\admin\\anaconda3\\lib\\site-packages\\traitlets\\config\\application.py(658)launch_instance()\n",
      "-> app.start()\n",
      "  d:\\users\\admin\\anaconda3\\lib\\site-packages\\ipykernel\\kernelapp.py(505)start()\n",
      "-> self.io_loop.start()\n",
      "  d:\\users\\admin\\anaconda3\\lib\\site-packages\\tornado\\platform\\asyncio.py(132)start()\n",
      "-> self.asyncio_loop.run_forever()\n",
      "  d:\\users\\admin\\anaconda3\\lib\\asyncio\\base_events.py(528)run_forever()\n",
      "-> self._run_once()\n",
      "  d:\\users\\admin\\anaconda3\\lib\\asyncio\\base_events.py(1764)_run_once()\n",
      "-> handle._run()\n",
      "  d:\\users\\admin\\anaconda3\\lib\\asyncio\\events.py(88)_run()\n",
      "-> self._context.run(self._callback, *self._args)\n",
      "  d:\\users\\admin\\anaconda3\\lib\\site-packages\\tornado\\ioloop.py(758)_run_callback()\n",
      "-> ret = callback()\n",
      "  d:\\users\\admin\\anaconda3\\lib\\site-packages\\tornado\\stack_context.py(300)null_wrapper()\n",
      "-> return fn(*args, **kwargs)\n",
      "  d:\\users\\admin\\anaconda3\\lib\\site-packages\\tornado\\gen.py(1233)inner()\n",
      "-> self.run()\n",
      "  d:\\users\\admin\\anaconda3\\lib\\site-packages\\tornado\\gen.py(1147)run()\n",
      "-> yielded = self.gen.send(value)\n",
      "  d:\\users\\admin\\anaconda3\\lib\\site-packages\\ipykernel\\kernelbase.py(357)process_one()\n",
      "-> yield gen.maybe_future(dispatch(*args))\n",
      "  d:\\users\\admin\\anaconda3\\lib\\site-packages\\tornado\\gen.py(326)wrapper()\n",
      "-> yielded = next(result)\n",
      "  d:\\users\\admin\\anaconda3\\lib\\site-packages\\ipykernel\\kernelbase.py(267)dispatch_shell()\n",
      "-> yield gen.maybe_future(handler(stream, idents, msg))\n",
      "  d:\\users\\admin\\anaconda3\\lib\\site-packages\\tornado\\gen.py(326)wrapper()\n",
      "-> yielded = next(result)\n",
      "  d:\\users\\admin\\anaconda3\\lib\\site-packages\\ipykernel\\kernelbase.py(534)execute_request()\n",
      "-> user_expressions, allow_stdin,\n",
      "  d:\\users\\admin\\anaconda3\\lib\\site-packages\\tornado\\gen.py(326)wrapper()\n",
      "-> yielded = next(result)\n",
      "  d:\\users\\admin\\anaconda3\\lib\\site-packages\\ipykernel\\ipkernel.py(294)do_execute()\n",
      "-> res = shell.run_cell(code, store_history=store_history, silent=silent)\n",
      "  d:\\users\\admin\\anaconda3\\lib\\site-packages\\ipykernel\\zmqshell.py(536)run_cell()\n",
      "-> return super(ZMQInteractiveShell, self).run_cell(*args, **kwargs)\n",
      "  d:\\users\\admin\\anaconda3\\lib\\site-packages\\ipython\\core\\interactiveshell.py(2819)run_cell()\n",
      "-> raw_cell, store_history, silent, shell_futures)\n",
      "  d:\\users\\admin\\anaconda3\\lib\\site-packages\\ipython\\core\\interactiveshell.py(2845)_run_cell()\n",
      "-> return runner(coro)\n",
      "  d:\\users\\admin\\anaconda3\\lib\\site-packages\\ipython\\core\\async_helpers.py(67)_pseudo_sync_runner()\n",
      "-> coro.send(None)\n",
      "  d:\\users\\admin\\anaconda3\\lib\\site-packages\\ipython\\core\\interactiveshell.py(3020)run_cell_async()\n",
      "-> interactivity=interactivity, compiler=compiler, result=result)\n",
      "  d:\\users\\admin\\anaconda3\\lib\\site-packages\\ipython\\core\\interactiveshell.py(3185)run_ast_nodes()\n",
      "-> if (yield from self.run_code(code, result)):\n",
      "  d:\\users\\admin\\anaconda3\\lib\\site-packages\\ipython\\core\\interactiveshell.py(3267)run_code()\n",
      "-> exec(code_obj, self.user_global_ns, self.user_ns)\n",
      "> <ipython-input-13-1616621924f4>(1)<module>()->None\n",
      "-> pdb.set_trace()\n",
      "(Pdb) h\n",
      "\n",
      "Documented commands (type help <topic>):\n",
      "========================================\n",
      "EOF    c          d        h         list      q        rv       undisplay\n",
      "a      cl         debug    help      ll        quit     s        unt      \n",
      "alias  clear      disable  ignore    longlist  r        source   until    \n",
      "args   commands   display  interact  n         restart  step     up       \n",
      "b      condition  down     j         next      return   tbreak   w        \n",
      "break  cont       enable   jump      p         retval   u        whatis   \n",
      "bt     continue   exit     l         pp        run      unalias  where    \n",
      "\n",
      "Miscellaneous help topics:\n",
      "==========================\n",
      "exec  pdb\n",
      "\n",
      "(Pdb) d\n",
      "*** Newest frame\n",
      "(Pdb) j\n",
      "*** The 'jump' command requires a line number\n",
      "(Pdb) jump\n",
      "*** The 'jump' command requires a line number\n",
      "(Pdb) l\n",
      "  1  ->\tpdb.set_trace()\n",
      "  2  \tdef fact(n):\n",
      "  3  \t    if n==1:\n",
      "  4  \t        return 1\n",
      "  5  \t    else:\n",
      "  6  \t        return n*fact(n-1)\n",
      "  7  \t\n",
      "  8  \tfact(5)\n",
      "  9  \t\n",
      "[EOF]\n",
      "(Pdb) h\n",
      "\n",
      "Documented commands (type help <topic>):\n",
      "========================================\n",
      "EOF    c          d        h         list      q        rv       undisplay\n",
      "a      cl         debug    help      ll        quit     s        unt      \n",
      "alias  clear      disable  ignore    longlist  r        source   until    \n",
      "args   commands   display  interact  n         restart  step     up       \n",
      "b      condition  down     j         next      return   tbreak   w        \n",
      "break  cont       enable   jump      p         retval   u        whatis   \n",
      "bt     continue   exit     l         pp        run      unalias  where    \n",
      "\n",
      "Miscellaneous help topics:\n",
      "==========================\n",
      "exec  pdb\n",
      "\n",
      "(Pdb) l\n",
      "[EOF]\n",
      "(Pdb) q\n",
      "--KeyboardInterrupt--\n",
      "(Pdb) e\n",
      "*** NameError: name 'e' is not defined\n",
      "(Pdb) exit\n"
     ]
    },
    {
     "ename": "BdbQuit",
     "evalue": "",
     "output_type": "error",
     "traceback": [
      "\u001b[1;31m---------------------------------------------------------------------------\u001b[0m",
      "\u001b[1;31mBdbQuit\u001b[0m                                   Traceback (most recent call last)",
      "\u001b[1;32m<ipython-input-13-1616621924f4>\u001b[0m in \u001b[0;36m<module>\u001b[1;34m\u001b[0m\n\u001b[1;32m----> 1\u001b[1;33m \u001b[0mpdb\u001b[0m\u001b[1;33m.\u001b[0m\u001b[0mset_trace\u001b[0m\u001b[1;33m(\u001b[0m\u001b[1;33m)\u001b[0m\u001b[1;33m\u001b[0m\u001b[1;33m\u001b[0m\u001b[0m\n\u001b[0m\u001b[0;32m      2\u001b[0m \u001b[1;32mdef\u001b[0m \u001b[0mfact\u001b[0m\u001b[1;33m(\u001b[0m\u001b[0mn\u001b[0m\u001b[1;33m)\u001b[0m\u001b[1;33m:\u001b[0m\u001b[1;33m\u001b[0m\u001b[1;33m\u001b[0m\u001b[0m\n\u001b[0;32m      3\u001b[0m     \u001b[1;32mif\u001b[0m \u001b[0mn\u001b[0m\u001b[1;33m==\u001b[0m\u001b[1;36m1\u001b[0m\u001b[1;33m:\u001b[0m\u001b[1;33m\u001b[0m\u001b[1;33m\u001b[0m\u001b[0m\n\u001b[0;32m      4\u001b[0m         \u001b[1;32mreturn\u001b[0m \u001b[1;36m1\u001b[0m\u001b[1;33m\u001b[0m\u001b[1;33m\u001b[0m\u001b[0m\n\u001b[0;32m      5\u001b[0m     \u001b[1;32melse\u001b[0m\u001b[1;33m:\u001b[0m\u001b[1;33m\u001b[0m\u001b[1;33m\u001b[0m\u001b[0m\n",
      "\u001b[1;32mD:\\Users\\admin\\Anaconda3\\lib\\bdb.py\u001b[0m in \u001b[0;36mtrace_dispatch\u001b[1;34m(self, frame, event, arg)\u001b[0m\n\u001b[0;32m     90\u001b[0m             \u001b[1;32mreturn\u001b[0m \u001b[0mself\u001b[0m\u001b[1;33m.\u001b[0m\u001b[0mdispatch_call\u001b[0m\u001b[1;33m(\u001b[0m\u001b[0mframe\u001b[0m\u001b[1;33m,\u001b[0m \u001b[0marg\u001b[0m\u001b[1;33m)\u001b[0m\u001b[1;33m\u001b[0m\u001b[1;33m\u001b[0m\u001b[0m\n\u001b[0;32m     91\u001b[0m         \u001b[1;32mif\u001b[0m \u001b[0mevent\u001b[0m \u001b[1;33m==\u001b[0m \u001b[1;34m'return'\u001b[0m\u001b[1;33m:\u001b[0m\u001b[1;33m\u001b[0m\u001b[1;33m\u001b[0m\u001b[0m\n\u001b[1;32m---> 92\u001b[1;33m             \u001b[1;32mreturn\u001b[0m \u001b[0mself\u001b[0m\u001b[1;33m.\u001b[0m\u001b[0mdispatch_return\u001b[0m\u001b[1;33m(\u001b[0m\u001b[0mframe\u001b[0m\u001b[1;33m,\u001b[0m \u001b[0marg\u001b[0m\u001b[1;33m)\u001b[0m\u001b[1;33m\u001b[0m\u001b[1;33m\u001b[0m\u001b[0m\n\u001b[0m\u001b[0;32m     93\u001b[0m         \u001b[1;32mif\u001b[0m \u001b[0mevent\u001b[0m \u001b[1;33m==\u001b[0m \u001b[1;34m'exception'\u001b[0m\u001b[1;33m:\u001b[0m\u001b[1;33m\u001b[0m\u001b[1;33m\u001b[0m\u001b[0m\n\u001b[0;32m     94\u001b[0m             \u001b[1;32mreturn\u001b[0m \u001b[0mself\u001b[0m\u001b[1;33m.\u001b[0m\u001b[0mdispatch_exception\u001b[0m\u001b[1;33m(\u001b[0m\u001b[0mframe\u001b[0m\u001b[1;33m,\u001b[0m \u001b[0marg\u001b[0m\u001b[1;33m)\u001b[0m\u001b[1;33m\u001b[0m\u001b[1;33m\u001b[0m\u001b[0m\n",
      "\u001b[1;32mD:\\Users\\admin\\Anaconda3\\lib\\bdb.py\u001b[0m in \u001b[0;36mdispatch_return\u001b[1;34m(self, frame, arg)\u001b[0m\n\u001b[0;32m    152\u001b[0m             \u001b[1;32mfinally\u001b[0m\u001b[1;33m:\u001b[0m\u001b[1;33m\u001b[0m\u001b[1;33m\u001b[0m\u001b[0m\n\u001b[0;32m    153\u001b[0m                 \u001b[0mself\u001b[0m\u001b[1;33m.\u001b[0m\u001b[0mframe_returning\u001b[0m \u001b[1;33m=\u001b[0m \u001b[1;32mNone\u001b[0m\u001b[1;33m\u001b[0m\u001b[1;33m\u001b[0m\u001b[0m\n\u001b[1;32m--> 154\u001b[1;33m             \u001b[1;32mif\u001b[0m \u001b[0mself\u001b[0m\u001b[1;33m.\u001b[0m\u001b[0mquitting\u001b[0m\u001b[1;33m:\u001b[0m \u001b[1;32mraise\u001b[0m \u001b[0mBdbQuit\u001b[0m\u001b[1;33m\u001b[0m\u001b[1;33m\u001b[0m\u001b[0m\n\u001b[0m\u001b[0;32m    155\u001b[0m             \u001b[1;31m# The user issued a 'next' or 'until' command.\u001b[0m\u001b[1;33m\u001b[0m\u001b[1;33m\u001b[0m\u001b[1;33m\u001b[0m\u001b[0m\n\u001b[0;32m    156\u001b[0m             \u001b[1;32mif\u001b[0m \u001b[0mself\u001b[0m\u001b[1;33m.\u001b[0m\u001b[0mstopframe\u001b[0m \u001b[1;32mis\u001b[0m \u001b[0mframe\u001b[0m \u001b[1;32mand\u001b[0m \u001b[0mself\u001b[0m\u001b[1;33m.\u001b[0m\u001b[0mstoplineno\u001b[0m \u001b[1;33m!=\u001b[0m \u001b[1;33m-\u001b[0m\u001b[1;36m1\u001b[0m\u001b[1;33m:\u001b[0m\u001b[1;33m\u001b[0m\u001b[1;33m\u001b[0m\u001b[0m\n",
      "\u001b[1;31mBdbQuit\u001b[0m: "
     ]
    }
   ],
   "source": [
    "pdb.\n",
    "def fact(n):\n",
    "    if n==1:\n",
    "        return 1\n",
    "    else:\n",
    "        return n*fact(n-1)\n",
    "    \n",
    "fact(5)\n",
    "    "
   ]
  },
  {
   "cell_type": "code",
   "execution_count": 9,
   "metadata": {},
   "outputs": [],
   "source": [
    "import numpy as np"
   ]
  },
  {
   "cell_type": "code",
   "execution_count": 10,
   "metadata": {},
   "outputs": [],
   "source": [
    "n = np.random.random(10)"
   ]
  },
  {
   "cell_type": "code",
   "execution_count": 11,
   "metadata": {},
   "outputs": [
    {
     "data": {
      "text/plain": [
       "<function pdb.set_trace(*, header=None)>"
      ]
     },
     "execution_count": 11,
     "metadata": {},
     "output_type": "execute_result"
    }
   ],
   "source": [
    "pdb.set_trace"
   ]
  },
  {
   "cell_type": "code",
   "execution_count": null,
   "metadata": {},
   "outputs": [],
   "source": []
  }
 ],
 "metadata": {
  "kernelspec": {
   "display_name": "Python 3",
   "language": "python",
   "name": "python3"
  },
  "language_info": {
   "codemirror_mode": {
    "name": "ipython",
    "version": 3
   },
   "file_extension": ".py",
   "mimetype": "text/x-python",
   "name": "python",
   "nbconvert_exporter": "python",
   "pygments_lexer": "ipython3",
   "version": "3.7.1"
  }
 },
 "nbformat": 4,
 "nbformat_minor": 2
}
