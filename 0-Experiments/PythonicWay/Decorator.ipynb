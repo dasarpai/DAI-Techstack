{
 "cells": [
  {
   "cell_type": "markdown",
   "metadata": {},
   "source": [
    "# function as variable"
   ]
  },
  {
   "cell_type": "code",
   "execution_count": null,
   "metadata": {},
   "outputs": [],
   "source": [
    "def greet(x):\n",
    "    print('Hello '+x)\n",
    "\n",
    "#We know this. This is normal way\n",
    "greet(\"Hari\")"
   ]
  },
  {
   "cell_type": "code",
   "execution_count": null,
   "metadata": {},
   "outputs": [],
   "source": [
    "#Making Function as variable. It is pythonic way.\n",
    "g=greet\n",
    "g('Friend')"
   ]
  },
  {
   "cell_type": "code",
   "execution_count": null,
   "metadata": {},
   "outputs": [],
   "source": [
    "#If you delete greet\n",
    "del greet\n",
    "\n",
    "#then g will work\n",
    "g('Friend')\n",
    "\n",
    "#but greet will not work\n",
    "greet(\"Hari\")"
   ]
  },
  {
   "cell_type": "markdown",
   "metadata": {},
   "source": [
    "# Function as an argument"
   ]
  },
  {
   "cell_type": "code",
   "execution_count": null,
   "metadata": {},
   "outputs": [],
   "source": [
    "def inc(x):\n",
    "    return x+1\n",
    "\n",
    "def dec(x):\n",
    "    return x-1\n",
    "\n",
    "def operate(func, x):\n",
    "    r = func(x)\n",
    "    return r\n",
    "\n",
    "#inc function is passed a parameter/argument\n",
    "print ( operate(inc, 3) )\n",
    "\n",
    "#dec function is passed a parameter/argument\n",
    "print ( operate(dec, 15))"
   ]
  },
  {
   "cell_type": "markdown",
   "metadata": {},
   "source": [
    "# function as return"
   ]
  },
  {
   "cell_type": "code",
   "execution_count": null,
   "metadata": {},
   "outputs": [],
   "source": [
    "#return of this function is another function which is nested inside it. is_returned is also called closure function.\n",
    "def is_called():\n",
    "    def is_returned():\n",
    "        print(\"Hey Hari\")\n",
    "        \n",
    "    return is_returned\n",
    "\n",
    "func_var = is_called()\n",
    "func_var()\n",
    "\n",
    "print (type(func_var))"
   ]
  },
  {
   "cell_type": "markdown",
   "metadata": {},
   "source": [
    "# Decorator"
   ]
  },
  {
   "cell_type": "code",
   "execution_count": null,
   "metadata": {},
   "outputs": [],
   "source": [
    "def make_pretty(func):\n",
    "    def inner():\n",
    "        print (\"I am decorated\")\n",
    "        func()\n",
    "    return inner\n",
    "\n",
    "#Decorator Function\n",
    "def ordinary():\n",
    "    print (\"I am ordinary\")\n",
    "    \n",
    "print (type(make_pretty))\n",
    "print (type(ordinary))"
   ]
  },
  {
   "cell_type": "code",
   "execution_count": null,
   "metadata": {},
   "outputs": [],
   "source": [
    "#Generally old function is decorated and get reassigned like this. ordinary = make_pretty(ordinary)\n",
    "ordinary = make_pretty(ordinary)\n",
    "ordinary()"
   ]
  },
  {
   "cell_type": "code",
   "execution_count": null,
   "metadata": {},
   "outputs": [],
   "source": [
    "#Not ordinary is still a function\n",
    "print(ordinary)"
   ]
  },
  {
   "cell_type": "markdown",
   "metadata": {},
   "source": [
    "### A better of doing above decoration work in python is as below."
   ]
  },
  {
   "cell_type": "code",
   "execution_count": null,
   "metadata": {},
   "outputs": [],
   "source": [
    "def make_pretty(func):\n",
    "    def inner():\n",
    "        print (\"I am decorated\")\n",
    "        func()\n",
    "    return inner\n",
    "\n",
    "@make_pretty\n",
    "def ordinary():\n",
    "    print (\"I am ordinary\")\n",
    "    \n",
    "ordinary()"
   ]
  },
  {
   "cell_type": "code",
   "execution_count": null,
   "metadata": {},
   "outputs": [],
   "source": [
    "#Ordinary is not a function but a decorator. Therefore type is NoneType\n",
    "type(ordinary())"
   ]
  },
  {
   "cell_type": "markdown",
   "metadata": {},
   "source": [
    "### Decorator Use- Example 2"
   ]
  },
  {
   "cell_type": "code",
   "execution_count": null,
   "metadata": {},
   "outputs": [],
   "source": [
    "def smart_divide(func):\n",
    "    def inner(a, b):\n",
    "        print(\"I am going to divide\", a, \"and\", b)\n",
    "        if b == 0:\n",
    "            print(\"Whoops! cannot divide\")\n",
    "            return\n",
    "\n",
    "        return func(a, b)\n",
    "    return inner\n",
    "\n",
    "\n",
    "@smart_divide\n",
    "def divide(a, b):\n",
    "    print(a/b)\n",
    "    \n",
    "divide(5,2)\n",
    "print (\"*********\")\n",
    "divide(5,0)"
   ]
  },
  {
   "cell_type": "markdown",
   "metadata": {},
   "source": [
    "### Decorator Example 3"
   ]
  },
  {
   "cell_type": "code",
   "execution_count": null,
   "metadata": {},
   "outputs": [],
   "source": [
    "def star(func):\n",
    "    def inner(*args, **kwargs):\n",
    "        print(\"*\" * 30)\n",
    "        func(*args, **kwargs)\n",
    "        print(\"*\" * 30)\n",
    "    return inner\n",
    "\n",
    "\n",
    "def percent(func):\n",
    "    def inner(*args, **kwargs):\n",
    "        print(\"%\" * 30)\n",
    "        func(*args, **kwargs)\n",
    "        print(\"%\" * 30)\n",
    "    return inner\n",
    "\n",
    "\n",
    "@star\n",
    "@percent\n",
    "def printer(msg):\n",
    "    print(msg)\n",
    "\n",
    "\n",
    "printer(\"Hello\")"
   ]
  },
  {
   "cell_type": "code",
   "execution_count": null,
   "metadata": {},
   "outputs": [],
   "source": [
    "@percent\n",
    "@star\n",
    "def printer(msg):\n",
    "    print(msg)\n",
    "\n",
    "\n",
    "printer(\"Hello\")"
   ]
  },
  {
   "cell_type": "code",
   "execution_count": null,
   "metadata": {},
   "outputs": [],
   "source": [
    "def f(x):\n",
    "    def f1(a, b):\n",
    "        print(f\"Hello you are deviding {a} by {b}\")\n",
    "        if b==0:\n",
    "            print(\"Cannot Divide this\")\n",
    "            return\n",
    "        #return f(a, b)\n",
    "    return f1\n",
    "\n",
    "@f\n",
    "def f(a, b):\n",
    "    return a%b\n",
    "\n",
    "f(4,1)"
   ]
  },
  {
   "cell_type": "code",
   "execution_count": null,
   "metadata": {},
   "outputs": [],
   "source": []
  },
  {
   "cell_type": "code",
   "execution_count": 1,
   "metadata": {},
   "outputs": [
    {
     "name": "stdout",
     "output_type": "stream",
     "text": [
      "my name is func4\n",
      "my name is func3\n",
      "my name is func2\n",
      "my name is func1\n"
     ]
    }
   ],
   "source": [
    "def func1(x):\n",
    "    print (\"my name is func1\")\n",
    "    def func11(*args, **kwargs):\n",
    "        print(\"func11 decorator\" +\"*\"* 5)\n",
    "        print (\"1st Time\")\n",
    "        x(*args, **kwargs)\n",
    "        print (\"2nd Time\")\n",
    "        x(*args, **kwargs)\n",
    "        print (\"3rd Time\")\n",
    "        x(*args, **kwargs)\n",
    "        print(\"func11 decorator\"+\"*\"* 10)\n",
    "    return func11\n",
    "\n",
    "def func2(y):\n",
    "    print (\"my name is func2\")\n",
    "    def func21(*args, **kwargs):\n",
    "        print(\"\\t func21 decorator\"+\"%\"* 15)\n",
    "        y(*args, **kwargs)\n",
    "        print(\"\\t func21 decorator\"+\"%\"* 25)\n",
    "    return func21\n",
    "\n",
    "def func3(z):\n",
    "    print (\"my name is func3\")\n",
    "    def func31(*args, **kwargs):\n",
    "        print(\"\\t\\t func31 decorator\"+\"#\"* 15)\n",
    "        z(*args, **kwargs)\n",
    "        print(\"\\t\\t func31 decorator\"+\"#\"* 25)\n",
    "    return func31\n",
    "\n",
    "def func4(a):\n",
    "    print (\"my name is func4\")\n",
    "    def func41(*args, **kwargs):\n",
    "        print(\"\\t\\t\\t func41 decorator\"+\"#\"* 15)\n",
    "        a(*args, **kwargs)\n",
    "        print(\"\\t\\t\\t func41 decorator\"+\"#\"* 25)\n",
    "    return func41\n",
    "\n",
    "\n",
    "import numpy as np\n",
    "\n",
    "@func1\n",
    "@func2\n",
    "@func3\n",
    "@func4\n",
    "def decorate_me(m):\n",
    "    print(\"\\t\\t\\t\\t \"+m)  \n",
    "    n=13\n",
    "    a=np.sqrt(n)\n",
    "    print (f\"\\t\\t\\t\\t sqrt of {n} is {a}\")\n",
    "    print(\"\\t\\t\\t\\t Do this also\")\n",
    "    \n",
    "## Note without call of any function these four lines are being executed from each decorator function.\n",
    "## Note they are bring printed in reverse order\n",
    "## Note all 4 decorators are independt functions and their input is function decorate_me alongwith parameters.\n",
    "## It means x,y,z,a of func1, func2, func3, func4 is nothing but decorate_me\n",
    "## Because all 4 are decorator function and in our case all decorating the same function i.e. decorate_me"
   ]
  },
  {
   "cell_type": "code",
   "execution_count": 2,
   "metadata": {},
   "outputs": [
    {
     "name": "stdout",
     "output_type": "stream",
     "text": [
      "func11 decorator*****\n",
      "1st Time\n",
      "\t func21 decorator%%%%%%%%%%%%%%%\n",
      "\t\t func31 decorator###############\n",
      "\t\t\t func41 decorator###############\n",
      "\t\t\t\t I am Hari Thapliyal\n",
      "\t\t\t\t sqrt of 13 is 3.605551275463989\n",
      "\t\t\t\t Do this also\n",
      "\t\t\t func41 decorator#########################\n",
      "\t\t func31 decorator#########################\n",
      "\t func21 decorator%%%%%%%%%%%%%%%%%%%%%%%%%\n",
      "2nd Time\n",
      "\t func21 decorator%%%%%%%%%%%%%%%\n",
      "\t\t func31 decorator###############\n",
      "\t\t\t func41 decorator###############\n",
      "\t\t\t\t I am Hari Thapliyal\n",
      "\t\t\t\t sqrt of 13 is 3.605551275463989\n",
      "\t\t\t\t Do this also\n",
      "\t\t\t func41 decorator#########################\n",
      "\t\t func31 decorator#########################\n",
      "\t func21 decorator%%%%%%%%%%%%%%%%%%%%%%%%%\n",
      "3rd Time\n",
      "\t func21 decorator%%%%%%%%%%%%%%%\n",
      "\t\t func31 decorator###############\n",
      "\t\t\t func41 decorator###############\n",
      "\t\t\t\t I am Hari Thapliyal\n",
      "\t\t\t\t sqrt of 13 is 3.605551275463989\n",
      "\t\t\t\t Do this also\n",
      "\t\t\t func41 decorator#########################\n",
      "\t\t func31 decorator#########################\n",
      "\t func21 decorator%%%%%%%%%%%%%%%%%%%%%%%%%\n",
      "func11 decorator**********\n"
     ]
    }
   ],
   "source": [
    "decorate_me(\"I am Hari Thapliyal\")"
   ]
  },
  {
   "cell_type": "code",
   "execution_count": null,
   "metadata": {},
   "outputs": [],
   "source": [
    "func1('I am func1 ordinary function')"
   ]
  },
  {
   "cell_type": "code",
   "execution_count": null,
   "metadata": {},
   "outputs": [],
   "source": [
    "func2('I am func2 ordinary function')"
   ]
  },
  {
   "cell_type": "code",
   "execution_count": null,
   "metadata": {},
   "outputs": [],
   "source": [
    "func3('I am func3 ordinary function')"
   ]
  },
  {
   "cell_type": "code",
   "execution_count": null,
   "metadata": {},
   "outputs": [],
   "source": [
    "func4('I am func4 ordinary function')"
   ]
  },
  {
   "cell_type": "code",
   "execution_count": 4,
   "metadata": {},
   "outputs": [
    {
     "name": "stdout",
     "output_type": "stream",
     "text": [
      "\t\t\t\t I am Hari Thapliyal\n",
      "\t\t\t\t sqrt of 13 is 3.605551275463989\n",
      "\t\t\t\t Do this also\n"
     ]
    }
   ],
   "source": [
    "def decorate_me(m):\n",
    "    print(\"\\t\\t\\t\\t \"+m)  \n",
    "    n=13\n",
    "    a=np.sqrt(n)\n",
    "    print (f\"\\t\\t\\t\\t sqrt of {n} is {a}\")\n",
    "    print(\"\\t\\t\\t\\t Do this also\")\n",
    "    \n",
    "decorate_me(\"I am Hari Thapliyal\")"
   ]
  },
  {
   "cell_type": "markdown",
   "metadata": {},
   "source": [
    "# Derivative"
   ]
  },
  {
   "cell_type": "code",
   "execution_count": 18,
   "metadata": {},
   "outputs": [
    {
     "name": "stdout",
     "output_type": "stream",
     "text": [
      "2.0009999999996975\n",
      "4.000999999999699\n",
      "6.000999999999479\n",
      "8.0010000000037\n",
      "10.001000000002591\n",
      "12.001000000005035\n",
      "14.00100000000748\n",
      "16.000999999988608\n",
      "18.000999999983947\n"
     ]
    }
   ],
   "source": [
    "def derivative(f, dx):\n",
    "    def _func(x):\n",
    "        return ( f(x+dx) - f(x) )/dx\n",
    "        \n",
    "    return _func\n",
    "\n",
    "derv = derivative( lambda x: x*x, .001)\n",
    "\n",
    "for i in range(1,10):\n",
    "    print (derv(i))"
   ]
  },
  {
   "cell_type": "code",
   "execution_count": 62,
   "metadata": {},
   "outputs": [
    {
     "name": "stdout",
     "output_type": "stream",
     "text": [
      "1 2.0009999999996975\n",
      "2 4.000999999999699\n",
      "3 6.000999999999479\n",
      "4 8.0010000000037\n",
      "5 10.001000000002591\n",
      "6 12.001000000005035\n",
      "7 14.00100000000748\n",
      "8 16.000999999988608\n",
      "9 18.000999999983947\n"
     ]
    }
   ],
   "source": [
    "def derivative(f, dx):\n",
    "    def _func(x):\n",
    "        #print (x, f(x), f(x+dx) , f(x+dx)-f(x),  (f(x+dx) - f(x))/dx )\n",
    "        return ( f(x+dx) - f(x) )/dx\n",
    "        \n",
    "    return _func\n",
    "\n",
    "y = lambda x: x*x\n",
    "\n",
    "derv = derivative( y, .001)\n",
    "\n",
    "for i in range(1,10):\n",
    "    print(i, derv(i))"
   ]
  },
  {
   "cell_type": "code",
   "execution_count": 73,
   "metadata": {},
   "outputs": [
    {
     "data": {
      "text/plain": [
       "200.01000000011118"
      ]
     },
     "execution_count": 73,
     "metadata": {},
     "output_type": "execute_result"
    }
   ],
   "source": [
    "def derv(f, dx):\n",
    "    def _der(x):\n",
    "        return (f(x+dx) - f(x)) / dx\n",
    "    return _der\n",
    "\n",
    "dev = derv( lambda x: x*x, .01)\n",
    "dev(100)\n",
    "\n",
    "\n",
    "\n"
   ]
  },
  {
   "cell_type": "code",
   "execution_count": 58,
   "metadata": {},
   "outputs": [
    {
     "name": "stdout",
     "output_type": "stream",
     "text": [
      "3 6 27 9\n"
     ]
    }
   ],
   "source": [
    "x=3\n",
    "\n",
    "print (x, x*2, x**x, x*x)"
   ]
  },
  {
   "cell_type": "code",
   "execution_count": null,
   "metadata": {},
   "outputs": [],
   "source": []
  }
 ],
 "metadata": {
  "kernelspec": {
   "display_name": "Python 3",
   "language": "python",
   "name": "python3"
  },
  "language_info": {
   "codemirror_mode": {
    "name": "ipython",
    "version": 3
   },
   "file_extension": ".py",
   "mimetype": "text/x-python",
   "name": "python",
   "nbconvert_exporter": "python",
   "pygments_lexer": "ipython3",
   "version": "3.8.8"
  }
 },
 "nbformat": 4,
 "nbformat_minor": 4
}
