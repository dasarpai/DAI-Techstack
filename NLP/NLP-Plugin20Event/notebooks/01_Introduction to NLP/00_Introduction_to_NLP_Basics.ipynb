{
 "cells": [
  {
   "cell_type": "markdown",
   "metadata": {
    "colab_type": "text",
    "id": "TcDI2RgEBnn6"
   },
   "source": [
    "# String Types"
   ]
  },
  {
   "cell_type": "code",
   "execution_count": 1,
   "metadata": {
    "colab": {
     "base_uri": "https://localhost:8080/",
     "height": 67
    },
    "colab_type": "code",
    "id": "ZY8-5FXhBnn7",
    "outputId": "1e195ea6-78b9-4da2-f3b9-632b9c53c44f"
   },
   "outputs": [
    {
     "name": "stdout",
     "output_type": "stream",
     "text": [
      "ID: 2216980011744\n",
      "Type: <class 'str'>\n",
      "Value: This is a String\n"
     ]
    }
   ],
   "source": [
    "new_string = \"This is a String\"  # storing a string\n",
    "\n",
    "print('ID:', id(new_string))  # shows the object identifier (address)\n",
    "print('Type:', type(new_string))  # shows the object type\n",
    "print('Value:', new_string)  # shows the object value"
   ]
  },
  {
   "cell_type": "markdown",
   "metadata": {
    "colab_type": "text",
    "id": "T5KxUoDuBnn_"
   },
   "source": [
    "### Simple String"
   ]
  },
  {
   "cell_type": "code",
   "execution_count": 2,
   "metadata": {
    "colab": {
     "base_uri": "https://localhost:8080/",
     "height": 34
    },
    "colab_type": "code",
    "id": "B4qW_qn3BnoA",
    "outputId": "47dd2a15-6d61-434c-b916-7238a6cd0766"
   },
   "outputs": [
    {
     "name": "stdout",
     "output_type": "stream",
     "text": [
      "Hello! I'm a simple string\n"
     ]
    }
   ],
   "source": [
    "simple_string = 'Hello!' + \" I'm a simple string\"\n",
    "print(simple_string)"
   ]
  },
  {
   "cell_type": "markdown",
   "metadata": {
    "colab_type": "text",
    "id": "HcNigy5hBnoD"
   },
   "source": [
    "### Multi-line String"
   ]
  },
  {
   "cell_type": "code",
   "execution_count": 3,
   "metadata": {
    "colab": {
     "base_uri": "https://localhost:8080/",
     "height": 34
    },
    "colab_type": "code",
    "id": "l-NwFKzNBnoE",
    "outputId": "07118dff-fd08-4fa7-a037-611e7284b498"
   },
   "outputs": [
    {
     "data": {
      "text/plain": [
       "\"Hello I'm\\na multi-line\\nstring!\""
      ]
     },
     "execution_count": 3,
     "metadata": {
      "tags": []
     },
     "output_type": "execute_result"
    }
   ],
   "source": [
    "# Note the \\n (newline) escape character automatically created\n",
    "multi_line_string = \"\"\"Hello I'm\n",
    "a multi-line\n",
    "string!\"\"\"\n",
    "\n",
    "multi_line_string"
   ]
  },
  {
   "cell_type": "code",
   "execution_count": 4,
   "metadata": {
    "colab": {
     "base_uri": "https://localhost:8080/",
     "height": 67
    },
    "colab_type": "code",
    "id": "JsNFnvICBnoH",
    "outputId": "acd212bc-999b-4583-d555-0bac006cc932"
   },
   "outputs": [
    {
     "name": "stdout",
     "output_type": "stream",
     "text": [
      "Hello I'm\n",
      "a multi-line\n",
      "string!\n"
     ]
    }
   ],
   "source": [
    "print(multi_line_string)"
   ]
  },
  {
   "cell_type": "markdown",
   "metadata": {
    "colab_type": "text",
    "id": "nN9T_NT5BnoJ"
   },
   "source": [
    "### Escape sequences"
   ]
  },
  {
   "cell_type": "code",
   "execution_count": 3,
   "metadata": {
    "colab": {
     "base_uri": "https://localhost:8080/",
     "height": 50
    },
    "colab_type": "code",
    "id": "Og71wU-6BnoK",
    "outputId": "1413ae92-47b2-4106-cf80-1a127bdbff23"
   },
   "outputs": [
    {
     "name": "stdout",
     "output_type": "stream",
     "text": [
      "C:\the_folder\n",
      "ew_dir\f",
      "ile.txt\n"
     ]
    }
   ],
   "source": [
    "# Normal string with escape sequences leading to a wrong file path!\n",
    "escaped_string = \"C:\\the_folder\\new_dir\\file.txt\"\n",
    "print(escaped_string)  # will cause errors if we try to open a file here"
   ]
  },
  {
   "cell_type": "code",
   "execution_count": 6,
   "metadata": {
    "colab": {
     "base_uri": "https://localhost:8080/",
     "height": 34
    },
    "colab_type": "code",
    "id": "2OwR3z0qBnoM",
    "outputId": "a67bf2e5-ad8b-4e9f-dbcd-169ee305e239"
   },
   "outputs": [
    {
     "name": "stdout",
     "output_type": "stream",
     "text": [
      "C:\\the_folder\\new_dir\\file.txt\n"
     ]
    }
   ],
   "source": [
    "# raw string keeping the backslashes in its normal form\n",
    "raw_string = r'C:\\the_folder\\new_dir\\file.txt'\n",
    "print(raw_string)"
   ]
  },
  {
   "cell_type": "markdown",
   "metadata": {
    "colab_type": "text",
    "id": "KjlmaX9GBnoQ"
   },
   "source": [
    "### Unicode literals"
   ]
  },
  {
   "cell_type": "code",
   "execution_count": 4,
   "metadata": {
    "colab": {
     "base_uri": "https://localhost:8080/",
     "height": 34
    },
    "colab_type": "code",
    "id": "eoNe9SntBnoR",
    "outputId": "e0a45e2a-139c-44b2-9783-8b11659fe1e2"
   },
   "outputs": [
    {
     "name": "stdout",
     "output_type": "stream",
     "text": [
      "Hèllo!\n"
     ]
    }
   ],
   "source": [
    "# unicode string literals\n",
    "string_with_unicode = 'H\\u00e8llo!'\n",
    "print(string_with_unicode)"
   ]
  },
  {
   "cell_type": "code",
   "execution_count": 5,
   "metadata": {
    "colab": {
     "base_uri": "https://localhost:8080/",
     "height": 34
    },
    "colab_type": "code",
    "id": "Q-HpqzZlBnoT",
    "outputId": "df8a2393-c87e-4d36-cd39-40c945530a7c"
   },
   "outputs": [
    {
     "name": "stdout",
     "output_type": "stream",
     "text": [
      "I love Pizza 🍕!  Shall we book a cab 🚕 to get pizza?\n"
     ]
    }
   ],
   "source": [
    "more_unicode = 'I love Pizza 🍕!  Shall we book a cab 🚕 to get pizza?'\n",
    "print(more_unicode)"
   ]
  },
  {
   "cell_type": "markdown",
   "metadata": {
    "colab_type": "text",
    "id": "Jo-rCTeyBnoV"
   },
   "source": [
    "## Your Turn: How can we reverse the above string?"
   ]
  },
  {
   "cell_type": "code",
   "execution_count": 9,
   "metadata": {
    "colab": {
     "base_uri": "https://localhost:8080/",
     "height": 34
    },
    "colab_type": "code",
    "id": "1JTtNnSdBnoW",
    "outputId": "abe4f9e7-3544-4980-f0c1-5e244974aabd"
   },
   "outputs": [
    {
     "data": {
      "text/plain": [
       "'?azzip teg ot 🚕 bac a koob ew llahS  !🍕 azziP evol I'"
      ]
     },
     "execution_count": 9,
     "metadata": {
      "tags": []
     },
     "output_type": "execute_result"
    }
   ],
   "source": [
    "more_unicode[::-1]  # reverses the string"
   ]
  },
  {
   "cell_type": "markdown",
   "metadata": {
    "colab_type": "text",
    "id": "nk9M4gOABnoY"
   },
   "source": [
    "# String Operations\n"
   ]
  },
  {
   "cell_type": "markdown",
   "metadata": {
    "colab_type": "text",
    "id": "wkv1vn9WBnoZ"
   },
   "source": [
    "### String Concatenation"
   ]
  },
  {
   "cell_type": "code",
   "execution_count": 10,
   "metadata": {
    "colab": {
     "base_uri": "https://localhost:8080/",
     "height": 34
    },
    "colab_type": "code",
    "id": "lMk0OqhzBnoZ",
    "outputId": "a4eeac33-e8ad-490f-bcf5-2e5f27156b51",
    "scrolled": true
   },
   "outputs": [
    {
     "data": {
      "text/plain": [
       "'Hello 😊 and welcome to Python 🐍!'"
      ]
     },
     "execution_count": 10,
     "metadata": {
      "tags": []
     },
     "output_type": "execute_result"
    }
   ],
   "source": [
    "'Hello 😊' + ' and welcome ' + 'to Python 🐍!'"
   ]
  },
  {
   "cell_type": "code",
   "execution_count": 11,
   "metadata": {
    "colab": {
     "base_uri": "https://localhost:8080/",
     "height": 34
    },
    "colab_type": "code",
    "id": "_sCOQrlgBnob",
    "outputId": "ac233334-e6de-4d57-829a-8c57482bdb84"
   },
   "outputs": [
    {
     "data": {
      "text/plain": [
       "'Hello 😊 and welcome to Python 🐍!'"
      ]
     },
     "execution_count": 11,
     "metadata": {
      "tags": []
     },
     "output_type": "execute_result"
    }
   ],
   "source": [
    "'Hello 😊' ' and welcome ' 'to Python 🐍!'"
   ]
  },
  {
   "cell_type": "code",
   "execution_count": 12,
   "metadata": {
    "colab": {
     "base_uri": "https://localhost:8080/",
     "height": 34
    },
    "colab_type": "code",
    "id": "iE0EPx8oBnod",
    "outputId": "2967c1f3-f644-4f7f-ad15-6f078da69a22"
   },
   "outputs": [
    {
     "data": {
      "text/plain": [
       "'This is another way to concatenate several strings!'"
      ]
     },
     "execution_count": 12,
     "metadata": {
      "tags": []
     },
     "output_type": "execute_result"
    }
   ],
   "source": [
    "s3 = ('This '\n",
    "      'is another way '\n",
    "      'to concatenate '\n",
    "      'several strings!')\n",
    "s3"
   ]
  },
  {
   "cell_type": "markdown",
   "metadata": {
    "colab_type": "text",
    "id": "884wlesEBnof"
   },
   "source": [
    "### Substring check"
   ]
  },
  {
   "cell_type": "code",
   "execution_count": 13,
   "metadata": {
    "colab": {
     "base_uri": "https://localhost:8080/",
     "height": 34
    },
    "colab_type": "code",
    "id": "87I7tyrrBnog",
    "outputId": "7a811df6-3ed5-4bbd-f0aa-be47dcb5f944"
   },
   "outputs": [
    {
     "data": {
      "text/plain": [
       "True"
      ]
     },
     "execution_count": 13,
     "metadata": {
      "tags": []
     },
     "output_type": "execute_result"
    }
   ],
   "source": [
    "'way' in s3"
   ]
  },
  {
   "cell_type": "code",
   "execution_count": 14,
   "metadata": {
    "colab": {
     "base_uri": "https://localhost:8080/",
     "height": 34
    },
    "colab_type": "code",
    "id": "EAYQh7ceBnoj",
    "outputId": "6d84b8e9-8f44-4a10-e3b2-a3a41b75eadd"
   },
   "outputs": [
    {
     "data": {
      "text/plain": [
       "True"
      ]
     },
     "execution_count": 14,
     "metadata": {
      "tags": []
     },
     "output_type": "execute_result"
    }
   ],
   "source": [
    "'python' not in s3"
   ]
  },
  {
   "cell_type": "markdown",
   "metadata": {
    "colab_type": "text",
    "id": "IoEQQXejBnol"
   },
   "source": [
    "### String Length"
   ]
  },
  {
   "cell_type": "code",
   "execution_count": 15,
   "metadata": {
    "colab": {
     "base_uri": "https://localhost:8080/",
     "height": 34
    },
    "colab_type": "code",
    "id": "8Rabvru9Bnom",
    "outputId": "69c706db-0df7-4db0-eedd-b43a7b8539f9"
   },
   "outputs": [
    {
     "data": {
      "text/plain": [
       "51"
      ]
     },
     "execution_count": 15,
     "metadata": {
      "tags": []
     },
     "output_type": "execute_result"
    }
   ],
   "source": [
    "len(s3)"
   ]
  },
  {
   "cell_type": "markdown",
   "metadata": {
    "colab_type": "text",
    "id": "9HjoG1o1Bnoq"
   },
   "source": [
    "# String Indexing and Slicing"
   ]
  },
  {
   "cell_type": "code",
   "execution_count": 16,
   "metadata": {
    "colab": {
     "base_uri": "https://localhost:8080/",
     "height": 34
    },
    "colab_type": "code",
    "id": "KkWd9whbBnos",
    "outputId": "805c3947-61c1-402b-ee25-9634e7f0dc19"
   },
   "outputs": [
    {
     "data": {
      "text/plain": [
       "('PYTHON', str)"
      ]
     },
     "execution_count": 16,
     "metadata": {
      "tags": []
     },
     "output_type": "execute_result"
    }
   ],
   "source": [
    "# creating a string\n",
    "s = 'PYTHON'\n",
    "s, type(s)"
   ]
  },
  {
   "cell_type": "markdown",
   "metadata": {
    "colab_type": "text",
    "id": "rEoPiQI_Bnow"
   },
   "source": [
    "## String Indexing"
   ]
  },
  {
   "cell_type": "code",
   "execution_count": 17,
   "metadata": {
    "colab": {
     "base_uri": "https://localhost:8080/",
     "height": 118
    },
    "colab_type": "code",
    "id": "R2p1jSB2Bnox",
    "outputId": "5436869b-1e2d-4d66-cb98-c52c55f0ce52"
   },
   "outputs": [
    {
     "name": "stdout",
     "output_type": "stream",
     "text": [
      "Character -> P has index-> 0\n",
      "Character -> Y has index-> 1\n",
      "Character -> T has index-> 2\n",
      "Character -> H has index-> 3\n",
      "Character -> O has index-> 4\n",
      "Character -> N has index-> 5\n"
     ]
    }
   ],
   "source": [
    "# depicting string indexes\n",
    "for index, character in enumerate(s):\n",
    "    print('Character ->', character, 'has index->', index)"
   ]
  },
  {
   "cell_type": "code",
   "execution_count": 18,
   "metadata": {
    "colab": {
     "base_uri": "https://localhost:8080/",
     "height": 34
    },
    "colab_type": "code",
    "id": "P-THxKNNBnoz",
    "outputId": "5a67aa6d-a483-4d96-a884-b54eb1084250"
   },
   "outputs": [
    {
     "data": {
      "text/plain": [
       "('P', 'Y', 'T', 'H', 'O', 'N')"
      ]
     },
     "execution_count": 18,
     "metadata": {
      "tags": []
     },
     "output_type": "execute_result"
    }
   ],
   "source": [
    "s[0], s[1], s[2], s[3], s[4], s[5]"
   ]
  },
  {
   "cell_type": "code",
   "execution_count": 19,
   "metadata": {
    "colab": {
     "base_uri": "https://localhost:8080/",
     "height": 34
    },
    "colab_type": "code",
    "id": "rth3BkVDBno1",
    "outputId": "3a20a7d0-9bed-4500-bf0a-d1866200796f"
   },
   "outputs": [
    {
     "data": {
      "text/plain": [
       "('N', 'O', 'H', 'T', 'Y', 'P')"
      ]
     },
     "execution_count": 19,
     "metadata": {
      "tags": []
     },
     "output_type": "execute_result"
    }
   ],
   "source": [
    "s[-1], s[-2], s[-3], s[-4], s[-5], s[-6]"
   ]
  },
  {
   "cell_type": "markdown",
   "metadata": {
    "colab_type": "text",
    "id": "orsQWfXzBno3"
   },
   "source": [
    "## String Slicing"
   ]
  },
  {
   "cell_type": "code",
   "execution_count": 20,
   "metadata": {
    "colab": {
     "base_uri": "https://localhost:8080/",
     "height": 34
    },
    "colab_type": "code",
    "id": "PyopofafBno4",
    "outputId": "19422e4d-f8ac-4543-936c-2959b789f54c"
   },
   "outputs": [
    {
     "data": {
      "text/plain": [
       "'PYTHON'"
      ]
     },
     "execution_count": 20,
     "metadata": {
      "tags": []
     },
     "output_type": "execute_result"
    }
   ],
   "source": [
    "s[:] "
   ]
  },
  {
   "cell_type": "code",
   "execution_count": 21,
   "metadata": {
    "colab": {
     "base_uri": "https://localhost:8080/",
     "height": 34
    },
    "colab_type": "code",
    "id": "fE5PWH0sBno5",
    "outputId": "b9d0c3b6-c09c-4f2d-818d-8ff1aac43cfb"
   },
   "outputs": [
    {
     "data": {
      "text/plain": [
       "'YTH'"
      ]
     },
     "execution_count": 21,
     "metadata": {
      "tags": []
     },
     "output_type": "execute_result"
    }
   ],
   "source": [
    "s[1:4]"
   ]
  },
  {
   "cell_type": "code",
   "execution_count": 22,
   "metadata": {
    "colab": {
     "base_uri": "https://localhost:8080/",
     "height": 34
    },
    "colab_type": "code",
    "id": "wvX62d3QBno7",
    "outputId": "3f7a6b03-c87c-4333-cf95-e4570de263af"
   },
   "outputs": [
    {
     "data": {
      "text/plain": [
       "('PYT', 'HON')"
      ]
     },
     "execution_count": 22,
     "metadata": {
      "tags": []
     },
     "output_type": "execute_result"
    }
   ],
   "source": [
    "s[:3], s[3:]"
   ]
  },
  {
   "cell_type": "markdown",
   "metadata": {
    "colab_type": "text",
    "id": "cmKwoIr8BnpF"
   },
   "source": [
    "## String slicing with offsets"
   ]
  },
  {
   "cell_type": "code",
   "execution_count": 23,
   "metadata": {
    "colab": {
     "base_uri": "https://localhost:8080/",
     "height": 34
    },
    "colab_type": "code",
    "id": "34rGic5pBnpG",
    "outputId": "8dbdf5af-2b33-43a8-e2e0-ef646322ee5a"
   },
   "outputs": [
    {
     "data": {
      "text/plain": [
       "'PYTHON'"
      ]
     },
     "execution_count": 23,
     "metadata": {
      "tags": []
     },
     "output_type": "execute_result"
    }
   ],
   "source": [
    "s[::1]  # no offset"
   ]
  },
  {
   "cell_type": "code",
   "execution_count": 24,
   "metadata": {
    "colab": {
     "base_uri": "https://localhost:8080/",
     "height": 34
    },
    "colab_type": "code",
    "id": "rxOPr3m6BnpL",
    "outputId": "426c5b8c-0b99-4b1a-8cc0-e1f73b9c5c46"
   },
   "outputs": [
    {
     "data": {
      "text/plain": [
       "'PTO'"
      ]
     },
     "execution_count": 24,
     "metadata": {
      "tags": []
     },
     "output_type": "execute_result"
    }
   ],
   "source": [
    "s[::2]  # print every 2nd character in string"
   ]
  },
  {
   "cell_type": "markdown",
   "metadata": {
    "colab_type": "text",
    "id": "b105ZcfyBnpN"
   },
   "source": [
    "# String Immutability"
   ]
  },
  {
   "cell_type": "code",
   "execution_count": 26,
   "metadata": {
    "colab": {
     "base_uri": "https://localhost:8080/",
     "height": 178
    },
    "colab_type": "code",
    "id": "HGYPZGsABnpO",
    "outputId": "979ad4fd-8e94-46e1-f7c8-f3ee9a7bfe1f"
   },
   "outputs": [
    {
     "ename": "TypeError",
     "evalue": "ignored",
     "output_type": "error",
     "traceback": [
      "\u001b[0;31m---------------------------------------------------------------------------\u001b[0m",
      "\u001b[0;31mTypeError\u001b[0m                                 Traceback (most recent call last)",
      "\u001b[0;32m<ipython-input-26-0d7229b05a1f>\u001b[0m in \u001b[0;36m<module>\u001b[0;34m()\u001b[0m\n\u001b[1;32m      1\u001b[0m \u001b[0;31m# strings are immutable hence assignment throws error\u001b[0m\u001b[0;34m\u001b[0m\u001b[0;34m\u001b[0m\u001b[0;34m\u001b[0m\u001b[0m\n\u001b[0;32m----> 2\u001b[0;31m \u001b[0ms\u001b[0m\u001b[0;34m[\u001b[0m\u001b[0;36m0\u001b[0m\u001b[0;34m]\u001b[0m \u001b[0;34m=\u001b[0m \u001b[0;34m'X'\u001b[0m\u001b[0;34m\u001b[0m\u001b[0;34m\u001b[0m\u001b[0m\n\u001b[0m",
      "\u001b[0;31mTypeError\u001b[0m: 'str' object does not support item assignment"
     ]
    }
   ],
   "source": [
    "# strings are immutable hence assignment throws error\n",
    "s[0] = 'X'"
   ]
  },
  {
   "cell_type": "code",
   "execution_count": 27,
   "metadata": {
    "colab": {
     "base_uri": "https://localhost:8080/",
     "height": 67
    },
    "colab_type": "code",
    "id": "jgrSZyDtBnpP",
    "outputId": "4ef3554b-b4da-4c4d-d517-76d480852d05"
   },
   "outputs": [
    {
     "name": "stdout",
     "output_type": "stream",
     "text": [
      "Original String id: 139698623376440\n",
      "XYTHON\n",
      "New String id: 139698050130024\n"
     ]
    }
   ],
   "source": [
    "print('Original String id:', id(s))\n",
    "# creates a new string\n",
    "s = 'X' + s[1:]\n",
    "print(s)\n",
    "print('New String id:', id(s))"
   ]
  },
  {
   "cell_type": "markdown",
   "metadata": {
    "colab_type": "text",
    "id": "dyiL0QiEBnpR"
   },
   "source": [
    "# Useful String methods"
   ]
  },
  {
   "cell_type": "markdown",
   "metadata": {
    "colab_type": "text",
    "id": "NVMPBDSXBnpS"
   },
   "source": [
    "## Case Conversions"
   ]
  },
  {
   "cell_type": "code",
   "execution_count": 0,
   "metadata": {
    "colab": {},
    "colab_type": "code",
    "id": "5FgTAV4TBnpS"
   },
   "outputs": [],
   "source": [
    "s = 'python is great'"
   ]
  },
  {
   "cell_type": "code",
   "execution_count": 29,
   "metadata": {
    "colab": {
     "base_uri": "https://localhost:8080/",
     "height": 34
    },
    "colab_type": "code",
    "id": "BtEaTNUKBnpV",
    "outputId": "a22cce4b-125f-4b75-de4a-8b0e0c8cd51a"
   },
   "outputs": [
    {
     "data": {
      "text/plain": [
       "'Python is great'"
      ]
     },
     "execution_count": 29,
     "metadata": {
      "tags": []
     },
     "output_type": "execute_result"
    }
   ],
   "source": [
    "s.capitalize()"
   ]
  },
  {
   "cell_type": "code",
   "execution_count": 30,
   "metadata": {
    "colab": {
     "base_uri": "https://localhost:8080/",
     "height": 34
    },
    "colab_type": "code",
    "id": "O0CnwA3OBnpY",
    "outputId": "eacb7086-8869-474a-dc37-497cdc751721"
   },
   "outputs": [
    {
     "data": {
      "text/plain": [
       "'PYTHON IS GREAT'"
      ]
     },
     "execution_count": 30,
     "metadata": {
      "tags": []
     },
     "output_type": "execute_result"
    }
   ],
   "source": [
    "s.upper()"
   ]
  },
  {
   "cell_type": "code",
   "execution_count": 31,
   "metadata": {
    "colab": {
     "base_uri": "https://localhost:8080/",
     "height": 34
    },
    "colab_type": "code",
    "id": "saCVI_vgBnpb",
    "outputId": "f12e3930-4bad-4134-af0c-e4db64503a2d"
   },
   "outputs": [
    {
     "data": {
      "text/plain": [
       "'Python Is Great'"
      ]
     },
     "execution_count": 31,
     "metadata": {
      "tags": []
     },
     "output_type": "execute_result"
    }
   ],
   "source": [
    "s.title()"
   ]
  },
  {
   "cell_type": "markdown",
   "metadata": {
    "colab_type": "text",
    "id": "dEIDbD-GBnpd"
   },
   "source": [
    "## String Replace"
   ]
  },
  {
   "cell_type": "code",
   "execution_count": 32,
   "metadata": {
    "colab": {
     "base_uri": "https://localhost:8080/",
     "height": 34
    },
    "colab_type": "code",
    "id": "6WZvrBIZBnpe",
    "outputId": "531f7b50-3f00-4c06-f555-a887221cf9ac"
   },
   "outputs": [
    {
     "data": {
      "text/plain": [
       "'NLP is great'"
      ]
     },
     "execution_count": 32,
     "metadata": {
      "tags": []
     },
     "output_type": "execute_result"
    }
   ],
   "source": [
    "s.replace('python', 'NLP')"
   ]
  },
  {
   "cell_type": "markdown",
   "metadata": {
    "colab_type": "text",
    "id": "KZn6-Ht1Bnpg"
   },
   "source": [
    "## Numeric Checks"
   ]
  },
  {
   "cell_type": "code",
   "execution_count": 33,
   "metadata": {
    "colab": {
     "base_uri": "https://localhost:8080/",
     "height": 34
    },
    "colab_type": "code",
    "id": "0tUUPE1dBnph",
    "outputId": "898684bf-f5e3-490a-8f7d-8cb926f6bb2c"
   },
   "outputs": [
    {
     "data": {
      "text/plain": [
       "True"
      ]
     },
     "execution_count": 33,
     "metadata": {
      "tags": []
     },
     "output_type": "execute_result"
    }
   ],
   "source": [
    "'12345'.isdecimal()"
   ]
  },
  {
   "cell_type": "code",
   "execution_count": 34,
   "metadata": {
    "colab": {
     "base_uri": "https://localhost:8080/",
     "height": 34
    },
    "colab_type": "code",
    "id": "8FZb9sWmBnpj",
    "outputId": "33d298d2-cdb6-4ee2-bcf0-245c93e46002"
   },
   "outputs": [
    {
     "data": {
      "text/plain": [
       "False"
      ]
     },
     "execution_count": 34,
     "metadata": {
      "tags": []
     },
     "output_type": "execute_result"
    }
   ],
   "source": [
    "'apollo11'.isdecimal()"
   ]
  },
  {
   "cell_type": "markdown",
   "metadata": {
    "colab_type": "text",
    "id": "K_0eYIBhBnpp"
   },
   "source": [
    "## Alphabet Checks"
   ]
  },
  {
   "cell_type": "code",
   "execution_count": 35,
   "metadata": {
    "colab": {
     "base_uri": "https://localhost:8080/",
     "height": 34
    },
    "colab_type": "code",
    "id": "zcsr4dSeBnpp",
    "outputId": "94611a9b-4c5b-4f0d-dabe-665dd511d09a"
   },
   "outputs": [
    {
     "data": {
      "text/plain": [
       "True"
      ]
     },
     "execution_count": 35,
     "metadata": {
      "tags": []
     },
     "output_type": "execute_result"
    }
   ],
   "source": [
    "'python'.isalpha()"
   ]
  },
  {
   "cell_type": "code",
   "execution_count": 36,
   "metadata": {
    "colab": {
     "base_uri": "https://localhost:8080/",
     "height": 34
    },
    "colab_type": "code",
    "id": "dg62LrXwBnps",
    "outputId": "f150d1e2-f0b8-4f34-d369-d27fe19b1faa"
   },
   "outputs": [
    {
     "data": {
      "text/plain": [
       "False"
      ]
     },
     "execution_count": 36,
     "metadata": {
      "tags": []
     },
     "output_type": "execute_result"
    }
   ],
   "source": [
    "'number1'.isalpha()"
   ]
  },
  {
   "cell_type": "markdown",
   "metadata": {
    "colab_type": "text",
    "id": "L0VAth3-Bnpv"
   },
   "source": [
    "## Alphanumeric Checks"
   ]
  },
  {
   "cell_type": "code",
   "execution_count": 37,
   "metadata": {
    "colab": {
     "base_uri": "https://localhost:8080/",
     "height": 34
    },
    "colab_type": "code",
    "id": "cwayE69SBnpw",
    "outputId": "465aab92-3ad1-43da-d18d-26e04278221e"
   },
   "outputs": [
    {
     "data": {
      "text/plain": [
       "True"
      ]
     },
     "execution_count": 37,
     "metadata": {
      "tags": []
     },
     "output_type": "execute_result"
    }
   ],
   "source": [
    "'total'.isalnum()"
   ]
  },
  {
   "cell_type": "code",
   "execution_count": 38,
   "metadata": {
    "colab": {
     "base_uri": "https://localhost:8080/",
     "height": 34
    },
    "colab_type": "code",
    "id": "nnusNFRkBnpz",
    "outputId": "8f417ee8-eb1b-4e4f-ece4-a2d532c62afa"
   },
   "outputs": [
    {
     "data": {
      "text/plain": [
       "True"
      ]
     },
     "execution_count": 38,
     "metadata": {
      "tags": []
     },
     "output_type": "execute_result"
    }
   ],
   "source": [
    "'abc123'.isalnum()"
   ]
  },
  {
   "cell_type": "code",
   "execution_count": 39,
   "metadata": {
    "colab": {
     "base_uri": "https://localhost:8080/",
     "height": 34
    },
    "colab_type": "code",
    "id": "WGB_jtIPBnp5",
    "outputId": "0c8b7377-6312-47af-c7bb-bd79aea7e4da"
   },
   "outputs": [
    {
     "data": {
      "text/plain": [
       "False"
      ]
     },
     "execution_count": 39,
     "metadata": {
      "tags": []
     },
     "output_type": "execute_result"
    }
   ],
   "source": [
    "'1+1'.isalnum()"
   ]
  },
  {
   "cell_type": "markdown",
   "metadata": {
    "colab_type": "text",
    "id": "vLZh3XIEBnp9"
   },
   "source": [
    "## String splitting and joining"
   ]
  },
  {
   "cell_type": "code",
   "execution_count": 40,
   "metadata": {
    "colab": {
     "base_uri": "https://localhost:8080/",
     "height": 34
    },
    "colab_type": "code",
    "id": "exc7DmncBnp-",
    "outputId": "68048efd-05c4-48c3-a5ec-6b5db55dec46"
   },
   "outputs": [
    {
     "data": {
      "text/plain": [
       "'I,am,a,comma,separated,string'"
      ]
     },
     "execution_count": 40,
     "metadata": {
      "tags": []
     },
     "output_type": "execute_result"
    }
   ],
   "source": [
    "s = 'I,am,a,comma,separated,string'\n",
    "s"
   ]
  },
  {
   "cell_type": "code",
   "execution_count": 41,
   "metadata": {
    "colab": {
     "base_uri": "https://localhost:8080/",
     "height": 34
    },
    "colab_type": "code",
    "id": "LHIM7IOsBnqA",
    "outputId": "33ea6840-0f29-4a7c-9248-39b1d5fe59e2"
   },
   "outputs": [
    {
     "data": {
      "text/plain": [
       "['I', 'am', 'a', 'comma', 'separated', 'string']"
      ]
     },
     "execution_count": 41,
     "metadata": {
      "tags": []
     },
     "output_type": "execute_result"
    }
   ],
   "source": [
    "s.split(',')"
   ]
  },
  {
   "cell_type": "code",
   "execution_count": 42,
   "metadata": {
    "colab": {
     "base_uri": "https://localhost:8080/",
     "height": 34
    },
    "colab_type": "code",
    "id": "0QXsIi_dBnqC",
    "outputId": "11c1057e-f853-4afe-94b8-89a47eddd608"
   },
   "outputs": [
    {
     "data": {
      "text/plain": [
       "'I am a comma separated string'"
      ]
     },
     "execution_count": 42,
     "metadata": {
      "tags": []
     },
     "output_type": "execute_result"
    }
   ],
   "source": [
    "' '.join(s.split(','))"
   ]
  },
  {
   "cell_type": "code",
   "execution_count": 43,
   "metadata": {
    "colab": {
     "base_uri": "https://localhost:8080/",
     "height": 34
    },
    "colab_type": "code",
    "id": "Tna3rsoIBnqE",
    "outputId": "a0ba3464-edf6-4b83-9eda-bc5b3cd01bc4"
   },
   "outputs": [
    {
     "data": {
      "text/plain": [
       "'   I am surrounded by spaces    '"
      ]
     },
     "execution_count": 43,
     "metadata": {
      "tags": []
     },
     "output_type": "execute_result"
    }
   ],
   "source": [
    "# stripping whitespace characters\n",
    "s = '   I am surrounded by spaces    '\n",
    "s"
   ]
  },
  {
   "cell_type": "code",
   "execution_count": 44,
   "metadata": {
    "colab": {
     "base_uri": "https://localhost:8080/",
     "height": 34
    },
    "colab_type": "code",
    "id": "cfMRkz-sBnqG",
    "outputId": "0d732555-bc6c-4d71-f808-ded5c8c909b3"
   },
   "outputs": [
    {
     "data": {
      "text/plain": [
       "'I am surrounded by spaces'"
      ]
     },
     "execution_count": 44,
     "metadata": {
      "tags": []
     },
     "output_type": "execute_result"
    }
   ],
   "source": [
    "s.strip()"
   ]
  },
  {
   "cell_type": "code",
   "execution_count": 45,
   "metadata": {
    "colab": {
     "base_uri": "https://localhost:8080/",
     "height": 34
    },
    "colab_type": "code",
    "id": "uILdFoJDBnqJ",
    "outputId": "06fde3c9-0514-4c2c-f03e-84d82adb88c2"
   },
   "outputs": [
    {
     "data": {
      "text/plain": [
       "['Python is great', ' NLP is also good', '']"
      ]
     },
     "execution_count": 45,
     "metadata": {
      "tags": []
     },
     "output_type": "execute_result"
    }
   ],
   "source": [
    "sentences = 'Python is great. NLP is also good.'\n",
    "sentences.split('.')"
   ]
  },
  {
   "cell_type": "markdown",
   "metadata": {
    "colab_type": "text",
    "id": "ipWG7jAIBnqP"
   },
   "source": [
    "# String formatting"
   ]
  },
  {
   "cell_type": "markdown",
   "metadata": {
    "colab_type": "text",
    "id": "KlBDy_dfBnqQ"
   },
   "source": [
    "## Formatting expressions with different data types - old style"
   ]
  },
  {
   "cell_type": "code",
   "execution_count": 46,
   "metadata": {
    "colab": {
     "base_uri": "https://localhost:8080/",
     "height": 34
    },
    "colab_type": "code",
    "id": "loHzxZr2BnqR",
    "outputId": "51736aef-9cc8-4b5a-e7a6-ca7ffb0a7616"
   },
   "outputs": [
    {
     "data": {
      "text/plain": [
       "'We have 2 bottles containing 2.50 gallons of milk'"
      ]
     },
     "execution_count": 46,
     "metadata": {
      "tags": []
     },
     "output_type": "execute_result"
    }
   ],
   "source": [
    "'We have %d %s containing %.2f gallons of %s' %(2, 'bottles', 2.5, 'milk')"
   ]
  },
  {
   "cell_type": "code",
   "execution_count": 47,
   "metadata": {
    "colab": {
     "base_uri": "https://localhost:8080/",
     "height": 34
    },
    "colab_type": "code",
    "id": "dT1oE_fPBnqT",
    "outputId": "003a1424-ff95-4889-e6bc-7f009077855a"
   },
   "outputs": [
    {
     "data": {
      "text/plain": [
       "'We have 5 jugs containing 10.87 gallons of juice'"
      ]
     },
     "execution_count": 47,
     "metadata": {
      "tags": []
     },
     "output_type": "execute_result"
    }
   ],
   "source": [
    "'We have %d %s containing %.2f gallons of %s' %(5.21, 'jugs', 10.86763, 'juice')"
   ]
  },
  {
   "cell_type": "markdown",
   "metadata": {
    "colab_type": "text",
    "id": "PMze-THzBnqV"
   },
   "source": [
    "## Formatting strings using the format method - new style"
   ]
  },
  {
   "cell_type": "code",
   "execution_count": 48,
   "metadata": {
    "colab": {
     "base_uri": "https://localhost:8080/",
     "height": 34
    },
    "colab_type": "code",
    "id": "T0P8sGPLBnqW",
    "outputId": "a52cadf9-73ed-4865-fcd1-a6a29cfedff9"
   },
   "outputs": [
    {
     "data": {
      "text/plain": [
       "'Hello Mr. Jones, it is a great pleasure to meet you at 5'"
      ]
     },
     "execution_count": 48,
     "metadata": {
      "tags": []
     },
     "output_type": "execute_result"
    }
   ],
   "source": [
    "'Hello {} {}, it is a great {} to meet you at {}'.format('Mr.', 'Jones', 'pleasure', 5)"
   ]
  },
  {
   "cell_type": "code",
   "execution_count": 49,
   "metadata": {
    "colab": {
     "base_uri": "https://localhost:8080/",
     "height": 34
    },
    "colab_type": "code",
    "id": "J0JSNJ7kBnqX",
    "outputId": "0b4881c5-7f5f-4a37-b2ed-dd56d77727d2"
   },
   "outputs": [
    {
     "data": {
      "text/plain": [
       "\"Hello Sir Arthur, it is a great honor to meet you at 9 o' clock\""
      ]
     },
     "execution_count": 49,
     "metadata": {
      "tags": []
     },
     "output_type": "execute_result"
    }
   ],
   "source": [
    "'Hello {} {}, it is a great {} to meet you at {} o\\' clock'.format('Sir', 'Arthur', 'honor', 9)"
   ]
  },
  {
   "cell_type": "markdown",
   "metadata": {
    "colab_type": "text",
    "id": "Dk55aNB6Bnqa"
   },
   "source": [
    "## Alternative ways of using string format"
   ]
  },
  {
   "cell_type": "code",
   "execution_count": 50,
   "metadata": {
    "colab": {
     "base_uri": "https://localhost:8080/",
     "height": 34
    },
    "colab_type": "code",
    "id": "JSnzk2W3Bnqa",
    "outputId": "b1b1aa73-af94-470d-956e-44b889257e01"
   },
   "outputs": [
    {
     "data": {
      "text/plain": [
       "'I have a sandwich and a soda with me'"
      ]
     },
     "execution_count": 50,
     "metadata": {
      "tags": []
     },
     "output_type": "execute_result"
    }
   ],
   "source": [
    "'I have a {food_item} and a {drink_item} with me'.format(drink_item='soda', food_item='sandwich')"
   ]
  },
  {
   "cell_type": "code",
   "execution_count": 51,
   "metadata": {
    "colab": {
     "base_uri": "https://localhost:8080/",
     "height": 34
    },
    "colab_type": "code",
    "id": "WxSvcEhRBnqc",
    "outputId": "794837e3-877b-4709-832d-2272686b2413"
   },
   "outputs": [
    {
     "data": {
      "text/plain": [
       "\"The dog has the following attributes: ['lazy', 'loyal']\""
      ]
     },
     "execution_count": 51,
     "metadata": {
      "tags": []
     },
     "output_type": "execute_result"
    }
   ],
   "source": [
    "'The {animal} has the following attributes: {attributes}'.format(animal='dog', attributes=['lazy', 'loyal'])"
   ]
  },
  {
   "cell_type": "markdown",
   "metadata": {
    "colab_type": "text",
    "id": "-btesgo3Bnqe"
   },
   "source": [
    "# Regular Expressions"
   ]
  },
  {
   "cell_type": "code",
   "execution_count": 0,
   "metadata": {
    "colab": {},
    "colab_type": "code",
    "id": "ynyaFmfoBnqf"
   },
   "outputs": [],
   "source": [
    "s1 = 'Python is an excellent language'\n",
    "s2 = 'I love the Python language. I also use Python to build applications at work!'"
   ]
  },
  {
   "cell_type": "code",
   "execution_count": 0,
   "metadata": {
    "colab": {},
    "colab_type": "code",
    "id": "n_XPqHFpBnqh"
   },
   "outputs": [],
   "source": [
    "import re\n",
    "\n",
    "pattern = 'python'\n",
    "# match only returns a match if regex match is found at the beginning of the string\n",
    "re.match(pattern, s1)"
   ]
  },
  {
   "cell_type": "code",
   "execution_count": 54,
   "metadata": {
    "colab": {
     "base_uri": "https://localhost:8080/",
     "height": 34
    },
    "colab_type": "code",
    "id": "9V6dcymaBnqi",
    "outputId": "8345b3f6-c244-4b9e-b333-2ec9fb15b5c0"
   },
   "outputs": [
    {
     "data": {
      "text/plain": [
       "<_sre.SRE_Match object; span=(0, 6), match='Python'>"
      ]
     },
     "execution_count": 54,
     "metadata": {
      "tags": []
     },
     "output_type": "execute_result"
    }
   ],
   "source": [
    "# pattern is in lower case hence ignore case flag helps\n",
    "# in matching same pattern with different cases\n",
    "re.match(pattern, s1, flags=re.IGNORECASE)"
   ]
  },
  {
   "cell_type": "code",
   "execution_count": 55,
   "metadata": {
    "colab": {
     "base_uri": "https://localhost:8080/",
     "height": 34
    },
    "colab_type": "code",
    "id": "hqhkTjMFBnqn",
    "outputId": "4d880b8c-66be-437b-e007-e401cddf3a99"
   },
   "outputs": [
    {
     "name": "stdout",
     "output_type": "stream",
     "text": [
      "Found match Python ranging from index 0 - 6 in the string \"Python is an excellent language\"\n"
     ]
    }
   ],
   "source": [
    "# printing matched string and its indices in the original string\n",
    "m = re.match(pattern, s1, flags=re.IGNORECASE)\n",
    "print('Found match {} ranging from index {} - {} in the string \"{}\"'.format(m.group(0), \n",
    "                                                                            m.start(), \n",
    "                                                                            m.end(), s1))"
   ]
  },
  {
   "cell_type": "code",
   "execution_count": 0,
   "metadata": {
    "colab": {},
    "colab_type": "code",
    "id": "C3ZCmkutBnqo"
   },
   "outputs": [],
   "source": [
    "# match does not work when pattern is not there in the beginning of string s2\n",
    "re.match(pattern, s2, re.IGNORECASE)"
   ]
  },
  {
   "cell_type": "code",
   "execution_count": 57,
   "metadata": {
    "colab": {
     "base_uri": "https://localhost:8080/",
     "height": 34
    },
    "colab_type": "code",
    "id": "RbpdhXBuBnqq",
    "outputId": "a5cd6f40-f3c5-4acb-c315-16fdfd77715c"
   },
   "outputs": [
    {
     "data": {
      "text/plain": [
       "<_sre.SRE_Match object; span=(11, 17), match='Python'>"
      ]
     },
     "execution_count": 57,
     "metadata": {
      "tags": []
     },
     "output_type": "execute_result"
    }
   ],
   "source": [
    "# illustrating find and search methods using the re module\n",
    "re.search(pattern, s2, re.IGNORECASE)"
   ]
  },
  {
   "cell_type": "code",
   "execution_count": 58,
   "metadata": {
    "colab": {
     "base_uri": "https://localhost:8080/",
     "height": 34
    },
    "colab_type": "code",
    "id": "FPVDILoEBnqs",
    "outputId": "6b267470-47c8-4f90-abeb-c4343a28184e"
   },
   "outputs": [
    {
     "data": {
      "text/plain": [
       "['Python', 'Python']"
      ]
     },
     "execution_count": 58,
     "metadata": {
      "tags": []
     },
     "output_type": "execute_result"
    }
   ],
   "source": [
    "re.findall(pattern, s2, re.IGNORECASE)"
   ]
  },
  {
   "cell_type": "code",
   "execution_count": 59,
   "metadata": {
    "colab": {
     "base_uri": "https://localhost:8080/",
     "height": 34
    },
    "colab_type": "code",
    "id": "_0ctBnc9Bnqw",
    "outputId": "88203b24-7010-436b-c4b9-3af31cbaed3d"
   },
   "outputs": [
    {
     "data": {
      "text/plain": [
       "<callable_iterator at 0x7f0dfca76c88>"
      ]
     },
     "execution_count": 59,
     "metadata": {
      "tags": []
     },
     "output_type": "execute_result"
    }
   ],
   "source": [
    "match_objs = re.finditer(pattern, s2, re.IGNORECASE)\n",
    "match_objs"
   ]
  },
  {
   "cell_type": "code",
   "execution_count": 60,
   "metadata": {
    "colab": {
     "base_uri": "https://localhost:8080/",
     "height": 67
    },
    "colab_type": "code",
    "id": "nCLXMMU8Bnqy",
    "outputId": "d8fe89af-7bc3-44af-a6ca-d63f9a166249"
   },
   "outputs": [
    {
     "name": "stdout",
     "output_type": "stream",
     "text": [
      "String: I love the Python language. I also use Python to build applications at work!\n",
      "Found match \"Python\" ranging from index 11 - 17\n",
      "Found match \"Python\" ranging from index 39 - 45\n"
     ]
    }
   ],
   "source": [
    "print(\"String:\", s2)\n",
    "for m in match_objs:\n",
    "    print('Found match \"{}\" ranging from index {} - {}'.format(m.group(0), \n",
    "                                                               m.start(), m.end()))"
   ]
  },
  {
   "cell_type": "code",
   "execution_count": 61,
   "metadata": {
    "colab": {
     "base_uri": "https://localhost:8080/",
     "height": 34
    },
    "colab_type": "code",
    "id": "B77hUNBBBnq1",
    "outputId": "8dd7cf18-db87-4363-81a6-da74d78b3e91"
   },
   "outputs": [
    {
     "data": {
      "text/plain": [
       "'I love the Java language. I also use Java to build applications at work!'"
      ]
     },
     "execution_count": 61,
     "metadata": {
      "tags": []
     },
     "output_type": "execute_result"
    }
   ],
   "source": [
    "# illustrating pattern substitution using sub and subn methods\n",
    "re.sub(pattern, 'Java', s2, flags=re.IGNORECASE)"
   ]
  },
  {
   "cell_type": "code",
   "execution_count": 62,
   "metadata": {
    "colab": {
     "base_uri": "https://localhost:8080/",
     "height": 34
    },
    "colab_type": "code",
    "id": "1bKd3KxxBnq3",
    "outputId": "104920a8-a5f2-4b66-d6a5-9284a5970092"
   },
   "outputs": [
    {
     "data": {
      "text/plain": [
       "('I love the Java language. I also use Java to build applications at work!', 2)"
      ]
     },
     "execution_count": 62,
     "metadata": {
      "tags": []
     },
     "output_type": "execute_result"
    }
   ],
   "source": [
    "re.subn(pattern, 'Java', s2, flags=re.IGNORECASE)"
   ]
  },
  {
   "cell_type": "code",
   "execution_count": 63,
   "metadata": {
    "colab": {
     "base_uri": "https://localhost:8080/",
     "height": 34
    },
    "colab_type": "code",
    "id": "nTYjDxldBnq5",
    "outputId": "558a07ad-6da5-4e7e-f169-a70f338eacc4"
   },
   "outputs": [
    {
     "data": {
      "text/plain": [
       "'Hèllo! this is Python 🐍'"
      ]
     },
     "execution_count": 63,
     "metadata": {
      "tags": []
     },
     "output_type": "execute_result"
    }
   ],
   "source": [
    "# dealing with unicode matching using regexes\n",
    "s = u'H\\u00e8llo! this is Python 🐍'\n",
    "s"
   ]
  },
  {
   "cell_type": "code",
   "execution_count": 64,
   "metadata": {
    "colab": {
     "base_uri": "https://localhost:8080/",
     "height": 34
    },
    "colab_type": "code",
    "id": "ZIq5BxU9Bnq6",
    "outputId": "2b18f8bb-d35f-4ecb-8d53-6bdc2bf08b70"
   },
   "outputs": [
    {
     "data": {
      "text/plain": [
       "['Hèllo', 'this', 'is', 'Python']"
      ]
     },
     "execution_count": 64,
     "metadata": {
      "tags": []
     },
     "output_type": "execute_result"
    }
   ],
   "source": [
    "re.findall(r'\\w+', s)"
   ]
  },
  {
   "cell_type": "code",
   "execution_count": 65,
   "metadata": {
    "colab": {
     "base_uri": "https://localhost:8080/",
     "height": 34
    },
    "colab_type": "code",
    "id": "88izNS1zBnq8",
    "outputId": "6da32993-0634-418b-e5f6-7a38aa41da5a"
   },
   "outputs": [
    {
     "data": {
      "text/plain": [
       "['Hèllo', 'Python']"
      ]
     },
     "execution_count": 65,
     "metadata": {
      "tags": []
     },
     "output_type": "execute_result"
    }
   ],
   "source": [
    "re.findall(r\"[A-Z]\\w+\", s)"
   ]
  },
  {
   "cell_type": "code",
   "execution_count": 66,
   "metadata": {
    "colab": {
     "base_uri": "https://localhost:8080/",
     "height": 34
    },
    "colab_type": "code",
    "id": "BeKk3A7qBnq-",
    "outputId": "6591c059-89ec-4552-aa5a-d98615c391c0"
   },
   "outputs": [
    {
     "data": {
      "text/plain": [
       "['🐍']"
      ]
     },
     "execution_count": 66,
     "metadata": {
      "tags": []
     },
     "output_type": "execute_result"
    }
   ],
   "source": [
    "emoji_pattern = r\"['\\U0001F300-\\U0001F5FF'|'\\U0001F600-\\U0001F64F'|'\\U0001F680-\\U0001F6FF'|'\\u2600-\\u26FF\\u2700-\\u27BF']\"\n",
    "re.findall(emoji_pattern, s, re.UNICODE)"
   ]
  }
 ],
 "metadata": {
  "accelerator": "GPU",
  "anaconda-cloud": {},
  "colab": {
   "collapsed_sections": [],
   "name": "00-Introduction to NLP - Basics.ipynb",
   "provenance": []
  },
  "kernelspec": {
   "display_name": "Python 3",
   "language": "python",
   "name": "python3"
  },
  "language_info": {
   "codemirror_mode": {
    "name": "ipython",
    "version": 3
   },
   "file_extension": ".py",
   "mimetype": "text/x-python",
   "name": "python",
   "nbconvert_exporter": "python",
   "pygments_lexer": "ipython3",
   "version": "3.7.1"
  }
 },
 "nbformat": 4,
 "nbformat_minor": 1
}
