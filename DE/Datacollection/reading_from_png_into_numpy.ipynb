{
 "cells": [
  {
   "cell_type": "code",
   "execution_count": 17,
   "metadata": {},
   "outputs": [
    {
     "name": "stdout",
     "output_type": "stream",
     "text": [
      "(396270, 4)\n"
     ]
    }
   ],
   "source": [
    "from PIL import Image\n",
    "import numpy as np\n",
    "\n",
    "im_frame = Image.open('companies.png')\n",
    "np_frame = np.array(im_frame.getdata())\n",
    "\n",
    "print (np_frame.shape)"
   ]
  },
  {
   "cell_type": "code",
   "execution_count": 18,
   "metadata": {},
   "outputs": [
    {
     "name": "stdout",
     "output_type": "stream",
     "text": [
      "(518, 765, 4)\n"
     ]
    }
   ],
   "source": [
    "import imageio\n",
    "\n",
    "im = imageio.imread('companies.png')\n",
    "print(im.shape)"
   ]
  },
  {
   "cell_type": "code",
   "execution_count": null,
   "metadata": {},
   "outputs": [],
   "source": [
    "#cv - computer vision."
   ]
  },
  {
   "cell_type": "code",
   "execution_count": 13,
   "metadata": {},
   "outputs": [
    {
     "name": "stdout",
     "output_type": "stream",
     "text": [
      "Collecting cv2\n"
     ]
    },
    {
     "name": "stderr",
     "output_type": "stream",
     "text": [
      "  Could not find a version that satisfies the requirement cv2 (from versions: )\n",
      "No matching distribution found for cv2\n"
     ]
    }
   ],
   "source": [
    "!pip install opencv-python"
   ]
  },
  {
   "cell_type": "code",
   "execution_count": 30,
   "metadata": {},
   "outputs": [
    {
     "name": "stdout",
     "output_type": "stream",
     "text": [
      "(518, 765, 4) (518, 765, 3)\n"
     ]
    }
   ],
   "source": [
    "import os\n",
    "import matplotlib.pyplot as plt\n",
    "import cv2\n",
    "import numpy as np\n",
    "\n",
    "# Get the file paths\n",
    "im_files = os.curdir #os.listdir('path/to/files/')\n",
    "\n",
    "# imagine we only want to load PNG files (or JPEG or whatever...)\n",
    "EXTENSION = '.png'\n",
    "\n",
    "# Load using matplotlib\n",
    "images_plt = plt.imread(\"companies.png\") #[plt.imread(f) for f in im_files if f.endswith(EXTENSION)]\n",
    "\n",
    "# convert your lists into a numpy array of size (N, H, W, C)\n",
    "images = np.array(images_plt)\n",
    "\n",
    "# Load using opencv\n",
    "images_cv = cv2.imread(\"companies.png\") #[cv2.imread(f) for f in im_files if f.endswith(EXTENSION)]\n",
    "# convert your lists into a numpy array of size (N, C, H, W)\n",
    "images = np.array(images_cv)\n",
    "print(images_plt.shape, images.shape)"
   ]
  },
  {
   "cell_type": "code",
   "execution_count": 32,
   "metadata": {},
   "outputs": [
    {
     "name": "stdout",
     "output_type": "stream",
     "text": [
      "[[[255 255 255]\n",
      "  [255 255 255]\n",
      "  [255 255 255]\n",
      "  ...\n",
      "  [255 255 255]\n",
      "  [255 255 255]\n",
      "  [255 255 255]]\n",
      "\n",
      " [[255 255 255]\n",
      "  [255 255 255]\n",
      "  [255 255 255]\n",
      "  ...\n",
      "  [255 255 255]\n",
      "  [255 255 255]\n",
      "  [255 255 255]]\n",
      "\n",
      " [[255 255 255]\n",
      "  [255 255 255]\n",
      "  [255 255 255]\n",
      "  ...\n",
      "  [255 255 255]\n",
      "  [255 255 255]\n",
      "  [255 255 255]]\n",
      "\n",
      " ...\n",
      "\n",
      " [[ 31 209 156]\n",
      "  [ 31 209 156]\n",
      "  [ 31 209 156]\n",
      "  ...\n",
      "  [ 31 209 156]\n",
      "  [ 31 209 156]\n",
      "  [ 31 209 156]]\n",
      "\n",
      " [[214 214 214]\n",
      "  [211 211 211]\n",
      "  [208 208 208]\n",
      "  ...\n",
      "  [203 203 203]\n",
      "  [205 205 205]\n",
      "  [208 208 208]]\n",
      "\n",
      " [[220 220 220]\n",
      "  [218 218 218]\n",
      "  [215 215 215]\n",
      "  ...\n",
      "  [210 210 210]\n",
      "  [213 213 213]\n",
      "  [215 215 215]]]\n"
     ]
    }
   ],
   "source": [
    "print (images)"
   ]
  },
  {
   "cell_type": "code",
   "execution_count": 31,
   "metadata": {},
   "outputs": [
    {
     "name": "stdout",
     "output_type": "stream",
     "text": [
      "[[[1.         1.         1.         1.        ]\n",
      "  [1.         1.         1.         1.        ]\n",
      "  [1.         1.         1.         1.        ]\n",
      "  ...\n",
      "  [1.         1.         1.         1.        ]\n",
      "  [1.         1.         1.         1.        ]\n",
      "  [1.         1.         1.         1.        ]]\n",
      "\n",
      " [[1.         1.         1.         1.        ]\n",
      "  [1.         1.         1.         1.        ]\n",
      "  [1.         1.         1.         1.        ]\n",
      "  ...\n",
      "  [1.         1.         1.         1.        ]\n",
      "  [1.         1.         1.         1.        ]\n",
      "  [1.         1.         1.         1.        ]]\n",
      "\n",
      " [[1.         1.         1.         1.        ]\n",
      "  [1.         1.         1.         1.        ]\n",
      "  [1.         1.         1.         1.        ]\n",
      "  ...\n",
      "  [1.         1.         1.         1.        ]\n",
      "  [1.         1.         1.         1.        ]\n",
      "  [1.         1.         1.         1.        ]]\n",
      "\n",
      " ...\n",
      "\n",
      " [[0.6117647  0.81960785 0.12156863 1.        ]\n",
      "  [0.6117647  0.81960785 0.12156863 1.        ]\n",
      "  [0.6117647  0.81960785 0.12156863 1.        ]\n",
      "  ...\n",
      "  [0.6117647  0.81960785 0.12156863 1.        ]\n",
      "  [0.6117647  0.81960785 0.12156863 1.        ]\n",
      "  [0.6117647  0.81960785 0.12156863 1.        ]]\n",
      "\n",
      " [[0.8392157  0.8392157  0.8392157  1.        ]\n",
      "  [0.827451   0.827451   0.827451   1.        ]\n",
      "  [0.8156863  0.8156863  0.8156863  1.        ]\n",
      "  ...\n",
      "  [0.79607844 0.79607844 0.79607844 1.        ]\n",
      "  [0.8039216  0.8039216  0.8039216  1.        ]\n",
      "  [0.8156863  0.8156863  0.8156863  1.        ]]\n",
      "\n",
      " [[0.8627451  0.8627451  0.8627451  1.        ]\n",
      "  [0.85490197 0.85490197 0.85490197 1.        ]\n",
      "  [0.84313726 0.84313726 0.84313726 1.        ]\n",
      "  ...\n",
      "  [0.8235294  0.8235294  0.8235294  1.        ]\n",
      "  [0.8352941  0.8352941  0.8352941  1.        ]\n",
      "  [0.84313726 0.84313726 0.84313726 1.        ]]]\n"
     ]
    }
   ],
   "source": [
    "print (images_plt)"
   ]
  },
  {
   "cell_type": "code",
   "execution_count": null,
   "metadata": {},
   "outputs": [],
   "source": []
  },
  {
   "cell_type": "code",
   "execution_count": null,
   "metadata": {},
   "outputs": [],
   "source": []
  }
 ],
 "metadata": {
  "kernelspec": {
   "display_name": "Python 3",
   "language": "python",
   "name": "python3"
  },
  "language_info": {
   "codemirror_mode": {
    "name": "ipython",
    "version": 3
   },
   "file_extension": ".py",
   "mimetype": "text/x-python",
   "name": "python",
   "nbconvert_exporter": "python",
   "pygments_lexer": "ipython3",
   "version": "3.7.1"
  }
 },
 "nbformat": 4,
 "nbformat_minor": 2
}
