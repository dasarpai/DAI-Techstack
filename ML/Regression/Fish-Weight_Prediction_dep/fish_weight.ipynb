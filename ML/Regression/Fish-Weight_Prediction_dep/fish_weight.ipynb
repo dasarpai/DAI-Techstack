{
 "cells": [
  {
   "attachments": {},
   "cell_type": "markdown",
   "metadata": {},
   "source": [
    "# Develop Model"
   ]
  },
  {
   "cell_type": "code",
   "execution_count": 13,
   "metadata": {},
   "outputs": [],
   "source": [
    "import pandas as pd\n",
    "import seaborn as sns\n",
    "import matplotlib.pyplot as plt\n",
    "from itertools import combinations\n",
    "import numpy as np\n",
    "from hyperopt import hp\n",
    "from hyperopt import fmin, tpe, STATUS_OK, STATUS_FAIL, Trials\n",
    "from sklearn.model_selection import cross_val_score\n",
    "from sklearn.model_selection import train_test_split\n",
    "from sklearn.preprocessing import LabelEncoder\n",
    "from sklearn.tree import DecisionTreeRegressor\n",
    "from sklearn.ensemble import RandomForestRegressor\n",
    "import xgboost as xgb\n",
    "from sklearn.metrics import mean_squared_error, mean_absolute_error, r2_score"
   ]
  },
  {
   "cell_type": "code",
   "execution_count": 14,
   "metadata": {},
   "outputs": [],
   "source": [
    "def evauation_model(pred, y_val):\n",
    "  score_MSE = round(mean_squared_error(pred, y_val),2)\n",
    "  score_MAE = round(mean_absolute_error(pred, y_val),2)\n",
    "  score_r2score = round(r2_score(pred, y_val),2)\n",
    "  return score_MSE, score_MAE, score_r2score\n",
    "\n",
    "\n",
    "def models_score(model_name, train_data, y_train, val_data, y_val):\n",
    "    model_list = [\"Decision_Tree\", \"Random_Forest\", \"XGboost_Regressor\"]\n",
    "    # model_1\n",
    "    if model_name == \"Decision_Tree\":\n",
    "        reg = DecisionTreeRegressor(random_state=42)\n",
    "    # model_2\n",
    "    elif model_name == \"Random_Forest\":\n",
    "        reg = RandomForestRegressor(random_state=42)\n",
    "\n",
    "    # model_3\n",
    "    elif model_name == \"XGboost_Regressor\":\n",
    "        reg = xgb.XGBRegressor(objective=\"reg:squarederror\", random_state=42, )\n",
    "    else:\n",
    "        print(\"please enter correct regressor name\")\n",
    "\n",
    "    if model_name in model_list:\n",
    "        reg.fit(train_data, y_train)\n",
    "        pred = reg.predict(val_data)\n",
    "\n",
    "        score_MSE, score_MAE, score_r2score = evauation_model(pred, y_val)\n",
    "        return round(score_MSE, 2), round(score_MAE, 2), round(score_r2score, 2)"
   ]
  },
  {
   "cell_type": "code",
   "execution_count": 15,
   "metadata": {},
   "outputs": [],
   "source": [
    "def evauation_model(pred, y_val):\n",
    "  score_MSE = round(mean_squared_error(pred, y_val), 2)\n",
    "  score_MAE = round(mean_absolute_error(pred, y_val), 2)\n",
    "  score_r2score = round(r2_score(pred, y_val), 2)\n",
    "  return score_MSE, score_MAE, score_r2score\n"
   ]
  },
  {
   "cell_type": "code",
   "execution_count": 16,
   "metadata": {},
   "outputs": [],
   "source": [
    "def hyperparameter_tuning(space):\n",
    "    model = xgb.XGBRegressor(n_estimators=space['n_estimators'], max_depth=int(space['max_depth']),\n",
    "                             gamma=space['gamma'],\n",
    "                             reg_alpha=int(space['reg_alpha']), min_child_weight=space['min_child_weight'],\n",
    "                             colsample_bytree=space['colsample_bytree'], objective=\"reg:squarederror\")\n",
    "\n",
    "    score_cv = cross_val_score(\n",
    "        model, x_train, y_train, cv=5, scoring=\"neg_mean_absolute_error\").mean()\n",
    "    return {'loss': -score_cv, 'status': STATUS_OK, 'model': model}"
   ]
  },
  {
   "cell_type": "code",
   "execution_count": 19,
   "metadata": {},
   "outputs": [
    {
     "name": "stdout",
     "output_type": "stream",
     "text": [
      "Decision_Tree (7005.89, 48.71, 0.95)\n",
      "Random_Forest (4659.44, 44.66, 0.97)\n",
      "XGboost_Regressor (5151.54, 41.05, 0.96)\n"
     ]
    }
   ],
   "source": [
    "data = pd.read_csv(\"Fish.csv\")\n",
    "data_cleaned = data.drop(\"Weight\", axis=1)\n",
    "y = data['Weight']\n",
    "#%%\n",
    "x_train, x_test, y_train, y_test = train_test_split(data_cleaned,y, test_size=0.2, random_state=42)\n",
    "label_encoder = LabelEncoder()\n",
    "x_train['Species'] = label_encoder.fit_transform(x_train['Species'].values)\n",
    "x_test['Species'] = label_encoder.transform(x_test['Species'].values)\n",
    "model_list = [\"Decision_Tree\",\"Random_Forest\",\"XGboost_Regressor\"]\n",
    "#%%\n",
    "result_scores = []\n",
    "for model in model_list:\n",
    "    score = models_score(model, x_train, y_train, x_test, y_test)\n",
    "    result_scores.append((model, score[0], score[1],score[2]))\n",
    "    print(model,score)\n",
    "\n",
    "df_result_scores = pd.DataFrame(result_scores,columns=[\"model\",\"mse\",\"mae\",\"r2score\"])\n",
    "df_result_scores\n",
    "#%%\n",
    "num_estimator = [100, 150, 200, 250]\n",
    "\n",
    "space = {'max_depth': hp.quniform(\"max_depth\", 3, 18, 1),\n",
    "         'gamma': hp.uniform('gamma', 1, 9),\n",
    "         'reg_alpha': hp.quniform('reg_alpha', 30, 180, 1),\n",
    "         'reg_lambda': hp.uniform('reg_lambda', 0, 1),\n",
    "         'colsample_bytree': hp.uniform('colsample_bytree', 0.5, 1),\n",
    "         'min_child_weight': hp.quniform('min_child_weight', 0, 10, 1),\n",
    "         'n_estimators': hp.choice(\"n_estimators\", num_estimator),}"
   ]
  },
  {
   "cell_type": "code",
   "execution_count": 21,
   "metadata": {},
   "outputs": [
    {
     "name": "stdout",
     "output_type": "stream",
     "text": [
      "  0%|          | 0/100 [00:00<?, ?trial/s, best loss=?]"
     ]
    },
    {
     "name": "stderr",
     "output_type": "stream",
     "text": [
      "2023-02-03 23:07:39.123 build_posterior_wrapper took 0.005979 seconds\n",
      "2023-02-03 23:07:39.124 TPE using 0 trials\n"
     ]
    },
    {
     "name": "stdout",
     "output_type": "stream",
     "text": [
      "  1%|          | 1/100 [00:00<01:38,  1.00trial/s, best loss: 46.201318116995]"
     ]
    },
    {
     "name": "stderr",
     "output_type": "stream",
     "text": [
      "2023-02-03 23:07:40.124 build_posterior_wrapper took 0.005984 seconds\n",
      "2023-02-03 23:07:40.125 TPE using 1/1 trials with best loss 46.201318\n"
     ]
    },
    {
     "name": "stdout",
     "output_type": "stream",
     "text": [
      "  2%|▏         | 2/100 [00:01<01:15,  1.31trial/s, best loss: 46.201318116995]"
     ]
    },
    {
     "name": "stderr",
     "output_type": "stream",
     "text": [
      "2023-02-03 23:07:40.725 build_posterior_wrapper took 0.004985 seconds\n",
      "2023-02-03 23:07:40.727 TPE using 2/2 trials with best loss 46.201318\n"
     ]
    },
    {
     "name": "stdout",
     "output_type": "stream",
     "text": [
      "  3%|▎         | 3/100 [00:02<01:15,  1.28trial/s, best loss: 46.201318116995]"
     ]
    },
    {
     "name": "stderr",
     "output_type": "stream",
     "text": [
      "2023-02-03 23:07:41.531 build_posterior_wrapper took 0.006202 seconds\n",
      "2023-02-03 23:07:41.532 TPE using 3/3 trials with best loss 46.201318\n"
     ]
    },
    {
     "name": "stdout",
     "output_type": "stream",
     "text": [
      "  4%|▍         | 4/100 [00:03<01:25,  1.12trial/s, best loss: 46.201318116995]"
     ]
    },
    {
     "name": "stderr",
     "output_type": "stream",
     "text": [
      "2023-02-03 23:07:42.592 build_posterior_wrapper took 0.005984 seconds\n",
      "2023-02-03 23:07:42.599 TPE using 4/4 trials with best loss 46.201318\n"
     ]
    },
    {
     "name": "stdout",
     "output_type": "stream",
     "text": [
      "  5%|▌         | 5/100 [00:04<01:36,  1.01s/trial, best loss: 46.201318116995]"
     ]
    },
    {
     "name": "stderr",
     "output_type": "stream",
     "text": [
      "2023-02-03 23:07:43.821 build_posterior_wrapper took 0.006974 seconds\n",
      "2023-02-03 23:07:43.824 TPE using 5/5 trials with best loss 46.201318\n"
     ]
    },
    {
     "name": "stdout",
     "output_type": "stream",
     "text": [
      "  6%|▌         | 6/100 [00:05<01:33,  1.01trial/s, best loss: 46.201318116995]"
     ]
    },
    {
     "name": "stderr",
     "output_type": "stream",
     "text": [
      "2023-02-03 23:07:44.766 build_posterior_wrapper took 0.004985 seconds\n",
      "2023-02-03 23:07:44.767 TPE using 6/6 trials with best loss 46.201318\n"
     ]
    },
    {
     "name": "stdout",
     "output_type": "stream",
     "text": [
      "  7%|▋         | 7/100 [00:06<01:38,  1.06s/trial, best loss: 42.88932264768161]"
     ]
    },
    {
     "name": "stderr",
     "output_type": "stream",
     "text": [
      "2023-02-03 23:07:45.977 build_posterior_wrapper took 0.006672 seconds\n",
      "2023-02-03 23:07:45.978 TPE using 7/7 trials with best loss 42.889323\n"
     ]
    },
    {
     "name": "stdout",
     "output_type": "stream",
     "text": [
      "  8%|▊         | 8/100 [00:07<01:38,  1.07s/trial, best loss: 42.88932264768161]"
     ]
    },
    {
     "name": "stderr",
     "output_type": "stream",
     "text": [
      "2023-02-03 23:07:47.069 build_posterior_wrapper took 0.004988 seconds\n",
      "2023-02-03 23:07:47.072 TPE using 8/8 trials with best loss 42.889323\n"
     ]
    },
    {
     "name": "stdout",
     "output_type": "stream",
     "text": [
      "  9%|▉         | 9/100 [00:08<01:23,  1.09trial/s, best loss: 42.88932264768161]"
     ]
    },
    {
     "name": "stderr",
     "output_type": "stream",
     "text": [
      "2023-02-03 23:07:47.658 build_posterior_wrapper took 0.004977 seconds\n",
      "2023-02-03 23:07:47.659 TPE using 9/9 trials with best loss 42.889323\n"
     ]
    },
    {
     "name": "stdout",
     "output_type": "stream",
     "text": [
      " 10%|█         | 10/100 [00:09<01:23,  1.08trial/s, best loss: 41.224163992368254]"
     ]
    },
    {
     "name": "stderr",
     "output_type": "stream",
     "text": [
      "2023-02-03 23:07:48.588 build_posterior_wrapper took 0.007524 seconds\n",
      "2023-02-03 23:07:48.590 TPE using 10/10 trials with best loss 41.224164\n"
     ]
    },
    {
     "name": "stdout",
     "output_type": "stream",
     "text": [
      " 11%|█         | 11/100 [00:10<01:29,  1.01s/trial, best loss: 41.224163992368254]"
     ]
    },
    {
     "name": "stderr",
     "output_type": "stream",
     "text": [
      "2023-02-03 23:07:49.789 build_posterior_wrapper took 0.004984 seconds\n",
      "2023-02-03 23:07:49.790 TPE using 11/11 trials with best loss 41.224164\n"
     ]
    },
    {
     "name": "stdout",
     "output_type": "stream",
     "text": [
      " 12%|█▏        | 12/100 [00:12<01:38,  1.12s/trial, best loss: 41.224163992368254]"
     ]
    },
    {
     "name": "stderr",
     "output_type": "stream",
     "text": [
      "2023-02-03 23:07:51.154 build_posterior_wrapper took 0.005533 seconds\n",
      "2023-02-03 23:07:51.156 TPE using 12/12 trials with best loss 41.224164\n"
     ]
    },
    {
     "name": "stdout",
     "output_type": "stream",
     "text": [
      " 13%|█▎        | 13/100 [00:12<01:29,  1.03s/trial, best loss: 41.224163992368254]"
     ]
    },
    {
     "name": "stderr",
     "output_type": "stream",
     "text": [
      "2023-02-03 23:07:51.977 build_posterior_wrapper took 0.004985 seconds\n",
      "2023-02-03 23:07:51.978 TPE using 13/13 trials with best loss 41.224164\n"
     ]
    },
    {
     "name": "stdout",
     "output_type": "stream",
     "text": [
      " 14%|█▍        | 14/100 [00:13<01:29,  1.04s/trial, best loss: 41.224163992368254]"
     ]
    },
    {
     "name": "stderr",
     "output_type": "stream",
     "text": [
      "2023-02-03 23:07:53.057 build_posterior_wrapper took 0.004985 seconds\n",
      "2023-02-03 23:07:53.059 TPE using 14/14 trials with best loss 41.224164\n"
     ]
    },
    {
     "name": "stdout",
     "output_type": "stream",
     "text": [
      " 15%|█▌        | 15/100 [00:14<01:26,  1.02s/trial, best loss: 41.224163992368254]"
     ]
    },
    {
     "name": "stderr",
     "output_type": "stream",
     "text": [
      "2023-02-03 23:07:54.011 build_posterior_wrapper took 0.003991 seconds\n",
      "2023-02-03 23:07:54.014 TPE using 15/15 trials with best loss 41.224164\n"
     ]
    },
    {
     "name": "stdout",
     "output_type": "stream",
     "text": [
      " 16%|█▌        | 16/100 [00:15<01:17,  1.09trial/s, best loss: 41.224163992368254]"
     ]
    },
    {
     "name": "stderr",
     "output_type": "stream",
     "text": [
      "2023-02-03 23:07:54.710 build_posterior_wrapper took 0.004987 seconds\n",
      "2023-02-03 23:07:54.713 TPE using 16/16 trials with best loss 41.224164\n"
     ]
    },
    {
     "name": "stdout",
     "output_type": "stream",
     "text": [
      " 17%|█▋        | 17/100 [00:16<01:18,  1.06trial/s, best loss: 41.224163992368254]"
     ]
    },
    {
     "name": "stderr",
     "output_type": "stream",
     "text": [
      "2023-02-03 23:07:55.703 build_posterior_wrapper took 0.004984 seconds\n",
      "2023-02-03 23:07:55.704 TPE using 17/17 trials with best loss 41.224164\n"
     ]
    },
    {
     "name": "stdout",
     "output_type": "stream",
     "text": [
      " 18%|█▊        | 18/100 [00:17<01:24,  1.04s/trial, best loss: 41.04584435712374] "
     ]
    },
    {
     "name": "stderr",
     "output_type": "stream",
     "text": [
      "2023-02-03 23:07:56.957 build_posterior_wrapper took 0.005983 seconds\n",
      "2023-02-03 23:07:56.958 TPE using 18/18 trials with best loss 41.045844\n"
     ]
    },
    {
     "name": "stdout",
     "output_type": "stream",
     "text": [
      " 19%|█▉        | 19/100 [00:19<01:31,  1.13s/trial, best loss: 41.04584435712374]"
     ]
    },
    {
     "name": "stderr",
     "output_type": "stream",
     "text": [
      "2023-02-03 23:07:58.306 build_posterior_wrapper took 0.006012 seconds\n",
      "2023-02-03 23:07:58.310 TPE using 19/19 trials with best loss 41.045844\n"
     ]
    },
    {
     "name": "stdout",
     "output_type": "stream",
     "text": [
      " 20%|██        | 20/100 [00:20<01:43,  1.29s/trial, best loss: 40.688093539722146]"
     ]
    },
    {
     "name": "stderr",
     "output_type": "stream",
     "text": [
      "2023-02-03 23:07:59.973 build_posterior_wrapper took 0.005845 seconds\n",
      "2023-02-03 23:07:59.975 TPE using 20/20 trials with best loss 40.688094\n"
     ]
    },
    {
     "name": "stdout",
     "output_type": "stream",
     "text": [
      " 21%|██        | 21/100 [00:22<01:43,  1.32s/trial, best loss: 40.688093539722146]"
     ]
    },
    {
     "name": "stderr",
     "output_type": "stream",
     "text": [
      "2023-02-03 23:08:01.346 build_posterior_wrapper took 0.004987 seconds\n",
      "2023-02-03 23:08:01.347 TPE using 21/21 trials with best loss 40.688094\n"
     ]
    },
    {
     "name": "stdout",
     "output_type": "stream",
     "text": [
      " 22%|██▏       | 22/100 [00:23<01:42,  1.32s/trial, best loss: 40.60402611254178] "
     ]
    },
    {
     "name": "stderr",
     "output_type": "stream",
     "text": [
      "2023-02-03 23:08:02.666 build_posterior_wrapper took 0.005982 seconds\n",
      "2023-02-03 23:08:02.667 TPE using 22/22 trials with best loss 40.604026\n"
     ]
    },
    {
     "name": "stdout",
     "output_type": "stream",
     "text": [
      " 23%|██▎       | 23/100 [00:25<01:57,  1.52s/trial, best loss: 39.394578547081586]"
     ]
    },
    {
     "name": "stderr",
     "output_type": "stream",
     "text": [
      "2023-02-03 23:08:04.669 build_posterior_wrapper took 0.003715 seconds\n",
      "2023-02-03 23:08:04.671 TPE using 23/23 trials with best loss 39.394579\n"
     ]
    },
    {
     "name": "stdout",
     "output_type": "stream",
     "text": [
      " 24%|██▍       | 24/100 [00:26<01:51,  1.46s/trial, best loss: 39.259819935549224]"
     ]
    },
    {
     "name": "stderr",
     "output_type": "stream",
     "text": [
      "2023-02-03 23:08:05.987 build_posterior_wrapper took 0.004977 seconds\n",
      "2023-02-03 23:08:05.989 TPE using 24/24 trials with best loss 39.259820\n"
     ]
    },
    {
     "name": "stdout",
     "output_type": "stream",
     "text": [
      " 25%|██▌       | 25/100 [00:28<01:47,  1.43s/trial, best loss: 39.259819935549224]"
     ]
    },
    {
     "name": "stderr",
     "output_type": "stream",
     "text": [
      "2023-02-03 23:08:07.336 build_posterior_wrapper took 0.004984 seconds\n",
      "2023-02-03 23:08:07.338 TPE using 25/25 trials with best loss 39.259820\n"
     ]
    },
    {
     "name": "stdout",
     "output_type": "stream",
     "text": [
      " 26%|██▌       | 26/100 [00:29<01:42,  1.39s/trial, best loss: 38.99277748636099] "
     ]
    },
    {
     "name": "stderr",
     "output_type": "stream",
     "text": [
      "2023-02-03 23:08:08.632 build_posterior_wrapper took 0.006302 seconds\n",
      "2023-02-03 23:08:08.634 TPE using 26/26 trials with best loss 38.992777\n"
     ]
    },
    {
     "name": "stdout",
     "output_type": "stream",
     "text": [
      " 27%|██▋       | 27/100 [00:31<01:45,  1.45s/trial, best loss: 38.99277748636099]"
     ]
    },
    {
     "name": "stderr",
     "output_type": "stream",
     "text": [
      "2023-02-03 23:08:10.217 build_posterior_wrapper took 0.004986 seconds\n",
      "2023-02-03 23:08:10.218 TPE using 27/27 trials with best loss 38.992777\n"
     ]
    },
    {
     "name": "stdout",
     "output_type": "stream",
     "text": [
      " 28%|██▊       | 28/100 [00:32<01:40,  1.39s/trial, best loss: 38.99277748636099]"
     ]
    },
    {
     "name": "stderr",
     "output_type": "stream",
     "text": [
      "2023-02-03 23:08:11.469 build_posterior_wrapper took 0.004987 seconds\n",
      "2023-02-03 23:08:11.471 TPE using 28/28 trials with best loss 38.992777\n"
     ]
    },
    {
     "name": "stdout",
     "output_type": "stream",
     "text": [
      " 29%|██▉       | 29/100 [00:33<01:37,  1.37s/trial, best loss: 38.99277748636099]"
     ]
    },
    {
     "name": "stderr",
     "output_type": "stream",
     "text": [
      "2023-02-03 23:08:12.792 build_posterior_wrapper took 0.006092 seconds\n",
      "2023-02-03 23:08:12.794 TPE using 29/29 trials with best loss 38.992777\n"
     ]
    },
    {
     "name": "stdout",
     "output_type": "stream",
     "text": [
      " 30%|███       | 30/100 [00:35<01:42,  1.47s/trial, best loss: 38.99277748636099]"
     ]
    },
    {
     "name": "stderr",
     "output_type": "stream",
     "text": [
      "2023-02-03 23:08:14.489 build_posterior_wrapper took 0.006981 seconds\n",
      "2023-02-03 23:08:14.491 TPE using 30/30 trials with best loss 38.992777\n"
     ]
    },
    {
     "name": "stdout",
     "output_type": "stream",
     "text": [
      " 31%|███       | 31/100 [00:36<01:26,  1.25s/trial, best loss: 38.99277748636099]"
     ]
    },
    {
     "name": "stderr",
     "output_type": "stream",
     "text": [
      "2023-02-03 23:08:15.247 build_posterior_wrapper took 0.004984 seconds\n",
      "2023-02-03 23:08:15.249 TPE using 31/31 trials with best loss 38.992777\n"
     ]
    },
    {
     "name": "stdout",
     "output_type": "stream",
     "text": [
      " 32%|███▏      | 32/100 [00:37<01:26,  1.28s/trial, best loss: 38.99277748636099]"
     ]
    },
    {
     "name": "stderr",
     "output_type": "stream",
     "text": [
      "2023-02-03 23:08:16.579 build_posterior_wrapper took 0.009971 seconds\n",
      "2023-02-03 23:08:16.581 TPE using 32/32 trials with best loss 38.992777\n"
     ]
    },
    {
     "name": "stdout",
     "output_type": "stream",
     "text": [
      " 33%|███▎      | 33/100 [00:38<01:14,  1.11s/trial, best loss: 38.99277748636099]"
     ]
    },
    {
     "name": "stderr",
     "output_type": "stream",
     "text": [
      "2023-02-03 23:08:17.280 build_posterior_wrapper took 0.005980 seconds\n",
      "2023-02-03 23:08:17.281 TPE using 33/33 trials with best loss 38.992777\n"
     ]
    },
    {
     "name": "stdout",
     "output_type": "stream",
     "text": [
      " 34%|███▍      | 34/100 [00:39<01:17,  1.18s/trial, best loss: 38.99277748636099]"
     ]
    },
    {
     "name": "stderr",
     "output_type": "stream",
     "text": [
      "2023-02-03 23:08:18.639 build_posterior_wrapper took 0.005968 seconds\n",
      "2023-02-03 23:08:18.640 TPE using 34/34 trials with best loss 38.992777\n"
     ]
    },
    {
     "name": "stdout",
     "output_type": "stream",
     "text": [
      " 35%|███▌      | 35/100 [00:41<01:23,  1.28s/trial, best loss: 38.99277748636099]"
     ]
    },
    {
     "name": "stderr",
     "output_type": "stream",
     "text": [
      "2023-02-03 23:08:20.143 build_posterior_wrapper took 0.005984 seconds\n",
      "2023-02-03 23:08:20.144 TPE using 35/35 trials with best loss 38.992777\n"
     ]
    },
    {
     "name": "stdout",
     "output_type": "stream",
     "text": [
      " 36%|███▌      | 36/100 [00:41<01:09,  1.09s/trial, best loss: 38.99277748636099]"
     ]
    },
    {
     "name": "stderr",
     "output_type": "stream",
     "text": [
      "2023-02-03 23:08:20.788 build_posterior_wrapper took 0.005985 seconds\n",
      "2023-02-03 23:08:20.789 TPE using 36/36 trials with best loss 38.992777\n"
     ]
    },
    {
     "name": "stdout",
     "output_type": "stream",
     "text": [
      " 37%|███▋      | 37/100 [00:43<01:13,  1.16s/trial, best loss: 38.99277748636099]"
     ]
    },
    {
     "name": "stderr",
     "output_type": "stream",
     "text": [
      "2023-02-03 23:08:22.130 build_posterior_wrapper took 0.005984 seconds\n",
      "2023-02-03 23:08:22.131 TPE using 37/37 trials with best loss 38.992777\n"
     ]
    },
    {
     "name": "stdout",
     "output_type": "stream",
     "text": [
      " 38%|███▊      | 38/100 [00:44<01:10,  1.14s/trial, best loss: 38.99277748636099]"
     ]
    },
    {
     "name": "stderr",
     "output_type": "stream",
     "text": [
      "2023-02-03 23:08:23.207 build_posterior_wrapper took 0.003989 seconds\n",
      "2023-02-03 23:08:23.217 TPE using 38/38 trials with best loss 38.992777\n"
     ]
    },
    {
     "name": "stdout",
     "output_type": "stream",
     "text": [
      " 39%|███▉      | 39/100 [00:45<01:18,  1.28s/trial, best loss: 38.99277748636099]"
     ]
    },
    {
     "name": "stderr",
     "output_type": "stream",
     "text": [
      "2023-02-03 23:08:24.827 build_posterior_wrapper took 0.005982 seconds\n",
      "2023-02-03 23:08:24.829 TPE using 39/39 trials with best loss 38.992777\n"
     ]
    },
    {
     "name": "stdout",
     "output_type": "stream",
     "text": [
      " 40%|████      | 40/100 [00:46<01:10,  1.18s/trial, best loss: 38.42314930337759]"
     ]
    },
    {
     "name": "stderr",
     "output_type": "stream",
     "text": [
      "2023-02-03 23:08:25.756 build_posterior_wrapper took 0.005984 seconds\n",
      "2023-02-03 23:08:25.760 TPE using 40/40 trials with best loss 38.423149\n"
     ]
    },
    {
     "name": "stdout",
     "output_type": "stream",
     "text": [
      " 41%|████      | 41/100 [00:47<01:03,  1.08s/trial, best loss: 38.42314930337759]"
     ]
    },
    {
     "name": "stderr",
     "output_type": "stream",
     "text": [
      "2023-02-03 23:08:26.608 build_posterior_wrapper took 0.007226 seconds\n",
      "2023-02-03 23:08:26.611 TPE using 41/41 trials with best loss 38.423149\n"
     ]
    },
    {
     "name": "stdout",
     "output_type": "stream",
     "text": [
      " 42%|████▏     | 42/100 [00:48<00:59,  1.02s/trial, best loss: 38.42314930337759]"
     ]
    },
    {
     "name": "stderr",
     "output_type": "stream",
     "text": [
      "2023-02-03 23:08:27.497 build_posterior_wrapper took 0.004986 seconds\n",
      "2023-02-03 23:08:27.499 TPE using 42/42 trials with best loss 38.423149\n"
     ]
    },
    {
     "name": "stdout",
     "output_type": "stream",
     "text": [
      " 43%|████▎     | 43/100 [00:49<00:56,  1.01trial/s, best loss: 38.42314930337759]"
     ]
    },
    {
     "name": "stderr",
     "output_type": "stream",
     "text": [
      "2023-02-03 23:08:28.424 build_posterior_wrapper took 0.008358 seconds\n",
      "2023-02-03 23:08:28.425 TPE using 43/43 trials with best loss 38.423149\n"
     ]
    },
    {
     "name": "stdout",
     "output_type": "stream",
     "text": [
      " 44%|████▍     | 44/100 [00:50<00:54,  1.03trial/s, best loss: 38.42314930337759]"
     ]
    },
    {
     "name": "stderr",
     "output_type": "stream",
     "text": [
      "2023-02-03 23:08:29.358 build_posterior_wrapper took 0.007863 seconds\n",
      "2023-02-03 23:08:29.360 TPE using 44/44 trials with best loss 38.423149\n"
     ]
    },
    {
     "name": "stdout",
     "output_type": "stream",
     "text": [
      " 45%|████▌     | 45/100 [00:51<00:53,  1.02trial/s, best loss: 38.42314930337759]"
     ]
    },
    {
     "name": "stderr",
     "output_type": "stream",
     "text": [
      "2023-02-03 23:08:30.333 build_posterior_wrapper took 0.004986 seconds\n",
      "2023-02-03 23:08:30.337 TPE using 45/45 trials with best loss 38.423149\n"
     ]
    },
    {
     "name": "stdout",
     "output_type": "stream",
     "text": [
      " 46%|████▌     | 46/100 [00:52<00:51,  1.05trial/s, best loss: 38.42314930337759]"
     ]
    },
    {
     "name": "stderr",
     "output_type": "stream",
     "text": [
      "2023-02-03 23:08:31.244 build_posterior_wrapper took 0.004987 seconds\n",
      "2023-02-03 23:08:31.245 TPE using 46/46 trials with best loss 38.423149\n"
     ]
    },
    {
     "name": "stdout",
     "output_type": "stream",
     "text": [
      " 47%|████▋     | 47/100 [00:53<00:55,  1.04s/trial, best loss: 38.42314930337759]"
     ]
    },
    {
     "name": "stderr",
     "output_type": "stream",
     "text": [
      "2023-02-03 23:08:32.493 build_posterior_wrapper took 0.004986 seconds\n",
      "2023-02-03 23:08:32.495 TPE using 47/47 trials with best loss 38.423149\n"
     ]
    },
    {
     "name": "stdout",
     "output_type": "stream",
     "text": [
      " 48%|████▊     | 48/100 [00:54<00:52,  1.02s/trial, best loss: 38.42314930337759]"
     ]
    },
    {
     "name": "stderr",
     "output_type": "stream",
     "text": [
      "2023-02-03 23:08:33.453 build_posterior_wrapper took 0.006982 seconds\n",
      "2023-02-03 23:08:33.456 TPE using 48/48 trials with best loss 38.423149\n"
     ]
    },
    {
     "name": "stdout",
     "output_type": "stream",
     "text": [
      " 49%|████▉     | 49/100 [00:55<00:55,  1.09s/trial, best loss: 38.42314930337759]"
     ]
    },
    {
     "name": "stderr",
     "output_type": "stream",
     "text": [
      "2023-02-03 23:08:34.709 build_posterior_wrapper took 0.005981 seconds\n",
      "2023-02-03 23:08:34.711 TPE using 49/49 trials with best loss 38.423149\n"
     ]
    },
    {
     "name": "stdout",
     "output_type": "stream",
     "text": [
      " 50%|█████     | 50/100 [00:57<01:02,  1.25s/trial, best loss: 38.42314930337759]"
     ]
    },
    {
     "name": "stderr",
     "output_type": "stream",
     "text": [
      "2023-02-03 23:08:36.337 build_posterior_wrapper took 0.005982 seconds\n",
      "2023-02-03 23:08:36.338 TPE using 50/50 trials with best loss 38.423149\n"
     ]
    },
    {
     "name": "stdout",
     "output_type": "stream",
     "text": [
      " 51%|█████     | 51/100 [00:58<01:01,  1.25s/trial, best loss: 38.42314930337759]"
     ]
    },
    {
     "name": "stderr",
     "output_type": "stream",
     "text": [
      "2023-02-03 23:08:37.570 build_posterior_wrapper took 0.004984 seconds\n",
      "2023-02-03 23:08:37.572 TPE using 51/51 trials with best loss 38.423149\n"
     ]
    },
    {
     "name": "stdout",
     "output_type": "stream",
     "text": [
      " 52%|█████▏    | 52/100 [00:59<00:58,  1.22s/trial, best loss: 38.42314930337759]"
     ]
    },
    {
     "name": "stderr",
     "output_type": "stream",
     "text": [
      "2023-02-03 23:08:38.718 build_posterior_wrapper took 0.005979 seconds\n",
      "2023-02-03 23:08:38.719 TPE using 52/52 trials with best loss 38.423149\n"
     ]
    },
    {
     "name": "stdout",
     "output_type": "stream",
     "text": [
      " 53%|█████▎    | 53/100 [01:00<00:58,  1.23s/trial, best loss: 38.42314930337759]"
     ]
    },
    {
     "name": "stderr",
     "output_type": "stream",
     "text": [
      "2023-02-03 23:08:40.000 build_posterior_wrapper took 0.012966 seconds\n",
      "2023-02-03 23:08:40.010 TPE using 53/53 trials with best loss 38.423149\n"
     ]
    },
    {
     "name": "stdout",
     "output_type": "stream",
     "text": [
      " 54%|█████▍    | 54/100 [01:02<01:06,  1.45s/trial, best loss: 38.42314930337759]"
     ]
    },
    {
     "name": "stderr",
     "output_type": "stream",
     "text": [
      "2023-02-03 23:08:41.942 build_posterior_wrapper took 0.006980 seconds\n",
      "2023-02-03 23:08:41.943 TPE using 54/54 trials with best loss 38.423149\n"
     ]
    },
    {
     "name": "stdout",
     "output_type": "stream",
     "text": [
      " 55%|█████▌    | 55/100 [01:03<01:00,  1.35s/trial, best loss: 38.42314930337759]"
     ]
    },
    {
     "name": "stderr",
     "output_type": "stream",
     "text": [
      "2023-02-03 23:08:43.077 build_posterior_wrapper took 0.008974 seconds\n",
      "2023-02-03 23:08:43.078 TPE using 55/55 trials with best loss 38.423149\n"
     ]
    },
    {
     "name": "stdout",
     "output_type": "stream",
     "text": [
      " 56%|█████▌    | 56/100 [01:04<00:51,  1.17s/trial, best loss: 38.42314930337759]"
     ]
    },
    {
     "name": "stderr",
     "output_type": "stream",
     "text": [
      "2023-02-03 23:08:43.826 build_posterior_wrapper took 0.009970 seconds\n",
      "2023-02-03 23:08:43.827 TPE using 56/56 trials with best loss 38.423149\n"
     ]
    },
    {
     "name": "stdout",
     "output_type": "stream",
     "text": [
      " 57%|█████▋    | 57/100 [01:06<00:54,  1.27s/trial, best loss: 38.42314930337759]"
     ]
    },
    {
     "name": "stderr",
     "output_type": "stream",
     "text": [
      "2023-02-03 23:08:45.325 build_posterior_wrapper took 0.004983 seconds\n",
      "2023-02-03 23:08:45.327 TPE using 57/57 trials with best loss 38.423149\n"
     ]
    },
    {
     "name": "stdout",
     "output_type": "stream",
     "text": [
      " 58%|█████▊    | 58/100 [01:07<00:55,  1.33s/trial, best loss: 38.42314930337759]"
     ]
    },
    {
     "name": "stderr",
     "output_type": "stream",
     "text": [
      "2023-02-03 23:08:46.803 build_posterior_wrapper took 0.008787 seconds\n",
      "2023-02-03 23:08:46.804 TPE using 58/58 trials with best loss 38.423149\n"
     ]
    },
    {
     "name": "stdout",
     "output_type": "stream",
     "text": [
      " 59%|█████▉    | 59/100 [01:08<00:49,  1.20s/trial, best loss: 38.42314930337759]"
     ]
    },
    {
     "name": "stderr",
     "output_type": "stream",
     "text": [
      "2023-02-03 23:08:47.706 build_posterior_wrapper took 0.004985 seconds\n",
      "2023-02-03 23:08:47.708 TPE using 59/59 trials with best loss 38.423149\n"
     ]
    },
    {
     "name": "stdout",
     "output_type": "stream",
     "text": [
      " 60%|██████    | 60/100 [01:09<00:45,  1.14s/trial, best loss: 38.42314930337759]"
     ]
    },
    {
     "name": "stderr",
     "output_type": "stream",
     "text": [
      "2023-02-03 23:08:48.700 build_posterior_wrapper took 0.007980 seconds\n",
      "2023-02-03 23:08:48.702 TPE using 60/60 trials with best loss 38.423149\n"
     ]
    },
    {
     "name": "stdout",
     "output_type": "stream",
     "text": [
      " 61%|██████    | 61/100 [01:10<00:40,  1.03s/trial, best loss: 38.42314930337759]"
     ]
    },
    {
     "name": "stderr",
     "output_type": "stream",
     "text": [
      "2023-02-03 23:08:49.487 build_posterior_wrapper took 0.006980 seconds\n",
      "2023-02-03 23:08:49.488 TPE using 61/61 trials with best loss 38.423149\n"
     ]
    },
    {
     "name": "stdout",
     "output_type": "stream",
     "text": [
      " 62%|██████▏   | 62/100 [01:11<00:37,  1.00trial/s, best loss: 38.42314930337759]"
     ]
    },
    {
     "name": "stderr",
     "output_type": "stream",
     "text": [
      "2023-02-03 23:08:50.395 build_posterior_wrapper took 0.005987 seconds\n",
      "2023-02-03 23:08:50.396 TPE using 62/62 trials with best loss 38.423149\n"
     ]
    },
    {
     "name": "stdout",
     "output_type": "stream",
     "text": [
      " 63%|██████▎   | 63/100 [01:12<00:43,  1.17s/trial, best loss: 38.42314930337759]"
     ]
    },
    {
     "name": "stderr",
     "output_type": "stream",
     "text": [
      "2023-02-03 23:08:51.955 build_posterior_wrapper took 0.004986 seconds\n",
      "2023-02-03 23:08:51.957 TPE using 63/63 trials with best loss 38.423149\n"
     ]
    },
    {
     "name": "stdout",
     "output_type": "stream",
     "text": [
      " 64%|██████▍   | 64/100 [01:14<00:42,  1.19s/trial, best loss: 38.42314930337759]"
     ]
    },
    {
     "name": "stderr",
     "output_type": "stream",
     "text": [
      "2023-02-03 23:08:53.193 build_posterior_wrapper took 0.006984 seconds\n",
      "2023-02-03 23:08:53.195 TPE using 64/64 trials with best loss 38.423149\n"
     ]
    },
    {
     "name": "stdout",
     "output_type": "stream",
     "text": [
      " 65%|██████▌   | 65/100 [01:14<00:37,  1.07s/trial, best loss: 38.42314930337759]"
     ]
    },
    {
     "name": "stderr",
     "output_type": "stream",
     "text": [
      "2023-02-03 23:08:53.973 build_posterior_wrapper took 0.007199 seconds\n",
      "2023-02-03 23:08:53.974 TPE using 65/65 trials with best loss 38.423149\n"
     ]
    },
    {
     "name": "stdout",
     "output_type": "stream",
     "text": [
      " 66%|██████▌   | 66/100 [01:16<00:44,  1.30s/trial, best loss: 38.42314930337759]"
     ]
    },
    {
     "name": "stderr",
     "output_type": "stream",
     "text": [
      "2023-02-03 23:08:55.813 build_posterior_wrapper took 0.004984 seconds\n",
      "2023-02-03 23:08:55.815 TPE using 66/66 trials with best loss 38.423149\n"
     ]
    },
    {
     "name": "stdout",
     "output_type": "stream",
     "text": [
      " 67%|██████▋   | 67/100 [01:17<00:41,  1.27s/trial, best loss: 38.42314930337759]"
     ]
    },
    {
     "name": "stderr",
     "output_type": "stream",
     "text": [
      "2023-02-03 23:08:57.028 build_posterior_wrapper took 0.005982 seconds\n",
      "2023-02-03 23:08:57.029 TPE using 67/67 trials with best loss 38.423149\n"
     ]
    },
    {
     "name": "stdout",
     "output_type": "stream",
     "text": [
      " 68%|██████▊   | 68/100 [01:19<00:43,  1.37s/trial, best loss: 38.42314930337759]"
     ]
    },
    {
     "name": "stderr",
     "output_type": "stream",
     "text": [
      "2023-02-03 23:08:58.625 build_posterior_wrapper took 0.004985 seconds\n",
      "2023-02-03 23:08:58.627 TPE using 68/68 trials with best loss 38.423149\n"
     ]
    },
    {
     "name": "stdout",
     "output_type": "stream",
     "text": [
      " 69%|██████▉   | 69/100 [01:21<00:45,  1.45s/trial, best loss: 38.42314930337759]"
     ]
    },
    {
     "name": "stderr",
     "output_type": "stream",
     "text": [
      "2023-02-03 23:09:00.268 build_posterior_wrapper took 0.005984 seconds\n",
      "2023-02-03 23:09:00.270 TPE using 69/69 trials with best loss 38.423149\n"
     ]
    },
    {
     "name": "stdout",
     "output_type": "stream",
     "text": [
      " 70%|███████   | 70/100 [01:22<00:46,  1.54s/trial, best loss: 38.42314930337759]"
     ]
    },
    {
     "name": "stderr",
     "output_type": "stream",
     "text": [
      "2023-02-03 23:09:02.029 build_posterior_wrapper took 0.005987 seconds\n",
      "2023-02-03 23:09:02.030 TPE using 70/70 trials with best loss 38.423149\n"
     ]
    },
    {
     "name": "stdout",
     "output_type": "stream",
     "text": [
      " 71%|███████   | 71/100 [01:23<00:38,  1.33s/trial, best loss: 38.42314930337759]"
     ]
    },
    {
     "name": "stderr",
     "output_type": "stream",
     "text": [
      "2023-02-03 23:09:02.863 build_posterior_wrapper took 0.007986 seconds\n",
      "2023-02-03 23:09:02.865 TPE using 71/71 trials with best loss 38.423149\n"
     ]
    },
    {
     "name": "stdout",
     "output_type": "stream",
     "text": [
      " 72%|███████▏  | 72/100 [01:24<00:33,  1.18s/trial, best loss: 38.42314930337759]"
     ]
    },
    {
     "name": "stderr",
     "output_type": "stream",
     "text": [
      "2023-02-03 23:09:03.692 build_posterior_wrapper took 0.004985 seconds\n",
      "2023-02-03 23:09:03.697 TPE using 72/72 trials with best loss 38.423149\n"
     ]
    },
    {
     "name": "stdout",
     "output_type": "stream",
     "text": [
      " 73%|███████▎  | 73/100 [01:25<00:29,  1.09s/trial, best loss: 38.42314930337759]"
     ]
    },
    {
     "name": "stderr",
     "output_type": "stream",
     "text": [
      "2023-02-03 23:09:04.561 build_posterior_wrapper took 0.007978 seconds\n",
      "2023-02-03 23:09:04.563 TPE using 73/73 trials with best loss 38.423149\n"
     ]
    },
    {
     "name": "stdout",
     "output_type": "stream",
     "text": [
      " 74%|███████▍  | 74/100 [01:26<00:25,  1.00trial/s, best loss: 38.42314930337759]"
     ]
    },
    {
     "name": "stderr",
     "output_type": "stream",
     "text": [
      "2023-02-03 23:09:05.343 build_posterior_wrapper took 0.006983 seconds\n",
      "2023-02-03 23:09:05.345 TPE using 74/74 trials with best loss 38.423149\n"
     ]
    },
    {
     "name": "stdout",
     "output_type": "stream",
     "text": [
      " 75%|███████▌  | 75/100 [01:27<00:23,  1.07trial/s, best loss: 38.42314930337759]"
     ]
    },
    {
     "name": "stderr",
     "output_type": "stream",
     "text": [
      "2023-02-03 23:09:06.146 build_posterior_wrapper took 0.007977 seconds\n",
      "2023-02-03 23:09:06.148 TPE using 75/75 trials with best loss 38.423149\n"
     ]
    },
    {
     "name": "stdout",
     "output_type": "stream",
     "text": [
      " 76%|███████▌  | 76/100 [01:27<00:21,  1.12trial/s, best loss: 38.42314930337759]"
     ]
    },
    {
     "name": "stderr",
     "output_type": "stream",
     "text": [
      "2023-02-03 23:09:06.949 build_posterior_wrapper took 0.005982 seconds\n",
      "2023-02-03 23:09:06.950 TPE using 76/76 trials with best loss 38.423149\n"
     ]
    },
    {
     "name": "stdout",
     "output_type": "stream",
     "text": [
      " 77%|███████▋  | 77/100 [01:28<00:19,  1.18trial/s, best loss: 38.42314930337759]"
     ]
    },
    {
     "name": "stderr",
     "output_type": "stream",
     "text": [
      "2023-02-03 23:09:07.681 build_posterior_wrapper took 0.005985 seconds\n",
      "2023-02-03 23:09:07.682 TPE using 77/77 trials with best loss 38.423149\n"
     ]
    },
    {
     "name": "stdout",
     "output_type": "stream",
     "text": [
      " 78%|███████▊  | 78/100 [01:29<00:18,  1.22trial/s, best loss: 38.42314930337759]"
     ]
    },
    {
     "name": "stderr",
     "output_type": "stream",
     "text": [
      "2023-02-03 23:09:08.446 build_posterior_wrapper took 0.005982 seconds\n",
      "2023-02-03 23:09:08.447 TPE using 78/78 trials with best loss 38.423149\n"
     ]
    },
    {
     "name": "stdout",
     "output_type": "stream",
     "text": [
      " 79%|███████▉  | 79/100 [01:30<00:21,  1.02s/trial, best loss: 38.42314930337759]"
     ]
    },
    {
     "name": "stderr",
     "output_type": "stream",
     "text": [
      "2023-02-03 23:09:09.925 build_posterior_wrapper took 0.004987 seconds\n",
      "2023-02-03 23:09:09.926 TPE using 79/79 trials with best loss 38.423149\n"
     ]
    },
    {
     "name": "stdout",
     "output_type": "stream",
     "text": [
      " 80%|████████  | 80/100 [01:31<00:18,  1.06trial/s, best loss: 38.42314930337759]"
     ]
    },
    {
     "name": "stderr",
     "output_type": "stream",
     "text": [
      "2023-02-03 23:09:10.683 build_posterior_wrapper took 0.004985 seconds\n",
      "2023-02-03 23:09:10.689 TPE using 80/80 trials with best loss 38.423149\n"
     ]
    },
    {
     "name": "stdout",
     "output_type": "stream",
     "text": [
      " 81%|████████  | 81/100 [01:33<00:21,  1.15s/trial, best loss: 38.42314930337759]"
     ]
    },
    {
     "name": "stderr",
     "output_type": "stream",
     "text": [
      "2023-02-03 23:09:12.322 build_posterior_wrapper took 0.005984 seconds\n",
      "2023-02-03 23:09:12.323 TPE using 81/81 trials with best loss 38.423149\n"
     ]
    },
    {
     "name": "stdout",
     "output_type": "stream",
     "text": [
      " 82%|████████▏ | 82/100 [01:34<00:23,  1.29s/trial, best loss: 38.42314930337759]"
     ]
    },
    {
     "name": "stderr",
     "output_type": "stream",
     "text": [
      "2023-02-03 23:09:13.928 build_posterior_wrapper took 0.004986 seconds\n",
      "2023-02-03 23:09:13.932 TPE using 82/82 trials with best loss 38.423149\n"
     ]
    },
    {
     "name": "stdout",
     "output_type": "stream",
     "text": [
      " 83%|████████▎ | 83/100 [01:35<00:19,  1.18s/trial, best loss: 38.42314930337759]"
     ]
    },
    {
     "name": "stderr",
     "output_type": "stream",
     "text": [
      "2023-02-03 23:09:14.842 build_posterior_wrapper took 0.004987 seconds\n",
      "2023-02-03 23:09:14.844 TPE using 83/83 trials with best loss 38.423149\n"
     ]
    },
    {
     "name": "stdout",
     "output_type": "stream",
     "text": [
      " 84%|████████▍ | 84/100 [01:37<00:19,  1.22s/trial, best loss: 38.42314930337759]"
     ]
    },
    {
     "name": "stderr",
     "output_type": "stream",
     "text": [
      "2023-02-03 23:09:16.165 build_posterior_wrapper took 0.006246 seconds\n",
      "2023-02-03 23:09:16.167 TPE using 84/84 trials with best loss 38.423149\n"
     ]
    },
    {
     "name": "stdout",
     "output_type": "stream",
     "text": [
      " 85%|████████▌ | 85/100 [01:38<00:18,  1.26s/trial, best loss: 38.42314930337759]"
     ]
    },
    {
     "name": "stderr",
     "output_type": "stream",
     "text": [
      "2023-02-03 23:09:17.505 build_posterior_wrapper took 0.004984 seconds\n",
      "2023-02-03 23:09:17.507 TPE using 85/85 trials with best loss 38.423149\n"
     ]
    },
    {
     "name": "stdout",
     "output_type": "stream",
     "text": [
      " 86%|████████▌ | 86/100 [01:39<00:15,  1.08s/trial, best loss: 38.42314930337759]"
     ]
    },
    {
     "name": "stderr",
     "output_type": "stream",
     "text": [
      "2023-02-03 23:09:18.174 build_posterior_wrapper took 0.005016 seconds\n",
      "2023-02-03 23:09:18.177 TPE using 86/86 trials with best loss 38.423149\n"
     ]
    },
    {
     "name": "stdout",
     "output_type": "stream",
     "text": [
      " 87%|████████▋ | 87/100 [01:40<00:16,  1.30s/trial, best loss: 38.42314930337759]"
     ]
    },
    {
     "name": "stderr",
     "output_type": "stream",
     "text": [
      "2023-02-03 23:09:19.976 build_posterior_wrapper took 0.007755 seconds\n",
      "2023-02-03 23:09:19.977 TPE using 87/87 trials with best loss 38.423149\n"
     ]
    },
    {
     "name": "stdout",
     "output_type": "stream",
     "text": [
      " 88%|████████▊ | 88/100 [01:42<00:15,  1.32s/trial, best loss: 38.42314930337759]"
     ]
    },
    {
     "name": "stderr",
     "output_type": "stream",
     "text": [
      "2023-02-03 23:09:21.352 build_posterior_wrapper took 0.005981 seconds\n",
      "2023-02-03 23:09:21.353 TPE using 88/88 trials with best loss 38.423149\n"
     ]
    },
    {
     "name": "stdout",
     "output_type": "stream",
     "text": [
      " 89%|████████▉ | 89/100 [01:42<00:12,  1.15s/trial, best loss: 38.42314930337759]"
     ]
    },
    {
     "name": "stderr",
     "output_type": "stream",
     "text": [
      "2023-02-03 23:09:22.090 build_posterior_wrapper took 0.005983 seconds\n",
      "2023-02-03 23:09:22.092 TPE using 89/89 trials with best loss 38.423149\n"
     ]
    },
    {
     "name": "stdout",
     "output_type": "stream",
     "text": [
      " 90%|█████████ | 90/100 [01:44<00:12,  1.27s/trial, best loss: 38.42314930337759]"
     ]
    },
    {
     "name": "stderr",
     "output_type": "stream",
     "text": [
      "2023-02-03 23:09:23.638 build_posterior_wrapper took 0.005986 seconds\n",
      "2023-02-03 23:09:23.640 TPE using 90/90 trials with best loss 38.423149\n"
     ]
    },
    {
     "name": "stdout",
     "output_type": "stream",
     "text": [
      " 91%|█████████ | 91/100 [01:47<00:15,  1.68s/trial, best loss: 38.42314930337759]"
     ]
    },
    {
     "name": "stderr",
     "output_type": "stream",
     "text": [
      "2023-02-03 23:09:26.275 build_posterior_wrapper took 0.004985 seconds\n",
      "2023-02-03 23:09:26.276 TPE using 91/91 trials with best loss 38.423149\n"
     ]
    },
    {
     "name": "stdout",
     "output_type": "stream",
     "text": [
      " 92%|█████████▏| 92/100 [01:47<00:11,  1.42s/trial, best loss: 38.42314930337759]"
     ]
    },
    {
     "name": "stderr",
     "output_type": "stream",
     "text": [
      "2023-02-03 23:09:27.080 build_posterior_wrapper took 0.005983 seconds\n",
      "2023-02-03 23:09:27.085 TPE using 92/92 trials with best loss 38.423149\n"
     ]
    },
    {
     "name": "stdout",
     "output_type": "stream",
     "text": [
      " 93%|█████████▎| 93/100 [01:49<00:09,  1.41s/trial, best loss: 38.42314930337759]"
     ]
    },
    {
     "name": "stderr",
     "output_type": "stream",
     "text": [
      "2023-02-03 23:09:28.489 build_posterior_wrapper took 0.005981 seconds\n",
      "2023-02-03 23:09:28.491 TPE using 93/93 trials with best loss 38.423149\n"
     ]
    },
    {
     "name": "stdout",
     "output_type": "stream",
     "text": [
      " 94%|█████████▍| 94/100 [01:50<00:08,  1.37s/trial, best loss: 38.42314930337759]"
     ]
    },
    {
     "name": "stderr",
     "output_type": "stream",
     "text": [
      "2023-02-03 23:09:29.772 build_posterior_wrapper took 0.006982 seconds\n",
      "2023-02-03 23:09:29.775 TPE using 94/94 trials with best loss 38.423149\n"
     ]
    },
    {
     "name": "stdout",
     "output_type": "stream",
     "text": [
      " 95%|█████████▌| 95/100 [01:52<00:07,  1.47s/trial, best loss: 38.42314930337759]"
     ]
    },
    {
     "name": "stderr",
     "output_type": "stream",
     "text": [
      "2023-02-03 23:09:31.456 build_posterior_wrapper took 0.005984 seconds\n",
      "2023-02-03 23:09:31.459 TPE using 95/95 trials with best loss 38.423149\n"
     ]
    },
    {
     "name": "stdout",
     "output_type": "stream",
     "text": [
      " 96%|█████████▌| 96/100 [01:53<00:05,  1.26s/trial, best loss: 38.42314930337759]"
     ]
    },
    {
     "name": "stderr",
     "output_type": "stream",
     "text": [
      "2023-02-03 23:09:32.249 build_posterior_wrapper took 0.005979 seconds\n",
      "2023-02-03 23:09:32.251 TPE using 96/96 trials with best loss 38.423149\n"
     ]
    },
    {
     "name": "stdout",
     "output_type": "stream",
     "text": [
      " 97%|█████████▋| 97/100 [01:54<00:03,  1.24s/trial, best loss: 38.42314930337759]"
     ]
    },
    {
     "name": "stderr",
     "output_type": "stream",
     "text": [
      "2023-02-03 23:09:33.445 build_posterior_wrapper took 0.007977 seconds\n",
      "2023-02-03 23:09:33.446 TPE using 97/97 trials with best loss 38.423149\n"
     ]
    },
    {
     "name": "stdout",
     "output_type": "stream",
     "text": [
      " 98%|█████████▊| 98/100 [01:55<00:02,  1.35s/trial, best loss: 38.42314930337759]"
     ]
    },
    {
     "name": "stderr",
     "output_type": "stream",
     "text": [
      "2023-02-03 23:09:35.040 build_posterior_wrapper took 0.005984 seconds\n",
      "2023-02-03 23:09:35.042 TPE using 98/98 trials with best loss 38.423149\n"
     ]
    },
    {
     "name": "stdout",
     "output_type": "stream",
     "text": [
      " 99%|█████████▉| 99/100 [01:56<00:01,  1.27s/trial, best loss: 38.42314930337759]"
     ]
    },
    {
     "name": "stderr",
     "output_type": "stream",
     "text": [
      "2023-02-03 23:09:36.112 build_posterior_wrapper took 0.004987 seconds\n",
      "2023-02-03 23:09:36.116 TPE using 99/99 trials with best loss 38.423149\n"
     ]
    },
    {
     "name": "stdout",
     "output_type": "stream",
     "text": [
      "100%|██████████| 100/100 [01:58<00:00,  1.18s/trial, best loss: 38.42314930337759]\n"
     ]
    }
   ],
   "source": [
    "trials = Trials()\n",
    "best = fmin(fn=hyperparameter_tuning,\n",
    "            space=space,\n",
    "            algo=tpe.suggest,\n",
    "            max_evals=100,\n",
    "            trials=trials)"
   ]
  },
  {
   "cell_type": "code",
   "execution_count": null,
   "metadata": {},
   "outputs": [],
   "source": [
    "print(best)"
   ]
  },
  {
   "cell_type": "code",
   "execution_count": null,
   "metadata": {},
   "outputs": [],
   "source": [
    "#%%\n",
    "best['max_depth'] = int(best['max_depth'])  # convert to int\n",
    "# assing n_estimator because it returs the index\n",
    "best[\"n_estimators\"] = num_estimator[best[\"n_estimators\"]]\n",
    "best_xgboost_model = xgb.XGBRegressor(**best)\n",
    "best_xgboost_model.fit(x_train, y_train)\n",
    "pred = best_xgboost_model.predict(x_test)\n",
    "score_MSE, score_MAE, score_r2score = evauation_model(pred, y_test)\n",
    "to_append = [\"XGboost_hyper_tuned\", score_MSE, score_MAE, score_r2score]\n",
    "df_result_scores.loc[len(df_result_scores)] = to_append\n",
    "\n",
    "best_xgboost_model.save_model(\"best_model.json\")\n"
   ]
  },
  {
   "attachments": {},
   "cell_type": "markdown",
   "metadata": {},
   "source": [
    "# Prediction"
   ]
  },
  {
   "cell_type": "code",
   "execution_count": 7,
   "metadata": {},
   "outputs": [],
   "source": [
    "data = pd.read_csv(\"Fish.csv\")\n",
    "data_cleaned = data.drop(\"Weight\", axis=1)\n",
    "y = data['Weight']\n",
    "x_train, x_test, y_train, y_test = train_test_split(\n",
    "    data_cleaned, y, test_size=0.2, random_state=42)\n",
    "label_encoder = LabelEncoder()\n",
    "x_train['Species'] = label_encoder.fit_transform(x_train['Species'].values)\n",
    "x_test['Species'] = label_encoder.transform(x_test['Species'].values)\n",
    "#save label encoder classes\n",
    "np.save('classes.npy', label_encoder.classes_)\n"
   ]
  },
  {
   "cell_type": "code",
   "execution_count": 8,
   "metadata": {},
   "outputs": [
    {
     "name": "stdout",
     "output_type": "stream",
     "text": [
      "3478.97 40.98 0.97\n"
     ]
    }
   ],
   "source": [
    "# load model\n",
    "best_xgboost_model = xgb.XGBRegressor()\n",
    "best_xgboost_model.load_model(\"best_model.json\")\n",
    "pred = best_xgboost_model.predict(x_test)\n",
    "score_MSE, score_MAE, score_r2score = evauation_model(pred, y_test)\n",
    "print(score_MSE, score_MAE, score_r2score)\n",
    "#%%\n"
   ]
  },
  {
   "cell_type": "code",
   "execution_count": 9,
   "metadata": {},
   "outputs": [
    {
     "name": "stdout",
     "output_type": "stream",
     "text": [
      "(32, 6)\n",
      "1\n",
      "(1, 6)\n",
      "final pred 72.352615\n"
     ]
    }
   ],
   "source": [
    "loaded_encoder = LabelEncoder()\n",
    "loaded_encoder.classes_ = np.load('classes.npy',allow_pickle=True)\n",
    "print(x_test.shape)\n",
    "input_species = loaded_encoder.transform(np.expand_dims(\"Parkki\",-1))\n",
    "print(int(input_species))\n",
    "inputs = np.expand_dims([int(input_species),15,20,10,4,5],0)\n",
    "print(inputs.shape)\n",
    "prediction = best_xgboost_model.predict(inputs)\n",
    "print(\"final pred\", np.squeeze(prediction,-1))"
   ]
  }
 ],
 "metadata": {
  "kernelspec": {
   "display_name": "myenv",
   "language": "python",
   "name": "python3"
  },
  "language_info": {
   "codemirror_mode": {
    "name": "ipython",
    "version": 3
   },
   "file_extension": ".py",
   "mimetype": "text/x-python",
   "name": "python",
   "nbconvert_exporter": "python",
   "pygments_lexer": "ipython3",
   "version": "3.10.9"
  },
  "orig_nbformat": 4,
  "vscode": {
   "interpreter": {
    "hash": "3ab65b4b6f007aec8d83bf267c46961450ab880e9753bb615d95fc66f0974c2a"
   }
  }
 },
 "nbformat": 4,
 "nbformat_minor": 2
}
