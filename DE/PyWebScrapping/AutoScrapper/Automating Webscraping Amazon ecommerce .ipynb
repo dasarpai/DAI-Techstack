{
 "cells": [
  {
   "cell_type": "code",
   "execution_count": 2,
   "metadata": {},
   "outputs": [
    {
     "name": "stdout",
     "output_type": "stream",
     "text": [
      "Requirement already satisfied: autoscraper in c:\\users\\win10\\anaconda3\\envs\\myenv\\lib\\site-packages (1.1.12)\n",
      "Requirement already satisfied: lxml in c:\\users\\win10\\anaconda3\\envs\\myenv\\lib\\site-packages (from autoscraper) (4.6.3)\n",
      "Requirement already satisfied: requests in c:\\users\\win10\\anaconda3\\envs\\myenv\\lib\\site-packages (from autoscraper) (2.25.1)\n",
      "Requirement already satisfied: bs4 in c:\\users\\win10\\anaconda3\\envs\\myenv\\lib\\site-packages (from autoscraper) (0.0.1)\n",
      "Requirement already satisfied: beautifulsoup4 in c:\\users\\win10\\anaconda3\\envs\\myenv\\lib\\site-packages (from bs4->autoscraper) (4.9.3)\n",
      "Requirement already satisfied: soupsieve>1.2 in c:\\users\\win10\\anaconda3\\envs\\myenv\\lib\\site-packages (from beautifulsoup4->bs4->autoscraper) (2.2.1)\n",
      "Requirement already satisfied: idna<3,>=2.5 in c:\\users\\win10\\anaconda3\\envs\\myenv\\lib\\site-packages (from requests->autoscraper) (2.10)\n",
      "Requirement already satisfied: certifi>=2017.4.17 in c:\\users\\win10\\anaconda3\\envs\\myenv\\lib\\site-packages (from requests->autoscraper) (2020.12.5)\n",
      "Requirement already satisfied: urllib3<1.27,>=1.21.1 in c:\\users\\win10\\anaconda3\\envs\\myenv\\lib\\site-packages (from requests->autoscraper) (1.26.4)\n",
      "Requirement already satisfied: chardet<5,>=3.0.2 in c:\\users\\win10\\anaconda3\\envs\\myenv\\lib\\site-packages (from requests->autoscraper) (3.0.4)\n"
     ]
    }
   ],
   "source": [
    "!pip install autoscraper"
   ]
  },
  {
   "cell_type": "code",
   "execution_count": 1,
   "metadata": {},
   "outputs": [],
   "source": [
    "from autoscraper import AutoScraper"
   ]
  },
  {
   "cell_type": "code",
   "execution_count": 2,
   "metadata": {},
   "outputs": [],
   "source": [
    "amazon_url=\"https://www.amazon.in/s?k=iphones\"\n",
    "\n",
    "wanted_list=[\"₹58,400\",\"New Apple iPhone 11 (128GB) - Black\"]"
   ]
  },
  {
   "cell_type": "code",
   "execution_count": 3,
   "metadata": {},
   "outputs": [
    {
     "name": "stdout",
     "output_type": "stream",
     "text": [
      "['₹1,25,900', '₹1,29,900', '₹58,400', '₹59,900', '₹82,400', '₹84,900', '₹45,999', '₹54,900', '₹1,35,900', '₹1,39,900', '₹93,900', '₹1,23,900', '₹17,999', '₹29,999', '₹1,15,900', '₹1,19,900', '₹82,900', '₹66,900', '₹69,900', '₹77,900', '₹79,900', 'New Apple iPhone 12 Pro Max (128GB) - Pacific Blue', 'New Apple iPhone 11 (128GB) - Black', 'New Apple iPhone 12 (128GB) - Blue', 'Apple iPhone 8 Plus (128GB) - Silver', 'New Apple iPhone 11 (128GB) - White', 'New Apple iPhone 12 Pro Max (256GB) - Graphite', 'New Apple iPhone 11 (128GB) - Green', 'Apple iPhone 11 Pro Max (256GB) - Midnight Green', 'New Apple iPhone 11 (128GB) - (Product) RED', '6S Space Grey 16GB Compatible with iPhone with 1 Year Warranty', 'New Apple iPhone 12 (128GB) - White', 'New Apple iPhone 12 Pro (128GB) - Pacific Blue', 'New Apple iPhone 12 (128GB) - Black', 'New Apple iPhone 12 Mini (64GB) - Blue', 'New Apple iPhone 12 (64GB) - Black']\n"
     ]
    }
   ],
   "source": [
    "scraper=AutoScraper()\n",
    "result=scraper.build(amazon_url,wanted_list)\n",
    "print(result)"
   ]
  },
  {
   "cell_type": "code",
   "execution_count": 25,
   "metadata": {},
   "outputs": [
    {
     "data": {
      "text/plain": [
       "{'rule_hbsb': ['₹82,400',\n",
       "  '₹84,900',\n",
       "  '₹58,400',\n",
       "  '₹59,900',\n",
       "  '₹1,25,900',\n",
       "  '₹1,29,900',\n",
       "  '₹59,900',\n",
       "  '₹54,900',\n",
       "  '₹58,400',\n",
       "  '₹59,900',\n",
       "  '₹66,900',\n",
       "  '₹69,900',\n",
       "  '₹59,900',\n",
       "  '₹93,900',\n",
       "  '₹1,23,900',\n",
       "  '₹77,900',\n",
       "  '₹79,900',\n",
       "  '₹77,900',\n",
       "  '₹79,900',\n",
       "  '₹82,900',\n",
       "  '₹84,900',\n",
       "  '₹65,900',\n",
       "  '₹69,900',\n",
       "  '₹1,35,900',\n",
       "  '₹1,39,900',\n",
       "  '₹29,999'],\n",
       " 'rule_xax6': ['₹82,400',\n",
       "  '₹84,900',\n",
       "  '₹58,400',\n",
       "  '₹59,900',\n",
       "  '₹1,25,900',\n",
       "  '₹1,29,900',\n",
       "  '₹59,900',\n",
       "  '₹54,900',\n",
       "  '₹58,400',\n",
       "  '₹59,900',\n",
       "  '₹66,900',\n",
       "  '₹69,900',\n",
       "  '₹59,900',\n",
       "  '₹93,900',\n",
       "  '₹1,23,900',\n",
       "  '₹77,900',\n",
       "  '₹79,900',\n",
       "  '₹77,900',\n",
       "  '₹79,900',\n",
       "  '₹82,900',\n",
       "  '₹84,900',\n",
       "  '₹65,900',\n",
       "  '₹69,900',\n",
       "  '₹1,35,900',\n",
       "  '₹1,39,900',\n",
       "  '₹29,999'],\n",
       " 'rule_d6y6': [],\n",
       " 'rule_q4do': ['New Apple iPhone 12 (128GB) - Blue',\n",
       "  'New Apple iPhone 11 (128GB) - Black',\n",
       "  'New Apple iPhone 12 Pro Max (128GB) - Pacific Blue',\n",
       "  'New Apple iPhone 11 (128GB) - White',\n",
       "  'New Apple iPhone 11 (64GB) - Green',\n",
       "  'New Apple iPhone 11 (128GB) - (Product) RED',\n",
       "  'New Apple iPhone 12 Mini (64GB) - Blue',\n",
       "  'New Apple iPhone 11 (128GB) - Green',\n",
       "  'Apple iPhone 11 Pro Max (256GB) - Midnight Green',\n",
       "  'New Apple iPhone 12 (64GB) - Black',\n",
       "  'New Apple iPhone 12 (64GB) - Blue',\n",
       "  'New Apple iPhone 12 (128GB) - Black',\n",
       "  'New Apple iPhone 12 Mini (64GB) - White',\n",
       "  'New Apple iPhone 12 Pro Max (256GB) - Graphite',\n",
       "  'OnePlus Nord 5G (Blue Marble, 12GB RAM, 256GB Storage)']}"
      ]
     },
     "execution_count": 25,
     "metadata": {},
     "output_type": "execute_result"
    }
   ],
   "source": [
    "scraper.get_result_similar(amazon_url,grouped=True)"
   ]
  },
  {
   "cell_type": "code",
   "execution_count": 4,
   "metadata": {},
   "outputs": [
    {
     "ename": "KeyError",
     "evalue": "'rule_q4do'",
     "output_type": "error",
     "traceback": [
      "\u001b[1;31m---------------------------------------------------------------------------\u001b[0m",
      "\u001b[1;31mKeyError\u001b[0m                                  Traceback (most recent call last)",
      "\u001b[1;32m<ipython-input-4-d261b587b552>\u001b[0m in \u001b[0;36m<module>\u001b[1;34m\u001b[0m\n\u001b[1;32m----> 1\u001b[1;33m \u001b[0mscraper\u001b[0m\u001b[1;33m.\u001b[0m\u001b[0mset_rule_aliases\u001b[0m\u001b[1;33m(\u001b[0m\u001b[1;33m{\u001b[0m\u001b[1;34m'rule_q4do'\u001b[0m\u001b[1;33m:\u001b[0m\u001b[1;34m'Title'\u001b[0m\u001b[1;33m,\u001b[0m\u001b[1;34m'rule_hbsb'\u001b[0m\u001b[1;33m:\u001b[0m\u001b[1;34m'Price'\u001b[0m\u001b[1;33m}\u001b[0m\u001b[1;33m)\u001b[0m\u001b[1;33m\u001b[0m\u001b[1;33m\u001b[0m\u001b[0m\n\u001b[0m\u001b[0;32m      2\u001b[0m \u001b[0mscraper\u001b[0m\u001b[1;33m.\u001b[0m\u001b[0mkeep_rules\u001b[0m\u001b[1;33m(\u001b[0m\u001b[1;33m[\u001b[0m\u001b[1;34m'rule_q4do'\u001b[0m\u001b[1;33m,\u001b[0m\u001b[1;34m'rule_hbsb'\u001b[0m\u001b[1;33m]\u001b[0m\u001b[1;33m)\u001b[0m\u001b[1;33m\u001b[0m\u001b[1;33m\u001b[0m\u001b[0m\n\u001b[0;32m      3\u001b[0m \u001b[0mscraper\u001b[0m\u001b[1;33m.\u001b[0m\u001b[0msave\u001b[0m\u001b[1;33m(\u001b[0m\u001b[1;34m'amazon-search'\u001b[0m\u001b[1;33m)\u001b[0m\u001b[1;33m\u001b[0m\u001b[1;33m\u001b[0m\u001b[0m\n",
      "\u001b[1;32mD:\\Users\\admin\\anaconda3\\lib\\site-packages\\autoscraper\\auto_scraper.py\u001b[0m in \u001b[0;36mset_rule_aliases\u001b[1;34m(self, rule_aliases)\u001b[0m\n\u001b[0;32m    705\u001b[0m         \u001b[0mid_to_stack\u001b[0m \u001b[1;33m=\u001b[0m \u001b[1;33m{\u001b[0m\u001b[0mstack\u001b[0m\u001b[1;33m[\u001b[0m\u001b[1;34m\"stack_id\"\u001b[0m\u001b[1;33m]\u001b[0m\u001b[1;33m:\u001b[0m \u001b[0mstack\u001b[0m \u001b[1;32mfor\u001b[0m \u001b[0mstack\u001b[0m \u001b[1;32min\u001b[0m \u001b[0mself\u001b[0m\u001b[1;33m.\u001b[0m\u001b[0mstack_list\u001b[0m\u001b[1;33m}\u001b[0m\u001b[1;33m\u001b[0m\u001b[1;33m\u001b[0m\u001b[0m\n\u001b[0;32m    706\u001b[0m         \u001b[1;32mfor\u001b[0m \u001b[0mrule_id\u001b[0m\u001b[1;33m,\u001b[0m \u001b[0malias\u001b[0m \u001b[1;32min\u001b[0m \u001b[0mrule_aliases\u001b[0m\u001b[1;33m.\u001b[0m\u001b[0mitems\u001b[0m\u001b[1;33m(\u001b[0m\u001b[1;33m)\u001b[0m\u001b[1;33m:\u001b[0m\u001b[1;33m\u001b[0m\u001b[1;33m\u001b[0m\u001b[0m\n\u001b[1;32m--> 707\u001b[1;33m             \u001b[0mid_to_stack\u001b[0m\u001b[1;33m[\u001b[0m\u001b[0mrule_id\u001b[0m\u001b[1;33m]\u001b[0m\u001b[1;33m[\u001b[0m\u001b[1;34m\"alias\"\u001b[0m\u001b[1;33m]\u001b[0m \u001b[1;33m=\u001b[0m \u001b[0malias\u001b[0m\u001b[1;33m\u001b[0m\u001b[1;33m\u001b[0m\u001b[0m\n\u001b[0m\u001b[0;32m    708\u001b[0m \u001b[1;33m\u001b[0m\u001b[0m\n\u001b[0;32m    709\u001b[0m     \u001b[1;32mdef\u001b[0m \u001b[0mgenerate_python_code\u001b[0m\u001b[1;33m(\u001b[0m\u001b[0mself\u001b[0m\u001b[1;33m)\u001b[0m\u001b[1;33m:\u001b[0m\u001b[1;33m\u001b[0m\u001b[1;33m\u001b[0m\u001b[0m\n",
      "\u001b[1;31mKeyError\u001b[0m: 'rule_q4do'"
     ]
    }
   ],
   "source": [
    "scraper.set_rule_aliases({'rule_q4do':'Title','rule_hbsb':'Price'})\n",
    "scraper.keep_rules(['rule_q4do','rule_hbsb'])\n",
    "scraper.save('amazon-search')"
   ]
  },
  {
   "cell_type": "code",
   "execution_count": 5,
   "metadata": {},
   "outputs": [],
   "source": [
    "results=scraper.get_result_similar('https://www.amazon.in/s?k=mi+phones+under+15000',group_by_alias=True)"
   ]
  },
  {
   "cell_type": "code",
   "execution_count": 7,
   "metadata": {},
   "outputs": [
    {
     "data": {
      "text/plain": [
       "{'': ['Redmi Note 10 (Frost White, 6GB RAM, 128GB Storage)',\n",
       "  '₹13,999',\n",
       "  '₹13,999',\n",
       "  '₹13,999',\n",
       "  '₹13,999',\n",
       "  '₹17,999',\n",
       "  '₹17,999',\n",
       "  '₹17,999',\n",
       "  '₹17,999',\n",
       "  'Redmi Note 9 Pro (Interstellar Black, 4GB RAM, 64GB Storage)- Latest 8nm Snapdragon 720G & Alexa Hands-Free',\n",
       "  '₹12,999',\n",
       "  '₹12,999',\n",
       "  '₹12,999',\n",
       "  '₹12,999',\n",
       "  '₹16,999',\n",
       "  '₹16,999',\n",
       "  '₹16,999',\n",
       "  '₹16,999',\n",
       "  'Redmi 9A (Nature Green, 2GB Ram, 32GB Storage) | 2GHz Octa-core Helio G25 Processor',\n",
       "  '₹6,799',\n",
       "  '₹6,799',\n",
       "  '₹6,799',\n",
       "  '₹6,799',\n",
       "  '₹8,499',\n",
       "  '₹8,499',\n",
       "  '₹8,499',\n",
       "  '₹8,499',\n",
       "  'Redmi 9 (Sky Blue, 4GB RAM, 64GB Storage)',\n",
       "  '₹8,799',\n",
       "  '₹8,799',\n",
       "  '₹8,799',\n",
       "  '₹8,799',\n",
       "  '₹10,999',\n",
       "  '₹10,999',\n",
       "  '₹10,999',\n",
       "  '₹10,999',\n",
       "  'Redmi Note 9 (Pebble Grey, 4GB RAM 64GB Storage) - 48MP Quad Camera & Full HD+ Display | Extra INR 1000 Off on Exchange',\n",
       "  '₹10,999',\n",
       "  '₹10,999',\n",
       "  '₹10,999',\n",
       "  '₹10,999',\n",
       "  '₹14,999',\n",
       "  '₹14,999',\n",
       "  '₹14,999',\n",
       "  '₹14,999',\n",
       "  'Redmi 9 Power (Fiery Red, 4GB RAM, 64GB Storage) - 6000mAh Battery |FHD+ Screen| 48MP Quad Camera',\n",
       "  '₹10,499',\n",
       "  '₹10,499',\n",
       "  '₹10,499',\n",
       "  '₹10,499',\n",
       "  '₹13,999',\n",
       "  '₹13,999',\n",
       "  '₹13,999',\n",
       "  '₹13,999',\n",
       "  'Redmi Note 9 Pro Max (Champagne Gold, 6GB RAM, 64GB Storage) - 64MP Quad Camera & Latest 8nm Snapdragon 720G & Alexa Hands...',\n",
       "  '₹14,999',\n",
       "  '₹14,999',\n",
       "  '₹14,999',\n",
       "  '₹14,999',\n",
       "  '₹18,999',\n",
       "  '₹18,999',\n",
       "  '₹18,999',\n",
       "  '₹18,999',\n",
       "  'Redmi 9 Sporty Orange, 4GB RAM, 128GB Storage',\n",
       "  '₹9,999',\n",
       "  '₹9,999',\n",
       "  '₹9,999',\n",
       "  '₹9,999',\n",
       "  '₹10,999',\n",
       "  '₹10,999',\n",
       "  '₹10,999',\n",
       "  '₹10,999',\n",
       "  'Redmi 9A (Midnight Black, 2GB RAM, 32GB Storage) | 2GHz Octa-core Helio G25 Processor',\n",
       "  '₹6,799',\n",
       "  '₹6,799',\n",
       "  '₹6,799',\n",
       "  '₹6,799',\n",
       "  '₹8,499',\n",
       "  '₹8,499',\n",
       "  '₹8,499',\n",
       "  '₹8,499',\n",
       "  'Redmi 9 (Sky Blue, 4GB RAM, 128GB Storage)',\n",
       "  '₹9,999',\n",
       "  '₹9,999',\n",
       "  '₹9,999',\n",
       "  '₹9,999',\n",
       "  '₹10,999',\n",
       "  '₹10,999',\n",
       "  '₹10,999',\n",
       "  '₹10,999',\n",
       "  'Redmi 9 (Carbon Black, 4GB RAM, 64GB Storage)',\n",
       "  '₹8,799',\n",
       "  '₹8,799',\n",
       "  '₹8,799',\n",
       "  '₹8,799',\n",
       "  '₹10,999',\n",
       "  '₹10,999',\n",
       "  '₹10,999',\n",
       "  '₹10,999',\n",
       "  'Oppo A31 (Fantasy White, 6GB RAM, 128GB Storage) with No Cost EMI/Additional Exchange Offers',\n",
       "  '₹10,990',\n",
       "  '₹10,990',\n",
       "  '₹10,990',\n",
       "  '₹10,990',\n",
       "  '₹15,990',\n",
       "  '₹15,990',\n",
       "  '₹15,990',\n",
       "  '₹15,990',\n",
       "  'Redmi Note 10 (Aqua Green, 6GB RAM, 128GB Storage) - Amoled Dot Display | 48MP Sony Sensor IMX582 | Snapdragon 678 Processor',\n",
       "  '₹13,999',\n",
       "  '₹13,999',\n",
       "  '₹13,999',\n",
       "  '₹13,999',\n",
       "  '₹17,999',\n",
       "  '₹17,999',\n",
       "  '₹17,999',\n",
       "  '₹17,999',\n",
       "  'Redmi 9A (Midnight Black, 3GB Ram, 32GB Storage) | 2GHz Octa-core Helio G25 Processor',\n",
       "  '₹7,499',\n",
       "  '₹7,499',\n",
       "  '₹7,499',\n",
       "  '₹7,499',\n",
       "  '₹9,499',\n",
       "  '₹9,499',\n",
       "  '₹9,499',\n",
       "  '₹9,499',\n",
       "  'Samsung Galaxy M21 (Midnight Blue, 4GB RAM, 64GB Storage)',\n",
       "  '₹12,499',\n",
       "  '₹12,499',\n",
       "  '₹12,499',\n",
       "  '₹12,499',\n",
       "  '₹15,999',\n",
       "  '₹15,999',\n",
       "  '₹15,999',\n",
       "  '₹15,999',\n",
       "  'Redmi 9A (Sea Blue, 2GB Ram, 32GB Storage) | 2GHz Octa-core Helio G25 Processor',\n",
       "  '₹6,799',\n",
       "  '₹6,799',\n",
       "  '₹6,799',\n",
       "  '₹6,799',\n",
       "  '₹8,499',\n",
       "  '₹8,499',\n",
       "  '₹8,499',\n",
       "  '₹8,499']}"
      ]
     },
     "execution_count": 7,
     "metadata": {},
     "output_type": "execute_result"
    }
   ],
   "source": [
    "results"
   ]
  },
  {
   "cell_type": "code",
   "execution_count": null,
   "metadata": {},
   "outputs": [],
   "source": []
  },
  {
   "cell_type": "code",
   "execution_count": null,
   "metadata": {},
   "outputs": [],
   "source": []
  },
  {
   "cell_type": "code",
   "execution_count": null,
   "metadata": {},
   "outputs": [],
   "source": []
  },
  {
   "cell_type": "code",
   "execution_count": null,
   "metadata": {},
   "outputs": [],
   "source": []
  }
 ],
 "metadata": {
  "kernelspec": {
   "display_name": "Python 3",
   "language": "python",
   "name": "python3"
  },
  "language_info": {
   "codemirror_mode": {
    "name": "ipython",
    "version": 3
   },
   "file_extension": ".py",
   "mimetype": "text/x-python",
   "name": "python",
   "nbconvert_exporter": "python",
   "pygments_lexer": "ipython3",
   "version": "3.8.3"
  }
 },
 "nbformat": 4,
 "nbformat_minor": 5
}
