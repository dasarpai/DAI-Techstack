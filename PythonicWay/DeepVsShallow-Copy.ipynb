{
 "cells": [
  {
   "cell_type": "code",
   "execution_count": 19,
   "metadata": {},
   "outputs": [],
   "source": [
    "list1= [1,2,3,4,5,6]\n",
    "list2=list1"
   ]
  },
  {
   "cell_type": "code",
   "execution_count": 20,
   "metadata": {},
   "outputs": [
    {
     "name": "stdout",
     "output_type": "stream",
     "text": [
      "[1, 2, 3, 4, 5, 6]\n"
     ]
    }
   ],
   "source": [
    "print (list2)"
   ]
  },
  {
   "cell_type": "code",
   "execution_count": 21,
   "metadata": {},
   "outputs": [],
   "source": [
    "#Update element of second list\n",
    "list2[3]=100"
   ]
  },
  {
   "cell_type": "code",
   "execution_count": 22,
   "metadata": {},
   "outputs": [
    {
     "name": "stdout",
     "output_type": "stream",
     "text": [
      "[1, 2, 3, 100, 5, 6]\n",
      "[1, 2, 3, 100, 5, 6]\n"
     ]
    }
   ],
   "source": [
    "#But first list is also updated. So list2=list1 is Deep Copy\n",
    "print (list2)\n",
    "print (list1)\n",
    "\n"
   ]
  },
  {
   "cell_type": "code",
   "execution_count": 23,
   "metadata": {},
   "outputs": [],
   "source": [
    "#Use different method to copy rather than direct assignment\n",
    "list1= [1,2,3,4,5,6]\n",
    "list2 = list1.copy()"
   ]
  },
  {
   "cell_type": "code",
   "execution_count": 24,
   "metadata": {},
   "outputs": [],
   "source": [
    "#pdate element of second list\n",
    "list2[3]=100"
   ]
  },
  {
   "cell_type": "code",
   "execution_count": 26,
   "metadata": {},
   "outputs": [
    {
     "name": "stdout",
     "output_type": "stream",
     "text": [
      "[1, 2, 3, 4, 5, 6]\n",
      "[1, 2, 3, 100, 5, 6]\n"
     ]
    }
   ],
   "source": [
    "#This time first list does'nt change. so List2=List1.copy() is shallow copy.\n",
    "print (list1)\n",
    "print (list2)"
   ]
  },
  {
   "cell_type": "markdown",
   "metadata": {},
   "source": [
    "# Let's take another example. Below is a nested list. \n",
    "# Here we will Update existing element"
   ]
  },
  {
   "cell_type": "code",
   "execution_count": 57,
   "metadata": {},
   "outputs": [],
   "source": [
    "list3= [[1,2,3,4],[5,6,7,8]]\n",
    "list4=list3"
   ]
  },
  {
   "cell_type": "code",
   "execution_count": 58,
   "metadata": {},
   "outputs": [],
   "source": [
    "#Update element of second list\n",
    "list4[1][1]=500"
   ]
  },
  {
   "cell_type": "code",
   "execution_count": 59,
   "metadata": {},
   "outputs": [
    {
     "name": "stdout",
     "output_type": "stream",
     "text": [
      "[[1, 2, 3, 4], [5, 500, 7, 8]]\n",
      "[[1, 2, 3, 4], [5, 500, 7, 8]]\n"
     ]
    }
   ],
   "source": [
    "#But first list is also updated. List4=List3 is deep copy.\n",
    "print (list3)\n",
    "print (list4)"
   ]
  },
  {
   "cell_type": "code",
   "execution_count": 60,
   "metadata": {},
   "outputs": [],
   "source": [
    "#Use different method to copy rather than direct assignment\n",
    "list3= [[1,2,3,4],[5,6,7,8]]\n",
    "list4 = list3.copy()"
   ]
  },
  {
   "cell_type": "code",
   "execution_count": 61,
   "metadata": {},
   "outputs": [],
   "source": [
    "#Update element of second list\n",
    "list4[1][1]=500"
   ]
  },
  {
   "cell_type": "code",
   "execution_count": 62,
   "metadata": {},
   "outputs": [
    {
     "name": "stdout",
     "output_type": "stream",
     "text": [
      "[[1, 2, 3, 4], [5, 500, 7, 8]]\n",
      "[[1, 2, 3, 4], [5, 500, 7, 8]]\n"
     ]
    }
   ],
   "source": [
    "#But again, first list is also updated. list3.copy() is working as a deep copy. \n",
    "print (list3)\n",
    "print (list4)"
   ]
  },
  {
   "cell_type": "code",
   "execution_count": null,
   "metadata": {},
   "outputs": [],
   "source": [
    "# Why? Because nested list is treated as an object. \n",
    "#And any change in copy of the object will be reflted in the main object. \n",
    "#Because they share the same memotry"
   ]
  },
  {
   "cell_type": "markdown",
   "metadata": {},
   "source": [
    "# Let's add one new nested list in the list4"
   ]
  },
  {
   "cell_type": "code",
   "execution_count": 52,
   "metadata": {},
   "outputs": [],
   "source": [
    "list3= [[1,2,3,4],[5,6,7,8]]\n",
    "list4 = list3\n",
    "list4.append([9,10])"
   ]
  },
  {
   "cell_type": "code",
   "execution_count": 54,
   "metadata": {},
   "outputs": [
    {
     "name": "stdout",
     "output_type": "stream",
     "text": [
      "[[1, 2, 3, 4], [5, 6, 7, 8], [9, 10]]\n",
      "[[1, 2, 3, 4], [5, 6, 7, 8], [9, 10]]\n"
     ]
    }
   ],
   "source": [
    "#But first list is also updated. list3=list3 works as deep copy\n",
    "print (list3)\n",
    "print (list4)"
   ]
  },
  {
   "cell_type": "code",
   "execution_count": 55,
   "metadata": {},
   "outputs": [],
   "source": [
    "#Use different method to copy rather than direct assignment\n",
    "list3= [[1,2,3,4],[5,6,7,8]]\n",
    "list4 = list3.copy()\n",
    "list4.append([9,10])"
   ]
  },
  {
   "cell_type": "code",
   "execution_count": 56,
   "metadata": {},
   "outputs": [
    {
     "name": "stdout",
     "output_type": "stream",
     "text": [
      "[[1, 2, 3, 4], [5, 6, 7, 8]]\n",
      "[[1, 2, 3, 4], [5, 6, 7, 8], [9, 10]]\n"
     ]
    }
   ],
   "source": [
    "#But this time list3 is not updated. List4=List3.copy() works as shallow copy.\n",
    "print (list3)\n",
    "print (list4)"
   ]
  },
  {
   "cell_type": "markdown",
   "metadata": {},
   "source": [
    "# Final Version"
   ]
  },
  {
   "cell_type": "code",
   "execution_count": 64,
   "metadata": {},
   "outputs": [],
   "source": [
    "list3= [[1,2,3,4],[5,6,7,8]]\n",
    "list4 = list3.copy()\n",
    "list4.append([9,10]) # Adding items in list4\n",
    "list4[1][1]=500 # Updating existing item in list4"
   ]
  },
  {
   "cell_type": "code",
   "execution_count": 65,
   "metadata": {},
   "outputs": [
    {
     "name": "stdout",
     "output_type": "stream",
     "text": [
      "[[1, 2, 3, 4], [5, 500, 7, 8]]\n",
      "[[1, 2, 3, 4], [5, 500, 7, 8], [9, 10]]\n"
     ]
    }
   ],
   "source": [
    "#Update is reflected in the first list but add is not reflected.\n",
    "print (list3)\n",
    "print (list4)"
   ]
  },
  {
   "cell_type": "code",
   "execution_count": null,
   "metadata": {},
   "outputs": [],
   "source": []
  }
 ],
 "metadata": {
  "kernelspec": {
   "display_name": "Python 3",
   "language": "python",
   "name": "python3"
  },
  "language_info": {
   "codemirror_mode": {
    "name": "ipython",
    "version": 3
   },
   "file_extension": ".py",
   "mimetype": "text/x-python",
   "name": "python",
   "nbconvert_exporter": "python",
   "pygments_lexer": "ipython3",
   "version": "3.8.3"
  }
 },
 "nbformat": 4,
 "nbformat_minor": 4
}
