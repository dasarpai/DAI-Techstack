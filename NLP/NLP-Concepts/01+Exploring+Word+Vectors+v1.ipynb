{
 "cells": [
  {
   "cell_type": "code",
   "execution_count": 1,
   "metadata": {
    "scrolled": true
   },
   "outputs": [],
   "source": [
    "import nltk\n",
    "from gensim.models import word2vec\n",
    "from gensim.models.word2vec import Word2Vec"
   ]
  },
  {
   "cell_type": "code",
   "execution_count": 2,
   "metadata": {},
   "outputs": [],
   "source": [
    "import numpy as np\n",
    "import matplotlib.pyplot as plt\n",
    "import os"
   ]
  },
  {
   "cell_type": "markdown",
   "metadata": {},
   "source": [
    "### Creating our sentences to train the word vectors"
   ]
  },
  {
   "cell_type": "code",
   "execution_count": 3,
   "metadata": {},
   "outputs": [],
   "source": [
    "TextCorpus  = [\"I like Upgrad\",\n",
    "               \"Upgrad has a good ML program\",\n",
    "               \"Upgrad has good faculty\",\n",
    "               \"Rahim is that good faculty\",\n",
    "               \"I like ML\"\n",
    "]"
   ]
  },
  {
   "cell_type": "code",
   "execution_count": 4,
   "metadata": {},
   "outputs": [
    {
     "data": {
      "text/plain": [
       "[['I', 'like', 'Upgrad'], ['Upgrad', 'has', 'a', 'good', 'ML', 'program']]"
      ]
     },
     "execution_count": 4,
     "metadata": {},
     "output_type": "execute_result"
    }
   ],
   "source": [
    "text_tokens = [sent.split() for sent in TextCorpus]\n",
    "text_tokens[:2]"
   ]
  },
  {
   "cell_type": "markdown",
   "metadata": {},
   "source": [
    "#### Training the word vectors"
   ]
  },
  {
   "cell_type": "code",
   "execution_count": 5,
   "metadata": {},
   "outputs": [],
   "source": [
    "model = Word2Vec(text_tokens,min_count=1)"
   ]
  },
  {
   "cell_type": "code",
   "execution_count": 9,
   "metadata": {},
   "outputs": [
    {
     "data": {
      "text/plain": [
       "array([ 4.1376241e-03, -2.6247408e-03,  2.0354874e-03, -2.9404607e-04,\n",
       "        7.4502686e-04,  2.4275812e-03,  4.2587337e-03, -5.7054195e-04,\n",
       "        4.8557231e-03,  1.3599246e-03, -3.1083329e-03, -2.5776995e-04,\n",
       "        3.1744388e-03, -8.2927360e-04, -2.2962324e-03, -2.9138224e-03,\n",
       "        2.4092291e-03,  2.5563070e-04,  1.4127354e-03,  1.6198145e-03,\n",
       "        1.8515033e-03, -1.3754519e-03, -2.4716661e-03,  3.1933363e-03,\n",
       "       -4.5226110e-04, -2.1428771e-04, -2.4173339e-03, -4.9373246e-04,\n",
       "        1.2444016e-03,  2.3950827e-03,  4.3837843e-03,  2.1080070e-03,\n",
       "       -3.7483964e-03, -1.5318671e-03,  4.2532794e-03, -3.0303213e-03,\n",
       "       -3.1174407e-03, -1.7759365e-03, -1.4016511e-03,  3.0696703e-04,\n",
       "       -1.2919703e-03, -3.2223638e-03,  1.3570455e-03, -3.9161852e-05,\n",
       "        9.9013373e-04, -3.5160938e-03,  8.4005494e-04,  4.7787470e-03,\n",
       "       -1.7463438e-03, -2.4603554e-03, -4.9582343e-03, -2.8988793e-03,\n",
       "       -3.4129117e-03,  4.0834248e-03, -2.2699253e-03,  1.7719697e-03,\n",
       "       -3.1464123e-03,  3.2387304e-03,  7.4952806e-04, -1.7458666e-03,\n",
       "       -3.0314580e-03,  4.0751966e-03,  1.9833527e-03,  4.0844167e-03,\n",
       "        3.0347302e-03, -2.0935850e-03,  4.4460366e-03,  9.1494550e-04,\n",
       "       -6.0180173e-05,  4.9914344e-04,  4.2568273e-03,  1.7422924e-03,\n",
       "       -8.0291048e-04,  2.7750130e-03,  2.6448295e-03, -1.1210606e-03,\n",
       "        3.9164019e-03,  2.8377329e-03,  1.5415858e-03, -1.9582061e-03,\n",
       "        1.2597946e-03,  2.5288360e-03, -4.3860781e-03,  1.1123072e-03,\n",
       "        2.4168743e-03, -3.3361230e-03,  3.5046600e-03, -1.8756373e-03,\n",
       "        8.0152217e-04,  1.5823598e-03, -2.7475336e-03,  3.8675487e-03,\n",
       "        1.4504731e-03,  3.3767177e-03,  3.4002389e-03,  4.4320384e-04,\n",
       "        1.7214922e-03, -3.3830421e-03, -1.9037828e-03, -2.5460944e-03],\n",
       "      dtype=float32)"
      ]
     },
     "execution_count": 9,
     "metadata": {},
     "output_type": "execute_result"
    }
   ],
   "source": [
    "model.wv['like']"
   ]
  },
  {
   "cell_type": "code",
   "execution_count": 9,
   "metadata": {},
   "outputs": [
    {
     "data": {
      "text/plain": [
       "array([ 4.1324904e-04,  4.7712489e-03, -3.7656778e-03, -2.5027650e-03,\n",
       "        2.5290735e-03,  1.2303479e-03, -8.7193609e-04,  3.6144145e-03,\n",
       "        3.1301519e-03, -3.8770873e-03,  4.1277776e-03, -2.3258716e-04,\n",
       "       -3.4645628e-03,  1.2356151e-03, -1.5531549e-03, -1.3762547e-03,\n",
       "       -3.7929048e-03, -2.1532457e-04, -1.5933207e-03, -1.8871054e-03,\n",
       "        4.2224652e-03,  2.7523972e-03,  1.5466009e-03,  8.3201705e-04,\n",
       "       -2.4442708e-03, -4.0613719e-05, -3.2317925e-03,  1.8430805e-03,\n",
       "       -2.3801613e-03,  3.0656538e-03, -3.1491164e-03, -1.6801772e-03,\n",
       "       -5.6319055e-04, -3.4213329e-03, -2.2489063e-03, -2.1357930e-03,\n",
       "       -1.5288112e-03,  1.0242168e-03, -4.8836414e-03,  2.7462265e-03,\n",
       "        1.1292890e-03, -3.5701676e-03, -4.7314111e-03,  2.5192657e-03,\n",
       "       -7.7704625e-04,  2.7301295e-03,  7.4927119e-04, -1.3055992e-03,\n",
       "        1.5132067e-05,  3.8666835e-03, -3.9247717e-03,  7.2236653e-05,\n",
       "        3.7036168e-03, -5.7314843e-04, -2.2919802e-03, -9.6071168e-04,\n",
       "       -3.8390807e-03, -2.4805858e-03,  2.6819084e-03, -1.7761262e-03,\n",
       "       -4.4758450e-03, -4.4919385e-04, -3.1664874e-03, -1.0342150e-03,\n",
       "        1.2544636e-03,  2.1886679e-03, -2.2333094e-03, -3.1112405e-04,\n",
       "        3.8418334e-03,  4.8886510e-03, -4.9849914e-04, -9.1159990e-04,\n",
       "        4.2312602e-03,  3.9027410e-03,  1.9398445e-03,  4.7397311e-03,\n",
       "        4.6145762e-03,  4.8735128e-03, -3.3232793e-03, -4.4657853e-03,\n",
       "        1.7053252e-03, -2.4065785e-03,  9.4189250e-04,  7.4635149e-04,\n",
       "       -2.4219924e-03, -4.6233931e-03,  2.6393472e-03,  2.2501142e-03,\n",
       "        3.6693953e-03,  3.2493914e-03,  4.0327455e-04,  3.1858525e-04,\n",
       "        4.6942350e-03, -2.5842755e-04, -2.0234338e-03,  3.8077601e-03,\n",
       "        2.8841873e-04,  3.5036243e-03,  4.2000841e-03, -3.5455306e-03],\n",
       "      dtype=float32)"
      ]
     },
     "execution_count": 9,
     "metadata": {},
     "output_type": "execute_result"
    }
   ],
   "source": [
    "model.wv['ML']"
   ]
  },
  {
   "cell_type": "code",
   "execution_count": 10,
   "metadata": {},
   "outputs": [
    {
     "data": {
      "text/plain": [
       "100"
      ]
     },
     "execution_count": 10,
     "metadata": {},
     "output_type": "execute_result"
    }
   ],
   "source": [
    "len(model.wv['ML'])"
   ]
  },
  {
   "cell_type": "markdown",
   "metadata": {},
   "source": [
    "Similarity between word vectors is measures using Cosine similarity"
   ]
  },
  {
   "cell_type": "code",
   "execution_count": 10,
   "metadata": {},
   "outputs": [
    {
     "data": {
      "text/plain": [
       "[('program', 0.13280518352985382),\n",
       " ('is', 0.07881699502468109),\n",
       " ('a', 0.05589844286441803),\n",
       " ('Rahim', 0.012629885226488113),\n",
       " ('I', -0.0013203993439674377)]"
      ]
     },
     "execution_count": 10,
     "metadata": {},
     "output_type": "execute_result"
    }
   ],
   "source": [
    "model.wv.most_similar(\"ML\",topn=5)"
   ]
  },
  {
   "cell_type": "code",
   "execution_count": 14,
   "metadata": {},
   "outputs": [
    {
     "data": {
      "text/plain": [
       "[('good', 0.10796551406383514),\n",
       " ('has', 0.10518816113471985),\n",
       " ('a', 0.07318789511919022),\n",
       " ('ML', 0.06424212455749512),\n",
       " ('program', 0.05126670002937317)]"
      ]
     },
     "execution_count": 14,
     "metadata": {},
     "output_type": "execute_result"
    }
   ],
   "source": [
    "model.wv.most_similar(\"faculty\",topn=5)\n",
    "\n",
    "#\"I like Upgrad\", \"Upgrad has a good ML program\",\"Upgrad has good faculty\",\"Rahim is that good faculty\",\"I like ML\""
   ]
  },
  {
   "cell_type": "markdown",
   "metadata": {},
   "source": [
    "### Training our word vectors on the text8 corpus\n",
    "Cleaned Wikipedia text, compressed to 100MB"
   ]
  },
  {
   "cell_type": "markdown",
   "metadata": {},
   "source": [
    "#### Importing the raw text file"
   ]
  },
  {
   "cell_type": "code",
   "execution_count": null,
   "metadata": {},
   "outputs": [],
   "source": []
  },
  {
   "cell_type": "code",
   "execution_count": 21,
   "metadata": {},
   "outputs": [
    {
     "name": "stdout",
     "output_type": "stream",
     "text": [
      "[==================================================] 100.0% 31.6/31.6MB downloaded\n"
     ]
    }
   ],
   "source": [
    "import gensim.downloader as api\n",
    "corpus = api.load('text8')"
   ]
  },
  {
   "cell_type": "code",
   "execution_count": 49,
   "metadata": {},
   "outputs": [
    {
     "name": "stdout",
     "output_type": "stream",
     "text": [
      "[==================================================] 100.0% 20.7/20.7MB downloaded\n"
     ]
    },
    {
     "ename": "OverflowError",
     "evalue": "Python int too large to convert to C long",
     "output_type": "error",
     "traceback": [
      "\u001b[1;31m---------------------------------------------------------------------------\u001b[0m",
      "\u001b[1;31mOverflowError\u001b[0m                             Traceback (most recent call last)",
      "\u001b[1;32m<ipython-input-49-a9e3daee6db7>\u001b[0m in \u001b[0;36m<module>\u001b[1;34m\u001b[0m\n\u001b[1;32m----> 1\u001b[1;33m \u001b[0mcorpus_quora\u001b[0m \u001b[1;33m=\u001b[0m \u001b[0mapi\u001b[0m\u001b[1;33m.\u001b[0m\u001b[0mload\u001b[0m\u001b[1;33m(\u001b[0m\u001b[1;34m\"quora-duplicate-questions\"\u001b[0m\u001b[1;33m)\u001b[0m\u001b[1;33m\u001b[0m\u001b[1;33m\u001b[0m\u001b[0m\n\u001b[0m",
      "\u001b[1;32mD:\\Users\\admin\\Anaconda3\\lib\\site-packages\\gensim\\downloader.py\u001b[0m in \u001b[0;36mload\u001b[1;34m(name, return_path)\u001b[0m\n\u001b[0;32m    499\u001b[0m     \u001b[1;32melse\u001b[0m\u001b[1;33m:\u001b[0m\u001b[1;33m\u001b[0m\u001b[1;33m\u001b[0m\u001b[0m\n\u001b[0;32m    500\u001b[0m         \u001b[0msys\u001b[0m\u001b[1;33m.\u001b[0m\u001b[0mpath\u001b[0m\u001b[1;33m.\u001b[0m\u001b[0minsert\u001b[0m\u001b[1;33m(\u001b[0m\u001b[1;36m0\u001b[0m\u001b[1;33m,\u001b[0m \u001b[0mBASE_DIR\u001b[0m\u001b[1;33m)\u001b[0m\u001b[1;33m\u001b[0m\u001b[1;33m\u001b[0m\u001b[0m\n\u001b[1;32m--> 501\u001b[1;33m         \u001b[0mmodule\u001b[0m \u001b[1;33m=\u001b[0m \u001b[0m__import__\u001b[0m\u001b[1;33m(\u001b[0m\u001b[0mname\u001b[0m\u001b[1;33m)\u001b[0m\u001b[1;33m\u001b[0m\u001b[1;33m\u001b[0m\u001b[0m\n\u001b[0m\u001b[0;32m    502\u001b[0m         \u001b[1;32mreturn\u001b[0m \u001b[0mmodule\u001b[0m\u001b[1;33m.\u001b[0m\u001b[0mload_data\u001b[0m\u001b[1;33m(\u001b[0m\u001b[1;33m)\u001b[0m\u001b[1;33m\u001b[0m\u001b[1;33m\u001b[0m\u001b[0m\n\u001b[0;32m    503\u001b[0m \u001b[1;33m\u001b[0m\u001b[0m\n",
      "\u001b[1;32m~/gensim-data\\quora-duplicate-questions\\__init__.py\u001b[0m in \u001b[0;36m<module>\u001b[1;34m\u001b[0m\n\u001b[0;32m      6\u001b[0m \u001b[1;33m\u001b[0m\u001b[0m\n\u001b[0;32m      7\u001b[0m \u001b[1;33m\u001b[0m\u001b[0m\n\u001b[1;32m----> 8\u001b[1;33m \u001b[0mcsv\u001b[0m\u001b[1;33m.\u001b[0m\u001b[0mfield_size_limit\u001b[0m\u001b[1;33m(\u001b[0m\u001b[0msys\u001b[0m\u001b[1;33m.\u001b[0m\u001b[0mmaxsize\u001b[0m\u001b[1;33m)\u001b[0m\u001b[1;33m\u001b[0m\u001b[1;33m\u001b[0m\u001b[0m\n\u001b[0m\u001b[0;32m      9\u001b[0m \u001b[1;33m\u001b[0m\u001b[0m\n\u001b[0;32m     10\u001b[0m \u001b[1;33m\u001b[0m\u001b[0m\n",
      "\u001b[1;31mOverflowError\u001b[0m: Python int too large to convert to C long"
     ]
    }
   ],
   "source": [
    "corpus_quora = api.load(\"quora-duplicate-questions\")"
   ]
  },
  {
   "cell_type": "code",
   "execution_count": 18,
   "metadata": {},
   "outputs": [],
   "source": [
    "# sentences = word2vec.Text8Corpus('text8')\n",
    "# type(sentences)\n",
    "# model = Word2Vec(sentences)"
   ]
  },
  {
   "cell_type": "code",
   "execution_count": 23,
   "metadata": {},
   "outputs": [
    {
     "data": {
      "text/plain": [
       "text8.Dataset"
      ]
     },
     "execution_count": 23,
     "metadata": {},
     "output_type": "execute_result"
    }
   ],
   "source": [
    "type(corpus)"
   ]
  },
  {
   "cell_type": "markdown",
   "metadata": {},
   "source": [
    "#### Using all default parameters"
   ]
  },
  {
   "cell_type": "code",
   "execution_count": null,
   "metadata": {
    "scrolled": true
   },
   "outputs": [],
   "source": [
    "model = Word2Vec(corpus)"
   ]
  },
  {
   "cell_type": "code",
   "execution_count": 48,
   "metadata": {},
   "outputs": [
    {
     "name": "stdout",
     "output_type": "stream",
     "text": [
      "{\n",
      "    \"corpora\": {\n",
      "        \"semeval-2016-2017-task3-subtaskBC\": {\n",
      "            \"num_records\": -1,\n",
      "            \"record_format\": \"dict\",\n",
      "            \"file_size\": 6344358,\n",
      "            \"reader_code\": \"https://github.com/RaRe-Technologies/gensim-data/releases/download/semeval-2016-2017-task3-subtaskB-eng/__init__.py\",\n",
      "            \"license\": \"All files released for the task are free for general research use\",\n",
      "            \"fields\": {\n",
      "                \"2016-train\": [\n",
      "                    \"...\"\n",
      "                ],\n",
      "                \"2016-dev\": [\n",
      "                    \"...\"\n",
      "                ],\n",
      "                \"2017-test\": [\n",
      "                    \"...\"\n",
      "                ],\n",
      "                \"2016-test\": [\n",
      "                    \"...\"\n",
      "                ]\n",
      "            },\n",
      "            \"description\": \"SemEval 2016 / 2017 Task 3 Subtask B and C datasets contain train+development (317 original questions, 3,169 related questions, and 31,690 comments), and test datasets in English. The description of the tasks and the collected data is given in sections 3 and 4.1 of the task paper http://alt.qcri.org/semeval2016/task3/data/uploads/semeval2016-task3-report.pdf linked in section \\u201cPapers\\u201d of https://github.com/RaRe-Technologies/gensim-data/issues/18.\",\n",
      "            \"checksum\": \"701ea67acd82e75f95e1d8e62fb0ad29\",\n",
      "            \"file_name\": \"semeval-2016-2017-task3-subtaskBC.gz\",\n",
      "            \"read_more\": [\n",
      "                \"http://alt.qcri.org/semeval2017/task3/\",\n",
      "                \"http://alt.qcri.org/semeval2017/task3/data/uploads/semeval2017-task3.pdf\",\n",
      "                \"https://github.com/RaRe-Technologies/gensim-data/issues/18\",\n",
      "                \"https://github.com/Witiko/semeval-2016_2017-task3-subtaskB-english\"\n",
      "            ],\n",
      "            \"parts\": 1\n",
      "        },\n",
      "        \"semeval-2016-2017-task3-subtaskA-unannotated\": {\n",
      "            \"num_records\": 189941,\n",
      "            \"record_format\": \"dict\",\n",
      "            \"file_size\": 234373151,\n",
      "            \"reader_code\": \"https://github.com/RaRe-Technologies/gensim-data/releases/download/semeval-2016-2017-task3-subtaskA-unannotated-eng/__init__.py\",\n",
      "            \"license\": \"These datasets are free for general research use.\",\n",
      "            \"fields\": {\n",
      "                \"THREAD_SEQUENCE\": \"\",\n",
      "                \"RelQuestion\": {\n",
      "                    \"RELQ_CATEGORY\": \"question category, according to the Qatar Living taxonomy\",\n",
      "                    \"RELQ_DATE\": \"date of posting\",\n",
      "                    \"RELQ_ID\": \"question indentifier\",\n",
      "                    \"RELQ_USERID\": \"identifier of the user asking the question\",\n",
      "                    \"RELQ_USERNAME\": \"name of the user asking the question\",\n",
      "                    \"RelQBody\": \"body of question\",\n",
      "                    \"RelQSubject\": \"subject of question\"\n",
      "                },\n",
      "                \"RelComments\": [\n",
      "                    {\n",
      "                        \"RelCText\": \"text of answer\",\n",
      "                        \"RELC_USERID\": \"identifier of the user posting the comment\",\n",
      "                        \"RELC_ID\": \"comment identifier\",\n",
      "                        \"RELC_USERNAME\": \"name of the user posting the comment\",\n",
      "                        \"RELC_DATE\": \"date of posting\"\n",
      "                    }\n",
      "                ]\n",
      "            },\n",
      "            \"description\": \"SemEval 2016 / 2017 Task 3 Subtask A unannotated dataset contains 189,941 questions and 1,894,456 comments in English collected from the Community Question Answering (CQA) web forum of Qatar Living. These can be used as a corpus for language modelling.\",\n",
      "            \"checksum\": \"2de0e2f2c4f91c66ae4fcf58d50ba816\",\n",
      "            \"file_name\": \"semeval-2016-2017-task3-subtaskA-unannotated.gz\",\n",
      "            \"read_more\": [\n",
      "                \"http://alt.qcri.org/semeval2016/task3/\",\n",
      "                \"http://alt.qcri.org/semeval2016/task3/data/uploads/semeval2016-task3-report.pdf\",\n",
      "                \"https://github.com/RaRe-Technologies/gensim-data/issues/18\",\n",
      "                \"https://github.com/Witiko/semeval-2016_2017-task3-subtaskA-unannotated-english\"\n",
      "            ],\n",
      "            \"parts\": 1\n",
      "        },\n",
      "        \"patent-2017\": {\n",
      "            \"num_records\": 353197,\n",
      "            \"record_format\": \"dict\",\n",
      "            \"file_size\": 3087262469,\n",
      "            \"reader_code\": \"https://github.com/RaRe-Technologies/gensim-data/releases/download/patent-2017/__init__.py\",\n",
      "            \"license\": \"not found\",\n",
      "            \"description\": \"Patent Grant Full Text. Contains the full text including tables, sequence data and 'in-line' mathematical expressions of each patent grant issued in 2017.\",\n",
      "            \"checksum-0\": \"818501f0b9af62d3b88294d86d509f8f\",\n",
      "            \"checksum-1\": \"66c05635c1d3c7a19b4a335829d09ffa\",\n",
      "            \"file_name\": \"patent-2017.gz\",\n",
      "            \"read_more\": [\n",
      "                \"http://patents.reedtech.com/pgrbft.php\"\n",
      "            ],\n",
      "            \"parts\": 2\n",
      "        },\n",
      "        \"quora-duplicate-questions\": {\n",
      "            \"num_records\": 404290,\n",
      "            \"record_format\": \"dict\",\n",
      "            \"file_size\": 21684784,\n",
      "            \"reader_code\": \"https://github.com/RaRe-Technologies/gensim-data/releases/download/quora-duplicate-questions/__init__.py\",\n",
      "            \"license\": \"probably https://www.quora.com/about/tos\",\n",
      "            \"fields\": {\n",
      "                \"question1\": \"the full text of each question\",\n",
      "                \"question2\": \"the full text of each question\",\n",
      "                \"qid1\": \"unique ids of each question\",\n",
      "                \"qid2\": \"unique ids of each question\",\n",
      "                \"id\": \"the id of a training set question pair\",\n",
      "                \"is_duplicate\": \"the target variable, set to 1 if question1 and question2 have essentially the same meaning, and 0 otherwise\"\n",
      "            },\n",
      "            \"description\": \"Over 400,000 lines of potential question duplicate pairs. Each line contains IDs for each question in the pair, the full text for each question, and a binary value that indicates whether the line contains a duplicate pair or not.\",\n",
      "            \"checksum\": \"d7cfa7fbc6e2ec71ab74c495586c6365\",\n",
      "            \"file_name\": \"quora-duplicate-questions.gz\",\n",
      "            \"read_more\": [\n",
      "                \"https://data.quora.com/First-Quora-Dataset-Release-Question-Pairs\"\n",
      "            ],\n",
      "            \"parts\": 1\n",
      "        },\n",
      "        \"wiki-english-20171001\": {\n",
      "            \"num_records\": 4924894,\n",
      "            \"record_format\": \"dict\",\n",
      "            \"file_size\": 6516051717,\n",
      "            \"reader_code\": \"https://github.com/RaRe-Technologies/gensim-data/releases/download/wiki-english-20171001/__init__.py\",\n",
      "            \"license\": \"https://dumps.wikimedia.org/legal.html\",\n",
      "            \"fields\": {\n",
      "                \"section_texts\": \"list of body of sections\",\n",
      "                \"section_titles\": \"list of titles of sections\",\n",
      "                \"title\": \"Title of wiki article\"\n",
      "            },\n",
      "            \"description\": \"Extracted Wikipedia dump from October 2017. Produced by `python -m gensim.scripts.segment_wiki -f enwiki-20171001-pages-articles.xml.bz2 -o wiki-en.gz`\",\n",
      "            \"checksum-0\": \"a7d7d7fd41ea7e2d7fa32ec1bb640d71\",\n",
      "            \"checksum-1\": \"b2683e3356ffbca3b6c2dca6e9801f9f\",\n",
      "            \"checksum-2\": \"c5cde2a9ae77b3c4ebce804f6df542c2\",\n",
      "            \"checksum-3\": \"00b71144ed5e3aeeb885de84f7452b81\",\n",
      "            \"file_name\": \"wiki-english-20171001.gz\",\n",
      "            \"read_more\": [\n",
      "                \"https://dumps.wikimedia.org/enwiki/20171001/\"\n",
      "            ],\n",
      "            \"parts\": 4\n",
      "        },\n",
      "        \"text8\": {\n",
      "            \"num_records\": 1701,\n",
      "            \"record_format\": \"list of str (tokens)\",\n",
      "            \"file_size\": 33182058,\n",
      "            \"reader_code\": \"https://github.com/RaRe-Technologies/gensim-data/releases/download/text8/__init__.py\",\n",
      "            \"license\": \"not found\",\n",
      "            \"description\": \"First 100,000,000 bytes of plain text from Wikipedia. Used for testing purposes; see wiki-english-* for proper full Wikipedia datasets.\",\n",
      "            \"checksum\": \"68799af40b6bda07dfa47a32612e5364\",\n",
      "            \"file_name\": \"text8.gz\",\n",
      "            \"read_more\": [\n",
      "                \"http://mattmahoney.net/dc/textdata.html\"\n",
      "            ],\n",
      "            \"parts\": 1\n",
      "        },\n",
      "        \"fake-news\": {\n",
      "            \"num_records\": 12999,\n",
      "            \"record_format\": \"dict\",\n",
      "            \"file_size\": 20102776,\n",
      "            \"reader_code\": \"https://github.com/RaRe-Technologies/gensim-data/releases/download/fake-news/__init__.py\",\n",
      "            \"license\": \"https://creativecommons.org/publicdomain/zero/1.0/\",\n",
      "            \"fields\": {\n",
      "                \"crawled\": \"date the story was archived\",\n",
      "                \"ord_in_thread\": \"\",\n",
      "                \"published\": \"date published\",\n",
      "                \"participants_count\": \"number of participants\",\n",
      "                \"shares\": \"number of Facebook shares\",\n",
      "                \"replies_count\": \"number of replies\",\n",
      "                \"main_img_url\": \"image from story\",\n",
      "                \"spam_score\": \"data from webhose.io\",\n",
      "                \"uuid\": \"unique identifier\",\n",
      "                \"language\": \"data from webhose.io\",\n",
      "                \"title\": \"title of story\",\n",
      "                \"country\": \"data from webhose.io\",\n",
      "                \"domain_rank\": \"data from webhose.io\",\n",
      "                \"author\": \"author of story\",\n",
      "                \"comments\": \"number of Facebook comments\",\n",
      "                \"site_url\": \"site URL from BS detector\",\n",
      "                \"text\": \"text of story\",\n",
      "                \"thread_title\": \"\",\n",
      "                \"type\": \"type of website (label from BS detector)\",\n",
      "                \"likes\": \"number of Facebook likes\"\n",
      "            },\n",
      "            \"description\": \"News dataset, contains text and metadata from 244 websites and represents 12,999 posts in total from a specific window of 30 days. The data was pulled using the webhose.io API, and because it's coming from their crawler, not all websites identified by their BS Detector are present in this dataset. Data sources that were missing a label were simply assigned a label of 'bs'. There are (ostensibly) no genuine, reliable, or trustworthy news sources represented in this dataset (so far), so don't trust anything you read.\",\n",
      "            \"checksum\": \"5e64e942df13219465927f92dcefd5fe\",\n",
      "            \"file_name\": \"fake-news.gz\",\n",
      "            \"read_more\": [\n",
      "                \"https://www.kaggle.com/mrisdal/fake-news\"\n",
      "            ],\n",
      "            \"parts\": 1\n",
      "        },\n",
      "        \"20-newsgroups\": {\n",
      "            \"num_records\": 18846,\n",
      "            \"record_format\": \"dict\",\n",
      "            \"file_size\": 14483581,\n",
      "            \"reader_code\": \"https://github.com/RaRe-Technologies/gensim-data/releases/download/20-newsgroups/__init__.py\",\n",
      "            \"license\": \"not found\",\n",
      "            \"fields\": {\n",
      "                \"topic\": \"name of topic (20 variant of possible values)\",\n",
      "                \"set\": \"marker of original split (possible values 'train' and 'test')\",\n",
      "                \"data\": \"\",\n",
      "                \"id\": \"original id inferred from folder name\"\n",
      "            },\n",
      "            \"description\": \"The notorious collection of approximately 20,000 newsgroup posts, partitioned (nearly) evenly across 20 different newsgroups.\",\n",
      "            \"checksum\": \"c92fd4f6640a86d5ba89eaad818a9891\",\n",
      "            \"file_name\": \"20-newsgroups.gz\",\n",
      "            \"read_more\": [\n",
      "                \"http://qwone.com/~jason/20Newsgroups/\"\n",
      "            ],\n",
      "            \"parts\": 1\n",
      "        },\n",
      "        \"__testing_matrix-synopsis\": {\n",
      "            \"description\": \"[THIS IS ONLY FOR TESTING] Synopsis of the movie matrix.\",\n",
      "            \"checksum\": \"1767ac93a089b43899d54944b07d9dc5\",\n",
      "            \"file_name\": \"__testing_matrix-synopsis.gz\",\n",
      "            \"read_more\": [\n",
      "                \"http://www.imdb.com/title/tt0133093/plotsummary?ref_=ttpl_pl_syn#synopsis\"\n",
      "            ],\n",
      "            \"parts\": 1\n",
      "        },\n",
      "        \"__testing_multipart-matrix-synopsis\": {\n",
      "            \"description\": \"[THIS IS ONLY FOR TESTING] Synopsis of the movie matrix.\",\n",
      "            \"checksum-0\": \"c8b0c7d8cf562b1b632c262a173ac338\",\n",
      "            \"checksum-1\": \"5ff7fc6818e9a5d9bc1cf12c35ed8b96\",\n",
      "            \"checksum-2\": \"966db9d274d125beaac7987202076cba\",\n",
      "            \"file_name\": \"__testing_multipart-matrix-synopsis.gz\",\n",
      "            \"read_more\": [\n",
      "                \"http://www.imdb.com/title/tt0133093/plotsummary?ref_=ttpl_pl_syn#synopsis\"\n",
      "            ],\n",
      "            \"parts\": 3\n",
      "        }\n",
      "    },\n",
      "    \"models\": {\n",
      "        \"fasttext-wiki-news-subwords-300\": {\n",
      "            \"num_records\": 999999,\n",
      "            \"file_size\": 1005007116,\n",
      "            \"base_dataset\": \"Wikipedia 2017, UMBC webbase corpus and statmt.org news dataset (16B tokens)\",\n",
      "            \"reader_code\": \"https://github.com/RaRe-Technologies/gensim-data/releases/download/fasttext-wiki-news-subwords-300/__init__.py\",\n",
      "            \"license\": \"https://creativecommons.org/licenses/by-sa/3.0/\",\n",
      "            \"parameters\": {\n",
      "                \"dimension\": 300\n",
      "            },\n",
      "            \"description\": \"1 million word vectors trained on Wikipedia 2017, UMBC webbase corpus and statmt.org news dataset (16B tokens).\",\n",
      "            \"read_more\": [\n",
      "                \"https://fasttext.cc/docs/en/english-vectors.html\",\n",
      "                \"https://arxiv.org/abs/1712.09405\",\n",
      "                \"https://arxiv.org/abs/1607.01759\"\n",
      "            ],\n",
      "            \"checksum\": \"de2bb3a20c46ce65c9c131e1ad9a77af\",\n",
      "            \"file_name\": \"fasttext-wiki-news-subwords-300.gz\",\n",
      "            \"parts\": 1\n",
      "        },\n",
      "        \"conceptnet-numberbatch-17-06-300\": {\n",
      "            \"num_records\": 1917247,\n",
      "            \"file_size\": 1225497562,\n",
      "            \"base_dataset\": \"ConceptNet, word2vec, GloVe, and OpenSubtitles 2016\",\n",
      "            \"reader_code\": \"https://github.com/RaRe-Technologies/gensim-data/releases/download/conceptnet-numberbatch-17-06-300/__init__.py\",\n",
      "            \"license\": \"https://github.com/commonsense/conceptnet-numberbatch/blob/master/LICENSE.txt\",\n",
      "            \"parameters\": {\n",
      "                \"dimension\": 300\n",
      "            },\n",
      "            \"description\": \"ConceptNet Numberbatch consists of state-of-the-art semantic vectors (also known as word embeddings) that can be used directly as a representation of word meanings or as a starting point for further machine learning. ConceptNet Numberbatch is part of the ConceptNet open data project. ConceptNet provides lots of ways to compute with word meanings, one of which is word embeddings. ConceptNet Numberbatch is a snapshot of just the word embeddings. It is built using an ensemble that combines data from ConceptNet, word2vec, GloVe, and OpenSubtitles 2016, using a variation on retrofitting.\",\n",
      "            \"read_more\": [\n",
      "                \"http://aaai.org/ocs/index.php/AAAI/AAAI17/paper/view/14972\",\n",
      "                \"https://github.com/commonsense/conceptnet-numberbatch\",\n",
      "                \"http://conceptnet.io/\"\n",
      "            ],\n",
      "            \"checksum\": \"fd642d457adcd0ea94da0cd21b150847\",\n",
      "            \"file_name\": \"conceptnet-numberbatch-17-06-300.gz\",\n",
      "            \"parts\": 1\n",
      "        },\n",
      "        \"word2vec-ruscorpora-300\": {\n",
      "            \"num_records\": 184973,\n",
      "            \"file_size\": 208427381,\n",
      "            \"base_dataset\": \"Russian National Corpus (about 250M words)\",\n",
      "            \"reader_code\": \"https://github.com/RaRe-Technologies/gensim-data/releases/download/word2vec-ruscorpora-300/__init__.py\",\n",
      "            \"license\": \"https://creativecommons.org/licenses/by/4.0/deed.en\",\n",
      "            \"parameters\": {\n",
      "                \"dimension\": 300,\n",
      "                \"window_size\": 10\n",
      "            },\n",
      "            \"description\": \"Word2vec Continuous Skipgram vectors trained on full Russian National Corpus (about 250M words). The model contains 185K words.\",\n",
      "            \"preprocessing\": \"The corpus was lemmatized and tagged with Universal PoS\",\n",
      "            \"read_more\": [\n",
      "                \"https://www.academia.edu/24306935/WebVectors_a_Toolkit_for_Building_Web_Interfaces_for_Vector_Semantic_Models\",\n",
      "                \"http://rusvectores.org/en/\",\n",
      "                \"https://github.com/RaRe-Technologies/gensim-data/issues/3\"\n",
      "            ],\n",
      "            \"checksum\": \"9bdebdc8ae6d17d20839dd9b5af10bc4\",\n",
      "            \"file_name\": \"word2vec-ruscorpora-300.gz\",\n",
      "            \"parts\": 1\n",
      "        },\n",
      "        \"word2vec-google-news-300\": {\n",
      "            \"num_records\": 3000000,\n",
      "            \"file_size\": 1743563840,\n",
      "            \"base_dataset\": \"Google News (about 100 billion words)\",\n",
      "            \"reader_code\": \"https://github.com/RaRe-Technologies/gensim-data/releases/download/word2vec-google-news-300/__init__.py\",\n",
      "            \"license\": \"not found\",\n",
      "            \"parameters\": {\n",
      "                \"dimension\": 300\n",
      "            },\n",
      "            \"description\": \"Pre-trained vectors trained on a part of the Google News dataset (about 100 billion words). The model contains 300-dimensional vectors for 3 million words and phrases. The phrases were obtained using a simple data-driven approach described in 'Distributed Representations of Words and Phrases and their Compositionality' (https://code.google.com/archive/p/word2vec/).\",\n",
      "            \"read_more\": [\n",
      "                \"https://code.google.com/archive/p/word2vec/\",\n",
      "                \"https://arxiv.org/abs/1301.3781\",\n",
      "                \"https://arxiv.org/abs/1310.4546\",\n",
      "                \"https://www.microsoft.com/en-us/research/publication/linguistic-regularities-in-continuous-space-word-representations/?from=http%3A%2F%2Fresearch.microsoft.com%2Fpubs%2F189726%2Frvecs.pdf\"\n",
      "            ],\n",
      "            \"checksum\": \"a5e5354d40acb95f9ec66d5977d140ef\",\n",
      "            \"file_name\": \"word2vec-google-news-300.gz\",\n",
      "            \"parts\": 1\n",
      "        },\n",
      "        \"glove-wiki-gigaword-50\": {\n",
      "            \"num_records\": 400000,\n",
      "            \"file_size\": 69182535,\n",
      "            \"base_dataset\": \"Wikipedia 2014 + Gigaword 5 (6B tokens, uncased)\",\n",
      "            \"reader_code\": \"https://github.com/RaRe-Technologies/gensim-data/releases/download/glove-wiki-gigaword-50/__init__.py\",\n",
      "            \"license\": \"http://opendatacommons.org/licenses/pddl/\",\n",
      "            \"parameters\": {\n",
      "                \"dimension\": 50\n",
      "            },\n",
      "            \"description\": \"Pre-trained vectors based on Wikipedia 2014 + Gigaword, 5.6B tokens, 400K vocab, uncased (https://nlp.stanford.edu/projects/glove/).\",\n",
      "            \"preprocessing\": \"Converted to w2v format with `python -m gensim.scripts.glove2word2vec -i <fname> -o glove-wiki-gigaword-50.txt`.\",\n",
      "            \"read_more\": [\n",
      "                \"https://nlp.stanford.edu/projects/glove/\",\n",
      "                \"https://nlp.stanford.edu/pubs/glove.pdf\"\n",
      "            ],\n",
      "            \"checksum\": \"c289bc5d7f2f02c6dc9f2f9b67641813\",\n",
      "            \"file_name\": \"glove-wiki-gigaword-50.gz\",\n",
      "            \"parts\": 1\n",
      "        },\n",
      "        \"glove-wiki-gigaword-100\": {\n",
      "            \"num_records\": 400000,\n",
      "            \"file_size\": 134300434,\n",
      "            \"base_dataset\": \"Wikipedia 2014 + Gigaword 5 (6B tokens, uncased)\",\n",
      "            \"reader_code\": \"https://github.com/RaRe-Technologies/gensim-data/releases/download/glove-wiki-gigaword-100/__init__.py\",\n",
      "            \"license\": \"http://opendatacommons.org/licenses/pddl/\",\n",
      "            \"parameters\": {\n",
      "                \"dimension\": 100\n",
      "            },\n",
      "            \"description\": \"Pre-trained vectors based on Wikipedia 2014 + Gigaword 5.6B tokens, 400K vocab, uncased (https://nlp.stanford.edu/projects/glove/).\",\n",
      "            \"preprocessing\": \"Converted to w2v format with `python -m gensim.scripts.glove2word2vec -i <fname> -o glove-wiki-gigaword-100.txt`.\",\n",
      "            \"read_more\": [\n",
      "                \"https://nlp.stanford.edu/projects/glove/\",\n",
      "                \"https://nlp.stanford.edu/pubs/glove.pdf\"\n",
      "            ],\n",
      "            \"checksum\": \"40ec481866001177b8cd4cb0df92924f\",\n",
      "            \"file_name\": \"glove-wiki-gigaword-100.gz\",\n",
      "            \"parts\": 1\n",
      "        },\n",
      "        \"glove-wiki-gigaword-200\": {\n",
      "            \"num_records\": 400000,\n",
      "            \"file_size\": 264336934,\n",
      "            \"base_dataset\": \"Wikipedia 2014 + Gigaword 5 (6B tokens, uncased)\",\n",
      "            \"reader_code\": \"https://github.com/RaRe-Technologies/gensim-data/releases/download/glove-wiki-gigaword-200/__init__.py\",\n",
      "            \"license\": \"http://opendatacommons.org/licenses/pddl/\",\n",
      "            \"parameters\": {\n",
      "                \"dimension\": 200\n",
      "            },\n",
      "            \"description\": \"Pre-trained vectors based on Wikipedia 2014 + Gigaword, 5.6B tokens, 400K vocab, uncased (https://nlp.stanford.edu/projects/glove/).\",\n",
      "            \"preprocessing\": \"Converted to w2v format with `python -m gensim.scripts.glove2word2vec -i <fname> -o glove-wiki-gigaword-200.txt`.\",\n",
      "            \"read_more\": [\n",
      "                \"https://nlp.stanford.edu/projects/glove/\",\n",
      "                \"https://nlp.stanford.edu/pubs/glove.pdf\"\n",
      "            ],\n",
      "            \"checksum\": \"59652db361b7a87ee73834a6c391dfc1\",\n",
      "            \"file_name\": \"glove-wiki-gigaword-200.gz\",\n",
      "            \"parts\": 1\n",
      "        },\n",
      "        \"glove-wiki-gigaword-300\": {\n",
      "            \"num_records\": 400000,\n",
      "            \"file_size\": 394362229,\n",
      "            \"base_dataset\": \"Wikipedia 2014 + Gigaword 5 (6B tokens, uncased)\",\n",
      "            \"reader_code\": \"https://github.com/RaRe-Technologies/gensim-data/releases/download/glove-wiki-gigaword-300/__init__.py\",\n",
      "            \"license\": \"http://opendatacommons.org/licenses/pddl/\",\n",
      "            \"parameters\": {\n",
      "                \"dimension\": 300\n",
      "            },\n",
      "            \"description\": \"Pre-trained vectors based on Wikipedia 2014 + Gigaword, 5.6B tokens, 400K vocab, uncased (https://nlp.stanford.edu/projects/glove/).\",\n",
      "            \"preprocessing\": \"Converted to w2v format with `python -m gensim.scripts.glove2word2vec -i <fname> -o glove-wiki-gigaword-300.txt`.\",\n",
      "            \"read_more\": [\n",
      "                \"https://nlp.stanford.edu/projects/glove/\",\n",
      "                \"https://nlp.stanford.edu/pubs/glove.pdf\"\n",
      "            ],\n",
      "            \"checksum\": \"29e9329ac2241937d55b852e8284e89b\",\n",
      "            \"file_name\": \"glove-wiki-gigaword-300.gz\",\n",
      "            \"parts\": 1\n",
      "        },\n",
      "        \"glove-twitter-25\": {\n",
      "            \"num_records\": 1193514,\n",
      "            \"file_size\": 109885004,\n",
      "            \"base_dataset\": \"Twitter (2B tweets, 27B tokens, 1.2M vocab, uncased)\",\n",
      "            \"reader_code\": \"https://github.com/RaRe-Technologies/gensim-data/releases/download/glove-twitter-25/__init__.py\",\n",
      "            \"license\": \"http://opendatacommons.org/licenses/pddl/\",\n",
      "            \"parameters\": {\n",
      "                \"dimension\": 25\n",
      "            },\n",
      "            \"description\": \"Pre-trained vectors based on 2B tweets, 27B tokens, 1.2M vocab, uncased (https://nlp.stanford.edu/projects/glove/).\",\n",
      "            \"preprocessing\": \"Converted to w2v format with `python -m gensim.scripts.glove2word2vec -i <fname> -o glove-twitter-25.txt`.\",\n",
      "            \"read_more\": [\n",
      "                \"https://nlp.stanford.edu/projects/glove/\",\n",
      "                \"https://nlp.stanford.edu/pubs/glove.pdf\"\n",
      "            ],\n",
      "            \"checksum\": \"50db0211d7e7a2dcd362c6b774762793\",\n",
      "            \"file_name\": \"glove-twitter-25.gz\",\n",
      "            \"parts\": 1\n",
      "        },\n",
      "        \"glove-twitter-50\": {\n",
      "            \"num_records\": 1193514,\n",
      "            \"file_size\": 209216938,\n",
      "            \"base_dataset\": \"Twitter (2B tweets, 27B tokens, 1.2M vocab, uncased)\",\n",
      "            \"reader_code\": \"https://github.com/RaRe-Technologies/gensim-data/releases/download/glove-twitter-50/__init__.py\",\n",
      "            \"license\": \"http://opendatacommons.org/licenses/pddl/\",\n",
      "            \"parameters\": {\n",
      "                \"dimension\": 50\n",
      "            },\n",
      "            \"description\": \"Pre-trained vectors based on 2B tweets, 27B tokens, 1.2M vocab, uncased (https://nlp.stanford.edu/projects/glove/)\",\n",
      "            \"preprocessing\": \"Converted to w2v format with `python -m gensim.scripts.glove2word2vec -i <fname> -o glove-twitter-50.txt`.\",\n",
      "            \"read_more\": [\n",
      "                \"https://nlp.stanford.edu/projects/glove/\",\n",
      "                \"https://nlp.stanford.edu/pubs/glove.pdf\"\n",
      "            ],\n",
      "            \"checksum\": \"c168f18641f8c8a00fe30984c4799b2b\",\n",
      "            \"file_name\": \"glove-twitter-50.gz\",\n",
      "            \"parts\": 1\n",
      "        },\n",
      "        \"glove-twitter-100\": {\n",
      "            \"num_records\": 1193514,\n",
      "            \"file_size\": 405932991,\n",
      "            \"base_dataset\": \"Twitter (2B tweets, 27B tokens, 1.2M vocab, uncased)\",\n",
      "            \"reader_code\": \"https://github.com/RaRe-Technologies/gensim-data/releases/download/glove-twitter-100/__init__.py\",\n",
      "            \"license\": \"http://opendatacommons.org/licenses/pddl/\",\n",
      "            \"parameters\": {\n",
      "                \"dimension\": 100\n",
      "            },\n",
      "            \"description\": \"Pre-trained vectors based on  2B tweets, 27B tokens, 1.2M vocab, uncased (https://nlp.stanford.edu/projects/glove/)\",\n",
      "            \"preprocessing\": \"Converted to w2v format with `python -m gensim.scripts.glove2word2vec -i <fname> -o glove-twitter-100.txt`.\",\n",
      "            \"read_more\": [\n",
      "                \"https://nlp.stanford.edu/projects/glove/\",\n",
      "                \"https://nlp.stanford.edu/pubs/glove.pdf\"\n",
      "            ],\n",
      "            \"checksum\": \"b04f7bed38756d64cf55b58ce7e97b15\",\n",
      "            \"file_name\": \"glove-twitter-100.gz\",\n",
      "            \"parts\": 1\n",
      "        },\n",
      "        \"glove-twitter-200\": {\n",
      "            \"num_records\": 1193514,\n",
      "            \"file_size\": 795373100,\n",
      "            \"base_dataset\": \"Twitter (2B tweets, 27B tokens, 1.2M vocab, uncased)\",\n",
      "            \"reader_code\": \"https://github.com/RaRe-Technologies/gensim-data/releases/download/glove-twitter-200/__init__.py\",\n",
      "            \"license\": \"http://opendatacommons.org/licenses/pddl/\",\n",
      "            \"parameters\": {\n",
      "                \"dimension\": 200\n",
      "            },\n",
      "            \"description\": \"Pre-trained vectors based on 2B tweets, 27B tokens, 1.2M vocab, uncased (https://nlp.stanford.edu/projects/glove/).\",\n",
      "            \"preprocessing\": \"Converted to w2v format with `python -m gensim.scripts.glove2word2vec -i <fname> -o glove-twitter-200.txt`.\",\n",
      "            \"read_more\": [\n",
      "                \"https://nlp.stanford.edu/projects/glove/\",\n",
      "                \"https://nlp.stanford.edu/pubs/glove.pdf\"\n",
      "            ],\n",
      "            \"checksum\": \"e52e8392d1860b95d5308a525817d8f9\",\n",
      "            \"file_name\": \"glove-twitter-200.gz\",\n",
      "            \"parts\": 1\n",
      "        },\n",
      "        \"__testing_word2vec-matrix-synopsis\": {\n",
      "            \"description\": \"[THIS IS ONLY FOR TESTING] Word vecrors of the movie matrix.\",\n",
      "            \"parameters\": {\n",
      "                \"dimensions\": 50\n",
      "            },\n",
      "            \"preprocessing\": \"Converted to w2v using a preprocessed corpus. Converted to w2v format with `python3.5 -m gensim.models.word2vec -train <input_filename> -iter 50 -output <output_filename>`.\",\n",
      "            \"read_more\": [],\n",
      "            \"checksum\": \"534dcb8b56a360977a269b7bfc62d124\",\n",
      "            \"file_name\": \"__testing_word2vec-matrix-synopsis.gz\",\n",
      "            \"parts\": 1\n",
      "        }\n",
      "    }\n",
      "}\n"
     ]
    }
   ],
   "source": [
    "import json\n",
    "info = api.info()\n",
    "print(json.dumps(info, indent=4))"
   ]
  },
  {
   "cell_type": "code",
   "execution_count": 24,
   "metadata": {},
   "outputs": [
    {
     "data": {
      "text/plain": [
       "[('humanity', 0.7903985381126404),\n",
       " ('goodness', 0.7756362557411194),\n",
       " ('pleasure', 0.7539363503456116),\n",
       " ('dignity', 0.7190060615539551),\n",
       " ('oneself', 0.7150140404701233),\n",
       " ('desires', 0.7140053510665894),\n",
       " ('fear', 0.7122308611869812),\n",
       " ('righteousness', 0.7105294466018677),\n",
       " ('perfection', 0.7052812576293945),\n",
       " ('compassion', 0.7016334533691406)]"
      ]
     },
     "execution_count": 24,
     "metadata": {},
     "output_type": "execute_result"
    }
   ],
   "source": [
    "model.wv.most_similar(\"happiness\")"
   ]
  },
  {
   "cell_type": "code",
   "execution_count": 25,
   "metadata": {
    "scrolled": true
   },
   "outputs": [
    {
     "data": {
      "text/plain": [
       "[('princess', 0.7545782923698425),\n",
       " ('elizabeth', 0.7479995489120483),\n",
       " ('king', 0.7205032110214233),\n",
       " ('prince', 0.7199329137802124),\n",
       " ('mary', 0.6735652685165405),\n",
       " ('regent', 0.6605610847473145),\n",
       " ('crown', 0.6507757306098938),\n",
       " ('duchess', 0.6502315998077393),\n",
       " ('consort', 0.6400766372680664),\n",
       " ('victoria', 0.6254305243492126)]"
      ]
     },
     "execution_count": 25,
     "metadata": {},
     "output_type": "execute_result"
    }
   ],
   "source": [
    "model.wv.most_similar(\"queen\")"
   ]
  },
  {
   "cell_type": "markdown",
   "metadata": {},
   "source": [
    " "
   ]
  },
  {
   "cell_type": "markdown",
   "metadata": {},
   "source": [
    " "
   ]
  },
  {
   "cell_type": "markdown",
   "metadata": {},
   "source": [
    " "
   ]
  },
  {
   "cell_type": "markdown",
   "metadata": {},
   "source": [
    " "
   ]
  },
  {
   "cell_type": "markdown",
   "metadata": {},
   "source": [
    " "
   ]
  },
  {
   "cell_type": "markdown",
   "metadata": {},
   "source": [
    " "
   ]
  },
  {
   "cell_type": "markdown",
   "metadata": {},
   "source": [
    " "
   ]
  },
  {
   "cell_type": "markdown",
   "metadata": {},
   "source": [
    " "
   ]
  },
  {
   "cell_type": "markdown",
   "metadata": {},
   "source": [
    "#### Semantic regularities captured in word embeddings"
   ]
  },
  {
   "cell_type": "code",
   "execution_count": 27,
   "metadata": {},
   "outputs": [
    {
     "data": {
      "text/plain": [
       "[('queen', 0.6444094181060791),\n",
       " ('empress', 0.6013348698616028),\n",
       " ('princess', 0.5875312685966492),\n",
       " ('son', 0.5860556364059448),\n",
       " ('daughter', 0.5828930139541626)]"
      ]
     },
     "execution_count": 27,
     "metadata": {},
     "output_type": "execute_result"
    }
   ],
   "source": [
    "model.wv.most_similar(positive=['woman', 'king'], negative=['man'], topn=5)"
   ]
  },
  {
   "cell_type": "code",
   "execution_count": 28,
   "metadata": {},
   "outputs": [
    {
     "data": {
      "text/plain": [
       "[('heroine', 0.6810873746871948),\n",
       " ('protagonist', 0.6552226543426514),\n",
       " ('idol', 0.6547155976295471),\n",
       " ('heroic', 0.6388888359069824),\n",
       " ('witch', 0.6163610219955444)]"
      ]
     },
     "execution_count": 28,
     "metadata": {},
     "output_type": "execute_result"
    }
   ],
   "source": [
    "model.wv.most_similar(positive=['woman', 'hero'], negative=['man'], topn=5)"
   ]
  },
  {
   "cell_type": "markdown",
   "metadata": {},
   "source": [
    "### Visualizing these word vectors"
   ]
  },
  {
   "cell_type": "code",
   "execution_count": 29,
   "metadata": {},
   "outputs": [],
   "source": [
    "X = model.wv[model.wv.vocab]"
   ]
  },
  {
   "cell_type": "markdown",
   "metadata": {},
   "source": [
    "##### We'll use PCA to reduce and visualize in 2 dimensions"
   ]
  },
  {
   "cell_type": "code",
   "execution_count": 30,
   "metadata": {},
   "outputs": [],
   "source": [
    "from sklearn.decomposition import PCA"
   ]
  },
  {
   "cell_type": "code",
   "execution_count": 31,
   "metadata": {},
   "outputs": [],
   "source": [
    "pca = PCA(n_components=2)\n",
    "result = pca.fit_transform(X)"
   ]
  },
  {
   "cell_type": "markdown",
   "metadata": {},
   "source": [
    "Randomly select 100 words"
   ]
  },
  {
   "cell_type": "code",
   "execution_count": 32,
   "metadata": {},
   "outputs": [],
   "source": [
    "import random\n",
    "random.seed(2)"
   ]
  },
  {
   "cell_type": "code",
   "execution_count": 33,
   "metadata": {
    "scrolled": true
   },
   "outputs": [],
   "source": [
    "ind = random.sample(range(0,len(X)),100)\n",
    "result_random = result[ind]\n",
    "all_words = list(model.wv.vocab)\n",
    "words = [all_words[i] for i in ind]"
   ]
  },
  {
   "cell_type": "code",
   "execution_count": 34,
   "metadata": {},
   "outputs": [
    {
     "data": {
      "image/png": "[encoded data removed]",
      "text/plain": [
       "<Figure size 864x864 with 1 Axes>"
      ]
     },
     "metadata": {
      "needs_background": "light"
     },
     "output_type": "display_data"
    }
   ],
   "source": [
    "plt.figure(figsize=(12,12))\n",
    "plt.scatter(result_random[:,0], result_random[:,1])\n",
    "for i, word in enumerate(words):\n",
    "    plt.annotate(word, xy=(result_random[i, 0], result_random[i, 1]))\n",
    "plt.show()"
   ]
  },
  {
   "cell_type": "markdown",
   "metadata": {},
   "source": [
    "## Effect of vector dimension"
   ]
  },
  {
   "cell_type": "markdown",
   "metadata": {},
   "source": [
    "#### Reducing the length to 50"
   ]
  },
  {
   "cell_type": "code",
   "execution_count": 35,
   "metadata": {},
   "outputs": [],
   "source": [
    "model1 = Word2Vec(corpus, size=50)"
   ]
  },
  {
   "cell_type": "code",
   "execution_count": 38,
   "metadata": {},
   "outputs": [
    {
     "data": {
      "text/plain": [
       "[('profits', 0.7349824905395508),\n",
       " ('payment', 0.7295622825622559),\n",
       " ('buying', 0.700308084487915),\n",
       " ('credit', 0.6915497183799744),\n",
       " ('payments', 0.6812117695808411),\n",
       " ('funds', 0.678135871887207),\n",
       " ('cash', 0.6778709888458252),\n",
       " ('royalties', 0.6651533246040344),\n",
       " ('compensation', 0.6526691913604736),\n",
       " ('taxes', 0.6525859236717224)]"
      ]
     },
     "execution_count": 38,
     "metadata": {},
     "output_type": "execute_result"
    }
   ],
   "source": [
    "model.wv.most_similar(\"money\")"
   ]
  },
  {
   "cell_type": "code",
   "execution_count": 36,
   "metadata": {},
   "outputs": [
    {
     "data": {
      "text/plain": [
       "[('profits', 0.7832396626472473),\n",
       " ('payment', 0.7595915198326111),\n",
       " ('credit', 0.748964786529541),\n",
       " ('payments', 0.7456303834915161),\n",
       " ('funds', 0.734220027923584),\n",
       " ('demand', 0.716565728187561),\n",
       " ('cash', 0.7162995338439941),\n",
       " ('funding', 0.7118803262710571),\n",
       " ('pay', 0.7057326436042786),\n",
       " ('debts', 0.7038130164146423)]"
      ]
     },
     "execution_count": 36,
     "metadata": {},
     "output_type": "execute_result"
    }
   ],
   "source": [
    "model1.wv.most_similar(\"money\")"
   ]
  },
  {
   "cell_type": "code",
   "execution_count": 39,
   "metadata": {},
   "outputs": [
    {
     "data": {
      "text/plain": [
       "[('princess', 0.7545782923698425),\n",
       " ('elizabeth', 0.7479995489120483),\n",
       " ('king', 0.7205032110214233),\n",
       " ('prince', 0.7199329137802124),\n",
       " ('mary', 0.6735652685165405)]"
      ]
     },
     "execution_count": 39,
     "metadata": {},
     "output_type": "execute_result"
    }
   ],
   "source": [
    "model.wv.most_similar(\"queen\", topn=5)"
   ]
  },
  {
   "cell_type": "code",
   "execution_count": 40,
   "metadata": {},
   "outputs": [
    {
     "data": {
      "text/plain": [
       "[('elizabeth', 0.7997084856033325),\n",
       " ('princess', 0.7981095910072327),\n",
       " ('prince', 0.794681966304779),\n",
       " ('king', 0.7637704610824585),\n",
       " ('lady', 0.7467451691627502)]"
      ]
     },
     "execution_count": 40,
     "metadata": {},
     "output_type": "execute_result"
    }
   ],
   "source": [
    "model1.wv.most_similar(\"queen\", topn=5)"
   ]
  },
  {
   "cell_type": "code",
   "execution_count": 41,
   "metadata": {
    "scrolled": true
   },
   "outputs": [
    {
     "data": {
      "text/plain": [
       "[('prince', 0.7884669899940491),\n",
       " ('empress', 0.7600922584533691),\n",
       " ('son', 0.7389916181564331),\n",
       " ('throne', 0.7295354604721069),\n",
       " ('emperor', 0.7185875177383423)]"
      ]
     },
     "execution_count": 41,
     "metadata": {},
     "output_type": "execute_result"
    }
   ],
   "source": [
    "model1.wv.most_similar(positive=['woman', 'king'], negative=['man'], topn=5)"
   ]
  },
  {
   "cell_type": "markdown",
   "metadata": {},
   "source": [
    " "
   ]
  },
  {
   "cell_type": "markdown",
   "metadata": {},
   "source": [
    " "
   ]
  },
  {
   "cell_type": "markdown",
   "metadata": {},
   "source": [
    " "
   ]
  },
  {
   "cell_type": "markdown",
   "metadata": {},
   "source": [
    " "
   ]
  },
  {
   "cell_type": "markdown",
   "metadata": {},
   "source": [
    " "
   ]
  },
  {
   "cell_type": "markdown",
   "metadata": {},
   "source": [
    " "
   ]
  },
  {
   "cell_type": "markdown",
   "metadata": {},
   "source": [
    " "
   ]
  },
  {
   "cell_type": "markdown",
   "metadata": {},
   "source": [
    "#### Inreasing vector length to 300"
   ]
  },
  {
   "cell_type": "code",
   "execution_count": 43,
   "metadata": {},
   "outputs": [],
   "source": [
    "model2 = word2vec.Word2Vec(corpus, size = 300)"
   ]
  },
  {
   "cell_type": "code",
   "execution_count": 47,
   "metadata": {},
   "outputs": [
    {
     "data": {
      "text/plain": [
       "[('profits', 0.7349824905395508),\n",
       " ('payment', 0.7295622825622559),\n",
       " ('buying', 0.700308084487915),\n",
       " ('credit', 0.6915497183799744),\n",
       " ('payments', 0.6812117695808411),\n",
       " ('funds', 0.678135871887207),\n",
       " ('cash', 0.6778709888458252),\n",
       " ('royalties', 0.6651533246040344),\n",
       " ('compensation', 0.6526691913604736),\n",
       " ('taxes', 0.6525859236717224)]"
      ]
     },
     "execution_count": 47,
     "metadata": {},
     "output_type": "execute_result"
    }
   ],
   "source": [
    "model.wv.most_similar(\"money\")"
   ]
  },
  {
   "cell_type": "code",
   "execution_count": 45,
   "metadata": {},
   "outputs": [
    {
     "data": {
      "text/plain": [
       "[('profits', 0.7244977355003357),\n",
       " ('payment', 0.7086753845214844),\n",
       " ('credit', 0.7008156776428223),\n",
       " ('buying', 0.6586264371871948),\n",
       " ('cash', 0.6498634219169617),\n",
       " ('funds', 0.6407647728919983),\n",
       " ('taxes', 0.6335389614105225),\n",
       " ('payments', 0.6318904161453247),\n",
       " ('compensation', 0.631671130657196),\n",
       " ('tax', 0.6191083192825317)]"
      ]
     },
     "execution_count": 45,
     "metadata": {},
     "output_type": "execute_result"
    }
   ],
   "source": [
    "model2.wv.most_similar(\"money\")"
   ]
  },
  {
   "cell_type": "code",
   "execution_count": 46,
   "metadata": {
    "scrolled": true
   },
   "outputs": [
    {
     "data": {
      "text/plain": [
       "[('elizabeth', 0.7462056875228882),\n",
       " ('princess', 0.7348060011863708),\n",
       " ('prince', 0.6811051964759827),\n",
       " ('king', 0.6473814845085144),\n",
       " ('consort', 0.6473261117935181),\n",
       " ('mary', 0.6368845701217651),\n",
       " ('crown', 0.6361289024353027),\n",
       " ('victoria', 0.6154955625534058),\n",
       " ('lady', 0.6071465015411377),\n",
       " ('regent', 0.6004157066345215)]"
      ]
     },
     "execution_count": 46,
     "metadata": {},
     "output_type": "execute_result"
    }
   ],
   "source": [
    "model2.wv.most_similar(\"queen\")"
   ]
  },
  {
   "cell_type": "code",
   "execution_count": 35,
   "metadata": {
    "scrolled": true
   },
   "outputs": [
    {
     "data": {
      "text/plain": [
       "[('queen', 0.6542671322822571),\n",
       " ('throne', 0.566440761089325),\n",
       " ('elizabeth', 0.5646956562995911),\n",
       " ('princess', 0.5616539716720581),\n",
       " ('prince', 0.5571869611740112)]"
      ]
     },
     "execution_count": 35,
     "metadata": {},
     "output_type": "execute_result"
    }
   ],
   "source": [
    "model2.wv.most_similar(positive=['woman', 'king'], negative=['man'], topn=5)"
   ]
  },
  {
   "cell_type": "markdown",
   "metadata": {},
   "source": [
    "## Skip gram vs CBOW"
   ]
  },
  {
   "cell_type": "markdown",
   "metadata": {},
   "source": [
    "Simply put, the CBOW model learns the embedding by predicting the current word based on its context. The skip-gram model learns by predicting the surrounding words given a current word."
   ]
  },
  {
   "cell_type": "markdown",
   "metadata": {},
   "source": [
    "![](https://3qeqpr26caki16dnhd19sv6by6v-wpengine.netdna-ssl.com/wp-content/uploads/2017/08/Word2Vec-Training-Models.png)"
   ]
  },
  {
   "cell_type": "markdown",
   "metadata": {},
   "source": [
    "#### Using Skipgram method"
   ]
  },
  {
   "cell_type": "code",
   "execution_count": 18,
   "metadata": {},
   "outputs": [],
   "source": [
    "model_sg = word2vec.Word2Vec(corpus, size=100,sg=1)"
   ]
  },
  {
   "cell_type": "code",
   "execution_count": 44,
   "metadata": {},
   "outputs": [
    {
     "ename": "NameError",
     "evalue": "name 'model_sg' is not defined",
     "output_type": "error",
     "traceback": [
      "\u001b[1;31m---------------------------------------------------------------------------\u001b[0m",
      "\u001b[1;31mNameError\u001b[0m                                 Traceback (most recent call last)",
      "\u001b[1;32m<ipython-input-44-6ea1b9b5dfe6>\u001b[0m in \u001b[0;36m<module>\u001b[1;34m\u001b[0m\n\u001b[1;32m----> 1\u001b[1;33m \u001b[0mmodel_sg\u001b[0m\u001b[1;33m.\u001b[0m\u001b[0mwv\u001b[0m\u001b[1;33m.\u001b[0m\u001b[0mmost_similar\u001b[0m\u001b[1;33m(\u001b[0m\u001b[1;34m\"money\"\u001b[0m\u001b[1;33m)\u001b[0m\u001b[1;33m\u001b[0m\u001b[1;33m\u001b[0m\u001b[0m\n\u001b[0m",
      "\u001b[1;31mNameError\u001b[0m: name 'model_sg' is not defined"
     ]
    }
   ],
   "source": [
    "model_sg.wv.most_similar(\"money\")"
   ]
  },
  {
   "cell_type": "code",
   "execution_count": 38,
   "metadata": {},
   "outputs": [
    {
     "data": {
      "text/plain": [
       "[('elizabeth', 0.8099689483642578),\n",
       " ('highness', 0.7497283220291138),\n",
       " ('consort', 0.7457442879676819),\n",
       " ('prince', 0.7451012134552002),\n",
       " ('regnant', 0.7396278381347656),\n",
       " ('king', 0.7383483052253723),\n",
       " ('princess', 0.7273576855659485),\n",
       " ('isabella', 0.7213452458381653),\n",
       " ('boleyn', 0.7120567560195923),\n",
       " ('victoria', 0.7040907144546509)]"
      ]
     },
     "execution_count": 38,
     "metadata": {},
     "output_type": "execute_result"
    }
   ],
   "source": [
    "model_sg.wv.most_similar(\"queen\")"
   ]
  },
  {
   "cell_type": "code",
   "execution_count": 39,
   "metadata": {},
   "outputs": [
    {
     "data": {
      "text/plain": [
       "[('queen', 0.6945860385894775),\n",
       " ('throne', 0.6385061144828796),\n",
       " ('daughter', 0.6328675150871277),\n",
       " ('matilda', 0.6277235746383667),\n",
       " ('prince', 0.6240294575691223)]"
      ]
     },
     "execution_count": 39,
     "metadata": {},
     "output_type": "execute_result"
    }
   ],
   "source": [
    "model_sg.wv.most_similar(positive=['woman', 'king'], negative=['man'], topn=5)"
   ]
  },
  {
   "cell_type": "code",
   "execution_count": 40,
   "metadata": {},
   "outputs": [
    {
     "data": {
      "text/plain": [
       "[('sinuous', 0.9162383675575256),\n",
       " ('basaltic', 0.9003928899765015),\n",
       " ('undulating', 0.8956737518310547),\n",
       " ('watercourses', 0.8892335891723633),\n",
       " ('troughs', 0.886396050453186),\n",
       " ('uplifted', 0.8850730061531067),\n",
       " ('wadis', 0.8814519643783569),\n",
       " ('eskers', 0.8808999061584473),\n",
       " ('featureless', 0.8780666589736938),\n",
       " ('steeper', 0.8779410123825073)]"
      ]
     },
     "execution_count": 40,
     "metadata": {},
     "output_type": "execute_result"
    }
   ],
   "source": [
    "model_sg.wv.most_similar(\"meandering\")"
   ]
  },
  {
   "cell_type": "markdown",
   "metadata": {},
   "source": [
    "#### Learning:\n",
    "In CBOW the vectors from the context words are averaged before predicting the center word. In skip-gram there is no averaging of embedding vectors. It seems like the model can learn better representations for the rare words when their vectors are not averaged with the other context words in the process of making the predictions. "
   ]
  },
  {
   "cell_type": "markdown",
   "metadata": {},
   "source": [
    "## Word vectors trained on different contexts\n",
    " - We'll load different corpora, from different contexts and see how the embeddings vary\n",
    " - The text8 corpus is wikipedia pages, while Brown corpus is from 15 different topics, and movie reviews are from IMDB"
   ]
  },
  {
   "cell_type": "code",
   "execution_count": 3,
   "metadata": {},
   "outputs": [],
   "source": [
    "from nltk.corpus import brown, movie_reviews"
   ]
  },
  {
   "cell_type": "code",
   "execution_count": 4,
   "metadata": {},
   "outputs": [],
   "source": [
    "model_brown = Word2Vec(brown.sents(), sg=1)\n",
    "model_movie = Word2Vec(movie_reviews.sents(), sg=1, window=5)"
   ]
  },
  {
   "cell_type": "code",
   "execution_count": 19,
   "metadata": {},
   "outputs": [
    {
     "data": {
      "text/plain": [
       "[('credit', 0.7894318699836731),\n",
       " ('repay', 0.7640762329101562),\n",
       " ('dividends', 0.761493444442749),\n",
       " ('taxes', 0.746096134185791),\n",
       " ('dues', 0.7369773387908936)]"
      ]
     },
     "execution_count": 19,
     "metadata": {},
     "output_type": "execute_result"
    }
   ],
   "source": [
    "model_sg.wv.most_similar('money', topn=5)"
   ]
  },
  {
   "cell_type": "code",
   "execution_count": 20,
   "metadata": {},
   "outputs": [
    {
     "data": {
      "text/plain": [
       "[('job', 0.8540072441101074),\n",
       " ('care', 0.8358042240142822),\n",
       " ('friendship', 0.8346329927444458),\n",
       " ('chances', 0.8208808898925781),\n",
       " ('luck', 0.8194456100463867)]"
      ]
     },
     "execution_count": 20,
     "metadata": {},
     "output_type": "execute_result"
    }
   ],
   "source": [
    "model_brown.wv.most_similar('money', topn=5)"
   ]
  },
  {
   "cell_type": "code",
   "execution_count": 21,
   "metadata": {},
   "outputs": [
    {
     "data": {
      "text/plain": [
       "[('cash', 0.7520744800567627),\n",
       " ('risk', 0.7156755328178406),\n",
       " ('record', 0.7119412422180176),\n",
       " ('ransom', 0.7030180096626282),\n",
       " ('nose', 0.6833670139312744)]"
      ]
     },
     "execution_count": 21,
     "metadata": {},
     "output_type": "execute_result"
    }
   ],
   "source": [
    "model_movie.wv.most_similar('money', topn=5)"
   ]
  },
  {
   "cell_type": "markdown",
   "metadata": {},
   "source": [
    " \n",
    "I hope it’s pretty clear from the above examples that the semantic similarity of words can vary greatly depending on the textual context. "
   ]
  },
  {
   "cell_type": "markdown",
   "metadata": {},
   "source": [
    "## Using pre-trained word vectors"
   ]
  },
  {
   "cell_type": "markdown",
   "metadata": {},
   "source": [
    "### A quick note on Glove:\n",
    "   - Developed by Stanford by training on 6 Billion tokens\n",
    "   - Objective is slightly different\n",
    "   - End result very similar to Google's word2vec"
   ]
  },
  {
   "cell_type": "markdown",
   "metadata": {},
   "source": [
    "https://nlp.stanford.edu/projects/glove/"
   ]
  },
  {
   "cell_type": "markdown",
   "metadata": {},
   "source": [
    "- We'll use the 100D vectors for this example.\n",
    "- The trained vectors are available in a text file\n",
    "- The format is slightly different from that of word2vec, necessitating the use of a utility to format accordingly"
   ]
  },
  {
   "cell_type": "code",
   "execution_count": 2,
   "metadata": {},
   "outputs": [
    {
     "data": {
      "text/plain": [
       "(400000, 50)"
      ]
     },
     "execution_count": 2,
     "metadata": {},
     "output_type": "execute_result"
    }
   ],
   "source": [
    "from gensim.scripts.glove2word2vec import glove2word2vec\n",
    "\n",
    "glove_input_file = r'D:\\18-DS\\Datasets-Large\\glove6b50dtxt\\glove.6B.50d.txt'\n",
    "word2vec_output_file ='glove.6B.50d.w2vformat.txt'\n",
    "\n",
    "#glove_input_file = 'glove.6B.100d.txt'\n",
    "#word2vec_output_file = 'glove.6B.100d.w2vformat.txt'\n",
    "glove2word2vec(glove_input_file, word2vec_output_file)"
   ]
  },
  {
   "cell_type": "code",
   "execution_count": 4,
   "metadata": {},
   "outputs": [],
   "source": [
    "from gensim.models.keyedvectors import KeyedVectors\n",
    "glove_model = KeyedVectors.load_word2vec_format(\"glove.6B.50d.w2vformat.txt\", binary=False)"
   ]
  },
  {
   "cell_type": "markdown",
   "metadata": {},
   "source": [
    "#### Now you can use all the methods you used with word2vec models"
   ]
  },
  {
   "cell_type": "code",
   "execution_count": 5,
   "metadata": {},
   "outputs": [
    {
     "data": {
      "text/plain": [
       "[('prince', 0.8236179351806641),\n",
       " ('queen', 0.7839042544364929),\n",
       " ('ii', 0.7746230363845825),\n",
       " ('emperor', 0.7736247181892395),\n",
       " ('son', 0.766719400882721),\n",
       " ('uncle', 0.7627150416374207),\n",
       " ('kingdom', 0.7542160749435425),\n",
       " ('throne', 0.7539913654327393),\n",
       " ('brother', 0.7492411136627197),\n",
       " ('ruler', 0.7434253096580505)]"
      ]
     },
     "execution_count": 5,
     "metadata": {},
     "output_type": "execute_result"
    }
   ],
   "source": [
    "glove_model.most_similar(\"king\")"
   ]
  },
  {
   "cell_type": "code",
   "execution_count": 14,
   "metadata": {},
   "outputs": [
    {
     "data": {
      "text/plain": [
       "[('queen', 0.7698541283607483),\n",
       " ('monarch', 0.6843380928039551),\n",
       " ('throne', 0.6755737066268921),\n",
       " ('daughter', 0.6594556570053101),\n",
       " ('princess', 0.6520533561706543)]"
      ]
     },
     "execution_count": 14,
     "metadata": {},
     "output_type": "execute_result"
    }
   ],
   "source": [
    "glove_model.most_similar(positive=['woman', 'king'], negative=['man'], topn=5)"
   ]
  },
  {
   "cell_type": "code",
   "execution_count": 15,
   "metadata": {},
   "outputs": [
    {
     "data": {
      "text/plain": [
       "[('heroine', 0.7324979305267334),\n",
       " ('heroes', 0.6356217861175537),\n",
       " ('icon', 0.6185224056243896),\n",
       " ('beloved', 0.6136684417724609),\n",
       " ('herself', 0.5904075503349304)]"
      ]
     },
     "execution_count": 15,
     "metadata": {},
     "output_type": "execute_result"
    }
   ],
   "source": [
    "glove_model.most_similar(positive=['woman', 'hero'], negative=['man'], topn=5)"
   ]
  }
 ],
 "metadata": {
  "kernelspec": {
   "display_name": "Python 3",
   "language": "python",
   "name": "python3"
  },
  "language_info": {
   "codemirror_mode": {
    "name": "ipython",
    "version": 3
   },
   "file_extension": ".py",
   "mimetype": "text/x-python",
   "name": "python",
   "nbconvert_exporter": "python",
   "pygments_lexer": "ipython3",
   "version": "3.7.1"
  }
 },
 "nbformat": 4,
 "nbformat_minor": 2
}
