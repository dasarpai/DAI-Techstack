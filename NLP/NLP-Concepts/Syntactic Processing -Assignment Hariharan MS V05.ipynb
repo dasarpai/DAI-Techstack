{
 "cells": [
  {
   "cell_type": "markdown",
   "metadata": {},
   "source": [
    "<font color='red' size=5><b> Software Requirements: The below scripts are tested in Python version 3.6.1 and Seaborn version 0.7.1</b> </font><br>   \n",
    " \n",
    "# <font color='blue'>Assignment - Syntactic Analysis - HMMs and Viterbi algorithm for POS tagging</font> <br>\n",
    "# <font color='blue'> Important Instructions </font>\n",
    "## <font color='blue'> Setup Working directory, copy files, execute scripts </font>\n",
    "<font color='blue'> <br>\n",
    "1) Copy this ipython (ipynb) notebook into your home/working directory <br>\n",
    "2) Copy the Test_sentences.txt file into your home/working directory <br>\n",
    "2) Execute below scripts by sequence order </font> <br>\n",
    "\n",
    "<font color='red' size=5><b>Note: Total execution time is expected to be 16 minutes</font><br>"
   ]
  },
  {
   "cell_type": "markdown",
   "metadata": {},
   "source": [
    "### Loading all required packages"
   ]
  },
  {
   "cell_type": "code",
   "execution_count": 1,
   "metadata": {
    "collapsed": true
   },
   "outputs": [],
   "source": [
    "#Import required libraries\n",
    "import nltk\n",
    "import re\n",
    "import pprint\n",
    "import numpy as np\n",
    "import pandas as pd\n",
    "import requests\n",
    "import matplotlib.pyplot as plt\n",
    "import seaborn as sns\n",
    "import time\n",
    "import random\n",
    "from sklearn.model_selection import train_test_split\n",
    "from nltk.tokenize import word_tokenize\n"
   ]
  },
  {
   "cell_type": "code",
   "execution_count": 2,
   "metadata": {},
   "outputs": [
    {
     "name": "stdout",
     "output_type": "stream",
     "text": [
      "3.6.1\n",
      "0.7.1\n"
     ]
    }
   ],
   "source": [
    "#Check the python version\n",
    "from platform import python_version\n",
    "import seaborn as sns\n",
    "\n",
    "print(python_version())\n",
    "print(sns.__version__)"
   ]
  },
  {
   "cell_type": "code",
   "execution_count": 3,
   "metadata": {
    "collapsed": true
   },
   "outputs": [],
   "source": [
    "# hide warnings\n",
    "import warnings\n",
    "warnings.filterwarnings('ignore')\n",
    "\n",
    "#Print the plot within the page\n",
    "%matplotlib inline"
   ]
  },
  {
   "cell_type": "markdown",
   "metadata": {},
   "source": [
    "# Problem Statement\n",
    "\n",
    "## The vanilla Viterbi algorithm usually resulted in ~87% accuracy. The approx. 13% loss of accuracy was majorly due to the fact that when the algorithm encountered an unknown word (i.e. not present in the training set, such as 'Twitter'), it assigned an incorrect tag arbitrarily.\n",
    "\n",
    "\n",
    "# Business Goal\n",
    "### The Objective of this assignment is to modify the Viterbi algorithm to solve the problem of unknown words using at least two techniques.\n",
    "\n",
    "### 1) Classify unknown words into right tag class based morphological clues\n",
    "### 2) Redefine transition or emission probabilities for unknown words using customized Viterbi algorithm\n",
    "\n",
    "### -----------------------------------------------------------------------------------------------------------------------------------\n"
   ]
  },
  {
   "cell_type": "code",
   "execution_count": 4,
   "metadata": {
    "collapsed": true
   },
   "outputs": [],
   "source": [
    "# Load Treebank tagged sentences\n",
    "#Using universal tagset instead of default one for better performance\n",
    "treebank_corpus = list(nltk.corpus.treebank.tagged_sents(tagset='universal')) "
   ]
  },
  {
   "cell_type": "markdown",
   "metadata": {},
   "source": [
    "### Universal POS tags are part-of-speech marks used in Universal Dependencies (UD) which is a project that is developing cross-linguistically consistent treebank annotation for many languages. The annotation scheme is based on an evolution of (universal) Stanford dependencies (de Marneffe et al., 2006, 2008, 2014), Google universal part-of-speech tags (Petrov et al., 2012), and the Interset interlingua for morphosyntactic tagsets (Zeman, 2008)."
   ]
  },
  {
   "cell_type": "code",
   "execution_count": 5,
   "metadata": {},
   "outputs": [
    {
     "name": "stdout",
     "output_type": "stream",
     "text": [
      "[[('Mr.', 'NOUN'), ('Vinken', 'NOUN'), ('is', 'VERB'), ('chairman', 'NOUN'), ('of', 'ADP'), ('Elsevier', 'NOUN'), ('N.V.', 'NOUN'), (',', '.'), ('the', 'DET'), ('Dutch', 'NOUN'), ('publishing', 'VERB'), ('group', 'NOUN'), ('.', '.')], [('Rudolph', 'NOUN'), ('Agnew', 'NOUN'), (',', '.'), ('55', 'NUM'), ('years', 'NOUN'), ('old', 'ADJ'), ('and', 'CONJ'), ('former', 'ADJ'), ('chairman', 'NOUN'), ('of', 'ADP'), ('Consolidated', 'NOUN'), ('Gold', 'NOUN'), ('Fields', 'NOUN'), ('PLC', 'NOUN'), (',', '.'), ('was', 'VERB'), ('named', 'VERB'), ('*-1', 'X'), ('a', 'DET'), ('nonexecutive', 'ADJ'), ('director', 'NOUN'), ('of', 'ADP'), ('this', 'DET'), ('British', 'ADJ'), ('industrial', 'ADJ'), ('conglomerate', 'NOUN'), ('.', '.')], [('A', 'DET'), ('form', 'NOUN'), ('of', 'ADP'), ('asbestos', 'NOUN'), ('once', 'ADV'), ('used', 'VERB'), ('*', 'X'), ('*', 'X'), ('to', 'PRT'), ('make', 'VERB'), ('Kent', 'NOUN'), ('cigarette', 'NOUN'), ('filters', 'NOUN'), ('has', 'VERB'), ('caused', 'VERB'), ('a', 'DET'), ('high', 'ADJ'), ('percentage', 'NOUN'), ('of', 'ADP'), ('cancer', 'NOUN'), ('deaths', 'NOUN'), ('among', 'ADP'), ('a', 'DET'), ('group', 'NOUN'), ('of', 'ADP'), ('workers', 'NOUN'), ('exposed', 'VERB'), ('*', 'X'), ('to', 'PRT'), ('it', 'PRON'), ('more', 'ADV'), ('than', 'ADP'), ('30', 'NUM'), ('years', 'NOUN'), ('ago', 'ADP'), (',', '.'), ('researchers', 'NOUN'), ('reported', 'VERB'), ('0', 'X'), ('*T*-1', 'X'), ('.', '.')], [('The', 'DET'), ('asbestos', 'NOUN'), ('fiber', 'NOUN'), (',', '.'), ('crocidolite', 'NOUN'), (',', '.'), ('is', 'VERB'), ('unusually', 'ADV'), ('resilient', 'ADJ'), ('once', 'ADP'), ('it', 'PRON'), ('enters', 'VERB'), ('the', 'DET'), ('lungs', 'NOUN'), (',', '.'), ('with', 'ADP'), ('even', 'ADV'), ('brief', 'ADJ'), ('exposures', 'NOUN'), ('to', 'PRT'), ('it', 'PRON'), ('causing', 'VERB'), ('symptoms', 'NOUN'), ('that', 'DET'), ('*T*-1', 'X'), ('show', 'VERB'), ('up', 'PRT'), ('decades', 'NOUN'), ('later', 'ADJ'), (',', '.'), ('researchers', 'NOUN'), ('said', 'VERB'), ('0', 'X'), ('*T*-2', 'X'), ('.', '.')]]\n"
     ]
    }
   ],
   "source": [
    "# let's check some of the tagged data\n",
    "print(treebank_corpus[1:5])"
   ]
  },
  {
   "cell_type": "code",
   "execution_count": 6,
   "metadata": {
    "collapsed": true
   },
   "outputs": [],
   "source": [
    "#split corpus into training and validation set in the ratio of 95:5\n",
    "\n",
    "train_set,test_set = train_test_split(treebank_corpus,train_size=0.95,test_size=0.05,random_state = 1011)"
   ]
  },
  {
   "cell_type": "code",
   "execution_count": 7,
   "metadata": {},
   "outputs": [
    {
     "name": "stdout",
     "output_type": "stream",
     "text": [
      "95856\n",
      "4820\n"
     ]
    }
   ],
   "source": [
    "#Let us find training and test words\n",
    "train_tagged_words = [tup for sent in train_set for tup in sent]\n",
    "test_tagged_words = [tup[0] for sent in test_set for tup in sent]\n",
    "print(len(train_tagged_words))\n",
    "print(len(test_tagged_words))"
   ]
  },
  {
   "cell_type": "code",
   "execution_count": 8,
   "metadata": {},
   "outputs": [
    {
     "data": {
      "text/plain": [
       "[('The', 'DET'), ('son', 'NOUN'), ('of', 'ADP'), ('a', 'DET')]"
      ]
     },
     "execution_count": 8,
     "metadata": {},
     "output_type": "execute_result"
    }
   ],
   "source": [
    "#Let's check some of the tagged words from the training set\n",
    "train_tagged_words[1:5]"
   ]
  },
  {
   "cell_type": "code",
   "execution_count": 9,
   "metadata": {},
   "outputs": [
    {
     "data": {
      "text/plain": [
       "[',', 'when', 'trading', 'resumes']"
      ]
     },
     "execution_count": 9,
     "metadata": {},
     "output_type": "execute_result"
    }
   ],
   "source": [
    "#Let's check some of the tagged words from the test set\n",
    "test_tagged_words[1:5]"
   ]
  },
  {
   "cell_type": "code",
   "execution_count": 10,
   "metadata": {},
   "outputs": [
    {
     "name": "stdout",
     "output_type": "stream",
     "text": [
      "12\n",
      "{'VERB', 'ADP', '.', 'PRON', 'DET', 'X', 'NOUN', 'ADV', 'ADJ', 'PRT', 'CONJ', 'NUM'}\n"
     ]
    }
   ],
   "source": [
    "#let's see how many unique tags are present in training set\n",
    "tags = {tag for word,tag in train_tagged_words}\n",
    "print(len(tags))\n",
    "print(tags)"
   ]
  },
  {
   "cell_type": "code",
   "execution_count": 11,
   "metadata": {},
   "outputs": [
    {
     "name": "stdout",
     "output_type": "stream",
     "text": [
      "12039\n"
     ]
    }
   ],
   "source": [
    "#let's find out how many words are present in corpus\n",
    "words = {word for word,tag in train_tagged_words}\n",
    "print(len(words))"
   ]
  },
  {
   "cell_type": "code",
   "execution_count": 12,
   "metadata": {},
   "outputs": [
    {
     "data": {
      "text/plain": [
       "['*-2', 'The', 'son', 'of', 'a', 'specialist', 'and', 'once', 'one', 'himself']"
      ]
     },
     "execution_count": 12,
     "metadata": {},
     "output_type": "execute_result"
    }
   ],
   "source": [
    "#Let's find some tokens present in the corpus\n",
    "tokens = [pair[0] for pair in train_tagged_words]\n",
    "tokens[:10]"
   ]
  },
  {
   "cell_type": "code",
   "execution_count": 13,
   "metadata": {},
   "outputs": [
    {
     "name": "stdout",
     "output_type": "stream",
     "text": [
      "12039\n"
     ]
    }
   ],
   "source": [
    "# Set the vocabulary and find the length of the same\n",
    "V = set(tokens)\n",
    "print(len(V))"
   ]
  },
  {
   "cell_type": "code",
   "execution_count": 14,
   "metadata": {},
   "outputs": [
    {
     "data": {
      "text/plain": [
       "12"
      ]
     },
     "execution_count": 14,
     "metadata": {},
     "output_type": "execute_result"
    }
   ],
   "source": [
    "#Set the tags and find the length of tags\n",
    "T = set([pair[1] for pair in train_tagged_words])\n",
    "len(T)"
   ]
  },
  {
   "cell_type": "code",
   "execution_count": 15,
   "metadata": {},
   "outputs": [
    {
     "name": "stdout",
     "output_type": "stream",
     "text": [
      "{'VERB', 'ADP', '.', 'PRON', 'DET', 'X', 'NOUN', 'ADV', 'ADJ', 'PRT', 'CONJ', 'NUM'}\n"
     ]
    }
   ],
   "source": [
    "#Let's print the tags\n",
    "print(T)"
   ]
  },
  {
   "cell_type": "code",
   "execution_count": 16,
   "metadata": {},
   "outputs": [
    {
     "name": "stdout",
     "output_type": "stream",
     "text": [
      "[[ 0.  0.  0. ...,  0.  0.  0.]\n",
      " [ 0.  0.  0. ...,  0.  0.  0.]\n",
      " [ 0.  0.  0. ...,  0.  0.  0.]\n",
      " ..., \n",
      " [ 0.  0.  0. ...,  0.  0.  0.]\n",
      " [ 0.  0.  0. ...,  0.  0.  0.]\n",
      " [ 0.  0.  0. ...,  0.  0.  0.]]\n"
     ]
    }
   ],
   "source": [
    "#computing P(w/t) and storing in T x V matrix\n",
    "t = len(T)\n",
    "v = len(V)\n",
    "w_given_t = np.zeros((t, v))\n",
    "print(w_given_t)"
   ]
  },
  {
   "cell_type": "code",
   "execution_count": 17,
   "metadata": {
    "collapsed": true
   },
   "outputs": [],
   "source": [
    "# Let us now define a function to compute Emission Probability of a given word\n",
    "def word_given_tag(word, tag, train_bag = train_tagged_words):\n",
    "    tag_list = [pair for pair in train_bag if pair[1]==tag]\n",
    "    count_tag = len(tag_list)\n",
    "    w_given_tag_list = [pair[0] for pair in tag_list if pair[0]==word]\n",
    "    count_w_given_tag = len(w_given_tag_list)\n",
    "    return (count_w_given_tag, count_tag)"
   ]
  },
  {
   "cell_type": "code",
   "execution_count": 18,
   "metadata": {
    "collapsed": true
   },
   "outputs": [],
   "source": [
    "# Let us now define a function to compute Transition Probability of a given tag\n",
    "def t2_given_t1(t2, t1, train_bag = train_tagged_words):\n",
    "    tags = [pair[1] for pair in train_bag]\n",
    "    count_t1 = len([t for t in tags if t==t1])\n",
    "    count_t2_t1 = 0\n",
    "    for index in range(len(tags)-1):\n",
    "        if tags[index]==t1 and tags[index+1] == t2:\n",
    "            count_t2_t1 += 1\n",
    "    return (count_t2_t1, count_t1)"
   ]
  },
  {
   "cell_type": "code",
   "execution_count": 19,
   "metadata": {},
   "outputs": [
    {
     "name": "stdout",
     "output_type": "stream",
     "text": [
      "(0, 0)\n",
      "(0, 0)\n",
      "(0, 0)\n",
      "(0, 0)\n",
      "(0, 0)\n",
      "(0, 0)\n",
      "(0, 0)\n"
     ]
    }
   ],
   "source": [
    "# Let's print some examples\n",
    "print(t2_given_t1(t2='NNP', t1='JJ'))\n",
    "print(t2_given_t1('NN', 'JJ'))\n",
    "print(t2_given_t1('NN', 'DT'))\n",
    "print(t2_given_t1('NNP', 'VB'))\n",
    "print(t2_given_t1(',', 'NNP'))\n",
    "print(t2_given_t1('PRP', 'PRP'))\n",
    "print(t2_given_t1('VBG', 'NNP'))"
   ]
  },
  {
   "cell_type": "code",
   "execution_count": 20,
   "metadata": {},
   "outputs": [
    {
     "name": "stdout",
     "output_type": "stream",
     "text": [
      "(0, 11128)\n",
      "(0, 11128)\n",
      "(0, 11128)\n",
      "(0, 11128)\n"
     ]
    }
   ],
   "source": [
    "#Please note P(tag|start) is same as P(tag|'.')\n",
    "print(t2_given_t1('DT', '.'))\n",
    "print(t2_given_t1('VBG', '.'))\n",
    "print(t2_given_t1('NN', '.'))\n",
    "print(t2_given_t1('NNP', '.'))\n"
   ]
  },
  {
   "cell_type": "code",
   "execution_count": 21,
   "metadata": {
    "collapsed": true
   },
   "outputs": [],
   "source": [
    "# creating t x t transition matrix of tags\n",
    "# each column is t2, each row is t1\n",
    "# thus M(i, j) represents P(tj given ti)\n",
    "\n",
    "tags_matrix = np.zeros((len(T), len(T)), dtype='float32')\n",
    "for i, t1 in enumerate(list(T)):\n",
    "    for j, t2 in enumerate(list(T)): \n",
    "        tags_matrix[i, j] = t2_given_t1(t2, t1)[0]/t2_given_t1(t2, t1)[1]"
   ]
  },
  {
   "cell_type": "code",
   "execution_count": 22,
   "metadata": {},
   "outputs": [
    {
     "data": {
      "text/plain": [
       "array([[  1.69360459e-01,   9.06349048e-02,   3.51094268e-02,\n",
       "          3.55734266e-02,   1.34637699e-01,   2.17152581e-01,\n",
       "          1.11437634e-01,   8.16642195e-02,   6.50375038e-02,\n",
       "          3.13974172e-02,   5.49068116e-03,   2.25040596e-02],\n",
       "       [  8.12399760e-03,   1.68893635e-02,   3.92303579e-02,\n",
       "          6.89470842e-02,   3.24746132e-01,   3.50614637e-02,\n",
       "          3.23570281e-01,   1.38963126e-02,   1.04649916e-01,\n",
       "          1.49652595e-03,   9.62052378e-04,   6.24265112e-02],\n",
       "       [  8.88749138e-02,   9.07620415e-02,   9.39072594e-02,\n",
       "          6.55104220e-02,   1.74335018e-01,   2.70488858e-02,\n",
       "          2.21153840e-01,   5.25700934e-02,   4.48418409e-02,\n",
       "          2.33644852e-03,   5.89503944e-02,   7.96189755e-02],\n",
       "       [  4.82334882e-01,   2.11213510e-02,   4.03225794e-02,\n",
       "          7.68049154e-03,   9.60061420e-03,   9.44700465e-02,\n",
       "          2.12365597e-01,   3.34101394e-02,   7.29646683e-02,\n",
       "          1.26728108e-02,   5.37634408e-03,   7.68049154e-03],\n",
       "       [  3.98368128e-02,   9.11927037e-03,   1.79985594e-02,\n",
       "          3.35973129e-03,   5.63954888e-03,   4.58363332e-02,\n",
       "          6.38828874e-01,   1.29589634e-02,   2.03503713e-01,\n",
       "          2.39980800e-04,   4.79961600e-04,   2.21982244e-02],\n",
       "       [  2.05943108e-01,   1.42539322e-01,   1.63038298e-01,\n",
       "          5.51406331e-02,   5.57762608e-02,   7.50039741e-02,\n",
       "          6.27681538e-02,   2.57428885e-02,   1.65262986e-02,\n",
       "          1.84967428e-01,   9.69330966e-03,   2.86032096e-03],\n",
       "       [  1.46883413e-01,   1.76449195e-01,   2.39435598e-01,\n",
       "          4.90944786e-03,   1.34555241e-02,   2.88748275e-02,\n",
       "          2.64164656e-01,   1.70921516e-02,   1.23645356e-02,\n",
       "          4.44032289e-02,   4.25485484e-02,   9.41886660e-03],\n",
       "       [  3.45646441e-01,   1.19722955e-01,   1.33905008e-01,\n",
       "          1.51715036e-02,   6.95910305e-02,   2.24274416e-02,\n",
       "          2.96833776e-02,   8.08047503e-02,   1.29947230e-01,\n",
       "          1.45118730e-02,   6.92612119e-03,   3.16622704e-02],\n",
       "       [  1.20085543e-02,   7.78088495e-02,   6.54712915e-02,\n",
       "          6.58002973e-04,   4.93502198e-03,   2.15495974e-02,\n",
       "          6.97647631e-01,   4.60602064e-03,   6.62937984e-02,\n",
       "          1.10215498e-02,   1.74370781e-02,   2.05625929e-02],\n",
       "       [  3.99870396e-01,   1.97666883e-02,   4.27738167e-02,\n",
       "          1.81464683e-02,   1.00777708e-01,   1.39338952e-02,\n",
       "          2.46921584e-01,   1.03694098e-02,   8.55476335e-02,\n",
       "          1.94426440e-03,   2.26830854e-03,   5.76798432e-02],\n",
       "       [  1.55658200e-01,   5.35796769e-02,   3.51039246e-02,\n",
       "          5.95842972e-02,   1.20554276e-01,   7.85219390e-03,\n",
       "          3.48267913e-01,   5.49653582e-02,   1.18244804e-01,\n",
       "          5.08083124e-03,   4.61893767e-04,   4.06466499e-02],\n",
       "       [  1.82035211e-02,   3.64070423e-02,   1.14891075e-01,\n",
       "          1.49209192e-03,   2.68576550e-03,   2.09489703e-01,\n",
       "          3.53924215e-01,   2.98418384e-03,   3.37212756e-02,\n",
       "          2.74544917e-02,   1.34288268e-02,   1.85317814e-01]], dtype=float32)"
      ]
     },
     "execution_count": 22,
     "metadata": {},
     "output_type": "execute_result"
    }
   ],
   "source": [
    "#Let's print the tag matrix\n",
    "tags_matrix"
   ]
  },
  {
   "cell_type": "code",
   "execution_count": 23,
   "metadata": {
    "collapsed": true
   },
   "outputs": [],
   "source": [
    "#Let's convert the matrix to a dataframe for better readability\n",
    "tags_df = pd.DataFrame(tags_matrix, columns = list(T), index=list(T))"
   ]
  },
  {
   "cell_type": "code",
   "execution_count": 24,
   "metadata": {},
   "outputs": [
    {
     "data": {
      "text/html": [
       "<div>\n",
       "<style>\n",
       "    .dataframe thead tr:only-child th {\n",
       "        text-align: right;\n",
       "    }\n",
       "\n",
       "    .dataframe thead th {\n",
       "        text-align: left;\n",
       "    }\n",
       "\n",
       "    .dataframe tbody tr th {\n",
       "        vertical-align: top;\n",
       "    }\n",
       "</style>\n",
       "<table border=\"1\" class=\"dataframe\">\n",
       "  <thead>\n",
       "    <tr style=\"text-align: right;\">\n",
       "      <th></th>\n",
       "      <th>VERB</th>\n",
       "      <th>ADP</th>\n",
       "      <th>.</th>\n",
       "      <th>PRON</th>\n",
       "      <th>DET</th>\n",
       "      <th>X</th>\n",
       "      <th>NOUN</th>\n",
       "      <th>ADV</th>\n",
       "      <th>ADJ</th>\n",
       "      <th>PRT</th>\n",
       "      <th>CONJ</th>\n",
       "      <th>NUM</th>\n",
       "    </tr>\n",
       "  </thead>\n",
       "  <tbody>\n",
       "    <tr>\n",
       "      <th>VERB</th>\n",
       "      <td>0.169360</td>\n",
       "      <td>0.090635</td>\n",
       "      <td>0.035109</td>\n",
       "      <td>0.035573</td>\n",
       "      <td>0.134638</td>\n",
       "      <td>0.217153</td>\n",
       "      <td>0.111438</td>\n",
       "      <td>0.081664</td>\n",
       "      <td>0.065038</td>\n",
       "      <td>0.031397</td>\n",
       "      <td>0.005491</td>\n",
       "      <td>0.022504</td>\n",
       "    </tr>\n",
       "    <tr>\n",
       "      <th>ADP</th>\n",
       "      <td>0.008124</td>\n",
       "      <td>0.016889</td>\n",
       "      <td>0.039230</td>\n",
       "      <td>0.068947</td>\n",
       "      <td>0.324746</td>\n",
       "      <td>0.035061</td>\n",
       "      <td>0.323570</td>\n",
       "      <td>0.013896</td>\n",
       "      <td>0.104650</td>\n",
       "      <td>0.001497</td>\n",
       "      <td>0.000962</td>\n",
       "      <td>0.062427</td>\n",
       "    </tr>\n",
       "    <tr>\n",
       "      <th>.</th>\n",
       "      <td>0.088875</td>\n",
       "      <td>0.090762</td>\n",
       "      <td>0.093907</td>\n",
       "      <td>0.065510</td>\n",
       "      <td>0.174335</td>\n",
       "      <td>0.027049</td>\n",
       "      <td>0.221154</td>\n",
       "      <td>0.052570</td>\n",
       "      <td>0.044842</td>\n",
       "      <td>0.002336</td>\n",
       "      <td>0.058950</td>\n",
       "      <td>0.079619</td>\n",
       "    </tr>\n",
       "    <tr>\n",
       "      <th>PRON</th>\n",
       "      <td>0.482335</td>\n",
       "      <td>0.021121</td>\n",
       "      <td>0.040323</td>\n",
       "      <td>0.007680</td>\n",
       "      <td>0.009601</td>\n",
       "      <td>0.094470</td>\n",
       "      <td>0.212366</td>\n",
       "      <td>0.033410</td>\n",
       "      <td>0.072965</td>\n",
       "      <td>0.012673</td>\n",
       "      <td>0.005376</td>\n",
       "      <td>0.007680</td>\n",
       "    </tr>\n",
       "    <tr>\n",
       "      <th>DET</th>\n",
       "      <td>0.039837</td>\n",
       "      <td>0.009119</td>\n",
       "      <td>0.017999</td>\n",
       "      <td>0.003360</td>\n",
       "      <td>0.005640</td>\n",
       "      <td>0.045836</td>\n",
       "      <td>0.638829</td>\n",
       "      <td>0.012959</td>\n",
       "      <td>0.203504</td>\n",
       "      <td>0.000240</td>\n",
       "      <td>0.000480</td>\n",
       "      <td>0.022198</td>\n",
       "    </tr>\n",
       "  </tbody>\n",
       "</table>\n",
       "</div>"
      ],
      "text/plain": [
       "          VERB       ADP         .      PRON       DET         X      NOUN  \\\n",
       "VERB  0.169360  0.090635  0.035109  0.035573  0.134638  0.217153  0.111438   \n",
       "ADP   0.008124  0.016889  0.039230  0.068947  0.324746  0.035061  0.323570   \n",
       ".     0.088875  0.090762  0.093907  0.065510  0.174335  0.027049  0.221154   \n",
       "PRON  0.482335  0.021121  0.040323  0.007680  0.009601  0.094470  0.212366   \n",
       "DET   0.039837  0.009119  0.017999  0.003360  0.005640  0.045836  0.638829   \n",
       "\n",
       "           ADV       ADJ       PRT      CONJ       NUM  \n",
       "VERB  0.081664  0.065038  0.031397  0.005491  0.022504  \n",
       "ADP   0.013896  0.104650  0.001497  0.000962  0.062427  \n",
       ".     0.052570  0.044842  0.002336  0.058950  0.079619  \n",
       "PRON  0.033410  0.072965  0.012673  0.005376  0.007680  \n",
       "DET   0.012959  0.203504  0.000240  0.000480  0.022198  "
      ]
     },
     "execution_count": 24,
     "metadata": {},
     "output_type": "execute_result"
    }
   ],
   "source": [
    "#Let's check the head of the dataframe\n",
    "tags_df.head()"
   ]
  },
  {
   "cell_type": "code",
   "execution_count": 25,
   "metadata": {},
   "outputs": [
    {
     "data": {
      "text/plain": [
       "VERB    0.088875\n",
       "ADP     0.090762\n",
       ".       0.093907\n",
       "PRON    0.065510\n",
       "DET     0.174335\n",
       "X       0.027049\n",
       "NOUN    0.221154\n",
       "ADV     0.052570\n",
       "ADJ     0.044842\n",
       "PRT     0.002336\n",
       "CONJ    0.058950\n",
       "NUM     0.079619\n",
       "Name: ., dtype: float32"
      ]
     },
     "execution_count": 25,
     "metadata": {},
     "output_type": "execute_result"
    }
   ],
   "source": [
    "#Let's check the location\n",
    "tags_df.loc['.', :]"
   ]
  },
  {
   "cell_type": "code",
   "execution_count": 26,
   "metadata": {},
   "outputs": [
    {
     "data": {
      "image/png": "[encoded data removed]",
      "text/plain": [
       "<matplotlib.figure.Figure at 0x2231285f2e8>"
      ]
     },
     "metadata": {},
     "output_type": "display_data"
    }
   ],
   "source": [
    "# heatmap of tags matrix\n",
    "# T(i, j) means P(tag j given tag i)\n",
    "plt.figure(figsize=(18, 12))\n",
    "sns.heatmap(tags_df)\n",
    "plt.show()"
   ]
  },
  {
   "cell_type": "code",
   "execution_count": 27,
   "metadata": {},
   "outputs": [
    {
     "data": {
      "image/png": "[encoded data removed]",
      "text/plain": [
       "<matplotlib.figure.Figure at 0x2231285f3c8>"
      ]
     },
     "metadata": {},
     "output_type": "display_data"
    }
   ],
   "source": [
    "# frequent tags\n",
    "# filter the df to get P(t2, t1) > 0.5\n",
    "tags_frequent = tags_df[tags_df>0.5]\n",
    "plt.figure(figsize=(18, 12))\n",
    "sns.heatmap(tags_frequent)\n",
    "plt.show()"
   ]
  },
  {
   "cell_type": "markdown",
   "metadata": {},
   "source": [
    "## Viterbi Algorithm\n",
    "\n",
    "Let's now use the computed probabilities P(w, tag) and P(t2, t1) to assign tags to each word in the document. We'll run through each word w and compute P(tag/w)=P(w/tag).P(tag) for each tag in the tag set, and then assign the tag having the max P(tag/w).\n",
    "\n",
    "We'll store the assigned tags in a list of tuples, similar to the list 'train_tagged_words'. Each tuple will be a (token, assigned_tag). As we progress further in the list, each tag to be assigned will use the tag of the previous token.\n",
    "\n",
    "Note: P(tag|start) = P(tag|'.') "
   ]
  },
  {
   "cell_type": "code",
   "execution_count": 28,
   "metadata": {
    "collapsed": true
   },
   "outputs": [],
   "source": [
    "#Let create a function to define Vanilla Viterbi Algorithm\n",
    "def Viterbi(words, train_bag = train_tagged_words):\n",
    "    state = []\n",
    "    \n",
    "    T = list(set([pair[1] for pair in train_bag]))\n",
    "    \n",
    "    for key, word in enumerate(words):\n",
    "        #initialise list of probability column for a given observation\n",
    "        p = [] \n",
    "        for tag in T:\n",
    "            if key == 0:\n",
    "                transition_p = tags_df.loc['.', tag]\n",
    "            else:\n",
    "                transition_p = tags_df.loc[state[-1], tag]\n",
    "                \n",
    "            # compute emission and state probabilities\n",
    "            emission_p = word_given_tag(words[key], tag)[0]/word_given_tag(words[key], tag)[1]\n",
    "            state_probability = emission_p * transition_p    \n",
    "            p.append(state_probability)\n",
    "            \n",
    "        pmax = max(p)\n",
    "        # getting state for which probability is maximum\n",
    "        state_max = T[p.index(pmax)] \n",
    "        state.append(state_max)\n",
    "    return list(zip(words, state))"
   ]
  },
  {
   "cell_type": "markdown",
   "metadata": {},
   "source": [
    "## Evaluating on Test Set using Viterbi Algorithm\n"
   ]
  },
  {
   "cell_type": "code",
   "execution_count": 29,
   "metadata": {},
   "outputs": [
    {
     "data": {
      "text/plain": [
       "[[('For', 'ADP'),\n",
       "  ('fiscal', 'ADJ'),\n",
       "  ('1989', 'NUM'),\n",
       "  (',', '.'),\n",
       "  ('the', 'DET'),\n",
       "  ('company', 'NOUN'),\n",
       "  ('posted', 'VERB'),\n",
       "  ('net', 'NOUN'),\n",
       "  ('of', 'ADP'),\n",
       "  ('$', '.'),\n",
       "  ('734.9', 'NUM'),\n",
       "  ('million', 'NUM'),\n",
       "  ('*U*', 'X'),\n",
       "  (',', '.'),\n",
       "  ('or', 'CONJ'),\n",
       "  ('$', '.'),\n",
       "  ('2.87', 'NUM'),\n",
       "  ('*U*', 'X'),\n",
       "  ('a', 'DET'),\n",
       "  ('share', 'NOUN'),\n",
       "  (',', '.'),\n",
       "  ('down', 'ADP'),\n",
       "  ('from', 'ADP'),\n",
       "  ('$', '.'),\n",
       "  ('811.9', 'NUM'),\n",
       "  ('million', 'NUM'),\n",
       "  ('*U*', 'X'),\n",
       "  (',', '.'),\n",
       "  ('or', 'CONJ'),\n",
       "  ('$', '.'),\n",
       "  ('3.04', 'NUM'),\n",
       "  ('*U*', 'X'),\n",
       "  ('a', 'DET'),\n",
       "  ('share', 'NOUN'),\n",
       "  (',', '.'),\n",
       "  ('in', 'ADP'),\n",
       "  ('fiscal', 'ADJ'),\n",
       "  ('1988', 'NUM'),\n",
       "  ('.', '.')],\n",
       " [('Earlier', 'ADV'),\n",
       "  ('this', 'DET'),\n",
       "  ('year', 'NOUN'),\n",
       "  ('Shaw', 'NOUN'),\n",
       "  ('Publishing', 'NOUN'),\n",
       "  ('Inc.', 'NOUN'),\n",
       "  (',', '.'),\n",
       "  ('Charlotte', 'NOUN'),\n",
       "  (',', '.'),\n",
       "  ('acquired', 'VERB'),\n",
       "  ('30', 'NUM'),\n",
       "  ('%', 'NOUN'),\n",
       "  ('of', 'ADP'),\n",
       "  ('American', 'NOUN'),\n",
       "  ('City', 'NOUN'),\n",
       "  ('*T*-1', 'X'),\n",
       "  ('and', 'CONJ'),\n",
       "  ('has', 'VERB'),\n",
       "  ('an', 'DET'),\n",
       "  ('agreement', 'NOUN'),\n",
       "  ('*', 'X'),\n",
       "  ('to', 'PRT'),\n",
       "  ('acquire', 'VERB'),\n",
       "  ('a', 'DET'),\n",
       "  ('further', 'ADJ'),\n",
       "  ('25', 'NUM'),\n",
       "  ('%', 'NOUN'),\n",
       "  ('from', 'ADP'),\n",
       "  ('E.W.', 'NOUN'),\n",
       "  ('Scripps', 'NOUN'),\n",
       "  ('Co.', 'NOUN'),\n",
       "  ('next', 'ADJ'),\n",
       "  ('year', 'NOUN'),\n",
       "  ('.', '.')],\n",
       " [('I', 'PRON'),\n",
       "  ('visited', 'VERB'),\n",
       "  ('a', 'DET'),\n",
       "  ('lot', 'NOUN'),\n",
       "  ('of', 'ADP'),\n",
       "  ('major', 'ADJ'),\n",
       "  ('Japanese', 'ADJ'),\n",
       "  ('manufacturers', 'NOUN'),\n",
       "  (',', '.'),\n",
       "  ('but', 'CONJ'),\n",
       "  ('I', 'PRON'),\n",
       "  ('never', 'ADV'),\n",
       "  ('felt', 'VERB'),\n",
       "  ('0', 'X'),\n",
       "  ('I', 'PRON'),\n",
       "  ('would', 'VERB'),\n",
       "  ('want', 'VERB'),\n",
       "  ('*-1', 'X'),\n",
       "  ('to', 'PRT'),\n",
       "  ('be', 'VERB'),\n",
       "  ('employed', 'VERB'),\n",
       "  ('*-149', 'X'),\n",
       "  ('by', 'ADP'),\n",
       "  ('any', 'DET'),\n",
       "  ('of', 'ADP'),\n",
       "  ('them', 'PRON'),\n",
       "  ('.', '.')],\n",
       " [('Mr.', 'NOUN'),\n",
       "  ('McGuigan', 'NOUN'),\n",
       "  ('cites', 'VERB'),\n",
       "  ('three', 'NUM'),\n",
       "  ('completed', 'VERB'),\n",
       "  ('efforts', 'NOUN'),\n",
       "  ('in', 'ADP'),\n",
       "  ('Oklahoma', 'NOUN'),\n",
       "  ('.', '.')],\n",
       " [('But', 'CONJ'),\n",
       "  ('the', 'DET'),\n",
       "  ('two', 'NUM'),\n",
       "  ('legal', 'ADJ'),\n",
       "  ('experts', 'NOUN'),\n",
       "  (',', '.'),\n",
       "  ('responding', 'VERB'),\n",
       "  ('to', 'PRT'),\n",
       "  ('an', 'DET'),\n",
       "  ('inquiry', 'NOUN'),\n",
       "  ('by', 'ADP'),\n",
       "  ('Sen.', 'NOUN'),\n",
       "  ('Edward', 'NOUN'),\n",
       "  ('Kennedy', 'NOUN'),\n",
       "  ('-LRB-', '.'),\n",
       "  ('D.', 'NOUN'),\n",
       "  (',', '.'),\n",
       "  ('Mass.', 'NOUN'),\n",
       "  ('-RRB-', '.'),\n",
       "  (',', '.'),\n",
       "  ('wrote', 'VERB'),\n",
       "  ('in', 'ADP'),\n",
       "  ('a', 'DET'),\n",
       "  ('joint', 'ADJ'),\n",
       "  ('letter', 'NOUN'),\n",
       "  ('that', 'ADP'),\n",
       "  ('the', 'DET'),\n",
       "  ('president', 'NOUN'),\n",
       "  ('``', '.'),\n",
       "  ('lacks', 'VERB'),\n",
       "  ('the', 'DET'),\n",
       "  ('constitutional', 'ADJ'),\n",
       "  ('authority', 'NOUN'),\n",
       "  ('*', 'X'),\n",
       "  ('to', 'PRT'),\n",
       "  ('exercise', 'VERB'),\n",
       "  ('a', 'DET'),\n",
       "  ('line-item', 'ADJ'),\n",
       "  ('veto', 'NOUN'),\n",
       "  ('.', '.'),\n",
       "  (\"''\", '.')]]"
      ]
     },
     "execution_count": 29,
     "metadata": {},
     "output_type": "execute_result"
    }
   ],
   "source": [
    "# Let's test our Viterbi algorithm on a few sample sentences of test dataset\n",
    "\n",
    "random.seed(1234)\n",
    "\n",
    "# choose random 5 sents\n",
    "rndom = [random.randint(1,len(test_set)) for x in range(5)]\n",
    "\n",
    "# list of sents\n",
    "test_run = [test_set[i] for i in rndom]\n",
    "\n",
    "# list of tagged words\n",
    "test_run_base = [tup for sent in test_run for tup in sent]\n",
    "\n",
    "# list of untagged words\n",
    "test_tagged_words = [tup[0] for sent in test_run for tup in sent]\n",
    "test_run"
   ]
  },
  {
   "cell_type": "code",
   "execution_count": 30,
   "metadata": {},
   "outputs": [
    {
     "name": "stdout",
     "output_type": "stream",
     "text": [
      "Time taken in seconds:  88.85639786720276\n",
      "Vanilla Viterbi Algorithm Accuracy:  92.66666666666666\n"
     ]
    }
   ],
   "source": [
    "# tagging the test sentences\n",
    "start = time.time()\n",
    "tagged_seq = Viterbi(test_tagged_words)\n",
    "end = time.time()\n",
    "difference = end-start\n",
    "\n",
    "print(\"Time taken in seconds: \", difference)\n",
    "\n",
    "# accuracy\n",
    "check = [i for i, j in zip(tagged_seq, test_run_base) if i == j] \n",
    "\n",
    "accuracy = len(check)/len(tagged_seq)\n",
    "print('Vanilla Viterbi Algorithm Accuracy: ',accuracy*100)"
   ]
  },
  {
   "cell_type": "markdown",
   "metadata": {},
   "source": [
    "### The Vanilla Viterbi Algorithm, the accuracy is 92% with loss of 8%. We will try to improve the accuracy by various techniques for tagging the words correctly"
   ]
  },
  {
   "cell_type": "code",
   "execution_count": 31,
   "metadata": {},
   "outputs": [
    {
     "data": {
      "text/plain": [
       "[(('net', 'ADJ'), ('net', 'NOUN')),\n",
       " (('734.9', 'VERB'), ('734.9', 'NUM')),\n",
       " (('down', 'ADV'), ('down', 'ADP')),\n",
       " (('811.9', 'VERB'), ('811.9', 'NUM')),\n",
       " (('3.04', 'VERB'), ('3.04', 'NUM')),\n",
       " (('Earlier', 'ADJ'), ('Earlier', 'ADV')),\n",
       " (('American', 'ADJ'), ('American', 'NOUN')),\n",
       " (('E.W.', 'VERB'), ('E.W.', 'NOUN')),\n",
       " (('Scripps', 'VERB'), ('Scripps', 'NOUN')),\n",
       " (('next', 'ADP'), ('next', 'ADJ')),\n",
       " (('*-149', 'VERB'), ('*-149', 'X'))]"
      ]
     },
     "execution_count": 31,
     "metadata": {},
     "output_type": "execute_result"
    }
   ],
   "source": [
    "# let's check the incorrectly tagged words\n",
    "[j for i, j in enumerate(zip(tagged_seq, test_run_base)) if j[0] != j[1]]"
   ]
  },
  {
   "cell_type": "markdown",
   "metadata": {},
   "source": [
    "## Now check the accuracy for the given sentences"
   ]
  },
  {
   "cell_type": "code",
   "execution_count": 32,
   "metadata": {
    "collapsed": true
   },
   "outputs": [],
   "source": [
    "f = open('Test_sentences.txt')\n",
    "text = f.read()\n",
    "sample_test_sent = text.splitlines()\n",
    "f.close()"
   ]
  },
  {
   "cell_type": "code",
   "execution_count": 33,
   "metadata": {
    "collapsed": true
   },
   "outputs": [],
   "source": [
    "# list of untagged words\n",
    "sample_test_words = [word for sent in sample_test_sent for word in sent.split()]\n"
   ]
  },
  {
   "cell_type": "code",
   "execution_count": 34,
   "metadata": {
    "collapsed": true
   },
   "outputs": [],
   "source": [
    "# tagging the test sentences\n",
    "start = time.time()\n",
    "sample_tagged_seq = Viterbi(sample_test_words)\n",
    "end = time.time()\n",
    "difference = end-start"
   ]
  },
  {
   "cell_type": "code",
   "execution_count": 35,
   "metadata": {},
   "outputs": [
    {
     "name": "stdout",
     "output_type": "stream",
     "text": [
      "Time taken in seconds:  90.67453694343567\n",
      "[('Android', 'VERB'), ('is', 'VERB'), ('a', 'DET'), ('mobile', 'ADJ'), ('operating', 'NOUN'), ('system', 'NOUN'), ('developed', 'VERB'), ('by', 'ADP'), ('Google.', 'VERB'), ('Android', 'VERB'), ('has', 'VERB'), ('been', 'VERB'), ('the', 'DET'), ('best-selling', 'ADJ'), ('OS', 'VERB'), ('worldwide', 'VERB'), ('on', 'ADP'), ('smartphones', 'VERB'), ('since', 'ADP'), ('2011', 'VERB'), ('and', 'CONJ'), ('on', 'ADP'), ('tablets', 'NOUN'), ('since', 'ADP'), ('2013.', 'VERB'), ('Google', 'VERB'), ('and', 'CONJ'), ('Twitter', 'VERB'), ('made', 'VERB'), ('a', 'DET'), ('deal', 'NOUN'), ('in', 'ADP'), ('2015', 'VERB'), ('that', 'ADP'), ('gave', 'VERB'), ('Google', 'VERB'), ('access', 'NOUN'), ('to', 'PRT'), (\"Twitter's\", 'VERB'), ('firehose.', 'VERB'), ('Twitter', 'VERB'), ('is', 'VERB'), ('an', 'DET'), ('online', 'VERB'), ('news', 'NOUN'), ('and', 'CONJ'), ('social', 'ADJ'), ('networking', 'NOUN'), ('service', 'NOUN'), ('on', 'ADP'), ('which', 'DET'), ('users', 'NOUN'), ('post', 'NOUN'), ('and', 'CONJ'), ('interact', 'VERB'), ('with', 'ADP'), ('messages', 'VERB'), ('known', 'VERB'), ('as', 'ADP'), ('tweets.', 'VERB'), ('Before', 'ADP'), ('entering', 'VERB'), ('politics,', 'VERB'), ('Donald', 'NOUN'), ('Trump', 'NOUN'), ('was', 'VERB'), ('a', 'DET'), ('domineering', 'VERB'), ('businessman', 'NOUN'), ('and', 'CONJ'), ('a', 'DET'), ('television', 'NOUN'), ('personality.', 'VERB'), ('The', 'DET'), ('2018', 'VERB'), ('FIFA', 'VERB'), ('World', 'NOUN'), ('Cup', 'VERB'), ('is', 'VERB'), ('the', 'DET'), ('21st', 'VERB'), ('FIFA', 'VERB'), ('World', 'NOUN'), ('Cup,', 'VERB'), ('an', 'DET'), ('international', 'ADJ'), ('football', 'NOUN'), ('tournament', 'VERB'), ('contested', 'VERB'), ('once', 'ADV'), ('every', 'DET'), ('four', 'NUM'), ('years.', 'VERB'), ('This', 'DET'), ('is', 'VERB'), ('the', 'DET'), ('first', 'ADJ'), ('World', 'NOUN'), ('Cup', 'VERB'), ('to', 'PRT'), ('be', 'VERB'), ('held', 'VERB'), ('in', 'ADP'), ('Eastern', 'NOUN'), ('Europe', 'NOUN'), ('and', 'CONJ'), ('the', 'DET'), ('11th', 'ADJ'), ('time', 'NOUN'), ('that', 'ADP'), ('it', 'PRON'), ('has', 'VERB'), ('been', 'VERB'), ('held', 'VERB'), ('in', 'ADP'), ('Europe.', 'VERB'), ('Show', 'NOUN'), ('me', 'PRON'), ('the', 'DET'), ('cheapest', 'ADJ'), ('round', 'NOUN'), ('trips', 'VERB'), ('from', 'ADP'), ('Dallas', 'NOUN'), ('to', 'PRT'), ('Atlanta', 'NOUN'), ('I', 'PRON'), ('would', 'VERB'), ('like', 'ADP'), ('to', 'PRT'), ('see', 'VERB'), ('flights', 'NOUN'), ('from', 'ADP'), ('Denver', 'NOUN'), ('to', 'PRT'), ('Philadelphia.', 'VERB'), ('Show', 'NOUN'), ('me', 'PRON'), ('the', 'DET'), ('price', 'NOUN'), ('of', 'ADP'), ('the', 'DET'), ('flights', 'NOUN'), ('leaving', 'VERB'), ('Atlanta', 'NOUN'), ('at', 'ADP'), ('about', 'ADP'), ('3', 'NUM'), ('in', 'ADP'), ('the', 'DET'), ('afternoon', 'NOUN'), ('and', 'CONJ'), ('arriving', 'VERB'), ('in', 'ADP'), ('San', 'NOUN'), ('Francisco.', 'VERB'), ('NASA', 'VERB'), ('invited', 'VERB'), ('social', 'ADJ'), ('media', 'NOUN'), ('users', 'NOUN'), ('to', 'PRT'), ('experience', 'NOUN'), ('the', 'DET'), ('launch', 'NOUN'), ('of', 'ADP'), ('ICESAT-2', 'VERB'), ('Satellite.', 'VERB')]\n",
      "90.67453694343567\n"
     ]
    }
   ],
   "source": [
    "print(\"Time taken in seconds: \", difference)\n",
    "print(sample_tagged_seq)\n",
    "print(difference)"
   ]
  },
  {
   "cell_type": "markdown",
   "metadata": {},
   "source": [
    "### We can clearly see words such as Android, Google, Twitter are tagged incorrectly"
   ]
  },
  {
   "cell_type": "code",
   "execution_count": 36,
   "metadata": {},
   "outputs": [
    {
     "data": {
      "text/plain": [
       "[(('Android', 'VERB'), ('For', 'ADP')),\n",
       " (('is', 'VERB'), ('fiscal', 'ADJ')),\n",
       " (('a', 'DET'), ('1989', 'NUM')),\n",
       " (('mobile', 'ADJ'), (',', '.')),\n",
       " (('operating', 'NOUN'), ('the', 'DET')),\n",
       " (('system', 'NOUN'), ('company', 'NOUN')),\n",
       " (('developed', 'VERB'), ('posted', 'VERB')),\n",
       " (('by', 'ADP'), ('net', 'NOUN')),\n",
       " (('Google.', 'VERB'), ('of', 'ADP')),\n",
       " (('Android', 'VERB'), ('$', '.')),\n",
       " (('has', 'VERB'), ('734.9', 'NUM')),\n",
       " (('been', 'VERB'), ('million', 'NUM')),\n",
       " (('the', 'DET'), ('*U*', 'X')),\n",
       " (('best-selling', 'ADJ'), (',', '.')),\n",
       " (('OS', 'VERB'), ('or', 'CONJ')),\n",
       " (('worldwide', 'VERB'), ('$', '.')),\n",
       " (('on', 'ADP'), ('2.87', 'NUM')),\n",
       " (('smartphones', 'VERB'), ('*U*', 'X')),\n",
       " (('since', 'ADP'), ('a', 'DET')),\n",
       " (('2011', 'VERB'), ('share', 'NOUN')),\n",
       " (('and', 'CONJ'), (',', '.')),\n",
       " (('on', 'ADP'), ('down', 'ADP')),\n",
       " (('tablets', 'NOUN'), ('from', 'ADP')),\n",
       " (('since', 'ADP'), ('$', '.')),\n",
       " (('2013.', 'VERB'), ('811.9', 'NUM')),\n",
       " (('Google', 'VERB'), ('million', 'NUM')),\n",
       " (('and', 'CONJ'), ('*U*', 'X')),\n",
       " (('Twitter', 'VERB'), (',', '.')),\n",
       " (('made', 'VERB'), ('or', 'CONJ')),\n",
       " (('a', 'DET'), ('$', '.')),\n",
       " (('deal', 'NOUN'), ('3.04', 'NUM')),\n",
       " (('in', 'ADP'), ('*U*', 'X')),\n",
       " (('2015', 'VERB'), ('a', 'DET')),\n",
       " (('that', 'ADP'), ('share', 'NOUN')),\n",
       " (('gave', 'VERB'), (',', '.')),\n",
       " (('Google', 'VERB'), ('in', 'ADP')),\n",
       " (('access', 'NOUN'), ('fiscal', 'ADJ')),\n",
       " (('to', 'PRT'), ('1988', 'NUM')),\n",
       " ((\"Twitter's\", 'VERB'), ('.', '.')),\n",
       " (('firehose.', 'VERB'), ('Earlier', 'ADV')),\n",
       " (('Twitter', 'VERB'), ('this', 'DET')),\n",
       " (('is', 'VERB'), ('year', 'NOUN')),\n",
       " (('an', 'DET'), ('Shaw', 'NOUN')),\n",
       " (('online', 'VERB'), ('Publishing', 'NOUN')),\n",
       " (('news', 'NOUN'), ('Inc.', 'NOUN')),\n",
       " (('and', 'CONJ'), (',', '.')),\n",
       " (('social', 'ADJ'), ('Charlotte', 'NOUN')),\n",
       " (('networking', 'NOUN'), (',', '.')),\n",
       " (('service', 'NOUN'), ('acquired', 'VERB')),\n",
       " (('on', 'ADP'), ('30', 'NUM')),\n",
       " (('which', 'DET'), ('%', 'NOUN')),\n",
       " (('users', 'NOUN'), ('of', 'ADP')),\n",
       " (('post', 'NOUN'), ('American', 'NOUN')),\n",
       " (('and', 'CONJ'), ('City', 'NOUN')),\n",
       " (('interact', 'VERB'), ('*T*-1', 'X')),\n",
       " (('with', 'ADP'), ('and', 'CONJ')),\n",
       " (('messages', 'VERB'), ('has', 'VERB')),\n",
       " (('known', 'VERB'), ('an', 'DET')),\n",
       " (('as', 'ADP'), ('agreement', 'NOUN')),\n",
       " (('tweets.', 'VERB'), ('*', 'X')),\n",
       " (('Before', 'ADP'), ('to', 'PRT')),\n",
       " (('entering', 'VERB'), ('acquire', 'VERB')),\n",
       " (('politics,', 'VERB'), ('a', 'DET')),\n",
       " (('Donald', 'NOUN'), ('further', 'ADJ')),\n",
       " (('Trump', 'NOUN'), ('25', 'NUM')),\n",
       " (('was', 'VERB'), ('%', 'NOUN')),\n",
       " (('a', 'DET'), ('from', 'ADP')),\n",
       " (('domineering', 'VERB'), ('E.W.', 'NOUN')),\n",
       " (('businessman', 'NOUN'), ('Scripps', 'NOUN')),\n",
       " (('and', 'CONJ'), ('Co.', 'NOUN')),\n",
       " (('a', 'DET'), ('next', 'ADJ')),\n",
       " (('television', 'NOUN'), ('year', 'NOUN')),\n",
       " (('personality.', 'VERB'), ('.', '.')),\n",
       " (('The', 'DET'), ('I', 'PRON')),\n",
       " (('2018', 'VERB'), ('visited', 'VERB')),\n",
       " (('FIFA', 'VERB'), ('a', 'DET')),\n",
       " (('World', 'NOUN'), ('lot', 'NOUN')),\n",
       " (('Cup', 'VERB'), ('of', 'ADP')),\n",
       " (('is', 'VERB'), ('major', 'ADJ')),\n",
       " (('the', 'DET'), ('Japanese', 'ADJ')),\n",
       " (('21st', 'VERB'), ('manufacturers', 'NOUN')),\n",
       " (('FIFA', 'VERB'), (',', '.')),\n",
       " (('World', 'NOUN'), ('but', 'CONJ')),\n",
       " (('Cup,', 'VERB'), ('I', 'PRON')),\n",
       " (('an', 'DET'), ('never', 'ADV')),\n",
       " (('international', 'ADJ'), ('felt', 'VERB')),\n",
       " (('football', 'NOUN'), ('0', 'X')),\n",
       " (('tournament', 'VERB'), ('I', 'PRON')),\n",
       " (('contested', 'VERB'), ('would', 'VERB')),\n",
       " (('once', 'ADV'), ('want', 'VERB')),\n",
       " (('every', 'DET'), ('*-1', 'X')),\n",
       " (('four', 'NUM'), ('to', 'PRT')),\n",
       " (('years.', 'VERB'), ('be', 'VERB')),\n",
       " (('This', 'DET'), ('employed', 'VERB')),\n",
       " (('is', 'VERB'), ('*-149', 'X')),\n",
       " (('the', 'DET'), ('by', 'ADP')),\n",
       " (('first', 'ADJ'), ('any', 'DET')),\n",
       " (('World', 'NOUN'), ('of', 'ADP')),\n",
       " (('Cup', 'VERB'), ('them', 'PRON')),\n",
       " (('to', 'PRT'), ('.', '.')),\n",
       " (('be', 'VERB'), ('Mr.', 'NOUN')),\n",
       " (('held', 'VERB'), ('McGuigan', 'NOUN')),\n",
       " (('in', 'ADP'), ('cites', 'VERB')),\n",
       " (('Eastern', 'NOUN'), ('three', 'NUM')),\n",
       " (('Europe', 'NOUN'), ('completed', 'VERB')),\n",
       " (('and', 'CONJ'), ('efforts', 'NOUN')),\n",
       " (('the', 'DET'), ('in', 'ADP')),\n",
       " (('11th', 'ADJ'), ('Oklahoma', 'NOUN')),\n",
       " (('time', 'NOUN'), ('.', '.')),\n",
       " (('that', 'ADP'), ('But', 'CONJ')),\n",
       " (('it', 'PRON'), ('the', 'DET')),\n",
       " (('has', 'VERB'), ('two', 'NUM')),\n",
       " (('been', 'VERB'), ('legal', 'ADJ')),\n",
       " (('held', 'VERB'), ('experts', 'NOUN')),\n",
       " (('in', 'ADP'), (',', '.')),\n",
       " (('Europe.', 'VERB'), ('responding', 'VERB')),\n",
       " (('Show', 'NOUN'), ('to', 'PRT')),\n",
       " (('me', 'PRON'), ('an', 'DET')),\n",
       " (('the', 'DET'), ('inquiry', 'NOUN')),\n",
       " (('cheapest', 'ADJ'), ('by', 'ADP')),\n",
       " (('round', 'NOUN'), ('Sen.', 'NOUN')),\n",
       " (('trips', 'VERB'), ('Edward', 'NOUN')),\n",
       " (('from', 'ADP'), ('Kennedy', 'NOUN')),\n",
       " (('Dallas', 'NOUN'), ('-LRB-', '.')),\n",
       " (('to', 'PRT'), ('D.', 'NOUN')),\n",
       " (('Atlanta', 'NOUN'), (',', '.')),\n",
       " (('I', 'PRON'), ('Mass.', 'NOUN')),\n",
       " (('would', 'VERB'), ('-RRB-', '.')),\n",
       " (('like', 'ADP'), (',', '.')),\n",
       " (('to', 'PRT'), ('wrote', 'VERB')),\n",
       " (('see', 'VERB'), ('in', 'ADP')),\n",
       " (('flights', 'NOUN'), ('a', 'DET')),\n",
       " (('from', 'ADP'), ('joint', 'ADJ')),\n",
       " (('Denver', 'NOUN'), ('letter', 'NOUN')),\n",
       " (('to', 'PRT'), ('that', 'ADP')),\n",
       " (('Philadelphia.', 'VERB'), ('the', 'DET')),\n",
       " (('Show', 'NOUN'), ('president', 'NOUN')),\n",
       " (('me', 'PRON'), ('``', '.')),\n",
       " (('the', 'DET'), ('lacks', 'VERB')),\n",
       " (('price', 'NOUN'), ('the', 'DET')),\n",
       " (('of', 'ADP'), ('constitutional', 'ADJ')),\n",
       " (('the', 'DET'), ('authority', 'NOUN')),\n",
       " (('flights', 'NOUN'), ('*', 'X')),\n",
       " (('leaving', 'VERB'), ('to', 'PRT')),\n",
       " (('Atlanta', 'NOUN'), ('exercise', 'VERB')),\n",
       " (('at', 'ADP'), ('a', 'DET')),\n",
       " (('about', 'ADP'), ('line-item', 'ADJ')),\n",
       " (('3', 'NUM'), ('veto', 'NOUN')),\n",
       " (('in', 'ADP'), ('.', '.')),\n",
       " (('the', 'DET'), (\"''\", '.'))]"
      ]
     },
     "execution_count": 36,
     "metadata": {},
     "output_type": "execute_result"
    }
   ],
   "source": [
    "# let's check the incorrectly tagged words\n",
    "[j for i, j in enumerate(zip(sample_tagged_seq, test_run_base)) if j[0] != j[1]]"
   ]
  },
  {
   "cell_type": "markdown",
   "metadata": {},
   "source": [
    "## Solve the problem of unknown words\n",
    "### Based on the above observation , we can clearly see that many of the unknown words are tagged incorrectly. We can set the emission probability of unknown word to zero based on transition probabilities\n",
    "## -------------------------------------------------------------------------------------------------------------"
   ]
  },
  {
   "cell_type": "markdown",
   "metadata": {},
   "source": [
    "## Technique#1 : Setting emission probability based on transition probabilities"
   ]
  },
  {
   "cell_type": "code",
   "execution_count": 37,
   "metadata": {
    "collapsed": true
   },
   "outputs": [],
   "source": [
    "# Based on transition probability of tags when emission probability is zero for unknown words\n",
    "#Version#1 of Viterbi\n",
    "\n",
    "def ViterbiV1(words, train_bag = train_tagged_words):\n",
    "    state = []\n",
    "    T = list(set([pair[1] for pair in train_bag]))\n",
    "    \n",
    "    for key, word in enumerate(words):\n",
    "        #initialise list of probability column for a given observation\n",
    "        p = [] \n",
    "        p_transition =[] # list for storing transition probabilities\n",
    "        for tag in T:\n",
    "            if key == 0:\n",
    "                transition_p = tags_df.loc['.', tag]\n",
    "            else:\n",
    "                transition_p = tags_df.loc[state[-1], tag]\n",
    "                \n",
    "            # compute emission and state probabilities\n",
    "            emission_p = word_given_tag(words[key], tag)[0]/word_given_tag(words[key], tag)[1]\n",
    "            state_probability = emission_p * transition_p    \n",
    "            p.append(state_probability)\n",
    "            p_transition.append(transition_p)\n",
    "            \n",
    "        pmax = max(p)\n",
    "        state_max = T[p.index(pmax)] \n",
    "        \n",
    "        #Modified version here\n",
    "        # if probability is zero (unknown word) then use transition probability\n",
    "        if(pmax==0):\n",
    "            pmax = max(p_transition)\n",
    "            state_max = T[p_transition.index(pmax)]\n",
    "                           \n",
    "        else:\n",
    "            state_max = T[p.index(pmax)] \n",
    "        \n",
    "        state.append(state_max)\n",
    "    return list(zip(words, state))"
   ]
  },
  {
   "cell_type": "code",
   "execution_count": 38,
   "metadata": {},
   "outputs": [
    {
     "name": "stdout",
     "output_type": "stream",
     "text": [
      "Time taken in seconds:  77.42496538162231\n",
      "Modified Viterbi Version1 Accuracy:  94.0\n"
     ]
    }
   ],
   "source": [
    "#Using the modified version of Viteribi, let's test the tagging again\n",
    "start = time.time()\n",
    "tagged_seq = ViterbiV1(test_tagged_words)\n",
    "end = time.time()\n",
    "difference = end-start\n",
    "\n",
    "print(\"Time taken in seconds: \", difference)\n",
    "\n",
    "# accuracy\n",
    "check = [i for i, j in zip(tagged_seq, test_run_base) if i == j] \n",
    "accuracy = len(check)/len(tagged_seq)\n",
    "print('Modified Viterbi Version1 Accuracy: ',accuracy*100)"
   ]
  },
  {
   "cell_type": "markdown",
   "metadata": {},
   "source": [
    "## The modified version of Viterbi algorithm using the Transition probability to assign emission probability to zero for unknown words improved the accuracy to 94% "
   ]
  },
  {
   "cell_type": "markdown",
   "metadata": {},
   "source": [
    "## -----------------------------------------------------------------------------------------------------------------------\n",
    "## Technique#1 : Adding Tag occurance probability weights technique \n",
    "## Let us now apply weights based on the probability of tag occurance to the transition probabilities of tags and then we can use the resulting probability for predicting unknown words. This way it will improve the tagging of unknown words \n",
    "## This technique will take into account that some of the POS tags are more likely to occur as compared to others. This is an additional benefit of this technique"
   ]
  },
  {
   "cell_type": "code",
   "execution_count": 39,
   "metadata": {},
   "outputs": [
    {
     "data": {
      "text/plain": [
       "[('VERB', 0.13490026706726757),\n",
       " ('ADP', 0.09759430812885996),\n",
       " ('.', 0.11609080287097312),\n",
       " ('PRON', 0.027165748622934402),\n",
       " ('DET', 0.08694291437155734),\n",
       " ('X', 0.06565055917209148),\n",
       " ('NOUN', 0.2868678017025538),\n",
       " ('ADV', 0.03163077950258721),\n",
       " ('ADJ', 0.06341804373226506),\n",
       " ('PRT', 0.032194124520113505),\n",
       " ('CONJ', 0.022585962276748455),\n",
       " ('NUM', 0.034958688032048074)]"
      ]
     },
     "execution_count": 39,
     "metadata": {},
     "output_type": "execute_result"
    }
   ],
   "source": [
    "# lets create a list containing tuples of POS tags and POS tag occurance probability, based on training data\n",
    "tag_prob = []\n",
    "total_tag = len([tag for word,tag in train_tagged_words])\n",
    "for t in tags:\n",
    "    each_tag = [tag for word,tag in train_tagged_words if tag==t]\n",
    "    tag_prob.append((t,len(each_tag)/total_tag))\n",
    "\n",
    "tag_prob"
   ]
  },
  {
   "cell_type": "code",
   "execution_count": 40,
   "metadata": {
    "collapsed": true
   },
   "outputs": [],
   "source": [
    "def ViterbiV2(words, train_bag = train_tagged_words):\n",
    "    state = []\n",
    "    T = list(set([pair[1] for pair in train_bag]))\n",
    "    \n",
    "    for key, word in enumerate(words):\n",
    "        #initialise list of probability column for a given observation\n",
    "        p = [] \n",
    "        p_transition =[] # list for storing transition probabilities\n",
    "       \n",
    "        for tag in T:\n",
    "            if key == 0:\n",
    "                transition_p = tags_df.loc['.', tag]\n",
    "            else:\n",
    "                transition_p = tags_df.loc[state[-1], tag]\n",
    "                \n",
    "            # compute emission and state probabilities\n",
    "            emission_p = word_given_tag(words[key], tag)[0]/word_given_tag(words[key], tag)[1]\n",
    "            state_probability = emission_p * transition_p    \n",
    "            p.append(state_probability)\n",
    "            \n",
    "            # Modified this part to use the tag_prob. This will find POS tag occurance probability\n",
    "            tag_p = [pair[1] for pair in tag_prob if pair[0]==tag ]\n",
    "            \n",
    "            # calculate the transition prob weighted by tag occurance probability.\n",
    "            transition_p = tag_p[0]*transition_p             \n",
    "            p_transition.append(transition_p)\n",
    "            \n",
    "        pmax = max(p)\n",
    "        state_max = T[p.index(pmax)] \n",
    "        \n",
    "      \n",
    "        # if probability is zero (unknown word) then use weighted transition probability\n",
    "        if(pmax==0):\n",
    "            pmax = max(p_transition)\n",
    "            state_max = T[p_transition.index(pmax)]                 \n",
    "                           \n",
    "        else:\n",
    "            state_max = T[p.index(pmax)] \n",
    "        \n",
    "        state.append(state_max)\n",
    "    return list(zip(words, state))"
   ]
  },
  {
   "cell_type": "code",
   "execution_count": 41,
   "metadata": {},
   "outputs": [
    {
     "name": "stdout",
     "output_type": "stream",
     "text": [
      "Time taken in seconds:  88.25600385665894\n",
      "Modified ViterbiV2 Accuracy:  94.0\n"
     ]
    }
   ],
   "source": [
    "# tagging the test sentences\n",
    "start = time.time()\n",
    "# Using the version 2 of the Viterbi algorithm\n",
    "tagged_seq = ViterbiV2(test_tagged_words)\n",
    "end = time.time()\n",
    "difference = end-start\n",
    "\n",
    "print(\"Time taken in seconds: \", difference)\n",
    "\n",
    "# accuracy\n",
    "check = [i for i, j in zip(tagged_seq, test_run_base) if i == j] \n",
    "accuracy = len(check)/len(tagged_seq)\n",
    "print('Modified ViterbiV2 Accuracy: ',accuracy*100)"
   ]
  },
  {
   "cell_type": "markdown",
   "metadata": {},
   "source": [
    "## The accuracy of version2 of the modified Viterbi algorithm is almost same as the Version1\n",
    "## Let us find incorrectly tagged words"
   ]
  },
  {
   "cell_type": "code",
   "execution_count": 42,
   "metadata": {},
   "outputs": [
    {
     "data": {
      "text/plain": [
       "[(('net', 'ADJ'), ('net', 'NOUN')),\n",
       " (('734.9', 'NOUN'), ('734.9', 'NUM')),\n",
       " (('down', 'ADV'), ('down', 'ADP')),\n",
       " (('811.9', 'NOUN'), ('811.9', 'NUM')),\n",
       " (('3.04', 'NOUN'), ('3.04', 'NUM')),\n",
       " (('Earlier', 'ADJ'), ('Earlier', 'ADV')),\n",
       " (('American', 'ADJ'), ('American', 'NOUN')),\n",
       " (('next', 'ADP'), ('next', 'ADJ')),\n",
       " (('*-149', 'NOUN'), ('*-149', 'X'))]"
      ]
     },
     "execution_count": 42,
     "metadata": {},
     "output_type": "execute_result"
    }
   ],
   "source": [
    "# let's check the incorrectly tagged words\n",
    "[j for i, j in enumerate(zip(tagged_seq, test_run_base)) if j[0] != j[1]]"
   ]
  },
  {
   "cell_type": "code",
   "execution_count": 43,
   "metadata": {
    "collapsed": true
   },
   "outputs": [],
   "source": [
    "# tagging the test sentences\n",
    "start = time.time()\n",
    "sample_tagged_seq = ViterbiV2(sample_test_words)\n",
    "end = time.time()\n",
    "difference = end-start"
   ]
  },
  {
   "cell_type": "code",
   "execution_count": 44,
   "metadata": {},
   "outputs": [
    {
     "name": "stdout",
     "output_type": "stream",
     "text": [
      "Time taken in seconds:  83.24540138244629\n",
      "[('Android', 'NOUN'), ('is', 'VERB'), ('a', 'DET'), ('mobile', 'ADJ'), ('operating', 'NOUN'), ('system', 'NOUN'), ('developed', 'VERB'), ('by', 'ADP'), ('Google.', 'NOUN'), ('Android', 'NOUN'), ('has', 'VERB'), ('been', 'VERB'), ('the', 'DET'), ('best-selling', 'ADJ'), ('OS', 'NOUN'), ('worldwide', 'NOUN'), ('on', 'ADP'), ('smartphones', 'NOUN'), ('since', 'ADP'), ('2011', 'NOUN'), ('and', 'CONJ'), ('on', 'ADP'), ('tablets', 'NOUN'), ('since', 'ADP'), ('2013.', 'NOUN'), ('Google', 'NOUN'), ('and', 'CONJ'), ('Twitter', 'NOUN'), ('made', 'VERB'), ('a', 'DET'), ('deal', 'NOUN'), ('in', 'ADP'), ('2015', 'NOUN'), ('that', 'ADP'), ('gave', 'VERB'), ('Google', 'NOUN'), ('access', 'NOUN'), ('to', 'PRT'), (\"Twitter's\", 'NOUN'), ('firehose.', 'NOUN'), ('Twitter', 'NOUN'), ('is', 'VERB'), ('an', 'DET'), ('online', 'NOUN'), ('news', 'NOUN'), ('and', 'CONJ'), ('social', 'ADJ'), ('networking', 'NOUN'), ('service', 'NOUN'), ('on', 'ADP'), ('which', 'DET'), ('users', 'NOUN'), ('post', 'NOUN'), ('and', 'CONJ'), ('interact', 'NOUN'), ('with', 'ADP'), ('messages', 'NOUN'), ('known', 'VERB'), ('as', 'ADP'), ('tweets.', 'NOUN'), ('Before', 'ADP'), ('entering', 'VERB'), ('politics,', 'NOUN'), ('Donald', 'NOUN'), ('Trump', 'NOUN'), ('was', 'VERB'), ('a', 'DET'), ('domineering', 'NOUN'), ('businessman', 'NOUN'), ('and', 'CONJ'), ('a', 'DET'), ('television', 'NOUN'), ('personality.', 'NOUN'), ('The', 'DET'), ('2018', 'NOUN'), ('FIFA', 'NOUN'), ('World', 'NOUN'), ('Cup', 'NOUN'), ('is', 'VERB'), ('the', 'DET'), ('21st', 'NOUN'), ('FIFA', 'NOUN'), ('World', 'NOUN'), ('Cup,', 'NOUN'), ('an', 'DET'), ('international', 'ADJ'), ('football', 'NOUN'), ('tournament', 'NOUN'), ('contested', 'NOUN'), ('once', 'ADV'), ('every', 'DET'), ('four', 'NUM'), ('years.', 'NOUN'), ('This', 'DET'), ('is', 'VERB'), ('the', 'DET'), ('first', 'ADJ'), ('World', 'NOUN'), ('Cup', 'NOUN'), ('to', 'PRT'), ('be', 'VERB'), ('held', 'VERB'), ('in', 'ADP'), ('Eastern', 'NOUN'), ('Europe', 'NOUN'), ('and', 'CONJ'), ('the', 'DET'), ('11th', 'ADJ'), ('time', 'NOUN'), ('that', 'ADP'), ('it', 'PRON'), ('has', 'VERB'), ('been', 'VERB'), ('held', 'VERB'), ('in', 'ADP'), ('Europe.', 'NOUN'), ('Show', 'NOUN'), ('me', 'PRON'), ('the', 'DET'), ('cheapest', 'ADJ'), ('round', 'NOUN'), ('trips', 'NOUN'), ('from', 'ADP'), ('Dallas', 'NOUN'), ('to', 'PRT'), ('Atlanta', 'NOUN'), ('I', 'PRON'), ('would', 'VERB'), ('like', 'ADP'), ('to', 'PRT'), ('see', 'VERB'), ('flights', 'NOUN'), ('from', 'ADP'), ('Denver', 'NOUN'), ('to', 'PRT'), ('Philadelphia.', 'NOUN'), ('Show', 'NOUN'), ('me', 'PRON'), ('the', 'DET'), ('price', 'NOUN'), ('of', 'ADP'), ('the', 'DET'), ('flights', 'NOUN'), ('leaving', 'VERB'), ('Atlanta', 'NOUN'), ('at', 'ADP'), ('about', 'ADP'), ('3', 'NUM'), ('in', 'ADP'), ('the', 'DET'), ('afternoon', 'NOUN'), ('and', 'CONJ'), ('arriving', 'NOUN'), ('in', 'ADP'), ('San', 'NOUN'), ('Francisco.', 'NOUN'), ('NASA', 'NOUN'), ('invited', 'NOUN'), ('social', 'ADJ'), ('media', 'NOUN'), ('users', 'NOUN'), ('to', 'PRT'), ('experience', 'NOUN'), ('the', 'DET'), ('launch', 'NOUN'), ('of', 'ADP'), ('ICESAT-2', 'NOUN'), ('Satellite.', 'NOUN')]\n",
      "83.24540138244629\n"
     ]
    }
   ],
   "source": [
    "print(\"Time taken in seconds: \", difference)\n",
    "print(sample_tagged_seq)\n",
    "print(difference)"
   ]
  },
  {
   "cell_type": "markdown",
   "metadata": {},
   "source": [
    "## We can see that for the given sentence, the tagging of words are much better than the vanilla Viterbi algorithm "
   ]
  },
  {
   "cell_type": "markdown",
   "metadata": {},
   "source": [
    "## ---------------------------------------------------------------------------------------------------------------------------\n",
    "## Technique#2 : Rule based tagger for unknown words\n",
    "### We will define array of patterns for the tagger to identify words based on the given patterns. If the pattern matches during tagging process, the word will be tagged accordingly. This will be much more effiective way of handling unknown words"
   ]
  },
  {
   "cell_type": "code",
   "execution_count": 45,
   "metadata": {
    "collapsed": true
   },
   "outputs": [],
   "source": [
    "# specify patterns for tagging\n",
    "patterns = [\n",
    "    (r'.*ing$', 'VERB'),              # gerund\n",
    "    (r'.*ed$', 'VERB'),               # past tense words\n",
    "    (r'.*es$', 'VERB'),               # verb words  \n",
    "    (r'.*\\'s$', 'NOUN'),              # possessive nouns\n",
    "    (r'.*s$', 'NOUN'),                # plural nouns\n",
    "    (r'^-?[0-9]+(.[0-9]+)?$', 'NUM'), # cardinal numbers\n",
    "    (r'\\*T?\\*?-[0-9]+$', 'X'),        # X , others\n",
    "    (r'.*', 'NOUN')                   # nouns\n",
    "]\n",
    "\n",
    "# rule based tagger\n",
    "rule_based_tagger = nltk.RegexpTagger(patterns)"
   ]
  },
  {
   "cell_type": "code",
   "execution_count": 46,
   "metadata": {
    "collapsed": true
   },
   "outputs": [],
   "source": [
    "def ViterbiV3(words, train_bag = train_tagged_words):\n",
    "    state = []\n",
    "    T = list(set([pair[1] for pair in train_bag]))\n",
    "    \n",
    "    for key, word in enumerate(words):\n",
    "        #initialise list of probability column for a given observation\n",
    "        p = []\n",
    "        p_transition =[]\n",
    "        for tag in T:\n",
    "            if key == 0:\n",
    "                transition_p = tags_df.loc['.', tag]\n",
    "            else:\n",
    "                transition_p = tags_df.loc[state[-1], tag]\n",
    "                \n",
    "            # compute emission and state probabilities\n",
    "            emission_p = word_given_tag(words[key], tag)[0]/word_given_tag(words[key], tag)[1]\n",
    "            state_probability = emission_p * transition_p    \n",
    "            p.append(state_probability)\n",
    "\t\t\t# Modified this part to use the tag_prob. This will find POS tag occurance probability\n",
    "            tag_p = [pair[1] for pair in tag_prob if pair[0]==tag ]\n",
    "            \n",
    "            # calculate the transition prob weighted by tag occurance probability.\n",
    "            transition_p = tag_p[0]*transition_p             \n",
    "            p_transition.append(transition_p)\n",
    "            \n",
    "        pmax = max(p)\n",
    "        #rule based tagger included\n",
    "        state_max = rule_based_tagger.tag([word])[0][1]       \n",
    "       \n",
    "        \n",
    "        if(pmax==0):\n",
    "            #rule based tagger included\n",
    "            state_max = rule_based_tagger.tag([word])[0][1] # assign based on rule based tagger\n",
    "        else:\n",
    "            if state_max != 'X':\n",
    "                # getting state for which probability is maximum\n",
    "                state_max = T[p.index(pmax)]                \n",
    "            \n",
    "        \n",
    "        state.append(state_max)\n",
    "    return list(zip(words, state))"
   ]
  },
  {
   "cell_type": "code",
   "execution_count": 47,
   "metadata": {},
   "outputs": [
    {
     "name": "stdout",
     "output_type": "stream",
     "text": [
      "Time taken in seconds:  70.81165218353271\n"
     ]
    }
   ],
   "source": [
    "# tagging the test sentences\n",
    "start = time.time()\n",
    "tagged_seq = ViterbiV3(test_tagged_words)\n",
    "end = time.time()\n",
    "difference = end-start\n",
    "\n",
    "print(\"Time taken in seconds: \", difference)"
   ]
  },
  {
   "cell_type": "code",
   "execution_count": 48,
   "metadata": {},
   "outputs": [
    {
     "name": "stdout",
     "output_type": "stream",
     "text": [
      "Modified Viterbi_2 Accuracy:  96.66666666666667\n"
     ]
    }
   ],
   "source": [
    "# accuracy\n",
    "check = [i for i, j in zip(tagged_seq, test_run_base) if i == j] \n",
    "accuracy = len(check)/len(tagged_seq)\n",
    "print('Modified Viterbi_2 Accuracy: ',accuracy*100)"
   ]
  },
  {
   "cell_type": "code",
   "execution_count": 49,
   "metadata": {},
   "outputs": [
    {
     "data": {
      "text/plain": [
       "[(('net', 'ADJ'), ('net', 'NOUN')),\n",
       " (('down', 'ADV'), ('down', 'ADP')),\n",
       " (('Earlier', 'ADJ'), ('Earlier', 'ADV')),\n",
       " (('American', 'ADJ'), ('American', 'NOUN')),\n",
       " (('next', 'ADP'), ('next', 'ADJ'))]"
      ]
     },
     "execution_count": 49,
     "metadata": {},
     "output_type": "execute_result"
    }
   ],
   "source": [
    "# let's check the incorrectly tagged words\n",
    "[j for i, j in enumerate(zip(tagged_seq, test_run_base)) if j[0] != j[1]]"
   ]
  },
  {
   "cell_type": "code",
   "execution_count": 50,
   "metadata": {
    "collapsed": true
   },
   "outputs": [],
   "source": [
    "# modified Viterbi\n",
    "def ViterbiV4(words, train_bag = train_tagged_words):\n",
    "    state = []\n",
    "    T = list(set([pair[1] for pair in train_bag]))\n",
    "    \n",
    "    for key, word in enumerate(words):\n",
    "        #initialise list of probability column for a given observation\n",
    "        p = [] \n",
    "        p_transition =[] # for storing transition probabilities\n",
    "        for tag in T:\n",
    "            if key == 0:\n",
    "                transition_p = tags_df.loc['.', tag]\n",
    "            else:\n",
    "                transition_p = tags_df.loc[state[-1], tag]\n",
    "                \n",
    "            # compute emission and state probabilities\n",
    "            emission_p = word_given_tag(words[key], tag)[0]/word_given_tag(words[key], tag)[1]\n",
    "            state_probability = emission_p * transition_p    \n",
    "            p.append(state_probability)\n",
    "            \n",
    "            # find POS tag occurance probability\n",
    "            tag_p = [pair[1] for pair in tag_prob if pair[0]==tag ]\n",
    "            \n",
    "            # calculate the transition prob weighted by tag occurance probability.\n",
    "            transition_p = tag_p[0]*transition_p\n",
    "            p_transition.append(transition_p)\n",
    "            \n",
    "        pmax = max(p)\n",
    "        state_max = rule_based_tagger.tag([word])[0][1] \n",
    "        \n",
    "      \n",
    "        # getting state for which probability is maximum\n",
    "        if(pmax==0):\n",
    "            state_max = rule_based_tagger.tag([word])[0][1] # assign based on rule based tagger\n",
    "            \n",
    "            # if unknown word does not satisfy any rule, find the tag with maximum transition probability\n",
    "            if state_max == 'NN':\n",
    "                pmax = max(p_transition)\n",
    "                state_max = T[p_transition.index(pmax)]                 \n",
    "                \n",
    "        else:\n",
    "             if state_max != 'X':\n",
    "                # getting state for which probability is maximum\n",
    "                state_max = T[p.index(pmax)] \n",
    "        \n",
    "        state.append(state_max)\n",
    "    return list(zip(words, state))"
   ]
  },
  {
   "cell_type": "code",
   "execution_count": 51,
   "metadata": {},
   "outputs": [
    {
     "name": "stdout",
     "output_type": "stream",
     "text": [
      "Time taken in seconds:  86.45504760742188\n"
     ]
    }
   ],
   "source": [
    "# tagging the test sentences\n",
    "start = time.time()\n",
    "tagged_seq = ViterbiV4(test_tagged_words)\n",
    "end = time.time()\n",
    "difference = end-start\n",
    "\n",
    "print(\"Time taken in seconds: \", difference)"
   ]
  },
  {
   "cell_type": "code",
   "execution_count": 52,
   "metadata": {},
   "outputs": [
    {
     "name": "stdout",
     "output_type": "stream",
     "text": [
      "Modified Viterbi Algorithm Accuracy:  96.66666666666667\n"
     ]
    }
   ],
   "source": [
    "# accuracy\n",
    "check = [i for i, j in zip(tagged_seq, test_run_base) if i == j] \n",
    "accuracy = len(check)/len(tagged_seq)\n",
    "print('Modified Viterbi Algorithm Accuracy: ',accuracy*100)"
   ]
  },
  {
   "cell_type": "code",
   "execution_count": 53,
   "metadata": {
    "collapsed": true
   },
   "outputs": [],
   "source": [
    "file_name = open('Test_sentences.txt')"
   ]
  },
  {
   "cell_type": "code",
   "execution_count": 54,
   "metadata": {
    "collapsed": true
   },
   "outputs": [],
   "source": [
    "text = file_name.read()"
   ]
  },
  {
   "cell_type": "code",
   "execution_count": 55,
   "metadata": {
    "collapsed": true
   },
   "outputs": [],
   "source": [
    "sample_test_sent = text.splitlines()"
   ]
  },
  {
   "cell_type": "code",
   "execution_count": 56,
   "metadata": {
    "collapsed": true
   },
   "outputs": [],
   "source": [
    "file_name.close()"
   ]
  },
  {
   "cell_type": "code",
   "execution_count": 57,
   "metadata": {
    "collapsed": true
   },
   "outputs": [],
   "source": [
    "# list of untagged words\n",
    "sample_test_words = [word for sent in sample_test_sent for word in sent.split()]"
   ]
  },
  {
   "cell_type": "code",
   "execution_count": 58,
   "metadata": {},
   "outputs": [
    {
     "name": "stdout",
     "output_type": "stream",
     "text": [
      "Time taken in seconds:  188.51957178115845\n"
     ]
    }
   ],
   "source": [
    "# tagging the test sentences\n",
    "start = time.time()\n",
    "sample_tagged_seq = Viterbi(sample_test_words)\n",
    "end = time.time()\n",
    "difference = end-start\n",
    "\n",
    "print(\"Time taken in seconds: \", difference)"
   ]
  },
  {
   "cell_type": "code",
   "execution_count": 59,
   "metadata": {},
   "outputs": [
    {
     "data": {
      "text/plain": [
       "[('Android', 'VERB'),\n",
       " ('is', 'VERB'),\n",
       " ('a', 'DET'),\n",
       " ('mobile', 'ADJ'),\n",
       " ('operating', 'NOUN'),\n",
       " ('system', 'NOUN'),\n",
       " ('developed', 'VERB'),\n",
       " ('by', 'ADP'),\n",
       " ('Google.', 'VERB'),\n",
       " ('Android', 'VERB'),\n",
       " ('has', 'VERB'),\n",
       " ('been', 'VERB'),\n",
       " ('the', 'DET'),\n",
       " ('best-selling', 'ADJ'),\n",
       " ('OS', 'VERB'),\n",
       " ('worldwide', 'VERB'),\n",
       " ('on', 'ADP'),\n",
       " ('smartphones', 'VERB'),\n",
       " ('since', 'ADP'),\n",
       " ('2011', 'VERB'),\n",
       " ('and', 'CONJ'),\n",
       " ('on', 'ADP'),\n",
       " ('tablets', 'NOUN'),\n",
       " ('since', 'ADP'),\n",
       " ('2013.', 'VERB'),\n",
       " ('Google', 'VERB'),\n",
       " ('and', 'CONJ'),\n",
       " ('Twitter', 'VERB'),\n",
       " ('made', 'VERB'),\n",
       " ('a', 'DET'),\n",
       " ('deal', 'NOUN'),\n",
       " ('in', 'ADP'),\n",
       " ('2015', 'VERB'),\n",
       " ('that', 'ADP'),\n",
       " ('gave', 'VERB'),\n",
       " ('Google', 'VERB'),\n",
       " ('access', 'NOUN'),\n",
       " ('to', 'PRT'),\n",
       " (\"Twitter's\", 'VERB'),\n",
       " ('firehose.', 'VERB'),\n",
       " ('Twitter', 'VERB'),\n",
       " ('is', 'VERB'),\n",
       " ('an', 'DET'),\n",
       " ('online', 'VERB'),\n",
       " ('news', 'NOUN'),\n",
       " ('and', 'CONJ'),\n",
       " ('social', 'ADJ'),\n",
       " ('networking', 'NOUN'),\n",
       " ('service', 'NOUN'),\n",
       " ('on', 'ADP'),\n",
       " ('which', 'DET'),\n",
       " ('users', 'NOUN'),\n",
       " ('post', 'NOUN'),\n",
       " ('and', 'CONJ'),\n",
       " ('interact', 'VERB'),\n",
       " ('with', 'ADP'),\n",
       " ('messages', 'VERB'),\n",
       " ('known', 'VERB'),\n",
       " ('as', 'ADP'),\n",
       " ('tweets.', 'VERB'),\n",
       " ('Before', 'ADP'),\n",
       " ('entering', 'VERB'),\n",
       " ('politics,', 'VERB'),\n",
       " ('Donald', 'NOUN'),\n",
       " ('Trump', 'NOUN'),\n",
       " ('was', 'VERB'),\n",
       " ('a', 'DET'),\n",
       " ('domineering', 'VERB'),\n",
       " ('businessman', 'NOUN'),\n",
       " ('and', 'CONJ'),\n",
       " ('a', 'DET'),\n",
       " ('television', 'NOUN'),\n",
       " ('personality.', 'VERB'),\n",
       " ('The', 'DET'),\n",
       " ('2018', 'VERB'),\n",
       " ('FIFA', 'VERB'),\n",
       " ('World', 'NOUN'),\n",
       " ('Cup', 'VERB'),\n",
       " ('is', 'VERB'),\n",
       " ('the', 'DET'),\n",
       " ('21st', 'VERB'),\n",
       " ('FIFA', 'VERB'),\n",
       " ('World', 'NOUN'),\n",
       " ('Cup,', 'VERB'),\n",
       " ('an', 'DET'),\n",
       " ('international', 'ADJ'),\n",
       " ('football', 'NOUN'),\n",
       " ('tournament', 'VERB'),\n",
       " ('contested', 'VERB'),\n",
       " ('once', 'ADV'),\n",
       " ('every', 'DET'),\n",
       " ('four', 'NUM'),\n",
       " ('years.', 'VERB'),\n",
       " ('This', 'DET'),\n",
       " ('is', 'VERB'),\n",
       " ('the', 'DET'),\n",
       " ('first', 'ADJ'),\n",
       " ('World', 'NOUN'),\n",
       " ('Cup', 'VERB'),\n",
       " ('to', 'PRT'),\n",
       " ('be', 'VERB'),\n",
       " ('held', 'VERB'),\n",
       " ('in', 'ADP'),\n",
       " ('Eastern', 'NOUN'),\n",
       " ('Europe', 'NOUN'),\n",
       " ('and', 'CONJ'),\n",
       " ('the', 'DET'),\n",
       " ('11th', 'ADJ'),\n",
       " ('time', 'NOUN'),\n",
       " ('that', 'ADP'),\n",
       " ('it', 'PRON'),\n",
       " ('has', 'VERB'),\n",
       " ('been', 'VERB'),\n",
       " ('held', 'VERB'),\n",
       " ('in', 'ADP'),\n",
       " ('Europe.', 'VERB'),\n",
       " ('Show', 'NOUN'),\n",
       " ('me', 'PRON'),\n",
       " ('the', 'DET'),\n",
       " ('cheapest', 'ADJ'),\n",
       " ('round', 'NOUN'),\n",
       " ('trips', 'VERB'),\n",
       " ('from', 'ADP'),\n",
       " ('Dallas', 'NOUN'),\n",
       " ('to', 'PRT'),\n",
       " ('Atlanta', 'NOUN'),\n",
       " ('I', 'PRON'),\n",
       " ('would', 'VERB'),\n",
       " ('like', 'ADP'),\n",
       " ('to', 'PRT'),\n",
       " ('see', 'VERB'),\n",
       " ('flights', 'NOUN'),\n",
       " ('from', 'ADP'),\n",
       " ('Denver', 'NOUN'),\n",
       " ('to', 'PRT'),\n",
       " ('Philadelphia.', 'VERB'),\n",
       " ('Show', 'NOUN'),\n",
       " ('me', 'PRON'),\n",
       " ('the', 'DET'),\n",
       " ('price', 'NOUN'),\n",
       " ('of', 'ADP'),\n",
       " ('the', 'DET'),\n",
       " ('flights', 'NOUN'),\n",
       " ('leaving', 'VERB'),\n",
       " ('Atlanta', 'NOUN'),\n",
       " ('at', 'ADP'),\n",
       " ('about', 'ADP'),\n",
       " ('3', 'NUM'),\n",
       " ('in', 'ADP'),\n",
       " ('the', 'DET'),\n",
       " ('afternoon', 'NOUN'),\n",
       " ('and', 'CONJ'),\n",
       " ('arriving', 'VERB'),\n",
       " ('in', 'ADP'),\n",
       " ('San', 'NOUN'),\n",
       " ('Francisco.', 'VERB'),\n",
       " ('NASA', 'VERB'),\n",
       " ('invited', 'VERB'),\n",
       " ('social', 'ADJ'),\n",
       " ('media', 'NOUN'),\n",
       " ('users', 'NOUN'),\n",
       " ('to', 'PRT'),\n",
       " ('experience', 'NOUN'),\n",
       " ('the', 'DET'),\n",
       " ('launch', 'NOUN'),\n",
       " ('of', 'ADP'),\n",
       " ('ICESAT-2', 'VERB'),\n",
       " ('Satellite.', 'VERB')]"
      ]
     },
     "execution_count": 59,
     "metadata": {},
     "output_type": "execute_result"
    }
   ],
   "source": [
    "sample_tagged_seq"
   ]
  },
  {
   "cell_type": "code",
   "execution_count": 60,
   "metadata": {},
   "outputs": [
    {
     "name": "stdout",
     "output_type": "stream",
     "text": [
      "Time taken in seconds:  148.34133505821228\n"
     ]
    }
   ],
   "source": [
    "# tagging the test sentences\n",
    "start = time.time()\n",
    "sample_tagged_seq = ViterbiV3(sample_test_words)\n",
    "end = time.time()\n",
    "difference = end-start\n",
    "\n",
    "print(\"Time taken in seconds: \", difference)"
   ]
  },
  {
   "cell_type": "code",
   "execution_count": 61,
   "metadata": {},
   "outputs": [
    {
     "data": {
      "text/plain": [
       "[('Android', 'NOUN'),\n",
       " ('is', 'VERB'),\n",
       " ('a', 'DET'),\n",
       " ('mobile', 'ADJ'),\n",
       " ('operating', 'NOUN'),\n",
       " ('system', 'NOUN'),\n",
       " ('developed', 'VERB'),\n",
       " ('by', 'ADP'),\n",
       " ('Google.', 'NOUN'),\n",
       " ('Android', 'NOUN'),\n",
       " ('has', 'VERB'),\n",
       " ('been', 'VERB'),\n",
       " ('the', 'DET'),\n",
       " ('best-selling', 'ADJ'),\n",
       " ('OS', 'NOUN'),\n",
       " ('worldwide', 'NOUN'),\n",
       " ('on', 'ADP'),\n",
       " ('smartphones', 'VERB'),\n",
       " ('since', 'ADP'),\n",
       " ('2011', 'NUM'),\n",
       " ('and', 'CONJ'),\n",
       " ('on', 'ADP'),\n",
       " ('tablets', 'NOUN'),\n",
       " ('since', 'ADP'),\n",
       " ('2013.', 'NOUN'),\n",
       " ('Google', 'NOUN'),\n",
       " ('and', 'CONJ'),\n",
       " ('Twitter', 'NOUN'),\n",
       " ('made', 'VERB'),\n",
       " ('a', 'DET'),\n",
       " ('deal', 'NOUN'),\n",
       " ('in', 'ADP'),\n",
       " ('2015', 'NUM'),\n",
       " ('that', 'ADP'),\n",
       " ('gave', 'VERB'),\n",
       " ('Google', 'NOUN'),\n",
       " ('access', 'NOUN'),\n",
       " ('to', 'PRT'),\n",
       " (\"Twitter's\", 'NOUN'),\n",
       " ('firehose.', 'NOUN'),\n",
       " ('Twitter', 'NOUN'),\n",
       " ('is', 'VERB'),\n",
       " ('an', 'DET'),\n",
       " ('online', 'NOUN'),\n",
       " ('news', 'NOUN'),\n",
       " ('and', 'CONJ'),\n",
       " ('social', 'ADJ'),\n",
       " ('networking', 'NOUN'),\n",
       " ('service', 'NOUN'),\n",
       " ('on', 'ADP'),\n",
       " ('which', 'DET'),\n",
       " ('users', 'NOUN'),\n",
       " ('post', 'NOUN'),\n",
       " ('and', 'CONJ'),\n",
       " ('interact', 'NOUN'),\n",
       " ('with', 'ADP'),\n",
       " ('messages', 'VERB'),\n",
       " ('known', 'VERB'),\n",
       " ('as', 'ADP'),\n",
       " ('tweets.', 'NOUN'),\n",
       " ('Before', 'ADP'),\n",
       " ('entering', 'VERB'),\n",
       " ('politics,', 'NOUN'),\n",
       " ('Donald', 'NOUN'),\n",
       " ('Trump', 'NOUN'),\n",
       " ('was', 'VERB'),\n",
       " ('a', 'DET'),\n",
       " ('domineering', 'VERB'),\n",
       " ('businessman', 'NOUN'),\n",
       " ('and', 'CONJ'),\n",
       " ('a', 'DET'),\n",
       " ('television', 'NOUN'),\n",
       " ('personality.', 'NOUN'),\n",
       " ('The', 'DET'),\n",
       " ('2018', 'NUM'),\n",
       " ('FIFA', 'NOUN'),\n",
       " ('World', 'NOUN'),\n",
       " ('Cup', 'NOUN'),\n",
       " ('is', 'VERB'),\n",
       " ('the', 'DET'),\n",
       " ('21st', 'NOUN'),\n",
       " ('FIFA', 'NOUN'),\n",
       " ('World', 'NOUN'),\n",
       " ('Cup,', 'NOUN'),\n",
       " ('an', 'DET'),\n",
       " ('international', 'ADJ'),\n",
       " ('football', 'NOUN'),\n",
       " ('tournament', 'NOUN'),\n",
       " ('contested', 'VERB'),\n",
       " ('once', 'ADV'),\n",
       " ('every', 'DET'),\n",
       " ('four', 'NUM'),\n",
       " ('years.', 'NOUN'),\n",
       " ('This', 'DET'),\n",
       " ('is', 'VERB'),\n",
       " ('the', 'DET'),\n",
       " ('first', 'ADJ'),\n",
       " ('World', 'NOUN'),\n",
       " ('Cup', 'NOUN'),\n",
       " ('to', 'PRT'),\n",
       " ('be', 'VERB'),\n",
       " ('held', 'VERB'),\n",
       " ('in', 'ADP'),\n",
       " ('Eastern', 'NOUN'),\n",
       " ('Europe', 'NOUN'),\n",
       " ('and', 'CONJ'),\n",
       " ('the', 'DET'),\n",
       " ('11th', 'ADJ'),\n",
       " ('time', 'NOUN'),\n",
       " ('that', 'ADP'),\n",
       " ('it', 'PRON'),\n",
       " ('has', 'VERB'),\n",
       " ('been', 'VERB'),\n",
       " ('held', 'VERB'),\n",
       " ('in', 'ADP'),\n",
       " ('Europe.', 'NOUN'),\n",
       " ('Show', 'NOUN'),\n",
       " ('me', 'PRON'),\n",
       " ('the', 'DET'),\n",
       " ('cheapest', 'ADJ'),\n",
       " ('round', 'NOUN'),\n",
       " ('trips', 'NOUN'),\n",
       " ('from', 'ADP'),\n",
       " ('Dallas', 'NOUN'),\n",
       " ('to', 'PRT'),\n",
       " ('Atlanta', 'NOUN'),\n",
       " ('I', 'PRON'),\n",
       " ('would', 'VERB'),\n",
       " ('like', 'ADP'),\n",
       " ('to', 'PRT'),\n",
       " ('see', 'VERB'),\n",
       " ('flights', 'NOUN'),\n",
       " ('from', 'ADP'),\n",
       " ('Denver', 'NOUN'),\n",
       " ('to', 'PRT'),\n",
       " ('Philadelphia.', 'NOUN'),\n",
       " ('Show', 'NOUN'),\n",
       " ('me', 'PRON'),\n",
       " ('the', 'DET'),\n",
       " ('price', 'NOUN'),\n",
       " ('of', 'ADP'),\n",
       " ('the', 'DET'),\n",
       " ('flights', 'NOUN'),\n",
       " ('leaving', 'VERB'),\n",
       " ('Atlanta', 'NOUN'),\n",
       " ('at', 'ADP'),\n",
       " ('about', 'ADP'),\n",
       " ('3', 'NUM'),\n",
       " ('in', 'ADP'),\n",
       " ('the', 'DET'),\n",
       " ('afternoon', 'NOUN'),\n",
       " ('and', 'CONJ'),\n",
       " ('arriving', 'VERB'),\n",
       " ('in', 'ADP'),\n",
       " ('San', 'NOUN'),\n",
       " ('Francisco.', 'NOUN'),\n",
       " ('NASA', 'NOUN'),\n",
       " ('invited', 'VERB'),\n",
       " ('social', 'ADJ'),\n",
       " ('media', 'NOUN'),\n",
       " ('users', 'NOUN'),\n",
       " ('to', 'PRT'),\n",
       " ('experience', 'NOUN'),\n",
       " ('the', 'DET'),\n",
       " ('launch', 'NOUN'),\n",
       " ('of', 'ADP'),\n",
       " ('ICESAT-2', 'NOUN'),\n",
       " ('Satellite.', 'NOUN')]"
      ]
     },
     "execution_count": 61,
     "metadata": {},
     "output_type": "execute_result"
    }
   ],
   "source": [
    "sample_tagged_seq\n"
   ]
  },
  {
   "cell_type": "code",
   "execution_count": 62,
   "metadata": {
    "collapsed": true
   },
   "outputs": [],
   "source": [
    "## Testing\n",
    "sentence_test = 'Twitter is the best networking social site. Man is a social animal. Data science is an emerging field. Data science jobs are high in demand.'\n",
    "words = word_tokenize(sentence_test)\n",
    "\n",
    "start = time.time()\n",
    "tagged_seq = Viterbi(words)\n",
    "end = time.time()\n",
    "difference = end-start"
   ]
  },
  {
   "cell_type": "code",
   "execution_count": 63,
   "metadata": {},
   "outputs": [
    {
     "name": "stdout",
     "output_type": "stream",
     "text": [
      "[('Twitter', 'VERB'), ('is', 'VERB'), ('the', 'DET'), ('best', 'ADJ'), ('networking', 'NOUN'), ('social', 'ADJ'), ('site', 'VERB'), ('.', '.'), ('Man', 'NOUN'), ('is', 'VERB'), ('a', 'DET'), ('social', 'ADJ'), ('animal', 'VERB'), ('.', '.'), ('Data', 'NOUN'), ('science', 'NOUN'), ('is', 'VERB'), ('an', 'DET'), ('emerging', 'VERB'), ('field', 'NOUN'), ('.', '.'), ('Data', 'NOUN'), ('science', 'NOUN'), ('jobs', 'NOUN'), ('are', 'VERB'), ('high', 'ADJ'), ('in', 'ADP'), ('demand', 'NOUN'), ('.', '.')]\n",
      "16.62952494621277\n"
     ]
    }
   ],
   "source": [
    "print(tagged_seq)\n",
    "print(difference)"
   ]
  },
  {
   "cell_type": "code",
   "execution_count": 64,
   "metadata": {
    "collapsed": true
   },
   "outputs": [],
   "source": [
    "## Testing\n",
    "sentence_test = 'Twitter is the best networking social site. Man is a social animal. Data science is an emerging field. Data science jobs are high in demand.'\n",
    "words = word_tokenize(sentence_test)\n",
    "\n",
    "start = time.time()\n",
    "tagged_seq = ViterbiV3(words)\n",
    "end = time.time()\n",
    "difference = end-start"
   ]
  },
  {
   "cell_type": "code",
   "execution_count": 65,
   "metadata": {},
   "outputs": [
    {
     "name": "stdout",
     "output_type": "stream",
     "text": [
      "[('Twitter', 'NOUN'), ('is', 'VERB'), ('the', 'DET'), ('best', 'ADJ'), ('networking', 'NOUN'), ('social', 'ADJ'), ('site', 'NOUN'), ('.', '.'), ('Man', 'NOUN'), ('is', 'VERB'), ('a', 'DET'), ('social', 'ADJ'), ('animal', 'NOUN'), ('.', '.'), ('Data', 'NOUN'), ('science', 'NOUN'), ('is', 'VERB'), ('an', 'DET'), ('emerging', 'VERB'), ('field', 'NOUN'), ('.', '.'), ('Data', 'NOUN'), ('science', 'NOUN'), ('jobs', 'NOUN'), ('are', 'VERB'), ('high', 'ADJ'), ('in', 'ADP'), ('demand', 'NOUN'), ('.', '.')]\n",
      "15.437719106674194\n"
     ]
    }
   ],
   "source": [
    "print(tagged_seq)\n",
    "print(difference)"
   ]
  },
  {
   "cell_type": "markdown",
   "metadata": {
    "collapsed": true
   },
   "source": [
    "## ViterbiV3 is able to tag the words from the given sentance correctly for the following words:\n",
    "### Android as NOUN\n",
    "### Google as NOUN\n",
    "### Operating as NOUN\n",
    "### System as NOUN\n",
    "### Twitter as NOUN"
   ]
  },
  {
   "cell_type": "markdown",
   "metadata": {},
   "source": [
    "## Accuracy of vanilla Viterbi algorithm is around 92%\n",
    "## Accuracy of modified Viterbi algorithm is around 96%\n",
    "### This can clearly shows that the modified Viterbi algorithm with morphological clues and Redefining transition/emission probabilities techniques are better in performance of tagging the words correctly"
   ]
  },
  {
   "cell_type": "markdown",
   "metadata": {},
   "source": [
    "### End of assignment"
   ]
  }
 ],
 "metadata": {
  "kernelspec": {
   "display_name": "Python 3",
   "language": "python",
   "name": "python3"
  },
  "language_info": {
   "codemirror_mode": {
    "name": "ipython",
    "version": 3
   },
   "file_extension": ".py",
   "mimetype": "text/x-python",
   "name": "python",
   "nbconvert_exporter": "python",
   "pygments_lexer": "ipython3",
   "version": "3.7.1"
  }
 },
 "nbformat": 4,
 "nbformat_minor": 2
}
