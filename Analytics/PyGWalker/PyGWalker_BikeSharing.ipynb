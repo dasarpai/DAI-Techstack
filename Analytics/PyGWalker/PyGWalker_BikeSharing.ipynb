{
  "cells": [
    {
      "cell_type": "markdown",
      "metadata": {
        "id": "05nOGSdOJBWP"
      },
      "source": [
        "<!-- <p align=\"center\"><a href=\"#\"><img width=60% alt=\"\" src=\"https://docs-us.oss-us-west-1.aliyuncs.com/img/pygwalker/screenshot-top-img.png\"></a></p> -->\n",
        "<p align=\"center\"><a href=\"https://github.com/Kanaries/pygwalker\"><img width=100% alt=\"\" src=\"https://docs-us.oss-us-west-1.aliyuncs.com/img/pygwalker/frontpage-rendered.png\"></a></p>\n",
        "<h2 align=\"center\">PyGWalker: A Python Library for Exploratory Data Analysis with Visualization</h2>\n",
        "\n",
        "<p align=\"center\">\n",
        "    <a href=\"https://badge.fury.io/py/pygwalker\">\n",
        "        <img src=\"https://badge.fury.io/py/pygwalker.svg\" alt=\"PyPI version\" height=\"18\" align=\"center\">\n",
        "    </a>\n",
        "    <a href=\"https://mybinder.org/v2/gh/Kanaries/pygwalker/main\">\n",
        "      <img src=\"https://mybinder.org/badge_logo.svg\" alt=\"binder\" height=\"18\" align=\"center\">\n",
        "    </a>\n",
        "    <a href=\"https://discord.gg/Z4ngFWXz2U\">\n",
        "      <img alt=\"discord invitation link\" src=\"https://dcbadge.vercel.app/api/server/Z4ngFWXz2U?style=flat\" align=\"center\">\n",
        "    </a>\n",
        "    <a href='https://twitter.com/intent/follow?original_referer=https%3A%2F%2Fpublish.twitter.com%2F&ref_src=twsrc%5Etfw&screen_name=kanaries_data&tw_p=followbutton'>\n",
        "        <img alt=\"Twitter Follow\" src=\"https://img.shields.io/twitter/follow/kanaries_data?style=social\" alt='Twitter' align=\"center\"/>\n",
        "    </a>\n",
        "</p>\n",
        "\n",
        "[**PyGWalker**](https://github.com/Kanaries/pygwalker) can simplify your Jupyter Notebook data analysis and data visualization workflow. By turning your pandas dataframe into a Tableau-style User Interface for visual exploration.\n",
        "\n",
        "**PyGWalker** (pronounced like \"Pig Walker\", just for fun) is named as an abbreviation of \"**Py**thon binding of **G**raphic **Walker**\". It intergrates Jupyter Notebook (or other jupyter-based notebooks) with [Graphic Walker](https://github.com/Kanaries/graphic-walker), a different type of open-source alternative to Tableau. It allows data scientists to analyze data and visualize patterns with simple drag-and-drop operations.\n",
        "     \n",
        "Visit [Google Colab](https://colab.research.google.com/drive/171QUQeq-uTLgSj1u-P9DQig7Md1kpXQ2?usp=sharing), [Kaggle Code](https://www.kaggle.com/asmdef/pygwalker-test), [![Binder](https://mybinder.org/badge_logo.svg)](https://mybinder.org/v2/gh/Kanaries/pygwalker/main?labpath=tests%2Fmain.ipynb) or [Graphic Walker Online Demo](https://graphic-walker.kanaries.net/) to test it out!\n",
        "\n",
        "> PyGWalker will add more support such as R in the future.\n",
        "\n",
        "# Getting Started\n",
        "\n",
        "## Setup pygwalker\n",
        "\n",
        "Before using pygwalker, make sure to install the packages through the command line using pip.\n"
      ]
    },
    {
      "cell_type": "code",
      "execution_count": null,
      "metadata": {
        "colab": {
          "base_uri": "https://localhost:8080/"
        },
        "id": "JaGL5uRH5E6v",
        "outputId": "be6510f4-a1d5-4efb-fa2f-8a5fa23bedaf"
      },
      "outputs": [
        {
          "name": "stdout",
          "output_type": "stream",
          "text": [
            "\u001b[2K     \u001b[90m━━━━━━━━━━━━━━━━━━━━━━━━━━━━━━━━━━━━━━━\u001b[0m \u001b[32m524.7/524.7 kB\u001b[0m \u001b[31m7.6 MB/s\u001b[0m eta \u001b[36m0:00:00\u001b[0m\n",
            "\u001b[2K     \u001b[90m━━━━━━━━━━━━━━━━━━━━━━━━━━━━━━━━━━━━━━━━\u001b[0m \u001b[32m1.0/1.0 MB\u001b[0m \u001b[31m12.7 MB/s\u001b[0m eta \u001b[36m0:00:00\u001b[0m\n",
            "\u001b[2K     \u001b[90m━━━━━━━━━━━━━━━━━━━━━━━━━━━━━━━━━━━━━━━\u001b[0m \u001b[32m158.8/158.8 kB\u001b[0m \u001b[31m8.5 MB/s\u001b[0m eta \u001b[36m0:00:00\u001b[0m\n",
            "\u001b[2K     \u001b[90m━━━━━━━━━━━━━━━━━━━━━━━━━━━━━━━━━━━━━━\u001b[0m \u001b[32m269.3/269.3 kB\u001b[0m \u001b[31m12.4 MB/s\u001b[0m eta \u001b[36m0:00:00\u001b[0m\n",
            "\u001b[2K     \u001b[90m━━━━━━━━━━━━━━━━━━━━━━━━━━━━━━━━━━━━━\u001b[0m \u001b[32m114.2/114.2 kB\u001b[0m \u001b[31m820.7 kB/s\u001b[0m eta \u001b[36m0:00:00\u001b[0m\n",
            "\u001b[2K     \u001b[90m━━━━━━━━━━━━━━━━━━━━━━━━━━━━━━━━━━━━━━━━\u001b[0m \u001b[32m1.6/1.6 MB\u001b[0m \u001b[31m13.6 MB/s\u001b[0m eta \u001b[36m0:00:00\u001b[0m\n",
            "\u001b[?25h"
          ]
        }
      ],
      "source": [
        "!pip install pygwalker -q"
      ]
    },
    {
      "cell_type": "markdown",
      "metadata": {
        "id": "SseJhK25Jr-V"
      },
      "source": [
        "## Use pygwalker in Jupyter Notebook\n",
        "\n",
        "Import pygwalker and pandas to your Jupyter Notebook to get started.\n"
      ]
    },
    {
      "cell_type": "code",
      "execution_count": null,
      "metadata": {},
      "outputs": [],
      "source": []
    },
    {
      "cell_type": "code",
      "execution_count": 2,
      "metadata": {
        "id": "uOr2xG-z5Ikz"
      },
      "outputs": [],
      "source": [
        "import pygwalker as pyg\n",
        "import pandas as pd"
      ]
    },
    {
      "cell_type": "markdown",
      "metadata": {
        "id": "XR7X4ZlwJ5Ea"
      },
      "source": [
        "You can use pygwalker without changing your existing workflow. For example, you can call up Graphic Walker with the dataframe loaded in this way:\n"
      ]
    },
    {
      "cell_type": "code",
      "execution_count": null,
      "metadata": {},
      "outputs": [],
      "source": [
        "!pip install kaggle"
      ]
    },
    {
      "cell_type": "code",
      "execution_count": 3,
      "metadata": {
        "colab": {
          "base_uri": "https://localhost:8080/",
          "height": 540
        },
        "id": "3wCYtYAs5uCa",
        "outputId": "9d6f0177-30aa-4621-e3a3-41e6baff1ec7"
      },
      "outputs": [
        {
          "data": {
            "text/html": [
              "<div>\n",
              "<style scoped>\n",
              "    .dataframe tbody tr th:only-of-type {\n",
              "        vertical-align: middle;\n",
              "    }\n",
              "\n",
              "    .dataframe tbody tr th {\n",
              "        vertical-align: top;\n",
              "    }\n",
              "\n",
              "    .dataframe thead th {\n",
              "        text-align: right;\n",
              "    }\n",
              "</style>\n",
              "<table border=\"1\" class=\"dataframe\">\n",
              "  <thead>\n",
              "    <tr style=\"text-align: right;\">\n",
              "      <th></th>\n",
              "      <th>date</th>\n",
              "      <th>month</th>\n",
              "      <th>season</th>\n",
              "      <th>hour</th>\n",
              "      <th>year</th>\n",
              "      <th>holiday</th>\n",
              "      <th>temperature</th>\n",
              "      <th>feeling_temp</th>\n",
              "      <th>humidity</th>\n",
              "      <th>winspeed</th>\n",
              "      <th>casual</th>\n",
              "      <th>registered</th>\n",
              "      <th>count</th>\n",
              "      <th>work yes or not</th>\n",
              "      <th>am or pm</th>\n",
              "      <th>Day of the week</th>\n",
              "    </tr>\n",
              "  </thead>\n",
              "  <tbody>\n",
              "    <tr>\n",
              "      <th>0</th>\n",
              "      <td>2011-01-01</td>\n",
              "      <td>1</td>\n",
              "      <td>winter</td>\n",
              "      <td>0</td>\n",
              "      <td>2011</td>\n",
              "      <td>no</td>\n",
              "      <td>3.28</td>\n",
              "      <td>3.0014</td>\n",
              "      <td>81.0</td>\n",
              "      <td>0.0000</td>\n",
              "      <td>3</td>\n",
              "      <td>13</td>\n",
              "      <td>16</td>\n",
              "      <td>0</td>\n",
              "      <td>am</td>\n",
              "      <td>6</td>\n",
              "    </tr>\n",
              "    <tr>\n",
              "      <th>1</th>\n",
              "      <td>2011-01-01</td>\n",
              "      <td>1</td>\n",
              "      <td>winter</td>\n",
              "      <td>1</td>\n",
              "      <td>2011</td>\n",
              "      <td>no</td>\n",
              "      <td>2.34</td>\n",
              "      <td>1.9982</td>\n",
              "      <td>80.0</td>\n",
              "      <td>0.0000</td>\n",
              "      <td>8</td>\n",
              "      <td>32</td>\n",
              "      <td>40</td>\n",
              "      <td>0</td>\n",
              "      <td>am</td>\n",
              "      <td>6</td>\n",
              "    </tr>\n",
              "    <tr>\n",
              "      <th>2</th>\n",
              "      <td>2011-01-01</td>\n",
              "      <td>1</td>\n",
              "      <td>winter</td>\n",
              "      <td>2</td>\n",
              "      <td>2011</td>\n",
              "      <td>no</td>\n",
              "      <td>2.34</td>\n",
              "      <td>1.9982</td>\n",
              "      <td>80.0</td>\n",
              "      <td>0.0000</td>\n",
              "      <td>5</td>\n",
              "      <td>27</td>\n",
              "      <td>32</td>\n",
              "      <td>0</td>\n",
              "      <td>am</td>\n",
              "      <td>6</td>\n",
              "    </tr>\n",
              "    <tr>\n",
              "      <th>3</th>\n",
              "      <td>2011-01-01</td>\n",
              "      <td>1</td>\n",
              "      <td>winter</td>\n",
              "      <td>3</td>\n",
              "      <td>2011</td>\n",
              "      <td>no</td>\n",
              "      <td>3.28</td>\n",
              "      <td>3.0014</td>\n",
              "      <td>75.0</td>\n",
              "      <td>0.0000</td>\n",
              "      <td>3</td>\n",
              "      <td>10</td>\n",
              "      <td>13</td>\n",
              "      <td>0</td>\n",
              "      <td>am</td>\n",
              "      <td>6</td>\n",
              "    </tr>\n",
              "    <tr>\n",
              "      <th>4</th>\n",
              "      <td>2011-01-01</td>\n",
              "      <td>1</td>\n",
              "      <td>winter</td>\n",
              "      <td>4</td>\n",
              "      <td>2011</td>\n",
              "      <td>no</td>\n",
              "      <td>3.28</td>\n",
              "      <td>3.0014</td>\n",
              "      <td>75.0</td>\n",
              "      <td>0.0000</td>\n",
              "      <td>0</td>\n",
              "      <td>1</td>\n",
              "      <td>1</td>\n",
              "      <td>0</td>\n",
              "      <td>am</td>\n",
              "      <td>6</td>\n",
              "    </tr>\n",
              "    <tr>\n",
              "      <th>...</th>\n",
              "      <td>...</td>\n",
              "      <td>...</td>\n",
              "      <td>...</td>\n",
              "      <td>...</td>\n",
              "      <td>...</td>\n",
              "      <td>...</td>\n",
              "      <td>...</td>\n",
              "      <td>...</td>\n",
              "      <td>...</td>\n",
              "      <td>...</td>\n",
              "      <td>...</td>\n",
              "      <td>...</td>\n",
              "      <td>...</td>\n",
              "      <td>...</td>\n",
              "      <td>...</td>\n",
              "      <td>...</td>\n",
              "    </tr>\n",
              "    <tr>\n",
              "      <th>17374</th>\n",
              "      <td>2012-12-31</td>\n",
              "      <td>12</td>\n",
              "      <td>winter</td>\n",
              "      <td>19</td>\n",
              "      <td>2012</td>\n",
              "      <td>no</td>\n",
              "      <td>4.22</td>\n",
              "      <td>1.0016</td>\n",
              "      <td>60.0</td>\n",
              "      <td>11.0014</td>\n",
              "      <td>11</td>\n",
              "      <td>108</td>\n",
              "      <td>119</td>\n",
              "      <td>1</td>\n",
              "      <td>pm</td>\n",
              "      <td>1</td>\n",
              "    </tr>\n",
              "    <tr>\n",
              "      <th>17375</th>\n",
              "      <td>2012-12-31</td>\n",
              "      <td>12</td>\n",
              "      <td>winter</td>\n",
              "      <td>20</td>\n",
              "      <td>2012</td>\n",
              "      <td>no</td>\n",
              "      <td>4.22</td>\n",
              "      <td>1.0016</td>\n",
              "      <td>60.0</td>\n",
              "      <td>11.0014</td>\n",
              "      <td>8</td>\n",
              "      <td>81</td>\n",
              "      <td>89</td>\n",
              "      <td>1</td>\n",
              "      <td>pm</td>\n",
              "      <td>1</td>\n",
              "    </tr>\n",
              "    <tr>\n",
              "      <th>17376</th>\n",
              "      <td>2012-12-31</td>\n",
              "      <td>12</td>\n",
              "      <td>winter</td>\n",
              "      <td>21</td>\n",
              "      <td>2012</td>\n",
              "      <td>no</td>\n",
              "      <td>4.22</td>\n",
              "      <td>1.0016</td>\n",
              "      <td>60.0</td>\n",
              "      <td>11.0014</td>\n",
              "      <td>7</td>\n",
              "      <td>83</td>\n",
              "      <td>90</td>\n",
              "      <td>1</td>\n",
              "      <td>pm</td>\n",
              "      <td>1</td>\n",
              "    </tr>\n",
              "    <tr>\n",
              "      <th>17377</th>\n",
              "      <td>2012-12-31</td>\n",
              "      <td>12</td>\n",
              "      <td>winter</td>\n",
              "      <td>22</td>\n",
              "      <td>2012</td>\n",
              "      <td>no</td>\n",
              "      <td>4.22</td>\n",
              "      <td>1.9982</td>\n",
              "      <td>56.0</td>\n",
              "      <td>8.9981</td>\n",
              "      <td>13</td>\n",
              "      <td>48</td>\n",
              "      <td>61</td>\n",
              "      <td>1</td>\n",
              "      <td>pm</td>\n",
              "      <td>1</td>\n",
              "    </tr>\n",
              "    <tr>\n",
              "      <th>17378</th>\n",
              "      <td>2012-12-31</td>\n",
              "      <td>12</td>\n",
              "      <td>winter</td>\n",
              "      <td>23</td>\n",
              "      <td>2012</td>\n",
              "      <td>no</td>\n",
              "      <td>4.22</td>\n",
              "      <td>1.9982</td>\n",
              "      <td>65.0</td>\n",
              "      <td>8.9981</td>\n",
              "      <td>12</td>\n",
              "      <td>37</td>\n",
              "      <td>49</td>\n",
              "      <td>1</td>\n",
              "      <td>pm</td>\n",
              "      <td>1</td>\n",
              "    </tr>\n",
              "  </tbody>\n",
              "</table>\n",
              "<p>17379 rows × 16 columns</p>\n",
              "</div>"
            ],
            "text/plain": [
              "            date  month  season  hour  year holiday  temperature  \\\n",
              "0     2011-01-01      1  winter     0  2011      no         3.28   \n",
              "1     2011-01-01      1  winter     1  2011      no         2.34   \n",
              "2     2011-01-01      1  winter     2  2011      no         2.34   \n",
              "3     2011-01-01      1  winter     3  2011      no         3.28   \n",
              "4     2011-01-01      1  winter     4  2011      no         3.28   \n",
              "...          ...    ...     ...   ...   ...     ...          ...   \n",
              "17374 2012-12-31     12  winter    19  2012      no         4.22   \n",
              "17375 2012-12-31     12  winter    20  2012      no         4.22   \n",
              "17376 2012-12-31     12  winter    21  2012      no         4.22   \n",
              "17377 2012-12-31     12  winter    22  2012      no         4.22   \n",
              "17378 2012-12-31     12  winter    23  2012      no         4.22   \n",
              "\n",
              "       feeling_temp  humidity  winspeed  casual  registered  count  \\\n",
              "0            3.0014      81.0    0.0000       3          13     16   \n",
              "1            1.9982      80.0    0.0000       8          32     40   \n",
              "2            1.9982      80.0    0.0000       5          27     32   \n",
              "3            3.0014      75.0    0.0000       3          10     13   \n",
              "4            3.0014      75.0    0.0000       0           1      1   \n",
              "...             ...       ...       ...     ...         ...    ...   \n",
              "17374        1.0016      60.0   11.0014      11         108    119   \n",
              "17375        1.0016      60.0   11.0014       8          81     89   \n",
              "17376        1.0016      60.0   11.0014       7          83     90   \n",
              "17377        1.9982      56.0    8.9981      13          48     61   \n",
              "17378        1.9982      65.0    8.9981      12          37     49   \n",
              "\n",
              "       work yes or not am or pm  Day of the week  \n",
              "0                    0       am                6  \n",
              "1                    0       am                6  \n",
              "2                    0       am                6  \n",
              "3                    0       am                6  \n",
              "4                    0       am                6  \n",
              "...                ...      ...              ...  \n",
              "17374                1       pm                1  \n",
              "17375                1       pm                1  \n",
              "17376                1       pm                1  \n",
              "17377                1       pm                1  \n",
              "17378                1       pm                1  \n",
              "\n",
              "[17379 rows x 16 columns]"
            ]
          },
          "execution_count": 3,
          "metadata": {},
          "output_type": "execute_result"
        }
      ],
      "source": [
        "df = pd.read_csv(\"https://kanaries-app.s3.ap-northeast-1.amazonaws.com/public-datasets/bike_sharing_dc.csv\", parse_dates=['date'])\n",
        "df"
      ]
    },
    {
      "cell_type": "markdown",
      "metadata": {
        "id": "Hr0n9qCnKFAE"
      },
      "source": [
        "\n",
        "And then just walk around!"
      ]
    },
    {
      "cell_type": "code",
      "execution_count": 15,
      "metadata": {},
      "outputs": [
        {
          "name": "stdout",
          "output_type": "stream",
          "text": [
            "Please visit \u001b[32mhttps://kanaries.net/home/cli?redirect_url=http%3A//localhost%3A54058\u001b[0m to log in.\n",
            "Waiting for authorization...\n",
            "\u001b[32mAuthorization success and kanaries token is configured!\u001b[0m\n",
            "user: \u001b[4muser_d457jd8638\u001b[0m\n",
            "workspace: \u001b[4muser_d457jd8638\u001b[0m\n"
          ]
        }
      ],
      "source": [
        "!pygwalker login"
      ]
    },
    {
      "cell_type": "code",
      "execution_count": 27,
      "metadata": {},
      "outputs": [],
      "source": [
        "from dotenv import load_dotenv\n",
        "import os\n",
        "\n",
        "# Load environment variables from .env file\n",
        "load_dotenv('envvar.config')\n",
        "\n",
        "# Access the API key\n",
        "api_key = os.getenv(\"KANARIES_API_KEY\")\n",
        "os.environ['KANARIES_API_KEY'] =api_key\n",
        "#api_key\n"
      ]
    },
    {
      "cell_type": "code",
      "execution_count": null,
      "metadata": {},
      "outputs": [],
      "source": [
        "#!pip show pygwalker"
      ]
    },
    {
      "cell_type": "code",
      "execution_count": 4,
      "metadata": {
        "colab": {
          "base_uri": "https://localhost:8080/",
          "height": 896
        },
        "id": "ekz73mYy5u7x",
        "outputId": "e7e73d26-2d85-4612-b73c-2433c90f11ac"
      },
      "outputs": [
        {
          "data": {
            "application/vnd.jupyter.widget-view+json": {
              "model_id": "22f49f0f45024886953c08f5e461a2c8",
              "version_major": 2,
              "version_minor": 0
            },
            "text/plain": [
              "Box(children=(HTML(value='\\n<div id=\"ifr-pyg-0006228dc182a5d3Z2WGfLU3D1biPBTx\" style=\"height: auto\">\\n    <hea…"
            ]
          },
          "metadata": {},
          "output_type": "display_data"
        },
        {
          "data": {
            "text/html": [
              "<script>\n",
              "    window.addEventListener(\"message\", function(event) {\n",
              "        const backgroundMap = {\n",
              "            \"dark\": \"hsl(240 10% 3.9%)\",\n",
              "            \"light\": \"hsl(0 0 100%)\",\n",
              "        };\n",
              "        const colorMap = {\n",
              "            \"dark\": \"hsl(0 0% 98%)\",\n",
              "            \"light\": \"hsl(240 10% 3.9%)\",\n",
              "        };\n",
              "        if (event.data.action === \"changeAppearance\" && event.data.gid === \"0006228dc182a5d3Z2WGfLU3D1biPBTx\") {\n",
              "            var iframe = document.getElementById(\"gwalker-0006228dc182a5d3Z2WGfLU3D1biPBTx\");\n",
              "            iframe.style.background  = backgroundMap[event.data.appearance];\n",
              "            iframe.style.color = colorMap[event.data.appearance];\n",
              "        }\n",
              "    });\n",
              "</script>"
            ],
            "text/plain": [
              "<IPython.core.display.HTML object>"
            ]
          },
          "metadata": {},
          "output_type": "display_data"
        },
        {
          "data": {
            "text/html": [],
            "text/plain": [
              "<IPython.core.display.HTML object>"
            ]
          },
          "metadata": {},
          "output_type": "display_data"
        },
        {
          "data": {
            "text/plain": [
              "<pygwalker.api.pygwalker.PygWalker at 0x251c7c9be30>"
            ]
          },
          "execution_count": 4,
          "metadata": {},
          "output_type": "execute_result"
        }
      ],
      "source": [
        "pyg.walk(df)"
      ]
    },
    {
      "cell_type": "code",
      "execution_count": 34,
      "metadata": {},
      "outputs": [
        {
          "name": "stdout",
          "output_type": "stream",
          "text": [
            "\n",
            "SUCCESS: Specified value was saved.\n"
          ]
        }
      ],
      "source": [
        "# !setx KANARIES_API_KEY ak-332a56c98fd81f1a143c3510c2163f239929725dbdb50bb7ad163e39066ee466"
      ]
    },
    {
      "cell_type": "code",
      "execution_count": 5,
      "metadata": {},
      "outputs": [
        {
          "data": {
            "application/vnd.jupyter.widget-view+json": {
              "model_id": "26235e4b1e284b95a03b6e73a9d470c4",
              "version_major": 2,
              "version_minor": 0
            },
            "text/plain": [
              "Box(children=(HTML(value='\\n<div id=\"ifr-pyg-0006228dc2ff3640iBcNs3MYyneX2Fo6\" style=\"height: auto\">\\n    <hea…"
            ]
          },
          "metadata": {},
          "output_type": "display_data"
        },
        {
          "data": {
            "text/html": [
              "<script>\n",
              "    window.addEventListener(\"message\", function(event) {\n",
              "        const backgroundMap = {\n",
              "            \"dark\": \"hsl(240 10% 3.9%)\",\n",
              "            \"light\": \"hsl(0 0 100%)\",\n",
              "        };\n",
              "        const colorMap = {\n",
              "            \"dark\": \"hsl(0 0% 98%)\",\n",
              "            \"light\": \"hsl(240 10% 3.9%)\",\n",
              "        };\n",
              "        if (event.data.action === \"changeAppearance\" && event.data.gid === \"0006228dc2ff3640iBcNs3MYyneX2Fo6\") {\n",
              "            var iframe = document.getElementById(\"gwalker-0006228dc2ff3640iBcNs3MYyneX2Fo6\");\n",
              "            iframe.style.background  = backgroundMap[event.data.appearance];\n",
              "            iframe.style.color = colorMap[event.data.appearance];\n",
              "        }\n",
              "    });\n",
              "</script>"
            ],
            "text/plain": [
              "<IPython.core.display.HTML object>"
            ]
          },
          "metadata": {},
          "output_type": "display_data"
        },
        {
          "data": {
            "text/html": [],
            "text/plain": [
              "<IPython.core.display.HTML object>"
            ]
          },
          "metadata": {},
          "output_type": "display_data"
        },
        {
          "data": {
            "text/plain": [
              "<pygwalker.api.pygwalker.PygWalker at 0x251c7c9a150>"
            ]
          },
          "execution_count": 5,
          "metadata": {},
          "output_type": "execute_result"
        }
      ],
      "source": [
        "pyg.walk(df, spec='./specs/specs1.json')"
      ]
    }
  ],
  "metadata": {
    "colab": {
      "provenance": []
    },
    "kernelspec": {
      "display_name": "Python 3",
      "name": "python3"
    },
    "language_info": {
      "codemirror_mode": {
        "name": "ipython",
        "version": 3
      },
      "file_extension": ".py",
      "mimetype": "text/x-python",
      "name": "python",
      "nbconvert_exporter": "python",
      "pygments_lexer": "ipython3",
      "version": "3.12.4"
    }
  },
  "nbformat": 4,
  "nbformat_minor": 0
}
