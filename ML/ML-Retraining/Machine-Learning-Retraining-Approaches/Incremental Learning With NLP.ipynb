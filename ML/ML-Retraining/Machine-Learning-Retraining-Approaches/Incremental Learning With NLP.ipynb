{
 "cells": [
  {
   "cell_type": "markdown",
   "metadata": {},
   "source": [
    "#### Incremental Learning- Model Retraining Approach"
   ]
  },
  {
   "cell_type": "code",
   "execution_count": 1,
   "metadata": {},
   "outputs": [],
   "source": [
    "import pandas as pd\n",
    "\n",
    "messages = pd.read_csv('data/spamSMS', sep='\\t',\n",
    "                           names=[\"label\", \"message\"])"
   ]
  },
  {
   "cell_type": "code",
   "execution_count": 2,
   "metadata": {},
   "outputs": [
    {
     "data": {
      "text/plain": [
       "(5572, 2)"
      ]
     },
     "execution_count": 2,
     "metadata": {},
     "output_type": "execute_result"
    }
   ],
   "source": [
    "messages.shape"
   ]
  },
  {
   "cell_type": "code",
   "execution_count": 3,
   "metadata": {},
   "outputs": [],
   "source": [
    "from sklearn.model_selection import train_test_split\n",
    "message_train,message_test=train_test_split(messages)"
   ]
  },
  {
   "cell_type": "code",
   "execution_count": 4,
   "metadata": {},
   "outputs": [
    {
     "data": {
      "text/html": [
       "<div>\n",
       "<style scoped>\n",
       "    .dataframe tbody tr th:only-of-type {\n",
       "        vertical-align: middle;\n",
       "    }\n",
       "\n",
       "    .dataframe tbody tr th {\n",
       "        vertical-align: top;\n",
       "    }\n",
       "\n",
       "    .dataframe thead th {\n",
       "        text-align: right;\n",
       "    }\n",
       "</style>\n",
       "<table border=\"1\" class=\"dataframe\">\n",
       "  <thead>\n",
       "    <tr style=\"text-align: right;\">\n",
       "      <th></th>\n",
       "      <th>label</th>\n",
       "      <th>message</th>\n",
       "    </tr>\n",
       "  </thead>\n",
       "  <tbody>\n",
       "    <tr>\n",
       "      <th>1687</th>\n",
       "      <td>spam</td>\n",
       "      <td>todays vodafone numbers ending with 0089(my la...</td>\n",
       "    </tr>\n",
       "    <tr>\n",
       "      <th>2072</th>\n",
       "      <td>ham</td>\n",
       "      <td>Good night my dear.. Sleepwell&amp;amp;Take care</td>\n",
       "    </tr>\n",
       "    <tr>\n",
       "      <th>1027</th>\n",
       "      <td>ham</td>\n",
       "      <td>Yes da. Any plm at ur office</td>\n",
       "    </tr>\n",
       "    <tr>\n",
       "      <th>2466</th>\n",
       "      <td>ham</td>\n",
       "      <td>S.i think he is waste for rr..</td>\n",
       "    </tr>\n",
       "    <tr>\n",
       "      <th>3456</th>\n",
       "      <td>ham</td>\n",
       "      <td>No need lar. Jus testing e phone card. Dunno n...</td>\n",
       "    </tr>\n",
       "    <tr>\n",
       "      <th>...</th>\n",
       "      <td>...</td>\n",
       "      <td>...</td>\n",
       "    </tr>\n",
       "    <tr>\n",
       "      <th>2088</th>\n",
       "      <td>ham</td>\n",
       "      <td>alright babe, justthought id sayhey! how u do...</td>\n",
       "    </tr>\n",
       "    <tr>\n",
       "      <th>3421</th>\n",
       "      <td>spam</td>\n",
       "      <td>As a valued customer, I am pleased to advise y...</td>\n",
       "    </tr>\n",
       "    <tr>\n",
       "      <th>866</th>\n",
       "      <td>spam</td>\n",
       "      <td>Congratulations ur awarded either a yrs supply...</td>\n",
       "    </tr>\n",
       "    <tr>\n",
       "      <th>3764</th>\n",
       "      <td>ham</td>\n",
       "      <td>K.i will send in  &amp;lt;#&amp;gt;  min:)</td>\n",
       "    </tr>\n",
       "    <tr>\n",
       "      <th>4067</th>\n",
       "      <td>ham</td>\n",
       "      <td>Fyi I'm gonna call you sporadically starting a...</td>\n",
       "    </tr>\n",
       "  </tbody>\n",
       "</table>\n",
       "<p>4179 rows × 2 columns</p>\n",
       "</div>"
      ],
      "text/plain": [
       "     label                                            message\n",
       "1687  spam  todays vodafone numbers ending with 0089(my la...\n",
       "2072   ham       Good night my dear.. Sleepwell&amp;Take care\n",
       "1027   ham                       Yes da. Any plm at ur office\n",
       "2466   ham                     S.i think he is waste for rr..\n",
       "3456   ham  No need lar. Jus testing e phone card. Dunno n...\n",
       "...    ...                                                ...\n",
       "2088   ham  alright babe, justthought id sayhey! how u do...\n",
       "3421  spam  As a valued customer, I am pleased to advise y...\n",
       "866   spam  Congratulations ur awarded either a yrs supply...\n",
       "3764   ham                 K.i will send in  &lt;#&gt;  min:)\n",
       "4067   ham  Fyi I'm gonna call you sporadically starting a...\n",
       "\n",
       "[4179 rows x 2 columns]"
      ]
     },
     "execution_count": 4,
     "metadata": {},
     "output_type": "execute_result"
    }
   ],
   "source": [
    "message_train"
   ]
  },
  {
   "cell_type": "code",
   "execution_count": 5,
   "metadata": {},
   "outputs": [],
   "source": [
    "# Convert dataframe to list of tuples\n",
    "messages_train = message_train.to_records(index=False)\n",
    "messages_test=message_test.to_records(index=False)"
   ]
  },
  {
   "cell_type": "code",
   "execution_count": 6,
   "metadata": {},
   "outputs": [
    {
     "data": {
      "text/plain": [
       "rec.array([('spam', 'todays vodafone numbers ending with 0089(my last four digits) are selected to received a £350 award. If your number matches please call 09063442151 to claim your £350 award'),\n",
       "           ('ham', 'Good night my dear.. Sleepwell&amp;Take care'),\n",
       "           ('ham', 'Yes da. Any plm at ur office'), ...,\n",
       "           ('spam', 'Congratulations ur awarded either a yrs supply of CDs from Virgin Records or a Mystery Gift GUARANTEED Call 09061104283 Ts&Cs www.smsco.net £1.50pm approx 3mins'),\n",
       "           ('ham', 'K.i will send in  &lt;#&gt;  min:)'),\n",
       "           ('ham', \"Fyi I'm gonna call you sporadically starting at like  &lt;#&gt;  bc we are not not doin this shit\")],\n",
       "          dtype=[('label', 'O'), ('message', 'O')])"
      ]
     },
     "execution_count": 6,
     "metadata": {},
     "output_type": "execute_result"
    }
   ],
   "source": [
    "messages_train"
   ]
  },
  {
   "cell_type": "code",
   "execution_count": 7,
   "metadata": {},
   "outputs": [],
   "source": [
    "# Creating the pipeline\n",
    "# 1st function is creating the TFIDF\n",
    "# 2nd function is the naive bayes predictor\n",
    "import math\n",
    "from creme import compose\n",
    "from creme import feature_extraction\n",
    "from creme import naive_bayes\n",
    "import creme\n",
    "model = compose.Pipeline(\n",
    "    ('tokenize', feature_extraction.TFIDF(lowercase=False)),\n",
    "    ('nb', naive_bayes.MultinomialNB(alpha=1))\n",
    ")"
   ]
  },
  {
   "cell_type": "code",
   "execution_count": 8,
   "metadata": {},
   "outputs": [],
   "source": [
    "from creme import metrics\n",
    "metric=metrics.Accuracy()\n",
    "# Training the model row by row\n",
    "for label,sentence in messages_train:\n",
    "    model = model.fit_one(sentence, label)\n",
    "    y_pred = model.predict_one(sentence)\n",
    "    metric = metric.update(label, y_pred)\n",
    "   "
   ]
  },
  {
   "cell_type": "code",
   "execution_count": 9,
   "metadata": {},
   "outputs": [
    {
     "data": {
      "text/plain": [
       "Accuracy: 95.79%"
      ]
     },
     "execution_count": 9,
     "metadata": {},
     "output_type": "execute_result"
    }
   ],
   "source": [
    "### Training Data Accuracy\n",
    "metric"
   ]
  },
  {
   "cell_type": "code",
   "execution_count": 10,
   "metadata": {},
   "outputs": [],
   "source": [
    "### test Data Accuracy\n",
    "test_metric=metrics.Accuracy()\n",
    "for label,sentence in messages_test:\n",
    "    y_pred = model.predict_one(sentence)\n",
    "    test_metric = metric.update(label, y_pred)"
   ]
  },
  {
   "cell_type": "code",
   "execution_count": 11,
   "metadata": {},
   "outputs": [
    {
     "data": {
      "text/plain": [
       "Accuracy: 95.93%"
      ]
     },
     "execution_count": 11,
     "metadata": {},
     "output_type": "execute_result"
    }
   ],
   "source": [
    "### test Metric\n",
    "test_metric"
   ]
  },
  {
   "cell_type": "code",
   "execution_count": 12,
   "metadata": {},
   "outputs": [
    {
     "data": {
      "text/plain": [
       "Pipeline (\n",
       "  TFIDF (\n",
       "    normalize=True\n",
       "    on=None\n",
       "    strip_accents=True\n",
       "    lowercase=False\n",
       "    preprocessor=None\n",
       "    tokenizer=<built-in method findall of re.Pattern object at 0x0000021BA031D370>\n",
       "    ngram_range=(1, 1)\n",
       "  ),\n",
       "  MultinomialNB (\n",
       "    alpha=1\n",
       "  )\n",
       ")"
      ]
     },
     "execution_count": 12,
     "metadata": {},
     "output_type": "execute_result"
    }
   ],
   "source": [
    "model.fit_one(\"We will be meeting tomorrow at 12 pm\", \"ham\")\n",
    "model.fit_one(\"Hurry today is the last day for this best discount\", \"spam\")"
   ]
  },
  {
   "cell_type": "code",
   "execution_count": null,
   "metadata": {},
   "outputs": [],
   "source": []
  }
 ],
 "metadata": {
  "kernelspec": {
   "display_name": "Python 3",
   "language": "python",
   "name": "python3"
  },
  "language_info": {
   "codemirror_mode": {
    "name": "ipython",
    "version": 3
   },
   "file_extension": ".py",
   "mimetype": "text/x-python",
   "name": "python",
   "nbconvert_exporter": "python",
   "pygments_lexer": "ipython3",
   "version": "3.8.3"
  }
 },
 "nbformat": 4,
 "nbformat_minor": 4
}
