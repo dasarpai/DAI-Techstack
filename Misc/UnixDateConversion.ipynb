{
 "cells": [
  {
   "cell_type": "code",
   "execution_count": 24,
   "id": "14f58fde",
   "metadata": {},
   "outputs": [],
   "source": [
    "import pandas as pd\n",
    "pd.set_option('display.max_rows', 50)"
   ]
  },
  {
   "cell_type": "code",
   "execution_count": 2,
   "id": "5ae22e87",
   "metadata": {},
   "outputs": [],
   "source": [
    "df = pd.read_csv(r'D:\\18-DS\\data\\Datasets-Large\\Media\\VisitorLogsData.csv')"
   ]
  },
  {
   "cell_type": "code",
   "execution_count": null,
   "id": "fb60e92d",
   "metadata": {},
   "outputs": [],
   "source": [
    "# Index(['webClientID', 'VisitDateTime', 'ProductID', 'UserID', 'Activity','Browser', 'OS', 'City', 'Country'],"
   ]
  },
  {
   "cell_type": "code",
   "execution_count": null,
   "id": "d33a19b1",
   "metadata": {},
   "outputs": [],
   "source": [
    "#len(df.ProductID.unique()) = 17460\n",
    "#len(df.UserID.unique())  = 34051\n",
    "#len(df.Activity.unique()) =5\n",
    "#len(df.Browser.unique()) =82\n",
    "#len(df.OS.unique())  = 30\n",
    "#len(df.City.unique()) =26261\n",
    "#len(df.Country.unique()) =18915"
   ]
  },
  {
   "cell_type": "code",
   "execution_count": 3,
   "id": "7a9c8924",
   "metadata": {},
   "outputs": [],
   "source": [
    "def myfunc(x):\n",
    "    try:\n",
    "        if len(x.split('-'))>1:\n",
    "          #normal date\n",
    "          return x\n",
    "        else:\n",
    "          #unix date\n",
    "          return \"xx\" #pd.to_datetime(x,unit='ps')\n",
    "    except:\n",
    "        return \"Nul\" #pd.to_datetime(x,unit='ps')\n",
    "\n",
    "\n",
    "df['newVisitDateTime'] = df['VisitDateTime'].apply( lambda x: myfunc(x) )\n"
   ]
  },
  {
   "cell_type": "code",
   "execution_count": 4,
   "id": "3464f457",
   "metadata": {},
   "outputs": [
    {
     "data": {
      "text/plain": [
       "Int64Index([     25,      43,      86,     104,     128,     144,     151,\n",
       "                160,     162,     164,\n",
       "            ...\n",
       "            6587918, 6587919, 6587935, 6587949, 6587956, 6587960, 6587964,\n",
       "            6587969, 6587994, 6587997],\n",
       "           dtype='int64', length=658915)"
      ]
     },
     "execution_count": 4,
     "metadata": {},
     "output_type": "execute_result"
    }
   ],
   "source": [
    "nulldateIdx = df[ df['newVisitDateTime']=='Nul' ].index\n",
    "nulldateIdx"
   ]
  },
  {
   "cell_type": "code",
   "execution_count": null,
   "id": "95d7372a",
   "metadata": {},
   "outputs": [],
   "source": [
    "#Drop Null date rows\n",
    "#df.drop(nulldateIdx, axis=0, inplace=True)"
   ]
  },
  {
   "cell_type": "code",
   "execution_count": null,
   "id": "dea52606",
   "metadata": {},
   "outputs": [],
   "source": []
  },
  {
   "cell_type": "code",
   "execution_count": 5,
   "id": "b0d48a14",
   "metadata": {},
   "outputs": [],
   "source": [
    "unixdate = df[ df['newVisitDateTime']=='xx' ]"
   ]
  },
  {
   "cell_type": "code",
   "execution_count": 6,
   "id": "d974d34d",
   "metadata": {},
   "outputs": [
    {
     "data": {
      "text/plain": [
       "0"
      ]
     },
     "execution_count": 6,
     "metadata": {},
     "output_type": "execute_result"
    }
   ],
   "source": [
    "unixdate.VisitDateTime.str[::-1].str[:6].astype('int').sum()\n",
    "#Those column having unix date last 6 digits are 0"
   ]
  },
  {
   "cell_type": "code",
   "execution_count": 7,
   "id": "defdb97b",
   "metadata": {},
   "outputs": [
    {
     "data": {
      "text/plain": [
       "13         1527051855673000000\n",
       "14         1526366895249000000\n",
       "17         1526982800506000000\n",
       "21         1527058921790000000\n",
       "28         1527006131946000000\n",
       "                  ...         \n",
       "6587923    1526673488348000000\n",
       "6587927    1526107821499000000\n",
       "6587961    1525855937939000000\n",
       "6587963    1527163251803000000\n",
       "6587988    1526139196864000000\n",
       "Name: VisitDateTime, Length: 593191, dtype: object"
      ]
     },
     "execution_count": 7,
     "metadata": {},
     "output_type": "execute_result"
    }
   ],
   "source": [
    "unixdate.VisitDateTime"
   ]
  },
  {
   "cell_type": "code",
   "execution_count": 8,
   "id": "58bc89a5",
   "metadata": {},
   "outputs": [
    {
     "data": {
      "text/plain": [
       "13         1527051855673\n",
       "14         1526366895249\n",
       "17         1526982800506\n",
       "21         1527058921790\n",
       "28         1527006131946\n",
       "               ...      \n",
       "6587923    1526673488348\n",
       "6587927    1526107821499\n",
       "6587961    1525855937939\n",
       "6587963    1527163251803\n",
       "6587988    1526139196864\n",
       "Name: VisitDateTime, Length: 593191, dtype: object"
      ]
     },
     "execution_count": 8,
     "metadata": {},
     "output_type": "execute_result"
    }
   ],
   "source": [
    "unixdate.VisitDateTime.str[:-6:]"
   ]
  },
  {
   "cell_type": "code",
   "execution_count": 9,
   "id": "a2ee2a5f",
   "metadata": {},
   "outputs": [
    {
     "name": "stderr",
     "output_type": "stream",
     "text": [
      "<ipython-input-9-4bf738a092d3>:1: SettingWithCopyWarning: \n",
      "A value is trying to be set on a copy of a slice from a DataFrame.\n",
      "Try using .loc[row_indexer,col_indexer] = value instead\n",
      "\n",
      "See the caveats in the documentation: https://pandas.pydata.org/pandas-docs/stable/user_guide/indexing.html#returning-a-view-versus-a-copy\n",
      "  unixdate['newVisitDateTime'] = pd.to_datetime(unixdate.VisitDateTime.str[:-6:], unit=\"ms\")\n"
     ]
    }
   ],
   "source": [
    "unixdate['newVisitDateTime'] = pd.to_datetime(unixdate.VisitDateTime.str[:-6:], unit=\"ms\")"
   ]
  },
  {
   "cell_type": "code",
   "execution_count": 10,
   "id": "0723f25b",
   "metadata": {},
   "outputs": [],
   "source": [
    "unixdate_idx =unixdate['newVisitDateTime'].index"
   ]
  },
  {
   "cell_type": "code",
   "execution_count": 11,
   "id": "702ba828",
   "metadata": {},
   "outputs": [],
   "source": [
    "df['newVisitDateTime'].iloc[unixdate_idx] = list(unixdate['newVisitDateTime'])"
   ]
  },
  {
   "cell_type": "code",
   "execution_count": 27,
   "id": "ac6ed6d2",
   "metadata": {},
   "outputs": [
    {
     "data": {
      "text/html": [
       "<div>\n",
       "<style scoped>\n",
       "    .dataframe tbody tr th:only-of-type {\n",
       "        vertical-align: middle;\n",
       "    }\n",
       "\n",
       "    .dataframe tbody tr th {\n",
       "        vertical-align: top;\n",
       "    }\n",
       "\n",
       "    .dataframe thead th {\n",
       "        text-align: right;\n",
       "    }\n",
       "</style>\n",
       "<table border=\"1\" class=\"dataframe\">\n",
       "  <thead>\n",
       "    <tr style=\"text-align: right;\">\n",
       "      <th></th>\n",
       "      <th>VisitDateTime</th>\n",
       "      <th>newVisitDateTime</th>\n",
       "    </tr>\n",
       "  </thead>\n",
       "  <tbody>\n",
       "    <tr>\n",
       "      <th>200</th>\n",
       "      <td>2018-05-09 23:52:13.554</td>\n",
       "      <td>2018-05-09 23:52:13.554</td>\n",
       "    </tr>\n",
       "    <tr>\n",
       "      <th>201</th>\n",
       "      <td>2018-05-26 05:14:00.999</td>\n",
       "      <td>2018-05-26 05:14:00.999</td>\n",
       "    </tr>\n",
       "    <tr>\n",
       "      <th>202</th>\n",
       "      <td>2018-05-10 16:10:56.835</td>\n",
       "      <td>2018-05-10 16:10:56.835</td>\n",
       "    </tr>\n",
       "    <tr>\n",
       "      <th>203</th>\n",
       "      <td>1526730752659000000</td>\n",
       "      <td>2018-05-19 11:52:32.659000</td>\n",
       "    </tr>\n",
       "    <tr>\n",
       "      <th>204</th>\n",
       "      <td>2018-05-19 06:53:13.003</td>\n",
       "      <td>2018-05-19 06:53:13.003</td>\n",
       "    </tr>\n",
       "    <tr>\n",
       "      <th>...</th>\n",
       "      <td>...</td>\n",
       "      <td>...</td>\n",
       "    </tr>\n",
       "    <tr>\n",
       "      <th>6587995</th>\n",
       "      <td>2018-05-21 07:14:03.231</td>\n",
       "      <td>2018-05-21 07:14:03.231</td>\n",
       "    </tr>\n",
       "    <tr>\n",
       "      <th>6587996</th>\n",
       "      <td>2018-05-25 09:13:04.011</td>\n",
       "      <td>2018-05-25 09:13:04.011</td>\n",
       "    </tr>\n",
       "    <tr>\n",
       "      <th>6587997</th>\n",
       "      <td>NaN</td>\n",
       "      <td>Nul</td>\n",
       "    </tr>\n",
       "    <tr>\n",
       "      <th>6587998</th>\n",
       "      <td>2018-05-20 12:09:35.347</td>\n",
       "      <td>2018-05-20 12:09:35.347</td>\n",
       "    </tr>\n",
       "    <tr>\n",
       "      <th>6587999</th>\n",
       "      <td>2018-05-17 03:30:22.330</td>\n",
       "      <td>2018-05-17 03:30:22.330</td>\n",
       "    </tr>\n",
       "  </tbody>\n",
       "</table>\n",
       "<p>6587800 rows × 2 columns</p>\n",
       "</div>"
      ],
      "text/plain": [
       "                   VisitDateTime            newVisitDateTime\n",
       "200      2018-05-09 23:52:13.554     2018-05-09 23:52:13.554\n",
       "201      2018-05-26 05:14:00.999     2018-05-26 05:14:00.999\n",
       "202      2018-05-10 16:10:56.835     2018-05-10 16:10:56.835\n",
       "203          1526730752659000000  2018-05-19 11:52:32.659000\n",
       "204      2018-05-19 06:53:13.003     2018-05-19 06:53:13.003\n",
       "...                          ...                         ...\n",
       "6587995  2018-05-21 07:14:03.231     2018-05-21 07:14:03.231\n",
       "6587996  2018-05-25 09:13:04.011     2018-05-25 09:13:04.011\n",
       "6587997                      NaN                         Nul\n",
       "6587998  2018-05-20 12:09:35.347     2018-05-20 12:09:35.347\n",
       "6587999  2018-05-17 03:30:22.330     2018-05-17 03:30:22.330\n",
       "\n",
       "[6587800 rows x 2 columns]"
      ]
     },
     "execution_count": 27,
     "metadata": {},
     "output_type": "execute_result"
    }
   ],
   "source": [
    "df[['VisitDateTime','newVisitDateTime']][200:]"
   ]
  },
  {
   "cell_type": "code",
   "execution_count": 14,
   "id": "8dee4cc6",
   "metadata": {},
   "outputs": [],
   "source": [
    "df[['VisitDateTime','newVisitDateTime']].to_csv(\"dates.csv\")"
   ]
  },
  {
   "cell_type": "code",
   "execution_count": null,
   "id": "539b726d",
   "metadata": {},
   "outputs": [],
   "source": []
  }
 ],
 "metadata": {
  "kernelspec": {
   "display_name": "Python 3",
   "language": "python",
   "name": "python3"
  },
  "language_info": {
   "codemirror_mode": {
    "name": "ipython",
    "version": 3
   },
   "file_extension": ".py",
   "mimetype": "text/x-python",
   "name": "python",
   "nbconvert_exporter": "python",
   "pygments_lexer": "ipython3",
   "version": "3.8.8"
  }
 },
 "nbformat": 4,
 "nbformat_minor": 5
}
